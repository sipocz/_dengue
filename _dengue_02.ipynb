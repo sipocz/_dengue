{
  "nbformat": 4,
  "nbformat_minor": 0,
  "metadata": {
    "colab": {
      "name": "_dengue_02.ipynb",
      "provenance": [],
      "authorship_tag": "ABX9TyM2jmJDm4yhwT3ELFioQ4Qs",
      "include_colab_link": true
    },
    "kernelspec": {
      "display_name": "Python 3",
      "name": "python3"
    },
    "accelerator": "GPU"
  },
  "cells": [
    {
      "cell_type": "markdown",
      "metadata": {
        "id": "view-in-github",
        "colab_type": "text"
      },
      "source": [
        "<a href=\"https://colab.research.google.com/github/sipocz/_dengue/blob/main/_dengue_02.ipynb\" target=\"_parent\"><img src=\"https://colab.research.google.com/assets/colab-badge.svg\" alt=\"Open In Colab\"/></a>"
      ]
    },
    {
      "cell_type": "code",
      "metadata": {
        "colab": {
          "base_uri": "https://localhost:8080/"
        },
        "id": "8nXsDwdKVfQe",
        "outputId": "91fe0dca-49d9-41c4-905e-b3366249135f"
      },
      "source": [
        "\n",
        "#_Dengue\n",
        "_project=\"_dengue\"\n",
        "_PCVERSION_=False\n",
        "_GITHUBVERSION_=True\n",
        "_GOOGLEVERSION_=False\n",
        "if _PCVERSION_:\n",
        "    basedir=\"C:/Users/sipocz/OneDrive/Dokumentumok/GitHub\"\n",
        "\n",
        "if _GOOGLEVERSION_:\n",
        "    from google.colab import drive\n",
        "    drive.mount('/content/drive',force_remount=True)\n",
        "    basedir=\"/content/drive/My Drive/001_AI\"\n",
        "\n",
        "if _GITHUBVERSION_:\n",
        "    !mkdir _dengue\n",
        "    files=[\"dengue_features_train.csv\",\"dengue_labels_train.csv\",\"dengue_features_test.csv\"]\n",
        "    path=\"https://raw.githubusercontent.com/sipocz/_dengue/main/\"\n",
        "    basedir=\"./\"\n",
        "    storeto=basedir+_project\n",
        "    for f in files:\n",
        "        fname=path+f\n",
        "        !rm $f\n",
        "        !wget $fname\n",
        "        !mv $f $storeto\n",
        "\n"
      ],
      "execution_count": 2,
      "outputs": [
        {
          "output_type": "stream",
          "text": [
            "mkdir: cannot create directory ‘_dengue’: File exists\n",
            "rm: cannot remove 'dengue_features_train.csv': No such file or directory\n",
            "--2021-08-02 19:36:28--  https://raw.githubusercontent.com/sipocz/_dengue/main/dengue_features_train.csv\n",
            "Resolving raw.githubusercontent.com (raw.githubusercontent.com)... 185.199.108.133, 185.199.109.133, 185.199.110.133, ...\n",
            "Connecting to raw.githubusercontent.com (raw.githubusercontent.com)|185.199.108.133|:443... connected.\n",
            "HTTP request sent, awaiting response... 200 OK\n",
            "Length: 287139 (280K) [text/plain]\n",
            "Saving to: ‘dengue_features_train.csv’\n",
            "\n",
            "dengue_features_tra 100%[===================>] 280.41K  --.-KB/s    in 0.02s   \n",
            "\n",
            "2021-08-02 19:36:28 (12.7 MB/s) - ‘dengue_features_train.csv’ saved [287139/287139]\n",
            "\n",
            "rm: cannot remove 'dengue_labels_train.csv': No such file or directory\n",
            "--2021-08-02 19:36:28--  https://raw.githubusercontent.com/sipocz/_dengue/main/dengue_labels_train.csv\n",
            "Resolving raw.githubusercontent.com (raw.githubusercontent.com)... 185.199.108.133, 185.199.109.133, 185.199.110.133, ...\n",
            "Connecting to raw.githubusercontent.com (raw.githubusercontent.com)|185.199.108.133|:443... connected.\n",
            "HTTP request sent, awaiting response... 200 OK\n",
            "Length: 19582 (19K) [text/plain]\n",
            "Saving to: ‘dengue_labels_train.csv’\n",
            "\n",
            "dengue_labels_train 100%[===================>]  19.12K  --.-KB/s    in 0s      \n",
            "\n",
            "2021-08-02 19:36:28 (78.1 MB/s) - ‘dengue_labels_train.csv’ saved [19582/19582]\n",
            "\n",
            "rm: cannot remove 'dengue_features_test.csv': No such file or directory\n",
            "--2021-08-02 19:36:29--  https://raw.githubusercontent.com/sipocz/_dengue/main/dengue_features_test.csv\n",
            "Resolving raw.githubusercontent.com (raw.githubusercontent.com)... 185.199.111.133, 185.199.108.133, 185.199.110.133, ...\n",
            "Connecting to raw.githubusercontent.com (raw.githubusercontent.com)|185.199.111.133|:443... connected.\n",
            "HTTP request sent, awaiting response... 200 OK\n",
            "Length: 82465 (81K) [text/plain]\n",
            "Saving to: ‘dengue_features_test.csv’\n",
            "\n",
            "dengue_features_tes 100%[===================>]  80.53K  --.-KB/s    in 0.008s  \n",
            "\n",
            "2021-08-02 19:36:29 (10.1 MB/s) - ‘dengue_features_test.csv’ saved [82465/82465]\n",
            "\n"
          ],
          "name": "stdout"
        }
      ]
    },
    {
      "cell_type": "code",
      "metadata": {
        "id": "3hFMCKNpNts-"
      },
      "source": [
        "\n",
        "import numpy as np\n",
        "import pandas as pd\n",
        "import matplotlib.pyplot as plt\n",
        "\n",
        "\n",
        "#--------------scikit import \n",
        "from sklearn.ensemble import IsolationForest\n",
        "from sklearn.metrics import accuracy_score\n",
        "from sklearn.preprocessing import MinMaxScaler\n",
        "from sklearn.model_selection import train_test_split\n",
        "\n",
        "#--------------\n",
        "def outlierStatistic(X_train_predict):\n",
        "    print(X_train_predict)\n",
        "    maxX=len(X_train_predict)\n",
        "    outlier=0\n",
        "    for i in X_train_predict:\n",
        "        if i==-1:\n",
        "            outlier+=1\n",
        "    print(f\"A összes ({maxX} darabból {outlier} darab outlier van. Az {outlier/maxX*100:5.1f} %.)\")\n",
        "\n",
        "features_train=basedir+_project+\"/\"+\"dengue_features_train.csv\"\n",
        "labels_train=basedir+_project+\"/\"+\"dengue_labels_train.csv\"\n",
        "features_test=basedir+_project+\"/\"+\"dengue_features_test.csv\"\n",
        "\n",
        "\n",
        "X_train=pd.read_csv(features_train)\n",
        "y_train=pd.read_csv(labels_train)\n",
        "X_test=pd.read_csv(features_test)\n",
        "\n",
        "\n",
        "\n",
        "\n",
        "\n",
        "\n"
      ],
      "execution_count": 3,
      "outputs": []
    },
    {
      "cell_type": "code",
      "metadata": {
        "colab": {
          "base_uri": "https://localhost:8080/"
        },
        "id": "7PKZXx8u_1DZ",
        "outputId": "9894cc3b-7775-4be6-e1c2-d7f74a10c403"
      },
      "source": [
        "X_test.isnull().sum()"
      ],
      "execution_count": 4,
      "outputs": [
        {
          "output_type": "execute_result",
          "data": {
            "text/plain": [
              "city                                      0\n",
              "year                                      0\n",
              "weekofyear                                0\n",
              "week_start_date                           0\n",
              "ndvi_ne                                  43\n",
              "ndvi_nw                                  11\n",
              "ndvi_se                                   1\n",
              "ndvi_sw                                   1\n",
              "precipitation_amt_mm                      2\n",
              "reanalysis_air_temp_k                     2\n",
              "reanalysis_avg_temp_k                     2\n",
              "reanalysis_dew_point_temp_k               2\n",
              "reanalysis_max_air_temp_k                 2\n",
              "reanalysis_min_air_temp_k                 2\n",
              "reanalysis_precip_amt_kg_per_m2           2\n",
              "reanalysis_relative_humidity_percent      2\n",
              "reanalysis_sat_precip_amt_mm              2\n",
              "reanalysis_specific_humidity_g_per_kg     2\n",
              "reanalysis_tdtr_k                         2\n",
              "station_avg_temp_c                       12\n",
              "station_diur_temp_rng_c                  12\n",
              "station_max_temp_c                        3\n",
              "station_min_temp_c                        9\n",
              "station_precip_mm                         5\n",
              "dtype: int64"
            ]
          },
          "metadata": {
            "tags": []
          },
          "execution_count": 4
        }
      ]
    },
    {
      "cell_type": "code",
      "metadata": {
        "colab": {
          "base_uri": "https://localhost:8080/"
        },
        "id": "ARBG6b9nBGJX",
        "outputId": "9a2e50d8-2f10-4424-98e7-49d5aa3b2fce"
      },
      "source": [
        "len(list(X_test[X_test.isnull().T.any().T]))"
      ],
      "execution_count": 5,
      "outputs": [
        {
          "output_type": "execute_result",
          "data": {
            "text/plain": [
              "24"
            ]
          },
          "metadata": {
            "tags": []
          },
          "execution_count": 5
        }
      ]
    },
    {
      "cell_type": "code",
      "metadata": {
        "colab": {
          "base_uri": "https://localhost:8080/",
          "height": 437
        },
        "id": "7rEDDKO6HLny",
        "outputId": "64515e1e-f040-4994-aaca-c86e9b6de859"
      },
      "source": [
        "X_test[X_test.isnull().T.any().T].head(124)"
      ],
      "execution_count": 6,
      "outputs": [
        {
          "output_type": "execute_result",
          "data": {
            "text/html": [
              "<div>\n",
              "<style scoped>\n",
              "    .dataframe tbody tr th:only-of-type {\n",
              "        vertical-align: middle;\n",
              "    }\n",
              "\n",
              "    .dataframe tbody tr th {\n",
              "        vertical-align: top;\n",
              "    }\n",
              "\n",
              "    .dataframe thead th {\n",
              "        text-align: right;\n",
              "    }\n",
              "</style>\n",
              "<table border=\"1\" class=\"dataframe\">\n",
              "  <thead>\n",
              "    <tr style=\"text-align: right;\">\n",
              "      <th></th>\n",
              "      <th>city</th>\n",
              "      <th>year</th>\n",
              "      <th>weekofyear</th>\n",
              "      <th>week_start_date</th>\n",
              "      <th>ndvi_ne</th>\n",
              "      <th>ndvi_nw</th>\n",
              "      <th>ndvi_se</th>\n",
              "      <th>ndvi_sw</th>\n",
              "      <th>precipitation_amt_mm</th>\n",
              "      <th>reanalysis_air_temp_k</th>\n",
              "      <th>reanalysis_avg_temp_k</th>\n",
              "      <th>reanalysis_dew_point_temp_k</th>\n",
              "      <th>reanalysis_max_air_temp_k</th>\n",
              "      <th>reanalysis_min_air_temp_k</th>\n",
              "      <th>reanalysis_precip_amt_kg_per_m2</th>\n",
              "      <th>reanalysis_relative_humidity_percent</th>\n",
              "      <th>reanalysis_sat_precip_amt_mm</th>\n",
              "      <th>reanalysis_specific_humidity_g_per_kg</th>\n",
              "      <th>reanalysis_tdtr_k</th>\n",
              "      <th>station_avg_temp_c</th>\n",
              "      <th>station_diur_temp_rng_c</th>\n",
              "      <th>station_max_temp_c</th>\n",
              "      <th>station_min_temp_c</th>\n",
              "      <th>station_precip_mm</th>\n",
              "    </tr>\n",
              "  </thead>\n",
              "  <tbody>\n",
              "    <tr>\n",
              "      <th>2</th>\n",
              "      <td>sj</td>\n",
              "      <td>2008</td>\n",
              "      <td>20</td>\n",
              "      <td>2008-05-13</td>\n",
              "      <td>-0.001500</td>\n",
              "      <td>NaN</td>\n",
              "      <td>0.151083</td>\n",
              "      <td>0.091529</td>\n",
              "      <td>3.66</td>\n",
              "      <td>299.455714</td>\n",
              "      <td>299.357143</td>\n",
              "      <td>295.308571</td>\n",
              "      <td>302.2</td>\n",
              "      <td>296.4</td>\n",
              "      <td>4.12</td>\n",
              "      <td>78.270000</td>\n",
              "      <td>3.66</td>\n",
              "      <td>16.674286</td>\n",
              "      <td>4.428571</td>\n",
              "      <td>27.928571</td>\n",
              "      <td>7.785714</td>\n",
              "      <td>32.8</td>\n",
              "      <td>22.8</td>\n",
              "      <td>3.0</td>\n",
              "    </tr>\n",
              "    <tr>\n",
              "      <th>3</th>\n",
              "      <td>sj</td>\n",
              "      <td>2008</td>\n",
              "      <td>21</td>\n",
              "      <td>2008-05-20</td>\n",
              "      <td>NaN</td>\n",
              "      <td>-0.019867</td>\n",
              "      <td>0.124329</td>\n",
              "      <td>0.125686</td>\n",
              "      <td>0.00</td>\n",
              "      <td>299.690000</td>\n",
              "      <td>299.728571</td>\n",
              "      <td>294.402857</td>\n",
              "      <td>303.0</td>\n",
              "      <td>296.9</td>\n",
              "      <td>2.20</td>\n",
              "      <td>73.015714</td>\n",
              "      <td>0.00</td>\n",
              "      <td>15.775714</td>\n",
              "      <td>4.342857</td>\n",
              "      <td>28.057143</td>\n",
              "      <td>6.271429</td>\n",
              "      <td>33.3</td>\n",
              "      <td>24.4</td>\n",
              "      <td>0.3</td>\n",
              "    </tr>\n",
              "    <tr>\n",
              "      <th>7</th>\n",
              "      <td>sj</td>\n",
              "      <td>2008</td>\n",
              "      <td>25</td>\n",
              "      <td>2008-06-17</td>\n",
              "      <td>NaN</td>\n",
              "      <td>0.082150</td>\n",
              "      <td>0.144371</td>\n",
              "      <td>0.116729</td>\n",
              "      <td>30.81</td>\n",
              "      <td>300.484286</td>\n",
              "      <td>300.578571</td>\n",
              "      <td>295.997143</td>\n",
              "      <td>303.5</td>\n",
              "      <td>297.5</td>\n",
              "      <td>7.20</td>\n",
              "      <td>76.870000</td>\n",
              "      <td>30.81</td>\n",
              "      <td>17.420000</td>\n",
              "      <td>3.900000</td>\n",
              "      <td>28.757143</td>\n",
              "      <td>6.985714</td>\n",
              "      <td>34.4</td>\n",
              "      <td>24.4</td>\n",
              "      <td>0.3</td>\n",
              "    </tr>\n",
              "    <tr>\n",
              "      <th>11</th>\n",
              "      <td>sj</td>\n",
              "      <td>2008</td>\n",
              "      <td>29</td>\n",
              "      <td>2008-07-15</td>\n",
              "      <td>NaN</td>\n",
              "      <td>NaN</td>\n",
              "      <td>0.195843</td>\n",
              "      <td>0.176157</td>\n",
              "      <td>4.34</td>\n",
              "      <td>300.448571</td>\n",
              "      <td>300.607143</td>\n",
              "      <td>296.177143</td>\n",
              "      <td>302.3</td>\n",
              "      <td>298.7</td>\n",
              "      <td>5.49</td>\n",
              "      <td>77.615714</td>\n",
              "      <td>4.34</td>\n",
              "      <td>17.571429</td>\n",
              "      <td>2.614286</td>\n",
              "      <td>28.785714</td>\n",
              "      <td>5.014286</td>\n",
              "      <td>31.7</td>\n",
              "      <td>26.1</td>\n",
              "      <td>0.0</td>\n",
              "    </tr>\n",
              "    <tr>\n",
              "      <th>15</th>\n",
              "      <td>sj</td>\n",
              "      <td>2008</td>\n",
              "      <td>33</td>\n",
              "      <td>2008-08-12</td>\n",
              "      <td>NaN</td>\n",
              "      <td>NaN</td>\n",
              "      <td>0.058900</td>\n",
              "      <td>0.065643</td>\n",
              "      <td>4.28</td>\n",
              "      <td>301.150000</td>\n",
              "      <td>301.285714</td>\n",
              "      <td>296.912857</td>\n",
              "      <td>303.3</td>\n",
              "      <td>299.0</td>\n",
              "      <td>7.82</td>\n",
              "      <td>77.968571</td>\n",
              "      <td>4.28</td>\n",
              "      <td>18.418571</td>\n",
              "      <td>2.742857</td>\n",
              "      <td>29.214286</td>\n",
              "      <td>6.342857</td>\n",
              "      <td>33.9</td>\n",
              "      <td>25.0</td>\n",
              "      <td>1.8</td>\n",
              "    </tr>\n",
              "    <tr>\n",
              "      <th>...</th>\n",
              "      <td>...</td>\n",
              "      <td>...</td>\n",
              "      <td>...</td>\n",
              "      <td>...</td>\n",
              "      <td>...</td>\n",
              "      <td>...</td>\n",
              "      <td>...</td>\n",
              "      <td>...</td>\n",
              "      <td>...</td>\n",
              "      <td>...</td>\n",
              "      <td>...</td>\n",
              "      <td>...</td>\n",
              "      <td>...</td>\n",
              "      <td>...</td>\n",
              "      <td>...</td>\n",
              "      <td>...</td>\n",
              "      <td>...</td>\n",
              "      <td>...</td>\n",
              "      <td>...</td>\n",
              "      <td>...</td>\n",
              "      <td>...</td>\n",
              "      <td>...</td>\n",
              "      <td>...</td>\n",
              "      <td>...</td>\n",
              "    </tr>\n",
              "    <tr>\n",
              "      <th>314</th>\n",
              "      <td>iq</td>\n",
              "      <td>2011</td>\n",
              "      <td>28</td>\n",
              "      <td>2011-07-16</td>\n",
              "      <td>0.330200</td>\n",
              "      <td>0.334843</td>\n",
              "      <td>0.324957</td>\n",
              "      <td>0.319843</td>\n",
              "      <td>19.52</td>\n",
              "      <td>295.554286</td>\n",
              "      <td>296.464286</td>\n",
              "      <td>293.251429</td>\n",
              "      <td>305.5</td>\n",
              "      <td>290.6</td>\n",
              "      <td>25.70</td>\n",
              "      <td>88.778571</td>\n",
              "      <td>19.52</td>\n",
              "      <td>14.787143</td>\n",
              "      <td>9.271429</td>\n",
              "      <td>NaN</td>\n",
              "      <td>NaN</td>\n",
              "      <td>31.8</td>\n",
              "      <td>19.5</td>\n",
              "      <td>21.1</td>\n",
              "    </tr>\n",
              "    <tr>\n",
              "      <th>318</th>\n",
              "      <td>iq</td>\n",
              "      <td>2011</td>\n",
              "      <td>32</td>\n",
              "      <td>2011-08-13</td>\n",
              "      <td>0.322914</td>\n",
              "      <td>0.334943</td>\n",
              "      <td>0.293471</td>\n",
              "      <td>0.335500</td>\n",
              "      <td>7.30</td>\n",
              "      <td>297.454286</td>\n",
              "      <td>299.050000</td>\n",
              "      <td>294.522857</td>\n",
              "      <td>307.9</td>\n",
              "      <td>290.9</td>\n",
              "      <td>79.90</td>\n",
              "      <td>86.355714</td>\n",
              "      <td>7.30</td>\n",
              "      <td>16.032857</td>\n",
              "      <td>11.642857</td>\n",
              "      <td>27.020000</td>\n",
              "      <td>11.560000</td>\n",
              "      <td>34.2</td>\n",
              "      <td>20.4</td>\n",
              "      <td>NaN</td>\n",
              "    </tr>\n",
              "    <tr>\n",
              "      <th>339</th>\n",
              "      <td>iq</td>\n",
              "      <td>2012</td>\n",
              "      <td>1</td>\n",
              "      <td>2012-01-08</td>\n",
              "      <td>0.220886</td>\n",
              "      <td>0.235729</td>\n",
              "      <td>0.260271</td>\n",
              "      <td>0.321814</td>\n",
              "      <td>55.26</td>\n",
              "      <td>296.638571</td>\n",
              "      <td>297.200000</td>\n",
              "      <td>296.134286</td>\n",
              "      <td>303.1</td>\n",
              "      <td>293.8</td>\n",
              "      <td>140.80</td>\n",
              "      <td>97.435714</td>\n",
              "      <td>55.26</td>\n",
              "      <td>17.765714</td>\n",
              "      <td>5.800000</td>\n",
              "      <td>NaN</td>\n",
              "      <td>NaN</td>\n",
              "      <td>32.8</td>\n",
              "      <td>22.6</td>\n",
              "      <td>35.3</td>\n",
              "    </tr>\n",
              "    <tr>\n",
              "      <th>370</th>\n",
              "      <td>iq</td>\n",
              "      <td>2012</td>\n",
              "      <td>32</td>\n",
              "      <td>2012-08-12</td>\n",
              "      <td>0.289500</td>\n",
              "      <td>0.300171</td>\n",
              "      <td>0.239743</td>\n",
              "      <td>0.308771</td>\n",
              "      <td>16.38</td>\n",
              "      <td>297.657143</td>\n",
              "      <td>298.828571</td>\n",
              "      <td>292.920000</td>\n",
              "      <td>307.9</td>\n",
              "      <td>289.3</td>\n",
              "      <td>8.90</td>\n",
              "      <td>77.642857</td>\n",
              "      <td>16.38</td>\n",
              "      <td>14.560000</td>\n",
              "      <td>13.114286</td>\n",
              "      <td>27.000000</td>\n",
              "      <td>13.400000</td>\n",
              "      <td>34.2</td>\n",
              "      <td>18.3</td>\n",
              "      <td>NaN</td>\n",
              "    </tr>\n",
              "    <tr>\n",
              "      <th>374</th>\n",
              "      <td>iq</td>\n",
              "      <td>2012</td>\n",
              "      <td>36</td>\n",
              "      <td>2012-09-09</td>\n",
              "      <td>0.411400</td>\n",
              "      <td>0.328529</td>\n",
              "      <td>0.267329</td>\n",
              "      <td>0.366114</td>\n",
              "      <td>6.40</td>\n",
              "      <td>297.892857</td>\n",
              "      <td>298.950000</td>\n",
              "      <td>293.768571</td>\n",
              "      <td>308.5</td>\n",
              "      <td>291.9</td>\n",
              "      <td>12.90</td>\n",
              "      <td>80.228571</td>\n",
              "      <td>6.40</td>\n",
              "      <td>15.292857</td>\n",
              "      <td>11.014286</td>\n",
              "      <td>NaN</td>\n",
              "      <td>NaN</td>\n",
              "      <td>NaN</td>\n",
              "      <td>20.1</td>\n",
              "      <td>6.1</td>\n",
              "    </tr>\n",
              "  </tbody>\n",
              "</table>\n",
              "<p>63 rows × 24 columns</p>\n",
              "</div>"
            ],
            "text/plain": [
              "    city  year  ...  station_min_temp_c station_precip_mm\n",
              "2     sj  2008  ...                22.8               3.0\n",
              "3     sj  2008  ...                24.4               0.3\n",
              "7     sj  2008  ...                24.4               0.3\n",
              "11    sj  2008  ...                26.1               0.0\n",
              "15    sj  2008  ...                25.0               1.8\n",
              "..   ...   ...  ...                 ...               ...\n",
              "314   iq  2011  ...                19.5              21.1\n",
              "318   iq  2011  ...                20.4               NaN\n",
              "339   iq  2012  ...                22.6              35.3\n",
              "370   iq  2012  ...                18.3               NaN\n",
              "374   iq  2012  ...                20.1               6.1\n",
              "\n",
              "[63 rows x 24 columns]"
            ]
          },
          "metadata": {
            "tags": []
          },
          "execution_count": 6
        }
      ]
    },
    {
      "cell_type": "code",
      "metadata": {
        "colab": {
          "base_uri": "https://localhost:8080/",
          "height": 437
        },
        "id": "kM81wyUTSX0A",
        "outputId": "6b13b108-9443-4657-ea96-d7a6531f31c6"
      },
      "source": [
        "X_train"
      ],
      "execution_count": 7,
      "outputs": [
        {
          "output_type": "execute_result",
          "data": {
            "text/html": [
              "<div>\n",
              "<style scoped>\n",
              "    .dataframe tbody tr th:only-of-type {\n",
              "        vertical-align: middle;\n",
              "    }\n",
              "\n",
              "    .dataframe tbody tr th {\n",
              "        vertical-align: top;\n",
              "    }\n",
              "\n",
              "    .dataframe thead th {\n",
              "        text-align: right;\n",
              "    }\n",
              "</style>\n",
              "<table border=\"1\" class=\"dataframe\">\n",
              "  <thead>\n",
              "    <tr style=\"text-align: right;\">\n",
              "      <th></th>\n",
              "      <th>city</th>\n",
              "      <th>year</th>\n",
              "      <th>weekofyear</th>\n",
              "      <th>week_start_date</th>\n",
              "      <th>ndvi_ne</th>\n",
              "      <th>ndvi_nw</th>\n",
              "      <th>ndvi_se</th>\n",
              "      <th>ndvi_sw</th>\n",
              "      <th>precipitation_amt_mm</th>\n",
              "      <th>reanalysis_air_temp_k</th>\n",
              "      <th>reanalysis_avg_temp_k</th>\n",
              "      <th>reanalysis_dew_point_temp_k</th>\n",
              "      <th>reanalysis_max_air_temp_k</th>\n",
              "      <th>reanalysis_min_air_temp_k</th>\n",
              "      <th>reanalysis_precip_amt_kg_per_m2</th>\n",
              "      <th>reanalysis_relative_humidity_percent</th>\n",
              "      <th>reanalysis_sat_precip_amt_mm</th>\n",
              "      <th>reanalysis_specific_humidity_g_per_kg</th>\n",
              "      <th>reanalysis_tdtr_k</th>\n",
              "      <th>station_avg_temp_c</th>\n",
              "      <th>station_diur_temp_rng_c</th>\n",
              "      <th>station_max_temp_c</th>\n",
              "      <th>station_min_temp_c</th>\n",
              "      <th>station_precip_mm</th>\n",
              "    </tr>\n",
              "  </thead>\n",
              "  <tbody>\n",
              "    <tr>\n",
              "      <th>0</th>\n",
              "      <td>sj</td>\n",
              "      <td>1990</td>\n",
              "      <td>18</td>\n",
              "      <td>1990-04-30</td>\n",
              "      <td>0.122600</td>\n",
              "      <td>0.103725</td>\n",
              "      <td>0.198483</td>\n",
              "      <td>0.177617</td>\n",
              "      <td>12.42</td>\n",
              "      <td>297.572857</td>\n",
              "      <td>297.742857</td>\n",
              "      <td>292.414286</td>\n",
              "      <td>299.8</td>\n",
              "      <td>295.9</td>\n",
              "      <td>32.00</td>\n",
              "      <td>73.365714</td>\n",
              "      <td>12.42</td>\n",
              "      <td>14.012857</td>\n",
              "      <td>2.628571</td>\n",
              "      <td>25.442857</td>\n",
              "      <td>6.900000</td>\n",
              "      <td>29.4</td>\n",
              "      <td>20.0</td>\n",
              "      <td>16.0</td>\n",
              "    </tr>\n",
              "    <tr>\n",
              "      <th>1</th>\n",
              "      <td>sj</td>\n",
              "      <td>1990</td>\n",
              "      <td>19</td>\n",
              "      <td>1990-05-07</td>\n",
              "      <td>0.169900</td>\n",
              "      <td>0.142175</td>\n",
              "      <td>0.162357</td>\n",
              "      <td>0.155486</td>\n",
              "      <td>22.82</td>\n",
              "      <td>298.211429</td>\n",
              "      <td>298.442857</td>\n",
              "      <td>293.951429</td>\n",
              "      <td>300.9</td>\n",
              "      <td>296.4</td>\n",
              "      <td>17.94</td>\n",
              "      <td>77.368571</td>\n",
              "      <td>22.82</td>\n",
              "      <td>15.372857</td>\n",
              "      <td>2.371429</td>\n",
              "      <td>26.714286</td>\n",
              "      <td>6.371429</td>\n",
              "      <td>31.7</td>\n",
              "      <td>22.2</td>\n",
              "      <td>8.6</td>\n",
              "    </tr>\n",
              "    <tr>\n",
              "      <th>2</th>\n",
              "      <td>sj</td>\n",
              "      <td>1990</td>\n",
              "      <td>20</td>\n",
              "      <td>1990-05-14</td>\n",
              "      <td>0.032250</td>\n",
              "      <td>0.172967</td>\n",
              "      <td>0.157200</td>\n",
              "      <td>0.170843</td>\n",
              "      <td>34.54</td>\n",
              "      <td>298.781429</td>\n",
              "      <td>298.878571</td>\n",
              "      <td>295.434286</td>\n",
              "      <td>300.5</td>\n",
              "      <td>297.3</td>\n",
              "      <td>26.10</td>\n",
              "      <td>82.052857</td>\n",
              "      <td>34.54</td>\n",
              "      <td>16.848571</td>\n",
              "      <td>2.300000</td>\n",
              "      <td>26.714286</td>\n",
              "      <td>6.485714</td>\n",
              "      <td>32.2</td>\n",
              "      <td>22.8</td>\n",
              "      <td>41.4</td>\n",
              "    </tr>\n",
              "    <tr>\n",
              "      <th>3</th>\n",
              "      <td>sj</td>\n",
              "      <td>1990</td>\n",
              "      <td>21</td>\n",
              "      <td>1990-05-21</td>\n",
              "      <td>0.128633</td>\n",
              "      <td>0.245067</td>\n",
              "      <td>0.227557</td>\n",
              "      <td>0.235886</td>\n",
              "      <td>15.36</td>\n",
              "      <td>298.987143</td>\n",
              "      <td>299.228571</td>\n",
              "      <td>295.310000</td>\n",
              "      <td>301.4</td>\n",
              "      <td>297.0</td>\n",
              "      <td>13.90</td>\n",
              "      <td>80.337143</td>\n",
              "      <td>15.36</td>\n",
              "      <td>16.672857</td>\n",
              "      <td>2.428571</td>\n",
              "      <td>27.471429</td>\n",
              "      <td>6.771429</td>\n",
              "      <td>33.3</td>\n",
              "      <td>23.3</td>\n",
              "      <td>4.0</td>\n",
              "    </tr>\n",
              "    <tr>\n",
              "      <th>4</th>\n",
              "      <td>sj</td>\n",
              "      <td>1990</td>\n",
              "      <td>22</td>\n",
              "      <td>1990-05-28</td>\n",
              "      <td>0.196200</td>\n",
              "      <td>0.262200</td>\n",
              "      <td>0.251200</td>\n",
              "      <td>0.247340</td>\n",
              "      <td>7.52</td>\n",
              "      <td>299.518571</td>\n",
              "      <td>299.664286</td>\n",
              "      <td>295.821429</td>\n",
              "      <td>301.9</td>\n",
              "      <td>297.5</td>\n",
              "      <td>12.20</td>\n",
              "      <td>80.460000</td>\n",
              "      <td>7.52</td>\n",
              "      <td>17.210000</td>\n",
              "      <td>3.014286</td>\n",
              "      <td>28.942857</td>\n",
              "      <td>9.371429</td>\n",
              "      <td>35.0</td>\n",
              "      <td>23.9</td>\n",
              "      <td>5.8</td>\n",
              "    </tr>\n",
              "    <tr>\n",
              "      <th>...</th>\n",
              "      <td>...</td>\n",
              "      <td>...</td>\n",
              "      <td>...</td>\n",
              "      <td>...</td>\n",
              "      <td>...</td>\n",
              "      <td>...</td>\n",
              "      <td>...</td>\n",
              "      <td>...</td>\n",
              "      <td>...</td>\n",
              "      <td>...</td>\n",
              "      <td>...</td>\n",
              "      <td>...</td>\n",
              "      <td>...</td>\n",
              "      <td>...</td>\n",
              "      <td>...</td>\n",
              "      <td>...</td>\n",
              "      <td>...</td>\n",
              "      <td>...</td>\n",
              "      <td>...</td>\n",
              "      <td>...</td>\n",
              "      <td>...</td>\n",
              "      <td>...</td>\n",
              "      <td>...</td>\n",
              "      <td>...</td>\n",
              "    </tr>\n",
              "    <tr>\n",
              "      <th>1451</th>\n",
              "      <td>iq</td>\n",
              "      <td>2010</td>\n",
              "      <td>21</td>\n",
              "      <td>2010-05-28</td>\n",
              "      <td>0.342750</td>\n",
              "      <td>0.318900</td>\n",
              "      <td>0.256343</td>\n",
              "      <td>0.292514</td>\n",
              "      <td>55.30</td>\n",
              "      <td>299.334286</td>\n",
              "      <td>300.771429</td>\n",
              "      <td>296.825714</td>\n",
              "      <td>309.7</td>\n",
              "      <td>294.5</td>\n",
              "      <td>45.00</td>\n",
              "      <td>88.765714</td>\n",
              "      <td>55.30</td>\n",
              "      <td>18.485714</td>\n",
              "      <td>9.800000</td>\n",
              "      <td>28.633333</td>\n",
              "      <td>11.933333</td>\n",
              "      <td>35.4</td>\n",
              "      <td>22.4</td>\n",
              "      <td>27.0</td>\n",
              "    </tr>\n",
              "    <tr>\n",
              "      <th>1452</th>\n",
              "      <td>iq</td>\n",
              "      <td>2010</td>\n",
              "      <td>22</td>\n",
              "      <td>2010-06-04</td>\n",
              "      <td>0.160157</td>\n",
              "      <td>0.160371</td>\n",
              "      <td>0.136043</td>\n",
              "      <td>0.225657</td>\n",
              "      <td>86.47</td>\n",
              "      <td>298.330000</td>\n",
              "      <td>299.392857</td>\n",
              "      <td>296.452857</td>\n",
              "      <td>308.5</td>\n",
              "      <td>291.9</td>\n",
              "      <td>207.10</td>\n",
              "      <td>91.600000</td>\n",
              "      <td>86.47</td>\n",
              "      <td>18.070000</td>\n",
              "      <td>7.471429</td>\n",
              "      <td>27.433333</td>\n",
              "      <td>10.500000</td>\n",
              "      <td>34.7</td>\n",
              "      <td>21.7</td>\n",
              "      <td>36.6</td>\n",
              "    </tr>\n",
              "    <tr>\n",
              "      <th>1453</th>\n",
              "      <td>iq</td>\n",
              "      <td>2010</td>\n",
              "      <td>23</td>\n",
              "      <td>2010-06-11</td>\n",
              "      <td>0.247057</td>\n",
              "      <td>0.146057</td>\n",
              "      <td>0.250357</td>\n",
              "      <td>0.233714</td>\n",
              "      <td>58.94</td>\n",
              "      <td>296.598571</td>\n",
              "      <td>297.592857</td>\n",
              "      <td>295.501429</td>\n",
              "      <td>305.5</td>\n",
              "      <td>292.4</td>\n",
              "      <td>50.60</td>\n",
              "      <td>94.280000</td>\n",
              "      <td>58.94</td>\n",
              "      <td>17.008571</td>\n",
              "      <td>7.500000</td>\n",
              "      <td>24.400000</td>\n",
              "      <td>6.900000</td>\n",
              "      <td>32.2</td>\n",
              "      <td>19.2</td>\n",
              "      <td>7.4</td>\n",
              "    </tr>\n",
              "    <tr>\n",
              "      <th>1454</th>\n",
              "      <td>iq</td>\n",
              "      <td>2010</td>\n",
              "      <td>24</td>\n",
              "      <td>2010-06-18</td>\n",
              "      <td>0.333914</td>\n",
              "      <td>0.245771</td>\n",
              "      <td>0.278886</td>\n",
              "      <td>0.325486</td>\n",
              "      <td>59.67</td>\n",
              "      <td>296.345714</td>\n",
              "      <td>297.521429</td>\n",
              "      <td>295.324286</td>\n",
              "      <td>306.1</td>\n",
              "      <td>291.9</td>\n",
              "      <td>62.33</td>\n",
              "      <td>94.660000</td>\n",
              "      <td>59.67</td>\n",
              "      <td>16.815714</td>\n",
              "      <td>7.871429</td>\n",
              "      <td>25.433333</td>\n",
              "      <td>8.733333</td>\n",
              "      <td>31.2</td>\n",
              "      <td>21.0</td>\n",
              "      <td>16.0</td>\n",
              "    </tr>\n",
              "    <tr>\n",
              "      <th>1455</th>\n",
              "      <td>iq</td>\n",
              "      <td>2010</td>\n",
              "      <td>25</td>\n",
              "      <td>2010-06-25</td>\n",
              "      <td>0.298186</td>\n",
              "      <td>0.232971</td>\n",
              "      <td>0.274214</td>\n",
              "      <td>0.315757</td>\n",
              "      <td>63.22</td>\n",
              "      <td>298.097143</td>\n",
              "      <td>299.835714</td>\n",
              "      <td>295.807143</td>\n",
              "      <td>307.8</td>\n",
              "      <td>292.3</td>\n",
              "      <td>36.90</td>\n",
              "      <td>89.082857</td>\n",
              "      <td>63.22</td>\n",
              "      <td>17.355714</td>\n",
              "      <td>11.014286</td>\n",
              "      <td>27.475000</td>\n",
              "      <td>9.900000</td>\n",
              "      <td>33.7</td>\n",
              "      <td>22.2</td>\n",
              "      <td>20.4</td>\n",
              "    </tr>\n",
              "  </tbody>\n",
              "</table>\n",
              "<p>1456 rows × 24 columns</p>\n",
              "</div>"
            ],
            "text/plain": [
              "     city  year  ...  station_min_temp_c station_precip_mm\n",
              "0      sj  1990  ...                20.0              16.0\n",
              "1      sj  1990  ...                22.2               8.6\n",
              "2      sj  1990  ...                22.8              41.4\n",
              "3      sj  1990  ...                23.3               4.0\n",
              "4      sj  1990  ...                23.9               5.8\n",
              "...   ...   ...  ...                 ...               ...\n",
              "1451   iq  2010  ...                22.4              27.0\n",
              "1452   iq  2010  ...                21.7              36.6\n",
              "1453   iq  2010  ...                19.2               7.4\n",
              "1454   iq  2010  ...                21.0              16.0\n",
              "1455   iq  2010  ...                22.2              20.4\n",
              "\n",
              "[1456 rows x 24 columns]"
            ]
          },
          "metadata": {
            "tags": []
          },
          "execution_count": 7
        }
      ]
    },
    {
      "cell_type": "code",
      "metadata": {
        "colab": {
          "base_uri": "https://localhost:8080/",
          "height": 417
        },
        "id": "jzLkVpVoTOaW",
        "outputId": "773970fa-48d5-46c0-83e3-ef8434ed2e99"
      },
      "source": [
        "y_train"
      ],
      "execution_count": 8,
      "outputs": [
        {
          "output_type": "execute_result",
          "data": {
            "text/html": [
              "<div>\n",
              "<style scoped>\n",
              "    .dataframe tbody tr th:only-of-type {\n",
              "        vertical-align: middle;\n",
              "    }\n",
              "\n",
              "    .dataframe tbody tr th {\n",
              "        vertical-align: top;\n",
              "    }\n",
              "\n",
              "    .dataframe thead th {\n",
              "        text-align: right;\n",
              "    }\n",
              "</style>\n",
              "<table border=\"1\" class=\"dataframe\">\n",
              "  <thead>\n",
              "    <tr style=\"text-align: right;\">\n",
              "      <th></th>\n",
              "      <th>city</th>\n",
              "      <th>year</th>\n",
              "      <th>weekofyear</th>\n",
              "      <th>total_cases</th>\n",
              "    </tr>\n",
              "  </thead>\n",
              "  <tbody>\n",
              "    <tr>\n",
              "      <th>0</th>\n",
              "      <td>sj</td>\n",
              "      <td>1990</td>\n",
              "      <td>18</td>\n",
              "      <td>4</td>\n",
              "    </tr>\n",
              "    <tr>\n",
              "      <th>1</th>\n",
              "      <td>sj</td>\n",
              "      <td>1990</td>\n",
              "      <td>19</td>\n",
              "      <td>5</td>\n",
              "    </tr>\n",
              "    <tr>\n",
              "      <th>2</th>\n",
              "      <td>sj</td>\n",
              "      <td>1990</td>\n",
              "      <td>20</td>\n",
              "      <td>4</td>\n",
              "    </tr>\n",
              "    <tr>\n",
              "      <th>3</th>\n",
              "      <td>sj</td>\n",
              "      <td>1990</td>\n",
              "      <td>21</td>\n",
              "      <td>3</td>\n",
              "    </tr>\n",
              "    <tr>\n",
              "      <th>4</th>\n",
              "      <td>sj</td>\n",
              "      <td>1990</td>\n",
              "      <td>22</td>\n",
              "      <td>6</td>\n",
              "    </tr>\n",
              "    <tr>\n",
              "      <th>...</th>\n",
              "      <td>...</td>\n",
              "      <td>...</td>\n",
              "      <td>...</td>\n",
              "      <td>...</td>\n",
              "    </tr>\n",
              "    <tr>\n",
              "      <th>1451</th>\n",
              "      <td>iq</td>\n",
              "      <td>2010</td>\n",
              "      <td>21</td>\n",
              "      <td>5</td>\n",
              "    </tr>\n",
              "    <tr>\n",
              "      <th>1452</th>\n",
              "      <td>iq</td>\n",
              "      <td>2010</td>\n",
              "      <td>22</td>\n",
              "      <td>8</td>\n",
              "    </tr>\n",
              "    <tr>\n",
              "      <th>1453</th>\n",
              "      <td>iq</td>\n",
              "      <td>2010</td>\n",
              "      <td>23</td>\n",
              "      <td>1</td>\n",
              "    </tr>\n",
              "    <tr>\n",
              "      <th>1454</th>\n",
              "      <td>iq</td>\n",
              "      <td>2010</td>\n",
              "      <td>24</td>\n",
              "      <td>1</td>\n",
              "    </tr>\n",
              "    <tr>\n",
              "      <th>1455</th>\n",
              "      <td>iq</td>\n",
              "      <td>2010</td>\n",
              "      <td>25</td>\n",
              "      <td>4</td>\n",
              "    </tr>\n",
              "  </tbody>\n",
              "</table>\n",
              "<p>1456 rows × 4 columns</p>\n",
              "</div>"
            ],
            "text/plain": [
              "     city  year  weekofyear  total_cases\n",
              "0      sj  1990          18            4\n",
              "1      sj  1990          19            5\n",
              "2      sj  1990          20            4\n",
              "3      sj  1990          21            3\n",
              "4      sj  1990          22            6\n",
              "...   ...   ...         ...          ...\n",
              "1451   iq  2010          21            5\n",
              "1452   iq  2010          22            8\n",
              "1453   iq  2010          23            1\n",
              "1454   iq  2010          24            1\n",
              "1455   iq  2010          25            4\n",
              "\n",
              "[1456 rows x 4 columns]"
            ]
          },
          "metadata": {
            "tags": []
          },
          "execution_count": 8
        }
      ]
    },
    {
      "cell_type": "code",
      "metadata": {
        "id": "wRYy2LdXria_"
      },
      "source": [
        "X_train[\"total_cases\"]=y_train[\"total_cases\"]"
      ],
      "execution_count": 9,
      "outputs": []
    },
    {
      "cell_type": "code",
      "metadata": {
        "id": "WhcMI8ZeTx69"
      },
      "source": [
        "\n",
        "X_train_sj=X_train[X_train.city == \"sj\"]\n",
        "X_train_iq=X_train[X_train.city == \"iq\"]\n"
      ],
      "execution_count": 10,
      "outputs": []
    },
    {
      "cell_type": "code",
      "metadata": {
        "id": "1z2gUXspSzAi"
      },
      "source": [
        "\n",
        "X_test_sj=X_test[X_test.city == \"sj\"]\n",
        "X_test_iq=X_test[X_test.city == \"iq\"]"
      ],
      "execution_count": 11,
      "outputs": []
    },
    {
      "cell_type": "code",
      "metadata": {
        "colab": {
          "base_uri": "https://localhost:8080/",
          "height": 223
        },
        "id": "9gh-I5eGmTLU",
        "outputId": "db1e063f-8d4c-4096-fc3d-2b7312fddb04"
      },
      "source": [
        "X_train_sj.head()"
      ],
      "execution_count": 12,
      "outputs": [
        {
          "output_type": "execute_result",
          "data": {
            "text/html": [
              "<div>\n",
              "<style scoped>\n",
              "    .dataframe tbody tr th:only-of-type {\n",
              "        vertical-align: middle;\n",
              "    }\n",
              "\n",
              "    .dataframe tbody tr th {\n",
              "        vertical-align: top;\n",
              "    }\n",
              "\n",
              "    .dataframe thead th {\n",
              "        text-align: right;\n",
              "    }\n",
              "</style>\n",
              "<table border=\"1\" class=\"dataframe\">\n",
              "  <thead>\n",
              "    <tr style=\"text-align: right;\">\n",
              "      <th></th>\n",
              "      <th>city</th>\n",
              "      <th>year</th>\n",
              "      <th>weekofyear</th>\n",
              "      <th>week_start_date</th>\n",
              "      <th>ndvi_ne</th>\n",
              "      <th>ndvi_nw</th>\n",
              "      <th>ndvi_se</th>\n",
              "      <th>ndvi_sw</th>\n",
              "      <th>precipitation_amt_mm</th>\n",
              "      <th>reanalysis_air_temp_k</th>\n",
              "      <th>reanalysis_avg_temp_k</th>\n",
              "      <th>reanalysis_dew_point_temp_k</th>\n",
              "      <th>reanalysis_max_air_temp_k</th>\n",
              "      <th>reanalysis_min_air_temp_k</th>\n",
              "      <th>reanalysis_precip_amt_kg_per_m2</th>\n",
              "      <th>reanalysis_relative_humidity_percent</th>\n",
              "      <th>reanalysis_sat_precip_amt_mm</th>\n",
              "      <th>reanalysis_specific_humidity_g_per_kg</th>\n",
              "      <th>reanalysis_tdtr_k</th>\n",
              "      <th>station_avg_temp_c</th>\n",
              "      <th>station_diur_temp_rng_c</th>\n",
              "      <th>station_max_temp_c</th>\n",
              "      <th>station_min_temp_c</th>\n",
              "      <th>station_precip_mm</th>\n",
              "      <th>total_cases</th>\n",
              "    </tr>\n",
              "  </thead>\n",
              "  <tbody>\n",
              "    <tr>\n",
              "      <th>0</th>\n",
              "      <td>sj</td>\n",
              "      <td>1990</td>\n",
              "      <td>18</td>\n",
              "      <td>1990-04-30</td>\n",
              "      <td>0.122600</td>\n",
              "      <td>0.103725</td>\n",
              "      <td>0.198483</td>\n",
              "      <td>0.177617</td>\n",
              "      <td>12.42</td>\n",
              "      <td>297.572857</td>\n",
              "      <td>297.742857</td>\n",
              "      <td>292.414286</td>\n",
              "      <td>299.8</td>\n",
              "      <td>295.9</td>\n",
              "      <td>32.00</td>\n",
              "      <td>73.365714</td>\n",
              "      <td>12.42</td>\n",
              "      <td>14.012857</td>\n",
              "      <td>2.628571</td>\n",
              "      <td>25.442857</td>\n",
              "      <td>6.900000</td>\n",
              "      <td>29.4</td>\n",
              "      <td>20.0</td>\n",
              "      <td>16.0</td>\n",
              "      <td>4</td>\n",
              "    </tr>\n",
              "    <tr>\n",
              "      <th>1</th>\n",
              "      <td>sj</td>\n",
              "      <td>1990</td>\n",
              "      <td>19</td>\n",
              "      <td>1990-05-07</td>\n",
              "      <td>0.169900</td>\n",
              "      <td>0.142175</td>\n",
              "      <td>0.162357</td>\n",
              "      <td>0.155486</td>\n",
              "      <td>22.82</td>\n",
              "      <td>298.211429</td>\n",
              "      <td>298.442857</td>\n",
              "      <td>293.951429</td>\n",
              "      <td>300.9</td>\n",
              "      <td>296.4</td>\n",
              "      <td>17.94</td>\n",
              "      <td>77.368571</td>\n",
              "      <td>22.82</td>\n",
              "      <td>15.372857</td>\n",
              "      <td>2.371429</td>\n",
              "      <td>26.714286</td>\n",
              "      <td>6.371429</td>\n",
              "      <td>31.7</td>\n",
              "      <td>22.2</td>\n",
              "      <td>8.6</td>\n",
              "      <td>5</td>\n",
              "    </tr>\n",
              "    <tr>\n",
              "      <th>2</th>\n",
              "      <td>sj</td>\n",
              "      <td>1990</td>\n",
              "      <td>20</td>\n",
              "      <td>1990-05-14</td>\n",
              "      <td>0.032250</td>\n",
              "      <td>0.172967</td>\n",
              "      <td>0.157200</td>\n",
              "      <td>0.170843</td>\n",
              "      <td>34.54</td>\n",
              "      <td>298.781429</td>\n",
              "      <td>298.878571</td>\n",
              "      <td>295.434286</td>\n",
              "      <td>300.5</td>\n",
              "      <td>297.3</td>\n",
              "      <td>26.10</td>\n",
              "      <td>82.052857</td>\n",
              "      <td>34.54</td>\n",
              "      <td>16.848571</td>\n",
              "      <td>2.300000</td>\n",
              "      <td>26.714286</td>\n",
              "      <td>6.485714</td>\n",
              "      <td>32.2</td>\n",
              "      <td>22.8</td>\n",
              "      <td>41.4</td>\n",
              "      <td>4</td>\n",
              "    </tr>\n",
              "    <tr>\n",
              "      <th>3</th>\n",
              "      <td>sj</td>\n",
              "      <td>1990</td>\n",
              "      <td>21</td>\n",
              "      <td>1990-05-21</td>\n",
              "      <td>0.128633</td>\n",
              "      <td>0.245067</td>\n",
              "      <td>0.227557</td>\n",
              "      <td>0.235886</td>\n",
              "      <td>15.36</td>\n",
              "      <td>298.987143</td>\n",
              "      <td>299.228571</td>\n",
              "      <td>295.310000</td>\n",
              "      <td>301.4</td>\n",
              "      <td>297.0</td>\n",
              "      <td>13.90</td>\n",
              "      <td>80.337143</td>\n",
              "      <td>15.36</td>\n",
              "      <td>16.672857</td>\n",
              "      <td>2.428571</td>\n",
              "      <td>27.471429</td>\n",
              "      <td>6.771429</td>\n",
              "      <td>33.3</td>\n",
              "      <td>23.3</td>\n",
              "      <td>4.0</td>\n",
              "      <td>3</td>\n",
              "    </tr>\n",
              "    <tr>\n",
              "      <th>4</th>\n",
              "      <td>sj</td>\n",
              "      <td>1990</td>\n",
              "      <td>22</td>\n",
              "      <td>1990-05-28</td>\n",
              "      <td>0.196200</td>\n",
              "      <td>0.262200</td>\n",
              "      <td>0.251200</td>\n",
              "      <td>0.247340</td>\n",
              "      <td>7.52</td>\n",
              "      <td>299.518571</td>\n",
              "      <td>299.664286</td>\n",
              "      <td>295.821429</td>\n",
              "      <td>301.9</td>\n",
              "      <td>297.5</td>\n",
              "      <td>12.20</td>\n",
              "      <td>80.460000</td>\n",
              "      <td>7.52</td>\n",
              "      <td>17.210000</td>\n",
              "      <td>3.014286</td>\n",
              "      <td>28.942857</td>\n",
              "      <td>9.371429</td>\n",
              "      <td>35.0</td>\n",
              "      <td>23.9</td>\n",
              "      <td>5.8</td>\n",
              "      <td>6</td>\n",
              "    </tr>\n",
              "  </tbody>\n",
              "</table>\n",
              "</div>"
            ],
            "text/plain": [
              "  city  year  weekofyear  ... station_min_temp_c  station_precip_mm  total_cases\n",
              "0   sj  1990          18  ...               20.0               16.0            4\n",
              "1   sj  1990          19  ...               22.2                8.6            5\n",
              "2   sj  1990          20  ...               22.8               41.4            4\n",
              "3   sj  1990          21  ...               23.3                4.0            3\n",
              "4   sj  1990          22  ...               23.9                5.8            6\n",
              "\n",
              "[5 rows x 25 columns]"
            ]
          },
          "metadata": {
            "tags": []
          },
          "execution_count": 12
        }
      ]
    },
    {
      "cell_type": "code",
      "metadata": {
        "colab": {
          "base_uri": "https://localhost:8080/"
        },
        "id": "tZtX20J6U9sA",
        "outputId": "169f5e5f-72cc-4e98-d2b0-c3a0d3ad96c2"
      },
      "source": [
        "print(X_train_sj.head())\n",
        "print(X_train_sj.tail())\n"
      ],
      "execution_count": 13,
      "outputs": [
        {
          "output_type": "stream",
          "text": [
            "  city  year  weekofyear  ... station_min_temp_c  station_precip_mm  total_cases\n",
            "0   sj  1990          18  ...               20.0               16.0            4\n",
            "1   sj  1990          19  ...               22.2                8.6            5\n",
            "2   sj  1990          20  ...               22.8               41.4            4\n",
            "3   sj  1990          21  ...               23.3                4.0            3\n",
            "4   sj  1990          22  ...               23.9                5.8            6\n",
            "\n",
            "[5 rows x 25 columns]\n",
            "    city  year  weekofyear  ... station_min_temp_c  station_precip_mm  total_cases\n",
            "931   sj  2008          13  ...               21.1                1.8            4\n",
            "932   sj  2008          14  ...               22.2                0.5            3\n",
            "933   sj  2008          15  ...               21.7               30.7            1\n",
            "934   sj  2008          16  ...               21.7               11.2            3\n",
            "935   sj  2008          17  ...               23.3                0.3            5\n",
            "\n",
            "[5 rows x 25 columns]\n"
          ],
          "name": "stdout"
        }
      ]
    },
    {
      "cell_type": "code",
      "metadata": {
        "colab": {
          "base_uri": "https://localhost:8080/"
        },
        "id": "CH6FCoplsvyd",
        "outputId": "2e89378e-2021-4cf8-cd8a-795a8738100b"
      },
      "source": [
        "print(X_test_sj.head())\n",
        "print(X_test_sj.tail())"
      ],
      "execution_count": 14,
      "outputs": [
        {
          "output_type": "stream",
          "text": [
            "  city  year  ...  station_min_temp_c station_precip_mm\n",
            "0   sj  2008  ...                21.7              75.2\n",
            "1   sj  2008  ...                22.2              34.3\n",
            "2   sj  2008  ...                22.8               3.0\n",
            "3   sj  2008  ...                24.4               0.3\n",
            "4   sj  2008  ...                23.3              84.1\n",
            "\n",
            "[5 rows x 24 columns]\n",
            "    city  year  ...  station_min_temp_c station_precip_mm\n",
            "255   sj  2013  ...                22.8               3.5\n",
            "256   sj  2013  ...                22.8              17.6\n",
            "257   sj  2013  ...                23.3               9.4\n",
            "258   sj  2013  ...                23.9              22.9\n",
            "259   sj  2013  ...                21.7              47.5\n",
            "\n",
            "[5 rows x 24 columns]\n"
          ],
          "name": "stdout"
        }
      ]
    },
    {
      "cell_type": "code",
      "metadata": {
        "colab": {
          "base_uri": "https://localhost:8080/"
        },
        "id": "3J0Z1gU7WFHL",
        "outputId": "0c5a9cb2-fe9a-48ae-8a4c-bb6313923e1e"
      },
      "source": [
        "X_train.week_start_date.convert_dtypes()\n"
      ],
      "execution_count": 15,
      "outputs": [
        {
          "output_type": "execute_result",
          "data": {
            "text/plain": [
              "0       1990-04-30\n",
              "1       1990-05-07\n",
              "2       1990-05-14\n",
              "3       1990-05-21\n",
              "4       1990-05-28\n",
              "           ...    \n",
              "1451    2010-05-28\n",
              "1452    2010-06-04\n",
              "1453    2010-06-11\n",
              "1454    2010-06-18\n",
              "1455    2010-06-25\n",
              "Name: week_start_date, Length: 1456, dtype: string"
            ]
          },
          "metadata": {
            "tags": []
          },
          "execution_count": 15
        }
      ]
    },
    {
      "cell_type": "code",
      "metadata": {
        "id": "CC3f87lTSOvo"
      },
      "source": [
        ""
      ],
      "execution_count": 15,
      "outputs": []
    },
    {
      "cell_type": "code",
      "metadata": {
        "id": "u6CdL2U2SgOa"
      },
      "source": [
        ""
      ],
      "execution_count": 15,
      "outputs": []
    },
    {
      "cell_type": "code",
      "metadata": {
        "id": "h6hB2nATTDlF"
      },
      "source": [
        "correlation=X_train_sj.corr()"
      ],
      "execution_count": 16,
      "outputs": []
    },
    {
      "cell_type": "code",
      "metadata": {
        "colab": {
          "base_uri": "https://localhost:8080/"
        },
        "id": "SS7mV0v3VbIL",
        "outputId": "cce61c33-840c-493b-8162-dffc53d22e49"
      },
      "source": [
        "correlation[\"ndvi_se\"]"
      ],
      "execution_count": 17,
      "outputs": [
        {
          "output_type": "execute_result",
          "data": {
            "text/plain": [
              "year                                    -0.014863\n",
              "weekofyear                              -0.009380\n",
              "ndvi_ne                                  0.234049\n",
              "ndvi_nw                                  0.196343\n",
              "ndvi_se                                  1.000000\n",
              "ndvi_sw                                  0.821354\n",
              "precipitation_amt_mm                    -0.119386\n",
              "reanalysis_air_temp_k                   -0.014601\n",
              "reanalysis_avg_temp_k                   -0.011905\n",
              "reanalysis_dew_point_temp_k             -0.062773\n",
              "reanalysis_max_air_temp_k               -0.007382\n",
              "reanalysis_min_air_temp_k               -0.045946\n",
              "reanalysis_precip_amt_kg_per_m2         -0.130848\n",
              "reanalysis_relative_humidity_percent    -0.114294\n",
              "reanalysis_sat_precip_amt_mm            -0.119386\n",
              "reanalysis_specific_humidity_g_per_kg   -0.058442\n",
              "reanalysis_tdtr_k                        0.029358\n",
              "station_avg_temp_c                      -0.056545\n",
              "station_diur_temp_rng_c                  0.018121\n",
              "station_max_temp_c                      -0.063718\n",
              "station_min_temp_c                      -0.069275\n",
              "station_precip_mm                       -0.140286\n",
              "total_cases                              0.001113\n",
              "Name: ndvi_se, dtype: float64"
            ]
          },
          "metadata": {
            "tags": []
          },
          "execution_count": 17
        }
      ]
    },
    {
      "cell_type": "code",
      "metadata": {
        "colab": {
          "base_uri": "https://localhost:8080/",
          "height": 223
        },
        "id": "NFkWKhYUmFAl",
        "outputId": "44a16889-b594-4b42-8de0-f184f694e03b"
      },
      "source": [
        "X_train_sj.head()"
      ],
      "execution_count": 18,
      "outputs": [
        {
          "output_type": "execute_result",
          "data": {
            "text/html": [
              "<div>\n",
              "<style scoped>\n",
              "    .dataframe tbody tr th:only-of-type {\n",
              "        vertical-align: middle;\n",
              "    }\n",
              "\n",
              "    .dataframe tbody tr th {\n",
              "        vertical-align: top;\n",
              "    }\n",
              "\n",
              "    .dataframe thead th {\n",
              "        text-align: right;\n",
              "    }\n",
              "</style>\n",
              "<table border=\"1\" class=\"dataframe\">\n",
              "  <thead>\n",
              "    <tr style=\"text-align: right;\">\n",
              "      <th></th>\n",
              "      <th>city</th>\n",
              "      <th>year</th>\n",
              "      <th>weekofyear</th>\n",
              "      <th>week_start_date</th>\n",
              "      <th>ndvi_ne</th>\n",
              "      <th>ndvi_nw</th>\n",
              "      <th>ndvi_se</th>\n",
              "      <th>ndvi_sw</th>\n",
              "      <th>precipitation_amt_mm</th>\n",
              "      <th>reanalysis_air_temp_k</th>\n",
              "      <th>reanalysis_avg_temp_k</th>\n",
              "      <th>reanalysis_dew_point_temp_k</th>\n",
              "      <th>reanalysis_max_air_temp_k</th>\n",
              "      <th>reanalysis_min_air_temp_k</th>\n",
              "      <th>reanalysis_precip_amt_kg_per_m2</th>\n",
              "      <th>reanalysis_relative_humidity_percent</th>\n",
              "      <th>reanalysis_sat_precip_amt_mm</th>\n",
              "      <th>reanalysis_specific_humidity_g_per_kg</th>\n",
              "      <th>reanalysis_tdtr_k</th>\n",
              "      <th>station_avg_temp_c</th>\n",
              "      <th>station_diur_temp_rng_c</th>\n",
              "      <th>station_max_temp_c</th>\n",
              "      <th>station_min_temp_c</th>\n",
              "      <th>station_precip_mm</th>\n",
              "      <th>total_cases</th>\n",
              "    </tr>\n",
              "  </thead>\n",
              "  <tbody>\n",
              "    <tr>\n",
              "      <th>0</th>\n",
              "      <td>sj</td>\n",
              "      <td>1990</td>\n",
              "      <td>18</td>\n",
              "      <td>1990-04-30</td>\n",
              "      <td>0.122600</td>\n",
              "      <td>0.103725</td>\n",
              "      <td>0.198483</td>\n",
              "      <td>0.177617</td>\n",
              "      <td>12.42</td>\n",
              "      <td>297.572857</td>\n",
              "      <td>297.742857</td>\n",
              "      <td>292.414286</td>\n",
              "      <td>299.8</td>\n",
              "      <td>295.9</td>\n",
              "      <td>32.00</td>\n",
              "      <td>73.365714</td>\n",
              "      <td>12.42</td>\n",
              "      <td>14.012857</td>\n",
              "      <td>2.628571</td>\n",
              "      <td>25.442857</td>\n",
              "      <td>6.900000</td>\n",
              "      <td>29.4</td>\n",
              "      <td>20.0</td>\n",
              "      <td>16.0</td>\n",
              "      <td>4</td>\n",
              "    </tr>\n",
              "    <tr>\n",
              "      <th>1</th>\n",
              "      <td>sj</td>\n",
              "      <td>1990</td>\n",
              "      <td>19</td>\n",
              "      <td>1990-05-07</td>\n",
              "      <td>0.169900</td>\n",
              "      <td>0.142175</td>\n",
              "      <td>0.162357</td>\n",
              "      <td>0.155486</td>\n",
              "      <td>22.82</td>\n",
              "      <td>298.211429</td>\n",
              "      <td>298.442857</td>\n",
              "      <td>293.951429</td>\n",
              "      <td>300.9</td>\n",
              "      <td>296.4</td>\n",
              "      <td>17.94</td>\n",
              "      <td>77.368571</td>\n",
              "      <td>22.82</td>\n",
              "      <td>15.372857</td>\n",
              "      <td>2.371429</td>\n",
              "      <td>26.714286</td>\n",
              "      <td>6.371429</td>\n",
              "      <td>31.7</td>\n",
              "      <td>22.2</td>\n",
              "      <td>8.6</td>\n",
              "      <td>5</td>\n",
              "    </tr>\n",
              "    <tr>\n",
              "      <th>2</th>\n",
              "      <td>sj</td>\n",
              "      <td>1990</td>\n",
              "      <td>20</td>\n",
              "      <td>1990-05-14</td>\n",
              "      <td>0.032250</td>\n",
              "      <td>0.172967</td>\n",
              "      <td>0.157200</td>\n",
              "      <td>0.170843</td>\n",
              "      <td>34.54</td>\n",
              "      <td>298.781429</td>\n",
              "      <td>298.878571</td>\n",
              "      <td>295.434286</td>\n",
              "      <td>300.5</td>\n",
              "      <td>297.3</td>\n",
              "      <td>26.10</td>\n",
              "      <td>82.052857</td>\n",
              "      <td>34.54</td>\n",
              "      <td>16.848571</td>\n",
              "      <td>2.300000</td>\n",
              "      <td>26.714286</td>\n",
              "      <td>6.485714</td>\n",
              "      <td>32.2</td>\n",
              "      <td>22.8</td>\n",
              "      <td>41.4</td>\n",
              "      <td>4</td>\n",
              "    </tr>\n",
              "    <tr>\n",
              "      <th>3</th>\n",
              "      <td>sj</td>\n",
              "      <td>1990</td>\n",
              "      <td>21</td>\n",
              "      <td>1990-05-21</td>\n",
              "      <td>0.128633</td>\n",
              "      <td>0.245067</td>\n",
              "      <td>0.227557</td>\n",
              "      <td>0.235886</td>\n",
              "      <td>15.36</td>\n",
              "      <td>298.987143</td>\n",
              "      <td>299.228571</td>\n",
              "      <td>295.310000</td>\n",
              "      <td>301.4</td>\n",
              "      <td>297.0</td>\n",
              "      <td>13.90</td>\n",
              "      <td>80.337143</td>\n",
              "      <td>15.36</td>\n",
              "      <td>16.672857</td>\n",
              "      <td>2.428571</td>\n",
              "      <td>27.471429</td>\n",
              "      <td>6.771429</td>\n",
              "      <td>33.3</td>\n",
              "      <td>23.3</td>\n",
              "      <td>4.0</td>\n",
              "      <td>3</td>\n",
              "    </tr>\n",
              "    <tr>\n",
              "      <th>4</th>\n",
              "      <td>sj</td>\n",
              "      <td>1990</td>\n",
              "      <td>22</td>\n",
              "      <td>1990-05-28</td>\n",
              "      <td>0.196200</td>\n",
              "      <td>0.262200</td>\n",
              "      <td>0.251200</td>\n",
              "      <td>0.247340</td>\n",
              "      <td>7.52</td>\n",
              "      <td>299.518571</td>\n",
              "      <td>299.664286</td>\n",
              "      <td>295.821429</td>\n",
              "      <td>301.9</td>\n",
              "      <td>297.5</td>\n",
              "      <td>12.20</td>\n",
              "      <td>80.460000</td>\n",
              "      <td>7.52</td>\n",
              "      <td>17.210000</td>\n",
              "      <td>3.014286</td>\n",
              "      <td>28.942857</td>\n",
              "      <td>9.371429</td>\n",
              "      <td>35.0</td>\n",
              "      <td>23.9</td>\n",
              "      <td>5.8</td>\n",
              "      <td>6</td>\n",
              "    </tr>\n",
              "  </tbody>\n",
              "</table>\n",
              "</div>"
            ],
            "text/plain": [
              "  city  year  weekofyear  ... station_min_temp_c  station_precip_mm  total_cases\n",
              "0   sj  1990          18  ...               20.0               16.0            4\n",
              "1   sj  1990          19  ...               22.2                8.6            5\n",
              "2   sj  1990          20  ...               22.8               41.4            4\n",
              "3   sj  1990          21  ...               23.3                4.0            3\n",
              "4   sj  1990          22  ...               23.9                5.8            6\n",
              "\n",
              "[5 rows x 25 columns]"
            ]
          },
          "metadata": {
            "tags": []
          },
          "execution_count": 18
        }
      ]
    },
    {
      "cell_type": "code",
      "metadata": {
        "colab": {
          "base_uri": "https://localhost:8080/",
          "height": 337
        },
        "id": "srAIwJW8Za3I",
        "outputId": "8a58cfca-a26e-46ca-a7a3-91b56476c740"
      },
      "source": [
        "plt.figure(figsize=(15,5))\n",
        "plt.subplot(111)\n",
        "#plt.scatter(indexer,,c=\"green\",alpha=0.5)\n",
        "plt.scatter(X_train_sj[\"week_start_date\"],X_train_sj[\"total_cases\"],c=\"green\",alpha=0.5)\n",
        "#plt.scatter(indexer,hubpred_no_outliers[:],c=\"red\",alpha=0.5)\n",
        "#plt.plot(df[\"Id\"],diffihubert[:])\n",
        "plt.text(0,0,\"Hubert\",c=\"red\")"
      ],
      "execution_count": 19,
      "outputs": [
        {
          "output_type": "execute_result",
          "data": {
            "text/plain": [
              "Text(0, 0, 'Hubert')"
            ]
          },
          "metadata": {
            "tags": []
          },
          "execution_count": 19
        },
        {
          "output_type": "display_data",
          "data": {
            "image/png": "[encoded data removed]",
            "text/plain": [
              "<Figure size 1080x360 with 1 Axes>"
            ]
          },
          "metadata": {
            "tags": [],
            "needs_background": "light"
          }
        }
      ]
    },
    {
      "cell_type": "code",
      "metadata": {
        "id": "nDHDNzuNb49P",
        "colab": {
          "base_uri": "https://localhost:8080/"
        },
        "outputId": "e0c254b1-2cb4-4d45-bd43-549e19ce3cd4"
      },
      "source": [
        "!rm visual_view.py\n",
        "!wget https://raw.githubusercontent.com/sipocz/messer/main/visual_view.py\n",
        "grafikon=None\n",
        "from visual_view import grafikon\n",
        "help(grafikon)"
      ],
      "execution_count": 20,
      "outputs": [
        {
          "output_type": "stream",
          "text": [
            "--2021-08-02 19:36:41--  https://raw.githubusercontent.com/sipocz/messer/main/visual_view.py\n",
            "Resolving raw.githubusercontent.com (raw.githubusercontent.com)... 185.199.111.133, 185.199.108.133, 185.199.110.133, ...\n",
            "Connecting to raw.githubusercontent.com (raw.githubusercontent.com)|185.199.111.133|:443... connected.\n",
            "HTTP request sent, awaiting response... 200 OK\n",
            "Length: 1027 (1.0K) [text/plain]\n",
            "Saving to: ‘visual_view.py’\n",
            "\n",
            "\rvisual_view.py        0%[                    ]       0  --.-KB/s               \rvisual_view.py      100%[===================>]   1.00K  --.-KB/s    in 0s      \n",
            "\n",
            "2021-08-02 19:36:41 (53.8 MB/s) - ‘visual_view.py’ saved [1027/1027]\n",
            "\n",
            "Help on function grafikon in module visual_view:\n",
            "\n",
            "grafikon(fx, desc1, txt1, desc2='', txt2='', ngraf=2, c1='rgba(35,128,132,0.8)', c2='rgba(193,99,99,0.8)', title=None)\n",
            "    fx: dataFrame\n",
            "    desc1:column1\n",
            "    txt1: label1\n",
            "    desc2:column2\n",
            "    txt2: label2\n",
            "    ngraf: number of graph\n",
            "    c1: color1\n",
            "    c2: color2\n",
            "    title: graph title\n",
            "\n"
          ],
          "name": "stdout"
        }
      ]
    },
    {
      "cell_type": "code",
      "metadata": {
        "id": "a8npTQIxcFTY",
        "colab": {
          "base_uri": "https://localhost:8080/",
          "height": 617
        },
        "outputId": "58793db1-6b1d-4a13-9256-04a3a8cb2857"
      },
      "source": [
        "grafikon(X_train_sj,\"total_cases\",\"total_cases\",ngraf=1,title=\"Adatok\")"
      ],
      "execution_count": 21,
      "outputs": [
        {
          "output_type": "display_data",
          "data": {
            "text/html": [
              "<html>\n",
              "<head><meta charset=\"utf-8\" /></head>\n",
              "<body>\n",
              "    <div>\n",
              "            <script src=\"https://cdnjs.cloudflare.com/ajax/libs/mathjax/2.7.5/MathJax.js?config=TeX-AMS-MML_SVG\"></script><script type=\"text/javascript\">if (window.MathJax) {MathJax.Hub.Config({SVG: {font: \"STIX-Web\"}});}</script>\n",
              "                <script type=\"text/javascript\">window.PlotlyConfig = {MathJaxConfig: 'local'};</script>\n",
              "        <script src=\"https://cdn.plot.ly/plotly-latest.min.js\"></script>    \n",
              "            <div id=\"d3300d0e-9f1e-4082-9743-356becc7688b\" class=\"plotly-graph-div\" style=\"height:600px; width:1200px;\"></div>\n",
              "            <script type=\"text/javascript\">\n",
              "                \n",
              "                    window.PLOTLYENV=window.PLOTLYENV || {};\n",
              "                    \n",
              "                if (document.getElementById(\"d3300d0e-9f1e-4082-9743-356becc7688b\")) {\n",
              "                    Plotly.newPlot(\n",
              "                        'd3300d0e-9f1e-4082-9743-356becc7688b',\n",
              "                        [{\"line\": {\"color\": \"rgba(35,128,132,0.8)\"}, \"name\": \"total_cases\", \"showlegend\": true, \"type\": \"scatter\", \"x\": [0, 1, 2, 3, 4, 5, 6, 7, 8, 9, 10, 11, 12, 13, 14, 15, 16, 17, 18, 19, 20, 21, 22, 23, 24, 25, 26, 27, 28, 29, 30, 31, 32, 33, 34, 35, 36, 37, 38, 39, 40, 41, 42, 43, 44, 45, 46, 47, 48, 49, 50, 51, 52, 53, 54, 55, 56, 57, 58, 59, 60, 61, 62, 63, 64, 65, 66, 67, 68, 69, 70, 71, 72, 73, 74, 75, 76, 77, 78, 79, 80, 81, 82, 83, 84, 85, 86, 87, 88, 89, 90, 91, 92, 93, 94, 95, 96, 97, 98, 99, 100, 101, 102, 103, 104, 105, 106, 107, 108, 109, 110, 111, 112, 113, 114, 115, 116, 117, 118, 119, 120, 121, 122, 123, 124, 125, 126, 127, 128, 129, 130, 131, 132, 133, 134, 135, 136, 137, 138, 139, 140, 141, 142, 143, 144, 145, 146, 147, 148, 149, 150, 151, 152, 153, 154, 155, 156, 157, 158, 159, 160, 161, 162, 163, 164, 165, 166, 167, 168, 169, 170, 171, 172, 173, 174, 175, 176, 177, 178, 179, 180, 181, 182, 183, 184, 185, 186, 187, 188, 189, 190, 191, 192, 193, 194, 195, 196, 197, 198, 199, 200, 201, 202, 203, 204, 205, 206, 207, 208, 209, 210, 211, 212, 213, 214, 215, 216, 217, 218, 219, 220, 221, 222, 223, 224, 225, 226, 227, 228, 229, 230, 231, 232, 233, 234, 235, 236, 237, 238, 239, 240, 241, 242, 243, 244, 245, 246, 247, 248, 249, 250, 251, 252, 253, 254, 255, 256, 257, 258, 259, 260, 261, 262, 263, 264, 265, 266, 267, 268, 269, 270, 271, 272, 273, 274, 275, 276, 277, 278, 279, 280, 281, 282, 283, 284, 285, 286, 287, 288, 289, 290, 291, 292, 293, 294, 295, 296, 297, 298, 299, 300, 301, 302, 303, 304, 305, 306, 307, 308, 309, 310, 311, 312, 313, 314, 315, 316, 317, 318, 319, 320, 321, 322, 323, 324, 325, 326, 327, 328, 329, 330, 331, 332, 333, 334, 335, 336, 337, 338, 339, 340, 341, 342, 343, 344, 345, 346, 347, 348, 349, 350, 351, 352, 353, 354, 355, 356, 357, 358, 359, 360, 361, 362, 363, 364, 365, 366, 367, 368, 369, 370, 371, 372, 373, 374, 375, 376, 377, 378, 379, 380, 381, 382, 383, 384, 385, 386, 387, 388, 389, 390, 391, 392, 393, 394, 395, 396, 397, 398, 399, 400, 401, 402, 403, 404, 405, 406, 407, 408, 409, 410, 411, 412, 413, 414, 415, 416, 417, 418, 419, 420, 421, 422, 423, 424, 425, 426, 427, 428, 429, 430, 431, 432, 433, 434, 435, 436, 437, 438, 439, 440, 441, 442, 443, 444, 445, 446, 447, 448, 449, 450, 451, 452, 453, 454, 455, 456, 457, 458, 459, 460, 461, 462, 463, 464, 465, 466, 467, 468, 469, 470, 471, 472, 473, 474, 475, 476, 477, 478, 479, 480, 481, 482, 483, 484, 485, 486, 487, 488, 489, 490, 491, 492, 493, 494, 495, 496, 497, 498, 499, 500, 501, 502, 503, 504, 505, 506, 507, 508, 509, 510, 511, 512, 513, 514, 515, 516, 517, 518, 519, 520, 521, 522, 523, 524, 525, 526, 527, 528, 529, 530, 531, 532, 533, 534, 535, 536, 537, 538, 539, 540, 541, 542, 543, 544, 545, 546, 547, 548, 549, 550, 551, 552, 553, 554, 555, 556, 557, 558, 559, 560, 561, 562, 563, 564, 565, 566, 567, 568, 569, 570, 571, 572, 573, 574, 575, 576, 577, 578, 579, 580, 581, 582, 583, 584, 585, 586, 587, 588, 589, 590, 591, 592, 593, 594, 595, 596, 597, 598, 599, 600, 601, 602, 603, 604, 605, 606, 607, 608, 609, 610, 611, 612, 613, 614, 615, 616, 617, 618, 619, 620, 621, 622, 623, 624, 625, 626, 627, 628, 629, 630, 631, 632, 633, 634, 635, 636, 637, 638, 639, 640, 641, 642, 643, 644, 645, 646, 647, 648, 649, 650, 651, 652, 653, 654, 655, 656, 657, 658, 659, 660, 661, 662, 663, 664, 665, 666, 667, 668, 669, 670, 671, 672, 673, 674, 675, 676, 677, 678, 679, 680, 681, 682, 683, 684, 685, 686, 687, 688, 689, 690, 691, 692, 693, 694, 695, 696, 697, 698, 699, 700, 701, 702, 703, 704, 705, 706, 707, 708, 709, 710, 711, 712, 713, 714, 715, 716, 717, 718, 719, 720, 721, 722, 723, 724, 725, 726, 727, 728, 729, 730, 731, 732, 733, 734, 735, 736, 737, 738, 739, 740, 741, 742, 743, 744, 745, 746, 747, 748, 749, 750, 751, 752, 753, 754, 755, 756, 757, 758, 759, 760, 761, 762, 763, 764, 765, 766, 767, 768, 769, 770, 771, 772, 773, 774, 775, 776, 777, 778, 779, 780, 781, 782, 783, 784, 785, 786, 787, 788, 789, 790, 791, 792, 793, 794, 795, 796, 797, 798, 799, 800, 801, 802, 803, 804, 805, 806, 807, 808, 809, 810, 811, 812, 813, 814, 815, 816, 817, 818, 819, 820, 821, 822, 823, 824, 825, 826, 827, 828, 829, 830, 831, 832, 833, 834, 835, 836, 837, 838, 839, 840, 841, 842, 843, 844, 845, 846, 847, 848, 849, 850, 851, 852, 853, 854, 855, 856, 857, 858, 859, 860, 861, 862, 863, 864, 865, 866, 867, 868, 869, 870, 871, 872, 873, 874, 875, 876, 877, 878, 879, 880, 881, 882, 883, 884, 885, 886, 887, 888, 889, 890, 891, 892, 893, 894, 895, 896, 897, 898, 899, 900, 901, 902, 903, 904, 905, 906, 907, 908, 909, 910, 911, 912, 913, 914, 915, 916, 917, 918, 919, 920, 921, 922, 923, 924, 925, 926, 927, 928, 929, 930, 931, 932, 933, 934, 935], \"xaxis\": \"x\", \"y\": [4, 5, 4, 3, 6, 2, 4, 5, 10, 6, 8, 2, 6, 17, 23, 13, 21, 28, 24, 20, 40, 27, 42, 33, 43, 37, 57, 71, 44, 56, 53, 52, 47, 26, 27, 21, 21, 26, 34, 37, 17, 19, 25, 18, 21, 17, 17, 16, 16, 15, 23, 16, 17, 12, 17, 10, 15, 19, 21, 14, 18, 13, 14, 18, 23, 25, 62, 60, 76, 66, 64, 68, 89, 92, 140, 116, 142, 129, 140, 140, 127, 129, 169, 141, 108, 78, 70, 81, 104, 90, 85, 55, 53, 65, 33, 38, 59, 40, 37, 29, 30, 30, 28, 23, 24, 29, 26, 23, 20, 19, 20, 26, 29, 31, 28, 26, 32, 35, 33, 30, 52, 59, 67, 65, 74, 70, 61, 53, 76, 61, 57, 44, 34, 47, 60, 60, 53, 36, 31, 30, 32, 28, 33, 33, 35, 22, 13, 13, 21, 17, 11, 8, 8, 6, 6, 7, 12, 17, 10, 10, 18, 19, 12, 22, 12, 21, 18, 16, 16, 22, 17, 25, 23, 12, 25, 28, 27, 18, 23, 23, 29, 38, 36, 43, 46, 31, 25, 40, 31, 38, 30, 22, 31, 26, 35, 36, 39, 25, 31, 37, 33, 25, 24, 18, 23, 13, 18, 14, 17, 22, 13, 24, 31, 34, 31, 31, 38, 49, 42, 49, 55, 80, 84, 72, 89, 115, 179, 202, 272, 302, 395, 426, 461, 381, 333, 353, 410, 364, 359, 288, 221, 149, 112, 154, 91, 72, 56, 46, 37, 26, 17, 17, 20, 11, 7, 16, 14, 16, 5, 2, 6, 5, 4, 3, 4, 16, 8, 7, 10, 14, 7, 9, 11, 23, 17, 19, 24, 17, 28, 40, 33, 31, 33, 29, 30, 36, 48, 40, 28, 36, 19, 34, 23, 17, 17, 23, 14, 20, 13, 23, 20, 16, 16, 23, 14, 15, 4, 5, 5, 11, 11, 7, 4, 6, 5, 2, 4, 2, 4, 6, 6, 4, 6, 11, 16, 9, 12, 13, 27, 21, 19, 17, 24, 27, 30, 29, 25, 35, 33, 30, 29, 31, 29, 22, 27, 24, 26, 29, 22, 33, 24, 30, 20, 17, 24, 28, 18, 13, 9, 14, 11, 11, 19, 10, 8, 8, 9, 3, 7, 14, 4, 9, 14, 7, 9, 3, 3, 14, 12, 10, 21, 26, 47, 42, 31, 34, 33, 52, 56, 70, 112, 70, 47, 48, 49, 66, 56, 61, 67, 64, 68, 49, 50, 56, 75, 63, 62, 41, 50, 34, 31, 38, 30, 32, 26, 30, 36, 35, 46, 48, 44, 51, 59, 71, 102, 128, 127, 150, 191, 256, 329, 263, 220, 204, 181, 99, 54, 80, 102, 127, 73, 68, 64, 55, 67, 84, 85, 67, 73, 89, 68, 59, 56, 77, 75, 47, 50, 42, 28, 37, 37, 27, 12, 15, 22, 8, 15, 17, 10, 9, 11, 20, 13, 11, 16, 11, 7, 17, 14, 13, 15, 30, 25, 40, 44, 25, 21, 48, 56, 60, 45, 55, 32, 46, 61, 42, 37, 43, 34, 40, 25, 16, 17, 17, 16, 23, 18, 18, 9, 7, 7, 4, 3, 2, 8, 3, 1, 1, 2, 3, 3, 2, 0, 0, 2, 2, 0, 6, 3, 6, 2, 3, 2, 4, 5, 2, 9, 2, 4, 8, 6, 3, 11, 14, 15, 20, 9, 20, 28, 38, 30, 30, 23, 16, 22, 28, 14, 17, 20, 17, 10, 13, 20, 9, 18, 9, 8, 19, 11, 4, 6, 6, 8, 13, 8, 8, 5, 16, 12, 11, 18, 10, 22, 14, 16, 18, 27, 38, 35, 41, 51, 65, 55, 54, 62, 64, 56, 65, 71, 75, 71, 72, 47, 27, 35, 25, 19, 37, 38, 34, 26, 19, 18, 22, 16, 18, 6, 12, 6, 6, 3, 7, 6, 1, 3, 2, 2, 1, 10, 3, 3, 1, 1, 2, 6, 3, 3, 5, 4, 7, 6, 5, 7, 6, 4, 4, 7, 9, 5, 5, 10, 6, 13, 6, 5, 5, 9, 3, 6, 11, 7, 7, 15, 9, 6, 6, 6, 7, 10, 8, 7, 12, 3, 2, 7, 5, 5, 7, 7, 7, 7, 10, 13, 10, 14, 11, 20, 25, 17, 18, 25, 21, 31, 32, 26, 35, 28, 37, 41, 34, 30, 39, 39, 39, 34, 30, 37, 29, 26, 15, 22, 15, 20, 14, 10, 21, 14, 14, 9, 11, 5, 6, 7, 11, 4, 3, 2, 6, 10, 7, 5, 3, 12, 13, 10, 13, 13, 8, 21, 18, 8, 7, 20, 14, 14, 7, 14, 10, 13, 27, 13, 18, 16, 16, 20, 17, 4, 15, 8, 6, 12, 15, 11, 10, 15, 17, 7, 7, 8, 9, 12, 12, 5, 4, 11, 4, 5, 7, 1, 1, 4, 2, 6, 3, 4, 10, 12, 21, 26, 21, 30, 45, 56, 75, 83, 82, 126, 119, 137, 131, 112, 82, 73, 43, 55, 55, 53, 46, 43, 29, 22, 26, 13, 17, 8, 13, 10, 17, 19, 9, 9, 9, 3, 7, 7, 0, 2, 3, 3, 1, 3, 3, 3, 7, 3, 5, 11, 5, 5, 6, 6, 4, 4, 8, 14, 12, 16, 10, 16, 18, 15, 23, 17, 33, 15, 13, 11, 14, 17, 19, 20, 12, 21, 7, 19, 10, 13, 10, 8, 21, 11, 9, 14, 14, 15, 18, 16, 12, 20, 8, 3, 13, 4, 1, 10, 8, 13, 10, 21, 18, 21, 34, 25, 34, 33, 40, 42, 36, 72, 75, 76, 92, 71, 112, 106, 101, 170, 135, 106, 68, 48, 48, 26, 33, 29, 17, 12, 13, 17, 15, 14, 15, 10, 9, 2, 6, 8, 5, 1, 2, 3, 4, 3, 1, 3, 5], \"yaxis\": \"y\"}],\n",
              "                        {\"autosize\": false, \"height\": 600, \"template\": {\"data\": {\"bar\": [{\"error_x\": {\"color\": \"#2a3f5f\"}, \"error_y\": {\"color\": \"#2a3f5f\"}, \"marker\": {\"line\": {\"color\": \"#E5ECF6\", \"width\": 0.5}}, \"type\": \"bar\"}], \"barpolar\": [{\"marker\": {\"line\": {\"color\": \"#E5ECF6\", \"width\": 0.5}}, \"type\": \"barpolar\"}], \"carpet\": [{\"aaxis\": {\"endlinecolor\": \"#2a3f5f\", \"gridcolor\": \"white\", \"linecolor\": \"white\", \"minorgridcolor\": \"white\", \"startlinecolor\": \"#2a3f5f\"}, \"baxis\": {\"endlinecolor\": \"#2a3f5f\", \"gridcolor\": \"white\", \"linecolor\": \"white\", \"minorgridcolor\": \"white\", \"startlinecolor\": \"#2a3f5f\"}, \"type\": \"carpet\"}], \"choropleth\": [{\"colorbar\": {\"outlinewidth\": 0, \"ticks\": \"\"}, \"type\": \"choropleth\"}], \"contour\": [{\"colorbar\": {\"outlinewidth\": 0, \"ticks\": \"\"}, \"colorscale\": [[0.0, \"#0d0887\"], [0.1111111111111111, \"#46039f\"], [0.2222222222222222, \"#7201a8\"], [0.3333333333333333, \"#9c179e\"], [0.4444444444444444, \"#bd3786\"], [0.5555555555555556, \"#d8576b\"], [0.6666666666666666, \"#ed7953\"], [0.7777777777777778, \"#fb9f3a\"], [0.8888888888888888, \"#fdca26\"], [1.0, \"#f0f921\"]], \"type\": \"contour\"}], \"contourcarpet\": [{\"colorbar\": {\"outlinewidth\": 0, \"ticks\": \"\"}, \"type\": \"contourcarpet\"}], \"heatmap\": [{\"colorbar\": {\"outlinewidth\": 0, \"ticks\": \"\"}, \"colorscale\": [[0.0, \"#0d0887\"], [0.1111111111111111, \"#46039f\"], [0.2222222222222222, \"#7201a8\"], [0.3333333333333333, \"#9c179e\"], [0.4444444444444444, \"#bd3786\"], [0.5555555555555556, \"#d8576b\"], [0.6666666666666666, \"#ed7953\"], [0.7777777777777778, \"#fb9f3a\"], [0.8888888888888888, \"#fdca26\"], [1.0, \"#f0f921\"]], \"type\": \"heatmap\"}], \"heatmapgl\": [{\"colorbar\": {\"outlinewidth\": 0, \"ticks\": \"\"}, \"colorscale\": [[0.0, \"#0d0887\"], [0.1111111111111111, \"#46039f\"], [0.2222222222222222, \"#7201a8\"], [0.3333333333333333, \"#9c179e\"], [0.4444444444444444, \"#bd3786\"], [0.5555555555555556, \"#d8576b\"], [0.6666666666666666, \"#ed7953\"], [0.7777777777777778, \"#fb9f3a\"], [0.8888888888888888, \"#fdca26\"], [1.0, \"#f0f921\"]], \"type\": \"heatmapgl\"}], \"histogram\": [{\"marker\": {\"colorbar\": {\"outlinewidth\": 0, \"ticks\": \"\"}}, \"type\": \"histogram\"}], \"histogram2d\": [{\"colorbar\": {\"outlinewidth\": 0, \"ticks\": \"\"}, \"colorscale\": [[0.0, \"#0d0887\"], [0.1111111111111111, \"#46039f\"], [0.2222222222222222, \"#7201a8\"], [0.3333333333333333, \"#9c179e\"], [0.4444444444444444, \"#bd3786\"], [0.5555555555555556, \"#d8576b\"], [0.6666666666666666, \"#ed7953\"], [0.7777777777777778, \"#fb9f3a\"], [0.8888888888888888, \"#fdca26\"], [1.0, \"#f0f921\"]], \"type\": \"histogram2d\"}], \"histogram2dcontour\": [{\"colorbar\": {\"outlinewidth\": 0, \"ticks\": \"\"}, \"colorscale\": [[0.0, \"#0d0887\"], [0.1111111111111111, \"#46039f\"], [0.2222222222222222, \"#7201a8\"], [0.3333333333333333, \"#9c179e\"], [0.4444444444444444, \"#bd3786\"], [0.5555555555555556, \"#d8576b\"], [0.6666666666666666, \"#ed7953\"], [0.7777777777777778, \"#fb9f3a\"], [0.8888888888888888, \"#fdca26\"], [1.0, \"#f0f921\"]], \"type\": \"histogram2dcontour\"}], \"mesh3d\": [{\"colorbar\": {\"outlinewidth\": 0, \"ticks\": \"\"}, \"type\": \"mesh3d\"}], \"parcoords\": [{\"line\": {\"colorbar\": {\"outlinewidth\": 0, \"ticks\": \"\"}}, \"type\": \"parcoords\"}], \"pie\": [{\"automargin\": true, \"type\": \"pie\"}], \"scatter\": [{\"marker\": {\"colorbar\": {\"outlinewidth\": 0, \"ticks\": \"\"}}, \"type\": \"scatter\"}], \"scatter3d\": [{\"line\": {\"colorbar\": {\"outlinewidth\": 0, \"ticks\": \"\"}}, \"marker\": {\"colorbar\": {\"outlinewidth\": 0, \"ticks\": \"\"}}, \"type\": \"scatter3d\"}], \"scattercarpet\": [{\"marker\": {\"colorbar\": {\"outlinewidth\": 0, \"ticks\": \"\"}}, \"type\": \"scattercarpet\"}], \"scattergeo\": [{\"marker\": {\"colorbar\": {\"outlinewidth\": 0, \"ticks\": \"\"}}, \"type\": \"scattergeo\"}], \"scattergl\": [{\"marker\": {\"colorbar\": {\"outlinewidth\": 0, \"ticks\": \"\"}}, \"type\": \"scattergl\"}], \"scattermapbox\": [{\"marker\": {\"colorbar\": {\"outlinewidth\": 0, \"ticks\": \"\"}}, \"type\": \"scattermapbox\"}], \"scatterpolar\": [{\"marker\": {\"colorbar\": {\"outlinewidth\": 0, \"ticks\": \"\"}}, \"type\": \"scatterpolar\"}], \"scatterpolargl\": [{\"marker\": {\"colorbar\": {\"outlinewidth\": 0, \"ticks\": \"\"}}, \"type\": \"scatterpolargl\"}], \"scatterternary\": [{\"marker\": {\"colorbar\": {\"outlinewidth\": 0, \"ticks\": \"\"}}, \"type\": \"scatterternary\"}], \"surface\": [{\"colorbar\": {\"outlinewidth\": 0, \"ticks\": \"\"}, \"colorscale\": [[0.0, \"#0d0887\"], [0.1111111111111111, \"#46039f\"], [0.2222222222222222, \"#7201a8\"], [0.3333333333333333, \"#9c179e\"], [0.4444444444444444, \"#bd3786\"], [0.5555555555555556, \"#d8576b\"], [0.6666666666666666, \"#ed7953\"], [0.7777777777777778, \"#fb9f3a\"], [0.8888888888888888, \"#fdca26\"], [1.0, \"#f0f921\"]], \"type\": \"surface\"}], \"table\": [{\"cells\": {\"fill\": {\"color\": \"#EBF0F8\"}, \"line\": {\"color\": \"white\"}}, \"header\": {\"fill\": {\"color\": \"#C8D4E3\"}, \"line\": {\"color\": \"white\"}}, \"type\": \"table\"}]}, \"layout\": {\"annotationdefaults\": {\"arrowcolor\": \"#2a3f5f\", \"arrowhead\": 0, \"arrowwidth\": 1}, \"coloraxis\": {\"colorbar\": {\"outlinewidth\": 0, \"ticks\": \"\"}}, \"colorscale\": {\"diverging\": [[0, \"#8e0152\"], [0.1, \"#c51b7d\"], [0.2, \"#de77ae\"], [0.3, \"#f1b6da\"], [0.4, \"#fde0ef\"], [0.5, \"#f7f7f7\"], [0.6, \"#e6f5d0\"], [0.7, \"#b8e186\"], [0.8, \"#7fbc41\"], [0.9, \"#4d9221\"], [1, \"#276419\"]], \"sequential\": [[0.0, \"#0d0887\"], [0.1111111111111111, \"#46039f\"], [0.2222222222222222, \"#7201a8\"], [0.3333333333333333, \"#9c179e\"], [0.4444444444444444, \"#bd3786\"], [0.5555555555555556, \"#d8576b\"], [0.6666666666666666, \"#ed7953\"], [0.7777777777777778, \"#fb9f3a\"], [0.8888888888888888, \"#fdca26\"], [1.0, \"#f0f921\"]], \"sequentialminus\": [[0.0, \"#0d0887\"], [0.1111111111111111, \"#46039f\"], [0.2222222222222222, \"#7201a8\"], [0.3333333333333333, \"#9c179e\"], [0.4444444444444444, \"#bd3786\"], [0.5555555555555556, \"#d8576b\"], [0.6666666666666666, \"#ed7953\"], [0.7777777777777778, \"#fb9f3a\"], [0.8888888888888888, \"#fdca26\"], [1.0, \"#f0f921\"]]}, \"colorway\": [\"#636efa\", \"#EF553B\", \"#00cc96\", \"#ab63fa\", \"#FFA15A\", \"#19d3f3\", \"#FF6692\", \"#B6E880\", \"#FF97FF\", \"#FECB52\"], \"font\": {\"color\": \"#2a3f5f\"}, \"geo\": {\"bgcolor\": \"white\", \"lakecolor\": \"white\", \"landcolor\": \"#E5ECF6\", \"showlakes\": true, \"showland\": true, \"subunitcolor\": \"white\"}, \"hoverlabel\": {\"align\": \"left\"}, \"hovermode\": \"closest\", \"mapbox\": {\"style\": \"light\"}, \"paper_bgcolor\": \"white\", \"plot_bgcolor\": \"#E5ECF6\", \"polar\": {\"angularaxis\": {\"gridcolor\": \"white\", \"linecolor\": \"white\", \"ticks\": \"\"}, \"bgcolor\": \"#E5ECF6\", \"radialaxis\": {\"gridcolor\": \"white\", \"linecolor\": \"white\", \"ticks\": \"\"}}, \"scene\": {\"xaxis\": {\"backgroundcolor\": \"#E5ECF6\", \"gridcolor\": \"white\", \"gridwidth\": 2, \"linecolor\": \"white\", \"showbackground\": true, \"ticks\": \"\", \"zerolinecolor\": \"white\"}, \"yaxis\": {\"backgroundcolor\": \"#E5ECF6\", \"gridcolor\": \"white\", \"gridwidth\": 2, \"linecolor\": \"white\", \"showbackground\": true, \"ticks\": \"\", \"zerolinecolor\": \"white\"}, \"zaxis\": {\"backgroundcolor\": \"#E5ECF6\", \"gridcolor\": \"white\", \"gridwidth\": 2, \"linecolor\": \"white\", \"showbackground\": true, \"ticks\": \"\", \"zerolinecolor\": \"white\"}}, \"shapedefaults\": {\"line\": {\"color\": \"#2a3f5f\"}}, \"ternary\": {\"aaxis\": {\"gridcolor\": \"white\", \"linecolor\": \"white\", \"ticks\": \"\"}, \"baxis\": {\"gridcolor\": \"white\", \"linecolor\": \"white\", \"ticks\": \"\"}, \"bgcolor\": \"#E5ECF6\", \"caxis\": {\"gridcolor\": \"white\", \"linecolor\": \"white\", \"ticks\": \"\"}}, \"title\": {\"x\": 0.05}, \"xaxis\": {\"automargin\": true, \"gridcolor\": \"white\", \"linecolor\": \"white\", \"ticks\": \"\", \"title\": {\"standoff\": 15}, \"zerolinecolor\": \"white\", \"zerolinewidth\": 2}, \"yaxis\": {\"automargin\": true, \"gridcolor\": \"white\", \"linecolor\": \"white\", \"ticks\": \"\", \"title\": {\"standoff\": 15}, \"zerolinecolor\": \"white\", \"zerolinewidth\": 2}}}, \"title\": {\"text\": \"Adatok\"}, \"width\": 1200, \"xaxis\": {\"anchor\": \"y\", \"domain\": [0.0, 1.0]}, \"yaxis\": {\"anchor\": \"x\", \"domain\": [0.0, 1.0]}},\n",
              "                        {\"responsive\": true}\n",
              "                    ).then(function(){\n",
              "                            \n",
              "var gd = document.getElementById('d3300d0e-9f1e-4082-9743-356becc7688b');\n",
              "var x = new MutationObserver(function (mutations, observer) {{\n",
              "        var display = window.getComputedStyle(gd).display;\n",
              "        if (!display || display === 'none') {{\n",
              "            console.log([gd, 'removed!']);\n",
              "            Plotly.purge(gd);\n",
              "            observer.disconnect();\n",
              "        }}\n",
              "}});\n",
              "\n",
              "// Listen for the removal of the full notebook cells\n",
              "var notebookContainer = gd.closest('#notebook-container');\n",
              "if (notebookContainer) {{\n",
              "    x.observe(notebookContainer, {childList: true});\n",
              "}}\n",
              "\n",
              "// Listen for the clearing of the current output cell\n",
              "var outputEl = gd.closest('.output');\n",
              "if (outputEl) {{\n",
              "    x.observe(outputEl, {childList: true});\n",
              "}}\n",
              "\n",
              "                        })\n",
              "                };\n",
              "                \n",
              "            </script>\n",
              "        </div>\n",
              "</body>\n",
              "</html>"
            ]
          },
          "metadata": {
            "tags": []
          }
        }
      ]
    },
    {
      "cell_type": "code",
      "metadata": {
        "id": "uL5Wr_NkdsN0"
      },
      "source": [
        "def grafikon(fx,ind,desc1,txt1,desc2=\"\",txt2=\"\",desc3=\"\",txt3=\"\",ngraf=2,c1='rgba(35,128,132,0.8)', c2='rgba(193,99,99,0.8)',c3='rgba(193,99,0,0.8)',title=None):\n",
        "    '''\n",
        "    fx: dataFrame\n",
        "    ind: index\n",
        "    desc1:column1\n",
        "    txt1: label1\n",
        "    desc2:column2\n",
        "    txt2: label2\n",
        "    ngraf: number of graph\n",
        "    c1: color1\n",
        "    c2: color2\n",
        "    title: graph title\n",
        "    '''\n",
        "    \n",
        "    #x_=[i for i in range(len(y_pred))]\n",
        "    if title==None:\n",
        "      title=txt1+txt2\n",
        "    import plotly.express as px\n",
        "    import plotly.graph_objects as go\n",
        "    from plotly.subplots import make_subplots\n",
        "    fig0 = make_subplots(rows=1, cols=1)\n",
        "    \n",
        "    if True:\n",
        "        fig0.add_trace(\n",
        "            go.Scatter(x=fx[ind], y=fx[desc1], name=txt1, line=dict(color=c1) ,showlegend=True  ),\n",
        "\n",
        "            row=1, col=1\n",
        "\n",
        "        )\n",
        "    \n",
        "    if ngraf>1:\n",
        "        fig0.add_trace(\n",
        "            go.Scatter(x=fx[ind], y=fx[desc2], name=txt2, line=dict(color=c2) ,showlegend=True  ),\n",
        "\n",
        "            row=1, col=1\n",
        "        )\n",
        "    if ngraf>2:\n",
        "        fig0.add_trace(\n",
        "            go.Scatter(x=fx[ind], y=fx[desc3], name=txt3, line=dict(color=c3) ,showlegend=True  ),\n",
        "\n",
        "            row=1, col=1\n",
        "        )\n",
        "\n",
        "\n",
        "\n",
        "    fig0.update_layout(\n",
        "        title=title,\n",
        "        autosize=False,\n",
        "        width=1200,\n",
        "        height=600,\n",
        "        \n",
        "        )\n",
        "\n",
        "    fig0.show()"
      ],
      "execution_count": 22,
      "outputs": []
    },
    {
      "cell_type": "code",
      "metadata": {
        "id": "dgCWNnfBe07N",
        "colab": {
          "base_uri": "https://localhost:8080/",
          "height": 617
        },
        "outputId": "7ffd844c-a483-4773-ecb7-e813f0cc071c"
      },
      "source": [
        "grafikon(X_train_sj,\"week_start_date\",\"total_cases\",\"total_cases\",\"reanalysis_relative_humidity_percent\",\"reanalysis_relative_humidity_percent\",\"station_avg_temp_c\",\"station_avg_temp_c\",ngraf=3,title=\"Adatok\")"
      ],
      "execution_count": 23,
      "outputs": [
        {
          "output_type": "display_data",
          "data": {
            "text/html": [
              "<html>\n",
              "<head><meta charset=\"utf-8\" /></head>\n",
              "<body>\n",
              "    <div>\n",
              "            <script src=\"https://cdnjs.cloudflare.com/ajax/libs/mathjax/2.7.5/MathJax.js?config=TeX-AMS-MML_SVG\"></script><script type=\"text/javascript\">if (window.MathJax) {MathJax.Hub.Config({SVG: {font: \"STIX-Web\"}});}</script>\n",
              "                <script type=\"text/javascript\">window.PlotlyConfig = {MathJaxConfig: 'local'};</script>\n",
              "        <script src=\"https://cdn.plot.ly/plotly-latest.min.js\"></script>    \n",
              "            <div id=\"69d266fe-66ef-4126-a483-4a3a16c76eb0\" class=\"plotly-graph-div\" style=\"height:600px; width:1200px;\"></div>\n",
              "            <script type=\"text/javascript\">\n",
              "                \n",
              "                    window.PLOTLYENV=window.PLOTLYENV || {};\n",
              "                    \n",
              "                if (document.getElementById(\"69d266fe-66ef-4126-a483-4a3a16c76eb0\")) {\n",
              "                    Plotly.newPlot(\n",
              "                        '69d266fe-66ef-4126-a483-4a3a16c76eb0',\n",
              "                        [{\"line\": {\"color\": \"rgba(35,128,132,0.8)\"}, \"name\": \"total_cases\", \"showlegend\": true, \"type\": \"scatter\", \"x\": [\"1990-04-30\", \"1990-05-07\", \"1990-05-14\", \"1990-05-21\", \"1990-05-28\", \"1990-06-04\", \"1990-06-11\", \"1990-06-18\", \"1990-06-25\", \"1990-07-02\", \"1990-07-09\", \"1990-07-16\", \"1990-07-23\", \"1990-07-30\", \"1990-08-06\", \"1990-08-13\", \"1990-08-20\", \"1990-08-27\", \"1990-09-03\", \"1990-09-10\", \"1990-09-17\", \"1990-09-24\", \"1990-10-01\", \"1990-10-08\", \"1990-10-15\", \"1990-10-22\", \"1990-10-29\", \"1990-11-05\", \"1990-11-12\", \"1990-11-19\", \"1990-11-26\", \"1990-12-03\", \"1990-12-10\", \"1990-12-17\", \"1990-12-24\", \"1991-01-01\", \"1991-01-08\", \"1991-01-15\", \"1991-01-22\", \"1991-01-29\", \"1991-02-05\", \"1991-02-12\", \"1991-02-19\", \"1991-02-26\", \"1991-03-05\", \"1991-03-12\", \"1991-03-19\", \"1991-03-26\", \"1991-04-02\", \"1991-04-09\", \"1991-04-16\", \"1991-04-23\", \"1991-04-30\", \"1991-05-07\", \"1991-05-14\", \"1991-05-21\", \"1991-05-28\", \"1991-06-04\", \"1991-06-11\", \"1991-06-18\", \"1991-06-25\", \"1991-07-02\", \"1991-07-09\", \"1991-07-16\", \"1991-07-23\", \"1991-07-30\", \"1991-08-06\", \"1991-08-13\", \"1991-08-20\", \"1991-08-27\", \"1991-09-03\", \"1991-09-10\", \"1991-09-17\", \"1991-09-24\", \"1991-10-01\", \"1991-10-08\", \"1991-10-15\", \"1991-10-22\", \"1991-10-29\", \"1991-11-05\", \"1991-11-12\", \"1991-11-19\", \"1991-11-26\", \"1991-12-03\", \"1991-12-10\", \"1991-12-17\", \"1991-12-24\", \"1992-01-01\", \"1992-01-08\", \"1992-01-15\", \"1992-01-22\", \"1992-01-29\", \"1992-02-05\", \"1992-02-12\", \"1992-02-19\", \"1992-02-26\", \"1992-03-04\", \"1992-03-11\", \"1992-03-18\", \"1992-03-25\", \"1992-04-01\", \"1992-04-08\", \"1992-04-15\", \"1992-04-22\", \"1992-04-29\", \"1992-05-06\", \"1992-05-13\", \"1992-05-20\", \"1992-05-27\", \"1992-06-03\", \"1992-06-10\", \"1992-06-17\", \"1992-06-24\", \"1992-07-01\", \"1992-07-08\", \"1992-07-15\", \"1992-07-22\", \"1992-07-29\", \"1992-08-05\", \"1992-08-12\", \"1992-08-19\", \"1992-08-26\", \"1992-09-02\", \"1992-09-09\", \"1992-09-16\", \"1992-09-23\", \"1992-09-30\", \"1992-10-07\", \"1992-10-14\", \"1992-10-21\", \"1992-10-28\", \"1992-11-04\", \"1992-11-11\", \"1992-11-18\", \"1992-11-25\", \"1992-12-02\", \"1992-12-09\", \"1992-12-16\", \"1992-12-23\", \"1993-01-01\", \"1993-01-08\", \"1993-01-15\", \"1993-01-22\", \"1993-01-29\", \"1993-02-05\", \"1993-02-12\", \"1993-02-19\", \"1993-02-26\", \"1993-03-05\", \"1993-03-12\", \"1993-03-19\", \"1993-03-26\", \"1993-04-02\", \"1993-04-09\", \"1993-04-16\", \"1993-04-23\", \"1993-04-30\", \"1993-05-07\", \"1993-05-14\", \"1993-05-21\", \"1993-05-28\", \"1993-06-04\", \"1993-06-11\", \"1993-06-18\", \"1993-06-25\", \"1993-07-02\", \"1993-07-09\", \"1993-07-16\", \"1993-07-23\", \"1993-07-30\", \"1993-08-06\", \"1993-08-13\", \"1993-08-20\", \"1993-08-27\", \"1993-09-03\", \"1993-09-10\", \"1993-09-17\", \"1993-09-24\", \"1993-10-01\", \"1993-10-08\", \"1993-10-15\", \"1993-10-22\", \"1993-10-29\", \"1993-11-05\", \"1993-11-12\", \"1993-11-19\", \"1993-11-26\", \"1993-12-03\", \"1993-12-10\", \"1993-12-17\", \"1993-12-24\", \"1994-01-01\", \"1994-01-08\", \"1994-01-15\", \"1994-01-22\", \"1994-01-29\", \"1994-02-05\", \"1994-02-12\", \"1994-02-19\", \"1994-02-26\", \"1994-03-05\", \"1994-03-12\", \"1994-03-19\", \"1994-03-26\", \"1994-04-02\", \"1994-04-09\", \"1994-04-16\", \"1994-04-23\", \"1994-04-30\", \"1994-05-07\", \"1994-05-14\", \"1994-05-21\", \"1994-05-28\", \"1994-06-04\", \"1994-06-11\", \"1994-06-18\", \"1994-06-25\", \"1994-07-02\", \"1994-07-09\", \"1994-07-16\", \"1994-07-23\", \"1994-07-30\", \"1994-08-06\", \"1994-08-13\", \"1994-08-20\", \"1994-08-27\", \"1994-09-03\", \"1994-09-10\", \"1994-09-17\", \"1994-09-24\", \"1994-10-01\", \"1994-10-08\", \"1994-10-15\", \"1994-10-22\", \"1994-10-29\", \"1994-11-05\", \"1994-11-12\", \"1994-11-19\", \"1994-11-26\", \"1994-12-03\", \"1994-12-10\", \"1994-12-17\", \"1994-12-24\", \"1995-01-01\", \"1995-01-08\", \"1995-01-15\", \"1995-01-22\", \"1995-01-29\", \"1995-02-05\", \"1995-02-12\", \"1995-02-19\", \"1995-02-26\", \"1995-03-05\", \"1995-03-12\", \"1995-03-19\", \"1995-03-26\", \"1995-04-02\", \"1995-04-09\", \"1995-04-16\", \"1995-04-23\", \"1995-04-30\", \"1995-05-07\", \"1995-05-14\", \"1995-05-21\", \"1995-05-28\", \"1995-06-04\", \"1995-06-11\", \"1995-06-18\", \"1995-06-25\", \"1995-07-02\", \"1995-07-09\", \"1995-07-16\", \"1995-07-23\", \"1995-07-30\", \"1995-08-06\", \"1995-08-13\", \"1995-08-20\", \"1995-08-27\", \"1995-09-03\", \"1995-09-10\", \"1995-09-17\", \"1995-09-24\", \"1995-10-01\", \"1995-10-08\", \"1995-10-15\", \"1995-10-22\", \"1995-10-29\", \"1995-11-05\", \"1995-11-12\", \"1995-11-19\", \"1995-11-26\", \"1995-12-03\", \"1995-12-10\", \"1995-12-17\", \"1995-12-24\", \"1996-01-01\", \"1996-01-08\", \"1996-01-15\", \"1996-01-22\", \"1996-01-29\", \"1996-02-05\", \"1996-02-12\", \"1996-02-19\", \"1996-02-26\", \"1996-03-04\", \"1996-03-11\", \"1996-03-18\", \"1996-03-25\", \"1996-04-01\", \"1996-04-08\", \"1996-04-15\", \"1996-04-22\", \"1996-04-29\", \"1996-05-06\", \"1996-05-13\", \"1996-05-20\", \"1996-05-27\", \"1996-06-03\", \"1996-06-10\", \"1996-06-17\", \"1996-06-24\", \"1996-07-01\", \"1996-07-08\", \"1996-07-15\", \"1996-07-22\", \"1996-07-29\", \"1996-08-05\", \"1996-08-12\", \"1996-08-19\", \"1996-08-26\", \"1996-09-02\", \"1996-09-09\", \"1996-09-16\", \"1996-09-23\", \"1996-09-30\", \"1996-10-07\", \"1996-10-14\", \"1996-10-21\", \"1996-10-28\", \"1996-11-04\", \"1996-11-11\", \"1996-11-18\", \"1996-11-25\", \"1996-12-02\", \"1996-12-09\", \"1996-12-16\", \"1996-12-23\", \"1997-01-01\", \"1997-01-08\", \"1997-01-15\", \"1997-01-22\", \"1997-01-29\", \"1997-02-05\", \"1997-02-12\", \"1997-02-19\", \"1997-02-26\", \"1997-03-05\", \"1997-03-12\", \"1997-03-19\", \"1997-03-26\", \"1997-04-02\", \"1997-04-09\", \"1997-04-16\", \"1997-04-23\", \"1997-04-30\", \"1997-05-07\", \"1997-05-14\", \"1997-05-21\", \"1997-05-28\", \"1997-06-04\", \"1997-06-11\", \"1997-06-18\", \"1997-06-25\", \"1997-07-02\", \"1997-07-09\", \"1997-07-16\", \"1997-07-23\", \"1997-07-30\", \"1997-08-06\", \"1997-08-13\", \"1997-08-20\", \"1997-08-27\", \"1997-09-03\", \"1997-09-10\", \"1997-09-17\", \"1997-09-24\", \"1997-10-01\", \"1997-10-08\", \"1997-10-15\", \"1997-10-22\", \"1997-10-29\", \"1997-11-05\", \"1997-11-12\", \"1997-11-19\", \"1997-11-26\", \"1997-12-03\", \"1997-12-10\", \"1997-12-17\", \"1997-12-24\", \"1998-01-01\", \"1998-01-08\", \"1998-01-15\", \"1998-01-22\", \"1998-01-29\", \"1998-02-05\", \"1998-02-12\", \"1998-02-19\", \"1998-02-26\", \"1998-03-05\", \"1998-03-12\", \"1998-03-19\", \"1998-03-26\", \"1998-04-02\", \"1998-04-09\", \"1998-04-16\", \"1998-04-23\", \"1998-04-30\", \"1998-05-07\", \"1998-05-14\", \"1998-05-21\", \"1998-05-28\", \"1998-06-04\", \"1998-06-11\", \"1998-06-18\", \"1998-06-25\", \"1998-07-02\", \"1998-07-09\", \"1998-07-16\", \"1998-07-23\", \"1998-07-30\", \"1998-08-06\", \"1998-08-13\", \"1998-08-20\", \"1998-08-27\", \"1998-09-03\", \"1998-09-10\", \"1998-09-17\", \"1998-09-24\", \"1998-10-01\", \"1998-10-08\", \"1998-10-15\", \"1998-10-22\", \"1998-10-29\", \"1998-11-05\", \"1998-11-12\", \"1998-11-19\", \"1998-11-26\", \"1998-12-03\", \"1998-12-10\", \"1998-12-17\", \"1998-12-24\", \"1999-01-01\", \"1999-01-08\", \"1999-01-15\", \"1999-01-22\", \"1999-01-29\", \"1999-02-05\", \"1999-02-12\", \"1999-02-19\", \"1999-02-26\", \"1999-03-05\", \"1999-03-12\", \"1999-03-19\", \"1999-03-26\", \"1999-04-02\", \"1999-04-09\", \"1999-04-16\", \"1999-04-23\", \"1999-04-30\", \"1999-05-07\", \"1999-05-14\", \"1999-05-21\", \"1999-05-28\", \"1999-06-04\", \"1999-06-11\", \"1999-06-18\", \"1999-06-25\", \"1999-07-02\", \"1999-07-09\", \"1999-07-16\", \"1999-07-23\", \"1999-07-30\", \"1999-08-06\", \"1999-08-13\", \"1999-08-20\", \"1999-08-27\", \"1999-09-03\", \"1999-09-10\", \"1999-09-17\", \"1999-09-24\", \"1999-10-01\", \"1999-10-08\", \"1999-10-15\", \"1999-10-22\", \"1999-10-29\", \"1999-11-05\", \"1999-11-12\", \"1999-11-19\", \"1999-11-26\", \"1999-12-03\", \"1999-12-10\", \"1999-12-17\", \"1999-12-24\", \"2000-01-01\", \"2000-01-08\", \"2000-01-15\", \"2000-01-22\", \"2000-01-29\", \"2000-02-05\", \"2000-02-12\", \"2000-02-19\", \"2000-02-26\", \"2000-03-04\", \"2000-03-11\", \"2000-03-18\", \"2000-03-25\", \"2000-04-01\", \"2000-04-08\", \"2000-04-15\", \"2000-04-22\", \"2000-04-29\", \"2000-05-06\", \"2000-05-13\", \"2000-05-20\", \"2000-05-27\", \"2000-06-03\", \"2000-06-10\", \"2000-06-17\", \"2000-06-24\", \"2000-07-01\", \"2000-07-08\", \"2000-07-15\", \"2000-07-22\", \"2000-07-29\", \"2000-08-05\", \"2000-08-12\", \"2000-08-19\", \"2000-08-26\", \"2000-09-02\", \"2000-09-09\", \"2000-09-16\", \"2000-09-23\", \"2000-09-30\", \"2000-10-07\", \"2000-10-14\", \"2000-10-21\", \"2000-10-28\", \"2000-11-04\", \"2000-11-11\", \"2000-11-18\", \"2000-11-25\", \"2000-12-02\", \"2000-12-09\", \"2000-12-16\", \"2000-12-23\", \"2001-01-01\", \"2001-01-08\", \"2001-01-15\", \"2001-01-22\", \"2001-01-29\", \"2001-02-05\", \"2001-02-12\", \"2001-02-19\", \"2001-02-26\", \"2001-03-05\", \"2001-03-12\", \"2001-03-19\", \"2001-03-26\", \"2001-04-02\", \"2001-04-09\", \"2001-04-16\", \"2001-04-23\", \"2001-04-30\", \"2001-05-07\", \"2001-05-14\", \"2001-05-21\", \"2001-05-28\", \"2001-06-04\", \"2001-06-11\", \"2001-06-18\", \"2001-06-25\", \"2001-07-02\", \"2001-07-09\", \"2001-07-16\", \"2001-07-23\", \"2001-07-30\", \"2001-08-06\", \"2001-08-13\", \"2001-08-20\", \"2001-08-27\", \"2001-09-03\", \"2001-09-10\", \"2001-09-17\", \"2001-09-24\", \"2001-10-01\", \"2001-10-08\", \"2001-10-15\", \"2001-10-22\", \"2001-10-29\", \"2001-11-05\", \"2001-11-12\", \"2001-11-19\", \"2001-11-26\", \"2001-12-03\", \"2001-12-10\", \"2001-12-17\", \"2001-12-24\", \"2002-01-01\", \"2002-01-08\", \"2002-01-15\", \"2002-01-22\", \"2002-01-29\", \"2002-02-05\", \"2002-02-12\", \"2002-02-19\", \"2002-02-26\", \"2002-03-05\", \"2002-03-12\", \"2002-03-19\", \"2002-03-26\", \"2002-04-02\", \"2002-04-09\", \"2002-04-16\", \"2002-04-23\", \"2002-04-30\", \"2002-05-07\", \"2002-05-14\", \"2002-05-21\", \"2002-05-28\", \"2002-06-04\", \"2002-06-11\", \"2002-06-18\", \"2002-06-25\", \"2002-07-02\", \"2002-07-09\", \"2002-07-16\", \"2002-07-23\", \"2002-07-30\", \"2002-08-06\", \"2002-08-13\", \"2002-08-20\", \"2002-08-27\", \"2002-09-03\", \"2002-09-10\", \"2002-09-17\", \"2002-09-24\", \"2002-10-01\", \"2002-10-08\", \"2002-10-15\", \"2002-10-22\", \"2002-10-29\", \"2002-11-05\", \"2002-11-12\", \"2002-11-19\", \"2002-11-26\", \"2002-12-03\", \"2002-12-10\", \"2002-12-17\", \"2002-12-24\", \"2003-01-01\", \"2003-01-08\", \"2003-01-15\", \"2003-01-22\", \"2003-01-29\", \"2003-02-05\", \"2003-02-12\", \"2003-02-19\", \"2003-02-26\", \"2003-03-05\", \"2003-03-12\", \"2003-03-19\", \"2003-03-26\", \"2003-04-02\", \"2003-04-09\", \"2003-04-16\", \"2003-04-23\", \"2003-04-30\", \"2003-05-07\", \"2003-05-14\", \"2003-05-21\", \"2003-05-28\", \"2003-06-04\", \"2003-06-11\", \"2003-06-18\", \"2003-06-25\", \"2003-07-02\", \"2003-07-09\", \"2003-07-16\", \"2003-07-23\", \"2003-07-30\", \"2003-08-06\", \"2003-08-13\", \"2003-08-20\", \"2003-08-27\", \"2003-09-03\", \"2003-09-10\", \"2003-09-17\", \"2003-09-24\", \"2003-10-01\", \"2003-10-08\", \"2003-10-15\", \"2003-10-22\", \"2003-10-29\", \"2003-11-05\", \"2003-11-12\", \"2003-11-19\", \"2003-11-26\", \"2003-12-03\", \"2003-12-10\", \"2003-12-17\", \"2003-12-24\", \"2004-01-01\", \"2004-01-08\", \"2004-01-15\", \"2004-01-22\", \"2004-01-29\", \"2004-02-05\", \"2004-02-12\", \"2004-02-19\", \"2004-02-26\", \"2004-03-04\", \"2004-03-11\", \"2004-03-18\", \"2004-03-25\", \"2004-04-01\", \"2004-04-08\", \"2004-04-15\", \"2004-04-22\", \"2004-04-29\", \"2004-05-06\", \"2004-05-13\", \"2004-05-20\", \"2004-05-27\", \"2004-06-03\", \"2004-06-10\", \"2004-06-17\", \"2004-06-24\", \"2004-07-01\", \"2004-07-08\", \"2004-07-15\", \"2004-07-22\", \"2004-07-29\", \"2004-08-05\", \"2004-08-12\", \"2004-08-19\", \"2004-08-26\", \"2004-09-02\", \"2004-09-09\", \"2004-09-16\", \"2004-09-23\", \"2004-09-30\", \"2004-10-07\", \"2004-10-14\", \"2004-10-21\", \"2004-10-28\", \"2004-11-04\", \"2004-11-11\", \"2004-11-18\", \"2004-11-25\", \"2004-12-02\", \"2004-12-09\", \"2004-12-16\", \"2004-12-23\", \"2005-01-01\", \"2005-01-08\", \"2005-01-15\", \"2005-01-22\", \"2005-01-29\", \"2005-02-05\", \"2005-02-12\", \"2005-02-19\", \"2005-02-26\", \"2005-03-05\", \"2005-03-12\", \"2005-03-19\", \"2005-03-26\", \"2005-04-02\", \"2005-04-09\", \"2005-04-16\", \"2005-04-23\", \"2005-04-30\", \"2005-05-07\", \"2005-05-14\", \"2005-05-21\", \"2005-05-28\", \"2005-06-04\", \"2005-06-11\", \"2005-06-18\", \"2005-06-25\", \"2005-07-02\", \"2005-07-09\", \"2005-07-16\", \"2005-07-23\", \"2005-07-30\", \"2005-08-06\", \"2005-08-13\", \"2005-08-20\", \"2005-08-27\", \"2005-09-03\", \"2005-09-10\", \"2005-09-17\", \"2005-09-24\", \"2005-10-01\", \"2005-10-08\", \"2005-10-15\", \"2005-10-22\", \"2005-10-29\", \"2005-11-05\", \"2005-11-12\", \"2005-11-19\", \"2005-11-26\", \"2005-12-03\", \"2005-12-10\", \"2005-12-17\", \"2005-12-24\", \"2006-01-01\", \"2006-01-08\", \"2006-01-15\", \"2006-01-22\", \"2006-01-29\", \"2006-02-05\", \"2006-02-12\", \"2006-02-19\", \"2006-02-26\", \"2006-03-05\", \"2006-03-12\", \"2006-03-19\", \"2006-03-26\", \"2006-04-02\", \"2006-04-09\", \"2006-04-16\", \"2006-04-23\", \"2006-04-30\", \"2006-05-07\", \"2006-05-14\", \"2006-05-21\", \"2006-05-28\", \"2006-06-04\", \"2006-06-11\", \"2006-06-18\", \"2006-06-25\", \"2006-07-02\", \"2006-07-09\", \"2006-07-16\", \"2006-07-23\", \"2006-07-30\", \"2006-08-06\", \"2006-08-13\", \"2006-08-20\", \"2006-08-27\", \"2006-09-03\", \"2006-09-10\", \"2006-09-17\", \"2006-09-24\", \"2006-10-01\", \"2006-10-08\", \"2006-10-15\", \"2006-10-22\", \"2006-10-29\", \"2006-11-05\", \"2006-11-12\", \"2006-11-19\", \"2006-11-26\", \"2006-12-03\", \"2006-12-10\", \"2006-12-17\", \"2006-12-24\", \"2007-01-01\", \"2007-01-08\", \"2007-01-15\", \"2007-01-22\", \"2007-01-29\", \"2007-02-05\", \"2007-02-12\", \"2007-02-19\", \"2007-02-26\", \"2007-03-05\", \"2007-03-12\", \"2007-03-19\", \"2007-03-26\", \"2007-04-02\", \"2007-04-09\", \"2007-04-16\", \"2007-04-23\", \"2007-04-30\", \"2007-05-07\", \"2007-05-14\", \"2007-05-21\", \"2007-05-28\", \"2007-06-04\", \"2007-06-11\", \"2007-06-18\", \"2007-06-25\", \"2007-07-02\", \"2007-07-09\", \"2007-07-16\", \"2007-07-23\", \"2007-07-30\", \"2007-08-06\", \"2007-08-13\", \"2007-08-20\", \"2007-08-27\", \"2007-09-03\", \"2007-09-10\", \"2007-09-17\", \"2007-09-24\", \"2007-10-01\", \"2007-10-08\", \"2007-10-15\", \"2007-10-22\", \"2007-10-29\", \"2007-11-05\", \"2007-11-12\", \"2007-11-19\", \"2007-11-26\", \"2007-12-03\", \"2007-12-10\", \"2007-12-17\", \"2007-12-24\", \"2008-01-01\", \"2008-01-08\", \"2008-01-15\", \"2008-01-22\", \"2008-01-29\", \"2008-02-05\", \"2008-02-12\", \"2008-02-19\", \"2008-02-26\", \"2008-03-04\", \"2008-03-11\", \"2008-03-18\", \"2008-03-25\", \"2008-04-01\", \"2008-04-08\", \"2008-04-15\", \"2008-04-22\"], \"xaxis\": \"x\", \"y\": [4, 5, 4, 3, 6, 2, 4, 5, 10, 6, 8, 2, 6, 17, 23, 13, 21, 28, 24, 20, 40, 27, 42, 33, 43, 37, 57, 71, 44, 56, 53, 52, 47, 26, 27, 21, 21, 26, 34, 37, 17, 19, 25, 18, 21, 17, 17, 16, 16, 15, 23, 16, 17, 12, 17, 10, 15, 19, 21, 14, 18, 13, 14, 18, 23, 25, 62, 60, 76, 66, 64, 68, 89, 92, 140, 116, 142, 129, 140, 140, 127, 129, 169, 141, 108, 78, 70, 81, 104, 90, 85, 55, 53, 65, 33, 38, 59, 40, 37, 29, 30, 30, 28, 23, 24, 29, 26, 23, 20, 19, 20, 26, 29, 31, 28, 26, 32, 35, 33, 30, 52, 59, 67, 65, 74, 70, 61, 53, 76, 61, 57, 44, 34, 47, 60, 60, 53, 36, 31, 30, 32, 28, 33, 33, 35, 22, 13, 13, 21, 17, 11, 8, 8, 6, 6, 7, 12, 17, 10, 10, 18, 19, 12, 22, 12, 21, 18, 16, 16, 22, 17, 25, 23, 12, 25, 28, 27, 18, 23, 23, 29, 38, 36, 43, 46, 31, 25, 40, 31, 38, 30, 22, 31, 26, 35, 36, 39, 25, 31, 37, 33, 25, 24, 18, 23, 13, 18, 14, 17, 22, 13, 24, 31, 34, 31, 31, 38, 49, 42, 49, 55, 80, 84, 72, 89, 115, 179, 202, 272, 302, 395, 426, 461, 381, 333, 353, 410, 364, 359, 288, 221, 149, 112, 154, 91, 72, 56, 46, 37, 26, 17, 17, 20, 11, 7, 16, 14, 16, 5, 2, 6, 5, 4, 3, 4, 16, 8, 7, 10, 14, 7, 9, 11, 23, 17, 19, 24, 17, 28, 40, 33, 31, 33, 29, 30, 36, 48, 40, 28, 36, 19, 34, 23, 17, 17, 23, 14, 20, 13, 23, 20, 16, 16, 23, 14, 15, 4, 5, 5, 11, 11, 7, 4, 6, 5, 2, 4, 2, 4, 6, 6, 4, 6, 11, 16, 9, 12, 13, 27, 21, 19, 17, 24, 27, 30, 29, 25, 35, 33, 30, 29, 31, 29, 22, 27, 24, 26, 29, 22, 33, 24, 30, 20, 17, 24, 28, 18, 13, 9, 14, 11, 11, 19, 10, 8, 8, 9, 3, 7, 14, 4, 9, 14, 7, 9, 3, 3, 14, 12, 10, 21, 26, 47, 42, 31, 34, 33, 52, 56, 70, 112, 70, 47, 48, 49, 66, 56, 61, 67, 64, 68, 49, 50, 56, 75, 63, 62, 41, 50, 34, 31, 38, 30, 32, 26, 30, 36, 35, 46, 48, 44, 51, 59, 71, 102, 128, 127, 150, 191, 256, 329, 263, 220, 204, 181, 99, 54, 80, 102, 127, 73, 68, 64, 55, 67, 84, 85, 67, 73, 89, 68, 59, 56, 77, 75, 47, 50, 42, 28, 37, 37, 27, 12, 15, 22, 8, 15, 17, 10, 9, 11, 20, 13, 11, 16, 11, 7, 17, 14, 13, 15, 30, 25, 40, 44, 25, 21, 48, 56, 60, 45, 55, 32, 46, 61, 42, 37, 43, 34, 40, 25, 16, 17, 17, 16, 23, 18, 18, 9, 7, 7, 4, 3, 2, 8, 3, 1, 1, 2, 3, 3, 2, 0, 0, 2, 2, 0, 6, 3, 6, 2, 3, 2, 4, 5, 2, 9, 2, 4, 8, 6, 3, 11, 14, 15, 20, 9, 20, 28, 38, 30, 30, 23, 16, 22, 28, 14, 17, 20, 17, 10, 13, 20, 9, 18, 9, 8, 19, 11, 4, 6, 6, 8, 13, 8, 8, 5, 16, 12, 11, 18, 10, 22, 14, 16, 18, 27, 38, 35, 41, 51, 65, 55, 54, 62, 64, 56, 65, 71, 75, 71, 72, 47, 27, 35, 25, 19, 37, 38, 34, 26, 19, 18, 22, 16, 18, 6, 12, 6, 6, 3, 7, 6, 1, 3, 2, 2, 1, 10, 3, 3, 1, 1, 2, 6, 3, 3, 5, 4, 7, 6, 5, 7, 6, 4, 4, 7, 9, 5, 5, 10, 6, 13, 6, 5, 5, 9, 3, 6, 11, 7, 7, 15, 9, 6, 6, 6, 7, 10, 8, 7, 12, 3, 2, 7, 5, 5, 7, 7, 7, 7, 10, 13, 10, 14, 11, 20, 25, 17, 18, 25, 21, 31, 32, 26, 35, 28, 37, 41, 34, 30, 39, 39, 39, 34, 30, 37, 29, 26, 15, 22, 15, 20, 14, 10, 21, 14, 14, 9, 11, 5, 6, 7, 11, 4, 3, 2, 6, 10, 7, 5, 3, 12, 13, 10, 13, 13, 8, 21, 18, 8, 7, 20, 14, 14, 7, 14, 10, 13, 27, 13, 18, 16, 16, 20, 17, 4, 15, 8, 6, 12, 15, 11, 10, 15, 17, 7, 7, 8, 9, 12, 12, 5, 4, 11, 4, 5, 7, 1, 1, 4, 2, 6, 3, 4, 10, 12, 21, 26, 21, 30, 45, 56, 75, 83, 82, 126, 119, 137, 131, 112, 82, 73, 43, 55, 55, 53, 46, 43, 29, 22, 26, 13, 17, 8, 13, 10, 17, 19, 9, 9, 9, 3, 7, 7, 0, 2, 3, 3, 1, 3, 3, 3, 7, 3, 5, 11, 5, 5, 6, 6, 4, 4, 8, 14, 12, 16, 10, 16, 18, 15, 23, 17, 33, 15, 13, 11, 14, 17, 19, 20, 12, 21, 7, 19, 10, 13, 10, 8, 21, 11, 9, 14, 14, 15, 18, 16, 12, 20, 8, 3, 13, 4, 1, 10, 8, 13, 10, 21, 18, 21, 34, 25, 34, 33, 40, 42, 36, 72, 75, 76, 92, 71, 112, 106, 101, 170, 135, 106, 68, 48, 48, 26, 33, 29, 17, 12, 13, 17, 15, 14, 15, 10, 9, 2, 6, 8, 5, 1, 2, 3, 4, 3, 1, 3, 5], \"yaxis\": \"y\"}, {\"line\": {\"color\": \"rgba(193,99,99,0.8)\"}, \"name\": \"reanalysis_relative_humidity_percent\", \"showlegend\": true, \"type\": \"scatter\", \"x\": [\"1990-04-30\", \"1990-05-07\", \"1990-05-14\", \"1990-05-21\", \"1990-05-28\", \"1990-06-04\", \"1990-06-11\", \"1990-06-18\", \"1990-06-25\", \"1990-07-02\", \"1990-07-09\", \"1990-07-16\", \"1990-07-23\", \"1990-07-30\", \"1990-08-06\", \"1990-08-13\", \"1990-08-20\", \"1990-08-27\", \"1990-09-03\", \"1990-09-10\", \"1990-09-17\", \"1990-09-24\", \"1990-10-01\", \"1990-10-08\", \"1990-10-15\", \"1990-10-22\", \"1990-10-29\", \"1990-11-05\", \"1990-11-12\", \"1990-11-19\", \"1990-11-26\", \"1990-12-03\", \"1990-12-10\", \"1990-12-17\", \"1990-12-24\", \"1991-01-01\", \"1991-01-08\", \"1991-01-15\", \"1991-01-22\", \"1991-01-29\", \"1991-02-05\", \"1991-02-12\", \"1991-02-19\", \"1991-02-26\", \"1991-03-05\", \"1991-03-12\", \"1991-03-19\", \"1991-03-26\", \"1991-04-02\", \"1991-04-09\", \"1991-04-16\", \"1991-04-23\", \"1991-04-30\", \"1991-05-07\", \"1991-05-14\", \"1991-05-21\", \"1991-05-28\", \"1991-06-04\", \"1991-06-11\", \"1991-06-18\", \"1991-06-25\", \"1991-07-02\", \"1991-07-09\", \"1991-07-16\", \"1991-07-23\", \"1991-07-30\", \"1991-08-06\", \"1991-08-13\", \"1991-08-20\", \"1991-08-27\", \"1991-09-03\", \"1991-09-10\", \"1991-09-17\", \"1991-09-24\", \"1991-10-01\", \"1991-10-08\", \"1991-10-15\", \"1991-10-22\", \"1991-10-29\", \"1991-11-05\", \"1991-11-12\", \"1991-11-19\", \"1991-11-26\", \"1991-12-03\", \"1991-12-10\", \"1991-12-17\", \"1991-12-24\", \"1992-01-01\", \"1992-01-08\", \"1992-01-15\", \"1992-01-22\", \"1992-01-29\", \"1992-02-05\", \"1992-02-12\", \"1992-02-19\", \"1992-02-26\", \"1992-03-04\", \"1992-03-11\", \"1992-03-18\", \"1992-03-25\", \"1992-04-01\", \"1992-04-08\", \"1992-04-15\", \"1992-04-22\", \"1992-04-29\", \"1992-05-06\", \"1992-05-13\", \"1992-05-20\", \"1992-05-27\", \"1992-06-03\", \"1992-06-10\", \"1992-06-17\", \"1992-06-24\", \"1992-07-01\", \"1992-07-08\", \"1992-07-15\", \"1992-07-22\", \"1992-07-29\", \"1992-08-05\", \"1992-08-12\", \"1992-08-19\", \"1992-08-26\", \"1992-09-02\", \"1992-09-09\", \"1992-09-16\", \"1992-09-23\", \"1992-09-30\", \"1992-10-07\", \"1992-10-14\", \"1992-10-21\", \"1992-10-28\", \"1992-11-04\", \"1992-11-11\", \"1992-11-18\", \"1992-11-25\", \"1992-12-02\", \"1992-12-09\", \"1992-12-16\", \"1992-12-23\", \"1993-01-01\", \"1993-01-08\", \"1993-01-15\", \"1993-01-22\", \"1993-01-29\", \"1993-02-05\", \"1993-02-12\", \"1993-02-19\", \"1993-02-26\", \"1993-03-05\", \"1993-03-12\", \"1993-03-19\", \"1993-03-26\", \"1993-04-02\", \"1993-04-09\", \"1993-04-16\", \"1993-04-23\", \"1993-04-30\", \"1993-05-07\", \"1993-05-14\", \"1993-05-21\", \"1993-05-28\", \"1993-06-04\", \"1993-06-11\", \"1993-06-18\", \"1993-06-25\", \"1993-07-02\", \"1993-07-09\", \"1993-07-16\", \"1993-07-23\", \"1993-07-30\", \"1993-08-06\", \"1993-08-13\", \"1993-08-20\", \"1993-08-27\", \"1993-09-03\", \"1993-09-10\", \"1993-09-17\", \"1993-09-24\", \"1993-10-01\", \"1993-10-08\", \"1993-10-15\", \"1993-10-22\", \"1993-10-29\", \"1993-11-05\", \"1993-11-12\", \"1993-11-19\", \"1993-11-26\", \"1993-12-03\", \"1993-12-10\", \"1993-12-17\", \"1993-12-24\", \"1994-01-01\", \"1994-01-08\", \"1994-01-15\", \"1994-01-22\", \"1994-01-29\", \"1994-02-05\", \"1994-02-12\", \"1994-02-19\", \"1994-02-26\", \"1994-03-05\", \"1994-03-12\", \"1994-03-19\", \"1994-03-26\", \"1994-04-02\", \"1994-04-09\", \"1994-04-16\", \"1994-04-23\", \"1994-04-30\", \"1994-05-07\", \"1994-05-14\", \"1994-05-21\", \"1994-05-28\", \"1994-06-04\", \"1994-06-11\", \"1994-06-18\", \"1994-06-25\", \"1994-07-02\", \"1994-07-09\", \"1994-07-16\", \"1994-07-23\", \"1994-07-30\", \"1994-08-06\", \"1994-08-13\", \"1994-08-20\", \"1994-08-27\", \"1994-09-03\", \"1994-09-10\", \"1994-09-17\", \"1994-09-24\", \"1994-10-01\", \"1994-10-08\", \"1994-10-15\", \"1994-10-22\", \"1994-10-29\", \"1994-11-05\", \"1994-11-12\", \"1994-11-19\", \"1994-11-26\", \"1994-12-03\", \"1994-12-10\", \"1994-12-17\", \"1994-12-24\", \"1995-01-01\", \"1995-01-08\", \"1995-01-15\", \"1995-01-22\", \"1995-01-29\", \"1995-02-05\", \"1995-02-12\", \"1995-02-19\", \"1995-02-26\", \"1995-03-05\", \"1995-03-12\", \"1995-03-19\", \"1995-03-26\", \"1995-04-02\", \"1995-04-09\", \"1995-04-16\", \"1995-04-23\", \"1995-04-30\", \"1995-05-07\", \"1995-05-14\", \"1995-05-21\", \"1995-05-28\", \"1995-06-04\", \"1995-06-11\", \"1995-06-18\", \"1995-06-25\", \"1995-07-02\", \"1995-07-09\", \"1995-07-16\", \"1995-07-23\", \"1995-07-30\", \"1995-08-06\", \"1995-08-13\", \"1995-08-20\", \"1995-08-27\", \"1995-09-03\", \"1995-09-10\", \"1995-09-17\", \"1995-09-24\", \"1995-10-01\", \"1995-10-08\", \"1995-10-15\", \"1995-10-22\", \"1995-10-29\", \"1995-11-05\", \"1995-11-12\", \"1995-11-19\", \"1995-11-26\", \"1995-12-03\", \"1995-12-10\", \"1995-12-17\", \"1995-12-24\", \"1996-01-01\", \"1996-01-08\", \"1996-01-15\", \"1996-01-22\", \"1996-01-29\", \"1996-02-05\", \"1996-02-12\", \"1996-02-19\", \"1996-02-26\", \"1996-03-04\", \"1996-03-11\", \"1996-03-18\", \"1996-03-25\", \"1996-04-01\", \"1996-04-08\", \"1996-04-15\", \"1996-04-22\", \"1996-04-29\", \"1996-05-06\", \"1996-05-13\", \"1996-05-20\", \"1996-05-27\", \"1996-06-03\", \"1996-06-10\", \"1996-06-17\", \"1996-06-24\", \"1996-07-01\", \"1996-07-08\", \"1996-07-15\", \"1996-07-22\", \"1996-07-29\", \"1996-08-05\", \"1996-08-12\", \"1996-08-19\", \"1996-08-26\", \"1996-09-02\", \"1996-09-09\", \"1996-09-16\", \"1996-09-23\", \"1996-09-30\", \"1996-10-07\", \"1996-10-14\", \"1996-10-21\", \"1996-10-28\", \"1996-11-04\", \"1996-11-11\", \"1996-11-18\", \"1996-11-25\", \"1996-12-02\", \"1996-12-09\", \"1996-12-16\", \"1996-12-23\", \"1997-01-01\", \"1997-01-08\", \"1997-01-15\", \"1997-01-22\", \"1997-01-29\", \"1997-02-05\", \"1997-02-12\", \"1997-02-19\", \"1997-02-26\", \"1997-03-05\", \"1997-03-12\", \"1997-03-19\", \"1997-03-26\", \"1997-04-02\", \"1997-04-09\", \"1997-04-16\", \"1997-04-23\", \"1997-04-30\", \"1997-05-07\", \"1997-05-14\", \"1997-05-21\", \"1997-05-28\", \"1997-06-04\", \"1997-06-11\", \"1997-06-18\", \"1997-06-25\", \"1997-07-02\", \"1997-07-09\", \"1997-07-16\", \"1997-07-23\", \"1997-07-30\", \"1997-08-06\", \"1997-08-13\", \"1997-08-20\", \"1997-08-27\", \"1997-09-03\", \"1997-09-10\", \"1997-09-17\", \"1997-09-24\", \"1997-10-01\", \"1997-10-08\", \"1997-10-15\", \"1997-10-22\", \"1997-10-29\", \"1997-11-05\", \"1997-11-12\", \"1997-11-19\", \"1997-11-26\", \"1997-12-03\", \"1997-12-10\", \"1997-12-17\", \"1997-12-24\", \"1998-01-01\", \"1998-01-08\", \"1998-01-15\", \"1998-01-22\", \"1998-01-29\", \"1998-02-05\", \"1998-02-12\", \"1998-02-19\", \"1998-02-26\", \"1998-03-05\", \"1998-03-12\", \"1998-03-19\", \"1998-03-26\", \"1998-04-02\", \"1998-04-09\", \"1998-04-16\", \"1998-04-23\", \"1998-04-30\", \"1998-05-07\", \"1998-05-14\", \"1998-05-21\", \"1998-05-28\", \"1998-06-04\", \"1998-06-11\", \"1998-06-18\", \"1998-06-25\", \"1998-07-02\", \"1998-07-09\", \"1998-07-16\", \"1998-07-23\", \"1998-07-30\", \"1998-08-06\", \"1998-08-13\", \"1998-08-20\", \"1998-08-27\", \"1998-09-03\", \"1998-09-10\", \"1998-09-17\", \"1998-09-24\", \"1998-10-01\", \"1998-10-08\", \"1998-10-15\", \"1998-10-22\", \"1998-10-29\", \"1998-11-05\", \"1998-11-12\", \"1998-11-19\", \"1998-11-26\", \"1998-12-03\", \"1998-12-10\", \"1998-12-17\", \"1998-12-24\", \"1999-01-01\", \"1999-01-08\", \"1999-01-15\", \"1999-01-22\", \"1999-01-29\", \"1999-02-05\", \"1999-02-12\", \"1999-02-19\", \"1999-02-26\", \"1999-03-05\", \"1999-03-12\", \"1999-03-19\", \"1999-03-26\", \"1999-04-02\", \"1999-04-09\", \"1999-04-16\", \"1999-04-23\", \"1999-04-30\", \"1999-05-07\", \"1999-05-14\", \"1999-05-21\", \"1999-05-28\", \"1999-06-04\", \"1999-06-11\", \"1999-06-18\", \"1999-06-25\", \"1999-07-02\", \"1999-07-09\", \"1999-07-16\", \"1999-07-23\", \"1999-07-30\", \"1999-08-06\", \"1999-08-13\", \"1999-08-20\", \"1999-08-27\", \"1999-09-03\", \"1999-09-10\", \"1999-09-17\", \"1999-09-24\", \"1999-10-01\", \"1999-10-08\", \"1999-10-15\", \"1999-10-22\", \"1999-10-29\", \"1999-11-05\", \"1999-11-12\", \"1999-11-19\", \"1999-11-26\", \"1999-12-03\", \"1999-12-10\", \"1999-12-17\", \"1999-12-24\", \"2000-01-01\", \"2000-01-08\", \"2000-01-15\", \"2000-01-22\", \"2000-01-29\", \"2000-02-05\", \"2000-02-12\", \"2000-02-19\", \"2000-02-26\", \"2000-03-04\", \"2000-03-11\", \"2000-03-18\", \"2000-03-25\", \"2000-04-01\", \"2000-04-08\", \"2000-04-15\", \"2000-04-22\", \"2000-04-29\", \"2000-05-06\", \"2000-05-13\", \"2000-05-20\", \"2000-05-27\", \"2000-06-03\", \"2000-06-10\", \"2000-06-17\", \"2000-06-24\", \"2000-07-01\", \"2000-07-08\", \"2000-07-15\", \"2000-07-22\", \"2000-07-29\", \"2000-08-05\", \"2000-08-12\", \"2000-08-19\", \"2000-08-26\", \"2000-09-02\", \"2000-09-09\", \"2000-09-16\", \"2000-09-23\", \"2000-09-30\", \"2000-10-07\", \"2000-10-14\", \"2000-10-21\", \"2000-10-28\", \"2000-11-04\", \"2000-11-11\", \"2000-11-18\", \"2000-11-25\", \"2000-12-02\", \"2000-12-09\", \"2000-12-16\", \"2000-12-23\", \"2001-01-01\", \"2001-01-08\", \"2001-01-15\", \"2001-01-22\", \"2001-01-29\", \"2001-02-05\", \"2001-02-12\", \"2001-02-19\", \"2001-02-26\", \"2001-03-05\", \"2001-03-12\", \"2001-03-19\", \"2001-03-26\", \"2001-04-02\", \"2001-04-09\", \"2001-04-16\", \"2001-04-23\", \"2001-04-30\", \"2001-05-07\", \"2001-05-14\", \"2001-05-21\", \"2001-05-28\", \"2001-06-04\", \"2001-06-11\", \"2001-06-18\", \"2001-06-25\", \"2001-07-02\", \"2001-07-09\", \"2001-07-16\", \"2001-07-23\", \"2001-07-30\", \"2001-08-06\", \"2001-08-13\", \"2001-08-20\", \"2001-08-27\", \"2001-09-03\", \"2001-09-10\", \"2001-09-17\", \"2001-09-24\", \"2001-10-01\", \"2001-10-08\", \"2001-10-15\", \"2001-10-22\", \"2001-10-29\", \"2001-11-05\", \"2001-11-12\", \"2001-11-19\", \"2001-11-26\", \"2001-12-03\", \"2001-12-10\", \"2001-12-17\", \"2001-12-24\", \"2002-01-01\", \"2002-01-08\", \"2002-01-15\", \"2002-01-22\", \"2002-01-29\", \"2002-02-05\", \"2002-02-12\", \"2002-02-19\", \"2002-02-26\", \"2002-03-05\", \"2002-03-12\", \"2002-03-19\", \"2002-03-26\", \"2002-04-02\", \"2002-04-09\", \"2002-04-16\", \"2002-04-23\", \"2002-04-30\", \"2002-05-07\", \"2002-05-14\", \"2002-05-21\", \"2002-05-28\", \"2002-06-04\", \"2002-06-11\", \"2002-06-18\", \"2002-06-25\", \"2002-07-02\", \"2002-07-09\", \"2002-07-16\", \"2002-07-23\", \"2002-07-30\", \"2002-08-06\", \"2002-08-13\", \"2002-08-20\", \"2002-08-27\", \"2002-09-03\", \"2002-09-10\", \"2002-09-17\", \"2002-09-24\", \"2002-10-01\", \"2002-10-08\", \"2002-10-15\", \"2002-10-22\", \"2002-10-29\", \"2002-11-05\", \"2002-11-12\", \"2002-11-19\", \"2002-11-26\", \"2002-12-03\", \"2002-12-10\", \"2002-12-17\", \"2002-12-24\", \"2003-01-01\", \"2003-01-08\", \"2003-01-15\", \"2003-01-22\", \"2003-01-29\", \"2003-02-05\", \"2003-02-12\", \"2003-02-19\", \"2003-02-26\", \"2003-03-05\", \"2003-03-12\", \"2003-03-19\", \"2003-03-26\", \"2003-04-02\", \"2003-04-09\", \"2003-04-16\", \"2003-04-23\", \"2003-04-30\", \"2003-05-07\", \"2003-05-14\", \"2003-05-21\", \"2003-05-28\", \"2003-06-04\", \"2003-06-11\", \"2003-06-18\", \"2003-06-25\", \"2003-07-02\", \"2003-07-09\", \"2003-07-16\", \"2003-07-23\", \"2003-07-30\", \"2003-08-06\", \"2003-08-13\", \"2003-08-20\", \"2003-08-27\", \"2003-09-03\", \"2003-09-10\", \"2003-09-17\", \"2003-09-24\", \"2003-10-01\", \"2003-10-08\", \"2003-10-15\", \"2003-10-22\", \"2003-10-29\", \"2003-11-05\", \"2003-11-12\", \"2003-11-19\", \"2003-11-26\", \"2003-12-03\", \"2003-12-10\", \"2003-12-17\", \"2003-12-24\", \"2004-01-01\", \"2004-01-08\", \"2004-01-15\", \"2004-01-22\", \"2004-01-29\", \"2004-02-05\", \"2004-02-12\", \"2004-02-19\", \"2004-02-26\", \"2004-03-04\", \"2004-03-11\", \"2004-03-18\", \"2004-03-25\", \"2004-04-01\", \"2004-04-08\", \"2004-04-15\", \"2004-04-22\", \"2004-04-29\", \"2004-05-06\", \"2004-05-13\", \"2004-05-20\", \"2004-05-27\", \"2004-06-03\", \"2004-06-10\", \"2004-06-17\", \"2004-06-24\", \"2004-07-01\", \"2004-07-08\", \"2004-07-15\", \"2004-07-22\", \"2004-07-29\", \"2004-08-05\", \"2004-08-12\", \"2004-08-19\", \"2004-08-26\", \"2004-09-02\", \"2004-09-09\", \"2004-09-16\", \"2004-09-23\", \"2004-09-30\", \"2004-10-07\", \"2004-10-14\", \"2004-10-21\", \"2004-10-28\", \"2004-11-04\", \"2004-11-11\", \"2004-11-18\", \"2004-11-25\", \"2004-12-02\", \"2004-12-09\", \"2004-12-16\", \"2004-12-23\", \"2005-01-01\", \"2005-01-08\", \"2005-01-15\", \"2005-01-22\", \"2005-01-29\", \"2005-02-05\", \"2005-02-12\", \"2005-02-19\", \"2005-02-26\", \"2005-03-05\", \"2005-03-12\", \"2005-03-19\", \"2005-03-26\", \"2005-04-02\", \"2005-04-09\", \"2005-04-16\", \"2005-04-23\", \"2005-04-30\", \"2005-05-07\", \"2005-05-14\", \"2005-05-21\", \"2005-05-28\", \"2005-06-04\", \"2005-06-11\", \"2005-06-18\", \"2005-06-25\", \"2005-07-02\", \"2005-07-09\", \"2005-07-16\", \"2005-07-23\", \"2005-07-30\", \"2005-08-06\", \"2005-08-13\", \"2005-08-20\", \"2005-08-27\", \"2005-09-03\", \"2005-09-10\", \"2005-09-17\", \"2005-09-24\", \"2005-10-01\", \"2005-10-08\", \"2005-10-15\", \"2005-10-22\", \"2005-10-29\", \"2005-11-05\", \"2005-11-12\", \"2005-11-19\", \"2005-11-26\", \"2005-12-03\", \"2005-12-10\", \"2005-12-17\", \"2005-12-24\", \"2006-01-01\", \"2006-01-08\", \"2006-01-15\", \"2006-01-22\", \"2006-01-29\", \"2006-02-05\", \"2006-02-12\", \"2006-02-19\", \"2006-02-26\", \"2006-03-05\", \"2006-03-12\", \"2006-03-19\", \"2006-03-26\", \"2006-04-02\", \"2006-04-09\", \"2006-04-16\", \"2006-04-23\", \"2006-04-30\", \"2006-05-07\", \"2006-05-14\", \"2006-05-21\", \"2006-05-28\", \"2006-06-04\", \"2006-06-11\", \"2006-06-18\", \"2006-06-25\", \"2006-07-02\", \"2006-07-09\", \"2006-07-16\", \"2006-07-23\", \"2006-07-30\", \"2006-08-06\", \"2006-08-13\", \"2006-08-20\", \"2006-08-27\", \"2006-09-03\", \"2006-09-10\", \"2006-09-17\", \"2006-09-24\", \"2006-10-01\", \"2006-10-08\", \"2006-10-15\", \"2006-10-22\", \"2006-10-29\", \"2006-11-05\", \"2006-11-12\", \"2006-11-19\", \"2006-11-26\", \"2006-12-03\", \"2006-12-10\", \"2006-12-17\", \"2006-12-24\", \"2007-01-01\", \"2007-01-08\", \"2007-01-15\", \"2007-01-22\", \"2007-01-29\", \"2007-02-05\", \"2007-02-12\", \"2007-02-19\", \"2007-02-26\", \"2007-03-05\", \"2007-03-12\", \"2007-03-19\", \"2007-03-26\", \"2007-04-02\", \"2007-04-09\", \"2007-04-16\", \"2007-04-23\", \"2007-04-30\", \"2007-05-07\", \"2007-05-14\", \"2007-05-21\", \"2007-05-28\", \"2007-06-04\", \"2007-06-11\", \"2007-06-18\", \"2007-06-25\", \"2007-07-02\", \"2007-07-09\", \"2007-07-16\", \"2007-07-23\", \"2007-07-30\", \"2007-08-06\", \"2007-08-13\", \"2007-08-20\", \"2007-08-27\", \"2007-09-03\", \"2007-09-10\", \"2007-09-17\", \"2007-09-24\", \"2007-10-01\", \"2007-10-08\", \"2007-10-15\", \"2007-10-22\", \"2007-10-29\", \"2007-11-05\", \"2007-11-12\", \"2007-11-19\", \"2007-11-26\", \"2007-12-03\", \"2007-12-10\", \"2007-12-17\", \"2007-12-24\", \"2008-01-01\", \"2008-01-08\", \"2008-01-15\", \"2008-01-22\", \"2008-01-29\", \"2008-02-05\", \"2008-02-12\", \"2008-02-19\", \"2008-02-26\", \"2008-03-04\", \"2008-03-11\", \"2008-03-18\", \"2008-03-25\", \"2008-04-01\", \"2008-04-08\", \"2008-04-15\", \"2008-04-22\"], \"xaxis\": \"x\", \"y\": [73.3657142857, 77.36857142859999, 82.0528571429, 80.3371428571, 80.46, 79.8914285714, 82.0, 83.3757142857, 82.7685714286, 81.2814285714, 81.4671428571, 82.1442857143, 80.7428571429, 80.58428571430001, 79.65, 84.1785714286, 80.9471428571, 83.3485714286, 77.1728571429, 81.55142857140001, 81.6371428571, 77.0485714286, 78.52, 84.11, 85.6214285714, 85.5028571429, 82.7871428571, 81.7157142857, 75.72857142859999, 78.1514285714, 81.38571428569999, 79.9085714286, 68.7228571429, 80.0828571429, 69.6814285714, 72.9385714286, 76.6285714286, 78.5, 71.5971428571, 71.7842857143, 75.7942857143, 78.8957142857, 79.74, 77.9771428571, 77.3157142857, 78.1385714286, 77.8828571429, 80.0014285714, 75.6628571429, 79.6285714286, 73.3514285714, 78.4471428571, 79.36, 79.5414285714, 80.0671428571, 81.30142857140001, 81.08857142859999, 76.0742857143, 77.0357142857, 81.4214285714, 82.7457142857, 81.69428571430001, 77.8771428571, 78.24142857140001, 81.4828571429, 81.8971428571, 81.96, 79.1971428571, 80.2557142857, 81.5942857143, 82.31, 78.6271428571, 80.8771428571, 81.4242857143, 82.4857142857, 80.5157142857, 79.3828571429, 76.7771428571, 78.9871428571, 81.05857142859999, 83.5142857143, 75.5485714286, 81.4857142857, 80.27571428569999, 78.6214285714, 72.8614285714, 76.1271428571, null, 81.3, 84.1171428571, 78.2914285714, 75.22, 77.05857142859999, 82.8757142857, 77.2957142857, 76.0371428571, 76.8785714286, 78.0571428571, 77.5057142857, 80.2385714286, 78.0671428571, 76.3757142857, 84.1842857143, 78.4257142857, 74.9328571429, 78.48, 78.38142857140001, 85.6471428571, 87.3014285714, 85.8271428571, 84.87, 84.2485714286, 82.7771428571, 79.33428571430001, 78.4971428571, 80.15, 81.9842857143, 82.3457142857, 80.7842857143, 82.75, 82.3171428571, 78.86428571430001, 79.2042857143, 79.93, 79.52571428569999, 83.7, 81.2971428571, 79.7371428571, 77.83428571430001, 77.8757142857, 78.91, 81.0528571429, 79.0128571429, 80.2557142857, 85.5871428571, 82.6485714286, 78.3114285714, 76.66142857140001, 76.7571428571, null, 81.8785714286, 77.1442857143, 76.9842857143, 77.8628571429, 80.61, 79.8257142857, 76.5328571429, 76.2171428571, 73.2257142857, 70.6457142857, 77.7842857143, 76.8485714286, 80.7957142857, 78.5642857143, 78.9614285714, 81.27142857140001, 81.6557142857, 84.0814285714, 84.52142857140001, 82.4357142857, 85.3985714286, 86.9, 80.6157142857, 81.4928571429, 82.6085714286, 82.8328571429, 81.1485714286, 81.2157142857, 79.15, 85.55142857140001, 82.8828571429, 81.0128571429, 83.0757142857, 81.7271428571, 79.6285714286, 80.6842857143, 81.7942857143, 80.9014285714, 82.61, 83.8414285714, 81.1028571429, 78.8071428571, 80.3985714286, 79.5042857143, 79.0371428571, 80.3771428571, 82.1542857143, 80.4657142857, 80.3028571429, 76.8542857143, 78.8285714286, 78.0185714286, 75.7428571429, 79.15, 75.9842857143, 78.38142857140001, 76.8257142857, 75.31, 72.88571428569999, 74.7885714286, 77.91571428569999, 81.5185714286, 75.4357142857, 74.6471428571, 75.0828571429, 73.9514285714, 79.5171428571, 75.2471428571, 74.5157142857, 80.3528571429, 80.4628571429, 83.13571428569999, 79.5028571429, 77.66428571430001, 80.3828571429, 78.2928571429, 78.7042857143, 79.0271428571, 78.80571428569999, 77.3028571429, 77.1028571429, 75.4357142857, 77.7957142857, 78.58428571430001, 76.4371428571, 76.92, 78.4828571429, 79.1385714286, 78.75, 79.3142857143, 80.3728571429, 74.1171428571, 78.2257142857, 76.3485714286, 85.4171428571, 78.6857142857, 80.0957142857, 83.58428571430001, 83.5028571429, 78.56, 85.57, 75.4557142857, 76.91428571430001, 82.8671428571, 75.83857142859999, 74.0471428571, 79.5528571429, 78.33, 81.4042857143, 74.6557142857, 77.02142857140001, 76.6342857143, 79.8171428571, 82.0528571429, 77.02, 69.8614285714, 67.36428571430001, 73.4, 77.6057142857, 77.3214285714, 71.9371428571, 76.0728571429, 80.2614285714, 80.8657142857, 81.4471428571, 80.7271428571, 84.3457142857, 79.1371428571, 81.34, 79.38, 75.0657142857, 81.96, 81.09, 85.08857142859999, 84.3757142857, 80.3971428571, 82.6257142857, 83.49142857140001, 82.2257142857, 78.1457142857, 82.91142857140001, 83.3142857143, 81.8542857143, 83.13571428569999, 84.2071428571, 80.66428571430001, 83.2142857143, 80.86428571430001, 79.4042857143, 77.6385714286, 78.1414285714, 80.6771428571, 76.3328571429, 79.9857142857, 77.6371428571, 84.13571428569999, 79.3214285714, 82.5157142857, 80.4771428571, 75.6928571429, 74.9614285714, 79.66428571430001, 77.7828571429, 79.19857142859999, 73.06, 76.4828571429, 80.6471428571, 73.4257142857, 79.02, 79.77571428569999, 78.3114285714, 74.1714285714, 76.3942857143, 74.7928571429, 82.84, 82.78, 82.7514285714, 82.36857142859999, 82.2357142857, 83.3228571429, 80.9071428571, 80.0614285714, 81.83571428569999, 84.3228571429, 79.19857142859999, 81.91, 85.01, 80.9357142857, 84.3442857143, 79.2728571429, 81.54, 81.9857142857, 85.69, 82.6385714286, 79.1771428571, 81.26, 79.9571428571, 80.7342857143, 81.13, 84.1114285714, 83.64, 83.3971428571, 86.07142857139999, 75.2928571429, 73.2528571429, 79.3728571429, 71.0628571429, 75.6785714286, 80.3, 74.94, 80.0928571429, 82.3885714286, 75.0757142857, 80.9471428571, 76.7128571429, 74.63142857140001, 74.2557142857, 75.3728571429, 76.9042857143, 74.11857142859999, 74.2057142857, 74.85, 71.55857142859999, 75.4171428571, 76.9528571429, 75.8785714286, 78.5371428571, 75.9828571429, 78.7114285714, 83.4857142857, 79.7457142857, 79.36428571430001, 80.2457142857, 78.6385714286, 78.62, 80.9171428571, 82.1328571429, 79.4542857143, 81.1042857143, 82.3928571429, 83.28, 81.1428571429, 82.22, 83.16428571430001, 81.80857142859999, 78.78, 84.4371428571, 80.08428571430001, 83.5757142857, 82.2342857143, 77.5328571429, 77.3071428571, 77.1628571429, 82.7657142857, 82.27, 79.3957142857, 74.2814285714, 74.7957142857, 79.47, null, 79.63142857140001, 84.69428571430001, 78.1828571429, 76.2614285714, 75.7771428571, 81.6128571429, 70.7014285714, 75.0157142857, 77.9242857143, 80.7785714286, 72.6428571429, 76.6757142857, 81.4057142857, 80.19, 81.1457142857, 77.7128571429, 80.0728571429, 77.3314285714, 78.4014285714, 84.0714285714, 84.63571428569999, 82.46, 82.30571428569999, 78.53, 84.02571428569999, 80.08571428569999, 81.29, 78.99, 82.2128571429, 83.7428571429, 81.2171428571, 82.8, 84.2028571429, 83.45, 82.1928571429, 84.0028571429, 82.3328571429, 83.3314285714, 78.7828571429, 79.9985714286, 78.0985714286, 82.0385714286, 83.8657142857, 85.12, 80.91428571430001, 86.2142857143, 80.02142857140001, 83.0242857143, 85.9114285714, 78.6685714286, 78.4185714286, null, 80.5971428571, 76.9542857143, 81.31, 79.6714285714, 70.19857142859999, 68.6414285714, 76.2457142857, 72.2514285714, 77.4271428571, 71.69142857140001, 74.80428571430001, 73.94, 78.91, 75.3885714286, 73.6414285714, 75.39, 74.7985714286, 78.6828571429, 76.30857142859999, 76.5985714286, 79.7171428571, 77.3714285714, 80.7542857143, 79.75, 83.9614285714, 81.25, 80.7985714286, 81.8471428571, 83.9185714286, 80.9685714286, 81.6728571429, 82.6457142857, 81.3871428571, 81.9985714286, 81.0028571429, 79.9657142857, 79.6971428571, 79.39, 79.8371428571, 79.6742857143, 79.16, 82.6571428571, 85.3771428571, 81.6285714286, 81.4885714286, 85.4042857143, 86.4057142857, 78.6828571429, 81.86428571430001, 72.6528571429, 76.4971428571, 76.3171428571, 79.6071428571, 77.3428571429, 70.4571428571, 67.7657142857, 74.0628571429, 76.5028571429, 76.1171428571, 74.0642857143, 75.7214285714, 66.7357142857, 72.1428571429, 71.39, 71.3514285714, 77.7857142857, 75.8428571429, 74.7542857143, 78.2442857143, 76.2142857143, 78.3371428571, 77.7128571429, 79.1971428571, 78.5371428571, 79.05142857140001, 75.7485714286, 80.8457142857, 77.6171428571, 77.6814285714, 78.1257142857, 78.6042857143, 79.00857142859999, 80.7514285714, 82.02142857140001, 79.5071428571, 79.55857142859999, 82.6757142857, 80.6785714286, 78.94857142859999, 79.58428571430001, 82.2828571429, 82.58571428569999, 76.3714285714, 78.1814285714, 77.4428571429, 80.0071428571, 72.6842857143, 70.9771428571, 72.9257142857, 77.6485714286, 77.3571428571, 72.2614285714, 76.52571428569999, 76.5057142857, 74.33571428569999, 71.94142857140001, 75.38, 79.0314285714, 74.3442857143, 75.8514285714, 73.0728571429, 76.9071428571, 73.3871428571, 76.2471428571, 72.4428571429, 80.83571428569999, 74.43, 77.0228571429, 72.64, 76.5814285714, 75.7142857143, 78.5671428571, 82.35, 76.07, 78.1514285714, 77.1628571429, 76.4257142857, 75.4614285714, 77.6171428571, 79.5785714286, 77.5828571429, 77.5871428571, 78.0614285714, 78.67, 79.7128571429, 82.0871428571, 81.0757142857, 77.3471428571, 78.8271428571, 77.41, 77.2357142857, 77.55571428569999, 77.63, 78.8914285714, 79.27, 80.13142857140001, 80.27, 75.4242857143, 81.0814285714, 79.8614285714, 74.3442857143, 74.0385714286, 82.1671428571, 84.01, 85.5142857143, 76.4342857143, 80.5728571429, 76.7342857143, 78.0785714286, 76.92, 76.7228571429, 75.5771428571, 75.9328571429, 73.1471428571, 74.4271428571, 76.1685714286, 74.9171428571, 75.2157142857, 78.5657142857, 81.1414285714, 73.84, 83.6571428571, 81.7028571429, 78.6071428571, 76.0871428571, 76.9014285714, 77.0928571429, 81.8514285714, 81.0428571429, 79.73, 79.50857142859999, 77.19857142859999, 78.7471428571, 78.3114285714, 75.8671428571, 81.6228571429, 77.7885714286, 78.94428571430001, 79.0942857143, 76.1885714286, 78.6071428571, 76.6785714286, 78.4885714286, 77.8514285714, 79.2814285714, 78.80857142859999, 78.94857142859999, 79.2171428571, 77.62, 76.1671428571, 73.7814285714, 78.6057142857, 78.9628571429, 74.3728571429, 74.5171428571, 74.9428571429, 79.4828571429, 80.30857142859999, 78.6714285714, 75.7028571429, 75.0157142857, 79.5171428571, 78.8414285714, 79.72428571430001, 75.0771428571, 74.7342857143, 72.69, 74.6085714286, 72.13571428569999, 74.3257142857, 76.1342857143, 79.63571428569999, 80.24142857140001, 83.7514285714, 80.0714285714, 74.80857142859999, 74.23, 76.7042857143, 81.2914285714, 76.33428571430001, 77.1414285714, 77.7314285714, 80.98, 78.9285714286, 79.6585714286, 79.7442857143, 77.8, 82.6014285714, 80.84, 79.7885714286, 78.2542857143, 80.7971428571, 82.7842857143, 79.7042857143, 77.3671428571, 80.53, 79.3557142857, 76.4357142857, 80.25, 77.5314285714, 77.5614285714, 78.08, 81.8257142857, 87.5757142857, 83.41, 77.30857142859999, 78.2328571429, 80.7971428571, 78.6885714286, null, 72.5771428571, 78.9428571429, 78.2642857143, 75.4228571429, 76.5228571429, 74.65, 73.7914285714, 79.0271428571, 77.7614285714, 72.30571428569999, 78.5471428571, 76.8714285714, 80.3657142857, 76.44571428569999, 77.06, 71.9542857143, 78.6028571429, 75.38571428569999, 81.7114285714, 83.8328571429, 83.55, 80.91428571430001, 80.1771428571, 81.5614285714, 78.2971428571, 78.4814285714, 79.1814285714, 79.9957142857, 77.4985714286, 81.8071428571, 79.02571428569999, 76.1714285714, 81.2642857143, 79.6842857143, 76.7114285714, 79.8657142857, 80.0328571429, 85.33, 76.4714285714, 78.4771428571, 80.66571428569999, 76.9228571429, 80.6557142857, 77.5328571429, 77.3114285714, 83.6285714286, 74.3028571429, 73.7571428571, 74.3257142857, 80.8885714286, 83.9528571429, null, 74.7785714286, 78.7985714286, 83.05571428569999, 78.5385714286, 78.64, 70.7957142857, 72.2457142857, 74.19142857140001, 78.6671428571, 77.3928571429, 73.58571428569999, 73.8671428571, 75.7371428571, 78.0028571429, 77.65, 77.2428571429, 81.7514285714, 78.9071428571, 75.69857142859999, 83.7628571429, 84.33571428569999, 82.63, 76.94, 81.5157142857, 79.7185714286, 80.0128571429, 79.3771428571, 80.5614285714, 79.4814285714, 82.4085714286, 79.6214285714, 79.2528571429, 77.74, 76.7342857143, 79.0814285714, 75.4385714286, 77.2728571429, 76.66142857140001, 79.0828571429, 78.3514285714, 82.2642857143, 82.39, 82.4228571429, 78.97, 79.3271428571, 79.9014285714, 77.2457142857, 78.6242857143, 71.4557142857, 75.0757142857, 77.3157142857, 76.5785714286, 74.50857142859999, 72.9285714286, 78.72, 74.8971428571, 72.8728571429, 76.9071428571, 78.4942857143, 73.41428571430001, 70.6971428571, 74.28, 73.21, 75.5271428571, 74.9842857143, 79.6028571429, 76.3328571429, 78.0242857143, 76.6042857143, 78.0985714286, 75.9271428571, 84.31, 78.4, 75.8114285714, 75.6, 75.92, 79.69571428569999, 82.16, 78.6042857143, 81.4771428571, 80.5385714286, 78.7728571429, 81.6457142857, 80.6542857143, 78.6271428571, 79.8142857143, 79.1542857143, 78.1242857143, 77.93, 75.8614285714, 76.9528571429, 74.7328571429, 76.0071428571, 79.41428571430001, 79.93, 81.08571428569999, 75.5685714286, 72.6842857143, 75.6, 76.8285714286, 74.4314285714, 78.6385714286, 75.24, 76.5285714286, 74.8114285714, 77.6471428571, 73.80428571430001, 72.76, 74.8, 75.7542857143, 73.9328571429, 78.1257142857, 75.0142857143, 74.02571428569999, 75.4385714286, 76.7842857143, 76.2142857143, 73.30142857140001, 74.8328571429, 81.1128571429, 82.08428571430001, 79.19428571430001, 76.76, 73.9814285714, 76.0228571429, 74.9628571429, 76.1628571429, 74.16, 76.3285714286, 74.9214285714, 75.24142857140001, 75.1428571429, 80.80857142859999, 74.2642857143, 77.7657142857, 78.64, 78.4614285714, 77.5642857143, 75.3457142857, 75.19571428569999, 75.97, 76.4057142857, 77.19, 79.1785714286, 73.8671428571, 73.66142857140001, 81.5942857143, 75.35, 77.4814285714, 78.52571428569999, 70.7271428571, 75.36857142859999, 78.0157142857, 80.1785714286, 75.44857142859999, 76.1485714286, 76.13142857140001, 75.6428571429, 77.1671428571, 73.5657142857, 70.6428571429, 74.22857142859999, 74.7857142857, 72.66, 74.6814285714, 71.9342857143, 72.91571428569999, 74.2471428571, 74.6, 75.0271428571, 72.2857142857, 76.96], \"yaxis\": \"y\"}, {\"line\": {\"color\": \"rgba(193,99,0,0.8)\"}, \"name\": \"station_avg_temp_c\", \"showlegend\": true, \"type\": \"scatter\", \"x\": [\"1990-04-30\", \"1990-05-07\", \"1990-05-14\", \"1990-05-21\", \"1990-05-28\", \"1990-06-04\", \"1990-06-11\", \"1990-06-18\", \"1990-06-25\", \"1990-07-02\", \"1990-07-09\", \"1990-07-16\", \"1990-07-23\", \"1990-07-30\", \"1990-08-06\", \"1990-08-13\", \"1990-08-20\", \"1990-08-27\", \"1990-09-03\", \"1990-09-10\", \"1990-09-17\", \"1990-09-24\", \"1990-10-01\", \"1990-10-08\", \"1990-10-15\", \"1990-10-22\", \"1990-10-29\", \"1990-11-05\", \"1990-11-12\", \"1990-11-19\", \"1990-11-26\", \"1990-12-03\", \"1990-12-10\", \"1990-12-17\", \"1990-12-24\", \"1991-01-01\", \"1991-01-08\", \"1991-01-15\", \"1991-01-22\", \"1991-01-29\", \"1991-02-05\", \"1991-02-12\", \"1991-02-19\", \"1991-02-26\", \"1991-03-05\", \"1991-03-12\", \"1991-03-19\", \"1991-03-26\", \"1991-04-02\", \"1991-04-09\", \"1991-04-16\", \"1991-04-23\", \"1991-04-30\", \"1991-05-07\", \"1991-05-14\", \"1991-05-21\", \"1991-05-28\", \"1991-06-04\", \"1991-06-11\", \"1991-06-18\", \"1991-06-25\", \"1991-07-02\", \"1991-07-09\", \"1991-07-16\", \"1991-07-23\", \"1991-07-30\", \"1991-08-06\", \"1991-08-13\", \"1991-08-20\", \"1991-08-27\", \"1991-09-03\", \"1991-09-10\", \"1991-09-17\", \"1991-09-24\", \"1991-10-01\", \"1991-10-08\", \"1991-10-15\", \"1991-10-22\", \"1991-10-29\", \"1991-11-05\", \"1991-11-12\", \"1991-11-19\", \"1991-11-26\", \"1991-12-03\", \"1991-12-10\", \"1991-12-17\", \"1991-12-24\", \"1992-01-01\", \"1992-01-08\", \"1992-01-15\", \"1992-01-22\", \"1992-01-29\", \"1992-02-05\", \"1992-02-12\", \"1992-02-19\", \"1992-02-26\", \"1992-03-04\", \"1992-03-11\", \"1992-03-18\", \"1992-03-25\", \"1992-04-01\", \"1992-04-08\", \"1992-04-15\", \"1992-04-22\", \"1992-04-29\", \"1992-05-06\", \"1992-05-13\", \"1992-05-20\", \"1992-05-27\", \"1992-06-03\", \"1992-06-10\", \"1992-06-17\", \"1992-06-24\", \"1992-07-01\", \"1992-07-08\", \"1992-07-15\", \"1992-07-22\", \"1992-07-29\", \"1992-08-05\", \"1992-08-12\", \"1992-08-19\", \"1992-08-26\", \"1992-09-02\", \"1992-09-09\", \"1992-09-16\", \"1992-09-23\", \"1992-09-30\", \"1992-10-07\", \"1992-10-14\", \"1992-10-21\", \"1992-10-28\", \"1992-11-04\", \"1992-11-11\", \"1992-11-18\", \"1992-11-25\", \"1992-12-02\", \"1992-12-09\", \"1992-12-16\", \"1992-12-23\", \"1993-01-01\", \"1993-01-08\", \"1993-01-15\", \"1993-01-22\", \"1993-01-29\", \"1993-02-05\", \"1993-02-12\", \"1993-02-19\", \"1993-02-26\", \"1993-03-05\", \"1993-03-12\", \"1993-03-19\", \"1993-03-26\", \"1993-04-02\", \"1993-04-09\", \"1993-04-16\", \"1993-04-23\", \"1993-04-30\", \"1993-05-07\", \"1993-05-14\", \"1993-05-21\", \"1993-05-28\", \"1993-06-04\", \"1993-06-11\", \"1993-06-18\", \"1993-06-25\", \"1993-07-02\", \"1993-07-09\", \"1993-07-16\", \"1993-07-23\", \"1993-07-30\", \"1993-08-06\", \"1993-08-13\", \"1993-08-20\", \"1993-08-27\", \"1993-09-03\", \"1993-09-10\", \"1993-09-17\", \"1993-09-24\", \"1993-10-01\", \"1993-10-08\", \"1993-10-15\", \"1993-10-22\", \"1993-10-29\", \"1993-11-05\", \"1993-11-12\", \"1993-11-19\", \"1993-11-26\", \"1993-12-03\", \"1993-12-10\", \"1993-12-17\", \"1993-12-24\", \"1994-01-01\", \"1994-01-08\", \"1994-01-15\", \"1994-01-22\", \"1994-01-29\", \"1994-02-05\", \"1994-02-12\", \"1994-02-19\", \"1994-02-26\", \"1994-03-05\", \"1994-03-12\", \"1994-03-19\", \"1994-03-26\", \"1994-04-02\", \"1994-04-09\", \"1994-04-16\", \"1994-04-23\", \"1994-04-30\", \"1994-05-07\", \"1994-05-14\", \"1994-05-21\", \"1994-05-28\", \"1994-06-04\", \"1994-06-11\", \"1994-06-18\", \"1994-06-25\", \"1994-07-02\", \"1994-07-09\", \"1994-07-16\", \"1994-07-23\", \"1994-07-30\", \"1994-08-06\", \"1994-08-13\", \"1994-08-20\", \"1994-08-27\", \"1994-09-03\", \"1994-09-10\", \"1994-09-17\", \"1994-09-24\", \"1994-10-01\", \"1994-10-08\", \"1994-10-15\", \"1994-10-22\", \"1994-10-29\", \"1994-11-05\", \"1994-11-12\", \"1994-11-19\", \"1994-11-26\", \"1994-12-03\", \"1994-12-10\", \"1994-12-17\", \"1994-12-24\", \"1995-01-01\", \"1995-01-08\", \"1995-01-15\", \"1995-01-22\", \"1995-01-29\", \"1995-02-05\", \"1995-02-12\", \"1995-02-19\", \"1995-02-26\", \"1995-03-05\", \"1995-03-12\", \"1995-03-19\", \"1995-03-26\", \"1995-04-02\", \"1995-04-09\", \"1995-04-16\", \"1995-04-23\", \"1995-04-30\", \"1995-05-07\", \"1995-05-14\", \"1995-05-21\", \"1995-05-28\", \"1995-06-04\", \"1995-06-11\", \"1995-06-18\", \"1995-06-25\", \"1995-07-02\", \"1995-07-09\", \"1995-07-16\", \"1995-07-23\", \"1995-07-30\", \"1995-08-06\", \"1995-08-13\", \"1995-08-20\", \"1995-08-27\", \"1995-09-03\", \"1995-09-10\", \"1995-09-17\", \"1995-09-24\", \"1995-10-01\", \"1995-10-08\", \"1995-10-15\", \"1995-10-22\", \"1995-10-29\", \"1995-11-05\", \"1995-11-12\", \"1995-11-19\", \"1995-11-26\", \"1995-12-03\", \"1995-12-10\", \"1995-12-17\", \"1995-12-24\", \"1996-01-01\", \"1996-01-08\", \"1996-01-15\", \"1996-01-22\", \"1996-01-29\", \"1996-02-05\", \"1996-02-12\", \"1996-02-19\", \"1996-02-26\", \"1996-03-04\", \"1996-03-11\", \"1996-03-18\", \"1996-03-25\", \"1996-04-01\", \"1996-04-08\", \"1996-04-15\", \"1996-04-22\", \"1996-04-29\", \"1996-05-06\", \"1996-05-13\", \"1996-05-20\", \"1996-05-27\", \"1996-06-03\", \"1996-06-10\", \"1996-06-17\", \"1996-06-24\", \"1996-07-01\", \"1996-07-08\", \"1996-07-15\", \"1996-07-22\", \"1996-07-29\", \"1996-08-05\", \"1996-08-12\", \"1996-08-19\", \"1996-08-26\", \"1996-09-02\", \"1996-09-09\", \"1996-09-16\", \"1996-09-23\", \"1996-09-30\", \"1996-10-07\", \"1996-10-14\", \"1996-10-21\", \"1996-10-28\", \"1996-11-04\", \"1996-11-11\", \"1996-11-18\", \"1996-11-25\", \"1996-12-02\", \"1996-12-09\", \"1996-12-16\", \"1996-12-23\", \"1997-01-01\", \"1997-01-08\", \"1997-01-15\", \"1997-01-22\", \"1997-01-29\", \"1997-02-05\", \"1997-02-12\", \"1997-02-19\", \"1997-02-26\", \"1997-03-05\", \"1997-03-12\", \"1997-03-19\", \"1997-03-26\", \"1997-04-02\", \"1997-04-09\", \"1997-04-16\", \"1997-04-23\", \"1997-04-30\", \"1997-05-07\", \"1997-05-14\", \"1997-05-21\", \"1997-05-28\", \"1997-06-04\", \"1997-06-11\", \"1997-06-18\", \"1997-06-25\", \"1997-07-02\", \"1997-07-09\", \"1997-07-16\", \"1997-07-23\", \"1997-07-30\", \"1997-08-06\", \"1997-08-13\", \"1997-08-20\", \"1997-08-27\", \"1997-09-03\", \"1997-09-10\", \"1997-09-17\", \"1997-09-24\", \"1997-10-01\", \"1997-10-08\", \"1997-10-15\", \"1997-10-22\", \"1997-10-29\", \"1997-11-05\", \"1997-11-12\", \"1997-11-19\", \"1997-11-26\", \"1997-12-03\", \"1997-12-10\", \"1997-12-17\", \"1997-12-24\", \"1998-01-01\", \"1998-01-08\", \"1998-01-15\", \"1998-01-22\", \"1998-01-29\", \"1998-02-05\", \"1998-02-12\", \"1998-02-19\", \"1998-02-26\", \"1998-03-05\", \"1998-03-12\", \"1998-03-19\", \"1998-03-26\", \"1998-04-02\", \"1998-04-09\", \"1998-04-16\", \"1998-04-23\", \"1998-04-30\", \"1998-05-07\", \"1998-05-14\", \"1998-05-21\", \"1998-05-28\", \"1998-06-04\", \"1998-06-11\", \"1998-06-18\", \"1998-06-25\", \"1998-07-02\", \"1998-07-09\", \"1998-07-16\", \"1998-07-23\", \"1998-07-30\", \"1998-08-06\", \"1998-08-13\", \"1998-08-20\", \"1998-08-27\", \"1998-09-03\", \"1998-09-10\", \"1998-09-17\", \"1998-09-24\", \"1998-10-01\", \"1998-10-08\", \"1998-10-15\", \"1998-10-22\", \"1998-10-29\", \"1998-11-05\", \"1998-11-12\", \"1998-11-19\", \"1998-11-26\", \"1998-12-03\", \"1998-12-10\", \"1998-12-17\", \"1998-12-24\", \"1999-01-01\", \"1999-01-08\", \"1999-01-15\", \"1999-01-22\", \"1999-01-29\", \"1999-02-05\", \"1999-02-12\", \"1999-02-19\", \"1999-02-26\", \"1999-03-05\", \"1999-03-12\", \"1999-03-19\", \"1999-03-26\", \"1999-04-02\", \"1999-04-09\", \"1999-04-16\", \"1999-04-23\", \"1999-04-30\", \"1999-05-07\", \"1999-05-14\", \"1999-05-21\", \"1999-05-28\", \"1999-06-04\", \"1999-06-11\", \"1999-06-18\", \"1999-06-25\", \"1999-07-02\", \"1999-07-09\", \"1999-07-16\", \"1999-07-23\", \"1999-07-30\", \"1999-08-06\", \"1999-08-13\", \"1999-08-20\", \"1999-08-27\", \"1999-09-03\", \"1999-09-10\", \"1999-09-17\", \"1999-09-24\", \"1999-10-01\", \"1999-10-08\", \"1999-10-15\", \"1999-10-22\", \"1999-10-29\", \"1999-11-05\", \"1999-11-12\", \"1999-11-19\", \"1999-11-26\", \"1999-12-03\", \"1999-12-10\", \"1999-12-17\", \"1999-12-24\", \"2000-01-01\", \"2000-01-08\", \"2000-01-15\", \"2000-01-22\", \"2000-01-29\", \"2000-02-05\", \"2000-02-12\", \"2000-02-19\", \"2000-02-26\", \"2000-03-04\", \"2000-03-11\", \"2000-03-18\", \"2000-03-25\", \"2000-04-01\", \"2000-04-08\", \"2000-04-15\", \"2000-04-22\", \"2000-04-29\", \"2000-05-06\", \"2000-05-13\", \"2000-05-20\", \"2000-05-27\", \"2000-06-03\", \"2000-06-10\", \"2000-06-17\", \"2000-06-24\", \"2000-07-01\", \"2000-07-08\", \"2000-07-15\", \"2000-07-22\", \"2000-07-29\", \"2000-08-05\", \"2000-08-12\", \"2000-08-19\", \"2000-08-26\", \"2000-09-02\", \"2000-09-09\", \"2000-09-16\", \"2000-09-23\", \"2000-09-30\", \"2000-10-07\", \"2000-10-14\", \"2000-10-21\", \"2000-10-28\", \"2000-11-04\", \"2000-11-11\", \"2000-11-18\", \"2000-11-25\", \"2000-12-02\", \"2000-12-09\", \"2000-12-16\", \"2000-12-23\", \"2001-01-01\", \"2001-01-08\", \"2001-01-15\", \"2001-01-22\", \"2001-01-29\", \"2001-02-05\", \"2001-02-12\", \"2001-02-19\", \"2001-02-26\", \"2001-03-05\", \"2001-03-12\", \"2001-03-19\", \"2001-03-26\", \"2001-04-02\", \"2001-04-09\", \"2001-04-16\", \"2001-04-23\", \"2001-04-30\", \"2001-05-07\", \"2001-05-14\", \"2001-05-21\", \"2001-05-28\", \"2001-06-04\", \"2001-06-11\", \"2001-06-18\", \"2001-06-25\", \"2001-07-02\", \"2001-07-09\", \"2001-07-16\", \"2001-07-23\", \"2001-07-30\", \"2001-08-06\", \"2001-08-13\", \"2001-08-20\", \"2001-08-27\", \"2001-09-03\", \"2001-09-10\", \"2001-09-17\", \"2001-09-24\", \"2001-10-01\", \"2001-10-08\", \"2001-10-15\", \"2001-10-22\", \"2001-10-29\", \"2001-11-05\", \"2001-11-12\", \"2001-11-19\", \"2001-11-26\", \"2001-12-03\", \"2001-12-10\", \"2001-12-17\", \"2001-12-24\", \"2002-01-01\", \"2002-01-08\", \"2002-01-15\", \"2002-01-22\", \"2002-01-29\", \"2002-02-05\", \"2002-02-12\", \"2002-02-19\", \"2002-02-26\", \"2002-03-05\", \"2002-03-12\", \"2002-03-19\", \"2002-03-26\", \"2002-04-02\", \"2002-04-09\", \"2002-04-16\", \"2002-04-23\", \"2002-04-30\", \"2002-05-07\", \"2002-05-14\", \"2002-05-21\", \"2002-05-28\", \"2002-06-04\", \"2002-06-11\", \"2002-06-18\", \"2002-06-25\", \"2002-07-02\", \"2002-07-09\", \"2002-07-16\", \"2002-07-23\", \"2002-07-30\", \"2002-08-06\", \"2002-08-13\", \"2002-08-20\", \"2002-08-27\", \"2002-09-03\", \"2002-09-10\", \"2002-09-17\", \"2002-09-24\", \"2002-10-01\", \"2002-10-08\", \"2002-10-15\", \"2002-10-22\", \"2002-10-29\", \"2002-11-05\", \"2002-11-12\", \"2002-11-19\", \"2002-11-26\", \"2002-12-03\", \"2002-12-10\", \"2002-12-17\", \"2002-12-24\", \"2003-01-01\", \"2003-01-08\", \"2003-01-15\", \"2003-01-22\", \"2003-01-29\", \"2003-02-05\", \"2003-02-12\", \"2003-02-19\", \"2003-02-26\", \"2003-03-05\", \"2003-03-12\", \"2003-03-19\", \"2003-03-26\", \"2003-04-02\", \"2003-04-09\", \"2003-04-16\", \"2003-04-23\", \"2003-04-30\", \"2003-05-07\", \"2003-05-14\", \"2003-05-21\", \"2003-05-28\", \"2003-06-04\", \"2003-06-11\", \"2003-06-18\", \"2003-06-25\", \"2003-07-02\", \"2003-07-09\", \"2003-07-16\", \"2003-07-23\", \"2003-07-30\", \"2003-08-06\", \"2003-08-13\", \"2003-08-20\", \"2003-08-27\", \"2003-09-03\", \"2003-09-10\", \"2003-09-17\", \"2003-09-24\", \"2003-10-01\", \"2003-10-08\", \"2003-10-15\", \"2003-10-22\", \"2003-10-29\", \"2003-11-05\", \"2003-11-12\", \"2003-11-19\", \"2003-11-26\", \"2003-12-03\", \"2003-12-10\", \"2003-12-17\", \"2003-12-24\", \"2004-01-01\", \"2004-01-08\", \"2004-01-15\", \"2004-01-22\", \"2004-01-29\", \"2004-02-05\", \"2004-02-12\", \"2004-02-19\", \"2004-02-26\", \"2004-03-04\", \"2004-03-11\", \"2004-03-18\", \"2004-03-25\", \"2004-04-01\", \"2004-04-08\", \"2004-04-15\", \"2004-04-22\", \"2004-04-29\", \"2004-05-06\", \"2004-05-13\", \"2004-05-20\", \"2004-05-27\", \"2004-06-03\", \"2004-06-10\", \"2004-06-17\", \"2004-06-24\", \"2004-07-01\", \"2004-07-08\", \"2004-07-15\", \"2004-07-22\", \"2004-07-29\", \"2004-08-05\", \"2004-08-12\", \"2004-08-19\", \"2004-08-26\", \"2004-09-02\", \"2004-09-09\", \"2004-09-16\", \"2004-09-23\", \"2004-09-30\", \"2004-10-07\", \"2004-10-14\", \"2004-10-21\", \"2004-10-28\", \"2004-11-04\", \"2004-11-11\", \"2004-11-18\", \"2004-11-25\", \"2004-12-02\", \"2004-12-09\", \"2004-12-16\", \"2004-12-23\", \"2005-01-01\", \"2005-01-08\", \"2005-01-15\", \"2005-01-22\", \"2005-01-29\", \"2005-02-05\", \"2005-02-12\", \"2005-02-19\", \"2005-02-26\", \"2005-03-05\", \"2005-03-12\", \"2005-03-19\", \"2005-03-26\", \"2005-04-02\", \"2005-04-09\", \"2005-04-16\", \"2005-04-23\", \"2005-04-30\", \"2005-05-07\", \"2005-05-14\", \"2005-05-21\", \"2005-05-28\", \"2005-06-04\", \"2005-06-11\", \"2005-06-18\", \"2005-06-25\", \"2005-07-02\", \"2005-07-09\", \"2005-07-16\", \"2005-07-23\", \"2005-07-30\", \"2005-08-06\", \"2005-08-13\", \"2005-08-20\", \"2005-08-27\", \"2005-09-03\", \"2005-09-10\", \"2005-09-17\", \"2005-09-24\", \"2005-10-01\", \"2005-10-08\", \"2005-10-15\", \"2005-10-22\", \"2005-10-29\", \"2005-11-05\", \"2005-11-12\", \"2005-11-19\", \"2005-11-26\", \"2005-12-03\", \"2005-12-10\", \"2005-12-17\", \"2005-12-24\", \"2006-01-01\", \"2006-01-08\", \"2006-01-15\", \"2006-01-22\", \"2006-01-29\", \"2006-02-05\", \"2006-02-12\", \"2006-02-19\", \"2006-02-26\", \"2006-03-05\", \"2006-03-12\", \"2006-03-19\", \"2006-03-26\", \"2006-04-02\", \"2006-04-09\", \"2006-04-16\", \"2006-04-23\", \"2006-04-30\", \"2006-05-07\", \"2006-05-14\", \"2006-05-21\", \"2006-05-28\", \"2006-06-04\", \"2006-06-11\", \"2006-06-18\", \"2006-06-25\", \"2006-07-02\", \"2006-07-09\", \"2006-07-16\", \"2006-07-23\", \"2006-07-30\", \"2006-08-06\", \"2006-08-13\", \"2006-08-20\", \"2006-08-27\", \"2006-09-03\", \"2006-09-10\", \"2006-09-17\", \"2006-09-24\", \"2006-10-01\", \"2006-10-08\", \"2006-10-15\", \"2006-10-22\", \"2006-10-29\", \"2006-11-05\", \"2006-11-12\", \"2006-11-19\", \"2006-11-26\", \"2006-12-03\", \"2006-12-10\", \"2006-12-17\", \"2006-12-24\", \"2007-01-01\", \"2007-01-08\", \"2007-01-15\", \"2007-01-22\", \"2007-01-29\", \"2007-02-05\", \"2007-02-12\", \"2007-02-19\", \"2007-02-26\", \"2007-03-05\", \"2007-03-12\", \"2007-03-19\", \"2007-03-26\", \"2007-04-02\", \"2007-04-09\", \"2007-04-16\", \"2007-04-23\", \"2007-04-30\", \"2007-05-07\", \"2007-05-14\", \"2007-05-21\", \"2007-05-28\", \"2007-06-04\", \"2007-06-11\", \"2007-06-18\", \"2007-06-25\", \"2007-07-02\", \"2007-07-09\", \"2007-07-16\", \"2007-07-23\", \"2007-07-30\", \"2007-08-06\", \"2007-08-13\", \"2007-08-20\", \"2007-08-27\", \"2007-09-03\", \"2007-09-10\", \"2007-09-17\", \"2007-09-24\", \"2007-10-01\", \"2007-10-08\", \"2007-10-15\", \"2007-10-22\", \"2007-10-29\", \"2007-11-05\", \"2007-11-12\", \"2007-11-19\", \"2007-11-26\", \"2007-12-03\", \"2007-12-10\", \"2007-12-17\", \"2007-12-24\", \"2008-01-01\", \"2008-01-08\", \"2008-01-15\", \"2008-01-22\", \"2008-01-29\", \"2008-02-05\", \"2008-02-12\", \"2008-02-19\", \"2008-02-26\", \"2008-03-04\", \"2008-03-11\", \"2008-03-18\", \"2008-03-25\", \"2008-04-01\", \"2008-04-08\", \"2008-04-15\", \"2008-04-22\"], \"xaxis\": \"x\", \"y\": [25.4428571429, 26.714285714299997, 26.714285714299997, 27.471428571399997, 28.9428571429, 28.1142857143, 27.4142857143, 28.3714285714, 28.3285714286, 28.3285714286, 27.5571428571, 28.1285714286, 28.1142857143, 28.2428571429, 28.2, 28.0428571429, 28.342857142899998, 28.657142857100002, 28.3285714286, 28.6857142857, 28.2428571429, 28.342857142899998, 28.771428571399998, 28.6285714286, 27.6285714286, 26.771428571399998, 27.971428571399997, 28.471428571399997, 27.5428571429, 26.8, 26.2, 25.985714285700002, 24.6857142857, 25.714285714299997, 25.157142857100002, 24.3857142857, 24.9142857143, 25.2428571429, 24.714285714299997, 24.8285714286, 25.0571428571, 25.1428571429, 25.842857142899998, 25.2571428571, 26.014285714299998, 25.9285714286, 26.0857142857, 26.0571428571, 25.2428571429, 25.3, 25.514285714299998, 26.528571428600003, 27.3142857143, 26.9285714286, 26.528571428600003, 27.3857142857, 27.9428571429, 28.0714285714, 28.228571428600002, 28.9285714286, 27.9142857143, 28.3714285714, 28.4142857143, 28.8, 28.0, 28.5714285714, 28.5, 29.4285714286, 29.271428571399998, 28.157142857100002, 28.9428571429, 28.971428571399997, 28.9142857143, 28.1428571429, 27.7428571429, 27.657142857100002, 28.5428571429, 27.8285714286, 28.1142857143, 27.1857142857, 26.657142857100002, 26.3142857143, 26.271428571399998, 26.728571428600002, 25.6142857143, 25.0, 24.3571428571, null, 25.657142857100002, 25.471428571399997, 24.8571428571, 24.8, 24.714285714299997, 26.028571428600003, 25.7571428571, 25.285714285700003, 25.657142857100002, 25.785714285700003, 26.1, 26.2, 26.228571428600002, 26.985714285700002, 26.8142857143, 26.6714285714, 27.3714285714, 26.785714285700003, 27.4428571429, 27.8571428571, 27.4285714286, 27.5, 28.2, 28.285714285700003, 28.485714285700002, 29.228571428600002, 28.728571428600002, 27.6285714286, 27.5571428571, 27.971428571399997, 28.0714285714, 27.6714285714, 28.214285714299997, 28.271428571399998, 28.728571428600002, 28.028571428600003, 28.1428571429, 27.5571428571, 27.971428571399997, 28.8857142857, 29.157142857100002, 28.657142857100002, 28.6714285714, 28.3857142857, 27.5428571429, 26.6857142857, 27.4, 26.6285714286, 26.9142857143, 26.6857142857, 25.9142857143, null, 25.8714285714, 24.5, 24.8571428571, 24.4, 26.6714285714, 25.4285714286, 26.271428571399998, 25.7, 25.5714285714, 24.9, 26.9285714286, 26.1428571429, 26.8857142857, 27.2, 27.0714285714, 25.8714285714, 27.485714285700002, 26.9428571429, 26.471428571399997, 28.228571428600002, 28.9428571429, 27.6428571429, 29.9, 27.728571428600002, 27.342857142899998, 28.842857142899998, 28.2428571429, 27.8857142857, 28.5, 27.9428571429, 29.028571428600003, 29.028571428600003, 29.4142857143, 28.971428571399997, 28.657142857100002, 28.4285714286, 28.6, 28.157142857100002, 28.285714285700003, 28.014285714299998, 28.4, 28.2, 28.0714285714, 27.9, 27.6428571429, 27.1714285714, 26.8857142857, 26.785714285700003, 26.528571428600003, 26.228571428600002, 26.0428571429, 26.971428571399997, 25.5, 25.4571428571, 25.0857142857, 25.3285714286, 25.785714285700003, 25.2571428571, 25.7, 25.7428571429, 25.3142857143, 25.8857142857, 25.842857142899998, 26.728571428600002, 26.7, 26.4285714286, 25.971428571399997, 25.971428571399997, 26.6714285714, 27.7571428571, 27.4142857143, 27.714285714299997, 29.1, 28.5714285714, 28.228571428600002, 28.3285714286, 28.0714285714, 28.4, 27.9285714286, 28.1714285714, 28.2571428571, 28.514285714299998, 28.2571428571, 28.3857142857, 28.514285714299998, 28.5714285714, 29.4285714286, 29.285714285700003, 28.5571428571, 28.3714285714, 28.014285714299998, 28.714285714299997, 28.3285714286, 28.5714285714, 27.6714285714, 28.157142857100002, 27.3142857143, 27.285714285700003, 27.8571428571, 26.8857142857, 26.3714285714, 26.5857142857, 26.6428571429, 27.3142857143, 25.7, 25.771428571399998, 24.7571428571, 26.1285714286, 25.5, 26.0857142857, 26.6285714286, 25.9285714286, 25.2428571429, 25.5, 25.2571428571, 24.6285714286, 25.2428571429, 25.971428571399997, 27.285714285700003, 26.657142857100002, 26.3285714286, 27.842857142899998, 27.771428571399998, 26.9142857143, 27.228571428600002, 27.7, 27.3, 27.771428571399998, 28.842857142899998, 29.214285714299997, 29.657142857100002, 29.285714285700003, 29.228571428600002, 28.5571428571, 28.7, 29.0, 30.0714285714, 28.4285714286, 29.1142857143, 29.5714285714, 29.3714285714, 29.5857142857, 29.9571428571, 28.0571428571, 28.3857142857, 27.842857142899998, 27.471428571399997, 28.0428571429, 27.228571428600002, 27.157142857100002, 27.3142857143, 27.2, 27.014285714299998, 26.6142857143, 25.714285714299997, 25.1857142857, 26.2571428571, 25.971428571399997, 25.5857142857, 24.785714285700003, 25.157142857100002, 25.3142857143, 25.971428571399997, 25.5571428571, 25.5714285714, 26.2428571429, 26.2, 26.4, 25.9285714286, 26.228571428600002, 26.1285714286, 26.1285714286, 26.014285714299998, 25.4428571429, 25.842857142899998, 26.728571428600002, 28.1142857143, 27.8142857143, 26.9428571429, 26.4428571429, 27.6857142857, 27.9428571429, 28.014285714299998, 27.271428571399998, 27.514285714299998, 27.1714285714, 27.6714285714, 28.014285714299998, 26.785714285700003, 27.7571428571, 28.485714285700002, 27.9428571429, 27.0428571429, 27.8714285714, 27.4142857143, 27.285714285700003, 27.5714285714, 29.0428571429, 27.0428571429, 26.842857142899998, 26.157142857100002, 25.8714285714, 25.6142857143, 25.014285714299998, 24.8, 24.9571428571, 24.514285714299998, 26.6285714286, 24.6714285714, 24.3857142857, 24.9, 24.6285714286, 23.7, 24.5714285714, 24.6857142857, 24.471428571399997, 24.5714285714, 24.3571428571, 24.7428571429, 25.3142857143, 25.0857142857, 25.3571428571, 25.9, 27.6714285714, 27.771428571399998, 27.9285714286, 27.5714285714, 27.5857142857, 27.3142857143, 27.271428571399998, 28.6, 29.014285714299998, 28.657142857100002, 28.4142857143, 29.014285714299998, 28.6142857143, 27.9, 27.8285714286, 28.6428571429, 28.285714285700003, 28.4142857143, 27.985714285700002, 28.728571428600002, 28.9571428571, 28.9, 28.4, 27.5857142857, 28.5, 27.3571428571, 27.7, 28.3857142857, 27.7428571429, 27.342857142899998, 27.3285714286, 27.2571428571, 26.6714285714, 26.7571428571, 26.5714285714, 26.714285714299997, null, 26.3571428571, 24.8857142857, 25.6142857143, 26.5428571429, 26.5857142857, 27.2571428571, 24.4142857143, 26.271428571399998, 25.6142857143, 25.8142857143, 24.8857142857, 26.228571428600002, 25.714285714299997, 26.028571428600003, 26.9285714286, 25.6, 26.8714285714, 26.785714285700003, 27.1428571429, 27.9142857143, 27.971428571399997, 27.8571428571, 28.4285714286, 28.1, 28.214285714299997, 28.6142857143, 28.3857142857, 28.3857142857, 27.5571428571, 28.271428571399998, 28.4571428571, 29.0714285714, 29.214285714299997, 28.0428571429, 28.7571428571, 28.3285714286, 28.728571428600002, 27.771428571399998, 27.9142857143, 28.2571428571, 27.7571428571, 28.157142857100002, 27.714285714299997, 27.4285714286, 27.785714285700003, 26.728571428600002, 26.5571428571, 25.6428571429, 25.8142857143, 26.0714285714, 25.9285714286, null, 25.5714285714, 25.0714285714, 24.985714285700002, 24.8857142857, 24.1714285714, 23.4, 24.3285714286, 24.0428571429, 25.0, 24.9571428571, 24.8857142857, 25.6714285714, 25.7428571429, 25.6142857143, 25.3857142857, 26.9142857143, 26.6857142857, 28.228571428600002, 26.9571428571, 27.8285714286, 28.3857142857, 28.4142857143, 27.9142857143, 27.7, 27.214285714299997, 28.4428571429, 27.4, 27.271428571399998, 26.7, 28.1, 28.3714285714, 28.0857142857, 28.3714285714, 27.8571428571, 28.1857142857, 28.3, 28.4142857143, 28.4571428571, 28.714285714299997, 28.0, 27.1714285714, 26.7571428571, 27.6714285714, 27.4428571429, 26.8857142857, 26.714285714299997, 26.6, 26.1, 24.9285714286, 24.9428571429, 24.842857142899998, 25.471428571399997, 25.1285714286, 25.1142857143, 23.6142857143, 22.842857142899998, 25.1714285714, 24.9285714286, 25.2, 24.771428571399998, 24.528571428600003, 24.0, 25.0714285714, 24.8, 24.4, 25.5857142857, 25.971428571399997, 25.8, 26.9285714286, 27.1428571429, 26.6428571429, 26.6, 26.8142857143, 27.5571428571, 27.8571428571, 27.985714285700002, 27.4285714286, 27.771428571399998, 27.971428571399997, 28.271428571399998, 28.528571428600003, 28.3285714286, 28.214285714299997, 28.271428571399998, 28.6142857143, 28.728571428600002, 27.1857142857, 27.985714285700002, 28.1857142857, 27.7571428571, 27.528571428600003, 27.771428571399998, 27.8, 28.0571428571, 27.1428571429, 27.5428571429, 25.8714285714, 26.3285714286, 26.8714285714, 26.3, 26.8142857143, 25.9142857143, 25.3857142857, 25.1285714286, 25.3142857143, 25.0714285714, 24.9571428571, 25.2428571429, 25.0, 25.342857142899998, 24.7571428571, 24.8142857143, 24.7, 26.7, 26.3285714286, 26.0428571429, 27.0857142857, 26.271428571399998, 26.7, 27.2, 26.7571428571, 27.485714285700002, 27.8571428571, 28.8285714286, 28.471428571399997, 28.0714285714, 28.514285714299998, 27.728571428600002, 28.6285714286, 28.228571428600002, 28.342857142899998, 28.1142857143, 28.5857142857, 28.0571428571, 27.9285714286, 28.6428571429, 28.971428571399997, 28.271428571399998, 27.9, 28.3714285714, 28.0857142857, 27.971428571399997, 29.228571428600002, 28.4, 26.8571428571, 27.9142857143, 27.9428571429, 26.728571428600002, 26.5857142857, 26.528571428600003, 26.342857142899998, 25.285714285700003, 26.3142857143, 25.6, 25.6714285714, 25.528571428600003, 25.4571428571, 25.3285714286, 26.214285714299997, 25.657142857100002, 24.971428571399997, 25.4142857143, 25.785714285700003, 25.2, 25.4571428571, 25.842857142899998, 25.785714285700003, 26.7571428571, 26.228571428600002, 27.1142857143, 25.4571428571, 25.7, 26.4571428571, 26.4428571429, 26.1428571429, 27.714285714299997, 28.1714285714, 28.4428571429, 28.4571428571, 28.528571428600003, 27.5857142857, 28.342857142899998, 28.157142857100002, 28.285714285700003, 28.228571428600002, 28.485714285700002, 28.471428571399997, 28.7428571429, 28.0, 28.6428571429, 27.5, 29.157142857100002, 28.657142857100002, 28.2, 27.771428571399998, 27.9428571429, 27.5428571429, 27.985714285700002, 27.5428571429, 27.3857142857, 27.3142857143, 27.214285714299997, 26.985714285700002, 26.4285714286, 26.0714285714, 25.9285714286, 25.7, 25.0571428571, 25.4571428571, 25.728571428600002, 25.6857142857, 25.3285714286, 25.2, 25.4, 25.5857142857, 25.6285714286, 25.285714285700003, 26.5428571429, 26.4571428571, 26.9285714286, 26.7, 26.4, 26.4285714286, 25.3571428571, 26.9285714286, 27.6428571429, 26.9, 27.0571428571, 27.7571428571, 27.971428571399997, 27.4, 27.471428571399997, 28.028571428600003, 28.6428571429, 28.0428571429, 27.471428571399997, 28.1428571429, 27.8714285714, 28.0714285714, 27.9285714286, 28.1428571429, 27.9142857143, 27.6857142857, 28.728571428600002, 28.8714285714, 28.0428571429, 28.6, 28.1, 27.1285714286, 28.028571428600003, 27.8, 27.3714285714, 27.157142857100002, 26.3, 25.971428571399997, 26.1857142857, 25.6428571429, 25.842857142899998, 26.014285714299998, null, 24.3857142857, 24.342857142899998, 24.528571428600003, 24.6285714286, 24.985714285700002, 24.8857142857, 25.2, 24.1857142857, 25.157142857100002, 25.4285714286, 25.9142857143, 25.5571428571, 24.7, 25.4, 25.9571428571, 25.842857142899998, 26.157142857100002, 26.271428571399998, 26.728571428600002, 26.0428571429, 24.8142857143, 27.9571428571, 28.0428571429, 28.3285714286, 28.228571428600002, 28.342857142899998, 27.8285714286, 28.2428571429, 28.014285714299998, 28.0428571429, 28.528571428600003, 28.9428571429, 29.0, 29.0571428571, 28.6142857143, 28.985714285700002, 28.6428571429, 27.228571428600002, 29.1428571429, 28.285714285700003, 28.1285714286, 28.285714285700003, 27.5, 27.0571428571, 27.2428571429, 26.3285714286, 26.3285714286, 25.6428571429, 25.157142857100002, 26.271428571399998, 26.2428571429, null, 24.985714285700002, 25.2, 25.228571428600002, 23.7571428571, 23.714285714299997, 23.3142857143, 23.4142857143, 24.485714285700002, 25.028571428600003, 26.014285714299998, 25.842857142899998, 26.4, 27.485714285700002, 27.3, 27.4, 28.1714285714, 26.785714285700003, 27.3714285714, 27.3, 26.271428571399998, 28.3857142857, 28.842857142899998, 28.728571428600002, 27.514285714299998, 30.028571428600003, 29.0428571429, 29.028571428600003, 28.4428571429, 28.3857142857, 28.9285714286, 28.9428571429, 29.471428571399997, 29.3285714286, 27.9285714286, 28.0857142857, 28.8571428571, 29.2428571429, 28.5857142857, 28.6285714286, 28.014285714299998, 27.014285714299998, 28.0428571429, 27.971428571399997, 27.9571428571, 27.8714285714, 27.157142857100002, 26.528571428600003, 26.228571428600002, 24.985714285700002, 25.4571428571, 24.6285714286, 25.8857142857, 24.657142857100002, 24.0571428571, 24.714285714299997, 24.285714285700003, 23.4142857143, 23.9142857143, 24.7428571429, 24.8571428571, 25.3, 25.528571428600003, 25.514285714299998, 25.6857142857, 26.657142857100002, 25.4285714286, 25.8571428571, 26.6857142857, 26.3142857143, 26.5, 25.9428571429, 27.8142857143, 29.028571428600003, 28.5857142857, 28.9142857143, 28.9428571429, 28.0714285714, 27.8714285714, 27.9428571429, 27.842857142899998, 27.485714285700002, 28.6, 27.8285714286, 27.4428571429, 28.6428571429, 27.985714285700002, 28.1285714286, 28.5428571429, 28.528571428600003, 28.8285714286, 28.9571428571, 28.8571428571, 28.7, 28.3571428571, 28.1142857143, 28.5, 27.985714285700002, 27.1857142857, 27.0428571429, 27.4142857143, 25.9428571429, 26.528571428600003, 25.9285714286, 25.3571428571, 25.0857142857, 24.971428571399997, 25.0, 25.0857142857, 25.6, 26.157142857100002, 26.4142857143, 25.6285714286, 26.5571428571, 26.714285714299997, 26.8571428571, 27.1285714286, 25.6, 26.3857142857, 27.728571428600002, 26.8714285714, 26.214285714299997, 27.3285714286, 29.0, 28.7571428571, 28.4571428571, 29.2, 28.5428571429, 29.014285714299998, 29.271428571399998, 28.842857142899998, 28.8714285714, 28.5714285714, 28.5714285714, 28.6285714286, 28.6142857143, 28.3857142857, 28.4571428571, 28.3857142857, 28.3142857143, 28.8714285714, 28.3, 28.1714285714, 27.985714285700002, 28.1285714286, 29.1, 27.9571428571, 26.2, 27.4428571429, 26.8142857143, 26.9, 25.4428571429, 25.842857142899998, 25.771428571399998, 25.0714285714, 25.0857142857, 25.4, 24.971428571399997, 24.4285714286, 24.528571428600003, 24.5714285714, 24.214285714299997, 24.8, 24.9, 24.7428571429, 25.1142857143, 25.3285714286, 25.2, 25.0428571429, 26.2428571429, 25.0, 25.3142857143, 27.0428571429], \"yaxis\": \"y\"}],\n",
              "                        {\"autosize\": false, \"height\": 600, \"template\": {\"data\": {\"bar\": [{\"error_x\": {\"color\": \"#2a3f5f\"}, \"error_y\": {\"color\": \"#2a3f5f\"}, \"marker\": {\"line\": {\"color\": \"#E5ECF6\", \"width\": 0.5}}, \"type\": \"bar\"}], \"barpolar\": [{\"marker\": {\"line\": {\"color\": \"#E5ECF6\", \"width\": 0.5}}, \"type\": \"barpolar\"}], \"carpet\": [{\"aaxis\": {\"endlinecolor\": \"#2a3f5f\", \"gridcolor\": \"white\", \"linecolor\": \"white\", \"minorgridcolor\": \"white\", \"startlinecolor\": \"#2a3f5f\"}, \"baxis\": {\"endlinecolor\": \"#2a3f5f\", \"gridcolor\": \"white\", \"linecolor\": \"white\", \"minorgridcolor\": \"white\", \"startlinecolor\": \"#2a3f5f\"}, \"type\": \"carpet\"}], \"choropleth\": [{\"colorbar\": {\"outlinewidth\": 0, \"ticks\": \"\"}, \"type\": \"choropleth\"}], \"contour\": [{\"colorbar\": {\"outlinewidth\": 0, \"ticks\": \"\"}, \"colorscale\": [[0.0, \"#0d0887\"], [0.1111111111111111, \"#46039f\"], [0.2222222222222222, \"#7201a8\"], [0.3333333333333333, \"#9c179e\"], [0.4444444444444444, \"#bd3786\"], [0.5555555555555556, \"#d8576b\"], [0.6666666666666666, \"#ed7953\"], [0.7777777777777778, \"#fb9f3a\"], [0.8888888888888888, \"#fdca26\"], [1.0, \"#f0f921\"]], \"type\": \"contour\"}], \"contourcarpet\": [{\"colorbar\": {\"outlinewidth\": 0, \"ticks\": \"\"}, \"type\": \"contourcarpet\"}], \"heatmap\": [{\"colorbar\": {\"outlinewidth\": 0, \"ticks\": \"\"}, \"colorscale\": [[0.0, \"#0d0887\"], [0.1111111111111111, \"#46039f\"], [0.2222222222222222, \"#7201a8\"], [0.3333333333333333, \"#9c179e\"], [0.4444444444444444, \"#bd3786\"], [0.5555555555555556, \"#d8576b\"], [0.6666666666666666, \"#ed7953\"], [0.7777777777777778, \"#fb9f3a\"], [0.8888888888888888, \"#fdca26\"], [1.0, \"#f0f921\"]], \"type\": \"heatmap\"}], \"heatmapgl\": [{\"colorbar\": {\"outlinewidth\": 0, \"ticks\": \"\"}, \"colorscale\": [[0.0, \"#0d0887\"], [0.1111111111111111, \"#46039f\"], [0.2222222222222222, \"#7201a8\"], [0.3333333333333333, \"#9c179e\"], [0.4444444444444444, \"#bd3786\"], [0.5555555555555556, \"#d8576b\"], [0.6666666666666666, \"#ed7953\"], [0.7777777777777778, \"#fb9f3a\"], [0.8888888888888888, \"#fdca26\"], [1.0, \"#f0f921\"]], \"type\": \"heatmapgl\"}], \"histogram\": [{\"marker\": {\"colorbar\": {\"outlinewidth\": 0, \"ticks\": \"\"}}, \"type\": \"histogram\"}], \"histogram2d\": [{\"colorbar\": {\"outlinewidth\": 0, \"ticks\": \"\"}, \"colorscale\": [[0.0, \"#0d0887\"], [0.1111111111111111, \"#46039f\"], [0.2222222222222222, \"#7201a8\"], [0.3333333333333333, \"#9c179e\"], [0.4444444444444444, \"#bd3786\"], [0.5555555555555556, \"#d8576b\"], [0.6666666666666666, \"#ed7953\"], [0.7777777777777778, \"#fb9f3a\"], [0.8888888888888888, \"#fdca26\"], [1.0, \"#f0f921\"]], \"type\": \"histogram2d\"}], \"histogram2dcontour\": [{\"colorbar\": {\"outlinewidth\": 0, \"ticks\": \"\"}, \"colorscale\": [[0.0, \"#0d0887\"], [0.1111111111111111, \"#46039f\"], [0.2222222222222222, \"#7201a8\"], [0.3333333333333333, \"#9c179e\"], [0.4444444444444444, \"#bd3786\"], [0.5555555555555556, \"#d8576b\"], [0.6666666666666666, \"#ed7953\"], [0.7777777777777778, \"#fb9f3a\"], [0.8888888888888888, \"#fdca26\"], [1.0, \"#f0f921\"]], \"type\": \"histogram2dcontour\"}], \"mesh3d\": [{\"colorbar\": {\"outlinewidth\": 0, \"ticks\": \"\"}, \"type\": \"mesh3d\"}], \"parcoords\": [{\"line\": {\"colorbar\": {\"outlinewidth\": 0, \"ticks\": \"\"}}, \"type\": \"parcoords\"}], \"pie\": [{\"automargin\": true, \"type\": \"pie\"}], \"scatter\": [{\"marker\": {\"colorbar\": {\"outlinewidth\": 0, \"ticks\": \"\"}}, \"type\": \"scatter\"}], \"scatter3d\": [{\"line\": {\"colorbar\": {\"outlinewidth\": 0, \"ticks\": \"\"}}, \"marker\": {\"colorbar\": {\"outlinewidth\": 0, \"ticks\": \"\"}}, \"type\": \"scatter3d\"}], \"scattercarpet\": [{\"marker\": {\"colorbar\": {\"outlinewidth\": 0, \"ticks\": \"\"}}, \"type\": \"scattercarpet\"}], \"scattergeo\": [{\"marker\": {\"colorbar\": {\"outlinewidth\": 0, \"ticks\": \"\"}}, \"type\": \"scattergeo\"}], \"scattergl\": [{\"marker\": {\"colorbar\": {\"outlinewidth\": 0, \"ticks\": \"\"}}, \"type\": \"scattergl\"}], \"scattermapbox\": [{\"marker\": {\"colorbar\": {\"outlinewidth\": 0, \"ticks\": \"\"}}, \"type\": \"scattermapbox\"}], \"scatterpolar\": [{\"marker\": {\"colorbar\": {\"outlinewidth\": 0, \"ticks\": \"\"}}, \"type\": \"scatterpolar\"}], \"scatterpolargl\": [{\"marker\": {\"colorbar\": {\"outlinewidth\": 0, \"ticks\": \"\"}}, \"type\": \"scatterpolargl\"}], \"scatterternary\": [{\"marker\": {\"colorbar\": {\"outlinewidth\": 0, \"ticks\": \"\"}}, \"type\": \"scatterternary\"}], \"surface\": [{\"colorbar\": {\"outlinewidth\": 0, \"ticks\": \"\"}, \"colorscale\": [[0.0, \"#0d0887\"], [0.1111111111111111, \"#46039f\"], [0.2222222222222222, \"#7201a8\"], [0.3333333333333333, \"#9c179e\"], [0.4444444444444444, \"#bd3786\"], [0.5555555555555556, \"#d8576b\"], [0.6666666666666666, \"#ed7953\"], [0.7777777777777778, \"#fb9f3a\"], [0.8888888888888888, \"#fdca26\"], [1.0, \"#f0f921\"]], \"type\": \"surface\"}], \"table\": [{\"cells\": {\"fill\": {\"color\": \"#EBF0F8\"}, \"line\": {\"color\": \"white\"}}, \"header\": {\"fill\": {\"color\": \"#C8D4E3\"}, \"line\": {\"color\": \"white\"}}, \"type\": \"table\"}]}, \"layout\": {\"annotationdefaults\": {\"arrowcolor\": \"#2a3f5f\", \"arrowhead\": 0, \"arrowwidth\": 1}, \"coloraxis\": {\"colorbar\": {\"outlinewidth\": 0, \"ticks\": \"\"}}, \"colorscale\": {\"diverging\": [[0, \"#8e0152\"], [0.1, \"#c51b7d\"], [0.2, \"#de77ae\"], [0.3, \"#f1b6da\"], [0.4, \"#fde0ef\"], [0.5, \"#f7f7f7\"], [0.6, \"#e6f5d0\"], [0.7, \"#b8e186\"], [0.8, \"#7fbc41\"], [0.9, \"#4d9221\"], [1, \"#276419\"]], \"sequential\": [[0.0, \"#0d0887\"], [0.1111111111111111, \"#46039f\"], [0.2222222222222222, \"#7201a8\"], [0.3333333333333333, \"#9c179e\"], [0.4444444444444444, \"#bd3786\"], [0.5555555555555556, \"#d8576b\"], [0.6666666666666666, \"#ed7953\"], [0.7777777777777778, \"#fb9f3a\"], [0.8888888888888888, \"#fdca26\"], [1.0, \"#f0f921\"]], \"sequentialminus\": [[0.0, \"#0d0887\"], [0.1111111111111111, \"#46039f\"], [0.2222222222222222, \"#7201a8\"], [0.3333333333333333, \"#9c179e\"], [0.4444444444444444, \"#bd3786\"], [0.5555555555555556, \"#d8576b\"], [0.6666666666666666, \"#ed7953\"], [0.7777777777777778, \"#fb9f3a\"], [0.8888888888888888, \"#fdca26\"], [1.0, \"#f0f921\"]]}, \"colorway\": [\"#636efa\", \"#EF553B\", \"#00cc96\", \"#ab63fa\", \"#FFA15A\", \"#19d3f3\", \"#FF6692\", \"#B6E880\", \"#FF97FF\", \"#FECB52\"], \"font\": {\"color\": \"#2a3f5f\"}, \"geo\": {\"bgcolor\": \"white\", \"lakecolor\": \"white\", \"landcolor\": \"#E5ECF6\", \"showlakes\": true, \"showland\": true, \"subunitcolor\": \"white\"}, \"hoverlabel\": {\"align\": \"left\"}, \"hovermode\": \"closest\", \"mapbox\": {\"style\": \"light\"}, \"paper_bgcolor\": \"white\", \"plot_bgcolor\": \"#E5ECF6\", \"polar\": {\"angularaxis\": {\"gridcolor\": \"white\", \"linecolor\": \"white\", \"ticks\": \"\"}, \"bgcolor\": \"#E5ECF6\", \"radialaxis\": {\"gridcolor\": \"white\", \"linecolor\": \"white\", \"ticks\": \"\"}}, \"scene\": {\"xaxis\": {\"backgroundcolor\": \"#E5ECF6\", \"gridcolor\": \"white\", \"gridwidth\": 2, \"linecolor\": \"white\", \"showbackground\": true, \"ticks\": \"\", \"zerolinecolor\": \"white\"}, \"yaxis\": {\"backgroundcolor\": \"#E5ECF6\", \"gridcolor\": \"white\", \"gridwidth\": 2, \"linecolor\": \"white\", \"showbackground\": true, \"ticks\": \"\", \"zerolinecolor\": \"white\"}, \"zaxis\": {\"backgroundcolor\": \"#E5ECF6\", \"gridcolor\": \"white\", \"gridwidth\": 2, \"linecolor\": \"white\", \"showbackground\": true, \"ticks\": \"\", \"zerolinecolor\": \"white\"}}, \"shapedefaults\": {\"line\": {\"color\": \"#2a3f5f\"}}, \"ternary\": {\"aaxis\": {\"gridcolor\": \"white\", \"linecolor\": \"white\", \"ticks\": \"\"}, \"baxis\": {\"gridcolor\": \"white\", \"linecolor\": \"white\", \"ticks\": \"\"}, \"bgcolor\": \"#E5ECF6\", \"caxis\": {\"gridcolor\": \"white\", \"linecolor\": \"white\", \"ticks\": \"\"}}, \"title\": {\"x\": 0.05}, \"xaxis\": {\"automargin\": true, \"gridcolor\": \"white\", \"linecolor\": \"white\", \"ticks\": \"\", \"title\": {\"standoff\": 15}, \"zerolinecolor\": \"white\", \"zerolinewidth\": 2}, \"yaxis\": {\"automargin\": true, \"gridcolor\": \"white\", \"linecolor\": \"white\", \"ticks\": \"\", \"title\": {\"standoff\": 15}, \"zerolinecolor\": \"white\", \"zerolinewidth\": 2}}}, \"title\": {\"text\": \"Adatok\"}, \"width\": 1200, \"xaxis\": {\"anchor\": \"y\", \"domain\": [0.0, 1.0]}, \"yaxis\": {\"anchor\": \"x\", \"domain\": [0.0, 1.0]}},\n",
              "                        {\"responsive\": true}\n",
              "                    ).then(function(){\n",
              "                            \n",
              "var gd = document.getElementById('69d266fe-66ef-4126-a483-4a3a16c76eb0');\n",
              "var x = new MutationObserver(function (mutations, observer) {{\n",
              "        var display = window.getComputedStyle(gd).display;\n",
              "        if (!display || display === 'none') {{\n",
              "            console.log([gd, 'removed!']);\n",
              "            Plotly.purge(gd);\n",
              "            observer.disconnect();\n",
              "        }}\n",
              "}});\n",
              "\n",
              "// Listen for the removal of the full notebook cells\n",
              "var notebookContainer = gd.closest('#notebook-container');\n",
              "if (notebookContainer) {{\n",
              "    x.observe(notebookContainer, {childList: true});\n",
              "}}\n",
              "\n",
              "// Listen for the clearing of the current output cell\n",
              "var outputEl = gd.closest('.output');\n",
              "if (outputEl) {{\n",
              "    x.observe(outputEl, {childList: true});\n",
              "}}\n",
              "\n",
              "                        })\n",
              "                };\n",
              "                \n",
              "            </script>\n",
              "        </div>\n",
              "</body>\n",
              "</html>"
            ]
          },
          "metadata": {
            "tags": []
          }
        }
      ]
    },
    {
      "cell_type": "code",
      "metadata": {
        "id": "w1VRyWOFkoUg",
        "colab": {
          "base_uri": "https://localhost:8080/"
        },
        "outputId": "fbd82c85-c215-46f0-d82c-6b93ae277d62"
      },
      "source": [
        "import matplotlib.pyplot as plt\n",
        "from matplotlib.pyplot import figure\n",
        "\n",
        "\n",
        "from statsmodels.tsa.seasonal import  seasonal_decompose\n",
        "\n",
        "import matplotlib as mpl"
      ],
      "execution_count": 24,
      "outputs": [
        {
          "output_type": "stream",
          "text": [
            "/usr/local/lib/python3.7/dist-packages/statsmodels/tools/_testing.py:19: FutureWarning:\n",
            "\n",
            "pandas.util.testing is deprecated. Use the functions in the public API at pandas.testing instead.\n",
            "\n"
          ],
          "name": "stderr"
        }
      ]
    },
    {
      "cell_type": "code",
      "metadata": {
        "id": "IORDwbKrisCg",
        "colab": {
          "base_uri": "https://localhost:8080/",
          "height": 542
        },
        "outputId": "d76242c0-d840-4ab7-c681-2d3f22193a28"
      },
      "source": [
        "import plotly.express as px\n",
        "from plotly.subplots import make_subplots\n",
        "import plotly.graph_objects as go\n",
        "\n",
        "df=X_train_sj\n",
        "\n",
        "data1 = seasonal_decompose(df[\"total_cases\"][0:-1].values,model=\"additive\", freq=51,) # 5 percenként vannak a minták\n",
        "  \n",
        "\n",
        "fig2 = make_subplots(rows=4, cols=1,shared_xaxes=True)\n",
        "fig2.add_trace(\n",
        "    go.Scatter(x=df.index[0:-1], y=data1.resid,name=\"Residual\" ),\n",
        "\n",
        "    row=1, col=1\n",
        ")\n",
        "fig2.add_trace(\n",
        "    go.Scatter( x=df.index[0:-1], y=data1.trend,name=\"Trend\"),\n",
        "\n",
        "    row=2, col=1\n",
        ")\n",
        "fig2.add_trace(\n",
        "    go.Scatter( x=df.index[0:-1], y=data1.seasonal,name=\"Seasonal\"),\n",
        "\n",
        "    row=3, col=1\n",
        ")\n",
        "\n",
        "fig2.add_trace(\n",
        "    go.Scatter( x=df.index[0:-1], y=data1.observed,name=\"Observed\"),\n",
        "\n",
        "    row=4, col=1\n",
        ")\n",
        "\n",
        "fig2.update_layout(\n",
        "    font_family=\"Courier New\",\n",
        "    font_color=\"blue\",\n",
        "    title_font_family=\"Times New Roman\",\n",
        "    title_font_color=\"red\",\n",
        ")\n",
        "\n",
        "fig2.show()\n",
        "\n"
      ],
      "execution_count": 25,
      "outputs": [
        {
          "output_type": "display_data",
          "data": {
            "text/html": [
              "<html>\n",
              "<head><meta charset=\"utf-8\" /></head>\n",
              "<body>\n",
              "    <div>\n",
              "            <script src=\"https://cdnjs.cloudflare.com/ajax/libs/mathjax/2.7.5/MathJax.js?config=TeX-AMS-MML_SVG\"></script><script type=\"text/javascript\">if (window.MathJax) {MathJax.Hub.Config({SVG: {font: \"STIX-Web\"}});}</script>\n",
              "                <script type=\"text/javascript\">window.PlotlyConfig = {MathJaxConfig: 'local'};</script>\n",
              "        <script src=\"https://cdn.plot.ly/plotly-latest.min.js\"></script>    \n",
              "            <div id=\"4c6a2df6-f739-481e-ba69-d80ac2c2316e\" class=\"plotly-graph-div\" style=\"height:525px; width:100%;\"></div>\n",
              "            <script type=\"text/javascript\">\n",
              "                \n",
              "                    window.PLOTLYENV=window.PLOTLYENV || {};\n",
              "                    \n",
              "                if (document.getElementById(\"4c6a2df6-f739-481e-ba69-d80ac2c2316e\")) {\n",
              "                    Plotly.newPlot(\n",
              "                        '4c6a2df6-f739-481e-ba69-d80ac2c2316e',\n",
              "                        [{\"name\": \"Residual\", \"type\": \"scatter\", \"x\": [0, 1, 2, 3, 4, 5, 6, 7, 8, 9, 10, 11, 12, 13, 14, 15, 16, 17, 18, 19, 20, 21, 22, 23, 24, 25, 26, 27, 28, 29, 30, 31, 32, 33, 34, 35, 36, 37, 38, 39, 40, 41, 42, 43, 44, 45, 46, 47, 48, 49, 50, 51, 52, 53, 54, 55, 56, 57, 58, 59, 60, 61, 62, 63, 64, 65, 66, 67, 68, 69, 70, 71, 72, 73, 74, 75, 76, 77, 78, 79, 80, 81, 82, 83, 84, 85, 86, 87, 88, 89, 90, 91, 92, 93, 94, 95, 96, 97, 98, 99, 100, 101, 102, 103, 104, 105, 106, 107, 108, 109, 110, 111, 112, 113, 114, 115, 116, 117, 118, 119, 120, 121, 122, 123, 124, 125, 126, 127, 128, 129, 130, 131, 132, 133, 134, 135, 136, 137, 138, 139, 140, 141, 142, 143, 144, 145, 146, 147, 148, 149, 150, 151, 152, 153, 154, 155, 156, 157, 158, 159, 160, 161, 162, 163, 164, 165, 166, 167, 168, 169, 170, 171, 172, 173, 174, 175, 176, 177, 178, 179, 180, 181, 182, 183, 184, 185, 186, 187, 188, 189, 190, 191, 192, 193, 194, 195, 196, 197, 198, 199, 200, 201, 202, 203, 204, 205, 206, 207, 208, 209, 210, 211, 212, 213, 214, 215, 216, 217, 218, 219, 220, 221, 222, 223, 224, 225, 226, 227, 228, 229, 230, 231, 232, 233, 234, 235, 236, 237, 238, 239, 240, 241, 242, 243, 244, 245, 246, 247, 248, 249, 250, 251, 252, 253, 254, 255, 256, 257, 258, 259, 260, 261, 262, 263, 264, 265, 266, 267, 268, 269, 270, 271, 272, 273, 274, 275, 276, 277, 278, 279, 280, 281, 282, 283, 284, 285, 286, 287, 288, 289, 290, 291, 292, 293, 294, 295, 296, 297, 298, 299, 300, 301, 302, 303, 304, 305, 306, 307, 308, 309, 310, 311, 312, 313, 314, 315, 316, 317, 318, 319, 320, 321, 322, 323, 324, 325, 326, 327, 328, 329, 330, 331, 332, 333, 334, 335, 336, 337, 338, 339, 340, 341, 342, 343, 344, 345, 346, 347, 348, 349, 350, 351, 352, 353, 354, 355, 356, 357, 358, 359, 360, 361, 362, 363, 364, 365, 366, 367, 368, 369, 370, 371, 372, 373, 374, 375, 376, 377, 378, 379, 380, 381, 382, 383, 384, 385, 386, 387, 388, 389, 390, 391, 392, 393, 394, 395, 396, 397, 398, 399, 400, 401, 402, 403, 404, 405, 406, 407, 408, 409, 410, 411, 412, 413, 414, 415, 416, 417, 418, 419, 420, 421, 422, 423, 424, 425, 426, 427, 428, 429, 430, 431, 432, 433, 434, 435, 436, 437, 438, 439, 440, 441, 442, 443, 444, 445, 446, 447, 448, 449, 450, 451, 452, 453, 454, 455, 456, 457, 458, 459, 460, 461, 462, 463, 464, 465, 466, 467, 468, 469, 470, 471, 472, 473, 474, 475, 476, 477, 478, 479, 480, 481, 482, 483, 484, 485, 486, 487, 488, 489, 490, 491, 492, 493, 494, 495, 496, 497, 498, 499, 500, 501, 502, 503, 504, 505, 506, 507, 508, 509, 510, 511, 512, 513, 514, 515, 516, 517, 518, 519, 520, 521, 522, 523, 524, 525, 526, 527, 528, 529, 530, 531, 532, 533, 534, 535, 536, 537, 538, 539, 540, 541, 542, 543, 544, 545, 546, 547, 548, 549, 550, 551, 552, 553, 554, 555, 556, 557, 558, 559, 560, 561, 562, 563, 564, 565, 566, 567, 568, 569, 570, 571, 572, 573, 574, 575, 576, 577, 578, 579, 580, 581, 582, 583, 584, 585, 586, 587, 588, 589, 590, 591, 592, 593, 594, 595, 596, 597, 598, 599, 600, 601, 602, 603, 604, 605, 606, 607, 608, 609, 610, 611, 612, 613, 614, 615, 616, 617, 618, 619, 620, 621, 622, 623, 624, 625, 626, 627, 628, 629, 630, 631, 632, 633, 634, 635, 636, 637, 638, 639, 640, 641, 642, 643, 644, 645, 646, 647, 648, 649, 650, 651, 652, 653, 654, 655, 656, 657, 658, 659, 660, 661, 662, 663, 664, 665, 666, 667, 668, 669, 670, 671, 672, 673, 674, 675, 676, 677, 678, 679, 680, 681, 682, 683, 684, 685, 686, 687, 688, 689, 690, 691, 692, 693, 694, 695, 696, 697, 698, 699, 700, 701, 702, 703, 704, 705, 706, 707, 708, 709, 710, 711, 712, 713, 714, 715, 716, 717, 718, 719, 720, 721, 722, 723, 724, 725, 726, 727, 728, 729, 730, 731, 732, 733, 734, 735, 736, 737, 738, 739, 740, 741, 742, 743, 744, 745, 746, 747, 748, 749, 750, 751, 752, 753, 754, 755, 756, 757, 758, 759, 760, 761, 762, 763, 764, 765, 766, 767, 768, 769, 770, 771, 772, 773, 774, 775, 776, 777, 778, 779, 780, 781, 782, 783, 784, 785, 786, 787, 788, 789, 790, 791, 792, 793, 794, 795, 796, 797, 798, 799, 800, 801, 802, 803, 804, 805, 806, 807, 808, 809, 810, 811, 812, 813, 814, 815, 816, 817, 818, 819, 820, 821, 822, 823, 824, 825, 826, 827, 828, 829, 830, 831, 832, 833, 834, 835, 836, 837, 838, 839, 840, 841, 842, 843, 844, 845, 846, 847, 848, 849, 850, 851, 852, 853, 854, 855, 856, 857, 858, 859, 860, 861, 862, 863, 864, 865, 866, 867, 868, 869, 870, 871, 872, 873, 874, 875, 876, 877, 878, 879, 880, 881, 882, 883, 884, 885, 886, 887, 888, 889, 890, 891, 892, 893, 894, 895, 896, 897, 898, 899, 900, 901, 902, 903, 904, 905, 906, 907, 908, 909, 910, 911, 912, 913, 914, 915, 916, 917, 918, 919, 920, 921, 922, 923, 924, 925, 926, 927, 928, 929, 930, 931, 932, 933, 934], \"xaxis\": \"x\", \"y\": [null, null, null, null, null, null, null, null, null, null, null, null, null, null, null, null, null, null, null, null, null, null, null, null, null, -9.1017632735524, 4.399326051066328, 19.952702957384425, -9.69326654152625, 4.156406661088127, 0.6934436981251579, -9.33161076810579, -14.90568484217986, -31.44054322997941, -29.076708807321467, -26.535314471809475, -22.807645626493578, -15.87627307747397, -5.0592796134216815, -6.96886567006656, -20.30764562649358, -15.003724057866126, -3.3435933389118757, -7.062291275602893, -0.6101574809085459, -6.069211690827803, -6.535186315971983, -6.581322417471409, -6.765866823469107, -6.289511575487554, 3.0334411350084167, -5.627458518970823, -4.653986777332996, -10.227227838463335, -6.290664978025049, -12.934263593941996, -11.208773397863578, -6.420999464760918, -7.408312036848564, -16.370249753111544, -13.118807999939694, -19.31603983384972, -19.4463743205856, -18.177631529351466, -13.668981010320312, -14.456754943422961, 19.169542634431707, 14.132633753232168, 25.04497516038326, 12.256047824743126, 8.895032830510136, 8.258354629818097, 19.59053456061395, 12.193764087718915, 58.46942729417796, 31.583614145389024, 55.15313868723191, 35.654228011850634, 48.32525197699227, 45.60085110553258, 34.48973999442146, 35.791482913811436, 66.86446766326675, 38.56490339311426, 10.382986181785284, -18.292395081831273, -17.672569373770262, -3.1605868029641684, 21.672746530369167, 10.528955680695974, 0.6781931534628427, -22.75862601865044, -19.964508371591624, -1.0102600055785365, -27.885820687367602, -18.335647676986973, 2.1660824268192513, -16.73126474734454, -17.09112633904004, -23.942337411704397, -17.995393928428733, -14.162637296364139, -14.019615381715926, -16.595163247921235, -13.266443524737838, -5.820076742730926, -5.444067515510614, -8.365636142961602, -5.89158770005502, -6.4475277231230805, -4.8604458315429255, 1.881192000060306, 5.311411146542433, 8.3379394049046, 5.5870743530014835, 5.331018989679695, 10.602068585988807, 11.404836752078772, 7.426751400290987, 0.7116418270499256, 20.432518412978418, 26.895032830510136, 31.983844825896522, 21.139554168457078, 20.546705264189494, 15.430211607903448, 4.269888655192954, -5.591959351983782, 11.575796639301618, -1.3021990033998918, -7.457972423879198, -18.00045608400992, -28.208517086188568, -23.723767630850887, -10.807645626493581, -6.009170680959805, -11.547297042615583, -19.496098785534965, -20.533135822572014, -18.993920136297504, -13.804377652637369, -22.43945390536068, -10.425292685317109, -5.78803778335632, 2.852485092460669, -5.670134412857796, -9.865059441692859, -9.755486200631726, -0.5940098453837512, -1.6401459468831767, -5.9423374117044006, -4.524805693134619, -0.9273431787170772, -1.941184009166907, 0.4832681246277879, 2.8904192203601973, 9.081884041582796, 15.987305033508981, 7.026520719783488, 10.128020143082225, 17.552472276876923, 18.88465220767277, 12.390995921628939, 22.25258761713067, 12.161468816669299, 19.959623372609315, 17.762391538699294, 13.856970546773113, 11.365621065804252, 14.956163164996868, 5.633210454500906, 10.805067432586258, 7.542091654039549, -7.6239983113583785, -4.154563478601745, -11.453294735810509, -14.197239372488706, -26.10266036441488, -23.59195935198377, -30.188909243051313, -22.537493121046946, -16.242286149369384, -16.157318829107954, -9.5418504195219, -15.547297042615593, -30.8860769990426, -32.224856955469605, -16.017885277909702, -16.672569373770262, -6.023331901003388, -12.229214253944564, -17.51026000557855, -13.910042140654806, -12.719410332375938, -0.10176327355240478, 6.676014504225376, 12.663198920475534, 1.7819993818365472, 6.224905956231012, 10.798147017361345, 7.202991308018785, -2.9619452548416554, -3.8189233401934377, -12.044990237540603, -12.117654597402204, -28.02653579694085, -30.031149407090787, -41.506351252534856, -43.522498888059644, -45.993087123353774, -57.93080338632954, -55.50635125253485, -55.507504655072346, -58.5109648626848, -66.78662806914384, -70.32872726176208, -66.86390603915538, -57.0219221867909, -68.28028435518769, -65.18339854203887, -62.27913095265017, -41.97463268275399, -40.60669727329608, -53.86967305184281, -40.58478262508385, -23.40946543938605, 30.91925428379732, 52.54785866672695, 120.21106512578116, 148.13353084409465, 235.00716918832126, 267.7762323691491, 300.32634130161097, 222.62699489638226, 174.53658095302714, 186.08015393777657, 242.95706025585935, 202.12808422100096, 199.11936962405107, 137.48429337132774, 74.60411907938877, 5.221766138212304, -28.118103142833448, 9.854663741698133, -45.89588092061124, -59.80764562649359, -68.48084824087266, -72.90542853050485, -76.43368689267326, -86.95156463200428, -94.49597062969748, -90.54210673119691, -83.56978839209656, -85.58362922254636, -82.28028435518766, -67.60785067583357, -61.0853593263526, -50.59977685807116, -52.3102728211623, -46.67936163315767, -38.64014594688318, -30.577862209858942, -25.467135566260325, -20.232994851150757, -12.648219764645564, 4.389842519091452, 0.10264528725753763, 0.3713880784916732, 5.840822911248317, 10.680499958537823, 2.3852289089415173, 3.152241596369427, 1.5547790819518976, 11.70702821689999, 4.953856359921904, 3.2583546298180996, -0.9388772040919351, -17.904275127967363, -8.43253349013576, 0.9169474787223777, -8.533135822572007, -16.561458262659162, -12.596316650458714, -18.869737129761546, -15.863201182049128, -10.424203360698371, -7.213963709282261, -15.47431229316025, -22.734660877038237, -13.331610768105783, -21.515706628672223, -2.454704450022991, -11.170390724532796, -14.059279613421685, -18.772787238694015, -5.915488763748483, -10.591959351983771, 1.8917007787351823, -0.8858206873675991, 13.527097421052238, 10.087651054270232, 6.307950938929975, 8.693187386450159, 16.292956705942657, 11.004606071571265, 15.170696036969197, 4.8823454025977995, 7.404836752078765, 8.302183926242545, 15.101491884720048, 16.869657974685452, 11.301030523705059, 11.63782406465085, 12.630903649425944, 11.237593384143358, 8.626290039275998, 10.154548401444394, 8.298723718630086, 9.11648611770736, 11.527097421052236, 9.543245056577035, 4.85581714423563, 4.191457282643929, 4.8488967290107166, 6.9619301776843, -1.0853593263526058, -2.0945865466524944, -10.389857596248802, -6.3944712063987375, -13.883513882292622, -18.749719187944294, -23.1017632735524, -22.54185041952191, -17.831610768105772, -17.4971881101537, -16.373005103617757, -20.757536694031703, -19.7629833171254, -22.160586802964172, -20.420935386842157, -20.037493121046957, -9.39805956984869, -7.552743665709265, -12.484116214728873, -4.627907064402075, -12.380630375948915, -3.739018175513186, 3.3296092754672086, 2.7348380336371436, 17.996532253808873, 13.527097421052238, 19.048435367995722, 9.09226466442017, 8.281422680567808, 16.41060376476619, 23.984998228434016, 16.602068585988803, 11.41175716730368, 8.444052438353268, 14.145321181144507, 11.885805610210241, 13.555932484489372, 19.24220699429329, 12.912333868572418, 9.042668355308297, 7.080730639045321, 7.528250823589726, 0.9780778132091008, 4.6516648951006765, 9.920407686334812, -0.2376084613007059, 2.2883430957927224, 3.9734642030591587, -6.141876050689403, -9.268750329812812, -18.449834528198053, -19.967712267529077, -13.173017919201513, -25.09573994918998, -38.218000618163444, -29.452141333273016, -27.710503501669788, -9.454704450022994, -21.443811203835633, -31.145336258301846, -30.967776345447817, -30.37300510361775, -12.130085713639541, -17.155140179870486, -3.7488220970818205, 42.598672456295105, 1.4919186436589271, -13.241196824750656, -9.258626018650446, -6.895880920611225, 12.568171366970484, -3.145336258301853, 7.574707314682891, 16.721766138212306, 18.283857641480274, 24.173002842044173, 7.017293499483612, 4.538631446427097, 7.1510881938319395, 23.536324641352127, 6.077270431432854, 3.9065668558849875, -18.14302945322688, -11.823536950343378, -29.163790698901636, -32.717423916894695, -25.29066497802505, -32.463675358647876, -33.22838124100082, -37.53864652358443, -34.74164537018189, -28.232994851150757, -28.863906039155378, -18.257216304437947, -16.583629222546374, -22.471749176410277, -15.237608461300699, -9.299892198324923, -0.16379069890163578, 28.03459453754588, 49.65281829763815, 46.33447919729214, 68.1695426344317, 104.82698208079849, 160.23759338414337, 223.80160722497382, 156.5870743530015, 111.3875357140165, 93.34921711860446, 64.34050252165456, -15.92964998379204, -63.340325365055655, -34.70633843695108, -12.796752380306213, 3.629173545619693, -50.297841704924956, -50.22485695546962, -52.41004214065481, -52.14315760906439, -35.59195935198378, -15.69980248923869, -11.176926672245214, -33.22376763085087, -19.58215543041515, 1.760981824486815, -11.029867848715803, -13.434840295210737, -10.002314343653646, 13.068043211132967, 14.641284272263306, -6.463675358647887, 3.194917490256376, 3.4359786205908716, -4.280284355187661, 8.254894422205648, 12.698954399137591, 5.008066279183723, -9.055370860377991, -3.836224378255725, 2.2029913080187846, -7.107273974564841, -0.8985081152799452, 1.453279658653159, -4.94233741170439, -6.296431990712463, -3.7600998107816714, 4.959623372609329, -0.6101574809085442, -3.8096961198935553, -0.7912416792937762, -6.906581933042341, -14.19031895726379, -5.861599234080403, -9.124575012627115, -12.741645370181903, -18.938877204091934, -13.355255520124224, -19.197239372488703, -6.14187605068939, -4.023331901003381, -28.698713164619946, -30.262983317125382, -5.281501835643898, 5.038759602264598, 8.791482913811432, -14.606120572027361, -4.7488220970818205, -22.695445190763728, -6.959061748497941, 16.954881606621893, 1.8982367264475926, -0.7586260186504443, 8.685818425794002, -4.851218611243034, 8.025687706839753, -2.435096606885737, -4.794573731068744, 0.4475126459657295, 4.99768565634635, 3.5582392895643515, 10.856970546773109, 8.26181483743055, 9.606682196138738, 4.592841365688914, 6.033441135008413, 7.254894422205641, 5.9538563599219, 6.106105494869997, 6.787766394523972, 15.477501111940358, 9.752010915861922, 11.657431907788105, 11.37600168864163, 12.37484828610414, 14.234133176530898, 14.801607224973804, 14.494802150002634, 11.626290039275988, 12.527097421052236, 12.6020685859888, 10.169542634431709, 5.7012612042125586, 7.260661434893068, 1.7854595894490046, 3.659738712863076, -4.3887041937113205, -12.429073282523316, -23.39447120639874, -22.903121725429884, -24.651679972258023, -30.00372405786613, -29.384987674423872, -34.910042140654795, -35.51679595329096, -29.706338436951093, -32.110477870502294, -43.9786695916352, -36.61156719512103, -29.028778524097056, -26.625728415164602, -12.907863491417318, -20.140978959826914, -7.0919593519837765, 3.705426268931257, 8.756624526011866, 7.33941319703583, 11.54529554997701, 10.656406661088118, 7.761238136161809, 17.880038597522827, 23.048435367995722, 8.974617605596642, 13.771618758999178, 17.332172392217167, 17.67127273823793, 13.170696036969195, 16.078423833970348, 23.895032830510136, 13.02767412232098, 22.121099727857306, 14.026520719783495, 10.085344249195256, 23.14762798621948, 13.160315414131826, 4.865044364535514, 6.155701803981884, 5.213371930856162, 6.161468816669306, 8.959623372609325, 3.6447444798757687, 1.1510881938319422, -5.301045600862405, 2.9953788512713846, -5.386397388636345, -9.253756096825507, -3.3402612871369257, -14.976939487828961, -12.644759557033115, -31.04153002992815, -30.785474666606355, -31.553640756571752, -25.023331901003385, -20.38498767442387, -21.63553233673322, -18.261893992506643, -6.137710985970699, 7.536580953027123, -11.312002924968532, -12.337057391199465, 0.5398489268833373, 4.001722565227553, 4.758803175249348, 17.584511236251522, 25.888432804878967, 33.13679881795086, 24.462506878953043, 32.280589667624064, 11.623726922526032, -1.83378941734325, 10.565159704789263, 4.997685656346354, -1.2652901222003585, 16.994225448733893, 20.555932484489375, 17.508642980452464, 13.337939404904601, 9.386382311479004, 9.215678735931132, 15.267581850117981, 10.596301573301375, 14.101491884720051, 4.752010915861927, 10.10495209233251, 8.14762798621948, 7.983844825896533, 5.76700514884924, 11.136093960844626, 10.821215068111062, 7.043821757845773, 9.136093960844615, 10.01729349948361, 9.445205840890761, 6.973464203059159, 14.407143557153734, 3.535171238814634, 1.628596844350966, -1.0853593263526093, -4.584782625083869, -12.193779164876258, -17.64937316718305, -21.589396235233803, -23.80854271735606, -24.023331901003385, -31.1104778705023, -26.00808135634107, -29.301109678781156, -27.94163255459815, -26.345771988149355, -36.07670880732148, -38.39588092061123, -33.63662166135197, -29.370826454380293, -18.515706628672223, -18.611567195121033, -16.562547587277894, -8.549475691853058, -17.400238219086173, -3.797841704924954, -6.650782881395541, -1.1671227506765867, 2.9769244106716126, 11.115332715169881, 4.283729485642778, 7.190303880106443, 14.124559935469765, 10.822368470648541, 14.063429600983032, 24.386382311479, 18.549012069264464, 16.659738712863074, 17.086497651732742, 17.611295806288677, 19.8500501315482, 20.575540327626626, 21.265275045043005, 18.513256590602417, 22.688573776300217, 13.35178023535443, 11.487881734777728, 15.965390385296754, 12.2733488628054, 12.311411146542433, 11.817754860498601, 8.679346556000333, 5.7600847336243195, 0.9665437878342455, 0.8442831188607709, 2.4244445952160163, -4.839684585868185, -10.232994851150767, -23.433686892673247, -16.05998447052792, -13.906581933042332, -24.18019464610142, -29.463419046972888, -20.96886567006656, -27.614835168977233, -15.647514907539328, -15.071262184227784, -29.861022532811674, -21.082155430415153, -23.283680484881373, -12.74337547398813, -0.12354976592711964, -3.3370573911994583, -5.091959351983773, 7.019151759127334, 2.2076049181687303, 8.849217118604459, 8.113923000957403, 10.5779752885391, 21.87888519498534, 18.115332715169885, 14.519023603289838, 3.6020685859888006, 12.791226602136437, 6.547858666726977, 15.35754724804186, 12.190303880106455, 8.568619912401722, 21.149934791294452, 15.282576083105294, 16.121099727857306, 13.202991308018788, 13.771618758999178, 11.226059358768502, 11.493648747465162, 12.492495344927672, 17.214525333393645, 10.252587617130668, 9.710488424512437, 7.743937098099515, 12.801607224973802, 15.40599015461625, 10.14993479129445, 6.113025910094912, 0.31948496430483253, 7.256047824743122, 7.640130869725821, 1.2191389435435847, -4.938877204091939, -14.786628069143836, -21.17763152935145, -10.573248599709002, -15.886076999042599, -32.2869484587376, -31.223767630850876, -20.575619482702727, -24.33378941734325, -24.718321007757197, -40.50808135634109, -33.92529268531711, -33.126817739783334, -28.625728415164605, -5.849039962005554, -16.02333190100338, -8.895880920611228, -7.941632554598156, -12.635532336733231, -1.7586260186504443, -0.4350966068857369, -6.951436476166783, 8.212218528318672, 5.66435232301302, 3.2445137993682707, 9.327558782067229, 14.516716798214865, 11.155701803981875, 13.37715509117911, 21.131480350694687, 23.294110108480147, 13.9538563599219, 13.772772161536667, 14.513256590602401, 15.908873660959964, 15.79122660213643, 16.539784848964576, 6.33678600236712, 2.492495344927672, 7.430211607903445, -1.4729025789477674, -1.779707653918937, -2.0599844705279295, -7.9827065005163895, -10.594009845383749, -10.908888738117312, -15.98501330559136, -17.111887584714772, -23.155716881139227, -23.59516324792123, -21.72203752704465, -29.213387008013502, -30.15917708875168, -26.74625898033185, -34.29873879578744, -27.552743665709272, -18.67910532148269, -6.086512728890092, 10.189086399650215, 20.2936615630489, 18.909129972634947, 54.19780099660008, 47.09431515782013, 69.83396657394215, 65.21740883973735, 55.209783567406205, 29.074707314682882, 22.280589667624064, -4.588691378127576, 2.6193696240510747, 9.280589667624058, 11.564903393114253, 10.970132151284183, 12.173002842044152, 2.4486660485032044, -5.167250906514099, -1.103813766952391, -11.797008691981222, -6.687435450920095, -11.720884124507174, -3.6724412179327643, -5.76471342093161, 3.4244445952160234, 7.14532118114451, -0.8396845858681843, 2.301030523705066, 1.810834445273688, 1.1672358293567342, 6.042668355308301, 8.021907109633553, 3.547858666726981, 7.056509185758124, 9.377155091179104, 8.95962337260932, 8.115332715169883, 9.09226466442017, 7.326405379529746, 5.720869047349813, 5.986151630971499, -0.038069822315701884, 1.110719105019939, 3.4936487474651523, -11.625151713895864, -21.49251042208501, -22.001160941116154, -24.632072129120765, -28.92529268531711, -35.18890924305132, -29.223767630850872, -25.752090070938017, -25.667122750676583, -22.05165434109053, -36.91984606222344, -31.41548876374849, -24.793484406450006, -26.566904885752844, -10.103941922789874, -12.47431229316025, 5.359021040173085, -9.686730593813841, -16.5178852779097, -12.013527979434759, -4.768429940219071, 4.695622347362629, 10.859277351848085, 16.036901342620865, 7.283729485642779, 16.386382311478993, 4.242206994293294, 16.783152784374032, 11.063429600983032, 16.26873525265547, 13.25489442220564, 12.051895575608176, 25.34139961251706, 15.650511492563187, 14.810834445273692, 17.63436385703839, 19.500569162690066, 18.19953110040634, 19.70818161943748, 16.449819451040707, 11.272195460267927, 17.455586463728128, 2.8223684706485415, -3.2572163044379607, 1.8177548604986065, -12.242222071450641, -19.416385854610965, -15.71973072196968, -20.783167861531382, -17.359869130274173, -24.447527723123077, -22.89966151781743, -36.31603983384973, -34.746258980331845, -24.37717016833646, -35.6703907245328, -33.07126218422779, -32.41984606222343, -27.771697914075276, -23.72594628008835, -30.130085713639556, -2.8021990033999202, 0.15313868723190183, 6.108476377863724, 23.746820604443236, 11.739195332112086, 56.780589667624064, 53.30019751076131, 51.450524308146925, 115.63897746718834, 87.53549162840838, 62.85902104017308, 31.244641955205758, null, null, null, null, null, null, null, null, null, null, null, null, null, null, null, null, null, null, null, null, null, null, null, null, null], \"yaxis\": \"y\"}, {\"name\": \"Trend\", \"type\": \"scatter\", \"x\": [0, 1, 2, 3, 4, 5, 6, 7, 8, 9, 10, 11, 12, 13, 14, 15, 16, 17, 18, 19, 20, 21, 22, 23, 24, 25, 26, 27, 28, 29, 30, 31, 32, 33, 34, 35, 36, 37, 38, 39, 40, 41, 42, 43, 44, 45, 46, 47, 48, 49, 50, 51, 52, 53, 54, 55, 56, 57, 58, 59, 60, 61, 62, 63, 64, 65, 66, 67, 68, 69, 70, 71, 72, 73, 74, 75, 76, 77, 78, 79, 80, 81, 82, 83, 84, 85, 86, 87, 88, 89, 90, 91, 92, 93, 94, 95, 96, 97, 98, 99, 100, 101, 102, 103, 104, 105, 106, 107, 108, 109, 110, 111, 112, 113, 114, 115, 116, 117, 118, 119, 120, 121, 122, 123, 124, 125, 126, 127, 128, 129, 130, 131, 132, 133, 134, 135, 136, 137, 138, 139, 140, 141, 142, 143, 144, 145, 146, 147, 148, 149, 150, 151, 152, 153, 154, 155, 156, 157, 158, 159, 160, 161, 162, 163, 164, 165, 166, 167, 168, 169, 170, 171, 172, 173, 174, 175, 176, 177, 178, 179, 180, 181, 182, 183, 184, 185, 186, 187, 188, 189, 190, 191, 192, 193, 194, 195, 196, 197, 198, 199, 200, 201, 202, 203, 204, 205, 206, 207, 208, 209, 210, 211, 212, 213, 214, 215, 216, 217, 218, 219, 220, 221, 222, 223, 224, 225, 226, 227, 228, 229, 230, 231, 232, 233, 234, 235, 236, 237, 238, 239, 240, 241, 242, 243, 244, 245, 246, 247, 248, 249, 250, 251, 252, 253, 254, 255, 256, 257, 258, 259, 260, 261, 262, 263, 264, 265, 266, 267, 268, 269, 270, 271, 272, 273, 274, 275, 276, 277, 278, 279, 280, 281, 282, 283, 284, 285, 286, 287, 288, 289, 290, 291, 292, 293, 294, 295, 296, 297, 298, 299, 300, 301, 302, 303, 304, 305, 306, 307, 308, 309, 310, 311, 312, 313, 314, 315, 316, 317, 318, 319, 320, 321, 322, 323, 324, 325, 326, 327, 328, 329, 330, 331, 332, 333, 334, 335, 336, 337, 338, 339, 340, 341, 342, 343, 344, 345, 346, 347, 348, 349, 350, 351, 352, 353, 354, 355, 356, 357, 358, 359, 360, 361, 362, 363, 364, 365, 366, 367, 368, 369, 370, 371, 372, 373, 374, 375, 376, 377, 378, 379, 380, 381, 382, 383, 384, 385, 386, 387, 388, 389, 390, 391, 392, 393, 394, 395, 396, 397, 398, 399, 400, 401, 402, 403, 404, 405, 406, 407, 408, 409, 410, 411, 412, 413, 414, 415, 416, 417, 418, 419, 420, 421, 422, 423, 424, 425, 426, 427, 428, 429, 430, 431, 432, 433, 434, 435, 436, 437, 438, 439, 440, 441, 442, 443, 444, 445, 446, 447, 448, 449, 450, 451, 452, 453, 454, 455, 456, 457, 458, 459, 460, 461, 462, 463, 464, 465, 466, 467, 468, 469, 470, 471, 472, 473, 474, 475, 476, 477, 478, 479, 480, 481, 482, 483, 484, 485, 486, 487, 488, 489, 490, 491, 492, 493, 494, 495, 496, 497, 498, 499, 500, 501, 502, 503, 504, 505, 506, 507, 508, 509, 510, 511, 512, 513, 514, 515, 516, 517, 518, 519, 520, 521, 522, 523, 524, 525, 526, 527, 528, 529, 530, 531, 532, 533, 534, 535, 536, 537, 538, 539, 540, 541, 542, 543, 544, 545, 546, 547, 548, 549, 550, 551, 552, 553, 554, 555, 556, 557, 558, 559, 560, 561, 562, 563, 564, 565, 566, 567, 568, 569, 570, 571, 572, 573, 574, 575, 576, 577, 578, 579, 580, 581, 582, 583, 584, 585, 586, 587, 588, 589, 590, 591, 592, 593, 594, 595, 596, 597, 598, 599, 600, 601, 602, 603, 604, 605, 606, 607, 608, 609, 610, 611, 612, 613, 614, 615, 616, 617, 618, 619, 620, 621, 622, 623, 624, 625, 626, 627, 628, 629, 630, 631, 632, 633, 634, 635, 636, 637, 638, 639, 640, 641, 642, 643, 644, 645, 646, 647, 648, 649, 650, 651, 652, 653, 654, 655, 656, 657, 658, 659, 660, 661, 662, 663, 664, 665, 666, 667, 668, 669, 670, 671, 672, 673, 674, 675, 676, 677, 678, 679, 680, 681, 682, 683, 684, 685, 686, 687, 688, 689, 690, 691, 692, 693, 694, 695, 696, 697, 698, 699, 700, 701, 702, 703, 704, 705, 706, 707, 708, 709, 710, 711, 712, 713, 714, 715, 716, 717, 718, 719, 720, 721, 722, 723, 724, 725, 726, 727, 728, 729, 730, 731, 732, 733, 734, 735, 736, 737, 738, 739, 740, 741, 742, 743, 744, 745, 746, 747, 748, 749, 750, 751, 752, 753, 754, 755, 756, 757, 758, 759, 760, 761, 762, 763, 764, 765, 766, 767, 768, 769, 770, 771, 772, 773, 774, 775, 776, 777, 778, 779, 780, 781, 782, 783, 784, 785, 786, 787, 788, 789, 790, 791, 792, 793, 794, 795, 796, 797, 798, 799, 800, 801, 802, 803, 804, 805, 806, 807, 808, 809, 810, 811, 812, 813, 814, 815, 816, 817, 818, 819, 820, 821, 822, 823, 824, 825, 826, 827, 828, 829, 830, 831, 832, 833, 834, 835, 836, 837, 838, 839, 840, 841, 842, 843, 844, 845, 846, 847, 848, 849, 850, 851, 852, 853, 854, 855, 856, 857, 858, 859, 860, 861, 862, 863, 864, 865, 866, 867, 868, 869, 870, 871, 872, 873, 874, 875, 876, 877, 878, 879, 880, 881, 882, 883, 884, 885, 886, 887, 888, 889, 890, 891, 892, 893, 894, 895, 896, 897, 898, 899, 900, 901, 902, 903, 904, 905, 906, 907, 908, 909, 910, 911, 912, 913, 914, 915, 916, 917, 918, 919, 920, 921, 922, 923, 924, 925, 926, 927, 928, 929, 930, 931, 932, 933, 934], \"xaxis\": \"x2\", \"y\": [null, null, null, null, null, null, null, null, null, null, null, null, null, null, null, null, null, null, null, null, null, null, null, null, null, 23.705882352941174, 23.941176470588232, 24.17647058823529, 24.33333333333333, 24.607843137254896, 24.68627450980392, 24.941176470588232, 25.235294117647058, 25.549019607843135, 25.627450980392155, 25.862745098039213, 25.960784313725487, 26.196078431372545, 26.431372549019603, 26.54901960784313, 26.588235294117645, 27.549019607843135, 28.313725490196074, 29.25490196078431, 30.078431372549016, 30.94117647058823, 31.490196078431367, 32.705882352941174, 33.68627450980392, 35.78431372549019, 37.2156862745098, 39.27450980392156, 40.686274509803916, 42.03921568627451, 43.92156862745098, 45.31372549019608, 46.80392156862746, 49.09803921568628, 50.94117647058823, 52.549019607843135, 53.54901960784314, 54.509803921568626, 55.68627450980392, 57.21568627450981, 58.31372549019608, 59.25490196078431, 60.0, 60.666666666666664, 61.450980392156865, 61.745098039215684, 62.07843137254902, 62.90196078431372, 63.35294117647058, 63.764705882352935, 64.01960784313725, 64.31372549019609, 64.45098039215686, 64.68627450980392, 64.80392156862744, 65.0392156862745, 65.27450980392156, 65.58823529411764, 65.74509803921569, 65.76470588235294, 65.72549019607844, 65.84313725490196, 66.0, 66.31372549019608, 66.6470588235294, 66.84313725490195, 66.90196078431373, 67.0392156862745, 66.50980392156863, 65.98039215686273, 65.07843137254902, 64.80392156862744, 64.70588235294117, 64.68627450980392, 64.2156862745098, 63.86274509803921, 62.490196078431374, 61.411764705882355, 59.666666666666664, 58.627450980392155, 57.07843137254901, 55.45098039215686, 53.823529411764696, 51.96078431372548, 49.56862745098038, 47.98039215686275, 47.03921568627452, 46.54901960784314, 45.88235294117647, 44.90196078431372, 43.45098039215686, 42.31372549019607, 41.19607843137254, 40.764705882352935, 40.372549019607845, 39.7843137254902, 39.568627450980394, 39.07843137254902, 38.1764705882353, 37.80392156862745, 37.411764705882355, 37.05882352941177, 36.62745098039216, 36.196078431372555, 35.76470588235294, 35.431372549019606, 35.09803921568628, 34.76470588235294, 34.588235294117645, 34.33333333333333, 34.13725490196078, 34.11764705882353, 34.09803921568627, 33.8235294117647, 33.68627450980392, 33.31372549019608, 33.17647058823529, 33.01960784313725, 32.705882352941174, 32.33333333333333, 32.11764705882353, 31.862745098039213, 31.33333333333333, 30.62745098039215, 29.549019607843135, 28.764705882352942, 27.862745098039216, 27.01960784313726, 26.176470588235293, 25.588235294117645, 24.54901960784313, 23.921568627450977, 23.549019607843135, 23.3921568627451, 23.568627450980394, 23.549019607843135, 22.980392156862745, 22.294117647058822, 22.03921568627451, 21.941176470588236, 22.078431372549023, 22.078431372549026, 21.88235294117647, 21.941176470588236, 21.803921568627455, 21.843137254901965, 21.86274509803922, 22.196078431372552, 22.431372549019606, 22.784313725490197, 23.098039215686274, 23.41176470588236, 23.686274509803923, 23.999999999999996, 24.196078431372545, 24.529411764705873, 24.66666666666666, 24.882352941176464, 24.921568627450977, 24.921568627450977, 25.156862745098035, 25.2156862745098, 25.333333333333332, 25.56862745098039, 26.0, 26.176470588235297, 26.54901960784314, 26.882352941176475, 27.490196078431378, 28.000000000000004, 28.647058823529413, 29.294117647058822, 30.529411764705884, 31.686274509803923, 32.64705882352941, 34.15686274509804, 35.92156862745098, 38.88235294117647, 42.31372549019608, 47.29411764705882, 52.76470588235294, 60.05882352941177, 67.84313725490196, 76.13725490196079, 82.90196078431373, 88.58823529411765, 94.6078431372549, 102.03921568627452, 108.68627450980394, 114.94117647058825, 119.98039215686275, 123.5686274509804, 125.90196078431372, 127.66666666666667, 130.07843137254903, 131.35294117647058, 132.078431372549, 132.47058823529412, 132.6078431372549, 132.84313725490196, 132.74509803921566, 132.35294117647058, 132.03921568627453, 131.94117647058826, 131.68627450980395, 131.47058823529412, 131.33333333333331, 131.35294117647058, 131.3137254901961, 131.13725490196077, 130.84313725490193, 130.52941176470586, 130.37254901960785, 129.98039215686276, 129.4313725490196, 128.843137254902, 128.54901960784315, 128.09803921568627, 127.49019607843137, 126.72549019607844, 126.1764705882353, 125.3529411764706, 124.45098039215686, 123.09803921568627, 121.90196078431373, 120.8235294117647, 119.45098039215686, 117.66666666666667, 114.49019607843137, 111.078431372549, 106.52941176470587, 101.25490196078431, 94.11764705882352, 86.41176470588233, 77.94117647058823, 71.05882352941175, 65.23529411764706, 59.2549019607843, 51.99999999999999, 45.41176470588235, 39.07843137254901, 33.80392156862745, 30.137254901960784, 27.666666666666668, 25.803921568627448, 23.117647058823525, 21.78431372549019, 20.647058823529406, 19.94117647058823, 19.29411764705882, 19.01960784313725, 18.90196078431372, 18.882352941176464, 18.862745098039213, 18.921568627450977, 18.980392156862738, 19.13725490196078, 18.901960784313722, 18.72549019607843, 18.509803921568626, 18.62745098039215, 18.803921568627448, 18.823529411764703, 18.803921568627448, 18.84313725490196, 18.88235294117647, 18.84313725490196, 18.6078431372549, 18.49019607843137, 18.431372549019606, 18.352941176470587, 18.19607843137255, 18.13725490196078, 18.078431372549016, 18.078431372549016, 17.941176470588232, 17.784313725490193, 17.64705882352941, 17.431372549019606, 17.627450980392158, 17.490196078431374, 17.07843137254902, 16.76470588235294, 16.627450980392155, 16.50980392156863, 16.529411764705884, 16.50980392156863, 16.294117647058822, 16.03921568627451, 15.901960784313724, 15.941176470588234, 15.80392156862745, 16.03921568627451, 15.941176470588236, 15.92156862745098, 16.11764705882353, 16.254901960784313, 16.313725490196077, 16.607843137254903, 16.64705882352941, 17.03921568627451, 17.05882352941176, 17.254901960784313, 17.333333333333332, 17.352941176470587, 17.37254901960784, 17.64705882352941, 17.705882352941174, 17.88235294117647, 17.960784313725487, 18.13725490196078, 18.13725490196078, 18.13725490196078, 18.372549019607842, 18.49019607843137, 18.52941176470588, 18.588235294117645, 18.72549019607843, 18.705882352941174, 18.803921568627448, 18.999999999999996, 18.960784313725487, 19.01960784313725, 19.2156862745098, 19.235294117647054, 19.196078431372545, 18.941176470588232, 18.823529411764703, 18.862745098039213, 18.843137254901958, 18.509803921568626, 18.509803921568622, 18.647058823529413, 19.235294117647058, 19.588235294117652, 19.666666666666668, 19.74509803921569, 19.82352941176471, 20.35294117647059, 20.764705882352942, 21.49019607843137, 23.09803921568627, 23.901960784313722, 24.215686274509803, 24.588235294117645, 25.11764705882353, 25.88235294117647, 26.509803921568626, 27.19607843137255, 27.941176470588236, 28.76470588235294, 29.45098039215686, 29.941176470588232, 30.333333333333332, 31.03921568627451, 32.17647058823529, 32.94117647058823, 33.6078431372549, 34.05882352941177, 34.78431372549019, 35.27450980392156, 35.607843137254896, 36.13725490196077, 36.50980392156862, 36.76470588235293, 37.07843137254902, 37.509803921568626, 38.05882352941176, 38.568627450980394, 39.411764705882355, 40.2156862745098, 40.80392156862744, 41.725490196078425, 42.705882352941174, 43.8235294117647, 45.68627450980392, 48.019607843137244, 50.45098039215686, 53.33333333333333, 56.803921568627445, 61.58823529411764, 67.84313725490196, 72.58823529411765, 76.3921568627451, 79.47058823529412, 82.19607843137256, 83.52941176470587, 83.92156862745098, 84.84313725490196, 85.8235294117647, 87.21568627450979, 87.27450980392156, 86.41176470588235, 86.29411764705883, 86.45098039215685, 86.8235294117647, 87.50980392156862, 87.88235294117646, 88.09803921568627, 88.33333333333334, 88.76470588235296, 88.84313725490198, 88.66666666666667, 88.80392156862744, 89.33333333333333, 89.70588235294117, 89.15686274509804, 88.90196078431373, 88.50980392156863, 88.25490196078432, 88.0, 88.05882352941175, 87.98039215686273, 87.4705882352941, 87.17647058823529, 86.98039215686275, 86.62745098039215, 86.33333333333334, 85.9607843137255, 85.47058823529413, 84.74509803921569, 84.01960784313727, 83.54901960784314, 82.80392156862744, 81.86274509803921, 80.7843137254902, 79.0, 76.62745098039215, 74.47058823529412, 71.80392156862746, 68.31372549019608, 63.58823529411765, 57.72549019607844, 53.05882352941177, 49.52941176470588, 46.39215686274509, 43.33333333333333, 41.80392156862745, 41.68627450980392, 41.21568627450981, 40.3921568627451, 38.7843137254902, 38.43137254901961, 37.72549019607843, 37.37254901960784, 37.49019607843137, 36.99999999999999, 36.07843137254901, 35.25490196078431, 34.6078431372549, 33.96078431372548, 32.705882352941174, 31.686274509803916, 30.862745098039213, 30.09803921568627, 28.901960784313722, 27.882352941176464, 27.313725490196074, 26.68627450980392, 26.039215686274506, 25.627450980392155, 25.039215686274506, 24.392156862745097, 23.921568627450977, 23.72549019607843, 23.588235294117645, 23.215686274509803, 23.07843137254902, 22.80392156862745, 22.50980392156863, 22.372549019607845, 22.254901960784316, 22.07843137254902, 21.68627450980392, 21.431372549019606, 21.254901960784313, 20.980392156862745, 20.764705882352942, 20.745098039215687, 20.47058823529412, 20.313725490196074, 20.098039215686274, 19.862745098039216, 19.313725490196077, 18.901960784313726, 18.215686274509803, 17.392156862745097, 17.07843137254902, 16.705882352941178, 15.84313725490196, 14.901960784313724, 13.84313725490196, 13.019607843137255, 12.156862745098039, 11.803921568627452, 11.19607843137255, 10.3921568627451, 9.745098039215687, 9.411764705882353, 9.117647058823529, 9.196078431372548, 8.999999999999998, 9.098039215686274, 9.235294117647058, 9.215686274509805, 9.313725490196079, 9.549019607843139, 9.372549019607844, 9.352941176470589, 9.3921568627451, 9.549019607843139, 9.607843137254902, 9.725490196078432, 10.039215686274511, 10.15686274509804, 10.470588235294118, 10.490196078431373, 10.588235294117647, 10.941176470588234, 11.137254901960782, 11.176470588235292, 11.235294117647056, 11.294117647058822, 11.411764705882351, 11.666666666666666, 11.823529411764707, 11.941176470588236, 11.999999999999998, 12.313725490196079, 12.431372549019608, 12.588235294117645, 12.823529411764705, 12.980392156862743, 13.352941176470587, 13.588235294117649, 13.823529411764708, 14.078431372549021, 14.568627450980392, 15.137254901960784, 15.784313725490195, 16.509803921568626, 17.352941176470587, 18.509803921568626, 19.52941176470588, 20.372549019607842, 21.313725490196077, 22.274509803921564, 22.98039215686274, 24.078431372549016, 25.078431372549016, 25.999999999999996, 26.647058823529406, 27.470588235294112, 27.803921568627448, 27.88235294117647, 28.254901960784316, 28.31372549019608, 28.13725490196078, 28.588235294117645, 29.0, 29.27450980392157, 29.45098039215687, 29.627450980392158, 29.72549019607843, 29.764705882352935, 29.901960784313722, 29.901960784313722, 29.843137254901954, 29.921568627450974, 29.666666666666664, 29.568627450980387, 29.549019607843135, 29.56862745098039, 29.56862745098039, 29.431372549019606, 29.235294117647058, 29.11764705882353, 28.999999999999996, 28.921568627450977, 28.803921568627448, 28.627450980392155, 28.470588235294116, 28.137254901960784, 27.96078431372549, 27.56862745098039, 27.41176470588235, 27.15686274509804, 26.862745098039213, 26.431372549019606, 25.76470588235294, 25.2156862745098, 24.52941176470588, 23.627450980392155, 22.49019607843137, 21.52941176470588, 20.549019607843135, 19.41176470588235, 18.294117647058822, 17.372549019607842, 16.19607843137255, 14.901960784313726, 13.627450980392155, 12.352941176470587, 11.196078431372548, 10.392156862745098, 9.960784313725492, 9.372549019607844, 9.058823529411764, 8.745098039215687, 8.137254901960786, 7.607843137254902, 7.078431372549019, 6.705882352941177, 6.627450980392157, 6.450980392156863, 6.137254901960784, 5.941176470588235, 5.705882352941175, 5.7254901960784315, 5.686274509803921, 5.7254901960784315, 5.745098039215687, 5.921568627450982, 5.843137254901961, 5.764705882352941, 5.88235294117647, 5.92156862745098, 5.980392156862744, 6.078431372549019, 6.196078431372549, 6.137254901960785, 6.215686274509804, 6.352941176470589, 6.588235294117648, 6.764705882352941, 7.0, 7.098039215686275, 7.431372549019608, 7.862745098039216, 8.098039215686276, 8.372549019607844, 8.72549019607843, 9.019607843137255, 9.529411764705882, 10.019607843137255, 10.411764705882353, 11.019607843137253, 11.490196078431373, 12.078431372549018, 12.705882352941176, 13.274509803921568, 13.76470588235294, 14.333333333333332, 14.980392156862747, 15.490196078431374, 16.039215686274513, 16.52941176470588, 17.15686274509804, 17.54901960784314, 18.000000000000004, 18.176470588235297, 18.392156862745097, 18.549019607843135, 18.803921568627448, 18.784313725490193, 18.803921568627448, 19.098039215686274, 19.254901960784313, 19.41176470588235, 19.45098039215686, 19.470588235294116, 19.41176470588235, 19.392156862745097, 19.29411764705882, 19.450980392156858, 19.490196078431367, 19.411764705882348, 19.352941176470587, 19.372549019607842, 19.431372549019606, 19.431372549019606, 19.392156862745097, 19.313725490196077, 19.352941176470587, 19.352941176470587, 19.352941176470583, 19.33333333333333, 19.37254901960784, 19.13725490196078, 19.05882352941176, 19.078431372549016, 18.882352941176467, 18.52941176470588, 18.509803921568626, 18.176470588235293, 17.823529411764703, 17.450980392156858, 17.039215686274506, 16.68627450980392, 16.215686274509803, 15.941176470588236, 15.529411764705884, 15.294117647058826, 14.843137254901963, 14.392156862745098, 14.019607843137257, 13.686274509803921, 13.176470588235293, 12.745098039215687, 12.333333333333334, 11.941176470588234, 11.882352941176467, 11.745098039215685, 11.666666666666666, 11.470588235294118, 11.490196078431373, 11.627450980392158, 11.35294117647059, 11.215686274509805, 11.098039215686274, 11.098039215686272, 11.117647058823527, 11.254901960784311, 11.235294117647056, 11.176470588235293, 11.176470588235292, 11.176470588235292, 11.215686274509803, 11.313725490196077, 11.215686274509803, 11.03921568627451, 10.980392156862745, 10.92156862745098, 10.980392156862745, 10.80392156862745, 10.627450980392155, 10.627450980392155, 10.6078431372549, 10.76470588235294, 11.117647058823529, 11.11764705882353, 11.352941176470589, 12.07843137254902, 13.039215686274508, 14.11764705882353, 15.470588235294118, 16.80392156862745, 19.137254901960784, 21.19607843137255, 23.68627450980392, 26.000000000000004, 27.66666666666667, 29.01960784313726, 30.09803921568627, 30.627450980392155, 31.392156862745097, 32.07843137254902, 32.78431372549019, 33.607843137254896, 34.15686274509804, 34.56862745098039, 34.88235294117647, 35.15686274509803, 35.11764705882353, 35.235294117647065, 35.196078431372555, 35.156862745098046, 35.01960784313725, 35.21568627450981, 35.450980392156865, 35.47058823529412, 35.47058823529413, 35.41176470588236, 35.23529411764707, 35.27450980392158, 35.33333333333334, 35.117647058823536, 35.078431372549026, 35.03921568627451, 34.9607843137255, 34.9607843137255, 35.00000000000001, 34.980392156862756, 35.000000000000014, 35.019607843137265, 35.019607843137265, 35.039215686274524, 35.058823529411775, 34.92156862745099, 34.60784313725491, 34.215686274509814, 33.92156862745098, 33.41176470588235, 32.607843137254896, 31.666666666666664, 30.470588235294116, 29.078431372549016, 27.784313725490193, 25.509803921568626, 23.490196078431367, 21.15686274509804, 18.882352941176467, 17.13725490196078, 15.862745098039218, 15.078431372549021, 14.529411764705882, 13.705882352941178, 12.843137254901961, 12.07843137254902, 11.509803921568627, 11.039215686274511, 10.862745098039216, 10.666666666666666, 10.568627450980392, 10.450980392156861, 10.49019607843137, 10.529411764705882, 10.529411764705884, 10.529411764705882, 10.352941176470589, 10.392156862745097, 10.431372549019606, 10.431372549019606, 10.529411764705882, 10.745098039215687, 10.901960784313728, 11.117647058823533, 11.431372549019612, 11.627450980392158, 11.96078431372549, 12.058823529411763, 12.098039215686272, 12.294117647058824, 12.313725490196079, 12.27450980392157, 12.333333333333332, 12.431372549019606, 12.588235294117647, 12.568627450980392, 12.882352941176471, 13.137254901960784, 13.431372549019608, 13.980392156862745, 14.392156862745098, 14.980392156862743, 15.470588235294118, 15.980392156862745, 16.56862745098039, 16.96078431372549, 18.176470588235293, 19.33333333333333, 20.470588235294112, 21.98039215686274, 22.921568627450977, 24.784313725490193, 26.2156862745098, 27.901960784313726, 30.98039215686274, 33.41176470588235, 35.2156862745098, 36.21568627450981, 36.78431372549019, 37.33333333333333, 37.607843137254896, 37.84313725490196, 38.274509803921575, 38.235294117647065, 38.274509803921575, 38.274509803921575, 38.411764705882355, 38.54901960784314, 38.411764705882355, 38.490196078431374, 38.50980392156863, 38.41176470588236, 38.1764705882353, 38.0, 37.80392156862745, 37.58823529411765, 37.37254901960785, 37.019607843137265, 36.92156862745099, 36.94117647058824, 36.74509803921569, 36.68627450980393, 36.72549019607844, null, null, null, null, null, null, null, null, null, null, null, null, null, null, null, null, null, null, null, null, null, null, null, null, null], \"yaxis\": \"y2\"}, {\"name\": \"Seasonal\", \"type\": \"scatter\", \"x\": [0, 1, 2, 3, 4, 5, 6, 7, 8, 9, 10, 11, 12, 13, 14, 15, 16, 17, 18, 19, 20, 21, 22, 23, 24, 25, 26, 27, 28, 29, 30, 31, 32, 33, 34, 35, 36, 37, 38, 39, 40, 41, 42, 43, 44, 45, 46, 47, 48, 49, 50, 51, 52, 53, 54, 55, 56, 57, 58, 59, 60, 61, 62, 63, 64, 65, 66, 67, 68, 69, 70, 71, 72, 73, 74, 75, 76, 77, 78, 79, 80, 81, 82, 83, 84, 85, 86, 87, 88, 89, 90, 91, 92, 93, 94, 95, 96, 97, 98, 99, 100, 101, 102, 103, 104, 105, 106, 107, 108, 109, 110, 111, 112, 113, 114, 115, 116, 117, 118, 119, 120, 121, 122, 123, 124, 125, 126, 127, 128, 129, 130, 131, 132, 133, 134, 135, 136, 137, 138, 139, 140, 141, 142, 143, 144, 145, 146, 147, 148, 149, 150, 151, 152, 153, 154, 155, 156, 157, 158, 159, 160, 161, 162, 163, 164, 165, 166, 167, 168, 169, 170, 171, 172, 173, 174, 175, 176, 177, 178, 179, 180, 181, 182, 183, 184, 185, 186, 187, 188, 189, 190, 191, 192, 193, 194, 195, 196, 197, 198, 199, 200, 201, 202, 203, 204, 205, 206, 207, 208, 209, 210, 211, 212, 213, 214, 215, 216, 217, 218, 219, 220, 221, 222, 223, 224, 225, 226, 227, 228, 229, 230, 231, 232, 233, 234, 235, 236, 237, 238, 239, 240, 241, 242, 243, 244, 245, 246, 247, 248, 249, 250, 251, 252, 253, 254, 255, 256, 257, 258, 259, 260, 261, 262, 263, 264, 265, 266, 267, 268, 269, 270, 271, 272, 273, 274, 275, 276, 277, 278, 279, 280, 281, 282, 283, 284, 285, 286, 287, 288, 289, 290, 291, 292, 293, 294, 295, 296, 297, 298, 299, 300, 301, 302, 303, 304, 305, 306, 307, 308, 309, 310, 311, 312, 313, 314, 315, 316, 317, 318, 319, 320, 321, 322, 323, 324, 325, 326, 327, 328, 329, 330, 331, 332, 333, 334, 335, 336, 337, 338, 339, 340, 341, 342, 343, 344, 345, 346, 347, 348, 349, 350, 351, 352, 353, 354, 355, 356, 357, 358, 359, 360, 361, 362, 363, 364, 365, 366, 367, 368, 369, 370, 371, 372, 373, 374, 375, 376, 377, 378, 379, 380, 381, 382, 383, 384, 385, 386, 387, 388, 389, 390, 391, 392, 393, 394, 395, 396, 397, 398, 399, 400, 401, 402, 403, 404, 405, 406, 407, 408, 409, 410, 411, 412, 413, 414, 415, 416, 417, 418, 419, 420, 421, 422, 423, 424, 425, 426, 427, 428, 429, 430, 431, 432, 433, 434, 435, 436, 437, 438, 439, 440, 441, 442, 443, 444, 445, 446, 447, 448, 449, 450, 451, 452, 453, 454, 455, 456, 457, 458, 459, 460, 461, 462, 463, 464, 465, 466, 467, 468, 469, 470, 471, 472, 473, 474, 475, 476, 477, 478, 479, 480, 481, 482, 483, 484, 485, 486, 487, 488, 489, 490, 491, 492, 493, 494, 495, 496, 497, 498, 499, 500, 501, 502, 503, 504, 505, 506, 507, 508, 509, 510, 511, 512, 513, 514, 515, 516, 517, 518, 519, 520, 521, 522, 523, 524, 525, 526, 527, 528, 529, 530, 531, 532, 533, 534, 535, 536, 537, 538, 539, 540, 541, 542, 543, 544, 545, 546, 547, 548, 549, 550, 551, 552, 553, 554, 555, 556, 557, 558, 559, 560, 561, 562, 563, 564, 565, 566, 567, 568, 569, 570, 571, 572, 573, 574, 575, 576, 577, 578, 579, 580, 581, 582, 583, 584, 585, 586, 587, 588, 589, 590, 591, 592, 593, 594, 595, 596, 597, 598, 599, 600, 601, 602, 603, 604, 605, 606, 607, 608, 609, 610, 611, 612, 613, 614, 615, 616, 617, 618, 619, 620, 621, 622, 623, 624, 625, 626, 627, 628, 629, 630, 631, 632, 633, 634, 635, 636, 637, 638, 639, 640, 641, 642, 643, 644, 645, 646, 647, 648, 649, 650, 651, 652, 653, 654, 655, 656, 657, 658, 659, 660, 661, 662, 663, 664, 665, 666, 667, 668, 669, 670, 671, 672, 673, 674, 675, 676, 677, 678, 679, 680, 681, 682, 683, 684, 685, 686, 687, 688, 689, 690, 691, 692, 693, 694, 695, 696, 697, 698, 699, 700, 701, 702, 703, 704, 705, 706, 707, 708, 709, 710, 711, 712, 713, 714, 715, 716, 717, 718, 719, 720, 721, 722, 723, 724, 725, 726, 727, 728, 729, 730, 731, 732, 733, 734, 735, 736, 737, 738, 739, 740, 741, 742, 743, 744, 745, 746, 747, 748, 749, 750, 751, 752, 753, 754, 755, 756, 757, 758, 759, 760, 761, 762, 763, 764, 765, 766, 767, 768, 769, 770, 771, 772, 773, 774, 775, 776, 777, 778, 779, 780, 781, 782, 783, 784, 785, 786, 787, 788, 789, 790, 791, 792, 793, 794, 795, 796, 797, 798, 799, 800, 801, 802, 803, 804, 805, 806, 807, 808, 809, 810, 811, 812, 813, 814, 815, 816, 817, 818, 819, 820, 821, 822, 823, 824, 825, 826, 827, 828, 829, 830, 831, 832, 833, 834, 835, 836, 837, 838, 839, 840, 841, 842, 843, 844, 845, 846, 847, 848, 849, 850, 851, 852, 853, 854, 855, 856, 857, 858, 859, 860, 861, 862, 863, 864, 865, 866, 867, 868, 869, 870, 871, 872, 873, 874, 875, 876, 877, 878, 879, 880, 881, 882, 883, 884, 885, 886, 887, 888, 889, 890, 891, 892, 893, 894, 895, 896, 897, 898, 899, 900, 901, 902, 903, 904, 905, 906, 907, 908, 909, 910, 911, 912, 913, 914, 915, 916, 917, 918, 919, 920, 921, 922, 923, 924, 925, 926, 927, 928, 929, 930, 931, 932, 933, 934], \"xaxis\": \"x3\", \"y\": [-17.647051284950738, -19.03228773247092, -19.811987847811174, -20.63090364942593, -22.37946189625408, -20.59514817076388, -23.67703975092536, -22.532864433739668, -22.17876985473159, -22.43021160790345, -22.193764087718904, -22.23990018921832, -21.03805474515834, -21.644744479875765, -19.798147017361348, -17.169542634431707, -14.799300419898833, -10.495955552540126, -8.00114586395881, -6.973464203059155, -3.1603154141318184, 6.056524262915471, 16.04153002992815, 17.510964862684784, 20.102660364414884, 22.395880920611226, 28.65949747834544, 26.870826454380285, 29.35993320819292, 27.235750201656977, 27.620281792070923, 36.39043429751756, 36.6703907245328, 31.891523622136276, 30.449257826929312, 21.672569373770262, 17.84686131276809, 15.680194646101425, 12.627907064402079, 17.419846062223428, 10.719410332375935, 6.454704450022992, 0.029867848715801976, -4.192610685181417, -8.46827389164047, -7.871964779760425, -7.955009762459384, -10.124559935469765, -10.920407686334816, -14.49480215000264, -17.249127409518216, -17.647051284950738, -19.03228773247092, -19.811987847811174, -20.63090364942593, -22.37946189625408, -20.59514817076388, -23.67703975092536, -22.532864433739668, -22.17876985473159, -22.43021160790345, -22.193764087718904, -22.23990018921832, -21.03805474515834, -21.644744479875765, -19.798147017361348, -17.169542634431707, -14.799300419898833, -10.495955552540126, -8.00114586395881, -6.973464203059155, -3.1603154141318184, 6.056524262915471, 16.04153002992815, 17.510964862684784, 20.102660364414884, 22.395880920611226, 28.65949747834544, 26.870826454380285, 29.35993320819292, 27.235750201656977, 27.620281792070923, 36.39043429751756, 36.6703907245328, 31.891523622136276, 30.449257826929312, 21.672569373770262, 17.84686131276809, 15.680194646101425, 12.627907064402079, 17.419846062223428, 10.719410332375935, 6.454704450022992, 0.029867848715801976, -4.192610685181417, -8.46827389164047, -7.871964779760425, -7.955009762459384, -10.124559935469765, -10.920407686334816, -14.49480215000264, -17.249127409518216, -17.647051284950738, -19.03228773247092, -19.811987847811174, -20.63090364942593, -22.37946189625408, -20.59514817076388, -23.67703975092536, -22.532864433739668, -22.17876985473159, -22.43021160790345, -22.193764087718904, -22.23990018921832, -21.03805474515834, -21.644744479875765, -19.798147017361348, -17.169542634431707, -14.799300419898833, -10.495955552540126, -8.00114586395881, -6.973464203059155, -3.1603154141318184, 6.056524262915471, 16.04153002992815, 17.510964862684784, 20.102660364414884, 22.395880920611226, 28.65949747834544, 26.870826454380285, 29.35993320819292, 27.235750201656977, 27.620281792070923, 36.39043429751756, 36.6703907245328, 31.891523622136276, 30.449257826929312, 21.672569373770262, 17.84686131276809, 15.680194646101425, 12.627907064402079, 17.419846062223428, 10.719410332375935, 6.454704450022992, 0.029867848715801976, -4.192610685181417, -8.46827389164047, -7.871964779760425, -7.955009762459384, -10.124559935469765, -10.920407686334816, -14.49480215000264, -17.249127409518216, -17.647051284950738, -19.03228773247092, -19.811987847811174, -20.63090364942593, -22.37946189625408, -20.59514817076388, -23.67703975092536, -22.532864433739668, -22.17876985473159, -22.43021160790345, -22.193764087718904, -22.23990018921832, -21.03805474515834, -21.644744479875765, -19.798147017361348, -17.169542634431707, -14.799300419898833, -10.495955552540126, -8.00114586395881, -6.973464203059155, -3.1603154141318184, 6.056524262915471, 16.04153002992815, 17.510964862684784, 20.102660364414884, 22.395880920611226, 28.65949747834544, 26.870826454380285, 29.35993320819292, 27.235750201656977, 27.620281792070923, 36.39043429751756, 36.6703907245328, 31.891523622136276, 30.449257826929312, 21.672569373770262, 17.84686131276809, 15.680194646101425, 12.627907064402079, 17.419846062223428, 10.719410332375935, 6.454704450022992, 0.029867848715801976, -4.192610685181417, -8.46827389164047, -7.871964779760425, -7.955009762459384, -10.124559935469765, -10.920407686334816, -14.49480215000264, -17.249127409518216, -17.647051284950738, -19.03228773247092, -19.811987847811174, -20.63090364942593, -22.37946189625408, -20.59514817076388, -23.67703975092536, -22.532864433739668, -22.17876985473159, -22.43021160790345, -22.193764087718904, -22.23990018921832, -21.03805474515834, -21.644744479875765, -19.798147017361348, -17.169542634431707, -14.799300419898833, -10.495955552540126, -8.00114586395881, -6.973464203059155, -3.1603154141318184, 6.056524262915471, 16.04153002992815, 17.510964862684784, 20.102660364414884, 22.395880920611226, 28.65949747834544, 26.870826454380285, 29.35993320819292, 27.235750201656977, 27.620281792070923, 36.39043429751756, 36.6703907245328, 31.891523622136276, 30.449257826929312, 21.672569373770262, 17.84686131276809, 15.680194646101425, 12.627907064402079, 17.419846062223428, 10.719410332375935, 6.454704450022992, 0.029867848715801976, -4.192610685181417, -8.46827389164047, -7.871964779760425, -7.955009762459384, -10.124559935469765, -10.920407686334816, -14.49480215000264, -17.249127409518216, -17.647051284950738, -19.03228773247092, -19.811987847811174, -20.63090364942593, -22.37946189625408, -20.59514817076388, -23.67703975092536, -22.532864433739668, -22.17876985473159, -22.43021160790345, -22.193764087718904, -22.23990018921832, -21.03805474515834, -21.644744479875765, -19.798147017361348, -17.169542634431707, -14.799300419898833, -10.495955552540126, -8.00114586395881, -6.973464203059155, -3.1603154141318184, 6.056524262915471, 16.04153002992815, 17.510964862684784, 20.102660364414884, 22.395880920611226, 28.65949747834544, 26.870826454380285, 29.35993320819292, 27.235750201656977, 27.620281792070923, 36.39043429751756, 36.6703907245328, 31.891523622136276, 30.449257826929312, 21.672569373770262, 17.84686131276809, 15.680194646101425, 12.627907064402079, 17.419846062223428, 10.719410332375935, 6.454704450022992, 0.029867848715801976, -4.192610685181417, -8.46827389164047, -7.871964779760425, -7.955009762459384, -10.124559935469765, -10.920407686334816, -14.49480215000264, -17.249127409518216, -17.647051284950738, -19.03228773247092, -19.811987847811174, -20.63090364942593, -22.37946189625408, -20.59514817076388, -23.67703975092536, -22.532864433739668, -22.17876985473159, -22.43021160790345, -22.193764087718904, -22.23990018921832, -21.03805474515834, -21.644744479875765, -19.798147017361348, -17.169542634431707, -14.799300419898833, -10.495955552540126, -8.00114586395881, -6.973464203059155, -3.1603154141318184, 6.056524262915471, 16.04153002992815, 17.510964862684784, 20.102660364414884, 22.395880920611226, 28.65949747834544, 26.870826454380285, 29.35993320819292, 27.235750201656977, 27.620281792070923, 36.39043429751756, 36.6703907245328, 31.891523622136276, 30.449257826929312, 21.672569373770262, 17.84686131276809, 15.680194646101425, 12.627907064402079, 17.419846062223428, 10.719410332375935, 6.454704450022992, 0.029867848715801976, -4.192610685181417, -8.46827389164047, -7.871964779760425, -7.955009762459384, -10.124559935469765, -10.920407686334816, -14.49480215000264, -17.249127409518216, -17.647051284950738, -19.03228773247092, -19.811987847811174, -20.63090364942593, -22.37946189625408, -20.59514817076388, -23.67703975092536, -22.532864433739668, -22.17876985473159, -22.43021160790345, -22.193764087718904, -22.23990018921832, -21.03805474515834, -21.644744479875765, -19.798147017361348, -17.169542634431707, -14.799300419898833, -10.495955552540126, -8.00114586395881, -6.973464203059155, -3.1603154141318184, 6.056524262915471, 16.04153002992815, 17.510964862684784, 20.102660364414884, 22.395880920611226, 28.65949747834544, 26.870826454380285, 29.35993320819292, 27.235750201656977, 27.620281792070923, 36.39043429751756, 36.6703907245328, 31.891523622136276, 30.449257826929312, 21.672569373770262, 17.84686131276809, 15.680194646101425, 12.627907064402079, 17.419846062223428, 10.719410332375935, 6.454704450022992, 0.029867848715801976, -4.192610685181417, -8.46827389164047, -7.871964779760425, -7.955009762459384, -10.124559935469765, -10.920407686334816, -14.49480215000264, -17.249127409518216, -17.647051284950738, -19.03228773247092, -19.811987847811174, -20.63090364942593, -22.37946189625408, -20.59514817076388, -23.67703975092536, -22.532864433739668, -22.17876985473159, -22.43021160790345, -22.193764087718904, -22.23990018921832, -21.03805474515834, -21.644744479875765, -19.798147017361348, -17.169542634431707, -14.799300419898833, -10.495955552540126, -8.00114586395881, -6.973464203059155, -3.1603154141318184, 6.056524262915471, 16.04153002992815, 17.510964862684784, 20.102660364414884, 22.395880920611226, 28.65949747834544, 26.870826454380285, 29.35993320819292, 27.235750201656977, 27.620281792070923, 36.39043429751756, 36.6703907245328, 31.891523622136276, 30.449257826929312, 21.672569373770262, 17.84686131276809, 15.680194646101425, 12.627907064402079, 17.419846062223428, 10.719410332375935, 6.454704450022992, 0.029867848715801976, -4.192610685181417, -8.46827389164047, -7.871964779760425, -7.955009762459384, -10.124559935469765, -10.920407686334816, -14.49480215000264, -17.249127409518216, -17.647051284950738, -19.03228773247092, -19.811987847811174, -20.63090364942593, -22.37946189625408, -20.59514817076388, -23.67703975092536, -22.532864433739668, -22.17876985473159, -22.43021160790345, -22.193764087718904, -22.23990018921832, -21.03805474515834, -21.644744479875765, -19.798147017361348, -17.169542634431707, -14.799300419898833, -10.495955552540126, -8.00114586395881, -6.973464203059155, -3.1603154141318184, 6.056524262915471, 16.04153002992815, 17.510964862684784, 20.102660364414884, 22.395880920611226, 28.65949747834544, 26.870826454380285, 29.35993320819292, 27.235750201656977, 27.620281792070923, 36.39043429751756, 36.6703907245328, 31.891523622136276, 30.449257826929312, 21.672569373770262, 17.84686131276809, 15.680194646101425, 12.627907064402079, 17.419846062223428, 10.719410332375935, 6.454704450022992, 0.029867848715801976, -4.192610685181417, -8.46827389164047, -7.871964779760425, -7.955009762459384, -10.124559935469765, -10.920407686334816, -14.49480215000264, -17.249127409518216, -17.647051284950738, -19.03228773247092, -19.811987847811174, -20.63090364942593, -22.37946189625408, -20.59514817076388, -23.67703975092536, -22.532864433739668, -22.17876985473159, -22.43021160790345, -22.193764087718904, -22.23990018921832, -21.03805474515834, -21.644744479875765, -19.798147017361348, -17.169542634431707, -14.799300419898833, -10.495955552540126, -8.00114586395881, -6.973464203059155, -3.1603154141318184, 6.056524262915471, 16.04153002992815, 17.510964862684784, 20.102660364414884, 22.395880920611226, 28.65949747834544, 26.870826454380285, 29.35993320819292, 27.235750201656977, 27.620281792070923, 36.39043429751756, 36.6703907245328, 31.891523622136276, 30.449257826929312, 21.672569373770262, 17.84686131276809, 15.680194646101425, 12.627907064402079, 17.419846062223428, 10.719410332375935, 6.454704450022992, 0.029867848715801976, -4.192610685181417, -8.46827389164047, -7.871964779760425, -7.955009762459384, -10.124559935469765, -10.920407686334816, -14.49480215000264, -17.249127409518216, -17.647051284950738, -19.03228773247092, -19.811987847811174, -20.63090364942593, -22.37946189625408, -20.59514817076388, -23.67703975092536, -22.532864433739668, -22.17876985473159, -22.43021160790345, -22.193764087718904, -22.23990018921832, -21.03805474515834, -21.644744479875765, -19.798147017361348, -17.169542634431707, -14.799300419898833, -10.495955552540126, -8.00114586395881, -6.973464203059155, -3.1603154141318184, 6.056524262915471, 16.04153002992815, 17.510964862684784, 20.102660364414884, 22.395880920611226, 28.65949747834544, 26.870826454380285, 29.35993320819292, 27.235750201656977, 27.620281792070923, 36.39043429751756, 36.6703907245328, 31.891523622136276, 30.449257826929312, 21.672569373770262, 17.84686131276809, 15.680194646101425, 12.627907064402079, 17.419846062223428, 10.719410332375935, 6.454704450022992, 0.029867848715801976, -4.192610685181417, -8.46827389164047, -7.871964779760425, -7.955009762459384, -10.124559935469765, -10.920407686334816, -14.49480215000264, -17.249127409518216, -17.647051284950738, -19.03228773247092, -19.811987847811174, -20.63090364942593, -22.37946189625408, -20.59514817076388, -23.67703975092536, -22.532864433739668, -22.17876985473159, -22.43021160790345, -22.193764087718904, -22.23990018921832, -21.03805474515834, -21.644744479875765, -19.798147017361348, -17.169542634431707, -14.799300419898833, -10.495955552540126, -8.00114586395881, -6.973464203059155, -3.1603154141318184, 6.056524262915471, 16.04153002992815, 17.510964862684784, 20.102660364414884, 22.395880920611226, 28.65949747834544, 26.870826454380285, 29.35993320819292, 27.235750201656977, 27.620281792070923, 36.39043429751756, 36.6703907245328, 31.891523622136276, 30.449257826929312, 21.672569373770262, 17.84686131276809, 15.680194646101425, 12.627907064402079, 17.419846062223428, 10.719410332375935, 6.454704450022992, 0.029867848715801976, -4.192610685181417, -8.46827389164047, -7.871964779760425, -7.955009762459384, -10.124559935469765, -10.920407686334816, -14.49480215000264, -17.249127409518216, -17.647051284950738, -19.03228773247092, -19.811987847811174, -20.63090364942593, -22.37946189625408, -20.59514817076388, -23.67703975092536, -22.532864433739668, -22.17876985473159, -22.43021160790345, -22.193764087718904, -22.23990018921832, -21.03805474515834, -21.644744479875765, -19.798147017361348, -17.169542634431707, -14.799300419898833, -10.495955552540126, -8.00114586395881, -6.973464203059155, -3.1603154141318184, 6.056524262915471, 16.04153002992815, 17.510964862684784, 20.102660364414884, 22.395880920611226, 28.65949747834544, 26.870826454380285, 29.35993320819292, 27.235750201656977, 27.620281792070923, 36.39043429751756, 36.6703907245328, 31.891523622136276, 30.449257826929312, 21.672569373770262, 17.84686131276809, 15.680194646101425, 12.627907064402079, 17.419846062223428, 10.719410332375935, 6.454704450022992, 0.029867848715801976, -4.192610685181417, -8.46827389164047, -7.871964779760425, -7.955009762459384, -10.124559935469765, -10.920407686334816, -14.49480215000264, -17.249127409518216, -17.647051284950738, -19.03228773247092, -19.811987847811174, -20.63090364942593, -22.37946189625408, -20.59514817076388, -23.67703975092536, -22.532864433739668, -22.17876985473159, -22.43021160790345, -22.193764087718904, -22.23990018921832, -21.03805474515834, -21.644744479875765, -19.798147017361348, -17.169542634431707, -14.799300419898833, -10.495955552540126, -8.00114586395881, -6.973464203059155, -3.1603154141318184, 6.056524262915471, 16.04153002992815, 17.510964862684784, 20.102660364414884, 22.395880920611226, 28.65949747834544, 26.870826454380285, 29.35993320819292, 27.235750201656977, 27.620281792070923, 36.39043429751756, 36.6703907245328, 31.891523622136276, 30.449257826929312, 21.672569373770262, 17.84686131276809, 15.680194646101425, 12.627907064402079, 17.419846062223428, 10.719410332375935, 6.454704450022992, 0.029867848715801976, -4.192610685181417, -8.46827389164047, -7.871964779760425, -7.955009762459384, -10.124559935469765, -10.920407686334816, -14.49480215000264, -17.249127409518216, -17.647051284950738, -19.03228773247092, -19.811987847811174, -20.63090364942593, -22.37946189625408, -20.59514817076388, -23.67703975092536, -22.532864433739668, -22.17876985473159, -22.43021160790345, -22.193764087718904, -22.23990018921832, -21.03805474515834, -21.644744479875765, -19.798147017361348, -17.169542634431707, -14.799300419898833, -10.495955552540126, -8.00114586395881, -6.973464203059155, -3.1603154141318184, 6.056524262915471, 16.04153002992815, 17.510964862684784, 20.102660364414884, 22.395880920611226, 28.65949747834544, 26.870826454380285, 29.35993320819292, 27.235750201656977, 27.620281792070923, 36.39043429751756, 36.6703907245328, 31.891523622136276, 30.449257826929312, 21.672569373770262, 17.84686131276809, 15.680194646101425, 12.627907064402079, 17.419846062223428, 10.719410332375935, 6.454704450022992, 0.029867848715801976, -4.192610685181417, -8.46827389164047, -7.871964779760425, -7.955009762459384, -10.124559935469765, -10.920407686334816, -14.49480215000264, -17.249127409518216, -17.647051284950738, -19.03228773247092, -19.811987847811174, -20.63090364942593, -22.37946189625408, -20.59514817076388, -23.67703975092536, -22.532864433739668, -22.17876985473159, -22.43021160790345, -22.193764087718904, -22.23990018921832, -21.03805474515834, -21.644744479875765, -19.798147017361348, -17.169542634431707, -14.799300419898833, -10.495955552540126, -8.00114586395881, -6.973464203059155, -3.1603154141318184, 6.056524262915471, 16.04153002992815, 17.510964862684784, 20.102660364414884, 22.395880920611226, 28.65949747834544, 26.870826454380285, 29.35993320819292, 27.235750201656977, 27.620281792070923, 36.39043429751756, 36.6703907245328, 31.891523622136276, 30.449257826929312, 21.672569373770262, 17.84686131276809, 15.680194646101425, 12.627907064402079, 17.419846062223428, 10.719410332375935, 6.454704450022992, 0.029867848715801976, -4.192610685181417, -8.46827389164047, -7.871964779760425, -7.955009762459384, -10.124559935469765, -10.920407686334816, -14.49480215000264, -17.249127409518216, -17.647051284950738, -19.03228773247092, -19.811987847811174, -20.63090364942593, -22.37946189625408, -20.59514817076388, -23.67703975092536, -22.532864433739668, -22.17876985473159, -22.43021160790345, -22.193764087718904, -22.23990018921832, -21.03805474515834, -21.644744479875765, -19.798147017361348, -17.169542634431707, -14.799300419898833, -10.495955552540126, -8.00114586395881, -6.973464203059155, -3.1603154141318184, 6.056524262915471, 16.04153002992815, 17.510964862684784, 20.102660364414884, 22.395880920611226, 28.65949747834544, 26.870826454380285, 29.35993320819292, 27.235750201656977, 27.620281792070923, 36.39043429751756, 36.6703907245328, 31.891523622136276, 30.449257826929312, 21.672569373770262, 17.84686131276809, 15.680194646101425, 12.627907064402079, 17.419846062223428, 10.719410332375935, 6.454704450022992, 0.029867848715801976, -4.192610685181417, -8.46827389164047, -7.871964779760425, -7.955009762459384, -10.124559935469765, -10.920407686334816, -14.49480215000264, -17.249127409518216, -17.647051284950738, -19.03228773247092, -19.811987847811174, -20.63090364942593, -22.37946189625408, -20.59514817076388, -23.67703975092536, -22.532864433739668, -22.17876985473159, -22.43021160790345, -22.193764087718904, -22.23990018921832, -21.03805474515834, -21.644744479875765, -19.798147017361348, -17.169542634431707, -14.799300419898833], \"yaxis\": \"y3\"}, {\"name\": \"Observed\", \"type\": \"scatter\", \"x\": [0, 1, 2, 3, 4, 5, 6, 7, 8, 9, 10, 11, 12, 13, 14, 15, 16, 17, 18, 19, 20, 21, 22, 23, 24, 25, 26, 27, 28, 29, 30, 31, 32, 33, 34, 35, 36, 37, 38, 39, 40, 41, 42, 43, 44, 45, 46, 47, 48, 49, 50, 51, 52, 53, 54, 55, 56, 57, 58, 59, 60, 61, 62, 63, 64, 65, 66, 67, 68, 69, 70, 71, 72, 73, 74, 75, 76, 77, 78, 79, 80, 81, 82, 83, 84, 85, 86, 87, 88, 89, 90, 91, 92, 93, 94, 95, 96, 97, 98, 99, 100, 101, 102, 103, 104, 105, 106, 107, 108, 109, 110, 111, 112, 113, 114, 115, 116, 117, 118, 119, 120, 121, 122, 123, 124, 125, 126, 127, 128, 129, 130, 131, 132, 133, 134, 135, 136, 137, 138, 139, 140, 141, 142, 143, 144, 145, 146, 147, 148, 149, 150, 151, 152, 153, 154, 155, 156, 157, 158, 159, 160, 161, 162, 163, 164, 165, 166, 167, 168, 169, 170, 171, 172, 173, 174, 175, 176, 177, 178, 179, 180, 181, 182, 183, 184, 185, 186, 187, 188, 189, 190, 191, 192, 193, 194, 195, 196, 197, 198, 199, 200, 201, 202, 203, 204, 205, 206, 207, 208, 209, 210, 211, 212, 213, 214, 215, 216, 217, 218, 219, 220, 221, 222, 223, 224, 225, 226, 227, 228, 229, 230, 231, 232, 233, 234, 235, 236, 237, 238, 239, 240, 241, 242, 243, 244, 245, 246, 247, 248, 249, 250, 251, 252, 253, 254, 255, 256, 257, 258, 259, 260, 261, 262, 263, 264, 265, 266, 267, 268, 269, 270, 271, 272, 273, 274, 275, 276, 277, 278, 279, 280, 281, 282, 283, 284, 285, 286, 287, 288, 289, 290, 291, 292, 293, 294, 295, 296, 297, 298, 299, 300, 301, 302, 303, 304, 305, 306, 307, 308, 309, 310, 311, 312, 313, 314, 315, 316, 317, 318, 319, 320, 321, 322, 323, 324, 325, 326, 327, 328, 329, 330, 331, 332, 333, 334, 335, 336, 337, 338, 339, 340, 341, 342, 343, 344, 345, 346, 347, 348, 349, 350, 351, 352, 353, 354, 355, 356, 357, 358, 359, 360, 361, 362, 363, 364, 365, 366, 367, 368, 369, 370, 371, 372, 373, 374, 375, 376, 377, 378, 379, 380, 381, 382, 383, 384, 385, 386, 387, 388, 389, 390, 391, 392, 393, 394, 395, 396, 397, 398, 399, 400, 401, 402, 403, 404, 405, 406, 407, 408, 409, 410, 411, 412, 413, 414, 415, 416, 417, 418, 419, 420, 421, 422, 423, 424, 425, 426, 427, 428, 429, 430, 431, 432, 433, 434, 435, 436, 437, 438, 439, 440, 441, 442, 443, 444, 445, 446, 447, 448, 449, 450, 451, 452, 453, 454, 455, 456, 457, 458, 459, 460, 461, 462, 463, 464, 465, 466, 467, 468, 469, 470, 471, 472, 473, 474, 475, 476, 477, 478, 479, 480, 481, 482, 483, 484, 485, 486, 487, 488, 489, 490, 491, 492, 493, 494, 495, 496, 497, 498, 499, 500, 501, 502, 503, 504, 505, 506, 507, 508, 509, 510, 511, 512, 513, 514, 515, 516, 517, 518, 519, 520, 521, 522, 523, 524, 525, 526, 527, 528, 529, 530, 531, 532, 533, 534, 535, 536, 537, 538, 539, 540, 541, 542, 543, 544, 545, 546, 547, 548, 549, 550, 551, 552, 553, 554, 555, 556, 557, 558, 559, 560, 561, 562, 563, 564, 565, 566, 567, 568, 569, 570, 571, 572, 573, 574, 575, 576, 577, 578, 579, 580, 581, 582, 583, 584, 585, 586, 587, 588, 589, 590, 591, 592, 593, 594, 595, 596, 597, 598, 599, 600, 601, 602, 603, 604, 605, 606, 607, 608, 609, 610, 611, 612, 613, 614, 615, 616, 617, 618, 619, 620, 621, 622, 623, 624, 625, 626, 627, 628, 629, 630, 631, 632, 633, 634, 635, 636, 637, 638, 639, 640, 641, 642, 643, 644, 645, 646, 647, 648, 649, 650, 651, 652, 653, 654, 655, 656, 657, 658, 659, 660, 661, 662, 663, 664, 665, 666, 667, 668, 669, 670, 671, 672, 673, 674, 675, 676, 677, 678, 679, 680, 681, 682, 683, 684, 685, 686, 687, 688, 689, 690, 691, 692, 693, 694, 695, 696, 697, 698, 699, 700, 701, 702, 703, 704, 705, 706, 707, 708, 709, 710, 711, 712, 713, 714, 715, 716, 717, 718, 719, 720, 721, 722, 723, 724, 725, 726, 727, 728, 729, 730, 731, 732, 733, 734, 735, 736, 737, 738, 739, 740, 741, 742, 743, 744, 745, 746, 747, 748, 749, 750, 751, 752, 753, 754, 755, 756, 757, 758, 759, 760, 761, 762, 763, 764, 765, 766, 767, 768, 769, 770, 771, 772, 773, 774, 775, 776, 777, 778, 779, 780, 781, 782, 783, 784, 785, 786, 787, 788, 789, 790, 791, 792, 793, 794, 795, 796, 797, 798, 799, 800, 801, 802, 803, 804, 805, 806, 807, 808, 809, 810, 811, 812, 813, 814, 815, 816, 817, 818, 819, 820, 821, 822, 823, 824, 825, 826, 827, 828, 829, 830, 831, 832, 833, 834, 835, 836, 837, 838, 839, 840, 841, 842, 843, 844, 845, 846, 847, 848, 849, 850, 851, 852, 853, 854, 855, 856, 857, 858, 859, 860, 861, 862, 863, 864, 865, 866, 867, 868, 869, 870, 871, 872, 873, 874, 875, 876, 877, 878, 879, 880, 881, 882, 883, 884, 885, 886, 887, 888, 889, 890, 891, 892, 893, 894, 895, 896, 897, 898, 899, 900, 901, 902, 903, 904, 905, 906, 907, 908, 909, 910, 911, 912, 913, 914, 915, 916, 917, 918, 919, 920, 921, 922, 923, 924, 925, 926, 927, 928, 929, 930, 931, 932, 933, 934], \"xaxis\": \"x4\", \"y\": [4, 5, 4, 3, 6, 2, 4, 5, 10, 6, 8, 2, 6, 17, 23, 13, 21, 28, 24, 20, 40, 27, 42, 33, 43, 37, 57, 71, 44, 56, 53, 52, 47, 26, 27, 21, 21, 26, 34, 37, 17, 19, 25, 18, 21, 17, 17, 16, 16, 15, 23, 16, 17, 12, 17, 10, 15, 19, 21, 14, 18, 13, 14, 18, 23, 25, 62, 60, 76, 66, 64, 68, 89, 92, 140, 116, 142, 129, 140, 140, 127, 129, 169, 141, 108, 78, 70, 81, 104, 90, 85, 55, 53, 65, 33, 38, 59, 40, 37, 29, 30, 30, 28, 23, 24, 29, 26, 23, 20, 19, 20, 26, 29, 31, 28, 26, 32, 35, 33, 30, 52, 59, 67, 65, 74, 70, 61, 53, 76, 61, 57, 44, 34, 47, 60, 60, 53, 36, 31, 30, 32, 28, 33, 33, 35, 22, 13, 13, 21, 17, 11, 8, 8, 6, 6, 7, 12, 17, 10, 10, 18, 19, 12, 22, 12, 21, 18, 16, 16, 22, 17, 25, 23, 12, 25, 28, 27, 18, 23, 23, 29, 38, 36, 43, 46, 31, 25, 40, 31, 38, 30, 22, 31, 26, 35, 36, 39, 25, 31, 37, 33, 25, 24, 18, 23, 13, 18, 14, 17, 22, 13, 24, 31, 34, 31, 31, 38, 49, 42, 49, 55, 80, 84, 72, 89, 115, 179, 202, 272, 302, 395, 426, 461, 381, 333, 353, 410, 364, 359, 288, 221, 149, 112, 154, 91, 72, 56, 46, 37, 26, 17, 17, 20, 11, 7, 16, 14, 16, 5, 2, 6, 5, 4, 3, 4, 16, 8, 7, 10, 14, 7, 9, 11, 23, 17, 19, 24, 17, 28, 40, 33, 31, 33, 29, 30, 36, 48, 40, 28, 36, 19, 34, 23, 17, 17, 23, 14, 20, 13, 23, 20, 16, 16, 23, 14, 15, 4, 5, 5, 11, 11, 7, 4, 6, 5, 2, 4, 2, 4, 6, 6, 4, 6, 11, 16, 9, 12, 13, 27, 21, 19, 17, 24, 27, 30, 29, 25, 35, 33, 30, 29, 31, 29, 22, 27, 24, 26, 29, 22, 33, 24, 30, 20, 17, 24, 28, 18, 13, 9, 14, 11, 11, 19, 10, 8, 8, 9, 3, 7, 14, 4, 9, 14, 7, 9, 3, 3, 14, 12, 10, 21, 26, 47, 42, 31, 34, 33, 52, 56, 70, 112, 70, 47, 48, 49, 66, 56, 61, 67, 64, 68, 49, 50, 56, 75, 63, 62, 41, 50, 34, 31, 38, 30, 32, 26, 30, 36, 35, 46, 48, 44, 51, 59, 71, 102, 128, 127, 150, 191, 256, 329, 263, 220, 204, 181, 99, 54, 80, 102, 127, 73, 68, 64, 55, 67, 84, 85, 67, 73, 89, 68, 59, 56, 77, 75, 47, 50, 42, 28, 37, 37, 27, 12, 15, 22, 8, 15, 17, 10, 9, 11, 20, 13, 11, 16, 11, 7, 17, 14, 13, 15, 30, 25, 40, 44, 25, 21, 48, 56, 60, 45, 55, 32, 46, 61, 42, 37, 43, 34, 40, 25, 16, 17, 17, 16, 23, 18, 18, 9, 7, 7, 4, 3, 2, 8, 3, 1, 1, 2, 3, 3, 2, 0, 0, 2, 2, 0, 6, 3, 6, 2, 3, 2, 4, 5, 2, 9, 2, 4, 8, 6, 3, 11, 14, 15, 20, 9, 20, 28, 38, 30, 30, 23, 16, 22, 28, 14, 17, 20, 17, 10, 13, 20, 9, 18, 9, 8, 19, 11, 4, 6, 6, 8, 13, 8, 8, 5, 16, 12, 11, 18, 10, 22, 14, 16, 18, 27, 38, 35, 41, 51, 65, 55, 54, 62, 64, 56, 65, 71, 75, 71, 72, 47, 27, 35, 25, 19, 37, 38, 34, 26, 19, 18, 22, 16, 18, 6, 12, 6, 6, 3, 7, 6, 1, 3, 2, 2, 1, 10, 3, 3, 1, 1, 2, 6, 3, 3, 5, 4, 7, 6, 5, 7, 6, 4, 4, 7, 9, 5, 5, 10, 6, 13, 6, 5, 5, 9, 3, 6, 11, 7, 7, 15, 9, 6, 6, 6, 7, 10, 8, 7, 12, 3, 2, 7, 5, 5, 7, 7, 7, 7, 10, 13, 10, 14, 11, 20, 25, 17, 18, 25, 21, 31, 32, 26, 35, 28, 37, 41, 34, 30, 39, 39, 39, 34, 30, 37, 29, 26, 15, 22, 15, 20, 14, 10, 21, 14, 14, 9, 11, 5, 6, 7, 11, 4, 3, 2, 6, 10, 7, 5, 3, 12, 13, 10, 13, 13, 8, 21, 18, 8, 7, 20, 14, 14, 7, 14, 10, 13, 27, 13, 18, 16, 16, 20, 17, 4, 15, 8, 6, 12, 15, 11, 10, 15, 17, 7, 7, 8, 9, 12, 12, 5, 4, 11, 4, 5, 7, 1, 1, 4, 2, 6, 3, 4, 10, 12, 21, 26, 21, 30, 45, 56, 75, 83, 82, 126, 119, 137, 131, 112, 82, 73, 43, 55, 55, 53, 46, 43, 29, 22, 26, 13, 17, 8, 13, 10, 17, 19, 9, 9, 9, 3, 7, 7, 0, 2, 3, 3, 1, 3, 3, 3, 7, 3, 5, 11, 5, 5, 6, 6, 4, 4, 8, 14, 12, 16, 10, 16, 18, 15, 23, 17, 33, 15, 13, 11, 14, 17, 19, 20, 12, 21, 7, 19, 10, 13, 10, 8, 21, 11, 9, 14, 14, 15, 18, 16, 12, 20, 8, 3, 13, 4, 1, 10, 8, 13, 10, 21, 18, 21, 34, 25, 34, 33, 40, 42, 36, 72, 75, 76, 92, 71, 112, 106, 101, 170, 135, 106, 68, 48, 48, 26, 33, 29, 17, 12, 13, 17, 15, 14, 15, 10, 9, 2, 6, 8, 5, 1, 2, 3, 4, 3, 1, 3], \"yaxis\": \"y4\"}],\n",
              "                        {\"font\": {\"color\": \"blue\", \"family\": \"Courier New\"}, \"template\": {\"data\": {\"bar\": [{\"error_x\": {\"color\": \"#2a3f5f\"}, \"error_y\": {\"color\": \"#2a3f5f\"}, \"marker\": {\"line\": {\"color\": \"#E5ECF6\", \"width\": 0.5}}, \"type\": \"bar\"}], \"barpolar\": [{\"marker\": {\"line\": {\"color\": \"#E5ECF6\", \"width\": 0.5}}, \"type\": \"barpolar\"}], \"carpet\": [{\"aaxis\": {\"endlinecolor\": \"#2a3f5f\", \"gridcolor\": \"white\", \"linecolor\": \"white\", \"minorgridcolor\": \"white\", \"startlinecolor\": \"#2a3f5f\"}, \"baxis\": {\"endlinecolor\": \"#2a3f5f\", \"gridcolor\": \"white\", \"linecolor\": \"white\", \"minorgridcolor\": \"white\", \"startlinecolor\": \"#2a3f5f\"}, \"type\": \"carpet\"}], \"choropleth\": [{\"colorbar\": {\"outlinewidth\": 0, \"ticks\": \"\"}, \"type\": \"choropleth\"}], \"contour\": [{\"colorbar\": {\"outlinewidth\": 0, \"ticks\": \"\"}, \"colorscale\": [[0.0, \"#0d0887\"], [0.1111111111111111, \"#46039f\"], [0.2222222222222222, \"#7201a8\"], [0.3333333333333333, \"#9c179e\"], [0.4444444444444444, \"#bd3786\"], [0.5555555555555556, \"#d8576b\"], [0.6666666666666666, \"#ed7953\"], [0.7777777777777778, \"#fb9f3a\"], [0.8888888888888888, \"#fdca26\"], [1.0, \"#f0f921\"]], \"type\": \"contour\"}], \"contourcarpet\": [{\"colorbar\": {\"outlinewidth\": 0, \"ticks\": \"\"}, \"type\": \"contourcarpet\"}], \"heatmap\": [{\"colorbar\": {\"outlinewidth\": 0, \"ticks\": \"\"}, \"colorscale\": [[0.0, \"#0d0887\"], [0.1111111111111111, \"#46039f\"], [0.2222222222222222, \"#7201a8\"], [0.3333333333333333, \"#9c179e\"], [0.4444444444444444, \"#bd3786\"], [0.5555555555555556, \"#d8576b\"], [0.6666666666666666, \"#ed7953\"], [0.7777777777777778, \"#fb9f3a\"], [0.8888888888888888, \"#fdca26\"], [1.0, \"#f0f921\"]], \"type\": \"heatmap\"}], \"heatmapgl\": [{\"colorbar\": {\"outlinewidth\": 0, \"ticks\": \"\"}, \"colorscale\": [[0.0, \"#0d0887\"], [0.1111111111111111, \"#46039f\"], [0.2222222222222222, \"#7201a8\"], [0.3333333333333333, \"#9c179e\"], [0.4444444444444444, \"#bd3786\"], [0.5555555555555556, \"#d8576b\"], [0.6666666666666666, \"#ed7953\"], [0.7777777777777778, \"#fb9f3a\"], [0.8888888888888888, \"#fdca26\"], [1.0, \"#f0f921\"]], \"type\": \"heatmapgl\"}], \"histogram\": [{\"marker\": {\"colorbar\": {\"outlinewidth\": 0, \"ticks\": \"\"}}, \"type\": \"histogram\"}], \"histogram2d\": [{\"colorbar\": {\"outlinewidth\": 0, \"ticks\": \"\"}, \"colorscale\": [[0.0, \"#0d0887\"], [0.1111111111111111, \"#46039f\"], [0.2222222222222222, \"#7201a8\"], [0.3333333333333333, \"#9c179e\"], [0.4444444444444444, \"#bd3786\"], [0.5555555555555556, \"#d8576b\"], [0.6666666666666666, \"#ed7953\"], [0.7777777777777778, \"#fb9f3a\"], [0.8888888888888888, \"#fdca26\"], [1.0, \"#f0f921\"]], \"type\": \"histogram2d\"}], \"histogram2dcontour\": [{\"colorbar\": {\"outlinewidth\": 0, \"ticks\": \"\"}, \"colorscale\": [[0.0, \"#0d0887\"], [0.1111111111111111, \"#46039f\"], [0.2222222222222222, \"#7201a8\"], [0.3333333333333333, \"#9c179e\"], [0.4444444444444444, \"#bd3786\"], [0.5555555555555556, \"#d8576b\"], [0.6666666666666666, \"#ed7953\"], [0.7777777777777778, \"#fb9f3a\"], [0.8888888888888888, \"#fdca26\"], [1.0, \"#f0f921\"]], \"type\": \"histogram2dcontour\"}], \"mesh3d\": [{\"colorbar\": {\"outlinewidth\": 0, \"ticks\": \"\"}, \"type\": \"mesh3d\"}], \"parcoords\": [{\"line\": {\"colorbar\": {\"outlinewidth\": 0, \"ticks\": \"\"}}, \"type\": \"parcoords\"}], \"pie\": [{\"automargin\": true, \"type\": \"pie\"}], \"scatter\": [{\"marker\": {\"colorbar\": {\"outlinewidth\": 0, \"ticks\": \"\"}}, \"type\": \"scatter\"}], \"scatter3d\": [{\"line\": {\"colorbar\": {\"outlinewidth\": 0, \"ticks\": \"\"}}, \"marker\": {\"colorbar\": {\"outlinewidth\": 0, \"ticks\": \"\"}}, \"type\": \"scatter3d\"}], \"scattercarpet\": [{\"marker\": {\"colorbar\": {\"outlinewidth\": 0, \"ticks\": \"\"}}, \"type\": \"scattercarpet\"}], \"scattergeo\": [{\"marker\": {\"colorbar\": {\"outlinewidth\": 0, \"ticks\": \"\"}}, \"type\": \"scattergeo\"}], \"scattergl\": [{\"marker\": {\"colorbar\": {\"outlinewidth\": 0, \"ticks\": \"\"}}, \"type\": \"scattergl\"}], \"scattermapbox\": [{\"marker\": {\"colorbar\": {\"outlinewidth\": 0, \"ticks\": \"\"}}, \"type\": \"scattermapbox\"}], \"scatterpolar\": [{\"marker\": {\"colorbar\": {\"outlinewidth\": 0, \"ticks\": \"\"}}, \"type\": \"scatterpolar\"}], \"scatterpolargl\": [{\"marker\": {\"colorbar\": {\"outlinewidth\": 0, \"ticks\": \"\"}}, \"type\": \"scatterpolargl\"}], \"scatterternary\": [{\"marker\": {\"colorbar\": {\"outlinewidth\": 0, \"ticks\": \"\"}}, \"type\": \"scatterternary\"}], \"surface\": [{\"colorbar\": {\"outlinewidth\": 0, \"ticks\": \"\"}, \"colorscale\": [[0.0, \"#0d0887\"], [0.1111111111111111, \"#46039f\"], [0.2222222222222222, \"#7201a8\"], [0.3333333333333333, \"#9c179e\"], [0.4444444444444444, \"#bd3786\"], [0.5555555555555556, \"#d8576b\"], [0.6666666666666666, \"#ed7953\"], [0.7777777777777778, \"#fb9f3a\"], [0.8888888888888888, \"#fdca26\"], [1.0, \"#f0f921\"]], \"type\": \"surface\"}], \"table\": [{\"cells\": {\"fill\": {\"color\": \"#EBF0F8\"}, \"line\": {\"color\": \"white\"}}, \"header\": {\"fill\": {\"color\": \"#C8D4E3\"}, \"line\": {\"color\": \"white\"}}, \"type\": \"table\"}]}, \"layout\": {\"annotationdefaults\": {\"arrowcolor\": \"#2a3f5f\", \"arrowhead\": 0, \"arrowwidth\": 1}, \"coloraxis\": {\"colorbar\": {\"outlinewidth\": 0, \"ticks\": \"\"}}, \"colorscale\": {\"diverging\": [[0, \"#8e0152\"], [0.1, \"#c51b7d\"], [0.2, \"#de77ae\"], [0.3, \"#f1b6da\"], [0.4, \"#fde0ef\"], [0.5, \"#f7f7f7\"], [0.6, \"#e6f5d0\"], [0.7, \"#b8e186\"], [0.8, \"#7fbc41\"], [0.9, \"#4d9221\"], [1, \"#276419\"]], \"sequential\": [[0.0, \"#0d0887\"], [0.1111111111111111, \"#46039f\"], [0.2222222222222222, \"#7201a8\"], [0.3333333333333333, \"#9c179e\"], [0.4444444444444444, \"#bd3786\"], [0.5555555555555556, \"#d8576b\"], [0.6666666666666666, \"#ed7953\"], [0.7777777777777778, \"#fb9f3a\"], [0.8888888888888888, \"#fdca26\"], [1.0, \"#f0f921\"]], \"sequentialminus\": [[0.0, \"#0d0887\"], [0.1111111111111111, \"#46039f\"], [0.2222222222222222, \"#7201a8\"], [0.3333333333333333, \"#9c179e\"], [0.4444444444444444, \"#bd3786\"], [0.5555555555555556, \"#d8576b\"], [0.6666666666666666, \"#ed7953\"], [0.7777777777777778, \"#fb9f3a\"], [0.8888888888888888, \"#fdca26\"], [1.0, \"#f0f921\"]]}, \"colorway\": [\"#636efa\", \"#EF553B\", \"#00cc96\", \"#ab63fa\", \"#FFA15A\", \"#19d3f3\", \"#FF6692\", \"#B6E880\", \"#FF97FF\", \"#FECB52\"], \"font\": {\"color\": \"#2a3f5f\"}, \"geo\": {\"bgcolor\": \"white\", \"lakecolor\": \"white\", \"landcolor\": \"#E5ECF6\", \"showlakes\": true, \"showland\": true, \"subunitcolor\": \"white\"}, \"hoverlabel\": {\"align\": \"left\"}, \"hovermode\": \"closest\", \"mapbox\": {\"style\": \"light\"}, \"paper_bgcolor\": \"white\", \"plot_bgcolor\": \"#E5ECF6\", \"polar\": {\"angularaxis\": {\"gridcolor\": \"white\", \"linecolor\": \"white\", \"ticks\": \"\"}, \"bgcolor\": \"#E5ECF6\", \"radialaxis\": {\"gridcolor\": \"white\", \"linecolor\": \"white\", \"ticks\": \"\"}}, \"scene\": {\"xaxis\": {\"backgroundcolor\": \"#E5ECF6\", \"gridcolor\": \"white\", \"gridwidth\": 2, \"linecolor\": \"white\", \"showbackground\": true, \"ticks\": \"\", \"zerolinecolor\": \"white\"}, \"yaxis\": {\"backgroundcolor\": \"#E5ECF6\", \"gridcolor\": \"white\", \"gridwidth\": 2, \"linecolor\": \"white\", \"showbackground\": true, \"ticks\": \"\", \"zerolinecolor\": \"white\"}, \"zaxis\": {\"backgroundcolor\": \"#E5ECF6\", \"gridcolor\": \"white\", \"gridwidth\": 2, \"linecolor\": \"white\", \"showbackground\": true, \"ticks\": \"\", \"zerolinecolor\": \"white\"}}, \"shapedefaults\": {\"line\": {\"color\": \"#2a3f5f\"}}, \"ternary\": {\"aaxis\": {\"gridcolor\": \"white\", \"linecolor\": \"white\", \"ticks\": \"\"}, \"baxis\": {\"gridcolor\": \"white\", \"linecolor\": \"white\", \"ticks\": \"\"}, \"bgcolor\": \"#E5ECF6\", \"caxis\": {\"gridcolor\": \"white\", \"linecolor\": \"white\", \"ticks\": \"\"}}, \"title\": {\"x\": 0.05}, \"xaxis\": {\"automargin\": true, \"gridcolor\": \"white\", \"linecolor\": \"white\", \"ticks\": \"\", \"title\": {\"standoff\": 15}, \"zerolinecolor\": \"white\", \"zerolinewidth\": 2}, \"yaxis\": {\"automargin\": true, \"gridcolor\": \"white\", \"linecolor\": \"white\", \"ticks\": \"\", \"title\": {\"standoff\": 15}, \"zerolinecolor\": \"white\", \"zerolinewidth\": 2}}}, \"title\": {\"font\": {\"color\": \"red\", \"family\": \"Times New Roman\"}}, \"xaxis\": {\"anchor\": \"y\", \"domain\": [0.0, 1.0], \"matches\": \"x4\", \"showticklabels\": false}, \"xaxis2\": {\"anchor\": \"y2\", \"domain\": [0.0, 1.0], \"matches\": \"x4\", \"showticklabels\": false}, \"xaxis3\": {\"anchor\": \"y3\", \"domain\": [0.0, 1.0], \"matches\": \"x4\", \"showticklabels\": false}, \"xaxis4\": {\"anchor\": \"y4\", \"domain\": [0.0, 1.0]}, \"yaxis\": {\"anchor\": \"x\", \"domain\": [0.80625, 1.0]}, \"yaxis2\": {\"anchor\": \"x2\", \"domain\": [0.5375, 0.73125]}, \"yaxis3\": {\"anchor\": \"x3\", \"domain\": [0.26875, 0.4625]}, \"yaxis4\": {\"anchor\": \"x4\", \"domain\": [0.0, 0.19375]}},\n",
              "                        {\"responsive\": true}\n",
              "                    ).then(function(){\n",
              "                            \n",
              "var gd = document.getElementById('4c6a2df6-f739-481e-ba69-d80ac2c2316e');\n",
              "var x = new MutationObserver(function (mutations, observer) {{\n",
              "        var display = window.getComputedStyle(gd).display;\n",
              "        if (!display || display === 'none') {{\n",
              "            console.log([gd, 'removed!']);\n",
              "            Plotly.purge(gd);\n",
              "            observer.disconnect();\n",
              "        }}\n",
              "}});\n",
              "\n",
              "// Listen for the removal of the full notebook cells\n",
              "var notebookContainer = gd.closest('#notebook-container');\n",
              "if (notebookContainer) {{\n",
              "    x.observe(notebookContainer, {childList: true});\n",
              "}}\n",
              "\n",
              "// Listen for the clearing of the current output cell\n",
              "var outputEl = gd.closest('.output');\n",
              "if (outputEl) {{\n",
              "    x.observe(outputEl, {childList: true});\n",
              "}}\n",
              "\n",
              "                        })\n",
              "                };\n",
              "                \n",
              "            </script>\n",
              "        </div>\n",
              "</body>\n",
              "</html>"
            ]
          },
          "metadata": {
            "tags": []
          }
        }
      ]
    },
    {
      "cell_type": "code",
      "metadata": {
        "id": "AR45Rq317lml",
        "colab": {
          "base_uri": "https://localhost:8080/"
        },
        "outputId": "659f7f10-78e3-4d09-a9d2-8b4acbcd56de"
      },
      "source": [
        "X_train_sj.columns"
      ],
      "execution_count": 26,
      "outputs": [
        {
          "output_type": "execute_result",
          "data": {
            "text/plain": [
              "Index(['city', 'year', 'weekofyear', 'week_start_date', 'ndvi_ne', 'ndvi_nw',\n",
              "       'ndvi_se', 'ndvi_sw', 'precipitation_amt_mm', 'reanalysis_air_temp_k',\n",
              "       'reanalysis_avg_temp_k', 'reanalysis_dew_point_temp_k',\n",
              "       'reanalysis_max_air_temp_k', 'reanalysis_min_air_temp_k',\n",
              "       'reanalysis_precip_amt_kg_per_m2',\n",
              "       'reanalysis_relative_humidity_percent', 'reanalysis_sat_precip_amt_mm',\n",
              "       'reanalysis_specific_humidity_g_per_kg', 'reanalysis_tdtr_k',\n",
              "       'station_avg_temp_c', 'station_diur_temp_rng_c', 'station_max_temp_c',\n",
              "       'station_min_temp_c', 'station_precip_mm', 'total_cases'],\n",
              "      dtype='object')"
            ]
          },
          "metadata": {
            "tags": []
          },
          "execution_count": 26
        }
      ]
    },
    {
      "cell_type": "code",
      "metadata": {
        "id": "5cOOh2YW7xq1"
      },
      "source": [
        "prediktorok=['weekofyear',  'ndvi_ne', 'ndvi_nw',\n",
        "       'ndvi_se', 'ndvi_sw', 'precipitation_amt_mm', 'reanalysis_air_temp_k',\n",
        "       'reanalysis_avg_temp_k', 'reanalysis_dew_point_temp_k',\n",
        "       'reanalysis_max_air_temp_k', 'reanalysis_min_air_temp_k',\n",
        "       'reanalysis_precip_amt_kg_per_m2',\n",
        "       'reanalysis_relative_humidity_percent', 'reanalysis_sat_precip_amt_mm',\n",
        "       'reanalysis_specific_humidity_g_per_kg', 'reanalysis_tdtr_k',\n",
        "       'station_avg_temp_c', 'station_diur_temp_rng_c', 'station_max_temp_c',\n",
        "       'station_min_temp_c', 'station_precip_mm']"
      ],
      "execution_count": 27,
      "outputs": []
    },
    {
      "cell_type": "code",
      "metadata": {
        "id": "aUoUILObDTiy",
        "colab": {
          "base_uri": "https://localhost:8080/"
        },
        "outputId": "1e5e7757-b93c-4090-9fe2-dd1222cdf28d"
      },
      "source": [
        "X_train_sj.isnull().sum()\n"
      ],
      "execution_count": 28,
      "outputs": [
        {
          "output_type": "execute_result",
          "data": {
            "text/plain": [
              "city                                       0\n",
              "year                                       0\n",
              "weekofyear                                 0\n",
              "week_start_date                            0\n",
              "ndvi_ne                                  191\n",
              "ndvi_nw                                   49\n",
              "ndvi_se                                   19\n",
              "ndvi_sw                                   19\n",
              "precipitation_amt_mm                       9\n",
              "reanalysis_air_temp_k                      6\n",
              "reanalysis_avg_temp_k                      6\n",
              "reanalysis_dew_point_temp_k                6\n",
              "reanalysis_max_air_temp_k                  6\n",
              "reanalysis_min_air_temp_k                  6\n",
              "reanalysis_precip_amt_kg_per_m2            6\n",
              "reanalysis_relative_humidity_percent       6\n",
              "reanalysis_sat_precip_amt_mm               9\n",
              "reanalysis_specific_humidity_g_per_kg      6\n",
              "reanalysis_tdtr_k                          6\n",
              "station_avg_temp_c                         6\n",
              "station_diur_temp_rng_c                    6\n",
              "station_max_temp_c                         6\n",
              "station_min_temp_c                         6\n",
              "station_precip_mm                          6\n",
              "total_cases                                0\n",
              "dtype: int64"
            ]
          },
          "metadata": {
            "tags": []
          },
          "execution_count": 28
        }
      ]
    },
    {
      "cell_type": "code",
      "metadata": {
        "id": "qPGLZvjj8Lkw",
        "colab": {
          "base_uri": "https://localhost:8080/"
        },
        "outputId": "aa48faf3-ef50-48a0-f9b7-b767deb6a0e0"
      },
      "source": [
        "X_train_sj.dropna(inplace=True)"
      ],
      "execution_count": 29,
      "outputs": [
        {
          "output_type": "stream",
          "text": [
            "/usr/local/lib/python3.7/dist-packages/ipykernel_launcher.py:1: SettingWithCopyWarning:\n",
            "\n",
            "\n",
            "A value is trying to be set on a copy of a slice from a DataFrame\n",
            "\n",
            "See the caveats in the documentation: https://pandas.pydata.org/pandas-docs/stable/user_guide/indexing.html#returning-a-view-versus-a-copy\n",
            "\n"
          ],
          "name": "stderr"
        }
      ]
    },
    {
      "cell_type": "code",
      "metadata": {
        "id": "aUK_gUz77irh",
        "colab": {
          "base_uri": "https://localhost:8080/"
        },
        "outputId": "0fe3c33c-3378-471c-f141-11232b08ae46"
      },
      "source": [
        "from sklearn.linear_model import Lasso\n",
        "\n",
        "\n",
        "\n",
        "\n",
        "alpha=0.00001\n",
        "lassoreg = Lasso(alpha=alpha,normalize=False, max_iter=500, tol=0.0001)\n",
        "lassoreg.fit(X_train_sj[prediktorok],X_train_sj[['total_cases']])\n",
        "y_pred = lassoreg.predict(X_train_sj[prediktorok])"
      ],
      "execution_count": 30,
      "outputs": [
        {
          "output_type": "stream",
          "text": [
            "/usr/local/lib/python3.7/dist-packages/sklearn/linear_model/_coordinate_descent.py:476: ConvergenceWarning:\n",
            "\n",
            "Objective did not converge. You might want to increase the number of iterations. Duality gap: 398223.2195243417, tolerance: 94.77985254470426\n",
            "\n"
          ],
          "name": "stderr"
        }
      ]
    },
    {
      "cell_type": "code",
      "metadata": {
        "id": "4XNPG3tK88a2"
      },
      "source": [
        "y_pred=y_pred.T"
      ],
      "execution_count": 31,
      "outputs": []
    },
    {
      "cell_type": "code",
      "metadata": {
        "id": "Z9CY-D0N8pkz",
        "colab": {
          "base_uri": "https://localhost:8080/"
        },
        "outputId": "67da5244-2e94-4ab3-852d-3cf646aa4216"
      },
      "source": [
        "X_train_sj[\"pred\"]=y_pred"
      ],
      "execution_count": 32,
      "outputs": [
        {
          "output_type": "stream",
          "text": [
            "/usr/local/lib/python3.7/dist-packages/ipykernel_launcher.py:1: SettingWithCopyWarning:\n",
            "\n",
            "\n",
            "A value is trying to be set on a copy of a slice from a DataFrame.\n",
            "Try using .loc[row_indexer,col_indexer] = value instead\n",
            "\n",
            "See the caveats in the documentation: https://pandas.pydata.org/pandas-docs/stable/user_guide/indexing.html#returning-a-view-versus-a-copy\n",
            "\n"
          ],
          "name": "stderr"
        }
      ]
    },
    {
      "cell_type": "code",
      "metadata": {
        "id": "BMwLJKUNZNoj",
        "colab": {
          "base_uri": "https://localhost:8080/",
          "height": 617
        },
        "outputId": "8d94a10a-6d54-47e0-e042-88a132a1691a"
      },
      "source": [
        "grafikon(X_train_sj,\"week_start_date\",\"total_cases\",\"total_cases\",\"pred\",\"pred\",title=\"prediction\",)"
      ],
      "execution_count": 33,
      "outputs": [
        {
          "output_type": "display_data",
          "data": {
            "text/html": [
              "<html>\n",
              "<head><meta charset=\"utf-8\" /></head>\n",
              "<body>\n",
              "    <div>\n",
              "            <script src=\"https://cdnjs.cloudflare.com/ajax/libs/mathjax/2.7.5/MathJax.js?config=TeX-AMS-MML_SVG\"></script><script type=\"text/javascript\">if (window.MathJax) {MathJax.Hub.Config({SVG: {font: \"STIX-Web\"}});}</script>\n",
              "                <script type=\"text/javascript\">window.PlotlyConfig = {MathJaxConfig: 'local'};</script>\n",
              "        <script src=\"https://cdn.plot.ly/plotly-latest.min.js\"></script>    \n",
              "            <div id=\"b48c5e3c-8170-48f4-9653-3353e732eef6\" class=\"plotly-graph-div\" style=\"height:600px; width:1200px;\"></div>\n",
              "            <script type=\"text/javascript\">\n",
              "                \n",
              "                    window.PLOTLYENV=window.PLOTLYENV || {};\n",
              "                    \n",
              "                if (document.getElementById(\"b48c5e3c-8170-48f4-9653-3353e732eef6\")) {\n",
              "                    Plotly.newPlot(\n",
              "                        'b48c5e3c-8170-48f4-9653-3353e732eef6',\n",
              "                        [{\"line\": {\"color\": \"rgba(35,128,132,0.8)\"}, \"name\": \"total_cases\", \"showlegend\": true, \"type\": \"scatter\", \"x\": [\"1990-04-30\", \"1990-05-07\", \"1990-05-14\", \"1990-05-21\", \"1990-05-28\", \"1990-06-11\", \"1990-06-18\", \"1990-06-25\", \"1990-07-09\", \"1990-07-16\", \"1990-07-23\", \"1990-08-20\", \"1990-08-27\", \"1990-09-03\", \"1990-09-10\", \"1990-09-17\", \"1990-09-24\", \"1990-10-01\", \"1990-10-08\", \"1990-10-22\", \"1990-10-29\", \"1990-11-05\", \"1990-11-12\", \"1990-11-19\", \"1990-11-26\", \"1990-12-03\", \"1990-12-10\", \"1990-12-17\", \"1990-12-24\", \"1991-01-01\", \"1991-01-22\", \"1991-01-29\", \"1991-02-05\", \"1991-02-12\", \"1991-02-26\", \"1991-03-05\", \"1991-03-19\", \"1991-03-26\", \"1991-04-02\", \"1991-04-09\", \"1991-04-16\", \"1991-04-30\", \"1991-05-07\", \"1991-05-21\", \"1991-05-28\", \"1991-06-04\", \"1991-06-11\", \"1991-06-18\", \"1991-06-25\", \"1991-07-23\", \"1991-08-06\", \"1991-08-20\", \"1991-08-27\", \"1991-09-03\", \"1991-09-10\", \"1991-09-17\", \"1991-09-24\", \"1991-10-01\", \"1991-10-08\", \"1991-10-15\", \"1991-10-22\", \"1991-10-29\", \"1991-11-05\", \"1991-11-12\", \"1991-11-19\", \"1991-11-26\", \"1991-12-03\", \"1991-12-10\", \"1991-12-24\", \"1992-01-08\", \"1992-01-15\", \"1992-01-22\", \"1992-02-05\", \"1992-03-11\", \"1992-03-18\", \"1992-04-01\", \"1992-04-08\", \"1992-04-15\", \"1992-04-22\", \"1992-04-29\", \"1992-05-06\", \"1992-05-13\", \"1992-05-20\", \"1992-06-03\", \"1992-06-10\", \"1992-06-17\", \"1992-06-24\", \"1992-07-01\", \"1992-07-15\", \"1992-07-22\", \"1992-07-29\", \"1992-08-05\", \"1992-08-12\", \"1992-08-19\", \"1992-08-26\", \"1992-09-09\", \"1992-09-16\", \"1992-09-23\", \"1992-09-30\", \"1992-10-07\", \"1992-10-14\", \"1992-10-21\", \"1992-10-28\", \"1992-11-04\", \"1992-11-11\", \"1992-11-18\", \"1992-11-25\", \"1992-12-02\", \"1992-12-09\", \"1992-12-23\", \"1993-01-08\", \"1993-01-15\", \"1993-01-29\", \"1993-02-05\", \"1993-02-12\", \"1993-02-19\", \"1993-03-05\", \"1993-03-12\", \"1993-03-19\", \"1993-03-26\", \"1993-04-02\", \"1993-04-16\", \"1993-04-23\", \"1993-05-07\", \"1993-05-14\", \"1993-05-21\", \"1993-05-28\", \"1993-06-04\", \"1993-06-25\", \"1993-07-02\", \"1993-07-09\", \"1993-07-16\", \"1993-07-23\", \"1993-07-30\", \"1993-08-13\", \"1993-08-20\", \"1993-08-27\", \"1993-09-03\", \"1993-09-10\", \"1993-09-17\", \"1993-09-24\", \"1993-10-01\", \"1993-10-08\", \"1993-10-15\", \"1993-10-29\", \"1993-11-12\", \"1993-11-19\", \"1993-11-26\", \"1993-12-03\", \"1993-12-17\", \"1993-12-24\", \"1994-01-08\", \"1994-01-15\", \"1994-01-22\", \"1994-01-29\", \"1994-02-05\", \"1994-02-12\", \"1994-02-19\", \"1994-03-12\", \"1994-03-19\", \"1994-03-26\", \"1994-04-02\", \"1994-04-09\", \"1994-04-16\", \"1994-04-30\", \"1994-05-07\", \"1994-05-14\", \"1994-05-21\", \"1994-05-28\", \"1994-06-04\", \"1994-06-11\", \"1994-06-25\", \"1994-07-02\", \"1994-07-09\", \"1994-07-16\", \"1994-07-23\", \"1994-07-30\", \"1994-08-13\", \"1994-08-20\", \"1994-08-27\", \"1994-09-03\", \"1994-09-10\", \"1995-01-01\", \"1995-01-08\", \"1995-01-22\", \"1995-01-29\", \"1995-02-12\", \"1995-02-26\", \"1995-03-05\", \"1995-03-12\", \"1995-03-19\", \"1995-03-26\", \"1995-04-02\", \"1995-04-23\", \"1995-04-30\", \"1995-05-14\", \"1995-05-21\", \"1995-05-28\", \"1995-06-11\", \"1995-06-18\", \"1995-06-25\", \"1995-07-02\", \"1995-07-09\", \"1995-07-23\", \"1995-08-06\", \"1995-08-13\", \"1995-08-20\", \"1995-08-27\", \"1995-09-03\", \"1995-09-10\", \"1995-09-17\", \"1995-09-24\", \"1995-10-01\", \"1995-10-08\", \"1995-10-15\", \"1995-10-22\", \"1995-11-05\", \"1995-11-12\", \"1995-11-19\", \"1995-11-26\", \"1995-12-10\", \"1995-12-17\", \"1996-01-01\", \"1996-01-08\", \"1996-01-15\", \"1996-01-22\", \"1996-01-29\", \"1996-02-05\", \"1996-02-12\", \"1996-02-26\", \"1996-03-11\", \"1996-03-18\", \"1996-04-01\", \"1996-04-08\", \"1996-04-15\", \"1996-04-29\", \"1996-05-06\", \"1996-05-20\", \"1996-05-27\", \"1996-06-03\", \"1996-06-10\", \"1996-06-17\", \"1996-06-24\", \"1996-07-08\", \"1996-07-15\", \"1996-07-22\", \"1996-07-29\", \"1996-08-12\", \"1996-08-26\", \"1996-09-02\", \"1996-09-09\", \"1996-09-23\", \"1996-09-30\", \"1996-10-07\", \"1996-10-21\", \"1996-10-28\", \"1996-11-04\", \"1996-11-11\", \"1996-12-02\", \"1996-12-23\", \"1997-01-01\", \"1997-01-15\", \"1997-01-22\", \"1997-01-29\", \"1997-02-05\", \"1997-02-12\", \"1997-02-19\", \"1997-03-19\", \"1997-03-26\", \"1997-04-09\", \"1997-04-16\", \"1997-04-23\", \"1997-04-30\", \"1997-05-07\", \"1997-05-14\", \"1997-05-21\", \"1997-05-28\", \"1997-06-04\", \"1997-06-11\", \"1997-06-18\", \"1997-06-25\", \"1997-07-02\", \"1997-07-09\", \"1997-07-16\", \"1997-07-30\", \"1997-08-06\", \"1997-08-13\", \"1997-08-27\", \"1997-09-03\", \"1997-09-10\", \"1997-09-17\", \"1997-09-24\", \"1997-10-01\", \"1997-10-08\", \"1997-10-15\", \"1997-11-12\", \"1997-11-26\", \"1997-12-03\", \"1997-12-24\", \"1998-01-08\", \"1998-01-15\", \"1998-01-22\", \"1998-01-29\", \"1998-02-05\", \"1998-02-12\", \"1998-02-26\", \"1998-03-05\", \"1998-03-19\", \"1998-04-02\", \"1998-04-09\", \"1998-04-16\", \"1998-04-23\", \"1998-04-30\", \"1998-05-21\", \"1998-05-28\", \"1998-06-04\", \"1998-06-11\", \"1998-06-18\", \"1998-06-25\", \"1998-07-02\", \"1998-07-09\", \"1998-07-16\", \"1998-07-23\", \"1998-07-30\", \"1998-08-06\", \"1998-08-13\", \"1998-08-20\", \"1998-08-27\", \"1998-09-03\", \"1998-09-10\", \"1998-09-24\", \"1998-10-01\", \"1998-10-22\", \"1998-10-29\", \"1998-11-12\", \"1998-11-26\", \"1998-12-03\", \"1998-12-10\", \"1998-12-17\", \"1998-12-24\", \"1999-01-15\", \"1999-01-22\", \"1999-01-29\", \"1999-02-19\", \"1999-02-26\", \"1999-03-05\", \"1999-03-12\", \"1999-03-19\", \"1999-03-26\", \"1999-04-02\", \"1999-04-16\", \"1999-04-23\", \"1999-04-30\", \"1999-05-07\", \"1999-06-04\", \"1999-06-11\", \"1999-07-09\", \"1999-07-16\", \"1999-07-23\", \"1999-07-30\", \"1999-08-06\", \"1999-08-20\", \"1999-08-27\", \"1999-09-10\", \"1999-09-17\", \"1999-09-24\", \"1999-10-01\", \"1999-10-08\", \"1999-10-15\", \"1999-11-05\", \"1999-11-12\", \"1999-11-19\", \"1999-11-26\", \"1999-12-03\", \"1999-12-17\", \"1999-12-24\", \"2000-01-01\", \"2000-01-08\", \"2000-01-15\", \"2000-01-22\", \"2000-01-29\", \"2000-02-05\", \"2000-02-19\", \"2000-03-04\", \"2000-03-11\", \"2000-03-18\", \"2000-03-25\", \"2000-04-08\", \"2000-04-15\", \"2000-04-22\", \"2000-04-29\", \"2000-05-06\", \"2000-05-20\", \"2000-05-27\", \"2000-06-03\", \"2000-06-10\", \"2000-06-17\", \"2000-06-24\", \"2000-07-01\", \"2000-07-08\", \"2000-07-15\", \"2000-07-22\", \"2000-07-29\", \"2000-08-05\", \"2000-08-12\", \"2000-08-19\", \"2000-08-26\", \"2000-09-09\", \"2000-09-16\", \"2000-09-23\", \"2000-10-07\", \"2000-10-14\", \"2000-10-21\", \"2000-10-28\", \"2000-11-04\", \"2000-11-11\", \"2000-11-18\", \"2000-12-02\", \"2000-12-09\", \"2000-12-16\", \"2000-12-23\", \"2001-01-01\", \"2001-01-08\", \"2001-01-22\", \"2001-01-29\", \"2001-02-12\", \"2001-02-19\", \"2001-02-26\", \"2001-03-05\", \"2001-03-12\", \"2001-03-19\", \"2001-04-02\", \"2001-04-16\", \"2001-05-07\", \"2001-05-14\", \"2001-05-21\", \"2001-05-28\", \"2001-06-04\", \"2001-06-18\", \"2001-06-25\", \"2001-07-02\", \"2001-07-09\", \"2001-07-16\", \"2001-07-23\", \"2001-07-30\", \"2001-08-06\", \"2001-08-13\", \"2001-08-20\", \"2001-09-03\", \"2001-09-10\", \"2001-09-17\", \"2001-09-24\", \"2001-10-01\", \"2001-10-08\", \"2001-10-22\", \"2001-10-29\", \"2001-11-05\", \"2001-11-12\", \"2001-11-19\", \"2001-11-26\", \"2001-12-03\", \"2001-12-10\", \"2001-12-17\", \"2001-12-24\", \"2002-01-01\", \"2002-01-08\", \"2002-01-15\", \"2002-01-22\", \"2002-02-05\", \"2002-02-12\", \"2002-02-19\", \"2002-02-26\", \"2002-03-05\", \"2002-03-12\", \"2002-03-19\", \"2002-03-26\", \"2002-04-02\", \"2002-04-09\", \"2002-04-23\", \"2002-04-30\", \"2002-05-07\", \"2002-05-14\", \"2002-05-21\", \"2002-05-28\", \"2002-06-04\", \"2002-07-02\", \"2002-07-09\", \"2002-07-23\", \"2002-07-30\", \"2002-08-06\", \"2002-08-13\", \"2002-08-20\", \"2002-08-27\", \"2002-09-03\", \"2002-09-10\", \"2002-09-24\", \"2002-10-01\", \"2002-10-08\", \"2002-10-22\", \"2002-10-29\", \"2002-11-05\", \"2002-11-12\", \"2002-11-26\", \"2002-12-03\", \"2002-12-10\", \"2002-12-17\", \"2002-12-24\", \"2003-01-01\", \"2003-01-08\", \"2003-01-15\", \"2003-01-22\", \"2003-01-29\", \"2003-02-05\", \"2003-02-19\", \"2003-02-26\", \"2003-03-05\", \"2003-03-12\", \"2003-03-19\", \"2003-03-26\", \"2003-04-02\", \"2003-04-09\", \"2003-04-23\", \"2003-04-30\", \"2003-05-07\", \"2003-05-14\", \"2003-05-28\", \"2003-06-11\", \"2003-06-18\", \"2003-06-25\", \"2003-07-02\", \"2003-07-16\", \"2003-07-23\", \"2003-07-30\", \"2003-08-06\", \"2003-08-13\", \"2003-08-20\", \"2003-09-10\", \"2003-09-17\", \"2003-09-24\", \"2003-10-08\", \"2003-10-15\", \"2003-10-22\", \"2003-10-29\", \"2003-11-12\", \"2003-11-19\", \"2003-11-26\", \"2003-12-03\", \"2003-12-10\", \"2003-12-17\", \"2003-12-24\", \"2004-01-08\", \"2004-01-22\", \"2004-01-29\", \"2004-02-12\", \"2004-02-19\", \"2004-02-26\", \"2004-03-04\", \"2004-03-11\", \"2004-03-25\", \"2004-04-08\", \"2004-04-15\", \"2004-05-13\", \"2004-05-20\", \"2004-05-27\", \"2004-06-03\", \"2004-06-10\", \"2004-06-17\", \"2004-06-24\", \"2004-07-08\", \"2004-07-15\", \"2004-07-22\", \"2004-07-29\", \"2004-08-05\", \"2004-08-12\", \"2004-08-19\", \"2004-08-26\", \"2004-09-02\", \"2004-09-09\", \"2004-09-30\", \"2004-10-07\", \"2004-10-21\", \"2004-10-28\", \"2004-11-04\", \"2004-11-11\", \"2004-11-18\", \"2004-11-25\", \"2004-12-02\", \"2004-12-09\", \"2004-12-16\", \"2004-12-23\", \"2005-01-08\", \"2005-01-15\", \"2005-01-22\", \"2005-01-29\", \"2005-02-05\", \"2005-02-12\", \"2005-02-26\", \"2005-03-05\", \"2005-03-19\", \"2005-03-26\", \"2005-04-09\", \"2005-04-16\", \"2005-04-23\", \"2005-05-07\", \"2005-05-14\", \"2005-05-28\", \"2005-06-04\", \"2005-06-11\", \"2005-06-18\", \"2005-07-02\", \"2005-07-09\", \"2005-07-16\", \"2005-07-23\", \"2005-07-30\", \"2005-08-06\", \"2005-08-20\", \"2005-08-27\", \"2005-09-10\", \"2005-09-17\", \"2005-09-24\", \"2005-10-01\", \"2005-10-08\", \"2005-10-15\", \"2005-10-22\", \"2005-10-29\", \"2005-11-05\", \"2005-11-12\", \"2005-11-19\", \"2005-12-10\", \"2005-12-17\", \"2005-12-24\", \"2006-01-01\", \"2006-01-08\", \"2006-01-15\", \"2006-01-22\", \"2006-01-29\", \"2006-02-05\", \"2006-02-12\", \"2006-02-19\", \"2006-02-26\", \"2006-03-05\", \"2006-03-12\", \"2006-03-19\", \"2006-04-09\", \"2006-04-16\", \"2006-04-23\", \"2006-04-30\", \"2006-05-07\", \"2006-05-21\", \"2006-06-04\", \"2006-06-11\", \"2006-06-18\", \"2006-06-25\", \"2006-07-02\", \"2006-07-09\", \"2006-07-16\", \"2006-07-23\", \"2006-07-30\", \"2006-08-06\", \"2006-08-13\", \"2006-08-27\", \"2006-09-03\", \"2006-09-10\", \"2006-09-17\", \"2006-09-24\", \"2006-10-01\", \"2006-10-15\", \"2006-10-22\", \"2006-10-29\", \"2006-11-12\", \"2006-11-19\", \"2006-11-26\", \"2006-12-10\", \"2006-12-17\", \"2006-12-24\", \"2007-01-01\", \"2007-01-15\", \"2007-01-22\", \"2007-02-05\", \"2007-02-12\", \"2007-02-19\", \"2007-03-05\", \"2007-03-12\", \"2007-03-19\", \"2007-03-26\", \"2007-04-02\", \"2007-04-09\", \"2007-04-16\", \"2007-04-23\", \"2007-04-30\", \"2007-05-07\", \"2007-05-14\", \"2007-05-21\", \"2007-06-04\", \"2007-06-11\", \"2007-06-18\", \"2007-06-25\", \"2007-07-02\", \"2007-07-16\", \"2007-07-23\", \"2007-07-30\", \"2007-08-06\", \"2007-08-20\", \"2007-08-27\", \"2007-09-17\", \"2007-09-24\", \"2007-10-01\", \"2007-10-08\", \"2007-10-15\", \"2007-10-29\", \"2007-11-05\", \"2007-11-12\", \"2007-11-26\", \"2007-12-10\", \"2007-12-24\", \"2008-01-01\", \"2008-01-22\", \"2008-02-05\", \"2008-02-12\", \"2008-02-19\", \"2008-03-04\", \"2008-03-11\", \"2008-03-18\", \"2008-03-25\", \"2008-04-01\", \"2008-04-08\", \"2008-04-22\"], \"xaxis\": \"x\", \"y\": [4, 5, 4, 3, 6, 4, 5, 10, 8, 2, 6, 21, 28, 24, 20, 40, 27, 42, 33, 37, 57, 71, 44, 56, 53, 52, 47, 26, 27, 21, 34, 37, 17, 19, 18, 21, 17, 16, 16, 15, 23, 17, 12, 10, 15, 19, 21, 14, 18, 23, 62, 76, 66, 64, 68, 89, 92, 140, 116, 142, 129, 140, 140, 127, 129, 169, 141, 108, 70, 104, 90, 85, 53, 40, 37, 30, 30, 28, 23, 24, 29, 26, 23, 19, 20, 26, 29, 31, 26, 32, 35, 33, 30, 52, 59, 65, 74, 70, 61, 53, 76, 61, 57, 44, 34, 47, 60, 60, 53, 31, 32, 28, 33, 35, 22, 13, 21, 17, 11, 8, 8, 6, 7, 17, 10, 10, 18, 19, 12, 21, 18, 16, 16, 22, 25, 23, 12, 25, 28, 27, 18, 23, 23, 29, 36, 46, 31, 25, 40, 38, 30, 31, 26, 35, 36, 39, 25, 31, 25, 24, 18, 23, 13, 18, 17, 22, 13, 24, 31, 34, 31, 38, 49, 42, 49, 55, 80, 72, 89, 115, 179, 202, 154, 91, 56, 46, 26, 17, 20, 11, 7, 16, 14, 2, 6, 4, 3, 4, 8, 7, 10, 14, 7, 11, 17, 19, 24, 17, 28, 40, 33, 31, 33, 29, 30, 36, 40, 28, 36, 19, 23, 17, 23, 14, 20, 13, 23, 20, 16, 23, 15, 4, 5, 11, 11, 4, 6, 2, 4, 2, 4, 6, 6, 6, 11, 16, 9, 13, 21, 19, 17, 27, 30, 29, 35, 33, 30, 29, 22, 26, 29, 33, 24, 30, 20, 17, 24, 9, 14, 11, 19, 10, 8, 8, 9, 3, 7, 14, 4, 9, 14, 7, 9, 3, 14, 12, 10, 26, 47, 42, 31, 34, 33, 52, 56, 47, 49, 66, 67, 68, 49, 50, 56, 75, 63, 41, 50, 31, 30, 32, 26, 30, 36, 48, 44, 51, 59, 71, 102, 128, 127, 150, 191, 256, 329, 263, 220, 204, 181, 99, 80, 102, 68, 64, 67, 85, 67, 73, 89, 68, 77, 75, 47, 28, 37, 37, 27, 12, 15, 22, 15, 17, 10, 9, 11, 16, 14, 13, 15, 30, 25, 44, 25, 48, 56, 60, 45, 55, 32, 42, 37, 43, 34, 40, 16, 17, 17, 16, 23, 18, 18, 9, 7, 3, 2, 8, 3, 1, 2, 3, 3, 2, 0, 2, 2, 0, 6, 3, 6, 2, 3, 2, 4, 5, 2, 9, 2, 8, 6, 3, 14, 15, 20, 9, 20, 28, 38, 30, 23, 16, 22, 28, 14, 20, 17, 13, 20, 9, 18, 9, 8, 11, 6, 13, 8, 8, 5, 16, 11, 18, 10, 22, 14, 16, 18, 27, 38, 35, 51, 65, 55, 54, 62, 64, 65, 71, 75, 71, 72, 47, 27, 35, 25, 19, 37, 38, 34, 26, 18, 22, 16, 18, 6, 12, 6, 6, 3, 7, 1, 3, 2, 2, 1, 10, 3, 2, 6, 3, 5, 4, 7, 6, 5, 7, 6, 4, 7, 9, 5, 10, 6, 13, 5, 5, 9, 3, 6, 11, 7, 7, 15, 9, 6, 6, 7, 10, 8, 7, 12, 3, 2, 5, 5, 7, 7, 7, 13, 10, 14, 11, 25, 17, 18, 25, 21, 31, 35, 28, 37, 34, 30, 39, 39, 34, 30, 37, 29, 26, 15, 22, 20, 10, 21, 14, 9, 11, 5, 6, 11, 3, 2, 5, 3, 12, 13, 10, 13, 13, 21, 18, 8, 7, 20, 14, 14, 7, 14, 10, 13, 18, 16, 20, 17, 4, 15, 8, 6, 12, 15, 11, 15, 17, 7, 7, 8, 9, 12, 5, 11, 4, 7, 1, 1, 2, 6, 4, 10, 12, 21, 21, 30, 45, 56, 75, 83, 126, 119, 131, 112, 82, 73, 43, 55, 55, 53, 46, 43, 29, 13, 17, 8, 13, 10, 17, 19, 9, 9, 9, 3, 7, 7, 0, 2, 1, 3, 3, 3, 7, 5, 5, 5, 6, 6, 4, 4, 8, 14, 12, 16, 10, 18, 15, 23, 17, 33, 15, 11, 14, 17, 20, 12, 21, 19, 10, 13, 10, 21, 11, 14, 14, 15, 16, 12, 20, 8, 3, 13, 4, 1, 10, 8, 13, 10, 18, 21, 34, 25, 34, 40, 42, 36, 72, 76, 92, 106, 101, 170, 135, 106, 48, 48, 26, 29, 12, 17, 15, 10, 2, 6, 8, 1, 2, 3, 4, 3, 1, 5], \"yaxis\": \"y\"}, {\"line\": {\"color\": \"rgba(193,99,99,0.8)\"}, \"name\": \"pred\", \"showlegend\": true, \"type\": \"scatter\", \"x\": [\"1990-04-30\", \"1990-05-07\", \"1990-05-14\", \"1990-05-21\", \"1990-05-28\", \"1990-06-11\", \"1990-06-18\", \"1990-06-25\", \"1990-07-09\", \"1990-07-16\", \"1990-07-23\", \"1990-08-20\", \"1990-08-27\", \"1990-09-03\", \"1990-09-10\", \"1990-09-17\", \"1990-09-24\", \"1990-10-01\", \"1990-10-08\", \"1990-10-22\", \"1990-10-29\", \"1990-11-05\", \"1990-11-12\", \"1990-11-19\", \"1990-11-26\", \"1990-12-03\", \"1990-12-10\", \"1990-12-17\", \"1990-12-24\", \"1991-01-01\", \"1991-01-22\", \"1991-01-29\", \"1991-02-05\", \"1991-02-12\", \"1991-02-26\", \"1991-03-05\", \"1991-03-19\", \"1991-03-26\", \"1991-04-02\", \"1991-04-09\", \"1991-04-16\", \"1991-04-30\", \"1991-05-07\", \"1991-05-21\", \"1991-05-28\", \"1991-06-04\", \"1991-06-11\", \"1991-06-18\", \"1991-06-25\", \"1991-07-23\", \"1991-08-06\", \"1991-08-20\", \"1991-08-27\", \"1991-09-03\", \"1991-09-10\", \"1991-09-17\", \"1991-09-24\", \"1991-10-01\", \"1991-10-08\", \"1991-10-15\", \"1991-10-22\", \"1991-10-29\", \"1991-11-05\", \"1991-11-12\", \"1991-11-19\", \"1991-11-26\", \"1991-12-03\", \"1991-12-10\", \"1991-12-24\", \"1992-01-08\", \"1992-01-15\", \"1992-01-22\", \"1992-02-05\", \"1992-03-11\", \"1992-03-18\", \"1992-04-01\", \"1992-04-08\", \"1992-04-15\", \"1992-04-22\", \"1992-04-29\", \"1992-05-06\", \"1992-05-13\", \"1992-05-20\", \"1992-06-03\", \"1992-06-10\", \"1992-06-17\", \"1992-06-24\", \"1992-07-01\", \"1992-07-15\", \"1992-07-22\", \"1992-07-29\", \"1992-08-05\", \"1992-08-12\", \"1992-08-19\", \"1992-08-26\", \"1992-09-09\", \"1992-09-16\", \"1992-09-23\", \"1992-09-30\", \"1992-10-07\", \"1992-10-14\", \"1992-10-21\", \"1992-10-28\", \"1992-11-04\", \"1992-11-11\", \"1992-11-18\", \"1992-11-25\", \"1992-12-02\", \"1992-12-09\", \"1992-12-23\", \"1993-01-08\", \"1993-01-15\", \"1993-01-29\", \"1993-02-05\", \"1993-02-12\", \"1993-02-19\", \"1993-03-05\", \"1993-03-12\", \"1993-03-19\", \"1993-03-26\", \"1993-04-02\", \"1993-04-16\", \"1993-04-23\", \"1993-05-07\", \"1993-05-14\", \"1993-05-21\", \"1993-05-28\", \"1993-06-04\", \"1993-06-25\", \"1993-07-02\", \"1993-07-09\", \"1993-07-16\", \"1993-07-23\", \"1993-07-30\", \"1993-08-13\", \"1993-08-20\", \"1993-08-27\", \"1993-09-03\", \"1993-09-10\", \"1993-09-17\", \"1993-09-24\", \"1993-10-01\", \"1993-10-08\", \"1993-10-15\", \"1993-10-29\", \"1993-11-12\", \"1993-11-19\", \"1993-11-26\", \"1993-12-03\", \"1993-12-17\", \"1993-12-24\", \"1994-01-08\", \"1994-01-15\", \"1994-01-22\", \"1994-01-29\", \"1994-02-05\", \"1994-02-12\", \"1994-02-19\", \"1994-03-12\", \"1994-03-19\", \"1994-03-26\", \"1994-04-02\", \"1994-04-09\", \"1994-04-16\", \"1994-04-30\", \"1994-05-07\", \"1994-05-14\", \"1994-05-21\", \"1994-05-28\", \"1994-06-04\", \"1994-06-11\", \"1994-06-25\", \"1994-07-02\", \"1994-07-09\", \"1994-07-16\", \"1994-07-23\", \"1994-07-30\", \"1994-08-13\", \"1994-08-20\", \"1994-08-27\", \"1994-09-03\", \"1994-09-10\", \"1995-01-01\", \"1995-01-08\", \"1995-01-22\", \"1995-01-29\", \"1995-02-12\", \"1995-02-26\", \"1995-03-05\", \"1995-03-12\", \"1995-03-19\", \"1995-03-26\", \"1995-04-02\", \"1995-04-23\", \"1995-04-30\", \"1995-05-14\", \"1995-05-21\", \"1995-05-28\", \"1995-06-11\", \"1995-06-18\", \"1995-06-25\", \"1995-07-02\", \"1995-07-09\", \"1995-07-23\", \"1995-08-06\", \"1995-08-13\", \"1995-08-20\", \"1995-08-27\", \"1995-09-03\", \"1995-09-10\", \"1995-09-17\", \"1995-09-24\", \"1995-10-01\", \"1995-10-08\", \"1995-10-15\", \"1995-10-22\", \"1995-11-05\", \"1995-11-12\", \"1995-11-19\", \"1995-11-26\", \"1995-12-10\", \"1995-12-17\", \"1996-01-01\", \"1996-01-08\", \"1996-01-15\", \"1996-01-22\", \"1996-01-29\", \"1996-02-05\", \"1996-02-12\", \"1996-02-26\", \"1996-03-11\", \"1996-03-18\", \"1996-04-01\", \"1996-04-08\", \"1996-04-15\", \"1996-04-29\", \"1996-05-06\", \"1996-05-20\", \"1996-05-27\", \"1996-06-03\", \"1996-06-10\", \"1996-06-17\", \"1996-06-24\", \"1996-07-08\", \"1996-07-15\", \"1996-07-22\", \"1996-07-29\", \"1996-08-12\", \"1996-08-26\", \"1996-09-02\", \"1996-09-09\", \"1996-09-23\", \"1996-09-30\", \"1996-10-07\", \"1996-10-21\", \"1996-10-28\", \"1996-11-04\", \"1996-11-11\", \"1996-12-02\", \"1996-12-23\", \"1997-01-01\", \"1997-01-15\", \"1997-01-22\", \"1997-01-29\", \"1997-02-05\", \"1997-02-12\", \"1997-02-19\", \"1997-03-19\", \"1997-03-26\", \"1997-04-09\", \"1997-04-16\", \"1997-04-23\", \"1997-04-30\", \"1997-05-07\", \"1997-05-14\", \"1997-05-21\", \"1997-05-28\", \"1997-06-04\", \"1997-06-11\", \"1997-06-18\", \"1997-06-25\", \"1997-07-02\", \"1997-07-09\", \"1997-07-16\", \"1997-07-30\", \"1997-08-06\", \"1997-08-13\", \"1997-08-27\", \"1997-09-03\", \"1997-09-10\", \"1997-09-17\", \"1997-09-24\", \"1997-10-01\", \"1997-10-08\", \"1997-10-15\", \"1997-11-12\", \"1997-11-26\", \"1997-12-03\", \"1997-12-24\", \"1998-01-08\", \"1998-01-15\", \"1998-01-22\", \"1998-01-29\", \"1998-02-05\", \"1998-02-12\", \"1998-02-26\", \"1998-03-05\", \"1998-03-19\", \"1998-04-02\", \"1998-04-09\", \"1998-04-16\", \"1998-04-23\", \"1998-04-30\", \"1998-05-21\", \"1998-05-28\", \"1998-06-04\", \"1998-06-11\", \"1998-06-18\", \"1998-06-25\", \"1998-07-02\", \"1998-07-09\", \"1998-07-16\", \"1998-07-23\", \"1998-07-30\", \"1998-08-06\", \"1998-08-13\", \"1998-08-20\", \"1998-08-27\", \"1998-09-03\", \"1998-09-10\", \"1998-09-24\", \"1998-10-01\", \"1998-10-22\", \"1998-10-29\", \"1998-11-12\", \"1998-11-26\", \"1998-12-03\", \"1998-12-10\", \"1998-12-17\", \"1998-12-24\", \"1999-01-15\", \"1999-01-22\", \"1999-01-29\", \"1999-02-19\", \"1999-02-26\", \"1999-03-05\", \"1999-03-12\", \"1999-03-19\", \"1999-03-26\", \"1999-04-02\", \"1999-04-16\", \"1999-04-23\", \"1999-04-30\", \"1999-05-07\", \"1999-06-04\", \"1999-06-11\", \"1999-07-09\", \"1999-07-16\", \"1999-07-23\", \"1999-07-30\", \"1999-08-06\", \"1999-08-20\", \"1999-08-27\", \"1999-09-10\", \"1999-09-17\", \"1999-09-24\", \"1999-10-01\", \"1999-10-08\", \"1999-10-15\", \"1999-11-05\", \"1999-11-12\", \"1999-11-19\", \"1999-11-26\", \"1999-12-03\", \"1999-12-17\", \"1999-12-24\", \"2000-01-01\", \"2000-01-08\", \"2000-01-15\", \"2000-01-22\", \"2000-01-29\", \"2000-02-05\", \"2000-02-19\", \"2000-03-04\", \"2000-03-11\", \"2000-03-18\", \"2000-03-25\", \"2000-04-08\", \"2000-04-15\", \"2000-04-22\", \"2000-04-29\", \"2000-05-06\", \"2000-05-20\", \"2000-05-27\", \"2000-06-03\", \"2000-06-10\", \"2000-06-17\", \"2000-06-24\", \"2000-07-01\", \"2000-07-08\", \"2000-07-15\", \"2000-07-22\", \"2000-07-29\", \"2000-08-05\", \"2000-08-12\", \"2000-08-19\", \"2000-08-26\", \"2000-09-09\", \"2000-09-16\", \"2000-09-23\", \"2000-10-07\", \"2000-10-14\", \"2000-10-21\", \"2000-10-28\", \"2000-11-04\", \"2000-11-11\", \"2000-11-18\", \"2000-12-02\", \"2000-12-09\", \"2000-12-16\", \"2000-12-23\", \"2001-01-01\", \"2001-01-08\", \"2001-01-22\", \"2001-01-29\", \"2001-02-12\", \"2001-02-19\", \"2001-02-26\", \"2001-03-05\", \"2001-03-12\", \"2001-03-19\", \"2001-04-02\", \"2001-04-16\", \"2001-05-07\", \"2001-05-14\", \"2001-05-21\", \"2001-05-28\", \"2001-06-04\", \"2001-06-18\", \"2001-06-25\", \"2001-07-02\", \"2001-07-09\", \"2001-07-16\", \"2001-07-23\", \"2001-07-30\", \"2001-08-06\", \"2001-08-13\", \"2001-08-20\", \"2001-09-03\", \"2001-09-10\", \"2001-09-17\", \"2001-09-24\", \"2001-10-01\", \"2001-10-08\", \"2001-10-22\", \"2001-10-29\", \"2001-11-05\", \"2001-11-12\", \"2001-11-19\", \"2001-11-26\", \"2001-12-03\", \"2001-12-10\", \"2001-12-17\", \"2001-12-24\", \"2002-01-01\", \"2002-01-08\", \"2002-01-15\", \"2002-01-22\", \"2002-02-05\", \"2002-02-12\", \"2002-02-19\", \"2002-02-26\", \"2002-03-05\", \"2002-03-12\", \"2002-03-19\", \"2002-03-26\", \"2002-04-02\", \"2002-04-09\", \"2002-04-23\", \"2002-04-30\", \"2002-05-07\", \"2002-05-14\", \"2002-05-21\", \"2002-05-28\", \"2002-06-04\", \"2002-07-02\", \"2002-07-09\", \"2002-07-23\", \"2002-07-30\", \"2002-08-06\", \"2002-08-13\", \"2002-08-20\", \"2002-08-27\", \"2002-09-03\", \"2002-09-10\", \"2002-09-24\", \"2002-10-01\", \"2002-10-08\", \"2002-10-22\", \"2002-10-29\", \"2002-11-05\", \"2002-11-12\", \"2002-11-26\", \"2002-12-03\", \"2002-12-10\", \"2002-12-17\", \"2002-12-24\", \"2003-01-01\", \"2003-01-08\", \"2003-01-15\", \"2003-01-22\", \"2003-01-29\", \"2003-02-05\", \"2003-02-19\", \"2003-02-26\", \"2003-03-05\", \"2003-03-12\", \"2003-03-19\", \"2003-03-26\", \"2003-04-02\", \"2003-04-09\", \"2003-04-23\", \"2003-04-30\", \"2003-05-07\", \"2003-05-14\", \"2003-05-28\", \"2003-06-11\", \"2003-06-18\", \"2003-06-25\", \"2003-07-02\", \"2003-07-16\", \"2003-07-23\", \"2003-07-30\", \"2003-08-06\", \"2003-08-13\", \"2003-08-20\", \"2003-09-10\", \"2003-09-17\", \"2003-09-24\", \"2003-10-08\", \"2003-10-15\", \"2003-10-22\", \"2003-10-29\", \"2003-11-12\", \"2003-11-19\", \"2003-11-26\", \"2003-12-03\", \"2003-12-10\", \"2003-12-17\", \"2003-12-24\", \"2004-01-08\", \"2004-01-22\", \"2004-01-29\", \"2004-02-12\", \"2004-02-19\", \"2004-02-26\", \"2004-03-04\", \"2004-03-11\", \"2004-03-25\", \"2004-04-08\", \"2004-04-15\", \"2004-05-13\", \"2004-05-20\", \"2004-05-27\", \"2004-06-03\", \"2004-06-10\", \"2004-06-17\", \"2004-06-24\", \"2004-07-08\", \"2004-07-15\", \"2004-07-22\", \"2004-07-29\", \"2004-08-05\", \"2004-08-12\", \"2004-08-19\", \"2004-08-26\", \"2004-09-02\", \"2004-09-09\", \"2004-09-30\", \"2004-10-07\", \"2004-10-21\", \"2004-10-28\", \"2004-11-04\", \"2004-11-11\", \"2004-11-18\", \"2004-11-25\", \"2004-12-02\", \"2004-12-09\", \"2004-12-16\", \"2004-12-23\", \"2005-01-08\", \"2005-01-15\", \"2005-01-22\", \"2005-01-29\", \"2005-02-05\", \"2005-02-12\", \"2005-02-26\", \"2005-03-05\", \"2005-03-19\", \"2005-03-26\", \"2005-04-09\", \"2005-04-16\", \"2005-04-23\", \"2005-05-07\", \"2005-05-14\", \"2005-05-28\", \"2005-06-04\", \"2005-06-11\", \"2005-06-18\", \"2005-07-02\", \"2005-07-09\", \"2005-07-16\", \"2005-07-23\", \"2005-07-30\", \"2005-08-06\", \"2005-08-20\", \"2005-08-27\", \"2005-09-10\", \"2005-09-17\", \"2005-09-24\", \"2005-10-01\", \"2005-10-08\", \"2005-10-15\", \"2005-10-22\", \"2005-10-29\", \"2005-11-05\", \"2005-11-12\", \"2005-11-19\", \"2005-12-10\", \"2005-12-17\", \"2005-12-24\", \"2006-01-01\", \"2006-01-08\", \"2006-01-15\", \"2006-01-22\", \"2006-01-29\", \"2006-02-05\", \"2006-02-12\", \"2006-02-19\", \"2006-02-26\", \"2006-03-05\", \"2006-03-12\", \"2006-03-19\", \"2006-04-09\", \"2006-04-16\", \"2006-04-23\", \"2006-04-30\", \"2006-05-07\", \"2006-05-21\", \"2006-06-04\", \"2006-06-11\", \"2006-06-18\", \"2006-06-25\", \"2006-07-02\", \"2006-07-09\", \"2006-07-16\", \"2006-07-23\", \"2006-07-30\", \"2006-08-06\", \"2006-08-13\", \"2006-08-27\", \"2006-09-03\", \"2006-09-10\", \"2006-09-17\", \"2006-09-24\", \"2006-10-01\", \"2006-10-15\", \"2006-10-22\", \"2006-10-29\", \"2006-11-12\", \"2006-11-19\", \"2006-11-26\", \"2006-12-10\", \"2006-12-17\", \"2006-12-24\", \"2007-01-01\", \"2007-01-15\", \"2007-01-22\", \"2007-02-05\", \"2007-02-12\", \"2007-02-19\", \"2007-03-05\", \"2007-03-12\", \"2007-03-19\", \"2007-03-26\", \"2007-04-02\", \"2007-04-09\", \"2007-04-16\", \"2007-04-23\", \"2007-04-30\", \"2007-05-07\", \"2007-05-14\", \"2007-05-21\", \"2007-06-04\", \"2007-06-11\", \"2007-06-18\", \"2007-06-25\", \"2007-07-02\", \"2007-07-16\", \"2007-07-23\", \"2007-07-30\", \"2007-08-06\", \"2007-08-20\", \"2007-08-27\", \"2007-09-17\", \"2007-09-24\", \"2007-10-01\", \"2007-10-08\", \"2007-10-15\", \"2007-10-29\", \"2007-11-05\", \"2007-11-12\", \"2007-11-26\", \"2007-12-10\", \"2007-12-24\", \"2008-01-01\", \"2008-01-22\", \"2008-02-05\", \"2008-02-12\", \"2008-02-19\", \"2008-03-04\", \"2008-03-11\", \"2008-03-18\", \"2008-03-25\", \"2008-04-01\", \"2008-04-08\", \"2008-04-22\"], \"xaxis\": \"x\", \"y\": [19.21064084657155, 22.033932368989554, 19.845084339114692, 24.269273617424915, 35.32233661678947, 35.180439179112, 23.432629996816104, 46.41124787928857, 39.220173859872375, 37.22832865131204, 36.955853717849095, 41.61064081558288, 58.26602619969708, 53.77421900495028, 66.01679228864668, 54.99657523078713, 51.38455225249527, 61.37120704170411, 48.05729271438577, 44.4360125909061, 54.0481576557886, 63.943033104385904, 51.86492253675533, 48.011313216564304, 43.81342860102268, 38.723107452904515, 43.27378495083212, 42.26597127359855, 24.98566307945657, 8.7521709356879, 22.95124477065474, 12.952679284069745, 6.4513011279887, 26.856824726048217, 18.242764048760364, 31.378701142499267, 21.740420888945664, 26.750412867037085, 27.7481423029094, 18.12050016777721, 9.320046802917204, 23.294717877868607, 29.044352461241942, 33.26274727949931, 27.855584061762784, 15.148093820549548, 27.695101258337672, 31.52054321234209, 55.740438870903745, 26.584586758965088, 38.22698518585821, 41.057292440855235, 45.712885433795236, 44.75352973453846, 38.76016978449297, 53.77462210339036, 54.44890748704165, 48.35692971615026, 49.00277352348894, 45.729014620190355, 32.70371814880855, 45.99888305062268, 55.276110222010175, 49.89866661364249, 42.88119623032071, 55.34644883560213, 40.76120340525995, 41.35247347620316, 45.21445114173912, 16.62373925141401, 25.876144145509897, 16.490048039353496, 29.89177478529018, 13.674871999584866, 21.300623742608877, 14.315075697291832, 18.93233633307682, 21.769704155660293, 23.07300050390768, 16.157041619488155, 36.2378353533295, 11.224275505117475, 55.1202001841375, 35.449864043914204, 22.152769876300226, 31.235285513868803, 47.04110407989356, 23.57206201160443, 34.21469426088515, 36.336826113920324, 34.703864926006645, 26.294375821080394, 48.886769402923164, 35.91616104346576, 40.04805141319048, 53.43698181423497, 42.72209639826542, 47.510116885858224, 47.409370669556665, 41.48917957674894, 38.79587796784108, 35.46824648974507, 37.44584281783682, 43.938485953987765, 23.597885984880122, 45.21462232045269, 50.174273174581685, 45.37049776314416, 34.60211653294755, 35.954223869148336, 11.244799734771732, 26.660917845545555, 15.687789529974907, 22.9869029545589, 22.780758560968025, 10.882544972087999, 25.10510063306174, 23.015868753287577, 9.863315747643355, 20.161270501179388, 11.80438844051605, 9.182998311640404, 17.700816227868927, 14.280639596863693, 34.00513248675088, 29.741374334864304, 42.30776189336029, 42.625949836174186, 38.02275523487879, 29.748956549152354, 35.134105514775, 29.383914726609873, 37.697115873235816, 38.61995677948107, 31.667218635187965, 34.593575721852176, 48.996818719884686, 44.04469016587427, 57.64016140084823, 49.13542381566003, 45.48582508382424, 51.08977887908986, 44.188405917095224, 46.7843476073358, 41.596173820084005, 37.22806078519898, 37.07346563068677, 48.173802087721924, 33.20485016537168, 39.07042113953503, 38.11591721237892, 14.837354753795807, 20.052821218754616, 19.378426329789363, 6.06948078358073, 20.51354555427315, 22.423847774614842, 2.2676125227080774, 15.375182648916962, 10.984843071681098, 16.830376643130876, 9.002652524966834, 13.163528653018147, 23.306317925616895, 24.31471623039397, 16.776164132030317, 22.55691070553985, 30.34361016490584, 20.864354741408533, 23.427030202929018, 22.761645691209196, 35.64600909834189, 32.0053261814428, 43.535984227873996, 23.957719747873853, 16.63390192204679, 21.58541830770264, 25.85493831515123, 24.319482149528994, 36.41457691319192, 37.13385670020034, 27.821689465312375, 41.57500341784544, 15.774046861926763, 23.94521242279734, 9.744207653233389, 11.487420888977795, 11.33518985739829, 25.739125874762976, 20.92970790810432, 16.369185021532758, 36.77355719639672, 17.444905684555124, 6.853333459494024, 16.718979883416978, 16.145125951066802, 22.981701353610333, 29.486780474901025, 30.682447115528703, 25.59999011329819, 47.55471865545405, 28.504846455671213, 32.42763943026148, 42.56331833346303, 55.26200601615528, 37.822170635865405, 52.8038578431333, 46.852575010212604, 48.95975930320674, 45.3948433830501, 43.62345071411255, 37.280752082726394, 38.60156529952292, 50.68752384991967, 52.48960981862001, 39.39453976765799, 42.85170809854935, 35.14901741092399, 45.36422419474002, 39.81183227992369, 34.838574502104166, 40.82312939916119, 17.515394405882034, 20.534557819364636, 10.87979043634914, 22.513141492878276, 8.024841892767654, 15.94781699089799, 17.865075887129933, 16.869665078984326, 11.329523017224346, 28.826167339304448, 24.11970548341742, 27.067906664506154, 17.88440753384748, 21.8430952784729, 12.176901722636103, 24.265658568112485, 26.215340277110954, 38.63954464784547, 25.002554740856795, 32.703506887701224, 26.555784962944017, 33.511662637318295, 37.57812211712371, 27.832892708471263, 30.90352192986211, 32.45899423696574, 32.853255301601166, 37.068793712558545, 38.52457627966942, 46.47520204128341, 50.00210119073017, 43.527513615794305, 34.63034009334842, 56.77766181854531, 50.068650200881166, 48.342379667454225, 29.948570596958234, 23.943749580450458, 18.685026916633433, 13.721359138460684, 30.100684298056876, 8.135957353646518, 11.469044370691336, 18.281294048474592, 15.675345273024504, 23.31227910526104, 20.893122651137674, 34.14383004318006, 8.484330118928483, 18.393493933694117, 12.706685874491086, 12.974782543913534, 33.93508542276868, 18.557368558500457, 23.17791541567931, 23.62842770413772, 32.180331665938866, 27.015187800483545, 33.41632545651373, 26.216230028203427, 32.0268746535603, 33.99573455580321, 34.8787722213292, 37.32250511321217, 31.876291806540394, 45.80275290012287, 46.36974297699635, 48.625580352792895, 53.50743541556585, 44.789216136019604, 61.521415444680315, 52.59559287911361, 84.51270480954372, 54.46003423653747, 52.17618047981523, 42.24473790184675, 50.57346222328488, 6.5111406430078205, 18.035809613062156, 15.594322714889131, 13.968894688432556, 17.275036964903848, 23.23763891811359, 15.623621631506467, 25.131822272795034, 20.87807890777367, 25.53989680221457, 16.067603066228912, 11.23771749701882, 18.961994546505593, 27.036526071298795, 40.2370926825206, 50.4758226974609, 26.29254593906262, 45.29842391140846, 40.21448032515764, 49.16173524035548, 41.421489770091284, 49.223823974096376, 32.99746323933505, 51.42280476387168, 49.5391713099325, 45.98050508929191, 60.71680554398881, 67.13254592032172, 50.50193290342031, 53.454002710852365, 50.54870988258699, 45.45085209557328, 38.73738597249212, 43.72435114481232, 36.65586036162313, 46.27494672224748, 46.21516523620994, 52.068526967299476, 38.42035562624187, 27.2277489607568, 37.37250940212107, 16.539579682324984, 15.290671767368622, 12.511504517291542, 15.393070077705488, 36.29996651748115, 15.347136217917068, 15.241254308286443, 11.153255917055503, 15.133467072295389, 14.134036854067745, 22.49401105911602, 7.541416765005124, 13.303137879038331, 39.09295247159207, 18.58208052808186, 30.15731068111745, 27.172138713502136, 42.13868262429605, 39.013874309152015, 40.03400156931821, 46.27771857447988, 56.21534858155246, 45.80659948817265, 51.96515548599746, 52.140359146289484, 47.9759208427422, 64.21317982081746, 42.69055468049373, 50.08385424875814, 52.54833699813935, 43.20566853953278, 58.403059516083886, 31.929914985430514, 36.989572114298426, 18.901360408121036, 36.84919787724175, 31.506500132740257, 11.58541000094192, 9.663361288778106, 16.475767762714895, 17.066747101885994, 17.52120797754469, 18.485644229162062, 14.009367919106808, 29.44912720690263, 5.430920271141076, 14.656306561962992, 17.739718075847122, 2.3707488827312773, 23.05854417365481, 15.090059094904063, 15.6903732922965, 10.589570062667917, 14.749870208797802, 26.937144703961167, 26.310891344175616, 16.507198233866802, 32.69874990844801, 26.023632498319785, 24.855221468920718, 29.27498302316235, 28.62622777402248, 34.695188814504945, 32.53164484343324, 35.92720776736678, 43.37590922099116, 45.02384356419134, 47.64743942848145, 46.0259761878242, 53.20696956223219, 37.74974133453361, 40.64560167791933, 32.14082585952201, 49.1609660574195, 45.89972049833341, 24.63906925300762, 13.471361699414047, 41.82852091793575, 39.4976743356674, 33.152173700165804, 33.766139557270435, 26.60170044976985, 9.057160553133144, 13.312015474048167, 14.410058555798969, 14.460355813203932, 15.934844155743122, 11.160798316415821, 25.15757820608269, 15.332790810167353, 11.474025797302602, 17.87563442912142, 6.667619203873983, 26.177885889655954, 24.77613871034373, 17.572209976946397, 19.85304374722, 20.77912179579471, 21.658228907552257, 26.203580965844594, 34.02712969459935, 28.211389972262623, 43.296260431457995, 33.23525506511214, 44.04415706264626, 44.680903509039126, 46.09766623838004, 40.316377732197, 47.54618829753781, 43.9674163515956, 42.58582554599343, 43.037999035517714, 50.926169944514186, 44.45728859251358, 47.444288579326894, 46.7115530284409, 30.977668158651795, 51.60415919822117, 42.57375061200037, 50.79969503569009, 22.635504748877793, 41.587993033266685, 33.05602171549617, 43.09556250470632, 12.654160368863813, 35.01676175919238, 16.322748200484057, 8.114230967526964, 15.998094902724915, 1.1885682593183446, 14.315271780189505, 24.24839259916007, 5.559184373159951, 5.989008390408344, 5.820585107690931, 14.138981365913423, 27.96835596352139, 17.896560346342085, 23.92231764920689, 20.695495054762432, 11.932038403780098, 17.485303918696445, 16.754341822210336, 33.40350833012053, 34.04052921688708, 28.77757926294362, 25.454977316210716, 25.316424645119696, 44.053694665723015, 29.498074595674552, 45.025512133477605, 36.94738030931694, 30.983181842830163, 41.469281441657586, 37.65247892757361, 40.970104799176625, 48.77870543561221, 37.350009472345846, 37.618312093400164, 38.94776023684972, 36.77541459135318, 30.87964051554991, 42.8329593412418, 31.773932283238537, 36.634958925997125, 27.757814516115104, 26.068392273456993, 24.10387506619736, 18.880595616281425, 7.549237095741773, 13.397169562755153, 27.18569992321318, 31.46542167546977, 12.732627826311727, 14.417116919572436, 13.160860661189872, 11.907290934550474, 17.785358021601496, 5.0903178382923215, 10.696368707764123, 18.857949074574208, 22.9244200769117, 23.37666647561673, 21.154841435796698, 13.86694064103176, 23.25518585291684, 23.62532814210863, 18.648440566073987, 27.92148960430859, 18.456804616365844, 14.996206981739306, 28.905621834242993, 31.67470633265839, 33.277870449830516, 36.82795771938254, 42.72892706316998, 36.39053566335315, 44.11407494348532, 48.55961071044658, 44.54470447719177, 48.94900210681044, 44.42105475168137, 43.80541187089693, 47.68855038328911, 24.257124284560632, 41.82762605300013, 34.22397258271485, 31.45505471332217, 33.770723701012685, 29.451971982207397, 11.354446805196858, 10.50907435741101, 15.77884879953126, 12.39004738548465, 8.50257505479749, 30.568635145211374, 33.91632021268924, 9.00355979744927, 21.463036890814692, 18.962502486014273, 18.646726059716457, 29.833543079270385, 20.360770722423695, 19.9315519744232, 29.901630920214302, 27.373291858588345, 28.02347232338616, 22.32585623504383, 30.2260922067544, 27.783696540849633, 35.18176291068448, 34.63433500406609, 37.62751977123298, 32.765984272500646, 38.48583553861863, 31.04708159485199, 35.2932075136996, 47.31663824938005, 36.991050266131424, 44.66575529654256, 46.989889713211596, 45.38985488033177, 35.05780822645647, 48.235701280884314, 34.79001776968835, 16.168262429619062, 30.72855831151537, 27.711076791021696, 33.54159047907888, 34.7141907116802, 3.3759390607046953, 3.427496452275591, 10.137851087438321, 16.61075227328365, -5.126984361810173, 28.20130583065111, -1.9416346323068865, 20.650653943926955, 17.467016078269808, 6.2273701038011495, 12.701761932677982, 17.834359233074792, 16.81098960221425, 12.154987031561177, 18.157301870951414, 33.870234190679184, 38.85550167875772, 33.079285166970294, 34.64629898208295, 38.180310051566266, 49.383845912532706, 35.611135965651556, 45.83398836502238, 38.35656115439269, 34.20071311349602, 43.4064102326156, 49.890046862741656, 29.310953805441386, 51.23595065232621, 40.024993430683026, 49.44220170839071, 48.959506766963386, 55.78037509634487, 36.709941097962655, 63.02854794404266, 43.79565156614626, 49.741196488155765, 48.11108885833164, 28.237644506398283, 27.843044447739885, 39.72391148144561, 33.386538552829734, 12.860212347590277, 10.533047307511879, 11.928762868494232, 11.38797931679801, 19.35186844684722, 19.060726982790584, 12.382071067488141, 21.6808382671461, 5.712187885603271, 10.756343411008856, 22.301537426947107, 7.495562021373189, 6.145421129083843, 12.832504219102702, 17.57902746498621, 20.788220342956265, 34.6755211543059, 18.16249917170353, 33.82113588601533, 29.970207770820707, 31.82526838391459, 49.74650502827717, 33.19634599002711, 42.75773376745565, 39.62029700737912, 24.12484224063155, 40.27415053371806, 49.43387946036637, 46.80154928411139, 43.48737285293282, 38.83457891510261, 47.25655242324501, 32.87564672953522, 43.10717997899155, 34.71185612133195, 44.542547762479444, 40.968938290621736, 40.350900307588745, 22.331037543393904, 33.94263074631999, 22.753182648248185, 42.87070544234666, 30.856496408472594, 7.793760747523265, 17.334589117399446, 5.4864631426971755, 13.102017012552096, 8.626469546887165, 16.68081895207797, 13.029125286953786, 5.889614447518397, 27.841150863807343, 17.13049094640519, 15.392577008164153, 11.67684348486182, 16.299585094267968, 24.789872335799373, 19.529432915107463, 31.192300625043572, 31.892708897472403, 23.868957135313394, 15.981160347182595, 26.234973454989813, 28.09555347339665, 33.63224580176575, 22.869475721361596, 28.507671632052734, 34.685032574416255, 27.18050107981253, 37.982624238200515, 34.085958144567485, 47.323362057710256, 32.88368119414008, 34.94646393156472, 46.24693208689496, 44.95129474914938, 38.73543298318509, 48.29745381907924, 40.210076987857974, 42.52498630059381, 19.763477774908097, 34.06015790618585, 30.880073148982774, -7.488867634419876, -10.174163461890203, 13.921047913821894, 7.963887206782601, 8.998953087206246, 0.6652343803252734, 10.145306088004872, 5.1312345489150175, 6.1217752669890615, 3.919936805175894, 7.849754501377902, 10.108191892968534], \"yaxis\": \"y\"}],\n",
              "                        {\"autosize\": false, \"height\": 600, \"template\": {\"data\": {\"bar\": [{\"error_x\": {\"color\": \"#2a3f5f\"}, \"error_y\": {\"color\": \"#2a3f5f\"}, \"marker\": {\"line\": {\"color\": \"#E5ECF6\", \"width\": 0.5}}, \"type\": \"bar\"}], \"barpolar\": [{\"marker\": {\"line\": {\"color\": \"#E5ECF6\", \"width\": 0.5}}, \"type\": \"barpolar\"}], \"carpet\": [{\"aaxis\": {\"endlinecolor\": \"#2a3f5f\", \"gridcolor\": \"white\", \"linecolor\": \"white\", \"minorgridcolor\": \"white\", \"startlinecolor\": \"#2a3f5f\"}, \"baxis\": {\"endlinecolor\": \"#2a3f5f\", \"gridcolor\": \"white\", \"linecolor\": \"white\", \"minorgridcolor\": \"white\", \"startlinecolor\": \"#2a3f5f\"}, \"type\": \"carpet\"}], \"choropleth\": [{\"colorbar\": {\"outlinewidth\": 0, \"ticks\": \"\"}, \"type\": \"choropleth\"}], \"contour\": [{\"colorbar\": {\"outlinewidth\": 0, \"ticks\": \"\"}, \"colorscale\": [[0.0, \"#0d0887\"], [0.1111111111111111, \"#46039f\"], [0.2222222222222222, \"#7201a8\"], [0.3333333333333333, \"#9c179e\"], [0.4444444444444444, \"#bd3786\"], [0.5555555555555556, \"#d8576b\"], [0.6666666666666666, \"#ed7953\"], [0.7777777777777778, \"#fb9f3a\"], [0.8888888888888888, \"#fdca26\"], [1.0, \"#f0f921\"]], \"type\": \"contour\"}], \"contourcarpet\": [{\"colorbar\": {\"outlinewidth\": 0, \"ticks\": \"\"}, \"type\": \"contourcarpet\"}], \"heatmap\": [{\"colorbar\": {\"outlinewidth\": 0, \"ticks\": \"\"}, \"colorscale\": [[0.0, \"#0d0887\"], [0.1111111111111111, \"#46039f\"], [0.2222222222222222, \"#7201a8\"], [0.3333333333333333, \"#9c179e\"], [0.4444444444444444, \"#bd3786\"], [0.5555555555555556, \"#d8576b\"], [0.6666666666666666, \"#ed7953\"], [0.7777777777777778, \"#fb9f3a\"], [0.8888888888888888, \"#fdca26\"], [1.0, \"#f0f921\"]], \"type\": \"heatmap\"}], \"heatmapgl\": [{\"colorbar\": {\"outlinewidth\": 0, \"ticks\": \"\"}, \"colorscale\": [[0.0, \"#0d0887\"], [0.1111111111111111, \"#46039f\"], [0.2222222222222222, \"#7201a8\"], [0.3333333333333333, \"#9c179e\"], [0.4444444444444444, \"#bd3786\"], [0.5555555555555556, \"#d8576b\"], [0.6666666666666666, \"#ed7953\"], [0.7777777777777778, \"#fb9f3a\"], [0.8888888888888888, \"#fdca26\"], [1.0, \"#f0f921\"]], \"type\": \"heatmapgl\"}], \"histogram\": [{\"marker\": {\"colorbar\": {\"outlinewidth\": 0, \"ticks\": \"\"}}, \"type\": \"histogram\"}], \"histogram2d\": [{\"colorbar\": {\"outlinewidth\": 0, \"ticks\": \"\"}, \"colorscale\": [[0.0, \"#0d0887\"], [0.1111111111111111, \"#46039f\"], [0.2222222222222222, \"#7201a8\"], [0.3333333333333333, \"#9c179e\"], [0.4444444444444444, \"#bd3786\"], [0.5555555555555556, \"#d8576b\"], [0.6666666666666666, \"#ed7953\"], [0.7777777777777778, \"#fb9f3a\"], [0.8888888888888888, \"#fdca26\"], [1.0, \"#f0f921\"]], \"type\": \"histogram2d\"}], \"histogram2dcontour\": [{\"colorbar\": {\"outlinewidth\": 0, \"ticks\": \"\"}, \"colorscale\": [[0.0, \"#0d0887\"], [0.1111111111111111, \"#46039f\"], [0.2222222222222222, \"#7201a8\"], [0.3333333333333333, \"#9c179e\"], [0.4444444444444444, \"#bd3786\"], [0.5555555555555556, \"#d8576b\"], [0.6666666666666666, \"#ed7953\"], [0.7777777777777778, \"#fb9f3a\"], [0.8888888888888888, \"#fdca26\"], [1.0, \"#f0f921\"]], \"type\": \"histogram2dcontour\"}], \"mesh3d\": [{\"colorbar\": {\"outlinewidth\": 0, \"ticks\": \"\"}, \"type\": \"mesh3d\"}], \"parcoords\": [{\"line\": {\"colorbar\": {\"outlinewidth\": 0, \"ticks\": \"\"}}, \"type\": \"parcoords\"}], \"pie\": [{\"automargin\": true, \"type\": \"pie\"}], \"scatter\": [{\"marker\": {\"colorbar\": {\"outlinewidth\": 0, \"ticks\": \"\"}}, \"type\": \"scatter\"}], \"scatter3d\": [{\"line\": {\"colorbar\": {\"outlinewidth\": 0, \"ticks\": \"\"}}, \"marker\": {\"colorbar\": {\"outlinewidth\": 0, \"ticks\": \"\"}}, \"type\": \"scatter3d\"}], \"scattercarpet\": [{\"marker\": {\"colorbar\": {\"outlinewidth\": 0, \"ticks\": \"\"}}, \"type\": \"scattercarpet\"}], \"scattergeo\": [{\"marker\": {\"colorbar\": {\"outlinewidth\": 0, \"ticks\": \"\"}}, \"type\": \"scattergeo\"}], \"scattergl\": [{\"marker\": {\"colorbar\": {\"outlinewidth\": 0, \"ticks\": \"\"}}, \"type\": \"scattergl\"}], \"scattermapbox\": [{\"marker\": {\"colorbar\": {\"outlinewidth\": 0, \"ticks\": \"\"}}, \"type\": \"scattermapbox\"}], \"scatterpolar\": [{\"marker\": {\"colorbar\": {\"outlinewidth\": 0, \"ticks\": \"\"}}, \"type\": \"scatterpolar\"}], \"scatterpolargl\": [{\"marker\": {\"colorbar\": {\"outlinewidth\": 0, \"ticks\": \"\"}}, \"type\": \"scatterpolargl\"}], \"scatterternary\": [{\"marker\": {\"colorbar\": {\"outlinewidth\": 0, \"ticks\": \"\"}}, \"type\": \"scatterternary\"}], \"surface\": [{\"colorbar\": {\"outlinewidth\": 0, \"ticks\": \"\"}, \"colorscale\": [[0.0, \"#0d0887\"], [0.1111111111111111, \"#46039f\"], [0.2222222222222222, \"#7201a8\"], [0.3333333333333333, \"#9c179e\"], [0.4444444444444444, \"#bd3786\"], [0.5555555555555556, \"#d8576b\"], [0.6666666666666666, \"#ed7953\"], [0.7777777777777778, \"#fb9f3a\"], [0.8888888888888888, \"#fdca26\"], [1.0, \"#f0f921\"]], \"type\": \"surface\"}], \"table\": [{\"cells\": {\"fill\": {\"color\": \"#EBF0F8\"}, \"line\": {\"color\": \"white\"}}, \"header\": {\"fill\": {\"color\": \"#C8D4E3\"}, \"line\": {\"color\": \"white\"}}, \"type\": \"table\"}]}, \"layout\": {\"annotationdefaults\": {\"arrowcolor\": \"#2a3f5f\", \"arrowhead\": 0, \"arrowwidth\": 1}, \"coloraxis\": {\"colorbar\": {\"outlinewidth\": 0, \"ticks\": \"\"}}, \"colorscale\": {\"diverging\": [[0, \"#8e0152\"], [0.1, \"#c51b7d\"], [0.2, \"#de77ae\"], [0.3, \"#f1b6da\"], [0.4, \"#fde0ef\"], [0.5, \"#f7f7f7\"], [0.6, \"#e6f5d0\"], [0.7, \"#b8e186\"], [0.8, \"#7fbc41\"], [0.9, \"#4d9221\"], [1, \"#276419\"]], \"sequential\": [[0.0, \"#0d0887\"], [0.1111111111111111, \"#46039f\"], [0.2222222222222222, \"#7201a8\"], [0.3333333333333333, \"#9c179e\"], [0.4444444444444444, \"#bd3786\"], [0.5555555555555556, \"#d8576b\"], [0.6666666666666666, \"#ed7953\"], [0.7777777777777778, \"#fb9f3a\"], [0.8888888888888888, \"#fdca26\"], [1.0, \"#f0f921\"]], \"sequentialminus\": [[0.0, \"#0d0887\"], [0.1111111111111111, \"#46039f\"], [0.2222222222222222, \"#7201a8\"], [0.3333333333333333, \"#9c179e\"], [0.4444444444444444, \"#bd3786\"], [0.5555555555555556, \"#d8576b\"], [0.6666666666666666, \"#ed7953\"], [0.7777777777777778, \"#fb9f3a\"], [0.8888888888888888, \"#fdca26\"], [1.0, \"#f0f921\"]]}, \"colorway\": [\"#636efa\", \"#EF553B\", \"#00cc96\", \"#ab63fa\", \"#FFA15A\", \"#19d3f3\", \"#FF6692\", \"#B6E880\", \"#FF97FF\", \"#FECB52\"], \"font\": {\"color\": \"#2a3f5f\"}, \"geo\": {\"bgcolor\": \"white\", \"lakecolor\": \"white\", \"landcolor\": \"#E5ECF6\", \"showlakes\": true, \"showland\": true, \"subunitcolor\": \"white\"}, \"hoverlabel\": {\"align\": \"left\"}, \"hovermode\": \"closest\", \"mapbox\": {\"style\": \"light\"}, \"paper_bgcolor\": \"white\", \"plot_bgcolor\": \"#E5ECF6\", \"polar\": {\"angularaxis\": {\"gridcolor\": \"white\", \"linecolor\": \"white\", \"ticks\": \"\"}, \"bgcolor\": \"#E5ECF6\", \"radialaxis\": {\"gridcolor\": \"white\", \"linecolor\": \"white\", \"ticks\": \"\"}}, \"scene\": {\"xaxis\": {\"backgroundcolor\": \"#E5ECF6\", \"gridcolor\": \"white\", \"gridwidth\": 2, \"linecolor\": \"white\", \"showbackground\": true, \"ticks\": \"\", \"zerolinecolor\": \"white\"}, \"yaxis\": {\"backgroundcolor\": \"#E5ECF6\", \"gridcolor\": \"white\", \"gridwidth\": 2, \"linecolor\": \"white\", \"showbackground\": true, \"ticks\": \"\", \"zerolinecolor\": \"white\"}, \"zaxis\": {\"backgroundcolor\": \"#E5ECF6\", \"gridcolor\": \"white\", \"gridwidth\": 2, \"linecolor\": \"white\", \"showbackground\": true, \"ticks\": \"\", \"zerolinecolor\": \"white\"}}, \"shapedefaults\": {\"line\": {\"color\": \"#2a3f5f\"}}, \"ternary\": {\"aaxis\": {\"gridcolor\": \"white\", \"linecolor\": \"white\", \"ticks\": \"\"}, \"baxis\": {\"gridcolor\": \"white\", \"linecolor\": \"white\", \"ticks\": \"\"}, \"bgcolor\": \"#E5ECF6\", \"caxis\": {\"gridcolor\": \"white\", \"linecolor\": \"white\", \"ticks\": \"\"}}, \"title\": {\"x\": 0.05}, \"xaxis\": {\"automargin\": true, \"gridcolor\": \"white\", \"linecolor\": \"white\", \"ticks\": \"\", \"title\": {\"standoff\": 15}, \"zerolinecolor\": \"white\", \"zerolinewidth\": 2}, \"yaxis\": {\"automargin\": true, \"gridcolor\": \"white\", \"linecolor\": \"white\", \"ticks\": \"\", \"title\": {\"standoff\": 15}, \"zerolinecolor\": \"white\", \"zerolinewidth\": 2}}}, \"title\": {\"text\": \"prediction\"}, \"width\": 1200, \"xaxis\": {\"anchor\": \"y\", \"domain\": [0.0, 1.0]}, \"yaxis\": {\"anchor\": \"x\", \"domain\": [0.0, 1.0]}},\n",
              "                        {\"responsive\": true}\n",
              "                    ).then(function(){\n",
              "                            \n",
              "var gd = document.getElementById('b48c5e3c-8170-48f4-9653-3353e732eef6');\n",
              "var x = new MutationObserver(function (mutations, observer) {{\n",
              "        var display = window.getComputedStyle(gd).display;\n",
              "        if (!display || display === 'none') {{\n",
              "            console.log([gd, 'removed!']);\n",
              "            Plotly.purge(gd);\n",
              "            observer.disconnect();\n",
              "        }}\n",
              "}});\n",
              "\n",
              "// Listen for the removal of the full notebook cells\n",
              "var notebookContainer = gd.closest('#notebook-container');\n",
              "if (notebookContainer) {{\n",
              "    x.observe(notebookContainer, {childList: true});\n",
              "}}\n",
              "\n",
              "// Listen for the clearing of the current output cell\n",
              "var outputEl = gd.closest('.output');\n",
              "if (outputEl) {{\n",
              "    x.observe(outputEl, {childList: true});\n",
              "}}\n",
              "\n",
              "                        })\n",
              "                };\n",
              "                \n",
              "            </script>\n",
              "        </div>\n",
              "</body>\n",
              "</html>"
            ]
          },
          "metadata": {
            "tags": []
          }
        }
      ]
    },
    {
      "cell_type": "markdown",
      "metadata": {
        "id": "kTpaq6qosTvG"
      },
      "source": [
        "Ez a LAsso nem valami szép"
      ]
    },
    {
      "cell_type": "code",
      "metadata": {
        "id": "cJjYpGTy9MFL",
        "colab": {
          "base_uri": "https://localhost:8080/",
          "height": 223
        },
        "outputId": "8d34cb06-d62c-48de-a84a-cbe98b559831"
      },
      "source": [
        "X_train_sj.tail(5)"
      ],
      "execution_count": 34,
      "outputs": [
        {
          "output_type": "execute_result",
          "data": {
            "text/html": [
              "<div>\n",
              "<style scoped>\n",
              "    .dataframe tbody tr th:only-of-type {\n",
              "        vertical-align: middle;\n",
              "    }\n",
              "\n",
              "    .dataframe tbody tr th {\n",
              "        vertical-align: top;\n",
              "    }\n",
              "\n",
              "    .dataframe thead th {\n",
              "        text-align: right;\n",
              "    }\n",
              "</style>\n",
              "<table border=\"1\" class=\"dataframe\">\n",
              "  <thead>\n",
              "    <tr style=\"text-align: right;\">\n",
              "      <th></th>\n",
              "      <th>city</th>\n",
              "      <th>year</th>\n",
              "      <th>weekofyear</th>\n",
              "      <th>week_start_date</th>\n",
              "      <th>ndvi_ne</th>\n",
              "      <th>ndvi_nw</th>\n",
              "      <th>ndvi_se</th>\n",
              "      <th>ndvi_sw</th>\n",
              "      <th>precipitation_amt_mm</th>\n",
              "      <th>reanalysis_air_temp_k</th>\n",
              "      <th>reanalysis_avg_temp_k</th>\n",
              "      <th>reanalysis_dew_point_temp_k</th>\n",
              "      <th>reanalysis_max_air_temp_k</th>\n",
              "      <th>reanalysis_min_air_temp_k</th>\n",
              "      <th>reanalysis_precip_amt_kg_per_m2</th>\n",
              "      <th>reanalysis_relative_humidity_percent</th>\n",
              "      <th>reanalysis_sat_precip_amt_mm</th>\n",
              "      <th>reanalysis_specific_humidity_g_per_kg</th>\n",
              "      <th>reanalysis_tdtr_k</th>\n",
              "      <th>station_avg_temp_c</th>\n",
              "      <th>station_diur_temp_rng_c</th>\n",
              "      <th>station_max_temp_c</th>\n",
              "      <th>station_min_temp_c</th>\n",
              "      <th>station_precip_mm</th>\n",
              "      <th>total_cases</th>\n",
              "      <th>pred</th>\n",
              "    </tr>\n",
              "  </thead>\n",
              "  <tbody>\n",
              "    <tr>\n",
              "      <th>930</th>\n",
              "      <td>sj</td>\n",
              "      <td>2008</td>\n",
              "      <td>12</td>\n",
              "      <td>2008-03-18</td>\n",
              "      <td>0.04490</td>\n",
              "      <td>0.024450</td>\n",
              "      <td>0.101629</td>\n",
              "      <td>0.088000</td>\n",
              "      <td>0.00</td>\n",
              "      <td>297.404286</td>\n",
              "      <td>297.435714</td>\n",
              "      <td>292.205714</td>\n",
              "      <td>299.8</td>\n",
              "      <td>294.9</td>\n",
              "      <td>0.90</td>\n",
              "      <td>72.915714</td>\n",
              "      <td>0.00</td>\n",
              "      <td>13.737143</td>\n",
              "      <td>3.871429</td>\n",
              "      <td>25.200000</td>\n",
              "      <td>7.042857</td>\n",
              "      <td>30.0</td>\n",
              "      <td>20.6</td>\n",
              "      <td>0.5</td>\n",
              "      <td>3</td>\n",
              "      <td>5.131235</td>\n",
              "    </tr>\n",
              "    <tr>\n",
              "      <th>931</th>\n",
              "      <td>sj</td>\n",
              "      <td>2008</td>\n",
              "      <td>13</td>\n",
              "      <td>2008-03-25</td>\n",
              "      <td>0.07785</td>\n",
              "      <td>-0.039900</td>\n",
              "      <td>0.310471</td>\n",
              "      <td>0.296243</td>\n",
              "      <td>27.19</td>\n",
              "      <td>296.958571</td>\n",
              "      <td>296.957143</td>\n",
              "      <td>292.095714</td>\n",
              "      <td>299.7</td>\n",
              "      <td>294.4</td>\n",
              "      <td>7.55</td>\n",
              "      <td>74.247143</td>\n",
              "      <td>27.19</td>\n",
              "      <td>13.644286</td>\n",
              "      <td>2.885714</td>\n",
              "      <td>25.042857</td>\n",
              "      <td>5.785714</td>\n",
              "      <td>30.0</td>\n",
              "      <td>21.1</td>\n",
              "      <td>1.8</td>\n",
              "      <td>4</td>\n",
              "      <td>6.121775</td>\n",
              "    </tr>\n",
              "    <tr>\n",
              "      <th>932</th>\n",
              "      <td>sj</td>\n",
              "      <td>2008</td>\n",
              "      <td>14</td>\n",
              "      <td>2008-04-01</td>\n",
              "      <td>-0.03800</td>\n",
              "      <td>-0.016833</td>\n",
              "      <td>0.119371</td>\n",
              "      <td>0.066386</td>\n",
              "      <td>3.82</td>\n",
              "      <td>298.081429</td>\n",
              "      <td>298.228571</td>\n",
              "      <td>293.235714</td>\n",
              "      <td>299.8</td>\n",
              "      <td>296.5</td>\n",
              "      <td>3.67</td>\n",
              "      <td>74.600000</td>\n",
              "      <td>3.82</td>\n",
              "      <td>14.662857</td>\n",
              "      <td>2.714286</td>\n",
              "      <td>26.242857</td>\n",
              "      <td>6.814286</td>\n",
              "      <td>30.6</td>\n",
              "      <td>22.2</td>\n",
              "      <td>0.5</td>\n",
              "      <td>3</td>\n",
              "      <td>3.919937</td>\n",
              "    </tr>\n",
              "    <tr>\n",
              "      <th>933</th>\n",
              "      <td>sj</td>\n",
              "      <td>2008</td>\n",
              "      <td>15</td>\n",
              "      <td>2008-04-08</td>\n",
              "      <td>-0.15520</td>\n",
              "      <td>-0.052750</td>\n",
              "      <td>0.137757</td>\n",
              "      <td>0.141214</td>\n",
              "      <td>16.96</td>\n",
              "      <td>297.460000</td>\n",
              "      <td>297.564286</td>\n",
              "      <td>292.732857</td>\n",
              "      <td>299.4</td>\n",
              "      <td>295.8</td>\n",
              "      <td>35.00</td>\n",
              "      <td>75.027143</td>\n",
              "      <td>16.96</td>\n",
              "      <td>14.184286</td>\n",
              "      <td>2.185714</td>\n",
              "      <td>25.000000</td>\n",
              "      <td>5.714286</td>\n",
              "      <td>29.4</td>\n",
              "      <td>21.7</td>\n",
              "      <td>30.7</td>\n",
              "      <td>1</td>\n",
              "      <td>7.849755</td>\n",
              "    </tr>\n",
              "    <tr>\n",
              "      <th>935</th>\n",
              "      <td>sj</td>\n",
              "      <td>2008</td>\n",
              "      <td>17</td>\n",
              "      <td>2008-04-22</td>\n",
              "      <td>-0.03700</td>\n",
              "      <td>-0.010367</td>\n",
              "      <td>0.077314</td>\n",
              "      <td>0.090586</td>\n",
              "      <td>0.00</td>\n",
              "      <td>298.672857</td>\n",
              "      <td>298.692857</td>\n",
              "      <td>294.280000</td>\n",
              "      <td>300.9</td>\n",
              "      <td>295.9</td>\n",
              "      <td>2.17</td>\n",
              "      <td>76.960000</td>\n",
              "      <td>0.00</td>\n",
              "      <td>15.671429</td>\n",
              "      <td>3.957143</td>\n",
              "      <td>27.042857</td>\n",
              "      <td>7.514286</td>\n",
              "      <td>31.7</td>\n",
              "      <td>23.3</td>\n",
              "      <td>0.3</td>\n",
              "      <td>5</td>\n",
              "      <td>10.108192</td>\n",
              "    </tr>\n",
              "  </tbody>\n",
              "</table>\n",
              "</div>"
            ],
            "text/plain": [
              "    city  year  weekofyear  ... station_precip_mm  total_cases       pred\n",
              "930   sj  2008          12  ...               0.5            3   5.131235\n",
              "931   sj  2008          13  ...               1.8            4   6.121775\n",
              "932   sj  2008          14  ...               0.5            3   3.919937\n",
              "933   sj  2008          15  ...              30.7            1   7.849755\n",
              "935   sj  2008          17  ...               0.3            5  10.108192\n",
              "\n",
              "[5 rows x 26 columns]"
            ]
          },
          "metadata": {
            "tags": []
          },
          "execution_count": 34
        }
      ]
    },
    {
      "cell_type": "markdown",
      "metadata": {
        "id": "4RQRFElO-8pO"
      },
      "source": [
        "SJ random forest"
      ]
    },
    {
      "cell_type": "code",
      "metadata": {
        "id": "UxdBcovSZ4Sf",
        "colab": {
          "base_uri": "https://localhost:8080/"
        },
        "outputId": "31133d39-5bad-4346-fb37-d30d40ec8d1d"
      },
      "source": [
        "\n",
        "from sklearn.ensemble import RandomForestRegressor\n",
        "\n",
        "total_regressor=RandomForestRegressor(n_estimators=1540,criterion=\"mse\",)\n",
        "\n",
        "yy=X_train_sj[['total_cases']]\n",
        "total_regressor.fit(X_train_sj[prediktorok],yy)\n",
        "y_pred=total_regressor.predict(X_train_sj[prediktorok])\n",
        "\n",
        "X_train_sj[\"Randomforest_total\"]=y_pred\n",
        "\n",
        "\n"
      ],
      "execution_count": 35,
      "outputs": [
        {
          "output_type": "stream",
          "text": [
            "/usr/local/lib/python3.7/dist-packages/ipykernel_launcher.py:7: DataConversionWarning:\n",
            "\n",
            "A column-vector y was passed when a 1d array was expected. Please change the shape of y to (n_samples,), for example using ravel().\n",
            "\n",
            "/usr/local/lib/python3.7/dist-packages/ipykernel_launcher.py:10: SettingWithCopyWarning:\n",
            "\n",
            "\n",
            "A value is trying to be set on a copy of a slice from a DataFrame.\n",
            "Try using .loc[row_indexer,col_indexer] = value instead\n",
            "\n",
            "See the caveats in the documentation: https://pandas.pydata.org/pandas-docs/stable/user_guide/indexing.html#returning-a-view-versus-a-copy\n",
            "\n"
          ],
          "name": "stderr"
        }
      ]
    },
    {
      "cell_type": "code",
      "metadata": {
        "colab": {
          "base_uri": "https://localhost:8080/",
          "height": 223
        },
        "id": "vqJKU9hfI3Yn",
        "outputId": "b9946e35-f803-4d2d-9664-621eb2d6e741"
      },
      "source": [
        "X_train_sj.tail()"
      ],
      "execution_count": 36,
      "outputs": [
        {
          "output_type": "execute_result",
          "data": {
            "text/html": [
              "<div>\n",
              "<style scoped>\n",
              "    .dataframe tbody tr th:only-of-type {\n",
              "        vertical-align: middle;\n",
              "    }\n",
              "\n",
              "    .dataframe tbody tr th {\n",
              "        vertical-align: top;\n",
              "    }\n",
              "\n",
              "    .dataframe thead th {\n",
              "        text-align: right;\n",
              "    }\n",
              "</style>\n",
              "<table border=\"1\" class=\"dataframe\">\n",
              "  <thead>\n",
              "    <tr style=\"text-align: right;\">\n",
              "      <th></th>\n",
              "      <th>city</th>\n",
              "      <th>year</th>\n",
              "      <th>weekofyear</th>\n",
              "      <th>week_start_date</th>\n",
              "      <th>ndvi_ne</th>\n",
              "      <th>ndvi_nw</th>\n",
              "      <th>ndvi_se</th>\n",
              "      <th>ndvi_sw</th>\n",
              "      <th>precipitation_amt_mm</th>\n",
              "      <th>reanalysis_air_temp_k</th>\n",
              "      <th>reanalysis_avg_temp_k</th>\n",
              "      <th>reanalysis_dew_point_temp_k</th>\n",
              "      <th>reanalysis_max_air_temp_k</th>\n",
              "      <th>reanalysis_min_air_temp_k</th>\n",
              "      <th>reanalysis_precip_amt_kg_per_m2</th>\n",
              "      <th>reanalysis_relative_humidity_percent</th>\n",
              "      <th>reanalysis_sat_precip_amt_mm</th>\n",
              "      <th>reanalysis_specific_humidity_g_per_kg</th>\n",
              "      <th>reanalysis_tdtr_k</th>\n",
              "      <th>station_avg_temp_c</th>\n",
              "      <th>station_diur_temp_rng_c</th>\n",
              "      <th>station_max_temp_c</th>\n",
              "      <th>station_min_temp_c</th>\n",
              "      <th>station_precip_mm</th>\n",
              "      <th>total_cases</th>\n",
              "      <th>pred</th>\n",
              "      <th>Randomforest_total</th>\n",
              "    </tr>\n",
              "  </thead>\n",
              "  <tbody>\n",
              "    <tr>\n",
              "      <th>930</th>\n",
              "      <td>sj</td>\n",
              "      <td>2008</td>\n",
              "      <td>12</td>\n",
              "      <td>2008-03-18</td>\n",
              "      <td>0.04490</td>\n",
              "      <td>0.024450</td>\n",
              "      <td>0.101629</td>\n",
              "      <td>0.088000</td>\n",
              "      <td>0.00</td>\n",
              "      <td>297.404286</td>\n",
              "      <td>297.435714</td>\n",
              "      <td>292.205714</td>\n",
              "      <td>299.8</td>\n",
              "      <td>294.9</td>\n",
              "      <td>0.90</td>\n",
              "      <td>72.915714</td>\n",
              "      <td>0.00</td>\n",
              "      <td>13.737143</td>\n",
              "      <td>3.871429</td>\n",
              "      <td>25.200000</td>\n",
              "      <td>7.042857</td>\n",
              "      <td>30.0</td>\n",
              "      <td>20.6</td>\n",
              "      <td>0.5</td>\n",
              "      <td>3</td>\n",
              "      <td>5.131235</td>\n",
              "      <td>6.500000</td>\n",
              "    </tr>\n",
              "    <tr>\n",
              "      <th>931</th>\n",
              "      <td>sj</td>\n",
              "      <td>2008</td>\n",
              "      <td>13</td>\n",
              "      <td>2008-03-25</td>\n",
              "      <td>0.07785</td>\n",
              "      <td>-0.039900</td>\n",
              "      <td>0.310471</td>\n",
              "      <td>0.296243</td>\n",
              "      <td>27.19</td>\n",
              "      <td>296.958571</td>\n",
              "      <td>296.957143</td>\n",
              "      <td>292.095714</td>\n",
              "      <td>299.7</td>\n",
              "      <td>294.4</td>\n",
              "      <td>7.55</td>\n",
              "      <td>74.247143</td>\n",
              "      <td>27.19</td>\n",
              "      <td>13.644286</td>\n",
              "      <td>2.885714</td>\n",
              "      <td>25.042857</td>\n",
              "      <td>5.785714</td>\n",
              "      <td>30.0</td>\n",
              "      <td>21.1</td>\n",
              "      <td>1.8</td>\n",
              "      <td>4</td>\n",
              "      <td>6.121775</td>\n",
              "      <td>6.365584</td>\n",
              "    </tr>\n",
              "    <tr>\n",
              "      <th>932</th>\n",
              "      <td>sj</td>\n",
              "      <td>2008</td>\n",
              "      <td>14</td>\n",
              "      <td>2008-04-01</td>\n",
              "      <td>-0.03800</td>\n",
              "      <td>-0.016833</td>\n",
              "      <td>0.119371</td>\n",
              "      <td>0.066386</td>\n",
              "      <td>3.82</td>\n",
              "      <td>298.081429</td>\n",
              "      <td>298.228571</td>\n",
              "      <td>293.235714</td>\n",
              "      <td>299.8</td>\n",
              "      <td>296.5</td>\n",
              "      <td>3.67</td>\n",
              "      <td>74.600000</td>\n",
              "      <td>3.82</td>\n",
              "      <td>14.662857</td>\n",
              "      <td>2.714286</td>\n",
              "      <td>26.242857</td>\n",
              "      <td>6.814286</td>\n",
              "      <td>30.6</td>\n",
              "      <td>22.2</td>\n",
              "      <td>0.5</td>\n",
              "      <td>3</td>\n",
              "      <td>3.919937</td>\n",
              "      <td>5.868831</td>\n",
              "    </tr>\n",
              "    <tr>\n",
              "      <th>933</th>\n",
              "      <td>sj</td>\n",
              "      <td>2008</td>\n",
              "      <td>15</td>\n",
              "      <td>2008-04-08</td>\n",
              "      <td>-0.15520</td>\n",
              "      <td>-0.052750</td>\n",
              "      <td>0.137757</td>\n",
              "      <td>0.141214</td>\n",
              "      <td>16.96</td>\n",
              "      <td>297.460000</td>\n",
              "      <td>297.564286</td>\n",
              "      <td>292.732857</td>\n",
              "      <td>299.4</td>\n",
              "      <td>295.8</td>\n",
              "      <td>35.00</td>\n",
              "      <td>75.027143</td>\n",
              "      <td>16.96</td>\n",
              "      <td>14.184286</td>\n",
              "      <td>2.185714</td>\n",
              "      <td>25.000000</td>\n",
              "      <td>5.714286</td>\n",
              "      <td>29.4</td>\n",
              "      <td>21.7</td>\n",
              "      <td>30.7</td>\n",
              "      <td>1</td>\n",
              "      <td>7.849755</td>\n",
              "      <td>4.001299</td>\n",
              "    </tr>\n",
              "    <tr>\n",
              "      <th>935</th>\n",
              "      <td>sj</td>\n",
              "      <td>2008</td>\n",
              "      <td>17</td>\n",
              "      <td>2008-04-22</td>\n",
              "      <td>-0.03700</td>\n",
              "      <td>-0.010367</td>\n",
              "      <td>0.077314</td>\n",
              "      <td>0.090586</td>\n",
              "      <td>0.00</td>\n",
              "      <td>298.672857</td>\n",
              "      <td>298.692857</td>\n",
              "      <td>294.280000</td>\n",
              "      <td>300.9</td>\n",
              "      <td>295.9</td>\n",
              "      <td>2.17</td>\n",
              "      <td>76.960000</td>\n",
              "      <td>0.00</td>\n",
              "      <td>15.671429</td>\n",
              "      <td>3.957143</td>\n",
              "      <td>27.042857</td>\n",
              "      <td>7.514286</td>\n",
              "      <td>31.7</td>\n",
              "      <td>23.3</td>\n",
              "      <td>0.3</td>\n",
              "      <td>5</td>\n",
              "      <td>10.108192</td>\n",
              "      <td>7.233117</td>\n",
              "    </tr>\n",
              "  </tbody>\n",
              "</table>\n",
              "</div>"
            ],
            "text/plain": [
              "    city  year  weekofyear  ... total_cases       pred  Randomforest_total\n",
              "930   sj  2008          12  ...           3   5.131235            6.500000\n",
              "931   sj  2008          13  ...           4   6.121775            6.365584\n",
              "932   sj  2008          14  ...           3   3.919937            5.868831\n",
              "933   sj  2008          15  ...           1   7.849755            4.001299\n",
              "935   sj  2008          17  ...           5  10.108192            7.233117\n",
              "\n",
              "[5 rows x 27 columns]"
            ]
          },
          "metadata": {
            "tags": []
          },
          "execution_count": 36
        }
      ]
    },
    {
      "cell_type": "code",
      "metadata": {
        "colab": {
          "base_uri": "https://localhost:8080/"
        },
        "id": "JVMFU9JuFTxu",
        "outputId": "c46d33f6-7d00-4435-a3c3-2893bc30525d"
      },
      "source": [
        "\n",
        "\n",
        "from sklearn.ensemble import GradientBoostingRegressor\n",
        "\n",
        "total_regressor=GradientBoostingRegressor(n_estimators=2000,verbose=1)\n",
        "\n",
        "yy=X_train_sj[['total_cases']]\n",
        "total_regressor.fit(X_train_sj[prediktorok],yy)\n",
        "y_pred=total_regressor.predict(X_train_sj[prediktorok])\n",
        "\n",
        "X_train_sj[\"Randomforest_total\"]=y_pred"
      ],
      "execution_count": 37,
      "outputs": [
        {
          "output_type": "stream",
          "text": [
            "/usr/local/lib/python3.7/dist-packages/sklearn/ensemble/_gb.py:1454: DataConversionWarning:\n",
            "\n",
            "A column-vector y was passed when a 1d array was expected. Please change the shape of y to (n_samples, ), for example using ravel().\n",
            "\n"
          ],
          "name": "stderr"
        },
        {
          "output_type": "stream",
          "text": [
            "      Iter       Train Loss   Remaining Time \n",
            "         1        1220.8759            7.28s\n",
            "         2        1153.4973            7.50s\n",
            "         3        1097.6964            7.61s\n",
            "         4        1050.3597            7.55s\n",
            "         5        1015.6105            7.56s\n",
            "         6         974.4072            7.53s\n",
            "         7         945.8004            7.49s\n",
            "         8         920.2258            7.54s\n",
            "         9         891.2642            7.55s\n",
            "        10         862.5312            7.56s\n",
            "        20         674.1205            7.17s\n",
            "        30         571.5918            7.46s\n",
            "        40         503.9765            7.56s\n",
            "        50         449.8532            7.37s\n",
            "        60         405.2322            7.32s\n",
            "        70         365.4816            7.21s\n",
            "        80         333.5867            7.11s\n",
            "        90         306.4352            7.01s\n",
            "       100         283.5622            6.94s\n",
            "       200         136.5207            6.65s\n",
            "       300          70.4474            6.18s\n",
            "       400          38.2893            5.78s\n",
            "       500          20.2500            5.39s\n",
            "       600          11.1163            5.00s\n",
            "       700           6.6565            4.62s\n",
            "       800           4.0975            4.27s\n",
            "       900           2.4555            3.93s\n",
            "      1000           1.5313            3.57s\n",
            "      2000           0.0162            0.00s\n"
          ],
          "name": "stdout"
        },
        {
          "output_type": "stream",
          "text": [
            "/usr/local/lib/python3.7/dist-packages/ipykernel_launcher.py:11: SettingWithCopyWarning:\n",
            "\n",
            "\n",
            "A value is trying to be set on a copy of a slice from a DataFrame.\n",
            "Try using .loc[row_indexer,col_indexer] = value instead\n",
            "\n",
            "See the caveats in the documentation: https://pandas.pydata.org/pandas-docs/stable/user_guide/indexing.html#returning-a-view-versus-a-copy\n",
            "\n"
          ],
          "name": "stderr"
        }
      ]
    },
    {
      "cell_type": "code",
      "metadata": {
        "id": "vs6u8WxDIwgG"
      },
      "source": [
        ""
      ],
      "execution_count": 37,
      "outputs": []
    },
    {
      "cell_type": "code",
      "metadata": {
        "id": "-qgc1XFraobT",
        "colab": {
          "base_uri": "https://localhost:8080/",
          "height": 617
        },
        "outputId": "f91084cc-0d36-4220-9005-47095e2e2f52"
      },
      "source": [
        "grafikon(X_train_sj,\"week_start_date\",\"total_cases\",\"total_cases\",\"Randomforest_total\",\"Randomforest_total\",title=\"GradientBoostingRegressor\",)"
      ],
      "execution_count": 38,
      "outputs": [
        {
          "output_type": "display_data",
          "data": {
            "text/html": [
              "<html>\n",
              "<head><meta charset=\"utf-8\" /></head>\n",
              "<body>\n",
              "    <div>\n",
              "            <script src=\"https://cdnjs.cloudflare.com/ajax/libs/mathjax/2.7.5/MathJax.js?config=TeX-AMS-MML_SVG\"></script><script type=\"text/javascript\">if (window.MathJax) {MathJax.Hub.Config({SVG: {font: \"STIX-Web\"}});}</script>\n",
              "                <script type=\"text/javascript\">window.PlotlyConfig = {MathJaxConfig: 'local'};</script>\n",
              "        <script src=\"https://cdn.plot.ly/plotly-latest.min.js\"></script>    \n",
              "            <div id=\"c83ef97e-1ed3-451a-bd4c-f183ad8ddbc2\" class=\"plotly-graph-div\" style=\"height:600px; width:1200px;\"></div>\n",
              "            <script type=\"text/javascript\">\n",
              "                \n",
              "                    window.PLOTLYENV=window.PLOTLYENV || {};\n",
              "                    \n",
              "                if (document.getElementById(\"c83ef97e-1ed3-451a-bd4c-f183ad8ddbc2\")) {\n",
              "                    Plotly.newPlot(\n",
              "                        'c83ef97e-1ed3-451a-bd4c-f183ad8ddbc2',\n",
              "                        [{\"line\": {\"color\": \"rgba(35,128,132,0.8)\"}, \"name\": \"total_cases\", \"showlegend\": true, \"type\": \"scatter\", \"x\": [\"1990-04-30\", \"1990-05-07\", \"1990-05-14\", \"1990-05-21\", \"1990-05-28\", \"1990-06-11\", \"1990-06-18\", \"1990-06-25\", \"1990-07-09\", \"1990-07-16\", \"1990-07-23\", \"1990-08-20\", \"1990-08-27\", \"1990-09-03\", \"1990-09-10\", \"1990-09-17\", \"1990-09-24\", \"1990-10-01\", \"1990-10-08\", \"1990-10-22\", \"1990-10-29\", \"1990-11-05\", \"1990-11-12\", \"1990-11-19\", \"1990-11-26\", \"1990-12-03\", \"1990-12-10\", \"1990-12-17\", \"1990-12-24\", \"1991-01-01\", \"1991-01-22\", \"1991-01-29\", \"1991-02-05\", \"1991-02-12\", \"1991-02-26\", \"1991-03-05\", \"1991-03-19\", \"1991-03-26\", \"1991-04-02\", \"1991-04-09\", \"1991-04-16\", \"1991-04-30\", \"1991-05-07\", \"1991-05-21\", \"1991-05-28\", \"1991-06-04\", \"1991-06-11\", \"1991-06-18\", \"1991-06-25\", \"1991-07-23\", \"1991-08-06\", \"1991-08-20\", \"1991-08-27\", \"1991-09-03\", \"1991-09-10\", \"1991-09-17\", \"1991-09-24\", \"1991-10-01\", \"1991-10-08\", \"1991-10-15\", \"1991-10-22\", \"1991-10-29\", \"1991-11-05\", \"1991-11-12\", \"1991-11-19\", \"1991-11-26\", \"1991-12-03\", \"1991-12-10\", \"1991-12-24\", \"1992-01-08\", \"1992-01-15\", \"1992-01-22\", \"1992-02-05\", \"1992-03-11\", \"1992-03-18\", \"1992-04-01\", \"1992-04-08\", \"1992-04-15\", \"1992-04-22\", \"1992-04-29\", \"1992-05-06\", \"1992-05-13\", \"1992-05-20\", \"1992-06-03\", \"1992-06-10\", \"1992-06-17\", \"1992-06-24\", \"1992-07-01\", \"1992-07-15\", \"1992-07-22\", \"1992-07-29\", \"1992-08-05\", \"1992-08-12\", \"1992-08-19\", \"1992-08-26\", \"1992-09-09\", \"1992-09-16\", \"1992-09-23\", \"1992-09-30\", \"1992-10-07\", \"1992-10-14\", \"1992-10-21\", \"1992-10-28\", \"1992-11-04\", \"1992-11-11\", \"1992-11-18\", \"1992-11-25\", \"1992-12-02\", \"1992-12-09\", \"1992-12-23\", \"1993-01-08\", \"1993-01-15\", \"1993-01-29\", \"1993-02-05\", \"1993-02-12\", \"1993-02-19\", \"1993-03-05\", \"1993-03-12\", \"1993-03-19\", \"1993-03-26\", \"1993-04-02\", \"1993-04-16\", \"1993-04-23\", \"1993-05-07\", \"1993-05-14\", \"1993-05-21\", \"1993-05-28\", \"1993-06-04\", \"1993-06-25\", \"1993-07-02\", \"1993-07-09\", \"1993-07-16\", \"1993-07-23\", \"1993-07-30\", \"1993-08-13\", \"1993-08-20\", \"1993-08-27\", \"1993-09-03\", \"1993-09-10\", \"1993-09-17\", \"1993-09-24\", \"1993-10-01\", \"1993-10-08\", \"1993-10-15\", \"1993-10-29\", \"1993-11-12\", \"1993-11-19\", \"1993-11-26\", \"1993-12-03\", \"1993-12-17\", \"1993-12-24\", \"1994-01-08\", \"1994-01-15\", \"1994-01-22\", \"1994-01-29\", \"1994-02-05\", \"1994-02-12\", \"1994-02-19\", \"1994-03-12\", \"1994-03-19\", \"1994-03-26\", \"1994-04-02\", \"1994-04-09\", \"1994-04-16\", \"1994-04-30\", \"1994-05-07\", \"1994-05-14\", \"1994-05-21\", \"1994-05-28\", \"1994-06-04\", \"1994-06-11\", \"1994-06-25\", \"1994-07-02\", \"1994-07-09\", \"1994-07-16\", \"1994-07-23\", \"1994-07-30\", \"1994-08-13\", \"1994-08-20\", \"1994-08-27\", \"1994-09-03\", \"1994-09-10\", \"1995-01-01\", \"1995-01-08\", \"1995-01-22\", \"1995-01-29\", \"1995-02-12\", \"1995-02-26\", \"1995-03-05\", \"1995-03-12\", \"1995-03-19\", \"1995-03-26\", \"1995-04-02\", \"1995-04-23\", \"1995-04-30\", \"1995-05-14\", \"1995-05-21\", \"1995-05-28\", \"1995-06-11\", \"1995-06-18\", \"1995-06-25\", \"1995-07-02\", \"1995-07-09\", \"1995-07-23\", \"1995-08-06\", \"1995-08-13\", \"1995-08-20\", \"1995-08-27\", \"1995-09-03\", \"1995-09-10\", \"1995-09-17\", \"1995-09-24\", \"1995-10-01\", \"1995-10-08\", \"1995-10-15\", \"1995-10-22\", \"1995-11-05\", \"1995-11-12\", \"1995-11-19\", \"1995-11-26\", \"1995-12-10\", \"1995-12-17\", \"1996-01-01\", \"1996-01-08\", \"1996-01-15\", \"1996-01-22\", \"1996-01-29\", \"1996-02-05\", \"1996-02-12\", \"1996-02-26\", \"1996-03-11\", \"1996-03-18\", \"1996-04-01\", \"1996-04-08\", \"1996-04-15\", \"1996-04-29\", \"1996-05-06\", \"1996-05-20\", \"1996-05-27\", \"1996-06-03\", \"1996-06-10\", \"1996-06-17\", \"1996-06-24\", \"1996-07-08\", \"1996-07-15\", \"1996-07-22\", \"1996-07-29\", \"1996-08-12\", \"1996-08-26\", \"1996-09-02\", \"1996-09-09\", \"1996-09-23\", \"1996-09-30\", \"1996-10-07\", \"1996-10-21\", \"1996-10-28\", \"1996-11-04\", \"1996-11-11\", \"1996-12-02\", \"1996-12-23\", \"1997-01-01\", \"1997-01-15\", \"1997-01-22\", \"1997-01-29\", \"1997-02-05\", \"1997-02-12\", \"1997-02-19\", \"1997-03-19\", \"1997-03-26\", \"1997-04-09\", \"1997-04-16\", \"1997-04-23\", \"1997-04-30\", \"1997-05-07\", \"1997-05-14\", \"1997-05-21\", \"1997-05-28\", \"1997-06-04\", \"1997-06-11\", \"1997-06-18\", \"1997-06-25\", \"1997-07-02\", \"1997-07-09\", \"1997-07-16\", \"1997-07-30\", \"1997-08-06\", \"1997-08-13\", \"1997-08-27\", \"1997-09-03\", \"1997-09-10\", \"1997-09-17\", \"1997-09-24\", \"1997-10-01\", \"1997-10-08\", \"1997-10-15\", \"1997-11-12\", \"1997-11-26\", \"1997-12-03\", \"1997-12-24\", \"1998-01-08\", \"1998-01-15\", \"1998-01-22\", \"1998-01-29\", \"1998-02-05\", \"1998-02-12\", \"1998-02-26\", \"1998-03-05\", \"1998-03-19\", \"1998-04-02\", \"1998-04-09\", \"1998-04-16\", \"1998-04-23\", \"1998-04-30\", \"1998-05-21\", \"1998-05-28\", \"1998-06-04\", \"1998-06-11\", \"1998-06-18\", \"1998-06-25\", \"1998-07-02\", \"1998-07-09\", \"1998-07-16\", \"1998-07-23\", \"1998-07-30\", \"1998-08-06\", \"1998-08-13\", \"1998-08-20\", \"1998-08-27\", \"1998-09-03\", \"1998-09-10\", \"1998-09-24\", \"1998-10-01\", \"1998-10-22\", \"1998-10-29\", \"1998-11-12\", \"1998-11-26\", \"1998-12-03\", \"1998-12-10\", \"1998-12-17\", \"1998-12-24\", \"1999-01-15\", \"1999-01-22\", \"1999-01-29\", \"1999-02-19\", \"1999-02-26\", \"1999-03-05\", \"1999-03-12\", \"1999-03-19\", \"1999-03-26\", \"1999-04-02\", \"1999-04-16\", \"1999-04-23\", \"1999-04-30\", \"1999-05-07\", \"1999-06-04\", \"1999-06-11\", \"1999-07-09\", \"1999-07-16\", \"1999-07-23\", \"1999-07-30\", \"1999-08-06\", \"1999-08-20\", \"1999-08-27\", \"1999-09-10\", \"1999-09-17\", \"1999-09-24\", \"1999-10-01\", \"1999-10-08\", \"1999-10-15\", \"1999-11-05\", \"1999-11-12\", \"1999-11-19\", \"1999-11-26\", \"1999-12-03\", \"1999-12-17\", \"1999-12-24\", \"2000-01-01\", \"2000-01-08\", \"2000-01-15\", \"2000-01-22\", \"2000-01-29\", \"2000-02-05\", \"2000-02-19\", \"2000-03-04\", \"2000-03-11\", \"2000-03-18\", \"2000-03-25\", \"2000-04-08\", \"2000-04-15\", \"2000-04-22\", \"2000-04-29\", \"2000-05-06\", \"2000-05-20\", \"2000-05-27\", \"2000-06-03\", \"2000-06-10\", \"2000-06-17\", \"2000-06-24\", \"2000-07-01\", \"2000-07-08\", \"2000-07-15\", \"2000-07-22\", \"2000-07-29\", \"2000-08-05\", \"2000-08-12\", \"2000-08-19\", \"2000-08-26\", \"2000-09-09\", \"2000-09-16\", \"2000-09-23\", \"2000-10-07\", \"2000-10-14\", \"2000-10-21\", \"2000-10-28\", \"2000-11-04\", \"2000-11-11\", \"2000-11-18\", \"2000-12-02\", \"2000-12-09\", \"2000-12-16\", \"2000-12-23\", \"2001-01-01\", \"2001-01-08\", \"2001-01-22\", \"2001-01-29\", \"2001-02-12\", \"2001-02-19\", \"2001-02-26\", \"2001-03-05\", \"2001-03-12\", \"2001-03-19\", \"2001-04-02\", \"2001-04-16\", \"2001-05-07\", \"2001-05-14\", \"2001-05-21\", \"2001-05-28\", \"2001-06-04\", \"2001-06-18\", \"2001-06-25\", \"2001-07-02\", \"2001-07-09\", \"2001-07-16\", \"2001-07-23\", \"2001-07-30\", \"2001-08-06\", \"2001-08-13\", \"2001-08-20\", \"2001-09-03\", \"2001-09-10\", \"2001-09-17\", \"2001-09-24\", \"2001-10-01\", \"2001-10-08\", \"2001-10-22\", \"2001-10-29\", \"2001-11-05\", \"2001-11-12\", \"2001-11-19\", \"2001-11-26\", \"2001-12-03\", \"2001-12-10\", \"2001-12-17\", \"2001-12-24\", \"2002-01-01\", \"2002-01-08\", \"2002-01-15\", \"2002-01-22\", \"2002-02-05\", \"2002-02-12\", \"2002-02-19\", \"2002-02-26\", \"2002-03-05\", \"2002-03-12\", \"2002-03-19\", \"2002-03-26\", \"2002-04-02\", \"2002-04-09\", \"2002-04-23\", \"2002-04-30\", \"2002-05-07\", \"2002-05-14\", \"2002-05-21\", \"2002-05-28\", \"2002-06-04\", \"2002-07-02\", \"2002-07-09\", \"2002-07-23\", \"2002-07-30\", \"2002-08-06\", \"2002-08-13\", \"2002-08-20\", \"2002-08-27\", \"2002-09-03\", \"2002-09-10\", \"2002-09-24\", \"2002-10-01\", \"2002-10-08\", \"2002-10-22\", \"2002-10-29\", \"2002-11-05\", \"2002-11-12\", \"2002-11-26\", \"2002-12-03\", \"2002-12-10\", \"2002-12-17\", \"2002-12-24\", \"2003-01-01\", \"2003-01-08\", \"2003-01-15\", \"2003-01-22\", \"2003-01-29\", \"2003-02-05\", \"2003-02-19\", \"2003-02-26\", \"2003-03-05\", \"2003-03-12\", \"2003-03-19\", \"2003-03-26\", \"2003-04-02\", \"2003-04-09\", \"2003-04-23\", \"2003-04-30\", \"2003-05-07\", \"2003-05-14\", \"2003-05-28\", \"2003-06-11\", \"2003-06-18\", \"2003-06-25\", \"2003-07-02\", \"2003-07-16\", \"2003-07-23\", \"2003-07-30\", \"2003-08-06\", \"2003-08-13\", \"2003-08-20\", \"2003-09-10\", \"2003-09-17\", \"2003-09-24\", \"2003-10-08\", \"2003-10-15\", \"2003-10-22\", \"2003-10-29\", \"2003-11-12\", \"2003-11-19\", \"2003-11-26\", \"2003-12-03\", \"2003-12-10\", \"2003-12-17\", \"2003-12-24\", \"2004-01-08\", \"2004-01-22\", \"2004-01-29\", \"2004-02-12\", \"2004-02-19\", \"2004-02-26\", \"2004-03-04\", \"2004-03-11\", \"2004-03-25\", \"2004-04-08\", \"2004-04-15\", \"2004-05-13\", \"2004-05-20\", \"2004-05-27\", \"2004-06-03\", \"2004-06-10\", \"2004-06-17\", \"2004-06-24\", \"2004-07-08\", \"2004-07-15\", \"2004-07-22\", \"2004-07-29\", \"2004-08-05\", \"2004-08-12\", \"2004-08-19\", \"2004-08-26\", \"2004-09-02\", \"2004-09-09\", \"2004-09-30\", \"2004-10-07\", \"2004-10-21\", \"2004-10-28\", \"2004-11-04\", \"2004-11-11\", \"2004-11-18\", \"2004-11-25\", \"2004-12-02\", \"2004-12-09\", \"2004-12-16\", \"2004-12-23\", \"2005-01-08\", \"2005-01-15\", \"2005-01-22\", \"2005-01-29\", \"2005-02-05\", \"2005-02-12\", \"2005-02-26\", \"2005-03-05\", \"2005-03-19\", \"2005-03-26\", \"2005-04-09\", \"2005-04-16\", \"2005-04-23\", \"2005-05-07\", \"2005-05-14\", \"2005-05-28\", \"2005-06-04\", \"2005-06-11\", \"2005-06-18\", \"2005-07-02\", \"2005-07-09\", \"2005-07-16\", \"2005-07-23\", \"2005-07-30\", \"2005-08-06\", \"2005-08-20\", \"2005-08-27\", \"2005-09-10\", \"2005-09-17\", \"2005-09-24\", \"2005-10-01\", \"2005-10-08\", \"2005-10-15\", \"2005-10-22\", \"2005-10-29\", \"2005-11-05\", \"2005-11-12\", \"2005-11-19\", \"2005-12-10\", \"2005-12-17\", \"2005-12-24\", \"2006-01-01\", \"2006-01-08\", \"2006-01-15\", \"2006-01-22\", \"2006-01-29\", \"2006-02-05\", \"2006-02-12\", \"2006-02-19\", \"2006-02-26\", \"2006-03-05\", \"2006-03-12\", \"2006-03-19\", \"2006-04-09\", \"2006-04-16\", \"2006-04-23\", \"2006-04-30\", \"2006-05-07\", \"2006-05-21\", \"2006-06-04\", \"2006-06-11\", \"2006-06-18\", \"2006-06-25\", \"2006-07-02\", \"2006-07-09\", \"2006-07-16\", \"2006-07-23\", \"2006-07-30\", \"2006-08-06\", \"2006-08-13\", \"2006-08-27\", \"2006-09-03\", \"2006-09-10\", \"2006-09-17\", \"2006-09-24\", \"2006-10-01\", \"2006-10-15\", \"2006-10-22\", \"2006-10-29\", \"2006-11-12\", \"2006-11-19\", \"2006-11-26\", \"2006-12-10\", \"2006-12-17\", \"2006-12-24\", \"2007-01-01\", \"2007-01-15\", \"2007-01-22\", \"2007-02-05\", \"2007-02-12\", \"2007-02-19\", \"2007-03-05\", \"2007-03-12\", \"2007-03-19\", \"2007-03-26\", \"2007-04-02\", \"2007-04-09\", \"2007-04-16\", \"2007-04-23\", \"2007-04-30\", \"2007-05-07\", \"2007-05-14\", \"2007-05-21\", \"2007-06-04\", \"2007-06-11\", \"2007-06-18\", \"2007-06-25\", \"2007-07-02\", \"2007-07-16\", \"2007-07-23\", \"2007-07-30\", \"2007-08-06\", \"2007-08-20\", \"2007-08-27\", \"2007-09-17\", \"2007-09-24\", \"2007-10-01\", \"2007-10-08\", \"2007-10-15\", \"2007-10-29\", \"2007-11-05\", \"2007-11-12\", \"2007-11-26\", \"2007-12-10\", \"2007-12-24\", \"2008-01-01\", \"2008-01-22\", \"2008-02-05\", \"2008-02-12\", \"2008-02-19\", \"2008-03-04\", \"2008-03-11\", \"2008-03-18\", \"2008-03-25\", \"2008-04-01\", \"2008-04-08\", \"2008-04-22\"], \"xaxis\": \"x\", \"y\": [4, 5, 4, 3, 6, 4, 5, 10, 8, 2, 6, 21, 28, 24, 20, 40, 27, 42, 33, 37, 57, 71, 44, 56, 53, 52, 47, 26, 27, 21, 34, 37, 17, 19, 18, 21, 17, 16, 16, 15, 23, 17, 12, 10, 15, 19, 21, 14, 18, 23, 62, 76, 66, 64, 68, 89, 92, 140, 116, 142, 129, 140, 140, 127, 129, 169, 141, 108, 70, 104, 90, 85, 53, 40, 37, 30, 30, 28, 23, 24, 29, 26, 23, 19, 20, 26, 29, 31, 26, 32, 35, 33, 30, 52, 59, 65, 74, 70, 61, 53, 76, 61, 57, 44, 34, 47, 60, 60, 53, 31, 32, 28, 33, 35, 22, 13, 21, 17, 11, 8, 8, 6, 7, 17, 10, 10, 18, 19, 12, 21, 18, 16, 16, 22, 25, 23, 12, 25, 28, 27, 18, 23, 23, 29, 36, 46, 31, 25, 40, 38, 30, 31, 26, 35, 36, 39, 25, 31, 25, 24, 18, 23, 13, 18, 17, 22, 13, 24, 31, 34, 31, 38, 49, 42, 49, 55, 80, 72, 89, 115, 179, 202, 154, 91, 56, 46, 26, 17, 20, 11, 7, 16, 14, 2, 6, 4, 3, 4, 8, 7, 10, 14, 7, 11, 17, 19, 24, 17, 28, 40, 33, 31, 33, 29, 30, 36, 40, 28, 36, 19, 23, 17, 23, 14, 20, 13, 23, 20, 16, 23, 15, 4, 5, 11, 11, 4, 6, 2, 4, 2, 4, 6, 6, 6, 11, 16, 9, 13, 21, 19, 17, 27, 30, 29, 35, 33, 30, 29, 22, 26, 29, 33, 24, 30, 20, 17, 24, 9, 14, 11, 19, 10, 8, 8, 9, 3, 7, 14, 4, 9, 14, 7, 9, 3, 14, 12, 10, 26, 47, 42, 31, 34, 33, 52, 56, 47, 49, 66, 67, 68, 49, 50, 56, 75, 63, 41, 50, 31, 30, 32, 26, 30, 36, 48, 44, 51, 59, 71, 102, 128, 127, 150, 191, 256, 329, 263, 220, 204, 181, 99, 80, 102, 68, 64, 67, 85, 67, 73, 89, 68, 77, 75, 47, 28, 37, 37, 27, 12, 15, 22, 15, 17, 10, 9, 11, 16, 14, 13, 15, 30, 25, 44, 25, 48, 56, 60, 45, 55, 32, 42, 37, 43, 34, 40, 16, 17, 17, 16, 23, 18, 18, 9, 7, 3, 2, 8, 3, 1, 2, 3, 3, 2, 0, 2, 2, 0, 6, 3, 6, 2, 3, 2, 4, 5, 2, 9, 2, 8, 6, 3, 14, 15, 20, 9, 20, 28, 38, 30, 23, 16, 22, 28, 14, 20, 17, 13, 20, 9, 18, 9, 8, 11, 6, 13, 8, 8, 5, 16, 11, 18, 10, 22, 14, 16, 18, 27, 38, 35, 51, 65, 55, 54, 62, 64, 65, 71, 75, 71, 72, 47, 27, 35, 25, 19, 37, 38, 34, 26, 18, 22, 16, 18, 6, 12, 6, 6, 3, 7, 1, 3, 2, 2, 1, 10, 3, 2, 6, 3, 5, 4, 7, 6, 5, 7, 6, 4, 7, 9, 5, 10, 6, 13, 5, 5, 9, 3, 6, 11, 7, 7, 15, 9, 6, 6, 7, 10, 8, 7, 12, 3, 2, 5, 5, 7, 7, 7, 13, 10, 14, 11, 25, 17, 18, 25, 21, 31, 35, 28, 37, 34, 30, 39, 39, 34, 30, 37, 29, 26, 15, 22, 20, 10, 21, 14, 9, 11, 5, 6, 11, 3, 2, 5, 3, 12, 13, 10, 13, 13, 21, 18, 8, 7, 20, 14, 14, 7, 14, 10, 13, 18, 16, 20, 17, 4, 15, 8, 6, 12, 15, 11, 15, 17, 7, 7, 8, 9, 12, 5, 11, 4, 7, 1, 1, 2, 6, 4, 10, 12, 21, 21, 30, 45, 56, 75, 83, 126, 119, 131, 112, 82, 73, 43, 55, 55, 53, 46, 43, 29, 13, 17, 8, 13, 10, 17, 19, 9, 9, 9, 3, 7, 7, 0, 2, 1, 3, 3, 3, 7, 5, 5, 5, 6, 6, 4, 4, 8, 14, 12, 16, 10, 18, 15, 23, 17, 33, 15, 11, 14, 17, 20, 12, 21, 19, 10, 13, 10, 21, 11, 14, 14, 15, 16, 12, 20, 8, 3, 13, 4, 1, 10, 8, 13, 10, 18, 21, 34, 25, 34, 40, 42, 36, 72, 76, 92, 106, 101, 170, 135, 106, 48, 48, 26, 29, 12, 17, 15, 10, 2, 6, 8, 1, 2, 3, 4, 3, 1, 5], \"yaxis\": \"y\"}, {\"line\": {\"color\": \"rgba(193,99,99,0.8)\"}, \"name\": \"Randomforest_total\", \"showlegend\": true, \"type\": \"scatter\", \"x\": [\"1990-04-30\", \"1990-05-07\", \"1990-05-14\", \"1990-05-21\", \"1990-05-28\", \"1990-06-11\", \"1990-06-18\", \"1990-06-25\", \"1990-07-09\", \"1990-07-16\", \"1990-07-23\", \"1990-08-20\", \"1990-08-27\", \"1990-09-03\", \"1990-09-10\", \"1990-09-17\", \"1990-09-24\", \"1990-10-01\", \"1990-10-08\", \"1990-10-22\", \"1990-10-29\", \"1990-11-05\", \"1990-11-12\", \"1990-11-19\", \"1990-11-26\", \"1990-12-03\", \"1990-12-10\", \"1990-12-17\", \"1990-12-24\", \"1991-01-01\", \"1991-01-22\", \"1991-01-29\", \"1991-02-05\", \"1991-02-12\", \"1991-02-26\", \"1991-03-05\", \"1991-03-19\", \"1991-03-26\", \"1991-04-02\", \"1991-04-09\", \"1991-04-16\", \"1991-04-30\", \"1991-05-07\", \"1991-05-21\", \"1991-05-28\", \"1991-06-04\", \"1991-06-11\", \"1991-06-18\", \"1991-06-25\", \"1991-07-23\", \"1991-08-06\", \"1991-08-20\", \"1991-08-27\", \"1991-09-03\", \"1991-09-10\", \"1991-09-17\", \"1991-09-24\", \"1991-10-01\", \"1991-10-08\", \"1991-10-15\", \"1991-10-22\", \"1991-10-29\", \"1991-11-05\", \"1991-11-12\", \"1991-11-19\", \"1991-11-26\", \"1991-12-03\", \"1991-12-10\", \"1991-12-24\", \"1992-01-08\", \"1992-01-15\", \"1992-01-22\", \"1992-02-05\", \"1992-03-11\", \"1992-03-18\", \"1992-04-01\", \"1992-04-08\", \"1992-04-15\", \"1992-04-22\", \"1992-04-29\", \"1992-05-06\", \"1992-05-13\", \"1992-05-20\", \"1992-06-03\", \"1992-06-10\", \"1992-06-17\", \"1992-06-24\", \"1992-07-01\", \"1992-07-15\", \"1992-07-22\", \"1992-07-29\", \"1992-08-05\", \"1992-08-12\", \"1992-08-19\", \"1992-08-26\", \"1992-09-09\", \"1992-09-16\", \"1992-09-23\", \"1992-09-30\", \"1992-10-07\", \"1992-10-14\", \"1992-10-21\", \"1992-10-28\", \"1992-11-04\", \"1992-11-11\", \"1992-11-18\", \"1992-11-25\", \"1992-12-02\", \"1992-12-09\", \"1992-12-23\", \"1993-01-08\", \"1993-01-15\", \"1993-01-29\", \"1993-02-05\", \"1993-02-12\", \"1993-02-19\", \"1993-03-05\", \"1993-03-12\", \"1993-03-19\", \"1993-03-26\", \"1993-04-02\", \"1993-04-16\", \"1993-04-23\", \"1993-05-07\", \"1993-05-14\", \"1993-05-21\", \"1993-05-28\", \"1993-06-04\", \"1993-06-25\", \"1993-07-02\", \"1993-07-09\", \"1993-07-16\", \"1993-07-23\", \"1993-07-30\", \"1993-08-13\", \"1993-08-20\", \"1993-08-27\", \"1993-09-03\", \"1993-09-10\", \"1993-09-17\", \"1993-09-24\", \"1993-10-01\", \"1993-10-08\", \"1993-10-15\", \"1993-10-29\", \"1993-11-12\", \"1993-11-19\", \"1993-11-26\", \"1993-12-03\", \"1993-12-17\", \"1993-12-24\", \"1994-01-08\", \"1994-01-15\", \"1994-01-22\", \"1994-01-29\", \"1994-02-05\", \"1994-02-12\", \"1994-02-19\", \"1994-03-12\", \"1994-03-19\", \"1994-03-26\", \"1994-04-02\", \"1994-04-09\", \"1994-04-16\", \"1994-04-30\", \"1994-05-07\", \"1994-05-14\", \"1994-05-21\", \"1994-05-28\", \"1994-06-04\", \"1994-06-11\", \"1994-06-25\", \"1994-07-02\", \"1994-07-09\", \"1994-07-16\", \"1994-07-23\", \"1994-07-30\", \"1994-08-13\", \"1994-08-20\", \"1994-08-27\", \"1994-09-03\", \"1994-09-10\", \"1995-01-01\", \"1995-01-08\", \"1995-01-22\", \"1995-01-29\", \"1995-02-12\", \"1995-02-26\", \"1995-03-05\", \"1995-03-12\", \"1995-03-19\", \"1995-03-26\", \"1995-04-02\", \"1995-04-23\", \"1995-04-30\", \"1995-05-14\", \"1995-05-21\", \"1995-05-28\", \"1995-06-11\", \"1995-06-18\", \"1995-06-25\", \"1995-07-02\", \"1995-07-09\", \"1995-07-23\", \"1995-08-06\", \"1995-08-13\", \"1995-08-20\", \"1995-08-27\", \"1995-09-03\", \"1995-09-10\", \"1995-09-17\", \"1995-09-24\", \"1995-10-01\", \"1995-10-08\", \"1995-10-15\", \"1995-10-22\", \"1995-11-05\", \"1995-11-12\", \"1995-11-19\", \"1995-11-26\", \"1995-12-10\", \"1995-12-17\", \"1996-01-01\", \"1996-01-08\", \"1996-01-15\", \"1996-01-22\", \"1996-01-29\", \"1996-02-05\", \"1996-02-12\", \"1996-02-26\", \"1996-03-11\", \"1996-03-18\", \"1996-04-01\", \"1996-04-08\", \"1996-04-15\", \"1996-04-29\", \"1996-05-06\", \"1996-05-20\", \"1996-05-27\", \"1996-06-03\", \"1996-06-10\", \"1996-06-17\", \"1996-06-24\", \"1996-07-08\", \"1996-07-15\", \"1996-07-22\", \"1996-07-29\", \"1996-08-12\", \"1996-08-26\", \"1996-09-02\", \"1996-09-09\", \"1996-09-23\", \"1996-09-30\", \"1996-10-07\", \"1996-10-21\", \"1996-10-28\", \"1996-11-04\", \"1996-11-11\", \"1996-12-02\", \"1996-12-23\", \"1997-01-01\", \"1997-01-15\", \"1997-01-22\", \"1997-01-29\", \"1997-02-05\", \"1997-02-12\", \"1997-02-19\", \"1997-03-19\", \"1997-03-26\", \"1997-04-09\", \"1997-04-16\", \"1997-04-23\", \"1997-04-30\", \"1997-05-07\", \"1997-05-14\", \"1997-05-21\", \"1997-05-28\", \"1997-06-04\", \"1997-06-11\", \"1997-06-18\", \"1997-06-25\", \"1997-07-02\", \"1997-07-09\", \"1997-07-16\", \"1997-07-30\", \"1997-08-06\", \"1997-08-13\", \"1997-08-27\", \"1997-09-03\", \"1997-09-10\", \"1997-09-17\", \"1997-09-24\", \"1997-10-01\", \"1997-10-08\", \"1997-10-15\", \"1997-11-12\", \"1997-11-26\", \"1997-12-03\", \"1997-12-24\", \"1998-01-08\", \"1998-01-15\", \"1998-01-22\", \"1998-01-29\", \"1998-02-05\", \"1998-02-12\", \"1998-02-26\", \"1998-03-05\", \"1998-03-19\", \"1998-04-02\", \"1998-04-09\", \"1998-04-16\", \"1998-04-23\", \"1998-04-30\", \"1998-05-21\", \"1998-05-28\", \"1998-06-04\", \"1998-06-11\", \"1998-06-18\", \"1998-06-25\", \"1998-07-02\", \"1998-07-09\", \"1998-07-16\", \"1998-07-23\", \"1998-07-30\", \"1998-08-06\", \"1998-08-13\", \"1998-08-20\", \"1998-08-27\", \"1998-09-03\", \"1998-09-10\", \"1998-09-24\", \"1998-10-01\", \"1998-10-22\", \"1998-10-29\", \"1998-11-12\", \"1998-11-26\", \"1998-12-03\", \"1998-12-10\", \"1998-12-17\", \"1998-12-24\", \"1999-01-15\", \"1999-01-22\", \"1999-01-29\", \"1999-02-19\", \"1999-02-26\", \"1999-03-05\", \"1999-03-12\", \"1999-03-19\", \"1999-03-26\", \"1999-04-02\", \"1999-04-16\", \"1999-04-23\", \"1999-04-30\", \"1999-05-07\", \"1999-06-04\", \"1999-06-11\", \"1999-07-09\", \"1999-07-16\", \"1999-07-23\", \"1999-07-30\", \"1999-08-06\", \"1999-08-20\", \"1999-08-27\", \"1999-09-10\", \"1999-09-17\", \"1999-09-24\", \"1999-10-01\", \"1999-10-08\", \"1999-10-15\", \"1999-11-05\", \"1999-11-12\", \"1999-11-19\", \"1999-11-26\", \"1999-12-03\", \"1999-12-17\", \"1999-12-24\", \"2000-01-01\", \"2000-01-08\", \"2000-01-15\", \"2000-01-22\", \"2000-01-29\", \"2000-02-05\", \"2000-02-19\", \"2000-03-04\", \"2000-03-11\", \"2000-03-18\", \"2000-03-25\", \"2000-04-08\", \"2000-04-15\", \"2000-04-22\", \"2000-04-29\", \"2000-05-06\", \"2000-05-20\", \"2000-05-27\", \"2000-06-03\", \"2000-06-10\", \"2000-06-17\", \"2000-06-24\", \"2000-07-01\", \"2000-07-08\", \"2000-07-15\", \"2000-07-22\", \"2000-07-29\", \"2000-08-05\", \"2000-08-12\", \"2000-08-19\", \"2000-08-26\", \"2000-09-09\", \"2000-09-16\", \"2000-09-23\", \"2000-10-07\", \"2000-10-14\", \"2000-10-21\", \"2000-10-28\", \"2000-11-04\", \"2000-11-11\", \"2000-11-18\", \"2000-12-02\", \"2000-12-09\", \"2000-12-16\", \"2000-12-23\", \"2001-01-01\", \"2001-01-08\", \"2001-01-22\", \"2001-01-29\", \"2001-02-12\", \"2001-02-19\", \"2001-02-26\", \"2001-03-05\", \"2001-03-12\", \"2001-03-19\", \"2001-04-02\", \"2001-04-16\", \"2001-05-07\", \"2001-05-14\", \"2001-05-21\", \"2001-05-28\", \"2001-06-04\", \"2001-06-18\", \"2001-06-25\", \"2001-07-02\", \"2001-07-09\", \"2001-07-16\", \"2001-07-23\", \"2001-07-30\", \"2001-08-06\", \"2001-08-13\", \"2001-08-20\", \"2001-09-03\", \"2001-09-10\", \"2001-09-17\", \"2001-09-24\", \"2001-10-01\", \"2001-10-08\", \"2001-10-22\", \"2001-10-29\", \"2001-11-05\", \"2001-11-12\", \"2001-11-19\", \"2001-11-26\", \"2001-12-03\", \"2001-12-10\", \"2001-12-17\", \"2001-12-24\", \"2002-01-01\", \"2002-01-08\", \"2002-01-15\", \"2002-01-22\", \"2002-02-05\", \"2002-02-12\", \"2002-02-19\", \"2002-02-26\", \"2002-03-05\", \"2002-03-12\", \"2002-03-19\", \"2002-03-26\", \"2002-04-02\", \"2002-04-09\", \"2002-04-23\", \"2002-04-30\", \"2002-05-07\", \"2002-05-14\", \"2002-05-21\", \"2002-05-28\", \"2002-06-04\", \"2002-07-02\", \"2002-07-09\", \"2002-07-23\", \"2002-07-30\", \"2002-08-06\", \"2002-08-13\", \"2002-08-20\", \"2002-08-27\", \"2002-09-03\", \"2002-09-10\", \"2002-09-24\", \"2002-10-01\", \"2002-10-08\", \"2002-10-22\", \"2002-10-29\", \"2002-11-05\", \"2002-11-12\", \"2002-11-26\", \"2002-12-03\", \"2002-12-10\", \"2002-12-17\", \"2002-12-24\", \"2003-01-01\", \"2003-01-08\", \"2003-01-15\", \"2003-01-22\", \"2003-01-29\", \"2003-02-05\", \"2003-02-19\", \"2003-02-26\", \"2003-03-05\", \"2003-03-12\", \"2003-03-19\", \"2003-03-26\", \"2003-04-02\", \"2003-04-09\", \"2003-04-23\", \"2003-04-30\", \"2003-05-07\", \"2003-05-14\", \"2003-05-28\", \"2003-06-11\", \"2003-06-18\", \"2003-06-25\", \"2003-07-02\", \"2003-07-16\", \"2003-07-23\", \"2003-07-30\", \"2003-08-06\", \"2003-08-13\", \"2003-08-20\", \"2003-09-10\", \"2003-09-17\", \"2003-09-24\", \"2003-10-08\", \"2003-10-15\", \"2003-10-22\", \"2003-10-29\", \"2003-11-12\", \"2003-11-19\", \"2003-11-26\", \"2003-12-03\", \"2003-12-10\", \"2003-12-17\", \"2003-12-24\", \"2004-01-08\", \"2004-01-22\", \"2004-01-29\", \"2004-02-12\", \"2004-02-19\", \"2004-02-26\", \"2004-03-04\", \"2004-03-11\", \"2004-03-25\", \"2004-04-08\", \"2004-04-15\", \"2004-05-13\", \"2004-05-20\", \"2004-05-27\", \"2004-06-03\", \"2004-06-10\", \"2004-06-17\", \"2004-06-24\", \"2004-07-08\", \"2004-07-15\", \"2004-07-22\", \"2004-07-29\", \"2004-08-05\", \"2004-08-12\", \"2004-08-19\", \"2004-08-26\", \"2004-09-02\", \"2004-09-09\", \"2004-09-30\", \"2004-10-07\", \"2004-10-21\", \"2004-10-28\", \"2004-11-04\", \"2004-11-11\", \"2004-11-18\", \"2004-11-25\", \"2004-12-02\", \"2004-12-09\", \"2004-12-16\", \"2004-12-23\", \"2005-01-08\", \"2005-01-15\", \"2005-01-22\", \"2005-01-29\", \"2005-02-05\", \"2005-02-12\", \"2005-02-26\", \"2005-03-05\", \"2005-03-19\", \"2005-03-26\", \"2005-04-09\", \"2005-04-16\", \"2005-04-23\", \"2005-05-07\", \"2005-05-14\", \"2005-05-28\", \"2005-06-04\", \"2005-06-11\", \"2005-06-18\", \"2005-07-02\", \"2005-07-09\", \"2005-07-16\", \"2005-07-23\", \"2005-07-30\", \"2005-08-06\", \"2005-08-20\", \"2005-08-27\", \"2005-09-10\", \"2005-09-17\", \"2005-09-24\", \"2005-10-01\", \"2005-10-08\", \"2005-10-15\", \"2005-10-22\", \"2005-10-29\", \"2005-11-05\", \"2005-11-12\", \"2005-11-19\", \"2005-12-10\", \"2005-12-17\", \"2005-12-24\", \"2006-01-01\", \"2006-01-08\", \"2006-01-15\", \"2006-01-22\", \"2006-01-29\", \"2006-02-05\", \"2006-02-12\", \"2006-02-19\", \"2006-02-26\", \"2006-03-05\", \"2006-03-12\", \"2006-03-19\", \"2006-04-09\", \"2006-04-16\", \"2006-04-23\", \"2006-04-30\", \"2006-05-07\", \"2006-05-21\", \"2006-06-04\", \"2006-06-11\", \"2006-06-18\", \"2006-06-25\", \"2006-07-02\", \"2006-07-09\", \"2006-07-16\", \"2006-07-23\", \"2006-07-30\", \"2006-08-06\", \"2006-08-13\", \"2006-08-27\", \"2006-09-03\", \"2006-09-10\", \"2006-09-17\", \"2006-09-24\", \"2006-10-01\", \"2006-10-15\", \"2006-10-22\", \"2006-10-29\", \"2006-11-12\", \"2006-11-19\", \"2006-11-26\", \"2006-12-10\", \"2006-12-17\", \"2006-12-24\", \"2007-01-01\", \"2007-01-15\", \"2007-01-22\", \"2007-02-05\", \"2007-02-12\", \"2007-02-19\", \"2007-03-05\", \"2007-03-12\", \"2007-03-19\", \"2007-03-26\", \"2007-04-02\", \"2007-04-09\", \"2007-04-16\", \"2007-04-23\", \"2007-04-30\", \"2007-05-07\", \"2007-05-14\", \"2007-05-21\", \"2007-06-04\", \"2007-06-11\", \"2007-06-18\", \"2007-06-25\", \"2007-07-02\", \"2007-07-16\", \"2007-07-23\", \"2007-07-30\", \"2007-08-06\", \"2007-08-20\", \"2007-08-27\", \"2007-09-17\", \"2007-09-24\", \"2007-10-01\", \"2007-10-08\", \"2007-10-15\", \"2007-10-29\", \"2007-11-05\", \"2007-11-12\", \"2007-11-26\", \"2007-12-10\", \"2007-12-24\", \"2008-01-01\", \"2008-01-22\", \"2008-02-05\", \"2008-02-12\", \"2008-02-19\", \"2008-03-04\", \"2008-03-11\", \"2008-03-18\", \"2008-03-25\", \"2008-04-01\", \"2008-04-08\", \"2008-04-22\"], \"xaxis\": \"x\", \"y\": [4.03151048404831, 5.350317433108859, 4.102531378889632, 3.1828368764700543, 5.998474524754794, 3.9994795793440945, 5.02021474393117, 9.944976433389922, 8.198697333630204, 2.04064966222856, 6.060999947778533, 20.821540890473237, 27.977180666981802, 24.032392277390873, 20.010761417671226, 40.04264669575792, 26.99253516474374, 42.05364564465042, 32.94428138764249, 36.90962160783198, 56.97291684870755, 70.94238945846581, 43.93291806457495, 55.94248173630927, 53.16129453085936, 51.92661068245905, 47.00848551623592, 25.993967159069868, 27.04354894304738, 21.099681811182194, 34.07126128656076, 36.88740142725493, 16.95033831177607, 18.925659949458023, 18.089435559376856, 20.96979856027112, 16.99540369808543, 15.988604956632177, 16.08168187233207, 14.935441358283489, 22.83442144717781, 17.01047640962546, 11.813456362303764, 10.163895850981762, 15.012114272692394, 18.972869930710363, 21.255410648415936, 13.998400492766766, 18.203754396638676, 23.001981385961336, 61.65215408685474, 75.95102474700134, 65.77251973167233, 63.60732847504386, 67.91684692794132, 88.87031267679713, 91.88696245378316, 139.75641506841478, 115.74600106572962, 141.8664201340191, 128.69147350649962, 139.82695104851558, 139.78554769824916, 126.7800492244467, 128.42868387899264, 168.88492419653744, 140.86895563524712, 107.85229067810114, 69.94887426203366, 103.97387308983939, 89.92415922088503, 84.75268487916688, 52.94576075342789, 39.71956022819767, 36.79893966321734, 29.84410696042038, 29.832590790136834, 27.790072506317024, 22.662382623903003, 23.950113925743928, 28.801131862079448, 25.861955065412666, 22.961831363884297, 18.947194488051814, 19.982538626024734, 25.898477785083887, 28.955100505436253, 30.969763113123424, 25.75261192867745, 31.8871780809415, 34.99394903559241, 32.69676207713015, 29.978450509730493, 51.96859981646877, 58.92170453058145, 65.01665200722945, 73.68295240928859, 70.04561164709193, 60.69276846909223, 53.046292998419545, 75.99068338177447, 60.87474969418657, 57.04399795146506, 44.00909061316426, 34.029225707113504, 47.05390866681964, 60.1096596990466, 59.83873694030416, 52.97132211068906, 30.945853318760697, 31.887364589451867, 28.07895157739713, 33.198097213214076, 35.19331875391292, 22.008618544492066, 13.093106276532714, 20.998117624020928, 17.00924041695862, 11.092693168487159, 8.222792160490666, 7.934924141609934, 6.0138787942531975, 7.153912466998357, 17.02504467003754, 10.103838112131616, 10.070054597373305, 18.023841335266294, 18.90997063056379, 11.971293513730327, 20.995102220874728, 18.069872061098646, 16.03762637976403, 16.157876090877195, 22.03635195323228, 25.083549435490358, 23.011921072330992, 12.151437287371275, 25.230569896924848, 28.03093412481939, 26.90668089129259, 18.315232153608502, 23.07930841528119, 23.04616291415579, 29.18762589569932, 36.11621716181837, 46.0882344641369, 31.167432060331087, 25.05693929210343, 40.01575958751969, 37.954724672679156, 29.98458704700132, 30.833673858768883, 26.214136166964973, 35.025679465708194, 36.01043606848962, 38.809366746512175, 24.99230709116283, 30.8699006227565, 24.984741703056216, 23.894234308791734, 18.017139995208904, 23.000902973851517, 13.055629877089457, 17.755726817660516, 16.901886379308937, 21.799008523058827, 13.01353660707822, 23.81770868913624, 30.824465637871267, 33.863647293632916, 30.872137880078252, 38.11825783678133, 48.755044772793646, 41.875552738180076, 48.77059285661758, 54.644166744741185, 80.02816967206432, 72.02925783248811, 88.81836497555187, 114.82556521044928, 179.0061476996816, 201.88823285709051, 153.9806489326713, 90.92710334250829, 55.9249261815309, 46.037411804248734, 25.970059658768758, 17.065094977481692, 20.00637536830829, 11.094119635200752, 7.175530695864936, 16.09145118281264, 13.963684209769813, 2.098006110689422, 6.000602088589667, 3.9048806258563173, 2.9486603803115266, 3.920356450114836, 7.988205046504302, 7.125105949953843, 10.02112973337622, 14.001736312489015, 6.931596270405691, 10.979115961773207, 17.13924121379424, 18.942104764556458, 23.984024365628617, 17.099756355418933, 28.093458424307574, 40.002771058044594, 33.061621713376944, 31.027477835958404, 33.07714468750478, 29.044780879833763, 30.081247477154385, 36.24232959163137, 39.94144472307453, 28.119877953286316, 36.04114159905598, 19.210954954197007, 22.939523588395577, 17.213168258879133, 22.94939979790391, 14.321974464237803, 20.206565819478886, 13.098011435564471, 23.058937936750606, 20.399285491068802, 15.918289018122096, 22.88421263896907, 14.738028266078647, 4.109389488200952, 5.0076205753683665, 10.918791842385234, 11.238785883719087, 3.964314740327385, 5.863616124087631, 2.1069878845125256, 4.073490975526201, 2.1357484041520842, 3.9371227890569567, 6.204779066389681, 6.271609115163826, 6.043725233301968, 10.92972221279826, 16.2364599752764, 9.096204998813008, 13.16137283831081, 21.147623236196456, 19.139783780661933, 17.17435003389192, 27.095443716785084, 29.97163610201775, 28.747299131110683, 35.08023338984558, 33.122071666166896, 30.160028188130987, 29.045277695023728, 22.014748000506433, 25.880995102529646, 29.05421826908467, 33.09279338932417, 23.965061134513704, 30.000239060554772, 20.02301388341935, 16.98812197677137, 23.709171154637357, 8.892007126751066, 13.858094313707971, 11.014347430051828, 18.95907810818616, 10.11733800543879, 7.859980743776748, 7.958120824041165, 9.128634848263331, 3.002659611675139, 6.755792786798108, 13.98862152360204, 4.059298626445972, 8.998645741472854, 13.944325254503868, 7.150750939593561, 8.940948541884524, 3.153103263068453, 14.072244561687336, 12.094932164320465, 10.174946341068003, 25.812233887820742, 47.035674202725964, 42.091841564472375, 30.914092228008236, 34.2685674575734, 32.92658688470194, 51.91515342426727, 55.93275062120783, 47.06186839685414, 48.993462495794155, 65.99549055555705, 66.84395255748738, 67.75326276312829, 49.00522925572026, 49.72466807150471, 55.792982520874574, 74.91817780247352, 62.97901022079903, 40.84325583011049, 49.94048504465635, 30.838331257124715, 29.724947718304055, 31.878850139781626, 25.781632937939214, 29.80908992003621, 35.885001483798916, 47.79889528816472, 44.11478886521314, 50.63148173777315, 59.00189177739456, 70.81577121366622, 101.8944074419237, 127.94805070573031, 126.89645572322105, 149.77883256697166, 190.81275812832382, 255.99449789360585, 328.8020318081519, 263.0384293162667, 219.97291251523072, 204.0083863650872, 180.96890059937564, 98.94166414538103, 79.97092181926382, 101.92279407318709, 67.92225896056455, 63.95366563511344, 66.8068766017435, 84.803164832894, 66.86937138375686, 72.9780858413489, 88.83660888573877, 67.91333864232543, 76.91542804090247, 74.8485515162669, 46.91476060615556, 27.856348735310497, 37.01060488361953, 36.80770929039507, 26.9389487912026, 12.076672302341228, 15.0099760298242, 21.954863683340996, 14.921919462920677, 16.74922901845205, 10.300470221370094, 8.921246463913393, 10.908500913716233, 16.002383778691964, 14.010818366869138, 12.94619847817541, 15.07081518664417, 29.934223231158565, 25.00906100526002, 44.239867406102455, 25.07430533444156, 47.904719787546455, 55.90050660698846, 59.839026795354684, 45.12003568192928, 54.86937291876611, 31.973344210363514, 42.05386415838666, 37.01012449962921, 43.02198932558248, 34.083755376263454, 39.9106498664862, 15.997187349196512, 17.15526197456507, 17.019042355163535, 15.943748933738211, 22.97284967337028, 17.987930981613975, 18.030455218788823, 9.150847722615056, 7.024780071327777, 2.983257147454471, 1.9678756532287016, 7.947420476719507, 3.181047776813548, 1.1552528541590463, 1.9017094238379928, 3.0773474439753783, 3.095574725976971, 2.21038754147633, 0.11684866842225848, 1.9778630504669925, 2.2782958620717024, 0.15590649800141126, 5.896552489018537, 2.867860429880757, 6.297816612058303, 2.0450512750859353, 3.0256858303648335, 2.123862160018448, 4.038278892003683, 5.089159473446179, 1.927172019589759, 9.157023877467141, 2.0219251393045155, 7.91748752546685, 6.089759571165227, 3.1561247989084644, 14.056598561500238, 15.051767999029634, 19.954098967057618, 9.101347382472595, 20.141584513326986, 27.97487766053911, 38.03886916929697, 30.111540159047546, 22.939977176905767, 16.047017101895328, 21.995164036389117, 28.069897751381177, 14.05089911873516, 20.188381677087417, 16.712593300155355, 13.121649471411105, 19.7838334567818, 9.070962221046477, 18.07583644873885, 9.065749903574648, 8.028923512702308, 11.096932799072144, 6.074175417191315, 12.90438863624163, 8.213890546657586, 8.028589866137864, 5.112273157637291, 15.964170879238841, 10.993905007587834, 17.94400366928734, 10.42882245304467, 21.881823717675218, 14.05440806516868, 16.10775519648268, 17.98583266428827, 26.94734211449442, 37.96066486930265, 34.90905352425749, 50.939508822099185, 64.9797965041676, 54.99384228985515, 53.849384224388125, 62.080346961935184, 63.981165967197036, 65.04620886452005, 70.81148903483864, 75.02231790106828, 70.99979369570136, 71.92440223522873, 47.036586665337, 27.01188896258666, 35.079703288761124, 25.027236021071538, 19.030993283663616, 36.83215575132442, 37.86192017323913, 33.89274788362699, 26.133915287830714, 17.886039020257925, 22.000880612031526, 16.231183745051307, 17.810301672636676, 5.966882089528246, 12.263556751640857, 6.10976001113556, 5.940475857847488, 2.991543690793166, 6.902850703688022, 1.177173724440898, 3.108155215105451, 1.8777639433315778, 2.0501817775714652, 1.0848282449720046, 10.112898167433253, 3.2050518899210725, 2.05644188837522, 5.813383648195345, 3.12880499121741, 5.148187833174046, 4.054902330592111, 7.041812855759475, 6.164173140511661, 5.044222524658228, 7.060846379706831, 6.006150051654114, 4.139541053685986, 7.010430955471515, 9.091110787422638, 5.073611206222306, 9.78914365103333, 5.971626183324876, 12.970681023450688, 5.147207707572647, 4.927747921729081, 9.02443823675715, 3.085386049446572, 6.057145944411639, 11.174053510288884, 7.17472861566625, 6.985149117379973, 15.165424349036588, 9.273187548395716, 6.398098057100431, 5.9037640586717925, 6.923671530789424, 10.027640131868923, 7.973668680819049, 7.149343283955143, 11.96720771651545, 3.22591753802416, 2.233230535233729, 4.947008974149809, 5.251711144279169, 7.105155883063251, 6.791655802083759, 7.178299832296781, 13.15146385608026, 9.868245436714473, 14.033327704180028, 10.981685956723666, 25.003119282394195, 17.132266109527755, 17.852853207240642, 25.09980319689983, 20.98404044485217, 30.98228087150452, 34.915697027540745, 28.015037690695305, 37.047253590642704, 34.03733689797341, 29.974605113801744, 39.10640160693396, 38.9747317304487, 34.035376497577126, 30.015000558387744, 37.00128422802165, 29.12399408605518, 26.050947291837304, 15.115043164954004, 22.129189181578738, 19.920666514252154, 10.012980930353502, 21.00171720880523, 13.913193503046811, 8.950834828986608, 11.027034465129908, 5.050747128072243, 6.027687073668811, 11.044198511376646, 2.9929576993718032, 1.9971171000762997, 4.986475140687814, 3.1142011077606115, 12.017243926249241, 12.964960038495038, 10.123418626000603, 12.880067184367029, 13.018351899837757, 20.78227034398795, 17.94457717194347, 8.238616061501101, 6.993707415481823, 19.8584357151523, 14.107093261200546, 14.131782920088334, 6.914745914082413, 14.186699673231127, 10.229172666163045, 13.087644068530404, 18.10820223906425, 16.00242897741744, 20.209360456604756, 17.030692523674993, 4.091641919358319, 15.005209032619987, 7.9870557026253355, 6.053539143121019, 12.109887102469756, 14.932666479985476, 10.967024541842699, 14.867315314105445, 17.04464510221025, 7.015979500910912, 7.023890242491284, 7.984762699292811, 8.9612834415723, 11.97019716875473, 5.242309300292956, 11.030884767648423, 3.952114338388387, 7.210092809073133, 1.0292766181261126, 1.0114100321171506, 1.9112244540997332, 5.768706951708955, 4.0219458364360925, 10.070362749541417, 11.985130111628164, 21.19910900196644, 20.9593591558674, 30.040522428031622, 44.8526386711584, 55.92307959539973, 74.94086786753843, 82.97493933948739, 125.99170393270123, 118.99515994861903, 131.00964262779934, 112.00035245114383, 82.0383525593895, 72.90994018531163, 42.97425418279765, 54.97298476888399, 55.00610634726467, 53.09615331795652, 45.7956509744995, 42.990731853752614, 29.10920723814045, 13.183633446706231, 16.8013579572639, 8.068362093148345, 12.996857311923241, 10.082603379921261, 17.00697175220703, 18.937603641697603, 8.983229295914654, 9.065845983641099, 9.055239314617431, 3.1301424201812735, 6.969420904157649, 7.028987158471946, 0.19106873775931413, 2.0805560663369533, 1.0099429255196646, 3.2918730188655156, 3.2063168345715147, 2.8565341947173506, 6.882199435372794, 5.015262433383076, 5.158056887627557, 5.104826002945838, 5.953273652604875, 5.802996852519605, 4.054003035465658, 4.310640497242882, 7.962176163214118, 13.948595180265864, 11.97016737796881, 16.071696290799846, 9.915017697862472, 18.330423202828182, 15.078895447687978, 23.141713113004037, 16.983677051729924, 32.86723694685443, 15.075356894391497, 11.071003952314694, 14.054867454227177, 17.062158479478054, 20.031525522187238, 12.035824508888748, 21.046316883016264, 19.151188339072803, 10.132100711038778, 13.096096487501423, 10.022468222611963, 20.8978702315933, 11.023835071528875, 13.964041170807501, 14.075840317704225, 15.018735193666936, 15.896322571093021, 11.821980740300026, 19.81617909884639, 8.096497507903873, 3.1064327517646384, 12.863225144022671, 4.195168586603577, 1.0210456199341467, 9.849420679121675, 8.068667558800609, 13.032655711804404, 9.927540201264568, 17.97259176353456, 21.01295987292845, 33.940420330948704, 25.031537151674943, 33.74051984459529, 40.24532469331623, 42.006853660832, 36.031548427974855, 71.92747562893653, 75.8789639684661, 91.8778496800037, 105.852682434775, 100.8745420078653, 169.91231915887187, 134.86058803343403, 106.03414825109532, 47.988929314516184, 47.85016460433466, 26.143925515021824, 28.89999866955937, 11.974694039588073, 17.070418488588896, 14.996322561708764, 9.982953300527978, 2.0162265956130354, 6.2228727575990135, 8.047596364776316, 0.7692180108377881, 1.9677996242042939, 3.006822845856634, 3.970914132621135, 3.1137762045279915, 1.0563499726924164, 5.0048604372954255], \"yaxis\": \"y\"}],\n",
              "                        {\"autosize\": false, \"height\": 600, \"template\": {\"data\": {\"bar\": [{\"error_x\": {\"color\": \"#2a3f5f\"}, \"error_y\": {\"color\": \"#2a3f5f\"}, \"marker\": {\"line\": {\"color\": \"#E5ECF6\", \"width\": 0.5}}, \"type\": \"bar\"}], \"barpolar\": [{\"marker\": {\"line\": {\"color\": \"#E5ECF6\", \"width\": 0.5}}, \"type\": \"barpolar\"}], \"carpet\": [{\"aaxis\": {\"endlinecolor\": \"#2a3f5f\", \"gridcolor\": \"white\", \"linecolor\": \"white\", \"minorgridcolor\": \"white\", \"startlinecolor\": \"#2a3f5f\"}, \"baxis\": {\"endlinecolor\": \"#2a3f5f\", \"gridcolor\": \"white\", \"linecolor\": \"white\", \"minorgridcolor\": \"white\", \"startlinecolor\": \"#2a3f5f\"}, \"type\": \"carpet\"}], \"choropleth\": [{\"colorbar\": {\"outlinewidth\": 0, \"ticks\": \"\"}, \"type\": \"choropleth\"}], \"contour\": [{\"colorbar\": {\"outlinewidth\": 0, \"ticks\": \"\"}, \"colorscale\": [[0.0, \"#0d0887\"], [0.1111111111111111, \"#46039f\"], [0.2222222222222222, \"#7201a8\"], [0.3333333333333333, \"#9c179e\"], [0.4444444444444444, \"#bd3786\"], [0.5555555555555556, \"#d8576b\"], [0.6666666666666666, \"#ed7953\"], [0.7777777777777778, \"#fb9f3a\"], [0.8888888888888888, \"#fdca26\"], [1.0, \"#f0f921\"]], \"type\": \"contour\"}], \"contourcarpet\": [{\"colorbar\": {\"outlinewidth\": 0, \"ticks\": \"\"}, \"type\": \"contourcarpet\"}], \"heatmap\": [{\"colorbar\": {\"outlinewidth\": 0, \"ticks\": \"\"}, \"colorscale\": [[0.0, \"#0d0887\"], [0.1111111111111111, \"#46039f\"], [0.2222222222222222, \"#7201a8\"], [0.3333333333333333, \"#9c179e\"], [0.4444444444444444, \"#bd3786\"], [0.5555555555555556, \"#d8576b\"], [0.6666666666666666, \"#ed7953\"], [0.7777777777777778, \"#fb9f3a\"], [0.8888888888888888, \"#fdca26\"], [1.0, \"#f0f921\"]], \"type\": \"heatmap\"}], \"heatmapgl\": [{\"colorbar\": {\"outlinewidth\": 0, \"ticks\": \"\"}, \"colorscale\": [[0.0, \"#0d0887\"], [0.1111111111111111, \"#46039f\"], [0.2222222222222222, \"#7201a8\"], [0.3333333333333333, \"#9c179e\"], [0.4444444444444444, \"#bd3786\"], [0.5555555555555556, \"#d8576b\"], [0.6666666666666666, \"#ed7953\"], [0.7777777777777778, \"#fb9f3a\"], [0.8888888888888888, \"#fdca26\"], [1.0, \"#f0f921\"]], \"type\": \"heatmapgl\"}], \"histogram\": [{\"marker\": {\"colorbar\": {\"outlinewidth\": 0, \"ticks\": \"\"}}, \"type\": \"histogram\"}], \"histogram2d\": [{\"colorbar\": {\"outlinewidth\": 0, \"ticks\": \"\"}, \"colorscale\": [[0.0, \"#0d0887\"], [0.1111111111111111, \"#46039f\"], [0.2222222222222222, \"#7201a8\"], [0.3333333333333333, \"#9c179e\"], [0.4444444444444444, \"#bd3786\"], [0.5555555555555556, \"#d8576b\"], [0.6666666666666666, \"#ed7953\"], [0.7777777777777778, \"#fb9f3a\"], [0.8888888888888888, \"#fdca26\"], [1.0, \"#f0f921\"]], \"type\": \"histogram2d\"}], \"histogram2dcontour\": [{\"colorbar\": {\"outlinewidth\": 0, \"ticks\": \"\"}, \"colorscale\": [[0.0, \"#0d0887\"], [0.1111111111111111, \"#46039f\"], [0.2222222222222222, \"#7201a8\"], [0.3333333333333333, \"#9c179e\"], [0.4444444444444444, \"#bd3786\"], [0.5555555555555556, \"#d8576b\"], [0.6666666666666666, \"#ed7953\"], [0.7777777777777778, \"#fb9f3a\"], [0.8888888888888888, \"#fdca26\"], [1.0, \"#f0f921\"]], \"type\": \"histogram2dcontour\"}], \"mesh3d\": [{\"colorbar\": {\"outlinewidth\": 0, \"ticks\": \"\"}, \"type\": \"mesh3d\"}], \"parcoords\": [{\"line\": {\"colorbar\": {\"outlinewidth\": 0, \"ticks\": \"\"}}, \"type\": \"parcoords\"}], \"pie\": [{\"automargin\": true, \"type\": \"pie\"}], \"scatter\": [{\"marker\": {\"colorbar\": {\"outlinewidth\": 0, \"ticks\": \"\"}}, \"type\": \"scatter\"}], \"scatter3d\": [{\"line\": {\"colorbar\": {\"outlinewidth\": 0, \"ticks\": \"\"}}, \"marker\": {\"colorbar\": {\"outlinewidth\": 0, \"ticks\": \"\"}}, \"type\": \"scatter3d\"}], \"scattercarpet\": [{\"marker\": {\"colorbar\": {\"outlinewidth\": 0, \"ticks\": \"\"}}, \"type\": \"scattercarpet\"}], \"scattergeo\": [{\"marker\": {\"colorbar\": {\"outlinewidth\": 0, \"ticks\": \"\"}}, \"type\": \"scattergeo\"}], \"scattergl\": [{\"marker\": {\"colorbar\": {\"outlinewidth\": 0, \"ticks\": \"\"}}, \"type\": \"scattergl\"}], \"scattermapbox\": [{\"marker\": {\"colorbar\": {\"outlinewidth\": 0, \"ticks\": \"\"}}, \"type\": \"scattermapbox\"}], \"scatterpolar\": [{\"marker\": {\"colorbar\": {\"outlinewidth\": 0, \"ticks\": \"\"}}, \"type\": \"scatterpolar\"}], \"scatterpolargl\": [{\"marker\": {\"colorbar\": {\"outlinewidth\": 0, \"ticks\": \"\"}}, \"type\": \"scatterpolargl\"}], \"scatterternary\": [{\"marker\": {\"colorbar\": {\"outlinewidth\": 0, \"ticks\": \"\"}}, \"type\": \"scatterternary\"}], \"surface\": [{\"colorbar\": {\"outlinewidth\": 0, \"ticks\": \"\"}, \"colorscale\": [[0.0, \"#0d0887\"], [0.1111111111111111, \"#46039f\"], [0.2222222222222222, \"#7201a8\"], [0.3333333333333333, \"#9c179e\"], [0.4444444444444444, \"#bd3786\"], [0.5555555555555556, \"#d8576b\"], [0.6666666666666666, \"#ed7953\"], [0.7777777777777778, \"#fb9f3a\"], [0.8888888888888888, \"#fdca26\"], [1.0, \"#f0f921\"]], \"type\": \"surface\"}], \"table\": [{\"cells\": {\"fill\": {\"color\": \"#EBF0F8\"}, \"line\": {\"color\": \"white\"}}, \"header\": {\"fill\": {\"color\": \"#C8D4E3\"}, \"line\": {\"color\": \"white\"}}, \"type\": \"table\"}]}, \"layout\": {\"annotationdefaults\": {\"arrowcolor\": \"#2a3f5f\", \"arrowhead\": 0, \"arrowwidth\": 1}, \"coloraxis\": {\"colorbar\": {\"outlinewidth\": 0, \"ticks\": \"\"}}, \"colorscale\": {\"diverging\": [[0, \"#8e0152\"], [0.1, \"#c51b7d\"], [0.2, \"#de77ae\"], [0.3, \"#f1b6da\"], [0.4, \"#fde0ef\"], [0.5, \"#f7f7f7\"], [0.6, \"#e6f5d0\"], [0.7, \"#b8e186\"], [0.8, \"#7fbc41\"], [0.9, \"#4d9221\"], [1, \"#276419\"]], \"sequential\": [[0.0, \"#0d0887\"], [0.1111111111111111, \"#46039f\"], [0.2222222222222222, \"#7201a8\"], [0.3333333333333333, \"#9c179e\"], [0.4444444444444444, \"#bd3786\"], [0.5555555555555556, \"#d8576b\"], [0.6666666666666666, \"#ed7953\"], [0.7777777777777778, \"#fb9f3a\"], [0.8888888888888888, \"#fdca26\"], [1.0, \"#f0f921\"]], \"sequentialminus\": [[0.0, \"#0d0887\"], [0.1111111111111111, \"#46039f\"], [0.2222222222222222, \"#7201a8\"], [0.3333333333333333, \"#9c179e\"], [0.4444444444444444, \"#bd3786\"], [0.5555555555555556, \"#d8576b\"], [0.6666666666666666, \"#ed7953\"], [0.7777777777777778, \"#fb9f3a\"], [0.8888888888888888, \"#fdca26\"], [1.0, \"#f0f921\"]]}, \"colorway\": [\"#636efa\", \"#EF553B\", \"#00cc96\", \"#ab63fa\", \"#FFA15A\", \"#19d3f3\", \"#FF6692\", \"#B6E880\", \"#FF97FF\", \"#FECB52\"], \"font\": {\"color\": \"#2a3f5f\"}, \"geo\": {\"bgcolor\": \"white\", \"lakecolor\": \"white\", \"landcolor\": \"#E5ECF6\", \"showlakes\": true, \"showland\": true, \"subunitcolor\": \"white\"}, \"hoverlabel\": {\"align\": \"left\"}, \"hovermode\": \"closest\", \"mapbox\": {\"style\": \"light\"}, \"paper_bgcolor\": \"white\", \"plot_bgcolor\": \"#E5ECF6\", \"polar\": {\"angularaxis\": {\"gridcolor\": \"white\", \"linecolor\": \"white\", \"ticks\": \"\"}, \"bgcolor\": \"#E5ECF6\", \"radialaxis\": {\"gridcolor\": \"white\", \"linecolor\": \"white\", \"ticks\": \"\"}}, \"scene\": {\"xaxis\": {\"backgroundcolor\": \"#E5ECF6\", \"gridcolor\": \"white\", \"gridwidth\": 2, \"linecolor\": \"white\", \"showbackground\": true, \"ticks\": \"\", \"zerolinecolor\": \"white\"}, \"yaxis\": {\"backgroundcolor\": \"#E5ECF6\", \"gridcolor\": \"white\", \"gridwidth\": 2, \"linecolor\": \"white\", \"showbackground\": true, \"ticks\": \"\", \"zerolinecolor\": \"white\"}, \"zaxis\": {\"backgroundcolor\": \"#E5ECF6\", \"gridcolor\": \"white\", \"gridwidth\": 2, \"linecolor\": \"white\", \"showbackground\": true, \"ticks\": \"\", \"zerolinecolor\": \"white\"}}, \"shapedefaults\": {\"line\": {\"color\": \"#2a3f5f\"}}, \"ternary\": {\"aaxis\": {\"gridcolor\": \"white\", \"linecolor\": \"white\", \"ticks\": \"\"}, \"baxis\": {\"gridcolor\": \"white\", \"linecolor\": \"white\", \"ticks\": \"\"}, \"bgcolor\": \"#E5ECF6\", \"caxis\": {\"gridcolor\": \"white\", \"linecolor\": \"white\", \"ticks\": \"\"}}, \"title\": {\"x\": 0.05}, \"xaxis\": {\"automargin\": true, \"gridcolor\": \"white\", \"linecolor\": \"white\", \"ticks\": \"\", \"title\": {\"standoff\": 15}, \"zerolinecolor\": \"white\", \"zerolinewidth\": 2}, \"yaxis\": {\"automargin\": true, \"gridcolor\": \"white\", \"linecolor\": \"white\", \"ticks\": \"\", \"title\": {\"standoff\": 15}, \"zerolinecolor\": \"white\", \"zerolinewidth\": 2}}}, \"title\": {\"text\": \"GradientBoostingRegressor\"}, \"width\": 1200, \"xaxis\": {\"anchor\": \"y\", \"domain\": [0.0, 1.0]}, \"yaxis\": {\"anchor\": \"x\", \"domain\": [0.0, 1.0]}},\n",
              "                        {\"responsive\": true}\n",
              "                    ).then(function(){\n",
              "                            \n",
              "var gd = document.getElementById('c83ef97e-1ed3-451a-bd4c-f183ad8ddbc2');\n",
              "var x = new MutationObserver(function (mutations, observer) {{\n",
              "        var display = window.getComputedStyle(gd).display;\n",
              "        if (!display || display === 'none') {{\n",
              "            console.log([gd, 'removed!']);\n",
              "            Plotly.purge(gd);\n",
              "            observer.disconnect();\n",
              "        }}\n",
              "}});\n",
              "\n",
              "// Listen for the removal of the full notebook cells\n",
              "var notebookContainer = gd.closest('#notebook-container');\n",
              "if (notebookContainer) {{\n",
              "    x.observe(notebookContainer, {childList: true});\n",
              "}}\n",
              "\n",
              "// Listen for the clearing of the current output cell\n",
              "var outputEl = gd.closest('.output');\n",
              "if (outputEl) {{\n",
              "    x.observe(outputEl, {childList: true});\n",
              "}}\n",
              "\n",
              "                        })\n",
              "                };\n",
              "                \n",
              "            </script>\n",
              "        </div>\n",
              "</body>\n",
              "</html>"
            ]
          },
          "metadata": {
            "tags": []
          }
        }
      ]
    },
    {
      "cell_type": "code",
      "metadata": {
        "colab": {
          "base_uri": "https://localhost:8080/"
        },
        "id": "sj9jVBjtJlF2",
        "outputId": "2c66e03f-7f8b-43c6-9320-e172ce7e885f"
      },
      "source": [
        "X_train_train=X_train_sj[X_train_sj.index<900]\n",
        "X_train_test=X_train_sj[X_train_sj.index>900]\n",
        "\n",
        "from sklearn.ensemble import GradientBoostingRegressor\n",
        "\n",
        "train_regressor=GradientBoostingRegressor(n_estimators=100,verbose=1)\n",
        "\n",
        "yy=X_train_train[['total_cases']]\n",
        "train_regressor.fit(X_train_train[prediktorok],yy)\n",
        "y_pred=train_regressor.predict(X_train_train[prediktorok])\n",
        "\n",
        "X_train_train[\"gradientboosting_total\"]=y_pred\n",
        "\n",
        "\n",
        "y_pred=train_regressor.predict(X_train_test[prediktorok])\n",
        "\n",
        "X_train_test[\"gradientboosting_total\"]=y_pred\n",
        "\n",
        "\n"
      ],
      "execution_count": 39,
      "outputs": [
        {
          "output_type": "stream",
          "text": [
            "      Iter       Train Loss   Remaining Time \n"
          ],
          "name": "stdout"
        },
        {
          "output_type": "stream",
          "text": [
            "/usr/local/lib/python3.7/dist-packages/sklearn/ensemble/_gb.py:1454: DataConversionWarning:\n",
            "\n",
            "A column-vector y was passed when a 1d array was expected. Please change the shape of y to (n_samples, ), for example using ravel().\n",
            "\n"
          ],
          "name": "stderr"
        },
        {
          "output_type": "stream",
          "text": [
            "         1        1180.9372            0.85s\n",
            "         2        1115.2002            0.64s\n",
            "         3        1059.9158            0.60s\n",
            "         4        1015.9876            0.56s\n",
            "         5         970.1061            0.55s\n",
            "         6         939.8860            0.54s\n",
            "         7         911.8639            0.53s\n",
            "         8         882.7006            0.52s\n",
            "         9         855.0700            0.50s\n",
            "        10         814.9373            0.49s\n",
            "        20         649.2801            0.36s\n",
            "        30         569.4584            0.29s\n",
            "        40         513.5691            0.24s\n",
            "        50         445.9537            0.20s\n",
            "        60         400.0353            0.15s\n",
            "        70         352.9005            0.11s\n",
            "        80         318.9837            0.08s\n",
            "        90         291.7849            0.04s\n",
            "       100         263.4823            0.00s\n"
          ],
          "name": "stdout"
        },
        {
          "output_type": "stream",
          "text": [
            "/usr/local/lib/python3.7/dist-packages/ipykernel_launcher.py:12: SettingWithCopyWarning:\n",
            "\n",
            "\n",
            "A value is trying to be set on a copy of a slice from a DataFrame.\n",
            "Try using .loc[row_indexer,col_indexer] = value instead\n",
            "\n",
            "See the caveats in the documentation: https://pandas.pydata.org/pandas-docs/stable/user_guide/indexing.html#returning-a-view-versus-a-copy\n",
            "\n",
            "/usr/local/lib/python3.7/dist-packages/ipykernel_launcher.py:17: SettingWithCopyWarning:\n",
            "\n",
            "\n",
            "A value is trying to be set on a copy of a slice from a DataFrame.\n",
            "Try using .loc[row_indexer,col_indexer] = value instead\n",
            "\n",
            "See the caveats in the documentation: https://pandas.pydata.org/pandas-docs/stable/user_guide/indexing.html#returning-a-view-versus-a-copy\n",
            "\n"
          ],
          "name": "stderr"
        }
      ]
    },
    {
      "cell_type": "code",
      "metadata": {
        "colab": {
          "base_uri": "https://localhost:8080/",
          "height": 617
        },
        "id": "eWTXDfxjJ4wU",
        "outputId": "5f28a486-4ebd-45b0-c1b8-649a21517037"
      },
      "source": [
        "grafikon(X_train_test,\"week_start_date\",\"total_cases\",\"total_cases\",\"gradientboosting_total\",\"gradientboosting_total\",title=\"GradientBoostingRegressor\",)"
      ],
      "execution_count": 40,
      "outputs": [
        {
          "output_type": "display_data",
          "data": {
            "text/html": [
              "<html>\n",
              "<head><meta charset=\"utf-8\" /></head>\n",
              "<body>\n",
              "    <div>\n",
              "            <script src=\"https://cdnjs.cloudflare.com/ajax/libs/mathjax/2.7.5/MathJax.js?config=TeX-AMS-MML_SVG\"></script><script type=\"text/javascript\">if (window.MathJax) {MathJax.Hub.Config({SVG: {font: \"STIX-Web\"}});}</script>\n",
              "                <script type=\"text/javascript\">window.PlotlyConfig = {MathJaxConfig: 'local'};</script>\n",
              "        <script src=\"https://cdn.plot.ly/plotly-latest.min.js\"></script>    \n",
              "            <div id=\"0ec99d25-3f98-441d-bdaf-bb334f8fa299\" class=\"plotly-graph-div\" style=\"height:600px; width:1200px;\"></div>\n",
              "            <script type=\"text/javascript\">\n",
              "                \n",
              "                    window.PLOTLYENV=window.PLOTLYENV || {};\n",
              "                    \n",
              "                if (document.getElementById(\"0ec99d25-3f98-441d-bdaf-bb334f8fa299\")) {\n",
              "                    Plotly.newPlot(\n",
              "                        '0ec99d25-3f98-441d-bdaf-bb334f8fa299',\n",
              "                        [{\"line\": {\"color\": \"rgba(35,128,132,0.8)\"}, \"name\": \"total_cases\", \"showlegend\": true, \"type\": \"scatter\", \"x\": [\"2007-08-27\", \"2007-09-17\", \"2007-09-24\", \"2007-10-01\", \"2007-10-08\", \"2007-10-15\", \"2007-10-29\", \"2007-11-05\", \"2007-11-12\", \"2007-11-26\", \"2007-12-10\", \"2007-12-24\", \"2008-01-01\", \"2008-01-22\", \"2008-02-05\", \"2008-02-12\", \"2008-02-19\", \"2008-03-04\", \"2008-03-11\", \"2008-03-18\", \"2008-03-25\", \"2008-04-01\", \"2008-04-08\", \"2008-04-22\"], \"xaxis\": \"x\", \"y\": [92, 106, 101, 170, 135, 106, 48, 48, 26, 29, 12, 17, 15, 10, 2, 6, 8, 1, 2, 3, 4, 3, 1, 5], \"yaxis\": \"y\"}, {\"line\": {\"color\": \"rgba(193,99,99,0.8)\"}, \"name\": \"gradientboosting_total\", \"showlegend\": true, \"type\": \"scatter\", \"x\": [\"2007-08-27\", \"2007-09-17\", \"2007-09-24\", \"2007-10-01\", \"2007-10-08\", \"2007-10-15\", \"2007-10-29\", \"2007-11-05\", \"2007-11-12\", \"2007-11-26\", \"2007-12-10\", \"2007-12-24\", \"2008-01-01\", \"2008-01-22\", \"2008-02-05\", \"2008-02-12\", \"2008-02-19\", \"2008-03-04\", \"2008-03-11\", \"2008-03-18\", \"2008-03-25\", \"2008-04-01\", \"2008-04-08\", \"2008-04-22\"], \"xaxis\": \"x\", \"y\": [37.888501542421196, 51.897728323812906, 22.131245610827268, 31.04401671379548, 37.22725678289675, 122.04857237503998, 37.70324791256633, 21.248169708881786, 31.1845418114334, 16.442095877275133, 23.24392972411635, 19.409392257747864, 30.11235934287456, 26.5211285090486, 9.044590692632243, 17.930526087382628, 10.363976776307, 5.167448739116407, 9.870195351801167, 15.220531339418526, 5.913214799719185, 13.031203894173878, 8.714008768286767, 14.17210497256589], \"yaxis\": \"y\"}],\n",
              "                        {\"autosize\": false, \"height\": 600, \"template\": {\"data\": {\"bar\": [{\"error_x\": {\"color\": \"#2a3f5f\"}, \"error_y\": {\"color\": \"#2a3f5f\"}, \"marker\": {\"line\": {\"color\": \"#E5ECF6\", \"width\": 0.5}}, \"type\": \"bar\"}], \"barpolar\": [{\"marker\": {\"line\": {\"color\": \"#E5ECF6\", \"width\": 0.5}}, \"type\": \"barpolar\"}], \"carpet\": [{\"aaxis\": {\"endlinecolor\": \"#2a3f5f\", \"gridcolor\": \"white\", \"linecolor\": \"white\", \"minorgridcolor\": \"white\", \"startlinecolor\": \"#2a3f5f\"}, \"baxis\": {\"endlinecolor\": \"#2a3f5f\", \"gridcolor\": \"white\", \"linecolor\": \"white\", \"minorgridcolor\": \"white\", \"startlinecolor\": \"#2a3f5f\"}, \"type\": \"carpet\"}], \"choropleth\": [{\"colorbar\": {\"outlinewidth\": 0, \"ticks\": \"\"}, \"type\": \"choropleth\"}], \"contour\": [{\"colorbar\": {\"outlinewidth\": 0, \"ticks\": \"\"}, \"colorscale\": [[0.0, \"#0d0887\"], [0.1111111111111111, \"#46039f\"], [0.2222222222222222, \"#7201a8\"], [0.3333333333333333, \"#9c179e\"], [0.4444444444444444, \"#bd3786\"], [0.5555555555555556, \"#d8576b\"], [0.6666666666666666, \"#ed7953\"], [0.7777777777777778, \"#fb9f3a\"], [0.8888888888888888, \"#fdca26\"], [1.0, \"#f0f921\"]], \"type\": \"contour\"}], \"contourcarpet\": [{\"colorbar\": {\"outlinewidth\": 0, \"ticks\": \"\"}, \"type\": \"contourcarpet\"}], \"heatmap\": [{\"colorbar\": {\"outlinewidth\": 0, \"ticks\": \"\"}, \"colorscale\": [[0.0, \"#0d0887\"], [0.1111111111111111, \"#46039f\"], [0.2222222222222222, \"#7201a8\"], [0.3333333333333333, \"#9c179e\"], [0.4444444444444444, \"#bd3786\"], [0.5555555555555556, \"#d8576b\"], [0.6666666666666666, \"#ed7953\"], [0.7777777777777778, \"#fb9f3a\"], [0.8888888888888888, \"#fdca26\"], [1.0, \"#f0f921\"]], \"type\": \"heatmap\"}], \"heatmapgl\": [{\"colorbar\": {\"outlinewidth\": 0, \"ticks\": \"\"}, \"colorscale\": [[0.0, \"#0d0887\"], [0.1111111111111111, \"#46039f\"], [0.2222222222222222, \"#7201a8\"], [0.3333333333333333, \"#9c179e\"], [0.4444444444444444, \"#bd3786\"], [0.5555555555555556, \"#d8576b\"], [0.6666666666666666, \"#ed7953\"], [0.7777777777777778, \"#fb9f3a\"], [0.8888888888888888, \"#fdca26\"], [1.0, \"#f0f921\"]], \"type\": \"heatmapgl\"}], \"histogram\": [{\"marker\": {\"colorbar\": {\"outlinewidth\": 0, \"ticks\": \"\"}}, \"type\": \"histogram\"}], \"histogram2d\": [{\"colorbar\": {\"outlinewidth\": 0, \"ticks\": \"\"}, \"colorscale\": [[0.0, \"#0d0887\"], [0.1111111111111111, \"#46039f\"], [0.2222222222222222, \"#7201a8\"], [0.3333333333333333, \"#9c179e\"], [0.4444444444444444, \"#bd3786\"], [0.5555555555555556, \"#d8576b\"], [0.6666666666666666, \"#ed7953\"], [0.7777777777777778, \"#fb9f3a\"], [0.8888888888888888, \"#fdca26\"], [1.0, \"#f0f921\"]], \"type\": \"histogram2d\"}], \"histogram2dcontour\": [{\"colorbar\": {\"outlinewidth\": 0, \"ticks\": \"\"}, \"colorscale\": [[0.0, \"#0d0887\"], [0.1111111111111111, \"#46039f\"], [0.2222222222222222, \"#7201a8\"], [0.3333333333333333, \"#9c179e\"], [0.4444444444444444, \"#bd3786\"], [0.5555555555555556, \"#d8576b\"], [0.6666666666666666, \"#ed7953\"], [0.7777777777777778, \"#fb9f3a\"], [0.8888888888888888, \"#fdca26\"], [1.0, \"#f0f921\"]], \"type\": \"histogram2dcontour\"}], \"mesh3d\": [{\"colorbar\": {\"outlinewidth\": 0, \"ticks\": \"\"}, \"type\": \"mesh3d\"}], \"parcoords\": [{\"line\": {\"colorbar\": {\"outlinewidth\": 0, \"ticks\": \"\"}}, \"type\": \"parcoords\"}], \"pie\": [{\"automargin\": true, \"type\": \"pie\"}], \"scatter\": [{\"marker\": {\"colorbar\": {\"outlinewidth\": 0, \"ticks\": \"\"}}, \"type\": \"scatter\"}], \"scatter3d\": [{\"line\": {\"colorbar\": {\"outlinewidth\": 0, \"ticks\": \"\"}}, \"marker\": {\"colorbar\": {\"outlinewidth\": 0, \"ticks\": \"\"}}, \"type\": \"scatter3d\"}], \"scattercarpet\": [{\"marker\": {\"colorbar\": {\"outlinewidth\": 0, \"ticks\": \"\"}}, \"type\": \"scattercarpet\"}], \"scattergeo\": [{\"marker\": {\"colorbar\": {\"outlinewidth\": 0, \"ticks\": \"\"}}, \"type\": \"scattergeo\"}], \"scattergl\": [{\"marker\": {\"colorbar\": {\"outlinewidth\": 0, \"ticks\": \"\"}}, \"type\": \"scattergl\"}], \"scattermapbox\": [{\"marker\": {\"colorbar\": {\"outlinewidth\": 0, \"ticks\": \"\"}}, \"type\": \"scattermapbox\"}], \"scatterpolar\": [{\"marker\": {\"colorbar\": {\"outlinewidth\": 0, \"ticks\": \"\"}}, \"type\": \"scatterpolar\"}], \"scatterpolargl\": [{\"marker\": {\"colorbar\": {\"outlinewidth\": 0, \"ticks\": \"\"}}, \"type\": \"scatterpolargl\"}], \"scatterternary\": [{\"marker\": {\"colorbar\": {\"outlinewidth\": 0, \"ticks\": \"\"}}, \"type\": \"scatterternary\"}], \"surface\": [{\"colorbar\": {\"outlinewidth\": 0, \"ticks\": \"\"}, \"colorscale\": [[0.0, \"#0d0887\"], [0.1111111111111111, \"#46039f\"], [0.2222222222222222, \"#7201a8\"], [0.3333333333333333, \"#9c179e\"], [0.4444444444444444, \"#bd3786\"], [0.5555555555555556, \"#d8576b\"], [0.6666666666666666, \"#ed7953\"], [0.7777777777777778, \"#fb9f3a\"], [0.8888888888888888, \"#fdca26\"], [1.0, \"#f0f921\"]], \"type\": \"surface\"}], \"table\": [{\"cells\": {\"fill\": {\"color\": \"#EBF0F8\"}, \"line\": {\"color\": \"white\"}}, \"header\": {\"fill\": {\"color\": \"#C8D4E3\"}, \"line\": {\"color\": \"white\"}}, \"type\": \"table\"}]}, \"layout\": {\"annotationdefaults\": {\"arrowcolor\": \"#2a3f5f\", \"arrowhead\": 0, \"arrowwidth\": 1}, \"coloraxis\": {\"colorbar\": {\"outlinewidth\": 0, \"ticks\": \"\"}}, \"colorscale\": {\"diverging\": [[0, \"#8e0152\"], [0.1, \"#c51b7d\"], [0.2, \"#de77ae\"], [0.3, \"#f1b6da\"], [0.4, \"#fde0ef\"], [0.5, \"#f7f7f7\"], [0.6, \"#e6f5d0\"], [0.7, \"#b8e186\"], [0.8, \"#7fbc41\"], [0.9, \"#4d9221\"], [1, \"#276419\"]], \"sequential\": [[0.0, \"#0d0887\"], [0.1111111111111111, \"#46039f\"], [0.2222222222222222, \"#7201a8\"], [0.3333333333333333, \"#9c179e\"], [0.4444444444444444, \"#bd3786\"], [0.5555555555555556, \"#d8576b\"], [0.6666666666666666, \"#ed7953\"], [0.7777777777777778, \"#fb9f3a\"], [0.8888888888888888, \"#fdca26\"], [1.0, \"#f0f921\"]], \"sequentialminus\": [[0.0, \"#0d0887\"], [0.1111111111111111, \"#46039f\"], [0.2222222222222222, \"#7201a8\"], [0.3333333333333333, \"#9c179e\"], [0.4444444444444444, \"#bd3786\"], [0.5555555555555556, \"#d8576b\"], [0.6666666666666666, \"#ed7953\"], [0.7777777777777778, \"#fb9f3a\"], [0.8888888888888888, \"#fdca26\"], [1.0, \"#f0f921\"]]}, \"colorway\": [\"#636efa\", \"#EF553B\", \"#00cc96\", \"#ab63fa\", \"#FFA15A\", \"#19d3f3\", \"#FF6692\", \"#B6E880\", \"#FF97FF\", \"#FECB52\"], \"font\": {\"color\": \"#2a3f5f\"}, \"geo\": {\"bgcolor\": \"white\", \"lakecolor\": \"white\", \"landcolor\": \"#E5ECF6\", \"showlakes\": true, \"showland\": true, \"subunitcolor\": \"white\"}, \"hoverlabel\": {\"align\": \"left\"}, \"hovermode\": \"closest\", \"mapbox\": {\"style\": \"light\"}, \"paper_bgcolor\": \"white\", \"plot_bgcolor\": \"#E5ECF6\", \"polar\": {\"angularaxis\": {\"gridcolor\": \"white\", \"linecolor\": \"white\", \"ticks\": \"\"}, \"bgcolor\": \"#E5ECF6\", \"radialaxis\": {\"gridcolor\": \"white\", \"linecolor\": \"white\", \"ticks\": \"\"}}, \"scene\": {\"xaxis\": {\"backgroundcolor\": \"#E5ECF6\", \"gridcolor\": \"white\", \"gridwidth\": 2, \"linecolor\": \"white\", \"showbackground\": true, \"ticks\": \"\", \"zerolinecolor\": \"white\"}, \"yaxis\": {\"backgroundcolor\": \"#E5ECF6\", \"gridcolor\": \"white\", \"gridwidth\": 2, \"linecolor\": \"white\", \"showbackground\": true, \"ticks\": \"\", \"zerolinecolor\": \"white\"}, \"zaxis\": {\"backgroundcolor\": \"#E5ECF6\", \"gridcolor\": \"white\", \"gridwidth\": 2, \"linecolor\": \"white\", \"showbackground\": true, \"ticks\": \"\", \"zerolinecolor\": \"white\"}}, \"shapedefaults\": {\"line\": {\"color\": \"#2a3f5f\"}}, \"ternary\": {\"aaxis\": {\"gridcolor\": \"white\", \"linecolor\": \"white\", \"ticks\": \"\"}, \"baxis\": {\"gridcolor\": \"white\", \"linecolor\": \"white\", \"ticks\": \"\"}, \"bgcolor\": \"#E5ECF6\", \"caxis\": {\"gridcolor\": \"white\", \"linecolor\": \"white\", \"ticks\": \"\"}}, \"title\": {\"x\": 0.05}, \"xaxis\": {\"automargin\": true, \"gridcolor\": \"white\", \"linecolor\": \"white\", \"ticks\": \"\", \"title\": {\"standoff\": 15}, \"zerolinecolor\": \"white\", \"zerolinewidth\": 2}, \"yaxis\": {\"automargin\": true, \"gridcolor\": \"white\", \"linecolor\": \"white\", \"ticks\": \"\", \"title\": {\"standoff\": 15}, \"zerolinecolor\": \"white\", \"zerolinewidth\": 2}}}, \"title\": {\"text\": \"GradientBoostingRegressor\"}, \"width\": 1200, \"xaxis\": {\"anchor\": \"y\", \"domain\": [0.0, 1.0]}, \"yaxis\": {\"anchor\": \"x\", \"domain\": [0.0, 1.0]}},\n",
              "                        {\"responsive\": true}\n",
              "                    ).then(function(){\n",
              "                            \n",
              "var gd = document.getElementById('0ec99d25-3f98-441d-bdaf-bb334f8fa299');\n",
              "var x = new MutationObserver(function (mutations, observer) {{\n",
              "        var display = window.getComputedStyle(gd).display;\n",
              "        if (!display || display === 'none') {{\n",
              "            console.log([gd, 'removed!']);\n",
              "            Plotly.purge(gd);\n",
              "            observer.disconnect();\n",
              "        }}\n",
              "}});\n",
              "\n",
              "// Listen for the removal of the full notebook cells\n",
              "var notebookContainer = gd.closest('#notebook-container');\n",
              "if (notebookContainer) {{\n",
              "    x.observe(notebookContainer, {childList: true});\n",
              "}}\n",
              "\n",
              "// Listen for the clearing of the current output cell\n",
              "var outputEl = gd.closest('.output');\n",
              "if (outputEl) {{\n",
              "    x.observe(outputEl, {childList: true});\n",
              "}}\n",
              "\n",
              "                        })\n",
              "                };\n",
              "                \n",
              "            </script>\n",
              "        </div>\n",
              "</body>\n",
              "</html>"
            ]
          },
          "metadata": {
            "tags": []
          }
        }
      ]
    },
    {
      "cell_type": "code",
      "metadata": {
        "colab": {
          "base_uri": "https://localhost:8080/",
          "height": 617
        },
        "id": "nYwKmgs3Ne_p",
        "outputId": "8dc419d2-427e-4131-9d63-111fe3849287"
      },
      "source": [
        "grafikon(X_train_train,\"week_start_date\",\"total_cases\",\"total_cases\",\"gradientboosting_total\",\"gradientboosting_total\",title=\"GradientBoostingRegressor\",)"
      ],
      "execution_count": 41,
      "outputs": [
        {
          "output_type": "display_data",
          "data": {
            "text/html": [
              "<html>\n",
              "<head><meta charset=\"utf-8\" /></head>\n",
              "<body>\n",
              "    <div>\n",
              "            <script src=\"https://cdnjs.cloudflare.com/ajax/libs/mathjax/2.7.5/MathJax.js?config=TeX-AMS-MML_SVG\"></script><script type=\"text/javascript\">if (window.MathJax) {MathJax.Hub.Config({SVG: {font: \"STIX-Web\"}});}</script>\n",
              "                <script type=\"text/javascript\">window.PlotlyConfig = {MathJaxConfig: 'local'};</script>\n",
              "        <script src=\"https://cdn.plot.ly/plotly-latest.min.js\"></script>    \n",
              "            <div id=\"9644c829-997d-4dd4-a57d-da98a2bbeae8\" class=\"plotly-graph-div\" style=\"height:600px; width:1200px;\"></div>\n",
              "            <script type=\"text/javascript\">\n",
              "                \n",
              "                    window.PLOTLYENV=window.PLOTLYENV || {};\n",
              "                    \n",
              "                if (document.getElementById(\"9644c829-997d-4dd4-a57d-da98a2bbeae8\")) {\n",
              "                    Plotly.newPlot(\n",
              "                        '9644c829-997d-4dd4-a57d-da98a2bbeae8',\n",
              "                        [{\"line\": {\"color\": \"rgba(35,128,132,0.8)\"}, \"name\": \"total_cases\", \"showlegend\": true, \"type\": \"scatter\", \"x\": [\"1990-04-30\", \"1990-05-07\", \"1990-05-14\", \"1990-05-21\", \"1990-05-28\", \"1990-06-11\", \"1990-06-18\", \"1990-06-25\", \"1990-07-09\", \"1990-07-16\", \"1990-07-23\", \"1990-08-20\", \"1990-08-27\", \"1990-09-03\", \"1990-09-10\", \"1990-09-17\", \"1990-09-24\", \"1990-10-01\", \"1990-10-08\", \"1990-10-22\", \"1990-10-29\", \"1990-11-05\", \"1990-11-12\", \"1990-11-19\", \"1990-11-26\", \"1990-12-03\", \"1990-12-10\", \"1990-12-17\", \"1990-12-24\", \"1991-01-01\", \"1991-01-22\", \"1991-01-29\", \"1991-02-05\", \"1991-02-12\", \"1991-02-26\", \"1991-03-05\", \"1991-03-19\", \"1991-03-26\", \"1991-04-02\", \"1991-04-09\", \"1991-04-16\", \"1991-04-30\", \"1991-05-07\", \"1991-05-21\", \"1991-05-28\", \"1991-06-04\", \"1991-06-11\", \"1991-06-18\", \"1991-06-25\", \"1991-07-23\", \"1991-08-06\", \"1991-08-20\", \"1991-08-27\", \"1991-09-03\", \"1991-09-10\", \"1991-09-17\", \"1991-09-24\", \"1991-10-01\", \"1991-10-08\", \"1991-10-15\", \"1991-10-22\", \"1991-10-29\", \"1991-11-05\", \"1991-11-12\", \"1991-11-19\", \"1991-11-26\", \"1991-12-03\", \"1991-12-10\", \"1991-12-24\", \"1992-01-08\", \"1992-01-15\", \"1992-01-22\", \"1992-02-05\", \"1992-03-11\", \"1992-03-18\", \"1992-04-01\", \"1992-04-08\", \"1992-04-15\", \"1992-04-22\", \"1992-04-29\", \"1992-05-06\", \"1992-05-13\", \"1992-05-20\", \"1992-06-03\", \"1992-06-10\", \"1992-06-17\", \"1992-06-24\", \"1992-07-01\", \"1992-07-15\", \"1992-07-22\", \"1992-07-29\", \"1992-08-05\", \"1992-08-12\", \"1992-08-19\", \"1992-08-26\", \"1992-09-09\", \"1992-09-16\", \"1992-09-23\", \"1992-09-30\", \"1992-10-07\", \"1992-10-14\", \"1992-10-21\", \"1992-10-28\", \"1992-11-04\", \"1992-11-11\", \"1992-11-18\", \"1992-11-25\", \"1992-12-02\", \"1992-12-09\", \"1992-12-23\", \"1993-01-08\", \"1993-01-15\", \"1993-01-29\", \"1993-02-05\", \"1993-02-12\", \"1993-02-19\", \"1993-03-05\", \"1993-03-12\", \"1993-03-19\", \"1993-03-26\", \"1993-04-02\", \"1993-04-16\", \"1993-04-23\", \"1993-05-07\", \"1993-05-14\", \"1993-05-21\", \"1993-05-28\", \"1993-06-04\", \"1993-06-25\", \"1993-07-02\", \"1993-07-09\", \"1993-07-16\", \"1993-07-23\", \"1993-07-30\", \"1993-08-13\", \"1993-08-20\", \"1993-08-27\", \"1993-09-03\", \"1993-09-10\", \"1993-09-17\", \"1993-09-24\", \"1993-10-01\", \"1993-10-08\", \"1993-10-15\", \"1993-10-29\", \"1993-11-12\", \"1993-11-19\", \"1993-11-26\", \"1993-12-03\", \"1993-12-17\", \"1993-12-24\", \"1994-01-08\", \"1994-01-15\", \"1994-01-22\", \"1994-01-29\", \"1994-02-05\", \"1994-02-12\", \"1994-02-19\", \"1994-03-12\", \"1994-03-19\", \"1994-03-26\", \"1994-04-02\", \"1994-04-09\", \"1994-04-16\", \"1994-04-30\", \"1994-05-07\", \"1994-05-14\", \"1994-05-21\", \"1994-05-28\", \"1994-06-04\", \"1994-06-11\", \"1994-06-25\", \"1994-07-02\", \"1994-07-09\", \"1994-07-16\", \"1994-07-23\", \"1994-07-30\", \"1994-08-13\", \"1994-08-20\", \"1994-08-27\", \"1994-09-03\", \"1994-09-10\", \"1995-01-01\", \"1995-01-08\", \"1995-01-22\", \"1995-01-29\", \"1995-02-12\", \"1995-02-26\", \"1995-03-05\", \"1995-03-12\", \"1995-03-19\", \"1995-03-26\", \"1995-04-02\", \"1995-04-23\", \"1995-04-30\", \"1995-05-14\", \"1995-05-21\", \"1995-05-28\", \"1995-06-11\", \"1995-06-18\", \"1995-06-25\", \"1995-07-02\", \"1995-07-09\", \"1995-07-23\", \"1995-08-06\", \"1995-08-13\", \"1995-08-20\", \"1995-08-27\", \"1995-09-03\", \"1995-09-10\", \"1995-09-17\", \"1995-09-24\", \"1995-10-01\", \"1995-10-08\", \"1995-10-15\", \"1995-10-22\", \"1995-11-05\", \"1995-11-12\", \"1995-11-19\", \"1995-11-26\", \"1995-12-10\", \"1995-12-17\", \"1996-01-01\", \"1996-01-08\", \"1996-01-15\", \"1996-01-22\", \"1996-01-29\", \"1996-02-05\", \"1996-02-12\", \"1996-02-26\", \"1996-03-11\", \"1996-03-18\", \"1996-04-01\", \"1996-04-08\", \"1996-04-15\", \"1996-04-29\", \"1996-05-06\", \"1996-05-20\", \"1996-05-27\", \"1996-06-03\", \"1996-06-10\", \"1996-06-17\", \"1996-06-24\", \"1996-07-08\", \"1996-07-15\", \"1996-07-22\", \"1996-07-29\", \"1996-08-12\", \"1996-08-26\", \"1996-09-02\", \"1996-09-09\", \"1996-09-23\", \"1996-09-30\", \"1996-10-07\", \"1996-10-21\", \"1996-10-28\", \"1996-11-04\", \"1996-11-11\", \"1996-12-02\", \"1996-12-23\", \"1997-01-01\", \"1997-01-15\", \"1997-01-22\", \"1997-01-29\", \"1997-02-05\", \"1997-02-12\", \"1997-02-19\", \"1997-03-19\", \"1997-03-26\", \"1997-04-09\", \"1997-04-16\", \"1997-04-23\", \"1997-04-30\", \"1997-05-07\", \"1997-05-14\", \"1997-05-21\", \"1997-05-28\", \"1997-06-04\", \"1997-06-11\", \"1997-06-18\", \"1997-06-25\", \"1997-07-02\", \"1997-07-09\", \"1997-07-16\", \"1997-07-30\", \"1997-08-06\", \"1997-08-13\", \"1997-08-27\", \"1997-09-03\", \"1997-09-10\", \"1997-09-17\", \"1997-09-24\", \"1997-10-01\", \"1997-10-08\", \"1997-10-15\", \"1997-11-12\", \"1997-11-26\", \"1997-12-03\", \"1997-12-24\", \"1998-01-08\", \"1998-01-15\", \"1998-01-22\", \"1998-01-29\", \"1998-02-05\", \"1998-02-12\", \"1998-02-26\", \"1998-03-05\", \"1998-03-19\", \"1998-04-02\", \"1998-04-09\", \"1998-04-16\", \"1998-04-23\", \"1998-04-30\", \"1998-05-21\", \"1998-05-28\", \"1998-06-04\", \"1998-06-11\", \"1998-06-18\", \"1998-06-25\", \"1998-07-02\", \"1998-07-09\", \"1998-07-16\", \"1998-07-23\", \"1998-07-30\", \"1998-08-06\", \"1998-08-13\", \"1998-08-20\", \"1998-08-27\", \"1998-09-03\", \"1998-09-10\", \"1998-09-24\", \"1998-10-01\", \"1998-10-22\", \"1998-10-29\", \"1998-11-12\", \"1998-11-26\", \"1998-12-03\", \"1998-12-10\", \"1998-12-17\", \"1998-12-24\", \"1999-01-15\", \"1999-01-22\", \"1999-01-29\", \"1999-02-19\", \"1999-02-26\", \"1999-03-05\", \"1999-03-12\", \"1999-03-19\", \"1999-03-26\", \"1999-04-02\", \"1999-04-16\", \"1999-04-23\", \"1999-04-30\", \"1999-05-07\", \"1999-06-04\", \"1999-06-11\", \"1999-07-09\", \"1999-07-16\", \"1999-07-23\", \"1999-07-30\", \"1999-08-06\", \"1999-08-20\", \"1999-08-27\", \"1999-09-10\", \"1999-09-17\", \"1999-09-24\", \"1999-10-01\", \"1999-10-08\", \"1999-10-15\", \"1999-11-05\", \"1999-11-12\", \"1999-11-19\", \"1999-11-26\", \"1999-12-03\", \"1999-12-17\", \"1999-12-24\", \"2000-01-01\", \"2000-01-08\", \"2000-01-15\", \"2000-01-22\", \"2000-01-29\", \"2000-02-05\", \"2000-02-19\", \"2000-03-04\", \"2000-03-11\", \"2000-03-18\", \"2000-03-25\", \"2000-04-08\", \"2000-04-15\", \"2000-04-22\", \"2000-04-29\", \"2000-05-06\", \"2000-05-20\", \"2000-05-27\", \"2000-06-03\", \"2000-06-10\", \"2000-06-17\", \"2000-06-24\", \"2000-07-01\", \"2000-07-08\", \"2000-07-15\", \"2000-07-22\", \"2000-07-29\", \"2000-08-05\", \"2000-08-12\", \"2000-08-19\", \"2000-08-26\", \"2000-09-09\", \"2000-09-16\", \"2000-09-23\", \"2000-10-07\", \"2000-10-14\", \"2000-10-21\", \"2000-10-28\", \"2000-11-04\", \"2000-11-11\", \"2000-11-18\", \"2000-12-02\", \"2000-12-09\", \"2000-12-16\", \"2000-12-23\", \"2001-01-01\", \"2001-01-08\", \"2001-01-22\", \"2001-01-29\", \"2001-02-12\", \"2001-02-19\", \"2001-02-26\", \"2001-03-05\", \"2001-03-12\", \"2001-03-19\", \"2001-04-02\", \"2001-04-16\", \"2001-05-07\", \"2001-05-14\", \"2001-05-21\", \"2001-05-28\", \"2001-06-04\", \"2001-06-18\", \"2001-06-25\", \"2001-07-02\", \"2001-07-09\", \"2001-07-16\", \"2001-07-23\", \"2001-07-30\", \"2001-08-06\", \"2001-08-13\", \"2001-08-20\", \"2001-09-03\", \"2001-09-10\", \"2001-09-17\", \"2001-09-24\", \"2001-10-01\", \"2001-10-08\", \"2001-10-22\", \"2001-10-29\", \"2001-11-05\", \"2001-11-12\", \"2001-11-19\", \"2001-11-26\", \"2001-12-03\", \"2001-12-10\", \"2001-12-17\", \"2001-12-24\", \"2002-01-01\", \"2002-01-08\", \"2002-01-15\", \"2002-01-22\", \"2002-02-05\", \"2002-02-12\", \"2002-02-19\", \"2002-02-26\", \"2002-03-05\", \"2002-03-12\", \"2002-03-19\", \"2002-03-26\", \"2002-04-02\", \"2002-04-09\", \"2002-04-23\", \"2002-04-30\", \"2002-05-07\", \"2002-05-14\", \"2002-05-21\", \"2002-05-28\", \"2002-06-04\", \"2002-07-02\", \"2002-07-09\", \"2002-07-23\", \"2002-07-30\", \"2002-08-06\", \"2002-08-13\", \"2002-08-20\", \"2002-08-27\", \"2002-09-03\", \"2002-09-10\", \"2002-09-24\", \"2002-10-01\", \"2002-10-08\", \"2002-10-22\", \"2002-10-29\", \"2002-11-05\", \"2002-11-12\", \"2002-11-26\", \"2002-12-03\", \"2002-12-10\", \"2002-12-17\", \"2002-12-24\", \"2003-01-01\", \"2003-01-08\", \"2003-01-15\", \"2003-01-22\", \"2003-01-29\", \"2003-02-05\", \"2003-02-19\", \"2003-02-26\", \"2003-03-05\", \"2003-03-12\", \"2003-03-19\", \"2003-03-26\", \"2003-04-02\", \"2003-04-09\", \"2003-04-23\", \"2003-04-30\", \"2003-05-07\", \"2003-05-14\", \"2003-05-28\", \"2003-06-11\", \"2003-06-18\", \"2003-06-25\", \"2003-07-02\", \"2003-07-16\", \"2003-07-23\", \"2003-07-30\", \"2003-08-06\", \"2003-08-13\", \"2003-08-20\", \"2003-09-10\", \"2003-09-17\", \"2003-09-24\", \"2003-10-08\", \"2003-10-15\", \"2003-10-22\", \"2003-10-29\", \"2003-11-12\", \"2003-11-19\", \"2003-11-26\", \"2003-12-03\", \"2003-12-10\", \"2003-12-17\", \"2003-12-24\", \"2004-01-08\", \"2004-01-22\", \"2004-01-29\", \"2004-02-12\", \"2004-02-19\", \"2004-02-26\", \"2004-03-04\", \"2004-03-11\", \"2004-03-25\", \"2004-04-08\", \"2004-04-15\", \"2004-05-13\", \"2004-05-20\", \"2004-05-27\", \"2004-06-03\", \"2004-06-10\", \"2004-06-17\", \"2004-06-24\", \"2004-07-08\", \"2004-07-15\", \"2004-07-22\", \"2004-07-29\", \"2004-08-05\", \"2004-08-12\", \"2004-08-19\", \"2004-08-26\", \"2004-09-02\", \"2004-09-09\", \"2004-09-30\", \"2004-10-07\", \"2004-10-21\", \"2004-10-28\", \"2004-11-04\", \"2004-11-11\", \"2004-11-18\", \"2004-11-25\", \"2004-12-02\", \"2004-12-09\", \"2004-12-16\", \"2004-12-23\", \"2005-01-08\", \"2005-01-15\", \"2005-01-22\", \"2005-01-29\", \"2005-02-05\", \"2005-02-12\", \"2005-02-26\", \"2005-03-05\", \"2005-03-19\", \"2005-03-26\", \"2005-04-09\", \"2005-04-16\", \"2005-04-23\", \"2005-05-07\", \"2005-05-14\", \"2005-05-28\", \"2005-06-04\", \"2005-06-11\", \"2005-06-18\", \"2005-07-02\", \"2005-07-09\", \"2005-07-16\", \"2005-07-23\", \"2005-07-30\", \"2005-08-06\", \"2005-08-20\", \"2005-08-27\", \"2005-09-10\", \"2005-09-17\", \"2005-09-24\", \"2005-10-01\", \"2005-10-08\", \"2005-10-15\", \"2005-10-22\", \"2005-10-29\", \"2005-11-05\", \"2005-11-12\", \"2005-11-19\", \"2005-12-10\", \"2005-12-17\", \"2005-12-24\", \"2006-01-01\", \"2006-01-08\", \"2006-01-15\", \"2006-01-22\", \"2006-01-29\", \"2006-02-05\", \"2006-02-12\", \"2006-02-19\", \"2006-02-26\", \"2006-03-05\", \"2006-03-12\", \"2006-03-19\", \"2006-04-09\", \"2006-04-16\", \"2006-04-23\", \"2006-04-30\", \"2006-05-07\", \"2006-05-21\", \"2006-06-04\", \"2006-06-11\", \"2006-06-18\", \"2006-06-25\", \"2006-07-02\", \"2006-07-09\", \"2006-07-16\", \"2006-07-23\", \"2006-07-30\", \"2006-08-06\", \"2006-08-13\", \"2006-08-27\", \"2006-09-03\", \"2006-09-10\", \"2006-09-17\", \"2006-09-24\", \"2006-10-01\", \"2006-10-15\", \"2006-10-22\", \"2006-10-29\", \"2006-11-12\", \"2006-11-19\", \"2006-11-26\", \"2006-12-10\", \"2006-12-17\", \"2006-12-24\", \"2007-01-01\", \"2007-01-15\", \"2007-01-22\", \"2007-02-05\", \"2007-02-12\", \"2007-02-19\", \"2007-03-05\", \"2007-03-12\", \"2007-03-19\", \"2007-03-26\", \"2007-04-02\", \"2007-04-09\", \"2007-04-16\", \"2007-04-23\", \"2007-04-30\", \"2007-05-07\", \"2007-05-14\", \"2007-05-21\", \"2007-06-04\", \"2007-06-11\", \"2007-06-18\", \"2007-06-25\", \"2007-07-02\", \"2007-07-16\", \"2007-07-23\", \"2007-07-30\", \"2007-08-06\"], \"xaxis\": \"x\", \"y\": [4, 5, 4, 3, 6, 4, 5, 10, 8, 2, 6, 21, 28, 24, 20, 40, 27, 42, 33, 37, 57, 71, 44, 56, 53, 52, 47, 26, 27, 21, 34, 37, 17, 19, 18, 21, 17, 16, 16, 15, 23, 17, 12, 10, 15, 19, 21, 14, 18, 23, 62, 76, 66, 64, 68, 89, 92, 140, 116, 142, 129, 140, 140, 127, 129, 169, 141, 108, 70, 104, 90, 85, 53, 40, 37, 30, 30, 28, 23, 24, 29, 26, 23, 19, 20, 26, 29, 31, 26, 32, 35, 33, 30, 52, 59, 65, 74, 70, 61, 53, 76, 61, 57, 44, 34, 47, 60, 60, 53, 31, 32, 28, 33, 35, 22, 13, 21, 17, 11, 8, 8, 6, 7, 17, 10, 10, 18, 19, 12, 21, 18, 16, 16, 22, 25, 23, 12, 25, 28, 27, 18, 23, 23, 29, 36, 46, 31, 25, 40, 38, 30, 31, 26, 35, 36, 39, 25, 31, 25, 24, 18, 23, 13, 18, 17, 22, 13, 24, 31, 34, 31, 38, 49, 42, 49, 55, 80, 72, 89, 115, 179, 202, 154, 91, 56, 46, 26, 17, 20, 11, 7, 16, 14, 2, 6, 4, 3, 4, 8, 7, 10, 14, 7, 11, 17, 19, 24, 17, 28, 40, 33, 31, 33, 29, 30, 36, 40, 28, 36, 19, 23, 17, 23, 14, 20, 13, 23, 20, 16, 23, 15, 4, 5, 11, 11, 4, 6, 2, 4, 2, 4, 6, 6, 6, 11, 16, 9, 13, 21, 19, 17, 27, 30, 29, 35, 33, 30, 29, 22, 26, 29, 33, 24, 30, 20, 17, 24, 9, 14, 11, 19, 10, 8, 8, 9, 3, 7, 14, 4, 9, 14, 7, 9, 3, 14, 12, 10, 26, 47, 42, 31, 34, 33, 52, 56, 47, 49, 66, 67, 68, 49, 50, 56, 75, 63, 41, 50, 31, 30, 32, 26, 30, 36, 48, 44, 51, 59, 71, 102, 128, 127, 150, 191, 256, 329, 263, 220, 204, 181, 99, 80, 102, 68, 64, 67, 85, 67, 73, 89, 68, 77, 75, 47, 28, 37, 37, 27, 12, 15, 22, 15, 17, 10, 9, 11, 16, 14, 13, 15, 30, 25, 44, 25, 48, 56, 60, 45, 55, 32, 42, 37, 43, 34, 40, 16, 17, 17, 16, 23, 18, 18, 9, 7, 3, 2, 8, 3, 1, 2, 3, 3, 2, 0, 2, 2, 0, 6, 3, 6, 2, 3, 2, 4, 5, 2, 9, 2, 8, 6, 3, 14, 15, 20, 9, 20, 28, 38, 30, 23, 16, 22, 28, 14, 20, 17, 13, 20, 9, 18, 9, 8, 11, 6, 13, 8, 8, 5, 16, 11, 18, 10, 22, 14, 16, 18, 27, 38, 35, 51, 65, 55, 54, 62, 64, 65, 71, 75, 71, 72, 47, 27, 35, 25, 19, 37, 38, 34, 26, 18, 22, 16, 18, 6, 12, 6, 6, 3, 7, 1, 3, 2, 2, 1, 10, 3, 2, 6, 3, 5, 4, 7, 6, 5, 7, 6, 4, 7, 9, 5, 10, 6, 13, 5, 5, 9, 3, 6, 11, 7, 7, 15, 9, 6, 6, 7, 10, 8, 7, 12, 3, 2, 5, 5, 7, 7, 7, 13, 10, 14, 11, 25, 17, 18, 25, 21, 31, 35, 28, 37, 34, 30, 39, 39, 34, 30, 37, 29, 26, 15, 22, 20, 10, 21, 14, 9, 11, 5, 6, 11, 3, 2, 5, 3, 12, 13, 10, 13, 13, 21, 18, 8, 7, 20, 14, 14, 7, 14, 10, 13, 18, 16, 20, 17, 4, 15, 8, 6, 12, 15, 11, 15, 17, 7, 7, 8, 9, 12, 5, 11, 4, 7, 1, 1, 2, 6, 4, 10, 12, 21, 21, 30, 45, 56, 75, 83, 126, 119, 131, 112, 82, 73, 43, 55, 55, 53, 46, 43, 29, 13, 17, 8, 13, 10, 17, 19, 9, 9, 9, 3, 7, 7, 0, 2, 1, 3, 3, 3, 7, 5, 5, 5, 6, 6, 4, 4, 8, 14, 12, 16, 10, 18, 15, 23, 17, 33, 15, 11, 14, 17, 20, 12, 21, 19, 10, 13, 10, 21, 11, 14, 14, 15, 16, 12, 20, 8, 3, 13, 4, 1, 10, 8, 13, 10, 18, 21, 34, 25, 34, 40, 42, 36, 72], \"yaxis\": \"y\"}, {\"line\": {\"color\": \"rgba(193,99,99,0.8)\"}, \"name\": \"gradientboosting_total\", \"showlegend\": true, \"type\": \"scatter\", \"x\": [\"1990-04-30\", \"1990-05-07\", \"1990-05-14\", \"1990-05-21\", \"1990-05-28\", \"1990-06-11\", \"1990-06-18\", \"1990-06-25\", \"1990-07-09\", \"1990-07-16\", \"1990-07-23\", \"1990-08-20\", \"1990-08-27\", \"1990-09-03\", \"1990-09-10\", \"1990-09-17\", \"1990-09-24\", \"1990-10-01\", \"1990-10-08\", \"1990-10-22\", \"1990-10-29\", \"1990-11-05\", \"1990-11-12\", \"1990-11-19\", \"1990-11-26\", \"1990-12-03\", \"1990-12-10\", \"1990-12-17\", \"1990-12-24\", \"1991-01-01\", \"1991-01-22\", \"1991-01-29\", \"1991-02-05\", \"1991-02-12\", \"1991-02-26\", \"1991-03-05\", \"1991-03-19\", \"1991-03-26\", \"1991-04-02\", \"1991-04-09\", \"1991-04-16\", \"1991-04-30\", \"1991-05-07\", \"1991-05-21\", \"1991-05-28\", \"1991-06-04\", \"1991-06-11\", \"1991-06-18\", \"1991-06-25\", \"1991-07-23\", \"1991-08-06\", \"1991-08-20\", \"1991-08-27\", \"1991-09-03\", \"1991-09-10\", \"1991-09-17\", \"1991-09-24\", \"1991-10-01\", \"1991-10-08\", \"1991-10-15\", \"1991-10-22\", \"1991-10-29\", \"1991-11-05\", \"1991-11-12\", \"1991-11-19\", \"1991-11-26\", \"1991-12-03\", \"1991-12-10\", \"1991-12-24\", \"1992-01-08\", \"1992-01-15\", \"1992-01-22\", \"1992-02-05\", \"1992-03-11\", \"1992-03-18\", \"1992-04-01\", \"1992-04-08\", \"1992-04-15\", \"1992-04-22\", \"1992-04-29\", \"1992-05-06\", \"1992-05-13\", \"1992-05-20\", \"1992-06-03\", \"1992-06-10\", \"1992-06-17\", \"1992-06-24\", \"1992-07-01\", \"1992-07-15\", \"1992-07-22\", \"1992-07-29\", \"1992-08-05\", \"1992-08-12\", \"1992-08-19\", \"1992-08-26\", \"1992-09-09\", \"1992-09-16\", \"1992-09-23\", \"1992-09-30\", \"1992-10-07\", \"1992-10-14\", \"1992-10-21\", \"1992-10-28\", \"1992-11-04\", \"1992-11-11\", \"1992-11-18\", \"1992-11-25\", \"1992-12-02\", \"1992-12-09\", \"1992-12-23\", \"1993-01-08\", \"1993-01-15\", \"1993-01-29\", \"1993-02-05\", \"1993-02-12\", \"1993-02-19\", \"1993-03-05\", \"1993-03-12\", \"1993-03-19\", \"1993-03-26\", \"1993-04-02\", \"1993-04-16\", \"1993-04-23\", \"1993-05-07\", \"1993-05-14\", \"1993-05-21\", \"1993-05-28\", \"1993-06-04\", \"1993-06-25\", \"1993-07-02\", \"1993-07-09\", \"1993-07-16\", \"1993-07-23\", \"1993-07-30\", \"1993-08-13\", \"1993-08-20\", \"1993-08-27\", \"1993-09-03\", \"1993-09-10\", \"1993-09-17\", \"1993-09-24\", \"1993-10-01\", \"1993-10-08\", \"1993-10-15\", \"1993-10-29\", \"1993-11-12\", \"1993-11-19\", \"1993-11-26\", \"1993-12-03\", \"1993-12-17\", \"1993-12-24\", \"1994-01-08\", \"1994-01-15\", \"1994-01-22\", \"1994-01-29\", \"1994-02-05\", \"1994-02-12\", \"1994-02-19\", \"1994-03-12\", \"1994-03-19\", \"1994-03-26\", \"1994-04-02\", \"1994-04-09\", \"1994-04-16\", \"1994-04-30\", \"1994-05-07\", \"1994-05-14\", \"1994-05-21\", \"1994-05-28\", \"1994-06-04\", \"1994-06-11\", \"1994-06-25\", \"1994-07-02\", \"1994-07-09\", \"1994-07-16\", \"1994-07-23\", \"1994-07-30\", \"1994-08-13\", \"1994-08-20\", \"1994-08-27\", \"1994-09-03\", \"1994-09-10\", \"1995-01-01\", \"1995-01-08\", \"1995-01-22\", \"1995-01-29\", \"1995-02-12\", \"1995-02-26\", \"1995-03-05\", \"1995-03-12\", \"1995-03-19\", \"1995-03-26\", \"1995-04-02\", \"1995-04-23\", \"1995-04-30\", \"1995-05-14\", \"1995-05-21\", \"1995-05-28\", \"1995-06-11\", \"1995-06-18\", \"1995-06-25\", \"1995-07-02\", \"1995-07-09\", \"1995-07-23\", \"1995-08-06\", \"1995-08-13\", \"1995-08-20\", \"1995-08-27\", \"1995-09-03\", \"1995-09-10\", \"1995-09-17\", \"1995-09-24\", \"1995-10-01\", \"1995-10-08\", \"1995-10-15\", \"1995-10-22\", \"1995-11-05\", \"1995-11-12\", \"1995-11-19\", \"1995-11-26\", \"1995-12-10\", \"1995-12-17\", \"1996-01-01\", \"1996-01-08\", \"1996-01-15\", \"1996-01-22\", \"1996-01-29\", \"1996-02-05\", \"1996-02-12\", \"1996-02-26\", \"1996-03-11\", \"1996-03-18\", \"1996-04-01\", \"1996-04-08\", \"1996-04-15\", \"1996-04-29\", \"1996-05-06\", \"1996-05-20\", \"1996-05-27\", \"1996-06-03\", \"1996-06-10\", \"1996-06-17\", \"1996-06-24\", \"1996-07-08\", \"1996-07-15\", \"1996-07-22\", \"1996-07-29\", \"1996-08-12\", \"1996-08-26\", \"1996-09-02\", \"1996-09-09\", \"1996-09-23\", \"1996-09-30\", \"1996-10-07\", \"1996-10-21\", \"1996-10-28\", \"1996-11-04\", \"1996-11-11\", \"1996-12-02\", \"1996-12-23\", \"1997-01-01\", \"1997-01-15\", \"1997-01-22\", \"1997-01-29\", \"1997-02-05\", \"1997-02-12\", \"1997-02-19\", \"1997-03-19\", \"1997-03-26\", \"1997-04-09\", \"1997-04-16\", \"1997-04-23\", \"1997-04-30\", \"1997-05-07\", \"1997-05-14\", \"1997-05-21\", \"1997-05-28\", \"1997-06-04\", \"1997-06-11\", \"1997-06-18\", \"1997-06-25\", \"1997-07-02\", \"1997-07-09\", \"1997-07-16\", \"1997-07-30\", \"1997-08-06\", \"1997-08-13\", \"1997-08-27\", \"1997-09-03\", \"1997-09-10\", \"1997-09-17\", \"1997-09-24\", \"1997-10-01\", \"1997-10-08\", \"1997-10-15\", \"1997-11-12\", \"1997-11-26\", \"1997-12-03\", \"1997-12-24\", \"1998-01-08\", \"1998-01-15\", \"1998-01-22\", \"1998-01-29\", \"1998-02-05\", \"1998-02-12\", \"1998-02-26\", \"1998-03-05\", \"1998-03-19\", \"1998-04-02\", \"1998-04-09\", \"1998-04-16\", \"1998-04-23\", \"1998-04-30\", \"1998-05-21\", \"1998-05-28\", \"1998-06-04\", \"1998-06-11\", \"1998-06-18\", \"1998-06-25\", \"1998-07-02\", \"1998-07-09\", \"1998-07-16\", \"1998-07-23\", \"1998-07-30\", \"1998-08-06\", \"1998-08-13\", \"1998-08-20\", \"1998-08-27\", \"1998-09-03\", \"1998-09-10\", \"1998-09-24\", \"1998-10-01\", \"1998-10-22\", \"1998-10-29\", \"1998-11-12\", \"1998-11-26\", \"1998-12-03\", \"1998-12-10\", \"1998-12-17\", \"1998-12-24\", \"1999-01-15\", \"1999-01-22\", \"1999-01-29\", \"1999-02-19\", \"1999-02-26\", \"1999-03-05\", \"1999-03-12\", \"1999-03-19\", \"1999-03-26\", \"1999-04-02\", \"1999-04-16\", \"1999-04-23\", \"1999-04-30\", \"1999-05-07\", \"1999-06-04\", \"1999-06-11\", \"1999-07-09\", \"1999-07-16\", \"1999-07-23\", \"1999-07-30\", \"1999-08-06\", \"1999-08-20\", \"1999-08-27\", \"1999-09-10\", \"1999-09-17\", \"1999-09-24\", \"1999-10-01\", \"1999-10-08\", \"1999-10-15\", \"1999-11-05\", \"1999-11-12\", \"1999-11-19\", \"1999-11-26\", \"1999-12-03\", \"1999-12-17\", \"1999-12-24\", \"2000-01-01\", \"2000-01-08\", \"2000-01-15\", \"2000-01-22\", \"2000-01-29\", \"2000-02-05\", \"2000-02-19\", \"2000-03-04\", \"2000-03-11\", \"2000-03-18\", \"2000-03-25\", \"2000-04-08\", \"2000-04-15\", \"2000-04-22\", \"2000-04-29\", \"2000-05-06\", \"2000-05-20\", \"2000-05-27\", \"2000-06-03\", \"2000-06-10\", \"2000-06-17\", \"2000-06-24\", \"2000-07-01\", \"2000-07-08\", \"2000-07-15\", \"2000-07-22\", \"2000-07-29\", \"2000-08-05\", \"2000-08-12\", \"2000-08-19\", \"2000-08-26\", \"2000-09-09\", \"2000-09-16\", \"2000-09-23\", \"2000-10-07\", \"2000-10-14\", \"2000-10-21\", \"2000-10-28\", \"2000-11-04\", \"2000-11-11\", \"2000-11-18\", \"2000-12-02\", \"2000-12-09\", \"2000-12-16\", \"2000-12-23\", \"2001-01-01\", \"2001-01-08\", \"2001-01-22\", \"2001-01-29\", \"2001-02-12\", \"2001-02-19\", \"2001-02-26\", \"2001-03-05\", \"2001-03-12\", \"2001-03-19\", \"2001-04-02\", \"2001-04-16\", \"2001-05-07\", \"2001-05-14\", \"2001-05-21\", \"2001-05-28\", \"2001-06-04\", \"2001-06-18\", \"2001-06-25\", \"2001-07-02\", \"2001-07-09\", \"2001-07-16\", \"2001-07-23\", \"2001-07-30\", \"2001-08-06\", \"2001-08-13\", \"2001-08-20\", \"2001-09-03\", \"2001-09-10\", \"2001-09-17\", \"2001-09-24\", \"2001-10-01\", \"2001-10-08\", \"2001-10-22\", \"2001-10-29\", \"2001-11-05\", \"2001-11-12\", \"2001-11-19\", \"2001-11-26\", \"2001-12-03\", \"2001-12-10\", \"2001-12-17\", \"2001-12-24\", \"2002-01-01\", \"2002-01-08\", \"2002-01-15\", \"2002-01-22\", \"2002-02-05\", \"2002-02-12\", \"2002-02-19\", \"2002-02-26\", \"2002-03-05\", \"2002-03-12\", \"2002-03-19\", \"2002-03-26\", \"2002-04-02\", \"2002-04-09\", \"2002-04-23\", \"2002-04-30\", \"2002-05-07\", \"2002-05-14\", \"2002-05-21\", \"2002-05-28\", \"2002-06-04\", \"2002-07-02\", \"2002-07-09\", \"2002-07-23\", \"2002-07-30\", \"2002-08-06\", \"2002-08-13\", \"2002-08-20\", \"2002-08-27\", \"2002-09-03\", \"2002-09-10\", \"2002-09-24\", \"2002-10-01\", \"2002-10-08\", \"2002-10-22\", \"2002-10-29\", \"2002-11-05\", \"2002-11-12\", \"2002-11-26\", \"2002-12-03\", \"2002-12-10\", \"2002-12-17\", \"2002-12-24\", \"2003-01-01\", \"2003-01-08\", \"2003-01-15\", \"2003-01-22\", \"2003-01-29\", \"2003-02-05\", \"2003-02-19\", \"2003-02-26\", \"2003-03-05\", \"2003-03-12\", \"2003-03-19\", \"2003-03-26\", \"2003-04-02\", \"2003-04-09\", \"2003-04-23\", \"2003-04-30\", \"2003-05-07\", \"2003-05-14\", \"2003-05-28\", \"2003-06-11\", \"2003-06-18\", \"2003-06-25\", \"2003-07-02\", \"2003-07-16\", \"2003-07-23\", \"2003-07-30\", \"2003-08-06\", \"2003-08-13\", \"2003-08-20\", \"2003-09-10\", \"2003-09-17\", \"2003-09-24\", \"2003-10-08\", \"2003-10-15\", \"2003-10-22\", \"2003-10-29\", \"2003-11-12\", \"2003-11-19\", \"2003-11-26\", \"2003-12-03\", \"2003-12-10\", \"2003-12-17\", \"2003-12-24\", \"2004-01-08\", \"2004-01-22\", \"2004-01-29\", \"2004-02-12\", \"2004-02-19\", \"2004-02-26\", \"2004-03-04\", \"2004-03-11\", \"2004-03-25\", \"2004-04-08\", \"2004-04-15\", \"2004-05-13\", \"2004-05-20\", \"2004-05-27\", \"2004-06-03\", \"2004-06-10\", \"2004-06-17\", \"2004-06-24\", \"2004-07-08\", \"2004-07-15\", \"2004-07-22\", \"2004-07-29\", \"2004-08-05\", \"2004-08-12\", \"2004-08-19\", \"2004-08-26\", \"2004-09-02\", \"2004-09-09\", \"2004-09-30\", \"2004-10-07\", \"2004-10-21\", \"2004-10-28\", \"2004-11-04\", \"2004-11-11\", \"2004-11-18\", \"2004-11-25\", \"2004-12-02\", \"2004-12-09\", \"2004-12-16\", \"2004-12-23\", \"2005-01-08\", \"2005-01-15\", \"2005-01-22\", \"2005-01-29\", \"2005-02-05\", \"2005-02-12\", \"2005-02-26\", \"2005-03-05\", \"2005-03-19\", \"2005-03-26\", \"2005-04-09\", \"2005-04-16\", \"2005-04-23\", \"2005-05-07\", \"2005-05-14\", \"2005-05-28\", \"2005-06-04\", \"2005-06-11\", \"2005-06-18\", \"2005-07-02\", \"2005-07-09\", \"2005-07-16\", \"2005-07-23\", \"2005-07-30\", \"2005-08-06\", \"2005-08-20\", \"2005-08-27\", \"2005-09-10\", \"2005-09-17\", \"2005-09-24\", \"2005-10-01\", \"2005-10-08\", \"2005-10-15\", \"2005-10-22\", \"2005-10-29\", \"2005-11-05\", \"2005-11-12\", \"2005-11-19\", \"2005-12-10\", \"2005-12-17\", \"2005-12-24\", \"2006-01-01\", \"2006-01-08\", \"2006-01-15\", \"2006-01-22\", \"2006-01-29\", \"2006-02-05\", \"2006-02-12\", \"2006-02-19\", \"2006-02-26\", \"2006-03-05\", \"2006-03-12\", \"2006-03-19\", \"2006-04-09\", \"2006-04-16\", \"2006-04-23\", \"2006-04-30\", \"2006-05-07\", \"2006-05-21\", \"2006-06-04\", \"2006-06-11\", \"2006-06-18\", \"2006-06-25\", \"2006-07-02\", \"2006-07-09\", \"2006-07-16\", \"2006-07-23\", \"2006-07-30\", \"2006-08-06\", \"2006-08-13\", \"2006-08-27\", \"2006-09-03\", \"2006-09-10\", \"2006-09-17\", \"2006-09-24\", \"2006-10-01\", \"2006-10-15\", \"2006-10-22\", \"2006-10-29\", \"2006-11-12\", \"2006-11-19\", \"2006-11-26\", \"2006-12-10\", \"2006-12-17\", \"2006-12-24\", \"2007-01-01\", \"2007-01-15\", \"2007-01-22\", \"2007-02-05\", \"2007-02-12\", \"2007-02-19\", \"2007-03-05\", \"2007-03-12\", \"2007-03-19\", \"2007-03-26\", \"2007-04-02\", \"2007-04-09\", \"2007-04-16\", \"2007-04-23\", \"2007-04-30\", \"2007-05-07\", \"2007-05-14\", \"2007-05-21\", \"2007-06-04\", \"2007-06-11\", \"2007-06-18\", \"2007-06-25\", \"2007-07-02\", \"2007-07-16\", \"2007-07-23\", \"2007-07-30\", \"2007-08-06\"], \"xaxis\": \"x\", \"y\": [10.47168577741139, 16.334532152397276, 16.610522170375283, 12.192676090085708, 11.74578301180102, 13.470081138045778, 15.294918721764873, 15.586940728312527, 15.234189083236082, 8.235153898028258, 23.43181297999289, 36.194526161407765, 30.65574635761706, 29.659531858050592, 34.81730306649365, 42.05269647907091, 37.72247653659815, 49.26301324809361, 45.37109389656669, 51.79006212666763, 45.629715158563435, 59.654234348734136, 44.60922034116441, 53.1871654672888, 58.347254581177246, 40.6866974260898, 53.95554416449544, 31.940199707161764, 35.388174467469234, 29.935179428285807, 28.44984139286078, 23.44620261961203, 21.332236421127327, 19.21501410884605, 22.8831822386891, 18.038676218332117, 17.456740487652752, 7.425704724830586, 15.490433537669233, 9.719887367022034, 16.193028778551692, 17.45191465740168, 10.983918076960538, 26.363104880874758, 16.191442742750436, 14.113605840044642, 21.89859759112201, 20.330155606644244, 20.739865208944227, 22.505321784453823, 43.985070797669415, 58.50409402814398, 41.90366196520538, 39.453098900310266, 42.63344897693845, 53.77612803152592, 62.793403011532185, 57.97562492372175, 77.76186617960188, 90.36841720807134, 69.12091311127939, 90.0391905697437, 69.84584090392084, 79.80887576091331, 47.22632983840788, 88.09729354270534, 74.22906665362555, 68.07733926981716, 45.799844608315155, 79.30063163690366, 62.2312239022619, 38.13049690759651, 31.115268607231517, 18.784702292246426, 18.72201899276061, 14.507644732233434, 18.597036192576102, 19.325878514288302, 18.13587229942883, 12.64204165581732, 13.485604655114297, 16.6050917436724, 15.006649063430597, 5.685526509191755, 19.194058286762072, 21.9291399788901, 27.278591392035334, 23.699728942491245, 18.868007058222638, 38.22949110052065, 45.345484597436894, 24.045642149853204, 46.61088323637502, 43.910218056357515, 46.81317706595549, 65.37781232944484, 47.30227837017691, 59.827804462112844, 41.27449595730431, 53.32900054498118, 64.56706811573335, 46.82872235474356, 51.967241975863416, 49.300431565847276, 42.284066324013835, 46.37484019247948, 63.235217951465515, 52.44441708046846, 56.50362929960241, 36.609881242390315, 30.11846784994569, 30.370312714041642, 28.74961607656387, 37.23108192805052, 24.730505854272515, 20.376753399969886, 18.651436374077594, 20.13157476376067, 11.772808939722893, 16.29936755029785, 19.845272445919175, 15.81922559193826, 19.8395766920959, 22.579216520876805, 17.375177538875008, 24.857607719479468, 11.563213482370958, 16.11952538461477, 28.35381661211675, 24.45664830551283, 23.784720825699672, 13.120267187999222, 26.477907563548605, 28.223460744667435, 28.708479837292558, 30.10027529303607, 37.802177505930494, 40.98273617316314, 41.41337935985766, 40.044279760172536, 44.14442943154254, 40.074000437451836, 48.25206691951235, 48.836217021033555, 43.6202910565693, 51.21352532502591, 40.62139468622075, 58.177931546039915, 44.47267988111934, 35.34854361947753, 37.0273621588384, 23.02792221821822, 29.00846627780263, 36.409821281863465, 29.239000837667195, 28.68216620111075, 26.487247846370206, 21.719063189999357, 14.638039193947726, 11.89291301376574, 14.485875249385078, 18.11339323996526, 16.9188237130167, 16.826465541770588, 14.33547532551044, 16.65357602925285, 17.12819992328255, 20.11431727537247, 16.306774678957915, 20.260709143559904, 15.667410100047487, 23.177036462330296, 23.181485102296193, 28.603707169530292, 25.975760289976733, 30.460820863604294, 49.16241893698314, 54.163327652481605, 41.31233212038868, 72.27687738296204, 158.18834137146, 170.36830885871083, 119.62841172557351, 56.62876562724888, 32.541206870304634, 33.07906790207216, 25.128037035848152, 20.7399291845657, 19.255035000549316, 17.28328844118808, 18.858540590054538, 14.912626185772577, 13.726518328370203, 8.950606152795972, 11.17497957401851, 8.320418989240947, 7.792441368993532, 13.479601432050575, 12.103800004176527, 18.391273766263943, 18.505306690426174, 4.254158271999177, 14.06695121247436, 24.62729614833714, 50.403427585728735, 35.000479449629985, 37.98135903373243, 37.38233892504087, 39.52178965600839, 44.783798403247, 47.67694912938507, 39.766528683640914, 40.522366613415144, 46.031806817310596, 48.85271347958946, 46.67181485099668, 36.05006746079727, 41.07661796360401, 45.306833481652816, 40.975786096819256, 41.163542614439876, 36.64280961071705, 26.536168813495532, 31.929321591828412, 33.34254558081528, 26.02332802885317, 25.49619092508416, 23.454195055978072, 21.084384451532387, 18.68728473444131, 16.00101506804907, 15.837524546420985, 11.774943518558553, 19.34283585873112, 17.1454147643532, 11.70822736475299, 9.025423422805755, 7.911241788823603, 10.589274936367042, 20.47353206689666, 12.447318402589188, 24.832213990575077, 11.696394855267169, 15.450598306604403, 17.89894898603394, 19.12439637036068, 22.383462902522457, 23.036762346076213, 30.15265433952656, 34.26147448257486, 42.20708435927513, 45.53921763162405, 40.630357633613144, 24.28068247349426, 41.49132475979572, 35.53851387391498, 31.0837289634708, 44.48494287616042, 18.259442701992864, 24.51613648141532, 33.98110531690158, 26.66180342445985, 26.14300511245375, 21.839762586242667, 21.752771944980406, 24.261506969113185, 16.823675087856813, 11.763918260359912, 13.899695488453938, 12.233675697140825, 11.498425053773776, 8.989011886748376, 8.177095850575887, 13.160670022959561, 12.684114365265584, 15.814648983135616, 7.349859716165496, 16.800911717313703, 15.356995824062514, 16.081166104295608, 15.237247427954529, 22.61359534166305, 15.729809492076805, 19.85148884665915, 23.299136385334922, 38.11029791993159, 30.357584612596362, 32.78000515778465, 40.22933194622696, 54.30422880740621, 32.27299026595719, 39.34586732905613, 41.80342826447051, 46.23036007595474, 58.28885500535742, 50.867115522811204, 43.67963318728846, 47.47596866772256, 54.77802187202081, 43.93670431427706, 36.12314656169662, 23.77747773040991, 33.86453942555251, 45.105306810873884, 41.13856790594296, 19.393599810218962, 19.73169085082599, 12.376507403966722, 11.378086079526893, 16.62202692529518, 14.316437856425175, 17.765417582241653, 12.881117616666897, 33.25921530428238, 44.54734948039843, 20.028837985740157, 46.54516873245017, 19.996586255541025, 67.00705583795882, 96.33863016951823, 78.38203686928331, 66.60445646776749, 122.92948269711955, 207.49420051984615, 258.6748050784798, 243.93547534225615, 203.3913669131832, 187.79977558189034, 150.0176942820416, 75.75786661674519, 66.27734766399585, 75.94445816710181, 47.84551959395312, 37.55165261864045, 50.96813502182862, 54.49104520054021, 48.126682973430285, 52.65528420567237, 48.03946290481328, 43.91462665138402, 46.16368828733466, 35.60196549367472, 35.56693301091863, 19.197875360055487, 22.956740226438573, 15.78901195613262, 15.683820264857621, 7.511926710825132, 14.874866600162168, 18.45412502496604, 12.203316367533027, 16.10082871468071, 14.71263494517249, 18.066795246549056, 11.999431106297102, 13.637988495341556, 16.31668819229461, 19.944995836708276, 17.46590485272232, 25.96994573433387, 38.82409954279379, 44.711627331239775, 35.67511920742155, 31.514379199724758, 50.79541744529154, 42.34279781410048, 44.79913248479714, 28.26703790639577, 38.54828095879877, 48.84101039144296, 39.66822382924983, 42.41090978931496, 36.270129593338396, 41.246739518121366, 22.057071261810805, 28.767090166747373, 26.506562081598275, 22.784181579035337, 23.855910494245574, 17.94479598984129, 19.525791360908837, 19.928918462433455, 23.014898053120667, 9.832143214957071, 14.544147870204547, 11.370446466335359, 16.11738012219825, 11.693927567141616, 16.691806183077496, 9.280299812000745, 14.920986433568924, 15.670324139056412, 13.739553344474645, 10.726869275714604, 11.370136821073041, 11.010499530150563, 8.880814233750918, 6.860637492740785, 15.736858813201714, 14.075612259132662, 16.91935953336812, 13.833652230418021, 25.530929746403572, 22.039689823169525, 23.985342204211694, 25.253185281282757, 28.264896879079064, 21.283710911746045, 28.709711574818314, 34.50776775770014, 23.693988205361617, 26.793002112230013, 28.475928491162247, 32.96491396334862, 35.99431801959208, 23.14567187014107, 24.68351750113315, 45.05453556157973, 31.634371553247377, 36.45075589323241, 30.969587246924572, 24.844087994009662, 27.517032235899126, 21.181795675554024, 19.241553498346757, 18.89166717202687, 17.48175828791845, 9.126771506209728, 16.164370862291136, 14.338470674234056, 12.628247996981148, 14.897658051908792, 13.230805758214116, 13.719083059287964, 11.482230699685854, 17.075948569603707, 21.77463208173966, 13.562889171107223, 16.178290345307552, 13.115509069234317, 14.590418937798663, 13.364894896020365, 22.743426056934418, 29.247119646550466, 30.527862251296717, 21.816065581643432, 36.331169327389915, 56.5960786933924, 33.352643600105594, 39.700035337007684, 37.87768887998233, 35.28444062712251, 46.80227896775315, 40.74395246176702, 55.640444335303776, 53.21194737975274, 46.38161220238738, 70.63853175789909, 47.65538314352329, 41.97397062105676, 30.60705169188095, 42.88538011136866, 32.58618350219404, 38.55717362874179, 30.739906225246873, 26.18340068922153, 31.382659669961708, 30.267524781573865, 22.456080010407234, 16.059915915391354, 16.161951813935065, 12.173931461829806, 10.072388847309217, 14.419092035224537, 10.065175209097719, 11.15108075888776, 10.154162496599998, 13.462986835767918, 9.363987651410486, 9.261038073100998, 5.192803753732711, 5.634340930220107, 9.206585302730913, 18.37742109518309, 15.039045418298068, 11.606152784102257, 4.741056933145295, 14.34311778485511, 30.235644224052038, 28.59427079452643, 28.15089083977895, 19.26387444623514, 20.615664664772453, 22.364888098128823, 26.305225338644487, 31.594792958065177, 31.35781017329766, 18.717584145972182, 22.725709376760808, 20.027375015096087, 22.568062863432832, 22.230653291717555, 23.52841125257586, 12.745018915343383, 18.868614683938244, 24.522308167829287, 21.615521798254143, 26.619060027823036, 22.652732714349753, 24.08986248135014, 30.211749766091046, 23.264815126104953, 24.499281671135453, 11.626795763112083, 10.710853719979147, 4.811741765167515, 12.960216587613056, 10.354023589138999, 8.516156843349266, 11.115158521681414, 8.691827397142449, 10.288736551247139, 9.661340945424836, 8.902771771113532, 7.476444945151933, 10.274029611792706, 15.206801627244783, 12.43378096376201, 14.431950972102374, 8.872170702546939, 15.033675633802254, 22.705569112852512, 25.70755539486328, 31.831440923018388, 23.360010745662297, 30.695666773322046, 37.35517238504523, 37.352447600551415, 42.59121691146337, 33.70380805672232, 38.904606107298, 37.894062559755824, 32.58797779926402, 38.86059150142876, 23.807269376480033, 27.71368433970046, 35.78771562717741, 24.353528689061996, 24.674659064673754, 25.625671011746245, 19.102979694213197, 16.689734915926653, 13.342840794706602, 14.982841043505315, 9.944863354678255, 16.822699283306388, 12.010600512320963, 14.024562568649339, 13.798643751111166, 8.262703684076238, 6.894058803052677, 5.597375114534994, 13.03506050111371, 9.503109406941391, 13.429133005384557, 12.083281606281922, 10.57867159713542, 8.59079006913663, 7.098416188295013, 14.391424354301268, 25.48768432261143, 18.904216333537455, 33.990551996811845, 37.87650098455474, 26.46371599361422, 23.580046196939772, 30.474473813472933, 29.3839584592443, 23.900480174685313, 22.534322192087117, 31.45598790890913, 39.84328086933618, 36.83177780087892, 23.677021289852313, 21.370214887091766, 16.974493159165355, 11.741858995670366, 20.329865740782274, 24.040940055555506, 26.922805204666997, 13.008343879284098, 18.816984338594597, 21.02850142663197, 21.0635849649345, 15.422949162504969, 10.638633785155374, 11.25073419129072, 15.050343421558656, 16.377502734885816, 10.75890659839231, 12.147025586648526, 8.277708011531814, 12.07017669164642, 0.27990712744515556, 9.950423513995133, 21.71913363082045, 24.733713229229426, 14.848293105955399, 11.264954968115868, 23.42556938233175, 36.92856992657077, 35.307666905458106, 35.87828481015918, 66.45300410301488, 67.62341148912445, 113.33289115769071, 90.0479158683245, 109.4351195656553, 111.61616226409602, 78.20918096372785, 47.94779301735252, 31.53237636088539, 39.813023753283865, 50.930353781390295, 69.18267412986577, 27.430824985532947, 44.75284296648828, 39.15006557234369, 32.26190565996074, 23.594472715640308, 28.331500157082427, 22.542994019613314, 19.097882141220968, 21.161241107111337, 19.809254177042156, 13.909048878591351, 18.21411359374825, 13.982415776937529, 13.01565500259905, 10.089814033670633, 6.306800721456472, 11.569173046288867, 6.998745879238466, 9.925752936005049, 8.525754020037382, 10.848301765127502, 9.979904500108557, 12.03304259445579, 12.11068572289855, 16.771722976164614, 15.590596562368685, 7.760513207073192, 10.561188648660613, 19.739574806637155, 13.307368432142638, 11.4557749543966, 17.366467042589022, 17.35625468016729, 31.011403272271984, 20.40720879372621, 25.575028354414698, 31.742445250290448, 33.11394279265705, 32.384929141377555, 31.239162000297497, 32.05863154648125, 18.37109287756656, 30.676341794301997, 24.261082963686285, 25.87489641449441, 21.58137684123898, 42.41488345194084, 27.107062011971248, 33.62246942740689, 34.675992988445195, 18.461076108976965, 25.476125673513945, 20.836212121293954, 14.999664334683978, 13.620335793849996, 22.494165730774455, 17.641151453665533, 9.039433949212693, 11.565218262819739, 15.391741315271782, 13.40924707789236, 6.7015067144870955, 16.97410275616283, 17.077676406386352, 8.265081648071996, 8.28537962364153, 13.411909388305745, 11.316128742557783, 10.820791674152126, 21.062400168011656, 26.03180028824296, 21.797396171624253, 15.121827496684775, 26.75069826972985, 33.025300900434374, 26.766902147440895, 55.68274351241765], \"yaxis\": \"y\"}],\n",
              "                        {\"autosize\": false, \"height\": 600, \"template\": {\"data\": {\"bar\": [{\"error_x\": {\"color\": \"#2a3f5f\"}, \"error_y\": {\"color\": \"#2a3f5f\"}, \"marker\": {\"line\": {\"color\": \"#E5ECF6\", \"width\": 0.5}}, \"type\": \"bar\"}], \"barpolar\": [{\"marker\": {\"line\": {\"color\": \"#E5ECF6\", \"width\": 0.5}}, \"type\": \"barpolar\"}], \"carpet\": [{\"aaxis\": {\"endlinecolor\": \"#2a3f5f\", \"gridcolor\": \"white\", \"linecolor\": \"white\", \"minorgridcolor\": \"white\", \"startlinecolor\": \"#2a3f5f\"}, \"baxis\": {\"endlinecolor\": \"#2a3f5f\", \"gridcolor\": \"white\", \"linecolor\": \"white\", \"minorgridcolor\": \"white\", \"startlinecolor\": \"#2a3f5f\"}, \"type\": \"carpet\"}], \"choropleth\": [{\"colorbar\": {\"outlinewidth\": 0, \"ticks\": \"\"}, \"type\": \"choropleth\"}], \"contour\": [{\"colorbar\": {\"outlinewidth\": 0, \"ticks\": \"\"}, \"colorscale\": [[0.0, \"#0d0887\"], [0.1111111111111111, \"#46039f\"], [0.2222222222222222, \"#7201a8\"], [0.3333333333333333, \"#9c179e\"], [0.4444444444444444, \"#bd3786\"], [0.5555555555555556, \"#d8576b\"], [0.6666666666666666, \"#ed7953\"], [0.7777777777777778, \"#fb9f3a\"], [0.8888888888888888, \"#fdca26\"], [1.0, \"#f0f921\"]], \"type\": \"contour\"}], \"contourcarpet\": [{\"colorbar\": {\"outlinewidth\": 0, \"ticks\": \"\"}, \"type\": \"contourcarpet\"}], \"heatmap\": [{\"colorbar\": {\"outlinewidth\": 0, \"ticks\": \"\"}, \"colorscale\": [[0.0, \"#0d0887\"], [0.1111111111111111, \"#46039f\"], [0.2222222222222222, \"#7201a8\"], [0.3333333333333333, \"#9c179e\"], [0.4444444444444444, \"#bd3786\"], [0.5555555555555556, \"#d8576b\"], [0.6666666666666666, \"#ed7953\"], [0.7777777777777778, \"#fb9f3a\"], [0.8888888888888888, \"#fdca26\"], [1.0, \"#f0f921\"]], \"type\": \"heatmap\"}], \"heatmapgl\": [{\"colorbar\": {\"outlinewidth\": 0, \"ticks\": \"\"}, \"colorscale\": [[0.0, \"#0d0887\"], [0.1111111111111111, \"#46039f\"], [0.2222222222222222, \"#7201a8\"], [0.3333333333333333, \"#9c179e\"], [0.4444444444444444, \"#bd3786\"], [0.5555555555555556, \"#d8576b\"], [0.6666666666666666, \"#ed7953\"], [0.7777777777777778, \"#fb9f3a\"], [0.8888888888888888, \"#fdca26\"], [1.0, \"#f0f921\"]], \"type\": \"heatmapgl\"}], \"histogram\": [{\"marker\": {\"colorbar\": {\"outlinewidth\": 0, \"ticks\": \"\"}}, \"type\": \"histogram\"}], \"histogram2d\": [{\"colorbar\": {\"outlinewidth\": 0, \"ticks\": \"\"}, \"colorscale\": [[0.0, \"#0d0887\"], [0.1111111111111111, \"#46039f\"], [0.2222222222222222, \"#7201a8\"], [0.3333333333333333, \"#9c179e\"], [0.4444444444444444, \"#bd3786\"], [0.5555555555555556, \"#d8576b\"], [0.6666666666666666, \"#ed7953\"], [0.7777777777777778, \"#fb9f3a\"], [0.8888888888888888, \"#fdca26\"], [1.0, \"#f0f921\"]], \"type\": \"histogram2d\"}], \"histogram2dcontour\": [{\"colorbar\": {\"outlinewidth\": 0, \"ticks\": \"\"}, \"colorscale\": [[0.0, \"#0d0887\"], [0.1111111111111111, \"#46039f\"], [0.2222222222222222, \"#7201a8\"], [0.3333333333333333, \"#9c179e\"], [0.4444444444444444, \"#bd3786\"], [0.5555555555555556, \"#d8576b\"], [0.6666666666666666, \"#ed7953\"], [0.7777777777777778, \"#fb9f3a\"], [0.8888888888888888, \"#fdca26\"], [1.0, \"#f0f921\"]], \"type\": \"histogram2dcontour\"}], \"mesh3d\": [{\"colorbar\": {\"outlinewidth\": 0, \"ticks\": \"\"}, \"type\": \"mesh3d\"}], \"parcoords\": [{\"line\": {\"colorbar\": {\"outlinewidth\": 0, \"ticks\": \"\"}}, \"type\": \"parcoords\"}], \"pie\": [{\"automargin\": true, \"type\": \"pie\"}], \"scatter\": [{\"marker\": {\"colorbar\": {\"outlinewidth\": 0, \"ticks\": \"\"}}, \"type\": \"scatter\"}], \"scatter3d\": [{\"line\": {\"colorbar\": {\"outlinewidth\": 0, \"ticks\": \"\"}}, \"marker\": {\"colorbar\": {\"outlinewidth\": 0, \"ticks\": \"\"}}, \"type\": \"scatter3d\"}], \"scattercarpet\": [{\"marker\": {\"colorbar\": {\"outlinewidth\": 0, \"ticks\": \"\"}}, \"type\": \"scattercarpet\"}], \"scattergeo\": [{\"marker\": {\"colorbar\": {\"outlinewidth\": 0, \"ticks\": \"\"}}, \"type\": \"scattergeo\"}], \"scattergl\": [{\"marker\": {\"colorbar\": {\"outlinewidth\": 0, \"ticks\": \"\"}}, \"type\": \"scattergl\"}], \"scattermapbox\": [{\"marker\": {\"colorbar\": {\"outlinewidth\": 0, \"ticks\": \"\"}}, \"type\": \"scattermapbox\"}], \"scatterpolar\": [{\"marker\": {\"colorbar\": {\"outlinewidth\": 0, \"ticks\": \"\"}}, \"type\": \"scatterpolar\"}], \"scatterpolargl\": [{\"marker\": {\"colorbar\": {\"outlinewidth\": 0, \"ticks\": \"\"}}, \"type\": \"scatterpolargl\"}], \"scatterternary\": [{\"marker\": {\"colorbar\": {\"outlinewidth\": 0, \"ticks\": \"\"}}, \"type\": \"scatterternary\"}], \"surface\": [{\"colorbar\": {\"outlinewidth\": 0, \"ticks\": \"\"}, \"colorscale\": [[0.0, \"#0d0887\"], [0.1111111111111111, \"#46039f\"], [0.2222222222222222, \"#7201a8\"], [0.3333333333333333, \"#9c179e\"], [0.4444444444444444, \"#bd3786\"], [0.5555555555555556, \"#d8576b\"], [0.6666666666666666, \"#ed7953\"], [0.7777777777777778, \"#fb9f3a\"], [0.8888888888888888, \"#fdca26\"], [1.0, \"#f0f921\"]], \"type\": \"surface\"}], \"table\": [{\"cells\": {\"fill\": {\"color\": \"#EBF0F8\"}, \"line\": {\"color\": \"white\"}}, \"header\": {\"fill\": {\"color\": \"#C8D4E3\"}, \"line\": {\"color\": \"white\"}}, \"type\": \"table\"}]}, \"layout\": {\"annotationdefaults\": {\"arrowcolor\": \"#2a3f5f\", \"arrowhead\": 0, \"arrowwidth\": 1}, \"coloraxis\": {\"colorbar\": {\"outlinewidth\": 0, \"ticks\": \"\"}}, \"colorscale\": {\"diverging\": [[0, \"#8e0152\"], [0.1, \"#c51b7d\"], [0.2, \"#de77ae\"], [0.3, \"#f1b6da\"], [0.4, \"#fde0ef\"], [0.5, \"#f7f7f7\"], [0.6, \"#e6f5d0\"], [0.7, \"#b8e186\"], [0.8, \"#7fbc41\"], [0.9, \"#4d9221\"], [1, \"#276419\"]], \"sequential\": [[0.0, \"#0d0887\"], [0.1111111111111111, \"#46039f\"], [0.2222222222222222, \"#7201a8\"], [0.3333333333333333, \"#9c179e\"], [0.4444444444444444, \"#bd3786\"], [0.5555555555555556, \"#d8576b\"], [0.6666666666666666, \"#ed7953\"], [0.7777777777777778, \"#fb9f3a\"], [0.8888888888888888, \"#fdca26\"], [1.0, \"#f0f921\"]], \"sequentialminus\": [[0.0, \"#0d0887\"], [0.1111111111111111, \"#46039f\"], [0.2222222222222222, \"#7201a8\"], [0.3333333333333333, \"#9c179e\"], [0.4444444444444444, \"#bd3786\"], [0.5555555555555556, \"#d8576b\"], [0.6666666666666666, \"#ed7953\"], [0.7777777777777778, \"#fb9f3a\"], [0.8888888888888888, \"#fdca26\"], [1.0, \"#f0f921\"]]}, \"colorway\": [\"#636efa\", \"#EF553B\", \"#00cc96\", \"#ab63fa\", \"#FFA15A\", \"#19d3f3\", \"#FF6692\", \"#B6E880\", \"#FF97FF\", \"#FECB52\"], \"font\": {\"color\": \"#2a3f5f\"}, \"geo\": {\"bgcolor\": \"white\", \"lakecolor\": \"white\", \"landcolor\": \"#E5ECF6\", \"showlakes\": true, \"showland\": true, \"subunitcolor\": \"white\"}, \"hoverlabel\": {\"align\": \"left\"}, \"hovermode\": \"closest\", \"mapbox\": {\"style\": \"light\"}, \"paper_bgcolor\": \"white\", \"plot_bgcolor\": \"#E5ECF6\", \"polar\": {\"angularaxis\": {\"gridcolor\": \"white\", \"linecolor\": \"white\", \"ticks\": \"\"}, \"bgcolor\": \"#E5ECF6\", \"radialaxis\": {\"gridcolor\": \"white\", \"linecolor\": \"white\", \"ticks\": \"\"}}, \"scene\": {\"xaxis\": {\"backgroundcolor\": \"#E5ECF6\", \"gridcolor\": \"white\", \"gridwidth\": 2, \"linecolor\": \"white\", \"showbackground\": true, \"ticks\": \"\", \"zerolinecolor\": \"white\"}, \"yaxis\": {\"backgroundcolor\": \"#E5ECF6\", \"gridcolor\": \"white\", \"gridwidth\": 2, \"linecolor\": \"white\", \"showbackground\": true, \"ticks\": \"\", \"zerolinecolor\": \"white\"}, \"zaxis\": {\"backgroundcolor\": \"#E5ECF6\", \"gridcolor\": \"white\", \"gridwidth\": 2, \"linecolor\": \"white\", \"showbackground\": true, \"ticks\": \"\", \"zerolinecolor\": \"white\"}}, \"shapedefaults\": {\"line\": {\"color\": \"#2a3f5f\"}}, \"ternary\": {\"aaxis\": {\"gridcolor\": \"white\", \"linecolor\": \"white\", \"ticks\": \"\"}, \"baxis\": {\"gridcolor\": \"white\", \"linecolor\": \"white\", \"ticks\": \"\"}, \"bgcolor\": \"#E5ECF6\", \"caxis\": {\"gridcolor\": \"white\", \"linecolor\": \"white\", \"ticks\": \"\"}}, \"title\": {\"x\": 0.05}, \"xaxis\": {\"automargin\": true, \"gridcolor\": \"white\", \"linecolor\": \"white\", \"ticks\": \"\", \"title\": {\"standoff\": 15}, \"zerolinecolor\": \"white\", \"zerolinewidth\": 2}, \"yaxis\": {\"automargin\": true, \"gridcolor\": \"white\", \"linecolor\": \"white\", \"ticks\": \"\", \"title\": {\"standoff\": 15}, \"zerolinecolor\": \"white\", \"zerolinewidth\": 2}}}, \"title\": {\"text\": \"GradientBoostingRegressor\"}, \"width\": 1200, \"xaxis\": {\"anchor\": \"y\", \"domain\": [0.0, 1.0]}, \"yaxis\": {\"anchor\": \"x\", \"domain\": [0.0, 1.0]}},\n",
              "                        {\"responsive\": true}\n",
              "                    ).then(function(){\n",
              "                            \n",
              "var gd = document.getElementById('9644c829-997d-4dd4-a57d-da98a2bbeae8');\n",
              "var x = new MutationObserver(function (mutations, observer) {{\n",
              "        var display = window.getComputedStyle(gd).display;\n",
              "        if (!display || display === 'none') {{\n",
              "            console.log([gd, 'removed!']);\n",
              "            Plotly.purge(gd);\n",
              "            observer.disconnect();\n",
              "        }}\n",
              "}});\n",
              "\n",
              "// Listen for the removal of the full notebook cells\n",
              "var notebookContainer = gd.closest('#notebook-container');\n",
              "if (notebookContainer) {{\n",
              "    x.observe(notebookContainer, {childList: true});\n",
              "}}\n",
              "\n",
              "// Listen for the clearing of the current output cell\n",
              "var outputEl = gd.closest('.output');\n",
              "if (outputEl) {{\n",
              "    x.observe(outputEl, {childList: true});\n",
              "}}\n",
              "\n",
              "                        })\n",
              "                };\n",
              "                \n",
              "            </script>\n",
              "        </div>\n",
              "</body>\n",
              "</html>"
            ]
          },
          "metadata": {
            "tags": []
          }
        }
      ]
    },
    {
      "cell_type": "markdown",
      "metadata": {
        "id": "3Q5s3InJZv5e"
      },
      "source": [
        "-Na-  estimation: Próbáljuk megbecsülni a hiányzó adatokat."
      ]
    },
    {
      "cell_type": "code",
      "metadata": {
        "id": "a7xh3fW93OZq"
      },
      "source": [
        "ndv=[\"ndvi_ne\",\"ndvi_nw\",\"ndvi_se\",\"ndvi_sw\"]"
      ],
      "execution_count": 42,
      "outputs": []
    },
    {
      "cell_type": "code",
      "metadata": {
        "id": "1Z4xI9ZE3F-E"
      },
      "source": [
        "XX_ndv=X_train_sj[ndv]"
      ],
      "execution_count": 43,
      "outputs": []
    },
    {
      "cell_type": "code",
      "metadata": {
        "id": "-U8gt-jS3azh",
        "colab": {
          "base_uri": "https://localhost:8080/",
          "height": 417
        },
        "outputId": "d7d59e0e-2247-4c0a-f202-f4a2373870b3"
      },
      "source": [
        "XX_ndv"
      ],
      "execution_count": 44,
      "outputs": [
        {
          "output_type": "execute_result",
          "data": {
            "text/html": [
              "<div>\n",
              "<style scoped>\n",
              "    .dataframe tbody tr th:only-of-type {\n",
              "        vertical-align: middle;\n",
              "    }\n",
              "\n",
              "    .dataframe tbody tr th {\n",
              "        vertical-align: top;\n",
              "    }\n",
              "\n",
              "    .dataframe thead th {\n",
              "        text-align: right;\n",
              "    }\n",
              "</style>\n",
              "<table border=\"1\" class=\"dataframe\">\n",
              "  <thead>\n",
              "    <tr style=\"text-align: right;\">\n",
              "      <th></th>\n",
              "      <th>ndvi_ne</th>\n",
              "      <th>ndvi_nw</th>\n",
              "      <th>ndvi_se</th>\n",
              "      <th>ndvi_sw</th>\n",
              "    </tr>\n",
              "  </thead>\n",
              "  <tbody>\n",
              "    <tr>\n",
              "      <th>0</th>\n",
              "      <td>0.122600</td>\n",
              "      <td>0.103725</td>\n",
              "      <td>0.198483</td>\n",
              "      <td>0.177617</td>\n",
              "    </tr>\n",
              "    <tr>\n",
              "      <th>1</th>\n",
              "      <td>0.169900</td>\n",
              "      <td>0.142175</td>\n",
              "      <td>0.162357</td>\n",
              "      <td>0.155486</td>\n",
              "    </tr>\n",
              "    <tr>\n",
              "      <th>2</th>\n",
              "      <td>0.032250</td>\n",
              "      <td>0.172967</td>\n",
              "      <td>0.157200</td>\n",
              "      <td>0.170843</td>\n",
              "    </tr>\n",
              "    <tr>\n",
              "      <th>3</th>\n",
              "      <td>0.128633</td>\n",
              "      <td>0.245067</td>\n",
              "      <td>0.227557</td>\n",
              "      <td>0.235886</td>\n",
              "    </tr>\n",
              "    <tr>\n",
              "      <th>4</th>\n",
              "      <td>0.196200</td>\n",
              "      <td>0.262200</td>\n",
              "      <td>0.251200</td>\n",
              "      <td>0.247340</td>\n",
              "    </tr>\n",
              "    <tr>\n",
              "      <th>...</th>\n",
              "      <td>...</td>\n",
              "      <td>...</td>\n",
              "      <td>...</td>\n",
              "      <td>...</td>\n",
              "    </tr>\n",
              "    <tr>\n",
              "      <th>930</th>\n",
              "      <td>0.044900</td>\n",
              "      <td>0.024450</td>\n",
              "      <td>0.101629</td>\n",
              "      <td>0.088000</td>\n",
              "    </tr>\n",
              "    <tr>\n",
              "      <th>931</th>\n",
              "      <td>0.077850</td>\n",
              "      <td>-0.039900</td>\n",
              "      <td>0.310471</td>\n",
              "      <td>0.296243</td>\n",
              "    </tr>\n",
              "    <tr>\n",
              "      <th>932</th>\n",
              "      <td>-0.038000</td>\n",
              "      <td>-0.016833</td>\n",
              "      <td>0.119371</td>\n",
              "      <td>0.066386</td>\n",
              "    </tr>\n",
              "    <tr>\n",
              "      <th>933</th>\n",
              "      <td>-0.155200</td>\n",
              "      <td>-0.052750</td>\n",
              "      <td>0.137757</td>\n",
              "      <td>0.141214</td>\n",
              "    </tr>\n",
              "    <tr>\n",
              "      <th>935</th>\n",
              "      <td>-0.037000</td>\n",
              "      <td>-0.010367</td>\n",
              "      <td>0.077314</td>\n",
              "      <td>0.090586</td>\n",
              "    </tr>\n",
              "  </tbody>\n",
              "</table>\n",
              "<p>727 rows × 4 columns</p>\n",
              "</div>"
            ],
            "text/plain": [
              "      ndvi_ne   ndvi_nw   ndvi_se   ndvi_sw\n",
              "0    0.122600  0.103725  0.198483  0.177617\n",
              "1    0.169900  0.142175  0.162357  0.155486\n",
              "2    0.032250  0.172967  0.157200  0.170843\n",
              "3    0.128633  0.245067  0.227557  0.235886\n",
              "4    0.196200  0.262200  0.251200  0.247340\n",
              "..        ...       ...       ...       ...\n",
              "930  0.044900  0.024450  0.101629  0.088000\n",
              "931  0.077850 -0.039900  0.310471  0.296243\n",
              "932 -0.038000 -0.016833  0.119371  0.066386\n",
              "933 -0.155200 -0.052750  0.137757  0.141214\n",
              "935 -0.037000 -0.010367  0.077314  0.090586\n",
              "\n",
              "[727 rows x 4 columns]"
            ]
          },
          "metadata": {
            "tags": []
          },
          "execution_count": 44
        }
      ]
    },
    {
      "cell_type": "code",
      "metadata": {
        "id": "J2w_DRmJ4eIU"
      },
      "source": [
        "ndv_features=[\"ndvi_nw\",\"ndvi_se\",\"ndvi_sw\"]\n"
      ],
      "execution_count": 45,
      "outputs": []
    },
    {
      "cell_type": "code",
      "metadata": {
        "id": "8mUeRG8a4oCV",
        "colab": {
          "base_uri": "https://localhost:8080/"
        },
        "outputId": "f45d069c-85ae-415e-ce82-da5e719b87bb"
      },
      "source": [
        "from sklearn.linear_model import Lasso\n",
        "from sklearn.linear_model import Ridge\n",
        "from sklearn.ensemble import RandomForestRegressor\n",
        "from sklearn.ensemble import GradientBoostingRegressor\n",
        "\n",
        "ne_regressor=GradientBoostingRegressor(n_estimators=140)\n",
        "\n",
        "yy=XX_ndv[['ndvi_ne']]\n",
        "ne_regressor.fit(XX_ndv[ndv_features],yy)\n",
        "y_pred=ne_regressor.predict(XX_ndv[ndv_features])\n",
        "\n",
        "\n",
        "\n",
        "\n",
        "\n"
      ],
      "execution_count": 46,
      "outputs": [
        {
          "output_type": "stream",
          "text": [
            "/usr/local/lib/python3.7/dist-packages/sklearn/ensemble/_gb.py:1454: DataConversionWarning:\n",
            "\n",
            "A column-vector y was passed when a 1d array was expected. Please change the shape of y to (n_samples, ), for example using ravel().\n",
            "\n"
          ],
          "name": "stderr"
        }
      ]
    },
    {
      "cell_type": "code",
      "metadata": {
        "id": "qUFMaSqZPrgO"
      },
      "source": [
        ""
      ],
      "execution_count": 46,
      "outputs": []
    },
    {
      "cell_type": "code",
      "metadata": {
        "id": "rVBNQDml5HH1",
        "colab": {
          "base_uri": "https://localhost:8080/"
        },
        "outputId": "52edd7d0-d7db-4300-b708-b3b78b7f13ce"
      },
      "source": [
        "XX_ndv[\"ne_pred\"]=y_pred"
      ],
      "execution_count": 47,
      "outputs": [
        {
          "output_type": "stream",
          "text": [
            "/usr/local/lib/python3.7/dist-packages/ipykernel_launcher.py:1: SettingWithCopyWarning:\n",
            "\n",
            "\n",
            "A value is trying to be set on a copy of a slice from a DataFrame.\n",
            "Try using .loc[row_indexer,col_indexer] = value instead\n",
            "\n",
            "See the caveats in the documentation: https://pandas.pydata.org/pandas-docs/stable/user_guide/indexing.html#returning-a-view-versus-a-copy\n",
            "\n"
          ],
          "name": "stderr"
        }
      ]
    },
    {
      "cell_type": "code",
      "metadata": {
        "id": "QgP-I6EU5WoF",
        "colab": {
          "base_uri": "https://localhost:8080/",
          "height": 357
        },
        "outputId": "6e5458a2-9110-4c10-8ce1-26d5e1f10f63"
      },
      "source": [
        "XX_ndv.head(10)"
      ],
      "execution_count": 48,
      "outputs": [
        {
          "output_type": "execute_result",
          "data": {
            "text/html": [
              "<div>\n",
              "<style scoped>\n",
              "    .dataframe tbody tr th:only-of-type {\n",
              "        vertical-align: middle;\n",
              "    }\n",
              "\n",
              "    .dataframe tbody tr th {\n",
              "        vertical-align: top;\n",
              "    }\n",
              "\n",
              "    .dataframe thead th {\n",
              "        text-align: right;\n",
              "    }\n",
              "</style>\n",
              "<table border=\"1\" class=\"dataframe\">\n",
              "  <thead>\n",
              "    <tr style=\"text-align: right;\">\n",
              "      <th></th>\n",
              "      <th>ndvi_ne</th>\n",
              "      <th>ndvi_nw</th>\n",
              "      <th>ndvi_se</th>\n",
              "      <th>ndvi_sw</th>\n",
              "      <th>ne_pred</th>\n",
              "    </tr>\n",
              "  </thead>\n",
              "  <tbody>\n",
              "    <tr>\n",
              "      <th>0</th>\n",
              "      <td>0.122600</td>\n",
              "      <td>0.103725</td>\n",
              "      <td>0.198483</td>\n",
              "      <td>0.177617</td>\n",
              "      <td>0.089770</td>\n",
              "    </tr>\n",
              "    <tr>\n",
              "      <th>1</th>\n",
              "      <td>0.169900</td>\n",
              "      <td>0.142175</td>\n",
              "      <td>0.162357</td>\n",
              "      <td>0.155486</td>\n",
              "      <td>0.130848</td>\n",
              "    </tr>\n",
              "    <tr>\n",
              "      <th>2</th>\n",
              "      <td>0.032250</td>\n",
              "      <td>0.172967</td>\n",
              "      <td>0.157200</td>\n",
              "      <td>0.170843</td>\n",
              "      <td>0.131688</td>\n",
              "    </tr>\n",
              "    <tr>\n",
              "      <th>3</th>\n",
              "      <td>0.128633</td>\n",
              "      <td>0.245067</td>\n",
              "      <td>0.227557</td>\n",
              "      <td>0.235886</td>\n",
              "      <td>0.134268</td>\n",
              "    </tr>\n",
              "    <tr>\n",
              "      <th>4</th>\n",
              "      <td>0.196200</td>\n",
              "      <td>0.262200</td>\n",
              "      <td>0.251200</td>\n",
              "      <td>0.247340</td>\n",
              "      <td>0.200626</td>\n",
              "    </tr>\n",
              "    <tr>\n",
              "      <th>6</th>\n",
              "      <td>0.112900</td>\n",
              "      <td>0.092800</td>\n",
              "      <td>0.205071</td>\n",
              "      <td>0.210271</td>\n",
              "      <td>0.070552</td>\n",
              "    </tr>\n",
              "    <tr>\n",
              "      <th>7</th>\n",
              "      <td>0.072500</td>\n",
              "      <td>0.072500</td>\n",
              "      <td>0.151471</td>\n",
              "      <td>0.133029</td>\n",
              "      <td>0.038776</td>\n",
              "    </tr>\n",
              "    <tr>\n",
              "      <th>8</th>\n",
              "      <td>0.102450</td>\n",
              "      <td>0.146175</td>\n",
              "      <td>0.125571</td>\n",
              "      <td>0.123600</td>\n",
              "      <td>0.107953</td>\n",
              "    </tr>\n",
              "    <tr>\n",
              "      <th>10</th>\n",
              "      <td>0.192875</td>\n",
              "      <td>0.082350</td>\n",
              "      <td>0.191943</td>\n",
              "      <td>0.152929</td>\n",
              "      <td>0.108049</td>\n",
              "    </tr>\n",
              "    <tr>\n",
              "      <th>11</th>\n",
              "      <td>0.291600</td>\n",
              "      <td>0.211800</td>\n",
              "      <td>0.301200</td>\n",
              "      <td>0.280667</td>\n",
              "      <td>0.302377</td>\n",
              "    </tr>\n",
              "  </tbody>\n",
              "</table>\n",
              "</div>"
            ],
            "text/plain": [
              "     ndvi_ne   ndvi_nw   ndvi_se   ndvi_sw   ne_pred\n",
              "0   0.122600  0.103725  0.198483  0.177617  0.089770\n",
              "1   0.169900  0.142175  0.162357  0.155486  0.130848\n",
              "2   0.032250  0.172967  0.157200  0.170843  0.131688\n",
              "3   0.128633  0.245067  0.227557  0.235886  0.134268\n",
              "4   0.196200  0.262200  0.251200  0.247340  0.200626\n",
              "6   0.112900  0.092800  0.205071  0.210271  0.070552\n",
              "7   0.072500  0.072500  0.151471  0.133029  0.038776\n",
              "8   0.102450  0.146175  0.125571  0.123600  0.107953\n",
              "10  0.192875  0.082350  0.191943  0.152929  0.108049\n",
              "11  0.291600  0.211800  0.301200  0.280667  0.302377"
            ]
          },
          "metadata": {
            "tags": []
          },
          "execution_count": 48
        }
      ]
    },
    {
      "cell_type": "code",
      "metadata": {
        "id": "kEekSa9J7kPi",
        "colab": {
          "base_uri": "https://localhost:8080/"
        },
        "outputId": "bcc868e3-238c-4928-d70b-18f424bee175"
      },
      "source": [
        "XX_ndv[\"ssz\"]=XX_ndv.index"
      ],
      "execution_count": 49,
      "outputs": [
        {
          "output_type": "stream",
          "text": [
            "/usr/local/lib/python3.7/dist-packages/ipykernel_launcher.py:1: SettingWithCopyWarning:\n",
            "\n",
            "\n",
            "A value is trying to be set on a copy of a slice from a DataFrame.\n",
            "Try using .loc[row_indexer,col_indexer] = value instead\n",
            "\n",
            "See the caveats in the documentation: https://pandas.pydata.org/pandas-docs/stable/user_guide/indexing.html#returning-a-view-versus-a-copy\n",
            "\n"
          ],
          "name": "stderr"
        }
      ]
    },
    {
      "cell_type": "code",
      "metadata": {
        "id": "9CRD_0m36-AF",
        "colab": {
          "base_uri": "https://localhost:8080/",
          "height": 617
        },
        "outputId": "bff5f567-7067-411c-db59-9e231770d585"
      },
      "source": [
        "grafikon(XX_ndv,\"ssz\",\"ndvi_ne\",\"ndvi_ne\",\"ne_pred\",\"ne_pred\",ngraf=2,title=\"NDVI_NE\")"
      ],
      "execution_count": 50,
      "outputs": [
        {
          "output_type": "display_data",
          "data": {
            "text/html": [
              "<html>\n",
              "<head><meta charset=\"utf-8\" /></head>\n",
              "<body>\n",
              "    <div>\n",
              "            <script src=\"https://cdnjs.cloudflare.com/ajax/libs/mathjax/2.7.5/MathJax.js?config=TeX-AMS-MML_SVG\"></script><script type=\"text/javascript\">if (window.MathJax) {MathJax.Hub.Config({SVG: {font: \"STIX-Web\"}});}</script>\n",
              "                <script type=\"text/javascript\">window.PlotlyConfig = {MathJaxConfig: 'local'};</script>\n",
              "        <script src=\"https://cdn.plot.ly/plotly-latest.min.js\"></script>    \n",
              "            <div id=\"10fbc294-dd71-458f-a6bf-77fc9946c2b1\" class=\"plotly-graph-div\" style=\"height:600px; width:1200px;\"></div>\n",
              "            <script type=\"text/javascript\">\n",
              "                \n",
              "                    window.PLOTLYENV=window.PLOTLYENV || {};\n",
              "                    \n",
              "                if (document.getElementById(\"10fbc294-dd71-458f-a6bf-77fc9946c2b1\")) {\n",
              "                    Plotly.newPlot(\n",
              "                        '10fbc294-dd71-458f-a6bf-77fc9946c2b1',\n",
              "                        [{\"line\": {\"color\": \"rgba(35,128,132,0.8)\"}, \"name\": \"ndvi_ne\", \"showlegend\": true, \"type\": \"scatter\", \"x\": [0, 1, 2, 3, 4, 6, 7, 8, 10, 11, 12, 16, 17, 18, 19, 20, 21, 22, 23, 25, 26, 27, 28, 29, 30, 31, 32, 33, 34, 35, 38, 39, 40, 41, 43, 44, 46, 47, 48, 49, 50, 52, 53, 55, 56, 57, 58, 59, 60, 64, 66, 68, 69, 70, 71, 72, 73, 74, 75, 76, 77, 78, 79, 80, 81, 82, 83, 84, 86, 88, 89, 90, 92, 97, 98, 100, 101, 102, 103, 104, 105, 106, 107, 109, 110, 111, 112, 113, 115, 116, 117, 118, 119, 120, 121, 123, 124, 125, 126, 127, 128, 129, 130, 131, 132, 133, 134, 135, 136, 138, 140, 141, 143, 144, 145, 146, 148, 149, 150, 151, 152, 154, 155, 157, 158, 159, 160, 161, 164, 165, 166, 167, 168, 169, 171, 172, 173, 174, 175, 176, 177, 178, 179, 180, 182, 184, 185, 186, 187, 189, 190, 192, 193, 194, 195, 196, 197, 198, 201, 202, 203, 204, 205, 206, 208, 209, 210, 211, 212, 213, 214, 216, 217, 218, 219, 220, 221, 223, 224, 225, 226, 227, 243, 244, 246, 247, 249, 251, 252, 253, 254, 255, 256, 259, 260, 262, 263, 264, 266, 267, 268, 269, 270, 272, 274, 275, 276, 277, 278, 279, 280, 281, 282, 283, 284, 285, 287, 288, 289, 290, 292, 293, 295, 296, 297, 298, 299, 300, 301, 303, 305, 306, 308, 309, 310, 312, 313, 315, 316, 317, 318, 319, 320, 322, 323, 324, 325, 327, 329, 330, 331, 333, 334, 335, 337, 338, 339, 340, 343, 346, 347, 349, 350, 351, 352, 353, 354, 358, 359, 361, 362, 363, 364, 365, 366, 367, 368, 369, 370, 371, 372, 373, 374, 375, 377, 378, 379, 381, 382, 383, 384, 385, 386, 387, 388, 392, 394, 395, 398, 400, 401, 402, 403, 404, 405, 407, 408, 410, 412, 413, 414, 415, 416, 419, 420, 421, 422, 423, 424, 425, 426, 427, 428, 429, 430, 431, 432, 433, 434, 435, 437, 438, 441, 442, 444, 446, 447, 448, 449, 450, 453, 454, 455, 458, 459, 460, 461, 462, 463, 464, 466, 467, 468, 469, 473, 474, 478, 479, 480, 481, 482, 484, 485, 487, 488, 489, 490, 491, 492, 495, 496, 497, 498, 499, 501, 502, 503, 504, 505, 506, 507, 508, 510, 512, 513, 514, 515, 517, 518, 519, 520, 521, 523, 524, 525, 526, 527, 528, 529, 530, 531, 532, 533, 534, 535, 536, 537, 539, 540, 541, 543, 544, 545, 546, 547, 548, 549, 551, 552, 553, 554, 555, 556, 558, 559, 561, 562, 563, 564, 565, 566, 568, 570, 573, 574, 575, 576, 577, 579, 580, 581, 582, 583, 584, 585, 586, 587, 588, 590, 591, 592, 593, 594, 595, 597, 598, 599, 600, 601, 602, 603, 604, 605, 606, 607, 608, 609, 610, 612, 613, 614, 615, 616, 617, 618, 619, 620, 621, 623, 624, 625, 626, 627, 628, 629, 633, 634, 636, 637, 638, 639, 640, 641, 642, 643, 645, 646, 647, 649, 650, 651, 652, 654, 655, 656, 657, 658, 659, 660, 661, 662, 663, 664, 666, 667, 668, 669, 670, 671, 672, 673, 675, 676, 677, 678, 680, 682, 683, 684, 685, 687, 688, 689, 690, 691, 692, 695, 696, 697, 699, 700, 701, 702, 704, 705, 706, 707, 708, 709, 710, 712, 714, 715, 717, 718, 719, 720, 721, 723, 725, 726, 730, 731, 732, 733, 734, 735, 736, 738, 739, 740, 741, 742, 743, 744, 745, 746, 747, 750, 751, 753, 754, 755, 756, 757, 758, 759, 760, 761, 762, 764, 765, 766, 767, 768, 769, 771, 772, 774, 775, 777, 778, 779, 781, 782, 784, 785, 786, 787, 789, 790, 791, 792, 793, 794, 796, 797, 799, 800, 801, 802, 803, 804, 805, 806, 807, 808, 809, 812, 813, 814, 815, 816, 817, 818, 819, 820, 821, 822, 823, 824, 825, 826, 829, 830, 831, 832, 833, 835, 837, 838, 839, 840, 841, 842, 843, 844, 845, 846, 847, 849, 850, 851, 852, 853, 854, 856, 857, 858, 860, 861, 862, 864, 865, 866, 867, 869, 870, 872, 873, 874, 876, 877, 878, 879, 880, 881, 882, 883, 884, 885, 886, 887, 889, 890, 891, 892, 893, 895, 896, 897, 898, 900, 901, 904, 905, 906, 907, 908, 910, 911, 912, 914, 916, 918, 919, 922, 924, 925, 926, 928, 929, 930, 931, 932, 933, 935], \"xaxis\": \"x\", \"y\": [0.1226, 0.1699, 0.03225, 0.1286333, 0.1962, 0.1129, 0.0725, 0.10245, 0.192875, 0.2916, 0.15056670000000003, 0.1902333, 0.2529, 0.2354, 0.1279667, 0.19635, 0.1161, 0.22855, 0.17115, 0.1462, 0.25225, 0.1526, 0.2908, 0.2722, 0.13676670000000002, 0.1098, 0.12135, 0.2931333, 0.3025, 0.1465, 0.3313, 0.0917, 0.3801, 0.0712, 0.1702, 0.21075, 0.1279, 0.28035, 0.1691, 0.1765, 0.0774, 0.20916669999999998, 0.11595, 0.0669, 0.1401, 0.08585, 0.1091, 0.0596, 0.07965, 0.0801, 0.07315, 0.0569, 0.0693, 0.10805, 0.10475, 0.1098, 0.1676, 0.1291, 0.09300000000000001, 0.0137, 0.1944, 0.094, 0.0544, 0.0954, 0.00825, 0.08786667, 0.0802, -0.02665, 0.12355, 0.10083330000000001, 0.2224, 0.12253330000000001, 0.1016, 0.08685, 0.05305, 0.09995, 0.1039, 0.07515, 0.0922, 0.0125, 0.10875, 0.101875, 0.1024, 0.12165, 0.08395, 0.10445, 0.1302, 0.1194, 0.11199999999999999, -0.1396, 0.0539, 0.152675, 0.16395, 0.1146, 0.0875, 0.123975, 0.0519, 0.1435, 0.1972, 0.137225, 0.3371, -0.0156, 0.1242, 0.0866, 0.11800000000000001, 0.0764, 0.0971, 0.1083, 0.0547, -0.01008, 0.02835, 0.03006667, 0.06613333, 0.047425, 0.2738, 0.11086669999999998, 0.1744667, 0.09403333, -0.0411, 0.03225, 0.1194, -0.0158, 0.0828, 0.07965, 0.07305, 0.1769, 0.01645, 0.00305, 0.0374, 0.1237667, 0.0689, 0.0375, 0.1204, 0.08285, 0.1016, 0.0969, 0.10885, 0.0979, 0.1121, 0.1199, 0.0054, 0.034, 0.1213, 0.1317, 0.11699999999999999, -0.1589, 0.17315, 0.1071, 0.3572667, -0.2902, -0.0237, -0.1209, 0.1435, 0.0741, 0.0912, 0.2588, 0.0882, 0.3633, 0.1125, 0.1468, 0.0412, 0.0978, 0.10800000000000001, 0.16435, 0.0805, 0.0652, 0.1111, 0.0742, 0.1178, 0.1097, 0.08005, -0.0323, 0.12526669999999998, 0.12325, 0.1396, 0.0424, 0.183, 0.04465, 0.06666667, 0.1564, 0.02185, 0.04585, 0.2438, 0.223075, -0.1193, 0.05175, 0.03233333, 0.0935, 0.07355, 0.14535, 0.0739, 0.031, 0.19862, 0.1017, 0.1281, 0.14345, 0.0363, 0.0322, 0.15495, 0.08955, 0.22135, 0.2319333, 0.3093, 0.1175, 0.0632, 0.047, 0.08396667, 0.1131, 0.0326, 0.1071, 0.0568, 0.11863330000000001, 0.1068, 0.2808, 0.040825, 0.033625, 0.2346, 0.0174, 0.0406, 0.0334, 0.1154, -0.0139, 0.013999999999999999, 0.1514333, 0.0149, 0.0958, 0.0627, 0.02765, 0.06895, 0.076, 0.03786667, 0.07713333, 0.0448, 0.0497, 0.08893333, 0.3144667, -0.0464, 0.0339, 0.09985, 0.0529, 0.0986, 0.07125, 0.16555, 0.05763333, 0.1121, 0.0038, 0.09683333, 0.0795, 0.01203333, 0.0364, 0.1043, 0.04044, -0.0385, -0.0066, -0.0969, 0.00525, -0.05675, -0.03006667, -0.1171, 0.0214, 0.15263329999999997, -0.1459, 0.0495, 0.0451, 0.04245, 0.0455, 0.0297, 0.1409, 0.11245, 0.0602, 0.033075, 0.0388, -0.0035, -0.0597, 0.1019, 0.0798, 0.0235, 0.0557, 0.1197, 0.0108, 0.0749, 0.1012, 0.0883, -0.0562, 0.1393, 0.0981, 0.008933333, 0.06065, 0.1072, 0.03495, -0.049, 0.12258, 0.1123, 0.0019, -0.01515, 0.0695, 0.2192, 0.0568, 0.0663, 0.05076667, -0.01615, 0.1797, 0.13155, -0.0479, 0.11825, 0.1545, 0.06366667, 0.0604, 0.0672, 0.048, 0.0308, 0.0671, 0.1063, -0.003, 0.0484, -0.0427, 0.12125, 0.0725, 0.03745, 0.0715, -0.03095, 0.0289, 0.0554, 0.14065, 0.02866667, 0.05346667, 0.1072, 0.0307, 0.0388, 0.07465, 0.05085, -0.0022, 0.0213, -0.0359, 0.0038666670000000003, 0.0501, 0.05675, 0.0619, -0.08216667, 0.06056667, -0.1399, -0.0698, 0.0535, 0.0263, 0.12905, -0.0509, -0.071225, -0.10475, 0.135, 0.0541, 0.0341, 0.0869, 0.07295, 0.064, 0.04023333, 0.0499, 0.09746667, 0.0545, 0.1169, 0.0101, -0.07305, 0.01015, -0.01465, 0.087, -0.0121, 0.08305, 0.05016667, 0.1322, -0.0864, 0.06275, 0.1235, -0.0454, 0.0005, 0.1536, 0.10558, 0.1088, -0.1336, 0.20635, 0.337, 0.353, 0.3419, 0.29455, 0.19316670000000002, 0.17025, 0.3779, 0.2311, 0.2204, 0.2050333, 0.07435, -0.287, 0.1544, 0.1302, 0.0865, 0.1882, 0.0849, 0.1459, 0.1097, 0.1431, 0.11045, 0.0812, 0.17185, 0.22305, 0.1667, 0.13025, 0.14415, 0.17645, 0.2156667, 0.1591, 0.0577, 0.1961, 0.253975, 0.38, 0.10035, 0.1535, 0.19015, 0.11056669999999999, 0.0979, 0.12015, 0.11875, 0.0044, 0.0632, 0.0048333329999999996, 0.09436667, 0.0411, 0.00915, -0.04485, 0.2170333, 0.4462667, 0.2485, 0.4229, 0.1274333, 0.2127, 0.0728, 0.0371, 0.1031, 0.08607999999999999, 0.0619, 0.0312, -0.02865, 0.02185, -0.0227, -0.0817, 0.0073, -0.0198, 0.0287, 0.2467, 0.08985, 0.0172, -0.0273, 0.1954, -0.0412, 0.0986, 0.16025, 0.0633, -0.0141, -0.01935, 0.0284, 0.0941, 0.1663, 0.21515, -0.0468, 0.0081, 0.02285, 0.1814, 0.05475, 0.106425, 0.0594, 0.0288, -0.0674, 0.0491, 0.0478, 0.0315, 0.042, 0.0709, 0.1535, 0.1777, -0.0056, -0.0263, -0.0176, 0.1506, 0.19375, 0.1138, 0.03345, 0.05325, 0.04185, -0.009666667, -0.02455, -0.07045, -0.0836, -0.0006, 0.0001, 0.0776, 0.0009, 0.0895, 0.033, 0.0541, 0.07375, -0.05385, -0.1115, 0.00735, 0.2614, 0.14783329999999997, -0.005633333000000001, -0.2439, -0.1743, -0.043, 0.0358, -0.07195, -0.2, 0.0466, 0.053739999999999996, 0.0214, 0.0567, 0.0015, -0.03046667, -0.20635, 0.02535, -0.05203333, -0.1169, 0.0925, 0.12815, -0.078, 0.0681, -0.0477, 0.01485, -0.0457, 0.05063333, 0.0675, -0.1798, -0.0853, -0.05675, 0.1045, 0.04995, 0.0785, 0.0348, 0.0726, 0.09445, -0.0939, -0.0874, 0.0204, 0.0161, -0.0416, 0.0892, 0.06925, -0.21795, -0.07015, -0.00305, -0.1476, -0.03753333, 0.02085, -0.0731, -0.18635, -0.0535, -0.0423, -0.1567, 0.05716667, -0.0638, -0.0505, -0.40625, 0.4934, 0.0061, -0.0904, 0.05286667, -0.02563333, -0.07055, 0.0218, 0.017425, 0.0101, -0.0267, -0.0529, 0.0674, -0.0117, 0.0058, 0.0374, -0.0164, 0.0996, 0.0414, 0.1076, 0.033475, -0.0168, 0.0969, 0.0802, 0.1337, 0.0199, 0.3274, 0.0435, -0.1613, -0.0039, -0.15165, -0.1261, 0.0079, 0.02435, -0.11183330000000001, -0.0479, 0.0442, -0.08175, 0.1083, -0.10366669999999999, 0.0644, -0.044000000000000004, 0.0045, -0.1235, 0.01683333, -0.1362, 0.06313333, 0.0476, -0.0143, 0.0606, 0.0449, 0.0892, 0.0854, 0.0514, -0.0665, -0.1087, -0.06475, 0.0479, -0.1224, 0.0022, 0.0073, 0.0252, 0.0012, 0.0488, 0.0419, 0.02275, -0.029975, 0.07596667, -0.00135, 0.0507, -0.03396667, -0.0587, 0.1077, -0.1062, -0.008233333, -0.04245, -0.1942333, 0.009000000000000001, 0.0443, -0.3084, 0.3255, -0.1032, -0.16734000000000002, -0.01313333, 0.0109, 0.0455, 0.0165, -0.012, 0.0351, 0.0144, 0.0802, 0.0582, 0.0144, -0.01003333, 0.0255, 0.1035, 0.063875, 0.0193, 0.04735, -0.05556667, -0.1145, 0.0017399999999999998, 0.06405, 0.07515, 0.01235, 0.026125, -0.0556, -0.0265, 0.06305, 0.12335, 0.04593333, -0.2761, -0.1686, 0.0947, 0.0516, -0.04176667, -0.0548, 0.2643, -0.0192, 0.1288333, -0.2156, -0.0752, 0.2121, 0.0543, 0.0373, 0.0117, 0.02285, 0.01886667, -0.0743, 0.0689, 0.0216, 0.0392, -0.06205, 0.0019, 0.05825, -0.0118, -0.0054, 0.1058, 0.2484, 0.0501, 0.0826, -0.00695, 0.0746, 0.0156, 0.0331, 0.0821, -0.01345, -0.0307, 0.096, 0.009000000000000001, 0.021, 0.1243, -0.2517, -0.0589, -0.0595, -0.13305, 0.0148, 0.0006, -0.0268, -0.1117, 0.07200000000000001, -0.13865, -0.0889, -0.3214, 0.0449, 0.07785, -0.038, -0.1552, -0.037000000000000005], \"yaxis\": \"y\"}, {\"line\": {\"color\": \"rgba(193,99,99,0.8)\"}, \"name\": \"ne_pred\", \"showlegend\": true, \"type\": \"scatter\", \"x\": [0, 1, 2, 3, 4, 6, 7, 8, 10, 11, 12, 16, 17, 18, 19, 20, 21, 22, 23, 25, 26, 27, 28, 29, 30, 31, 32, 33, 34, 35, 38, 39, 40, 41, 43, 44, 46, 47, 48, 49, 50, 52, 53, 55, 56, 57, 58, 59, 60, 64, 66, 68, 69, 70, 71, 72, 73, 74, 75, 76, 77, 78, 79, 80, 81, 82, 83, 84, 86, 88, 89, 90, 92, 97, 98, 100, 101, 102, 103, 104, 105, 106, 107, 109, 110, 111, 112, 113, 115, 116, 117, 118, 119, 120, 121, 123, 124, 125, 126, 127, 128, 129, 130, 131, 132, 133, 134, 135, 136, 138, 140, 141, 143, 144, 145, 146, 148, 149, 150, 151, 152, 154, 155, 157, 158, 159, 160, 161, 164, 165, 166, 167, 168, 169, 171, 172, 173, 174, 175, 176, 177, 178, 179, 180, 182, 184, 185, 186, 187, 189, 190, 192, 193, 194, 195, 196, 197, 198, 201, 202, 203, 204, 205, 206, 208, 209, 210, 211, 212, 213, 214, 216, 217, 218, 219, 220, 221, 223, 224, 225, 226, 227, 243, 244, 246, 247, 249, 251, 252, 253, 254, 255, 256, 259, 260, 262, 263, 264, 266, 267, 268, 269, 270, 272, 274, 275, 276, 277, 278, 279, 280, 281, 282, 283, 284, 285, 287, 288, 289, 290, 292, 293, 295, 296, 297, 298, 299, 300, 301, 303, 305, 306, 308, 309, 310, 312, 313, 315, 316, 317, 318, 319, 320, 322, 323, 324, 325, 327, 329, 330, 331, 333, 334, 335, 337, 338, 339, 340, 343, 346, 347, 349, 350, 351, 352, 353, 354, 358, 359, 361, 362, 363, 364, 365, 366, 367, 368, 369, 370, 371, 372, 373, 374, 375, 377, 378, 379, 381, 382, 383, 384, 385, 386, 387, 388, 392, 394, 395, 398, 400, 401, 402, 403, 404, 405, 407, 408, 410, 412, 413, 414, 415, 416, 419, 420, 421, 422, 423, 424, 425, 426, 427, 428, 429, 430, 431, 432, 433, 434, 435, 437, 438, 441, 442, 444, 446, 447, 448, 449, 450, 453, 454, 455, 458, 459, 460, 461, 462, 463, 464, 466, 467, 468, 469, 473, 474, 478, 479, 480, 481, 482, 484, 485, 487, 488, 489, 490, 491, 492, 495, 496, 497, 498, 499, 501, 502, 503, 504, 505, 506, 507, 508, 510, 512, 513, 514, 515, 517, 518, 519, 520, 521, 523, 524, 525, 526, 527, 528, 529, 530, 531, 532, 533, 534, 535, 536, 537, 539, 540, 541, 543, 544, 545, 546, 547, 548, 549, 551, 552, 553, 554, 555, 556, 558, 559, 561, 562, 563, 564, 565, 566, 568, 570, 573, 574, 575, 576, 577, 579, 580, 581, 582, 583, 584, 585, 586, 587, 588, 590, 591, 592, 593, 594, 595, 597, 598, 599, 600, 601, 602, 603, 604, 605, 606, 607, 608, 609, 610, 612, 613, 614, 615, 616, 617, 618, 619, 620, 621, 623, 624, 625, 626, 627, 628, 629, 633, 634, 636, 637, 638, 639, 640, 641, 642, 643, 645, 646, 647, 649, 650, 651, 652, 654, 655, 656, 657, 658, 659, 660, 661, 662, 663, 664, 666, 667, 668, 669, 670, 671, 672, 673, 675, 676, 677, 678, 680, 682, 683, 684, 685, 687, 688, 689, 690, 691, 692, 695, 696, 697, 699, 700, 701, 702, 704, 705, 706, 707, 708, 709, 710, 712, 714, 715, 717, 718, 719, 720, 721, 723, 725, 726, 730, 731, 732, 733, 734, 735, 736, 738, 739, 740, 741, 742, 743, 744, 745, 746, 747, 750, 751, 753, 754, 755, 756, 757, 758, 759, 760, 761, 762, 764, 765, 766, 767, 768, 769, 771, 772, 774, 775, 777, 778, 779, 781, 782, 784, 785, 786, 787, 789, 790, 791, 792, 793, 794, 796, 797, 799, 800, 801, 802, 803, 804, 805, 806, 807, 808, 809, 812, 813, 814, 815, 816, 817, 818, 819, 820, 821, 822, 823, 824, 825, 826, 829, 830, 831, 832, 833, 835, 837, 838, 839, 840, 841, 842, 843, 844, 845, 846, 847, 849, 850, 851, 852, 853, 854, 856, 857, 858, 860, 861, 862, 864, 865, 866, 867, 869, 870, 872, 873, 874, 876, 877, 878, 879, 880, 881, 882, 883, 884, 885, 886, 887, 889, 890, 891, 892, 893, 895, 896, 897, 898, 900, 901, 904, 905, 906, 907, 908, 910, 911, 912, 914, 916, 918, 919, 922, 924, 925, 926, 928, 929, 930, 931, 932, 933, 935], \"xaxis\": \"x\", \"y\": [0.08976963992649897, 0.13084783786205412, 0.13168763221756635, 0.13426805504655118, 0.20062590364193442, 0.07055188691964753, 0.038775893772016234, 0.10795254766605278, 0.10804872685019107, 0.3023766092568203, 0.1300652465222158, 0.1344683740654326, 0.26967562401484946, 0.2019791227332829, 0.1585087695757117, 0.18556835241529207, 0.13357216958886925, 0.19679923325195053, 0.051100762528548074, 0.09504712451402408, 0.24629842489781478, 0.1425471858560514, 0.21263770044650293, 0.2696204263949559, 0.17902727598852436, 0.08271762269065591, 0.19168886800177756, 0.2513883328119374, 0.2409658970934072, 0.11832199819168884, 0.30060472579496555, 0.17678884795545827, 0.2514373089760296, 0.17025721433764876, 0.18222077831376637, 0.19781067580951453, 0.14007643694482871, 0.22089999913255723, 0.1671714718393368, 0.2016783472499906, 0.10852586484395434, 0.14685377649852874, 0.11610062859838362, 0.06570470406748445, 0.10753793250156038, 0.03909150636323193, 0.1285491731560698, 0.07147082827511778, 0.11224155246703732, 0.03539317391414963, 0.11017414399320638, 0.07193426253477798, 0.06118070830452171, 0.08585661864007182, 0.07707379365747362, 0.11775008053287804, 0.1300616589351033, 0.13371450601493742, 0.07665014255025822, 0.08390658314853484, 0.12369855724109734, 0.0764470753806228, 0.04785595372777553, 0.12056336693986139, 0.0186550941401251, 0.1222420088333965, 0.08780586560059997, 0.06404997930398484, 0.12049998151891046, 0.05257402032199171, 0.1966961954062409, 0.11771070861944198, 0.043697107642759817, 0.07193426253477798, 0.06533853789557659, 0.09567602321436994, 0.10045005061258773, 0.07877778061705076, 0.09854019327184403, 0.027555606020166407, 0.16445248572288684, 0.02634229079039373, 0.06954971611130344, 0.10232755475692189, 0.06331377908832689, 0.12582889232349673, 0.12119167044519041, 0.12803068208525775, 0.1108427316317998, -0.0068301078405522495, 0.09406795719690039, 0.13760705405831414, 0.10146102859964115, 0.12349204982131391, 0.06886025727764516, 0.1300652465222158, 0.051100762528548074, 0.12398273065938761, 0.13655329489446175, 0.10634551653030223, 0.22954780228532315, 0.021502977966643275, 0.09439437993438753, 0.09228223316963294, 0.10059148252410618, 0.07316044285819943, 0.08389786154669271, 0.051100762528548074, 0.08992122138631355, 0.036257961886594664, 0.03446243729303278, 0.03633293017120744, 0.017533195292427143, 0.03915564496419322, 0.12768241208958536, 0.11729781484544803, 0.12965351006494136, 0.11094083254344209, -0.027067415591429275, 0.08933380684300538, 0.08252399482309748, 0.01507944109747983, 0.07147082827511778, 0.05575067398443434, 0.04537280458667654, 0.08520551946207462, 0.05481002704184668, 0.05048592386755356, 0.08485920939330482, 0.11207926967189867, 0.08185705723430028, 0.0658823163773196, 0.15394991826517967, 0.0873674237837354, 0.1246042177934787, 0.054515595108617594, 0.1531002737494128, 0.12968325640321385, 0.06954971611130344, 0.08174583700776727, 0.05283872842804813, 0.028556562249627326, 0.05510032393431961, 0.05353869842260405, 0.13706554460024498, -0.11095304494288948, 0.061244331712789236, 0.1175591749731796, 0.12213350228154914, -0.20572702712728727, -0.011317850076863653, -0.08674091194651244, 0.06950603984636351, 0.12650246059866016, -0.046925483718514675, 0.1857235520896563, 0.07208415058214268, 0.2804771876460869, 0.06322751350102863, 0.03122698760657712, 0.07147949643926374, 0.11323567746512175, 0.05924292251689548, 0.1282312989070485, 0.041111592920159985, 0.059915883487714997, 0.07380157587417957, 0.014841069700858788, 0.09584690143607755, 0.12790466351517418, 0.05764564584306739, 0.03170406695088517, 0.08750640979678523, 0.186963047833785, 0.20887413294377327, 0.12628172880581112, 0.18866021535588623, -0.008297382484210703, 0.001443999554285053, 0.13434369883646274, 0.10093473712763587, 0.04016188758778668, 0.12595427246234964, 0.21713056200747266, -0.07218973599087483, 0.10166895902899598, 0.047582814092393254, 0.04210613649188929, 0.043525904040006565, 0.08520551946207462, 0.10557265727715316, 0.10724801140677717, 0.1990206001995781, 0.08234429584938045, 0.12292690673839389, 0.1003231300330404, 0.07714391857507753, 0.09384764423089459, 0.03126613718103364, 0.08163584687559604, 0.20950158190033455, 0.18404357324216636, 0.26554783974779184, 0.09590740704512561, 0.07832383225431044, 0.04464135952582821, 0.08520551946207462, 0.07093317616731314, 0.05289548260512029, 0.16480105787441815, 0.05546391456896632, 0.06886025727764516, 0.07225102523266798, 0.21415057750918595, 0.07389687188655923, 0.05277221509640838, 0.1528617326012015, -0.02869419556038642, 0.05121075266071935, 0.08622651846708002, 0.10717592898289309, -0.00032687967790179717, 0.018974612108099285, 0.11323562207889064, 0.05227754466793587, 0.09186798372521601, 0.11562288564581318, 0.009658962675813409, 0.11192298347402918, 0.10498252781903368, 0.02507765582827993, 0.0971280372662858, 0.020132129982747566, 0.11792302566858687, 0.0867741804700555, 0.24552270595232206, -0.014282648104518942, 0.03177706894990498, 0.1068247047118925, 0.08163584687559604, 0.07803123502126173, 0.05217179083925091, 0.10964873858879033, 0.07575795309349913, 0.08114347998084907, 0.013076403202477199, 0.11416333166822888, 0.01622020342377971, 0.04104077347951451, 0.01927303207730951, 0.09826670473968342, 0.016197967727842374, 0.047564406008713096, -0.04772703437546795, -0.07533543273262536, 0.014841069700858788, -0.03251904340809607, 0.03974121631330082, -0.03585361764174155, 0.02020913808014666, 0.11569496908482765, -5.2587555622367854e-05, 0.050178506814508174, 0.06475970656394917, 0.035747820325265314, 0.10964873858879033, 0.019914400708379385, 0.10309453049056762, 0.09209976801041264, 0.05176844952992369, 0.0036274715685304455, -0.0029876267559759647, 0.01626026613034133, -0.010133523677550244, 0.046205787528513606, 0.11562373133933192, 0.059271437927167415, 0.08163584687559604, 0.08281262901498379, 0.03729129597937534, 0.07770267687278849, 0.0982516261889952, 0.05797725818137814, 0.011927159046637452, 0.09459843496650334, 0.08252399482309748, 0.043298511485922446, 0.07401156937395488, 0.10856220662640585, 0.07917023403314201, 0.003683335298980402, 0.08185705723430028, 0.10291594391128739, 0.0491776725074155, 0.06616976734867716, 0.10491666325438025, 0.14081935730492354, 0.05562329513611607, 0.023234374730025896, 0.05969365431839631, 0.0036349322507987425, 0.033962880948450916, 0.08078128006070885, 0.006701246193660194, 0.052921426874715044, 0.09944408570311779, 0.07986089436568965, 0.06460118054711135, 0.04128631195998636, 0.044371848357215624, 0.04116425920153797, 0.08185705723430028, 0.1093103332453119, 0.013941955480902322, 0.020840530638998708, 0.03383377517514506, 0.10052616799151634, 0.05616229641796452, 0.016837232569469434, 0.07986089436568965, 0.04935776660229963, 0.030886254921363897, 0.10535144691844892, 0.12441732841065943, 0.051950580480546626, 0.08160573704030354, 0.05035872283176055, 0.04781920911995037, 0.04868395030803846, 0.048376047216937244, 0.05211949309373746, 0.011603593336497239, 0.08174583700776727, -0.049444125622894526, -0.0017553416217985787, 0.04660883422802958, 0.055867710036579026, 0.026571599729513652, -0.057521066325796594, -0.0125742725736241, -0.024658883223799822, -0.01949078752926268, -0.04056820080217941, 0.026221902798492788, 0.066420647424851, 0.01864259141534691, -0.014983888851898395, -0.0416145913508332, 0.018612481580054407, -0.03585639964840549, 0.03930148947773989, 0.06313004484146158, 0.06448570044338404, 0.05115387569283398, 0.038513219263519034, 0.03854685721551062, 0.08160573704030354, 0.07862610648072246, 0.05460434478810783, 0.060263064586887474, 0.007141521124753998, 0.046072445643139594, 0.016586166121989897, 0.0530621320748531, 0.04240850203050629, 0.05882707613337669, 0.016586166121989897, 0.07559552592708414, -0.01057842123603446, 0.0905643461270172, 0.07003959777519504, -0.0030256530811948335, 0.058606528917392056, 0.10682657126071356, 0.09695641996099193, 0.0947997772488427, -0.09444583300968204, 0.1450565260732021, 0.31207261429574784, 0.36334746884126146, 0.3349994027070645, 0.25011556586183786, 0.16511325004565214, 0.1979656412068069, 0.2409105801180031, 0.2164582892437841, 0.20270382664942285, 0.12636635580157055, 0.08613897643088804, -0.10531174002150008, 0.12632338293379888, 0.08199279468685824, 0.08163584687559604, 0.12918596167239907, 0.10967117334868882, 0.10461444911502399, 0.07920034386843451, 0.15494083053899493, 0.12271479750031412, 0.04172543005214091, 0.1439434748346931, 0.20995466354403822, 0.1986795488337902, 0.1102182595313791, 0.11479991270875316, 0.16116767204023272, 0.15152601961306356, 0.07544735681208448, 0.11079415937171247, 0.14475004543859063, 0.2694644150417768, 0.3545718337910706, 0.09501677194112071, 0.2027648622259334, 0.1501022207876566, 0.062318591737226925, 0.04268544892563456, 0.12615944968878282, 0.09026958962549339, 0.04178765231277682, 0.045560351018560485, 0.01843881275444042, 0.08319990527420605, 0.004274744214952236, 0.019631726363891763, 0.008528528987030094, 0.14353391727907502, 0.43327063338559463, 0.2082991039745784, 0.3971679945024659, 0.049974161578832034, 0.12650210598119416, 0.06460118054711135, 0.04161829181792754, 0.07917023403314201, 0.07455110469683054, 0.01604977753709992, 0.023504927007880677, -0.017932708300618837, -0.03282915287088312, 0.08174583700776727, 0.018612481580054407, 0.05121075266071935, 0.016197967727842374, 0.08717785164831199, 0.2170695374758218, 0.13732576646131656, 0.01626026613034133, 0.029954530646310918, 0.22731280280744812, 0.005438530311062408, 0.11153559198402475, 0.09397546196015842, 0.034915914152062, 0.12816188588305577, 0.06958932931872223, 0.03608058061472611, 0.08992122138631355, 0.1339580851016993, 0.21909374364025574, -0.02688533168584506, 0.07917023403314201, 0.04900439741074115, 0.13322998221732302, 0.07920034386843451, 0.1549859629316983, 0.06117929860848163, 0.01568242111096767, 0.03922053528870098, 0.09051383287661789, 0.05522680676928628, 0.08185705723430028, 0.016440736774683336, 0.11033363649378763, 0.137524549224618, 0.19902649107716, 0.014320161589885238, 0.021222687218855864, 0.04511726570859113, 0.14113206096239828, 0.13395727784407876, 0.06430721128625433, 0.08805267101279712, 0.07904303299734905, 0.01568242111096767, 0.022832779833985812, 0.0003219918371509695, -0.04991783418669642, -0.018743160690232446, 0.014571247631817913, 0.03563731746162748, -0.060686234469440895, 0.02616100972820404, 0.055279162788263336, -0.029116135474630125, 0.0451191917493791, 0.038909716322693785, -0.07365681358361488, -0.07777262788076923, -0.016454094774710673, 0.22622386791298082, 0.056016799814649056, -0.009798730011963288, -0.17753283861399752, -0.10352089523683701, -0.07080972997874069, 0.02909110248579176, -0.024204215610924545, -0.09512983338914775, 0.020865989626798667, 0.051100762528548074, 0.03281907456304264, 0.06514093886732203, -0.027151517115862535, -0.02354713207108627, -0.1910525056975686, -0.024476923827001135, 0.0035386483386455714, -0.08824978315520438, 0.0019884383426672326, 0.07711576072924564, -0.06850183473370319, 0.006894015004207775, 0.01537361866219393, -0.029784391382041392, 0.00113713084113829, 0.056265998686984384, 0.05368117559283915, -0.08035047168620871, 0.012094879525694201, -0.056963810423330596, 0.04683317612657899, -0.01421941733816142, 0.007712759954723832, 0.02922946445205774, 0.04868395030803846, 0.021314511566499345, 0.04391862091906283, 0.06344496693237475, 0.0247679365857051, -0.013350878097600412, 0.00846893832905702, 0.040046888371694435, 0.05949642002452686, -0.04010208931212295, -0.03431441331155511, 0.05933593664204094, -0.09514789020973971, -0.021406183633500935, -0.023752887056255174, -0.018246563177844167, -0.18488223739502477, -0.08833084683040476, 0.015781783537613902, -0.08398709407605594, 0.05317274706871183, 0.03320988365594735, 0.021078094422508395, -0.14470018283638802, 0.44974646026159937, 0.012375456858404799, -0.020406358315567776, 0.013410916590815657, 0.013735443671072161, -0.05440433769082516, -0.022508548679864123, 0.045808357777325386, 0.013635263684887896, 0.010977365349049499, -0.057562926848459955, 0.07986089436568965, -0.0057328549900846956, 0.020297211524455332, 0.08486219915569765, -0.009674205633523007, 0.044371848357215624, 0.04963952208872197, 0.052061429362449424, 0.02205113617237, 0.012304132038835848, 0.038909716322693785, 0.06169026094578658, 0.11806461107627242, 0.021004787149318825, 0.20046514020500555, 0.023128137274771848, -0.12554464855497144, -0.014275548150611583, -0.04305015994936795, -0.0298344706534875, -0.018481972976328805, -0.022652384702583236, -0.10048794427416087, 0.009535913835089819, -0.06687893465080777, -0.040388733945035234, 0.002776435280863223, -0.02539443108681111, 0.040797068498376055, -0.047926033168595686, -0.03230724090883134, -0.080171191018174, 0.019559721954041414, -0.08700017182859555, 0.10987121106927471, 0.05665058096142529, 0.016228077563134876, 0.08160573704030354, 0.08523856252047278, 0.04275736346626025, 0.1327747745363844, -0.017816283746214256, -0.050990310469268885, -0.01751988794672417, 0.0019225274407400831, 0.04917275299487749, -0.05063198552879431, -0.03187664236349071, 0.001749707150225219, -0.026966884227849628, -0.02627924608357304, 0.02890599809161154, 0.04081130803682912, 0.04067645203363795, 0.048459608409489055, -0.012552242663227575, 0.04951507747338514, 0.012375456858404799, 0.015353087851965276, -0.0663302566796396, 0.08781095444954894, -0.10848430357219663, -0.012551696803451001, -0.014413858495531178, -0.1401788306263065, -0.029765098468605516, 0.03050582781880332, -0.2529830862637082, 0.24396966366805806, -0.015343278800754437, -0.07961313367291714, 0.014841069700858788, 0.011007475184342, 0.05243731077775337, 0.018955583510278023, -0.040822654247771165, 0.0320061055454009, 0.04127487865634175, 0.08080493594536281, 0.03245916163681765, -0.0447580250334286, -0.0296951843604983, 0.015498123935977335, 0.18428605920514188, 0.047437921600080576, 0.043525904040006565, 0.01864259141534691, -0.07380541881901617, 0.047146945219699754, 0.027221079109793763, 0.016197967727842374, 0.07975322610264729, -0.0017388729707536502, -0.022508548679864123, -0.013903540106881886, -0.01299712941736285, -0.010216323746312959, 0.07994841943744148, -0.015043188330409301, -0.06307833350713986, -0.14182092392318255, 0.020643211860844893, 0.03182515637157599, 0.027996855308399172, -0.013658833402704804, 0.06504170388883736, 0.019155977427565446, 0.0973131000348195, -0.0177429428207057, -0.06869397303086638, 0.12814003505744734, 0.010400302127737895, 0.014687840333898841, 0.012348435808796064, 0.017956406521701787, 0.02507765582827993, -0.04575900391197868, 0.063617995625983, 0.02248678835688072, 0.02802289280977793, -0.026691615582591827, -0.01235959784905184, 0.0401072055239258, -0.018663158949417617, -0.01028693312512095, 0.030939890113419345, 0.16127268517146048, 0.037866387807081965, 0.08596616110281043, 0.021502977966643275, 0.07059314601604016, 0.035747820325265314, 0.06221349256407839, 0.045004450722754816, 0.01720946498139159, 0.001749707150225219, 0.03344652959473905, 0.07014594186431695, 0.0773764623482694, 0.05106891593705884, -0.05704575368451447, -0.04174679629319715, -0.05970427964193646, -0.05747576385276009, 0.01744621056593818, -0.017206682234409198, -0.11379142138662385, -0.027193943300853084, -0.011861569463810402, -0.12416528056989339, -0.05528202394751336, -0.25692618002788037, 0.04507790067712831, 0.006664149826918539, -0.0003862114217436924, -0.08124176473280019, 0.007598468890256209], \"yaxis\": \"y\"}],\n",
              "                        {\"autosize\": false, \"height\": 600, \"template\": {\"data\": {\"bar\": [{\"error_x\": {\"color\": \"#2a3f5f\"}, \"error_y\": {\"color\": \"#2a3f5f\"}, \"marker\": {\"line\": {\"color\": \"#E5ECF6\", \"width\": 0.5}}, \"type\": \"bar\"}], \"barpolar\": [{\"marker\": {\"line\": {\"color\": \"#E5ECF6\", \"width\": 0.5}}, \"type\": \"barpolar\"}], \"carpet\": [{\"aaxis\": {\"endlinecolor\": \"#2a3f5f\", \"gridcolor\": \"white\", \"linecolor\": \"white\", \"minorgridcolor\": \"white\", \"startlinecolor\": \"#2a3f5f\"}, \"baxis\": {\"endlinecolor\": \"#2a3f5f\", \"gridcolor\": \"white\", \"linecolor\": \"white\", \"minorgridcolor\": \"white\", \"startlinecolor\": \"#2a3f5f\"}, \"type\": \"carpet\"}], \"choropleth\": [{\"colorbar\": {\"outlinewidth\": 0, \"ticks\": \"\"}, \"type\": \"choropleth\"}], \"contour\": [{\"colorbar\": {\"outlinewidth\": 0, \"ticks\": \"\"}, \"colorscale\": [[0.0, \"#0d0887\"], [0.1111111111111111, \"#46039f\"], [0.2222222222222222, \"#7201a8\"], [0.3333333333333333, \"#9c179e\"], [0.4444444444444444, \"#bd3786\"], [0.5555555555555556, \"#d8576b\"], [0.6666666666666666, \"#ed7953\"], [0.7777777777777778, \"#fb9f3a\"], [0.8888888888888888, \"#fdca26\"], [1.0, \"#f0f921\"]], \"type\": \"contour\"}], \"contourcarpet\": [{\"colorbar\": {\"outlinewidth\": 0, \"ticks\": \"\"}, \"type\": \"contourcarpet\"}], \"heatmap\": [{\"colorbar\": {\"outlinewidth\": 0, \"ticks\": \"\"}, \"colorscale\": [[0.0, \"#0d0887\"], [0.1111111111111111, \"#46039f\"], [0.2222222222222222, \"#7201a8\"], [0.3333333333333333, \"#9c179e\"], [0.4444444444444444, \"#bd3786\"], [0.5555555555555556, \"#d8576b\"], [0.6666666666666666, \"#ed7953\"], [0.7777777777777778, \"#fb9f3a\"], [0.8888888888888888, \"#fdca26\"], [1.0, \"#f0f921\"]], \"type\": \"heatmap\"}], \"heatmapgl\": [{\"colorbar\": {\"outlinewidth\": 0, \"ticks\": \"\"}, \"colorscale\": [[0.0, \"#0d0887\"], [0.1111111111111111, \"#46039f\"], [0.2222222222222222, \"#7201a8\"], [0.3333333333333333, \"#9c179e\"], [0.4444444444444444, \"#bd3786\"], [0.5555555555555556, \"#d8576b\"], [0.6666666666666666, \"#ed7953\"], [0.7777777777777778, \"#fb9f3a\"], [0.8888888888888888, \"#fdca26\"], [1.0, \"#f0f921\"]], \"type\": \"heatmapgl\"}], \"histogram\": [{\"marker\": {\"colorbar\": {\"outlinewidth\": 0, \"ticks\": \"\"}}, \"type\": \"histogram\"}], \"histogram2d\": [{\"colorbar\": {\"outlinewidth\": 0, \"ticks\": \"\"}, \"colorscale\": [[0.0, \"#0d0887\"], [0.1111111111111111, \"#46039f\"], [0.2222222222222222, \"#7201a8\"], [0.3333333333333333, \"#9c179e\"], [0.4444444444444444, \"#bd3786\"], [0.5555555555555556, \"#d8576b\"], [0.6666666666666666, \"#ed7953\"], [0.7777777777777778, \"#fb9f3a\"], [0.8888888888888888, \"#fdca26\"], [1.0, \"#f0f921\"]], \"type\": \"histogram2d\"}], \"histogram2dcontour\": [{\"colorbar\": {\"outlinewidth\": 0, \"ticks\": \"\"}, \"colorscale\": [[0.0, \"#0d0887\"], [0.1111111111111111, \"#46039f\"], [0.2222222222222222, \"#7201a8\"], [0.3333333333333333, \"#9c179e\"], [0.4444444444444444, \"#bd3786\"], [0.5555555555555556, \"#d8576b\"], [0.6666666666666666, \"#ed7953\"], [0.7777777777777778, \"#fb9f3a\"], [0.8888888888888888, \"#fdca26\"], [1.0, \"#f0f921\"]], \"type\": \"histogram2dcontour\"}], \"mesh3d\": [{\"colorbar\": {\"outlinewidth\": 0, \"ticks\": \"\"}, \"type\": \"mesh3d\"}], \"parcoords\": [{\"line\": {\"colorbar\": {\"outlinewidth\": 0, \"ticks\": \"\"}}, \"type\": \"parcoords\"}], \"pie\": [{\"automargin\": true, \"type\": \"pie\"}], \"scatter\": [{\"marker\": {\"colorbar\": {\"outlinewidth\": 0, \"ticks\": \"\"}}, \"type\": \"scatter\"}], \"scatter3d\": [{\"line\": {\"colorbar\": {\"outlinewidth\": 0, \"ticks\": \"\"}}, \"marker\": {\"colorbar\": {\"outlinewidth\": 0, \"ticks\": \"\"}}, \"type\": \"scatter3d\"}], \"scattercarpet\": [{\"marker\": {\"colorbar\": {\"outlinewidth\": 0, \"ticks\": \"\"}}, \"type\": \"scattercarpet\"}], \"scattergeo\": [{\"marker\": {\"colorbar\": {\"outlinewidth\": 0, \"ticks\": \"\"}}, \"type\": \"scattergeo\"}], \"scattergl\": [{\"marker\": {\"colorbar\": {\"outlinewidth\": 0, \"ticks\": \"\"}}, \"type\": \"scattergl\"}], \"scattermapbox\": [{\"marker\": {\"colorbar\": {\"outlinewidth\": 0, \"ticks\": \"\"}}, \"type\": \"scattermapbox\"}], \"scatterpolar\": [{\"marker\": {\"colorbar\": {\"outlinewidth\": 0, \"ticks\": \"\"}}, \"type\": \"scatterpolar\"}], \"scatterpolargl\": [{\"marker\": {\"colorbar\": {\"outlinewidth\": 0, \"ticks\": \"\"}}, \"type\": \"scatterpolargl\"}], \"scatterternary\": [{\"marker\": {\"colorbar\": {\"outlinewidth\": 0, \"ticks\": \"\"}}, \"type\": \"scatterternary\"}], \"surface\": [{\"colorbar\": {\"outlinewidth\": 0, \"ticks\": \"\"}, \"colorscale\": [[0.0, \"#0d0887\"], [0.1111111111111111, \"#46039f\"], [0.2222222222222222, \"#7201a8\"], [0.3333333333333333, \"#9c179e\"], [0.4444444444444444, \"#bd3786\"], [0.5555555555555556, \"#d8576b\"], [0.6666666666666666, \"#ed7953\"], [0.7777777777777778, \"#fb9f3a\"], [0.8888888888888888, \"#fdca26\"], [1.0, \"#f0f921\"]], \"type\": \"surface\"}], \"table\": [{\"cells\": {\"fill\": {\"color\": \"#EBF0F8\"}, \"line\": {\"color\": \"white\"}}, \"header\": {\"fill\": {\"color\": \"#C8D4E3\"}, \"line\": {\"color\": \"white\"}}, \"type\": \"table\"}]}, \"layout\": {\"annotationdefaults\": {\"arrowcolor\": \"#2a3f5f\", \"arrowhead\": 0, \"arrowwidth\": 1}, \"coloraxis\": {\"colorbar\": {\"outlinewidth\": 0, \"ticks\": \"\"}}, \"colorscale\": {\"diverging\": [[0, \"#8e0152\"], [0.1, \"#c51b7d\"], [0.2, \"#de77ae\"], [0.3, \"#f1b6da\"], [0.4, \"#fde0ef\"], [0.5, \"#f7f7f7\"], [0.6, \"#e6f5d0\"], [0.7, \"#b8e186\"], [0.8, \"#7fbc41\"], [0.9, \"#4d9221\"], [1, \"#276419\"]], \"sequential\": [[0.0, \"#0d0887\"], [0.1111111111111111, \"#46039f\"], [0.2222222222222222, \"#7201a8\"], [0.3333333333333333, \"#9c179e\"], [0.4444444444444444, \"#bd3786\"], [0.5555555555555556, \"#d8576b\"], [0.6666666666666666, \"#ed7953\"], [0.7777777777777778, \"#fb9f3a\"], [0.8888888888888888, \"#fdca26\"], [1.0, \"#f0f921\"]], \"sequentialminus\": [[0.0, \"#0d0887\"], [0.1111111111111111, \"#46039f\"], [0.2222222222222222, \"#7201a8\"], [0.3333333333333333, \"#9c179e\"], [0.4444444444444444, \"#bd3786\"], [0.5555555555555556, \"#d8576b\"], [0.6666666666666666, \"#ed7953\"], [0.7777777777777778, \"#fb9f3a\"], [0.8888888888888888, \"#fdca26\"], [1.0, \"#f0f921\"]]}, \"colorway\": [\"#636efa\", \"#EF553B\", \"#00cc96\", \"#ab63fa\", \"#FFA15A\", \"#19d3f3\", \"#FF6692\", \"#B6E880\", \"#FF97FF\", \"#FECB52\"], \"font\": {\"color\": \"#2a3f5f\"}, \"geo\": {\"bgcolor\": \"white\", \"lakecolor\": \"white\", \"landcolor\": \"#E5ECF6\", \"showlakes\": true, \"showland\": true, \"subunitcolor\": \"white\"}, \"hoverlabel\": {\"align\": \"left\"}, \"hovermode\": \"closest\", \"mapbox\": {\"style\": \"light\"}, \"paper_bgcolor\": \"white\", \"plot_bgcolor\": \"#E5ECF6\", \"polar\": {\"angularaxis\": {\"gridcolor\": \"white\", \"linecolor\": \"white\", \"ticks\": \"\"}, \"bgcolor\": \"#E5ECF6\", \"radialaxis\": {\"gridcolor\": \"white\", \"linecolor\": \"white\", \"ticks\": \"\"}}, \"scene\": {\"xaxis\": {\"backgroundcolor\": \"#E5ECF6\", \"gridcolor\": \"white\", \"gridwidth\": 2, \"linecolor\": \"white\", \"showbackground\": true, \"ticks\": \"\", \"zerolinecolor\": \"white\"}, \"yaxis\": {\"backgroundcolor\": \"#E5ECF6\", \"gridcolor\": \"white\", \"gridwidth\": 2, \"linecolor\": \"white\", \"showbackground\": true, \"ticks\": \"\", \"zerolinecolor\": \"white\"}, \"zaxis\": {\"backgroundcolor\": \"#E5ECF6\", \"gridcolor\": \"white\", \"gridwidth\": 2, \"linecolor\": \"white\", \"showbackground\": true, \"ticks\": \"\", \"zerolinecolor\": \"white\"}}, \"shapedefaults\": {\"line\": {\"color\": \"#2a3f5f\"}}, \"ternary\": {\"aaxis\": {\"gridcolor\": \"white\", \"linecolor\": \"white\", \"ticks\": \"\"}, \"baxis\": {\"gridcolor\": \"white\", \"linecolor\": \"white\", \"ticks\": \"\"}, \"bgcolor\": \"#E5ECF6\", \"caxis\": {\"gridcolor\": \"white\", \"linecolor\": \"white\", \"ticks\": \"\"}}, \"title\": {\"x\": 0.05}, \"xaxis\": {\"automargin\": true, \"gridcolor\": \"white\", \"linecolor\": \"white\", \"ticks\": \"\", \"title\": {\"standoff\": 15}, \"zerolinecolor\": \"white\", \"zerolinewidth\": 2}, \"yaxis\": {\"automargin\": true, \"gridcolor\": \"white\", \"linecolor\": \"white\", \"ticks\": \"\", \"title\": {\"standoff\": 15}, \"zerolinecolor\": \"white\", \"zerolinewidth\": 2}}}, \"title\": {\"text\": \"NDVI_NE\"}, \"width\": 1200, \"xaxis\": {\"anchor\": \"y\", \"domain\": [0.0, 1.0]}, \"yaxis\": {\"anchor\": \"x\", \"domain\": [0.0, 1.0]}},\n",
              "                        {\"responsive\": true}\n",
              "                    ).then(function(){\n",
              "                            \n",
              "var gd = document.getElementById('10fbc294-dd71-458f-a6bf-77fc9946c2b1');\n",
              "var x = new MutationObserver(function (mutations, observer) {{\n",
              "        var display = window.getComputedStyle(gd).display;\n",
              "        if (!display || display === 'none') {{\n",
              "            console.log([gd, 'removed!']);\n",
              "            Plotly.purge(gd);\n",
              "            observer.disconnect();\n",
              "        }}\n",
              "}});\n",
              "\n",
              "// Listen for the removal of the full notebook cells\n",
              "var notebookContainer = gd.closest('#notebook-container');\n",
              "if (notebookContainer) {{\n",
              "    x.observe(notebookContainer, {childList: true});\n",
              "}}\n",
              "\n",
              "// Listen for the clearing of the current output cell\n",
              "var outputEl = gd.closest('.output');\n",
              "if (outputEl) {{\n",
              "    x.observe(outputEl, {childList: true});\n",
              "}}\n",
              "\n",
              "                        })\n",
              "                };\n",
              "                \n",
              "            </script>\n",
              "        </div>\n",
              "</body>\n",
              "</html>"
            ]
          },
          "metadata": {
            "tags": []
          }
        }
      ]
    },
    {
      "cell_type": "code",
      "metadata": {
        "id": "mTlMlqM6P8Qu"
      },
      "source": [
        ""
      ],
      "execution_count": 50,
      "outputs": []
    },
    {
      "cell_type": "markdown",
      "metadata": {
        "id": "H6nZdAbsP8yg"
      },
      "source": [
        "Gradient boosting NDVI"
      ]
    },
    {
      "cell_type": "code",
      "metadata": {
        "colab": {
          "base_uri": "https://localhost:8080/",
          "height": 417
        },
        "id": "uCl7D3swQZY3",
        "outputId": "e5f6b455-2183-4d2b-c414-a57751ea869f"
      },
      "source": [
        "XX_ndv"
      ],
      "execution_count": 51,
      "outputs": [
        {
          "output_type": "execute_result",
          "data": {
            "text/html": [
              "<div>\n",
              "<style scoped>\n",
              "    .dataframe tbody tr th:only-of-type {\n",
              "        vertical-align: middle;\n",
              "    }\n",
              "\n",
              "    .dataframe tbody tr th {\n",
              "        vertical-align: top;\n",
              "    }\n",
              "\n",
              "    .dataframe thead th {\n",
              "        text-align: right;\n",
              "    }\n",
              "</style>\n",
              "<table border=\"1\" class=\"dataframe\">\n",
              "  <thead>\n",
              "    <tr style=\"text-align: right;\">\n",
              "      <th></th>\n",
              "      <th>ndvi_ne</th>\n",
              "      <th>ndvi_nw</th>\n",
              "      <th>ndvi_se</th>\n",
              "      <th>ndvi_sw</th>\n",
              "      <th>ne_pred</th>\n",
              "      <th>ssz</th>\n",
              "    </tr>\n",
              "  </thead>\n",
              "  <tbody>\n",
              "    <tr>\n",
              "      <th>0</th>\n",
              "      <td>0.122600</td>\n",
              "      <td>0.103725</td>\n",
              "      <td>0.198483</td>\n",
              "      <td>0.177617</td>\n",
              "      <td>0.089770</td>\n",
              "      <td>0</td>\n",
              "    </tr>\n",
              "    <tr>\n",
              "      <th>1</th>\n",
              "      <td>0.169900</td>\n",
              "      <td>0.142175</td>\n",
              "      <td>0.162357</td>\n",
              "      <td>0.155486</td>\n",
              "      <td>0.130848</td>\n",
              "      <td>1</td>\n",
              "    </tr>\n",
              "    <tr>\n",
              "      <th>2</th>\n",
              "      <td>0.032250</td>\n",
              "      <td>0.172967</td>\n",
              "      <td>0.157200</td>\n",
              "      <td>0.170843</td>\n",
              "      <td>0.131688</td>\n",
              "      <td>2</td>\n",
              "    </tr>\n",
              "    <tr>\n",
              "      <th>3</th>\n",
              "      <td>0.128633</td>\n",
              "      <td>0.245067</td>\n",
              "      <td>0.227557</td>\n",
              "      <td>0.235886</td>\n",
              "      <td>0.134268</td>\n",
              "      <td>3</td>\n",
              "    </tr>\n",
              "    <tr>\n",
              "      <th>4</th>\n",
              "      <td>0.196200</td>\n",
              "      <td>0.262200</td>\n",
              "      <td>0.251200</td>\n",
              "      <td>0.247340</td>\n",
              "      <td>0.200626</td>\n",
              "      <td>4</td>\n",
              "    </tr>\n",
              "    <tr>\n",
              "      <th>...</th>\n",
              "      <td>...</td>\n",
              "      <td>...</td>\n",
              "      <td>...</td>\n",
              "      <td>...</td>\n",
              "      <td>...</td>\n",
              "      <td>...</td>\n",
              "    </tr>\n",
              "    <tr>\n",
              "      <th>930</th>\n",
              "      <td>0.044900</td>\n",
              "      <td>0.024450</td>\n",
              "      <td>0.101629</td>\n",
              "      <td>0.088000</td>\n",
              "      <td>0.045078</td>\n",
              "      <td>930</td>\n",
              "    </tr>\n",
              "    <tr>\n",
              "      <th>931</th>\n",
              "      <td>0.077850</td>\n",
              "      <td>-0.039900</td>\n",
              "      <td>0.310471</td>\n",
              "      <td>0.296243</td>\n",
              "      <td>0.006664</td>\n",
              "      <td>931</td>\n",
              "    </tr>\n",
              "    <tr>\n",
              "      <th>932</th>\n",
              "      <td>-0.038000</td>\n",
              "      <td>-0.016833</td>\n",
              "      <td>0.119371</td>\n",
              "      <td>0.066386</td>\n",
              "      <td>-0.000386</td>\n",
              "      <td>932</td>\n",
              "    </tr>\n",
              "    <tr>\n",
              "      <th>933</th>\n",
              "      <td>-0.155200</td>\n",
              "      <td>-0.052750</td>\n",
              "      <td>0.137757</td>\n",
              "      <td>0.141214</td>\n",
              "      <td>-0.081242</td>\n",
              "      <td>933</td>\n",
              "    </tr>\n",
              "    <tr>\n",
              "      <th>935</th>\n",
              "      <td>-0.037000</td>\n",
              "      <td>-0.010367</td>\n",
              "      <td>0.077314</td>\n",
              "      <td>0.090586</td>\n",
              "      <td>0.007598</td>\n",
              "      <td>935</td>\n",
              "    </tr>\n",
              "  </tbody>\n",
              "</table>\n",
              "<p>727 rows × 6 columns</p>\n",
              "</div>"
            ],
            "text/plain": [
              "      ndvi_ne   ndvi_nw   ndvi_se   ndvi_sw   ne_pred  ssz\n",
              "0    0.122600  0.103725  0.198483  0.177617  0.089770    0\n",
              "1    0.169900  0.142175  0.162357  0.155486  0.130848    1\n",
              "2    0.032250  0.172967  0.157200  0.170843  0.131688    2\n",
              "3    0.128633  0.245067  0.227557  0.235886  0.134268    3\n",
              "4    0.196200  0.262200  0.251200  0.247340  0.200626    4\n",
              "..        ...       ...       ...       ...       ...  ...\n",
              "930  0.044900  0.024450  0.101629  0.088000  0.045078  930\n",
              "931  0.077850 -0.039900  0.310471  0.296243  0.006664  931\n",
              "932 -0.038000 -0.016833  0.119371  0.066386 -0.000386  932\n",
              "933 -0.155200 -0.052750  0.137757  0.141214 -0.081242  933\n",
              "935 -0.037000 -0.010367  0.077314  0.090586  0.007598  935\n",
              "\n",
              "[727 rows x 6 columns]"
            ]
          },
          "metadata": {
            "tags": []
          },
          "execution_count": 51
        }
      ]
    },
    {
      "cell_type": "code",
      "metadata": {
        "colab": {
          "base_uri": "https://localhost:8080/"
        },
        "id": "L1VLK2ZFPvD_",
        "outputId": "06352d46-1aef-44fb-f07c-3957ac39c9ff"
      },
      "source": [
        "ne_regressor=GradientBoostingRegressor(n_estimators=3900,verbose=1)\n",
        "X_ndv=XX_ndv[XX_ndv.index<800]\n",
        "X_ndv_test=XX_ndv[XX_ndv.index>=800]\n",
        "\n",
        "ndv_features=[\"ndvi_nw\",\"ndvi_se\",\"ndvi_sw\"]\n",
        "yy=X_ndv[['ndvi_ne']]\n",
        "\n",
        "ne_regressor.fit(X_ndv[ndv_features],yy)\n",
        "y_pred=ne_regressor.predict(X_ndv[ndv_features])\n",
        "X_ndv[\"gradientboosting_ne\"]=y_pred\n",
        "\n",
        "y_pred=ne_regressor.predict(X_ndv_test[ndv_features])\n",
        "X_ndv_test[\"gradientboosting_ne\"]=y_pred\n",
        "\n"
      ],
      "execution_count": 52,
      "outputs": [
        {
          "output_type": "stream",
          "text": [
            "/usr/local/lib/python3.7/dist-packages/sklearn/ensemble/_gb.py:1454: DataConversionWarning:\n",
            "\n",
            "A column-vector y was passed when a 1d array was expected. Please change the shape of y to (n_samples, ), for example using ravel().\n",
            "\n"
          ],
          "name": "stderr"
        },
        {
          "output_type": "stream",
          "text": [
            "      Iter       Train Loss   Remaining Time \n",
            "         1           0.0099            5.83s\n",
            "         2           0.0090            5.20s\n",
            "         3           0.0083            5.43s\n",
            "         4           0.0077            5.19s\n",
            "         5           0.0072            5.12s\n",
            "         6           0.0068            5.20s\n",
            "         7           0.0064            5.18s\n",
            "         8           0.0061            5.16s\n",
            "         9           0.0059            5.16s\n",
            "        10           0.0057            5.13s\n",
            "        20           0.0047            4.42s\n",
            "        30           0.0041            4.29s\n",
            "        40           0.0037            4.09s\n",
            "        50           0.0035            3.89s\n",
            "        60           0.0032            3.78s\n",
            "        70           0.0030            3.68s\n",
            "        80           0.0029            3.59s\n",
            "        90           0.0027            3.53s\n",
            "       100           0.0026            3.50s\n",
            "       200           0.0016            3.11s\n",
            "       300           0.0011            2.98s\n",
            "       400           0.0007            2.96s\n",
            "       500           0.0005            2.84s\n",
            "       600           0.0003            2.72s\n",
            "       700           0.0002            2.63s\n",
            "       800           0.0002            2.55s\n",
            "       900           0.0001            2.48s\n",
            "      1000           0.0001            2.40s\n",
            "      2000           0.0000            1.69s\n",
            "      3000           0.0000            0.76s\n"
          ],
          "name": "stdout"
        },
        {
          "output_type": "stream",
          "text": [
            "/usr/local/lib/python3.7/dist-packages/ipykernel_launcher.py:10: SettingWithCopyWarning:\n",
            "\n",
            "\n",
            "A value is trying to be set on a copy of a slice from a DataFrame.\n",
            "Try using .loc[row_indexer,col_indexer] = value instead\n",
            "\n",
            "See the caveats in the documentation: https://pandas.pydata.org/pandas-docs/stable/user_guide/indexing.html#returning-a-view-versus-a-copy\n",
            "\n",
            "/usr/local/lib/python3.7/dist-packages/ipykernel_launcher.py:13: SettingWithCopyWarning:\n",
            "\n",
            "\n",
            "A value is trying to be set on a copy of a slice from a DataFrame.\n",
            "Try using .loc[row_indexer,col_indexer] = value instead\n",
            "\n",
            "See the caveats in the documentation: https://pandas.pydata.org/pandas-docs/stable/user_guide/indexing.html#returning-a-view-versus-a-copy\n",
            "\n"
          ],
          "name": "stderr"
        }
      ]
    },
    {
      "cell_type": "code",
      "metadata": {
        "id": "le5_iY7u6DxT",
        "colab": {
          "base_uri": "https://localhost:8080/",
          "height": 1000
        },
        "outputId": "fae927d9-4a8d-49c8-e51a-6f8ccc9cb49d"
      },
      "source": [
        "grafikon(X_ndv,\"ssz\",\"ndvi_ne\",\"ndvi_ne\",\"gradientboosting_ne\",\"gradientboosting_ne\",ngraf=2,title=\"gradientboosting_ne\")\n",
        "grafikon(X_ndv_test,\"ssz\",\"ndvi_ne\",\"ndvi_ne\",\"gradientboosting_ne\",\"gradientboosting_ne\",ngraf=2,title=\"gradientboosting_ne\")\n"
      ],
      "execution_count": 53,
      "outputs": [
        {
          "output_type": "display_data",
          "data": {
            "text/html": [
              "<html>\n",
              "<head><meta charset=\"utf-8\" /></head>\n",
              "<body>\n",
              "    <div>\n",
              "            <script src=\"https://cdnjs.cloudflare.com/ajax/libs/mathjax/2.7.5/MathJax.js?config=TeX-AMS-MML_SVG\"></script><script type=\"text/javascript\">if (window.MathJax) {MathJax.Hub.Config({SVG: {font: \"STIX-Web\"}});}</script>\n",
              "                <script type=\"text/javascript\">window.PlotlyConfig = {MathJaxConfig: 'local'};</script>\n",
              "        <script src=\"https://cdn.plot.ly/plotly-latest.min.js\"></script>    \n",
              "            <div id=\"ad219c2b-927b-4959-b1e1-6c5e9898033a\" class=\"plotly-graph-div\" style=\"height:600px; width:1200px;\"></div>\n",
              "            <script type=\"text/javascript\">\n",
              "                \n",
              "                    window.PLOTLYENV=window.PLOTLYENV || {};\n",
              "                    \n",
              "                if (document.getElementById(\"ad219c2b-927b-4959-b1e1-6c5e9898033a\")) {\n",
              "                    Plotly.newPlot(\n",
              "                        'ad219c2b-927b-4959-b1e1-6c5e9898033a',\n",
              "                        [{\"line\": {\"color\": \"rgba(35,128,132,0.8)\"}, \"name\": \"ndvi_ne\", \"showlegend\": true, \"type\": \"scatter\", \"x\": [0, 1, 2, 3, 4, 6, 7, 8, 10, 11, 12, 16, 17, 18, 19, 20, 21, 22, 23, 25, 26, 27, 28, 29, 30, 31, 32, 33, 34, 35, 38, 39, 40, 41, 43, 44, 46, 47, 48, 49, 50, 52, 53, 55, 56, 57, 58, 59, 60, 64, 66, 68, 69, 70, 71, 72, 73, 74, 75, 76, 77, 78, 79, 80, 81, 82, 83, 84, 86, 88, 89, 90, 92, 97, 98, 100, 101, 102, 103, 104, 105, 106, 107, 109, 110, 111, 112, 113, 115, 116, 117, 118, 119, 120, 121, 123, 124, 125, 126, 127, 128, 129, 130, 131, 132, 133, 134, 135, 136, 138, 140, 141, 143, 144, 145, 146, 148, 149, 150, 151, 152, 154, 155, 157, 158, 159, 160, 161, 164, 165, 166, 167, 168, 169, 171, 172, 173, 174, 175, 176, 177, 178, 179, 180, 182, 184, 185, 186, 187, 189, 190, 192, 193, 194, 195, 196, 197, 198, 201, 202, 203, 204, 205, 206, 208, 209, 210, 211, 212, 213, 214, 216, 217, 218, 219, 220, 221, 223, 224, 225, 226, 227, 243, 244, 246, 247, 249, 251, 252, 253, 254, 255, 256, 259, 260, 262, 263, 264, 266, 267, 268, 269, 270, 272, 274, 275, 276, 277, 278, 279, 280, 281, 282, 283, 284, 285, 287, 288, 289, 290, 292, 293, 295, 296, 297, 298, 299, 300, 301, 303, 305, 306, 308, 309, 310, 312, 313, 315, 316, 317, 318, 319, 320, 322, 323, 324, 325, 327, 329, 330, 331, 333, 334, 335, 337, 338, 339, 340, 343, 346, 347, 349, 350, 351, 352, 353, 354, 358, 359, 361, 362, 363, 364, 365, 366, 367, 368, 369, 370, 371, 372, 373, 374, 375, 377, 378, 379, 381, 382, 383, 384, 385, 386, 387, 388, 392, 394, 395, 398, 400, 401, 402, 403, 404, 405, 407, 408, 410, 412, 413, 414, 415, 416, 419, 420, 421, 422, 423, 424, 425, 426, 427, 428, 429, 430, 431, 432, 433, 434, 435, 437, 438, 441, 442, 444, 446, 447, 448, 449, 450, 453, 454, 455, 458, 459, 460, 461, 462, 463, 464, 466, 467, 468, 469, 473, 474, 478, 479, 480, 481, 482, 484, 485, 487, 488, 489, 490, 491, 492, 495, 496, 497, 498, 499, 501, 502, 503, 504, 505, 506, 507, 508, 510, 512, 513, 514, 515, 517, 518, 519, 520, 521, 523, 524, 525, 526, 527, 528, 529, 530, 531, 532, 533, 534, 535, 536, 537, 539, 540, 541, 543, 544, 545, 546, 547, 548, 549, 551, 552, 553, 554, 555, 556, 558, 559, 561, 562, 563, 564, 565, 566, 568, 570, 573, 574, 575, 576, 577, 579, 580, 581, 582, 583, 584, 585, 586, 587, 588, 590, 591, 592, 593, 594, 595, 597, 598, 599, 600, 601, 602, 603, 604, 605, 606, 607, 608, 609, 610, 612, 613, 614, 615, 616, 617, 618, 619, 620, 621, 623, 624, 625, 626, 627, 628, 629, 633, 634, 636, 637, 638, 639, 640, 641, 642, 643, 645, 646, 647, 649, 650, 651, 652, 654, 655, 656, 657, 658, 659, 660, 661, 662, 663, 664, 666, 667, 668, 669, 670, 671, 672, 673, 675, 676, 677, 678, 680, 682, 683, 684, 685, 687, 688, 689, 690, 691, 692, 695, 696, 697, 699, 700, 701, 702, 704, 705, 706, 707, 708, 709, 710, 712, 714, 715, 717, 718, 719, 720, 721, 723, 725, 726, 730, 731, 732, 733, 734, 735, 736, 738, 739, 740, 741, 742, 743, 744, 745, 746, 747, 750, 751, 753, 754, 755, 756, 757, 758, 759, 760, 761, 762, 764, 765, 766, 767, 768, 769, 771, 772, 774, 775, 777, 778, 779, 781, 782, 784, 785, 786, 787, 789, 790, 791, 792, 793, 794, 796, 797, 799], \"xaxis\": \"x\", \"y\": [0.1226, 0.1699, 0.03225, 0.1286333, 0.1962, 0.1129, 0.0725, 0.10245, 0.192875, 0.2916, 0.15056670000000003, 0.1902333, 0.2529, 0.2354, 0.1279667, 0.19635, 0.1161, 0.22855, 0.17115, 0.1462, 0.25225, 0.1526, 0.2908, 0.2722, 0.13676670000000002, 0.1098, 0.12135, 0.2931333, 0.3025, 0.1465, 0.3313, 0.0917, 0.3801, 0.0712, 0.1702, 0.21075, 0.1279, 0.28035, 0.1691, 0.1765, 0.0774, 0.20916669999999998, 0.11595, 0.0669, 0.1401, 0.08585, 0.1091, 0.0596, 0.07965, 0.0801, 0.07315, 0.0569, 0.0693, 0.10805, 0.10475, 0.1098, 0.1676, 0.1291, 0.09300000000000001, 0.0137, 0.1944, 0.094, 0.0544, 0.0954, 0.00825, 0.08786667, 0.0802, -0.02665, 0.12355, 0.10083330000000001, 0.2224, 0.12253330000000001, 0.1016, 0.08685, 0.05305, 0.09995, 0.1039, 0.07515, 0.0922, 0.0125, 0.10875, 0.101875, 0.1024, 0.12165, 0.08395, 0.10445, 0.1302, 0.1194, 0.11199999999999999, -0.1396, 0.0539, 0.152675, 0.16395, 0.1146, 0.0875, 0.123975, 0.0519, 0.1435, 0.1972, 0.137225, 0.3371, -0.0156, 0.1242, 0.0866, 0.11800000000000001, 0.0764, 0.0971, 0.1083, 0.0547, -0.01008, 0.02835, 0.03006667, 0.06613333, 0.047425, 0.2738, 0.11086669999999998, 0.1744667, 0.09403333, -0.0411, 0.03225, 0.1194, -0.0158, 0.0828, 0.07965, 0.07305, 0.1769, 0.01645, 0.00305, 0.0374, 0.1237667, 0.0689, 0.0375, 0.1204, 0.08285, 0.1016, 0.0969, 0.10885, 0.0979, 0.1121, 0.1199, 0.0054, 0.034, 0.1213, 0.1317, 0.11699999999999999, -0.1589, 0.17315, 0.1071, 0.3572667, -0.2902, -0.0237, -0.1209, 0.1435, 0.0741, 0.0912, 0.2588, 0.0882, 0.3633, 0.1125, 0.1468, 0.0412, 0.0978, 0.10800000000000001, 0.16435, 0.0805, 0.0652, 0.1111, 0.0742, 0.1178, 0.1097, 0.08005, -0.0323, 0.12526669999999998, 0.12325, 0.1396, 0.0424, 0.183, 0.04465, 0.06666667, 0.1564, 0.02185, 0.04585, 0.2438, 0.223075, -0.1193, 0.05175, 0.03233333, 0.0935, 0.07355, 0.14535, 0.0739, 0.031, 0.19862, 0.1017, 0.1281, 0.14345, 0.0363, 0.0322, 0.15495, 0.08955, 0.22135, 0.2319333, 0.3093, 0.1175, 0.0632, 0.047, 0.08396667, 0.1131, 0.0326, 0.1071, 0.0568, 0.11863330000000001, 0.1068, 0.2808, 0.040825, 0.033625, 0.2346, 0.0174, 0.0406, 0.0334, 0.1154, -0.0139, 0.013999999999999999, 0.1514333, 0.0149, 0.0958, 0.0627, 0.02765, 0.06895, 0.076, 0.03786667, 0.07713333, 0.0448, 0.0497, 0.08893333, 0.3144667, -0.0464, 0.0339, 0.09985, 0.0529, 0.0986, 0.07125, 0.16555, 0.05763333, 0.1121, 0.0038, 0.09683333, 0.0795, 0.01203333, 0.0364, 0.1043, 0.04044, -0.0385, -0.0066, -0.0969, 0.00525, -0.05675, -0.03006667, -0.1171, 0.0214, 0.15263329999999997, -0.1459, 0.0495, 0.0451, 0.04245, 0.0455, 0.0297, 0.1409, 0.11245, 0.0602, 0.033075, 0.0388, -0.0035, -0.0597, 0.1019, 0.0798, 0.0235, 0.0557, 0.1197, 0.0108, 0.0749, 0.1012, 0.0883, -0.0562, 0.1393, 0.0981, 0.008933333, 0.06065, 0.1072, 0.03495, -0.049, 0.12258, 0.1123, 0.0019, -0.01515, 0.0695, 0.2192, 0.0568, 0.0663, 0.05076667, -0.01615, 0.1797, 0.13155, -0.0479, 0.11825, 0.1545, 0.06366667, 0.0604, 0.0672, 0.048, 0.0308, 0.0671, 0.1063, -0.003, 0.0484, -0.0427, 0.12125, 0.0725, 0.03745, 0.0715, -0.03095, 0.0289, 0.0554, 0.14065, 0.02866667, 0.05346667, 0.1072, 0.0307, 0.0388, 0.07465, 0.05085, -0.0022, 0.0213, -0.0359, 0.0038666670000000003, 0.0501, 0.05675, 0.0619, -0.08216667, 0.06056667, -0.1399, -0.0698, 0.0535, 0.0263, 0.12905, -0.0509, -0.071225, -0.10475, 0.135, 0.0541, 0.0341, 0.0869, 0.07295, 0.064, 0.04023333, 0.0499, 0.09746667, 0.0545, 0.1169, 0.0101, -0.07305, 0.01015, -0.01465, 0.087, -0.0121, 0.08305, 0.05016667, 0.1322, -0.0864, 0.06275, 0.1235, -0.0454, 0.0005, 0.1536, 0.10558, 0.1088, -0.1336, 0.20635, 0.337, 0.353, 0.3419, 0.29455, 0.19316670000000002, 0.17025, 0.3779, 0.2311, 0.2204, 0.2050333, 0.07435, -0.287, 0.1544, 0.1302, 0.0865, 0.1882, 0.0849, 0.1459, 0.1097, 0.1431, 0.11045, 0.0812, 0.17185, 0.22305, 0.1667, 0.13025, 0.14415, 0.17645, 0.2156667, 0.1591, 0.0577, 0.1961, 0.253975, 0.38, 0.10035, 0.1535, 0.19015, 0.11056669999999999, 0.0979, 0.12015, 0.11875, 0.0044, 0.0632, 0.0048333329999999996, 0.09436667, 0.0411, 0.00915, -0.04485, 0.2170333, 0.4462667, 0.2485, 0.4229, 0.1274333, 0.2127, 0.0728, 0.0371, 0.1031, 0.08607999999999999, 0.0619, 0.0312, -0.02865, 0.02185, -0.0227, -0.0817, 0.0073, -0.0198, 0.0287, 0.2467, 0.08985, 0.0172, -0.0273, 0.1954, -0.0412, 0.0986, 0.16025, 0.0633, -0.0141, -0.01935, 0.0284, 0.0941, 0.1663, 0.21515, -0.0468, 0.0081, 0.02285, 0.1814, 0.05475, 0.106425, 0.0594, 0.0288, -0.0674, 0.0491, 0.0478, 0.0315, 0.042, 0.0709, 0.1535, 0.1777, -0.0056, -0.0263, -0.0176, 0.1506, 0.19375, 0.1138, 0.03345, 0.05325, 0.04185, -0.009666667, -0.02455, -0.07045, -0.0836, -0.0006, 0.0001, 0.0776, 0.0009, 0.0895, 0.033, 0.0541, 0.07375, -0.05385, -0.1115, 0.00735, 0.2614, 0.14783329999999997, -0.005633333000000001, -0.2439, -0.1743, -0.043, 0.0358, -0.07195, -0.2, 0.0466, 0.053739999999999996, 0.0214, 0.0567, 0.0015, -0.03046667, -0.20635, 0.02535, -0.05203333, -0.1169, 0.0925, 0.12815, -0.078, 0.0681, -0.0477, 0.01485, -0.0457, 0.05063333, 0.0675, -0.1798, -0.0853, -0.05675, 0.1045, 0.04995, 0.0785, 0.0348, 0.0726, 0.09445, -0.0939, -0.0874, 0.0204, 0.0161, -0.0416, 0.0892, 0.06925, -0.21795, -0.07015, -0.00305, -0.1476, -0.03753333, 0.02085, -0.0731, -0.18635, -0.0535, -0.0423, -0.1567, 0.05716667, -0.0638, -0.0505, -0.40625, 0.4934, 0.0061, -0.0904, 0.05286667, -0.02563333, -0.07055, 0.0218, 0.017425, 0.0101, -0.0267, -0.0529, 0.0674, -0.0117, 0.0058, 0.0374, -0.0164, 0.0996, 0.0414, 0.1076, 0.033475, -0.0168, 0.0969, 0.0802, 0.1337, 0.0199, 0.3274, 0.0435, -0.1613, -0.0039, -0.15165, -0.1261, 0.0079, 0.02435, -0.11183330000000001, -0.0479, 0.0442, -0.08175, 0.1083, -0.10366669999999999, 0.0644, -0.044000000000000004, 0.0045, -0.1235, 0.01683333, -0.1362, 0.06313333, 0.0476, -0.0143, 0.0606, 0.0449, 0.0892, 0.0854, 0.0514, -0.0665, -0.1087, -0.06475, 0.0479, -0.1224, 0.0022], \"yaxis\": \"y\"}, {\"line\": {\"color\": \"rgba(193,99,99,0.8)\"}, \"name\": \"gradientboosting_ne\", \"showlegend\": true, \"type\": \"scatter\", \"x\": [0, 1, 2, 3, 4, 6, 7, 8, 10, 11, 12, 16, 17, 18, 19, 20, 21, 22, 23, 25, 26, 27, 28, 29, 30, 31, 32, 33, 34, 35, 38, 39, 40, 41, 43, 44, 46, 47, 48, 49, 50, 52, 53, 55, 56, 57, 58, 59, 60, 64, 66, 68, 69, 70, 71, 72, 73, 74, 75, 76, 77, 78, 79, 80, 81, 82, 83, 84, 86, 88, 89, 90, 92, 97, 98, 100, 101, 102, 103, 104, 105, 106, 107, 109, 110, 111, 112, 113, 115, 116, 117, 118, 119, 120, 121, 123, 124, 125, 126, 127, 128, 129, 130, 131, 132, 133, 134, 135, 136, 138, 140, 141, 143, 144, 145, 146, 148, 149, 150, 151, 152, 154, 155, 157, 158, 159, 160, 161, 164, 165, 166, 167, 168, 169, 171, 172, 173, 174, 175, 176, 177, 178, 179, 180, 182, 184, 185, 186, 187, 189, 190, 192, 193, 194, 195, 196, 197, 198, 201, 202, 203, 204, 205, 206, 208, 209, 210, 211, 212, 213, 214, 216, 217, 218, 219, 220, 221, 223, 224, 225, 226, 227, 243, 244, 246, 247, 249, 251, 252, 253, 254, 255, 256, 259, 260, 262, 263, 264, 266, 267, 268, 269, 270, 272, 274, 275, 276, 277, 278, 279, 280, 281, 282, 283, 284, 285, 287, 288, 289, 290, 292, 293, 295, 296, 297, 298, 299, 300, 301, 303, 305, 306, 308, 309, 310, 312, 313, 315, 316, 317, 318, 319, 320, 322, 323, 324, 325, 327, 329, 330, 331, 333, 334, 335, 337, 338, 339, 340, 343, 346, 347, 349, 350, 351, 352, 353, 354, 358, 359, 361, 362, 363, 364, 365, 366, 367, 368, 369, 370, 371, 372, 373, 374, 375, 377, 378, 379, 381, 382, 383, 384, 385, 386, 387, 388, 392, 394, 395, 398, 400, 401, 402, 403, 404, 405, 407, 408, 410, 412, 413, 414, 415, 416, 419, 420, 421, 422, 423, 424, 425, 426, 427, 428, 429, 430, 431, 432, 433, 434, 435, 437, 438, 441, 442, 444, 446, 447, 448, 449, 450, 453, 454, 455, 458, 459, 460, 461, 462, 463, 464, 466, 467, 468, 469, 473, 474, 478, 479, 480, 481, 482, 484, 485, 487, 488, 489, 490, 491, 492, 495, 496, 497, 498, 499, 501, 502, 503, 504, 505, 506, 507, 508, 510, 512, 513, 514, 515, 517, 518, 519, 520, 521, 523, 524, 525, 526, 527, 528, 529, 530, 531, 532, 533, 534, 535, 536, 537, 539, 540, 541, 543, 544, 545, 546, 547, 548, 549, 551, 552, 553, 554, 555, 556, 558, 559, 561, 562, 563, 564, 565, 566, 568, 570, 573, 574, 575, 576, 577, 579, 580, 581, 582, 583, 584, 585, 586, 587, 588, 590, 591, 592, 593, 594, 595, 597, 598, 599, 600, 601, 602, 603, 604, 605, 606, 607, 608, 609, 610, 612, 613, 614, 615, 616, 617, 618, 619, 620, 621, 623, 624, 625, 626, 627, 628, 629, 633, 634, 636, 637, 638, 639, 640, 641, 642, 643, 645, 646, 647, 649, 650, 651, 652, 654, 655, 656, 657, 658, 659, 660, 661, 662, 663, 664, 666, 667, 668, 669, 670, 671, 672, 673, 675, 676, 677, 678, 680, 682, 683, 684, 685, 687, 688, 689, 690, 691, 692, 695, 696, 697, 699, 700, 701, 702, 704, 705, 706, 707, 708, 709, 710, 712, 714, 715, 717, 718, 719, 720, 721, 723, 725, 726, 730, 731, 732, 733, 734, 735, 736, 738, 739, 740, 741, 742, 743, 744, 745, 746, 747, 750, 751, 753, 754, 755, 756, 757, 758, 759, 760, 761, 762, 764, 765, 766, 767, 768, 769, 771, 772, 774, 775, 777, 778, 779, 781, 782, 784, 785, 786, 787, 789, 790, 791, 792, 793, 794, 796, 797, 799], \"xaxis\": \"x\", \"y\": [0.12226906296091068, 0.17020698118054703, 0.03275081751904986, 0.1284418518262054, 0.19626286272323193, 0.11257995906596925, 0.07308825568631726, 0.10238880952649418, 0.19235854744949737, 0.2915338465375751, 0.15027879070753103, 0.18980147676288395, 0.25300954092086064, 0.23569262553296094, 0.12799833321242582, 0.19637435417036314, 0.11609271317320666, 0.22784052632066723, 0.1707875942520123, 0.14567957363990613, 0.2520708642657639, 0.15298644533367559, 0.2903809607771471, 0.2721686995707628, 0.13691136677513518, 0.10972065251282485, 0.12136699430952146, 0.2931019549972738, 0.30218477114696407, 0.14658187302982553, 0.3314629507654989, 0.09178492603752565, 0.3801044222008655, 0.07155587819948105, 0.17045346176120948, 0.2108909015588207, 0.1281777224659321, 0.28017481703890695, 0.16891005603946774, 0.1764904350950184, 0.0771693782531995, 0.20861021414595146, 0.11583670544514332, 0.06706352347330925, 0.13980389338977092, 0.08588372327554575, 0.10864121212074225, 0.059972038783998996, 0.0798173668465359, 0.08004636494478362, 0.07353391421557039, 0.05660089937927141, 0.06938251535568316, 0.10799352489760727, 0.10483544478200532, 0.10964918644350624, 0.16716349736359284, 0.12896379827725132, 0.09242048404537019, 0.014209860965268883, 0.1940584623033432, 0.09368379359384545, 0.05432388916896253, 0.09588880668708151, 0.008203705491364123, 0.0878646261249524, 0.07973227015474366, -0.026285769554413727, 0.12380955707146318, 0.10035412833174062, 0.22222812551358367, 0.12279659732006798, 0.1013769658873779, 0.08704615535896557, 0.05363715338637711, 0.1001069521317911, 0.10364833325568826, 0.07499064340410125, 0.0918639904645418, 0.012451908728184326, 0.10921363105050487, 0.10159451817448255, 0.10237175275951997, 0.12150340928814199, 0.08434214190644454, 0.10457801868952994, 0.12984366245565382, 0.1201352703220363, 0.11177234064934731, -0.1391021177155922, 0.05442459207855929, 0.15212776623039723, 0.16355736538245927, 0.11446332454055325, 0.08758471455389748, 0.12393163287867827, 0.051483466573950414, 0.14310088511388436, 0.19723480102478907, 0.13720796467901683, 0.3371117254416477, -0.015376410177189721, 0.12396404300417957, 0.08640121012898726, 0.11813000242208996, 0.07660539499566583, 0.0968423974499807, 0.10838324578572493, 0.054684277186358675, -0.010058079550821957, 0.028315920552883976, 0.029601804753809115, 0.06586089346223883, 0.04766463305550041, 0.27346320971678106, 0.1111002747933599, 0.17424755478504853, 0.0939714155814888, -0.04068023512528785, 0.03204325947279905, 0.1190239190630463, -0.015651628703291485, 0.08303461186799348, 0.07910310417599956, 0.07278809555397027, 0.17649057743132784, 0.01628856014237009, 0.003593550150045521, 0.03835158336239521, 0.12406620041649663, 0.06866483386714549, 0.03784933539011405, 0.12037423311550915, 0.08313660476441088, 0.10147061995186381, 0.09637778080776085, 0.10885057594015972, 0.09784352904284076, 0.1119543053479247, 0.11976800334865362, 0.006206833440851549, 0.033990251598664964, 0.12023568743110812, 0.13129756380588584, 0.11727201471791811, -0.15891637012943882, 0.17302268951391128, 0.10735974400963545, 0.35696319709924185, -0.2904044031479833, -0.02373744949598789, -0.12089004893556783, 0.14312118749321034, 0.07437121479289371, 0.09117302342948731, 0.25853070482469404, 0.08803957972015704, 0.3632124017278154, 0.11269392788091222, 0.1466045056204777, 0.04164739496473833, 0.09826917046530834, 0.10771261881086415, 0.16384277892269078, 0.08025729458868587, 0.0648713844285628, 0.11112834558943266, 0.07377093512846189, 0.11731028865084853, 0.10943253930082883, 0.08008606442209015, -0.03193989479930967, 0.12525969214693466, 0.12333848326252184, 0.14023076240060495, 0.04294994256852926, 0.18301788420887502, 0.04463028866529968, 0.06659948246695949, 0.15638669915597844, 0.02223181097828554, 0.04579076460933839, 0.2438062770210418, 0.22309697995966624, -0.11921510104653744, 0.05185924542597409, 0.03164875524898612, 0.09309807697312661, 0.07342494864469733, 0.1447786185789932, 0.07390865592181546, 0.031294552380253124, 0.19869698623950155, 0.10150109782505125, 0.12811137604923095, 0.14307242932978387, 0.03704678967804082, 0.03236380029086693, 0.15453205757211919, 0.08973693554471297, 0.22097152399084502, 0.23219446121962772, 0.3090984876659757, 0.11703451610765479, 0.06334211249038038, 0.047432433890401665, 0.08386819331159524, 0.11277352839284081, 0.03279240181296427, 0.107096900232175, 0.05679882293353902, 0.11850818209429895, 0.10663850522480088, 0.2806611552178898, 0.04092551903514902, 0.03363992872628875, 0.23445517842000405, 0.017092086598533444, 0.040287257490263635, 0.03362581482177074, 0.11550700257897156, -0.014091966677633593, 0.01374971603963311, 0.15094312483637437, 0.015057699549212706, 0.09515952982814624, 0.06281076789356854, 0.026884938930311488, 0.0692157212199518, 0.07601150129263527, 0.03765577854689692, 0.07698910076498654, 0.04470396143562824, 0.05005427564113586, 0.08869145692595913, 0.3139083444230349, -0.04651473113074351, 0.034215610178246154, 0.09998751769873493, 0.05326039488461578, 0.09811392417752667, 0.07207314210892418, 0.16498518584790806, 0.05837219762755371, 0.11148063510161928, 0.003918936738918196, 0.09760212011754049, 0.07939670105431229, 0.01218790235154141, 0.03575794193530976, 0.10478678023473974, 0.04014069367177661, -0.03823949578561917, -0.006478564551992598, -0.09672034068392087, 0.005270947375419173, -0.05667025670328622, -0.029801769259337214, -0.11699707898437896, 0.021407643083264736, 0.15270929678378886, -0.14558116027469958, 0.050117746714792216, 0.045266962154481394, 0.04243450165935467, 0.045932127304291005, 0.029196880829941773, 0.1404865649978634, 0.11244137549892574, 0.05985829033574436, 0.03364718153145566, 0.038308825305027765, -0.0034823506378414146, -0.05953508100316731, 0.1013093799002696, 0.07966874030235363, 0.02404348027845464, 0.05652461263670684, 0.11958781528868213, 0.011158170348972886, 0.07479757238013782, 0.10085695701483724, 0.0885121674011106, -0.05575137405802077, 0.13946434842943253, 0.09821002521630587, 0.009369338265449457, 0.060787418309598815, 0.1069757123536984, 0.035205576892621604, -0.04898095277431341, 0.12277574560722603, 0.11194566709348464, 0.0021739219611591194, -0.014457445080334126, 0.06967234847796992, 0.2198140383082129, 0.056855841249942, 0.06569556272180105, 0.050499904841656854, -0.015701205284896127, 0.17943546413204944, 0.13102071082723105, -0.0478137255814743, 0.1178909885183749, 0.15442057815028165, 0.06361677116489008, 0.06079688783732609, 0.06656461165431964, 0.04832821586171145, 0.030924526344117537, 0.06705689760915681, 0.1066010109760501, -0.0031420294874071725, 0.04873242545951158, -0.042709788182274624, 0.1213888421175668, 0.07237215098038843, 0.03718494075289055, 0.07182992624926039, -0.03024543704191874, 0.029075048419939704, 0.05538374633260739, 0.14108488545236025, 0.029336988272643555, 0.054313816471701463, 0.10731494738595378, 0.031102891910732147, 0.03848491556582847, 0.07426501031795756, 0.050467421433607745, -0.00220752080009112, 0.02167911555121764, -0.03589330016687171, 0.003910653173829387, 0.049473113698935686, 0.056693182982428585, 0.06181775380523174, -0.08214927425800328, 0.060582167849083386, -0.13972010185856915, -0.06972876138799641, 0.05359649253455863, 0.026388072291746577, 0.12901035732516167, -0.05036449569760513, -0.07098987559194217, -0.1045622535315534, 0.13471927285642513, 0.05404032341984785, 0.033847744517113365, 0.08678299716366082, 0.07290066734165898, 0.06404336784415249, 0.04003816582149177, 0.049791861775118886, 0.09765532366700128, 0.05417495247743674, 0.11651332845628429, 0.010095748801688245, -0.07276141308506089, 0.010592268322824758, -0.014509467064547681, 0.08660007314277356, -0.011498755181652158, 0.0828981044306738, 0.050254373750640895, 0.13205354712757847, -0.08644911835621816, 0.06294841179380992, 0.1234879266647033, -0.04522090791489585, 0.0009989739604235224, 0.15375685021654534, 0.10540742922872724, 0.10848686024931883, -0.13363323858802434, 0.20616009201948426, 0.3368115064972499, 0.35328826011516395, 0.3418215442762713, 0.2942697117274338, 0.19332047903492797, 0.17053449760508735, 0.3774651480837771, 0.23085496262287858, 0.22045634899991326, 0.20474350444531023, 0.0745180237126553, -0.28680661616467884, 0.15439518853664633, 0.1297102727550679, 0.08589452361258094, 0.18769152624604488, 0.08499054008310829, 0.1455481552734447, 0.10975366555695058, 0.14327413164495836, 0.11040282820301484, 0.08091220932310961, 0.17124160443173123, 0.22311197394102872, 0.166745036252248, 0.12979030865964014, 0.14408710890140583, 0.17662742004346527, 0.21572697779128464, 0.15873262936256843, 0.05803761380940937, 0.19557821356232036, 0.25389257630016865, 0.3800754681859602, 0.10024355623324423, 0.15397504711497295, 0.19028583331726528, 0.11051733300072382, 0.0979165269214806, 0.12057249192020225, 0.11877950465811592, 0.004380017728727309, 0.06311438395327329, 0.004952677787753821, 0.09449156215133285, 0.040573934060198796, 0.009308578608415718, -0.044441889968366996, 0.21738184711121183, 0.4461220718874912, 0.2480483253390528, 0.42276770576502126, 0.12703370691624347, 0.21243756299461353, 0.0725051265405311, 0.03721440175196273, 0.10260848857174112, 0.08602155504787631, 0.061387968286905195, 0.030667161848814524, -0.02830713150002704, 0.02132595201656577, -0.02219005777003534, -0.08148092438582973, 0.007506125724539265, -0.019951514517695484, 0.02903616692606731, 0.24632825322199783, 0.09006011808790561, 0.01708689217495083, -0.027345128124301208, 0.1955006555909442, -0.04133437878270824, 0.09850618883114641, 0.1599810079155158, 0.06330264676314232, -0.013961765126452275, -0.018821847270900277, 0.02874690393515892, 0.093851709096125, 0.1664351334531062, 0.21542325774562732, -0.046418331887972175, 0.00863876419963205, 0.023030306764527875, 0.18104259857509358, 0.05435665167674059, 0.10660120148877224, 0.059350956183207806, 0.029060730925348055, -0.06698013214335284, 0.048782810324206984, 0.04744707899979267, 0.031367292090573394, 0.042191871952705316, 0.07172337023298007, 0.15363364851670755, 0.17760004420111275, -0.005010529358407451, -0.025941976967235044, -0.017321169243820357, 0.15057095020111386, 0.19373121895225578, 0.11361448973079531, 0.03378165796422695, 0.053304617731087696, 0.04127362403135618, -0.009200935763017308, -0.02451767356479042, -0.0706871321278336, -0.0833139338268789, -0.0008659317173067016, 0.00023577171392611033, 0.07720754328884857, 0.0010976045346901431, 0.08985102047622572, 0.03311090426078817, 0.05400751407926639, 0.07361176363369663, -0.05402853905035734, -0.11161006107088059, 0.006563411431083428, 0.2613200380129824, 0.14751105173993645, -0.0054098221879600485, -0.2437706140101455, -0.1743745584765511, -0.043400238276021, 0.035864829354457256, -0.07174513540965252, -0.19959262978735134, 0.04656063892837874, 0.053525890707497505, 0.02125368396281031, 0.05692553835990309, 0.0011152742224080857, -0.030034860465979942, -0.20630343149661867, 0.025517402173172065, -0.051863357223862046, -0.11685594196188834, 0.09258866848552173, 0.12807007911499924, -0.07779670816732388, 0.06813875332277199, -0.04738407516060693, 0.014307366117976481, -0.04558951832106677, 0.05076357619443044, 0.06753543046667886, -0.17964007210790986, -0.08470059820650189, -0.05653452770603779, 0.10405488945554615, 0.04981808127142846, 0.07812756310852781, 0.03520525154672809, 0.07283485935375557, 0.09409725037918627, -0.09354540690591448, -0.08689289282110732, 0.02035805363110678, 0.015850044201896583, -0.04154060046473644, 0.0886272436804108, 0.0690468764023794, -0.21764054170819816, -0.06989960444878421, -0.0026445658833751354, -0.14753653573673603, -0.03742326165298205, 0.020645764992942864, -0.07264110665648066, -0.18638517027136364, -0.053607831334731675, -0.04186325401620161, -0.15672720524119044, 0.05669081775783383, -0.06362836496342857, -0.050029540686210856, -0.40597326537176537, 0.49325832475765025, 0.005903610948526569, -0.0903528077289163, 0.05322582394657758, -0.025874336500886542, -0.070669140199822, 0.02150735048166238, 0.01748188291693644, 0.009988381085971153, -0.026523215159005627, -0.053220224145287626, 0.06791089389173603, -0.011386276153022613, 0.006306060004456035, 0.03776089816448932, -0.016392427336951287, 0.09922936667757273, 0.041467294715933745, 0.10744676456055911, 0.03323250857181371, -0.016434972905277484, 0.09690630760271826, 0.07993848724290196, 0.13321888444066332, 0.019964986683254457, 0.326982928122418, 0.043581114810008016, -0.161175764496616, -0.003725772877473316, -0.15159732654002828, -0.12574991334484964, 0.0077850588161298955, 0.02458329234604612, -0.11132948200949955, -0.04832102876619406, 0.04405403956957805, -0.08201916093779951, 0.10815144139047687, -0.10360970278839708, 0.06424669954186187, -0.04429709383781759, 0.003939834630955594, -0.12349775584175372, 0.01698378387679025, -0.13616231608699308, 0.06356565450738698, 0.047849095066941266, -0.01386188755037879, 0.061007080618480494, 0.0452210114010245, 0.08892885178663039, 0.08558338678041721, 0.05101220656725335, -0.06628375919237449, -0.10837874995480602, -0.06443215353734699, 0.04813815727589394, -0.12212611403770232, 0.002125803266819949], \"yaxis\": \"y\"}],\n",
              "                        {\"autosize\": false, \"height\": 600, \"template\": {\"data\": {\"bar\": [{\"error_x\": {\"color\": \"#2a3f5f\"}, \"error_y\": {\"color\": \"#2a3f5f\"}, \"marker\": {\"line\": {\"color\": \"#E5ECF6\", \"width\": 0.5}}, \"type\": \"bar\"}], \"barpolar\": [{\"marker\": {\"line\": {\"color\": \"#E5ECF6\", \"width\": 0.5}}, \"type\": \"barpolar\"}], \"carpet\": [{\"aaxis\": {\"endlinecolor\": \"#2a3f5f\", \"gridcolor\": \"white\", \"linecolor\": \"white\", \"minorgridcolor\": \"white\", \"startlinecolor\": \"#2a3f5f\"}, \"baxis\": {\"endlinecolor\": \"#2a3f5f\", \"gridcolor\": \"white\", \"linecolor\": \"white\", \"minorgridcolor\": \"white\", \"startlinecolor\": \"#2a3f5f\"}, \"type\": \"carpet\"}], \"choropleth\": [{\"colorbar\": {\"outlinewidth\": 0, \"ticks\": \"\"}, \"type\": \"choropleth\"}], \"contour\": [{\"colorbar\": {\"outlinewidth\": 0, \"ticks\": \"\"}, \"colorscale\": [[0.0, \"#0d0887\"], [0.1111111111111111, \"#46039f\"], [0.2222222222222222, \"#7201a8\"], [0.3333333333333333, \"#9c179e\"], [0.4444444444444444, \"#bd3786\"], [0.5555555555555556, \"#d8576b\"], [0.6666666666666666, \"#ed7953\"], [0.7777777777777778, \"#fb9f3a\"], [0.8888888888888888, \"#fdca26\"], [1.0, \"#f0f921\"]], \"type\": \"contour\"}], \"contourcarpet\": [{\"colorbar\": {\"outlinewidth\": 0, \"ticks\": \"\"}, \"type\": \"contourcarpet\"}], \"heatmap\": [{\"colorbar\": {\"outlinewidth\": 0, \"ticks\": \"\"}, \"colorscale\": [[0.0, \"#0d0887\"], [0.1111111111111111, \"#46039f\"], [0.2222222222222222, \"#7201a8\"], [0.3333333333333333, \"#9c179e\"], [0.4444444444444444, \"#bd3786\"], [0.5555555555555556, \"#d8576b\"], [0.6666666666666666, \"#ed7953\"], [0.7777777777777778, \"#fb9f3a\"], [0.8888888888888888, \"#fdca26\"], [1.0, \"#f0f921\"]], \"type\": \"heatmap\"}], \"heatmapgl\": [{\"colorbar\": {\"outlinewidth\": 0, \"ticks\": \"\"}, \"colorscale\": [[0.0, \"#0d0887\"], [0.1111111111111111, \"#46039f\"], [0.2222222222222222, \"#7201a8\"], [0.3333333333333333, \"#9c179e\"], [0.4444444444444444, \"#bd3786\"], [0.5555555555555556, \"#d8576b\"], [0.6666666666666666, \"#ed7953\"], [0.7777777777777778, \"#fb9f3a\"], [0.8888888888888888, \"#fdca26\"], [1.0, \"#f0f921\"]], \"type\": \"heatmapgl\"}], \"histogram\": [{\"marker\": {\"colorbar\": {\"outlinewidth\": 0, \"ticks\": \"\"}}, \"type\": \"histogram\"}], \"histogram2d\": [{\"colorbar\": {\"outlinewidth\": 0, \"ticks\": \"\"}, \"colorscale\": [[0.0, \"#0d0887\"], [0.1111111111111111, \"#46039f\"], [0.2222222222222222, \"#7201a8\"], [0.3333333333333333, \"#9c179e\"], [0.4444444444444444, \"#bd3786\"], [0.5555555555555556, \"#d8576b\"], [0.6666666666666666, \"#ed7953\"], [0.7777777777777778, \"#fb9f3a\"], [0.8888888888888888, \"#fdca26\"], [1.0, \"#f0f921\"]], \"type\": \"histogram2d\"}], \"histogram2dcontour\": [{\"colorbar\": {\"outlinewidth\": 0, \"ticks\": \"\"}, \"colorscale\": [[0.0, \"#0d0887\"], [0.1111111111111111, \"#46039f\"], [0.2222222222222222, \"#7201a8\"], [0.3333333333333333, \"#9c179e\"], [0.4444444444444444, \"#bd3786\"], [0.5555555555555556, \"#d8576b\"], [0.6666666666666666, \"#ed7953\"], [0.7777777777777778, \"#fb9f3a\"], [0.8888888888888888, \"#fdca26\"], [1.0, \"#f0f921\"]], \"type\": \"histogram2dcontour\"}], \"mesh3d\": [{\"colorbar\": {\"outlinewidth\": 0, \"ticks\": \"\"}, \"type\": \"mesh3d\"}], \"parcoords\": [{\"line\": {\"colorbar\": {\"outlinewidth\": 0, \"ticks\": \"\"}}, \"type\": \"parcoords\"}], \"pie\": [{\"automargin\": true, \"type\": \"pie\"}], \"scatter\": [{\"marker\": {\"colorbar\": {\"outlinewidth\": 0, \"ticks\": \"\"}}, \"type\": \"scatter\"}], \"scatter3d\": [{\"line\": {\"colorbar\": {\"outlinewidth\": 0, \"ticks\": \"\"}}, \"marker\": {\"colorbar\": {\"outlinewidth\": 0, \"ticks\": \"\"}}, \"type\": \"scatter3d\"}], \"scattercarpet\": [{\"marker\": {\"colorbar\": {\"outlinewidth\": 0, \"ticks\": \"\"}}, \"type\": \"scattercarpet\"}], \"scattergeo\": [{\"marker\": {\"colorbar\": {\"outlinewidth\": 0, \"ticks\": \"\"}}, \"type\": \"scattergeo\"}], \"scattergl\": [{\"marker\": {\"colorbar\": {\"outlinewidth\": 0, \"ticks\": \"\"}}, \"type\": \"scattergl\"}], \"scattermapbox\": [{\"marker\": {\"colorbar\": {\"outlinewidth\": 0, \"ticks\": \"\"}}, \"type\": \"scattermapbox\"}], \"scatterpolar\": [{\"marker\": {\"colorbar\": {\"outlinewidth\": 0, \"ticks\": \"\"}}, \"type\": \"scatterpolar\"}], \"scatterpolargl\": [{\"marker\": {\"colorbar\": {\"outlinewidth\": 0, \"ticks\": \"\"}}, \"type\": \"scatterpolargl\"}], \"scatterternary\": [{\"marker\": {\"colorbar\": {\"outlinewidth\": 0, \"ticks\": \"\"}}, \"type\": \"scatterternary\"}], \"surface\": [{\"colorbar\": {\"outlinewidth\": 0, \"ticks\": \"\"}, \"colorscale\": [[0.0, \"#0d0887\"], [0.1111111111111111, \"#46039f\"], [0.2222222222222222, \"#7201a8\"], [0.3333333333333333, \"#9c179e\"], [0.4444444444444444, \"#bd3786\"], [0.5555555555555556, \"#d8576b\"], [0.6666666666666666, \"#ed7953\"], [0.7777777777777778, \"#fb9f3a\"], [0.8888888888888888, \"#fdca26\"], [1.0, \"#f0f921\"]], \"type\": \"surface\"}], \"table\": [{\"cells\": {\"fill\": {\"color\": \"#EBF0F8\"}, \"line\": {\"color\": \"white\"}}, \"header\": {\"fill\": {\"color\": \"#C8D4E3\"}, \"line\": {\"color\": \"white\"}}, \"type\": \"table\"}]}, \"layout\": {\"annotationdefaults\": {\"arrowcolor\": \"#2a3f5f\", \"arrowhead\": 0, \"arrowwidth\": 1}, \"coloraxis\": {\"colorbar\": {\"outlinewidth\": 0, \"ticks\": \"\"}}, \"colorscale\": {\"diverging\": [[0, \"#8e0152\"], [0.1, \"#c51b7d\"], [0.2, \"#de77ae\"], [0.3, \"#f1b6da\"], [0.4, \"#fde0ef\"], [0.5, \"#f7f7f7\"], [0.6, \"#e6f5d0\"], [0.7, \"#b8e186\"], [0.8, \"#7fbc41\"], [0.9, \"#4d9221\"], [1, \"#276419\"]], \"sequential\": [[0.0, \"#0d0887\"], [0.1111111111111111, \"#46039f\"], [0.2222222222222222, \"#7201a8\"], [0.3333333333333333, \"#9c179e\"], [0.4444444444444444, \"#bd3786\"], [0.5555555555555556, \"#d8576b\"], [0.6666666666666666, \"#ed7953\"], [0.7777777777777778, \"#fb9f3a\"], [0.8888888888888888, \"#fdca26\"], [1.0, \"#f0f921\"]], \"sequentialminus\": [[0.0, \"#0d0887\"], [0.1111111111111111, \"#46039f\"], [0.2222222222222222, \"#7201a8\"], [0.3333333333333333, \"#9c179e\"], [0.4444444444444444, \"#bd3786\"], [0.5555555555555556, \"#d8576b\"], [0.6666666666666666, \"#ed7953\"], [0.7777777777777778, \"#fb9f3a\"], [0.8888888888888888, \"#fdca26\"], [1.0, \"#f0f921\"]]}, \"colorway\": [\"#636efa\", \"#EF553B\", \"#00cc96\", \"#ab63fa\", \"#FFA15A\", \"#19d3f3\", \"#FF6692\", \"#B6E880\", \"#FF97FF\", \"#FECB52\"], \"font\": {\"color\": \"#2a3f5f\"}, \"geo\": {\"bgcolor\": \"white\", \"lakecolor\": \"white\", \"landcolor\": \"#E5ECF6\", \"showlakes\": true, \"showland\": true, \"subunitcolor\": \"white\"}, \"hoverlabel\": {\"align\": \"left\"}, \"hovermode\": \"closest\", \"mapbox\": {\"style\": \"light\"}, \"paper_bgcolor\": \"white\", \"plot_bgcolor\": \"#E5ECF6\", \"polar\": {\"angularaxis\": {\"gridcolor\": \"white\", \"linecolor\": \"white\", \"ticks\": \"\"}, \"bgcolor\": \"#E5ECF6\", \"radialaxis\": {\"gridcolor\": \"white\", \"linecolor\": \"white\", \"ticks\": \"\"}}, \"scene\": {\"xaxis\": {\"backgroundcolor\": \"#E5ECF6\", \"gridcolor\": \"white\", \"gridwidth\": 2, \"linecolor\": \"white\", \"showbackground\": true, \"ticks\": \"\", \"zerolinecolor\": \"white\"}, \"yaxis\": {\"backgroundcolor\": \"#E5ECF6\", \"gridcolor\": \"white\", \"gridwidth\": 2, \"linecolor\": \"white\", \"showbackground\": true, \"ticks\": \"\", \"zerolinecolor\": \"white\"}, \"zaxis\": {\"backgroundcolor\": \"#E5ECF6\", \"gridcolor\": \"white\", \"gridwidth\": 2, \"linecolor\": \"white\", \"showbackground\": true, \"ticks\": \"\", \"zerolinecolor\": \"white\"}}, \"shapedefaults\": {\"line\": {\"color\": \"#2a3f5f\"}}, \"ternary\": {\"aaxis\": {\"gridcolor\": \"white\", \"linecolor\": \"white\", \"ticks\": \"\"}, \"baxis\": {\"gridcolor\": \"white\", \"linecolor\": \"white\", \"ticks\": \"\"}, \"bgcolor\": \"#E5ECF6\", \"caxis\": {\"gridcolor\": \"white\", \"linecolor\": \"white\", \"ticks\": \"\"}}, \"title\": {\"x\": 0.05}, \"xaxis\": {\"automargin\": true, \"gridcolor\": \"white\", \"linecolor\": \"white\", \"ticks\": \"\", \"title\": {\"standoff\": 15}, \"zerolinecolor\": \"white\", \"zerolinewidth\": 2}, \"yaxis\": {\"automargin\": true, \"gridcolor\": \"white\", \"linecolor\": \"white\", \"ticks\": \"\", \"title\": {\"standoff\": 15}, \"zerolinecolor\": \"white\", \"zerolinewidth\": 2}}}, \"title\": {\"text\": \"gradientboosting_ne\"}, \"width\": 1200, \"xaxis\": {\"anchor\": \"y\", \"domain\": [0.0, 1.0]}, \"yaxis\": {\"anchor\": \"x\", \"domain\": [0.0, 1.0]}},\n",
              "                        {\"responsive\": true}\n",
              "                    ).then(function(){\n",
              "                            \n",
              "var gd = document.getElementById('ad219c2b-927b-4959-b1e1-6c5e9898033a');\n",
              "var x = new MutationObserver(function (mutations, observer) {{\n",
              "        var display = window.getComputedStyle(gd).display;\n",
              "        if (!display || display === 'none') {{\n",
              "            console.log([gd, 'removed!']);\n",
              "            Plotly.purge(gd);\n",
              "            observer.disconnect();\n",
              "        }}\n",
              "}});\n",
              "\n",
              "// Listen for the removal of the full notebook cells\n",
              "var notebookContainer = gd.closest('#notebook-container');\n",
              "if (notebookContainer) {{\n",
              "    x.observe(notebookContainer, {childList: true});\n",
              "}}\n",
              "\n",
              "// Listen for the clearing of the current output cell\n",
              "var outputEl = gd.closest('.output');\n",
              "if (outputEl) {{\n",
              "    x.observe(outputEl, {childList: true});\n",
              "}}\n",
              "\n",
              "                        })\n",
              "                };\n",
              "                \n",
              "            </script>\n",
              "        </div>\n",
              "</body>\n",
              "</html>"
            ]
          },
          "metadata": {
            "tags": []
          }
        },
        {
          "output_type": "display_data",
          "data": {
            "text/html": [
              "<html>\n",
              "<head><meta charset=\"utf-8\" /></head>\n",
              "<body>\n",
              "    <div>\n",
              "            <script src=\"https://cdnjs.cloudflare.com/ajax/libs/mathjax/2.7.5/MathJax.js?config=TeX-AMS-MML_SVG\"></script><script type=\"text/javascript\">if (window.MathJax) {MathJax.Hub.Config({SVG: {font: \"STIX-Web\"}});}</script>\n",
              "                <script type=\"text/javascript\">window.PlotlyConfig = {MathJaxConfig: 'local'};</script>\n",
              "        <script src=\"https://cdn.plot.ly/plotly-latest.min.js\"></script>    \n",
              "            <div id=\"a8b10ea2-566f-43fc-b713-aec22ac566dc\" class=\"plotly-graph-div\" style=\"height:600px; width:1200px;\"></div>\n",
              "            <script type=\"text/javascript\">\n",
              "                \n",
              "                    window.PLOTLYENV=window.PLOTLYENV || {};\n",
              "                    \n",
              "                if (document.getElementById(\"a8b10ea2-566f-43fc-b713-aec22ac566dc\")) {\n",
              "                    Plotly.newPlot(\n",
              "                        'a8b10ea2-566f-43fc-b713-aec22ac566dc',\n",
              "                        [{\"line\": {\"color\": \"rgba(35,128,132,0.8)\"}, \"name\": \"ndvi_ne\", \"showlegend\": true, \"type\": \"scatter\", \"x\": [800, 801, 802, 803, 804, 805, 806, 807, 808, 809, 812, 813, 814, 815, 816, 817, 818, 819, 820, 821, 822, 823, 824, 825, 826, 829, 830, 831, 832, 833, 835, 837, 838, 839, 840, 841, 842, 843, 844, 845, 846, 847, 849, 850, 851, 852, 853, 854, 856, 857, 858, 860, 861, 862, 864, 865, 866, 867, 869, 870, 872, 873, 874, 876, 877, 878, 879, 880, 881, 882, 883, 884, 885, 886, 887, 889, 890, 891, 892, 893, 895, 896, 897, 898, 900, 901, 904, 905, 906, 907, 908, 910, 911, 912, 914, 916, 918, 919, 922, 924, 925, 926, 928, 929, 930, 931, 932, 933, 935], \"xaxis\": \"x\", \"y\": [0.0073, 0.0252, 0.0012, 0.0488, 0.0419, 0.02275, -0.029975, 0.07596667, -0.00135, 0.0507, -0.03396667, -0.0587, 0.1077, -0.1062, -0.008233333, -0.04245, -0.1942333, 0.009000000000000001, 0.0443, -0.3084, 0.3255, -0.1032, -0.16734000000000002, -0.01313333, 0.0109, 0.0455, 0.0165, -0.012, 0.0351, 0.0144, 0.0802, 0.0582, 0.0144, -0.01003333, 0.0255, 0.1035, 0.063875, 0.0193, 0.04735, -0.05556667, -0.1145, 0.0017399999999999998, 0.06405, 0.07515, 0.01235, 0.026125, -0.0556, -0.0265, 0.06305, 0.12335, 0.04593333, -0.2761, -0.1686, 0.0947, 0.0516, -0.04176667, -0.0548, 0.2643, -0.0192, 0.1288333, -0.2156, -0.0752, 0.2121, 0.0543, 0.0373, 0.0117, 0.02285, 0.01886667, -0.0743, 0.0689, 0.0216, 0.0392, -0.06205, 0.0019, 0.05825, -0.0118, -0.0054, 0.1058, 0.2484, 0.0501, 0.0826, -0.00695, 0.0746, 0.0156, 0.0331, 0.0821, -0.01345, -0.0307, 0.096, 0.009000000000000001, 0.021, 0.1243, -0.2517, -0.0589, -0.0595, -0.13305, 0.0148, 0.0006, -0.0268, -0.1117, 0.07200000000000001, -0.13865, -0.0889, -0.3214, 0.0449, 0.07785, -0.038, -0.1552, -0.037000000000000005], \"yaxis\": \"y\"}, {\"line\": {\"color\": \"rgba(193,99,99,0.8)\"}, \"name\": \"gradientboosting_ne\", \"showlegend\": true, \"type\": \"scatter\", \"x\": [800, 801, 802, 803, 804, 805, 806, 807, 808, 809, 812, 813, 814, 815, 816, 817, 818, 819, 820, 821, 822, 823, 824, 825, 826, 829, 830, 831, 832, 833, 835, 837, 838, 839, 840, 841, 842, 843, 844, 845, 846, 847, 849, 850, 851, 852, 853, 854, 856, 857, 858, 860, 861, 862, 864, 865, 866, 867, 869, 870, 872, 873, 874, 876, 877, 878, 879, 880, 881, 882, 883, 884, 885, 886, 887, 889, 890, 891, 892, 893, 895, 896, 897, 898, 900, 901, 904, 905, 906, 907, 908, 910, 911, 912, 914, 916, 918, 919, 922, 924, 925, 926, 928, 929, 930, 931, 932, 933, 935], \"xaxis\": \"x\", \"y\": [-0.021531350624150767, -0.034235288763430946, -0.0022192453471969616, 0.04939083550961889, 0.09142931448279354, 0.023223980915793516, 0.0500237978882572, -0.14852032761279294, 0.07613318179639611, -0.009739732855219379, 0.0038993458408710315, -0.05288767827183522, 0.057755739011398986, -0.09738805146584084, -0.03704376046534179, 0.08548932576608191, -0.059652097277752905, -0.025417874089699897, 0.05137764973753103, -0.12977868468833537, -0.016168070749265948, 0.243096789400244, -0.020076157263914617, 0.0028567446391845643, 0.02022765627998274, 0.0890756585405618, 0.04331689125888183, 0.06068683178016151, 0.06555140538939422, 0.022476513268778597, 0.10484970052673757, 0.015559653246933836, -0.231788251982763, -0.019492430836938728, 0.00670016469780729, 0.20331291544266183, 0.04428298596307103, 0.0699926128055987, -0.04502141938670506, -0.07276822617123589, 0.025199956909610306, 0.09469183297461416, 0.02912750577699242, 0.08318729295833284, 0.01932767097970492, 0.013693861321462131, 0.04455572149416377, 0.0005486880946986714, -0.18970507321252209, -0.01689256172732202, -0.11795796896658413, 0.003014540967948568, -0.054471797746097464, 0.010993187938842802, -0.014463427986718748, -0.015108054823709971, -0.011420175184371148, 0.03473380001358671, 0.03605336710348774, 0.030962331520647545, -0.003951913207619498, -0.17655192607374642, 0.0920719084861076, 0.006756373335870545, 0.011515735543954735, -0.008811378061107033, 0.013459688778838675, 0.059863935081286665, -0.017374351436595693, 0.03090484392079762, -0.005148270005935331, 0.02618047413898889, 0.004360460137365193, 0.031183705241231, 0.03678569113185841, -0.09326628181671695, -0.02121406139987128, -0.062455657949481824, 0.15101512008113438, 0.0009025990813432816, 0.07004398365797906, 0.010972687084875565, 0.04654890339956775, 0.014695841013320632, 0.13079353835615856, 0.03437913766299625, 0.004222595832563269, -0.05426186101543798, 0.028791804798112504, 0.08370666880648897, 0.1002829608908881, 0.030290251095591383, 0.1587177724178942, -0.1642212495812863, -0.03633936940707086, -0.037674258943275626, -0.0136588463298541, -0.11521334825849548, -0.19879231763576197, -0.026052213959807304, -0.18372878549332078, -0.11548148814506955, -0.05113511961975777, -0.17630435045931545, 0.08750746869086569, -0.06525287432983692, 0.021484066480521168, 0.014353862962934102, 0.05671574911265716], \"yaxis\": \"y\"}],\n",
              "                        {\"autosize\": false, \"height\": 600, \"template\": {\"data\": {\"bar\": [{\"error_x\": {\"color\": \"#2a3f5f\"}, \"error_y\": {\"color\": \"#2a3f5f\"}, \"marker\": {\"line\": {\"color\": \"#E5ECF6\", \"width\": 0.5}}, \"type\": \"bar\"}], \"barpolar\": [{\"marker\": {\"line\": {\"color\": \"#E5ECF6\", \"width\": 0.5}}, \"type\": \"barpolar\"}], \"carpet\": [{\"aaxis\": {\"endlinecolor\": \"#2a3f5f\", \"gridcolor\": \"white\", \"linecolor\": \"white\", \"minorgridcolor\": \"white\", \"startlinecolor\": \"#2a3f5f\"}, \"baxis\": {\"endlinecolor\": \"#2a3f5f\", \"gridcolor\": \"white\", \"linecolor\": \"white\", \"minorgridcolor\": \"white\", \"startlinecolor\": \"#2a3f5f\"}, \"type\": \"carpet\"}], \"choropleth\": [{\"colorbar\": {\"outlinewidth\": 0, \"ticks\": \"\"}, \"type\": \"choropleth\"}], \"contour\": [{\"colorbar\": {\"outlinewidth\": 0, \"ticks\": \"\"}, \"colorscale\": [[0.0, \"#0d0887\"], [0.1111111111111111, \"#46039f\"], [0.2222222222222222, \"#7201a8\"], [0.3333333333333333, \"#9c179e\"], [0.4444444444444444, \"#bd3786\"], [0.5555555555555556, \"#d8576b\"], [0.6666666666666666, \"#ed7953\"], [0.7777777777777778, \"#fb9f3a\"], [0.8888888888888888, \"#fdca26\"], [1.0, \"#f0f921\"]], \"type\": \"contour\"}], \"contourcarpet\": [{\"colorbar\": {\"outlinewidth\": 0, \"ticks\": \"\"}, \"type\": \"contourcarpet\"}], \"heatmap\": [{\"colorbar\": {\"outlinewidth\": 0, \"ticks\": \"\"}, \"colorscale\": [[0.0, \"#0d0887\"], [0.1111111111111111, \"#46039f\"], [0.2222222222222222, \"#7201a8\"], [0.3333333333333333, \"#9c179e\"], [0.4444444444444444, \"#bd3786\"], [0.5555555555555556, \"#d8576b\"], [0.6666666666666666, \"#ed7953\"], [0.7777777777777778, \"#fb9f3a\"], [0.8888888888888888, \"#fdca26\"], [1.0, \"#f0f921\"]], \"type\": \"heatmap\"}], \"heatmapgl\": [{\"colorbar\": {\"outlinewidth\": 0, \"ticks\": \"\"}, \"colorscale\": [[0.0, \"#0d0887\"], [0.1111111111111111, \"#46039f\"], [0.2222222222222222, \"#7201a8\"], [0.3333333333333333, \"#9c179e\"], [0.4444444444444444, \"#bd3786\"], [0.5555555555555556, \"#d8576b\"], [0.6666666666666666, \"#ed7953\"], [0.7777777777777778, \"#fb9f3a\"], [0.8888888888888888, \"#fdca26\"], [1.0, \"#f0f921\"]], \"type\": \"heatmapgl\"}], \"histogram\": [{\"marker\": {\"colorbar\": {\"outlinewidth\": 0, \"ticks\": \"\"}}, \"type\": \"histogram\"}], \"histogram2d\": [{\"colorbar\": {\"outlinewidth\": 0, \"ticks\": \"\"}, \"colorscale\": [[0.0, \"#0d0887\"], [0.1111111111111111, \"#46039f\"], [0.2222222222222222, \"#7201a8\"], [0.3333333333333333, \"#9c179e\"], [0.4444444444444444, \"#bd3786\"], [0.5555555555555556, \"#d8576b\"], [0.6666666666666666, \"#ed7953\"], [0.7777777777777778, \"#fb9f3a\"], [0.8888888888888888, \"#fdca26\"], [1.0, \"#f0f921\"]], \"type\": \"histogram2d\"}], \"histogram2dcontour\": [{\"colorbar\": {\"outlinewidth\": 0, \"ticks\": \"\"}, \"colorscale\": [[0.0, \"#0d0887\"], [0.1111111111111111, \"#46039f\"], [0.2222222222222222, \"#7201a8\"], [0.3333333333333333, \"#9c179e\"], [0.4444444444444444, \"#bd3786\"], [0.5555555555555556, \"#d8576b\"], [0.6666666666666666, \"#ed7953\"], [0.7777777777777778, \"#fb9f3a\"], [0.8888888888888888, \"#fdca26\"], [1.0, \"#f0f921\"]], \"type\": \"histogram2dcontour\"}], \"mesh3d\": [{\"colorbar\": {\"outlinewidth\": 0, \"ticks\": \"\"}, \"type\": \"mesh3d\"}], \"parcoords\": [{\"line\": {\"colorbar\": {\"outlinewidth\": 0, \"ticks\": \"\"}}, \"type\": \"parcoords\"}], \"pie\": [{\"automargin\": true, \"type\": \"pie\"}], \"scatter\": [{\"marker\": {\"colorbar\": {\"outlinewidth\": 0, \"ticks\": \"\"}}, \"type\": \"scatter\"}], \"scatter3d\": [{\"line\": {\"colorbar\": {\"outlinewidth\": 0, \"ticks\": \"\"}}, \"marker\": {\"colorbar\": {\"outlinewidth\": 0, \"ticks\": \"\"}}, \"type\": \"scatter3d\"}], \"scattercarpet\": [{\"marker\": {\"colorbar\": {\"outlinewidth\": 0, \"ticks\": \"\"}}, \"type\": \"scattercarpet\"}], \"scattergeo\": [{\"marker\": {\"colorbar\": {\"outlinewidth\": 0, \"ticks\": \"\"}}, \"type\": \"scattergeo\"}], \"scattergl\": [{\"marker\": {\"colorbar\": {\"outlinewidth\": 0, \"ticks\": \"\"}}, \"type\": \"scattergl\"}], \"scattermapbox\": [{\"marker\": {\"colorbar\": {\"outlinewidth\": 0, \"ticks\": \"\"}}, \"type\": \"scattermapbox\"}], \"scatterpolar\": [{\"marker\": {\"colorbar\": {\"outlinewidth\": 0, \"ticks\": \"\"}}, \"type\": \"scatterpolar\"}], \"scatterpolargl\": [{\"marker\": {\"colorbar\": {\"outlinewidth\": 0, \"ticks\": \"\"}}, \"type\": \"scatterpolargl\"}], \"scatterternary\": [{\"marker\": {\"colorbar\": {\"outlinewidth\": 0, \"ticks\": \"\"}}, \"type\": \"scatterternary\"}], \"surface\": [{\"colorbar\": {\"outlinewidth\": 0, \"ticks\": \"\"}, \"colorscale\": [[0.0, \"#0d0887\"], [0.1111111111111111, \"#46039f\"], [0.2222222222222222, \"#7201a8\"], [0.3333333333333333, \"#9c179e\"], [0.4444444444444444, \"#bd3786\"], [0.5555555555555556, \"#d8576b\"], [0.6666666666666666, \"#ed7953\"], [0.7777777777777778, \"#fb9f3a\"], [0.8888888888888888, \"#fdca26\"], [1.0, \"#f0f921\"]], \"type\": \"surface\"}], \"table\": [{\"cells\": {\"fill\": {\"color\": \"#EBF0F8\"}, \"line\": {\"color\": \"white\"}}, \"header\": {\"fill\": {\"color\": \"#C8D4E3\"}, \"line\": {\"color\": \"white\"}}, \"type\": \"table\"}]}, \"layout\": {\"annotationdefaults\": {\"arrowcolor\": \"#2a3f5f\", \"arrowhead\": 0, \"arrowwidth\": 1}, \"coloraxis\": {\"colorbar\": {\"outlinewidth\": 0, \"ticks\": \"\"}}, \"colorscale\": {\"diverging\": [[0, \"#8e0152\"], [0.1, \"#c51b7d\"], [0.2, \"#de77ae\"], [0.3, \"#f1b6da\"], [0.4, \"#fde0ef\"], [0.5, \"#f7f7f7\"], [0.6, \"#e6f5d0\"], [0.7, \"#b8e186\"], [0.8, \"#7fbc41\"], [0.9, \"#4d9221\"], [1, \"#276419\"]], \"sequential\": [[0.0, \"#0d0887\"], [0.1111111111111111, \"#46039f\"], [0.2222222222222222, \"#7201a8\"], [0.3333333333333333, \"#9c179e\"], [0.4444444444444444, \"#bd3786\"], [0.5555555555555556, \"#d8576b\"], [0.6666666666666666, \"#ed7953\"], [0.7777777777777778, \"#fb9f3a\"], [0.8888888888888888, \"#fdca26\"], [1.0, \"#f0f921\"]], \"sequentialminus\": [[0.0, \"#0d0887\"], [0.1111111111111111, \"#46039f\"], [0.2222222222222222, \"#7201a8\"], [0.3333333333333333, \"#9c179e\"], [0.4444444444444444, \"#bd3786\"], [0.5555555555555556, \"#d8576b\"], [0.6666666666666666, \"#ed7953\"], [0.7777777777777778, \"#fb9f3a\"], [0.8888888888888888, \"#fdca26\"], [1.0, \"#f0f921\"]]}, \"colorway\": [\"#636efa\", \"#EF553B\", \"#00cc96\", \"#ab63fa\", \"#FFA15A\", \"#19d3f3\", \"#FF6692\", \"#B6E880\", \"#FF97FF\", \"#FECB52\"], \"font\": {\"color\": \"#2a3f5f\"}, \"geo\": {\"bgcolor\": \"white\", \"lakecolor\": \"white\", \"landcolor\": \"#E5ECF6\", \"showlakes\": true, \"showland\": true, \"subunitcolor\": \"white\"}, \"hoverlabel\": {\"align\": \"left\"}, \"hovermode\": \"closest\", \"mapbox\": {\"style\": \"light\"}, \"paper_bgcolor\": \"white\", \"plot_bgcolor\": \"#E5ECF6\", \"polar\": {\"angularaxis\": {\"gridcolor\": \"white\", \"linecolor\": \"white\", \"ticks\": \"\"}, \"bgcolor\": \"#E5ECF6\", \"radialaxis\": {\"gridcolor\": \"white\", \"linecolor\": \"white\", \"ticks\": \"\"}}, \"scene\": {\"xaxis\": {\"backgroundcolor\": \"#E5ECF6\", \"gridcolor\": \"white\", \"gridwidth\": 2, \"linecolor\": \"white\", \"showbackground\": true, \"ticks\": \"\", \"zerolinecolor\": \"white\"}, \"yaxis\": {\"backgroundcolor\": \"#E5ECF6\", \"gridcolor\": \"white\", \"gridwidth\": 2, \"linecolor\": \"white\", \"showbackground\": true, \"ticks\": \"\", \"zerolinecolor\": \"white\"}, \"zaxis\": {\"backgroundcolor\": \"#E5ECF6\", \"gridcolor\": \"white\", \"gridwidth\": 2, \"linecolor\": \"white\", \"showbackground\": true, \"ticks\": \"\", \"zerolinecolor\": \"white\"}}, \"shapedefaults\": {\"line\": {\"color\": \"#2a3f5f\"}}, \"ternary\": {\"aaxis\": {\"gridcolor\": \"white\", \"linecolor\": \"white\", \"ticks\": \"\"}, \"baxis\": {\"gridcolor\": \"white\", \"linecolor\": \"white\", \"ticks\": \"\"}, \"bgcolor\": \"#E5ECF6\", \"caxis\": {\"gridcolor\": \"white\", \"linecolor\": \"white\", \"ticks\": \"\"}}, \"title\": {\"x\": 0.05}, \"xaxis\": {\"automargin\": true, \"gridcolor\": \"white\", \"linecolor\": \"white\", \"ticks\": \"\", \"title\": {\"standoff\": 15}, \"zerolinecolor\": \"white\", \"zerolinewidth\": 2}, \"yaxis\": {\"automargin\": true, \"gridcolor\": \"white\", \"linecolor\": \"white\", \"ticks\": \"\", \"title\": {\"standoff\": 15}, \"zerolinecolor\": \"white\", \"zerolinewidth\": 2}}}, \"title\": {\"text\": \"gradientboosting_ne\"}, \"width\": 1200, \"xaxis\": {\"anchor\": \"y\", \"domain\": [0.0, 1.0]}, \"yaxis\": {\"anchor\": \"x\", \"domain\": [0.0, 1.0]}},\n",
              "                        {\"responsive\": true}\n",
              "                    ).then(function(){\n",
              "                            \n",
              "var gd = document.getElementById('a8b10ea2-566f-43fc-b713-aec22ac566dc');\n",
              "var x = new MutationObserver(function (mutations, observer) {{\n",
              "        var display = window.getComputedStyle(gd).display;\n",
              "        if (!display || display === 'none') {{\n",
              "            console.log([gd, 'removed!']);\n",
              "            Plotly.purge(gd);\n",
              "            observer.disconnect();\n",
              "        }}\n",
              "}});\n",
              "\n",
              "// Listen for the removal of the full notebook cells\n",
              "var notebookContainer = gd.closest('#notebook-container');\n",
              "if (notebookContainer) {{\n",
              "    x.observe(notebookContainer, {childList: true});\n",
              "}}\n",
              "\n",
              "// Listen for the clearing of the current output cell\n",
              "var outputEl = gd.closest('.output');\n",
              "if (outputEl) {{\n",
              "    x.observe(outputEl, {childList: true});\n",
              "}}\n",
              "\n",
              "                        })\n",
              "                };\n",
              "                \n",
              "            </script>\n",
              "        </div>\n",
              "</body>\n",
              "</html>"
            ]
          },
          "metadata": {
            "tags": []
          }
        }
      ]
    },
    {
      "cell_type": "code",
      "metadata": {
        "id": "yUD0to_yXuuN"
      },
      "source": [
        "ndv_features=['ndvi_ne',\"ndvi_se\",\"ndvi_sw\"]\n"
      ],
      "execution_count": 54,
      "outputs": []
    },
    {
      "cell_type": "code",
      "metadata": {
        "id": "UGNuOxm6XuuQ"
      },
      "source": [
        "\n",
        "\n",
        "\n",
        "\n",
        "\n",
        "\n"
      ],
      "execution_count": 54,
      "outputs": []
    },
    {
      "cell_type": "code",
      "metadata": {
        "id": "pFu_CFEPXuuQ",
        "colab": {
          "base_uri": "https://localhost:8080/",
          "height": 295
        },
        "outputId": "d382ee24-a5f1-404d-d40b-1a5b6cf892f8"
      },
      "source": [
        "XX_ndv.head(8)"
      ],
      "execution_count": 55,
      "outputs": [
        {
          "output_type": "execute_result",
          "data": {
            "text/html": [
              "<div>\n",
              "<style scoped>\n",
              "    .dataframe tbody tr th:only-of-type {\n",
              "        vertical-align: middle;\n",
              "    }\n",
              "\n",
              "    .dataframe tbody tr th {\n",
              "        vertical-align: top;\n",
              "    }\n",
              "\n",
              "    .dataframe thead th {\n",
              "        text-align: right;\n",
              "    }\n",
              "</style>\n",
              "<table border=\"1\" class=\"dataframe\">\n",
              "  <thead>\n",
              "    <tr style=\"text-align: right;\">\n",
              "      <th></th>\n",
              "      <th>ndvi_ne</th>\n",
              "      <th>ndvi_nw</th>\n",
              "      <th>ndvi_se</th>\n",
              "      <th>ndvi_sw</th>\n",
              "      <th>ne_pred</th>\n",
              "      <th>ssz</th>\n",
              "    </tr>\n",
              "  </thead>\n",
              "  <tbody>\n",
              "    <tr>\n",
              "      <th>0</th>\n",
              "      <td>0.122600</td>\n",
              "      <td>0.103725</td>\n",
              "      <td>0.198483</td>\n",
              "      <td>0.177617</td>\n",
              "      <td>0.089770</td>\n",
              "      <td>0</td>\n",
              "    </tr>\n",
              "    <tr>\n",
              "      <th>1</th>\n",
              "      <td>0.169900</td>\n",
              "      <td>0.142175</td>\n",
              "      <td>0.162357</td>\n",
              "      <td>0.155486</td>\n",
              "      <td>0.130848</td>\n",
              "      <td>1</td>\n",
              "    </tr>\n",
              "    <tr>\n",
              "      <th>2</th>\n",
              "      <td>0.032250</td>\n",
              "      <td>0.172967</td>\n",
              "      <td>0.157200</td>\n",
              "      <td>0.170843</td>\n",
              "      <td>0.131688</td>\n",
              "      <td>2</td>\n",
              "    </tr>\n",
              "    <tr>\n",
              "      <th>3</th>\n",
              "      <td>0.128633</td>\n",
              "      <td>0.245067</td>\n",
              "      <td>0.227557</td>\n",
              "      <td>0.235886</td>\n",
              "      <td>0.134268</td>\n",
              "      <td>3</td>\n",
              "    </tr>\n",
              "    <tr>\n",
              "      <th>4</th>\n",
              "      <td>0.196200</td>\n",
              "      <td>0.262200</td>\n",
              "      <td>0.251200</td>\n",
              "      <td>0.247340</td>\n",
              "      <td>0.200626</td>\n",
              "      <td>4</td>\n",
              "    </tr>\n",
              "    <tr>\n",
              "      <th>6</th>\n",
              "      <td>0.112900</td>\n",
              "      <td>0.092800</td>\n",
              "      <td>0.205071</td>\n",
              "      <td>0.210271</td>\n",
              "      <td>0.070552</td>\n",
              "      <td>6</td>\n",
              "    </tr>\n",
              "    <tr>\n",
              "      <th>7</th>\n",
              "      <td>0.072500</td>\n",
              "      <td>0.072500</td>\n",
              "      <td>0.151471</td>\n",
              "      <td>0.133029</td>\n",
              "      <td>0.038776</td>\n",
              "      <td>7</td>\n",
              "    </tr>\n",
              "    <tr>\n",
              "      <th>8</th>\n",
              "      <td>0.102450</td>\n",
              "      <td>0.146175</td>\n",
              "      <td>0.125571</td>\n",
              "      <td>0.123600</td>\n",
              "      <td>0.107953</td>\n",
              "      <td>8</td>\n",
              "    </tr>\n",
              "  </tbody>\n",
              "</table>\n",
              "</div>"
            ],
            "text/plain": [
              "    ndvi_ne   ndvi_nw   ndvi_se   ndvi_sw   ne_pred  ssz\n",
              "0  0.122600  0.103725  0.198483  0.177617  0.089770    0\n",
              "1  0.169900  0.142175  0.162357  0.155486  0.130848    1\n",
              "2  0.032250  0.172967  0.157200  0.170843  0.131688    2\n",
              "3  0.128633  0.245067  0.227557  0.235886  0.134268    3\n",
              "4  0.196200  0.262200  0.251200  0.247340  0.200626    4\n",
              "6  0.112900  0.092800  0.205071  0.210271  0.070552    6\n",
              "7  0.072500  0.072500  0.151471  0.133029  0.038776    7\n",
              "8  0.102450  0.146175  0.125571  0.123600  0.107953    8"
            ]
          },
          "metadata": {
            "tags": []
          },
          "execution_count": 55
        }
      ]
    },
    {
      "cell_type": "code",
      "metadata": {
        "id": "z5MpfyUIYhso"
      },
      "source": [
        ""
      ],
      "execution_count": 55,
      "outputs": []
    },
    {
      "cell_type": "code",
      "metadata": {
        "id": "lVCP0yAHYhoX"
      },
      "source": [
        ""
      ],
      "execution_count": 55,
      "outputs": []
    },
    {
      "cell_type": "code",
      "metadata": {
        "id": "7uj-tfSqXmoU"
      },
      "source": [
        "ndv_features=[\"ndvi_nw\",\"ndvi_se\",\"ndvi_sw\"]\n"
      ],
      "execution_count": 56,
      "outputs": []
    },
    {
      "cell_type": "code",
      "metadata": {
        "id": "ziygdFlIXm5Y",
        "colab": {
          "base_uri": "https://localhost:8080/",
          "height": 295
        },
        "outputId": "c233c2a2-2337-4fe3-86e3-90bb04e1bead"
      },
      "source": [
        "XX_ndv.head(8)"
      ],
      "execution_count": 57,
      "outputs": [
        {
          "output_type": "execute_result",
          "data": {
            "text/html": [
              "<div>\n",
              "<style scoped>\n",
              "    .dataframe tbody tr th:only-of-type {\n",
              "        vertical-align: middle;\n",
              "    }\n",
              "\n",
              "    .dataframe tbody tr th {\n",
              "        vertical-align: top;\n",
              "    }\n",
              "\n",
              "    .dataframe thead th {\n",
              "        text-align: right;\n",
              "    }\n",
              "</style>\n",
              "<table border=\"1\" class=\"dataframe\">\n",
              "  <thead>\n",
              "    <tr style=\"text-align: right;\">\n",
              "      <th></th>\n",
              "      <th>ndvi_ne</th>\n",
              "      <th>ndvi_nw</th>\n",
              "      <th>ndvi_se</th>\n",
              "      <th>ndvi_sw</th>\n",
              "      <th>ne_pred</th>\n",
              "      <th>ssz</th>\n",
              "    </tr>\n",
              "  </thead>\n",
              "  <tbody>\n",
              "    <tr>\n",
              "      <th>0</th>\n",
              "      <td>0.122600</td>\n",
              "      <td>0.103725</td>\n",
              "      <td>0.198483</td>\n",
              "      <td>0.177617</td>\n",
              "      <td>0.089770</td>\n",
              "      <td>0</td>\n",
              "    </tr>\n",
              "    <tr>\n",
              "      <th>1</th>\n",
              "      <td>0.169900</td>\n",
              "      <td>0.142175</td>\n",
              "      <td>0.162357</td>\n",
              "      <td>0.155486</td>\n",
              "      <td>0.130848</td>\n",
              "      <td>1</td>\n",
              "    </tr>\n",
              "    <tr>\n",
              "      <th>2</th>\n",
              "      <td>0.032250</td>\n",
              "      <td>0.172967</td>\n",
              "      <td>0.157200</td>\n",
              "      <td>0.170843</td>\n",
              "      <td>0.131688</td>\n",
              "      <td>2</td>\n",
              "    </tr>\n",
              "    <tr>\n",
              "      <th>3</th>\n",
              "      <td>0.128633</td>\n",
              "      <td>0.245067</td>\n",
              "      <td>0.227557</td>\n",
              "      <td>0.235886</td>\n",
              "      <td>0.134268</td>\n",
              "      <td>3</td>\n",
              "    </tr>\n",
              "    <tr>\n",
              "      <th>4</th>\n",
              "      <td>0.196200</td>\n",
              "      <td>0.262200</td>\n",
              "      <td>0.251200</td>\n",
              "      <td>0.247340</td>\n",
              "      <td>0.200626</td>\n",
              "      <td>4</td>\n",
              "    </tr>\n",
              "    <tr>\n",
              "      <th>6</th>\n",
              "      <td>0.112900</td>\n",
              "      <td>0.092800</td>\n",
              "      <td>0.205071</td>\n",
              "      <td>0.210271</td>\n",
              "      <td>0.070552</td>\n",
              "      <td>6</td>\n",
              "    </tr>\n",
              "    <tr>\n",
              "      <th>7</th>\n",
              "      <td>0.072500</td>\n",
              "      <td>0.072500</td>\n",
              "      <td>0.151471</td>\n",
              "      <td>0.133029</td>\n",
              "      <td>0.038776</td>\n",
              "      <td>7</td>\n",
              "    </tr>\n",
              "    <tr>\n",
              "      <th>8</th>\n",
              "      <td>0.102450</td>\n",
              "      <td>0.146175</td>\n",
              "      <td>0.125571</td>\n",
              "      <td>0.123600</td>\n",
              "      <td>0.107953</td>\n",
              "      <td>8</td>\n",
              "    </tr>\n",
              "  </tbody>\n",
              "</table>\n",
              "</div>"
            ],
            "text/plain": [
              "    ndvi_ne   ndvi_nw   ndvi_se   ndvi_sw   ne_pred  ssz\n",
              "0  0.122600  0.103725  0.198483  0.177617  0.089770    0\n",
              "1  0.169900  0.142175  0.162357  0.155486  0.130848    1\n",
              "2  0.032250  0.172967  0.157200  0.170843  0.131688    2\n",
              "3  0.128633  0.245067  0.227557  0.235886  0.134268    3\n",
              "4  0.196200  0.262200  0.251200  0.247340  0.200626    4\n",
              "6  0.112900  0.092800  0.205071  0.210271  0.070552    6\n",
              "7  0.072500  0.072500  0.151471  0.133029  0.038776    7\n",
              "8  0.102450  0.146175  0.125571  0.123600  0.107953    8"
            ]
          },
          "metadata": {
            "tags": []
          },
          "execution_count": 57
        }
      ]
    },
    {
      "cell_type": "markdown",
      "metadata": {
        "id": "QvgVvfXwXoWb"
      },
      "source": [
        "### LSTM NDVI 3 előző NDVi--> NDVI aktual"
      ]
    },
    {
      "cell_type": "code",
      "metadata": {
        "id": "dJbDipk30QkK"
      },
      "source": [
        "def build_training_data(dataset, history_size = 5, target_size = 2):\n",
        "    '''\n",
        "    source: https://www.mikulskibartosz.name/how-to-split-a-data-frame-into-time-series-for-lstm-deep-neural-network/\n",
        "    '''\n",
        "    start_index = history_size\n",
        "    end_index = len(dataset) - target_size\n",
        "\n",
        "    data = []\n",
        "    labels = []\n",
        "\n",
        "    for i in range(start_index, end_index):\n",
        "        indices = range(i - history_size, i, 1)\n",
        "        #print(indices)\n",
        "        data.append(dataset.iloc[indices])\n",
        "        labels.append(dataset.iloc[i:i + target_size])\n",
        "\n",
        "    data = np.array(data)\n",
        "    labels = np.array(labels)\n",
        "    data = data.reshape((-1,  history_size,4))\n",
        "    labels = labels.reshape((-1, target_size,4))\n",
        "    return data, labels\n",
        "ndv_features=[\"ndvi_ne\",\"ndvi_nw\",\"ndvi_se\",\"ndvi_sw\"]\n",
        "XX_ndvi=XX_ndv[ndv_features]\n",
        "XX_ndvi.reset_index(drop=True, inplace=True)\n",
        "XX_ndvi.head(10)\n",
        "data, labels = build_training_data(XX_ndvi)"
      ],
      "execution_count": 174,
      "outputs": []
    },
    {
      "cell_type": "code",
      "metadata": {
        "colab": {
          "base_uri": "https://localhost:8080/"
        },
        "id": "NKKV5GS0Ih4-",
        "outputId": "815e9f28-b1be-490d-a1db-ed6236bc34dc"
      },
      "source": [
        "data[1]"
      ],
      "execution_count": 175,
      "outputs": [
        {
          "output_type": "execute_result",
          "data": {
            "text/plain": [
              "array([[0.1699   , 0.142175 , 0.1623571, 0.1554857],\n",
              "       [0.03225  , 0.1729667, 0.1572   , 0.1708429],\n",
              "       [0.1286333, 0.2450667, 0.2275571, 0.2358857],\n",
              "       [0.1962   , 0.2622   , 0.2512   , 0.24734  ],\n",
              "       [0.1129   , 0.0928   , 0.2050714, 0.2102714]])"
            ]
          },
          "metadata": {
            "tags": []
          },
          "execution_count": 175
        }
      ]
    },
    {
      "cell_type": "code",
      "metadata": {
        "colab": {
          "base_uri": "https://localhost:8080/"
        },
        "id": "8WqEAtXoDCa0",
        "outputId": "e0ffe6fb-21b4-4468-cfd2-53a325f4ad01"
      },
      "source": [
        "labels[0]"
      ],
      "execution_count": 176,
      "outputs": [
        {
          "output_type": "execute_result",
          "data": {
            "text/plain": [
              "array([[0.1129   , 0.0928   , 0.2050714, 0.2102714],\n",
              "       [0.0725   , 0.0725   , 0.1514714, 0.1330286]])"
            ]
          },
          "metadata": {
            "tags": []
          },
          "execution_count": 176
        }
      ]
    },
    {
      "cell_type": "code",
      "metadata": {
        "id": "enoFbfrLHeOf"
      },
      "source": [
        "from keras.backend import clear_session\n",
        "from keras.layers import InputLayer, Dense, LSTM, Input, Dropout,Flatten\n",
        "from keras.models import Sequential, Model\n",
        "from keras.optimizers import SGD,Adam,Adamax,Nadam,Ftrl,Adadelta,Adagrad,Nadam\n",
        "import tensorflow as tf\n",
        "from tensorflow.keras.callbacks import ModelCheckpoint\n",
        "from keras.backend import clear_session\n",
        "from tensorflow.keras.losses import mean_absolute_percentage_error, huber,kld\n",
        "#import tensorflow_addons as tfa"
      ],
      "execution_count": 197,
      "outputs": []
    },
    {
      "cell_type": "code",
      "metadata": {
        "id": "3cJUWeOuSdZF"
      },
      "source": [
        "#.LSTM(units, input_shape=(timesteps, features))])"
      ],
      "execution_count": 66,
      "outputs": []
    },
    {
      "cell_type": "code",
      "metadata": {
        "colab": {
          "base_uri": "https://localhost:8080/"
        },
        "id": "4zf9W4xRXuDU",
        "outputId": "32e5c7ca-2f4a-4270-df01-2473071dede9"
      },
      "source": [
        "clear_session() \n",
        "dropout_1_rate=0.7\n",
        "input_size=5 # timesteps\n",
        "output_size=4 # features\n",
        "learning_rate=0.01\n",
        "\n",
        "inputs=Input(shape=(input_size,output_size))\n",
        "lstm1=LSTM(output_size*5,return_sequences=True,dropout=0.5)(inputs)\n",
        "lstm2=LSTM(output_size*5,return_sequences=False,dropout=0.5)(lstm1)\n",
        "\n",
        "\n",
        "layer2=Dense(150,activation=\"linear\",)(lstm2)\n",
        "dropout1=Dropout(rate=dropout_1_rate)(layer2)\n",
        "result=Dense(output_size,)(dropout1)\n",
        "\n",
        "model = Model(inputs=inputs, outputs=result)\n",
        "model.compile(optimizer=Adamax(learning_rate=learning_rate), loss=\"mse\")\n",
        "model.summary()"
      ],
      "execution_count": 216,
      "outputs": [
        {
          "output_type": "stream",
          "text": [
            "Model: \"model\"\n",
            "_________________________________________________________________\n",
            "Layer (type)                 Output Shape              Param #   \n",
            "=================================================================\n",
            "input_1 (InputLayer)         [(None, 5, 4)]            0         \n",
            "_________________________________________________________________\n",
            "lstm (LSTM)                  (None, 5, 20)             2000      \n",
            "_________________________________________________________________\n",
            "lstm_1 (LSTM)                (None, 20)                3280      \n",
            "_________________________________________________________________\n",
            "dense (Dense)                (None, 150)               3150      \n",
            "_________________________________________________________________\n",
            "dropout (Dropout)            (None, 150)               0         \n",
            "_________________________________________________________________\n",
            "dense_1 (Dense)              (None, 4)                 604       \n",
            "=================================================================\n",
            "Total params: 9,034\n",
            "Trainable params: 9,034\n",
            "Non-trainable params: 0\n",
            "_________________________________________________________________\n"
          ],
          "name": "stdout"
        }
      ]
    },
    {
      "cell_type": "code",
      "metadata": {
        "id": "FXBjot_lP3Mv"
      },
      "source": [
        "!rm model*"
      ],
      "execution_count": 217,
      "outputs": []
    },
    {
      "cell_type": "code",
      "metadata": {
        "id": "5q5ghx0VORBA"
      },
      "source": [
        "fname=\"./model__\"\n",
        "callbacks = [#callback_LR,\n",
        "       \n",
        "        ModelCheckpoint(filepath=fname+\"_{epoch}\"+\"_{loss:.5f}_{val_loss:.5f}_.hdf5\", monitor='val_loss',\n",
        "                        verbose=2, save_best_only=True, mode='min')]"
      ],
      "execution_count": 218,
      "outputs": []
    },
    {
      "cell_type": "code",
      "metadata": {
        "colab": {
          "base_uri": "https://localhost:8080/"
        },
        "id": "q9zR35uKHvNu",
        "outputId": "70f68146-c991-4028-9f56-d0f855e55454"
      },
      "source": [
        "history = model.fit(\n",
        "    x=data,\n",
        "    y=labels,\n",
        "    validation_split=0.1,\n",
        "    epochs=100,\n",
        "    batch_size=1,\n",
        "    callbacks=callbacks\n",
        "   )"
      ],
      "execution_count": null,
      "outputs": [
        {
          "output_type": "stream",
          "text": [
            "Epoch 1/100\n",
            "648/648 [==============================] - 23s 5ms/step - loss: 0.0093 - val_loss: 0.0068\n",
            "\n",
            "Epoch 00001: val_loss improved from inf to 0.00682, saving model to ./model___1_0.00769_0.00682_.hdf5\n",
            "Epoch 2/100\n",
            "648/648 [==============================] - 3s 4ms/step - loss: 0.0065 - val_loss: 0.0075\n",
            "\n",
            "Epoch 00002: val_loss did not improve from 0.00682\n",
            "Epoch 3/100\n",
            "648/648 [==============================] - 3s 4ms/step - loss: 0.0063 - val_loss: 0.0076\n",
            "\n",
            "Epoch 00003: val_loss did not improve from 0.00682\n",
            "Epoch 4/100\n",
            "648/648 [==============================] - 3s 4ms/step - loss: 0.0062 - val_loss: 0.0073\n",
            "\n",
            "Epoch 00004: val_loss did not improve from 0.00682\n",
            "Epoch 5/100\n",
            "648/648 [==============================] - 3s 5ms/step - loss: 0.0066 - val_loss: 0.0068\n",
            "\n",
            "Epoch 00005: val_loss improved from 0.00682 to 0.00681, saving model to ./model___5_0.00609_0.00681_.hdf5\n",
            "Epoch 6/100\n",
            "648/648 [==============================] - 3s 4ms/step - loss: 0.0056 - val_loss: 0.0063\n",
            "\n",
            "Epoch 00006: val_loss improved from 0.00681 to 0.00627, saving model to ./model___6_0.00611_0.00627_.hdf5\n",
            "Epoch 7/100\n",
            "648/648 [==============================] - 3s 4ms/step - loss: 0.0061 - val_loss: 0.0089\n",
            "\n",
            "Epoch 00007: val_loss did not improve from 0.00627\n",
            "Epoch 8/100\n",
            "648/648 [==============================] - 3s 4ms/step - loss: 0.0057 - val_loss: 0.0085\n",
            "\n",
            "Epoch 00008: val_loss did not improve from 0.00627\n",
            "Epoch 9/100\n",
            "648/648 [==============================] - 3s 4ms/step - loss: 0.0063 - val_loss: 0.0066\n",
            "\n",
            "Epoch 00009: val_loss did not improve from 0.00627\n",
            "Epoch 10/100\n",
            "648/648 [==============================] - 3s 4ms/step - loss: 0.0063 - val_loss: 0.0083\n",
            "\n",
            "Epoch 00010: val_loss did not improve from 0.00627\n",
            "Epoch 11/100\n",
            "648/648 [==============================] - 3s 4ms/step - loss: 0.0058 - val_loss: 0.0066\n",
            "\n",
            "Epoch 00011: val_loss did not improve from 0.00627\n",
            "Epoch 12/100\n",
            "648/648 [==============================] - 3s 4ms/step - loss: 0.0065 - val_loss: 0.0066\n",
            "\n",
            "Epoch 00012: val_loss did not improve from 0.00627\n",
            "Epoch 13/100\n",
            "648/648 [==============================] - 3s 4ms/step - loss: 0.0062 - val_loss: 0.0064\n",
            "\n",
            "Epoch 00013: val_loss did not improve from 0.00627\n",
            "Epoch 14/100\n",
            "648/648 [==============================] - 3s 4ms/step - loss: 0.0060 - val_loss: 0.0072\n",
            "\n",
            "Epoch 00014: val_loss did not improve from 0.00627\n",
            "Epoch 15/100\n",
            "648/648 [==============================] - 3s 4ms/step - loss: 0.0060 - val_loss: 0.0066\n",
            "\n",
            "Epoch 00015: val_loss did not improve from 0.00627\n",
            "Epoch 16/100\n",
            "648/648 [==============================] - 3s 4ms/step - loss: 0.0058 - val_loss: 0.0095\n",
            "\n",
            "Epoch 00016: val_loss did not improve from 0.00627\n",
            "Epoch 17/100\n",
            "648/648 [==============================] - 3s 4ms/step - loss: 0.0059 - val_loss: 0.0077\n",
            "\n",
            "Epoch 00017: val_loss did not improve from 0.00627\n",
            "Epoch 18/100\n",
            "648/648 [==============================] - 3s 4ms/step - loss: 0.0059 - val_loss: 0.0071\n",
            "\n",
            "Epoch 00018: val_loss did not improve from 0.00627\n",
            "Epoch 19/100\n",
            "648/648 [==============================] - 3s 4ms/step - loss: 0.0059 - val_loss: 0.0080\n",
            "\n",
            "Epoch 00019: val_loss did not improve from 0.00627\n",
            "Epoch 20/100\n",
            "648/648 [==============================] - 3s 4ms/step - loss: 0.0062 - val_loss: 0.0075\n",
            "\n",
            "Epoch 00020: val_loss did not improve from 0.00627\n",
            "Epoch 21/100\n",
            "648/648 [==============================] - 3s 4ms/step - loss: 0.0056 - val_loss: 0.0074\n",
            "\n",
            "Epoch 00021: val_loss did not improve from 0.00627\n",
            "Epoch 22/100\n",
            "648/648 [==============================] - 3s 4ms/step - loss: 0.0064 - val_loss: 0.0073\n",
            "\n",
            "Epoch 00022: val_loss did not improve from 0.00627\n",
            "Epoch 23/100\n",
            "648/648 [==============================] - 3s 4ms/step - loss: 0.0063 - val_loss: 0.0071\n",
            "\n",
            "Epoch 00023: val_loss did not improve from 0.00627\n",
            "Epoch 24/100\n",
            "648/648 [==============================] - 3s 4ms/step - loss: 0.0058 - val_loss: 0.0065\n",
            "\n",
            "Epoch 00024: val_loss did not improve from 0.00627\n",
            "Epoch 25/100\n",
            "648/648 [==============================] - 3s 4ms/step - loss: 0.0060 - val_loss: 0.0069\n",
            "\n",
            "Epoch 00025: val_loss did not improve from 0.00627\n",
            "Epoch 26/100\n",
            "648/648 [==============================] - 3s 4ms/step - loss: 0.0060 - val_loss: 0.0071\n",
            "\n",
            "Epoch 00026: val_loss did not improve from 0.00627\n",
            "Epoch 27/100\n",
            "648/648 [==============================] - 3s 4ms/step - loss: 0.0062 - val_loss: 0.0066\n",
            "\n",
            "Epoch 00027: val_loss did not improve from 0.00627\n",
            "Epoch 28/100\n",
            "648/648 [==============================] - 3s 4ms/step - loss: 0.0067 - val_loss: 0.0076\n",
            "\n",
            "Epoch 00028: val_loss did not improve from 0.00627\n",
            "Epoch 29/100\n",
            "648/648 [==============================] - 3s 4ms/step - loss: 0.0059 - val_loss: 0.0073\n",
            "\n",
            "Epoch 00029: val_loss did not improve from 0.00627\n",
            "Epoch 30/100\n",
            "648/648 [==============================] - 3s 4ms/step - loss: 0.0055 - val_loss: 0.0067\n",
            "\n",
            "Epoch 00030: val_loss did not improve from 0.00627\n",
            "Epoch 31/100\n",
            "648/648 [==============================] - 3s 4ms/step - loss: 0.0065 - val_loss: 0.0073\n",
            "\n",
            "Epoch 00031: val_loss did not improve from 0.00627\n",
            "Epoch 32/100\n",
            "648/648 [==============================] - 3s 4ms/step - loss: 0.0059 - val_loss: 0.0064\n",
            "\n",
            "Epoch 00032: val_loss did not improve from 0.00627\n",
            "Epoch 33/100\n",
            "648/648 [==============================] - 3s 4ms/step - loss: 0.0061 - val_loss: 0.0074\n",
            "\n",
            "Epoch 00033: val_loss did not improve from 0.00627\n",
            "Epoch 34/100\n",
            "648/648 [==============================] - 3s 4ms/step - loss: 0.0054 - val_loss: 0.0092\n",
            "\n",
            "Epoch 00034: val_loss did not improve from 0.00627\n",
            "Epoch 35/100\n",
            "648/648 [==============================] - 3s 4ms/step - loss: 0.0058 - val_loss: 0.0068\n",
            "\n",
            "Epoch 00035: val_loss did not improve from 0.00627\n",
            "Epoch 36/100\n",
            "648/648 [==============================] - 3s 4ms/step - loss: 0.0059 - val_loss: 0.0062\n",
            "\n",
            "Epoch 00036: val_loss improved from 0.00627 to 0.00625, saving model to ./model___36_0.00596_0.00625_.hdf5\n",
            "Epoch 37/100\n",
            "648/648 [==============================] - 3s 4ms/step - loss: 0.0057 - val_loss: 0.0071\n",
            "\n",
            "Epoch 00037: val_loss did not improve from 0.00625\n",
            "Epoch 38/100\n",
            "648/648 [==============================] - 3s 4ms/step - loss: 0.0061 - val_loss: 0.0064\n",
            "\n",
            "Epoch 00038: val_loss did not improve from 0.00625\n",
            "Epoch 39/100\n",
            "648/648 [==============================] - 3s 4ms/step - loss: 0.0064 - val_loss: 0.0079\n",
            "\n",
            "Epoch 00039: val_loss did not improve from 0.00625\n",
            "Epoch 40/100\n",
            "648/648 [==============================] - 3s 4ms/step - loss: 0.0056 - val_loss: 0.0071\n",
            "\n",
            "Epoch 00040: val_loss did not improve from 0.00625\n",
            "Epoch 41/100\n",
            "648/648 [==============================] - 3s 4ms/step - loss: 0.0058 - val_loss: 0.0078\n",
            "\n",
            "Epoch 00041: val_loss did not improve from 0.00625\n",
            "Epoch 42/100\n",
            "648/648 [==============================] - 3s 4ms/step - loss: 0.0059 - val_loss: 0.0072\n",
            "\n",
            "Epoch 00042: val_loss did not improve from 0.00625\n",
            "Epoch 43/100\n",
            "648/648 [==============================] - 3s 4ms/step - loss: 0.0063 - val_loss: 0.0071\n",
            "\n",
            "Epoch 00043: val_loss did not improve from 0.00625\n",
            "Epoch 44/100\n",
            "648/648 [==============================] - 3s 4ms/step - loss: 0.0055 - val_loss: 0.0071\n",
            "\n",
            "Epoch 00044: val_loss did not improve from 0.00625\n",
            "Epoch 45/100\n",
            "648/648 [==============================] - 3s 4ms/step - loss: 0.0060 - val_loss: 0.0079\n",
            "\n",
            "Epoch 00045: val_loss did not improve from 0.00625\n",
            "Epoch 46/100\n",
            "648/648 [==============================] - 3s 4ms/step - loss: 0.0059 - val_loss: 0.0064\n",
            "\n",
            "Epoch 00046: val_loss did not improve from 0.00625\n",
            "Epoch 47/100\n",
            "648/648 [==============================] - 3s 4ms/step - loss: 0.0052 - val_loss: 0.0064\n",
            "\n",
            "Epoch 00047: val_loss did not improve from 0.00625\n",
            "Epoch 48/100\n",
            "648/648 [==============================] - 3s 4ms/step - loss: 0.0061 - val_loss: 0.0064\n",
            "\n",
            "Epoch 00048: val_loss did not improve from 0.00625\n",
            "Epoch 49/100\n",
            "264/648 [===========>..................] - ETA: 1s - loss: 0.0062"
          ],
          "name": "stdout"
        }
      ]
    },
    {
      "cell_type": "code",
      "metadata": {
        "id": "CdlFfbUiWvra"
      },
      "source": [
        "y_pred=model.predict(data)"
      ],
      "execution_count": 191,
      "outputs": []
    },
    {
      "cell_type": "code",
      "metadata": {
        "colab": {
          "base_uri": "https://localhost:8080/"
        },
        "id": "fdZLGOUfXGpi",
        "outputId": "9476b65e-b25d-4765-8b1d-9024a55f8879"
      },
      "source": [
        "y_pred[3]"
      ],
      "execution_count": 190,
      "outputs": [
        {
          "output_type": "execute_result",
          "data": {
            "text/plain": [
              "array([0.10666163, 0.11631666, 0.17371336, 0.16755497], dtype=float32)"
            ]
          },
          "metadata": {
            "tags": []
          },
          "execution_count": 190
        }
      ]
    },
    {
      "cell_type": "code",
      "metadata": {
        "colab": {
          "base_uri": "https://localhost:8080/"
        },
        "id": "OfgR_lRuYK32",
        "outputId": "591a324c-8ea8-4476-9bb8-277226a93af0"
      },
      "source": [
        "labels"
      ],
      "execution_count": 188,
      "outputs": [
        {
          "output_type": "execute_result",
          "data": {
            "text/plain": [
              "array([[[ 0.1129    ,  0.0928    ,  0.2050714 ,  0.2102714 ],\n",
              "        [ 0.0725    ,  0.0725    ,  0.1514714 ,  0.1330286 ]],\n",
              "\n",
              "       [[ 0.0725    ,  0.0725    ,  0.1514714 ,  0.1330286 ],\n",
              "        [ 0.10245   ,  0.146175  ,  0.1255714 ,  0.1236    ]],\n",
              "\n",
              "       [[ 0.10245   ,  0.146175  ,  0.1255714 ,  0.1236    ],\n",
              "        [ 0.192875  ,  0.08235   ,  0.1919429 ,  0.1529286 ]],\n",
              "\n",
              "       ...,\n",
              "\n",
              "       [[ 0.0449    ,  0.02445   ,  0.1016286 ,  0.088     ],\n",
              "        [ 0.07785   , -0.0399    ,  0.3104714 ,  0.2962429 ]],\n",
              "\n",
              "       [[ 0.07785   , -0.0399    ,  0.3104714 ,  0.2962429 ],\n",
              "        [-0.038     , -0.01683333,  0.1193714 ,  0.06638571]],\n",
              "\n",
              "       [[-0.038     , -0.01683333,  0.1193714 ,  0.06638571],\n",
              "        [-0.1552    , -0.05275   ,  0.1377571 ,  0.1412143 ]]])"
            ]
          },
          "metadata": {
            "tags": []
          },
          "execution_count": 188
        }
      ]
    }
  ]
}