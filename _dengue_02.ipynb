{
  "nbformat": 4,
  "nbformat_minor": 0,
  "metadata": {
    "colab": {
      "name": "_dengue_02.ipynb",
      "provenance": [],
      "authorship_tag": "ABX9TyMfgbD5Wp+WTJhz61J32u/J",
      "include_colab_link": true
    },
    "kernelspec": {
      "display_name": "Python 3",
      "name": "python3"
    },
    "accelerator": "GPU"
  },
  "cells": [
    {
      "cell_type": "markdown",
      "metadata": {
        "id": "view-in-github",
        "colab_type": "text"
      },
      "source": [
        "<a href=\"https://colab.research.google.com/github/sipocz/_dengue/blob/main/_dengue_02.ipynb\" target=\"_parent\"><img src=\"https://colab.research.google.com/assets/colab-badge.svg\" alt=\"Open In Colab\"/></a>"
      ]
    },
    {
      "cell_type": "code",
      "metadata": {
        "colab": {
          "base_uri": "https://localhost:8080/"
        },
        "id": "8nXsDwdKVfQe",
        "outputId": "dd84faad-cc8d-44b1-b13d-1cbbf9f65a5a"
      },
      "source": [
        "\n",
        "#_Dengue\n",
        "_project=\"_dengue\"\n",
        "_PCVERSION_=False\n",
        "_GITHUBVERSION_=True\n",
        "_GOOGLEVERSION_=False\n",
        "if _PCVERSION_:\n",
        "    basedir=\"C:/Users/sipocz/OneDrive/Dokumentumok/GitHub\"\n",
        "\n",
        "if _GOOGLEVERSION_:\n",
        "    from google.colab import drive\n",
        "    drive.mount('/content/drive',force_remount=True)\n",
        "    basedir=\"/content/drive/My Drive/001_AI\"\n",
        "\n",
        "if _GITHUBVERSION_:\n",
        "    !mkdir _dengue\n",
        "    files=[\"dengue_features_train.csv\",\"dengue_labels_train.csv\",\"dengue_features_test.csv\"]\n",
        "    path=\"https://raw.githubusercontent.com/sipocz/_dengue/main/\"\n",
        "    basedir=\"./\"\n",
        "    storeto=basedir+_project\n",
        "    for f in files:\n",
        "        fname=path+f\n",
        "        !rm $f\n",
        "        !wget $fname\n",
        "        !mv $f $storeto\n",
        "\n"
      ],
      "execution_count": 1,
      "outputs": [
        {
          "output_type": "stream",
          "text": [
            "rm: cannot remove 'dengue_features_train.csv': No such file or directory\n",
            "--2021-08-05 15:14:05--  https://raw.githubusercontent.com/sipocz/_dengue/main/dengue_features_train.csv\n",
            "Resolving raw.githubusercontent.com (raw.githubusercontent.com)... 185.199.108.133, 185.199.109.133, 185.199.110.133, ...\n",
            "Connecting to raw.githubusercontent.com (raw.githubusercontent.com)|185.199.108.133|:443... connected.\n",
            "HTTP request sent, awaiting response... 200 OK\n",
            "Length: 287139 (280K) [text/plain]\n",
            "Saving to: ‘dengue_features_train.csv’\n",
            "\n",
            "dengue_features_tra 100%[===================>] 280.41K  --.-KB/s    in 0.02s   \n",
            "\n",
            "2021-08-05 15:14:05 (13.7 MB/s) - ‘dengue_features_train.csv’ saved [287139/287139]\n",
            "\n",
            "rm: cannot remove 'dengue_labels_train.csv': No such file or directory\n",
            "--2021-08-05 15:14:06--  https://raw.githubusercontent.com/sipocz/_dengue/main/dengue_labels_train.csv\n",
            "Resolving raw.githubusercontent.com (raw.githubusercontent.com)... 185.199.108.133, 185.199.109.133, 185.199.110.133, ...\n",
            "Connecting to raw.githubusercontent.com (raw.githubusercontent.com)|185.199.108.133|:443... connected.\n",
            "HTTP request sent, awaiting response... 200 OK\n",
            "Length: 19582 (19K) [text/plain]\n",
            "Saving to: ‘dengue_labels_train.csv’\n",
            "\n",
            "dengue_labels_train 100%[===================>]  19.12K  --.-KB/s    in 0s      \n",
            "\n",
            "2021-08-05 15:14:06 (55.2 MB/s) - ‘dengue_labels_train.csv’ saved [19582/19582]\n",
            "\n",
            "rm: cannot remove 'dengue_features_test.csv': No such file or directory\n",
            "--2021-08-05 15:14:06--  https://raw.githubusercontent.com/sipocz/_dengue/main/dengue_features_test.csv\n",
            "Resolving raw.githubusercontent.com (raw.githubusercontent.com)... 185.199.108.133, 185.199.109.133, 185.199.110.133, ...\n",
            "Connecting to raw.githubusercontent.com (raw.githubusercontent.com)|185.199.108.133|:443... connected.\n",
            "HTTP request sent, awaiting response... 200 OK\n",
            "Length: 82465 (81K) [text/plain]\n",
            "Saving to: ‘dengue_features_test.csv’\n",
            "\n",
            "dengue_features_tes 100%[===================>]  80.53K  --.-KB/s    in 0.008s  \n",
            "\n",
            "2021-08-05 15:14:06 (9.27 MB/s) - ‘dengue_features_test.csv’ saved [82465/82465]\n",
            "\n"
          ],
          "name": "stdout"
        }
      ]
    },
    {
      "cell_type": "code",
      "metadata": {
        "id": "3hFMCKNpNts-"
      },
      "source": [
        "\n",
        "import numpy as np\n",
        "import pandas as pd\n",
        "import matplotlib.pyplot as plt\n",
        "\n",
        "\n",
        "#--------------scikit import \n",
        "from sklearn.ensemble import IsolationForest\n",
        "from sklearn.metrics import accuracy_score\n",
        "from sklearn.preprocessing import MinMaxScaler\n",
        "from sklearn.model_selection import train_test_split\n",
        "\n",
        "#--------------\n",
        "def outlierStatistic(X_train_predict):\n",
        "    print(X_train_predict)\n",
        "    maxX=len(X_train_predict)\n",
        "    outlier=0\n",
        "    for i in X_train_predict:\n",
        "        if i==-1:\n",
        "            outlier+=1\n",
        "    print(f\"A összes ({maxX} darabból {outlier} darab outlier van. Az {outlier/maxX*100:5.1f} %.)\")\n",
        "\n",
        "features_train=basedir+_project+\"/\"+\"dengue_features_train.csv\"\n",
        "labels_train=basedir+_project+\"/\"+\"dengue_labels_train.csv\"\n",
        "features_test=basedir+_project+\"/\"+\"dengue_features_test.csv\"\n",
        "\n",
        "\n",
        "X_train=pd.read_csv(features_train)\n",
        "y_train=pd.read_csv(labels_train)\n",
        "X_test=pd.read_csv(features_test)\n",
        "\n",
        "\n",
        "\n",
        "\n",
        "\n",
        "\n"
      ],
      "execution_count": 2,
      "outputs": []
    },
    {
      "cell_type": "code",
      "metadata": {
        "colab": {
          "base_uri": "https://localhost:8080/"
        },
        "id": "7PKZXx8u_1DZ",
        "outputId": "9664835d-5445-43bd-db4f-bfad7bfc0cb5"
      },
      "source": [
        "X_test.isnull().sum()"
      ],
      "execution_count": 3,
      "outputs": [
        {
          "output_type": "execute_result",
          "data": {
            "text/plain": [
              "city                                      0\n",
              "year                                      0\n",
              "weekofyear                                0\n",
              "week_start_date                           0\n",
              "ndvi_ne                                  43\n",
              "ndvi_nw                                  11\n",
              "ndvi_se                                   1\n",
              "ndvi_sw                                   1\n",
              "precipitation_amt_mm                      2\n",
              "reanalysis_air_temp_k                     2\n",
              "reanalysis_avg_temp_k                     2\n",
              "reanalysis_dew_point_temp_k               2\n",
              "reanalysis_max_air_temp_k                 2\n",
              "reanalysis_min_air_temp_k                 2\n",
              "reanalysis_precip_amt_kg_per_m2           2\n",
              "reanalysis_relative_humidity_percent      2\n",
              "reanalysis_sat_precip_amt_mm              2\n",
              "reanalysis_specific_humidity_g_per_kg     2\n",
              "reanalysis_tdtr_k                         2\n",
              "station_avg_temp_c                       12\n",
              "station_diur_temp_rng_c                  12\n",
              "station_max_temp_c                        3\n",
              "station_min_temp_c                        9\n",
              "station_precip_mm                         5\n",
              "dtype: int64"
            ]
          },
          "metadata": {
            "tags": []
          },
          "execution_count": 3
        }
      ]
    },
    {
      "cell_type": "code",
      "metadata": {
        "id": "7fCO06IJI7oY"
      },
      "source": [
        "X_test.fillna(method=\"bfill\", inplace=True)\n",
        "X_train.fillna(method=\"bfill\", inplace=True)\n"
      ],
      "execution_count": 4,
      "outputs": []
    },
    {
      "cell_type": "code",
      "metadata": {
        "colab": {
          "base_uri": "https://localhost:8080/"
        },
        "id": "XQrev2GBJVIN",
        "outputId": "35c2df7c-cad6-4ad4-d9b5-d8e3df776bd1"
      },
      "source": [
        "X_test.isnull().sum()"
      ],
      "execution_count": 5,
      "outputs": [
        {
          "output_type": "execute_result",
          "data": {
            "text/plain": [
              "city                                     0\n",
              "year                                     0\n",
              "weekofyear                               0\n",
              "week_start_date                          0\n",
              "ndvi_ne                                  0\n",
              "ndvi_nw                                  0\n",
              "ndvi_se                                  0\n",
              "ndvi_sw                                  0\n",
              "precipitation_amt_mm                     0\n",
              "reanalysis_air_temp_k                    0\n",
              "reanalysis_avg_temp_k                    0\n",
              "reanalysis_dew_point_temp_k              0\n",
              "reanalysis_max_air_temp_k                0\n",
              "reanalysis_min_air_temp_k                0\n",
              "reanalysis_precip_amt_kg_per_m2          0\n",
              "reanalysis_relative_humidity_percent     0\n",
              "reanalysis_sat_precip_amt_mm             0\n",
              "reanalysis_specific_humidity_g_per_kg    0\n",
              "reanalysis_tdtr_k                        0\n",
              "station_avg_temp_c                       0\n",
              "station_diur_temp_rng_c                  0\n",
              "station_max_temp_c                       0\n",
              "station_min_temp_c                       0\n",
              "station_precip_mm                        0\n",
              "dtype: int64"
            ]
          },
          "metadata": {
            "tags": []
          },
          "execution_count": 5
        }
      ]
    },
    {
      "cell_type": "code",
      "metadata": {
        "colab": {
          "base_uri": "https://localhost:8080/"
        },
        "id": "ARBG6b9nBGJX",
        "outputId": "9674a874-a17a-4598-9c7f-736a869716b3"
      },
      "source": [
        "len(list(X_test[X_test.isnull().T.any().T]))"
      ],
      "execution_count": 6,
      "outputs": [
        {
          "output_type": "execute_result",
          "data": {
            "text/plain": [
              "24"
            ]
          },
          "metadata": {
            "tags": []
          },
          "execution_count": 6
        }
      ]
    },
    {
      "cell_type": "code",
      "metadata": {
        "colab": {
          "base_uri": "https://localhost:8080/",
          "height": 69
        },
        "id": "7rEDDKO6HLny",
        "outputId": "992b07e1-b273-422a-e600-7cb18b09cce1"
      },
      "source": [
        "X_test[X_test.isnull().T.any().T].head(124)"
      ],
      "execution_count": 7,
      "outputs": [
        {
          "output_type": "execute_result",
          "data": {
            "text/html": [
              "<div>\n",
              "<style scoped>\n",
              "    .dataframe tbody tr th:only-of-type {\n",
              "        vertical-align: middle;\n",
              "    }\n",
              "\n",
              "    .dataframe tbody tr th {\n",
              "        vertical-align: top;\n",
              "    }\n",
              "\n",
              "    .dataframe thead th {\n",
              "        text-align: right;\n",
              "    }\n",
              "</style>\n",
              "<table border=\"1\" class=\"dataframe\">\n",
              "  <thead>\n",
              "    <tr style=\"text-align: right;\">\n",
              "      <th></th>\n",
              "      <th>city</th>\n",
              "      <th>year</th>\n",
              "      <th>weekofyear</th>\n",
              "      <th>week_start_date</th>\n",
              "      <th>ndvi_ne</th>\n",
              "      <th>ndvi_nw</th>\n",
              "      <th>ndvi_se</th>\n",
              "      <th>ndvi_sw</th>\n",
              "      <th>precipitation_amt_mm</th>\n",
              "      <th>reanalysis_air_temp_k</th>\n",
              "      <th>reanalysis_avg_temp_k</th>\n",
              "      <th>reanalysis_dew_point_temp_k</th>\n",
              "      <th>reanalysis_max_air_temp_k</th>\n",
              "      <th>reanalysis_min_air_temp_k</th>\n",
              "      <th>reanalysis_precip_amt_kg_per_m2</th>\n",
              "      <th>reanalysis_relative_humidity_percent</th>\n",
              "      <th>reanalysis_sat_precip_amt_mm</th>\n",
              "      <th>reanalysis_specific_humidity_g_per_kg</th>\n",
              "      <th>reanalysis_tdtr_k</th>\n",
              "      <th>station_avg_temp_c</th>\n",
              "      <th>station_diur_temp_rng_c</th>\n",
              "      <th>station_max_temp_c</th>\n",
              "      <th>station_min_temp_c</th>\n",
              "      <th>station_precip_mm</th>\n",
              "    </tr>\n",
              "  </thead>\n",
              "  <tbody>\n",
              "  </tbody>\n",
              "</table>\n",
              "</div>"
            ],
            "text/plain": [
              "Empty DataFrame\n",
              "Columns: [city, year, weekofyear, week_start_date, ndvi_ne, ndvi_nw, ndvi_se, ndvi_sw, precipitation_amt_mm, reanalysis_air_temp_k, reanalysis_avg_temp_k, reanalysis_dew_point_temp_k, reanalysis_max_air_temp_k, reanalysis_min_air_temp_k, reanalysis_precip_amt_kg_per_m2, reanalysis_relative_humidity_percent, reanalysis_sat_precip_amt_mm, reanalysis_specific_humidity_g_per_kg, reanalysis_tdtr_k, station_avg_temp_c, station_diur_temp_rng_c, station_max_temp_c, station_min_temp_c, station_precip_mm]\n",
              "Index: []"
            ]
          },
          "metadata": {
            "tags": []
          },
          "execution_count": 7
        }
      ]
    },
    {
      "cell_type": "code",
      "metadata": {
        "colab": {
          "base_uri": "https://localhost:8080/",
          "height": 439
        },
        "id": "kM81wyUTSX0A",
        "outputId": "be963ace-0181-42cb-81b5-6cf0c718cc26"
      },
      "source": [
        "X_train"
      ],
      "execution_count": 8,
      "outputs": [
        {
          "output_type": "execute_result",
          "data": {
            "text/html": [
              "<div>\n",
              "<style scoped>\n",
              "    .dataframe tbody tr th:only-of-type {\n",
              "        vertical-align: middle;\n",
              "    }\n",
              "\n",
              "    .dataframe tbody tr th {\n",
              "        vertical-align: top;\n",
              "    }\n",
              "\n",
              "    .dataframe thead th {\n",
              "        text-align: right;\n",
              "    }\n",
              "</style>\n",
              "<table border=\"1\" class=\"dataframe\">\n",
              "  <thead>\n",
              "    <tr style=\"text-align: right;\">\n",
              "      <th></th>\n",
              "      <th>city</th>\n",
              "      <th>year</th>\n",
              "      <th>weekofyear</th>\n",
              "      <th>week_start_date</th>\n",
              "      <th>ndvi_ne</th>\n",
              "      <th>ndvi_nw</th>\n",
              "      <th>ndvi_se</th>\n",
              "      <th>ndvi_sw</th>\n",
              "      <th>precipitation_amt_mm</th>\n",
              "      <th>reanalysis_air_temp_k</th>\n",
              "      <th>reanalysis_avg_temp_k</th>\n",
              "      <th>reanalysis_dew_point_temp_k</th>\n",
              "      <th>reanalysis_max_air_temp_k</th>\n",
              "      <th>reanalysis_min_air_temp_k</th>\n",
              "      <th>reanalysis_precip_amt_kg_per_m2</th>\n",
              "      <th>reanalysis_relative_humidity_percent</th>\n",
              "      <th>reanalysis_sat_precip_amt_mm</th>\n",
              "      <th>reanalysis_specific_humidity_g_per_kg</th>\n",
              "      <th>reanalysis_tdtr_k</th>\n",
              "      <th>station_avg_temp_c</th>\n",
              "      <th>station_diur_temp_rng_c</th>\n",
              "      <th>station_max_temp_c</th>\n",
              "      <th>station_min_temp_c</th>\n",
              "      <th>station_precip_mm</th>\n",
              "    </tr>\n",
              "  </thead>\n",
              "  <tbody>\n",
              "    <tr>\n",
              "      <th>0</th>\n",
              "      <td>sj</td>\n",
              "      <td>1990</td>\n",
              "      <td>18</td>\n",
              "      <td>1990-04-30</td>\n",
              "      <td>0.122600</td>\n",
              "      <td>0.103725</td>\n",
              "      <td>0.198483</td>\n",
              "      <td>0.177617</td>\n",
              "      <td>12.42</td>\n",
              "      <td>297.572857</td>\n",
              "      <td>297.742857</td>\n",
              "      <td>292.414286</td>\n",
              "      <td>299.8</td>\n",
              "      <td>295.9</td>\n",
              "      <td>32.00</td>\n",
              "      <td>73.365714</td>\n",
              "      <td>12.42</td>\n",
              "      <td>14.012857</td>\n",
              "      <td>2.628571</td>\n",
              "      <td>25.442857</td>\n",
              "      <td>6.900000</td>\n",
              "      <td>29.4</td>\n",
              "      <td>20.0</td>\n",
              "      <td>16.0</td>\n",
              "    </tr>\n",
              "    <tr>\n",
              "      <th>1</th>\n",
              "      <td>sj</td>\n",
              "      <td>1990</td>\n",
              "      <td>19</td>\n",
              "      <td>1990-05-07</td>\n",
              "      <td>0.169900</td>\n",
              "      <td>0.142175</td>\n",
              "      <td>0.162357</td>\n",
              "      <td>0.155486</td>\n",
              "      <td>22.82</td>\n",
              "      <td>298.211429</td>\n",
              "      <td>298.442857</td>\n",
              "      <td>293.951429</td>\n",
              "      <td>300.9</td>\n",
              "      <td>296.4</td>\n",
              "      <td>17.94</td>\n",
              "      <td>77.368571</td>\n",
              "      <td>22.82</td>\n",
              "      <td>15.372857</td>\n",
              "      <td>2.371429</td>\n",
              "      <td>26.714286</td>\n",
              "      <td>6.371429</td>\n",
              "      <td>31.7</td>\n",
              "      <td>22.2</td>\n",
              "      <td>8.6</td>\n",
              "    </tr>\n",
              "    <tr>\n",
              "      <th>2</th>\n",
              "      <td>sj</td>\n",
              "      <td>1990</td>\n",
              "      <td>20</td>\n",
              "      <td>1990-05-14</td>\n",
              "      <td>0.032250</td>\n",
              "      <td>0.172967</td>\n",
              "      <td>0.157200</td>\n",
              "      <td>0.170843</td>\n",
              "      <td>34.54</td>\n",
              "      <td>298.781429</td>\n",
              "      <td>298.878571</td>\n",
              "      <td>295.434286</td>\n",
              "      <td>300.5</td>\n",
              "      <td>297.3</td>\n",
              "      <td>26.10</td>\n",
              "      <td>82.052857</td>\n",
              "      <td>34.54</td>\n",
              "      <td>16.848571</td>\n",
              "      <td>2.300000</td>\n",
              "      <td>26.714286</td>\n",
              "      <td>6.485714</td>\n",
              "      <td>32.2</td>\n",
              "      <td>22.8</td>\n",
              "      <td>41.4</td>\n",
              "    </tr>\n",
              "    <tr>\n",
              "      <th>3</th>\n",
              "      <td>sj</td>\n",
              "      <td>1990</td>\n",
              "      <td>21</td>\n",
              "      <td>1990-05-21</td>\n",
              "      <td>0.128633</td>\n",
              "      <td>0.245067</td>\n",
              "      <td>0.227557</td>\n",
              "      <td>0.235886</td>\n",
              "      <td>15.36</td>\n",
              "      <td>298.987143</td>\n",
              "      <td>299.228571</td>\n",
              "      <td>295.310000</td>\n",
              "      <td>301.4</td>\n",
              "      <td>297.0</td>\n",
              "      <td>13.90</td>\n",
              "      <td>80.337143</td>\n",
              "      <td>15.36</td>\n",
              "      <td>16.672857</td>\n",
              "      <td>2.428571</td>\n",
              "      <td>27.471429</td>\n",
              "      <td>6.771429</td>\n",
              "      <td>33.3</td>\n",
              "      <td>23.3</td>\n",
              "      <td>4.0</td>\n",
              "    </tr>\n",
              "    <tr>\n",
              "      <th>4</th>\n",
              "      <td>sj</td>\n",
              "      <td>1990</td>\n",
              "      <td>22</td>\n",
              "      <td>1990-05-28</td>\n",
              "      <td>0.196200</td>\n",
              "      <td>0.262200</td>\n",
              "      <td>0.251200</td>\n",
              "      <td>0.247340</td>\n",
              "      <td>7.52</td>\n",
              "      <td>299.518571</td>\n",
              "      <td>299.664286</td>\n",
              "      <td>295.821429</td>\n",
              "      <td>301.9</td>\n",
              "      <td>297.5</td>\n",
              "      <td>12.20</td>\n",
              "      <td>80.460000</td>\n",
              "      <td>7.52</td>\n",
              "      <td>17.210000</td>\n",
              "      <td>3.014286</td>\n",
              "      <td>28.942857</td>\n",
              "      <td>9.371429</td>\n",
              "      <td>35.0</td>\n",
              "      <td>23.9</td>\n",
              "      <td>5.8</td>\n",
              "    </tr>\n",
              "    <tr>\n",
              "      <th>...</th>\n",
              "      <td>...</td>\n",
              "      <td>...</td>\n",
              "      <td>...</td>\n",
              "      <td>...</td>\n",
              "      <td>...</td>\n",
              "      <td>...</td>\n",
              "      <td>...</td>\n",
              "      <td>...</td>\n",
              "      <td>...</td>\n",
              "      <td>...</td>\n",
              "      <td>...</td>\n",
              "      <td>...</td>\n",
              "      <td>...</td>\n",
              "      <td>...</td>\n",
              "      <td>...</td>\n",
              "      <td>...</td>\n",
              "      <td>...</td>\n",
              "      <td>...</td>\n",
              "      <td>...</td>\n",
              "      <td>...</td>\n",
              "      <td>...</td>\n",
              "      <td>...</td>\n",
              "      <td>...</td>\n",
              "      <td>...</td>\n",
              "    </tr>\n",
              "    <tr>\n",
              "      <th>1451</th>\n",
              "      <td>iq</td>\n",
              "      <td>2010</td>\n",
              "      <td>21</td>\n",
              "      <td>2010-05-28</td>\n",
              "      <td>0.342750</td>\n",
              "      <td>0.318900</td>\n",
              "      <td>0.256343</td>\n",
              "      <td>0.292514</td>\n",
              "      <td>55.30</td>\n",
              "      <td>299.334286</td>\n",
              "      <td>300.771429</td>\n",
              "      <td>296.825714</td>\n",
              "      <td>309.7</td>\n",
              "      <td>294.5</td>\n",
              "      <td>45.00</td>\n",
              "      <td>88.765714</td>\n",
              "      <td>55.30</td>\n",
              "      <td>18.485714</td>\n",
              "      <td>9.800000</td>\n",
              "      <td>28.633333</td>\n",
              "      <td>11.933333</td>\n",
              "      <td>35.4</td>\n",
              "      <td>22.4</td>\n",
              "      <td>27.0</td>\n",
              "    </tr>\n",
              "    <tr>\n",
              "      <th>1452</th>\n",
              "      <td>iq</td>\n",
              "      <td>2010</td>\n",
              "      <td>22</td>\n",
              "      <td>2010-06-04</td>\n",
              "      <td>0.160157</td>\n",
              "      <td>0.160371</td>\n",
              "      <td>0.136043</td>\n",
              "      <td>0.225657</td>\n",
              "      <td>86.47</td>\n",
              "      <td>298.330000</td>\n",
              "      <td>299.392857</td>\n",
              "      <td>296.452857</td>\n",
              "      <td>308.5</td>\n",
              "      <td>291.9</td>\n",
              "      <td>207.10</td>\n",
              "      <td>91.600000</td>\n",
              "      <td>86.47</td>\n",
              "      <td>18.070000</td>\n",
              "      <td>7.471429</td>\n",
              "      <td>27.433333</td>\n",
              "      <td>10.500000</td>\n",
              "      <td>34.7</td>\n",
              "      <td>21.7</td>\n",
              "      <td>36.6</td>\n",
              "    </tr>\n",
              "    <tr>\n",
              "      <th>1453</th>\n",
              "      <td>iq</td>\n",
              "      <td>2010</td>\n",
              "      <td>23</td>\n",
              "      <td>2010-06-11</td>\n",
              "      <td>0.247057</td>\n",
              "      <td>0.146057</td>\n",
              "      <td>0.250357</td>\n",
              "      <td>0.233714</td>\n",
              "      <td>58.94</td>\n",
              "      <td>296.598571</td>\n",
              "      <td>297.592857</td>\n",
              "      <td>295.501429</td>\n",
              "      <td>305.5</td>\n",
              "      <td>292.4</td>\n",
              "      <td>50.60</td>\n",
              "      <td>94.280000</td>\n",
              "      <td>58.94</td>\n",
              "      <td>17.008571</td>\n",
              "      <td>7.500000</td>\n",
              "      <td>24.400000</td>\n",
              "      <td>6.900000</td>\n",
              "      <td>32.2</td>\n",
              "      <td>19.2</td>\n",
              "      <td>7.4</td>\n",
              "    </tr>\n",
              "    <tr>\n",
              "      <th>1454</th>\n",
              "      <td>iq</td>\n",
              "      <td>2010</td>\n",
              "      <td>24</td>\n",
              "      <td>2010-06-18</td>\n",
              "      <td>0.333914</td>\n",
              "      <td>0.245771</td>\n",
              "      <td>0.278886</td>\n",
              "      <td>0.325486</td>\n",
              "      <td>59.67</td>\n",
              "      <td>296.345714</td>\n",
              "      <td>297.521429</td>\n",
              "      <td>295.324286</td>\n",
              "      <td>306.1</td>\n",
              "      <td>291.9</td>\n",
              "      <td>62.33</td>\n",
              "      <td>94.660000</td>\n",
              "      <td>59.67</td>\n",
              "      <td>16.815714</td>\n",
              "      <td>7.871429</td>\n",
              "      <td>25.433333</td>\n",
              "      <td>8.733333</td>\n",
              "      <td>31.2</td>\n",
              "      <td>21.0</td>\n",
              "      <td>16.0</td>\n",
              "    </tr>\n",
              "    <tr>\n",
              "      <th>1455</th>\n",
              "      <td>iq</td>\n",
              "      <td>2010</td>\n",
              "      <td>25</td>\n",
              "      <td>2010-06-25</td>\n",
              "      <td>0.298186</td>\n",
              "      <td>0.232971</td>\n",
              "      <td>0.274214</td>\n",
              "      <td>0.315757</td>\n",
              "      <td>63.22</td>\n",
              "      <td>298.097143</td>\n",
              "      <td>299.835714</td>\n",
              "      <td>295.807143</td>\n",
              "      <td>307.8</td>\n",
              "      <td>292.3</td>\n",
              "      <td>36.90</td>\n",
              "      <td>89.082857</td>\n",
              "      <td>63.22</td>\n",
              "      <td>17.355714</td>\n",
              "      <td>11.014286</td>\n",
              "      <td>27.475000</td>\n",
              "      <td>9.900000</td>\n",
              "      <td>33.7</td>\n",
              "      <td>22.2</td>\n",
              "      <td>20.4</td>\n",
              "    </tr>\n",
              "  </tbody>\n",
              "</table>\n",
              "<p>1456 rows × 24 columns</p>\n",
              "</div>"
            ],
            "text/plain": [
              "     city  year  ...  station_min_temp_c station_precip_mm\n",
              "0      sj  1990  ...                20.0              16.0\n",
              "1      sj  1990  ...                22.2               8.6\n",
              "2      sj  1990  ...                22.8              41.4\n",
              "3      sj  1990  ...                23.3               4.0\n",
              "4      sj  1990  ...                23.9               5.8\n",
              "...   ...   ...  ...                 ...               ...\n",
              "1451   iq  2010  ...                22.4              27.0\n",
              "1452   iq  2010  ...                21.7              36.6\n",
              "1453   iq  2010  ...                19.2               7.4\n",
              "1454   iq  2010  ...                21.0              16.0\n",
              "1455   iq  2010  ...                22.2              20.4\n",
              "\n",
              "[1456 rows x 24 columns]"
            ]
          },
          "metadata": {
            "tags": []
          },
          "execution_count": 8
        }
      ]
    },
    {
      "cell_type": "code",
      "metadata": {
        "colab": {
          "base_uri": "https://localhost:8080/",
          "height": 419
        },
        "id": "jzLkVpVoTOaW",
        "outputId": "cd6cfd68-02ad-416e-aed8-654badbce89a"
      },
      "source": [
        "y_train"
      ],
      "execution_count": 9,
      "outputs": [
        {
          "output_type": "execute_result",
          "data": {
            "text/html": [
              "<div>\n",
              "<style scoped>\n",
              "    .dataframe tbody tr th:only-of-type {\n",
              "        vertical-align: middle;\n",
              "    }\n",
              "\n",
              "    .dataframe tbody tr th {\n",
              "        vertical-align: top;\n",
              "    }\n",
              "\n",
              "    .dataframe thead th {\n",
              "        text-align: right;\n",
              "    }\n",
              "</style>\n",
              "<table border=\"1\" class=\"dataframe\">\n",
              "  <thead>\n",
              "    <tr style=\"text-align: right;\">\n",
              "      <th></th>\n",
              "      <th>city</th>\n",
              "      <th>year</th>\n",
              "      <th>weekofyear</th>\n",
              "      <th>total_cases</th>\n",
              "    </tr>\n",
              "  </thead>\n",
              "  <tbody>\n",
              "    <tr>\n",
              "      <th>0</th>\n",
              "      <td>sj</td>\n",
              "      <td>1990</td>\n",
              "      <td>18</td>\n",
              "      <td>4</td>\n",
              "    </tr>\n",
              "    <tr>\n",
              "      <th>1</th>\n",
              "      <td>sj</td>\n",
              "      <td>1990</td>\n",
              "      <td>19</td>\n",
              "      <td>5</td>\n",
              "    </tr>\n",
              "    <tr>\n",
              "      <th>2</th>\n",
              "      <td>sj</td>\n",
              "      <td>1990</td>\n",
              "      <td>20</td>\n",
              "      <td>4</td>\n",
              "    </tr>\n",
              "    <tr>\n",
              "      <th>3</th>\n",
              "      <td>sj</td>\n",
              "      <td>1990</td>\n",
              "      <td>21</td>\n",
              "      <td>3</td>\n",
              "    </tr>\n",
              "    <tr>\n",
              "      <th>4</th>\n",
              "      <td>sj</td>\n",
              "      <td>1990</td>\n",
              "      <td>22</td>\n",
              "      <td>6</td>\n",
              "    </tr>\n",
              "    <tr>\n",
              "      <th>...</th>\n",
              "      <td>...</td>\n",
              "      <td>...</td>\n",
              "      <td>...</td>\n",
              "      <td>...</td>\n",
              "    </tr>\n",
              "    <tr>\n",
              "      <th>1451</th>\n",
              "      <td>iq</td>\n",
              "      <td>2010</td>\n",
              "      <td>21</td>\n",
              "      <td>5</td>\n",
              "    </tr>\n",
              "    <tr>\n",
              "      <th>1452</th>\n",
              "      <td>iq</td>\n",
              "      <td>2010</td>\n",
              "      <td>22</td>\n",
              "      <td>8</td>\n",
              "    </tr>\n",
              "    <tr>\n",
              "      <th>1453</th>\n",
              "      <td>iq</td>\n",
              "      <td>2010</td>\n",
              "      <td>23</td>\n",
              "      <td>1</td>\n",
              "    </tr>\n",
              "    <tr>\n",
              "      <th>1454</th>\n",
              "      <td>iq</td>\n",
              "      <td>2010</td>\n",
              "      <td>24</td>\n",
              "      <td>1</td>\n",
              "    </tr>\n",
              "    <tr>\n",
              "      <th>1455</th>\n",
              "      <td>iq</td>\n",
              "      <td>2010</td>\n",
              "      <td>25</td>\n",
              "      <td>4</td>\n",
              "    </tr>\n",
              "  </tbody>\n",
              "</table>\n",
              "<p>1456 rows × 4 columns</p>\n",
              "</div>"
            ],
            "text/plain": [
              "     city  year  weekofyear  total_cases\n",
              "0      sj  1990          18            4\n",
              "1      sj  1990          19            5\n",
              "2      sj  1990          20            4\n",
              "3      sj  1990          21            3\n",
              "4      sj  1990          22            6\n",
              "...   ...   ...         ...          ...\n",
              "1451   iq  2010          21            5\n",
              "1452   iq  2010          22            8\n",
              "1453   iq  2010          23            1\n",
              "1454   iq  2010          24            1\n",
              "1455   iq  2010          25            4\n",
              "\n",
              "[1456 rows x 4 columns]"
            ]
          },
          "metadata": {
            "tags": []
          },
          "execution_count": 9
        }
      ]
    },
    {
      "cell_type": "code",
      "metadata": {
        "id": "wRYy2LdXria_"
      },
      "source": [
        "X_train[\"total_cases\"]=y_train[\"total_cases\"]"
      ],
      "execution_count": 10,
      "outputs": []
    },
    {
      "cell_type": "code",
      "metadata": {
        "id": "WhcMI8ZeTx69"
      },
      "source": [
        "\n",
        "X_train_sj=X_train[X_train.city == \"sj\"]\n",
        "X_train_iq=X_train[X_train.city == \"iq\"]\n"
      ],
      "execution_count": 11,
      "outputs": []
    },
    {
      "cell_type": "code",
      "metadata": {
        "id": "1z2gUXspSzAi"
      },
      "source": [
        "\n",
        "X_test_sj=X_test[X_test.city == \"sj\"]\n",
        "X_test_iq=X_test[X_test.city == \"iq\"]"
      ],
      "execution_count": 12,
      "outputs": []
    },
    {
      "cell_type": "code",
      "metadata": {
        "colab": {
          "base_uri": "https://localhost:8080/",
          "height": 224
        },
        "id": "9gh-I5eGmTLU",
        "outputId": "5dbcb4ea-e373-4be3-e181-2ffc43e7e3f9"
      },
      "source": [
        "X_train_sj.head()"
      ],
      "execution_count": 13,
      "outputs": [
        {
          "output_type": "execute_result",
          "data": {
            "text/html": [
              "<div>\n",
              "<style scoped>\n",
              "    .dataframe tbody tr th:only-of-type {\n",
              "        vertical-align: middle;\n",
              "    }\n",
              "\n",
              "    .dataframe tbody tr th {\n",
              "        vertical-align: top;\n",
              "    }\n",
              "\n",
              "    .dataframe thead th {\n",
              "        text-align: right;\n",
              "    }\n",
              "</style>\n",
              "<table border=\"1\" class=\"dataframe\">\n",
              "  <thead>\n",
              "    <tr style=\"text-align: right;\">\n",
              "      <th></th>\n",
              "      <th>city</th>\n",
              "      <th>year</th>\n",
              "      <th>weekofyear</th>\n",
              "      <th>week_start_date</th>\n",
              "      <th>ndvi_ne</th>\n",
              "      <th>ndvi_nw</th>\n",
              "      <th>ndvi_se</th>\n",
              "      <th>ndvi_sw</th>\n",
              "      <th>precipitation_amt_mm</th>\n",
              "      <th>reanalysis_air_temp_k</th>\n",
              "      <th>reanalysis_avg_temp_k</th>\n",
              "      <th>reanalysis_dew_point_temp_k</th>\n",
              "      <th>reanalysis_max_air_temp_k</th>\n",
              "      <th>reanalysis_min_air_temp_k</th>\n",
              "      <th>reanalysis_precip_amt_kg_per_m2</th>\n",
              "      <th>reanalysis_relative_humidity_percent</th>\n",
              "      <th>reanalysis_sat_precip_amt_mm</th>\n",
              "      <th>reanalysis_specific_humidity_g_per_kg</th>\n",
              "      <th>reanalysis_tdtr_k</th>\n",
              "      <th>station_avg_temp_c</th>\n",
              "      <th>station_diur_temp_rng_c</th>\n",
              "      <th>station_max_temp_c</th>\n",
              "      <th>station_min_temp_c</th>\n",
              "      <th>station_precip_mm</th>\n",
              "      <th>total_cases</th>\n",
              "    </tr>\n",
              "  </thead>\n",
              "  <tbody>\n",
              "    <tr>\n",
              "      <th>0</th>\n",
              "      <td>sj</td>\n",
              "      <td>1990</td>\n",
              "      <td>18</td>\n",
              "      <td>1990-04-30</td>\n",
              "      <td>0.122600</td>\n",
              "      <td>0.103725</td>\n",
              "      <td>0.198483</td>\n",
              "      <td>0.177617</td>\n",
              "      <td>12.42</td>\n",
              "      <td>297.572857</td>\n",
              "      <td>297.742857</td>\n",
              "      <td>292.414286</td>\n",
              "      <td>299.8</td>\n",
              "      <td>295.9</td>\n",
              "      <td>32.00</td>\n",
              "      <td>73.365714</td>\n",
              "      <td>12.42</td>\n",
              "      <td>14.012857</td>\n",
              "      <td>2.628571</td>\n",
              "      <td>25.442857</td>\n",
              "      <td>6.900000</td>\n",
              "      <td>29.4</td>\n",
              "      <td>20.0</td>\n",
              "      <td>16.0</td>\n",
              "      <td>4</td>\n",
              "    </tr>\n",
              "    <tr>\n",
              "      <th>1</th>\n",
              "      <td>sj</td>\n",
              "      <td>1990</td>\n",
              "      <td>19</td>\n",
              "      <td>1990-05-07</td>\n",
              "      <td>0.169900</td>\n",
              "      <td>0.142175</td>\n",
              "      <td>0.162357</td>\n",
              "      <td>0.155486</td>\n",
              "      <td>22.82</td>\n",
              "      <td>298.211429</td>\n",
              "      <td>298.442857</td>\n",
              "      <td>293.951429</td>\n",
              "      <td>300.9</td>\n",
              "      <td>296.4</td>\n",
              "      <td>17.94</td>\n",
              "      <td>77.368571</td>\n",
              "      <td>22.82</td>\n",
              "      <td>15.372857</td>\n",
              "      <td>2.371429</td>\n",
              "      <td>26.714286</td>\n",
              "      <td>6.371429</td>\n",
              "      <td>31.7</td>\n",
              "      <td>22.2</td>\n",
              "      <td>8.6</td>\n",
              "      <td>5</td>\n",
              "    </tr>\n",
              "    <tr>\n",
              "      <th>2</th>\n",
              "      <td>sj</td>\n",
              "      <td>1990</td>\n",
              "      <td>20</td>\n",
              "      <td>1990-05-14</td>\n",
              "      <td>0.032250</td>\n",
              "      <td>0.172967</td>\n",
              "      <td>0.157200</td>\n",
              "      <td>0.170843</td>\n",
              "      <td>34.54</td>\n",
              "      <td>298.781429</td>\n",
              "      <td>298.878571</td>\n",
              "      <td>295.434286</td>\n",
              "      <td>300.5</td>\n",
              "      <td>297.3</td>\n",
              "      <td>26.10</td>\n",
              "      <td>82.052857</td>\n",
              "      <td>34.54</td>\n",
              "      <td>16.848571</td>\n",
              "      <td>2.300000</td>\n",
              "      <td>26.714286</td>\n",
              "      <td>6.485714</td>\n",
              "      <td>32.2</td>\n",
              "      <td>22.8</td>\n",
              "      <td>41.4</td>\n",
              "      <td>4</td>\n",
              "    </tr>\n",
              "    <tr>\n",
              "      <th>3</th>\n",
              "      <td>sj</td>\n",
              "      <td>1990</td>\n",
              "      <td>21</td>\n",
              "      <td>1990-05-21</td>\n",
              "      <td>0.128633</td>\n",
              "      <td>0.245067</td>\n",
              "      <td>0.227557</td>\n",
              "      <td>0.235886</td>\n",
              "      <td>15.36</td>\n",
              "      <td>298.987143</td>\n",
              "      <td>299.228571</td>\n",
              "      <td>295.310000</td>\n",
              "      <td>301.4</td>\n",
              "      <td>297.0</td>\n",
              "      <td>13.90</td>\n",
              "      <td>80.337143</td>\n",
              "      <td>15.36</td>\n",
              "      <td>16.672857</td>\n",
              "      <td>2.428571</td>\n",
              "      <td>27.471429</td>\n",
              "      <td>6.771429</td>\n",
              "      <td>33.3</td>\n",
              "      <td>23.3</td>\n",
              "      <td>4.0</td>\n",
              "      <td>3</td>\n",
              "    </tr>\n",
              "    <tr>\n",
              "      <th>4</th>\n",
              "      <td>sj</td>\n",
              "      <td>1990</td>\n",
              "      <td>22</td>\n",
              "      <td>1990-05-28</td>\n",
              "      <td>0.196200</td>\n",
              "      <td>0.262200</td>\n",
              "      <td>0.251200</td>\n",
              "      <td>0.247340</td>\n",
              "      <td>7.52</td>\n",
              "      <td>299.518571</td>\n",
              "      <td>299.664286</td>\n",
              "      <td>295.821429</td>\n",
              "      <td>301.9</td>\n",
              "      <td>297.5</td>\n",
              "      <td>12.20</td>\n",
              "      <td>80.460000</td>\n",
              "      <td>7.52</td>\n",
              "      <td>17.210000</td>\n",
              "      <td>3.014286</td>\n",
              "      <td>28.942857</td>\n",
              "      <td>9.371429</td>\n",
              "      <td>35.0</td>\n",
              "      <td>23.9</td>\n",
              "      <td>5.8</td>\n",
              "      <td>6</td>\n",
              "    </tr>\n",
              "  </tbody>\n",
              "</table>\n",
              "</div>"
            ],
            "text/plain": [
              "  city  year  weekofyear  ... station_min_temp_c  station_precip_mm  total_cases\n",
              "0   sj  1990          18  ...               20.0               16.0            4\n",
              "1   sj  1990          19  ...               22.2                8.6            5\n",
              "2   sj  1990          20  ...               22.8               41.4            4\n",
              "3   sj  1990          21  ...               23.3                4.0            3\n",
              "4   sj  1990          22  ...               23.9                5.8            6\n",
              "\n",
              "[5 rows x 25 columns]"
            ]
          },
          "metadata": {
            "tags": []
          },
          "execution_count": 13
        }
      ]
    },
    {
      "cell_type": "code",
      "metadata": {
        "colab": {
          "base_uri": "https://localhost:8080/"
        },
        "id": "tZtX20J6U9sA",
        "outputId": "5dc9deba-8111-4c82-e9f2-0441d2c87da8"
      },
      "source": [
        "print(X_train_sj.head())\n",
        "print(X_train_sj.tail())\n"
      ],
      "execution_count": 14,
      "outputs": [
        {
          "output_type": "stream",
          "text": [
            "  city  year  weekofyear  ... station_min_temp_c  station_precip_mm  total_cases\n",
            "0   sj  1990          18  ...               20.0               16.0            4\n",
            "1   sj  1990          19  ...               22.2                8.6            5\n",
            "2   sj  1990          20  ...               22.8               41.4            4\n",
            "3   sj  1990          21  ...               23.3                4.0            3\n",
            "4   sj  1990          22  ...               23.9                5.8            6\n",
            "\n",
            "[5 rows x 25 columns]\n",
            "    city  year  weekofyear  ... station_min_temp_c  station_precip_mm  total_cases\n",
            "931   sj  2008          13  ...               21.1                1.8            4\n",
            "932   sj  2008          14  ...               22.2                0.5            3\n",
            "933   sj  2008          15  ...               21.7               30.7            1\n",
            "934   sj  2008          16  ...               21.7               11.2            3\n",
            "935   sj  2008          17  ...               23.3                0.3            5\n",
            "\n",
            "[5 rows x 25 columns]\n"
          ],
          "name": "stdout"
        }
      ]
    },
    {
      "cell_type": "code",
      "metadata": {
        "colab": {
          "base_uri": "https://localhost:8080/"
        },
        "id": "CH6FCoplsvyd",
        "outputId": "ffe59431-84fa-479c-c49b-a7d6049c3a7b"
      },
      "source": [
        "print(X_test_sj.head())\n",
        "print(X_test_sj.tail())"
      ],
      "execution_count": 15,
      "outputs": [
        {
          "output_type": "stream",
          "text": [
            "  city  year  ...  station_min_temp_c station_precip_mm\n",
            "0   sj  2008  ...                21.7              75.2\n",
            "1   sj  2008  ...                22.2              34.3\n",
            "2   sj  2008  ...                22.8               3.0\n",
            "3   sj  2008  ...                24.4               0.3\n",
            "4   sj  2008  ...                23.3              84.1\n",
            "\n",
            "[5 rows x 24 columns]\n",
            "    city  year  ...  station_min_temp_c station_precip_mm\n",
            "255   sj  2013  ...                22.8               3.5\n",
            "256   sj  2013  ...                22.8              17.6\n",
            "257   sj  2013  ...                23.3               9.4\n",
            "258   sj  2013  ...                23.9              22.9\n",
            "259   sj  2013  ...                21.7              47.5\n",
            "\n",
            "[5 rows x 24 columns]\n"
          ],
          "name": "stdout"
        }
      ]
    },
    {
      "cell_type": "code",
      "metadata": {
        "colab": {
          "base_uri": "https://localhost:8080/"
        },
        "id": "3J0Z1gU7WFHL",
        "outputId": "344ee480-b933-42bf-8f49-d7dda38da8a6"
      },
      "source": [
        "X_train.week_start_date.convert_dtypes()\n"
      ],
      "execution_count": 16,
      "outputs": [
        {
          "output_type": "execute_result",
          "data": {
            "text/plain": [
              "0       1990-04-30\n",
              "1       1990-05-07\n",
              "2       1990-05-14\n",
              "3       1990-05-21\n",
              "4       1990-05-28\n",
              "           ...    \n",
              "1451    2010-05-28\n",
              "1452    2010-06-04\n",
              "1453    2010-06-11\n",
              "1454    2010-06-18\n",
              "1455    2010-06-25\n",
              "Name: week_start_date, Length: 1456, dtype: string"
            ]
          },
          "metadata": {
            "tags": []
          },
          "execution_count": 16
        }
      ]
    },
    {
      "cell_type": "code",
      "metadata": {
        "id": "CC3f87lTSOvo"
      },
      "source": [
        ""
      ],
      "execution_count": 16,
      "outputs": []
    },
    {
      "cell_type": "code",
      "metadata": {
        "id": "u6CdL2U2SgOa"
      },
      "source": [
        ""
      ],
      "execution_count": 16,
      "outputs": []
    },
    {
      "cell_type": "code",
      "metadata": {
        "id": "h6hB2nATTDlF"
      },
      "source": [
        "correlation=X_train_sj.corr()"
      ],
      "execution_count": 17,
      "outputs": []
    },
    {
      "cell_type": "code",
      "metadata": {
        "colab": {
          "base_uri": "https://localhost:8080/"
        },
        "id": "SS7mV0v3VbIL",
        "outputId": "bac82593-95d6-464c-f326-207f0d7babdf"
      },
      "source": [
        "correlation[\"ndvi_se\"]"
      ],
      "execution_count": 18,
      "outputs": [
        {
          "output_type": "execute_result",
          "data": {
            "text/plain": [
              "year                                    -0.021660\n",
              "weekofyear                              -0.004102\n",
              "ndvi_ne                                  0.226655\n",
              "ndvi_nw                                  0.198294\n",
              "ndvi_se                                  1.000000\n",
              "ndvi_sw                                  0.821493\n",
              "precipitation_amt_mm                    -0.115958\n",
              "reanalysis_air_temp_k                   -0.009453\n",
              "reanalysis_avg_temp_k                   -0.007267\n",
              "reanalysis_dew_point_temp_k             -0.057574\n",
              "reanalysis_max_air_temp_k               -0.001844\n",
              "reanalysis_min_air_temp_k               -0.039837\n",
              "reanalysis_precip_amt_kg_per_m2         -0.127393\n",
              "reanalysis_relative_humidity_percent    -0.110548\n",
              "reanalysis_sat_precip_amt_mm            -0.115958\n",
              "reanalysis_specific_humidity_g_per_kg   -0.053207\n",
              "reanalysis_tdtr_k                        0.027920\n",
              "station_avg_temp_c                      -0.049498\n",
              "station_diur_temp_rng_c                  0.022365\n",
              "station_max_temp_c                      -0.055438\n",
              "station_min_temp_c                      -0.063663\n",
              "station_precip_mm                       -0.136583\n",
              "total_cases                              0.057941\n",
              "Name: ndvi_se, dtype: float64"
            ]
          },
          "metadata": {
            "tags": []
          },
          "execution_count": 18
        }
      ]
    },
    {
      "cell_type": "code",
      "metadata": {
        "colab": {
          "base_uri": "https://localhost:8080/",
          "height": 224
        },
        "id": "NFkWKhYUmFAl",
        "outputId": "28d8943b-70f1-4b30-9683-0ad4b20ae414"
      },
      "source": [
        "X_train_sj.head()"
      ],
      "execution_count": 19,
      "outputs": [
        {
          "output_type": "execute_result",
          "data": {
            "text/html": [
              "<div>\n",
              "<style scoped>\n",
              "    .dataframe tbody tr th:only-of-type {\n",
              "        vertical-align: middle;\n",
              "    }\n",
              "\n",
              "    .dataframe tbody tr th {\n",
              "        vertical-align: top;\n",
              "    }\n",
              "\n",
              "    .dataframe thead th {\n",
              "        text-align: right;\n",
              "    }\n",
              "</style>\n",
              "<table border=\"1\" class=\"dataframe\">\n",
              "  <thead>\n",
              "    <tr style=\"text-align: right;\">\n",
              "      <th></th>\n",
              "      <th>city</th>\n",
              "      <th>year</th>\n",
              "      <th>weekofyear</th>\n",
              "      <th>week_start_date</th>\n",
              "      <th>ndvi_ne</th>\n",
              "      <th>ndvi_nw</th>\n",
              "      <th>ndvi_se</th>\n",
              "      <th>ndvi_sw</th>\n",
              "      <th>precipitation_amt_mm</th>\n",
              "      <th>reanalysis_air_temp_k</th>\n",
              "      <th>reanalysis_avg_temp_k</th>\n",
              "      <th>reanalysis_dew_point_temp_k</th>\n",
              "      <th>reanalysis_max_air_temp_k</th>\n",
              "      <th>reanalysis_min_air_temp_k</th>\n",
              "      <th>reanalysis_precip_amt_kg_per_m2</th>\n",
              "      <th>reanalysis_relative_humidity_percent</th>\n",
              "      <th>reanalysis_sat_precip_amt_mm</th>\n",
              "      <th>reanalysis_specific_humidity_g_per_kg</th>\n",
              "      <th>reanalysis_tdtr_k</th>\n",
              "      <th>station_avg_temp_c</th>\n",
              "      <th>station_diur_temp_rng_c</th>\n",
              "      <th>station_max_temp_c</th>\n",
              "      <th>station_min_temp_c</th>\n",
              "      <th>station_precip_mm</th>\n",
              "      <th>total_cases</th>\n",
              "    </tr>\n",
              "  </thead>\n",
              "  <tbody>\n",
              "    <tr>\n",
              "      <th>0</th>\n",
              "      <td>sj</td>\n",
              "      <td>1990</td>\n",
              "      <td>18</td>\n",
              "      <td>1990-04-30</td>\n",
              "      <td>0.122600</td>\n",
              "      <td>0.103725</td>\n",
              "      <td>0.198483</td>\n",
              "      <td>0.177617</td>\n",
              "      <td>12.42</td>\n",
              "      <td>297.572857</td>\n",
              "      <td>297.742857</td>\n",
              "      <td>292.414286</td>\n",
              "      <td>299.8</td>\n",
              "      <td>295.9</td>\n",
              "      <td>32.00</td>\n",
              "      <td>73.365714</td>\n",
              "      <td>12.42</td>\n",
              "      <td>14.012857</td>\n",
              "      <td>2.628571</td>\n",
              "      <td>25.442857</td>\n",
              "      <td>6.900000</td>\n",
              "      <td>29.4</td>\n",
              "      <td>20.0</td>\n",
              "      <td>16.0</td>\n",
              "      <td>4</td>\n",
              "    </tr>\n",
              "    <tr>\n",
              "      <th>1</th>\n",
              "      <td>sj</td>\n",
              "      <td>1990</td>\n",
              "      <td>19</td>\n",
              "      <td>1990-05-07</td>\n",
              "      <td>0.169900</td>\n",
              "      <td>0.142175</td>\n",
              "      <td>0.162357</td>\n",
              "      <td>0.155486</td>\n",
              "      <td>22.82</td>\n",
              "      <td>298.211429</td>\n",
              "      <td>298.442857</td>\n",
              "      <td>293.951429</td>\n",
              "      <td>300.9</td>\n",
              "      <td>296.4</td>\n",
              "      <td>17.94</td>\n",
              "      <td>77.368571</td>\n",
              "      <td>22.82</td>\n",
              "      <td>15.372857</td>\n",
              "      <td>2.371429</td>\n",
              "      <td>26.714286</td>\n",
              "      <td>6.371429</td>\n",
              "      <td>31.7</td>\n",
              "      <td>22.2</td>\n",
              "      <td>8.6</td>\n",
              "      <td>5</td>\n",
              "    </tr>\n",
              "    <tr>\n",
              "      <th>2</th>\n",
              "      <td>sj</td>\n",
              "      <td>1990</td>\n",
              "      <td>20</td>\n",
              "      <td>1990-05-14</td>\n",
              "      <td>0.032250</td>\n",
              "      <td>0.172967</td>\n",
              "      <td>0.157200</td>\n",
              "      <td>0.170843</td>\n",
              "      <td>34.54</td>\n",
              "      <td>298.781429</td>\n",
              "      <td>298.878571</td>\n",
              "      <td>295.434286</td>\n",
              "      <td>300.5</td>\n",
              "      <td>297.3</td>\n",
              "      <td>26.10</td>\n",
              "      <td>82.052857</td>\n",
              "      <td>34.54</td>\n",
              "      <td>16.848571</td>\n",
              "      <td>2.300000</td>\n",
              "      <td>26.714286</td>\n",
              "      <td>6.485714</td>\n",
              "      <td>32.2</td>\n",
              "      <td>22.8</td>\n",
              "      <td>41.4</td>\n",
              "      <td>4</td>\n",
              "    </tr>\n",
              "    <tr>\n",
              "      <th>3</th>\n",
              "      <td>sj</td>\n",
              "      <td>1990</td>\n",
              "      <td>21</td>\n",
              "      <td>1990-05-21</td>\n",
              "      <td>0.128633</td>\n",
              "      <td>0.245067</td>\n",
              "      <td>0.227557</td>\n",
              "      <td>0.235886</td>\n",
              "      <td>15.36</td>\n",
              "      <td>298.987143</td>\n",
              "      <td>299.228571</td>\n",
              "      <td>295.310000</td>\n",
              "      <td>301.4</td>\n",
              "      <td>297.0</td>\n",
              "      <td>13.90</td>\n",
              "      <td>80.337143</td>\n",
              "      <td>15.36</td>\n",
              "      <td>16.672857</td>\n",
              "      <td>2.428571</td>\n",
              "      <td>27.471429</td>\n",
              "      <td>6.771429</td>\n",
              "      <td>33.3</td>\n",
              "      <td>23.3</td>\n",
              "      <td>4.0</td>\n",
              "      <td>3</td>\n",
              "    </tr>\n",
              "    <tr>\n",
              "      <th>4</th>\n",
              "      <td>sj</td>\n",
              "      <td>1990</td>\n",
              "      <td>22</td>\n",
              "      <td>1990-05-28</td>\n",
              "      <td>0.196200</td>\n",
              "      <td>0.262200</td>\n",
              "      <td>0.251200</td>\n",
              "      <td>0.247340</td>\n",
              "      <td>7.52</td>\n",
              "      <td>299.518571</td>\n",
              "      <td>299.664286</td>\n",
              "      <td>295.821429</td>\n",
              "      <td>301.9</td>\n",
              "      <td>297.5</td>\n",
              "      <td>12.20</td>\n",
              "      <td>80.460000</td>\n",
              "      <td>7.52</td>\n",
              "      <td>17.210000</td>\n",
              "      <td>3.014286</td>\n",
              "      <td>28.942857</td>\n",
              "      <td>9.371429</td>\n",
              "      <td>35.0</td>\n",
              "      <td>23.9</td>\n",
              "      <td>5.8</td>\n",
              "      <td>6</td>\n",
              "    </tr>\n",
              "  </tbody>\n",
              "</table>\n",
              "</div>"
            ],
            "text/plain": [
              "  city  year  weekofyear  ... station_min_temp_c  station_precip_mm  total_cases\n",
              "0   sj  1990          18  ...               20.0               16.0            4\n",
              "1   sj  1990          19  ...               22.2                8.6            5\n",
              "2   sj  1990          20  ...               22.8               41.4            4\n",
              "3   sj  1990          21  ...               23.3                4.0            3\n",
              "4   sj  1990          22  ...               23.9                5.8            6\n",
              "\n",
              "[5 rows x 25 columns]"
            ]
          },
          "metadata": {
            "tags": []
          },
          "execution_count": 19
        }
      ]
    },
    {
      "cell_type": "code",
      "metadata": {
        "colab": {
          "base_uri": "https://localhost:8080/",
          "height": 337
        },
        "id": "srAIwJW8Za3I",
        "outputId": "1761f683-ac5f-43d6-9070-90fd7410bd95"
      },
      "source": [
        "plt.figure(figsize=(15,5))\n",
        "plt.subplot(111)\n",
        "#plt.scatter(indexer,,c=\"green\",alpha=0.5)\n",
        "plt.scatter(X_train_sj[\"week_start_date\"],X_train_sj[\"total_cases\"],c=\"green\",alpha=0.5)\n",
        "#plt.scatter(indexer,hubpred_no_outliers[:],c=\"red\",alpha=0.5)\n",
        "#plt.plot(df[\"Id\"],diffihubert[:])\n",
        "plt.text(0,0,\"Hubert\",c=\"red\")"
      ],
      "execution_count": 20,
      "outputs": [
        {
          "output_type": "execute_result",
          "data": {
            "text/plain": [
              "Text(0, 0, 'Hubert')"
            ]
          },
          "metadata": {
            "tags": []
          },
          "execution_count": 20
        },
        {
          "output_type": "display_data",
          "data": {
            "image/png": "[encoded data removed]",
            "text/plain": [
              "<Figure size 1080x360 with 1 Axes>"
            ]
          },
          "metadata": {
            "tags": [],
            "needs_background": "light"
          }
        }
      ]
    },
    {
      "cell_type": "code",
      "metadata": {
        "id": "nDHDNzuNb49P",
        "colab": {
          "base_uri": "https://localhost:8080/"
        },
        "outputId": "c51153a4-958b-4003-86cb-304fe77461ef"
      },
      "source": [
        "!rm visual_view.py\n",
        "!wget https://raw.githubusercontent.com/sipocz/messer/main/visual_view.py\n",
        "grafikon=None\n",
        "from visual_view import grafikon\n",
        "help(grafikon)"
      ],
      "execution_count": 21,
      "outputs": [
        {
          "output_type": "stream",
          "text": [
            "rm: cannot remove 'visual_view.py': No such file or directory\n",
            "--2021-08-05 15:14:18--  https://raw.githubusercontent.com/sipocz/messer/main/visual_view.py\n",
            "Resolving raw.githubusercontent.com (raw.githubusercontent.com)... 185.199.108.133, 185.199.109.133, 185.199.110.133, ...\n",
            "Connecting to raw.githubusercontent.com (raw.githubusercontent.com)|185.199.108.133|:443... connected.\n",
            "HTTP request sent, awaiting response... 200 OK\n",
            "Length: 1027 (1.0K) [text/plain]\n",
            "Saving to: ‘visual_view.py’\n",
            "\n",
            "visual_view.py      100%[===================>]   1.00K  --.-KB/s    in 0s      \n",
            "\n",
            "2021-08-05 15:14:19 (51.1 MB/s) - ‘visual_view.py’ saved [1027/1027]\n",
            "\n",
            "Help on function grafikon in module visual_view:\n",
            "\n",
            "grafikon(fx, desc1, txt1, desc2='', txt2='', ngraf=2, c1='rgba(35,128,132,0.8)', c2='rgba(193,99,99,0.8)', title=None)\n",
            "    fx: dataFrame\n",
            "    desc1:column1\n",
            "    txt1: label1\n",
            "    desc2:column2\n",
            "    txt2: label2\n",
            "    ngraf: number of graph\n",
            "    c1: color1\n",
            "    c2: color2\n",
            "    title: graph title\n",
            "\n"
          ],
          "name": "stdout"
        }
      ]
    },
    {
      "cell_type": "code",
      "metadata": {
        "id": "a8npTQIxcFTY",
        "colab": {
          "base_uri": "https://localhost:8080/",
          "height": 617
        },
        "outputId": "27049ed8-9871-4103-99b0-dd3150d2d9ed"
      },
      "source": [
        "grafikon(X_train_sj,\"total_cases\",\"total_cases\",ngraf=1,title=\"Adatok\")"
      ],
      "execution_count": 22,
      "outputs": [
        {
          "output_type": "display_data",
          "data": {
            "text/html": [
              "<html>\n",
              "<head><meta charset=\"utf-8\" /></head>\n",
              "<body>\n",
              "    <div>\n",
              "            <script src=\"https://cdnjs.cloudflare.com/ajax/libs/mathjax/2.7.5/MathJax.js?config=TeX-AMS-MML_SVG\"></script><script type=\"text/javascript\">if (window.MathJax) {MathJax.Hub.Config({SVG: {font: \"STIX-Web\"}});}</script>\n",
              "                <script type=\"text/javascript\">window.PlotlyConfig = {MathJaxConfig: 'local'};</script>\n",
              "        <script src=\"https://cdn.plot.ly/plotly-latest.min.js\"></script>    \n",
              "            <div id=\"564d45c6-6459-4c5b-b718-87b1fb68ee2e\" class=\"plotly-graph-div\" style=\"height:600px; width:1200px;\"></div>\n",
              "            <script type=\"text/javascript\">\n",
              "                \n",
              "                    window.PLOTLYENV=window.PLOTLYENV || {};\n",
              "                    \n",
              "                if (document.getElementById(\"564d45c6-6459-4c5b-b718-87b1fb68ee2e\")) {\n",
              "                    Plotly.newPlot(\n",
              "                        '564d45c6-6459-4c5b-b718-87b1fb68ee2e',\n",
              "                        [{\"line\": {\"color\": \"rgba(35,128,132,0.8)\"}, \"name\": \"total_cases\", \"showlegend\": true, \"type\": \"scatter\", \"x\": [0, 1, 2, 3, 4, 5, 6, 7, 8, 9, 10, 11, 12, 13, 14, 15, 16, 17, 18, 19, 20, 21, 22, 23, 24, 25, 26, 27, 28, 29, 30, 31, 32, 33, 34, 35, 36, 37, 38, 39, 40, 41, 42, 43, 44, 45, 46, 47, 48, 49, 50, 51, 52, 53, 54, 55, 56, 57, 58, 59, 60, 61, 62, 63, 64, 65, 66, 67, 68, 69, 70, 71, 72, 73, 74, 75, 76, 77, 78, 79, 80, 81, 82, 83, 84, 85, 86, 87, 88, 89, 90, 91, 92, 93, 94, 95, 96, 97, 98, 99, 100, 101, 102, 103, 104, 105, 106, 107, 108, 109, 110, 111, 112, 113, 114, 115, 116, 117, 118, 119, 120, 121, 122, 123, 124, 125, 126, 127, 128, 129, 130, 131, 132, 133, 134, 135, 136, 137, 138, 139, 140, 141, 142, 143, 144, 145, 146, 147, 148, 149, 150, 151, 152, 153, 154, 155, 156, 157, 158, 159, 160, 161, 162, 163, 164, 165, 166, 167, 168, 169, 170, 171, 172, 173, 174, 175, 176, 177, 178, 179, 180, 181, 182, 183, 184, 185, 186, 187, 188, 189, 190, 191, 192, 193, 194, 195, 196, 197, 198, 199, 200, 201, 202, 203, 204, 205, 206, 207, 208, 209, 210, 211, 212, 213, 214, 215, 216, 217, 218, 219, 220, 221, 222, 223, 224, 225, 226, 227, 228, 229, 230, 231, 232, 233, 234, 235, 236, 237, 238, 239, 240, 241, 242, 243, 244, 245, 246, 247, 248, 249, 250, 251, 252, 253, 254, 255, 256, 257, 258, 259, 260, 261, 262, 263, 264, 265, 266, 267, 268, 269, 270, 271, 272, 273, 274, 275, 276, 277, 278, 279, 280, 281, 282, 283, 284, 285, 286, 287, 288, 289, 290, 291, 292, 293, 294, 295, 296, 297, 298, 299, 300, 301, 302, 303, 304, 305, 306, 307, 308, 309, 310, 311, 312, 313, 314, 315, 316, 317, 318, 319, 320, 321, 322, 323, 324, 325, 326, 327, 328, 329, 330, 331, 332, 333, 334, 335, 336, 337, 338, 339, 340, 341, 342, 343, 344, 345, 346, 347, 348, 349, 350, 351, 352, 353, 354, 355, 356, 357, 358, 359, 360, 361, 362, 363, 364, 365, 366, 367, 368, 369, 370, 371, 372, 373, 374, 375, 376, 377, 378, 379, 380, 381, 382, 383, 384, 385, 386, 387, 388, 389, 390, 391, 392, 393, 394, 395, 396, 397, 398, 399, 400, 401, 402, 403, 404, 405, 406, 407, 408, 409, 410, 411, 412, 413, 414, 415, 416, 417, 418, 419, 420, 421, 422, 423, 424, 425, 426, 427, 428, 429, 430, 431, 432, 433, 434, 435, 436, 437, 438, 439, 440, 441, 442, 443, 444, 445, 446, 447, 448, 449, 450, 451, 452, 453, 454, 455, 456, 457, 458, 459, 460, 461, 462, 463, 464, 465, 466, 467, 468, 469, 470, 471, 472, 473, 474, 475, 476, 477, 478, 479, 480, 481, 482, 483, 484, 485, 486, 487, 488, 489, 490, 491, 492, 493, 494, 495, 496, 497, 498, 499, 500, 501, 502, 503, 504, 505, 506, 507, 508, 509, 510, 511, 512, 513, 514, 515, 516, 517, 518, 519, 520, 521, 522, 523, 524, 525, 526, 527, 528, 529, 530, 531, 532, 533, 534, 535, 536, 537, 538, 539, 540, 541, 542, 543, 544, 545, 546, 547, 548, 549, 550, 551, 552, 553, 554, 555, 556, 557, 558, 559, 560, 561, 562, 563, 564, 565, 566, 567, 568, 569, 570, 571, 572, 573, 574, 575, 576, 577, 578, 579, 580, 581, 582, 583, 584, 585, 586, 587, 588, 589, 590, 591, 592, 593, 594, 595, 596, 597, 598, 599, 600, 601, 602, 603, 604, 605, 606, 607, 608, 609, 610, 611, 612, 613, 614, 615, 616, 617, 618, 619, 620, 621, 622, 623, 624, 625, 626, 627, 628, 629, 630, 631, 632, 633, 634, 635, 636, 637, 638, 639, 640, 641, 642, 643, 644, 645, 646, 647, 648, 649, 650, 651, 652, 653, 654, 655, 656, 657, 658, 659, 660, 661, 662, 663, 664, 665, 666, 667, 668, 669, 670, 671, 672, 673, 674, 675, 676, 677, 678, 679, 680, 681, 682, 683, 684, 685, 686, 687, 688, 689, 690, 691, 692, 693, 694, 695, 696, 697, 698, 699, 700, 701, 702, 703, 704, 705, 706, 707, 708, 709, 710, 711, 712, 713, 714, 715, 716, 717, 718, 719, 720, 721, 722, 723, 724, 725, 726, 727, 728, 729, 730, 731, 732, 733, 734, 735, 736, 737, 738, 739, 740, 741, 742, 743, 744, 745, 746, 747, 748, 749, 750, 751, 752, 753, 754, 755, 756, 757, 758, 759, 760, 761, 762, 763, 764, 765, 766, 767, 768, 769, 770, 771, 772, 773, 774, 775, 776, 777, 778, 779, 780, 781, 782, 783, 784, 785, 786, 787, 788, 789, 790, 791, 792, 793, 794, 795, 796, 797, 798, 799, 800, 801, 802, 803, 804, 805, 806, 807, 808, 809, 810, 811, 812, 813, 814, 815, 816, 817, 818, 819, 820, 821, 822, 823, 824, 825, 826, 827, 828, 829, 830, 831, 832, 833, 834, 835, 836, 837, 838, 839, 840, 841, 842, 843, 844, 845, 846, 847, 848, 849, 850, 851, 852, 853, 854, 855, 856, 857, 858, 859, 860, 861, 862, 863, 864, 865, 866, 867, 868, 869, 870, 871, 872, 873, 874, 875, 876, 877, 878, 879, 880, 881, 882, 883, 884, 885, 886, 887, 888, 889, 890, 891, 892, 893, 894, 895, 896, 897, 898, 899, 900, 901, 902, 903, 904, 905, 906, 907, 908, 909, 910, 911, 912, 913, 914, 915, 916, 917, 918, 919, 920, 921, 922, 923, 924, 925, 926, 927, 928, 929, 930, 931, 932, 933, 934, 935], \"xaxis\": \"x\", \"y\": [4, 5, 4, 3, 6, 2, 4, 5, 10, 6, 8, 2, 6, 17, 23, 13, 21, 28, 24, 20, 40, 27, 42, 33, 43, 37, 57, 71, 44, 56, 53, 52, 47, 26, 27, 21, 21, 26, 34, 37, 17, 19, 25, 18, 21, 17, 17, 16, 16, 15, 23, 16, 17, 12, 17, 10, 15, 19, 21, 14, 18, 13, 14, 18, 23, 25, 62, 60, 76, 66, 64, 68, 89, 92, 140, 116, 142, 129, 140, 140, 127, 129, 169, 141, 108, 78, 70, 81, 104, 90, 85, 55, 53, 65, 33, 38, 59, 40, 37, 29, 30, 30, 28, 23, 24, 29, 26, 23, 20, 19, 20, 26, 29, 31, 28, 26, 32, 35, 33, 30, 52, 59, 67, 65, 74, 70, 61, 53, 76, 61, 57, 44, 34, 47, 60, 60, 53, 36, 31, 30, 32, 28, 33, 33, 35, 22, 13, 13, 21, 17, 11, 8, 8, 6, 6, 7, 12, 17, 10, 10, 18, 19, 12, 22, 12, 21, 18, 16, 16, 22, 17, 25, 23, 12, 25, 28, 27, 18, 23, 23, 29, 38, 36, 43, 46, 31, 25, 40, 31, 38, 30, 22, 31, 26, 35, 36, 39, 25, 31, 37, 33, 25, 24, 18, 23, 13, 18, 14, 17, 22, 13, 24, 31, 34, 31, 31, 38, 49, 42, 49, 55, 80, 84, 72, 89, 115, 179, 202, 272, 302, 395, 426, 461, 381, 333, 353, 410, 364, 359, 288, 221, 149, 112, 154, 91, 72, 56, 46, 37, 26, 17, 17, 20, 11, 7, 16, 14, 16, 5, 2, 6, 5, 4, 3, 4, 16, 8, 7, 10, 14, 7, 9, 11, 23, 17, 19, 24, 17, 28, 40, 33, 31, 33, 29, 30, 36, 48, 40, 28, 36, 19, 34, 23, 17, 17, 23, 14, 20, 13, 23, 20, 16, 16, 23, 14, 15, 4, 5, 5, 11, 11, 7, 4, 6, 5, 2, 4, 2, 4, 6, 6, 4, 6, 11, 16, 9, 12, 13, 27, 21, 19, 17, 24, 27, 30, 29, 25, 35, 33, 30, 29, 31, 29, 22, 27, 24, 26, 29, 22, 33, 24, 30, 20, 17, 24, 28, 18, 13, 9, 14, 11, 11, 19, 10, 8, 8, 9, 3, 7, 14, 4, 9, 14, 7, 9, 3, 3, 14, 12, 10, 21, 26, 47, 42, 31, 34, 33, 52, 56, 70, 112, 70, 47, 48, 49, 66, 56, 61, 67, 64, 68, 49, 50, 56, 75, 63, 62, 41, 50, 34, 31, 38, 30, 32, 26, 30, 36, 35, 46, 48, 44, 51, 59, 71, 102, 128, 127, 150, 191, 256, 329, 263, 220, 204, 181, 99, 54, 80, 102, 127, 73, 68, 64, 55, 67, 84, 85, 67, 73, 89, 68, 59, 56, 77, 75, 47, 50, 42, 28, 37, 37, 27, 12, 15, 22, 8, 15, 17, 10, 9, 11, 20, 13, 11, 16, 11, 7, 17, 14, 13, 15, 30, 25, 40, 44, 25, 21, 48, 56, 60, 45, 55, 32, 46, 61, 42, 37, 43, 34, 40, 25, 16, 17, 17, 16, 23, 18, 18, 9, 7, 7, 4, 3, 2, 8, 3, 1, 1, 2, 3, 3, 2, 0, 0, 2, 2, 0, 6, 3, 6, 2, 3, 2, 4, 5, 2, 9, 2, 4, 8, 6, 3, 11, 14, 15, 20, 9, 20, 28, 38, 30, 30, 23, 16, 22, 28, 14, 17, 20, 17, 10, 13, 20, 9, 18, 9, 8, 19, 11, 4, 6, 6, 8, 13, 8, 8, 5, 16, 12, 11, 18, 10, 22, 14, 16, 18, 27, 38, 35, 41, 51, 65, 55, 54, 62, 64, 56, 65, 71, 75, 71, 72, 47, 27, 35, 25, 19, 37, 38, 34, 26, 19, 18, 22, 16, 18, 6, 12, 6, 6, 3, 7, 6, 1, 3, 2, 2, 1, 10, 3, 3, 1, 1, 2, 6, 3, 3, 5, 4, 7, 6, 5, 7, 6, 4, 4, 7, 9, 5, 5, 10, 6, 13, 6, 5, 5, 9, 3, 6, 11, 7, 7, 15, 9, 6, 6, 6, 7, 10, 8, 7, 12, 3, 2, 7, 5, 5, 7, 7, 7, 7, 10, 13, 10, 14, 11, 20, 25, 17, 18, 25, 21, 31, 32, 26, 35, 28, 37, 41, 34, 30, 39, 39, 39, 34, 30, 37, 29, 26, 15, 22, 15, 20, 14, 10, 21, 14, 14, 9, 11, 5, 6, 7, 11, 4, 3, 2, 6, 10, 7, 5, 3, 12, 13, 10, 13, 13, 8, 21, 18, 8, 7, 20, 14, 14, 7, 14, 10, 13, 27, 13, 18, 16, 16, 20, 17, 4, 15, 8, 6, 12, 15, 11, 10, 15, 17, 7, 7, 8, 9, 12, 12, 5, 4, 11, 4, 5, 7, 1, 1, 4, 2, 6, 3, 4, 10, 12, 21, 26, 21, 30, 45, 56, 75, 83, 82, 126, 119, 137, 131, 112, 82, 73, 43, 55, 55, 53, 46, 43, 29, 22, 26, 13, 17, 8, 13, 10, 17, 19, 9, 9, 9, 3, 7, 7, 0, 2, 3, 3, 1, 3, 3, 3, 7, 3, 5, 11, 5, 5, 6, 6, 4, 4, 8, 14, 12, 16, 10, 16, 18, 15, 23, 17, 33, 15, 13, 11, 14, 17, 19, 20, 12, 21, 7, 19, 10, 13, 10, 8, 21, 11, 9, 14, 14, 15, 18, 16, 12, 20, 8, 3, 13, 4, 1, 10, 8, 13, 10, 21, 18, 21, 34, 25, 34, 33, 40, 42, 36, 72, 75, 76, 92, 71, 112, 106, 101, 170, 135, 106, 68, 48, 48, 26, 33, 29, 17, 12, 13, 17, 15, 14, 15, 10, 9, 2, 6, 8, 5, 1, 2, 3, 4, 3, 1, 3, 5], \"yaxis\": \"y\"}],\n",
              "                        {\"autosize\": false, \"height\": 600, \"template\": {\"data\": {\"bar\": [{\"error_x\": {\"color\": \"#2a3f5f\"}, \"error_y\": {\"color\": \"#2a3f5f\"}, \"marker\": {\"line\": {\"color\": \"#E5ECF6\", \"width\": 0.5}}, \"type\": \"bar\"}], \"barpolar\": [{\"marker\": {\"line\": {\"color\": \"#E5ECF6\", \"width\": 0.5}}, \"type\": \"barpolar\"}], \"carpet\": [{\"aaxis\": {\"endlinecolor\": \"#2a3f5f\", \"gridcolor\": \"white\", \"linecolor\": \"white\", \"minorgridcolor\": \"white\", \"startlinecolor\": \"#2a3f5f\"}, \"baxis\": {\"endlinecolor\": \"#2a3f5f\", \"gridcolor\": \"white\", \"linecolor\": \"white\", \"minorgridcolor\": \"white\", \"startlinecolor\": \"#2a3f5f\"}, \"type\": \"carpet\"}], \"choropleth\": [{\"colorbar\": {\"outlinewidth\": 0, \"ticks\": \"\"}, \"type\": \"choropleth\"}], \"contour\": [{\"colorbar\": {\"outlinewidth\": 0, \"ticks\": \"\"}, \"colorscale\": [[0.0, \"#0d0887\"], [0.1111111111111111, \"#46039f\"], [0.2222222222222222, \"#7201a8\"], [0.3333333333333333, \"#9c179e\"], [0.4444444444444444, \"#bd3786\"], [0.5555555555555556, \"#d8576b\"], [0.6666666666666666, \"#ed7953\"], [0.7777777777777778, \"#fb9f3a\"], [0.8888888888888888, \"#fdca26\"], [1.0, \"#f0f921\"]], \"type\": \"contour\"}], \"contourcarpet\": [{\"colorbar\": {\"outlinewidth\": 0, \"ticks\": \"\"}, \"type\": \"contourcarpet\"}], \"heatmap\": [{\"colorbar\": {\"outlinewidth\": 0, \"ticks\": \"\"}, \"colorscale\": [[0.0, \"#0d0887\"], [0.1111111111111111, \"#46039f\"], [0.2222222222222222, \"#7201a8\"], [0.3333333333333333, \"#9c179e\"], [0.4444444444444444, \"#bd3786\"], [0.5555555555555556, \"#d8576b\"], [0.6666666666666666, \"#ed7953\"], [0.7777777777777778, \"#fb9f3a\"], [0.8888888888888888, \"#fdca26\"], [1.0, \"#f0f921\"]], \"type\": \"heatmap\"}], \"heatmapgl\": [{\"colorbar\": {\"outlinewidth\": 0, \"ticks\": \"\"}, \"colorscale\": [[0.0, \"#0d0887\"], [0.1111111111111111, \"#46039f\"], [0.2222222222222222, \"#7201a8\"], [0.3333333333333333, \"#9c179e\"], [0.4444444444444444, \"#bd3786\"], [0.5555555555555556, \"#d8576b\"], [0.6666666666666666, \"#ed7953\"], [0.7777777777777778, \"#fb9f3a\"], [0.8888888888888888, \"#fdca26\"], [1.0, \"#f0f921\"]], \"type\": \"heatmapgl\"}], \"histogram\": [{\"marker\": {\"colorbar\": {\"outlinewidth\": 0, \"ticks\": \"\"}}, \"type\": \"histogram\"}], \"histogram2d\": [{\"colorbar\": {\"outlinewidth\": 0, \"ticks\": \"\"}, \"colorscale\": [[0.0, \"#0d0887\"], [0.1111111111111111, \"#46039f\"], [0.2222222222222222, \"#7201a8\"], [0.3333333333333333, \"#9c179e\"], [0.4444444444444444, \"#bd3786\"], [0.5555555555555556, \"#d8576b\"], [0.6666666666666666, \"#ed7953\"], [0.7777777777777778, \"#fb9f3a\"], [0.8888888888888888, \"#fdca26\"], [1.0, \"#f0f921\"]], \"type\": \"histogram2d\"}], \"histogram2dcontour\": [{\"colorbar\": {\"outlinewidth\": 0, \"ticks\": \"\"}, \"colorscale\": [[0.0, \"#0d0887\"], [0.1111111111111111, \"#46039f\"], [0.2222222222222222, \"#7201a8\"], [0.3333333333333333, \"#9c179e\"], [0.4444444444444444, \"#bd3786\"], [0.5555555555555556, \"#d8576b\"], [0.6666666666666666, \"#ed7953\"], [0.7777777777777778, \"#fb9f3a\"], [0.8888888888888888, \"#fdca26\"], [1.0, \"#f0f921\"]], \"type\": \"histogram2dcontour\"}], \"mesh3d\": [{\"colorbar\": {\"outlinewidth\": 0, \"ticks\": \"\"}, \"type\": \"mesh3d\"}], \"parcoords\": [{\"line\": {\"colorbar\": {\"outlinewidth\": 0, \"ticks\": \"\"}}, \"type\": \"parcoords\"}], \"pie\": [{\"automargin\": true, \"type\": \"pie\"}], \"scatter\": [{\"marker\": {\"colorbar\": {\"outlinewidth\": 0, \"ticks\": \"\"}}, \"type\": \"scatter\"}], \"scatter3d\": [{\"line\": {\"colorbar\": {\"outlinewidth\": 0, \"ticks\": \"\"}}, \"marker\": {\"colorbar\": {\"outlinewidth\": 0, \"ticks\": \"\"}}, \"type\": \"scatter3d\"}], \"scattercarpet\": [{\"marker\": {\"colorbar\": {\"outlinewidth\": 0, \"ticks\": \"\"}}, \"type\": \"scattercarpet\"}], \"scattergeo\": [{\"marker\": {\"colorbar\": {\"outlinewidth\": 0, \"ticks\": \"\"}}, \"type\": \"scattergeo\"}], \"scattergl\": [{\"marker\": {\"colorbar\": {\"outlinewidth\": 0, \"ticks\": \"\"}}, \"type\": \"scattergl\"}], \"scattermapbox\": [{\"marker\": {\"colorbar\": {\"outlinewidth\": 0, \"ticks\": \"\"}}, \"type\": \"scattermapbox\"}], \"scatterpolar\": [{\"marker\": {\"colorbar\": {\"outlinewidth\": 0, \"ticks\": \"\"}}, \"type\": \"scatterpolar\"}], \"scatterpolargl\": [{\"marker\": {\"colorbar\": {\"outlinewidth\": 0, \"ticks\": \"\"}}, \"type\": \"scatterpolargl\"}], \"scatterternary\": [{\"marker\": {\"colorbar\": {\"outlinewidth\": 0, \"ticks\": \"\"}}, \"type\": \"scatterternary\"}], \"surface\": [{\"colorbar\": {\"outlinewidth\": 0, \"ticks\": \"\"}, \"colorscale\": [[0.0, \"#0d0887\"], [0.1111111111111111, \"#46039f\"], [0.2222222222222222, \"#7201a8\"], [0.3333333333333333, \"#9c179e\"], [0.4444444444444444, \"#bd3786\"], [0.5555555555555556, \"#d8576b\"], [0.6666666666666666, \"#ed7953\"], [0.7777777777777778, \"#fb9f3a\"], [0.8888888888888888, \"#fdca26\"], [1.0, \"#f0f921\"]], \"type\": \"surface\"}], \"table\": [{\"cells\": {\"fill\": {\"color\": \"#EBF0F8\"}, \"line\": {\"color\": \"white\"}}, \"header\": {\"fill\": {\"color\": \"#C8D4E3\"}, \"line\": {\"color\": \"white\"}}, \"type\": \"table\"}]}, \"layout\": {\"annotationdefaults\": {\"arrowcolor\": \"#2a3f5f\", \"arrowhead\": 0, \"arrowwidth\": 1}, \"coloraxis\": {\"colorbar\": {\"outlinewidth\": 0, \"ticks\": \"\"}}, \"colorscale\": {\"diverging\": [[0, \"#8e0152\"], [0.1, \"#c51b7d\"], [0.2, \"#de77ae\"], [0.3, \"#f1b6da\"], [0.4, \"#fde0ef\"], [0.5, \"#f7f7f7\"], [0.6, \"#e6f5d0\"], [0.7, \"#b8e186\"], [0.8, \"#7fbc41\"], [0.9, \"#4d9221\"], [1, \"#276419\"]], \"sequential\": [[0.0, \"#0d0887\"], [0.1111111111111111, \"#46039f\"], [0.2222222222222222, \"#7201a8\"], [0.3333333333333333, \"#9c179e\"], [0.4444444444444444, \"#bd3786\"], [0.5555555555555556, \"#d8576b\"], [0.6666666666666666, \"#ed7953\"], [0.7777777777777778, \"#fb9f3a\"], [0.8888888888888888, \"#fdca26\"], [1.0, \"#f0f921\"]], \"sequentialminus\": [[0.0, \"#0d0887\"], [0.1111111111111111, \"#46039f\"], [0.2222222222222222, \"#7201a8\"], [0.3333333333333333, \"#9c179e\"], [0.4444444444444444, \"#bd3786\"], [0.5555555555555556, \"#d8576b\"], [0.6666666666666666, \"#ed7953\"], [0.7777777777777778, \"#fb9f3a\"], [0.8888888888888888, \"#fdca26\"], [1.0, \"#f0f921\"]]}, \"colorway\": [\"#636efa\", \"#EF553B\", \"#00cc96\", \"#ab63fa\", \"#FFA15A\", \"#19d3f3\", \"#FF6692\", \"#B6E880\", \"#FF97FF\", \"#FECB52\"], \"font\": {\"color\": \"#2a3f5f\"}, \"geo\": {\"bgcolor\": \"white\", \"lakecolor\": \"white\", \"landcolor\": \"#E5ECF6\", \"showlakes\": true, \"showland\": true, \"subunitcolor\": \"white\"}, \"hoverlabel\": {\"align\": \"left\"}, \"hovermode\": \"closest\", \"mapbox\": {\"style\": \"light\"}, \"paper_bgcolor\": \"white\", \"plot_bgcolor\": \"#E5ECF6\", \"polar\": {\"angularaxis\": {\"gridcolor\": \"white\", \"linecolor\": \"white\", \"ticks\": \"\"}, \"bgcolor\": \"#E5ECF6\", \"radialaxis\": {\"gridcolor\": \"white\", \"linecolor\": \"white\", \"ticks\": \"\"}}, \"scene\": {\"xaxis\": {\"backgroundcolor\": \"#E5ECF6\", \"gridcolor\": \"white\", \"gridwidth\": 2, \"linecolor\": \"white\", \"showbackground\": true, \"ticks\": \"\", \"zerolinecolor\": \"white\"}, \"yaxis\": {\"backgroundcolor\": \"#E5ECF6\", \"gridcolor\": \"white\", \"gridwidth\": 2, \"linecolor\": \"white\", \"showbackground\": true, \"ticks\": \"\", \"zerolinecolor\": \"white\"}, \"zaxis\": {\"backgroundcolor\": \"#E5ECF6\", \"gridcolor\": \"white\", \"gridwidth\": 2, \"linecolor\": \"white\", \"showbackground\": true, \"ticks\": \"\", \"zerolinecolor\": \"white\"}}, \"shapedefaults\": {\"line\": {\"color\": \"#2a3f5f\"}}, \"ternary\": {\"aaxis\": {\"gridcolor\": \"white\", \"linecolor\": \"white\", \"ticks\": \"\"}, \"baxis\": {\"gridcolor\": \"white\", \"linecolor\": \"white\", \"ticks\": \"\"}, \"bgcolor\": \"#E5ECF6\", \"caxis\": {\"gridcolor\": \"white\", \"linecolor\": \"white\", \"ticks\": \"\"}}, \"title\": {\"x\": 0.05}, \"xaxis\": {\"automargin\": true, \"gridcolor\": \"white\", \"linecolor\": \"white\", \"ticks\": \"\", \"title\": {\"standoff\": 15}, \"zerolinecolor\": \"white\", \"zerolinewidth\": 2}, \"yaxis\": {\"automargin\": true, \"gridcolor\": \"white\", \"linecolor\": \"white\", \"ticks\": \"\", \"title\": {\"standoff\": 15}, \"zerolinecolor\": \"white\", \"zerolinewidth\": 2}}}, \"title\": {\"text\": \"Adatok\"}, \"width\": 1200, \"xaxis\": {\"anchor\": \"y\", \"domain\": [0.0, 1.0]}, \"yaxis\": {\"anchor\": \"x\", \"domain\": [0.0, 1.0]}},\n",
              "                        {\"responsive\": true}\n",
              "                    ).then(function(){\n",
              "                            \n",
              "var gd = document.getElementById('564d45c6-6459-4c5b-b718-87b1fb68ee2e');\n",
              "var x = new MutationObserver(function (mutations, observer) {{\n",
              "        var display = window.getComputedStyle(gd).display;\n",
              "        if (!display || display === 'none') {{\n",
              "            console.log([gd, 'removed!']);\n",
              "            Plotly.purge(gd);\n",
              "            observer.disconnect();\n",
              "        }}\n",
              "}});\n",
              "\n",
              "// Listen for the removal of the full notebook cells\n",
              "var notebookContainer = gd.closest('#notebook-container');\n",
              "if (notebookContainer) {{\n",
              "    x.observe(notebookContainer, {childList: true});\n",
              "}}\n",
              "\n",
              "// Listen for the clearing of the current output cell\n",
              "var outputEl = gd.closest('.output');\n",
              "if (outputEl) {{\n",
              "    x.observe(outputEl, {childList: true});\n",
              "}}\n",
              "\n",
              "                        })\n",
              "                };\n",
              "                \n",
              "            </script>\n",
              "        </div>\n",
              "</body>\n",
              "</html>"
            ]
          },
          "metadata": {
            "tags": []
          }
        }
      ]
    },
    {
      "cell_type": "code",
      "metadata": {
        "id": "uL5Wr_NkdsN0"
      },
      "source": [
        "def grafikon(fx,ind,desc1,txt1,desc2=\"\",txt2=\"\",desc3=\"\",txt3=\"\",ngraf=2,c1='rgba(35,128,132,0.8)', c2='rgba(193,99,99,0.8)',c3='rgba(193,99,0,0.8)',title=None):\n",
        "    '''\n",
        "    fx: dataFrame\n",
        "    ind: index\n",
        "    desc1:column1\n",
        "    txt1: label1\n",
        "    desc2:column2\n",
        "    txt2: label2\n",
        "    ngraf: number of graph\n",
        "    c1: color1\n",
        "    c2: color2\n",
        "    title: graph title\n",
        "    '''\n",
        "    \n",
        "    #x_=[i for i in range(len(y_pred))]\n",
        "    if title==None:\n",
        "      title=txt1+txt2\n",
        "    import plotly.express as px\n",
        "    import plotly.graph_objects as go\n",
        "    from plotly.subplots import make_subplots\n",
        "    fig0 = make_subplots(rows=1, cols=1)\n",
        "    \n",
        "    if True:\n",
        "        fig0.add_trace(\n",
        "            go.Scatter(x=fx[ind], y=fx[desc1], name=txt1, line=dict(color=c1) ,showlegend=True  ),\n",
        "\n",
        "            row=1, col=1\n",
        "\n",
        "        )\n",
        "    \n",
        "    if ngraf>1:\n",
        "        fig0.add_trace(\n",
        "            go.Scatter(x=fx[ind], y=fx[desc2], name=txt2, line=dict(color=c2) ,showlegend=True  ),\n",
        "\n",
        "            row=1, col=1\n",
        "        )\n",
        "    if ngraf>2:\n",
        "        fig0.add_trace(\n",
        "            go.Scatter(x=fx[ind], y=fx[desc3], name=txt3, line=dict(color=c3) ,showlegend=True  ),\n",
        "\n",
        "            row=1, col=1\n",
        "        )\n",
        "\n",
        "\n",
        "\n",
        "    fig0.update_layout(\n",
        "        title=title,\n",
        "        autosize=False,\n",
        "        width=1200,\n",
        "        height=600,\n",
        "        \n",
        "        )\n",
        "\n",
        "    fig0.show()"
      ],
      "execution_count": 23,
      "outputs": []
    },
    {
      "cell_type": "code",
      "metadata": {
        "id": "dgCWNnfBe07N",
        "colab": {
          "base_uri": "https://localhost:8080/",
          "height": 617
        },
        "outputId": "f7e273dc-c322-464c-e0af-e4e4f337d981"
      },
      "source": [
        "grafikon(X_train_sj,\"week_start_date\",\"total_cases\",\"total_cases\",\"reanalysis_relative_humidity_percent\",\"reanalysis_relative_humidity_percent\",\"station_avg_temp_c\",\"station_avg_temp_c\",ngraf=3,title=\"Adatok\")"
      ],
      "execution_count": 24,
      "outputs": [
        {
          "output_type": "display_data",
          "data": {
            "text/html": [
              "<html>\n",
              "<head><meta charset=\"utf-8\" /></head>\n",
              "<body>\n",
              "    <div>\n",
              "            <script src=\"https://cdnjs.cloudflare.com/ajax/libs/mathjax/2.7.5/MathJax.js?config=TeX-AMS-MML_SVG\"></script><script type=\"text/javascript\">if (window.MathJax) {MathJax.Hub.Config({SVG: {font: \"STIX-Web\"}});}</script>\n",
              "                <script type=\"text/javascript\">window.PlotlyConfig = {MathJaxConfig: 'local'};</script>\n",
              "        <script src=\"https://cdn.plot.ly/plotly-latest.min.js\"></script>    \n",
              "            <div id=\"bcb65145-a06c-4626-8ba5-6c7a19541cde\" class=\"plotly-graph-div\" style=\"height:600px; width:1200px;\"></div>\n",
              "            <script type=\"text/javascript\">\n",
              "                \n",
              "                    window.PLOTLYENV=window.PLOTLYENV || {};\n",
              "                    \n",
              "                if (document.getElementById(\"bcb65145-a06c-4626-8ba5-6c7a19541cde\")) {\n",
              "                    Plotly.newPlot(\n",
              "                        'bcb65145-a06c-4626-8ba5-6c7a19541cde',\n",
              "                        [{\"line\": {\"color\": \"rgba(35,128,132,0.8)\"}, \"name\": \"total_cases\", \"showlegend\": true, \"type\": \"scatter\", \"x\": [\"1990-04-30\", \"1990-05-07\", \"1990-05-14\", \"1990-05-21\", \"1990-05-28\", \"1990-06-04\", \"1990-06-11\", \"1990-06-18\", \"1990-06-25\", \"1990-07-02\", \"1990-07-09\", \"1990-07-16\", \"1990-07-23\", \"1990-07-30\", \"1990-08-06\", \"1990-08-13\", \"1990-08-20\", \"1990-08-27\", \"1990-09-03\", \"1990-09-10\", \"1990-09-17\", \"1990-09-24\", \"1990-10-01\", \"1990-10-08\", \"1990-10-15\", \"1990-10-22\", \"1990-10-29\", \"1990-11-05\", \"1990-11-12\", \"1990-11-19\", \"1990-11-26\", \"1990-12-03\", \"1990-12-10\", \"1990-12-17\", \"1990-12-24\", \"1991-01-01\", \"1991-01-08\", \"1991-01-15\", \"1991-01-22\", \"1991-01-29\", \"1991-02-05\", \"1991-02-12\", \"1991-02-19\", \"1991-02-26\", \"1991-03-05\", \"1991-03-12\", \"1991-03-19\", \"1991-03-26\", \"1991-04-02\", \"1991-04-09\", \"1991-04-16\", \"1991-04-23\", \"1991-04-30\", \"1991-05-07\", \"1991-05-14\", \"1991-05-21\", \"1991-05-28\", \"1991-06-04\", \"1991-06-11\", \"1991-06-18\", \"1991-06-25\", \"1991-07-02\", \"1991-07-09\", \"1991-07-16\", \"1991-07-23\", \"1991-07-30\", \"1991-08-06\", \"1991-08-13\", \"1991-08-20\", \"1991-08-27\", \"1991-09-03\", \"1991-09-10\", \"1991-09-17\", \"1991-09-24\", \"1991-10-01\", \"1991-10-08\", \"1991-10-15\", \"1991-10-22\", \"1991-10-29\", \"1991-11-05\", \"1991-11-12\", \"1991-11-19\", \"1991-11-26\", \"1991-12-03\", \"1991-12-10\", \"1991-12-17\", \"1991-12-24\", \"1992-01-01\", \"1992-01-08\", \"1992-01-15\", \"1992-01-22\", \"1992-01-29\", \"1992-02-05\", \"1992-02-12\", \"1992-02-19\", \"1992-02-26\", \"1992-03-04\", \"1992-03-11\", \"1992-03-18\", \"1992-03-25\", \"1992-04-01\", \"1992-04-08\", \"1992-04-15\", \"1992-04-22\", \"1992-04-29\", \"1992-05-06\", \"1992-05-13\", \"1992-05-20\", \"1992-05-27\", \"1992-06-03\", \"1992-06-10\", \"1992-06-17\", \"1992-06-24\", \"1992-07-01\", \"1992-07-08\", \"1992-07-15\", \"1992-07-22\", \"1992-07-29\", \"1992-08-05\", \"1992-08-12\", \"1992-08-19\", \"1992-08-26\", \"1992-09-02\", \"1992-09-09\", \"1992-09-16\", \"1992-09-23\", \"1992-09-30\", \"1992-10-07\", \"1992-10-14\", \"1992-10-21\", \"1992-10-28\", \"1992-11-04\", \"1992-11-11\", \"1992-11-18\", \"1992-11-25\", \"1992-12-02\", \"1992-12-09\", \"1992-12-16\", \"1992-12-23\", \"1993-01-01\", \"1993-01-08\", \"1993-01-15\", \"1993-01-22\", \"1993-01-29\", \"1993-02-05\", \"1993-02-12\", \"1993-02-19\", \"1993-02-26\", \"1993-03-05\", \"1993-03-12\", \"1993-03-19\", \"1993-03-26\", \"1993-04-02\", \"1993-04-09\", \"1993-04-16\", \"1993-04-23\", \"1993-04-30\", \"1993-05-07\", \"1993-05-14\", \"1993-05-21\", \"1993-05-28\", \"1993-06-04\", \"1993-06-11\", \"1993-06-18\", \"1993-06-25\", \"1993-07-02\", \"1993-07-09\", \"1993-07-16\", \"1993-07-23\", \"1993-07-30\", \"1993-08-06\", \"1993-08-13\", \"1993-08-20\", \"1993-08-27\", \"1993-09-03\", \"1993-09-10\", \"1993-09-17\", \"1993-09-24\", \"1993-10-01\", \"1993-10-08\", \"1993-10-15\", \"1993-10-22\", \"1993-10-29\", \"1993-11-05\", \"1993-11-12\", \"1993-11-19\", \"1993-11-26\", \"1993-12-03\", \"1993-12-10\", \"1993-12-17\", \"1993-12-24\", \"1994-01-01\", \"1994-01-08\", \"1994-01-15\", \"1994-01-22\", \"1994-01-29\", \"1994-02-05\", \"1994-02-12\", \"1994-02-19\", \"1994-02-26\", \"1994-03-05\", \"1994-03-12\", \"1994-03-19\", \"1994-03-26\", \"1994-04-02\", \"1994-04-09\", \"1994-04-16\", \"1994-04-23\", \"1994-04-30\", \"1994-05-07\", \"1994-05-14\", \"1994-05-21\", \"1994-05-28\", \"1994-06-04\", \"1994-06-11\", \"1994-06-18\", \"1994-06-25\", \"1994-07-02\", \"1994-07-09\", \"1994-07-16\", \"1994-07-23\", \"1994-07-30\", \"1994-08-06\", \"1994-08-13\", \"1994-08-20\", \"1994-08-27\", \"1994-09-03\", \"1994-09-10\", \"1994-09-17\", \"1994-09-24\", \"1994-10-01\", \"1994-10-08\", \"1994-10-15\", \"1994-10-22\", \"1994-10-29\", \"1994-11-05\", \"1994-11-12\", \"1994-11-19\", \"1994-11-26\", \"1994-12-03\", \"1994-12-10\", \"1994-12-17\", \"1994-12-24\", \"1995-01-01\", \"1995-01-08\", \"1995-01-15\", \"1995-01-22\", \"1995-01-29\", \"1995-02-05\", \"1995-02-12\", \"1995-02-19\", \"1995-02-26\", \"1995-03-05\", \"1995-03-12\", \"1995-03-19\", \"1995-03-26\", \"1995-04-02\", \"1995-04-09\", \"1995-04-16\", \"1995-04-23\", \"1995-04-30\", \"1995-05-07\", \"1995-05-14\", \"1995-05-21\", \"1995-05-28\", \"1995-06-04\", \"1995-06-11\", \"1995-06-18\", \"1995-06-25\", \"1995-07-02\", \"1995-07-09\", \"1995-07-16\", \"1995-07-23\", \"1995-07-30\", \"1995-08-06\", \"1995-08-13\", \"1995-08-20\", \"1995-08-27\", \"1995-09-03\", \"1995-09-10\", \"1995-09-17\", \"1995-09-24\", \"1995-10-01\", \"1995-10-08\", \"1995-10-15\", \"1995-10-22\", \"1995-10-29\", \"1995-11-05\", \"1995-11-12\", \"1995-11-19\", \"1995-11-26\", \"1995-12-03\", \"1995-12-10\", \"1995-12-17\", \"1995-12-24\", \"1996-01-01\", \"1996-01-08\", \"1996-01-15\", \"1996-01-22\", \"1996-01-29\", \"1996-02-05\", \"1996-02-12\", \"1996-02-19\", \"1996-02-26\", \"1996-03-04\", \"1996-03-11\", \"1996-03-18\", \"1996-03-25\", \"1996-04-01\", \"1996-04-08\", \"1996-04-15\", \"1996-04-22\", \"1996-04-29\", \"1996-05-06\", \"1996-05-13\", \"1996-05-20\", \"1996-05-27\", \"1996-06-03\", \"1996-06-10\", \"1996-06-17\", \"1996-06-24\", \"1996-07-01\", \"1996-07-08\", \"1996-07-15\", \"1996-07-22\", \"1996-07-29\", \"1996-08-05\", \"1996-08-12\", \"1996-08-19\", \"1996-08-26\", \"1996-09-02\", \"1996-09-09\", \"1996-09-16\", \"1996-09-23\", \"1996-09-30\", \"1996-10-07\", \"1996-10-14\", \"1996-10-21\", \"1996-10-28\", \"1996-11-04\", \"1996-11-11\", \"1996-11-18\", \"1996-11-25\", \"1996-12-02\", \"1996-12-09\", \"1996-12-16\", \"1996-12-23\", \"1997-01-01\", \"1997-01-08\", \"1997-01-15\", \"1997-01-22\", \"1997-01-29\", \"1997-02-05\", \"1997-02-12\", \"1997-02-19\", \"1997-02-26\", \"1997-03-05\", \"1997-03-12\", \"1997-03-19\", \"1997-03-26\", \"1997-04-02\", \"1997-04-09\", \"1997-04-16\", \"1997-04-23\", \"1997-04-30\", \"1997-05-07\", \"1997-05-14\", \"1997-05-21\", \"1997-05-28\", \"1997-06-04\", \"1997-06-11\", \"1997-06-18\", \"1997-06-25\", \"1997-07-02\", \"1997-07-09\", \"1997-07-16\", \"1997-07-23\", \"1997-07-30\", \"1997-08-06\", \"1997-08-13\", \"1997-08-20\", \"1997-08-27\", \"1997-09-03\", \"1997-09-10\", \"1997-09-17\", \"1997-09-24\", \"1997-10-01\", \"1997-10-08\", \"1997-10-15\", \"1997-10-22\", \"1997-10-29\", \"1997-11-05\", \"1997-11-12\", \"1997-11-19\", \"1997-11-26\", \"1997-12-03\", \"1997-12-10\", \"1997-12-17\", \"1997-12-24\", \"1998-01-01\", \"1998-01-08\", \"1998-01-15\", \"1998-01-22\", \"1998-01-29\", \"1998-02-05\", \"1998-02-12\", \"1998-02-19\", \"1998-02-26\", \"1998-03-05\", \"1998-03-12\", \"1998-03-19\", \"1998-03-26\", \"1998-04-02\", \"1998-04-09\", \"1998-04-16\", \"1998-04-23\", \"1998-04-30\", \"1998-05-07\", \"1998-05-14\", \"1998-05-21\", \"1998-05-28\", \"1998-06-04\", \"1998-06-11\", \"1998-06-18\", \"1998-06-25\", \"1998-07-02\", \"1998-07-09\", \"1998-07-16\", \"1998-07-23\", \"1998-07-30\", \"1998-08-06\", \"1998-08-13\", \"1998-08-20\", \"1998-08-27\", \"1998-09-03\", \"1998-09-10\", \"1998-09-17\", \"1998-09-24\", \"1998-10-01\", \"1998-10-08\", \"1998-10-15\", \"1998-10-22\", \"1998-10-29\", \"1998-11-05\", \"1998-11-12\", \"1998-11-19\", \"1998-11-26\", \"1998-12-03\", \"1998-12-10\", \"1998-12-17\", \"1998-12-24\", \"1999-01-01\", \"1999-01-08\", \"1999-01-15\", \"1999-01-22\", \"1999-01-29\", \"1999-02-05\", \"1999-02-12\", \"1999-02-19\", \"1999-02-26\", \"1999-03-05\", \"1999-03-12\", \"1999-03-19\", \"1999-03-26\", \"1999-04-02\", \"1999-04-09\", \"1999-04-16\", \"1999-04-23\", \"1999-04-30\", \"1999-05-07\", \"1999-05-14\", \"1999-05-21\", \"1999-05-28\", \"1999-06-04\", \"1999-06-11\", \"1999-06-18\", \"1999-06-25\", \"1999-07-02\", \"1999-07-09\", \"1999-07-16\", \"1999-07-23\", \"1999-07-30\", \"1999-08-06\", \"1999-08-13\", \"1999-08-20\", \"1999-08-27\", \"1999-09-03\", \"1999-09-10\", \"1999-09-17\", \"1999-09-24\", \"1999-10-01\", \"1999-10-08\", \"1999-10-15\", \"1999-10-22\", \"1999-10-29\", \"1999-11-05\", \"1999-11-12\", \"1999-11-19\", \"1999-11-26\", \"1999-12-03\", \"1999-12-10\", \"1999-12-17\", \"1999-12-24\", \"2000-01-01\", \"2000-01-08\", \"2000-01-15\", \"2000-01-22\", \"2000-01-29\", \"2000-02-05\", \"2000-02-12\", \"2000-02-19\", \"2000-02-26\", \"2000-03-04\", \"2000-03-11\", \"2000-03-18\", \"2000-03-25\", \"2000-04-01\", \"2000-04-08\", \"2000-04-15\", \"2000-04-22\", \"2000-04-29\", \"2000-05-06\", \"2000-05-13\", \"2000-05-20\", \"2000-05-27\", \"2000-06-03\", \"2000-06-10\", \"2000-06-17\", \"2000-06-24\", \"2000-07-01\", \"2000-07-08\", \"2000-07-15\", \"2000-07-22\", \"2000-07-29\", \"2000-08-05\", \"2000-08-12\", \"2000-08-19\", \"2000-08-26\", \"2000-09-02\", \"2000-09-09\", \"2000-09-16\", \"2000-09-23\", \"2000-09-30\", \"2000-10-07\", \"2000-10-14\", \"2000-10-21\", \"2000-10-28\", \"2000-11-04\", \"2000-11-11\", \"2000-11-18\", \"2000-11-25\", \"2000-12-02\", \"2000-12-09\", \"2000-12-16\", \"2000-12-23\", \"2001-01-01\", \"2001-01-08\", \"2001-01-15\", \"2001-01-22\", \"2001-01-29\", \"2001-02-05\", \"2001-02-12\", \"2001-02-19\", \"2001-02-26\", \"2001-03-05\", \"2001-03-12\", \"2001-03-19\", \"2001-03-26\", \"2001-04-02\", \"2001-04-09\", \"2001-04-16\", \"2001-04-23\", \"2001-04-30\", \"2001-05-07\", \"2001-05-14\", \"2001-05-21\", \"2001-05-28\", \"2001-06-04\", \"2001-06-11\", \"2001-06-18\", \"2001-06-25\", \"2001-07-02\", \"2001-07-09\", \"2001-07-16\", \"2001-07-23\", \"2001-07-30\", \"2001-08-06\", \"2001-08-13\", \"2001-08-20\", \"2001-08-27\", \"2001-09-03\", \"2001-09-10\", \"2001-09-17\", \"2001-09-24\", \"2001-10-01\", \"2001-10-08\", \"2001-10-15\", \"2001-10-22\", \"2001-10-29\", \"2001-11-05\", \"2001-11-12\", \"2001-11-19\", \"2001-11-26\", \"2001-12-03\", \"2001-12-10\", \"2001-12-17\", \"2001-12-24\", \"2002-01-01\", \"2002-01-08\", \"2002-01-15\", \"2002-01-22\", \"2002-01-29\", \"2002-02-05\", \"2002-02-12\", \"2002-02-19\", \"2002-02-26\", \"2002-03-05\", \"2002-03-12\", \"2002-03-19\", \"2002-03-26\", \"2002-04-02\", \"2002-04-09\", \"2002-04-16\", \"2002-04-23\", \"2002-04-30\", \"2002-05-07\", \"2002-05-14\", \"2002-05-21\", \"2002-05-28\", \"2002-06-04\", \"2002-06-11\", \"2002-06-18\", \"2002-06-25\", \"2002-07-02\", \"2002-07-09\", \"2002-07-16\", \"2002-07-23\", \"2002-07-30\", \"2002-08-06\", \"2002-08-13\", \"2002-08-20\", \"2002-08-27\", \"2002-09-03\", \"2002-09-10\", \"2002-09-17\", \"2002-09-24\", \"2002-10-01\", \"2002-10-08\", \"2002-10-15\", \"2002-10-22\", \"2002-10-29\", \"2002-11-05\", \"2002-11-12\", \"2002-11-19\", \"2002-11-26\", \"2002-12-03\", \"2002-12-10\", \"2002-12-17\", \"2002-12-24\", \"2003-01-01\", \"2003-01-08\", \"2003-01-15\", \"2003-01-22\", \"2003-01-29\", \"2003-02-05\", \"2003-02-12\", \"2003-02-19\", \"2003-02-26\", \"2003-03-05\", \"2003-03-12\", \"2003-03-19\", \"2003-03-26\", \"2003-04-02\", \"2003-04-09\", \"2003-04-16\", \"2003-04-23\", \"2003-04-30\", \"2003-05-07\", \"2003-05-14\", \"2003-05-21\", \"2003-05-28\", \"2003-06-04\", \"2003-06-11\", \"2003-06-18\", \"2003-06-25\", \"2003-07-02\", \"2003-07-09\", \"2003-07-16\", \"2003-07-23\", \"2003-07-30\", \"2003-08-06\", \"2003-08-13\", \"2003-08-20\", \"2003-08-27\", \"2003-09-03\", \"2003-09-10\", \"2003-09-17\", \"2003-09-24\", \"2003-10-01\", \"2003-10-08\", \"2003-10-15\", \"2003-10-22\", \"2003-10-29\", \"2003-11-05\", \"2003-11-12\", \"2003-11-19\", \"2003-11-26\", \"2003-12-03\", \"2003-12-10\", \"2003-12-17\", \"2003-12-24\", \"2004-01-01\", \"2004-01-08\", \"2004-01-15\", \"2004-01-22\", \"2004-01-29\", \"2004-02-05\", \"2004-02-12\", \"2004-02-19\", \"2004-02-26\", \"2004-03-04\", \"2004-03-11\", \"2004-03-18\", \"2004-03-25\", \"2004-04-01\", \"2004-04-08\", \"2004-04-15\", \"2004-04-22\", \"2004-04-29\", \"2004-05-06\", \"2004-05-13\", \"2004-05-20\", \"2004-05-27\", \"2004-06-03\", \"2004-06-10\", \"2004-06-17\", \"2004-06-24\", \"2004-07-01\", \"2004-07-08\", \"2004-07-15\", \"2004-07-22\", \"2004-07-29\", \"2004-08-05\", \"2004-08-12\", \"2004-08-19\", \"2004-08-26\", \"2004-09-02\", \"2004-09-09\", \"2004-09-16\", \"2004-09-23\", \"2004-09-30\", \"2004-10-07\", \"2004-10-14\", \"2004-10-21\", \"2004-10-28\", \"2004-11-04\", \"2004-11-11\", \"2004-11-18\", \"2004-11-25\", \"2004-12-02\", \"2004-12-09\", \"2004-12-16\", \"2004-12-23\", \"2005-01-01\", \"2005-01-08\", \"2005-01-15\", \"2005-01-22\", \"2005-01-29\", \"2005-02-05\", \"2005-02-12\", \"2005-02-19\", \"2005-02-26\", \"2005-03-05\", \"2005-03-12\", \"2005-03-19\", \"2005-03-26\", \"2005-04-02\", \"2005-04-09\", \"2005-04-16\", \"2005-04-23\", \"2005-04-30\", \"2005-05-07\", \"2005-05-14\", \"2005-05-21\", \"2005-05-28\", \"2005-06-04\", \"2005-06-11\", \"2005-06-18\", \"2005-06-25\", \"2005-07-02\", \"2005-07-09\", \"2005-07-16\", \"2005-07-23\", \"2005-07-30\", \"2005-08-06\", \"2005-08-13\", \"2005-08-20\", \"2005-08-27\", \"2005-09-03\", \"2005-09-10\", \"2005-09-17\", \"2005-09-24\", \"2005-10-01\", \"2005-10-08\", \"2005-10-15\", \"2005-10-22\", \"2005-10-29\", \"2005-11-05\", \"2005-11-12\", \"2005-11-19\", \"2005-11-26\", \"2005-12-03\", \"2005-12-10\", \"2005-12-17\", \"2005-12-24\", \"2006-01-01\", \"2006-01-08\", \"2006-01-15\", \"2006-01-22\", \"2006-01-29\", \"2006-02-05\", \"2006-02-12\", \"2006-02-19\", \"2006-02-26\", \"2006-03-05\", \"2006-03-12\", \"2006-03-19\", \"2006-03-26\", \"2006-04-02\", \"2006-04-09\", \"2006-04-16\", \"2006-04-23\", \"2006-04-30\", \"2006-05-07\", \"2006-05-14\", \"2006-05-21\", \"2006-05-28\", \"2006-06-04\", \"2006-06-11\", \"2006-06-18\", \"2006-06-25\", \"2006-07-02\", \"2006-07-09\", \"2006-07-16\", \"2006-07-23\", \"2006-07-30\", \"2006-08-06\", \"2006-08-13\", \"2006-08-20\", \"2006-08-27\", \"2006-09-03\", \"2006-09-10\", \"2006-09-17\", \"2006-09-24\", \"2006-10-01\", \"2006-10-08\", \"2006-10-15\", \"2006-10-22\", \"2006-10-29\", \"2006-11-05\", \"2006-11-12\", \"2006-11-19\", \"2006-11-26\", \"2006-12-03\", \"2006-12-10\", \"2006-12-17\", \"2006-12-24\", \"2007-01-01\", \"2007-01-08\", \"2007-01-15\", \"2007-01-22\", \"2007-01-29\", \"2007-02-05\", \"2007-02-12\", \"2007-02-19\", \"2007-02-26\", \"2007-03-05\", \"2007-03-12\", \"2007-03-19\", \"2007-03-26\", \"2007-04-02\", \"2007-04-09\", \"2007-04-16\", \"2007-04-23\", \"2007-04-30\", \"2007-05-07\", \"2007-05-14\", \"2007-05-21\", \"2007-05-28\", \"2007-06-04\", \"2007-06-11\", \"2007-06-18\", \"2007-06-25\", \"2007-07-02\", \"2007-07-09\", \"2007-07-16\", \"2007-07-23\", \"2007-07-30\", \"2007-08-06\", \"2007-08-13\", \"2007-08-20\", \"2007-08-27\", \"2007-09-03\", \"2007-09-10\", \"2007-09-17\", \"2007-09-24\", \"2007-10-01\", \"2007-10-08\", \"2007-10-15\", \"2007-10-22\", \"2007-10-29\", \"2007-11-05\", \"2007-11-12\", \"2007-11-19\", \"2007-11-26\", \"2007-12-03\", \"2007-12-10\", \"2007-12-17\", \"2007-12-24\", \"2008-01-01\", \"2008-01-08\", \"2008-01-15\", \"2008-01-22\", \"2008-01-29\", \"2008-02-05\", \"2008-02-12\", \"2008-02-19\", \"2008-02-26\", \"2008-03-04\", \"2008-03-11\", \"2008-03-18\", \"2008-03-25\", \"2008-04-01\", \"2008-04-08\", \"2008-04-15\", \"2008-04-22\"], \"xaxis\": \"x\", \"y\": [4, 5, 4, 3, 6, 2, 4, 5, 10, 6, 8, 2, 6, 17, 23, 13, 21, 28, 24, 20, 40, 27, 42, 33, 43, 37, 57, 71, 44, 56, 53, 52, 47, 26, 27, 21, 21, 26, 34, 37, 17, 19, 25, 18, 21, 17, 17, 16, 16, 15, 23, 16, 17, 12, 17, 10, 15, 19, 21, 14, 18, 13, 14, 18, 23, 25, 62, 60, 76, 66, 64, 68, 89, 92, 140, 116, 142, 129, 140, 140, 127, 129, 169, 141, 108, 78, 70, 81, 104, 90, 85, 55, 53, 65, 33, 38, 59, 40, 37, 29, 30, 30, 28, 23, 24, 29, 26, 23, 20, 19, 20, 26, 29, 31, 28, 26, 32, 35, 33, 30, 52, 59, 67, 65, 74, 70, 61, 53, 76, 61, 57, 44, 34, 47, 60, 60, 53, 36, 31, 30, 32, 28, 33, 33, 35, 22, 13, 13, 21, 17, 11, 8, 8, 6, 6, 7, 12, 17, 10, 10, 18, 19, 12, 22, 12, 21, 18, 16, 16, 22, 17, 25, 23, 12, 25, 28, 27, 18, 23, 23, 29, 38, 36, 43, 46, 31, 25, 40, 31, 38, 30, 22, 31, 26, 35, 36, 39, 25, 31, 37, 33, 25, 24, 18, 23, 13, 18, 14, 17, 22, 13, 24, 31, 34, 31, 31, 38, 49, 42, 49, 55, 80, 84, 72, 89, 115, 179, 202, 272, 302, 395, 426, 461, 381, 333, 353, 410, 364, 359, 288, 221, 149, 112, 154, 91, 72, 56, 46, 37, 26, 17, 17, 20, 11, 7, 16, 14, 16, 5, 2, 6, 5, 4, 3, 4, 16, 8, 7, 10, 14, 7, 9, 11, 23, 17, 19, 24, 17, 28, 40, 33, 31, 33, 29, 30, 36, 48, 40, 28, 36, 19, 34, 23, 17, 17, 23, 14, 20, 13, 23, 20, 16, 16, 23, 14, 15, 4, 5, 5, 11, 11, 7, 4, 6, 5, 2, 4, 2, 4, 6, 6, 4, 6, 11, 16, 9, 12, 13, 27, 21, 19, 17, 24, 27, 30, 29, 25, 35, 33, 30, 29, 31, 29, 22, 27, 24, 26, 29, 22, 33, 24, 30, 20, 17, 24, 28, 18, 13, 9, 14, 11, 11, 19, 10, 8, 8, 9, 3, 7, 14, 4, 9, 14, 7, 9, 3, 3, 14, 12, 10, 21, 26, 47, 42, 31, 34, 33, 52, 56, 70, 112, 70, 47, 48, 49, 66, 56, 61, 67, 64, 68, 49, 50, 56, 75, 63, 62, 41, 50, 34, 31, 38, 30, 32, 26, 30, 36, 35, 46, 48, 44, 51, 59, 71, 102, 128, 127, 150, 191, 256, 329, 263, 220, 204, 181, 99, 54, 80, 102, 127, 73, 68, 64, 55, 67, 84, 85, 67, 73, 89, 68, 59, 56, 77, 75, 47, 50, 42, 28, 37, 37, 27, 12, 15, 22, 8, 15, 17, 10, 9, 11, 20, 13, 11, 16, 11, 7, 17, 14, 13, 15, 30, 25, 40, 44, 25, 21, 48, 56, 60, 45, 55, 32, 46, 61, 42, 37, 43, 34, 40, 25, 16, 17, 17, 16, 23, 18, 18, 9, 7, 7, 4, 3, 2, 8, 3, 1, 1, 2, 3, 3, 2, 0, 0, 2, 2, 0, 6, 3, 6, 2, 3, 2, 4, 5, 2, 9, 2, 4, 8, 6, 3, 11, 14, 15, 20, 9, 20, 28, 38, 30, 30, 23, 16, 22, 28, 14, 17, 20, 17, 10, 13, 20, 9, 18, 9, 8, 19, 11, 4, 6, 6, 8, 13, 8, 8, 5, 16, 12, 11, 18, 10, 22, 14, 16, 18, 27, 38, 35, 41, 51, 65, 55, 54, 62, 64, 56, 65, 71, 75, 71, 72, 47, 27, 35, 25, 19, 37, 38, 34, 26, 19, 18, 22, 16, 18, 6, 12, 6, 6, 3, 7, 6, 1, 3, 2, 2, 1, 10, 3, 3, 1, 1, 2, 6, 3, 3, 5, 4, 7, 6, 5, 7, 6, 4, 4, 7, 9, 5, 5, 10, 6, 13, 6, 5, 5, 9, 3, 6, 11, 7, 7, 15, 9, 6, 6, 6, 7, 10, 8, 7, 12, 3, 2, 7, 5, 5, 7, 7, 7, 7, 10, 13, 10, 14, 11, 20, 25, 17, 18, 25, 21, 31, 32, 26, 35, 28, 37, 41, 34, 30, 39, 39, 39, 34, 30, 37, 29, 26, 15, 22, 15, 20, 14, 10, 21, 14, 14, 9, 11, 5, 6, 7, 11, 4, 3, 2, 6, 10, 7, 5, 3, 12, 13, 10, 13, 13, 8, 21, 18, 8, 7, 20, 14, 14, 7, 14, 10, 13, 27, 13, 18, 16, 16, 20, 17, 4, 15, 8, 6, 12, 15, 11, 10, 15, 17, 7, 7, 8, 9, 12, 12, 5, 4, 11, 4, 5, 7, 1, 1, 4, 2, 6, 3, 4, 10, 12, 21, 26, 21, 30, 45, 56, 75, 83, 82, 126, 119, 137, 131, 112, 82, 73, 43, 55, 55, 53, 46, 43, 29, 22, 26, 13, 17, 8, 13, 10, 17, 19, 9, 9, 9, 3, 7, 7, 0, 2, 3, 3, 1, 3, 3, 3, 7, 3, 5, 11, 5, 5, 6, 6, 4, 4, 8, 14, 12, 16, 10, 16, 18, 15, 23, 17, 33, 15, 13, 11, 14, 17, 19, 20, 12, 21, 7, 19, 10, 13, 10, 8, 21, 11, 9, 14, 14, 15, 18, 16, 12, 20, 8, 3, 13, 4, 1, 10, 8, 13, 10, 21, 18, 21, 34, 25, 34, 33, 40, 42, 36, 72, 75, 76, 92, 71, 112, 106, 101, 170, 135, 106, 68, 48, 48, 26, 33, 29, 17, 12, 13, 17, 15, 14, 15, 10, 9, 2, 6, 8, 5, 1, 2, 3, 4, 3, 1, 3, 5], \"yaxis\": \"y\"}, {\"line\": {\"color\": \"rgba(193,99,99,0.8)\"}, \"name\": \"reanalysis_relative_humidity_percent\", \"showlegend\": true, \"type\": \"scatter\", \"x\": [\"1990-04-30\", \"1990-05-07\", \"1990-05-14\", \"1990-05-21\", \"1990-05-28\", \"1990-06-04\", \"1990-06-11\", \"1990-06-18\", \"1990-06-25\", \"1990-07-02\", \"1990-07-09\", \"1990-07-16\", \"1990-07-23\", \"1990-07-30\", \"1990-08-06\", \"1990-08-13\", \"1990-08-20\", \"1990-08-27\", \"1990-09-03\", \"1990-09-10\", \"1990-09-17\", \"1990-09-24\", \"1990-10-01\", \"1990-10-08\", \"1990-10-15\", \"1990-10-22\", \"1990-10-29\", \"1990-11-05\", \"1990-11-12\", \"1990-11-19\", \"1990-11-26\", \"1990-12-03\", \"1990-12-10\", \"1990-12-17\", \"1990-12-24\", \"1991-01-01\", \"1991-01-08\", \"1991-01-15\", \"1991-01-22\", \"1991-01-29\", \"1991-02-05\", \"1991-02-12\", \"1991-02-19\", \"1991-02-26\", \"1991-03-05\", \"1991-03-12\", \"1991-03-19\", \"1991-03-26\", \"1991-04-02\", \"1991-04-09\", \"1991-04-16\", \"1991-04-23\", \"1991-04-30\", \"1991-05-07\", \"1991-05-14\", \"1991-05-21\", \"1991-05-28\", \"1991-06-04\", \"1991-06-11\", \"1991-06-18\", \"1991-06-25\", \"1991-07-02\", \"1991-07-09\", \"1991-07-16\", \"1991-07-23\", \"1991-07-30\", \"1991-08-06\", \"1991-08-13\", \"1991-08-20\", \"1991-08-27\", \"1991-09-03\", \"1991-09-10\", \"1991-09-17\", \"1991-09-24\", \"1991-10-01\", \"1991-10-08\", \"1991-10-15\", \"1991-10-22\", \"1991-10-29\", \"1991-11-05\", \"1991-11-12\", \"1991-11-19\", \"1991-11-26\", \"1991-12-03\", \"1991-12-10\", \"1991-12-17\", \"1991-12-24\", \"1992-01-01\", \"1992-01-08\", \"1992-01-15\", \"1992-01-22\", \"1992-01-29\", \"1992-02-05\", \"1992-02-12\", \"1992-02-19\", \"1992-02-26\", \"1992-03-04\", \"1992-03-11\", \"1992-03-18\", \"1992-03-25\", \"1992-04-01\", \"1992-04-08\", \"1992-04-15\", \"1992-04-22\", \"1992-04-29\", \"1992-05-06\", \"1992-05-13\", \"1992-05-20\", \"1992-05-27\", \"1992-06-03\", \"1992-06-10\", \"1992-06-17\", \"1992-06-24\", \"1992-07-01\", \"1992-07-08\", \"1992-07-15\", \"1992-07-22\", \"1992-07-29\", \"1992-08-05\", \"1992-08-12\", \"1992-08-19\", \"1992-08-26\", \"1992-09-02\", \"1992-09-09\", \"1992-09-16\", \"1992-09-23\", \"1992-09-30\", \"1992-10-07\", \"1992-10-14\", \"1992-10-21\", \"1992-10-28\", \"1992-11-04\", \"1992-11-11\", \"1992-11-18\", \"1992-11-25\", \"1992-12-02\", \"1992-12-09\", \"1992-12-16\", \"1992-12-23\", \"1993-01-01\", \"1993-01-08\", \"1993-01-15\", \"1993-01-22\", \"1993-01-29\", \"1993-02-05\", \"1993-02-12\", \"1993-02-19\", \"1993-02-26\", \"1993-03-05\", \"1993-03-12\", \"1993-03-19\", \"1993-03-26\", \"1993-04-02\", \"1993-04-09\", \"1993-04-16\", \"1993-04-23\", \"1993-04-30\", \"1993-05-07\", \"1993-05-14\", \"1993-05-21\", \"1993-05-28\", \"1993-06-04\", \"1993-06-11\", \"1993-06-18\", \"1993-06-25\", \"1993-07-02\", \"1993-07-09\", \"1993-07-16\", \"1993-07-23\", \"1993-07-30\", \"1993-08-06\", \"1993-08-13\", \"1993-08-20\", \"1993-08-27\", \"1993-09-03\", \"1993-09-10\", \"1993-09-17\", \"1993-09-24\", \"1993-10-01\", \"1993-10-08\", \"1993-10-15\", \"1993-10-22\", \"1993-10-29\", \"1993-11-05\", \"1993-11-12\", \"1993-11-19\", \"1993-11-26\", \"1993-12-03\", \"1993-12-10\", \"1993-12-17\", \"1993-12-24\", \"1994-01-01\", \"1994-01-08\", \"1994-01-15\", \"1994-01-22\", \"1994-01-29\", \"1994-02-05\", \"1994-02-12\", \"1994-02-19\", \"1994-02-26\", \"1994-03-05\", \"1994-03-12\", \"1994-03-19\", \"1994-03-26\", \"1994-04-02\", \"1994-04-09\", \"1994-04-16\", \"1994-04-23\", \"1994-04-30\", \"1994-05-07\", \"1994-05-14\", \"1994-05-21\", \"1994-05-28\", \"1994-06-04\", \"1994-06-11\", \"1994-06-18\", \"1994-06-25\", \"1994-07-02\", \"1994-07-09\", \"1994-07-16\", \"1994-07-23\", \"1994-07-30\", \"1994-08-06\", \"1994-08-13\", \"1994-08-20\", \"1994-08-27\", \"1994-09-03\", \"1994-09-10\", \"1994-09-17\", \"1994-09-24\", \"1994-10-01\", \"1994-10-08\", \"1994-10-15\", \"1994-10-22\", \"1994-10-29\", \"1994-11-05\", \"1994-11-12\", \"1994-11-19\", \"1994-11-26\", \"1994-12-03\", \"1994-12-10\", \"1994-12-17\", \"1994-12-24\", \"1995-01-01\", \"1995-01-08\", \"1995-01-15\", \"1995-01-22\", \"1995-01-29\", \"1995-02-05\", \"1995-02-12\", \"1995-02-19\", \"1995-02-26\", \"1995-03-05\", \"1995-03-12\", \"1995-03-19\", \"1995-03-26\", \"1995-04-02\", \"1995-04-09\", \"1995-04-16\", \"1995-04-23\", \"1995-04-30\", \"1995-05-07\", \"1995-05-14\", \"1995-05-21\", \"1995-05-28\", \"1995-06-04\", \"1995-06-11\", \"1995-06-18\", \"1995-06-25\", \"1995-07-02\", \"1995-07-09\", \"1995-07-16\", \"1995-07-23\", \"1995-07-30\", \"1995-08-06\", \"1995-08-13\", \"1995-08-20\", \"1995-08-27\", \"1995-09-03\", \"1995-09-10\", \"1995-09-17\", \"1995-09-24\", \"1995-10-01\", \"1995-10-08\", \"1995-10-15\", \"1995-10-22\", \"1995-10-29\", \"1995-11-05\", \"1995-11-12\", \"1995-11-19\", \"1995-11-26\", \"1995-12-03\", \"1995-12-10\", \"1995-12-17\", \"1995-12-24\", \"1996-01-01\", \"1996-01-08\", \"1996-01-15\", \"1996-01-22\", \"1996-01-29\", \"1996-02-05\", \"1996-02-12\", \"1996-02-19\", \"1996-02-26\", \"1996-03-04\", \"1996-03-11\", \"1996-03-18\", \"1996-03-25\", \"1996-04-01\", \"1996-04-08\", \"1996-04-15\", \"1996-04-22\", \"1996-04-29\", \"1996-05-06\", \"1996-05-13\", \"1996-05-20\", \"1996-05-27\", \"1996-06-03\", \"1996-06-10\", \"1996-06-17\", \"1996-06-24\", \"1996-07-01\", \"1996-07-08\", \"1996-07-15\", \"1996-07-22\", \"1996-07-29\", \"1996-08-05\", \"1996-08-12\", \"1996-08-19\", \"1996-08-26\", \"1996-09-02\", \"1996-09-09\", \"1996-09-16\", \"1996-09-23\", \"1996-09-30\", \"1996-10-07\", \"1996-10-14\", \"1996-10-21\", \"1996-10-28\", \"1996-11-04\", \"1996-11-11\", \"1996-11-18\", \"1996-11-25\", \"1996-12-02\", \"1996-12-09\", \"1996-12-16\", \"1996-12-23\", \"1997-01-01\", \"1997-01-08\", \"1997-01-15\", \"1997-01-22\", \"1997-01-29\", \"1997-02-05\", \"1997-02-12\", \"1997-02-19\", \"1997-02-26\", \"1997-03-05\", \"1997-03-12\", \"1997-03-19\", \"1997-03-26\", \"1997-04-02\", \"1997-04-09\", \"1997-04-16\", \"1997-04-23\", \"1997-04-30\", \"1997-05-07\", \"1997-05-14\", \"1997-05-21\", \"1997-05-28\", \"1997-06-04\", \"1997-06-11\", \"1997-06-18\", \"1997-06-25\", \"1997-07-02\", \"1997-07-09\", \"1997-07-16\", \"1997-07-23\", \"1997-07-30\", \"1997-08-06\", \"1997-08-13\", \"1997-08-20\", \"1997-08-27\", \"1997-09-03\", \"1997-09-10\", \"1997-09-17\", \"1997-09-24\", \"1997-10-01\", \"1997-10-08\", \"1997-10-15\", \"1997-10-22\", \"1997-10-29\", \"1997-11-05\", \"1997-11-12\", \"1997-11-19\", \"1997-11-26\", \"1997-12-03\", \"1997-12-10\", \"1997-12-17\", \"1997-12-24\", \"1998-01-01\", \"1998-01-08\", \"1998-01-15\", \"1998-01-22\", \"1998-01-29\", \"1998-02-05\", \"1998-02-12\", \"1998-02-19\", \"1998-02-26\", \"1998-03-05\", \"1998-03-12\", \"1998-03-19\", \"1998-03-26\", \"1998-04-02\", \"1998-04-09\", \"1998-04-16\", \"1998-04-23\", \"1998-04-30\", \"1998-05-07\", \"1998-05-14\", \"1998-05-21\", \"1998-05-28\", \"1998-06-04\", \"1998-06-11\", \"1998-06-18\", \"1998-06-25\", \"1998-07-02\", \"1998-07-09\", \"1998-07-16\", \"1998-07-23\", \"1998-07-30\", \"1998-08-06\", \"1998-08-13\", \"1998-08-20\", \"1998-08-27\", \"1998-09-03\", \"1998-09-10\", \"1998-09-17\", \"1998-09-24\", \"1998-10-01\", \"1998-10-08\", \"1998-10-15\", \"1998-10-22\", \"1998-10-29\", \"1998-11-05\", \"1998-11-12\", \"1998-11-19\", \"1998-11-26\", \"1998-12-03\", \"1998-12-10\", \"1998-12-17\", \"1998-12-24\", \"1999-01-01\", \"1999-01-08\", \"1999-01-15\", \"1999-01-22\", \"1999-01-29\", \"1999-02-05\", \"1999-02-12\", \"1999-02-19\", \"1999-02-26\", \"1999-03-05\", \"1999-03-12\", \"1999-03-19\", \"1999-03-26\", \"1999-04-02\", \"1999-04-09\", \"1999-04-16\", \"1999-04-23\", \"1999-04-30\", \"1999-05-07\", \"1999-05-14\", \"1999-05-21\", \"1999-05-28\", \"1999-06-04\", \"1999-06-11\", \"1999-06-18\", \"1999-06-25\", \"1999-07-02\", \"1999-07-09\", \"1999-07-16\", \"1999-07-23\", \"1999-07-30\", \"1999-08-06\", \"1999-08-13\", \"1999-08-20\", \"1999-08-27\", \"1999-09-03\", \"1999-09-10\", \"1999-09-17\", \"1999-09-24\", \"1999-10-01\", \"1999-10-08\", \"1999-10-15\", \"1999-10-22\", \"1999-10-29\", \"1999-11-05\", \"1999-11-12\", \"1999-11-19\", \"1999-11-26\", \"1999-12-03\", \"1999-12-10\", \"1999-12-17\", \"1999-12-24\", \"2000-01-01\", \"2000-01-08\", \"2000-01-15\", \"2000-01-22\", \"2000-01-29\", \"2000-02-05\", \"2000-02-12\", \"2000-02-19\", \"2000-02-26\", \"2000-03-04\", \"2000-03-11\", \"2000-03-18\", \"2000-03-25\", \"2000-04-01\", \"2000-04-08\", \"2000-04-15\", \"2000-04-22\", \"2000-04-29\", \"2000-05-06\", \"2000-05-13\", \"2000-05-20\", \"2000-05-27\", \"2000-06-03\", \"2000-06-10\", \"2000-06-17\", \"2000-06-24\", \"2000-07-01\", \"2000-07-08\", \"2000-07-15\", \"2000-07-22\", \"2000-07-29\", \"2000-08-05\", \"2000-08-12\", \"2000-08-19\", \"2000-08-26\", \"2000-09-02\", \"2000-09-09\", \"2000-09-16\", \"2000-09-23\", \"2000-09-30\", \"2000-10-07\", \"2000-10-14\", \"2000-10-21\", \"2000-10-28\", \"2000-11-04\", \"2000-11-11\", \"2000-11-18\", \"2000-11-25\", \"2000-12-02\", \"2000-12-09\", \"2000-12-16\", \"2000-12-23\", \"2001-01-01\", \"2001-01-08\", \"2001-01-15\", \"2001-01-22\", \"2001-01-29\", \"2001-02-05\", \"2001-02-12\", \"2001-02-19\", \"2001-02-26\", \"2001-03-05\", \"2001-03-12\", \"2001-03-19\", \"2001-03-26\", \"2001-04-02\", \"2001-04-09\", \"2001-04-16\", \"2001-04-23\", \"2001-04-30\", \"2001-05-07\", \"2001-05-14\", \"2001-05-21\", \"2001-05-28\", \"2001-06-04\", \"2001-06-11\", \"2001-06-18\", \"2001-06-25\", \"2001-07-02\", \"2001-07-09\", \"2001-07-16\", \"2001-07-23\", \"2001-07-30\", \"2001-08-06\", \"2001-08-13\", \"2001-08-20\", \"2001-08-27\", \"2001-09-03\", \"2001-09-10\", \"2001-09-17\", \"2001-09-24\", \"2001-10-01\", \"2001-10-08\", \"2001-10-15\", \"2001-10-22\", \"2001-10-29\", \"2001-11-05\", \"2001-11-12\", \"2001-11-19\", \"2001-11-26\", \"2001-12-03\", \"2001-12-10\", \"2001-12-17\", \"2001-12-24\", \"2002-01-01\", \"2002-01-08\", \"2002-01-15\", \"2002-01-22\", \"2002-01-29\", \"2002-02-05\", \"2002-02-12\", \"2002-02-19\", \"2002-02-26\", \"2002-03-05\", \"2002-03-12\", \"2002-03-19\", \"2002-03-26\", \"2002-04-02\", \"2002-04-09\", \"2002-04-16\", \"2002-04-23\", \"2002-04-30\", \"2002-05-07\", \"2002-05-14\", \"2002-05-21\", \"2002-05-28\", \"2002-06-04\", \"2002-06-11\", \"2002-06-18\", \"2002-06-25\", \"2002-07-02\", \"2002-07-09\", \"2002-07-16\", \"2002-07-23\", \"2002-07-30\", \"2002-08-06\", \"2002-08-13\", \"2002-08-20\", \"2002-08-27\", \"2002-09-03\", \"2002-09-10\", \"2002-09-17\", \"2002-09-24\", \"2002-10-01\", \"2002-10-08\", \"2002-10-15\", \"2002-10-22\", \"2002-10-29\", \"2002-11-05\", \"2002-11-12\", \"2002-11-19\", \"2002-11-26\", \"2002-12-03\", \"2002-12-10\", \"2002-12-17\", \"2002-12-24\", \"2003-01-01\", \"2003-01-08\", \"2003-01-15\", \"2003-01-22\", \"2003-01-29\", \"2003-02-05\", \"2003-02-12\", \"2003-02-19\", \"2003-02-26\", \"2003-03-05\", \"2003-03-12\", \"2003-03-19\", \"2003-03-26\", \"2003-04-02\", \"2003-04-09\", \"2003-04-16\", \"2003-04-23\", \"2003-04-30\", \"2003-05-07\", \"2003-05-14\", \"2003-05-21\", \"2003-05-28\", \"2003-06-04\", \"2003-06-11\", \"2003-06-18\", \"2003-06-25\", \"2003-07-02\", \"2003-07-09\", \"2003-07-16\", \"2003-07-23\", \"2003-07-30\", \"2003-08-06\", \"2003-08-13\", \"2003-08-20\", \"2003-08-27\", \"2003-09-03\", \"2003-09-10\", \"2003-09-17\", \"2003-09-24\", \"2003-10-01\", \"2003-10-08\", \"2003-10-15\", \"2003-10-22\", \"2003-10-29\", \"2003-11-05\", \"2003-11-12\", \"2003-11-19\", \"2003-11-26\", \"2003-12-03\", \"2003-12-10\", \"2003-12-17\", \"2003-12-24\", \"2004-01-01\", \"2004-01-08\", \"2004-01-15\", \"2004-01-22\", \"2004-01-29\", \"2004-02-05\", \"2004-02-12\", \"2004-02-19\", \"2004-02-26\", \"2004-03-04\", \"2004-03-11\", \"2004-03-18\", \"2004-03-25\", \"2004-04-01\", \"2004-04-08\", \"2004-04-15\", \"2004-04-22\", \"2004-04-29\", \"2004-05-06\", \"2004-05-13\", \"2004-05-20\", \"2004-05-27\", \"2004-06-03\", \"2004-06-10\", \"2004-06-17\", \"2004-06-24\", \"2004-07-01\", \"2004-07-08\", \"2004-07-15\", \"2004-07-22\", \"2004-07-29\", \"2004-08-05\", \"2004-08-12\", \"2004-08-19\", \"2004-08-26\", \"2004-09-02\", \"2004-09-09\", \"2004-09-16\", \"2004-09-23\", \"2004-09-30\", \"2004-10-07\", \"2004-10-14\", \"2004-10-21\", \"2004-10-28\", \"2004-11-04\", \"2004-11-11\", \"2004-11-18\", \"2004-11-25\", \"2004-12-02\", \"2004-12-09\", \"2004-12-16\", \"2004-12-23\", \"2005-01-01\", \"2005-01-08\", \"2005-01-15\", \"2005-01-22\", \"2005-01-29\", \"2005-02-05\", \"2005-02-12\", \"2005-02-19\", \"2005-02-26\", \"2005-03-05\", \"2005-03-12\", \"2005-03-19\", \"2005-03-26\", \"2005-04-02\", \"2005-04-09\", \"2005-04-16\", \"2005-04-23\", \"2005-04-30\", \"2005-05-07\", \"2005-05-14\", \"2005-05-21\", \"2005-05-28\", \"2005-06-04\", \"2005-06-11\", \"2005-06-18\", \"2005-06-25\", \"2005-07-02\", \"2005-07-09\", \"2005-07-16\", \"2005-07-23\", \"2005-07-30\", \"2005-08-06\", \"2005-08-13\", \"2005-08-20\", \"2005-08-27\", \"2005-09-03\", \"2005-09-10\", \"2005-09-17\", \"2005-09-24\", \"2005-10-01\", \"2005-10-08\", \"2005-10-15\", \"2005-10-22\", \"2005-10-29\", \"2005-11-05\", \"2005-11-12\", \"2005-11-19\", \"2005-11-26\", \"2005-12-03\", \"2005-12-10\", \"2005-12-17\", \"2005-12-24\", \"2006-01-01\", \"2006-01-08\", \"2006-01-15\", \"2006-01-22\", \"2006-01-29\", \"2006-02-05\", \"2006-02-12\", \"2006-02-19\", \"2006-02-26\", \"2006-03-05\", \"2006-03-12\", \"2006-03-19\", \"2006-03-26\", \"2006-04-02\", \"2006-04-09\", \"2006-04-16\", \"2006-04-23\", \"2006-04-30\", \"2006-05-07\", \"2006-05-14\", \"2006-05-21\", \"2006-05-28\", \"2006-06-04\", \"2006-06-11\", \"2006-06-18\", \"2006-06-25\", \"2006-07-02\", \"2006-07-09\", \"2006-07-16\", \"2006-07-23\", \"2006-07-30\", \"2006-08-06\", \"2006-08-13\", \"2006-08-20\", \"2006-08-27\", \"2006-09-03\", \"2006-09-10\", \"2006-09-17\", \"2006-09-24\", \"2006-10-01\", \"2006-10-08\", \"2006-10-15\", \"2006-10-22\", \"2006-10-29\", \"2006-11-05\", \"2006-11-12\", \"2006-11-19\", \"2006-11-26\", \"2006-12-03\", \"2006-12-10\", \"2006-12-17\", \"2006-12-24\", \"2007-01-01\", \"2007-01-08\", \"2007-01-15\", \"2007-01-22\", \"2007-01-29\", \"2007-02-05\", \"2007-02-12\", \"2007-02-19\", \"2007-02-26\", \"2007-03-05\", \"2007-03-12\", \"2007-03-19\", \"2007-03-26\", \"2007-04-02\", \"2007-04-09\", \"2007-04-16\", \"2007-04-23\", \"2007-04-30\", \"2007-05-07\", \"2007-05-14\", \"2007-05-21\", \"2007-05-28\", \"2007-06-04\", \"2007-06-11\", \"2007-06-18\", \"2007-06-25\", \"2007-07-02\", \"2007-07-09\", \"2007-07-16\", \"2007-07-23\", \"2007-07-30\", \"2007-08-06\", \"2007-08-13\", \"2007-08-20\", \"2007-08-27\", \"2007-09-03\", \"2007-09-10\", \"2007-09-17\", \"2007-09-24\", \"2007-10-01\", \"2007-10-08\", \"2007-10-15\", \"2007-10-22\", \"2007-10-29\", \"2007-11-05\", \"2007-11-12\", \"2007-11-19\", \"2007-11-26\", \"2007-12-03\", \"2007-12-10\", \"2007-12-17\", \"2007-12-24\", \"2008-01-01\", \"2008-01-08\", \"2008-01-15\", \"2008-01-22\", \"2008-01-29\", \"2008-02-05\", \"2008-02-12\", \"2008-02-19\", \"2008-02-26\", \"2008-03-04\", \"2008-03-11\", \"2008-03-18\", \"2008-03-25\", \"2008-04-01\", \"2008-04-08\", \"2008-04-15\", \"2008-04-22\"], \"xaxis\": \"x\", \"y\": [73.3657142857, 77.36857142859999, 82.0528571429, 80.3371428571, 80.46, 79.8914285714, 82.0, 83.3757142857, 82.7685714286, 81.2814285714, 81.4671428571, 82.1442857143, 80.7428571429, 80.58428571430001, 79.65, 84.1785714286, 80.9471428571, 83.3485714286, 77.1728571429, 81.55142857140001, 81.6371428571, 77.0485714286, 78.52, 84.11, 85.6214285714, 85.5028571429, 82.7871428571, 81.7157142857, 75.72857142859999, 78.1514285714, 81.38571428569999, 79.9085714286, 68.7228571429, 80.0828571429, 69.6814285714, 72.9385714286, 76.6285714286, 78.5, 71.5971428571, 71.7842857143, 75.7942857143, 78.8957142857, 79.74, 77.9771428571, 77.3157142857, 78.1385714286, 77.8828571429, 80.0014285714, 75.6628571429, 79.6285714286, 73.3514285714, 78.4471428571, 79.36, 79.5414285714, 80.0671428571, 81.30142857140001, 81.08857142859999, 76.0742857143, 77.0357142857, 81.4214285714, 82.7457142857, 81.69428571430001, 77.8771428571, 78.24142857140001, 81.4828571429, 81.8971428571, 81.96, 79.1971428571, 80.2557142857, 81.5942857143, 82.31, 78.6271428571, 80.8771428571, 81.4242857143, 82.4857142857, 80.5157142857, 79.3828571429, 76.7771428571, 78.9871428571, 81.05857142859999, 83.5142857143, 75.5485714286, 81.4857142857, 80.27571428569999, 78.6214285714, 72.8614285714, 76.1271428571, 81.3, 81.3, 84.1171428571, 78.2914285714, 75.22, 77.05857142859999, 82.8757142857, 77.2957142857, 76.0371428571, 76.8785714286, 78.0571428571, 77.5057142857, 80.2385714286, 78.0671428571, 76.3757142857, 84.1842857143, 78.4257142857, 74.9328571429, 78.48, 78.38142857140001, 85.6471428571, 87.3014285714, 85.8271428571, 84.87, 84.2485714286, 82.7771428571, 79.33428571430001, 78.4971428571, 80.15, 81.9842857143, 82.3457142857, 80.7842857143, 82.75, 82.3171428571, 78.86428571430001, 79.2042857143, 79.93, 79.52571428569999, 83.7, 81.2971428571, 79.7371428571, 77.83428571430001, 77.8757142857, 78.91, 81.0528571429, 79.0128571429, 80.2557142857, 85.5871428571, 82.6485714286, 78.3114285714, 76.66142857140001, 76.7571428571, 81.8785714286, 81.8785714286, 77.1442857143, 76.9842857143, 77.8628571429, 80.61, 79.8257142857, 76.5328571429, 76.2171428571, 73.2257142857, 70.6457142857, 77.7842857143, 76.8485714286, 80.7957142857, 78.5642857143, 78.9614285714, 81.27142857140001, 81.6557142857, 84.0814285714, 84.52142857140001, 82.4357142857, 85.3985714286, 86.9, 80.6157142857, 81.4928571429, 82.6085714286, 82.8328571429, 81.1485714286, 81.2157142857, 79.15, 85.55142857140001, 82.8828571429, 81.0128571429, 83.0757142857, 81.7271428571, 79.6285714286, 80.6842857143, 81.7942857143, 80.9014285714, 82.61, 83.8414285714, 81.1028571429, 78.8071428571, 80.3985714286, 79.5042857143, 79.0371428571, 80.3771428571, 82.1542857143, 80.4657142857, 80.3028571429, 76.8542857143, 78.8285714286, 78.0185714286, 75.7428571429, 79.15, 75.9842857143, 78.38142857140001, 76.8257142857, 75.31, 72.88571428569999, 74.7885714286, 77.91571428569999, 81.5185714286, 75.4357142857, 74.6471428571, 75.0828571429, 73.9514285714, 79.5171428571, 75.2471428571, 74.5157142857, 80.3528571429, 80.4628571429, 83.13571428569999, 79.5028571429, 77.66428571430001, 80.3828571429, 78.2928571429, 78.7042857143, 79.0271428571, 78.80571428569999, 77.3028571429, 77.1028571429, 75.4357142857, 77.7957142857, 78.58428571430001, 76.4371428571, 76.92, 78.4828571429, 79.1385714286, 78.75, 79.3142857143, 80.3728571429, 74.1171428571, 78.2257142857, 76.3485714286, 85.4171428571, 78.6857142857, 80.0957142857, 83.58428571430001, 83.5028571429, 78.56, 85.57, 75.4557142857, 76.91428571430001, 82.8671428571, 75.83857142859999, 74.0471428571, 79.5528571429, 78.33, 81.4042857143, 74.6557142857, 77.02142857140001, 76.6342857143, 79.8171428571, 82.0528571429, 77.02, 69.8614285714, 67.36428571430001, 73.4, 77.6057142857, 77.3214285714, 71.9371428571, 76.0728571429, 80.2614285714, 80.8657142857, 81.4471428571, 80.7271428571, 84.3457142857, 79.1371428571, 81.34, 79.38, 75.0657142857, 81.96, 81.09, 85.08857142859999, 84.3757142857, 80.3971428571, 82.6257142857, 83.49142857140001, 82.2257142857, 78.1457142857, 82.91142857140001, 83.3142857143, 81.8542857143, 83.13571428569999, 84.2071428571, 80.66428571430001, 83.2142857143, 80.86428571430001, 79.4042857143, 77.6385714286, 78.1414285714, 80.6771428571, 76.3328571429, 79.9857142857, 77.6371428571, 84.13571428569999, 79.3214285714, 82.5157142857, 80.4771428571, 75.6928571429, 74.9614285714, 79.66428571430001, 77.7828571429, 79.19857142859999, 73.06, 76.4828571429, 80.6471428571, 73.4257142857, 79.02, 79.77571428569999, 78.3114285714, 74.1714285714, 76.3942857143, 74.7928571429, 82.84, 82.78, 82.7514285714, 82.36857142859999, 82.2357142857, 83.3228571429, 80.9071428571, 80.0614285714, 81.83571428569999, 84.3228571429, 79.19857142859999, 81.91, 85.01, 80.9357142857, 84.3442857143, 79.2728571429, 81.54, 81.9857142857, 85.69, 82.6385714286, 79.1771428571, 81.26, 79.9571428571, 80.7342857143, 81.13, 84.1114285714, 83.64, 83.3971428571, 86.07142857139999, 75.2928571429, 73.2528571429, 79.3728571429, 71.0628571429, 75.6785714286, 80.3, 74.94, 80.0928571429, 82.3885714286, 75.0757142857, 80.9471428571, 76.7128571429, 74.63142857140001, 74.2557142857, 75.3728571429, 76.9042857143, 74.11857142859999, 74.2057142857, 74.85, 71.55857142859999, 75.4171428571, 76.9528571429, 75.8785714286, 78.5371428571, 75.9828571429, 78.7114285714, 83.4857142857, 79.7457142857, 79.36428571430001, 80.2457142857, 78.6385714286, 78.62, 80.9171428571, 82.1328571429, 79.4542857143, 81.1042857143, 82.3928571429, 83.28, 81.1428571429, 82.22, 83.16428571430001, 81.80857142859999, 78.78, 84.4371428571, 80.08428571430001, 83.5757142857, 82.2342857143, 77.5328571429, 77.3071428571, 77.1628571429, 82.7657142857, 82.27, 79.3957142857, 74.2814285714, 74.7957142857, 79.47, 79.63142857140001, 79.63142857140001, 84.69428571430001, 78.1828571429, 76.2614285714, 75.7771428571, 81.6128571429, 70.7014285714, 75.0157142857, 77.9242857143, 80.7785714286, 72.6428571429, 76.6757142857, 81.4057142857, 80.19, 81.1457142857, 77.7128571429, 80.0728571429, 77.3314285714, 78.4014285714, 84.0714285714, 84.63571428569999, 82.46, 82.30571428569999, 78.53, 84.02571428569999, 80.08571428569999, 81.29, 78.99, 82.2128571429, 83.7428571429, 81.2171428571, 82.8, 84.2028571429, 83.45, 82.1928571429, 84.0028571429, 82.3328571429, 83.3314285714, 78.7828571429, 79.9985714286, 78.0985714286, 82.0385714286, 83.8657142857, 85.12, 80.91428571430001, 86.2142857143, 80.02142857140001, 83.0242857143, 85.9114285714, 78.6685714286, 78.4185714286, 80.5971428571, 80.5971428571, 76.9542857143, 81.31, 79.6714285714, 70.19857142859999, 68.6414285714, 76.2457142857, 72.2514285714, 77.4271428571, 71.69142857140001, 74.80428571430001, 73.94, 78.91, 75.3885714286, 73.6414285714, 75.39, 74.7985714286, 78.6828571429, 76.30857142859999, 76.5985714286, 79.7171428571, 77.3714285714, 80.7542857143, 79.75, 83.9614285714, 81.25, 80.7985714286, 81.8471428571, 83.9185714286, 80.9685714286, 81.6728571429, 82.6457142857, 81.3871428571, 81.9985714286, 81.0028571429, 79.9657142857, 79.6971428571, 79.39, 79.8371428571, 79.6742857143, 79.16, 82.6571428571, 85.3771428571, 81.6285714286, 81.4885714286, 85.4042857143, 86.4057142857, 78.6828571429, 81.86428571430001, 72.6528571429, 76.4971428571, 76.3171428571, 79.6071428571, 77.3428571429, 70.4571428571, 67.7657142857, 74.0628571429, 76.5028571429, 76.1171428571, 74.0642857143, 75.7214285714, 66.7357142857, 72.1428571429, 71.39, 71.3514285714, 77.7857142857, 75.8428571429, 74.7542857143, 78.2442857143, 76.2142857143, 78.3371428571, 77.7128571429, 79.1971428571, 78.5371428571, 79.05142857140001, 75.7485714286, 80.8457142857, 77.6171428571, 77.6814285714, 78.1257142857, 78.6042857143, 79.00857142859999, 80.7514285714, 82.02142857140001, 79.5071428571, 79.55857142859999, 82.6757142857, 80.6785714286, 78.94857142859999, 79.58428571430001, 82.2828571429, 82.58571428569999, 76.3714285714, 78.1814285714, 77.4428571429, 80.0071428571, 72.6842857143, 70.9771428571, 72.9257142857, 77.6485714286, 77.3571428571, 72.2614285714, 76.52571428569999, 76.5057142857, 74.33571428569999, 71.94142857140001, 75.38, 79.0314285714, 74.3442857143, 75.8514285714, 73.0728571429, 76.9071428571, 73.3871428571, 76.2471428571, 72.4428571429, 80.83571428569999, 74.43, 77.0228571429, 72.64, 76.5814285714, 75.7142857143, 78.5671428571, 82.35, 76.07, 78.1514285714, 77.1628571429, 76.4257142857, 75.4614285714, 77.6171428571, 79.5785714286, 77.5828571429, 77.5871428571, 78.0614285714, 78.67, 79.7128571429, 82.0871428571, 81.0757142857, 77.3471428571, 78.8271428571, 77.41, 77.2357142857, 77.55571428569999, 77.63, 78.8914285714, 79.27, 80.13142857140001, 80.27, 75.4242857143, 81.0814285714, 79.8614285714, 74.3442857143, 74.0385714286, 82.1671428571, 84.01, 85.5142857143, 76.4342857143, 80.5728571429, 76.7342857143, 78.0785714286, 76.92, 76.7228571429, 75.5771428571, 75.9328571429, 73.1471428571, 74.4271428571, 76.1685714286, 74.9171428571, 75.2157142857, 78.5657142857, 81.1414285714, 73.84, 83.6571428571, 81.7028571429, 78.6071428571, 76.0871428571, 76.9014285714, 77.0928571429, 81.8514285714, 81.0428571429, 79.73, 79.50857142859999, 77.19857142859999, 78.7471428571, 78.3114285714, 75.8671428571, 81.6228571429, 77.7885714286, 78.94428571430001, 79.0942857143, 76.1885714286, 78.6071428571, 76.6785714286, 78.4885714286, 77.8514285714, 79.2814285714, 78.80857142859999, 78.94857142859999, 79.2171428571, 77.62, 76.1671428571, 73.7814285714, 78.6057142857, 78.9628571429, 74.3728571429, 74.5171428571, 74.9428571429, 79.4828571429, 80.30857142859999, 78.6714285714, 75.7028571429, 75.0157142857, 79.5171428571, 78.8414285714, 79.72428571430001, 75.0771428571, 74.7342857143, 72.69, 74.6085714286, 72.13571428569999, 74.3257142857, 76.1342857143, 79.63571428569999, 80.24142857140001, 83.7514285714, 80.0714285714, 74.80857142859999, 74.23, 76.7042857143, 81.2914285714, 76.33428571430001, 77.1414285714, 77.7314285714, 80.98, 78.9285714286, 79.6585714286, 79.7442857143, 77.8, 82.6014285714, 80.84, 79.7885714286, 78.2542857143, 80.7971428571, 82.7842857143, 79.7042857143, 77.3671428571, 80.53, 79.3557142857, 76.4357142857, 80.25, 77.5314285714, 77.5614285714, 78.08, 81.8257142857, 87.5757142857, 83.41, 77.30857142859999, 78.2328571429, 80.7971428571, 78.6885714286, 72.5771428571, 72.5771428571, 78.9428571429, 78.2642857143, 75.4228571429, 76.5228571429, 74.65, 73.7914285714, 79.0271428571, 77.7614285714, 72.30571428569999, 78.5471428571, 76.8714285714, 80.3657142857, 76.44571428569999, 77.06, 71.9542857143, 78.6028571429, 75.38571428569999, 81.7114285714, 83.8328571429, 83.55, 80.91428571430001, 80.1771428571, 81.5614285714, 78.2971428571, 78.4814285714, 79.1814285714, 79.9957142857, 77.4985714286, 81.8071428571, 79.02571428569999, 76.1714285714, 81.2642857143, 79.6842857143, 76.7114285714, 79.8657142857, 80.0328571429, 85.33, 76.4714285714, 78.4771428571, 80.66571428569999, 76.9228571429, 80.6557142857, 77.5328571429, 77.3114285714, 83.6285714286, 74.3028571429, 73.7571428571, 74.3257142857, 80.8885714286, 83.9528571429, 74.7785714286, 74.7785714286, 78.7985714286, 83.05571428569999, 78.5385714286, 78.64, 70.7957142857, 72.2457142857, 74.19142857140001, 78.6671428571, 77.3928571429, 73.58571428569999, 73.8671428571, 75.7371428571, 78.0028571429, 77.65, 77.2428571429, 81.7514285714, 78.9071428571, 75.69857142859999, 83.7628571429, 84.33571428569999, 82.63, 76.94, 81.5157142857, 79.7185714286, 80.0128571429, 79.3771428571, 80.5614285714, 79.4814285714, 82.4085714286, 79.6214285714, 79.2528571429, 77.74, 76.7342857143, 79.0814285714, 75.4385714286, 77.2728571429, 76.66142857140001, 79.0828571429, 78.3514285714, 82.2642857143, 82.39, 82.4228571429, 78.97, 79.3271428571, 79.9014285714, 77.2457142857, 78.6242857143, 71.4557142857, 75.0757142857, 77.3157142857, 76.5785714286, 74.50857142859999, 72.9285714286, 78.72, 74.8971428571, 72.8728571429, 76.9071428571, 78.4942857143, 73.41428571430001, 70.6971428571, 74.28, 73.21, 75.5271428571, 74.9842857143, 79.6028571429, 76.3328571429, 78.0242857143, 76.6042857143, 78.0985714286, 75.9271428571, 84.31, 78.4, 75.8114285714, 75.6, 75.92, 79.69571428569999, 82.16, 78.6042857143, 81.4771428571, 80.5385714286, 78.7728571429, 81.6457142857, 80.6542857143, 78.6271428571, 79.8142857143, 79.1542857143, 78.1242857143, 77.93, 75.8614285714, 76.9528571429, 74.7328571429, 76.0071428571, 79.41428571430001, 79.93, 81.08571428569999, 75.5685714286, 72.6842857143, 75.6, 76.8285714286, 74.4314285714, 78.6385714286, 75.24, 76.5285714286, 74.8114285714, 77.6471428571, 73.80428571430001, 72.76, 74.8, 75.7542857143, 73.9328571429, 78.1257142857, 75.0142857143, 74.02571428569999, 75.4385714286, 76.7842857143, 76.2142857143, 73.30142857140001, 74.8328571429, 81.1128571429, 82.08428571430001, 79.19428571430001, 76.76, 73.9814285714, 76.0228571429, 74.9628571429, 76.1628571429, 74.16, 76.3285714286, 74.9214285714, 75.24142857140001, 75.1428571429, 80.80857142859999, 74.2642857143, 77.7657142857, 78.64, 78.4614285714, 77.5642857143, 75.3457142857, 75.19571428569999, 75.97, 76.4057142857, 77.19, 79.1785714286, 73.8671428571, 73.66142857140001, 81.5942857143, 75.35, 77.4814285714, 78.52571428569999, 70.7271428571, 75.36857142859999, 78.0157142857, 80.1785714286, 75.44857142859999, 76.1485714286, 76.13142857140001, 75.6428571429, 77.1671428571, 73.5657142857, 70.6428571429, 74.22857142859999, 74.7857142857, 72.66, 74.6814285714, 71.9342857143, 72.91571428569999, 74.2471428571, 74.6, 75.0271428571, 72.2857142857, 76.96], \"yaxis\": \"y\"}, {\"line\": {\"color\": \"rgba(193,99,0,0.8)\"}, \"name\": \"station_avg_temp_c\", \"showlegend\": true, \"type\": \"scatter\", \"x\": [\"1990-04-30\", \"1990-05-07\", \"1990-05-14\", \"1990-05-21\", \"1990-05-28\", \"1990-06-04\", \"1990-06-11\", \"1990-06-18\", \"1990-06-25\", \"1990-07-02\", \"1990-07-09\", \"1990-07-16\", \"1990-07-23\", \"1990-07-30\", \"1990-08-06\", \"1990-08-13\", \"1990-08-20\", \"1990-08-27\", \"1990-09-03\", \"1990-09-10\", \"1990-09-17\", \"1990-09-24\", \"1990-10-01\", \"1990-10-08\", \"1990-10-15\", \"1990-10-22\", \"1990-10-29\", \"1990-11-05\", \"1990-11-12\", \"1990-11-19\", \"1990-11-26\", \"1990-12-03\", \"1990-12-10\", \"1990-12-17\", \"1990-12-24\", \"1991-01-01\", \"1991-01-08\", \"1991-01-15\", \"1991-01-22\", \"1991-01-29\", \"1991-02-05\", \"1991-02-12\", \"1991-02-19\", \"1991-02-26\", \"1991-03-05\", \"1991-03-12\", \"1991-03-19\", \"1991-03-26\", \"1991-04-02\", \"1991-04-09\", \"1991-04-16\", \"1991-04-23\", \"1991-04-30\", \"1991-05-07\", \"1991-05-14\", \"1991-05-21\", \"1991-05-28\", \"1991-06-04\", \"1991-06-11\", \"1991-06-18\", \"1991-06-25\", \"1991-07-02\", \"1991-07-09\", \"1991-07-16\", \"1991-07-23\", \"1991-07-30\", \"1991-08-06\", \"1991-08-13\", \"1991-08-20\", \"1991-08-27\", \"1991-09-03\", \"1991-09-10\", \"1991-09-17\", \"1991-09-24\", \"1991-10-01\", \"1991-10-08\", \"1991-10-15\", \"1991-10-22\", \"1991-10-29\", \"1991-11-05\", \"1991-11-12\", \"1991-11-19\", \"1991-11-26\", \"1991-12-03\", \"1991-12-10\", \"1991-12-17\", \"1991-12-24\", \"1992-01-01\", \"1992-01-08\", \"1992-01-15\", \"1992-01-22\", \"1992-01-29\", \"1992-02-05\", \"1992-02-12\", \"1992-02-19\", \"1992-02-26\", \"1992-03-04\", \"1992-03-11\", \"1992-03-18\", \"1992-03-25\", \"1992-04-01\", \"1992-04-08\", \"1992-04-15\", \"1992-04-22\", \"1992-04-29\", \"1992-05-06\", \"1992-05-13\", \"1992-05-20\", \"1992-05-27\", \"1992-06-03\", \"1992-06-10\", \"1992-06-17\", \"1992-06-24\", \"1992-07-01\", \"1992-07-08\", \"1992-07-15\", \"1992-07-22\", \"1992-07-29\", \"1992-08-05\", \"1992-08-12\", \"1992-08-19\", \"1992-08-26\", \"1992-09-02\", \"1992-09-09\", \"1992-09-16\", \"1992-09-23\", \"1992-09-30\", \"1992-10-07\", \"1992-10-14\", \"1992-10-21\", \"1992-10-28\", \"1992-11-04\", \"1992-11-11\", \"1992-11-18\", \"1992-11-25\", \"1992-12-02\", \"1992-12-09\", \"1992-12-16\", \"1992-12-23\", \"1993-01-01\", \"1993-01-08\", \"1993-01-15\", \"1993-01-22\", \"1993-01-29\", \"1993-02-05\", \"1993-02-12\", \"1993-02-19\", \"1993-02-26\", \"1993-03-05\", \"1993-03-12\", \"1993-03-19\", \"1993-03-26\", \"1993-04-02\", \"1993-04-09\", \"1993-04-16\", \"1993-04-23\", \"1993-04-30\", \"1993-05-07\", \"1993-05-14\", \"1993-05-21\", \"1993-05-28\", \"1993-06-04\", \"1993-06-11\", \"1993-06-18\", \"1993-06-25\", \"1993-07-02\", \"1993-07-09\", \"1993-07-16\", \"1993-07-23\", \"1993-07-30\", \"1993-08-06\", \"1993-08-13\", \"1993-08-20\", \"1993-08-27\", \"1993-09-03\", \"1993-09-10\", \"1993-09-17\", \"1993-09-24\", \"1993-10-01\", \"1993-10-08\", \"1993-10-15\", \"1993-10-22\", \"1993-10-29\", \"1993-11-05\", \"1993-11-12\", \"1993-11-19\", \"1993-11-26\", \"1993-12-03\", \"1993-12-10\", \"1993-12-17\", \"1993-12-24\", \"1994-01-01\", \"1994-01-08\", \"1994-01-15\", \"1994-01-22\", \"1994-01-29\", \"1994-02-05\", \"1994-02-12\", \"1994-02-19\", \"1994-02-26\", \"1994-03-05\", \"1994-03-12\", \"1994-03-19\", \"1994-03-26\", \"1994-04-02\", \"1994-04-09\", \"1994-04-16\", \"1994-04-23\", \"1994-04-30\", \"1994-05-07\", \"1994-05-14\", \"1994-05-21\", \"1994-05-28\", \"1994-06-04\", \"1994-06-11\", \"1994-06-18\", \"1994-06-25\", \"1994-07-02\", \"1994-07-09\", \"1994-07-16\", \"1994-07-23\", \"1994-07-30\", \"1994-08-06\", \"1994-08-13\", \"1994-08-20\", \"1994-08-27\", \"1994-09-03\", \"1994-09-10\", \"1994-09-17\", \"1994-09-24\", \"1994-10-01\", \"1994-10-08\", \"1994-10-15\", \"1994-10-22\", \"1994-10-29\", \"1994-11-05\", \"1994-11-12\", \"1994-11-19\", \"1994-11-26\", \"1994-12-03\", \"1994-12-10\", \"1994-12-17\", \"1994-12-24\", \"1995-01-01\", \"1995-01-08\", \"1995-01-15\", \"1995-01-22\", \"1995-01-29\", \"1995-02-05\", \"1995-02-12\", \"1995-02-19\", \"1995-02-26\", \"1995-03-05\", \"1995-03-12\", \"1995-03-19\", \"1995-03-26\", \"1995-04-02\", \"1995-04-09\", \"1995-04-16\", \"1995-04-23\", \"1995-04-30\", \"1995-05-07\", \"1995-05-14\", \"1995-05-21\", \"1995-05-28\", \"1995-06-04\", \"1995-06-11\", \"1995-06-18\", \"1995-06-25\", \"1995-07-02\", \"1995-07-09\", \"1995-07-16\", \"1995-07-23\", \"1995-07-30\", \"1995-08-06\", \"1995-08-13\", \"1995-08-20\", \"1995-08-27\", \"1995-09-03\", \"1995-09-10\", \"1995-09-17\", \"1995-09-24\", \"1995-10-01\", \"1995-10-08\", \"1995-10-15\", \"1995-10-22\", \"1995-10-29\", \"1995-11-05\", \"1995-11-12\", \"1995-11-19\", \"1995-11-26\", \"1995-12-03\", \"1995-12-10\", \"1995-12-17\", \"1995-12-24\", \"1996-01-01\", \"1996-01-08\", \"1996-01-15\", \"1996-01-22\", \"1996-01-29\", \"1996-02-05\", \"1996-02-12\", \"1996-02-19\", \"1996-02-26\", \"1996-03-04\", \"1996-03-11\", \"1996-03-18\", \"1996-03-25\", \"1996-04-01\", \"1996-04-08\", \"1996-04-15\", \"1996-04-22\", \"1996-04-29\", \"1996-05-06\", \"1996-05-13\", \"1996-05-20\", \"1996-05-27\", \"1996-06-03\", \"1996-06-10\", \"1996-06-17\", \"1996-06-24\", \"1996-07-01\", \"1996-07-08\", \"1996-07-15\", \"1996-07-22\", \"1996-07-29\", \"1996-08-05\", \"1996-08-12\", \"1996-08-19\", \"1996-08-26\", \"1996-09-02\", \"1996-09-09\", \"1996-09-16\", \"1996-09-23\", \"1996-09-30\", \"1996-10-07\", \"1996-10-14\", \"1996-10-21\", \"1996-10-28\", \"1996-11-04\", \"1996-11-11\", \"1996-11-18\", \"1996-11-25\", \"1996-12-02\", \"1996-12-09\", \"1996-12-16\", \"1996-12-23\", \"1997-01-01\", \"1997-01-08\", \"1997-01-15\", \"1997-01-22\", \"1997-01-29\", \"1997-02-05\", \"1997-02-12\", \"1997-02-19\", \"1997-02-26\", \"1997-03-05\", \"1997-03-12\", \"1997-03-19\", \"1997-03-26\", \"1997-04-02\", \"1997-04-09\", \"1997-04-16\", \"1997-04-23\", \"1997-04-30\", \"1997-05-07\", \"1997-05-14\", \"1997-05-21\", \"1997-05-28\", \"1997-06-04\", \"1997-06-11\", \"1997-06-18\", \"1997-06-25\", \"1997-07-02\", \"1997-07-09\", \"1997-07-16\", \"1997-07-23\", \"1997-07-30\", \"1997-08-06\", \"1997-08-13\", \"1997-08-20\", \"1997-08-27\", \"1997-09-03\", \"1997-09-10\", \"1997-09-17\", \"1997-09-24\", \"1997-10-01\", \"1997-10-08\", \"1997-10-15\", \"1997-10-22\", \"1997-10-29\", \"1997-11-05\", \"1997-11-12\", \"1997-11-19\", \"1997-11-26\", \"1997-12-03\", \"1997-12-10\", \"1997-12-17\", \"1997-12-24\", \"1998-01-01\", \"1998-01-08\", \"1998-01-15\", \"1998-01-22\", \"1998-01-29\", \"1998-02-05\", \"1998-02-12\", \"1998-02-19\", \"1998-02-26\", \"1998-03-05\", \"1998-03-12\", \"1998-03-19\", \"1998-03-26\", \"1998-04-02\", \"1998-04-09\", \"1998-04-16\", \"1998-04-23\", \"1998-04-30\", \"1998-05-07\", \"1998-05-14\", \"1998-05-21\", \"1998-05-28\", \"1998-06-04\", \"1998-06-11\", \"1998-06-18\", \"1998-06-25\", \"1998-07-02\", \"1998-07-09\", \"1998-07-16\", \"1998-07-23\", \"1998-07-30\", \"1998-08-06\", \"1998-08-13\", \"1998-08-20\", \"1998-08-27\", \"1998-09-03\", \"1998-09-10\", \"1998-09-17\", \"1998-09-24\", \"1998-10-01\", \"1998-10-08\", \"1998-10-15\", \"1998-10-22\", \"1998-10-29\", \"1998-11-05\", \"1998-11-12\", \"1998-11-19\", \"1998-11-26\", \"1998-12-03\", \"1998-12-10\", \"1998-12-17\", \"1998-12-24\", \"1999-01-01\", \"1999-01-08\", \"1999-01-15\", \"1999-01-22\", \"1999-01-29\", \"1999-02-05\", \"1999-02-12\", \"1999-02-19\", \"1999-02-26\", \"1999-03-05\", \"1999-03-12\", \"1999-03-19\", \"1999-03-26\", \"1999-04-02\", \"1999-04-09\", \"1999-04-16\", \"1999-04-23\", \"1999-04-30\", \"1999-05-07\", \"1999-05-14\", \"1999-05-21\", \"1999-05-28\", \"1999-06-04\", \"1999-06-11\", \"1999-06-18\", \"1999-06-25\", \"1999-07-02\", \"1999-07-09\", \"1999-07-16\", \"1999-07-23\", \"1999-07-30\", \"1999-08-06\", \"1999-08-13\", \"1999-08-20\", \"1999-08-27\", \"1999-09-03\", \"1999-09-10\", \"1999-09-17\", \"1999-09-24\", \"1999-10-01\", \"1999-10-08\", \"1999-10-15\", \"1999-10-22\", \"1999-10-29\", \"1999-11-05\", \"1999-11-12\", \"1999-11-19\", \"1999-11-26\", \"1999-12-03\", \"1999-12-10\", \"1999-12-17\", \"1999-12-24\", \"2000-01-01\", \"2000-01-08\", \"2000-01-15\", \"2000-01-22\", \"2000-01-29\", \"2000-02-05\", \"2000-02-12\", \"2000-02-19\", \"2000-02-26\", \"2000-03-04\", \"2000-03-11\", \"2000-03-18\", \"2000-03-25\", \"2000-04-01\", \"2000-04-08\", \"2000-04-15\", \"2000-04-22\", \"2000-04-29\", \"2000-05-06\", \"2000-05-13\", \"2000-05-20\", \"2000-05-27\", \"2000-06-03\", \"2000-06-10\", \"2000-06-17\", \"2000-06-24\", \"2000-07-01\", \"2000-07-08\", \"2000-07-15\", \"2000-07-22\", \"2000-07-29\", \"2000-08-05\", \"2000-08-12\", \"2000-08-19\", \"2000-08-26\", \"2000-09-02\", \"2000-09-09\", \"2000-09-16\", \"2000-09-23\", \"2000-09-30\", \"2000-10-07\", \"2000-10-14\", \"2000-10-21\", \"2000-10-28\", \"2000-11-04\", \"2000-11-11\", \"2000-11-18\", \"2000-11-25\", \"2000-12-02\", \"2000-12-09\", \"2000-12-16\", \"2000-12-23\", \"2001-01-01\", \"2001-01-08\", \"2001-01-15\", \"2001-01-22\", \"2001-01-29\", \"2001-02-05\", \"2001-02-12\", \"2001-02-19\", \"2001-02-26\", \"2001-03-05\", \"2001-03-12\", \"2001-03-19\", \"2001-03-26\", \"2001-04-02\", \"2001-04-09\", \"2001-04-16\", \"2001-04-23\", \"2001-04-30\", \"2001-05-07\", \"2001-05-14\", \"2001-05-21\", \"2001-05-28\", \"2001-06-04\", \"2001-06-11\", \"2001-06-18\", \"2001-06-25\", \"2001-07-02\", \"2001-07-09\", \"2001-07-16\", \"2001-07-23\", \"2001-07-30\", \"2001-08-06\", \"2001-08-13\", \"2001-08-20\", \"2001-08-27\", \"2001-09-03\", \"2001-09-10\", \"2001-09-17\", \"2001-09-24\", \"2001-10-01\", \"2001-10-08\", \"2001-10-15\", \"2001-10-22\", \"2001-10-29\", \"2001-11-05\", \"2001-11-12\", \"2001-11-19\", \"2001-11-26\", \"2001-12-03\", \"2001-12-10\", \"2001-12-17\", \"2001-12-24\", \"2002-01-01\", \"2002-01-08\", \"2002-01-15\", \"2002-01-22\", \"2002-01-29\", \"2002-02-05\", \"2002-02-12\", \"2002-02-19\", \"2002-02-26\", \"2002-03-05\", \"2002-03-12\", \"2002-03-19\", \"2002-03-26\", \"2002-04-02\", \"2002-04-09\", \"2002-04-16\", \"2002-04-23\", \"2002-04-30\", \"2002-05-07\", \"2002-05-14\", \"2002-05-21\", \"2002-05-28\", \"2002-06-04\", \"2002-06-11\", \"2002-06-18\", \"2002-06-25\", \"2002-07-02\", \"2002-07-09\", \"2002-07-16\", \"2002-07-23\", \"2002-07-30\", \"2002-08-06\", \"2002-08-13\", \"2002-08-20\", \"2002-08-27\", \"2002-09-03\", \"2002-09-10\", \"2002-09-17\", \"2002-09-24\", \"2002-10-01\", \"2002-10-08\", \"2002-10-15\", \"2002-10-22\", \"2002-10-29\", \"2002-11-05\", \"2002-11-12\", \"2002-11-19\", \"2002-11-26\", \"2002-12-03\", \"2002-12-10\", \"2002-12-17\", \"2002-12-24\", \"2003-01-01\", \"2003-01-08\", \"2003-01-15\", \"2003-01-22\", \"2003-01-29\", \"2003-02-05\", \"2003-02-12\", \"2003-02-19\", \"2003-02-26\", \"2003-03-05\", \"2003-03-12\", \"2003-03-19\", \"2003-03-26\", \"2003-04-02\", \"2003-04-09\", \"2003-04-16\", \"2003-04-23\", \"2003-04-30\", \"2003-05-07\", \"2003-05-14\", \"2003-05-21\", \"2003-05-28\", \"2003-06-04\", \"2003-06-11\", \"2003-06-18\", \"2003-06-25\", \"2003-07-02\", \"2003-07-09\", \"2003-07-16\", \"2003-07-23\", \"2003-07-30\", \"2003-08-06\", \"2003-08-13\", \"2003-08-20\", \"2003-08-27\", \"2003-09-03\", \"2003-09-10\", \"2003-09-17\", \"2003-09-24\", \"2003-10-01\", \"2003-10-08\", \"2003-10-15\", \"2003-10-22\", \"2003-10-29\", \"2003-11-05\", \"2003-11-12\", \"2003-11-19\", \"2003-11-26\", \"2003-12-03\", \"2003-12-10\", \"2003-12-17\", \"2003-12-24\", \"2004-01-01\", \"2004-01-08\", \"2004-01-15\", \"2004-01-22\", \"2004-01-29\", \"2004-02-05\", \"2004-02-12\", \"2004-02-19\", \"2004-02-26\", \"2004-03-04\", \"2004-03-11\", \"2004-03-18\", \"2004-03-25\", \"2004-04-01\", \"2004-04-08\", \"2004-04-15\", \"2004-04-22\", \"2004-04-29\", \"2004-05-06\", \"2004-05-13\", \"2004-05-20\", \"2004-05-27\", \"2004-06-03\", \"2004-06-10\", \"2004-06-17\", \"2004-06-24\", \"2004-07-01\", \"2004-07-08\", \"2004-07-15\", \"2004-07-22\", \"2004-07-29\", \"2004-08-05\", \"2004-08-12\", \"2004-08-19\", \"2004-08-26\", \"2004-09-02\", \"2004-09-09\", \"2004-09-16\", \"2004-09-23\", \"2004-09-30\", \"2004-10-07\", \"2004-10-14\", \"2004-10-21\", \"2004-10-28\", \"2004-11-04\", \"2004-11-11\", \"2004-11-18\", \"2004-11-25\", \"2004-12-02\", \"2004-12-09\", \"2004-12-16\", \"2004-12-23\", \"2005-01-01\", \"2005-01-08\", \"2005-01-15\", \"2005-01-22\", \"2005-01-29\", \"2005-02-05\", \"2005-02-12\", \"2005-02-19\", \"2005-02-26\", \"2005-03-05\", \"2005-03-12\", \"2005-03-19\", \"2005-03-26\", \"2005-04-02\", \"2005-04-09\", \"2005-04-16\", \"2005-04-23\", \"2005-04-30\", \"2005-05-07\", \"2005-05-14\", \"2005-05-21\", \"2005-05-28\", \"2005-06-04\", \"2005-06-11\", \"2005-06-18\", \"2005-06-25\", \"2005-07-02\", \"2005-07-09\", \"2005-07-16\", \"2005-07-23\", \"2005-07-30\", \"2005-08-06\", \"2005-08-13\", \"2005-08-20\", \"2005-08-27\", \"2005-09-03\", \"2005-09-10\", \"2005-09-17\", \"2005-09-24\", \"2005-10-01\", \"2005-10-08\", \"2005-10-15\", \"2005-10-22\", \"2005-10-29\", \"2005-11-05\", \"2005-11-12\", \"2005-11-19\", \"2005-11-26\", \"2005-12-03\", \"2005-12-10\", \"2005-12-17\", \"2005-12-24\", \"2006-01-01\", \"2006-01-08\", \"2006-01-15\", \"2006-01-22\", \"2006-01-29\", \"2006-02-05\", \"2006-02-12\", \"2006-02-19\", \"2006-02-26\", \"2006-03-05\", \"2006-03-12\", \"2006-03-19\", \"2006-03-26\", \"2006-04-02\", \"2006-04-09\", \"2006-04-16\", \"2006-04-23\", \"2006-04-30\", \"2006-05-07\", \"2006-05-14\", \"2006-05-21\", \"2006-05-28\", \"2006-06-04\", \"2006-06-11\", \"2006-06-18\", \"2006-06-25\", \"2006-07-02\", \"2006-07-09\", \"2006-07-16\", \"2006-07-23\", \"2006-07-30\", \"2006-08-06\", \"2006-08-13\", \"2006-08-20\", \"2006-08-27\", \"2006-09-03\", \"2006-09-10\", \"2006-09-17\", \"2006-09-24\", \"2006-10-01\", \"2006-10-08\", \"2006-10-15\", \"2006-10-22\", \"2006-10-29\", \"2006-11-05\", \"2006-11-12\", \"2006-11-19\", \"2006-11-26\", \"2006-12-03\", \"2006-12-10\", \"2006-12-17\", \"2006-12-24\", \"2007-01-01\", \"2007-01-08\", \"2007-01-15\", \"2007-01-22\", \"2007-01-29\", \"2007-02-05\", \"2007-02-12\", \"2007-02-19\", \"2007-02-26\", \"2007-03-05\", \"2007-03-12\", \"2007-03-19\", \"2007-03-26\", \"2007-04-02\", \"2007-04-09\", \"2007-04-16\", \"2007-04-23\", \"2007-04-30\", \"2007-05-07\", \"2007-05-14\", \"2007-05-21\", \"2007-05-28\", \"2007-06-04\", \"2007-06-11\", \"2007-06-18\", \"2007-06-25\", \"2007-07-02\", \"2007-07-09\", \"2007-07-16\", \"2007-07-23\", \"2007-07-30\", \"2007-08-06\", \"2007-08-13\", \"2007-08-20\", \"2007-08-27\", \"2007-09-03\", \"2007-09-10\", \"2007-09-17\", \"2007-09-24\", \"2007-10-01\", \"2007-10-08\", \"2007-10-15\", \"2007-10-22\", \"2007-10-29\", \"2007-11-05\", \"2007-11-12\", \"2007-11-19\", \"2007-11-26\", \"2007-12-03\", \"2007-12-10\", \"2007-12-17\", \"2007-12-24\", \"2008-01-01\", \"2008-01-08\", \"2008-01-15\", \"2008-01-22\", \"2008-01-29\", \"2008-02-05\", \"2008-02-12\", \"2008-02-19\", \"2008-02-26\", \"2008-03-04\", \"2008-03-11\", \"2008-03-18\", \"2008-03-25\", \"2008-04-01\", \"2008-04-08\", \"2008-04-15\", \"2008-04-22\"], \"xaxis\": \"x\", \"y\": [25.4428571429, 26.714285714299997, 26.714285714299997, 27.471428571399997, 28.9428571429, 28.1142857143, 27.4142857143, 28.3714285714, 28.3285714286, 28.3285714286, 27.5571428571, 28.1285714286, 28.1142857143, 28.2428571429, 28.2, 28.0428571429, 28.342857142899998, 28.657142857100002, 28.3285714286, 28.6857142857, 28.2428571429, 28.342857142899998, 28.771428571399998, 28.6285714286, 27.6285714286, 26.771428571399998, 27.971428571399997, 28.471428571399997, 27.5428571429, 26.8, 26.2, 25.985714285700002, 24.6857142857, 25.714285714299997, 25.157142857100002, 24.3857142857, 24.9142857143, 25.2428571429, 24.714285714299997, 24.8285714286, 25.0571428571, 25.1428571429, 25.842857142899998, 25.2571428571, 26.014285714299998, 25.9285714286, 26.0857142857, 26.0571428571, 25.2428571429, 25.3, 25.514285714299998, 26.528571428600003, 27.3142857143, 26.9285714286, 26.528571428600003, 27.3857142857, 27.9428571429, 28.0714285714, 28.228571428600002, 28.9285714286, 27.9142857143, 28.3714285714, 28.4142857143, 28.8, 28.0, 28.5714285714, 28.5, 29.4285714286, 29.271428571399998, 28.157142857100002, 28.9428571429, 28.971428571399997, 28.9142857143, 28.1428571429, 27.7428571429, 27.657142857100002, 28.5428571429, 27.8285714286, 28.1142857143, 27.1857142857, 26.657142857100002, 26.3142857143, 26.271428571399998, 26.728571428600002, 25.6142857143, 25.0, 24.3571428571, 25.657142857100002, 25.657142857100002, 25.471428571399997, 24.8571428571, 24.8, 24.714285714299997, 26.028571428600003, 25.7571428571, 25.285714285700003, 25.657142857100002, 25.785714285700003, 26.1, 26.2, 26.228571428600002, 26.985714285700002, 26.8142857143, 26.6714285714, 27.3714285714, 26.785714285700003, 27.4428571429, 27.8571428571, 27.4285714286, 27.5, 28.2, 28.285714285700003, 28.485714285700002, 29.228571428600002, 28.728571428600002, 27.6285714286, 27.5571428571, 27.971428571399997, 28.0714285714, 27.6714285714, 28.214285714299997, 28.271428571399998, 28.728571428600002, 28.028571428600003, 28.1428571429, 27.5571428571, 27.971428571399997, 28.8857142857, 29.157142857100002, 28.657142857100002, 28.6714285714, 28.3857142857, 27.5428571429, 26.6857142857, 27.4, 26.6285714286, 26.9142857143, 26.6857142857, 25.9142857143, 25.8714285714, 25.8714285714, 24.5, 24.8571428571, 24.4, 26.6714285714, 25.4285714286, 26.271428571399998, 25.7, 25.5714285714, 24.9, 26.9285714286, 26.1428571429, 26.8857142857, 27.2, 27.0714285714, 25.8714285714, 27.485714285700002, 26.9428571429, 26.471428571399997, 28.228571428600002, 28.9428571429, 27.6428571429, 29.9, 27.728571428600002, 27.342857142899998, 28.842857142899998, 28.2428571429, 27.8857142857, 28.5, 27.9428571429, 29.028571428600003, 29.028571428600003, 29.4142857143, 28.971428571399997, 28.657142857100002, 28.4285714286, 28.6, 28.157142857100002, 28.285714285700003, 28.014285714299998, 28.4, 28.2, 28.0714285714, 27.9, 27.6428571429, 27.1714285714, 26.8857142857, 26.785714285700003, 26.528571428600003, 26.228571428600002, 26.0428571429, 26.971428571399997, 25.5, 25.4571428571, 25.0857142857, 25.3285714286, 25.785714285700003, 25.2571428571, 25.7, 25.7428571429, 25.3142857143, 25.8857142857, 25.842857142899998, 26.728571428600002, 26.7, 26.4285714286, 25.971428571399997, 25.971428571399997, 26.6714285714, 27.7571428571, 27.4142857143, 27.714285714299997, 29.1, 28.5714285714, 28.228571428600002, 28.3285714286, 28.0714285714, 28.4, 27.9285714286, 28.1714285714, 28.2571428571, 28.514285714299998, 28.2571428571, 28.3857142857, 28.514285714299998, 28.5714285714, 29.4285714286, 29.285714285700003, 28.5571428571, 28.3714285714, 28.014285714299998, 28.714285714299997, 28.3285714286, 28.5714285714, 27.6714285714, 28.157142857100002, 27.3142857143, 27.285714285700003, 27.8571428571, 26.8857142857, 26.3714285714, 26.5857142857, 26.6428571429, 27.3142857143, 25.7, 25.771428571399998, 24.7571428571, 26.1285714286, 25.5, 26.0857142857, 26.6285714286, 25.9285714286, 25.2428571429, 25.5, 25.2571428571, 24.6285714286, 25.2428571429, 25.971428571399997, 27.285714285700003, 26.657142857100002, 26.3285714286, 27.842857142899998, 27.771428571399998, 26.9142857143, 27.228571428600002, 27.7, 27.3, 27.771428571399998, 28.842857142899998, 29.214285714299997, 29.657142857100002, 29.285714285700003, 29.228571428600002, 28.5571428571, 28.7, 29.0, 30.0714285714, 28.4285714286, 29.1142857143, 29.5714285714, 29.3714285714, 29.5857142857, 29.9571428571, 28.0571428571, 28.3857142857, 27.842857142899998, 27.471428571399997, 28.0428571429, 27.228571428600002, 27.157142857100002, 27.3142857143, 27.2, 27.014285714299998, 26.6142857143, 25.714285714299997, 25.1857142857, 26.2571428571, 25.971428571399997, 25.5857142857, 24.785714285700003, 25.157142857100002, 25.3142857143, 25.971428571399997, 25.5571428571, 25.5714285714, 26.2428571429, 26.2, 26.4, 25.9285714286, 26.228571428600002, 26.1285714286, 26.1285714286, 26.014285714299998, 25.4428571429, 25.842857142899998, 26.728571428600002, 28.1142857143, 27.8142857143, 26.9428571429, 26.4428571429, 27.6857142857, 27.9428571429, 28.014285714299998, 27.271428571399998, 27.514285714299998, 27.1714285714, 27.6714285714, 28.014285714299998, 26.785714285700003, 27.7571428571, 28.485714285700002, 27.9428571429, 27.0428571429, 27.8714285714, 27.4142857143, 27.285714285700003, 27.5714285714, 29.0428571429, 27.0428571429, 26.842857142899998, 26.157142857100002, 25.8714285714, 25.6142857143, 25.014285714299998, 24.8, 24.9571428571, 24.514285714299998, 26.6285714286, 24.6714285714, 24.3857142857, 24.9, 24.6285714286, 23.7, 24.5714285714, 24.6857142857, 24.471428571399997, 24.5714285714, 24.3571428571, 24.7428571429, 25.3142857143, 25.0857142857, 25.3571428571, 25.9, 27.6714285714, 27.771428571399998, 27.9285714286, 27.5714285714, 27.5857142857, 27.3142857143, 27.271428571399998, 28.6, 29.014285714299998, 28.657142857100002, 28.4142857143, 29.014285714299998, 28.6142857143, 27.9, 27.8285714286, 28.6428571429, 28.285714285700003, 28.4142857143, 27.985714285700002, 28.728571428600002, 28.9571428571, 28.9, 28.4, 27.5857142857, 28.5, 27.3571428571, 27.7, 28.3857142857, 27.7428571429, 27.342857142899998, 27.3285714286, 27.2571428571, 26.6714285714, 26.7571428571, 26.5714285714, 26.714285714299997, 26.3571428571, 26.3571428571, 24.8857142857, 25.6142857143, 26.5428571429, 26.5857142857, 27.2571428571, 24.4142857143, 26.271428571399998, 25.6142857143, 25.8142857143, 24.8857142857, 26.228571428600002, 25.714285714299997, 26.028571428600003, 26.9285714286, 25.6, 26.8714285714, 26.785714285700003, 27.1428571429, 27.9142857143, 27.971428571399997, 27.8571428571, 28.4285714286, 28.1, 28.214285714299997, 28.6142857143, 28.3857142857, 28.3857142857, 27.5571428571, 28.271428571399998, 28.4571428571, 29.0714285714, 29.214285714299997, 28.0428571429, 28.7571428571, 28.3285714286, 28.728571428600002, 27.771428571399998, 27.9142857143, 28.2571428571, 27.7571428571, 28.157142857100002, 27.714285714299997, 27.4285714286, 27.785714285700003, 26.728571428600002, 26.5571428571, 25.6428571429, 25.8142857143, 26.0714285714, 25.9285714286, 25.5714285714, 25.5714285714, 25.0714285714, 24.985714285700002, 24.8857142857, 24.1714285714, 23.4, 24.3285714286, 24.0428571429, 25.0, 24.9571428571, 24.8857142857, 25.6714285714, 25.7428571429, 25.6142857143, 25.3857142857, 26.9142857143, 26.6857142857, 28.228571428600002, 26.9571428571, 27.8285714286, 28.3857142857, 28.4142857143, 27.9142857143, 27.7, 27.214285714299997, 28.4428571429, 27.4, 27.271428571399998, 26.7, 28.1, 28.3714285714, 28.0857142857, 28.3714285714, 27.8571428571, 28.1857142857, 28.3, 28.4142857143, 28.4571428571, 28.714285714299997, 28.0, 27.1714285714, 26.7571428571, 27.6714285714, 27.4428571429, 26.8857142857, 26.714285714299997, 26.6, 26.1, 24.9285714286, 24.9428571429, 24.842857142899998, 25.471428571399997, 25.1285714286, 25.1142857143, 23.6142857143, 22.842857142899998, 25.1714285714, 24.9285714286, 25.2, 24.771428571399998, 24.528571428600003, 24.0, 25.0714285714, 24.8, 24.4, 25.5857142857, 25.971428571399997, 25.8, 26.9285714286, 27.1428571429, 26.6428571429, 26.6, 26.8142857143, 27.5571428571, 27.8571428571, 27.985714285700002, 27.4285714286, 27.771428571399998, 27.971428571399997, 28.271428571399998, 28.528571428600003, 28.3285714286, 28.214285714299997, 28.271428571399998, 28.6142857143, 28.728571428600002, 27.1857142857, 27.985714285700002, 28.1857142857, 27.7571428571, 27.528571428600003, 27.771428571399998, 27.8, 28.0571428571, 27.1428571429, 27.5428571429, 25.8714285714, 26.3285714286, 26.8714285714, 26.3, 26.8142857143, 25.9142857143, 25.3857142857, 25.1285714286, 25.3142857143, 25.0714285714, 24.9571428571, 25.2428571429, 25.0, 25.342857142899998, 24.7571428571, 24.8142857143, 24.7, 26.7, 26.3285714286, 26.0428571429, 27.0857142857, 26.271428571399998, 26.7, 27.2, 26.7571428571, 27.485714285700002, 27.8571428571, 28.8285714286, 28.471428571399997, 28.0714285714, 28.514285714299998, 27.728571428600002, 28.6285714286, 28.228571428600002, 28.342857142899998, 28.1142857143, 28.5857142857, 28.0571428571, 27.9285714286, 28.6428571429, 28.971428571399997, 28.271428571399998, 27.9, 28.3714285714, 28.0857142857, 27.971428571399997, 29.228571428600002, 28.4, 26.8571428571, 27.9142857143, 27.9428571429, 26.728571428600002, 26.5857142857, 26.528571428600003, 26.342857142899998, 25.285714285700003, 26.3142857143, 25.6, 25.6714285714, 25.528571428600003, 25.4571428571, 25.3285714286, 26.214285714299997, 25.657142857100002, 24.971428571399997, 25.4142857143, 25.785714285700003, 25.2, 25.4571428571, 25.842857142899998, 25.785714285700003, 26.7571428571, 26.228571428600002, 27.1142857143, 25.4571428571, 25.7, 26.4571428571, 26.4428571429, 26.1428571429, 27.714285714299997, 28.1714285714, 28.4428571429, 28.4571428571, 28.528571428600003, 27.5857142857, 28.342857142899998, 28.157142857100002, 28.285714285700003, 28.228571428600002, 28.485714285700002, 28.471428571399997, 28.7428571429, 28.0, 28.6428571429, 27.5, 29.157142857100002, 28.657142857100002, 28.2, 27.771428571399998, 27.9428571429, 27.5428571429, 27.985714285700002, 27.5428571429, 27.3857142857, 27.3142857143, 27.214285714299997, 26.985714285700002, 26.4285714286, 26.0714285714, 25.9285714286, 25.7, 25.0571428571, 25.4571428571, 25.728571428600002, 25.6857142857, 25.3285714286, 25.2, 25.4, 25.5857142857, 25.6285714286, 25.285714285700003, 26.5428571429, 26.4571428571, 26.9285714286, 26.7, 26.4, 26.4285714286, 25.3571428571, 26.9285714286, 27.6428571429, 26.9, 27.0571428571, 27.7571428571, 27.971428571399997, 27.4, 27.471428571399997, 28.028571428600003, 28.6428571429, 28.0428571429, 27.471428571399997, 28.1428571429, 27.8714285714, 28.0714285714, 27.9285714286, 28.1428571429, 27.9142857143, 27.6857142857, 28.728571428600002, 28.8714285714, 28.0428571429, 28.6, 28.1, 27.1285714286, 28.028571428600003, 27.8, 27.3714285714, 27.157142857100002, 26.3, 25.971428571399997, 26.1857142857, 25.6428571429, 25.842857142899998, 26.014285714299998, 24.3857142857, 24.3857142857, 24.342857142899998, 24.528571428600003, 24.6285714286, 24.985714285700002, 24.8857142857, 25.2, 24.1857142857, 25.157142857100002, 25.4285714286, 25.9142857143, 25.5571428571, 24.7, 25.4, 25.9571428571, 25.842857142899998, 26.157142857100002, 26.271428571399998, 26.728571428600002, 26.0428571429, 24.8142857143, 27.9571428571, 28.0428571429, 28.3285714286, 28.228571428600002, 28.342857142899998, 27.8285714286, 28.2428571429, 28.014285714299998, 28.0428571429, 28.528571428600003, 28.9428571429, 29.0, 29.0571428571, 28.6142857143, 28.985714285700002, 28.6428571429, 27.228571428600002, 29.1428571429, 28.285714285700003, 28.1285714286, 28.285714285700003, 27.5, 27.0571428571, 27.2428571429, 26.3285714286, 26.3285714286, 25.6428571429, 25.157142857100002, 26.271428571399998, 26.2428571429, 24.985714285700002, 24.985714285700002, 25.2, 25.228571428600002, 23.7571428571, 23.714285714299997, 23.3142857143, 23.4142857143, 24.485714285700002, 25.028571428600003, 26.014285714299998, 25.842857142899998, 26.4, 27.485714285700002, 27.3, 27.4, 28.1714285714, 26.785714285700003, 27.3714285714, 27.3, 26.271428571399998, 28.3857142857, 28.842857142899998, 28.728571428600002, 27.514285714299998, 30.028571428600003, 29.0428571429, 29.028571428600003, 28.4428571429, 28.3857142857, 28.9285714286, 28.9428571429, 29.471428571399997, 29.3285714286, 27.9285714286, 28.0857142857, 28.8571428571, 29.2428571429, 28.5857142857, 28.6285714286, 28.014285714299998, 27.014285714299998, 28.0428571429, 27.971428571399997, 27.9571428571, 27.8714285714, 27.157142857100002, 26.528571428600003, 26.228571428600002, 24.985714285700002, 25.4571428571, 24.6285714286, 25.8857142857, 24.657142857100002, 24.0571428571, 24.714285714299997, 24.285714285700003, 23.4142857143, 23.9142857143, 24.7428571429, 24.8571428571, 25.3, 25.528571428600003, 25.514285714299998, 25.6857142857, 26.657142857100002, 25.4285714286, 25.8571428571, 26.6857142857, 26.3142857143, 26.5, 25.9428571429, 27.8142857143, 29.028571428600003, 28.5857142857, 28.9142857143, 28.9428571429, 28.0714285714, 27.8714285714, 27.9428571429, 27.842857142899998, 27.485714285700002, 28.6, 27.8285714286, 27.4428571429, 28.6428571429, 27.985714285700002, 28.1285714286, 28.5428571429, 28.528571428600003, 28.8285714286, 28.9571428571, 28.8571428571, 28.7, 28.3571428571, 28.1142857143, 28.5, 27.985714285700002, 27.1857142857, 27.0428571429, 27.4142857143, 25.9428571429, 26.528571428600003, 25.9285714286, 25.3571428571, 25.0857142857, 24.971428571399997, 25.0, 25.0857142857, 25.6, 26.157142857100002, 26.4142857143, 25.6285714286, 26.5571428571, 26.714285714299997, 26.8571428571, 27.1285714286, 25.6, 26.3857142857, 27.728571428600002, 26.8714285714, 26.214285714299997, 27.3285714286, 29.0, 28.7571428571, 28.4571428571, 29.2, 28.5428571429, 29.014285714299998, 29.271428571399998, 28.842857142899998, 28.8714285714, 28.5714285714, 28.5714285714, 28.6285714286, 28.6142857143, 28.3857142857, 28.4571428571, 28.3857142857, 28.3142857143, 28.8714285714, 28.3, 28.1714285714, 27.985714285700002, 28.1285714286, 29.1, 27.9571428571, 26.2, 27.4428571429, 26.8142857143, 26.9, 25.4428571429, 25.842857142899998, 25.771428571399998, 25.0714285714, 25.0857142857, 25.4, 24.971428571399997, 24.4285714286, 24.528571428600003, 24.5714285714, 24.214285714299997, 24.8, 24.9, 24.7428571429, 25.1142857143, 25.3285714286, 25.2, 25.0428571429, 26.2428571429, 25.0, 25.3142857143, 27.0428571429], \"yaxis\": \"y\"}],\n",
              "                        {\"autosize\": false, \"height\": 600, \"template\": {\"data\": {\"bar\": [{\"error_x\": {\"color\": \"#2a3f5f\"}, \"error_y\": {\"color\": \"#2a3f5f\"}, \"marker\": {\"line\": {\"color\": \"#E5ECF6\", \"width\": 0.5}}, \"type\": \"bar\"}], \"barpolar\": [{\"marker\": {\"line\": {\"color\": \"#E5ECF6\", \"width\": 0.5}}, \"type\": \"barpolar\"}], \"carpet\": [{\"aaxis\": {\"endlinecolor\": \"#2a3f5f\", \"gridcolor\": \"white\", \"linecolor\": \"white\", \"minorgridcolor\": \"white\", \"startlinecolor\": \"#2a3f5f\"}, \"baxis\": {\"endlinecolor\": \"#2a3f5f\", \"gridcolor\": \"white\", \"linecolor\": \"white\", \"minorgridcolor\": \"white\", \"startlinecolor\": \"#2a3f5f\"}, \"type\": \"carpet\"}], \"choropleth\": [{\"colorbar\": {\"outlinewidth\": 0, \"ticks\": \"\"}, \"type\": \"choropleth\"}], \"contour\": [{\"colorbar\": {\"outlinewidth\": 0, \"ticks\": \"\"}, \"colorscale\": [[0.0, \"#0d0887\"], [0.1111111111111111, \"#46039f\"], [0.2222222222222222, \"#7201a8\"], [0.3333333333333333, \"#9c179e\"], [0.4444444444444444, \"#bd3786\"], [0.5555555555555556, \"#d8576b\"], [0.6666666666666666, \"#ed7953\"], [0.7777777777777778, \"#fb9f3a\"], [0.8888888888888888, \"#fdca26\"], [1.0, \"#f0f921\"]], \"type\": \"contour\"}], \"contourcarpet\": [{\"colorbar\": {\"outlinewidth\": 0, \"ticks\": \"\"}, \"type\": \"contourcarpet\"}], \"heatmap\": [{\"colorbar\": {\"outlinewidth\": 0, \"ticks\": \"\"}, \"colorscale\": [[0.0, \"#0d0887\"], [0.1111111111111111, \"#46039f\"], [0.2222222222222222, \"#7201a8\"], [0.3333333333333333, \"#9c179e\"], [0.4444444444444444, \"#bd3786\"], [0.5555555555555556, \"#d8576b\"], [0.6666666666666666, \"#ed7953\"], [0.7777777777777778, \"#fb9f3a\"], [0.8888888888888888, \"#fdca26\"], [1.0, \"#f0f921\"]], \"type\": \"heatmap\"}], \"heatmapgl\": [{\"colorbar\": {\"outlinewidth\": 0, \"ticks\": \"\"}, \"colorscale\": [[0.0, \"#0d0887\"], [0.1111111111111111, \"#46039f\"], [0.2222222222222222, \"#7201a8\"], [0.3333333333333333, \"#9c179e\"], [0.4444444444444444, \"#bd3786\"], [0.5555555555555556, \"#d8576b\"], [0.6666666666666666, \"#ed7953\"], [0.7777777777777778, \"#fb9f3a\"], [0.8888888888888888, \"#fdca26\"], [1.0, \"#f0f921\"]], \"type\": \"heatmapgl\"}], \"histogram\": [{\"marker\": {\"colorbar\": {\"outlinewidth\": 0, \"ticks\": \"\"}}, \"type\": \"histogram\"}], \"histogram2d\": [{\"colorbar\": {\"outlinewidth\": 0, \"ticks\": \"\"}, \"colorscale\": [[0.0, \"#0d0887\"], [0.1111111111111111, \"#46039f\"], [0.2222222222222222, \"#7201a8\"], [0.3333333333333333, \"#9c179e\"], [0.4444444444444444, \"#bd3786\"], [0.5555555555555556, \"#d8576b\"], [0.6666666666666666, \"#ed7953\"], [0.7777777777777778, \"#fb9f3a\"], [0.8888888888888888, \"#fdca26\"], [1.0, \"#f0f921\"]], \"type\": \"histogram2d\"}], \"histogram2dcontour\": [{\"colorbar\": {\"outlinewidth\": 0, \"ticks\": \"\"}, \"colorscale\": [[0.0, \"#0d0887\"], [0.1111111111111111, \"#46039f\"], [0.2222222222222222, \"#7201a8\"], [0.3333333333333333, \"#9c179e\"], [0.4444444444444444, \"#bd3786\"], [0.5555555555555556, \"#d8576b\"], [0.6666666666666666, \"#ed7953\"], [0.7777777777777778, \"#fb9f3a\"], [0.8888888888888888, \"#fdca26\"], [1.0, \"#f0f921\"]], \"type\": \"histogram2dcontour\"}], \"mesh3d\": [{\"colorbar\": {\"outlinewidth\": 0, \"ticks\": \"\"}, \"type\": \"mesh3d\"}], \"parcoords\": [{\"line\": {\"colorbar\": {\"outlinewidth\": 0, \"ticks\": \"\"}}, \"type\": \"parcoords\"}], \"pie\": [{\"automargin\": true, \"type\": \"pie\"}], \"scatter\": [{\"marker\": {\"colorbar\": {\"outlinewidth\": 0, \"ticks\": \"\"}}, \"type\": \"scatter\"}], \"scatter3d\": [{\"line\": {\"colorbar\": {\"outlinewidth\": 0, \"ticks\": \"\"}}, \"marker\": {\"colorbar\": {\"outlinewidth\": 0, \"ticks\": \"\"}}, \"type\": \"scatter3d\"}], \"scattercarpet\": [{\"marker\": {\"colorbar\": {\"outlinewidth\": 0, \"ticks\": \"\"}}, \"type\": \"scattercarpet\"}], \"scattergeo\": [{\"marker\": {\"colorbar\": {\"outlinewidth\": 0, \"ticks\": \"\"}}, \"type\": \"scattergeo\"}], \"scattergl\": [{\"marker\": {\"colorbar\": {\"outlinewidth\": 0, \"ticks\": \"\"}}, \"type\": \"scattergl\"}], \"scattermapbox\": [{\"marker\": {\"colorbar\": {\"outlinewidth\": 0, \"ticks\": \"\"}}, \"type\": \"scattermapbox\"}], \"scatterpolar\": [{\"marker\": {\"colorbar\": {\"outlinewidth\": 0, \"ticks\": \"\"}}, \"type\": \"scatterpolar\"}], \"scatterpolargl\": [{\"marker\": {\"colorbar\": {\"outlinewidth\": 0, \"ticks\": \"\"}}, \"type\": \"scatterpolargl\"}], \"scatterternary\": [{\"marker\": {\"colorbar\": {\"outlinewidth\": 0, \"ticks\": \"\"}}, \"type\": \"scatterternary\"}], \"surface\": [{\"colorbar\": {\"outlinewidth\": 0, \"ticks\": \"\"}, \"colorscale\": [[0.0, \"#0d0887\"], [0.1111111111111111, \"#46039f\"], [0.2222222222222222, \"#7201a8\"], [0.3333333333333333, \"#9c179e\"], [0.4444444444444444, \"#bd3786\"], [0.5555555555555556, \"#d8576b\"], [0.6666666666666666, \"#ed7953\"], [0.7777777777777778, \"#fb9f3a\"], [0.8888888888888888, \"#fdca26\"], [1.0, \"#f0f921\"]], \"type\": \"surface\"}], \"table\": [{\"cells\": {\"fill\": {\"color\": \"#EBF0F8\"}, \"line\": {\"color\": \"white\"}}, \"header\": {\"fill\": {\"color\": \"#C8D4E3\"}, \"line\": {\"color\": \"white\"}}, \"type\": \"table\"}]}, \"layout\": {\"annotationdefaults\": {\"arrowcolor\": \"#2a3f5f\", \"arrowhead\": 0, \"arrowwidth\": 1}, \"coloraxis\": {\"colorbar\": {\"outlinewidth\": 0, \"ticks\": \"\"}}, \"colorscale\": {\"diverging\": [[0, \"#8e0152\"], [0.1, \"#c51b7d\"], [0.2, \"#de77ae\"], [0.3, \"#f1b6da\"], [0.4, \"#fde0ef\"], [0.5, \"#f7f7f7\"], [0.6, \"#e6f5d0\"], [0.7, \"#b8e186\"], [0.8, \"#7fbc41\"], [0.9, \"#4d9221\"], [1, \"#276419\"]], \"sequential\": [[0.0, \"#0d0887\"], [0.1111111111111111, \"#46039f\"], [0.2222222222222222, \"#7201a8\"], [0.3333333333333333, \"#9c179e\"], [0.4444444444444444, \"#bd3786\"], [0.5555555555555556, \"#d8576b\"], [0.6666666666666666, \"#ed7953\"], [0.7777777777777778, \"#fb9f3a\"], [0.8888888888888888, \"#fdca26\"], [1.0, \"#f0f921\"]], \"sequentialminus\": [[0.0, \"#0d0887\"], [0.1111111111111111, \"#46039f\"], [0.2222222222222222, \"#7201a8\"], [0.3333333333333333, \"#9c179e\"], [0.4444444444444444, \"#bd3786\"], [0.5555555555555556, \"#d8576b\"], [0.6666666666666666, \"#ed7953\"], [0.7777777777777778, \"#fb9f3a\"], [0.8888888888888888, \"#fdca26\"], [1.0, \"#f0f921\"]]}, \"colorway\": [\"#636efa\", \"#EF553B\", \"#00cc96\", \"#ab63fa\", \"#FFA15A\", \"#19d3f3\", \"#FF6692\", \"#B6E880\", \"#FF97FF\", \"#FECB52\"], \"font\": {\"color\": \"#2a3f5f\"}, \"geo\": {\"bgcolor\": \"white\", \"lakecolor\": \"white\", \"landcolor\": \"#E5ECF6\", \"showlakes\": true, \"showland\": true, \"subunitcolor\": \"white\"}, \"hoverlabel\": {\"align\": \"left\"}, \"hovermode\": \"closest\", \"mapbox\": {\"style\": \"light\"}, \"paper_bgcolor\": \"white\", \"plot_bgcolor\": \"#E5ECF6\", \"polar\": {\"angularaxis\": {\"gridcolor\": \"white\", \"linecolor\": \"white\", \"ticks\": \"\"}, \"bgcolor\": \"#E5ECF6\", \"radialaxis\": {\"gridcolor\": \"white\", \"linecolor\": \"white\", \"ticks\": \"\"}}, \"scene\": {\"xaxis\": {\"backgroundcolor\": \"#E5ECF6\", \"gridcolor\": \"white\", \"gridwidth\": 2, \"linecolor\": \"white\", \"showbackground\": true, \"ticks\": \"\", \"zerolinecolor\": \"white\"}, \"yaxis\": {\"backgroundcolor\": \"#E5ECF6\", \"gridcolor\": \"white\", \"gridwidth\": 2, \"linecolor\": \"white\", \"showbackground\": true, \"ticks\": \"\", \"zerolinecolor\": \"white\"}, \"zaxis\": {\"backgroundcolor\": \"#E5ECF6\", \"gridcolor\": \"white\", \"gridwidth\": 2, \"linecolor\": \"white\", \"showbackground\": true, \"ticks\": \"\", \"zerolinecolor\": \"white\"}}, \"shapedefaults\": {\"line\": {\"color\": \"#2a3f5f\"}}, \"ternary\": {\"aaxis\": {\"gridcolor\": \"white\", \"linecolor\": \"white\", \"ticks\": \"\"}, \"baxis\": {\"gridcolor\": \"white\", \"linecolor\": \"white\", \"ticks\": \"\"}, \"bgcolor\": \"#E5ECF6\", \"caxis\": {\"gridcolor\": \"white\", \"linecolor\": \"white\", \"ticks\": \"\"}}, \"title\": {\"x\": 0.05}, \"xaxis\": {\"automargin\": true, \"gridcolor\": \"white\", \"linecolor\": \"white\", \"ticks\": \"\", \"title\": {\"standoff\": 15}, \"zerolinecolor\": \"white\", \"zerolinewidth\": 2}, \"yaxis\": {\"automargin\": true, \"gridcolor\": \"white\", \"linecolor\": \"white\", \"ticks\": \"\", \"title\": {\"standoff\": 15}, \"zerolinecolor\": \"white\", \"zerolinewidth\": 2}}}, \"title\": {\"text\": \"Adatok\"}, \"width\": 1200, \"xaxis\": {\"anchor\": \"y\", \"domain\": [0.0, 1.0]}, \"yaxis\": {\"anchor\": \"x\", \"domain\": [0.0, 1.0]}},\n",
              "                        {\"responsive\": true}\n",
              "                    ).then(function(){\n",
              "                            \n",
              "var gd = document.getElementById('bcb65145-a06c-4626-8ba5-6c7a19541cde');\n",
              "var x = new MutationObserver(function (mutations, observer) {{\n",
              "        var display = window.getComputedStyle(gd).display;\n",
              "        if (!display || display === 'none') {{\n",
              "            console.log([gd, 'removed!']);\n",
              "            Plotly.purge(gd);\n",
              "            observer.disconnect();\n",
              "        }}\n",
              "}});\n",
              "\n",
              "// Listen for the removal of the full notebook cells\n",
              "var notebookContainer = gd.closest('#notebook-container');\n",
              "if (notebookContainer) {{\n",
              "    x.observe(notebookContainer, {childList: true});\n",
              "}}\n",
              "\n",
              "// Listen for the clearing of the current output cell\n",
              "var outputEl = gd.closest('.output');\n",
              "if (outputEl) {{\n",
              "    x.observe(outputEl, {childList: true});\n",
              "}}\n",
              "\n",
              "                        })\n",
              "                };\n",
              "                \n",
              "            </script>\n",
              "        </div>\n",
              "</body>\n",
              "</html>"
            ]
          },
          "metadata": {
            "tags": []
          }
        }
      ]
    },
    {
      "cell_type": "code",
      "metadata": {
        "id": "w1VRyWOFkoUg",
        "colab": {
          "base_uri": "https://localhost:8080/"
        },
        "outputId": "146d0c39-4144-4130-9886-162a923c6ed8"
      },
      "source": [
        "import matplotlib.pyplot as plt\n",
        "from matplotlib.pyplot import figure\n",
        "\n",
        "\n",
        "from statsmodels.tsa.seasonal import  seasonal_decompose\n",
        "\n",
        "import matplotlib as mpl"
      ],
      "execution_count": 25,
      "outputs": [
        {
          "output_type": "stream",
          "text": [
            "/usr/local/lib/python3.7/dist-packages/statsmodels/tools/_testing.py:19: FutureWarning:\n",
            "\n",
            "pandas.util.testing is deprecated. Use the functions in the public API at pandas.testing instead.\n",
            "\n"
          ],
          "name": "stderr"
        }
      ]
    },
    {
      "cell_type": "code",
      "metadata": {
        "id": "IORDwbKrisCg",
        "colab": {
          "base_uri": "https://localhost:8080/",
          "height": 542
        },
        "outputId": "fe00a582-1d45-439a-cce0-8ff7937e8c72"
      },
      "source": [
        "import plotly.express as px\n",
        "from plotly.subplots import make_subplots\n",
        "import plotly.graph_objects as go\n",
        "\n",
        "df=X_train_sj\n",
        "\n",
        "data1 = seasonal_decompose(df[\"total_cases\"][0:-1].values,model=\"additive\", freq=51,) # 5 percenként vannak a minták\n",
        "  \n",
        "\n",
        "fig2 = make_subplots(rows=4, cols=1,shared_xaxes=True)\n",
        "fig2.add_trace(\n",
        "    go.Scatter(x=df.index[0:-1], y=data1.resid,name=\"Residual\" ),\n",
        "\n",
        "    row=1, col=1\n",
        ")\n",
        "fig2.add_trace(\n",
        "    go.Scatter( x=df.index[0:-1], y=data1.trend,name=\"Trend\"),\n",
        "\n",
        "    row=2, col=1\n",
        ")\n",
        "fig2.add_trace(\n",
        "    go.Scatter( x=df.index[0:-1], y=data1.seasonal,name=\"Seasonal\"),\n",
        "\n",
        "    row=3, col=1\n",
        ")\n",
        "\n",
        "fig2.add_trace(\n",
        "    go.Scatter( x=df.index[0:-1], y=data1.observed,name=\"Observed\"),\n",
        "\n",
        "    row=4, col=1\n",
        ")\n",
        "\n",
        "fig2.update_layout(\n",
        "    font_family=\"Courier New\",\n",
        "    font_color=\"blue\",\n",
        "    title_font_family=\"Times New Roman\",\n",
        "    title_font_color=\"red\",\n",
        ")\n",
        "\n",
        "fig2.show()\n",
        "\n"
      ],
      "execution_count": 26,
      "outputs": [
        {
          "output_type": "display_data",
          "data": {
            "text/html": [
              "<html>\n",
              "<head><meta charset=\"utf-8\" /></head>\n",
              "<body>\n",
              "    <div>\n",
              "            <script src=\"https://cdnjs.cloudflare.com/ajax/libs/mathjax/2.7.5/MathJax.js?config=TeX-AMS-MML_SVG\"></script><script type=\"text/javascript\">if (window.MathJax) {MathJax.Hub.Config({SVG: {font: \"STIX-Web\"}});}</script>\n",
              "                <script type=\"text/javascript\">window.PlotlyConfig = {MathJaxConfig: 'local'};</script>\n",
              "        <script src=\"https://cdn.plot.ly/plotly-latest.min.js\"></script>    \n",
              "            <div id=\"9d661844-2771-4172-a1ee-05d6457233cd\" class=\"plotly-graph-div\" style=\"height:525px; width:100%;\"></div>\n",
              "            <script type=\"text/javascript\">\n",
              "                \n",
              "                    window.PLOTLYENV=window.PLOTLYENV || {};\n",
              "                    \n",
              "                if (document.getElementById(\"9d661844-2771-4172-a1ee-05d6457233cd\")) {\n",
              "                    Plotly.newPlot(\n",
              "                        '9d661844-2771-4172-a1ee-05d6457233cd',\n",
              "                        [{\"name\": \"Residual\", \"type\": \"scatter\", \"x\": [0, 1, 2, 3, 4, 5, 6, 7, 8, 9, 10, 11, 12, 13, 14, 15, 16, 17, 18, 19, 20, 21, 22, 23, 24, 25, 26, 27, 28, 29, 30, 31, 32, 33, 34, 35, 36, 37, 38, 39, 40, 41, 42, 43, 44, 45, 46, 47, 48, 49, 50, 51, 52, 53, 54, 55, 56, 57, 58, 59, 60, 61, 62, 63, 64, 65, 66, 67, 68, 69, 70, 71, 72, 73, 74, 75, 76, 77, 78, 79, 80, 81, 82, 83, 84, 85, 86, 87, 88, 89, 90, 91, 92, 93, 94, 95, 96, 97, 98, 99, 100, 101, 102, 103, 104, 105, 106, 107, 108, 109, 110, 111, 112, 113, 114, 115, 116, 117, 118, 119, 120, 121, 122, 123, 124, 125, 126, 127, 128, 129, 130, 131, 132, 133, 134, 135, 136, 137, 138, 139, 140, 141, 142, 143, 144, 145, 146, 147, 148, 149, 150, 151, 152, 153, 154, 155, 156, 157, 158, 159, 160, 161, 162, 163, 164, 165, 166, 167, 168, 169, 170, 171, 172, 173, 174, 175, 176, 177, 178, 179, 180, 181, 182, 183, 184, 185, 186, 187, 188, 189, 190, 191, 192, 193, 194, 195, 196, 197, 198, 199, 200, 201, 202, 203, 204, 205, 206, 207, 208, 209, 210, 211, 212, 213, 214, 215, 216, 217, 218, 219, 220, 221, 222, 223, 224, 225, 226, 227, 228, 229, 230, 231, 232, 233, 234, 235, 236, 237, 238, 239, 240, 241, 242, 243, 244, 245, 246, 247, 248, 249, 250, 251, 252, 253, 254, 255, 256, 257, 258, 259, 260, 261, 262, 263, 264, 265, 266, 267, 268, 269, 270, 271, 272, 273, 274, 275, 276, 277, 278, 279, 280, 281, 282, 283, 284, 285, 286, 287, 288, 289, 290, 291, 292, 293, 294, 295, 296, 297, 298, 299, 300, 301, 302, 303, 304, 305, 306, 307, 308, 309, 310, 311, 312, 313, 314, 315, 316, 317, 318, 319, 320, 321, 322, 323, 324, 325, 326, 327, 328, 329, 330, 331, 332, 333, 334, 335, 336, 337, 338, 339, 340, 341, 342, 343, 344, 345, 346, 347, 348, 349, 350, 351, 352, 353, 354, 355, 356, 357, 358, 359, 360, 361, 362, 363, 364, 365, 366, 367, 368, 369, 370, 371, 372, 373, 374, 375, 376, 377, 378, 379, 380, 381, 382, 383, 384, 385, 386, 387, 388, 389, 390, 391, 392, 393, 394, 395, 396, 397, 398, 399, 400, 401, 402, 403, 404, 405, 406, 407, 408, 409, 410, 411, 412, 413, 414, 415, 416, 417, 418, 419, 420, 421, 422, 423, 424, 425, 426, 427, 428, 429, 430, 431, 432, 433, 434, 435, 436, 437, 438, 439, 440, 441, 442, 443, 444, 445, 446, 447, 448, 449, 450, 451, 452, 453, 454, 455, 456, 457, 458, 459, 460, 461, 462, 463, 464, 465, 466, 467, 468, 469, 470, 471, 472, 473, 474, 475, 476, 477, 478, 479, 480, 481, 482, 483, 484, 485, 486, 487, 488, 489, 490, 491, 492, 493, 494, 495, 496, 497, 498, 499, 500, 501, 502, 503, 504, 505, 506, 507, 508, 509, 510, 511, 512, 513, 514, 515, 516, 517, 518, 519, 520, 521, 522, 523, 524, 525, 526, 527, 528, 529, 530, 531, 532, 533, 534, 535, 536, 537, 538, 539, 540, 541, 542, 543, 544, 545, 546, 547, 548, 549, 550, 551, 552, 553, 554, 555, 556, 557, 558, 559, 560, 561, 562, 563, 564, 565, 566, 567, 568, 569, 570, 571, 572, 573, 574, 575, 576, 577, 578, 579, 580, 581, 582, 583, 584, 585, 586, 587, 588, 589, 590, 591, 592, 593, 594, 595, 596, 597, 598, 599, 600, 601, 602, 603, 604, 605, 606, 607, 608, 609, 610, 611, 612, 613, 614, 615, 616, 617, 618, 619, 620, 621, 622, 623, 624, 625, 626, 627, 628, 629, 630, 631, 632, 633, 634, 635, 636, 637, 638, 639, 640, 641, 642, 643, 644, 645, 646, 647, 648, 649, 650, 651, 652, 653, 654, 655, 656, 657, 658, 659, 660, 661, 662, 663, 664, 665, 666, 667, 668, 669, 670, 671, 672, 673, 674, 675, 676, 677, 678, 679, 680, 681, 682, 683, 684, 685, 686, 687, 688, 689, 690, 691, 692, 693, 694, 695, 696, 697, 698, 699, 700, 701, 702, 703, 704, 705, 706, 707, 708, 709, 710, 711, 712, 713, 714, 715, 716, 717, 718, 719, 720, 721, 722, 723, 724, 725, 726, 727, 728, 729, 730, 731, 732, 733, 734, 735, 736, 737, 738, 739, 740, 741, 742, 743, 744, 745, 746, 747, 748, 749, 750, 751, 752, 753, 754, 755, 756, 757, 758, 759, 760, 761, 762, 763, 764, 765, 766, 767, 768, 769, 770, 771, 772, 773, 774, 775, 776, 777, 778, 779, 780, 781, 782, 783, 784, 785, 786, 787, 788, 789, 790, 791, 792, 793, 794, 795, 796, 797, 798, 799, 800, 801, 802, 803, 804, 805, 806, 807, 808, 809, 810, 811, 812, 813, 814, 815, 816, 817, 818, 819, 820, 821, 822, 823, 824, 825, 826, 827, 828, 829, 830, 831, 832, 833, 834, 835, 836, 837, 838, 839, 840, 841, 842, 843, 844, 845, 846, 847, 848, 849, 850, 851, 852, 853, 854, 855, 856, 857, 858, 859, 860, 861, 862, 863, 864, 865, 866, 867, 868, 869, 870, 871, 872, 873, 874, 875, 876, 877, 878, 879, 880, 881, 882, 883, 884, 885, 886, 887, 888, 889, 890, 891, 892, 893, 894, 895, 896, 897, 898, 899, 900, 901, 902, 903, 904, 905, 906, 907, 908, 909, 910, 911, 912, 913, 914, 915, 916, 917, 918, 919, 920, 921, 922, 923, 924, 925, 926, 927, 928, 929, 930, 931, 932, 933, 934], \"xaxis\": \"x\", \"y\": [null, null, null, null, null, null, null, null, null, null, null, null, null, null, null, null, null, null, null, null, null, null, null, null, null, -9.1017632735524, 4.399326051066328, 19.952702957384425, -9.69326654152625, 4.156406661088127, 0.6934436981251579, -9.33161076810579, -14.90568484217986, -31.44054322997941, -29.076708807321467, -26.535314471809475, -22.807645626493578, -15.87627307747397, -5.0592796134216815, -6.96886567006656, -20.30764562649358, -15.003724057866126, -3.3435933389118757, -7.062291275602893, -0.6101574809085459, -6.069211690827803, -6.535186315971983, -6.581322417471409, -6.765866823469107, -6.289511575487554, 3.0334411350084167, -5.627458518970823, -4.653986777332996, -10.227227838463335, -6.290664978025049, -12.934263593941996, -11.208773397863578, -6.420999464760918, -7.408312036848564, -16.370249753111544, -13.118807999939694, -19.31603983384972, -19.4463743205856, -18.177631529351466, -13.668981010320312, -14.456754943422961, 19.169542634431707, 14.132633753232168, 25.04497516038326, 12.256047824743126, 8.895032830510136, 8.258354629818097, 19.59053456061395, 12.193764087718915, 58.46942729417796, 31.583614145389024, 55.15313868723191, 35.654228011850634, 48.32525197699227, 45.60085110553258, 34.48973999442146, 35.791482913811436, 66.86446766326675, 38.56490339311426, 10.382986181785284, -18.292395081831273, -17.672569373770262, -3.1605868029641684, 21.672746530369167, 10.528955680695974, 0.6781931534628427, -22.75862601865044, -19.964508371591624, -1.0102600055785365, -27.885820687367602, -18.335647676986973, 2.1660824268192513, -16.73126474734454, -17.09112633904004, -23.942337411704397, -17.995393928428733, -14.162637296364139, -14.019615381715926, -16.595163247921235, -13.266443524737838, -5.820076742730926, -5.444067515510614, -8.365636142961602, -5.89158770005502, -6.4475277231230805, -4.8604458315429255, 1.881192000060306, 5.311411146542433, 8.3379394049046, 5.5870743530014835, 5.331018989679695, 10.602068585988807, 11.404836752078772, 7.426751400290987, 0.7116418270499256, 20.432518412978418, 26.895032830510136, 31.983844825896522, 21.139554168457078, 20.546705264189494, 15.430211607903448, 4.269888655192954, -5.591959351983782, 11.575796639301618, -1.3021990033998918, -7.457972423879198, -18.00045608400992, -28.208517086188568, -23.723767630850887, -10.807645626493581, -6.009170680959805, -11.547297042615583, -19.496098785534965, -20.533135822572014, -18.993920136297504, -13.804377652637369, -22.43945390536068, -10.425292685317109, -5.78803778335632, 2.852485092460669, -5.670134412857796, -9.865059441692859, -9.755486200631726, -0.5940098453837512, -1.6401459468831767, -5.9423374117044006, -4.524805693134619, -0.9273431787170772, -1.941184009166907, 0.4832681246277879, 2.8904192203601973, 9.081884041582796, 15.987305033508981, 7.026520719783488, 10.128020143082225, 17.552472276876923, 18.88465220767277, 12.390995921628939, 22.25258761713067, 12.161468816669299, 19.959623372609315, 17.762391538699294, 13.856970546773113, 11.365621065804252, 14.956163164996868, 5.633210454500906, 10.805067432586258, 7.542091654039549, -7.6239983113583785, -4.154563478601745, -11.453294735810509, -14.197239372488706, -26.10266036441488, -23.59195935198377, -30.188909243051313, -22.537493121046946, -16.242286149369384, -16.157318829107954, -9.5418504195219, -15.547297042615593, -30.8860769990426, -32.224856955469605, -16.017885277909702, -16.672569373770262, -6.023331901003388, -12.229214253944564, -17.51026000557855, -13.910042140654806, -12.719410332375938, -0.10176327355240478, 6.676014504225376, 12.663198920475534, 1.7819993818365472, 6.224905956231012, 10.798147017361345, 7.202991308018785, -2.9619452548416554, -3.8189233401934377, -12.044990237540603, -12.117654597402204, -28.02653579694085, -30.031149407090787, -41.506351252534856, -43.522498888059644, -45.993087123353774, -57.93080338632954, -55.50635125253485, -55.507504655072346, -58.5109648626848, -66.78662806914384, -70.32872726176208, -66.86390603915538, -57.0219221867909, -68.28028435518769, -65.18339854203887, -62.27913095265017, -41.97463268275399, -40.60669727329608, -53.86967305184281, -40.58478262508385, -23.40946543938605, 30.91925428379732, 52.54785866672695, 120.21106512578116, 148.13353084409465, 235.00716918832126, 267.7762323691491, 300.32634130161097, 222.62699489638226, 174.53658095302714, 186.08015393777657, 242.95706025585935, 202.12808422100096, 199.11936962405107, 137.48429337132774, 74.60411907938877, 5.221766138212304, -28.118103142833448, 9.854663741698133, -45.89588092061124, -59.80764562649359, -68.48084824087266, -72.90542853050485, -76.43368689267326, -86.95156463200428, -94.49597062969748, -90.54210673119691, -83.56978839209656, -85.58362922254636, -82.28028435518766, -67.60785067583357, -61.0853593263526, -50.59977685807116, -52.3102728211623, -46.67936163315767, -38.64014594688318, -30.577862209858942, -25.467135566260325, -20.232994851150757, -12.648219764645564, 4.389842519091452, 0.10264528725753763, 0.3713880784916732, 5.840822911248317, 10.680499958537823, 2.3852289089415173, 3.152241596369427, 1.5547790819518976, 11.70702821689999, 4.953856359921904, 3.2583546298180996, -0.9388772040919351, -17.904275127967363, -8.43253349013576, 0.9169474787223777, -8.533135822572007, -16.561458262659162, -12.596316650458714, -18.869737129761546, -15.863201182049128, -10.424203360698371, -7.213963709282261, -15.47431229316025, -22.734660877038237, -13.331610768105783, -21.515706628672223, -2.454704450022991, -11.170390724532796, -14.059279613421685, -18.772787238694015, -5.915488763748483, -10.591959351983771, 1.8917007787351823, -0.8858206873675991, 13.527097421052238, 10.087651054270232, 6.307950938929975, 8.693187386450159, 16.292956705942657, 11.004606071571265, 15.170696036969197, 4.8823454025977995, 7.404836752078765, 8.302183926242545, 15.101491884720048, 16.869657974685452, 11.301030523705059, 11.63782406465085, 12.630903649425944, 11.237593384143358, 8.626290039275998, 10.154548401444394, 8.298723718630086, 9.11648611770736, 11.527097421052236, 9.543245056577035, 4.85581714423563, 4.191457282643929, 4.8488967290107166, 6.9619301776843, -1.0853593263526058, -2.0945865466524944, -10.389857596248802, -6.3944712063987375, -13.883513882292622, -18.749719187944294, -23.1017632735524, -22.54185041952191, -17.831610768105772, -17.4971881101537, -16.373005103617757, -20.757536694031703, -19.7629833171254, -22.160586802964172, -20.420935386842157, -20.037493121046957, -9.39805956984869, -7.552743665709265, -12.484116214728873, -4.627907064402075, -12.380630375948915, -3.739018175513186, 3.3296092754672086, 2.7348380336371436, 17.996532253808873, 13.527097421052238, 19.048435367995722, 9.09226466442017, 8.281422680567808, 16.41060376476619, 23.984998228434016, 16.602068585988803, 11.41175716730368, 8.444052438353268, 14.145321181144507, 11.885805610210241, 13.555932484489372, 19.24220699429329, 12.912333868572418, 9.042668355308297, 7.080730639045321, 7.528250823589726, 0.9780778132091008, 4.6516648951006765, 9.920407686334812, -0.2376084613007059, 2.2883430957927224, 3.9734642030591587, -6.141876050689403, -9.268750329812812, -18.449834528198053, -19.967712267529077, -13.173017919201513, -25.09573994918998, -38.218000618163444, -29.452141333273016, -27.710503501669788, -9.454704450022994, -21.443811203835633, -31.145336258301846, -30.967776345447817, -30.37300510361775, -12.130085713639541, -17.155140179870486, -3.7488220970818205, 42.598672456295105, 1.4919186436589271, -13.241196824750656, -9.258626018650446, -6.895880920611225, 12.568171366970484, -3.145336258301853, 7.574707314682891, 16.721766138212306, 18.283857641480274, 24.173002842044173, 7.017293499483612, 4.538631446427097, 7.1510881938319395, 23.536324641352127, 6.077270431432854, 3.9065668558849875, -18.14302945322688, -11.823536950343378, -29.163790698901636, -32.717423916894695, -25.29066497802505, -32.463675358647876, -33.22838124100082, -37.53864652358443, -34.74164537018189, -28.232994851150757, -28.863906039155378, -18.257216304437947, -16.583629222546374, -22.471749176410277, -15.237608461300699, -9.299892198324923, -0.16379069890163578, 28.03459453754588, 49.65281829763815, 46.33447919729214, 68.1695426344317, 104.82698208079849, 160.23759338414337, 223.80160722497382, 156.5870743530015, 111.3875357140165, 93.34921711860446, 64.34050252165456, -15.92964998379204, -63.340325365055655, -34.70633843695108, -12.796752380306213, 3.629173545619693, -50.297841704924956, -50.22485695546962, -52.41004214065481, -52.14315760906439, -35.59195935198378, -15.69980248923869, -11.176926672245214, -33.22376763085087, -19.58215543041515, 1.760981824486815, -11.029867848715803, -13.434840295210737, -10.002314343653646, 13.068043211132967, 14.641284272263306, -6.463675358647887, 3.194917490256376, 3.4359786205908716, -4.280284355187661, 8.254894422205648, 12.698954399137591, 5.008066279183723, -9.055370860377991, -3.836224378255725, 2.2029913080187846, -7.107273974564841, -0.8985081152799452, 1.453279658653159, -4.94233741170439, -6.296431990712463, -3.7600998107816714, 4.959623372609329, -0.6101574809085442, -3.8096961198935553, -0.7912416792937762, -6.906581933042341, -14.19031895726379, -5.861599234080403, -9.124575012627115, -12.741645370181903, -18.938877204091934, -13.355255520124224, -19.197239372488703, -6.14187605068939, -4.023331901003381, -28.698713164619946, -30.262983317125382, -5.281501835643898, 5.038759602264598, 8.791482913811432, -14.606120572027361, -4.7488220970818205, -22.695445190763728, -6.959061748497941, 16.954881606621893, 1.8982367264475926, -0.7586260186504443, 8.685818425794002, -4.851218611243034, 8.025687706839753, -2.435096606885737, -4.794573731068744, 0.4475126459657295, 4.99768565634635, 3.5582392895643515, 10.856970546773109, 8.26181483743055, 9.606682196138738, 4.592841365688914, 6.033441135008413, 7.254894422205641, 5.9538563599219, 6.106105494869997, 6.787766394523972, 15.477501111940358, 9.752010915861922, 11.657431907788105, 11.37600168864163, 12.37484828610414, 14.234133176530898, 14.801607224973804, 14.494802150002634, 11.626290039275988, 12.527097421052236, 12.6020685859888, 10.169542634431709, 5.7012612042125586, 7.260661434893068, 1.7854595894490046, 3.659738712863076, -4.3887041937113205, -12.429073282523316, -23.39447120639874, -22.903121725429884, -24.651679972258023, -30.00372405786613, -29.384987674423872, -34.910042140654795, -35.51679595329096, -29.706338436951093, -32.110477870502294, -43.9786695916352, -36.61156719512103, -29.028778524097056, -26.625728415164602, -12.907863491417318, -20.140978959826914, -7.0919593519837765, 3.705426268931257, 8.756624526011866, 7.33941319703583, 11.54529554997701, 10.656406661088118, 7.761238136161809, 17.880038597522827, 23.048435367995722, 8.974617605596642, 13.771618758999178, 17.332172392217167, 17.67127273823793, 13.170696036969195, 16.078423833970348, 23.895032830510136, 13.02767412232098, 22.121099727857306, 14.026520719783495, 10.085344249195256, 23.14762798621948, 13.160315414131826, 4.865044364535514, 6.155701803981884, 5.213371930856162, 6.161468816669306, 8.959623372609325, 3.6447444798757687, 1.1510881938319422, -5.301045600862405, 2.9953788512713846, -5.386397388636345, -9.253756096825507, -3.3402612871369257, -14.976939487828961, -12.644759557033115, -31.04153002992815, -30.785474666606355, -31.553640756571752, -25.023331901003385, -20.38498767442387, -21.63553233673322, -18.261893992506643, -6.137710985970699, 7.536580953027123, -11.312002924968532, -12.337057391199465, 0.5398489268833373, 4.001722565227553, 4.758803175249348, 17.584511236251522, 25.888432804878967, 33.13679881795086, 24.462506878953043, 32.280589667624064, 11.623726922526032, -1.83378941734325, 10.565159704789263, 4.997685656346354, -1.2652901222003585, 16.994225448733893, 20.555932484489375, 17.508642980452464, 13.337939404904601, 9.386382311479004, 9.215678735931132, 15.267581850117981, 10.596301573301375, 14.101491884720051, 4.752010915861927, 10.10495209233251, 8.14762798621948, 7.983844825896533, 5.76700514884924, 11.136093960844626, 10.821215068111062, 7.043821757845773, 9.136093960844615, 10.01729349948361, 9.445205840890761, 6.973464203059159, 14.407143557153734, 3.535171238814634, 1.628596844350966, -1.0853593263526093, -4.584782625083869, -12.193779164876258, -17.64937316718305, -21.589396235233803, -23.80854271735606, -24.023331901003385, -31.1104778705023, -26.00808135634107, -29.301109678781156, -27.94163255459815, -26.345771988149355, -36.07670880732148, -38.39588092061123, -33.63662166135197, -29.370826454380293, -18.515706628672223, -18.611567195121033, -16.562547587277894, -8.549475691853058, -17.400238219086173, -3.797841704924954, -6.650782881395541, -1.1671227506765867, 2.9769244106716126, 11.115332715169881, 4.283729485642778, 7.190303880106443, 14.124559935469765, 10.822368470648541, 14.063429600983032, 24.386382311479, 18.549012069264464, 16.659738712863074, 17.086497651732742, 17.611295806288677, 19.8500501315482, 20.575540327626626, 21.265275045043005, 18.513256590602417, 22.688573776300217, 13.35178023535443, 11.487881734777728, 15.965390385296754, 12.2733488628054, 12.311411146542433, 11.817754860498601, 8.679346556000333, 5.7600847336243195, 0.9665437878342455, 0.8442831188607709, 2.4244445952160163, -4.839684585868185, -10.232994851150767, -23.433686892673247, -16.05998447052792, -13.906581933042332, -24.18019464610142, -29.463419046972888, -20.96886567006656, -27.614835168977233, -15.647514907539328, -15.071262184227784, -29.861022532811674, -21.082155430415153, -23.283680484881373, -12.74337547398813, -0.12354976592711964, -3.3370573911994583, -5.091959351983773, 7.019151759127334, 2.2076049181687303, 8.849217118604459, 8.113923000957403, 10.5779752885391, 21.87888519498534, 18.115332715169885, 14.519023603289838, 3.6020685859888006, 12.791226602136437, 6.547858666726977, 15.35754724804186, 12.190303880106455, 8.568619912401722, 21.149934791294452, 15.282576083105294, 16.121099727857306, 13.202991308018788, 13.771618758999178, 11.226059358768502, 11.493648747465162, 12.492495344927672, 17.214525333393645, 10.252587617130668, 9.710488424512437, 7.743937098099515, 12.801607224973802, 15.40599015461625, 10.14993479129445, 6.113025910094912, 0.31948496430483253, 7.256047824743122, 7.640130869725821, 1.2191389435435847, -4.938877204091939, -14.786628069143836, -21.17763152935145, -10.573248599709002, -15.886076999042599, -32.2869484587376, -31.223767630850876, -20.575619482702727, -24.33378941734325, -24.718321007757197, -40.50808135634109, -33.92529268531711, -33.126817739783334, -28.625728415164605, -5.849039962005554, -16.02333190100338, -8.895880920611228, -7.941632554598156, -12.635532336733231, -1.7586260186504443, -0.4350966068857369, -6.951436476166783, 8.212218528318672, 5.66435232301302, 3.2445137993682707, 9.327558782067229, 14.516716798214865, 11.155701803981875, 13.37715509117911, 21.131480350694687, 23.294110108480147, 13.9538563599219, 13.772772161536667, 14.513256590602401, 15.908873660959964, 15.79122660213643, 16.539784848964576, 6.33678600236712, 2.492495344927672, 7.430211607903445, -1.4729025789477674, -1.779707653918937, -2.0599844705279295, -7.9827065005163895, -10.594009845383749, -10.908888738117312, -15.98501330559136, -17.111887584714772, -23.155716881139227, -23.59516324792123, -21.72203752704465, -29.213387008013502, -30.15917708875168, -26.74625898033185, -34.29873879578744, -27.552743665709272, -18.67910532148269, -6.086512728890092, 10.189086399650215, 20.2936615630489, 18.909129972634947, 54.19780099660008, 47.09431515782013, 69.83396657394215, 65.21740883973735, 55.209783567406205, 29.074707314682882, 22.280589667624064, -4.588691378127576, 2.6193696240510747, 9.280589667624058, 11.564903393114253, 10.970132151284183, 12.173002842044152, 2.4486660485032044, -5.167250906514099, -1.103813766952391, -11.797008691981222, -6.687435450920095, -11.720884124507174, -3.6724412179327643, -5.76471342093161, 3.4244445952160234, 7.14532118114451, -0.8396845858681843, 2.301030523705066, 1.810834445273688, 1.1672358293567342, 6.042668355308301, 8.021907109633553, 3.547858666726981, 7.056509185758124, 9.377155091179104, 8.95962337260932, 8.115332715169883, 9.09226466442017, 7.326405379529746, 5.720869047349813, 5.986151630971499, -0.038069822315701884, 1.110719105019939, 3.4936487474651523, -11.625151713895864, -21.49251042208501, -22.001160941116154, -24.632072129120765, -28.92529268531711, -35.18890924305132, -29.223767630850872, -25.752090070938017, -25.667122750676583, -22.05165434109053, -36.91984606222344, -31.41548876374849, -24.793484406450006, -26.566904885752844, -10.103941922789874, -12.47431229316025, 5.359021040173085, -9.686730593813841, -16.5178852779097, -12.013527979434759, -4.768429940219071, 4.695622347362629, 10.859277351848085, 16.036901342620865, 7.283729485642779, 16.386382311478993, 4.242206994293294, 16.783152784374032, 11.063429600983032, 16.26873525265547, 13.25489442220564, 12.051895575608176, 25.34139961251706, 15.650511492563187, 14.810834445273692, 17.63436385703839, 19.500569162690066, 18.19953110040634, 19.70818161943748, 16.449819451040707, 11.272195460267927, 17.455586463728128, 2.8223684706485415, -3.2572163044379607, 1.8177548604986065, -12.242222071450641, -19.416385854610965, -15.71973072196968, -20.783167861531382, -17.359869130274173, -24.447527723123077, -22.89966151781743, -36.31603983384973, -34.746258980331845, -24.37717016833646, -35.6703907245328, -33.07126218422779, -32.41984606222343, -27.771697914075276, -23.72594628008835, -30.130085713639556, -2.8021990033999202, 0.15313868723190183, 6.108476377863724, 23.746820604443236, 11.739195332112086, 56.780589667624064, 53.30019751076131, 51.450524308146925, 115.63897746718834, 87.53549162840838, 62.85902104017308, 31.244641955205758, null, null, null, null, null, null, null, null, null, null, null, null, null, null, null, null, null, null, null, null, null, null, null, null, null], \"yaxis\": \"y\"}, {\"name\": \"Trend\", \"type\": \"scatter\", \"x\": [0, 1, 2, 3, 4, 5, 6, 7, 8, 9, 10, 11, 12, 13, 14, 15, 16, 17, 18, 19, 20, 21, 22, 23, 24, 25, 26, 27, 28, 29, 30, 31, 32, 33, 34, 35, 36, 37, 38, 39, 40, 41, 42, 43, 44, 45, 46, 47, 48, 49, 50, 51, 52, 53, 54, 55, 56, 57, 58, 59, 60, 61, 62, 63, 64, 65, 66, 67, 68, 69, 70, 71, 72, 73, 74, 75, 76, 77, 78, 79, 80, 81, 82, 83, 84, 85, 86, 87, 88, 89, 90, 91, 92, 93, 94, 95, 96, 97, 98, 99, 100, 101, 102, 103, 104, 105, 106, 107, 108, 109, 110, 111, 112, 113, 114, 115, 116, 117, 118, 119, 120, 121, 122, 123, 124, 125, 126, 127, 128, 129, 130, 131, 132, 133, 134, 135, 136, 137, 138, 139, 140, 141, 142, 143, 144, 145, 146, 147, 148, 149, 150, 151, 152, 153, 154, 155, 156, 157, 158, 159, 160, 161, 162, 163, 164, 165, 166, 167, 168, 169, 170, 171, 172, 173, 174, 175, 176, 177, 178, 179, 180, 181, 182, 183, 184, 185, 186, 187, 188, 189, 190, 191, 192, 193, 194, 195, 196, 197, 198, 199, 200, 201, 202, 203, 204, 205, 206, 207, 208, 209, 210, 211, 212, 213, 214, 215, 216, 217, 218, 219, 220, 221, 222, 223, 224, 225, 226, 227, 228, 229, 230, 231, 232, 233, 234, 235, 236, 237, 238, 239, 240, 241, 242, 243, 244, 245, 246, 247, 248, 249, 250, 251, 252, 253, 254, 255, 256, 257, 258, 259, 260, 261, 262, 263, 264, 265, 266, 267, 268, 269, 270, 271, 272, 273, 274, 275, 276, 277, 278, 279, 280, 281, 282, 283, 284, 285, 286, 287, 288, 289, 290, 291, 292, 293, 294, 295, 296, 297, 298, 299, 300, 301, 302, 303, 304, 305, 306, 307, 308, 309, 310, 311, 312, 313, 314, 315, 316, 317, 318, 319, 320, 321, 322, 323, 324, 325, 326, 327, 328, 329, 330, 331, 332, 333, 334, 335, 336, 337, 338, 339, 340, 341, 342, 343, 344, 345, 346, 347, 348, 349, 350, 351, 352, 353, 354, 355, 356, 357, 358, 359, 360, 361, 362, 363, 364, 365, 366, 367, 368, 369, 370, 371, 372, 373, 374, 375, 376, 377, 378, 379, 380, 381, 382, 383, 384, 385, 386, 387, 388, 389, 390, 391, 392, 393, 394, 395, 396, 397, 398, 399, 400, 401, 402, 403, 404, 405, 406, 407, 408, 409, 410, 411, 412, 413, 414, 415, 416, 417, 418, 419, 420, 421, 422, 423, 424, 425, 426, 427, 428, 429, 430, 431, 432, 433, 434, 435, 436, 437, 438, 439, 440, 441, 442, 443, 444, 445, 446, 447, 448, 449, 450, 451, 452, 453, 454, 455, 456, 457, 458, 459, 460, 461, 462, 463, 464, 465, 466, 467, 468, 469, 470, 471, 472, 473, 474, 475, 476, 477, 478, 479, 480, 481, 482, 483, 484, 485, 486, 487, 488, 489, 490, 491, 492, 493, 494, 495, 496, 497, 498, 499, 500, 501, 502, 503, 504, 505, 506, 507, 508, 509, 510, 511, 512, 513, 514, 515, 516, 517, 518, 519, 520, 521, 522, 523, 524, 525, 526, 527, 528, 529, 530, 531, 532, 533, 534, 535, 536, 537, 538, 539, 540, 541, 542, 543, 544, 545, 546, 547, 548, 549, 550, 551, 552, 553, 554, 555, 556, 557, 558, 559, 560, 561, 562, 563, 564, 565, 566, 567, 568, 569, 570, 571, 572, 573, 574, 575, 576, 577, 578, 579, 580, 581, 582, 583, 584, 585, 586, 587, 588, 589, 590, 591, 592, 593, 594, 595, 596, 597, 598, 599, 600, 601, 602, 603, 604, 605, 606, 607, 608, 609, 610, 611, 612, 613, 614, 615, 616, 617, 618, 619, 620, 621, 622, 623, 624, 625, 626, 627, 628, 629, 630, 631, 632, 633, 634, 635, 636, 637, 638, 639, 640, 641, 642, 643, 644, 645, 646, 647, 648, 649, 650, 651, 652, 653, 654, 655, 656, 657, 658, 659, 660, 661, 662, 663, 664, 665, 666, 667, 668, 669, 670, 671, 672, 673, 674, 675, 676, 677, 678, 679, 680, 681, 682, 683, 684, 685, 686, 687, 688, 689, 690, 691, 692, 693, 694, 695, 696, 697, 698, 699, 700, 701, 702, 703, 704, 705, 706, 707, 708, 709, 710, 711, 712, 713, 714, 715, 716, 717, 718, 719, 720, 721, 722, 723, 724, 725, 726, 727, 728, 729, 730, 731, 732, 733, 734, 735, 736, 737, 738, 739, 740, 741, 742, 743, 744, 745, 746, 747, 748, 749, 750, 751, 752, 753, 754, 755, 756, 757, 758, 759, 760, 761, 762, 763, 764, 765, 766, 767, 768, 769, 770, 771, 772, 773, 774, 775, 776, 777, 778, 779, 780, 781, 782, 783, 784, 785, 786, 787, 788, 789, 790, 791, 792, 793, 794, 795, 796, 797, 798, 799, 800, 801, 802, 803, 804, 805, 806, 807, 808, 809, 810, 811, 812, 813, 814, 815, 816, 817, 818, 819, 820, 821, 822, 823, 824, 825, 826, 827, 828, 829, 830, 831, 832, 833, 834, 835, 836, 837, 838, 839, 840, 841, 842, 843, 844, 845, 846, 847, 848, 849, 850, 851, 852, 853, 854, 855, 856, 857, 858, 859, 860, 861, 862, 863, 864, 865, 866, 867, 868, 869, 870, 871, 872, 873, 874, 875, 876, 877, 878, 879, 880, 881, 882, 883, 884, 885, 886, 887, 888, 889, 890, 891, 892, 893, 894, 895, 896, 897, 898, 899, 900, 901, 902, 903, 904, 905, 906, 907, 908, 909, 910, 911, 912, 913, 914, 915, 916, 917, 918, 919, 920, 921, 922, 923, 924, 925, 926, 927, 928, 929, 930, 931, 932, 933, 934], \"xaxis\": \"x2\", \"y\": [null, null, null, null, null, null, null, null, null, null, null, null, null, null, null, null, null, null, null, null, null, null, null, null, null, 23.705882352941174, 23.941176470588232, 24.17647058823529, 24.33333333333333, 24.607843137254896, 24.68627450980392, 24.941176470588232, 25.235294117647058, 25.549019607843135, 25.627450980392155, 25.862745098039213, 25.960784313725487, 26.196078431372545, 26.431372549019603, 26.54901960784313, 26.588235294117645, 27.549019607843135, 28.313725490196074, 29.25490196078431, 30.078431372549016, 30.94117647058823, 31.490196078431367, 32.705882352941174, 33.68627450980392, 35.78431372549019, 37.2156862745098, 39.27450980392156, 40.686274509803916, 42.03921568627451, 43.92156862745098, 45.31372549019608, 46.80392156862746, 49.09803921568628, 50.94117647058823, 52.549019607843135, 53.54901960784314, 54.509803921568626, 55.68627450980392, 57.21568627450981, 58.31372549019608, 59.25490196078431, 60.0, 60.666666666666664, 61.450980392156865, 61.745098039215684, 62.07843137254902, 62.90196078431372, 63.35294117647058, 63.764705882352935, 64.01960784313725, 64.31372549019609, 64.45098039215686, 64.68627450980392, 64.80392156862744, 65.0392156862745, 65.27450980392156, 65.58823529411764, 65.74509803921569, 65.76470588235294, 65.72549019607844, 65.84313725490196, 66.0, 66.31372549019608, 66.6470588235294, 66.84313725490195, 66.90196078431373, 67.0392156862745, 66.50980392156863, 65.98039215686273, 65.07843137254902, 64.80392156862744, 64.70588235294117, 64.68627450980392, 64.2156862745098, 63.86274509803921, 62.490196078431374, 61.411764705882355, 59.666666666666664, 58.627450980392155, 57.07843137254901, 55.45098039215686, 53.823529411764696, 51.96078431372548, 49.56862745098038, 47.98039215686275, 47.03921568627452, 46.54901960784314, 45.88235294117647, 44.90196078431372, 43.45098039215686, 42.31372549019607, 41.19607843137254, 40.764705882352935, 40.372549019607845, 39.7843137254902, 39.568627450980394, 39.07843137254902, 38.1764705882353, 37.80392156862745, 37.411764705882355, 37.05882352941177, 36.62745098039216, 36.196078431372555, 35.76470588235294, 35.431372549019606, 35.09803921568628, 34.76470588235294, 34.588235294117645, 34.33333333333333, 34.13725490196078, 34.11764705882353, 34.09803921568627, 33.8235294117647, 33.68627450980392, 33.31372549019608, 33.17647058823529, 33.01960784313725, 32.705882352941174, 32.33333333333333, 32.11764705882353, 31.862745098039213, 31.33333333333333, 30.62745098039215, 29.549019607843135, 28.764705882352942, 27.862745098039216, 27.01960784313726, 26.176470588235293, 25.588235294117645, 24.54901960784313, 23.921568627450977, 23.549019607843135, 23.3921568627451, 23.568627450980394, 23.549019607843135, 22.980392156862745, 22.294117647058822, 22.03921568627451, 21.941176470588236, 22.078431372549023, 22.078431372549026, 21.88235294117647, 21.941176470588236, 21.803921568627455, 21.843137254901965, 21.86274509803922, 22.196078431372552, 22.431372549019606, 22.784313725490197, 23.098039215686274, 23.41176470588236, 23.686274509803923, 23.999999999999996, 24.196078431372545, 24.529411764705873, 24.66666666666666, 24.882352941176464, 24.921568627450977, 24.921568627450977, 25.156862745098035, 25.2156862745098, 25.333333333333332, 25.56862745098039, 26.0, 26.176470588235297, 26.54901960784314, 26.882352941176475, 27.490196078431378, 28.000000000000004, 28.647058823529413, 29.294117647058822, 30.529411764705884, 31.686274509803923, 32.64705882352941, 34.15686274509804, 35.92156862745098, 38.88235294117647, 42.31372549019608, 47.29411764705882, 52.76470588235294, 60.05882352941177, 67.84313725490196, 76.13725490196079, 82.90196078431373, 88.58823529411765, 94.6078431372549, 102.03921568627452, 108.68627450980394, 114.94117647058825, 119.98039215686275, 123.5686274509804, 125.90196078431372, 127.66666666666667, 130.07843137254903, 131.35294117647058, 132.078431372549, 132.47058823529412, 132.6078431372549, 132.84313725490196, 132.74509803921566, 132.35294117647058, 132.03921568627453, 131.94117647058826, 131.68627450980395, 131.47058823529412, 131.33333333333331, 131.35294117647058, 131.3137254901961, 131.13725490196077, 130.84313725490193, 130.52941176470586, 130.37254901960785, 129.98039215686276, 129.4313725490196, 128.843137254902, 128.54901960784315, 128.09803921568627, 127.49019607843137, 126.72549019607844, 126.1764705882353, 125.3529411764706, 124.45098039215686, 123.09803921568627, 121.90196078431373, 120.8235294117647, 119.45098039215686, 117.66666666666667, 114.49019607843137, 111.078431372549, 106.52941176470587, 101.25490196078431, 94.11764705882352, 86.41176470588233, 77.94117647058823, 71.05882352941175, 65.23529411764706, 59.2549019607843, 51.99999999999999, 45.41176470588235, 39.07843137254901, 33.80392156862745, 30.137254901960784, 27.666666666666668, 25.803921568627448, 23.117647058823525, 21.78431372549019, 20.647058823529406, 19.94117647058823, 19.29411764705882, 19.01960784313725, 18.90196078431372, 18.882352941176464, 18.862745098039213, 18.921568627450977, 18.980392156862738, 19.13725490196078, 18.901960784313722, 18.72549019607843, 18.509803921568626, 18.62745098039215, 18.803921568627448, 18.823529411764703, 18.803921568627448, 18.84313725490196, 18.88235294117647, 18.84313725490196, 18.6078431372549, 18.49019607843137, 18.431372549019606, 18.352941176470587, 18.19607843137255, 18.13725490196078, 18.078431372549016, 18.078431372549016, 17.941176470588232, 17.784313725490193, 17.64705882352941, 17.431372549019606, 17.627450980392158, 17.490196078431374, 17.07843137254902, 16.76470588235294, 16.627450980392155, 16.50980392156863, 16.529411764705884, 16.50980392156863, 16.294117647058822, 16.03921568627451, 15.901960784313724, 15.941176470588234, 15.80392156862745, 16.03921568627451, 15.941176470588236, 15.92156862745098, 16.11764705882353, 16.254901960784313, 16.313725490196077, 16.607843137254903, 16.64705882352941, 17.03921568627451, 17.05882352941176, 17.254901960784313, 17.333333333333332, 17.352941176470587, 17.37254901960784, 17.64705882352941, 17.705882352941174, 17.88235294117647, 17.960784313725487, 18.13725490196078, 18.13725490196078, 18.13725490196078, 18.372549019607842, 18.49019607843137, 18.52941176470588, 18.588235294117645, 18.72549019607843, 18.705882352941174, 18.803921568627448, 18.999999999999996, 18.960784313725487, 19.01960784313725, 19.2156862745098, 19.235294117647054, 19.196078431372545, 18.941176470588232, 18.823529411764703, 18.862745098039213, 18.843137254901958, 18.509803921568626, 18.509803921568622, 18.647058823529413, 19.235294117647058, 19.588235294117652, 19.666666666666668, 19.74509803921569, 19.82352941176471, 20.35294117647059, 20.764705882352942, 21.49019607843137, 23.09803921568627, 23.901960784313722, 24.215686274509803, 24.588235294117645, 25.11764705882353, 25.88235294117647, 26.509803921568626, 27.19607843137255, 27.941176470588236, 28.76470588235294, 29.45098039215686, 29.941176470588232, 30.333333333333332, 31.03921568627451, 32.17647058823529, 32.94117647058823, 33.6078431372549, 34.05882352941177, 34.78431372549019, 35.27450980392156, 35.607843137254896, 36.13725490196077, 36.50980392156862, 36.76470588235293, 37.07843137254902, 37.509803921568626, 38.05882352941176, 38.568627450980394, 39.411764705882355, 40.2156862745098, 40.80392156862744, 41.725490196078425, 42.705882352941174, 43.8235294117647, 45.68627450980392, 48.019607843137244, 50.45098039215686, 53.33333333333333, 56.803921568627445, 61.58823529411764, 67.84313725490196, 72.58823529411765, 76.3921568627451, 79.47058823529412, 82.19607843137256, 83.52941176470587, 83.92156862745098, 84.84313725490196, 85.8235294117647, 87.21568627450979, 87.27450980392156, 86.41176470588235, 86.29411764705883, 86.45098039215685, 86.8235294117647, 87.50980392156862, 87.88235294117646, 88.09803921568627, 88.33333333333334, 88.76470588235296, 88.84313725490198, 88.66666666666667, 88.80392156862744, 89.33333333333333, 89.70588235294117, 89.15686274509804, 88.90196078431373, 88.50980392156863, 88.25490196078432, 88.0, 88.05882352941175, 87.98039215686273, 87.4705882352941, 87.17647058823529, 86.98039215686275, 86.62745098039215, 86.33333333333334, 85.9607843137255, 85.47058823529413, 84.74509803921569, 84.01960784313727, 83.54901960784314, 82.80392156862744, 81.86274509803921, 80.7843137254902, 79.0, 76.62745098039215, 74.47058823529412, 71.80392156862746, 68.31372549019608, 63.58823529411765, 57.72549019607844, 53.05882352941177, 49.52941176470588, 46.39215686274509, 43.33333333333333, 41.80392156862745, 41.68627450980392, 41.21568627450981, 40.3921568627451, 38.7843137254902, 38.43137254901961, 37.72549019607843, 37.37254901960784, 37.49019607843137, 36.99999999999999, 36.07843137254901, 35.25490196078431, 34.6078431372549, 33.96078431372548, 32.705882352941174, 31.686274509803916, 30.862745098039213, 30.09803921568627, 28.901960784313722, 27.882352941176464, 27.313725490196074, 26.68627450980392, 26.039215686274506, 25.627450980392155, 25.039215686274506, 24.392156862745097, 23.921568627450977, 23.72549019607843, 23.588235294117645, 23.215686274509803, 23.07843137254902, 22.80392156862745, 22.50980392156863, 22.372549019607845, 22.254901960784316, 22.07843137254902, 21.68627450980392, 21.431372549019606, 21.254901960784313, 20.980392156862745, 20.764705882352942, 20.745098039215687, 20.47058823529412, 20.313725490196074, 20.098039215686274, 19.862745098039216, 19.313725490196077, 18.901960784313726, 18.215686274509803, 17.392156862745097, 17.07843137254902, 16.705882352941178, 15.84313725490196, 14.901960784313724, 13.84313725490196, 13.019607843137255, 12.156862745098039, 11.803921568627452, 11.19607843137255, 10.3921568627451, 9.745098039215687, 9.411764705882353, 9.117647058823529, 9.196078431372548, 8.999999999999998, 9.098039215686274, 9.235294117647058, 9.215686274509805, 9.313725490196079, 9.549019607843139, 9.372549019607844, 9.352941176470589, 9.3921568627451, 9.549019607843139, 9.607843137254902, 9.725490196078432, 10.039215686274511, 10.15686274509804, 10.470588235294118, 10.490196078431373, 10.588235294117647, 10.941176470588234, 11.137254901960782, 11.176470588235292, 11.235294117647056, 11.294117647058822, 11.411764705882351, 11.666666666666666, 11.823529411764707, 11.941176470588236, 11.999999999999998, 12.313725490196079, 12.431372549019608, 12.588235294117645, 12.823529411764705, 12.980392156862743, 13.352941176470587, 13.588235294117649, 13.823529411764708, 14.078431372549021, 14.568627450980392, 15.137254901960784, 15.784313725490195, 16.509803921568626, 17.352941176470587, 18.509803921568626, 19.52941176470588, 20.372549019607842, 21.313725490196077, 22.274509803921564, 22.98039215686274, 24.078431372549016, 25.078431372549016, 25.999999999999996, 26.647058823529406, 27.470588235294112, 27.803921568627448, 27.88235294117647, 28.254901960784316, 28.31372549019608, 28.13725490196078, 28.588235294117645, 29.0, 29.27450980392157, 29.45098039215687, 29.627450980392158, 29.72549019607843, 29.764705882352935, 29.901960784313722, 29.901960784313722, 29.843137254901954, 29.921568627450974, 29.666666666666664, 29.568627450980387, 29.549019607843135, 29.56862745098039, 29.56862745098039, 29.431372549019606, 29.235294117647058, 29.11764705882353, 28.999999999999996, 28.921568627450977, 28.803921568627448, 28.627450980392155, 28.470588235294116, 28.137254901960784, 27.96078431372549, 27.56862745098039, 27.41176470588235, 27.15686274509804, 26.862745098039213, 26.431372549019606, 25.76470588235294, 25.2156862745098, 24.52941176470588, 23.627450980392155, 22.49019607843137, 21.52941176470588, 20.549019607843135, 19.41176470588235, 18.294117647058822, 17.372549019607842, 16.19607843137255, 14.901960784313726, 13.627450980392155, 12.352941176470587, 11.196078431372548, 10.392156862745098, 9.960784313725492, 9.372549019607844, 9.058823529411764, 8.745098039215687, 8.137254901960786, 7.607843137254902, 7.078431372549019, 6.705882352941177, 6.627450980392157, 6.450980392156863, 6.137254901960784, 5.941176470588235, 5.705882352941175, 5.7254901960784315, 5.686274509803921, 5.7254901960784315, 5.745098039215687, 5.921568627450982, 5.843137254901961, 5.764705882352941, 5.88235294117647, 5.92156862745098, 5.980392156862744, 6.078431372549019, 6.196078431372549, 6.137254901960785, 6.215686274509804, 6.352941176470589, 6.588235294117648, 6.764705882352941, 7.0, 7.098039215686275, 7.431372549019608, 7.862745098039216, 8.098039215686276, 8.372549019607844, 8.72549019607843, 9.019607843137255, 9.529411764705882, 10.019607843137255, 10.411764705882353, 11.019607843137253, 11.490196078431373, 12.078431372549018, 12.705882352941176, 13.274509803921568, 13.76470588235294, 14.333333333333332, 14.980392156862747, 15.490196078431374, 16.039215686274513, 16.52941176470588, 17.15686274509804, 17.54901960784314, 18.000000000000004, 18.176470588235297, 18.392156862745097, 18.549019607843135, 18.803921568627448, 18.784313725490193, 18.803921568627448, 19.098039215686274, 19.254901960784313, 19.41176470588235, 19.45098039215686, 19.470588235294116, 19.41176470588235, 19.392156862745097, 19.29411764705882, 19.450980392156858, 19.490196078431367, 19.411764705882348, 19.352941176470587, 19.372549019607842, 19.431372549019606, 19.431372549019606, 19.392156862745097, 19.313725490196077, 19.352941176470587, 19.352941176470587, 19.352941176470583, 19.33333333333333, 19.37254901960784, 19.13725490196078, 19.05882352941176, 19.078431372549016, 18.882352941176467, 18.52941176470588, 18.509803921568626, 18.176470588235293, 17.823529411764703, 17.450980392156858, 17.039215686274506, 16.68627450980392, 16.215686274509803, 15.941176470588236, 15.529411764705884, 15.294117647058826, 14.843137254901963, 14.392156862745098, 14.019607843137257, 13.686274509803921, 13.176470588235293, 12.745098039215687, 12.333333333333334, 11.941176470588234, 11.882352941176467, 11.745098039215685, 11.666666666666666, 11.470588235294118, 11.490196078431373, 11.627450980392158, 11.35294117647059, 11.215686274509805, 11.098039215686274, 11.098039215686272, 11.117647058823527, 11.254901960784311, 11.235294117647056, 11.176470588235293, 11.176470588235292, 11.176470588235292, 11.215686274509803, 11.313725490196077, 11.215686274509803, 11.03921568627451, 10.980392156862745, 10.92156862745098, 10.980392156862745, 10.80392156862745, 10.627450980392155, 10.627450980392155, 10.6078431372549, 10.76470588235294, 11.117647058823529, 11.11764705882353, 11.352941176470589, 12.07843137254902, 13.039215686274508, 14.11764705882353, 15.470588235294118, 16.80392156862745, 19.137254901960784, 21.19607843137255, 23.68627450980392, 26.000000000000004, 27.66666666666667, 29.01960784313726, 30.09803921568627, 30.627450980392155, 31.392156862745097, 32.07843137254902, 32.78431372549019, 33.607843137254896, 34.15686274509804, 34.56862745098039, 34.88235294117647, 35.15686274509803, 35.11764705882353, 35.235294117647065, 35.196078431372555, 35.156862745098046, 35.01960784313725, 35.21568627450981, 35.450980392156865, 35.47058823529412, 35.47058823529413, 35.41176470588236, 35.23529411764707, 35.27450980392158, 35.33333333333334, 35.117647058823536, 35.078431372549026, 35.03921568627451, 34.9607843137255, 34.9607843137255, 35.00000000000001, 34.980392156862756, 35.000000000000014, 35.019607843137265, 35.019607843137265, 35.039215686274524, 35.058823529411775, 34.92156862745099, 34.60784313725491, 34.215686274509814, 33.92156862745098, 33.41176470588235, 32.607843137254896, 31.666666666666664, 30.470588235294116, 29.078431372549016, 27.784313725490193, 25.509803921568626, 23.490196078431367, 21.15686274509804, 18.882352941176467, 17.13725490196078, 15.862745098039218, 15.078431372549021, 14.529411764705882, 13.705882352941178, 12.843137254901961, 12.07843137254902, 11.509803921568627, 11.039215686274511, 10.862745098039216, 10.666666666666666, 10.568627450980392, 10.450980392156861, 10.49019607843137, 10.529411764705882, 10.529411764705884, 10.529411764705882, 10.352941176470589, 10.392156862745097, 10.431372549019606, 10.431372549019606, 10.529411764705882, 10.745098039215687, 10.901960784313728, 11.117647058823533, 11.431372549019612, 11.627450980392158, 11.96078431372549, 12.058823529411763, 12.098039215686272, 12.294117647058824, 12.313725490196079, 12.27450980392157, 12.333333333333332, 12.431372549019606, 12.588235294117647, 12.568627450980392, 12.882352941176471, 13.137254901960784, 13.431372549019608, 13.980392156862745, 14.392156862745098, 14.980392156862743, 15.470588235294118, 15.980392156862745, 16.56862745098039, 16.96078431372549, 18.176470588235293, 19.33333333333333, 20.470588235294112, 21.98039215686274, 22.921568627450977, 24.784313725490193, 26.2156862745098, 27.901960784313726, 30.98039215686274, 33.41176470588235, 35.2156862745098, 36.21568627450981, 36.78431372549019, 37.33333333333333, 37.607843137254896, 37.84313725490196, 38.274509803921575, 38.235294117647065, 38.274509803921575, 38.274509803921575, 38.411764705882355, 38.54901960784314, 38.411764705882355, 38.490196078431374, 38.50980392156863, 38.41176470588236, 38.1764705882353, 38.0, 37.80392156862745, 37.58823529411765, 37.37254901960785, 37.019607843137265, 36.92156862745099, 36.94117647058824, 36.74509803921569, 36.68627450980393, 36.72549019607844, null, null, null, null, null, null, null, null, null, null, null, null, null, null, null, null, null, null, null, null, null, null, null, null, null], \"yaxis\": \"y2\"}, {\"name\": \"Seasonal\", \"type\": \"scatter\", \"x\": [0, 1, 2, 3, 4, 5, 6, 7, 8, 9, 10, 11, 12, 13, 14, 15, 16, 17, 18, 19, 20, 21, 22, 23, 24, 25, 26, 27, 28, 29, 30, 31, 32, 33, 34, 35, 36, 37, 38, 39, 40, 41, 42, 43, 44, 45, 46, 47, 48, 49, 50, 51, 52, 53, 54, 55, 56, 57, 58, 59, 60, 61, 62, 63, 64, 65, 66, 67, 68, 69, 70, 71, 72, 73, 74, 75, 76, 77, 78, 79, 80, 81, 82, 83, 84, 85, 86, 87, 88, 89, 90, 91, 92, 93, 94, 95, 96, 97, 98, 99, 100, 101, 102, 103, 104, 105, 106, 107, 108, 109, 110, 111, 112, 113, 114, 115, 116, 117, 118, 119, 120, 121, 122, 123, 124, 125, 126, 127, 128, 129, 130, 131, 132, 133, 134, 135, 136, 137, 138, 139, 140, 141, 142, 143, 144, 145, 146, 147, 148, 149, 150, 151, 152, 153, 154, 155, 156, 157, 158, 159, 160, 161, 162, 163, 164, 165, 166, 167, 168, 169, 170, 171, 172, 173, 174, 175, 176, 177, 178, 179, 180, 181, 182, 183, 184, 185, 186, 187, 188, 189, 190, 191, 192, 193, 194, 195, 196, 197, 198, 199, 200, 201, 202, 203, 204, 205, 206, 207, 208, 209, 210, 211, 212, 213, 214, 215, 216, 217, 218, 219, 220, 221, 222, 223, 224, 225, 226, 227, 228, 229, 230, 231, 232, 233, 234, 235, 236, 237, 238, 239, 240, 241, 242, 243, 244, 245, 246, 247, 248, 249, 250, 251, 252, 253, 254, 255, 256, 257, 258, 259, 260, 261, 262, 263, 264, 265, 266, 267, 268, 269, 270, 271, 272, 273, 274, 275, 276, 277, 278, 279, 280, 281, 282, 283, 284, 285, 286, 287, 288, 289, 290, 291, 292, 293, 294, 295, 296, 297, 298, 299, 300, 301, 302, 303, 304, 305, 306, 307, 308, 309, 310, 311, 312, 313, 314, 315, 316, 317, 318, 319, 320, 321, 322, 323, 324, 325, 326, 327, 328, 329, 330, 331, 332, 333, 334, 335, 336, 337, 338, 339, 340, 341, 342, 343, 344, 345, 346, 347, 348, 349, 350, 351, 352, 353, 354, 355, 356, 357, 358, 359, 360, 361, 362, 363, 364, 365, 366, 367, 368, 369, 370, 371, 372, 373, 374, 375, 376, 377, 378, 379, 380, 381, 382, 383, 384, 385, 386, 387, 388, 389, 390, 391, 392, 393, 394, 395, 396, 397, 398, 399, 400, 401, 402, 403, 404, 405, 406, 407, 408, 409, 410, 411, 412, 413, 414, 415, 416, 417, 418, 419, 420, 421, 422, 423, 424, 425, 426, 427, 428, 429, 430, 431, 432, 433, 434, 435, 436, 437, 438, 439, 440, 441, 442, 443, 444, 445, 446, 447, 448, 449, 450, 451, 452, 453, 454, 455, 456, 457, 458, 459, 460, 461, 462, 463, 464, 465, 466, 467, 468, 469, 470, 471, 472, 473, 474, 475, 476, 477, 478, 479, 480, 481, 482, 483, 484, 485, 486, 487, 488, 489, 490, 491, 492, 493, 494, 495, 496, 497, 498, 499, 500, 501, 502, 503, 504, 505, 506, 507, 508, 509, 510, 511, 512, 513, 514, 515, 516, 517, 518, 519, 520, 521, 522, 523, 524, 525, 526, 527, 528, 529, 530, 531, 532, 533, 534, 535, 536, 537, 538, 539, 540, 541, 542, 543, 544, 545, 546, 547, 548, 549, 550, 551, 552, 553, 554, 555, 556, 557, 558, 559, 560, 561, 562, 563, 564, 565, 566, 567, 568, 569, 570, 571, 572, 573, 574, 575, 576, 577, 578, 579, 580, 581, 582, 583, 584, 585, 586, 587, 588, 589, 590, 591, 592, 593, 594, 595, 596, 597, 598, 599, 600, 601, 602, 603, 604, 605, 606, 607, 608, 609, 610, 611, 612, 613, 614, 615, 616, 617, 618, 619, 620, 621, 622, 623, 624, 625, 626, 627, 628, 629, 630, 631, 632, 633, 634, 635, 636, 637, 638, 639, 640, 641, 642, 643, 644, 645, 646, 647, 648, 649, 650, 651, 652, 653, 654, 655, 656, 657, 658, 659, 660, 661, 662, 663, 664, 665, 666, 667, 668, 669, 670, 671, 672, 673, 674, 675, 676, 677, 678, 679, 680, 681, 682, 683, 684, 685, 686, 687, 688, 689, 690, 691, 692, 693, 694, 695, 696, 697, 698, 699, 700, 701, 702, 703, 704, 705, 706, 707, 708, 709, 710, 711, 712, 713, 714, 715, 716, 717, 718, 719, 720, 721, 722, 723, 724, 725, 726, 727, 728, 729, 730, 731, 732, 733, 734, 735, 736, 737, 738, 739, 740, 741, 742, 743, 744, 745, 746, 747, 748, 749, 750, 751, 752, 753, 754, 755, 756, 757, 758, 759, 760, 761, 762, 763, 764, 765, 766, 767, 768, 769, 770, 771, 772, 773, 774, 775, 776, 777, 778, 779, 780, 781, 782, 783, 784, 785, 786, 787, 788, 789, 790, 791, 792, 793, 794, 795, 796, 797, 798, 799, 800, 801, 802, 803, 804, 805, 806, 807, 808, 809, 810, 811, 812, 813, 814, 815, 816, 817, 818, 819, 820, 821, 822, 823, 824, 825, 826, 827, 828, 829, 830, 831, 832, 833, 834, 835, 836, 837, 838, 839, 840, 841, 842, 843, 844, 845, 846, 847, 848, 849, 850, 851, 852, 853, 854, 855, 856, 857, 858, 859, 860, 861, 862, 863, 864, 865, 866, 867, 868, 869, 870, 871, 872, 873, 874, 875, 876, 877, 878, 879, 880, 881, 882, 883, 884, 885, 886, 887, 888, 889, 890, 891, 892, 893, 894, 895, 896, 897, 898, 899, 900, 901, 902, 903, 904, 905, 906, 907, 908, 909, 910, 911, 912, 913, 914, 915, 916, 917, 918, 919, 920, 921, 922, 923, 924, 925, 926, 927, 928, 929, 930, 931, 932, 933, 934], \"xaxis\": \"x3\", \"y\": [-17.647051284950738, -19.03228773247092, -19.811987847811174, -20.63090364942593, -22.37946189625408, -20.59514817076388, -23.67703975092536, -22.532864433739668, -22.17876985473159, -22.43021160790345, -22.193764087718904, -22.23990018921832, -21.03805474515834, -21.644744479875765, -19.798147017361348, -17.169542634431707, -14.799300419898833, -10.495955552540126, -8.00114586395881, -6.973464203059155, -3.1603154141318184, 6.056524262915471, 16.04153002992815, 17.510964862684784, 20.102660364414884, 22.395880920611226, 28.65949747834544, 26.870826454380285, 29.35993320819292, 27.235750201656977, 27.620281792070923, 36.39043429751756, 36.6703907245328, 31.891523622136276, 30.449257826929312, 21.672569373770262, 17.84686131276809, 15.680194646101425, 12.627907064402079, 17.419846062223428, 10.719410332375935, 6.454704450022992, 0.029867848715801976, -4.192610685181417, -8.46827389164047, -7.871964779760425, -7.955009762459384, -10.124559935469765, -10.920407686334816, -14.49480215000264, -17.249127409518216, -17.647051284950738, -19.03228773247092, -19.811987847811174, -20.63090364942593, -22.37946189625408, -20.59514817076388, -23.67703975092536, -22.532864433739668, -22.17876985473159, -22.43021160790345, -22.193764087718904, -22.23990018921832, -21.03805474515834, -21.644744479875765, -19.798147017361348, -17.169542634431707, -14.799300419898833, -10.495955552540126, -8.00114586395881, -6.973464203059155, -3.1603154141318184, 6.056524262915471, 16.04153002992815, 17.510964862684784, 20.102660364414884, 22.395880920611226, 28.65949747834544, 26.870826454380285, 29.35993320819292, 27.235750201656977, 27.620281792070923, 36.39043429751756, 36.6703907245328, 31.891523622136276, 30.449257826929312, 21.672569373770262, 17.84686131276809, 15.680194646101425, 12.627907064402079, 17.419846062223428, 10.719410332375935, 6.454704450022992, 0.029867848715801976, -4.192610685181417, -8.46827389164047, -7.871964779760425, -7.955009762459384, -10.124559935469765, -10.920407686334816, -14.49480215000264, -17.249127409518216, -17.647051284950738, -19.03228773247092, -19.811987847811174, -20.63090364942593, -22.37946189625408, -20.59514817076388, -23.67703975092536, -22.532864433739668, -22.17876985473159, -22.43021160790345, -22.193764087718904, -22.23990018921832, -21.03805474515834, -21.644744479875765, -19.798147017361348, -17.169542634431707, -14.799300419898833, -10.495955552540126, -8.00114586395881, -6.973464203059155, -3.1603154141318184, 6.056524262915471, 16.04153002992815, 17.510964862684784, 20.102660364414884, 22.395880920611226, 28.65949747834544, 26.870826454380285, 29.35993320819292, 27.235750201656977, 27.620281792070923, 36.39043429751756, 36.6703907245328, 31.891523622136276, 30.449257826929312, 21.672569373770262, 17.84686131276809, 15.680194646101425, 12.627907064402079, 17.419846062223428, 10.719410332375935, 6.454704450022992, 0.029867848715801976, -4.192610685181417, -8.46827389164047, -7.871964779760425, -7.955009762459384, -10.124559935469765, -10.920407686334816, -14.49480215000264, -17.249127409518216, -17.647051284950738, -19.03228773247092, -19.811987847811174, -20.63090364942593, -22.37946189625408, -20.59514817076388, -23.67703975092536, -22.532864433739668, -22.17876985473159, -22.43021160790345, -22.193764087718904, -22.23990018921832, -21.03805474515834, -21.644744479875765, -19.798147017361348, -17.169542634431707, -14.799300419898833, -10.495955552540126, -8.00114586395881, -6.973464203059155, -3.1603154141318184, 6.056524262915471, 16.04153002992815, 17.510964862684784, 20.102660364414884, 22.395880920611226, 28.65949747834544, 26.870826454380285, 29.35993320819292, 27.235750201656977, 27.620281792070923, 36.39043429751756, 36.6703907245328, 31.891523622136276, 30.449257826929312, 21.672569373770262, 17.84686131276809, 15.680194646101425, 12.627907064402079, 17.419846062223428, 10.719410332375935, 6.454704450022992, 0.029867848715801976, -4.192610685181417, -8.46827389164047, -7.871964779760425, -7.955009762459384, -10.124559935469765, -10.920407686334816, -14.49480215000264, -17.249127409518216, -17.647051284950738, -19.03228773247092, -19.811987847811174, -20.63090364942593, -22.37946189625408, -20.59514817076388, -23.67703975092536, -22.532864433739668, -22.17876985473159, -22.43021160790345, -22.193764087718904, -22.23990018921832, -21.03805474515834, -21.644744479875765, -19.798147017361348, -17.169542634431707, -14.799300419898833, -10.495955552540126, -8.00114586395881, -6.973464203059155, -3.1603154141318184, 6.056524262915471, 16.04153002992815, 17.510964862684784, 20.102660364414884, 22.395880920611226, 28.65949747834544, 26.870826454380285, 29.35993320819292, 27.235750201656977, 27.620281792070923, 36.39043429751756, 36.6703907245328, 31.891523622136276, 30.449257826929312, 21.672569373770262, 17.84686131276809, 15.680194646101425, 12.627907064402079, 17.419846062223428, 10.719410332375935, 6.454704450022992, 0.029867848715801976, -4.192610685181417, -8.46827389164047, -7.871964779760425, -7.955009762459384, -10.124559935469765, -10.920407686334816, -14.49480215000264, -17.249127409518216, -17.647051284950738, -19.03228773247092, -19.811987847811174, -20.63090364942593, -22.37946189625408, -20.59514817076388, -23.67703975092536, -22.532864433739668, -22.17876985473159, -22.43021160790345, -22.193764087718904, -22.23990018921832, -21.03805474515834, -21.644744479875765, -19.798147017361348, -17.169542634431707, -14.799300419898833, -10.495955552540126, -8.00114586395881, -6.973464203059155, -3.1603154141318184, 6.056524262915471, 16.04153002992815, 17.510964862684784, 20.102660364414884, 22.395880920611226, 28.65949747834544, 26.870826454380285, 29.35993320819292, 27.235750201656977, 27.620281792070923, 36.39043429751756, 36.6703907245328, 31.891523622136276, 30.449257826929312, 21.672569373770262, 17.84686131276809, 15.680194646101425, 12.627907064402079, 17.419846062223428, 10.719410332375935, 6.454704450022992, 0.029867848715801976, -4.192610685181417, -8.46827389164047, -7.871964779760425, -7.955009762459384, -10.124559935469765, -10.920407686334816, -14.49480215000264, -17.249127409518216, -17.647051284950738, -19.03228773247092, -19.811987847811174, -20.63090364942593, -22.37946189625408, -20.59514817076388, -23.67703975092536, -22.532864433739668, -22.17876985473159, -22.43021160790345, -22.193764087718904, -22.23990018921832, -21.03805474515834, -21.644744479875765, -19.798147017361348, -17.169542634431707, -14.799300419898833, -10.495955552540126, -8.00114586395881, -6.973464203059155, -3.1603154141318184, 6.056524262915471, 16.04153002992815, 17.510964862684784, 20.102660364414884, 22.395880920611226, 28.65949747834544, 26.870826454380285, 29.35993320819292, 27.235750201656977, 27.620281792070923, 36.39043429751756, 36.6703907245328, 31.891523622136276, 30.449257826929312, 21.672569373770262, 17.84686131276809, 15.680194646101425, 12.627907064402079, 17.419846062223428, 10.719410332375935, 6.454704450022992, 0.029867848715801976, -4.192610685181417, -8.46827389164047, -7.871964779760425, -7.955009762459384, -10.124559935469765, -10.920407686334816, -14.49480215000264, -17.249127409518216, -17.647051284950738, -19.03228773247092, -19.811987847811174, -20.63090364942593, -22.37946189625408, -20.59514817076388, -23.67703975092536, -22.532864433739668, -22.17876985473159, -22.43021160790345, -22.193764087718904, -22.23990018921832, -21.03805474515834, -21.644744479875765, -19.798147017361348, -17.169542634431707, -14.799300419898833, -10.495955552540126, -8.00114586395881, -6.973464203059155, -3.1603154141318184, 6.056524262915471, 16.04153002992815, 17.510964862684784, 20.102660364414884, 22.395880920611226, 28.65949747834544, 26.870826454380285, 29.35993320819292, 27.235750201656977, 27.620281792070923, 36.39043429751756, 36.6703907245328, 31.891523622136276, 30.449257826929312, 21.672569373770262, 17.84686131276809, 15.680194646101425, 12.627907064402079, 17.419846062223428, 10.719410332375935, 6.454704450022992, 0.029867848715801976, -4.192610685181417, -8.46827389164047, -7.871964779760425, -7.955009762459384, -10.124559935469765, -10.920407686334816, -14.49480215000264, -17.249127409518216, -17.647051284950738, -19.03228773247092, -19.811987847811174, -20.63090364942593, -22.37946189625408, -20.59514817076388, -23.67703975092536, -22.532864433739668, -22.17876985473159, -22.43021160790345, -22.193764087718904, -22.23990018921832, -21.03805474515834, -21.644744479875765, -19.798147017361348, -17.169542634431707, -14.799300419898833, -10.495955552540126, -8.00114586395881, -6.973464203059155, -3.1603154141318184, 6.056524262915471, 16.04153002992815, 17.510964862684784, 20.102660364414884, 22.395880920611226, 28.65949747834544, 26.870826454380285, 29.35993320819292, 27.235750201656977, 27.620281792070923, 36.39043429751756, 36.6703907245328, 31.891523622136276, 30.449257826929312, 21.672569373770262, 17.84686131276809, 15.680194646101425, 12.627907064402079, 17.419846062223428, 10.719410332375935, 6.454704450022992, 0.029867848715801976, -4.192610685181417, -8.46827389164047, -7.871964779760425, -7.955009762459384, -10.124559935469765, -10.920407686334816, -14.49480215000264, -17.249127409518216, -17.647051284950738, -19.03228773247092, -19.811987847811174, -20.63090364942593, -22.37946189625408, -20.59514817076388, -23.67703975092536, -22.532864433739668, -22.17876985473159, -22.43021160790345, -22.193764087718904, -22.23990018921832, -21.03805474515834, -21.644744479875765, -19.798147017361348, -17.169542634431707, -14.799300419898833, -10.495955552540126, -8.00114586395881, -6.973464203059155, -3.1603154141318184, 6.056524262915471, 16.04153002992815, 17.510964862684784, 20.102660364414884, 22.395880920611226, 28.65949747834544, 26.870826454380285, 29.35993320819292, 27.235750201656977, 27.620281792070923, 36.39043429751756, 36.6703907245328, 31.891523622136276, 30.449257826929312, 21.672569373770262, 17.84686131276809, 15.680194646101425, 12.627907064402079, 17.419846062223428, 10.719410332375935, 6.454704450022992, 0.029867848715801976, -4.192610685181417, -8.46827389164047, -7.871964779760425, -7.955009762459384, -10.124559935469765, -10.920407686334816, -14.49480215000264, -17.249127409518216, -17.647051284950738, -19.03228773247092, -19.811987847811174, -20.63090364942593, -22.37946189625408, -20.59514817076388, -23.67703975092536, -22.532864433739668, -22.17876985473159, -22.43021160790345, -22.193764087718904, -22.23990018921832, -21.03805474515834, -21.644744479875765, -19.798147017361348, -17.169542634431707, -14.799300419898833, -10.495955552540126, -8.00114586395881, -6.973464203059155, -3.1603154141318184, 6.056524262915471, 16.04153002992815, 17.510964862684784, 20.102660364414884, 22.395880920611226, 28.65949747834544, 26.870826454380285, 29.35993320819292, 27.235750201656977, 27.620281792070923, 36.39043429751756, 36.6703907245328, 31.891523622136276, 30.449257826929312, 21.672569373770262, 17.84686131276809, 15.680194646101425, 12.627907064402079, 17.419846062223428, 10.719410332375935, 6.454704450022992, 0.029867848715801976, -4.192610685181417, -8.46827389164047, -7.871964779760425, -7.955009762459384, -10.124559935469765, -10.920407686334816, -14.49480215000264, -17.249127409518216, -17.647051284950738, -19.03228773247092, -19.811987847811174, -20.63090364942593, -22.37946189625408, -20.59514817076388, -23.67703975092536, -22.532864433739668, -22.17876985473159, -22.43021160790345, -22.193764087718904, -22.23990018921832, -21.03805474515834, -21.644744479875765, -19.798147017361348, -17.169542634431707, -14.799300419898833, -10.495955552540126, -8.00114586395881, -6.973464203059155, -3.1603154141318184, 6.056524262915471, 16.04153002992815, 17.510964862684784, 20.102660364414884, 22.395880920611226, 28.65949747834544, 26.870826454380285, 29.35993320819292, 27.235750201656977, 27.620281792070923, 36.39043429751756, 36.6703907245328, 31.891523622136276, 30.449257826929312, 21.672569373770262, 17.84686131276809, 15.680194646101425, 12.627907064402079, 17.419846062223428, 10.719410332375935, 6.454704450022992, 0.029867848715801976, -4.192610685181417, -8.46827389164047, -7.871964779760425, -7.955009762459384, -10.124559935469765, -10.920407686334816, -14.49480215000264, -17.249127409518216, -17.647051284950738, -19.03228773247092, -19.811987847811174, -20.63090364942593, -22.37946189625408, -20.59514817076388, -23.67703975092536, -22.532864433739668, -22.17876985473159, -22.43021160790345, -22.193764087718904, -22.23990018921832, -21.03805474515834, -21.644744479875765, -19.798147017361348, -17.169542634431707, -14.799300419898833, -10.495955552540126, -8.00114586395881, -6.973464203059155, -3.1603154141318184, 6.056524262915471, 16.04153002992815, 17.510964862684784, 20.102660364414884, 22.395880920611226, 28.65949747834544, 26.870826454380285, 29.35993320819292, 27.235750201656977, 27.620281792070923, 36.39043429751756, 36.6703907245328, 31.891523622136276, 30.449257826929312, 21.672569373770262, 17.84686131276809, 15.680194646101425, 12.627907064402079, 17.419846062223428, 10.719410332375935, 6.454704450022992, 0.029867848715801976, -4.192610685181417, -8.46827389164047, -7.871964779760425, -7.955009762459384, -10.124559935469765, -10.920407686334816, -14.49480215000264, -17.249127409518216, -17.647051284950738, -19.03228773247092, -19.811987847811174, -20.63090364942593, -22.37946189625408, -20.59514817076388, -23.67703975092536, -22.532864433739668, -22.17876985473159, -22.43021160790345, -22.193764087718904, -22.23990018921832, -21.03805474515834, -21.644744479875765, -19.798147017361348, -17.169542634431707, -14.799300419898833, -10.495955552540126, -8.00114586395881, -6.973464203059155, -3.1603154141318184, 6.056524262915471, 16.04153002992815, 17.510964862684784, 20.102660364414884, 22.395880920611226, 28.65949747834544, 26.870826454380285, 29.35993320819292, 27.235750201656977, 27.620281792070923, 36.39043429751756, 36.6703907245328, 31.891523622136276, 30.449257826929312, 21.672569373770262, 17.84686131276809, 15.680194646101425, 12.627907064402079, 17.419846062223428, 10.719410332375935, 6.454704450022992, 0.029867848715801976, -4.192610685181417, -8.46827389164047, -7.871964779760425, -7.955009762459384, -10.124559935469765, -10.920407686334816, -14.49480215000264, -17.249127409518216, -17.647051284950738, -19.03228773247092, -19.811987847811174, -20.63090364942593, -22.37946189625408, -20.59514817076388, -23.67703975092536, -22.532864433739668, -22.17876985473159, -22.43021160790345, -22.193764087718904, -22.23990018921832, -21.03805474515834, -21.644744479875765, -19.798147017361348, -17.169542634431707, -14.799300419898833, -10.495955552540126, -8.00114586395881, -6.973464203059155, -3.1603154141318184, 6.056524262915471, 16.04153002992815, 17.510964862684784, 20.102660364414884, 22.395880920611226, 28.65949747834544, 26.870826454380285, 29.35993320819292, 27.235750201656977, 27.620281792070923, 36.39043429751756, 36.6703907245328, 31.891523622136276, 30.449257826929312, 21.672569373770262, 17.84686131276809, 15.680194646101425, 12.627907064402079, 17.419846062223428, 10.719410332375935, 6.454704450022992, 0.029867848715801976, -4.192610685181417, -8.46827389164047, -7.871964779760425, -7.955009762459384, -10.124559935469765, -10.920407686334816, -14.49480215000264, -17.249127409518216, -17.647051284950738, -19.03228773247092, -19.811987847811174, -20.63090364942593, -22.37946189625408, -20.59514817076388, -23.67703975092536, -22.532864433739668, -22.17876985473159, -22.43021160790345, -22.193764087718904, -22.23990018921832, -21.03805474515834, -21.644744479875765, -19.798147017361348, -17.169542634431707, -14.799300419898833, -10.495955552540126, -8.00114586395881, -6.973464203059155, -3.1603154141318184, 6.056524262915471, 16.04153002992815, 17.510964862684784, 20.102660364414884, 22.395880920611226, 28.65949747834544, 26.870826454380285, 29.35993320819292, 27.235750201656977, 27.620281792070923, 36.39043429751756, 36.6703907245328, 31.891523622136276, 30.449257826929312, 21.672569373770262, 17.84686131276809, 15.680194646101425, 12.627907064402079, 17.419846062223428, 10.719410332375935, 6.454704450022992, 0.029867848715801976, -4.192610685181417, -8.46827389164047, -7.871964779760425, -7.955009762459384, -10.124559935469765, -10.920407686334816, -14.49480215000264, -17.249127409518216, -17.647051284950738, -19.03228773247092, -19.811987847811174, -20.63090364942593, -22.37946189625408, -20.59514817076388, -23.67703975092536, -22.532864433739668, -22.17876985473159, -22.43021160790345, -22.193764087718904, -22.23990018921832, -21.03805474515834, -21.644744479875765, -19.798147017361348, -17.169542634431707, -14.799300419898833, -10.495955552540126, -8.00114586395881, -6.973464203059155, -3.1603154141318184, 6.056524262915471, 16.04153002992815, 17.510964862684784, 20.102660364414884, 22.395880920611226, 28.65949747834544, 26.870826454380285, 29.35993320819292, 27.235750201656977, 27.620281792070923, 36.39043429751756, 36.6703907245328, 31.891523622136276, 30.449257826929312, 21.672569373770262, 17.84686131276809, 15.680194646101425, 12.627907064402079, 17.419846062223428, 10.719410332375935, 6.454704450022992, 0.029867848715801976, -4.192610685181417, -8.46827389164047, -7.871964779760425, -7.955009762459384, -10.124559935469765, -10.920407686334816, -14.49480215000264, -17.249127409518216, -17.647051284950738, -19.03228773247092, -19.811987847811174, -20.63090364942593, -22.37946189625408, -20.59514817076388, -23.67703975092536, -22.532864433739668, -22.17876985473159, -22.43021160790345, -22.193764087718904, -22.23990018921832, -21.03805474515834, -21.644744479875765, -19.798147017361348, -17.169542634431707, -14.799300419898833, -10.495955552540126, -8.00114586395881, -6.973464203059155, -3.1603154141318184, 6.056524262915471, 16.04153002992815, 17.510964862684784, 20.102660364414884, 22.395880920611226, 28.65949747834544, 26.870826454380285, 29.35993320819292, 27.235750201656977, 27.620281792070923, 36.39043429751756, 36.6703907245328, 31.891523622136276, 30.449257826929312, 21.672569373770262, 17.84686131276809, 15.680194646101425, 12.627907064402079, 17.419846062223428, 10.719410332375935, 6.454704450022992, 0.029867848715801976, -4.192610685181417, -8.46827389164047, -7.871964779760425, -7.955009762459384, -10.124559935469765, -10.920407686334816, -14.49480215000264, -17.249127409518216, -17.647051284950738, -19.03228773247092, -19.811987847811174, -20.63090364942593, -22.37946189625408, -20.59514817076388, -23.67703975092536, -22.532864433739668, -22.17876985473159, -22.43021160790345, -22.193764087718904, -22.23990018921832, -21.03805474515834, -21.644744479875765, -19.798147017361348, -17.169542634431707, -14.799300419898833], \"yaxis\": \"y3\"}, {\"name\": \"Observed\", \"type\": \"scatter\", \"x\": [0, 1, 2, 3, 4, 5, 6, 7, 8, 9, 10, 11, 12, 13, 14, 15, 16, 17, 18, 19, 20, 21, 22, 23, 24, 25, 26, 27, 28, 29, 30, 31, 32, 33, 34, 35, 36, 37, 38, 39, 40, 41, 42, 43, 44, 45, 46, 47, 48, 49, 50, 51, 52, 53, 54, 55, 56, 57, 58, 59, 60, 61, 62, 63, 64, 65, 66, 67, 68, 69, 70, 71, 72, 73, 74, 75, 76, 77, 78, 79, 80, 81, 82, 83, 84, 85, 86, 87, 88, 89, 90, 91, 92, 93, 94, 95, 96, 97, 98, 99, 100, 101, 102, 103, 104, 105, 106, 107, 108, 109, 110, 111, 112, 113, 114, 115, 116, 117, 118, 119, 120, 121, 122, 123, 124, 125, 126, 127, 128, 129, 130, 131, 132, 133, 134, 135, 136, 137, 138, 139, 140, 141, 142, 143, 144, 145, 146, 147, 148, 149, 150, 151, 152, 153, 154, 155, 156, 157, 158, 159, 160, 161, 162, 163, 164, 165, 166, 167, 168, 169, 170, 171, 172, 173, 174, 175, 176, 177, 178, 179, 180, 181, 182, 183, 184, 185, 186, 187, 188, 189, 190, 191, 192, 193, 194, 195, 196, 197, 198, 199, 200, 201, 202, 203, 204, 205, 206, 207, 208, 209, 210, 211, 212, 213, 214, 215, 216, 217, 218, 219, 220, 221, 222, 223, 224, 225, 226, 227, 228, 229, 230, 231, 232, 233, 234, 235, 236, 237, 238, 239, 240, 241, 242, 243, 244, 245, 246, 247, 248, 249, 250, 251, 252, 253, 254, 255, 256, 257, 258, 259, 260, 261, 262, 263, 264, 265, 266, 267, 268, 269, 270, 271, 272, 273, 274, 275, 276, 277, 278, 279, 280, 281, 282, 283, 284, 285, 286, 287, 288, 289, 290, 291, 292, 293, 294, 295, 296, 297, 298, 299, 300, 301, 302, 303, 304, 305, 306, 307, 308, 309, 310, 311, 312, 313, 314, 315, 316, 317, 318, 319, 320, 321, 322, 323, 324, 325, 326, 327, 328, 329, 330, 331, 332, 333, 334, 335, 336, 337, 338, 339, 340, 341, 342, 343, 344, 345, 346, 347, 348, 349, 350, 351, 352, 353, 354, 355, 356, 357, 358, 359, 360, 361, 362, 363, 364, 365, 366, 367, 368, 369, 370, 371, 372, 373, 374, 375, 376, 377, 378, 379, 380, 381, 382, 383, 384, 385, 386, 387, 388, 389, 390, 391, 392, 393, 394, 395, 396, 397, 398, 399, 400, 401, 402, 403, 404, 405, 406, 407, 408, 409, 410, 411, 412, 413, 414, 415, 416, 417, 418, 419, 420, 421, 422, 423, 424, 425, 426, 427, 428, 429, 430, 431, 432, 433, 434, 435, 436, 437, 438, 439, 440, 441, 442, 443, 444, 445, 446, 447, 448, 449, 450, 451, 452, 453, 454, 455, 456, 457, 458, 459, 460, 461, 462, 463, 464, 465, 466, 467, 468, 469, 470, 471, 472, 473, 474, 475, 476, 477, 478, 479, 480, 481, 482, 483, 484, 485, 486, 487, 488, 489, 490, 491, 492, 493, 494, 495, 496, 497, 498, 499, 500, 501, 502, 503, 504, 505, 506, 507, 508, 509, 510, 511, 512, 513, 514, 515, 516, 517, 518, 519, 520, 521, 522, 523, 524, 525, 526, 527, 528, 529, 530, 531, 532, 533, 534, 535, 536, 537, 538, 539, 540, 541, 542, 543, 544, 545, 546, 547, 548, 549, 550, 551, 552, 553, 554, 555, 556, 557, 558, 559, 560, 561, 562, 563, 564, 565, 566, 567, 568, 569, 570, 571, 572, 573, 574, 575, 576, 577, 578, 579, 580, 581, 582, 583, 584, 585, 586, 587, 588, 589, 590, 591, 592, 593, 594, 595, 596, 597, 598, 599, 600, 601, 602, 603, 604, 605, 606, 607, 608, 609, 610, 611, 612, 613, 614, 615, 616, 617, 618, 619, 620, 621, 622, 623, 624, 625, 626, 627, 628, 629, 630, 631, 632, 633, 634, 635, 636, 637, 638, 639, 640, 641, 642, 643, 644, 645, 646, 647, 648, 649, 650, 651, 652, 653, 654, 655, 656, 657, 658, 659, 660, 661, 662, 663, 664, 665, 666, 667, 668, 669, 670, 671, 672, 673, 674, 675, 676, 677, 678, 679, 680, 681, 682, 683, 684, 685, 686, 687, 688, 689, 690, 691, 692, 693, 694, 695, 696, 697, 698, 699, 700, 701, 702, 703, 704, 705, 706, 707, 708, 709, 710, 711, 712, 713, 714, 715, 716, 717, 718, 719, 720, 721, 722, 723, 724, 725, 726, 727, 728, 729, 730, 731, 732, 733, 734, 735, 736, 737, 738, 739, 740, 741, 742, 743, 744, 745, 746, 747, 748, 749, 750, 751, 752, 753, 754, 755, 756, 757, 758, 759, 760, 761, 762, 763, 764, 765, 766, 767, 768, 769, 770, 771, 772, 773, 774, 775, 776, 777, 778, 779, 780, 781, 782, 783, 784, 785, 786, 787, 788, 789, 790, 791, 792, 793, 794, 795, 796, 797, 798, 799, 800, 801, 802, 803, 804, 805, 806, 807, 808, 809, 810, 811, 812, 813, 814, 815, 816, 817, 818, 819, 820, 821, 822, 823, 824, 825, 826, 827, 828, 829, 830, 831, 832, 833, 834, 835, 836, 837, 838, 839, 840, 841, 842, 843, 844, 845, 846, 847, 848, 849, 850, 851, 852, 853, 854, 855, 856, 857, 858, 859, 860, 861, 862, 863, 864, 865, 866, 867, 868, 869, 870, 871, 872, 873, 874, 875, 876, 877, 878, 879, 880, 881, 882, 883, 884, 885, 886, 887, 888, 889, 890, 891, 892, 893, 894, 895, 896, 897, 898, 899, 900, 901, 902, 903, 904, 905, 906, 907, 908, 909, 910, 911, 912, 913, 914, 915, 916, 917, 918, 919, 920, 921, 922, 923, 924, 925, 926, 927, 928, 929, 930, 931, 932, 933, 934], \"xaxis\": \"x4\", \"y\": [4, 5, 4, 3, 6, 2, 4, 5, 10, 6, 8, 2, 6, 17, 23, 13, 21, 28, 24, 20, 40, 27, 42, 33, 43, 37, 57, 71, 44, 56, 53, 52, 47, 26, 27, 21, 21, 26, 34, 37, 17, 19, 25, 18, 21, 17, 17, 16, 16, 15, 23, 16, 17, 12, 17, 10, 15, 19, 21, 14, 18, 13, 14, 18, 23, 25, 62, 60, 76, 66, 64, 68, 89, 92, 140, 116, 142, 129, 140, 140, 127, 129, 169, 141, 108, 78, 70, 81, 104, 90, 85, 55, 53, 65, 33, 38, 59, 40, 37, 29, 30, 30, 28, 23, 24, 29, 26, 23, 20, 19, 20, 26, 29, 31, 28, 26, 32, 35, 33, 30, 52, 59, 67, 65, 74, 70, 61, 53, 76, 61, 57, 44, 34, 47, 60, 60, 53, 36, 31, 30, 32, 28, 33, 33, 35, 22, 13, 13, 21, 17, 11, 8, 8, 6, 6, 7, 12, 17, 10, 10, 18, 19, 12, 22, 12, 21, 18, 16, 16, 22, 17, 25, 23, 12, 25, 28, 27, 18, 23, 23, 29, 38, 36, 43, 46, 31, 25, 40, 31, 38, 30, 22, 31, 26, 35, 36, 39, 25, 31, 37, 33, 25, 24, 18, 23, 13, 18, 14, 17, 22, 13, 24, 31, 34, 31, 31, 38, 49, 42, 49, 55, 80, 84, 72, 89, 115, 179, 202, 272, 302, 395, 426, 461, 381, 333, 353, 410, 364, 359, 288, 221, 149, 112, 154, 91, 72, 56, 46, 37, 26, 17, 17, 20, 11, 7, 16, 14, 16, 5, 2, 6, 5, 4, 3, 4, 16, 8, 7, 10, 14, 7, 9, 11, 23, 17, 19, 24, 17, 28, 40, 33, 31, 33, 29, 30, 36, 48, 40, 28, 36, 19, 34, 23, 17, 17, 23, 14, 20, 13, 23, 20, 16, 16, 23, 14, 15, 4, 5, 5, 11, 11, 7, 4, 6, 5, 2, 4, 2, 4, 6, 6, 4, 6, 11, 16, 9, 12, 13, 27, 21, 19, 17, 24, 27, 30, 29, 25, 35, 33, 30, 29, 31, 29, 22, 27, 24, 26, 29, 22, 33, 24, 30, 20, 17, 24, 28, 18, 13, 9, 14, 11, 11, 19, 10, 8, 8, 9, 3, 7, 14, 4, 9, 14, 7, 9, 3, 3, 14, 12, 10, 21, 26, 47, 42, 31, 34, 33, 52, 56, 70, 112, 70, 47, 48, 49, 66, 56, 61, 67, 64, 68, 49, 50, 56, 75, 63, 62, 41, 50, 34, 31, 38, 30, 32, 26, 30, 36, 35, 46, 48, 44, 51, 59, 71, 102, 128, 127, 150, 191, 256, 329, 263, 220, 204, 181, 99, 54, 80, 102, 127, 73, 68, 64, 55, 67, 84, 85, 67, 73, 89, 68, 59, 56, 77, 75, 47, 50, 42, 28, 37, 37, 27, 12, 15, 22, 8, 15, 17, 10, 9, 11, 20, 13, 11, 16, 11, 7, 17, 14, 13, 15, 30, 25, 40, 44, 25, 21, 48, 56, 60, 45, 55, 32, 46, 61, 42, 37, 43, 34, 40, 25, 16, 17, 17, 16, 23, 18, 18, 9, 7, 7, 4, 3, 2, 8, 3, 1, 1, 2, 3, 3, 2, 0, 0, 2, 2, 0, 6, 3, 6, 2, 3, 2, 4, 5, 2, 9, 2, 4, 8, 6, 3, 11, 14, 15, 20, 9, 20, 28, 38, 30, 30, 23, 16, 22, 28, 14, 17, 20, 17, 10, 13, 20, 9, 18, 9, 8, 19, 11, 4, 6, 6, 8, 13, 8, 8, 5, 16, 12, 11, 18, 10, 22, 14, 16, 18, 27, 38, 35, 41, 51, 65, 55, 54, 62, 64, 56, 65, 71, 75, 71, 72, 47, 27, 35, 25, 19, 37, 38, 34, 26, 19, 18, 22, 16, 18, 6, 12, 6, 6, 3, 7, 6, 1, 3, 2, 2, 1, 10, 3, 3, 1, 1, 2, 6, 3, 3, 5, 4, 7, 6, 5, 7, 6, 4, 4, 7, 9, 5, 5, 10, 6, 13, 6, 5, 5, 9, 3, 6, 11, 7, 7, 15, 9, 6, 6, 6, 7, 10, 8, 7, 12, 3, 2, 7, 5, 5, 7, 7, 7, 7, 10, 13, 10, 14, 11, 20, 25, 17, 18, 25, 21, 31, 32, 26, 35, 28, 37, 41, 34, 30, 39, 39, 39, 34, 30, 37, 29, 26, 15, 22, 15, 20, 14, 10, 21, 14, 14, 9, 11, 5, 6, 7, 11, 4, 3, 2, 6, 10, 7, 5, 3, 12, 13, 10, 13, 13, 8, 21, 18, 8, 7, 20, 14, 14, 7, 14, 10, 13, 27, 13, 18, 16, 16, 20, 17, 4, 15, 8, 6, 12, 15, 11, 10, 15, 17, 7, 7, 8, 9, 12, 12, 5, 4, 11, 4, 5, 7, 1, 1, 4, 2, 6, 3, 4, 10, 12, 21, 26, 21, 30, 45, 56, 75, 83, 82, 126, 119, 137, 131, 112, 82, 73, 43, 55, 55, 53, 46, 43, 29, 22, 26, 13, 17, 8, 13, 10, 17, 19, 9, 9, 9, 3, 7, 7, 0, 2, 3, 3, 1, 3, 3, 3, 7, 3, 5, 11, 5, 5, 6, 6, 4, 4, 8, 14, 12, 16, 10, 16, 18, 15, 23, 17, 33, 15, 13, 11, 14, 17, 19, 20, 12, 21, 7, 19, 10, 13, 10, 8, 21, 11, 9, 14, 14, 15, 18, 16, 12, 20, 8, 3, 13, 4, 1, 10, 8, 13, 10, 21, 18, 21, 34, 25, 34, 33, 40, 42, 36, 72, 75, 76, 92, 71, 112, 106, 101, 170, 135, 106, 68, 48, 48, 26, 33, 29, 17, 12, 13, 17, 15, 14, 15, 10, 9, 2, 6, 8, 5, 1, 2, 3, 4, 3, 1, 3], \"yaxis\": \"y4\"}],\n",
              "                        {\"font\": {\"color\": \"blue\", \"family\": \"Courier New\"}, \"template\": {\"data\": {\"bar\": [{\"error_x\": {\"color\": \"#2a3f5f\"}, \"error_y\": {\"color\": \"#2a3f5f\"}, \"marker\": {\"line\": {\"color\": \"#E5ECF6\", \"width\": 0.5}}, \"type\": \"bar\"}], \"barpolar\": [{\"marker\": {\"line\": {\"color\": \"#E5ECF6\", \"width\": 0.5}}, \"type\": \"barpolar\"}], \"carpet\": [{\"aaxis\": {\"endlinecolor\": \"#2a3f5f\", \"gridcolor\": \"white\", \"linecolor\": \"white\", \"minorgridcolor\": \"white\", \"startlinecolor\": \"#2a3f5f\"}, \"baxis\": {\"endlinecolor\": \"#2a3f5f\", \"gridcolor\": \"white\", \"linecolor\": \"white\", \"minorgridcolor\": \"white\", \"startlinecolor\": \"#2a3f5f\"}, \"type\": \"carpet\"}], \"choropleth\": [{\"colorbar\": {\"outlinewidth\": 0, \"ticks\": \"\"}, \"type\": \"choropleth\"}], \"contour\": [{\"colorbar\": {\"outlinewidth\": 0, \"ticks\": \"\"}, \"colorscale\": [[0.0, \"#0d0887\"], [0.1111111111111111, \"#46039f\"], [0.2222222222222222, \"#7201a8\"], [0.3333333333333333, \"#9c179e\"], [0.4444444444444444, \"#bd3786\"], [0.5555555555555556, \"#d8576b\"], [0.6666666666666666, \"#ed7953\"], [0.7777777777777778, \"#fb9f3a\"], [0.8888888888888888, \"#fdca26\"], [1.0, \"#f0f921\"]], \"type\": \"contour\"}], \"contourcarpet\": [{\"colorbar\": {\"outlinewidth\": 0, \"ticks\": \"\"}, \"type\": \"contourcarpet\"}], \"heatmap\": [{\"colorbar\": {\"outlinewidth\": 0, \"ticks\": \"\"}, \"colorscale\": [[0.0, \"#0d0887\"], [0.1111111111111111, \"#46039f\"], [0.2222222222222222, \"#7201a8\"], [0.3333333333333333, \"#9c179e\"], [0.4444444444444444, \"#bd3786\"], [0.5555555555555556, \"#d8576b\"], [0.6666666666666666, \"#ed7953\"], [0.7777777777777778, \"#fb9f3a\"], [0.8888888888888888, \"#fdca26\"], [1.0, \"#f0f921\"]], \"type\": \"heatmap\"}], \"heatmapgl\": [{\"colorbar\": {\"outlinewidth\": 0, \"ticks\": \"\"}, \"colorscale\": [[0.0, \"#0d0887\"], [0.1111111111111111, \"#46039f\"], [0.2222222222222222, \"#7201a8\"], [0.3333333333333333, \"#9c179e\"], [0.4444444444444444, \"#bd3786\"], [0.5555555555555556, \"#d8576b\"], [0.6666666666666666, \"#ed7953\"], [0.7777777777777778, \"#fb9f3a\"], [0.8888888888888888, \"#fdca26\"], [1.0, \"#f0f921\"]], \"type\": \"heatmapgl\"}], \"histogram\": [{\"marker\": {\"colorbar\": {\"outlinewidth\": 0, \"ticks\": \"\"}}, \"type\": \"histogram\"}], \"histogram2d\": [{\"colorbar\": {\"outlinewidth\": 0, \"ticks\": \"\"}, \"colorscale\": [[0.0, \"#0d0887\"], [0.1111111111111111, \"#46039f\"], [0.2222222222222222, \"#7201a8\"], [0.3333333333333333, \"#9c179e\"], [0.4444444444444444, \"#bd3786\"], [0.5555555555555556, \"#d8576b\"], [0.6666666666666666, \"#ed7953\"], [0.7777777777777778, \"#fb9f3a\"], [0.8888888888888888, \"#fdca26\"], [1.0, \"#f0f921\"]], \"type\": \"histogram2d\"}], \"histogram2dcontour\": [{\"colorbar\": {\"outlinewidth\": 0, \"ticks\": \"\"}, \"colorscale\": [[0.0, \"#0d0887\"], [0.1111111111111111, \"#46039f\"], [0.2222222222222222, \"#7201a8\"], [0.3333333333333333, \"#9c179e\"], [0.4444444444444444, \"#bd3786\"], [0.5555555555555556, \"#d8576b\"], [0.6666666666666666, \"#ed7953\"], [0.7777777777777778, \"#fb9f3a\"], [0.8888888888888888, \"#fdca26\"], [1.0, \"#f0f921\"]], \"type\": \"histogram2dcontour\"}], \"mesh3d\": [{\"colorbar\": {\"outlinewidth\": 0, \"ticks\": \"\"}, \"type\": \"mesh3d\"}], \"parcoords\": [{\"line\": {\"colorbar\": {\"outlinewidth\": 0, \"ticks\": \"\"}}, \"type\": \"parcoords\"}], \"pie\": [{\"automargin\": true, \"type\": \"pie\"}], \"scatter\": [{\"marker\": {\"colorbar\": {\"outlinewidth\": 0, \"ticks\": \"\"}}, \"type\": \"scatter\"}], \"scatter3d\": [{\"line\": {\"colorbar\": {\"outlinewidth\": 0, \"ticks\": \"\"}}, \"marker\": {\"colorbar\": {\"outlinewidth\": 0, \"ticks\": \"\"}}, \"type\": \"scatter3d\"}], \"scattercarpet\": [{\"marker\": {\"colorbar\": {\"outlinewidth\": 0, \"ticks\": \"\"}}, \"type\": \"scattercarpet\"}], \"scattergeo\": [{\"marker\": {\"colorbar\": {\"outlinewidth\": 0, \"ticks\": \"\"}}, \"type\": \"scattergeo\"}], \"scattergl\": [{\"marker\": {\"colorbar\": {\"outlinewidth\": 0, \"ticks\": \"\"}}, \"type\": \"scattergl\"}], \"scattermapbox\": [{\"marker\": {\"colorbar\": {\"outlinewidth\": 0, \"ticks\": \"\"}}, \"type\": \"scattermapbox\"}], \"scatterpolar\": [{\"marker\": {\"colorbar\": {\"outlinewidth\": 0, \"ticks\": \"\"}}, \"type\": \"scatterpolar\"}], \"scatterpolargl\": [{\"marker\": {\"colorbar\": {\"outlinewidth\": 0, \"ticks\": \"\"}}, \"type\": \"scatterpolargl\"}], \"scatterternary\": [{\"marker\": {\"colorbar\": {\"outlinewidth\": 0, \"ticks\": \"\"}}, \"type\": \"scatterternary\"}], \"surface\": [{\"colorbar\": {\"outlinewidth\": 0, \"ticks\": \"\"}, \"colorscale\": [[0.0, \"#0d0887\"], [0.1111111111111111, \"#46039f\"], [0.2222222222222222, \"#7201a8\"], [0.3333333333333333, \"#9c179e\"], [0.4444444444444444, \"#bd3786\"], [0.5555555555555556, \"#d8576b\"], [0.6666666666666666, \"#ed7953\"], [0.7777777777777778, \"#fb9f3a\"], [0.8888888888888888, \"#fdca26\"], [1.0, \"#f0f921\"]], \"type\": \"surface\"}], \"table\": [{\"cells\": {\"fill\": {\"color\": \"#EBF0F8\"}, \"line\": {\"color\": \"white\"}}, \"header\": {\"fill\": {\"color\": \"#C8D4E3\"}, \"line\": {\"color\": \"white\"}}, \"type\": \"table\"}]}, \"layout\": {\"annotationdefaults\": {\"arrowcolor\": \"#2a3f5f\", \"arrowhead\": 0, \"arrowwidth\": 1}, \"coloraxis\": {\"colorbar\": {\"outlinewidth\": 0, \"ticks\": \"\"}}, \"colorscale\": {\"diverging\": [[0, \"#8e0152\"], [0.1, \"#c51b7d\"], [0.2, \"#de77ae\"], [0.3, \"#f1b6da\"], [0.4, \"#fde0ef\"], [0.5, \"#f7f7f7\"], [0.6, \"#e6f5d0\"], [0.7, \"#b8e186\"], [0.8, \"#7fbc41\"], [0.9, \"#4d9221\"], [1, \"#276419\"]], \"sequential\": [[0.0, \"#0d0887\"], [0.1111111111111111, \"#46039f\"], [0.2222222222222222, \"#7201a8\"], [0.3333333333333333, \"#9c179e\"], [0.4444444444444444, \"#bd3786\"], [0.5555555555555556, \"#d8576b\"], [0.6666666666666666, \"#ed7953\"], [0.7777777777777778, \"#fb9f3a\"], [0.8888888888888888, \"#fdca26\"], [1.0, \"#f0f921\"]], \"sequentialminus\": [[0.0, \"#0d0887\"], [0.1111111111111111, \"#46039f\"], [0.2222222222222222, \"#7201a8\"], [0.3333333333333333, \"#9c179e\"], [0.4444444444444444, \"#bd3786\"], [0.5555555555555556, \"#d8576b\"], [0.6666666666666666, \"#ed7953\"], [0.7777777777777778, \"#fb9f3a\"], [0.8888888888888888, \"#fdca26\"], [1.0, \"#f0f921\"]]}, \"colorway\": [\"#636efa\", \"#EF553B\", \"#00cc96\", \"#ab63fa\", \"#FFA15A\", \"#19d3f3\", \"#FF6692\", \"#B6E880\", \"#FF97FF\", \"#FECB52\"], \"font\": {\"color\": \"#2a3f5f\"}, \"geo\": {\"bgcolor\": \"white\", \"lakecolor\": \"white\", \"landcolor\": \"#E5ECF6\", \"showlakes\": true, \"showland\": true, \"subunitcolor\": \"white\"}, \"hoverlabel\": {\"align\": \"left\"}, \"hovermode\": \"closest\", \"mapbox\": {\"style\": \"light\"}, \"paper_bgcolor\": \"white\", \"plot_bgcolor\": \"#E5ECF6\", \"polar\": {\"angularaxis\": {\"gridcolor\": \"white\", \"linecolor\": \"white\", \"ticks\": \"\"}, \"bgcolor\": \"#E5ECF6\", \"radialaxis\": {\"gridcolor\": \"white\", \"linecolor\": \"white\", \"ticks\": \"\"}}, \"scene\": {\"xaxis\": {\"backgroundcolor\": \"#E5ECF6\", \"gridcolor\": \"white\", \"gridwidth\": 2, \"linecolor\": \"white\", \"showbackground\": true, \"ticks\": \"\", \"zerolinecolor\": \"white\"}, \"yaxis\": {\"backgroundcolor\": \"#E5ECF6\", \"gridcolor\": \"white\", \"gridwidth\": 2, \"linecolor\": \"white\", \"showbackground\": true, \"ticks\": \"\", \"zerolinecolor\": \"white\"}, \"zaxis\": {\"backgroundcolor\": \"#E5ECF6\", \"gridcolor\": \"white\", \"gridwidth\": 2, \"linecolor\": \"white\", \"showbackground\": true, \"ticks\": \"\", \"zerolinecolor\": \"white\"}}, \"shapedefaults\": {\"line\": {\"color\": \"#2a3f5f\"}}, \"ternary\": {\"aaxis\": {\"gridcolor\": \"white\", \"linecolor\": \"white\", \"ticks\": \"\"}, \"baxis\": {\"gridcolor\": \"white\", \"linecolor\": \"white\", \"ticks\": \"\"}, \"bgcolor\": \"#E5ECF6\", \"caxis\": {\"gridcolor\": \"white\", \"linecolor\": \"white\", \"ticks\": \"\"}}, \"title\": {\"x\": 0.05}, \"xaxis\": {\"automargin\": true, \"gridcolor\": \"white\", \"linecolor\": \"white\", \"ticks\": \"\", \"title\": {\"standoff\": 15}, \"zerolinecolor\": \"white\", \"zerolinewidth\": 2}, \"yaxis\": {\"automargin\": true, \"gridcolor\": \"white\", \"linecolor\": \"white\", \"ticks\": \"\", \"title\": {\"standoff\": 15}, \"zerolinecolor\": \"white\", \"zerolinewidth\": 2}}}, \"title\": {\"font\": {\"color\": \"red\", \"family\": \"Times New Roman\"}}, \"xaxis\": {\"anchor\": \"y\", \"domain\": [0.0, 1.0], \"matches\": \"x4\", \"showticklabels\": false}, \"xaxis2\": {\"anchor\": \"y2\", \"domain\": [0.0, 1.0], \"matches\": \"x4\", \"showticklabels\": false}, \"xaxis3\": {\"anchor\": \"y3\", \"domain\": [0.0, 1.0], \"matches\": \"x4\", \"showticklabels\": false}, \"xaxis4\": {\"anchor\": \"y4\", \"domain\": [0.0, 1.0]}, \"yaxis\": {\"anchor\": \"x\", \"domain\": [0.80625, 1.0]}, \"yaxis2\": {\"anchor\": \"x2\", \"domain\": [0.5375, 0.73125]}, \"yaxis3\": {\"anchor\": \"x3\", \"domain\": [0.26875, 0.4625]}, \"yaxis4\": {\"anchor\": \"x4\", \"domain\": [0.0, 0.19375]}},\n",
              "                        {\"responsive\": true}\n",
              "                    ).then(function(){\n",
              "                            \n",
              "var gd = document.getElementById('9d661844-2771-4172-a1ee-05d6457233cd');\n",
              "var x = new MutationObserver(function (mutations, observer) {{\n",
              "        var display = window.getComputedStyle(gd).display;\n",
              "        if (!display || display === 'none') {{\n",
              "            console.log([gd, 'removed!']);\n",
              "            Plotly.purge(gd);\n",
              "            observer.disconnect();\n",
              "        }}\n",
              "}});\n",
              "\n",
              "// Listen for the removal of the full notebook cells\n",
              "var notebookContainer = gd.closest('#notebook-container');\n",
              "if (notebookContainer) {{\n",
              "    x.observe(notebookContainer, {childList: true});\n",
              "}}\n",
              "\n",
              "// Listen for the clearing of the current output cell\n",
              "var outputEl = gd.closest('.output');\n",
              "if (outputEl) {{\n",
              "    x.observe(outputEl, {childList: true});\n",
              "}}\n",
              "\n",
              "                        })\n",
              "                };\n",
              "                \n",
              "            </script>\n",
              "        </div>\n",
              "</body>\n",
              "</html>"
            ]
          },
          "metadata": {
            "tags": []
          }
        }
      ]
    },
    {
      "cell_type": "code",
      "metadata": {
        "id": "AR45Rq317lml",
        "colab": {
          "base_uri": "https://localhost:8080/"
        },
        "outputId": "ea6d6f70-75b4-40aa-8155-051f3a3e61a0"
      },
      "source": [
        "X_train_sj.columns"
      ],
      "execution_count": 27,
      "outputs": [
        {
          "output_type": "execute_result",
          "data": {
            "text/plain": [
              "Index(['city', 'year', 'weekofyear', 'week_start_date', 'ndvi_ne', 'ndvi_nw',\n",
              "       'ndvi_se', 'ndvi_sw', 'precipitation_amt_mm', 'reanalysis_air_temp_k',\n",
              "       'reanalysis_avg_temp_k', 'reanalysis_dew_point_temp_k',\n",
              "       'reanalysis_max_air_temp_k', 'reanalysis_min_air_temp_k',\n",
              "       'reanalysis_precip_amt_kg_per_m2',\n",
              "       'reanalysis_relative_humidity_percent', 'reanalysis_sat_precip_amt_mm',\n",
              "       'reanalysis_specific_humidity_g_per_kg', 'reanalysis_tdtr_k',\n",
              "       'station_avg_temp_c', 'station_diur_temp_rng_c', 'station_max_temp_c',\n",
              "       'station_min_temp_c', 'station_precip_mm', 'total_cases'],\n",
              "      dtype='object')"
            ]
          },
          "metadata": {
            "tags": []
          },
          "execution_count": 27
        }
      ]
    },
    {
      "cell_type": "code",
      "metadata": {
        "id": "5cOOh2YW7xq1"
      },
      "source": [
        "prediktorok=['weekofyear',  'ndvi_ne', 'ndvi_nw',\n",
        "       'ndvi_se', 'ndvi_sw', 'precipitation_amt_mm', 'reanalysis_air_temp_k',\n",
        "       'reanalysis_avg_temp_k', 'reanalysis_dew_point_temp_k',\n",
        "       'reanalysis_max_air_temp_k', 'reanalysis_min_air_temp_k',\n",
        "       'reanalysis_precip_amt_kg_per_m2',\n",
        "       'reanalysis_relative_humidity_percent', 'reanalysis_sat_precip_amt_mm',\n",
        "       'reanalysis_specific_humidity_g_per_kg', 'reanalysis_tdtr_k',\n",
        "       'station_avg_temp_c', 'station_diur_temp_rng_c', 'station_max_temp_c',\n",
        "       'station_min_temp_c', 'station_precip_mm']"
      ],
      "execution_count": 28,
      "outputs": []
    },
    {
      "cell_type": "code",
      "metadata": {
        "id": "aUoUILObDTiy",
        "colab": {
          "base_uri": "https://localhost:8080/"
        },
        "outputId": "5826496e-090f-4d70-88e4-ae6ac17a7815"
      },
      "source": [
        "X_train_sj.isnull().sum()\n"
      ],
      "execution_count": 29,
      "outputs": [
        {
          "output_type": "execute_result",
          "data": {
            "text/plain": [
              "city                                     0\n",
              "year                                     0\n",
              "weekofyear                               0\n",
              "week_start_date                          0\n",
              "ndvi_ne                                  0\n",
              "ndvi_nw                                  0\n",
              "ndvi_se                                  0\n",
              "ndvi_sw                                  0\n",
              "precipitation_amt_mm                     0\n",
              "reanalysis_air_temp_k                    0\n",
              "reanalysis_avg_temp_k                    0\n",
              "reanalysis_dew_point_temp_k              0\n",
              "reanalysis_max_air_temp_k                0\n",
              "reanalysis_min_air_temp_k                0\n",
              "reanalysis_precip_amt_kg_per_m2          0\n",
              "reanalysis_relative_humidity_percent     0\n",
              "reanalysis_sat_precip_amt_mm             0\n",
              "reanalysis_specific_humidity_g_per_kg    0\n",
              "reanalysis_tdtr_k                        0\n",
              "station_avg_temp_c                       0\n",
              "station_diur_temp_rng_c                  0\n",
              "station_max_temp_c                       0\n",
              "station_min_temp_c                       0\n",
              "station_precip_mm                        0\n",
              "total_cases                              0\n",
              "dtype: int64"
            ]
          },
          "metadata": {
            "tags": []
          },
          "execution_count": 29
        }
      ]
    },
    {
      "cell_type": "code",
      "metadata": {
        "id": "qPGLZvjj8Lkw",
        "colab": {
          "base_uri": "https://localhost:8080/"
        },
        "outputId": "27f8bc96-a02d-4856-b34a-9fb298ca0209"
      },
      "source": [
        "X_train_sj.dropna(inplace=True)"
      ],
      "execution_count": 30,
      "outputs": [
        {
          "output_type": "stream",
          "text": [
            "/usr/local/lib/python3.7/dist-packages/ipykernel_launcher.py:1: SettingWithCopyWarning:\n",
            "\n",
            "\n",
            "A value is trying to be set on a copy of a slice from a DataFrame\n",
            "\n",
            "See the caveats in the documentation: https://pandas.pydata.org/pandas-docs/stable/user_guide/indexing.html#returning-a-view-versus-a-copy\n",
            "\n"
          ],
          "name": "stderr"
        }
      ]
    },
    {
      "cell_type": "code",
      "metadata": {
        "id": "aUK_gUz77irh",
        "colab": {
          "base_uri": "https://localhost:8080/"
        },
        "outputId": "64640494-8dea-4f51-d264-e839f2612586"
      },
      "source": [
        "from sklearn.linear_model import Lasso\n",
        "\n",
        "\n",
        "\n",
        "\n",
        "alpha=0.00001\n",
        "lassoreg = Lasso(alpha=alpha,normalize=False, max_iter=500, tol=0.0001)\n",
        "lassoreg.fit(X_train_sj[prediktorok],X_train_sj[['total_cases']])\n",
        "y_pred = lassoreg.predict(X_train_sj[prediktorok])"
      ],
      "execution_count": 31,
      "outputs": [
        {
          "output_type": "stream",
          "text": [
            "/usr/local/lib/python3.7/dist-packages/sklearn/linear_model/_coordinate_descent.py:476: ConvergenceWarning:\n",
            "\n",
            "Objective did not converge. You might want to increase the number of iterations. Duality gap: 1049663.845683744, tolerance: 246.84424861111117\n",
            "\n"
          ],
          "name": "stderr"
        }
      ]
    },
    {
      "cell_type": "code",
      "metadata": {
        "id": "4XNPG3tK88a2"
      },
      "source": [
        "y_pred=y_pred.T"
      ],
      "execution_count": 32,
      "outputs": []
    },
    {
      "cell_type": "code",
      "metadata": {
        "id": "Z9CY-D0N8pkz",
        "colab": {
          "base_uri": "https://localhost:8080/"
        },
        "outputId": "caf9bc1b-4245-46a4-a30d-c0cbd12125fd"
      },
      "source": [
        "X_train_sj[\"pred\"]=y_pred"
      ],
      "execution_count": 33,
      "outputs": [
        {
          "output_type": "stream",
          "text": [
            "/usr/local/lib/python3.7/dist-packages/ipykernel_launcher.py:1: SettingWithCopyWarning:\n",
            "\n",
            "\n",
            "A value is trying to be set on a copy of a slice from a DataFrame.\n",
            "Try using .loc[row_indexer,col_indexer] = value instead\n",
            "\n",
            "See the caveats in the documentation: https://pandas.pydata.org/pandas-docs/stable/user_guide/indexing.html#returning-a-view-versus-a-copy\n",
            "\n"
          ],
          "name": "stderr"
        }
      ]
    },
    {
      "cell_type": "code",
      "metadata": {
        "id": "BMwLJKUNZNoj",
        "colab": {
          "base_uri": "https://localhost:8080/",
          "height": 617
        },
        "outputId": "cbbf2e1c-55c3-4688-ec3e-e3ee7d673e1d"
      },
      "source": [
        "grafikon(X_train_sj,\"week_start_date\",\"total_cases\",\"total_cases\",\"pred\",\"pred\",title=\"prediction\",)"
      ],
      "execution_count": 34,
      "outputs": [
        {
          "output_type": "display_data",
          "data": {
            "text/html": [
              "<html>\n",
              "<head><meta charset=\"utf-8\" /></head>\n",
              "<body>\n",
              "    <div>\n",
              "            <script src=\"https://cdnjs.cloudflare.com/ajax/libs/mathjax/2.7.5/MathJax.js?config=TeX-AMS-MML_SVG\"></script><script type=\"text/javascript\">if (window.MathJax) {MathJax.Hub.Config({SVG: {font: \"STIX-Web\"}});}</script>\n",
              "                <script type=\"text/javascript\">window.PlotlyConfig = {MathJaxConfig: 'local'};</script>\n",
              "        <script src=\"https://cdn.plot.ly/plotly-latest.min.js\"></script>    \n",
              "            <div id=\"9e82f2da-965a-485f-98e2-91d1163b60f0\" class=\"plotly-graph-div\" style=\"height:600px; width:1200px;\"></div>\n",
              "            <script type=\"text/javascript\">\n",
              "                \n",
              "                    window.PLOTLYENV=window.PLOTLYENV || {};\n",
              "                    \n",
              "                if (document.getElementById(\"9e82f2da-965a-485f-98e2-91d1163b60f0\")) {\n",
              "                    Plotly.newPlot(\n",
              "                        '9e82f2da-965a-485f-98e2-91d1163b60f0',\n",
              "                        [{\"line\": {\"color\": \"rgba(35,128,132,0.8)\"}, \"name\": \"total_cases\", \"showlegend\": true, \"type\": \"scatter\", \"x\": [\"1990-04-30\", \"1990-05-07\", \"1990-05-14\", \"1990-05-21\", \"1990-05-28\", \"1990-06-04\", \"1990-06-11\", \"1990-06-18\", \"1990-06-25\", \"1990-07-02\", \"1990-07-09\", \"1990-07-16\", \"1990-07-23\", \"1990-07-30\", \"1990-08-06\", \"1990-08-13\", \"1990-08-20\", \"1990-08-27\", \"1990-09-03\", \"1990-09-10\", \"1990-09-17\", \"1990-09-24\", \"1990-10-01\", \"1990-10-08\", \"1990-10-15\", \"1990-10-22\", \"1990-10-29\", \"1990-11-05\", \"1990-11-12\", \"1990-11-19\", \"1990-11-26\", \"1990-12-03\", \"1990-12-10\", \"1990-12-17\", \"1990-12-24\", \"1991-01-01\", \"1991-01-08\", \"1991-01-15\", \"1991-01-22\", \"1991-01-29\", \"1991-02-05\", \"1991-02-12\", \"1991-02-19\", \"1991-02-26\", \"1991-03-05\", \"1991-03-12\", \"1991-03-19\", \"1991-03-26\", \"1991-04-02\", \"1991-04-09\", \"1991-04-16\", \"1991-04-23\", \"1991-04-30\", \"1991-05-07\", \"1991-05-14\", \"1991-05-21\", \"1991-05-28\", \"1991-06-04\", \"1991-06-11\", \"1991-06-18\", \"1991-06-25\", \"1991-07-02\", \"1991-07-09\", \"1991-07-16\", \"1991-07-23\", \"1991-07-30\", \"1991-08-06\", \"1991-08-13\", \"1991-08-20\", \"1991-08-27\", \"1991-09-03\", \"1991-09-10\", \"1991-09-17\", \"1991-09-24\", \"1991-10-01\", \"1991-10-08\", \"1991-10-15\", \"1991-10-22\", \"1991-10-29\", \"1991-11-05\", \"1991-11-12\", \"1991-11-19\", \"1991-11-26\", \"1991-12-03\", \"1991-12-10\", \"1991-12-17\", \"1991-12-24\", \"1992-01-01\", \"1992-01-08\", \"1992-01-15\", \"1992-01-22\", \"1992-01-29\", \"1992-02-05\", \"1992-02-12\", \"1992-02-19\", \"1992-02-26\", \"1992-03-04\", \"1992-03-11\", \"1992-03-18\", \"1992-03-25\", \"1992-04-01\", \"1992-04-08\", \"1992-04-15\", \"1992-04-22\", \"1992-04-29\", \"1992-05-06\", \"1992-05-13\", \"1992-05-20\", \"1992-05-27\", \"1992-06-03\", \"1992-06-10\", \"1992-06-17\", \"1992-06-24\", \"1992-07-01\", \"1992-07-08\", \"1992-07-15\", \"1992-07-22\", \"1992-07-29\", \"1992-08-05\", \"1992-08-12\", \"1992-08-19\", \"1992-08-26\", \"1992-09-02\", \"1992-09-09\", \"1992-09-16\", \"1992-09-23\", \"1992-09-30\", \"1992-10-07\", \"1992-10-14\", \"1992-10-21\", \"1992-10-28\", \"1992-11-04\", \"1992-11-11\", \"1992-11-18\", \"1992-11-25\", \"1992-12-02\", \"1992-12-09\", \"1992-12-16\", \"1992-12-23\", \"1993-01-01\", \"1993-01-08\", \"1993-01-15\", \"1993-01-22\", \"1993-01-29\", \"1993-02-05\", \"1993-02-12\", \"1993-02-19\", \"1993-02-26\", \"1993-03-05\", \"1993-03-12\", \"1993-03-19\", \"1993-03-26\", \"1993-04-02\", \"1993-04-09\", \"1993-04-16\", \"1993-04-23\", \"1993-04-30\", \"1993-05-07\", \"1993-05-14\", \"1993-05-21\", \"1993-05-28\", \"1993-06-04\", \"1993-06-11\", \"1993-06-18\", \"1993-06-25\", \"1993-07-02\", \"1993-07-09\", \"1993-07-16\", \"1993-07-23\", \"1993-07-30\", \"1993-08-06\", \"1993-08-13\", \"1993-08-20\", \"1993-08-27\", \"1993-09-03\", \"1993-09-10\", \"1993-09-17\", \"1993-09-24\", \"1993-10-01\", \"1993-10-08\", \"1993-10-15\", \"1993-10-22\", \"1993-10-29\", \"1993-11-05\", \"1993-11-12\", \"1993-11-19\", \"1993-11-26\", \"1993-12-03\", \"1993-12-10\", \"1993-12-17\", \"1993-12-24\", \"1994-01-01\", \"1994-01-08\", \"1994-01-15\", \"1994-01-22\", \"1994-01-29\", \"1994-02-05\", \"1994-02-12\", \"1994-02-19\", \"1994-02-26\", \"1994-03-05\", \"1994-03-12\", \"1994-03-19\", \"1994-03-26\", \"1994-04-02\", \"1994-04-09\", \"1994-04-16\", \"1994-04-23\", \"1994-04-30\", \"1994-05-07\", \"1994-05-14\", \"1994-05-21\", \"1994-05-28\", \"1994-06-04\", \"1994-06-11\", \"1994-06-18\", \"1994-06-25\", \"1994-07-02\", \"1994-07-09\", \"1994-07-16\", \"1994-07-23\", \"1994-07-30\", \"1994-08-06\", \"1994-08-13\", \"1994-08-20\", \"1994-08-27\", \"1994-09-03\", \"1994-09-10\", \"1994-09-17\", \"1994-09-24\", \"1994-10-01\", \"1994-10-08\", \"1994-10-15\", \"1994-10-22\", \"1994-10-29\", \"1994-11-05\", \"1994-11-12\", \"1994-11-19\", \"1994-11-26\", \"1994-12-03\", \"1994-12-10\", \"1994-12-17\", \"1994-12-24\", \"1995-01-01\", \"1995-01-08\", \"1995-01-15\", \"1995-01-22\", \"1995-01-29\", \"1995-02-05\", \"1995-02-12\", \"1995-02-19\", \"1995-02-26\", \"1995-03-05\", \"1995-03-12\", \"1995-03-19\", \"1995-03-26\", \"1995-04-02\", \"1995-04-09\", \"1995-04-16\", \"1995-04-23\", \"1995-04-30\", \"1995-05-07\", \"1995-05-14\", \"1995-05-21\", \"1995-05-28\", \"1995-06-04\", \"1995-06-11\", \"1995-06-18\", \"1995-06-25\", \"1995-07-02\", \"1995-07-09\", \"1995-07-16\", \"1995-07-23\", \"1995-07-30\", \"1995-08-06\", \"1995-08-13\", \"1995-08-20\", \"1995-08-27\", \"1995-09-03\", \"1995-09-10\", \"1995-09-17\", \"1995-09-24\", \"1995-10-01\", \"1995-10-08\", \"1995-10-15\", \"1995-10-22\", \"1995-10-29\", \"1995-11-05\", \"1995-11-12\", \"1995-11-19\", \"1995-11-26\", \"1995-12-03\", \"1995-12-10\", \"1995-12-17\", \"1995-12-24\", \"1996-01-01\", \"1996-01-08\", \"1996-01-15\", \"1996-01-22\", \"1996-01-29\", \"1996-02-05\", \"1996-02-12\", \"1996-02-19\", \"1996-02-26\", \"1996-03-04\", \"1996-03-11\", \"1996-03-18\", \"1996-03-25\", \"1996-04-01\", \"1996-04-08\", \"1996-04-15\", \"1996-04-22\", \"1996-04-29\", \"1996-05-06\", \"1996-05-13\", \"1996-05-20\", \"1996-05-27\", \"1996-06-03\", \"1996-06-10\", \"1996-06-17\", \"1996-06-24\", \"1996-07-01\", \"1996-07-08\", \"1996-07-15\", \"1996-07-22\", \"1996-07-29\", \"1996-08-05\", \"1996-08-12\", \"1996-08-19\", \"1996-08-26\", \"1996-09-02\", \"1996-09-09\", \"1996-09-16\", \"1996-09-23\", \"1996-09-30\", \"1996-10-07\", \"1996-10-14\", \"1996-10-21\", \"1996-10-28\", \"1996-11-04\", \"1996-11-11\", \"1996-11-18\", \"1996-11-25\", \"1996-12-02\", \"1996-12-09\", \"1996-12-16\", \"1996-12-23\", \"1997-01-01\", \"1997-01-08\", \"1997-01-15\", \"1997-01-22\", \"1997-01-29\", \"1997-02-05\", \"1997-02-12\", \"1997-02-19\", \"1997-02-26\", \"1997-03-05\", \"1997-03-12\", \"1997-03-19\", \"1997-03-26\", \"1997-04-02\", \"1997-04-09\", \"1997-04-16\", \"1997-04-23\", \"1997-04-30\", \"1997-05-07\", \"1997-05-14\", \"1997-05-21\", \"1997-05-28\", \"1997-06-04\", \"1997-06-11\", \"1997-06-18\", \"1997-06-25\", \"1997-07-02\", \"1997-07-09\", \"1997-07-16\", \"1997-07-23\", \"1997-07-30\", \"1997-08-06\", \"1997-08-13\", \"1997-08-20\", \"1997-08-27\", \"1997-09-03\", \"1997-09-10\", \"1997-09-17\", \"1997-09-24\", \"1997-10-01\", \"1997-10-08\", \"1997-10-15\", \"1997-10-22\", \"1997-10-29\", \"1997-11-05\", \"1997-11-12\", \"1997-11-19\", \"1997-11-26\", \"1997-12-03\", \"1997-12-10\", \"1997-12-17\", \"1997-12-24\", \"1998-01-01\", \"1998-01-08\", \"1998-01-15\", \"1998-01-22\", \"1998-01-29\", \"1998-02-05\", \"1998-02-12\", \"1998-02-19\", \"1998-02-26\", \"1998-03-05\", \"1998-03-12\", \"1998-03-19\", \"1998-03-26\", \"1998-04-02\", \"1998-04-09\", \"1998-04-16\", \"1998-04-23\", \"1998-04-30\", \"1998-05-07\", \"1998-05-14\", \"1998-05-21\", \"1998-05-28\", \"1998-06-04\", \"1998-06-11\", \"1998-06-18\", \"1998-06-25\", \"1998-07-02\", \"1998-07-09\", \"1998-07-16\", \"1998-07-23\", \"1998-07-30\", \"1998-08-06\", \"1998-08-13\", \"1998-08-20\", \"1998-08-27\", \"1998-09-03\", \"1998-09-10\", \"1998-09-17\", \"1998-09-24\", \"1998-10-01\", \"1998-10-08\", \"1998-10-15\", \"1998-10-22\", \"1998-10-29\", \"1998-11-05\", \"1998-11-12\", \"1998-11-19\", \"1998-11-26\", \"1998-12-03\", \"1998-12-10\", \"1998-12-17\", \"1998-12-24\", \"1999-01-01\", \"1999-01-08\", \"1999-01-15\", \"1999-01-22\", \"1999-01-29\", \"1999-02-05\", \"1999-02-12\", \"1999-02-19\", \"1999-02-26\", \"1999-03-05\", \"1999-03-12\", \"1999-03-19\", \"1999-03-26\", \"1999-04-02\", \"1999-04-09\", \"1999-04-16\", \"1999-04-23\", \"1999-04-30\", \"1999-05-07\", \"1999-05-14\", \"1999-05-21\", \"1999-05-28\", \"1999-06-04\", \"1999-06-11\", \"1999-06-18\", \"1999-06-25\", \"1999-07-02\", \"1999-07-09\", \"1999-07-16\", \"1999-07-23\", \"1999-07-30\", \"1999-08-06\", \"1999-08-13\", \"1999-08-20\", \"1999-08-27\", \"1999-09-03\", \"1999-09-10\", \"1999-09-17\", \"1999-09-24\", \"1999-10-01\", \"1999-10-08\", \"1999-10-15\", \"1999-10-22\", \"1999-10-29\", \"1999-11-05\", \"1999-11-12\", \"1999-11-19\", \"1999-11-26\", \"1999-12-03\", \"1999-12-10\", \"1999-12-17\", \"1999-12-24\", \"2000-01-01\", \"2000-01-08\", \"2000-01-15\", \"2000-01-22\", \"2000-01-29\", \"2000-02-05\", \"2000-02-12\", \"2000-02-19\", \"2000-02-26\", \"2000-03-04\", \"2000-03-11\", \"2000-03-18\", \"2000-03-25\", \"2000-04-01\", \"2000-04-08\", \"2000-04-15\", \"2000-04-22\", \"2000-04-29\", \"2000-05-06\", \"2000-05-13\", \"2000-05-20\", \"2000-05-27\", \"2000-06-03\", \"2000-06-10\", \"2000-06-17\", \"2000-06-24\", \"2000-07-01\", \"2000-07-08\", \"2000-07-15\", \"2000-07-22\", \"2000-07-29\", \"2000-08-05\", \"2000-08-12\", \"2000-08-19\", \"2000-08-26\", \"2000-09-02\", \"2000-09-09\", \"2000-09-16\", \"2000-09-23\", \"2000-09-30\", \"2000-10-07\", \"2000-10-14\", \"2000-10-21\", \"2000-10-28\", \"2000-11-04\", \"2000-11-11\", \"2000-11-18\", \"2000-11-25\", \"2000-12-02\", \"2000-12-09\", \"2000-12-16\", \"2000-12-23\", \"2001-01-01\", \"2001-01-08\", \"2001-01-15\", \"2001-01-22\", \"2001-01-29\", \"2001-02-05\", \"2001-02-12\", \"2001-02-19\", \"2001-02-26\", \"2001-03-05\", \"2001-03-12\", \"2001-03-19\", \"2001-03-26\", \"2001-04-02\", \"2001-04-09\", \"2001-04-16\", \"2001-04-23\", \"2001-04-30\", \"2001-05-07\", \"2001-05-14\", \"2001-05-21\", \"2001-05-28\", \"2001-06-04\", \"2001-06-11\", \"2001-06-18\", \"2001-06-25\", \"2001-07-02\", \"2001-07-09\", \"2001-07-16\", \"2001-07-23\", \"2001-07-30\", \"2001-08-06\", \"2001-08-13\", \"2001-08-20\", \"2001-08-27\", \"2001-09-03\", \"2001-09-10\", \"2001-09-17\", \"2001-09-24\", \"2001-10-01\", \"2001-10-08\", \"2001-10-15\", \"2001-10-22\", \"2001-10-29\", \"2001-11-05\", \"2001-11-12\", \"2001-11-19\", \"2001-11-26\", \"2001-12-03\", \"2001-12-10\", \"2001-12-17\", \"2001-12-24\", \"2002-01-01\", \"2002-01-08\", \"2002-01-15\", \"2002-01-22\", \"2002-01-29\", \"2002-02-05\", \"2002-02-12\", \"2002-02-19\", \"2002-02-26\", \"2002-03-05\", \"2002-03-12\", \"2002-03-19\", \"2002-03-26\", \"2002-04-02\", \"2002-04-09\", \"2002-04-16\", \"2002-04-23\", \"2002-04-30\", \"2002-05-07\", \"2002-05-14\", \"2002-05-21\", \"2002-05-28\", \"2002-06-04\", \"2002-06-11\", \"2002-06-18\", \"2002-06-25\", \"2002-07-02\", \"2002-07-09\", \"2002-07-16\", \"2002-07-23\", \"2002-07-30\", \"2002-08-06\", \"2002-08-13\", \"2002-08-20\", \"2002-08-27\", \"2002-09-03\", \"2002-09-10\", \"2002-09-17\", \"2002-09-24\", \"2002-10-01\", \"2002-10-08\", \"2002-10-15\", \"2002-10-22\", \"2002-10-29\", \"2002-11-05\", \"2002-11-12\", \"2002-11-19\", \"2002-11-26\", \"2002-12-03\", \"2002-12-10\", \"2002-12-17\", \"2002-12-24\", \"2003-01-01\", \"2003-01-08\", \"2003-01-15\", \"2003-01-22\", \"2003-01-29\", \"2003-02-05\", \"2003-02-12\", \"2003-02-19\", \"2003-02-26\", \"2003-03-05\", \"2003-03-12\", \"2003-03-19\", \"2003-03-26\", \"2003-04-02\", \"2003-04-09\", \"2003-04-16\", \"2003-04-23\", \"2003-04-30\", \"2003-05-07\", \"2003-05-14\", \"2003-05-21\", \"2003-05-28\", \"2003-06-04\", \"2003-06-11\", \"2003-06-18\", \"2003-06-25\", \"2003-07-02\", \"2003-07-09\", \"2003-07-16\", \"2003-07-23\", \"2003-07-30\", \"2003-08-06\", \"2003-08-13\", \"2003-08-20\", \"2003-08-27\", \"2003-09-03\", \"2003-09-10\", \"2003-09-17\", \"2003-09-24\", \"2003-10-01\", \"2003-10-08\", \"2003-10-15\", \"2003-10-22\", \"2003-10-29\", \"2003-11-05\", \"2003-11-12\", \"2003-11-19\", \"2003-11-26\", \"2003-12-03\", \"2003-12-10\", \"2003-12-17\", \"2003-12-24\", \"2004-01-01\", \"2004-01-08\", \"2004-01-15\", \"2004-01-22\", \"2004-01-29\", \"2004-02-05\", \"2004-02-12\", \"2004-02-19\", \"2004-02-26\", \"2004-03-04\", \"2004-03-11\", \"2004-03-18\", \"2004-03-25\", \"2004-04-01\", \"2004-04-08\", \"2004-04-15\", \"2004-04-22\", \"2004-04-29\", \"2004-05-06\", \"2004-05-13\", \"2004-05-20\", \"2004-05-27\", \"2004-06-03\", \"2004-06-10\", \"2004-06-17\", \"2004-06-24\", \"2004-07-01\", \"2004-07-08\", \"2004-07-15\", \"2004-07-22\", \"2004-07-29\", \"2004-08-05\", \"2004-08-12\", \"2004-08-19\", \"2004-08-26\", \"2004-09-02\", \"2004-09-09\", \"2004-09-16\", \"2004-09-23\", \"2004-09-30\", \"2004-10-07\", \"2004-10-14\", \"2004-10-21\", \"2004-10-28\", \"2004-11-04\", \"2004-11-11\", \"2004-11-18\", \"2004-11-25\", \"2004-12-02\", \"2004-12-09\", \"2004-12-16\", \"2004-12-23\", \"2005-01-01\", \"2005-01-08\", \"2005-01-15\", \"2005-01-22\", \"2005-01-29\", \"2005-02-05\", \"2005-02-12\", \"2005-02-19\", \"2005-02-26\", \"2005-03-05\", \"2005-03-12\", \"2005-03-19\", \"2005-03-26\", \"2005-04-02\", \"2005-04-09\", \"2005-04-16\", \"2005-04-23\", \"2005-04-30\", \"2005-05-07\", \"2005-05-14\", \"2005-05-21\", \"2005-05-28\", \"2005-06-04\", \"2005-06-11\", \"2005-06-18\", \"2005-06-25\", \"2005-07-02\", \"2005-07-09\", \"2005-07-16\", \"2005-07-23\", \"2005-07-30\", \"2005-08-06\", \"2005-08-13\", \"2005-08-20\", \"2005-08-27\", \"2005-09-03\", \"2005-09-10\", \"2005-09-17\", \"2005-09-24\", \"2005-10-01\", \"2005-10-08\", \"2005-10-15\", \"2005-10-22\", \"2005-10-29\", \"2005-11-05\", \"2005-11-12\", \"2005-11-19\", \"2005-11-26\", \"2005-12-03\", \"2005-12-10\", \"2005-12-17\", \"2005-12-24\", \"2006-01-01\", \"2006-01-08\", \"2006-01-15\", \"2006-01-22\", \"2006-01-29\", \"2006-02-05\", \"2006-02-12\", \"2006-02-19\", \"2006-02-26\", \"2006-03-05\", \"2006-03-12\", \"2006-03-19\", \"2006-03-26\", \"2006-04-02\", \"2006-04-09\", \"2006-04-16\", \"2006-04-23\", \"2006-04-30\", \"2006-05-07\", \"2006-05-14\", \"2006-05-21\", \"2006-05-28\", \"2006-06-04\", \"2006-06-11\", \"2006-06-18\", \"2006-06-25\", \"2006-07-02\", \"2006-07-09\", \"2006-07-16\", \"2006-07-23\", \"2006-07-30\", \"2006-08-06\", \"2006-08-13\", \"2006-08-20\", \"2006-08-27\", \"2006-09-03\", \"2006-09-10\", \"2006-09-17\", \"2006-09-24\", \"2006-10-01\", \"2006-10-08\", \"2006-10-15\", \"2006-10-22\", \"2006-10-29\", \"2006-11-05\", \"2006-11-12\", \"2006-11-19\", \"2006-11-26\", \"2006-12-03\", \"2006-12-10\", \"2006-12-17\", \"2006-12-24\", \"2007-01-01\", \"2007-01-08\", \"2007-01-15\", \"2007-01-22\", \"2007-01-29\", \"2007-02-05\", \"2007-02-12\", \"2007-02-19\", \"2007-02-26\", \"2007-03-05\", \"2007-03-12\", \"2007-03-19\", \"2007-03-26\", \"2007-04-02\", \"2007-04-09\", \"2007-04-16\", \"2007-04-23\", \"2007-04-30\", \"2007-05-07\", \"2007-05-14\", \"2007-05-21\", \"2007-05-28\", \"2007-06-04\", \"2007-06-11\", \"2007-06-18\", \"2007-06-25\", \"2007-07-02\", \"2007-07-09\", \"2007-07-16\", \"2007-07-23\", \"2007-07-30\", \"2007-08-06\", \"2007-08-13\", \"2007-08-20\", \"2007-08-27\", \"2007-09-03\", \"2007-09-10\", \"2007-09-17\", \"2007-09-24\", \"2007-10-01\", \"2007-10-08\", \"2007-10-15\", \"2007-10-22\", \"2007-10-29\", \"2007-11-05\", \"2007-11-12\", \"2007-11-19\", \"2007-11-26\", \"2007-12-03\", \"2007-12-10\", \"2007-12-17\", \"2007-12-24\", \"2008-01-01\", \"2008-01-08\", \"2008-01-15\", \"2008-01-22\", \"2008-01-29\", \"2008-02-05\", \"2008-02-12\", \"2008-02-19\", \"2008-02-26\", \"2008-03-04\", \"2008-03-11\", \"2008-03-18\", \"2008-03-25\", \"2008-04-01\", \"2008-04-08\", \"2008-04-15\", \"2008-04-22\"], \"xaxis\": \"x\", \"y\": [4, 5, 4, 3, 6, 2, 4, 5, 10, 6, 8, 2, 6, 17, 23, 13, 21, 28, 24, 20, 40, 27, 42, 33, 43, 37, 57, 71, 44, 56, 53, 52, 47, 26, 27, 21, 21, 26, 34, 37, 17, 19, 25, 18, 21, 17, 17, 16, 16, 15, 23, 16, 17, 12, 17, 10, 15, 19, 21, 14, 18, 13, 14, 18, 23, 25, 62, 60, 76, 66, 64, 68, 89, 92, 140, 116, 142, 129, 140, 140, 127, 129, 169, 141, 108, 78, 70, 81, 104, 90, 85, 55, 53, 65, 33, 38, 59, 40, 37, 29, 30, 30, 28, 23, 24, 29, 26, 23, 20, 19, 20, 26, 29, 31, 28, 26, 32, 35, 33, 30, 52, 59, 67, 65, 74, 70, 61, 53, 76, 61, 57, 44, 34, 47, 60, 60, 53, 36, 31, 30, 32, 28, 33, 33, 35, 22, 13, 13, 21, 17, 11, 8, 8, 6, 6, 7, 12, 17, 10, 10, 18, 19, 12, 22, 12, 21, 18, 16, 16, 22, 17, 25, 23, 12, 25, 28, 27, 18, 23, 23, 29, 38, 36, 43, 46, 31, 25, 40, 31, 38, 30, 22, 31, 26, 35, 36, 39, 25, 31, 37, 33, 25, 24, 18, 23, 13, 18, 14, 17, 22, 13, 24, 31, 34, 31, 31, 38, 49, 42, 49, 55, 80, 84, 72, 89, 115, 179, 202, 272, 302, 395, 426, 461, 381, 333, 353, 410, 364, 359, 288, 221, 149, 112, 154, 91, 72, 56, 46, 37, 26, 17, 17, 20, 11, 7, 16, 14, 16, 5, 2, 6, 5, 4, 3, 4, 16, 8, 7, 10, 14, 7, 9, 11, 23, 17, 19, 24, 17, 28, 40, 33, 31, 33, 29, 30, 36, 48, 40, 28, 36, 19, 34, 23, 17, 17, 23, 14, 20, 13, 23, 20, 16, 16, 23, 14, 15, 4, 5, 5, 11, 11, 7, 4, 6, 5, 2, 4, 2, 4, 6, 6, 4, 6, 11, 16, 9, 12, 13, 27, 21, 19, 17, 24, 27, 30, 29, 25, 35, 33, 30, 29, 31, 29, 22, 27, 24, 26, 29, 22, 33, 24, 30, 20, 17, 24, 28, 18, 13, 9, 14, 11, 11, 19, 10, 8, 8, 9, 3, 7, 14, 4, 9, 14, 7, 9, 3, 3, 14, 12, 10, 21, 26, 47, 42, 31, 34, 33, 52, 56, 70, 112, 70, 47, 48, 49, 66, 56, 61, 67, 64, 68, 49, 50, 56, 75, 63, 62, 41, 50, 34, 31, 38, 30, 32, 26, 30, 36, 35, 46, 48, 44, 51, 59, 71, 102, 128, 127, 150, 191, 256, 329, 263, 220, 204, 181, 99, 54, 80, 102, 127, 73, 68, 64, 55, 67, 84, 85, 67, 73, 89, 68, 59, 56, 77, 75, 47, 50, 42, 28, 37, 37, 27, 12, 15, 22, 8, 15, 17, 10, 9, 11, 20, 13, 11, 16, 11, 7, 17, 14, 13, 15, 30, 25, 40, 44, 25, 21, 48, 56, 60, 45, 55, 32, 46, 61, 42, 37, 43, 34, 40, 25, 16, 17, 17, 16, 23, 18, 18, 9, 7, 7, 4, 3, 2, 8, 3, 1, 1, 2, 3, 3, 2, 0, 0, 2, 2, 0, 6, 3, 6, 2, 3, 2, 4, 5, 2, 9, 2, 4, 8, 6, 3, 11, 14, 15, 20, 9, 20, 28, 38, 30, 30, 23, 16, 22, 28, 14, 17, 20, 17, 10, 13, 20, 9, 18, 9, 8, 19, 11, 4, 6, 6, 8, 13, 8, 8, 5, 16, 12, 11, 18, 10, 22, 14, 16, 18, 27, 38, 35, 41, 51, 65, 55, 54, 62, 64, 56, 65, 71, 75, 71, 72, 47, 27, 35, 25, 19, 37, 38, 34, 26, 19, 18, 22, 16, 18, 6, 12, 6, 6, 3, 7, 6, 1, 3, 2, 2, 1, 10, 3, 3, 1, 1, 2, 6, 3, 3, 5, 4, 7, 6, 5, 7, 6, 4, 4, 7, 9, 5, 5, 10, 6, 13, 6, 5, 5, 9, 3, 6, 11, 7, 7, 15, 9, 6, 6, 6, 7, 10, 8, 7, 12, 3, 2, 7, 5, 5, 7, 7, 7, 7, 10, 13, 10, 14, 11, 20, 25, 17, 18, 25, 21, 31, 32, 26, 35, 28, 37, 41, 34, 30, 39, 39, 39, 34, 30, 37, 29, 26, 15, 22, 15, 20, 14, 10, 21, 14, 14, 9, 11, 5, 6, 7, 11, 4, 3, 2, 6, 10, 7, 5, 3, 12, 13, 10, 13, 13, 8, 21, 18, 8, 7, 20, 14, 14, 7, 14, 10, 13, 27, 13, 18, 16, 16, 20, 17, 4, 15, 8, 6, 12, 15, 11, 10, 15, 17, 7, 7, 8, 9, 12, 12, 5, 4, 11, 4, 5, 7, 1, 1, 4, 2, 6, 3, 4, 10, 12, 21, 26, 21, 30, 45, 56, 75, 83, 82, 126, 119, 137, 131, 112, 82, 73, 43, 55, 55, 53, 46, 43, 29, 22, 26, 13, 17, 8, 13, 10, 17, 19, 9, 9, 9, 3, 7, 7, 0, 2, 3, 3, 1, 3, 3, 3, 7, 3, 5, 11, 5, 5, 6, 6, 4, 4, 8, 14, 12, 16, 10, 16, 18, 15, 23, 17, 33, 15, 13, 11, 14, 17, 19, 20, 12, 21, 7, 19, 10, 13, 10, 8, 21, 11, 9, 14, 14, 15, 18, 16, 12, 20, 8, 3, 13, 4, 1, 10, 8, 13, 10, 21, 18, 21, 34, 25, 34, 33, 40, 42, 36, 72, 75, 76, 92, 71, 112, 106, 101, 170, 135, 106, 68, 48, 48, 26, 33, 29, 17, 12, 13, 17, 15, 14, 15, 10, 9, 2, 6, 8, 5, 1, 2, 3, 4, 3, 1, 3, 5], \"yaxis\": \"y\"}, {\"line\": {\"color\": \"rgba(193,99,99,0.8)\"}, \"name\": \"pred\", \"showlegend\": true, \"type\": \"scatter\", \"x\": [\"1990-04-30\", \"1990-05-07\", \"1990-05-14\", \"1990-05-21\", \"1990-05-28\", \"1990-06-04\", \"1990-06-11\", \"1990-06-18\", \"1990-06-25\", \"1990-07-02\", \"1990-07-09\", \"1990-07-16\", \"1990-07-23\", \"1990-07-30\", \"1990-08-06\", \"1990-08-13\", \"1990-08-20\", \"1990-08-27\", \"1990-09-03\", \"1990-09-10\", \"1990-09-17\", \"1990-09-24\", \"1990-10-01\", \"1990-10-08\", \"1990-10-15\", \"1990-10-22\", \"1990-10-29\", \"1990-11-05\", \"1990-11-12\", \"1990-11-19\", \"1990-11-26\", \"1990-12-03\", \"1990-12-10\", \"1990-12-17\", \"1990-12-24\", \"1991-01-01\", \"1991-01-08\", \"1991-01-15\", \"1991-01-22\", \"1991-01-29\", \"1991-02-05\", \"1991-02-12\", \"1991-02-19\", \"1991-02-26\", \"1991-03-05\", \"1991-03-12\", \"1991-03-19\", \"1991-03-26\", \"1991-04-02\", \"1991-04-09\", \"1991-04-16\", \"1991-04-23\", \"1991-04-30\", \"1991-05-07\", \"1991-05-14\", \"1991-05-21\", \"1991-05-28\", \"1991-06-04\", \"1991-06-11\", \"1991-06-18\", \"1991-06-25\", \"1991-07-02\", \"1991-07-09\", \"1991-07-16\", \"1991-07-23\", \"1991-07-30\", \"1991-08-06\", \"1991-08-13\", \"1991-08-20\", \"1991-08-27\", \"1991-09-03\", \"1991-09-10\", \"1991-09-17\", \"1991-09-24\", \"1991-10-01\", \"1991-10-08\", \"1991-10-15\", \"1991-10-22\", \"1991-10-29\", \"1991-11-05\", \"1991-11-12\", \"1991-11-19\", \"1991-11-26\", \"1991-12-03\", \"1991-12-10\", \"1991-12-17\", \"1991-12-24\", \"1992-01-01\", \"1992-01-08\", \"1992-01-15\", \"1992-01-22\", \"1992-01-29\", \"1992-02-05\", \"1992-02-12\", \"1992-02-19\", \"1992-02-26\", \"1992-03-04\", \"1992-03-11\", \"1992-03-18\", \"1992-03-25\", \"1992-04-01\", \"1992-04-08\", \"1992-04-15\", \"1992-04-22\", \"1992-04-29\", \"1992-05-06\", \"1992-05-13\", \"1992-05-20\", \"1992-05-27\", \"1992-06-03\", \"1992-06-10\", \"1992-06-17\", \"1992-06-24\", \"1992-07-01\", \"1992-07-08\", \"1992-07-15\", \"1992-07-22\", \"1992-07-29\", \"1992-08-05\", \"1992-08-12\", \"1992-08-19\", \"1992-08-26\", \"1992-09-02\", \"1992-09-09\", \"1992-09-16\", \"1992-09-23\", \"1992-09-30\", \"1992-10-07\", \"1992-10-14\", \"1992-10-21\", \"1992-10-28\", \"1992-11-04\", \"1992-11-11\", \"1992-11-18\", \"1992-11-25\", \"1992-12-02\", \"1992-12-09\", \"1992-12-16\", \"1992-12-23\", \"1993-01-01\", \"1993-01-08\", \"1993-01-15\", \"1993-01-22\", \"1993-01-29\", \"1993-02-05\", \"1993-02-12\", \"1993-02-19\", \"1993-02-26\", \"1993-03-05\", \"1993-03-12\", \"1993-03-19\", \"1993-03-26\", \"1993-04-02\", \"1993-04-09\", \"1993-04-16\", \"1993-04-23\", \"1993-04-30\", \"1993-05-07\", \"1993-05-14\", \"1993-05-21\", \"1993-05-28\", \"1993-06-04\", \"1993-06-11\", \"1993-06-18\", \"1993-06-25\", \"1993-07-02\", \"1993-07-09\", \"1993-07-16\", \"1993-07-23\", \"1993-07-30\", \"1993-08-06\", \"1993-08-13\", \"1993-08-20\", \"1993-08-27\", \"1993-09-03\", \"1993-09-10\", \"1993-09-17\", \"1993-09-24\", \"1993-10-01\", \"1993-10-08\", \"1993-10-15\", \"1993-10-22\", \"1993-10-29\", \"1993-11-05\", \"1993-11-12\", \"1993-11-19\", \"1993-11-26\", \"1993-12-03\", \"1993-12-10\", \"1993-12-17\", \"1993-12-24\", \"1994-01-01\", \"1994-01-08\", \"1994-01-15\", \"1994-01-22\", \"1994-01-29\", \"1994-02-05\", \"1994-02-12\", \"1994-02-19\", \"1994-02-26\", \"1994-03-05\", \"1994-03-12\", \"1994-03-19\", \"1994-03-26\", \"1994-04-02\", \"1994-04-09\", \"1994-04-16\", \"1994-04-23\", \"1994-04-30\", \"1994-05-07\", \"1994-05-14\", \"1994-05-21\", \"1994-05-28\", \"1994-06-04\", \"1994-06-11\", \"1994-06-18\", \"1994-06-25\", \"1994-07-02\", \"1994-07-09\", \"1994-07-16\", \"1994-07-23\", \"1994-07-30\", \"1994-08-06\", \"1994-08-13\", \"1994-08-20\", \"1994-08-27\", \"1994-09-03\", \"1994-09-10\", \"1994-09-17\", \"1994-09-24\", \"1994-10-01\", \"1994-10-08\", \"1994-10-15\", \"1994-10-22\", \"1994-10-29\", \"1994-11-05\", \"1994-11-12\", \"1994-11-19\", \"1994-11-26\", \"1994-12-03\", \"1994-12-10\", \"1994-12-17\", \"1994-12-24\", \"1995-01-01\", \"1995-01-08\", \"1995-01-15\", \"1995-01-22\", \"1995-01-29\", \"1995-02-05\", \"1995-02-12\", \"1995-02-19\", \"1995-02-26\", \"1995-03-05\", \"1995-03-12\", \"1995-03-19\", \"1995-03-26\", \"1995-04-02\", \"1995-04-09\", \"1995-04-16\", \"1995-04-23\", \"1995-04-30\", \"1995-05-07\", \"1995-05-14\", \"1995-05-21\", \"1995-05-28\", \"1995-06-04\", \"1995-06-11\", \"1995-06-18\", \"1995-06-25\", \"1995-07-02\", \"1995-07-09\", \"1995-07-16\", \"1995-07-23\", \"1995-07-30\", \"1995-08-06\", \"1995-08-13\", \"1995-08-20\", \"1995-08-27\", \"1995-09-03\", \"1995-09-10\", \"1995-09-17\", \"1995-09-24\", \"1995-10-01\", \"1995-10-08\", \"1995-10-15\", \"1995-10-22\", \"1995-10-29\", \"1995-11-05\", \"1995-11-12\", \"1995-11-19\", \"1995-11-26\", \"1995-12-03\", \"1995-12-10\", \"1995-12-17\", \"1995-12-24\", \"1996-01-01\", \"1996-01-08\", \"1996-01-15\", \"1996-01-22\", \"1996-01-29\", \"1996-02-05\", \"1996-02-12\", \"1996-02-19\", \"1996-02-26\", \"1996-03-04\", \"1996-03-11\", \"1996-03-18\", \"1996-03-25\", \"1996-04-01\", \"1996-04-08\", \"1996-04-15\", \"1996-04-22\", \"1996-04-29\", \"1996-05-06\", \"1996-05-13\", \"1996-05-20\", \"1996-05-27\", \"1996-06-03\", \"1996-06-10\", \"1996-06-17\", \"1996-06-24\", \"1996-07-01\", \"1996-07-08\", \"1996-07-15\", \"1996-07-22\", \"1996-07-29\", \"1996-08-05\", \"1996-08-12\", \"1996-08-19\", \"1996-08-26\", \"1996-09-02\", \"1996-09-09\", \"1996-09-16\", \"1996-09-23\", \"1996-09-30\", \"1996-10-07\", \"1996-10-14\", \"1996-10-21\", \"1996-10-28\", \"1996-11-04\", \"1996-11-11\", \"1996-11-18\", \"1996-11-25\", \"1996-12-02\", \"1996-12-09\", \"1996-12-16\", \"1996-12-23\", \"1997-01-01\", \"1997-01-08\", \"1997-01-15\", \"1997-01-22\", \"1997-01-29\", \"1997-02-05\", \"1997-02-12\", \"1997-02-19\", \"1997-02-26\", \"1997-03-05\", \"1997-03-12\", \"1997-03-19\", \"1997-03-26\", \"1997-04-02\", \"1997-04-09\", \"1997-04-16\", \"1997-04-23\", \"1997-04-30\", \"1997-05-07\", \"1997-05-14\", \"1997-05-21\", \"1997-05-28\", \"1997-06-04\", \"1997-06-11\", \"1997-06-18\", \"1997-06-25\", \"1997-07-02\", \"1997-07-09\", \"1997-07-16\", \"1997-07-23\", \"1997-07-30\", \"1997-08-06\", \"1997-08-13\", \"1997-08-20\", \"1997-08-27\", \"1997-09-03\", \"1997-09-10\", \"1997-09-17\", \"1997-09-24\", \"1997-10-01\", \"1997-10-08\", \"1997-10-15\", \"1997-10-22\", \"1997-10-29\", \"1997-11-05\", \"1997-11-12\", \"1997-11-19\", \"1997-11-26\", \"1997-12-03\", \"1997-12-10\", \"1997-12-17\", \"1997-12-24\", \"1998-01-01\", \"1998-01-08\", \"1998-01-15\", \"1998-01-22\", \"1998-01-29\", \"1998-02-05\", \"1998-02-12\", \"1998-02-19\", \"1998-02-26\", \"1998-03-05\", \"1998-03-12\", \"1998-03-19\", \"1998-03-26\", \"1998-04-02\", \"1998-04-09\", \"1998-04-16\", \"1998-04-23\", \"1998-04-30\", \"1998-05-07\", \"1998-05-14\", \"1998-05-21\", \"1998-05-28\", \"1998-06-04\", \"1998-06-11\", \"1998-06-18\", \"1998-06-25\", \"1998-07-02\", \"1998-07-09\", \"1998-07-16\", \"1998-07-23\", \"1998-07-30\", \"1998-08-06\", \"1998-08-13\", \"1998-08-20\", \"1998-08-27\", \"1998-09-03\", \"1998-09-10\", \"1998-09-17\", \"1998-09-24\", \"1998-10-01\", \"1998-10-08\", \"1998-10-15\", \"1998-10-22\", \"1998-10-29\", \"1998-11-05\", \"1998-11-12\", \"1998-11-19\", \"1998-11-26\", \"1998-12-03\", \"1998-12-10\", \"1998-12-17\", \"1998-12-24\", \"1999-01-01\", \"1999-01-08\", \"1999-01-15\", \"1999-01-22\", \"1999-01-29\", \"1999-02-05\", \"1999-02-12\", \"1999-02-19\", \"1999-02-26\", \"1999-03-05\", \"1999-03-12\", \"1999-03-19\", \"1999-03-26\", \"1999-04-02\", \"1999-04-09\", \"1999-04-16\", \"1999-04-23\", \"1999-04-30\", \"1999-05-07\", \"1999-05-14\", \"1999-05-21\", \"1999-05-28\", \"1999-06-04\", \"1999-06-11\", \"1999-06-18\", \"1999-06-25\", \"1999-07-02\", \"1999-07-09\", \"1999-07-16\", \"1999-07-23\", \"1999-07-30\", \"1999-08-06\", \"1999-08-13\", \"1999-08-20\", \"1999-08-27\", \"1999-09-03\", \"1999-09-10\", \"1999-09-17\", \"1999-09-24\", \"1999-10-01\", \"1999-10-08\", \"1999-10-15\", \"1999-10-22\", \"1999-10-29\", \"1999-11-05\", \"1999-11-12\", \"1999-11-19\", \"1999-11-26\", \"1999-12-03\", \"1999-12-10\", \"1999-12-17\", \"1999-12-24\", \"2000-01-01\", \"2000-01-08\", \"2000-01-15\", \"2000-01-22\", \"2000-01-29\", \"2000-02-05\", \"2000-02-12\", \"2000-02-19\", \"2000-02-26\", \"2000-03-04\", \"2000-03-11\", \"2000-03-18\", \"2000-03-25\", \"2000-04-01\", \"2000-04-08\", \"2000-04-15\", \"2000-04-22\", \"2000-04-29\", \"2000-05-06\", \"2000-05-13\", \"2000-05-20\", \"2000-05-27\", \"2000-06-03\", \"2000-06-10\", \"2000-06-17\", \"2000-06-24\", \"2000-07-01\", \"2000-07-08\", \"2000-07-15\", \"2000-07-22\", \"2000-07-29\", \"2000-08-05\", \"2000-08-12\", \"2000-08-19\", \"2000-08-26\", \"2000-09-02\", \"2000-09-09\", \"2000-09-16\", \"2000-09-23\", \"2000-09-30\", \"2000-10-07\", \"2000-10-14\", \"2000-10-21\", \"2000-10-28\", \"2000-11-04\", \"2000-11-11\", \"2000-11-18\", \"2000-11-25\", \"2000-12-02\", \"2000-12-09\", \"2000-12-16\", \"2000-12-23\", \"2001-01-01\", \"2001-01-08\", \"2001-01-15\", \"2001-01-22\", \"2001-01-29\", \"2001-02-05\", \"2001-02-12\", \"2001-02-19\", \"2001-02-26\", \"2001-03-05\", \"2001-03-12\", \"2001-03-19\", \"2001-03-26\", \"2001-04-02\", \"2001-04-09\", \"2001-04-16\", \"2001-04-23\", \"2001-04-30\", \"2001-05-07\", \"2001-05-14\", \"2001-05-21\", \"2001-05-28\", \"2001-06-04\", \"2001-06-11\", \"2001-06-18\", \"2001-06-25\", \"2001-07-02\", \"2001-07-09\", \"2001-07-16\", \"2001-07-23\", \"2001-07-30\", \"2001-08-06\", \"2001-08-13\", \"2001-08-20\", \"2001-08-27\", \"2001-09-03\", \"2001-09-10\", \"2001-09-17\", \"2001-09-24\", \"2001-10-01\", \"2001-10-08\", \"2001-10-15\", \"2001-10-22\", \"2001-10-29\", \"2001-11-05\", \"2001-11-12\", \"2001-11-19\", \"2001-11-26\", \"2001-12-03\", \"2001-12-10\", \"2001-12-17\", \"2001-12-24\", \"2002-01-01\", \"2002-01-08\", \"2002-01-15\", \"2002-01-22\", \"2002-01-29\", \"2002-02-05\", \"2002-02-12\", \"2002-02-19\", \"2002-02-26\", \"2002-03-05\", \"2002-03-12\", \"2002-03-19\", \"2002-03-26\", \"2002-04-02\", \"2002-04-09\", \"2002-04-16\", \"2002-04-23\", \"2002-04-30\", \"2002-05-07\", \"2002-05-14\", \"2002-05-21\", \"2002-05-28\", \"2002-06-04\", \"2002-06-11\", \"2002-06-18\", \"2002-06-25\", \"2002-07-02\", \"2002-07-09\", \"2002-07-16\", \"2002-07-23\", \"2002-07-30\", \"2002-08-06\", \"2002-08-13\", \"2002-08-20\", \"2002-08-27\", \"2002-09-03\", \"2002-09-10\", \"2002-09-17\", \"2002-09-24\", \"2002-10-01\", \"2002-10-08\", \"2002-10-15\", \"2002-10-22\", \"2002-10-29\", \"2002-11-05\", \"2002-11-12\", \"2002-11-19\", \"2002-11-26\", \"2002-12-03\", \"2002-12-10\", \"2002-12-17\", \"2002-12-24\", \"2003-01-01\", \"2003-01-08\", \"2003-01-15\", \"2003-01-22\", \"2003-01-29\", \"2003-02-05\", \"2003-02-12\", \"2003-02-19\", \"2003-02-26\", \"2003-03-05\", \"2003-03-12\", \"2003-03-19\", \"2003-03-26\", \"2003-04-02\", \"2003-04-09\", \"2003-04-16\", \"2003-04-23\", \"2003-04-30\", \"2003-05-07\", \"2003-05-14\", \"2003-05-21\", \"2003-05-28\", \"2003-06-04\", \"2003-06-11\", \"2003-06-18\", \"2003-06-25\", \"2003-07-02\", \"2003-07-09\", \"2003-07-16\", \"2003-07-23\", \"2003-07-30\", \"2003-08-06\", \"2003-08-13\", \"2003-08-20\", \"2003-08-27\", \"2003-09-03\", \"2003-09-10\", \"2003-09-17\", \"2003-09-24\", \"2003-10-01\", \"2003-10-08\", \"2003-10-15\", \"2003-10-22\", \"2003-10-29\", \"2003-11-05\", \"2003-11-12\", \"2003-11-19\", \"2003-11-26\", \"2003-12-03\", \"2003-12-10\", \"2003-12-17\", \"2003-12-24\", \"2004-01-01\", \"2004-01-08\", \"2004-01-15\", \"2004-01-22\", \"2004-01-29\", \"2004-02-05\", \"2004-02-12\", \"2004-02-19\", \"2004-02-26\", \"2004-03-04\", \"2004-03-11\", \"2004-03-18\", \"2004-03-25\", \"2004-04-01\", \"2004-04-08\", \"2004-04-15\", \"2004-04-22\", \"2004-04-29\", \"2004-05-06\", \"2004-05-13\", \"2004-05-20\", \"2004-05-27\", \"2004-06-03\", \"2004-06-10\", \"2004-06-17\", \"2004-06-24\", \"2004-07-01\", \"2004-07-08\", \"2004-07-15\", \"2004-07-22\", \"2004-07-29\", \"2004-08-05\", \"2004-08-12\", \"2004-08-19\", \"2004-08-26\", \"2004-09-02\", \"2004-09-09\", \"2004-09-16\", \"2004-09-23\", \"2004-09-30\", \"2004-10-07\", \"2004-10-14\", \"2004-10-21\", \"2004-10-28\", \"2004-11-04\", \"2004-11-11\", \"2004-11-18\", \"2004-11-25\", \"2004-12-02\", \"2004-12-09\", \"2004-12-16\", \"2004-12-23\", \"2005-01-01\", \"2005-01-08\", \"2005-01-15\", \"2005-01-22\", \"2005-01-29\", \"2005-02-05\", \"2005-02-12\", \"2005-02-19\", \"2005-02-26\", \"2005-03-05\", \"2005-03-12\", \"2005-03-19\", \"2005-03-26\", \"2005-04-02\", \"2005-04-09\", \"2005-04-16\", \"2005-04-23\", \"2005-04-30\", \"2005-05-07\", \"2005-05-14\", \"2005-05-21\", \"2005-05-28\", \"2005-06-04\", \"2005-06-11\", \"2005-06-18\", \"2005-06-25\", \"2005-07-02\", \"2005-07-09\", \"2005-07-16\", \"2005-07-23\", \"2005-07-30\", \"2005-08-06\", \"2005-08-13\", \"2005-08-20\", \"2005-08-27\", \"2005-09-03\", \"2005-09-10\", \"2005-09-17\", \"2005-09-24\", \"2005-10-01\", \"2005-10-08\", \"2005-10-15\", \"2005-10-22\", \"2005-10-29\", \"2005-11-05\", \"2005-11-12\", \"2005-11-19\", \"2005-11-26\", \"2005-12-03\", \"2005-12-10\", \"2005-12-17\", \"2005-12-24\", \"2006-01-01\", \"2006-01-08\", \"2006-01-15\", \"2006-01-22\", \"2006-01-29\", \"2006-02-05\", \"2006-02-12\", \"2006-02-19\", \"2006-02-26\", \"2006-03-05\", \"2006-03-12\", \"2006-03-19\", \"2006-03-26\", \"2006-04-02\", \"2006-04-09\", \"2006-04-16\", \"2006-04-23\", \"2006-04-30\", \"2006-05-07\", \"2006-05-14\", \"2006-05-21\", \"2006-05-28\", \"2006-06-04\", \"2006-06-11\", \"2006-06-18\", \"2006-06-25\", \"2006-07-02\", \"2006-07-09\", \"2006-07-16\", \"2006-07-23\", \"2006-07-30\", \"2006-08-06\", \"2006-08-13\", \"2006-08-20\", \"2006-08-27\", \"2006-09-03\", \"2006-09-10\", \"2006-09-17\", \"2006-09-24\", \"2006-10-01\", \"2006-10-08\", \"2006-10-15\", \"2006-10-22\", \"2006-10-29\", \"2006-11-05\", \"2006-11-12\", \"2006-11-19\", \"2006-11-26\", \"2006-12-03\", \"2006-12-10\", \"2006-12-17\", \"2006-12-24\", \"2007-01-01\", \"2007-01-08\", \"2007-01-15\", \"2007-01-22\", \"2007-01-29\", \"2007-02-05\", \"2007-02-12\", \"2007-02-19\", \"2007-02-26\", \"2007-03-05\", \"2007-03-12\", \"2007-03-19\", \"2007-03-26\", \"2007-04-02\", \"2007-04-09\", \"2007-04-16\", \"2007-04-23\", \"2007-04-30\", \"2007-05-07\", \"2007-05-14\", \"2007-05-21\", \"2007-05-28\", \"2007-06-04\", \"2007-06-11\", \"2007-06-18\", \"2007-06-25\", \"2007-07-02\", \"2007-07-09\", \"2007-07-16\", \"2007-07-23\", \"2007-07-30\", \"2007-08-06\", \"2007-08-13\", \"2007-08-20\", \"2007-08-27\", \"2007-09-03\", \"2007-09-10\", \"2007-09-17\", \"2007-09-24\", \"2007-10-01\", \"2007-10-08\", \"2007-10-15\", \"2007-10-22\", \"2007-10-29\", \"2007-11-05\", \"2007-11-12\", \"2007-11-19\", \"2007-11-26\", \"2007-12-03\", \"2007-12-10\", \"2007-12-17\", \"2007-12-24\", \"2008-01-01\", \"2008-01-08\", \"2008-01-15\", \"2008-01-22\", \"2008-01-29\", \"2008-02-05\", \"2008-02-12\", \"2008-02-19\", \"2008-02-26\", \"2008-03-04\", \"2008-03-11\", \"2008-03-18\", \"2008-03-25\", \"2008-04-01\", \"2008-04-08\", \"2008-04-15\", \"2008-04-22\"], \"xaxis\": \"x\", \"y\": [22.887065913712377, 36.43128396460361, 15.775732780342878, 29.978723876814456, 41.57753776777827, 52.223333294497024, 48.20406860504727, 37.278110653367094, 55.323464440753924, 60.221616996877856, 56.946148556471144, 56.886543737028205, 43.22638781940395, 73.8115614569615, 62.5534844558465, 72.15714809626752, 52.3167425974807, 55.35100208199947, 60.9975909938521, 30.503386448308447, 66.14697155055364, 44.73259946759663, 68.0440630976168, 60.78040774649344, 69.27253796325795, 58.88931532573679, 79.09150165601204, 67.44529043588591, 76.74012002081145, 51.826379639302104, 55.052403073256755, 56.29397426616242, 43.57740147666891, 66.64109476703243, 48.166402284583, 6.1912776368099, 24.602936081337248, 21.805002245090236, 25.11713662767761, -3.589917348803283, 28.29339376932012, 21.792697829758254, 29.307580427567245, 20.636427551944507, 31.569533743235752, 31.465058963976844, 30.55652190433466, 51.03491803497991, 24.01478863552211, 3.0007123587161004, 14.872405738062753, 33.84718251674258, 32.03000438850404, 26.523485219642225, 14.544048366411062, 32.45672654505188, 45.078254813866806, 25.507242901840982, 36.43448892466495, 35.38601176696557, 55.68389128972149, 51.364383432471186, 36.66897157927997, 39.58145315225693, 43.562033815033374, 39.6881332088974, 43.59247660963911, 40.67222990025721, 47.29004019422837, 49.09350693410488, 59.608835367245774, 42.80561846094997, 54.81448017625371, 65.63454506845028, 58.5603100260746, 54.395225293935255, 48.672602832366465, 57.68435570735119, 49.46874696546911, 62.8501936092689, 59.257387042330265, 51.25838910266293, 57.271179524490435, 48.60456993845992, 33.80062193166714, 49.13319891315177, 60.532202758052335, 7.459981995641556, 8.842653306495322, 34.167432939185346, 20.166364323683865, 11.187772216801932, 29.278736690620917, 20.314797841026575, 24.073203054472742, 11.214754240257207, 18.230307181069293, 20.628276839834143, 15.13348479202432, 30.084930069803704, 18.909386516283575, 17.928571161046875, 27.673252824410156, 25.33066969592437, 24.31308737813106, 45.93955145997825, 28.71630230577648, 41.59608437782026, 32.62367263319493, 30.032285627308283, 29.46358467967002, 35.68471459869579, 50.931432132392274, 27.833308566508094, 22.28821181975036, 38.30136630407924, 17.47929000360955, 37.32953470679786, 26.96468112816001, 57.95560588791841, 51.00504683251302, 46.56436465025672, 45.460116738872784, 59.40435388440028, 50.011735266944925, 59.30769710085269, 65.14940370411205, 62.77511876771041, 65.07493782108259, 40.60818766187003, 45.873511021238755, 61.347257799433464, 36.50052490629923, 61.03162296869232, 64.83266626002887, 62.31013806022338, 46.4520818625374, 50.23411225565496, 39.94374431262668, 49.30708272634547, 5.954071414986174, 15.241086978226576, 14.517292787826591, 14.828391823406491, 28.060929063640287, 47.717809592264075, 15.344824353328931, 45.117884360848166, 23.268633831686202, 12.152727387141567, 25.133485811557875, 23.585541855753945, 31.213566417234233, 27.686303896465688, 15.968280515087827, 13.015344302337326, 25.94114932490038, 33.13690557981863, 34.84850225541186, 52.35289450323717, 31.711645313540885, 33.60773724572891, 41.55116852278388, 32.65960443818176, 40.142391373306054, 37.06097606459252, 39.27393382468654, 32.728924862296935, 42.03278659177067, 44.5527701008059, 36.78956098379831, 34.29050141719836, 52.2418049649832, 42.57990746585892, 44.725426895764485, 62.17077098323716, 61.39474171794609, 41.156475318148296, 50.563465055886354, 64.75941682893244, 61.55434913992349, 50.848778775915434, 56.679603202189355, 32.290980878653045, 31.506968466647322, 70.31804952733, 61.958518098316745, 99.12488389968303, 29.318800871667918, 27.58248468648071, 57.11943722093838, 44.676129835785105, -7.087950428783188, 19.657818468768255, 9.770713342823, 23.669748783785508, 28.475787668711746, 12.593323168604911, 28.684784271477383, 19.205572884127832, 32.20639069405797, 19.305681366479348, 36.87756757283478, 11.724868109934505, 19.482646732104968, 24.126356551052595, 30.246011153918516, 25.387173237701518, 33.986339556205166, 22.818474207265353, 28.929263085654384, 50.20654991404217, 29.011081035828283, 32.55573224952741, 25.71619921336196, 25.27461718965469, 37.77769004387301, 38.251369978312596, 46.22750556464871, 31.041417745660965, 23.185349886102813, 31.062934839330865, 33.673783485427975, 40.980621829782194, 50.768920883360806, 47.674742899275316, 36.38575168082389, 41.67026827638392, 71.6612035773228, 70.74685692967523, 70.57036138439344, 72.34956466001086, 95.95219486330507, 77.6192528846027, 75.57724388002771, 71.08819576480391, 83.01376747687254, 99.85351238751991, 90.07885108356322, 75.36266677744788, 69.18224286049053, 77.34911304770367, 75.40554331687417, 73.6722762799468, 32.287012406163285, -19.142951543408344, 11.87258056964447, 1.7215832924812275, 19.40324397625045, 12.53592813428395, 16.74654022835375, 27.895448239622056, 24.87376297609535, 28.126894270375033, 30.077516016458958, 28.00144810367101, 10.778371926438922, 21.825774693709263, 27.232096285242278, 31.409926604364955, 28.39732807279097, 40.640985444943, 38.37736068311506, 18.19265358760731, 16.043266881752515, 39.640431912915574, 47.26818978540132, 36.11904220187671, 53.662600787557494, 44.502199842475875, 45.55444678175763, 53.525954138886846, 44.02916866663054, 48.265911292432065, 59.50871518945132, 53.535523587217085, 50.81608095906995, 52.55939325319605, 44.200632103109, 37.51457920948815, 56.03187719859261, 62.42465192623831, 52.74509891123398, 59.33623956093061, 48.28689134921524, 52.03751777871412, 70.61272898158404, 79.15904255675196, 53.09752597875877, 47.5914771886205, 51.525971829492846, 70.04224246440026, 50.319967060424915, 52.53599611977279, 51.58707083184163, 6.725367199534958, 19.631520788904254, 5.906490104653585, 13.164422330311027, -0.8724456320810532, 13.251327840039721, 17.7606713948785, 15.33646819012165, 7.355001019358497, 13.873606249355362, 19.110707712474778, 34.53166527612393, 31.339400866253982, 30.315556583151647, 27.545393054591386, 33.79271394208217, 43.49052808762826, 43.715059731511246, 12.784460705480797, 31.79239343869949, 19.766645343653636, 28.41996122726141, 37.20763499372788, 31.251458882053612, 37.98484647265104, 45.71650592443439, 35.305499443335066, 41.25579426326658, 38.05721371401796, 31.89799200658399, 30.039980350379665, 37.39723754282204, 44.026002203887856, 33.21523158682612, 49.5596646652034, 41.20402289230378, 49.41919205125714, 35.42417412634177, 59.10556106083504, 41.87523370577492, 51.47038315515101, 41.9190802957678, 43.89446422200945, 65.54544938540994, 49.94574289150842, 37.86645819559726, 31.56193189210353, 17.149107867638577, 36.12543141125707, 49.50286533240114, 46.018607749863804, 36.05922839814957, 20.519081503901816, -33.55108181633659, -5.89695045538474, 10.893442929037974, 4.345559075199617, 5.61180980560539, 0.5820541734647122, 4.800838114795624, 11.681943361117646, 13.432675145194935, 18.48842420938945, 30.182178249557182, 26.020877521832062, 12.180924937792497, 51.203181564812894, 22.300754510160914, 33.51452889838629, 22.78178192745554, 16.68320922660905, 40.8975764321699, 23.29286214061176, 21.501085086544663, 32.804019663220515, 34.40450584063046, 27.504113099558253, 37.92452291049267, 26.21983557339945, 40.45797148443717, 28.97424211028647, 34.18310958384018, 43.70341026148844, 33.63563437717721, 33.64836139441786, 42.52896187941951, 49.614324054994086, 51.97621137429451, 41.583564214880425, 54.5565760119498, 49.37867538443152, 65.80713611504507, 43.77691920545294, 70.59260407189186, 32.256943755927296, 37.64977902415103, 49.227645302526525, 65.80652169240284, 89.21396648118025, 65.60151228975656, 68.39150943026289, 67.64849655215266, 70.59361648451159, 67.41898325468992, 8.211312687631562, 12.678487438866341, 16.986370362595153, 23.0627639576237, 20.18294860849528, 10.88961941396974, 23.143348281617364, 31.479710411661927, 26.083139554142235, 32.42802961549205, 36.05709797629197, 14.372595500790794, 20.27816621615193, 36.956335831496745, 17.02414209785502, 30.65715255361056, 19.22590803422827, 28.602486586834402, 20.35077748837648, 30.88020127925938, 42.19638874504744, 38.874093421822636, 14.38857302678889, 43.0149567453268, 48.23887407914617, 43.758270307977455, 36.13990061583081, 41.501308097628225, 33.98044471805497, 44.70465488831769, 53.34760527609569, 34.1251827141823, 53.82577627001865, 71.75467833311268, 52.251944857966464, 54.76388841842345, 47.71211661286134, 64.84526733552184, 54.46807861994375, 34.072369089936274, 51.23342280582392, 44.757495060296606, 56.310647331011296, 46.03424685269874, 56.64373295687392, 65.60132105107596, 53.94798767191469, 51.92862738535496, 52.45645008644533, 51.593232047257516, 54.05746157720023, 68.67776854564863, 36.34097432359749, -7.012036987761803, -1.7750854116848132, 5.222612600157845, 18.451784140572727, 18.23463676200754, 26.87379714300596, 11.367226287070935, 34.35139979642281, -0.39638212005229434, 0.4291644107920547, 7.556142499890484, 26.493665176192735, 30.170749193835036, 13.758321302618242, 15.2075661886347, 15.494496039391379, 24.773566751493036, 49.80084761494709, 23.63826282821765, 24.623368010700688, 39.70340357117493, 25.747547151305753, 37.39513930040857, 33.337699299084306, 47.55731146718699, 34.97752580505767, 32.34994134571434, 44.06786209172196, 50.963819084160605, 40.33601847815953, 40.9171795167922, 48.34729383559261, 46.00728034570648, 52.12056129833536, 71.69924358034268, 47.10423804191214, 48.910561108757975, 44.75788164691721, 75.72178741838252, 64.77764964582957, 28.5947954533126, 45.322537542336704, 54.476515261531404, 59.4021291091035, 48.86208178131801, 43.026247622597566, 34.26061840616194, 44.14125899033479, 52.833732928304926, 43.09001866048766, 45.44415687975243, 34.30010877901668, 11.53076250322465, 8.62587914733922, 26.68492941332306, 29.33407341248767, 26.97261132585436, 29.009336574089048, 18.17238266541017, 9.623885971209802, 12.149823847946664, 42.72611293373211, 7.081546305010761, 22.7582844347462, 11.000392982051835, 39.018401381625154, -2.5878946456423364, -18.46087489232832, 19.770529976210582, 29.08336995218633, 18.298781239312575, 25.69896536971919, 22.441942719307463, 29.87668382009224, 27.743702675745226, 35.71127948180401, 35.09936644312393, 31.60840816451855, 23.921208382670557, 39.445013414614095, 44.740734074974625, 32.143041107010504, 42.28835720471716, 49.35871422799164, 59.65266548159025, 54.4053436223212, 39.64985569518967, 53.70282115121108, 51.29956881029875, 53.570436516329664, 63.37137295735147, 64.07746330969621, 72.9078584279946, 40.39857878902558, 39.99596922807223, 53.929320485112385, 37.31434656337751, 26.574631764436162, 47.917945222468006, 43.68666896859031, 54.96052125422693, 38.86722681249694, 44.358884985404984, 13.797775384797205, 2.028542581740112, 14.986481377485688, 13.058387899402078, 12.006042015509593, 5.376222689509177, 3.1414996238227104, 26.593481352895196, 34.23515929576206, 41.26416483524372, 18.074119999338564, 20.22967345257257, 38.860018987252715, 35.43875201169749, 3.9497744506111303, 17.72081236272561, 23.84196255191455, 33.649123125022925, 18.296191103134333, 26.23453080043646, 23.46647228750453, 28.391427507177468, 24.509150221507753, 28.75788820329035, 16.415566497449163, 42.73921747470831, 24.402497672703248, 14.36587510151412, 40.04693489177134, 39.81739921612234, 34.2825412105467, 53.49370249737012, 37.840715614893725, 40.710949531554434, 29.15674228476837, 41.26644592616003, 46.864014947889245, 38.09048545227597, 47.85844789459088, 65.99974272419286, 58.77838697943207, 28.03804639728787, 32.82146387487728, 35.76044038263035, 42.335250268262826, 75.95934442880707, 44.13553930346097, 55.54790774072944, 36.42986238895219, 38.160341936843906, 36.705799397939245, 67.04680319800491, 0.7707109887032857, 3.656920074257414, 3.170120062392016, 5.323647974828873, -8.97840561688281, -1.776940211168494, -0.05325346692370658, 18.495409150006253, 17.844944313684664, 6.83706311486867, 6.174205701345272, 9.690628515421395, 21.72520369566564, 18.819131314919105, 14.094651949390936, 14.632944938493893, 13.62150532502983, 14.54710253129042, 14.524047156255165, 23.835262330775095, 15.021420844890145, 37.050695069916856, 31.977719740292287, 17.979767939244084, 29.72227482724975, 23.93866769193528, 27.197891895949397, 29.051381070535626, 18.891124846203184, 32.8671724359715, 31.38674491072743, 19.19620064574974, 40.58090989784796, 60.610972288474386, 30.848348056576924, 46.226470812120624, 53.15643754577741, 52.37163453568746, 37.1957082120075, 54.017019987991716, 40.67501235794634, 32.59374062220013, 53.40559244247788, 48.64853661510233, 62.09416651601305, 57.78529795711529, 63.5311640846935, 66.44631323919202, 32.79861573081416, 40.49349803423411, 53.9743237573889, 65.26002966626493, 11.962872269581112, 0.021549025330841687, 8.864492220701322, 5.626423611389782, 17.983070601922464, 18.295031072163965, 14.225265043348827, 16.836417275126678, 9.566737423183895, -0.5718769566037736, 6.728373290087347, 13.003339082535149, 3.9515799702262484, 39.16642707942901, 32.68911314421757, 17.7809597734622, 18.556131089635073, 32.610370588733076, 17.27876269010585, 22.405574415602587, 18.17253615493064, 19.485984236175682, 29.168589604663794, 19.76234402090222, 17.752660065003965, 13.89232353494117, 15.846215546653639, 5.017301227025655, 31.636926276077702, 43.68515778202163, 43.74042881194373, 37.94347002418772, 42.32667524907038, 43.00490780624796, 41.80256245594683, 56.163180838357675, 60.56582503954951, 34.32308976679542, 40.788987569602796, 42.555555135762006, 40.340365403785654, 50.204952157230764, 36.57451107642282, 56.139071837581014, 41.16173447221763, 48.71706308183457, 5.921448927234906, 48.96072070803666, 36.76128827784396, 39.16846145558566, 50.05687796323264, 46.501267645357075, -13.522750455455935, -0.7310557696464457, -12.124651323996204, -20.851163826497668, 22.20821209944097, 20.46790242990437, 5.431177736057634, -4.606825859441415, 16.60123712200948, 23.84205439718926, 16.179132412750278, -38.71686299285557, -33.08879383918156, 72.73488489167266, 68.36728524096816, 7.287052239757486, 9.560270513944943, 11.996941117358347, 3.6033975081131757, 10.426221656812686, 18.935049166915633, 15.842581121549301, 24.363277039290097, 35.931678770671624, 26.297904024055697, 22.95068739610815, 24.133503295148785, 25.864022424610994, 31.406219498900555, 32.138324874939826, 35.05299839911231, 31.103402456107233, 34.43096077133487, 33.566111982634084, 35.96057771077358, 39.3111485946215, 53.62300261710652, 51.93094343909388, 64.36176637153949, 47.20264030676617, 35.21557054800769, 52.36381638343255, 50.80044503783665, 47.24397880299966, 43.56894395749714, 50.42271952752753, 71.89136502241809, 48.6715945442661, 36.9363437348552, 43.408964909572205, 35.35773159577457, 33.554578592646976, 47.56793212053117, 4.214920809171872, -0.11216374154992081, -2.0265921852778774, 1.9222115903094164, 12.369655239406256, 10.160971700693153, 1.6856796491442765, 10.897755050935757, 13.583797121643329, 15.956407080896952, 38.35487516145395, 17.947365445571904, 25.648479640189635, 21.838553546308958, 14.458726653659596, 19.01956308396302, 13.322725616910702, 30.4549571588459, 16.317644128716438, 26.43787962028182, 30.980213544492926, 36.51712826319908, 31.412331309885758, 14.59551617084162, 42.980420864486405, 35.21411206702987, 36.180891214386975, 33.364333056450505, 42.06465192857877, 22.722671637325675, 28.969006655537214, 45.13470083136008, 32.5053001409151, 27.56356322788406, 34.07934333511503, 34.58763465738639, 45.16509908638318, 39.560418143311836, 39.45861102660956, 51.258489365208334, 52.97400406754696, 45.327764918296, 57.691283991513956, 65.67030787344629, 54.07624946650776, 57.60974907040145, 29.398673708224578, 51.27113041672601, 33.8165235957058, 44.2399868250659, 61.19626735384554, 50.87886999606917, 0.22817554740868218, -6.43702389436794, 1.4510289575077877, 3.042445493152627, 27.029363611429744, -4.698155683638561, 51.67385889874731, -5.996132806674268, 5.080667847399127, 7.164724491672587, 22.344026138252957, 14.621010430414117, 20.748447985353778, 2.266765159956776, 7.440568515076848, 15.006974132282721, 8.863258535749537, 12.885773590442113, 10.79519169410014, 39.31278665822083, 46.13204959976974, 25.569944588286944, 35.41255007443942, 45.584049828179104, 31.48303614453016, 41.487995850462084, 34.53902907764768, 37.40372610107079, 42.329410683058995, 35.45018014692141, 16.337835104371607, 36.12608460334832, 42.5097547938999, 47.342547101342916, 39.338671640028224, 36.29253379861757, 50.757660935756576, 31.652182392936083, 39.06358175789319, 63.163736522813, 68.24067553070245, 46.595817336244636, 50.02798686802316, 18.45675905064627, 20.321136951484732, 64.32142444049259, 62.884162996013856, 45.488762989291445, 46.51694275107593, 43.81982430774451, 35.167780517109804, 20.658544890563007, 8.34827176576755, -8.450528965834565, 6.382636398510385, -15.462617820480773, -19.371741495184324, 15.193276220768439, 19.17254106893779, 22.84002630098621, 23.05721645290396, 9.037667310924917, 38.190602185189164, 24.616659395524948, 18.93779341999698, 19.83105044783497, 25.330790243692718, 37.767967079558275, 17.91398124100033, 24.572056841465837, 29.80793770539094, 24.15982405805653, 12.323353046532702, 24.483851304397376, 41.304549737184516, 41.28083572846208, 55.45583899424628, 35.506205517011495, 38.97835839689196, 31.887381329794607, 30.753790647045207, 36.63044258366699, 27.74240373300745, 35.70624260783279, 42.15746988867022, 57.63498424578984, 37.83455246608855, 39.156628941143026, 26.928287333984827, 28.261986168262865, 61.696355387221956, 36.26481968244798, 37.43883742477192, 57.16470999265266, 56.207742303571194, 30.36762512143696, 43.43666003913813, 41.63577029039925, 30.668078997538032, 30.52594845063959, 29.726798447657984, 36.278505117811164, 32.37233111297792, 29.530886197974723, 6.391964000558801, -13.794409093811737, 2.1220533461087143, -5.122653695579629, -2.0354965873339097, 15.794291356581198, 2.106767501297327, -10.407331633963622, 1.4253025147490916, -11.178522833257375, 2.8044772191292395, 33.69797812900106, 1.658381137914148, 1.736313910368608, 12.40986460805425, -0.338400089976858], \"yaxis\": \"y\"}],\n",
              "                        {\"autosize\": false, \"height\": 600, \"template\": {\"data\": {\"bar\": [{\"error_x\": {\"color\": \"#2a3f5f\"}, \"error_y\": {\"color\": \"#2a3f5f\"}, \"marker\": {\"line\": {\"color\": \"#E5ECF6\", \"width\": 0.5}}, \"type\": \"bar\"}], \"barpolar\": [{\"marker\": {\"line\": {\"color\": \"#E5ECF6\", \"width\": 0.5}}, \"type\": \"barpolar\"}], \"carpet\": [{\"aaxis\": {\"endlinecolor\": \"#2a3f5f\", \"gridcolor\": \"white\", \"linecolor\": \"white\", \"minorgridcolor\": \"white\", \"startlinecolor\": \"#2a3f5f\"}, \"baxis\": {\"endlinecolor\": \"#2a3f5f\", \"gridcolor\": \"white\", \"linecolor\": \"white\", \"minorgridcolor\": \"white\", \"startlinecolor\": \"#2a3f5f\"}, \"type\": \"carpet\"}], \"choropleth\": [{\"colorbar\": {\"outlinewidth\": 0, \"ticks\": \"\"}, \"type\": \"choropleth\"}], \"contour\": [{\"colorbar\": {\"outlinewidth\": 0, \"ticks\": \"\"}, \"colorscale\": [[0.0, \"#0d0887\"], [0.1111111111111111, \"#46039f\"], [0.2222222222222222, \"#7201a8\"], [0.3333333333333333, \"#9c179e\"], [0.4444444444444444, \"#bd3786\"], [0.5555555555555556, \"#d8576b\"], [0.6666666666666666, \"#ed7953\"], [0.7777777777777778, \"#fb9f3a\"], [0.8888888888888888, \"#fdca26\"], [1.0, \"#f0f921\"]], \"type\": \"contour\"}], \"contourcarpet\": [{\"colorbar\": {\"outlinewidth\": 0, \"ticks\": \"\"}, \"type\": \"contourcarpet\"}], \"heatmap\": [{\"colorbar\": {\"outlinewidth\": 0, \"ticks\": \"\"}, \"colorscale\": [[0.0, \"#0d0887\"], [0.1111111111111111, \"#46039f\"], [0.2222222222222222, \"#7201a8\"], [0.3333333333333333, \"#9c179e\"], [0.4444444444444444, \"#bd3786\"], [0.5555555555555556, \"#d8576b\"], [0.6666666666666666, \"#ed7953\"], [0.7777777777777778, \"#fb9f3a\"], [0.8888888888888888, \"#fdca26\"], [1.0, \"#f0f921\"]], \"type\": \"heatmap\"}], \"heatmapgl\": [{\"colorbar\": {\"outlinewidth\": 0, \"ticks\": \"\"}, \"colorscale\": [[0.0, \"#0d0887\"], [0.1111111111111111, \"#46039f\"], [0.2222222222222222, \"#7201a8\"], [0.3333333333333333, \"#9c179e\"], [0.4444444444444444, \"#bd3786\"], [0.5555555555555556, \"#d8576b\"], [0.6666666666666666, \"#ed7953\"], [0.7777777777777778, \"#fb9f3a\"], [0.8888888888888888, \"#fdca26\"], [1.0, \"#f0f921\"]], \"type\": \"heatmapgl\"}], \"histogram\": [{\"marker\": {\"colorbar\": {\"outlinewidth\": 0, \"ticks\": \"\"}}, \"type\": \"histogram\"}], \"histogram2d\": [{\"colorbar\": {\"outlinewidth\": 0, \"ticks\": \"\"}, \"colorscale\": [[0.0, \"#0d0887\"], [0.1111111111111111, \"#46039f\"], [0.2222222222222222, \"#7201a8\"], [0.3333333333333333, \"#9c179e\"], [0.4444444444444444, \"#bd3786\"], [0.5555555555555556, \"#d8576b\"], [0.6666666666666666, \"#ed7953\"], [0.7777777777777778, \"#fb9f3a\"], [0.8888888888888888, \"#fdca26\"], [1.0, \"#f0f921\"]], \"type\": \"histogram2d\"}], \"histogram2dcontour\": [{\"colorbar\": {\"outlinewidth\": 0, \"ticks\": \"\"}, \"colorscale\": [[0.0, \"#0d0887\"], [0.1111111111111111, \"#46039f\"], [0.2222222222222222, \"#7201a8\"], [0.3333333333333333, \"#9c179e\"], [0.4444444444444444, \"#bd3786\"], [0.5555555555555556, \"#d8576b\"], [0.6666666666666666, \"#ed7953\"], [0.7777777777777778, \"#fb9f3a\"], [0.8888888888888888, \"#fdca26\"], [1.0, \"#f0f921\"]], \"type\": \"histogram2dcontour\"}], \"mesh3d\": [{\"colorbar\": {\"outlinewidth\": 0, \"ticks\": \"\"}, \"type\": \"mesh3d\"}], \"parcoords\": [{\"line\": {\"colorbar\": {\"outlinewidth\": 0, \"ticks\": \"\"}}, \"type\": \"parcoords\"}], \"pie\": [{\"automargin\": true, \"type\": \"pie\"}], \"scatter\": [{\"marker\": {\"colorbar\": {\"outlinewidth\": 0, \"ticks\": \"\"}}, \"type\": \"scatter\"}], \"scatter3d\": [{\"line\": {\"colorbar\": {\"outlinewidth\": 0, \"ticks\": \"\"}}, \"marker\": {\"colorbar\": {\"outlinewidth\": 0, \"ticks\": \"\"}}, \"type\": \"scatter3d\"}], \"scattercarpet\": [{\"marker\": {\"colorbar\": {\"outlinewidth\": 0, \"ticks\": \"\"}}, \"type\": \"scattercarpet\"}], \"scattergeo\": [{\"marker\": {\"colorbar\": {\"outlinewidth\": 0, \"ticks\": \"\"}}, \"type\": \"scattergeo\"}], \"scattergl\": [{\"marker\": {\"colorbar\": {\"outlinewidth\": 0, \"ticks\": \"\"}}, \"type\": \"scattergl\"}], \"scattermapbox\": [{\"marker\": {\"colorbar\": {\"outlinewidth\": 0, \"ticks\": \"\"}}, \"type\": \"scattermapbox\"}], \"scatterpolar\": [{\"marker\": {\"colorbar\": {\"outlinewidth\": 0, \"ticks\": \"\"}}, \"type\": \"scatterpolar\"}], \"scatterpolargl\": [{\"marker\": {\"colorbar\": {\"outlinewidth\": 0, \"ticks\": \"\"}}, \"type\": \"scatterpolargl\"}], \"scatterternary\": [{\"marker\": {\"colorbar\": {\"outlinewidth\": 0, \"ticks\": \"\"}}, \"type\": \"scatterternary\"}], \"surface\": [{\"colorbar\": {\"outlinewidth\": 0, \"ticks\": \"\"}, \"colorscale\": [[0.0, \"#0d0887\"], [0.1111111111111111, \"#46039f\"], [0.2222222222222222, \"#7201a8\"], [0.3333333333333333, \"#9c179e\"], [0.4444444444444444, \"#bd3786\"], [0.5555555555555556, \"#d8576b\"], [0.6666666666666666, \"#ed7953\"], [0.7777777777777778, \"#fb9f3a\"], [0.8888888888888888, \"#fdca26\"], [1.0, \"#f0f921\"]], \"type\": \"surface\"}], \"table\": [{\"cells\": {\"fill\": {\"color\": \"#EBF0F8\"}, \"line\": {\"color\": \"white\"}}, \"header\": {\"fill\": {\"color\": \"#C8D4E3\"}, \"line\": {\"color\": \"white\"}}, \"type\": \"table\"}]}, \"layout\": {\"annotationdefaults\": {\"arrowcolor\": \"#2a3f5f\", \"arrowhead\": 0, \"arrowwidth\": 1}, \"coloraxis\": {\"colorbar\": {\"outlinewidth\": 0, \"ticks\": \"\"}}, \"colorscale\": {\"diverging\": [[0, \"#8e0152\"], [0.1, \"#c51b7d\"], [0.2, \"#de77ae\"], [0.3, \"#f1b6da\"], [0.4, \"#fde0ef\"], [0.5, \"#f7f7f7\"], [0.6, \"#e6f5d0\"], [0.7, \"#b8e186\"], [0.8, \"#7fbc41\"], [0.9, \"#4d9221\"], [1, \"#276419\"]], \"sequential\": [[0.0, \"#0d0887\"], [0.1111111111111111, \"#46039f\"], [0.2222222222222222, \"#7201a8\"], [0.3333333333333333, \"#9c179e\"], [0.4444444444444444, \"#bd3786\"], [0.5555555555555556, \"#d8576b\"], [0.6666666666666666, \"#ed7953\"], [0.7777777777777778, \"#fb9f3a\"], [0.8888888888888888, \"#fdca26\"], [1.0, \"#f0f921\"]], \"sequentialminus\": [[0.0, \"#0d0887\"], [0.1111111111111111, \"#46039f\"], [0.2222222222222222, \"#7201a8\"], [0.3333333333333333, \"#9c179e\"], [0.4444444444444444, \"#bd3786\"], [0.5555555555555556, \"#d8576b\"], [0.6666666666666666, \"#ed7953\"], [0.7777777777777778, \"#fb9f3a\"], [0.8888888888888888, \"#fdca26\"], [1.0, \"#f0f921\"]]}, \"colorway\": [\"#636efa\", \"#EF553B\", \"#00cc96\", \"#ab63fa\", \"#FFA15A\", \"#19d3f3\", \"#FF6692\", \"#B6E880\", \"#FF97FF\", \"#FECB52\"], \"font\": {\"color\": \"#2a3f5f\"}, \"geo\": {\"bgcolor\": \"white\", \"lakecolor\": \"white\", \"landcolor\": \"#E5ECF6\", \"showlakes\": true, \"showland\": true, \"subunitcolor\": \"white\"}, \"hoverlabel\": {\"align\": \"left\"}, \"hovermode\": \"closest\", \"mapbox\": {\"style\": \"light\"}, \"paper_bgcolor\": \"white\", \"plot_bgcolor\": \"#E5ECF6\", \"polar\": {\"angularaxis\": {\"gridcolor\": \"white\", \"linecolor\": \"white\", \"ticks\": \"\"}, \"bgcolor\": \"#E5ECF6\", \"radialaxis\": {\"gridcolor\": \"white\", \"linecolor\": \"white\", \"ticks\": \"\"}}, \"scene\": {\"xaxis\": {\"backgroundcolor\": \"#E5ECF6\", \"gridcolor\": \"white\", \"gridwidth\": 2, \"linecolor\": \"white\", \"showbackground\": true, \"ticks\": \"\", \"zerolinecolor\": \"white\"}, \"yaxis\": {\"backgroundcolor\": \"#E5ECF6\", \"gridcolor\": \"white\", \"gridwidth\": 2, \"linecolor\": \"white\", \"showbackground\": true, \"ticks\": \"\", \"zerolinecolor\": \"white\"}, \"zaxis\": {\"backgroundcolor\": \"#E5ECF6\", \"gridcolor\": \"white\", \"gridwidth\": 2, \"linecolor\": \"white\", \"showbackground\": true, \"ticks\": \"\", \"zerolinecolor\": \"white\"}}, \"shapedefaults\": {\"line\": {\"color\": \"#2a3f5f\"}}, \"ternary\": {\"aaxis\": {\"gridcolor\": \"white\", \"linecolor\": \"white\", \"ticks\": \"\"}, \"baxis\": {\"gridcolor\": \"white\", \"linecolor\": \"white\", \"ticks\": \"\"}, \"bgcolor\": \"#E5ECF6\", \"caxis\": {\"gridcolor\": \"white\", \"linecolor\": \"white\", \"ticks\": \"\"}}, \"title\": {\"x\": 0.05}, \"xaxis\": {\"automargin\": true, \"gridcolor\": \"white\", \"linecolor\": \"white\", \"ticks\": \"\", \"title\": {\"standoff\": 15}, \"zerolinecolor\": \"white\", \"zerolinewidth\": 2}, \"yaxis\": {\"automargin\": true, \"gridcolor\": \"white\", \"linecolor\": \"white\", \"ticks\": \"\", \"title\": {\"standoff\": 15}, \"zerolinecolor\": \"white\", \"zerolinewidth\": 2}}}, \"title\": {\"text\": \"prediction\"}, \"width\": 1200, \"xaxis\": {\"anchor\": \"y\", \"domain\": [0.0, 1.0]}, \"yaxis\": {\"anchor\": \"x\", \"domain\": [0.0, 1.0]}},\n",
              "                        {\"responsive\": true}\n",
              "                    ).then(function(){\n",
              "                            \n",
              "var gd = document.getElementById('9e82f2da-965a-485f-98e2-91d1163b60f0');\n",
              "var x = new MutationObserver(function (mutations, observer) {{\n",
              "        var display = window.getComputedStyle(gd).display;\n",
              "        if (!display || display === 'none') {{\n",
              "            console.log([gd, 'removed!']);\n",
              "            Plotly.purge(gd);\n",
              "            observer.disconnect();\n",
              "        }}\n",
              "}});\n",
              "\n",
              "// Listen for the removal of the full notebook cells\n",
              "var notebookContainer = gd.closest('#notebook-container');\n",
              "if (notebookContainer) {{\n",
              "    x.observe(notebookContainer, {childList: true});\n",
              "}}\n",
              "\n",
              "// Listen for the clearing of the current output cell\n",
              "var outputEl = gd.closest('.output');\n",
              "if (outputEl) {{\n",
              "    x.observe(outputEl, {childList: true});\n",
              "}}\n",
              "\n",
              "                        })\n",
              "                };\n",
              "                \n",
              "            </script>\n",
              "        </div>\n",
              "</body>\n",
              "</html>"
            ]
          },
          "metadata": {
            "tags": []
          }
        }
      ]
    },
    {
      "cell_type": "markdown",
      "metadata": {
        "id": "kTpaq6qosTvG"
      },
      "source": [
        "Ez a LAsso nem valami szép"
      ]
    },
    {
      "cell_type": "code",
      "metadata": {
        "id": "cJjYpGTy9MFL",
        "colab": {
          "base_uri": "https://localhost:8080/",
          "height": 224
        },
        "outputId": "3b788c20-86f1-4924-d1a8-ec974e0c37fc"
      },
      "source": [
        "X_train_sj.tail(5)"
      ],
      "execution_count": 35,
      "outputs": [
        {
          "output_type": "execute_result",
          "data": {
            "text/html": [
              "<div>\n",
              "<style scoped>\n",
              "    .dataframe tbody tr th:only-of-type {\n",
              "        vertical-align: middle;\n",
              "    }\n",
              "\n",
              "    .dataframe tbody tr th {\n",
              "        vertical-align: top;\n",
              "    }\n",
              "\n",
              "    .dataframe thead th {\n",
              "        text-align: right;\n",
              "    }\n",
              "</style>\n",
              "<table border=\"1\" class=\"dataframe\">\n",
              "  <thead>\n",
              "    <tr style=\"text-align: right;\">\n",
              "      <th></th>\n",
              "      <th>city</th>\n",
              "      <th>year</th>\n",
              "      <th>weekofyear</th>\n",
              "      <th>week_start_date</th>\n",
              "      <th>ndvi_ne</th>\n",
              "      <th>ndvi_nw</th>\n",
              "      <th>ndvi_se</th>\n",
              "      <th>ndvi_sw</th>\n",
              "      <th>precipitation_amt_mm</th>\n",
              "      <th>reanalysis_air_temp_k</th>\n",
              "      <th>reanalysis_avg_temp_k</th>\n",
              "      <th>reanalysis_dew_point_temp_k</th>\n",
              "      <th>reanalysis_max_air_temp_k</th>\n",
              "      <th>reanalysis_min_air_temp_k</th>\n",
              "      <th>reanalysis_precip_amt_kg_per_m2</th>\n",
              "      <th>reanalysis_relative_humidity_percent</th>\n",
              "      <th>reanalysis_sat_precip_amt_mm</th>\n",
              "      <th>reanalysis_specific_humidity_g_per_kg</th>\n",
              "      <th>reanalysis_tdtr_k</th>\n",
              "      <th>station_avg_temp_c</th>\n",
              "      <th>station_diur_temp_rng_c</th>\n",
              "      <th>station_max_temp_c</th>\n",
              "      <th>station_min_temp_c</th>\n",
              "      <th>station_precip_mm</th>\n",
              "      <th>total_cases</th>\n",
              "      <th>pred</th>\n",
              "    </tr>\n",
              "  </thead>\n",
              "  <tbody>\n",
              "    <tr>\n",
              "      <th>931</th>\n",
              "      <td>sj</td>\n",
              "      <td>2008</td>\n",
              "      <td>13</td>\n",
              "      <td>2008-03-25</td>\n",
              "      <td>0.07785</td>\n",
              "      <td>-0.039900</td>\n",
              "      <td>0.310471</td>\n",
              "      <td>0.296243</td>\n",
              "      <td>27.19</td>\n",
              "      <td>296.958571</td>\n",
              "      <td>296.957143</td>\n",
              "      <td>292.095714</td>\n",
              "      <td>299.7</td>\n",
              "      <td>294.4</td>\n",
              "      <td>7.55</td>\n",
              "      <td>74.247143</td>\n",
              "      <td>27.19</td>\n",
              "      <td>13.644286</td>\n",
              "      <td>2.885714</td>\n",
              "      <td>25.042857</td>\n",
              "      <td>5.785714</td>\n",
              "      <td>30.0</td>\n",
              "      <td>21.1</td>\n",
              "      <td>1.8</td>\n",
              "      <td>4</td>\n",
              "      <td>33.697978</td>\n",
              "    </tr>\n",
              "    <tr>\n",
              "      <th>932</th>\n",
              "      <td>sj</td>\n",
              "      <td>2008</td>\n",
              "      <td>14</td>\n",
              "      <td>2008-04-01</td>\n",
              "      <td>-0.03800</td>\n",
              "      <td>-0.016833</td>\n",
              "      <td>0.119371</td>\n",
              "      <td>0.066386</td>\n",
              "      <td>3.82</td>\n",
              "      <td>298.081429</td>\n",
              "      <td>298.228571</td>\n",
              "      <td>293.235714</td>\n",
              "      <td>299.8</td>\n",
              "      <td>296.5</td>\n",
              "      <td>3.67</td>\n",
              "      <td>74.600000</td>\n",
              "      <td>3.82</td>\n",
              "      <td>14.662857</td>\n",
              "      <td>2.714286</td>\n",
              "      <td>26.242857</td>\n",
              "      <td>6.814286</td>\n",
              "      <td>30.6</td>\n",
              "      <td>22.2</td>\n",
              "      <td>0.5</td>\n",
              "      <td>3</td>\n",
              "      <td>1.658381</td>\n",
              "    </tr>\n",
              "    <tr>\n",
              "      <th>933</th>\n",
              "      <td>sj</td>\n",
              "      <td>2008</td>\n",
              "      <td>15</td>\n",
              "      <td>2008-04-08</td>\n",
              "      <td>-0.15520</td>\n",
              "      <td>-0.052750</td>\n",
              "      <td>0.137757</td>\n",
              "      <td>0.141214</td>\n",
              "      <td>16.96</td>\n",
              "      <td>297.460000</td>\n",
              "      <td>297.564286</td>\n",
              "      <td>292.732857</td>\n",
              "      <td>299.4</td>\n",
              "      <td>295.8</td>\n",
              "      <td>35.00</td>\n",
              "      <td>75.027143</td>\n",
              "      <td>16.96</td>\n",
              "      <td>14.184286</td>\n",
              "      <td>2.185714</td>\n",
              "      <td>25.000000</td>\n",
              "      <td>5.714286</td>\n",
              "      <td>29.4</td>\n",
              "      <td>21.7</td>\n",
              "      <td>30.7</td>\n",
              "      <td>1</td>\n",
              "      <td>1.736314</td>\n",
              "    </tr>\n",
              "    <tr>\n",
              "      <th>934</th>\n",
              "      <td>sj</td>\n",
              "      <td>2008</td>\n",
              "      <td>16</td>\n",
              "      <td>2008-04-15</td>\n",
              "      <td>0.00180</td>\n",
              "      <td>-0.010367</td>\n",
              "      <td>0.203900</td>\n",
              "      <td>0.209843</td>\n",
              "      <td>0.00</td>\n",
              "      <td>297.630000</td>\n",
              "      <td>297.778571</td>\n",
              "      <td>292.274286</td>\n",
              "      <td>299.7</td>\n",
              "      <td>295.9</td>\n",
              "      <td>4.82</td>\n",
              "      <td>72.285714</td>\n",
              "      <td>0.00</td>\n",
              "      <td>13.858571</td>\n",
              "      <td>2.785714</td>\n",
              "      <td>25.314286</td>\n",
              "      <td>6.242857</td>\n",
              "      <td>29.4</td>\n",
              "      <td>21.7</td>\n",
              "      <td>11.2</td>\n",
              "      <td>3</td>\n",
              "      <td>12.409865</td>\n",
              "    </tr>\n",
              "    <tr>\n",
              "      <th>935</th>\n",
              "      <td>sj</td>\n",
              "      <td>2008</td>\n",
              "      <td>17</td>\n",
              "      <td>2008-04-22</td>\n",
              "      <td>-0.03700</td>\n",
              "      <td>-0.010367</td>\n",
              "      <td>0.077314</td>\n",
              "      <td>0.090586</td>\n",
              "      <td>0.00</td>\n",
              "      <td>298.672857</td>\n",
              "      <td>298.692857</td>\n",
              "      <td>294.280000</td>\n",
              "      <td>300.9</td>\n",
              "      <td>295.9</td>\n",
              "      <td>2.17</td>\n",
              "      <td>76.960000</td>\n",
              "      <td>0.00</td>\n",
              "      <td>15.671429</td>\n",
              "      <td>3.957143</td>\n",
              "      <td>27.042857</td>\n",
              "      <td>7.514286</td>\n",
              "      <td>31.7</td>\n",
              "      <td>23.3</td>\n",
              "      <td>0.3</td>\n",
              "      <td>5</td>\n",
              "      <td>-0.338400</td>\n",
              "    </tr>\n",
              "  </tbody>\n",
              "</table>\n",
              "</div>"
            ],
            "text/plain": [
              "    city  year  weekofyear  ... station_precip_mm  total_cases       pred\n",
              "931   sj  2008          13  ...               1.8            4  33.697978\n",
              "932   sj  2008          14  ...               0.5            3   1.658381\n",
              "933   sj  2008          15  ...              30.7            1   1.736314\n",
              "934   sj  2008          16  ...              11.2            3  12.409865\n",
              "935   sj  2008          17  ...               0.3            5  -0.338400\n",
              "\n",
              "[5 rows x 26 columns]"
            ]
          },
          "metadata": {
            "tags": []
          },
          "execution_count": 35
        }
      ]
    },
    {
      "cell_type": "markdown",
      "metadata": {
        "id": "4RQRFElO-8pO"
      },
      "source": [
        "SJ random forest"
      ]
    },
    {
      "cell_type": "code",
      "metadata": {
        "id": "UxdBcovSZ4Sf",
        "colab": {
          "base_uri": "https://localhost:8080/"
        },
        "outputId": "aaeca627-8238-4a0c-9d1f-10b0655a637a"
      },
      "source": [
        "\n",
        "from sklearn.ensemble import RandomForestRegressor\n",
        "\n",
        "total_regressor=RandomForestRegressor(n_estimators=1540,criterion=\"mse\",)\n",
        "\n",
        "yy=X_train_sj[['total_cases']]\n",
        "total_regressor.fit(X_train_sj[prediktorok],yy)\n",
        "y_pred=total_regressor.predict(X_train_sj[prediktorok])\n",
        "\n",
        "X_train_sj[\"Randomforest_total\"]=y_pred\n",
        "\n",
        "\n"
      ],
      "execution_count": 36,
      "outputs": [
        {
          "output_type": "stream",
          "text": [
            "/usr/local/lib/python3.7/dist-packages/ipykernel_launcher.py:7: DataConversionWarning:\n",
            "\n",
            "A column-vector y was passed when a 1d array was expected. Please change the shape of y to (n_samples,), for example using ravel().\n",
            "\n",
            "/usr/local/lib/python3.7/dist-packages/ipykernel_launcher.py:10: SettingWithCopyWarning:\n",
            "\n",
            "\n",
            "A value is trying to be set on a copy of a slice from a DataFrame.\n",
            "Try using .loc[row_indexer,col_indexer] = value instead\n",
            "\n",
            "See the caveats in the documentation: https://pandas.pydata.org/pandas-docs/stable/user_guide/indexing.html#returning-a-view-versus-a-copy\n",
            "\n"
          ],
          "name": "stderr"
        }
      ]
    },
    {
      "cell_type": "code",
      "metadata": {
        "colab": {
          "base_uri": "https://localhost:8080/",
          "height": 224
        },
        "id": "vqJKU9hfI3Yn",
        "outputId": "43d0d5e0-7ea1-417b-a640-3d55d6cea36d"
      },
      "source": [
        "X_train_sj.tail()"
      ],
      "execution_count": 37,
      "outputs": [
        {
          "output_type": "execute_result",
          "data": {
            "text/html": [
              "<div>\n",
              "<style scoped>\n",
              "    .dataframe tbody tr th:only-of-type {\n",
              "        vertical-align: middle;\n",
              "    }\n",
              "\n",
              "    .dataframe tbody tr th {\n",
              "        vertical-align: top;\n",
              "    }\n",
              "\n",
              "    .dataframe thead th {\n",
              "        text-align: right;\n",
              "    }\n",
              "</style>\n",
              "<table border=\"1\" class=\"dataframe\">\n",
              "  <thead>\n",
              "    <tr style=\"text-align: right;\">\n",
              "      <th></th>\n",
              "      <th>city</th>\n",
              "      <th>year</th>\n",
              "      <th>weekofyear</th>\n",
              "      <th>week_start_date</th>\n",
              "      <th>ndvi_ne</th>\n",
              "      <th>ndvi_nw</th>\n",
              "      <th>ndvi_se</th>\n",
              "      <th>ndvi_sw</th>\n",
              "      <th>precipitation_amt_mm</th>\n",
              "      <th>reanalysis_air_temp_k</th>\n",
              "      <th>reanalysis_avg_temp_k</th>\n",
              "      <th>reanalysis_dew_point_temp_k</th>\n",
              "      <th>reanalysis_max_air_temp_k</th>\n",
              "      <th>reanalysis_min_air_temp_k</th>\n",
              "      <th>reanalysis_precip_amt_kg_per_m2</th>\n",
              "      <th>reanalysis_relative_humidity_percent</th>\n",
              "      <th>reanalysis_sat_precip_amt_mm</th>\n",
              "      <th>reanalysis_specific_humidity_g_per_kg</th>\n",
              "      <th>reanalysis_tdtr_k</th>\n",
              "      <th>station_avg_temp_c</th>\n",
              "      <th>station_diur_temp_rng_c</th>\n",
              "      <th>station_max_temp_c</th>\n",
              "      <th>station_min_temp_c</th>\n",
              "      <th>station_precip_mm</th>\n",
              "      <th>total_cases</th>\n",
              "      <th>pred</th>\n",
              "      <th>Randomforest_total</th>\n",
              "    </tr>\n",
              "  </thead>\n",
              "  <tbody>\n",
              "    <tr>\n",
              "      <th>931</th>\n",
              "      <td>sj</td>\n",
              "      <td>2008</td>\n",
              "      <td>13</td>\n",
              "      <td>2008-03-25</td>\n",
              "      <td>0.07785</td>\n",
              "      <td>-0.039900</td>\n",
              "      <td>0.310471</td>\n",
              "      <td>0.296243</td>\n",
              "      <td>27.19</td>\n",
              "      <td>296.958571</td>\n",
              "      <td>296.957143</td>\n",
              "      <td>292.095714</td>\n",
              "      <td>299.7</td>\n",
              "      <td>294.4</td>\n",
              "      <td>7.55</td>\n",
              "      <td>74.247143</td>\n",
              "      <td>27.19</td>\n",
              "      <td>13.644286</td>\n",
              "      <td>2.885714</td>\n",
              "      <td>25.042857</td>\n",
              "      <td>5.785714</td>\n",
              "      <td>30.0</td>\n",
              "      <td>21.1</td>\n",
              "      <td>1.8</td>\n",
              "      <td>4</td>\n",
              "      <td>33.697978</td>\n",
              "      <td>5.909740</td>\n",
              "    </tr>\n",
              "    <tr>\n",
              "      <th>932</th>\n",
              "      <td>sj</td>\n",
              "      <td>2008</td>\n",
              "      <td>14</td>\n",
              "      <td>2008-04-01</td>\n",
              "      <td>-0.03800</td>\n",
              "      <td>-0.016833</td>\n",
              "      <td>0.119371</td>\n",
              "      <td>0.066386</td>\n",
              "      <td>3.82</td>\n",
              "      <td>298.081429</td>\n",
              "      <td>298.228571</td>\n",
              "      <td>293.235714</td>\n",
              "      <td>299.8</td>\n",
              "      <td>296.5</td>\n",
              "      <td>3.67</td>\n",
              "      <td>74.600000</td>\n",
              "      <td>3.82</td>\n",
              "      <td>14.662857</td>\n",
              "      <td>2.714286</td>\n",
              "      <td>26.242857</td>\n",
              "      <td>6.814286</td>\n",
              "      <td>30.6</td>\n",
              "      <td>22.2</td>\n",
              "      <td>0.5</td>\n",
              "      <td>3</td>\n",
              "      <td>1.658381</td>\n",
              "      <td>5.164286</td>\n",
              "    </tr>\n",
              "    <tr>\n",
              "      <th>933</th>\n",
              "      <td>sj</td>\n",
              "      <td>2008</td>\n",
              "      <td>15</td>\n",
              "      <td>2008-04-08</td>\n",
              "      <td>-0.15520</td>\n",
              "      <td>-0.052750</td>\n",
              "      <td>0.137757</td>\n",
              "      <td>0.141214</td>\n",
              "      <td>16.96</td>\n",
              "      <td>297.460000</td>\n",
              "      <td>297.564286</td>\n",
              "      <td>292.732857</td>\n",
              "      <td>299.4</td>\n",
              "      <td>295.8</td>\n",
              "      <td>35.00</td>\n",
              "      <td>75.027143</td>\n",
              "      <td>16.96</td>\n",
              "      <td>14.184286</td>\n",
              "      <td>2.185714</td>\n",
              "      <td>25.000000</td>\n",
              "      <td>5.714286</td>\n",
              "      <td>29.4</td>\n",
              "      <td>21.7</td>\n",
              "      <td>30.7</td>\n",
              "      <td>1</td>\n",
              "      <td>1.736314</td>\n",
              "      <td>4.169481</td>\n",
              "    </tr>\n",
              "    <tr>\n",
              "      <th>934</th>\n",
              "      <td>sj</td>\n",
              "      <td>2008</td>\n",
              "      <td>16</td>\n",
              "      <td>2008-04-15</td>\n",
              "      <td>0.00180</td>\n",
              "      <td>-0.010367</td>\n",
              "      <td>0.203900</td>\n",
              "      <td>0.209843</td>\n",
              "      <td>0.00</td>\n",
              "      <td>297.630000</td>\n",
              "      <td>297.778571</td>\n",
              "      <td>292.274286</td>\n",
              "      <td>299.7</td>\n",
              "      <td>295.9</td>\n",
              "      <td>4.82</td>\n",
              "      <td>72.285714</td>\n",
              "      <td>0.00</td>\n",
              "      <td>13.858571</td>\n",
              "      <td>2.785714</td>\n",
              "      <td>25.314286</td>\n",
              "      <td>6.242857</td>\n",
              "      <td>29.4</td>\n",
              "      <td>21.7</td>\n",
              "      <td>11.2</td>\n",
              "      <td>3</td>\n",
              "      <td>12.409865</td>\n",
              "      <td>4.301299</td>\n",
              "    </tr>\n",
              "    <tr>\n",
              "      <th>935</th>\n",
              "      <td>sj</td>\n",
              "      <td>2008</td>\n",
              "      <td>17</td>\n",
              "      <td>2008-04-22</td>\n",
              "      <td>-0.03700</td>\n",
              "      <td>-0.010367</td>\n",
              "      <td>0.077314</td>\n",
              "      <td>0.090586</td>\n",
              "      <td>0.00</td>\n",
              "      <td>298.672857</td>\n",
              "      <td>298.692857</td>\n",
              "      <td>294.280000</td>\n",
              "      <td>300.9</td>\n",
              "      <td>295.9</td>\n",
              "      <td>2.17</td>\n",
              "      <td>76.960000</td>\n",
              "      <td>0.00</td>\n",
              "      <td>15.671429</td>\n",
              "      <td>3.957143</td>\n",
              "      <td>27.042857</td>\n",
              "      <td>7.514286</td>\n",
              "      <td>31.7</td>\n",
              "      <td>23.3</td>\n",
              "      <td>0.3</td>\n",
              "      <td>5</td>\n",
              "      <td>-0.338400</td>\n",
              "      <td>6.919481</td>\n",
              "    </tr>\n",
              "  </tbody>\n",
              "</table>\n",
              "</div>"
            ],
            "text/plain": [
              "    city  year  weekofyear  ... total_cases       pred  Randomforest_total\n",
              "931   sj  2008          13  ...           4  33.697978            5.909740\n",
              "932   sj  2008          14  ...           3   1.658381            5.164286\n",
              "933   sj  2008          15  ...           1   1.736314            4.169481\n",
              "934   sj  2008          16  ...           3  12.409865            4.301299\n",
              "935   sj  2008          17  ...           5  -0.338400            6.919481\n",
              "\n",
              "[5 rows x 27 columns]"
            ]
          },
          "metadata": {
            "tags": []
          },
          "execution_count": 37
        }
      ]
    },
    {
      "cell_type": "code",
      "metadata": {
        "colab": {
          "base_uri": "https://localhost:8080/"
        },
        "id": "JVMFU9JuFTxu",
        "outputId": "49fd7035-90dd-4696-dbf7-894d5a4506a1"
      },
      "source": [
        "\n",
        "\n",
        "from sklearn.ensemble import GradientBoostingRegressor\n",
        "\n",
        "total_regressor=GradientBoostingRegressor(n_estimators=2000,verbose=1)\n",
        "\n",
        "yy=X_train_sj[['total_cases']]\n",
        "total_regressor.fit(X_train_sj[prediktorok],yy)\n",
        "y_pred=total_regressor.predict(X_train_sj[prediktorok])\n",
        "\n",
        "X_train_sj[\"Randomforest_total\"]=y_pred"
      ],
      "execution_count": 38,
      "outputs": [
        {
          "output_type": "stream",
          "text": [
            "/usr/local/lib/python3.7/dist-packages/sklearn/ensemble/_gb.py:1454: DataConversionWarning:\n",
            "\n",
            "A column-vector y was passed when a 1d array was expected. Please change the shape of y to (n_samples, ), for example using ravel().\n",
            "\n"
          ],
          "name": "stderr"
        },
        {
          "output_type": "stream",
          "text": [
            "      Iter       Train Loss   Remaining Time \n",
            "         1        2328.3095            9.55s\n",
            "         2        2077.8591            9.55s\n",
            "         3        1866.2682            9.73s\n",
            "         4        1700.4436            9.70s\n",
            "         5        1559.4057            9.64s\n",
            "         6        1449.7633            9.55s\n",
            "         7        1355.3893            9.49s\n",
            "         8        1280.3956            9.43s\n",
            "         9        1216.0761            9.40s\n",
            "        10        1163.1555            9.45s\n",
            "        20         877.9643            8.99s\n",
            "        30         759.3513            8.96s\n",
            "        40         671.4250            8.83s\n",
            "        50         592.1514            8.92s\n",
            "        60         540.1539            8.99s\n",
            "        70         481.2859            9.12s\n",
            "        80         435.7583            9.11s\n",
            "        90         404.6136            9.01s\n",
            "       100         373.9880            8.93s\n",
            "       200         179.0351            8.10s\n",
            "       300          98.3384            7.54s\n",
            "       400          60.0308            7.00s\n",
            "       500          37.4168            6.54s\n",
            "       600          23.9874            6.06s\n",
            "       700          15.9421            5.63s\n",
            "       800          10.5260            5.17s\n",
            "       900           6.8929            4.73s\n",
            "      1000           4.3468            4.29s\n",
            "      2000           0.1110            0.00s\n"
          ],
          "name": "stdout"
        },
        {
          "output_type": "stream",
          "text": [
            "/usr/local/lib/python3.7/dist-packages/ipykernel_launcher.py:11: SettingWithCopyWarning:\n",
            "\n",
            "\n",
            "A value is trying to be set on a copy of a slice from a DataFrame.\n",
            "Try using .loc[row_indexer,col_indexer] = value instead\n",
            "\n",
            "See the caveats in the documentation: https://pandas.pydata.org/pandas-docs/stable/user_guide/indexing.html#returning-a-view-versus-a-copy\n",
            "\n"
          ],
          "name": "stderr"
        }
      ]
    },
    {
      "cell_type": "code",
      "metadata": {
        "id": "vs6u8WxDIwgG"
      },
      "source": [
        ""
      ],
      "execution_count": 38,
      "outputs": []
    },
    {
      "cell_type": "code",
      "metadata": {
        "id": "-qgc1XFraobT",
        "colab": {
          "base_uri": "https://localhost:8080/",
          "height": 617
        },
        "outputId": "97435489-82f9-4f33-c81b-9c98705a8595"
      },
      "source": [
        "grafikon(X_train_sj,\"week_start_date\",\"total_cases\",\"total_cases\",\"Randomforest_total\",\"Randomforest_total\",title=\"GradientBoostingRegressor\",)"
      ],
      "execution_count": 39,
      "outputs": [
        {
          "output_type": "display_data",
          "data": {
            "text/html": [
              "<html>\n",
              "<head><meta charset=\"utf-8\" /></head>\n",
              "<body>\n",
              "    <div>\n",
              "            <script src=\"https://cdnjs.cloudflare.com/ajax/libs/mathjax/2.7.5/MathJax.js?config=TeX-AMS-MML_SVG\"></script><script type=\"text/javascript\">if (window.MathJax) {MathJax.Hub.Config({SVG: {font: \"STIX-Web\"}});}</script>\n",
              "                <script type=\"text/javascript\">window.PlotlyConfig = {MathJaxConfig: 'local'};</script>\n",
              "        <script src=\"https://cdn.plot.ly/plotly-latest.min.js\"></script>    \n",
              "            <div id=\"60be8371-faed-4321-9ab6-d5c1c36c3d1e\" class=\"plotly-graph-div\" style=\"height:600px; width:1200px;\"></div>\n",
              "            <script type=\"text/javascript\">\n",
              "                \n",
              "                    window.PLOTLYENV=window.PLOTLYENV || {};\n",
              "                    \n",
              "                if (document.getElementById(\"60be8371-faed-4321-9ab6-d5c1c36c3d1e\")) {\n",
              "                    Plotly.newPlot(\n",
              "                        '60be8371-faed-4321-9ab6-d5c1c36c3d1e',\n",
              "                        [{\"line\": {\"color\": \"rgba(35,128,132,0.8)\"}, \"name\": \"total_cases\", \"showlegend\": true, \"type\": \"scatter\", \"x\": [\"1990-04-30\", \"1990-05-07\", \"1990-05-14\", \"1990-05-21\", \"1990-05-28\", \"1990-06-04\", \"1990-06-11\", \"1990-06-18\", \"1990-06-25\", \"1990-07-02\", \"1990-07-09\", \"1990-07-16\", \"1990-07-23\", \"1990-07-30\", \"1990-08-06\", \"1990-08-13\", \"1990-08-20\", \"1990-08-27\", \"1990-09-03\", \"1990-09-10\", \"1990-09-17\", \"1990-09-24\", \"1990-10-01\", \"1990-10-08\", \"1990-10-15\", \"1990-10-22\", \"1990-10-29\", \"1990-11-05\", \"1990-11-12\", \"1990-11-19\", \"1990-11-26\", \"1990-12-03\", \"1990-12-10\", \"1990-12-17\", \"1990-12-24\", \"1991-01-01\", \"1991-01-08\", \"1991-01-15\", \"1991-01-22\", \"1991-01-29\", \"1991-02-05\", \"1991-02-12\", \"1991-02-19\", \"1991-02-26\", \"1991-03-05\", \"1991-03-12\", \"1991-03-19\", \"1991-03-26\", \"1991-04-02\", \"1991-04-09\", \"1991-04-16\", \"1991-04-23\", \"1991-04-30\", \"1991-05-07\", \"1991-05-14\", \"1991-05-21\", \"1991-05-28\", \"1991-06-04\", \"1991-06-11\", \"1991-06-18\", \"1991-06-25\", \"1991-07-02\", \"1991-07-09\", \"1991-07-16\", \"1991-07-23\", \"1991-07-30\", \"1991-08-06\", \"1991-08-13\", \"1991-08-20\", \"1991-08-27\", \"1991-09-03\", \"1991-09-10\", \"1991-09-17\", \"1991-09-24\", \"1991-10-01\", \"1991-10-08\", \"1991-10-15\", \"1991-10-22\", \"1991-10-29\", \"1991-11-05\", \"1991-11-12\", \"1991-11-19\", \"1991-11-26\", \"1991-12-03\", \"1991-12-10\", \"1991-12-17\", \"1991-12-24\", \"1992-01-01\", \"1992-01-08\", \"1992-01-15\", \"1992-01-22\", \"1992-01-29\", \"1992-02-05\", \"1992-02-12\", \"1992-02-19\", \"1992-02-26\", \"1992-03-04\", \"1992-03-11\", \"1992-03-18\", \"1992-03-25\", \"1992-04-01\", \"1992-04-08\", \"1992-04-15\", \"1992-04-22\", \"1992-04-29\", \"1992-05-06\", \"1992-05-13\", \"1992-05-20\", \"1992-05-27\", \"1992-06-03\", \"1992-06-10\", \"1992-06-17\", \"1992-06-24\", \"1992-07-01\", \"1992-07-08\", \"1992-07-15\", \"1992-07-22\", \"1992-07-29\", \"1992-08-05\", \"1992-08-12\", \"1992-08-19\", \"1992-08-26\", \"1992-09-02\", \"1992-09-09\", \"1992-09-16\", \"1992-09-23\", \"1992-09-30\", \"1992-10-07\", \"1992-10-14\", \"1992-10-21\", \"1992-10-28\", \"1992-11-04\", \"1992-11-11\", \"1992-11-18\", \"1992-11-25\", \"1992-12-02\", \"1992-12-09\", \"1992-12-16\", \"1992-12-23\", \"1993-01-01\", \"1993-01-08\", \"1993-01-15\", \"1993-01-22\", \"1993-01-29\", \"1993-02-05\", \"1993-02-12\", \"1993-02-19\", \"1993-02-26\", \"1993-03-05\", \"1993-03-12\", \"1993-03-19\", \"1993-03-26\", \"1993-04-02\", \"1993-04-09\", \"1993-04-16\", \"1993-04-23\", \"1993-04-30\", \"1993-05-07\", \"1993-05-14\", \"1993-05-21\", \"1993-05-28\", \"1993-06-04\", \"1993-06-11\", \"1993-06-18\", \"1993-06-25\", \"1993-07-02\", \"1993-07-09\", \"1993-07-16\", \"1993-07-23\", \"1993-07-30\", \"1993-08-06\", \"1993-08-13\", \"1993-08-20\", \"1993-08-27\", \"1993-09-03\", \"1993-09-10\", \"1993-09-17\", \"1993-09-24\", \"1993-10-01\", \"1993-10-08\", \"1993-10-15\", \"1993-10-22\", \"1993-10-29\", \"1993-11-05\", \"1993-11-12\", \"1993-11-19\", \"1993-11-26\", \"1993-12-03\", \"1993-12-10\", \"1993-12-17\", \"1993-12-24\", \"1994-01-01\", \"1994-01-08\", \"1994-01-15\", \"1994-01-22\", \"1994-01-29\", \"1994-02-05\", \"1994-02-12\", \"1994-02-19\", \"1994-02-26\", \"1994-03-05\", \"1994-03-12\", \"1994-03-19\", \"1994-03-26\", \"1994-04-02\", \"1994-04-09\", \"1994-04-16\", \"1994-04-23\", \"1994-04-30\", \"1994-05-07\", \"1994-05-14\", \"1994-05-21\", \"1994-05-28\", \"1994-06-04\", \"1994-06-11\", \"1994-06-18\", \"1994-06-25\", \"1994-07-02\", \"1994-07-09\", \"1994-07-16\", \"1994-07-23\", \"1994-07-30\", \"1994-08-06\", \"1994-08-13\", \"1994-08-20\", \"1994-08-27\", \"1994-09-03\", \"1994-09-10\", \"1994-09-17\", \"1994-09-24\", \"1994-10-01\", \"1994-10-08\", \"1994-10-15\", \"1994-10-22\", \"1994-10-29\", \"1994-11-05\", \"1994-11-12\", \"1994-11-19\", \"1994-11-26\", \"1994-12-03\", \"1994-12-10\", \"1994-12-17\", \"1994-12-24\", \"1995-01-01\", \"1995-01-08\", \"1995-01-15\", \"1995-01-22\", \"1995-01-29\", \"1995-02-05\", \"1995-02-12\", \"1995-02-19\", \"1995-02-26\", \"1995-03-05\", \"1995-03-12\", \"1995-03-19\", \"1995-03-26\", \"1995-04-02\", \"1995-04-09\", \"1995-04-16\", \"1995-04-23\", \"1995-04-30\", \"1995-05-07\", \"1995-05-14\", \"1995-05-21\", \"1995-05-28\", \"1995-06-04\", \"1995-06-11\", \"1995-06-18\", \"1995-06-25\", \"1995-07-02\", \"1995-07-09\", \"1995-07-16\", \"1995-07-23\", \"1995-07-30\", \"1995-08-06\", \"1995-08-13\", \"1995-08-20\", \"1995-08-27\", \"1995-09-03\", \"1995-09-10\", \"1995-09-17\", \"1995-09-24\", \"1995-10-01\", \"1995-10-08\", \"1995-10-15\", \"1995-10-22\", \"1995-10-29\", \"1995-11-05\", \"1995-11-12\", \"1995-11-19\", \"1995-11-26\", \"1995-12-03\", \"1995-12-10\", \"1995-12-17\", \"1995-12-24\", \"1996-01-01\", \"1996-01-08\", \"1996-01-15\", \"1996-01-22\", \"1996-01-29\", \"1996-02-05\", \"1996-02-12\", \"1996-02-19\", \"1996-02-26\", \"1996-03-04\", \"1996-03-11\", \"1996-03-18\", \"1996-03-25\", \"1996-04-01\", \"1996-04-08\", \"1996-04-15\", \"1996-04-22\", \"1996-04-29\", \"1996-05-06\", \"1996-05-13\", \"1996-05-20\", \"1996-05-27\", \"1996-06-03\", \"1996-06-10\", \"1996-06-17\", \"1996-06-24\", \"1996-07-01\", \"1996-07-08\", \"1996-07-15\", \"1996-07-22\", \"1996-07-29\", \"1996-08-05\", \"1996-08-12\", \"1996-08-19\", \"1996-08-26\", \"1996-09-02\", \"1996-09-09\", \"1996-09-16\", \"1996-09-23\", \"1996-09-30\", \"1996-10-07\", \"1996-10-14\", \"1996-10-21\", \"1996-10-28\", \"1996-11-04\", \"1996-11-11\", \"1996-11-18\", \"1996-11-25\", \"1996-12-02\", \"1996-12-09\", \"1996-12-16\", \"1996-12-23\", \"1997-01-01\", \"1997-01-08\", \"1997-01-15\", \"1997-01-22\", \"1997-01-29\", \"1997-02-05\", \"1997-02-12\", \"1997-02-19\", \"1997-02-26\", \"1997-03-05\", \"1997-03-12\", \"1997-03-19\", \"1997-03-26\", \"1997-04-02\", \"1997-04-09\", \"1997-04-16\", \"1997-04-23\", \"1997-04-30\", \"1997-05-07\", \"1997-05-14\", \"1997-05-21\", \"1997-05-28\", \"1997-06-04\", \"1997-06-11\", \"1997-06-18\", \"1997-06-25\", \"1997-07-02\", \"1997-07-09\", \"1997-07-16\", \"1997-07-23\", \"1997-07-30\", \"1997-08-06\", \"1997-08-13\", \"1997-08-20\", \"1997-08-27\", \"1997-09-03\", \"1997-09-10\", \"1997-09-17\", \"1997-09-24\", \"1997-10-01\", \"1997-10-08\", \"1997-10-15\", \"1997-10-22\", \"1997-10-29\", \"1997-11-05\", \"1997-11-12\", \"1997-11-19\", \"1997-11-26\", \"1997-12-03\", \"1997-12-10\", \"1997-12-17\", \"1997-12-24\", \"1998-01-01\", \"1998-01-08\", \"1998-01-15\", \"1998-01-22\", \"1998-01-29\", \"1998-02-05\", \"1998-02-12\", \"1998-02-19\", \"1998-02-26\", \"1998-03-05\", \"1998-03-12\", \"1998-03-19\", \"1998-03-26\", \"1998-04-02\", \"1998-04-09\", \"1998-04-16\", \"1998-04-23\", \"1998-04-30\", \"1998-05-07\", \"1998-05-14\", \"1998-05-21\", \"1998-05-28\", \"1998-06-04\", \"1998-06-11\", \"1998-06-18\", \"1998-06-25\", \"1998-07-02\", \"1998-07-09\", \"1998-07-16\", \"1998-07-23\", \"1998-07-30\", \"1998-08-06\", \"1998-08-13\", \"1998-08-20\", \"1998-08-27\", \"1998-09-03\", \"1998-09-10\", \"1998-09-17\", \"1998-09-24\", \"1998-10-01\", \"1998-10-08\", \"1998-10-15\", \"1998-10-22\", \"1998-10-29\", \"1998-11-05\", \"1998-11-12\", \"1998-11-19\", \"1998-11-26\", \"1998-12-03\", \"1998-12-10\", \"1998-12-17\", \"1998-12-24\", \"1999-01-01\", \"1999-01-08\", \"1999-01-15\", \"1999-01-22\", \"1999-01-29\", \"1999-02-05\", \"1999-02-12\", \"1999-02-19\", \"1999-02-26\", \"1999-03-05\", \"1999-03-12\", \"1999-03-19\", \"1999-03-26\", \"1999-04-02\", \"1999-04-09\", \"1999-04-16\", \"1999-04-23\", \"1999-04-30\", \"1999-05-07\", \"1999-05-14\", \"1999-05-21\", \"1999-05-28\", \"1999-06-04\", \"1999-06-11\", \"1999-06-18\", \"1999-06-25\", \"1999-07-02\", \"1999-07-09\", \"1999-07-16\", \"1999-07-23\", \"1999-07-30\", \"1999-08-06\", \"1999-08-13\", \"1999-08-20\", \"1999-08-27\", \"1999-09-03\", \"1999-09-10\", \"1999-09-17\", \"1999-09-24\", \"1999-10-01\", \"1999-10-08\", \"1999-10-15\", \"1999-10-22\", \"1999-10-29\", \"1999-11-05\", \"1999-11-12\", \"1999-11-19\", \"1999-11-26\", \"1999-12-03\", \"1999-12-10\", \"1999-12-17\", \"1999-12-24\", \"2000-01-01\", \"2000-01-08\", \"2000-01-15\", \"2000-01-22\", \"2000-01-29\", \"2000-02-05\", \"2000-02-12\", \"2000-02-19\", \"2000-02-26\", \"2000-03-04\", \"2000-03-11\", \"2000-03-18\", \"2000-03-25\", \"2000-04-01\", \"2000-04-08\", \"2000-04-15\", \"2000-04-22\", \"2000-04-29\", \"2000-05-06\", \"2000-05-13\", \"2000-05-20\", \"2000-05-27\", \"2000-06-03\", \"2000-06-10\", \"2000-06-17\", \"2000-06-24\", \"2000-07-01\", \"2000-07-08\", \"2000-07-15\", \"2000-07-22\", \"2000-07-29\", \"2000-08-05\", \"2000-08-12\", \"2000-08-19\", \"2000-08-26\", \"2000-09-02\", \"2000-09-09\", \"2000-09-16\", \"2000-09-23\", \"2000-09-30\", \"2000-10-07\", \"2000-10-14\", \"2000-10-21\", \"2000-10-28\", \"2000-11-04\", \"2000-11-11\", \"2000-11-18\", \"2000-11-25\", \"2000-12-02\", \"2000-12-09\", \"2000-12-16\", \"2000-12-23\", \"2001-01-01\", \"2001-01-08\", \"2001-01-15\", \"2001-01-22\", \"2001-01-29\", \"2001-02-05\", \"2001-02-12\", \"2001-02-19\", \"2001-02-26\", \"2001-03-05\", \"2001-03-12\", \"2001-03-19\", \"2001-03-26\", \"2001-04-02\", \"2001-04-09\", \"2001-04-16\", \"2001-04-23\", \"2001-04-30\", \"2001-05-07\", \"2001-05-14\", \"2001-05-21\", \"2001-05-28\", \"2001-06-04\", \"2001-06-11\", \"2001-06-18\", \"2001-06-25\", \"2001-07-02\", \"2001-07-09\", \"2001-07-16\", \"2001-07-23\", \"2001-07-30\", \"2001-08-06\", \"2001-08-13\", \"2001-08-20\", \"2001-08-27\", \"2001-09-03\", \"2001-09-10\", \"2001-09-17\", \"2001-09-24\", \"2001-10-01\", \"2001-10-08\", \"2001-10-15\", \"2001-10-22\", \"2001-10-29\", \"2001-11-05\", \"2001-11-12\", \"2001-11-19\", \"2001-11-26\", \"2001-12-03\", \"2001-12-10\", \"2001-12-17\", \"2001-12-24\", \"2002-01-01\", \"2002-01-08\", \"2002-01-15\", \"2002-01-22\", \"2002-01-29\", \"2002-02-05\", \"2002-02-12\", \"2002-02-19\", \"2002-02-26\", \"2002-03-05\", \"2002-03-12\", \"2002-03-19\", \"2002-03-26\", \"2002-04-02\", \"2002-04-09\", \"2002-04-16\", \"2002-04-23\", \"2002-04-30\", \"2002-05-07\", \"2002-05-14\", \"2002-05-21\", \"2002-05-28\", \"2002-06-04\", \"2002-06-11\", \"2002-06-18\", \"2002-06-25\", \"2002-07-02\", \"2002-07-09\", \"2002-07-16\", \"2002-07-23\", \"2002-07-30\", \"2002-08-06\", \"2002-08-13\", \"2002-08-20\", \"2002-08-27\", \"2002-09-03\", \"2002-09-10\", \"2002-09-17\", \"2002-09-24\", \"2002-10-01\", \"2002-10-08\", \"2002-10-15\", \"2002-10-22\", \"2002-10-29\", \"2002-11-05\", \"2002-11-12\", \"2002-11-19\", \"2002-11-26\", \"2002-12-03\", \"2002-12-10\", \"2002-12-17\", \"2002-12-24\", \"2003-01-01\", \"2003-01-08\", \"2003-01-15\", \"2003-01-22\", \"2003-01-29\", \"2003-02-05\", \"2003-02-12\", \"2003-02-19\", \"2003-02-26\", \"2003-03-05\", \"2003-03-12\", \"2003-03-19\", \"2003-03-26\", \"2003-04-02\", \"2003-04-09\", \"2003-04-16\", \"2003-04-23\", \"2003-04-30\", \"2003-05-07\", \"2003-05-14\", \"2003-05-21\", \"2003-05-28\", \"2003-06-04\", \"2003-06-11\", \"2003-06-18\", \"2003-06-25\", \"2003-07-02\", \"2003-07-09\", \"2003-07-16\", \"2003-07-23\", \"2003-07-30\", \"2003-08-06\", \"2003-08-13\", \"2003-08-20\", \"2003-08-27\", \"2003-09-03\", \"2003-09-10\", \"2003-09-17\", \"2003-09-24\", \"2003-10-01\", \"2003-10-08\", \"2003-10-15\", \"2003-10-22\", \"2003-10-29\", \"2003-11-05\", \"2003-11-12\", \"2003-11-19\", \"2003-11-26\", \"2003-12-03\", \"2003-12-10\", \"2003-12-17\", \"2003-12-24\", \"2004-01-01\", \"2004-01-08\", \"2004-01-15\", \"2004-01-22\", \"2004-01-29\", \"2004-02-05\", \"2004-02-12\", \"2004-02-19\", \"2004-02-26\", \"2004-03-04\", \"2004-03-11\", \"2004-03-18\", \"2004-03-25\", \"2004-04-01\", \"2004-04-08\", \"2004-04-15\", \"2004-04-22\", \"2004-04-29\", \"2004-05-06\", \"2004-05-13\", \"2004-05-20\", \"2004-05-27\", \"2004-06-03\", \"2004-06-10\", \"2004-06-17\", \"2004-06-24\", \"2004-07-01\", \"2004-07-08\", \"2004-07-15\", \"2004-07-22\", \"2004-07-29\", \"2004-08-05\", \"2004-08-12\", \"2004-08-19\", \"2004-08-26\", \"2004-09-02\", \"2004-09-09\", \"2004-09-16\", \"2004-09-23\", \"2004-09-30\", \"2004-10-07\", \"2004-10-14\", \"2004-10-21\", \"2004-10-28\", \"2004-11-04\", \"2004-11-11\", \"2004-11-18\", \"2004-11-25\", \"2004-12-02\", \"2004-12-09\", \"2004-12-16\", \"2004-12-23\", \"2005-01-01\", \"2005-01-08\", \"2005-01-15\", \"2005-01-22\", \"2005-01-29\", \"2005-02-05\", \"2005-02-12\", \"2005-02-19\", \"2005-02-26\", \"2005-03-05\", \"2005-03-12\", \"2005-03-19\", \"2005-03-26\", \"2005-04-02\", \"2005-04-09\", \"2005-04-16\", \"2005-04-23\", \"2005-04-30\", \"2005-05-07\", \"2005-05-14\", \"2005-05-21\", \"2005-05-28\", \"2005-06-04\", \"2005-06-11\", \"2005-06-18\", \"2005-06-25\", \"2005-07-02\", \"2005-07-09\", \"2005-07-16\", \"2005-07-23\", \"2005-07-30\", \"2005-08-06\", \"2005-08-13\", \"2005-08-20\", \"2005-08-27\", \"2005-09-03\", \"2005-09-10\", \"2005-09-17\", \"2005-09-24\", \"2005-10-01\", \"2005-10-08\", \"2005-10-15\", \"2005-10-22\", \"2005-10-29\", \"2005-11-05\", \"2005-11-12\", \"2005-11-19\", \"2005-11-26\", \"2005-12-03\", \"2005-12-10\", \"2005-12-17\", \"2005-12-24\", \"2006-01-01\", \"2006-01-08\", \"2006-01-15\", \"2006-01-22\", \"2006-01-29\", \"2006-02-05\", \"2006-02-12\", \"2006-02-19\", \"2006-02-26\", \"2006-03-05\", \"2006-03-12\", \"2006-03-19\", \"2006-03-26\", \"2006-04-02\", \"2006-04-09\", \"2006-04-16\", \"2006-04-23\", \"2006-04-30\", \"2006-05-07\", \"2006-05-14\", \"2006-05-21\", \"2006-05-28\", \"2006-06-04\", \"2006-06-11\", \"2006-06-18\", \"2006-06-25\", \"2006-07-02\", \"2006-07-09\", \"2006-07-16\", \"2006-07-23\", \"2006-07-30\", \"2006-08-06\", \"2006-08-13\", \"2006-08-20\", \"2006-08-27\", \"2006-09-03\", \"2006-09-10\", \"2006-09-17\", \"2006-09-24\", \"2006-10-01\", \"2006-10-08\", \"2006-10-15\", \"2006-10-22\", \"2006-10-29\", \"2006-11-05\", \"2006-11-12\", \"2006-11-19\", \"2006-11-26\", \"2006-12-03\", \"2006-12-10\", \"2006-12-17\", \"2006-12-24\", \"2007-01-01\", \"2007-01-08\", \"2007-01-15\", \"2007-01-22\", \"2007-01-29\", \"2007-02-05\", \"2007-02-12\", \"2007-02-19\", \"2007-02-26\", \"2007-03-05\", \"2007-03-12\", \"2007-03-19\", \"2007-03-26\", \"2007-04-02\", \"2007-04-09\", \"2007-04-16\", \"2007-04-23\", \"2007-04-30\", \"2007-05-07\", \"2007-05-14\", \"2007-05-21\", \"2007-05-28\", \"2007-06-04\", \"2007-06-11\", \"2007-06-18\", \"2007-06-25\", \"2007-07-02\", \"2007-07-09\", \"2007-07-16\", \"2007-07-23\", \"2007-07-30\", \"2007-08-06\", \"2007-08-13\", \"2007-08-20\", \"2007-08-27\", \"2007-09-03\", \"2007-09-10\", \"2007-09-17\", \"2007-09-24\", \"2007-10-01\", \"2007-10-08\", \"2007-10-15\", \"2007-10-22\", \"2007-10-29\", \"2007-11-05\", \"2007-11-12\", \"2007-11-19\", \"2007-11-26\", \"2007-12-03\", \"2007-12-10\", \"2007-12-17\", \"2007-12-24\", \"2008-01-01\", \"2008-01-08\", \"2008-01-15\", \"2008-01-22\", \"2008-01-29\", \"2008-02-05\", \"2008-02-12\", \"2008-02-19\", \"2008-02-26\", \"2008-03-04\", \"2008-03-11\", \"2008-03-18\", \"2008-03-25\", \"2008-04-01\", \"2008-04-08\", \"2008-04-15\", \"2008-04-22\"], \"xaxis\": \"x\", \"y\": [4, 5, 4, 3, 6, 2, 4, 5, 10, 6, 8, 2, 6, 17, 23, 13, 21, 28, 24, 20, 40, 27, 42, 33, 43, 37, 57, 71, 44, 56, 53, 52, 47, 26, 27, 21, 21, 26, 34, 37, 17, 19, 25, 18, 21, 17, 17, 16, 16, 15, 23, 16, 17, 12, 17, 10, 15, 19, 21, 14, 18, 13, 14, 18, 23, 25, 62, 60, 76, 66, 64, 68, 89, 92, 140, 116, 142, 129, 140, 140, 127, 129, 169, 141, 108, 78, 70, 81, 104, 90, 85, 55, 53, 65, 33, 38, 59, 40, 37, 29, 30, 30, 28, 23, 24, 29, 26, 23, 20, 19, 20, 26, 29, 31, 28, 26, 32, 35, 33, 30, 52, 59, 67, 65, 74, 70, 61, 53, 76, 61, 57, 44, 34, 47, 60, 60, 53, 36, 31, 30, 32, 28, 33, 33, 35, 22, 13, 13, 21, 17, 11, 8, 8, 6, 6, 7, 12, 17, 10, 10, 18, 19, 12, 22, 12, 21, 18, 16, 16, 22, 17, 25, 23, 12, 25, 28, 27, 18, 23, 23, 29, 38, 36, 43, 46, 31, 25, 40, 31, 38, 30, 22, 31, 26, 35, 36, 39, 25, 31, 37, 33, 25, 24, 18, 23, 13, 18, 14, 17, 22, 13, 24, 31, 34, 31, 31, 38, 49, 42, 49, 55, 80, 84, 72, 89, 115, 179, 202, 272, 302, 395, 426, 461, 381, 333, 353, 410, 364, 359, 288, 221, 149, 112, 154, 91, 72, 56, 46, 37, 26, 17, 17, 20, 11, 7, 16, 14, 16, 5, 2, 6, 5, 4, 3, 4, 16, 8, 7, 10, 14, 7, 9, 11, 23, 17, 19, 24, 17, 28, 40, 33, 31, 33, 29, 30, 36, 48, 40, 28, 36, 19, 34, 23, 17, 17, 23, 14, 20, 13, 23, 20, 16, 16, 23, 14, 15, 4, 5, 5, 11, 11, 7, 4, 6, 5, 2, 4, 2, 4, 6, 6, 4, 6, 11, 16, 9, 12, 13, 27, 21, 19, 17, 24, 27, 30, 29, 25, 35, 33, 30, 29, 31, 29, 22, 27, 24, 26, 29, 22, 33, 24, 30, 20, 17, 24, 28, 18, 13, 9, 14, 11, 11, 19, 10, 8, 8, 9, 3, 7, 14, 4, 9, 14, 7, 9, 3, 3, 14, 12, 10, 21, 26, 47, 42, 31, 34, 33, 52, 56, 70, 112, 70, 47, 48, 49, 66, 56, 61, 67, 64, 68, 49, 50, 56, 75, 63, 62, 41, 50, 34, 31, 38, 30, 32, 26, 30, 36, 35, 46, 48, 44, 51, 59, 71, 102, 128, 127, 150, 191, 256, 329, 263, 220, 204, 181, 99, 54, 80, 102, 127, 73, 68, 64, 55, 67, 84, 85, 67, 73, 89, 68, 59, 56, 77, 75, 47, 50, 42, 28, 37, 37, 27, 12, 15, 22, 8, 15, 17, 10, 9, 11, 20, 13, 11, 16, 11, 7, 17, 14, 13, 15, 30, 25, 40, 44, 25, 21, 48, 56, 60, 45, 55, 32, 46, 61, 42, 37, 43, 34, 40, 25, 16, 17, 17, 16, 23, 18, 18, 9, 7, 7, 4, 3, 2, 8, 3, 1, 1, 2, 3, 3, 2, 0, 0, 2, 2, 0, 6, 3, 6, 2, 3, 2, 4, 5, 2, 9, 2, 4, 8, 6, 3, 11, 14, 15, 20, 9, 20, 28, 38, 30, 30, 23, 16, 22, 28, 14, 17, 20, 17, 10, 13, 20, 9, 18, 9, 8, 19, 11, 4, 6, 6, 8, 13, 8, 8, 5, 16, 12, 11, 18, 10, 22, 14, 16, 18, 27, 38, 35, 41, 51, 65, 55, 54, 62, 64, 56, 65, 71, 75, 71, 72, 47, 27, 35, 25, 19, 37, 38, 34, 26, 19, 18, 22, 16, 18, 6, 12, 6, 6, 3, 7, 6, 1, 3, 2, 2, 1, 10, 3, 3, 1, 1, 2, 6, 3, 3, 5, 4, 7, 6, 5, 7, 6, 4, 4, 7, 9, 5, 5, 10, 6, 13, 6, 5, 5, 9, 3, 6, 11, 7, 7, 15, 9, 6, 6, 6, 7, 10, 8, 7, 12, 3, 2, 7, 5, 5, 7, 7, 7, 7, 10, 13, 10, 14, 11, 20, 25, 17, 18, 25, 21, 31, 32, 26, 35, 28, 37, 41, 34, 30, 39, 39, 39, 34, 30, 37, 29, 26, 15, 22, 15, 20, 14, 10, 21, 14, 14, 9, 11, 5, 6, 7, 11, 4, 3, 2, 6, 10, 7, 5, 3, 12, 13, 10, 13, 13, 8, 21, 18, 8, 7, 20, 14, 14, 7, 14, 10, 13, 27, 13, 18, 16, 16, 20, 17, 4, 15, 8, 6, 12, 15, 11, 10, 15, 17, 7, 7, 8, 9, 12, 12, 5, 4, 11, 4, 5, 7, 1, 1, 4, 2, 6, 3, 4, 10, 12, 21, 26, 21, 30, 45, 56, 75, 83, 82, 126, 119, 137, 131, 112, 82, 73, 43, 55, 55, 53, 46, 43, 29, 22, 26, 13, 17, 8, 13, 10, 17, 19, 9, 9, 9, 3, 7, 7, 0, 2, 3, 3, 1, 3, 3, 3, 7, 3, 5, 11, 5, 5, 6, 6, 4, 4, 8, 14, 12, 16, 10, 16, 18, 15, 23, 17, 33, 15, 13, 11, 14, 17, 19, 20, 12, 21, 7, 19, 10, 13, 10, 8, 21, 11, 9, 14, 14, 15, 18, 16, 12, 20, 8, 3, 13, 4, 1, 10, 8, 13, 10, 21, 18, 21, 34, 25, 34, 33, 40, 42, 36, 72, 75, 76, 92, 71, 112, 106, 101, 170, 135, 106, 68, 48, 48, 26, 33, 29, 17, 12, 13, 17, 15, 14, 15, 10, 9, 2, 6, 8, 5, 1, 2, 3, 4, 3, 1, 3, 5], \"yaxis\": \"y\"}, {\"line\": {\"color\": \"rgba(193,99,99,0.8)\"}, \"name\": \"Randomforest_total\", \"showlegend\": true, \"type\": \"scatter\", \"x\": [\"1990-04-30\", \"1990-05-07\", \"1990-05-14\", \"1990-05-21\", \"1990-05-28\", \"1990-06-04\", \"1990-06-11\", \"1990-06-18\", \"1990-06-25\", \"1990-07-02\", \"1990-07-09\", \"1990-07-16\", \"1990-07-23\", \"1990-07-30\", \"1990-08-06\", \"1990-08-13\", \"1990-08-20\", \"1990-08-27\", \"1990-09-03\", \"1990-09-10\", \"1990-09-17\", \"1990-09-24\", \"1990-10-01\", \"1990-10-08\", \"1990-10-15\", \"1990-10-22\", \"1990-10-29\", \"1990-11-05\", \"1990-11-12\", \"1990-11-19\", \"1990-11-26\", \"1990-12-03\", \"1990-12-10\", \"1990-12-17\", \"1990-12-24\", \"1991-01-01\", \"1991-01-08\", \"1991-01-15\", \"1991-01-22\", \"1991-01-29\", \"1991-02-05\", \"1991-02-12\", \"1991-02-19\", \"1991-02-26\", \"1991-03-05\", \"1991-03-12\", \"1991-03-19\", \"1991-03-26\", \"1991-04-02\", \"1991-04-09\", \"1991-04-16\", \"1991-04-23\", \"1991-04-30\", \"1991-05-07\", \"1991-05-14\", \"1991-05-21\", \"1991-05-28\", \"1991-06-04\", \"1991-06-11\", \"1991-06-18\", \"1991-06-25\", \"1991-07-02\", \"1991-07-09\", \"1991-07-16\", \"1991-07-23\", \"1991-07-30\", \"1991-08-06\", \"1991-08-13\", \"1991-08-20\", \"1991-08-27\", \"1991-09-03\", \"1991-09-10\", \"1991-09-17\", \"1991-09-24\", \"1991-10-01\", \"1991-10-08\", \"1991-10-15\", \"1991-10-22\", \"1991-10-29\", \"1991-11-05\", \"1991-11-12\", \"1991-11-19\", \"1991-11-26\", \"1991-12-03\", \"1991-12-10\", \"1991-12-17\", \"1991-12-24\", \"1992-01-01\", \"1992-01-08\", \"1992-01-15\", \"1992-01-22\", \"1992-01-29\", \"1992-02-05\", \"1992-02-12\", \"1992-02-19\", \"1992-02-26\", \"1992-03-04\", \"1992-03-11\", \"1992-03-18\", \"1992-03-25\", \"1992-04-01\", \"1992-04-08\", \"1992-04-15\", \"1992-04-22\", \"1992-04-29\", \"1992-05-06\", \"1992-05-13\", \"1992-05-20\", \"1992-05-27\", \"1992-06-03\", \"1992-06-10\", \"1992-06-17\", \"1992-06-24\", \"1992-07-01\", \"1992-07-08\", \"1992-07-15\", \"1992-07-22\", \"1992-07-29\", \"1992-08-05\", \"1992-08-12\", \"1992-08-19\", \"1992-08-26\", \"1992-09-02\", \"1992-09-09\", \"1992-09-16\", \"1992-09-23\", \"1992-09-30\", \"1992-10-07\", \"1992-10-14\", \"1992-10-21\", \"1992-10-28\", \"1992-11-04\", \"1992-11-11\", \"1992-11-18\", \"1992-11-25\", \"1992-12-02\", \"1992-12-09\", \"1992-12-16\", \"1992-12-23\", \"1993-01-01\", \"1993-01-08\", \"1993-01-15\", \"1993-01-22\", \"1993-01-29\", \"1993-02-05\", \"1993-02-12\", \"1993-02-19\", \"1993-02-26\", \"1993-03-05\", \"1993-03-12\", \"1993-03-19\", \"1993-03-26\", \"1993-04-02\", \"1993-04-09\", \"1993-04-16\", \"1993-04-23\", \"1993-04-30\", \"1993-05-07\", \"1993-05-14\", \"1993-05-21\", \"1993-05-28\", \"1993-06-04\", \"1993-06-11\", \"1993-06-18\", \"1993-06-25\", \"1993-07-02\", \"1993-07-09\", \"1993-07-16\", \"1993-07-23\", \"1993-07-30\", \"1993-08-06\", \"1993-08-13\", \"1993-08-20\", \"1993-08-27\", \"1993-09-03\", \"1993-09-10\", \"1993-09-17\", \"1993-09-24\", \"1993-10-01\", \"1993-10-08\", \"1993-10-15\", \"1993-10-22\", \"1993-10-29\", \"1993-11-05\", \"1993-11-12\", \"1993-11-19\", \"1993-11-26\", \"1993-12-03\", \"1993-12-10\", \"1993-12-17\", \"1993-12-24\", \"1994-01-01\", \"1994-01-08\", \"1994-01-15\", \"1994-01-22\", \"1994-01-29\", \"1994-02-05\", \"1994-02-12\", \"1994-02-19\", \"1994-02-26\", \"1994-03-05\", \"1994-03-12\", \"1994-03-19\", \"1994-03-26\", \"1994-04-02\", \"1994-04-09\", \"1994-04-16\", \"1994-04-23\", \"1994-04-30\", \"1994-05-07\", \"1994-05-14\", \"1994-05-21\", \"1994-05-28\", \"1994-06-04\", \"1994-06-11\", \"1994-06-18\", \"1994-06-25\", \"1994-07-02\", \"1994-07-09\", \"1994-07-16\", \"1994-07-23\", \"1994-07-30\", \"1994-08-06\", \"1994-08-13\", \"1994-08-20\", \"1994-08-27\", \"1994-09-03\", \"1994-09-10\", \"1994-09-17\", \"1994-09-24\", \"1994-10-01\", \"1994-10-08\", \"1994-10-15\", \"1994-10-22\", \"1994-10-29\", \"1994-11-05\", \"1994-11-12\", \"1994-11-19\", \"1994-11-26\", \"1994-12-03\", \"1994-12-10\", \"1994-12-17\", \"1994-12-24\", \"1995-01-01\", \"1995-01-08\", \"1995-01-15\", \"1995-01-22\", \"1995-01-29\", \"1995-02-05\", \"1995-02-12\", \"1995-02-19\", \"1995-02-26\", \"1995-03-05\", \"1995-03-12\", \"1995-03-19\", \"1995-03-26\", \"1995-04-02\", \"1995-04-09\", \"1995-04-16\", \"1995-04-23\", \"1995-04-30\", \"1995-05-07\", \"1995-05-14\", \"1995-05-21\", \"1995-05-28\", \"1995-06-04\", \"1995-06-11\", \"1995-06-18\", \"1995-06-25\", \"1995-07-02\", \"1995-07-09\", \"1995-07-16\", \"1995-07-23\", \"1995-07-30\", \"1995-08-06\", \"1995-08-13\", \"1995-08-20\", \"1995-08-27\", \"1995-09-03\", \"1995-09-10\", \"1995-09-17\", \"1995-09-24\", \"1995-10-01\", \"1995-10-08\", \"1995-10-15\", \"1995-10-22\", \"1995-10-29\", \"1995-11-05\", \"1995-11-12\", \"1995-11-19\", \"1995-11-26\", \"1995-12-03\", \"1995-12-10\", \"1995-12-17\", \"1995-12-24\", \"1996-01-01\", \"1996-01-08\", \"1996-01-15\", \"1996-01-22\", \"1996-01-29\", \"1996-02-05\", \"1996-02-12\", \"1996-02-19\", \"1996-02-26\", \"1996-03-04\", \"1996-03-11\", \"1996-03-18\", \"1996-03-25\", \"1996-04-01\", \"1996-04-08\", \"1996-04-15\", \"1996-04-22\", \"1996-04-29\", \"1996-05-06\", \"1996-05-13\", \"1996-05-20\", \"1996-05-27\", \"1996-06-03\", \"1996-06-10\", \"1996-06-17\", \"1996-06-24\", \"1996-07-01\", \"1996-07-08\", \"1996-07-15\", \"1996-07-22\", \"1996-07-29\", \"1996-08-05\", \"1996-08-12\", \"1996-08-19\", \"1996-08-26\", \"1996-09-02\", \"1996-09-09\", \"1996-09-16\", \"1996-09-23\", \"1996-09-30\", \"1996-10-07\", \"1996-10-14\", \"1996-10-21\", \"1996-10-28\", \"1996-11-04\", \"1996-11-11\", \"1996-11-18\", \"1996-11-25\", \"1996-12-02\", \"1996-12-09\", \"1996-12-16\", \"1996-12-23\", \"1997-01-01\", \"1997-01-08\", \"1997-01-15\", \"1997-01-22\", \"1997-01-29\", \"1997-02-05\", \"1997-02-12\", \"1997-02-19\", \"1997-02-26\", \"1997-03-05\", \"1997-03-12\", \"1997-03-19\", \"1997-03-26\", \"1997-04-02\", \"1997-04-09\", \"1997-04-16\", \"1997-04-23\", \"1997-04-30\", \"1997-05-07\", \"1997-05-14\", \"1997-05-21\", \"1997-05-28\", \"1997-06-04\", \"1997-06-11\", \"1997-06-18\", \"1997-06-25\", \"1997-07-02\", \"1997-07-09\", \"1997-07-16\", \"1997-07-23\", \"1997-07-30\", \"1997-08-06\", \"1997-08-13\", \"1997-08-20\", \"1997-08-27\", \"1997-09-03\", \"1997-09-10\", \"1997-09-17\", \"1997-09-24\", \"1997-10-01\", \"1997-10-08\", \"1997-10-15\", \"1997-10-22\", \"1997-10-29\", \"1997-11-05\", \"1997-11-12\", \"1997-11-19\", \"1997-11-26\", \"1997-12-03\", \"1997-12-10\", \"1997-12-17\", \"1997-12-24\", \"1998-01-01\", \"1998-01-08\", \"1998-01-15\", \"1998-01-22\", \"1998-01-29\", \"1998-02-05\", \"1998-02-12\", \"1998-02-19\", \"1998-02-26\", \"1998-03-05\", \"1998-03-12\", \"1998-03-19\", \"1998-03-26\", \"1998-04-02\", \"1998-04-09\", \"1998-04-16\", \"1998-04-23\", \"1998-04-30\", \"1998-05-07\", \"1998-05-14\", \"1998-05-21\", \"1998-05-28\", \"1998-06-04\", \"1998-06-11\", \"1998-06-18\", \"1998-06-25\", \"1998-07-02\", \"1998-07-09\", \"1998-07-16\", \"1998-07-23\", \"1998-07-30\", \"1998-08-06\", \"1998-08-13\", \"1998-08-20\", \"1998-08-27\", \"1998-09-03\", \"1998-09-10\", \"1998-09-17\", \"1998-09-24\", \"1998-10-01\", \"1998-10-08\", \"1998-10-15\", \"1998-10-22\", \"1998-10-29\", \"1998-11-05\", \"1998-11-12\", \"1998-11-19\", \"1998-11-26\", \"1998-12-03\", \"1998-12-10\", \"1998-12-17\", \"1998-12-24\", \"1999-01-01\", \"1999-01-08\", \"1999-01-15\", \"1999-01-22\", \"1999-01-29\", \"1999-02-05\", \"1999-02-12\", \"1999-02-19\", \"1999-02-26\", \"1999-03-05\", \"1999-03-12\", \"1999-03-19\", \"1999-03-26\", \"1999-04-02\", \"1999-04-09\", \"1999-04-16\", \"1999-04-23\", \"1999-04-30\", \"1999-05-07\", \"1999-05-14\", \"1999-05-21\", \"1999-05-28\", \"1999-06-04\", \"1999-06-11\", \"1999-06-18\", \"1999-06-25\", \"1999-07-02\", \"1999-07-09\", \"1999-07-16\", \"1999-07-23\", \"1999-07-30\", \"1999-08-06\", \"1999-08-13\", \"1999-08-20\", \"1999-08-27\", \"1999-09-03\", \"1999-09-10\", \"1999-09-17\", \"1999-09-24\", \"1999-10-01\", \"1999-10-08\", \"1999-10-15\", \"1999-10-22\", \"1999-10-29\", \"1999-11-05\", \"1999-11-12\", \"1999-11-19\", \"1999-11-26\", \"1999-12-03\", \"1999-12-10\", \"1999-12-17\", \"1999-12-24\", \"2000-01-01\", \"2000-01-08\", \"2000-01-15\", \"2000-01-22\", \"2000-01-29\", \"2000-02-05\", \"2000-02-12\", \"2000-02-19\", \"2000-02-26\", \"2000-03-04\", \"2000-03-11\", \"2000-03-18\", \"2000-03-25\", \"2000-04-01\", \"2000-04-08\", \"2000-04-15\", \"2000-04-22\", \"2000-04-29\", \"2000-05-06\", \"2000-05-13\", \"2000-05-20\", \"2000-05-27\", \"2000-06-03\", \"2000-06-10\", \"2000-06-17\", \"2000-06-24\", \"2000-07-01\", \"2000-07-08\", \"2000-07-15\", \"2000-07-22\", \"2000-07-29\", \"2000-08-05\", \"2000-08-12\", \"2000-08-19\", \"2000-08-26\", \"2000-09-02\", \"2000-09-09\", \"2000-09-16\", \"2000-09-23\", \"2000-09-30\", \"2000-10-07\", \"2000-10-14\", \"2000-10-21\", \"2000-10-28\", \"2000-11-04\", \"2000-11-11\", \"2000-11-18\", \"2000-11-25\", \"2000-12-02\", \"2000-12-09\", \"2000-12-16\", \"2000-12-23\", \"2001-01-01\", \"2001-01-08\", \"2001-01-15\", \"2001-01-22\", \"2001-01-29\", \"2001-02-05\", \"2001-02-12\", \"2001-02-19\", \"2001-02-26\", \"2001-03-05\", \"2001-03-12\", \"2001-03-19\", \"2001-03-26\", \"2001-04-02\", \"2001-04-09\", \"2001-04-16\", \"2001-04-23\", \"2001-04-30\", \"2001-05-07\", \"2001-05-14\", \"2001-05-21\", \"2001-05-28\", \"2001-06-04\", \"2001-06-11\", \"2001-06-18\", \"2001-06-25\", \"2001-07-02\", \"2001-07-09\", \"2001-07-16\", \"2001-07-23\", \"2001-07-30\", \"2001-08-06\", \"2001-08-13\", \"2001-08-20\", \"2001-08-27\", \"2001-09-03\", \"2001-09-10\", \"2001-09-17\", \"2001-09-24\", \"2001-10-01\", \"2001-10-08\", \"2001-10-15\", \"2001-10-22\", \"2001-10-29\", \"2001-11-05\", \"2001-11-12\", \"2001-11-19\", \"2001-11-26\", \"2001-12-03\", \"2001-12-10\", \"2001-12-17\", \"2001-12-24\", \"2002-01-01\", \"2002-01-08\", \"2002-01-15\", \"2002-01-22\", \"2002-01-29\", \"2002-02-05\", \"2002-02-12\", \"2002-02-19\", \"2002-02-26\", \"2002-03-05\", \"2002-03-12\", \"2002-03-19\", \"2002-03-26\", \"2002-04-02\", \"2002-04-09\", \"2002-04-16\", \"2002-04-23\", \"2002-04-30\", \"2002-05-07\", \"2002-05-14\", \"2002-05-21\", \"2002-05-28\", \"2002-06-04\", \"2002-06-11\", \"2002-06-18\", \"2002-06-25\", \"2002-07-02\", \"2002-07-09\", \"2002-07-16\", \"2002-07-23\", \"2002-07-30\", \"2002-08-06\", \"2002-08-13\", \"2002-08-20\", \"2002-08-27\", \"2002-09-03\", \"2002-09-10\", \"2002-09-17\", \"2002-09-24\", \"2002-10-01\", \"2002-10-08\", \"2002-10-15\", \"2002-10-22\", \"2002-10-29\", \"2002-11-05\", \"2002-11-12\", \"2002-11-19\", \"2002-11-26\", \"2002-12-03\", \"2002-12-10\", \"2002-12-17\", \"2002-12-24\", \"2003-01-01\", \"2003-01-08\", \"2003-01-15\", \"2003-01-22\", \"2003-01-29\", \"2003-02-05\", \"2003-02-12\", \"2003-02-19\", \"2003-02-26\", \"2003-03-05\", \"2003-03-12\", \"2003-03-19\", \"2003-03-26\", \"2003-04-02\", \"2003-04-09\", \"2003-04-16\", \"2003-04-23\", \"2003-04-30\", \"2003-05-07\", \"2003-05-14\", \"2003-05-21\", \"2003-05-28\", \"2003-06-04\", \"2003-06-11\", \"2003-06-18\", \"2003-06-25\", \"2003-07-02\", \"2003-07-09\", \"2003-07-16\", \"2003-07-23\", \"2003-07-30\", \"2003-08-06\", \"2003-08-13\", \"2003-08-20\", \"2003-08-27\", \"2003-09-03\", \"2003-09-10\", \"2003-09-17\", \"2003-09-24\", \"2003-10-01\", \"2003-10-08\", \"2003-10-15\", \"2003-10-22\", \"2003-10-29\", \"2003-11-05\", \"2003-11-12\", \"2003-11-19\", \"2003-11-26\", \"2003-12-03\", \"2003-12-10\", \"2003-12-17\", \"2003-12-24\", \"2004-01-01\", \"2004-01-08\", \"2004-01-15\", \"2004-01-22\", \"2004-01-29\", \"2004-02-05\", \"2004-02-12\", \"2004-02-19\", \"2004-02-26\", \"2004-03-04\", \"2004-03-11\", \"2004-03-18\", \"2004-03-25\", \"2004-04-01\", \"2004-04-08\", \"2004-04-15\", \"2004-04-22\", \"2004-04-29\", \"2004-05-06\", \"2004-05-13\", \"2004-05-20\", \"2004-05-27\", \"2004-06-03\", \"2004-06-10\", \"2004-06-17\", \"2004-06-24\", \"2004-07-01\", \"2004-07-08\", \"2004-07-15\", \"2004-07-22\", \"2004-07-29\", \"2004-08-05\", \"2004-08-12\", \"2004-08-19\", \"2004-08-26\", \"2004-09-02\", \"2004-09-09\", \"2004-09-16\", \"2004-09-23\", \"2004-09-30\", \"2004-10-07\", \"2004-10-14\", \"2004-10-21\", \"2004-10-28\", \"2004-11-04\", \"2004-11-11\", \"2004-11-18\", \"2004-11-25\", \"2004-12-02\", \"2004-12-09\", \"2004-12-16\", \"2004-12-23\", \"2005-01-01\", \"2005-01-08\", \"2005-01-15\", \"2005-01-22\", \"2005-01-29\", \"2005-02-05\", \"2005-02-12\", \"2005-02-19\", \"2005-02-26\", \"2005-03-05\", \"2005-03-12\", \"2005-03-19\", \"2005-03-26\", \"2005-04-02\", \"2005-04-09\", \"2005-04-16\", \"2005-04-23\", \"2005-04-30\", \"2005-05-07\", \"2005-05-14\", \"2005-05-21\", \"2005-05-28\", \"2005-06-04\", \"2005-06-11\", \"2005-06-18\", \"2005-06-25\", \"2005-07-02\", \"2005-07-09\", \"2005-07-16\", \"2005-07-23\", \"2005-07-30\", \"2005-08-06\", \"2005-08-13\", \"2005-08-20\", \"2005-08-27\", \"2005-09-03\", \"2005-09-10\", \"2005-09-17\", \"2005-09-24\", \"2005-10-01\", \"2005-10-08\", \"2005-10-15\", \"2005-10-22\", \"2005-10-29\", \"2005-11-05\", \"2005-11-12\", \"2005-11-19\", \"2005-11-26\", \"2005-12-03\", \"2005-12-10\", \"2005-12-17\", \"2005-12-24\", \"2006-01-01\", \"2006-01-08\", \"2006-01-15\", \"2006-01-22\", \"2006-01-29\", \"2006-02-05\", \"2006-02-12\", \"2006-02-19\", \"2006-02-26\", \"2006-03-05\", \"2006-03-12\", \"2006-03-19\", \"2006-03-26\", \"2006-04-02\", \"2006-04-09\", \"2006-04-16\", \"2006-04-23\", \"2006-04-30\", \"2006-05-07\", \"2006-05-14\", \"2006-05-21\", \"2006-05-28\", \"2006-06-04\", \"2006-06-11\", \"2006-06-18\", \"2006-06-25\", \"2006-07-02\", \"2006-07-09\", \"2006-07-16\", \"2006-07-23\", \"2006-07-30\", \"2006-08-06\", \"2006-08-13\", \"2006-08-20\", \"2006-08-27\", \"2006-09-03\", \"2006-09-10\", \"2006-09-17\", \"2006-09-24\", \"2006-10-01\", \"2006-10-08\", \"2006-10-15\", \"2006-10-22\", \"2006-10-29\", \"2006-11-05\", \"2006-11-12\", \"2006-11-19\", \"2006-11-26\", \"2006-12-03\", \"2006-12-10\", \"2006-12-17\", \"2006-12-24\", \"2007-01-01\", \"2007-01-08\", \"2007-01-15\", \"2007-01-22\", \"2007-01-29\", \"2007-02-05\", \"2007-02-12\", \"2007-02-19\", \"2007-02-26\", \"2007-03-05\", \"2007-03-12\", \"2007-03-19\", \"2007-03-26\", \"2007-04-02\", \"2007-04-09\", \"2007-04-16\", \"2007-04-23\", \"2007-04-30\", \"2007-05-07\", \"2007-05-14\", \"2007-05-21\", \"2007-05-28\", \"2007-06-04\", \"2007-06-11\", \"2007-06-18\", \"2007-06-25\", \"2007-07-02\", \"2007-07-09\", \"2007-07-16\", \"2007-07-23\", \"2007-07-30\", \"2007-08-06\", \"2007-08-13\", \"2007-08-20\", \"2007-08-27\", \"2007-09-03\", \"2007-09-10\", \"2007-09-17\", \"2007-09-24\", \"2007-10-01\", \"2007-10-08\", \"2007-10-15\", \"2007-10-22\", \"2007-10-29\", \"2007-11-05\", \"2007-11-12\", \"2007-11-19\", \"2007-11-26\", \"2007-12-03\", \"2007-12-10\", \"2007-12-17\", \"2007-12-24\", \"2008-01-01\", \"2008-01-08\", \"2008-01-15\", \"2008-01-22\", \"2008-01-29\", \"2008-02-05\", \"2008-02-12\", \"2008-02-19\", \"2008-02-26\", \"2008-03-04\", \"2008-03-11\", \"2008-03-18\", \"2008-03-25\", \"2008-04-01\", \"2008-04-08\", \"2008-04-15\", \"2008-04-22\"], \"xaxis\": \"x\", \"y\": [4.2727485567429895, 4.967420451387799, 4.463777057431397, 3.373865671816963, 5.99629610376629, 2.113084072759207, 4.1103223060086025, 4.973645420940577, 9.617265239653129, 6.423776808922227, 8.48046983731534, 2.084343178685171, 6.066682588711208, 16.767043613134366, 23.106473343208265, 13.232195001837843, 20.277701621080446, 27.946113516307964, 24.075986446645487, 19.924232994828404, 40.120836419623735, 26.904128640662154, 42.08143476636463, 32.960809300567064, 43.07254475579151, 36.56688106016392, 57.07078297765592, 70.78520659979976, 43.93934732010997, 55.77884164494174, 53.68507322550103, 51.63042228055108, 46.946850304832545, 26.17388544096994, 27.192902015520115, 21.194461670577596, 20.947919349937184, 26.341661412857427, 33.84582441438596, 36.886411224376864, 17.186073426903512, 18.95222505434474, 24.84867975340619, 18.172900793441283, 21.173933072370456, 17.186368828819152, 17.920899912994795, 16.087318531964264, 15.563621425017683, 14.832788648286243, 22.526247912182544, 15.756719282848021, 16.840291592554536, 11.363457276634541, 16.885347162094398, 9.97178000979392, 14.833540984724166, 19.00739301120252, 21.618271194539247, 13.725568547199732, 18.968044576010545, 12.581902192184403, 14.216874183352896, 17.70836198505574, 22.916632574354832, 25.232007546575566, 60.90915742178377, 59.72331108972281, 75.90251116050084, 65.35059868074376, 62.93112143507749, 67.72936446124316, 88.71437496164076, 91.24308433615262, 139.518132323018, 115.78529574565735, 141.49990141902728, 128.49856599915006, 139.26206387200105, 139.46748813035708, 126.38555355821933, 127.66236437840189, 168.46822518483268, 140.1710349742131, 107.31162639480678, 77.63693282925165, 69.78090191918011, 81.38508318263054, 103.64366486174387, 90.025768750637, 84.71245408942195, 54.14952792102006, 52.88647719885021, 64.96416458441165, 33.674609332505355, 37.16243193634065, 58.607786378535955, 39.64968986045691, 36.4673412280219, 28.64559150314536, 29.228771409405784, 29.97477815757177, 27.6017298136413, 22.691798232873104, 23.938362875416814, 28.891943016718603, 25.14540031933723, 22.912684903757036, 19.947571725514685, 19.199839699683125, 19.96835218936229, 25.73478494078409, 28.89322760320045, 31.105729661334685, 27.52290162716879, 25.662827086403, 31.501487357508033, 34.99126623889717, 32.609034489408685, 29.74096890968291, 51.74160547965605, 58.8053001325964, 67.00077029776503, 65.04055654985976, 73.42198976655598, 70.20631366943206, 60.21578747710645, 53.0476498795275, 76.15550875493182, 60.57105033491145, 57.55609081081112, 44.027480786860465, 33.94129073927003, 47.52123167307225, 60.14928088204396, 59.24489072761224, 52.64592525972234, 35.81675949551665, 30.757243384918173, 30.283626864603406, 31.86491920432366, 28.08241018718591, 33.01313700868147, 33.61190399303305, 35.392889875602336, 21.94237107483748, 13.521112990484497, 13.126019243583492, 20.769762628709387, 17.047314351227215, 10.839301789757021, 8.218565154413682, 8.036073551375615, 6.184063538147877, 6.08656779216865, 7.360657766640529, 11.784878534040878, 16.66757592687154, 10.1005223098967, 10.315686130853384, 17.94310682792382, 18.779865831464193, 12.278559453781549, 21.36059775668604, 12.21243077257985, 21.266113345686804, 18.05779802260709, 16.275202310979406, 15.738913549017703, 22.21439382418438, 17.2165868510497, 24.750772669726572, 23.092972956681614, 12.336757358859256, 25.656568895878255, 28.05012025627124, 26.69917587554261, 19.104670943260707, 23.62735820175506, 23.312983891217435, 29.527691473162648, 38.838966028432544, 36.04082682497543, 43.33495902430157, 45.91148146307716, 31.563092067765947, 25.430683068171746, 39.93460773341331, 30.90488236534045, 37.87356215212662, 29.625591319527945, 22.24269322256463, 30.576751666483204, 25.91433219768498, 34.9877271059566, 36.169677233701464, 39.084683461372705, 24.94762429657087, 30.423105115329196, 37.05711457041005, 32.6691736435044, 24.804290656958944, 23.537582801277807, 17.8342594159841, 22.8873508409037, 13.208395837686412, 17.543473656008214, 13.968183915623646, 16.41518493686861, 21.30668401389237, 13.219604724250244, 23.665671418275362, 30.248596644515846, 33.65535056685388, 30.64322148529671, 30.60488700833382, 37.9341796570611, 48.2278424370182, 41.83698886703386, 48.601202219707716, 54.41336419706189, 80.0935859227524, 83.62905100127371, 72.21992285261808, 88.6375565955608, 114.43839005486741, 178.9487565082361, 201.7251985257552, 272.4507842024693, 302.62013147021605, 394.23185277884596, 425.83410501082267, 460.9535230006393, 381.13002345618344, 332.66223952340687, 352.39190786619156, 409.33637122597185, 363.475199355154, 359.23978987941996, 288.2135931910479, 220.98133842024038, 149.75042705261384, 112.55083653219428, 153.821346738768, 90.81816058841201, 71.53495945612772, 55.91358021881968, 46.12940913123563, 36.83218761780344, 25.848718277540403, 16.634953234853846, 17.322456775922493, 20.076047783286462, 11.295900564475764, 7.491045739387812, 16.119894940294156, 13.931757744816778, 15.950963153191367, 5.504278247550171, 2.1818249689035154, 6.195328081749615, 4.799492610693368, 4.075430519596898, 3.0836847661845836, 3.9143350388455134, 15.763413525796508, 8.151925319420533, 6.861657217457773, 10.270851177959845, 13.772846368492187, 7.109732996533638, 9.041646772173669, 10.993052727642313, 23.086914823617878, 17.223628596161756, 19.474842326050435, 23.956564448927526, 17.05163396652336, 28.14215767712106, 39.99929247609196, 33.174948744541304, 31.049876867695808, 32.98538462078146, 28.878514410842662, 30.28174907299998, 36.57897168711067, 48.061727069372296, 40.276484670008166, 28.552308369379254, 36.82091683941197, 19.42118723309252, 34.40029838547031, 22.89286150435615, 17.60302472678384, 16.729402100051498, 22.923254073880265, 14.17727957643791, 20.05209244913182, 13.228916398011092, 23.19316899412854, 20.529059312002705, 16.145651702563523, 16.872581331448867, 22.873242430180692, 14.545696976991087, 14.331606664890032, 4.292201935122436, 5.1246592496447345, 5.292609921347901, 10.992479145316745, 11.364163796848386, 7.0600733277259895, 3.4027144723341776, 5.738570524560106, 4.717521464748355, 2.3404433020673876, 4.654631398435052, 2.012297278546552, 4.731081417068503, 6.766630365492518, 6.455103221910324, 4.28896608827951, 6.9039826467325, 10.7625987176536, 17.16720991971892, 8.749353266020218, 12.467500052794191, 13.203347462344023, 27.017895877073425, 21.17791283265551, 19.095533459956755, 17.149659818423096, 23.90695601126963, 27.18364552524241, 30.605121474627605, 28.290558752575595, 24.867393093594334, 35.193585783709814, 33.66782399118299, 30.157538848277312, 29.094650346795035, 30.980746131392305, 29.15089906471873, 21.705995562694426, 27.423385310389627, 23.93786987661798, 25.783524975932345, 29.091729462436593, 22.148229235470144, 33.18046482157888, 24.075701286363355, 29.862102909122488, 19.952647636165718, 16.823467922806426, 23.381309486251403, 27.76179663906409, 17.925335321805807, 13.360136576799201, 8.928693696264183, 13.473721088667757, 11.442733409120214, 11.119732819435063, 18.72643135923881, 10.104154565876613, 7.711174944824256, 7.886198582048074, 9.23182512802003, 3.318505685890562, 6.883600769330931, 14.022042952253827, 3.9094119385572808, 9.249914797621416, 14.493686316472191, 7.99540155360357, 8.988927016738288, 3.074644116110149, 2.985542939226707, 13.876024909724823, 12.150068930308432, 10.880907633988873, 20.84379101438596, 25.693954028857288, 46.81392133698547, 41.98250665471805, 30.960995449648593, 34.78055525344425, 32.96497314101201, 52.050431255348144, 55.944602909449564, 69.72636758788109, 112.08842565287154, 69.65517961299193, 46.816172665578705, 47.773866496744134, 49.02323799018102, 65.997398718561, 55.91372694850153, 60.61150208162717, 66.72109475864687, 64.11934753050812, 67.45748818780774, 48.761513602780994, 49.48528609750443, 55.25145494784955, 74.70756410276213, 62.89568940918195, 61.85209422025109, 40.9379060930957, 49.31462797940148, 33.734102811293944, 30.70306938510434, 37.03114533619727, 30.053075189908625, 31.697427750493922, 25.651322997920833, 29.592926779051126, 35.822408550878755, 34.81383726249961, 45.723011871390455, 47.91355831312486, 43.92029226515581, 50.39109797085335, 58.97562227921236, 70.01278105104592, 101.39213908261303, 127.89029188082971, 126.64618034018866, 149.4793682128132, 190.71496058024283, 255.57501042389137, 328.31187510461683, 263.0500495717529, 220.07131053022906, 203.76680871307622, 180.66333933944375, 98.72634790204128, 53.91437140180663, 80.02546872556772, 101.91251006655015, 126.8102418337703, 72.62721850600022, 67.94728374929599, 64.03837003075236, 54.99211562217294, 66.26977077927108, 84.04507252080515, 84.57173740325494, 66.77475034582079, 73.10838757186696, 88.27467641119034, 67.8620398375318, 58.66184667955354, 56.359758423466566, 76.8589152663517, 74.5988589966332, 46.850984214254, 49.771857618511845, 41.95498658350169, 27.683771239583418, 37.03262125876906, 36.67903825340939, 26.85106827057646, 12.02424467647989, 14.654161890151956, 21.307115087605276, 7.809406293811749, 14.896383850821344, 16.748380254955272, 9.972574717516066, 9.007165936678204, 10.797243813730503, 19.63322149592133, 13.50089707781662, 10.787761696177256, 16.10898510255691, 10.82077512129392, 6.763333300758797, 17.230841631676142, 13.831601828131753, 12.40637189770108, 15.269065360811915, 30.011671613799287, 25.49346985287909, 39.817293277576525, 44.26540372665723, 25.269944897141936, 21.147727932919018, 47.758597195495206, 56.10574905646622, 59.68745913513305, 45.0671476951396, 54.29327730231688, 31.62743182498662, 45.976972362920385, 60.94708463583743, 42.356496773186215, 37.15282171524973, 42.89069209359318, 34.08173793005351, 40.18410999817753, 25.150293001591354, 16.124725313078503, 17.543350234219044, 17.074801747053414, 16.143266935535294, 22.83088251277346, 18.054843924953982, 17.95321414649314, 9.518670361903975, 6.482579573220256, 7.049451320710842, 3.951947300095768, 3.291527088739445, 1.949955383009549, 7.845266995422657, 3.1949911479875532, 0.9455785835086513, 1.4290377114428812, 1.8897936261575046, 3.2693986500874557, 3.0912757572230842, 2.32379691210539, 0.5836691380298275, 0.347428117547552, 2.0008548429164117, 3.043964686060797, 0.6535366696304897, 6.022449200037798, 2.611662051572455, 6.735607454864093, 2.2428042636463776, 3.3732895506460285, 2.217123878793294, 4.251522452733214, 5.350593070976424, 2.358397052146541, 9.76437676585562, 2.3142884748580954, 4.12457323107193, 8.075191496481223, 6.351845234524056, 3.5573107097265715, 11.04230319158607, 14.227316020859265, 14.943312534637936, 20.04213745474022, 9.4156867823219, 20.18807635755646, 27.943765803004784, 38.04532796606144, 29.784449388968707, 29.835899094058245, 22.992951687421833, 16.017323813524186, 22.182087105596473, 28.066829326564232, 14.279308353465776, 16.87179626949625, 20.29221861928461, 16.45649509440044, 9.977043927088742, 13.469068633147922, 20.18895273319816, 9.182800324974046, 17.84044571229068, 9.02343940329189, 8.099806957758414, 18.532718663625122, 11.105968486932518, 3.826203660110226, 6.454779595066188, 6.680914411189932, 8.000472653806309, 12.636772588098635, 8.332513688916892, 7.932740986487412, 5.2448148550673315, 15.975003920870321, 11.966025188264819, 10.958598159564236, 17.53973933934906, 10.197010120707644, 21.51434736220653, 14.273504134035766, 16.600516642383905, 18.447691080709205, 26.92288625309914, 37.93399907245068, 35.00456576176409, 40.85241419546524, 50.89759234819151, 65.0080666784144, 54.70554169932567, 53.34677405854209, 61.798549569534394, 63.81092253708322, 55.96755383109756, 64.63490429084212, 70.58960779312746, 74.82604379247438, 71.10664509558588, 71.79726840602308, 47.01805929234428, 26.81167931427976, 35.33389514892082, 24.93220296065765, 19.094054527677486, 37.0882827143958, 37.92285846909604, 33.596964946980314, 26.23955130046052, 19.17836424996241, 17.685051653432485, 21.542704966626662, 16.505907155360266, 17.74410624796932, 6.063686811958037, 12.474886587061256, 6.208641663523117, 6.10491385218488, 2.615506088457079, 7.414341070375515, 5.874216101406412, 1.130087629077849, 3.4770556324209645, 1.5385457557465758, 2.5578754959401886, 1.2561268404057855, 10.558189638051353, 2.766655583375933, 3.2558737698541944, 1.4969934297413985, 0.6243598702113002, 2.084459092611885, 5.941498231775906, 3.2929328455246947, 3.120390854591167, 5.384663093067898, 3.791290223090251, 7.314289178923809, 6.7356685191257775, 5.065476053317532, 7.212037527521767, 6.082598495517037, 3.861631670025444, 4.557676136575431, 7.0438706451600925, 9.277943492549095, 4.902259389761819, 4.8346792547867254, 10.234230952211329, 5.8881726455876375, 13.25684587477148, 6.222884470333068, 5.157299515366127, 4.798741995221384, 9.206287587307944, 2.8134652709273613, 6.175152654820555, 11.358083551164533, 7.037646546339473, 6.7273667829833546, 15.232089853449914, 9.22805082592377, 7.044136250199713, 6.315443061384094, 6.007186410649852, 7.205315671049675, 10.072004848116325, 8.0875249819181, 7.2503160138449925, 11.753220764216294, 3.45909640344307, 2.4141069968663285, 7.093083360110397, 4.829732053462879, 5.280776894280541, 7.010223320621621, 6.6173797312301925, 7.015389906693893, 7.360997957038236, 10.419009333164453, 12.967209273794591, 9.870622142353268, 13.834842064785708, 10.705587310459387, 20.209431238904042, 24.72874342494217, 17.006767772744325, 17.765942990876873, 25.35637888405599, 21.603784070735014, 30.47264837949397, 31.681341397055238, 26.225831382207176, 34.74568711925835, 28.145172638081295, 37.13439857740718, 41.339578491327636, 33.97209990199002, 30.042935271772595, 39.21756321648246, 39.156046795586576, 39.164948208954144, 34.03130559067028, 29.967428613092498, 37.10986496780818, 29.323610022453522, 26.112959052556448, 15.063838556513952, 22.065260783315136, 15.023366282594232, 19.92803815591749, 13.993691416405193, 10.08468885258387, 21.052967802191855, 14.21329710300012, 13.94331513263428, 8.55232666596375, 11.220124342688294, 4.8328430001810325, 6.086190887038548, 6.87346104302331, 11.272760809640802, 4.0572501805500565, 2.74853696132151, 1.67617726930982, 5.825755412324168, 10.215679986378298, 7.616196174669022, 4.753547535148333, 2.900857912722695, 11.93683378098343, 12.898701881351013, 10.369906343071866, 12.81129178163223, 12.576525208147007, 8.441952854845745, 20.663085654032717, 17.935388627434225, 8.116891178878388, 7.301715644569548, 19.705271351185537, 14.213098056452848, 14.110393549403259, 7.246769699119112, 14.482644031245222, 10.287656645158368, 12.820468042284842, 26.99160895653877, 13.064804812624171, 18.283142892587964, 16.20865053009505, 16.098713078032674, 20.183398250599645, 16.755663748500133, 4.229785961411795, 15.19002900247624, 8.068192910608037, 6.098550382072718, 12.652210385192687, 15.23381814816032, 11.163605011583632, 10.134269958025694, 14.401084598554542, 17.260923625074057, 6.997679144094704, 7.105489044972896, 7.866526280269309, 9.00123219399862, 12.002506947646495, 12.030329979059692, 5.3742143242635745, 4.139759830528221, 11.199333031095895, 4.0918195433105815, 5.050265975564235, 6.506661391602267, 1.4270588088772134, 1.0056575254118558, 4.0814718987357255, 1.843734902842893, 5.834054750212413, 3.099549960491372, 4.137146717421314, 10.140904828856211, 12.032243656741331, 20.653669766663047, 26.040875894817294, 20.79302685828481, 30.142654266228543, 44.74480207755793, 55.81435024041912, 74.84686054409707, 82.78603252886337, 82.06696527594143, 125.92658441258506, 118.99362001307354, 136.94151455691008, 130.8513732069863, 112.02063332021523, 82.13393049558357, 72.78656971445454, 42.859590565517735, 55.04703469561811, 54.956714184378896, 53.27200648098585, 45.826353097976835, 42.661918491946544, 29.34096146270389, 22.358942484494413, 26.14892027779236, 12.983438016840157, 17.05058792154388, 8.337267586237283, 13.22464493979729, 10.05669805744509, 16.96020701908916, 19.019576182220618, 8.912103602081581, 9.199340345135742, 8.974042152134023, 3.18415225324213, 6.9236346280584575, 7.020867514191114, 0.8164753424028062, 2.109131243566997, 3.473766030284303, 3.418359460655416, 0.9491434773168866, 3.452449636745558, 3.5084852101886326, 2.761848245613397, 7.206288138465873, 3.254177801122254, 5.468252834616381, 10.87271438600786, 5.245621814301798, 5.292185032791492, 5.90774840031137, 5.528193824250235, 4.188922596483587, 4.402736885986682, 8.020229914899772, 13.249098612951506, 11.734998231616197, 16.179851977460924, 9.721311379706055, 16.146714876484438, 18.64598211132965, 15.447763952057729, 23.41932450124343, 16.99086868323275, 32.78867128476204, 15.169119883401695, 13.000656321074116, 11.009885654722522, 14.227690892905065, 17.152656607407906, 19.169918198064615, 19.996449747019522, 12.094389564151681, 21.387960942841712, 7.079162194305309, 19.362900219634312, 10.36523713860746, 13.026815514299226, 10.038525490562677, 8.331996986036138, 20.85543159973044, 11.0943831787541, 9.167629384807308, 14.065480180640206, 14.204077460744651, 15.12943771259763, 18.11109711106826, 15.553411529969225, 12.063148337467211, 19.43602374869977, 7.8276489463355095, 3.2020532485865547, 12.678660008408492, 4.47492675244762, 0.9743122376867307, 9.748586990354136, 8.118491122365931, 12.96046258601473, 9.922523330872977, 21.056961245856368, 18.003284225044485, 21.075241552107904, 33.90500342122327, 25.118272475424806, 33.856153066386426, 33.39488071733782, 39.93895383088906, 41.64808273734351, 35.93118851457045, 71.85453797583463, 74.67258571406965, 75.74794762871099, 91.88277421834478, 71.4349379784337, 111.641005806882, 105.64027512276061, 100.81748297762279, 169.69820658375187, 134.7407092775859, 106.11312893594925, 67.74937813718785, 47.83504797338955, 47.61613637960929, 26.29828154189875, 32.50026354394082, 28.881276861956845, 17.050334801840716, 11.418713565357018, 12.922400982709862, 16.80753513379153, 14.995800548721173, 13.878338689341545, 14.932017487764325, 9.996778154280262, 8.877107866483506, 2.168122150426058, 6.491036298176234, 8.396215340994889, 5.142344542086049, 0.8637977399003237, 1.9569160085958592, 2.9418524115953995, 3.8881528918165884, 3.3046126496277624, 1.2187753945441824, 3.555864523120581, 4.780503395348527], \"yaxis\": \"y\"}],\n",
              "                        {\"autosize\": false, \"height\": 600, \"template\": {\"data\": {\"bar\": [{\"error_x\": {\"color\": \"#2a3f5f\"}, \"error_y\": {\"color\": \"#2a3f5f\"}, \"marker\": {\"line\": {\"color\": \"#E5ECF6\", \"width\": 0.5}}, \"type\": \"bar\"}], \"barpolar\": [{\"marker\": {\"line\": {\"color\": \"#E5ECF6\", \"width\": 0.5}}, \"type\": \"barpolar\"}], \"carpet\": [{\"aaxis\": {\"endlinecolor\": \"#2a3f5f\", \"gridcolor\": \"white\", \"linecolor\": \"white\", \"minorgridcolor\": \"white\", \"startlinecolor\": \"#2a3f5f\"}, \"baxis\": {\"endlinecolor\": \"#2a3f5f\", \"gridcolor\": \"white\", \"linecolor\": \"white\", \"minorgridcolor\": \"white\", \"startlinecolor\": \"#2a3f5f\"}, \"type\": \"carpet\"}], \"choropleth\": [{\"colorbar\": {\"outlinewidth\": 0, \"ticks\": \"\"}, \"type\": \"choropleth\"}], \"contour\": [{\"colorbar\": {\"outlinewidth\": 0, \"ticks\": \"\"}, \"colorscale\": [[0.0, \"#0d0887\"], [0.1111111111111111, \"#46039f\"], [0.2222222222222222, \"#7201a8\"], [0.3333333333333333, \"#9c179e\"], [0.4444444444444444, \"#bd3786\"], [0.5555555555555556, \"#d8576b\"], [0.6666666666666666, \"#ed7953\"], [0.7777777777777778, \"#fb9f3a\"], [0.8888888888888888, \"#fdca26\"], [1.0, \"#f0f921\"]], \"type\": \"contour\"}], \"contourcarpet\": [{\"colorbar\": {\"outlinewidth\": 0, \"ticks\": \"\"}, \"type\": \"contourcarpet\"}], \"heatmap\": [{\"colorbar\": {\"outlinewidth\": 0, \"ticks\": \"\"}, \"colorscale\": [[0.0, \"#0d0887\"], [0.1111111111111111, \"#46039f\"], [0.2222222222222222, \"#7201a8\"], [0.3333333333333333, \"#9c179e\"], [0.4444444444444444, \"#bd3786\"], [0.5555555555555556, \"#d8576b\"], [0.6666666666666666, \"#ed7953\"], [0.7777777777777778, \"#fb9f3a\"], [0.8888888888888888, \"#fdca26\"], [1.0, \"#f0f921\"]], \"type\": \"heatmap\"}], \"heatmapgl\": [{\"colorbar\": {\"outlinewidth\": 0, \"ticks\": \"\"}, \"colorscale\": [[0.0, \"#0d0887\"], [0.1111111111111111, \"#46039f\"], [0.2222222222222222, \"#7201a8\"], [0.3333333333333333, \"#9c179e\"], [0.4444444444444444, \"#bd3786\"], [0.5555555555555556, \"#d8576b\"], [0.6666666666666666, \"#ed7953\"], [0.7777777777777778, \"#fb9f3a\"], [0.8888888888888888, \"#fdca26\"], [1.0, \"#f0f921\"]], \"type\": \"heatmapgl\"}], \"histogram\": [{\"marker\": {\"colorbar\": {\"outlinewidth\": 0, \"ticks\": \"\"}}, \"type\": \"histogram\"}], \"histogram2d\": [{\"colorbar\": {\"outlinewidth\": 0, \"ticks\": \"\"}, \"colorscale\": [[0.0, \"#0d0887\"], [0.1111111111111111, \"#46039f\"], [0.2222222222222222, \"#7201a8\"], [0.3333333333333333, \"#9c179e\"], [0.4444444444444444, \"#bd3786\"], [0.5555555555555556, \"#d8576b\"], [0.6666666666666666, \"#ed7953\"], [0.7777777777777778, \"#fb9f3a\"], [0.8888888888888888, \"#fdca26\"], [1.0, \"#f0f921\"]], \"type\": \"histogram2d\"}], \"histogram2dcontour\": [{\"colorbar\": {\"outlinewidth\": 0, \"ticks\": \"\"}, \"colorscale\": [[0.0, \"#0d0887\"], [0.1111111111111111, \"#46039f\"], [0.2222222222222222, \"#7201a8\"], [0.3333333333333333, \"#9c179e\"], [0.4444444444444444, \"#bd3786\"], [0.5555555555555556, \"#d8576b\"], [0.6666666666666666, \"#ed7953\"], [0.7777777777777778, \"#fb9f3a\"], [0.8888888888888888, \"#fdca26\"], [1.0, \"#f0f921\"]], \"type\": \"histogram2dcontour\"}], \"mesh3d\": [{\"colorbar\": {\"outlinewidth\": 0, \"ticks\": \"\"}, \"type\": \"mesh3d\"}], \"parcoords\": [{\"line\": {\"colorbar\": {\"outlinewidth\": 0, \"ticks\": \"\"}}, \"type\": \"parcoords\"}], \"pie\": [{\"automargin\": true, \"type\": \"pie\"}], \"scatter\": [{\"marker\": {\"colorbar\": {\"outlinewidth\": 0, \"ticks\": \"\"}}, \"type\": \"scatter\"}], \"scatter3d\": [{\"line\": {\"colorbar\": {\"outlinewidth\": 0, \"ticks\": \"\"}}, \"marker\": {\"colorbar\": {\"outlinewidth\": 0, \"ticks\": \"\"}}, \"type\": \"scatter3d\"}], \"scattercarpet\": [{\"marker\": {\"colorbar\": {\"outlinewidth\": 0, \"ticks\": \"\"}}, \"type\": \"scattercarpet\"}], \"scattergeo\": [{\"marker\": {\"colorbar\": {\"outlinewidth\": 0, \"ticks\": \"\"}}, \"type\": \"scattergeo\"}], \"scattergl\": [{\"marker\": {\"colorbar\": {\"outlinewidth\": 0, \"ticks\": \"\"}}, \"type\": \"scattergl\"}], \"scattermapbox\": [{\"marker\": {\"colorbar\": {\"outlinewidth\": 0, \"ticks\": \"\"}}, \"type\": \"scattermapbox\"}], \"scatterpolar\": [{\"marker\": {\"colorbar\": {\"outlinewidth\": 0, \"ticks\": \"\"}}, \"type\": \"scatterpolar\"}], \"scatterpolargl\": [{\"marker\": {\"colorbar\": {\"outlinewidth\": 0, \"ticks\": \"\"}}, \"type\": \"scatterpolargl\"}], \"scatterternary\": [{\"marker\": {\"colorbar\": {\"outlinewidth\": 0, \"ticks\": \"\"}}, \"type\": \"scatterternary\"}], \"surface\": [{\"colorbar\": {\"outlinewidth\": 0, \"ticks\": \"\"}, \"colorscale\": [[0.0, \"#0d0887\"], [0.1111111111111111, \"#46039f\"], [0.2222222222222222, \"#7201a8\"], [0.3333333333333333, \"#9c179e\"], [0.4444444444444444, \"#bd3786\"], [0.5555555555555556, \"#d8576b\"], [0.6666666666666666, \"#ed7953\"], [0.7777777777777778, \"#fb9f3a\"], [0.8888888888888888, \"#fdca26\"], [1.0, \"#f0f921\"]], \"type\": \"surface\"}], \"table\": [{\"cells\": {\"fill\": {\"color\": \"#EBF0F8\"}, \"line\": {\"color\": \"white\"}}, \"header\": {\"fill\": {\"color\": \"#C8D4E3\"}, \"line\": {\"color\": \"white\"}}, \"type\": \"table\"}]}, \"layout\": {\"annotationdefaults\": {\"arrowcolor\": \"#2a3f5f\", \"arrowhead\": 0, \"arrowwidth\": 1}, \"coloraxis\": {\"colorbar\": {\"outlinewidth\": 0, \"ticks\": \"\"}}, \"colorscale\": {\"diverging\": [[0, \"#8e0152\"], [0.1, \"#c51b7d\"], [0.2, \"#de77ae\"], [0.3, \"#f1b6da\"], [0.4, \"#fde0ef\"], [0.5, \"#f7f7f7\"], [0.6, \"#e6f5d0\"], [0.7, \"#b8e186\"], [0.8, \"#7fbc41\"], [0.9, \"#4d9221\"], [1, \"#276419\"]], \"sequential\": [[0.0, \"#0d0887\"], [0.1111111111111111, \"#46039f\"], [0.2222222222222222, \"#7201a8\"], [0.3333333333333333, \"#9c179e\"], [0.4444444444444444, \"#bd3786\"], [0.5555555555555556, \"#d8576b\"], [0.6666666666666666, \"#ed7953\"], [0.7777777777777778, \"#fb9f3a\"], [0.8888888888888888, \"#fdca26\"], [1.0, \"#f0f921\"]], \"sequentialminus\": [[0.0, \"#0d0887\"], [0.1111111111111111, \"#46039f\"], [0.2222222222222222, \"#7201a8\"], [0.3333333333333333, \"#9c179e\"], [0.4444444444444444, \"#bd3786\"], [0.5555555555555556, \"#d8576b\"], [0.6666666666666666, \"#ed7953\"], [0.7777777777777778, \"#fb9f3a\"], [0.8888888888888888, \"#fdca26\"], [1.0, \"#f0f921\"]]}, \"colorway\": [\"#636efa\", \"#EF553B\", \"#00cc96\", \"#ab63fa\", \"#FFA15A\", \"#19d3f3\", \"#FF6692\", \"#B6E880\", \"#FF97FF\", \"#FECB52\"], \"font\": {\"color\": \"#2a3f5f\"}, \"geo\": {\"bgcolor\": \"white\", \"lakecolor\": \"white\", \"landcolor\": \"#E5ECF6\", \"showlakes\": true, \"showland\": true, \"subunitcolor\": \"white\"}, \"hoverlabel\": {\"align\": \"left\"}, \"hovermode\": \"closest\", \"mapbox\": {\"style\": \"light\"}, \"paper_bgcolor\": \"white\", \"plot_bgcolor\": \"#E5ECF6\", \"polar\": {\"angularaxis\": {\"gridcolor\": \"white\", \"linecolor\": \"white\", \"ticks\": \"\"}, \"bgcolor\": \"#E5ECF6\", \"radialaxis\": {\"gridcolor\": \"white\", \"linecolor\": \"white\", \"ticks\": \"\"}}, \"scene\": {\"xaxis\": {\"backgroundcolor\": \"#E5ECF6\", \"gridcolor\": \"white\", \"gridwidth\": 2, \"linecolor\": \"white\", \"showbackground\": true, \"ticks\": \"\", \"zerolinecolor\": \"white\"}, \"yaxis\": {\"backgroundcolor\": \"#E5ECF6\", \"gridcolor\": \"white\", \"gridwidth\": 2, \"linecolor\": \"white\", \"showbackground\": true, \"ticks\": \"\", \"zerolinecolor\": \"white\"}, \"zaxis\": {\"backgroundcolor\": \"#E5ECF6\", \"gridcolor\": \"white\", \"gridwidth\": 2, \"linecolor\": \"white\", \"showbackground\": true, \"ticks\": \"\", \"zerolinecolor\": \"white\"}}, \"shapedefaults\": {\"line\": {\"color\": \"#2a3f5f\"}}, \"ternary\": {\"aaxis\": {\"gridcolor\": \"white\", \"linecolor\": \"white\", \"ticks\": \"\"}, \"baxis\": {\"gridcolor\": \"white\", \"linecolor\": \"white\", \"ticks\": \"\"}, \"bgcolor\": \"#E5ECF6\", \"caxis\": {\"gridcolor\": \"white\", \"linecolor\": \"white\", \"ticks\": \"\"}}, \"title\": {\"x\": 0.05}, \"xaxis\": {\"automargin\": true, \"gridcolor\": \"white\", \"linecolor\": \"white\", \"ticks\": \"\", \"title\": {\"standoff\": 15}, \"zerolinecolor\": \"white\", \"zerolinewidth\": 2}, \"yaxis\": {\"automargin\": true, \"gridcolor\": \"white\", \"linecolor\": \"white\", \"ticks\": \"\", \"title\": {\"standoff\": 15}, \"zerolinecolor\": \"white\", \"zerolinewidth\": 2}}}, \"title\": {\"text\": \"GradientBoostingRegressor\"}, \"width\": 1200, \"xaxis\": {\"anchor\": \"y\", \"domain\": [0.0, 1.0]}, \"yaxis\": {\"anchor\": \"x\", \"domain\": [0.0, 1.0]}},\n",
              "                        {\"responsive\": true}\n",
              "                    ).then(function(){\n",
              "                            \n",
              "var gd = document.getElementById('60be8371-faed-4321-9ab6-d5c1c36c3d1e');\n",
              "var x = new MutationObserver(function (mutations, observer) {{\n",
              "        var display = window.getComputedStyle(gd).display;\n",
              "        if (!display || display === 'none') {{\n",
              "            console.log([gd, 'removed!']);\n",
              "            Plotly.purge(gd);\n",
              "            observer.disconnect();\n",
              "        }}\n",
              "}});\n",
              "\n",
              "// Listen for the removal of the full notebook cells\n",
              "var notebookContainer = gd.closest('#notebook-container');\n",
              "if (notebookContainer) {{\n",
              "    x.observe(notebookContainer, {childList: true});\n",
              "}}\n",
              "\n",
              "// Listen for the clearing of the current output cell\n",
              "var outputEl = gd.closest('.output');\n",
              "if (outputEl) {{\n",
              "    x.observe(outputEl, {childList: true});\n",
              "}}\n",
              "\n",
              "                        })\n",
              "                };\n",
              "                \n",
              "            </script>\n",
              "        </div>\n",
              "</body>\n",
              "</html>"
            ]
          },
          "metadata": {
            "tags": []
          }
        }
      ]
    },
    {
      "cell_type": "code",
      "metadata": {
        "colab": {
          "base_uri": "https://localhost:8080/"
        },
        "id": "sj9jVBjtJlF2",
        "outputId": "2e3df75c-b400-4809-a7ae-e138dffd7747"
      },
      "source": [
        "X_train_train=X_train_sj[X_train_sj.index<900]\n",
        "X_train_test=X_train_sj[X_train_sj.index>900]\n",
        "\n",
        "from sklearn.ensemble import GradientBoostingRegressor\n",
        "\n",
        "train_regressor=GradientBoostingRegressor(n_estimators=100,verbose=1)\n",
        "\n",
        "yy=X_train_train[['total_cases']]\n",
        "train_regressor.fit(X_train_train[prediktorok],yy)\n",
        "y_pred=train_regressor.predict(X_train_train[prediktorok])\n",
        "\n",
        "X_train_train[\"gradientboosting_total\"]=y_pred\n",
        "\n",
        "\n",
        "y_pred=train_regressor.predict(X_train_test[prediktorok])\n",
        "\n",
        "X_train_test[\"gradientboosting_total\"]=y_pred\n",
        "\n",
        "\n"
      ],
      "execution_count": 40,
      "outputs": [
        {
          "output_type": "stream",
          "text": [
            "/usr/local/lib/python3.7/dist-packages/sklearn/ensemble/_gb.py:1454: DataConversionWarning:\n",
            "\n",
            "A column-vector y was passed when a 1d array was expected. Please change the shape of y to (n_samples, ), for example using ravel().\n",
            "\n"
          ],
          "name": "stderr"
        },
        {
          "output_type": "stream",
          "text": [
            "      Iter       Train Loss   Remaining Time \n",
            "         1        2323.9254            0.41s\n",
            "         2        2050.1281            0.44s\n",
            "         3        1826.6552            0.44s\n",
            "         4        1645.6523            0.47s\n",
            "         5        1496.4443            0.47s\n",
            "         6        1375.5050            0.46s\n",
            "         7        1277.2564            0.45s\n",
            "         8        1196.9073            0.44s\n",
            "         9        1131.2690            0.43s\n",
            "        10        1078.9543            0.42s\n",
            "        20         801.3540            0.35s\n",
            "        30         682.9960            0.30s\n",
            "        40         622.8671            0.26s\n",
            "        50         548.9765            0.22s\n",
            "        60         484.2472            0.17s\n",
            "        70         448.5072            0.13s\n",
            "        80         412.9292            0.08s\n",
            "        90         378.1483            0.04s\n",
            "       100         344.1080            0.00s\n"
          ],
          "name": "stdout"
        },
        {
          "output_type": "stream",
          "text": [
            "/usr/local/lib/python3.7/dist-packages/ipykernel_launcher.py:12: SettingWithCopyWarning:\n",
            "\n",
            "\n",
            "A value is trying to be set on a copy of a slice from a DataFrame.\n",
            "Try using .loc[row_indexer,col_indexer] = value instead\n",
            "\n",
            "See the caveats in the documentation: https://pandas.pydata.org/pandas-docs/stable/user_guide/indexing.html#returning-a-view-versus-a-copy\n",
            "\n",
            "/usr/local/lib/python3.7/dist-packages/ipykernel_launcher.py:17: SettingWithCopyWarning:\n",
            "\n",
            "\n",
            "A value is trying to be set on a copy of a slice from a DataFrame.\n",
            "Try using .loc[row_indexer,col_indexer] = value instead\n",
            "\n",
            "See the caveats in the documentation: https://pandas.pydata.org/pandas-docs/stable/user_guide/indexing.html#returning-a-view-versus-a-copy\n",
            "\n"
          ],
          "name": "stderr"
        }
      ]
    },
    {
      "cell_type": "code",
      "metadata": {
        "colab": {
          "base_uri": "https://localhost:8080/",
          "height": 617
        },
        "id": "eWTXDfxjJ4wU",
        "outputId": "f79ef682-11ba-40a5-831b-700c8c7d1603"
      },
      "source": [
        "grafikon(X_train_test,\"week_start_date\",\"total_cases\",\"total_cases\",\"gradientboosting_total\",\"gradientboosting_total\",title=\"GradientBoostingRegressor\",)"
      ],
      "execution_count": 41,
      "outputs": [
        {
          "output_type": "display_data",
          "data": {
            "text/html": [
              "<html>\n",
              "<head><meta charset=\"utf-8\" /></head>\n",
              "<body>\n",
              "    <div>\n",
              "            <script src=\"https://cdnjs.cloudflare.com/ajax/libs/mathjax/2.7.5/MathJax.js?config=TeX-AMS-MML_SVG\"></script><script type=\"text/javascript\">if (window.MathJax) {MathJax.Hub.Config({SVG: {font: \"STIX-Web\"}});}</script>\n",
              "                <script type=\"text/javascript\">window.PlotlyConfig = {MathJaxConfig: 'local'};</script>\n",
              "        <script src=\"https://cdn.plot.ly/plotly-latest.min.js\"></script>    \n",
              "            <div id=\"5616a6b3-12a0-44ee-9b55-130b9c42af4e\" class=\"plotly-graph-div\" style=\"height:600px; width:1200px;\"></div>\n",
              "            <script type=\"text/javascript\">\n",
              "                \n",
              "                    window.PLOTLYENV=window.PLOTLYENV || {};\n",
              "                    \n",
              "                if (document.getElementById(\"5616a6b3-12a0-44ee-9b55-130b9c42af4e\")) {\n",
              "                    Plotly.newPlot(\n",
              "                        '5616a6b3-12a0-44ee-9b55-130b9c42af4e',\n",
              "                        [{\"line\": {\"color\": \"rgba(35,128,132,0.8)\"}, \"name\": \"total_cases\", \"showlegend\": true, \"type\": \"scatter\", \"x\": [\"2007-08-27\", \"2007-09-03\", \"2007-09-10\", \"2007-09-17\", \"2007-09-24\", \"2007-10-01\", \"2007-10-08\", \"2007-10-15\", \"2007-10-22\", \"2007-10-29\", \"2007-11-05\", \"2007-11-12\", \"2007-11-19\", \"2007-11-26\", \"2007-12-03\", \"2007-12-10\", \"2007-12-17\", \"2007-12-24\", \"2008-01-01\", \"2008-01-08\", \"2008-01-15\", \"2008-01-22\", \"2008-01-29\", \"2008-02-05\", \"2008-02-12\", \"2008-02-19\", \"2008-02-26\", \"2008-03-04\", \"2008-03-11\", \"2008-03-18\", \"2008-03-25\", \"2008-04-01\", \"2008-04-08\", \"2008-04-15\", \"2008-04-22\"], \"xaxis\": \"x\", \"y\": [92, 71, 112, 106, 101, 170, 135, 106, 68, 48, 48, 26, 33, 29, 17, 12, 13, 17, 15, 14, 15, 10, 9, 2, 6, 8, 5, 1, 2, 3, 4, 3, 1, 3, 5], \"yaxis\": \"y\"}, {\"line\": {\"color\": \"rgba(193,99,99,0.8)\"}, \"name\": \"gradientboosting_total\", \"showlegend\": true, \"type\": \"scatter\", \"x\": [\"2007-08-27\", \"2007-09-03\", \"2007-09-10\", \"2007-09-17\", \"2007-09-24\", \"2007-10-01\", \"2007-10-08\", \"2007-10-15\", \"2007-10-22\", \"2007-10-29\", \"2007-11-05\", \"2007-11-12\", \"2007-11-19\", \"2007-11-26\", \"2007-12-03\", \"2007-12-10\", \"2007-12-17\", \"2007-12-24\", \"2008-01-01\", \"2008-01-08\", \"2008-01-15\", \"2008-01-22\", \"2008-01-29\", \"2008-02-05\", \"2008-02-12\", \"2008-02-19\", \"2008-02-26\", \"2008-03-04\", \"2008-03-11\", \"2008-03-18\", \"2008-03-25\", \"2008-04-01\", \"2008-04-08\", \"2008-04-15\", \"2008-04-22\"], \"xaxis\": \"x\", \"y\": [36.447563150338084, 58.44150092964736, 43.12651874350797, 37.734202206753444, 29.653466023660094, 32.6042483214362, 43.84305799882843, 57.649976549469294, 35.3007369553473, 43.27945824899247, 19.460646525551777, 49.35030721372475, 26.546597889048392, 19.586315377398673, 17.152785791678614, 21.611933159368583, 20.52181923559192, 24.059748932742686, 18.888447620473297, 15.019988881207633, 22.621146583005743, 15.144508072881393, 14.620660146551845, 6.170484848592096, 20.69206912656518, 13.909628327781808, 13.384878576318819, 4.822321920614255, 16.005095693572553, 10.539712804403154, 5.705074124880941, 11.156677491047436, 6.2200416101055165, 6.5211309159369755, 8.527399275062486], \"yaxis\": \"y\"}],\n",
              "                        {\"autosize\": false, \"height\": 600, \"template\": {\"data\": {\"bar\": [{\"error_x\": {\"color\": \"#2a3f5f\"}, \"error_y\": {\"color\": \"#2a3f5f\"}, \"marker\": {\"line\": {\"color\": \"#E5ECF6\", \"width\": 0.5}}, \"type\": \"bar\"}], \"barpolar\": [{\"marker\": {\"line\": {\"color\": \"#E5ECF6\", \"width\": 0.5}}, \"type\": \"barpolar\"}], \"carpet\": [{\"aaxis\": {\"endlinecolor\": \"#2a3f5f\", \"gridcolor\": \"white\", \"linecolor\": \"white\", \"minorgridcolor\": \"white\", \"startlinecolor\": \"#2a3f5f\"}, \"baxis\": {\"endlinecolor\": \"#2a3f5f\", \"gridcolor\": \"white\", \"linecolor\": \"white\", \"minorgridcolor\": \"white\", \"startlinecolor\": \"#2a3f5f\"}, \"type\": \"carpet\"}], \"choropleth\": [{\"colorbar\": {\"outlinewidth\": 0, \"ticks\": \"\"}, \"type\": \"choropleth\"}], \"contour\": [{\"colorbar\": {\"outlinewidth\": 0, \"ticks\": \"\"}, \"colorscale\": [[0.0, \"#0d0887\"], [0.1111111111111111, \"#46039f\"], [0.2222222222222222, \"#7201a8\"], [0.3333333333333333, \"#9c179e\"], [0.4444444444444444, \"#bd3786\"], [0.5555555555555556, \"#d8576b\"], [0.6666666666666666, \"#ed7953\"], [0.7777777777777778, \"#fb9f3a\"], [0.8888888888888888, \"#fdca26\"], [1.0, \"#f0f921\"]], \"type\": \"contour\"}], \"contourcarpet\": [{\"colorbar\": {\"outlinewidth\": 0, \"ticks\": \"\"}, \"type\": \"contourcarpet\"}], \"heatmap\": [{\"colorbar\": {\"outlinewidth\": 0, \"ticks\": \"\"}, \"colorscale\": [[0.0, \"#0d0887\"], [0.1111111111111111, \"#46039f\"], [0.2222222222222222, \"#7201a8\"], [0.3333333333333333, \"#9c179e\"], [0.4444444444444444, \"#bd3786\"], [0.5555555555555556, \"#d8576b\"], [0.6666666666666666, \"#ed7953\"], [0.7777777777777778, \"#fb9f3a\"], [0.8888888888888888, \"#fdca26\"], [1.0, \"#f0f921\"]], \"type\": \"heatmap\"}], \"heatmapgl\": [{\"colorbar\": {\"outlinewidth\": 0, \"ticks\": \"\"}, \"colorscale\": [[0.0, \"#0d0887\"], [0.1111111111111111, \"#46039f\"], [0.2222222222222222, \"#7201a8\"], [0.3333333333333333, \"#9c179e\"], [0.4444444444444444, \"#bd3786\"], [0.5555555555555556, \"#d8576b\"], [0.6666666666666666, \"#ed7953\"], [0.7777777777777778, \"#fb9f3a\"], [0.8888888888888888, \"#fdca26\"], [1.0, \"#f0f921\"]], \"type\": \"heatmapgl\"}], \"histogram\": [{\"marker\": {\"colorbar\": {\"outlinewidth\": 0, \"ticks\": \"\"}}, \"type\": \"histogram\"}], \"histogram2d\": [{\"colorbar\": {\"outlinewidth\": 0, \"ticks\": \"\"}, \"colorscale\": [[0.0, \"#0d0887\"], [0.1111111111111111, \"#46039f\"], [0.2222222222222222, \"#7201a8\"], [0.3333333333333333, \"#9c179e\"], [0.4444444444444444, \"#bd3786\"], [0.5555555555555556, \"#d8576b\"], [0.6666666666666666, \"#ed7953\"], [0.7777777777777778, \"#fb9f3a\"], [0.8888888888888888, \"#fdca26\"], [1.0, \"#f0f921\"]], \"type\": \"histogram2d\"}], \"histogram2dcontour\": [{\"colorbar\": {\"outlinewidth\": 0, \"ticks\": \"\"}, \"colorscale\": [[0.0, \"#0d0887\"], [0.1111111111111111, \"#46039f\"], [0.2222222222222222, \"#7201a8\"], [0.3333333333333333, \"#9c179e\"], [0.4444444444444444, \"#bd3786\"], [0.5555555555555556, \"#d8576b\"], [0.6666666666666666, \"#ed7953\"], [0.7777777777777778, \"#fb9f3a\"], [0.8888888888888888, \"#fdca26\"], [1.0, \"#f0f921\"]], \"type\": \"histogram2dcontour\"}], \"mesh3d\": [{\"colorbar\": {\"outlinewidth\": 0, \"ticks\": \"\"}, \"type\": \"mesh3d\"}], \"parcoords\": [{\"line\": {\"colorbar\": {\"outlinewidth\": 0, \"ticks\": \"\"}}, \"type\": \"parcoords\"}], \"pie\": [{\"automargin\": true, \"type\": \"pie\"}], \"scatter\": [{\"marker\": {\"colorbar\": {\"outlinewidth\": 0, \"ticks\": \"\"}}, \"type\": \"scatter\"}], \"scatter3d\": [{\"line\": {\"colorbar\": {\"outlinewidth\": 0, \"ticks\": \"\"}}, \"marker\": {\"colorbar\": {\"outlinewidth\": 0, \"ticks\": \"\"}}, \"type\": \"scatter3d\"}], \"scattercarpet\": [{\"marker\": {\"colorbar\": {\"outlinewidth\": 0, \"ticks\": \"\"}}, \"type\": \"scattercarpet\"}], \"scattergeo\": [{\"marker\": {\"colorbar\": {\"outlinewidth\": 0, \"ticks\": \"\"}}, \"type\": \"scattergeo\"}], \"scattergl\": [{\"marker\": {\"colorbar\": {\"outlinewidth\": 0, \"ticks\": \"\"}}, \"type\": \"scattergl\"}], \"scattermapbox\": [{\"marker\": {\"colorbar\": {\"outlinewidth\": 0, \"ticks\": \"\"}}, \"type\": \"scattermapbox\"}], \"scatterpolar\": [{\"marker\": {\"colorbar\": {\"outlinewidth\": 0, \"ticks\": \"\"}}, \"type\": \"scatterpolar\"}], \"scatterpolargl\": [{\"marker\": {\"colorbar\": {\"outlinewidth\": 0, \"ticks\": \"\"}}, \"type\": \"scatterpolargl\"}], \"scatterternary\": [{\"marker\": {\"colorbar\": {\"outlinewidth\": 0, \"ticks\": \"\"}}, \"type\": \"scatterternary\"}], \"surface\": [{\"colorbar\": {\"outlinewidth\": 0, \"ticks\": \"\"}, \"colorscale\": [[0.0, \"#0d0887\"], [0.1111111111111111, \"#46039f\"], [0.2222222222222222, \"#7201a8\"], [0.3333333333333333, \"#9c179e\"], [0.4444444444444444, \"#bd3786\"], [0.5555555555555556, \"#d8576b\"], [0.6666666666666666, \"#ed7953\"], [0.7777777777777778, \"#fb9f3a\"], [0.8888888888888888, \"#fdca26\"], [1.0, \"#f0f921\"]], \"type\": \"surface\"}], \"table\": [{\"cells\": {\"fill\": {\"color\": \"#EBF0F8\"}, \"line\": {\"color\": \"white\"}}, \"header\": {\"fill\": {\"color\": \"#C8D4E3\"}, \"line\": {\"color\": \"white\"}}, \"type\": \"table\"}]}, \"layout\": {\"annotationdefaults\": {\"arrowcolor\": \"#2a3f5f\", \"arrowhead\": 0, \"arrowwidth\": 1}, \"coloraxis\": {\"colorbar\": {\"outlinewidth\": 0, \"ticks\": \"\"}}, \"colorscale\": {\"diverging\": [[0, \"#8e0152\"], [0.1, \"#c51b7d\"], [0.2, \"#de77ae\"], [0.3, \"#f1b6da\"], [0.4, \"#fde0ef\"], [0.5, \"#f7f7f7\"], [0.6, \"#e6f5d0\"], [0.7, \"#b8e186\"], [0.8, \"#7fbc41\"], [0.9, \"#4d9221\"], [1, \"#276419\"]], \"sequential\": [[0.0, \"#0d0887\"], [0.1111111111111111, \"#46039f\"], [0.2222222222222222, \"#7201a8\"], [0.3333333333333333, \"#9c179e\"], [0.4444444444444444, \"#bd3786\"], [0.5555555555555556, \"#d8576b\"], [0.6666666666666666, \"#ed7953\"], [0.7777777777777778, \"#fb9f3a\"], [0.8888888888888888, \"#fdca26\"], [1.0, \"#f0f921\"]], \"sequentialminus\": [[0.0, \"#0d0887\"], [0.1111111111111111, \"#46039f\"], [0.2222222222222222, \"#7201a8\"], [0.3333333333333333, \"#9c179e\"], [0.4444444444444444, \"#bd3786\"], [0.5555555555555556, \"#d8576b\"], [0.6666666666666666, \"#ed7953\"], [0.7777777777777778, \"#fb9f3a\"], [0.8888888888888888, \"#fdca26\"], [1.0, \"#f0f921\"]]}, \"colorway\": [\"#636efa\", \"#EF553B\", \"#00cc96\", \"#ab63fa\", \"#FFA15A\", \"#19d3f3\", \"#FF6692\", \"#B6E880\", \"#FF97FF\", \"#FECB52\"], \"font\": {\"color\": \"#2a3f5f\"}, \"geo\": {\"bgcolor\": \"white\", \"lakecolor\": \"white\", \"landcolor\": \"#E5ECF6\", \"showlakes\": true, \"showland\": true, \"subunitcolor\": \"white\"}, \"hoverlabel\": {\"align\": \"left\"}, \"hovermode\": \"closest\", \"mapbox\": {\"style\": \"light\"}, \"paper_bgcolor\": \"white\", \"plot_bgcolor\": \"#E5ECF6\", \"polar\": {\"angularaxis\": {\"gridcolor\": \"white\", \"linecolor\": \"white\", \"ticks\": \"\"}, \"bgcolor\": \"#E5ECF6\", \"radialaxis\": {\"gridcolor\": \"white\", \"linecolor\": \"white\", \"ticks\": \"\"}}, \"scene\": {\"xaxis\": {\"backgroundcolor\": \"#E5ECF6\", \"gridcolor\": \"white\", \"gridwidth\": 2, \"linecolor\": \"white\", \"showbackground\": true, \"ticks\": \"\", \"zerolinecolor\": \"white\"}, \"yaxis\": {\"backgroundcolor\": \"#E5ECF6\", \"gridcolor\": \"white\", \"gridwidth\": 2, \"linecolor\": \"white\", \"showbackground\": true, \"ticks\": \"\", \"zerolinecolor\": \"white\"}, \"zaxis\": {\"backgroundcolor\": \"#E5ECF6\", \"gridcolor\": \"white\", \"gridwidth\": 2, \"linecolor\": \"white\", \"showbackground\": true, \"ticks\": \"\", \"zerolinecolor\": \"white\"}}, \"shapedefaults\": {\"line\": {\"color\": \"#2a3f5f\"}}, \"ternary\": {\"aaxis\": {\"gridcolor\": \"white\", \"linecolor\": \"white\", \"ticks\": \"\"}, \"baxis\": {\"gridcolor\": \"white\", \"linecolor\": \"white\", \"ticks\": \"\"}, \"bgcolor\": \"#E5ECF6\", \"caxis\": {\"gridcolor\": \"white\", \"linecolor\": \"white\", \"ticks\": \"\"}}, \"title\": {\"x\": 0.05}, \"xaxis\": {\"automargin\": true, \"gridcolor\": \"white\", \"linecolor\": \"white\", \"ticks\": \"\", \"title\": {\"standoff\": 15}, \"zerolinecolor\": \"white\", \"zerolinewidth\": 2}, \"yaxis\": {\"automargin\": true, \"gridcolor\": \"white\", \"linecolor\": \"white\", \"ticks\": \"\", \"title\": {\"standoff\": 15}, \"zerolinecolor\": \"white\", \"zerolinewidth\": 2}}}, \"title\": {\"text\": \"GradientBoostingRegressor\"}, \"width\": 1200, \"xaxis\": {\"anchor\": \"y\", \"domain\": [0.0, 1.0]}, \"yaxis\": {\"anchor\": \"x\", \"domain\": [0.0, 1.0]}},\n",
              "                        {\"responsive\": true}\n",
              "                    ).then(function(){\n",
              "                            \n",
              "var gd = document.getElementById('5616a6b3-12a0-44ee-9b55-130b9c42af4e');\n",
              "var x = new MutationObserver(function (mutations, observer) {{\n",
              "        var display = window.getComputedStyle(gd).display;\n",
              "        if (!display || display === 'none') {{\n",
              "            console.log([gd, 'removed!']);\n",
              "            Plotly.purge(gd);\n",
              "            observer.disconnect();\n",
              "        }}\n",
              "}});\n",
              "\n",
              "// Listen for the removal of the full notebook cells\n",
              "var notebookContainer = gd.closest('#notebook-container');\n",
              "if (notebookContainer) {{\n",
              "    x.observe(notebookContainer, {childList: true});\n",
              "}}\n",
              "\n",
              "// Listen for the clearing of the current output cell\n",
              "var outputEl = gd.closest('.output');\n",
              "if (outputEl) {{\n",
              "    x.observe(outputEl, {childList: true});\n",
              "}}\n",
              "\n",
              "                        })\n",
              "                };\n",
              "                \n",
              "            </script>\n",
              "        </div>\n",
              "</body>\n",
              "</html>"
            ]
          },
          "metadata": {
            "tags": []
          }
        }
      ]
    },
    {
      "cell_type": "code",
      "metadata": {
        "colab": {
          "base_uri": "https://localhost:8080/",
          "height": 617
        },
        "id": "nYwKmgs3Ne_p",
        "outputId": "6cc23d8f-402c-40d0-eb02-e30328bcf6b7"
      },
      "source": [
        "grafikon(X_train_train,\"week_start_date\",\"total_cases\",\"total_cases\",\"gradientboosting_total\",\"gradientboosting_total\",title=\"GradientBoostingRegressor\",)"
      ],
      "execution_count": 42,
      "outputs": [
        {
          "output_type": "display_data",
          "data": {
            "text/html": [
              "<html>\n",
              "<head><meta charset=\"utf-8\" /></head>\n",
              "<body>\n",
              "    <div>\n",
              "            <script src=\"https://cdnjs.cloudflare.com/ajax/libs/mathjax/2.7.5/MathJax.js?config=TeX-AMS-MML_SVG\"></script><script type=\"text/javascript\">if (window.MathJax) {MathJax.Hub.Config({SVG: {font: \"STIX-Web\"}});}</script>\n",
              "                <script type=\"text/javascript\">window.PlotlyConfig = {MathJaxConfig: 'local'};</script>\n",
              "        <script src=\"https://cdn.plot.ly/plotly-latest.min.js\"></script>    \n",
              "            <div id=\"a3c93449-bcb4-416a-b83d-fea92a2ccf39\" class=\"plotly-graph-div\" style=\"height:600px; width:1200px;\"></div>\n",
              "            <script type=\"text/javascript\">\n",
              "                \n",
              "                    window.PLOTLYENV=window.PLOTLYENV || {};\n",
              "                    \n",
              "                if (document.getElementById(\"a3c93449-bcb4-416a-b83d-fea92a2ccf39\")) {\n",
              "                    Plotly.newPlot(\n",
              "                        'a3c93449-bcb4-416a-b83d-fea92a2ccf39',\n",
              "                        [{\"line\": {\"color\": \"rgba(35,128,132,0.8)\"}, \"name\": \"total_cases\", \"showlegend\": true, \"type\": \"scatter\", \"x\": [\"1990-04-30\", \"1990-05-07\", \"1990-05-14\", \"1990-05-21\", \"1990-05-28\", \"1990-06-04\", \"1990-06-11\", \"1990-06-18\", \"1990-06-25\", \"1990-07-02\", \"1990-07-09\", \"1990-07-16\", \"1990-07-23\", \"1990-07-30\", \"1990-08-06\", \"1990-08-13\", \"1990-08-20\", \"1990-08-27\", \"1990-09-03\", \"1990-09-10\", \"1990-09-17\", \"1990-09-24\", \"1990-10-01\", \"1990-10-08\", \"1990-10-15\", \"1990-10-22\", \"1990-10-29\", \"1990-11-05\", \"1990-11-12\", \"1990-11-19\", \"1990-11-26\", \"1990-12-03\", \"1990-12-10\", \"1990-12-17\", \"1990-12-24\", \"1991-01-01\", \"1991-01-08\", \"1991-01-15\", \"1991-01-22\", \"1991-01-29\", \"1991-02-05\", \"1991-02-12\", \"1991-02-19\", \"1991-02-26\", \"1991-03-05\", \"1991-03-12\", \"1991-03-19\", \"1991-03-26\", \"1991-04-02\", \"1991-04-09\", \"1991-04-16\", \"1991-04-23\", \"1991-04-30\", \"1991-05-07\", \"1991-05-14\", \"1991-05-21\", \"1991-05-28\", \"1991-06-04\", \"1991-06-11\", \"1991-06-18\", \"1991-06-25\", \"1991-07-02\", \"1991-07-09\", \"1991-07-16\", \"1991-07-23\", \"1991-07-30\", \"1991-08-06\", \"1991-08-13\", \"1991-08-20\", \"1991-08-27\", \"1991-09-03\", \"1991-09-10\", \"1991-09-17\", \"1991-09-24\", \"1991-10-01\", \"1991-10-08\", \"1991-10-15\", \"1991-10-22\", \"1991-10-29\", \"1991-11-05\", \"1991-11-12\", \"1991-11-19\", \"1991-11-26\", \"1991-12-03\", \"1991-12-10\", \"1991-12-17\", \"1991-12-24\", \"1992-01-01\", \"1992-01-08\", \"1992-01-15\", \"1992-01-22\", \"1992-01-29\", \"1992-02-05\", \"1992-02-12\", \"1992-02-19\", \"1992-02-26\", \"1992-03-04\", \"1992-03-11\", \"1992-03-18\", \"1992-03-25\", \"1992-04-01\", \"1992-04-08\", \"1992-04-15\", \"1992-04-22\", \"1992-04-29\", \"1992-05-06\", \"1992-05-13\", \"1992-05-20\", \"1992-05-27\", \"1992-06-03\", \"1992-06-10\", \"1992-06-17\", \"1992-06-24\", \"1992-07-01\", \"1992-07-08\", \"1992-07-15\", \"1992-07-22\", \"1992-07-29\", \"1992-08-05\", \"1992-08-12\", \"1992-08-19\", \"1992-08-26\", \"1992-09-02\", \"1992-09-09\", \"1992-09-16\", \"1992-09-23\", \"1992-09-30\", \"1992-10-07\", \"1992-10-14\", \"1992-10-21\", \"1992-10-28\", \"1992-11-04\", \"1992-11-11\", \"1992-11-18\", \"1992-11-25\", \"1992-12-02\", \"1992-12-09\", \"1992-12-16\", \"1992-12-23\", \"1993-01-01\", \"1993-01-08\", \"1993-01-15\", \"1993-01-22\", \"1993-01-29\", \"1993-02-05\", \"1993-02-12\", \"1993-02-19\", \"1993-02-26\", \"1993-03-05\", \"1993-03-12\", \"1993-03-19\", \"1993-03-26\", \"1993-04-02\", \"1993-04-09\", \"1993-04-16\", \"1993-04-23\", \"1993-04-30\", \"1993-05-07\", \"1993-05-14\", \"1993-05-21\", \"1993-05-28\", \"1993-06-04\", \"1993-06-11\", \"1993-06-18\", \"1993-06-25\", \"1993-07-02\", \"1993-07-09\", \"1993-07-16\", \"1993-07-23\", \"1993-07-30\", \"1993-08-06\", \"1993-08-13\", \"1993-08-20\", \"1993-08-27\", \"1993-09-03\", \"1993-09-10\", \"1993-09-17\", \"1993-09-24\", \"1993-10-01\", \"1993-10-08\", \"1993-10-15\", \"1993-10-22\", \"1993-10-29\", \"1993-11-05\", \"1993-11-12\", \"1993-11-19\", \"1993-11-26\", \"1993-12-03\", \"1993-12-10\", \"1993-12-17\", \"1993-12-24\", \"1994-01-01\", \"1994-01-08\", \"1994-01-15\", \"1994-01-22\", \"1994-01-29\", \"1994-02-05\", \"1994-02-12\", \"1994-02-19\", \"1994-02-26\", \"1994-03-05\", \"1994-03-12\", \"1994-03-19\", \"1994-03-26\", \"1994-04-02\", \"1994-04-09\", \"1994-04-16\", \"1994-04-23\", \"1994-04-30\", \"1994-05-07\", \"1994-05-14\", \"1994-05-21\", \"1994-05-28\", \"1994-06-04\", \"1994-06-11\", \"1994-06-18\", \"1994-06-25\", \"1994-07-02\", \"1994-07-09\", \"1994-07-16\", \"1994-07-23\", \"1994-07-30\", \"1994-08-06\", \"1994-08-13\", \"1994-08-20\", \"1994-08-27\", \"1994-09-03\", \"1994-09-10\", \"1994-09-17\", \"1994-09-24\", \"1994-10-01\", \"1994-10-08\", \"1994-10-15\", \"1994-10-22\", \"1994-10-29\", \"1994-11-05\", \"1994-11-12\", \"1994-11-19\", \"1994-11-26\", \"1994-12-03\", \"1994-12-10\", \"1994-12-17\", \"1994-12-24\", \"1995-01-01\", \"1995-01-08\", \"1995-01-15\", \"1995-01-22\", \"1995-01-29\", \"1995-02-05\", \"1995-02-12\", \"1995-02-19\", \"1995-02-26\", \"1995-03-05\", \"1995-03-12\", \"1995-03-19\", \"1995-03-26\", \"1995-04-02\", \"1995-04-09\", \"1995-04-16\", \"1995-04-23\", \"1995-04-30\", \"1995-05-07\", \"1995-05-14\", \"1995-05-21\", \"1995-05-28\", \"1995-06-04\", \"1995-06-11\", \"1995-06-18\", \"1995-06-25\", \"1995-07-02\", \"1995-07-09\", \"1995-07-16\", \"1995-07-23\", \"1995-07-30\", \"1995-08-06\", \"1995-08-13\", \"1995-08-20\", \"1995-08-27\", \"1995-09-03\", \"1995-09-10\", \"1995-09-17\", \"1995-09-24\", \"1995-10-01\", \"1995-10-08\", \"1995-10-15\", \"1995-10-22\", \"1995-10-29\", \"1995-11-05\", \"1995-11-12\", \"1995-11-19\", \"1995-11-26\", \"1995-12-03\", \"1995-12-10\", \"1995-12-17\", \"1995-12-24\", \"1996-01-01\", \"1996-01-08\", \"1996-01-15\", \"1996-01-22\", \"1996-01-29\", \"1996-02-05\", \"1996-02-12\", \"1996-02-19\", \"1996-02-26\", \"1996-03-04\", \"1996-03-11\", \"1996-03-18\", \"1996-03-25\", \"1996-04-01\", \"1996-04-08\", \"1996-04-15\", \"1996-04-22\", \"1996-04-29\", \"1996-05-06\", \"1996-05-13\", \"1996-05-20\", \"1996-05-27\", \"1996-06-03\", \"1996-06-10\", \"1996-06-17\", \"1996-06-24\", \"1996-07-01\", \"1996-07-08\", \"1996-07-15\", \"1996-07-22\", \"1996-07-29\", \"1996-08-05\", \"1996-08-12\", \"1996-08-19\", \"1996-08-26\", \"1996-09-02\", \"1996-09-09\", \"1996-09-16\", \"1996-09-23\", \"1996-09-30\", \"1996-10-07\", \"1996-10-14\", \"1996-10-21\", \"1996-10-28\", \"1996-11-04\", \"1996-11-11\", \"1996-11-18\", \"1996-11-25\", \"1996-12-02\", \"1996-12-09\", \"1996-12-16\", \"1996-12-23\", \"1997-01-01\", \"1997-01-08\", \"1997-01-15\", \"1997-01-22\", \"1997-01-29\", \"1997-02-05\", \"1997-02-12\", \"1997-02-19\", \"1997-02-26\", \"1997-03-05\", \"1997-03-12\", \"1997-03-19\", \"1997-03-26\", \"1997-04-02\", \"1997-04-09\", \"1997-04-16\", \"1997-04-23\", \"1997-04-30\", \"1997-05-07\", \"1997-05-14\", \"1997-05-21\", \"1997-05-28\", \"1997-06-04\", \"1997-06-11\", \"1997-06-18\", \"1997-06-25\", \"1997-07-02\", \"1997-07-09\", \"1997-07-16\", \"1997-07-23\", \"1997-07-30\", \"1997-08-06\", \"1997-08-13\", \"1997-08-20\", \"1997-08-27\", \"1997-09-03\", \"1997-09-10\", \"1997-09-17\", \"1997-09-24\", \"1997-10-01\", \"1997-10-08\", \"1997-10-15\", \"1997-10-22\", \"1997-10-29\", \"1997-11-05\", \"1997-11-12\", \"1997-11-19\", \"1997-11-26\", \"1997-12-03\", \"1997-12-10\", \"1997-12-17\", \"1997-12-24\", \"1998-01-01\", \"1998-01-08\", \"1998-01-15\", \"1998-01-22\", \"1998-01-29\", \"1998-02-05\", \"1998-02-12\", \"1998-02-19\", \"1998-02-26\", \"1998-03-05\", \"1998-03-12\", \"1998-03-19\", \"1998-03-26\", \"1998-04-02\", \"1998-04-09\", \"1998-04-16\", \"1998-04-23\", \"1998-04-30\", \"1998-05-07\", \"1998-05-14\", \"1998-05-21\", \"1998-05-28\", \"1998-06-04\", \"1998-06-11\", \"1998-06-18\", \"1998-06-25\", \"1998-07-02\", \"1998-07-09\", \"1998-07-16\", \"1998-07-23\", \"1998-07-30\", \"1998-08-06\", \"1998-08-13\", \"1998-08-20\", \"1998-08-27\", \"1998-09-03\", \"1998-09-10\", \"1998-09-17\", \"1998-09-24\", \"1998-10-01\", \"1998-10-08\", \"1998-10-15\", \"1998-10-22\", \"1998-10-29\", \"1998-11-05\", \"1998-11-12\", \"1998-11-19\", \"1998-11-26\", \"1998-12-03\", \"1998-12-10\", \"1998-12-17\", \"1998-12-24\", \"1999-01-01\", \"1999-01-08\", \"1999-01-15\", \"1999-01-22\", \"1999-01-29\", \"1999-02-05\", \"1999-02-12\", \"1999-02-19\", \"1999-02-26\", \"1999-03-05\", \"1999-03-12\", \"1999-03-19\", \"1999-03-26\", \"1999-04-02\", \"1999-04-09\", \"1999-04-16\", \"1999-04-23\", \"1999-04-30\", \"1999-05-07\", \"1999-05-14\", \"1999-05-21\", \"1999-05-28\", \"1999-06-04\", \"1999-06-11\", \"1999-06-18\", \"1999-06-25\", \"1999-07-02\", \"1999-07-09\", \"1999-07-16\", \"1999-07-23\", \"1999-07-30\", \"1999-08-06\", \"1999-08-13\", \"1999-08-20\", \"1999-08-27\", \"1999-09-03\", \"1999-09-10\", \"1999-09-17\", \"1999-09-24\", \"1999-10-01\", \"1999-10-08\", \"1999-10-15\", \"1999-10-22\", \"1999-10-29\", \"1999-11-05\", \"1999-11-12\", \"1999-11-19\", \"1999-11-26\", \"1999-12-03\", \"1999-12-10\", \"1999-12-17\", \"1999-12-24\", \"2000-01-01\", \"2000-01-08\", \"2000-01-15\", \"2000-01-22\", \"2000-01-29\", \"2000-02-05\", \"2000-02-12\", \"2000-02-19\", \"2000-02-26\", \"2000-03-04\", \"2000-03-11\", \"2000-03-18\", \"2000-03-25\", \"2000-04-01\", \"2000-04-08\", \"2000-04-15\", \"2000-04-22\", \"2000-04-29\", \"2000-05-06\", \"2000-05-13\", \"2000-05-20\", \"2000-05-27\", \"2000-06-03\", \"2000-06-10\", \"2000-06-17\", \"2000-06-24\", \"2000-07-01\", \"2000-07-08\", \"2000-07-15\", \"2000-07-22\", \"2000-07-29\", \"2000-08-05\", \"2000-08-12\", \"2000-08-19\", \"2000-08-26\", \"2000-09-02\", \"2000-09-09\", \"2000-09-16\", \"2000-09-23\", \"2000-09-30\", \"2000-10-07\", \"2000-10-14\", \"2000-10-21\", \"2000-10-28\", \"2000-11-04\", \"2000-11-11\", \"2000-11-18\", \"2000-11-25\", \"2000-12-02\", \"2000-12-09\", \"2000-12-16\", \"2000-12-23\", \"2001-01-01\", \"2001-01-08\", \"2001-01-15\", \"2001-01-22\", \"2001-01-29\", \"2001-02-05\", \"2001-02-12\", \"2001-02-19\", \"2001-02-26\", \"2001-03-05\", \"2001-03-12\", \"2001-03-19\", \"2001-03-26\", \"2001-04-02\", \"2001-04-09\", \"2001-04-16\", \"2001-04-23\", \"2001-04-30\", \"2001-05-07\", \"2001-05-14\", \"2001-05-21\", \"2001-05-28\", \"2001-06-04\", \"2001-06-11\", \"2001-06-18\", \"2001-06-25\", \"2001-07-02\", \"2001-07-09\", \"2001-07-16\", \"2001-07-23\", \"2001-07-30\", \"2001-08-06\", \"2001-08-13\", \"2001-08-20\", \"2001-08-27\", \"2001-09-03\", \"2001-09-10\", \"2001-09-17\", \"2001-09-24\", \"2001-10-01\", \"2001-10-08\", \"2001-10-15\", \"2001-10-22\", \"2001-10-29\", \"2001-11-05\", \"2001-11-12\", \"2001-11-19\", \"2001-11-26\", \"2001-12-03\", \"2001-12-10\", \"2001-12-17\", \"2001-12-24\", \"2002-01-01\", \"2002-01-08\", \"2002-01-15\", \"2002-01-22\", \"2002-01-29\", \"2002-02-05\", \"2002-02-12\", \"2002-02-19\", \"2002-02-26\", \"2002-03-05\", \"2002-03-12\", \"2002-03-19\", \"2002-03-26\", \"2002-04-02\", \"2002-04-09\", \"2002-04-16\", \"2002-04-23\", \"2002-04-30\", \"2002-05-07\", \"2002-05-14\", \"2002-05-21\", \"2002-05-28\", \"2002-06-04\", \"2002-06-11\", \"2002-06-18\", \"2002-06-25\", \"2002-07-02\", \"2002-07-09\", \"2002-07-16\", \"2002-07-23\", \"2002-07-30\", \"2002-08-06\", \"2002-08-13\", \"2002-08-20\", \"2002-08-27\", \"2002-09-03\", \"2002-09-10\", \"2002-09-17\", \"2002-09-24\", \"2002-10-01\", \"2002-10-08\", \"2002-10-15\", \"2002-10-22\", \"2002-10-29\", \"2002-11-05\", \"2002-11-12\", \"2002-11-19\", \"2002-11-26\", \"2002-12-03\", \"2002-12-10\", \"2002-12-17\", \"2002-12-24\", \"2003-01-01\", \"2003-01-08\", \"2003-01-15\", \"2003-01-22\", \"2003-01-29\", \"2003-02-05\", \"2003-02-12\", \"2003-02-19\", \"2003-02-26\", \"2003-03-05\", \"2003-03-12\", \"2003-03-19\", \"2003-03-26\", \"2003-04-02\", \"2003-04-09\", \"2003-04-16\", \"2003-04-23\", \"2003-04-30\", \"2003-05-07\", \"2003-05-14\", \"2003-05-21\", \"2003-05-28\", \"2003-06-04\", \"2003-06-11\", \"2003-06-18\", \"2003-06-25\", \"2003-07-02\", \"2003-07-09\", \"2003-07-16\", \"2003-07-23\", \"2003-07-30\", \"2003-08-06\", \"2003-08-13\", \"2003-08-20\", \"2003-08-27\", \"2003-09-03\", \"2003-09-10\", \"2003-09-17\", \"2003-09-24\", \"2003-10-01\", \"2003-10-08\", \"2003-10-15\", \"2003-10-22\", \"2003-10-29\", \"2003-11-05\", \"2003-11-12\", \"2003-11-19\", \"2003-11-26\", \"2003-12-03\", \"2003-12-10\", \"2003-12-17\", \"2003-12-24\", \"2004-01-01\", \"2004-01-08\", \"2004-01-15\", \"2004-01-22\", \"2004-01-29\", \"2004-02-05\", \"2004-02-12\", \"2004-02-19\", \"2004-02-26\", \"2004-03-04\", \"2004-03-11\", \"2004-03-18\", \"2004-03-25\", \"2004-04-01\", \"2004-04-08\", \"2004-04-15\", \"2004-04-22\", \"2004-04-29\", \"2004-05-06\", \"2004-05-13\", \"2004-05-20\", \"2004-05-27\", \"2004-06-03\", \"2004-06-10\", \"2004-06-17\", \"2004-06-24\", \"2004-07-01\", \"2004-07-08\", \"2004-07-15\", \"2004-07-22\", \"2004-07-29\", \"2004-08-05\", \"2004-08-12\", \"2004-08-19\", \"2004-08-26\", \"2004-09-02\", \"2004-09-09\", \"2004-09-16\", \"2004-09-23\", \"2004-09-30\", \"2004-10-07\", \"2004-10-14\", \"2004-10-21\", \"2004-10-28\", \"2004-11-04\", \"2004-11-11\", \"2004-11-18\", \"2004-11-25\", \"2004-12-02\", \"2004-12-09\", \"2004-12-16\", \"2004-12-23\", \"2005-01-01\", \"2005-01-08\", \"2005-01-15\", \"2005-01-22\", \"2005-01-29\", \"2005-02-05\", \"2005-02-12\", \"2005-02-19\", \"2005-02-26\", \"2005-03-05\", \"2005-03-12\", \"2005-03-19\", \"2005-03-26\", \"2005-04-02\", \"2005-04-09\", \"2005-04-16\", \"2005-04-23\", \"2005-04-30\", \"2005-05-07\", \"2005-05-14\", \"2005-05-21\", \"2005-05-28\", \"2005-06-04\", \"2005-06-11\", \"2005-06-18\", \"2005-06-25\", \"2005-07-02\", \"2005-07-09\", \"2005-07-16\", \"2005-07-23\", \"2005-07-30\", \"2005-08-06\", \"2005-08-13\", \"2005-08-20\", \"2005-08-27\", \"2005-09-03\", \"2005-09-10\", \"2005-09-17\", \"2005-09-24\", \"2005-10-01\", \"2005-10-08\", \"2005-10-15\", \"2005-10-22\", \"2005-10-29\", \"2005-11-05\", \"2005-11-12\", \"2005-11-19\", \"2005-11-26\", \"2005-12-03\", \"2005-12-10\", \"2005-12-17\", \"2005-12-24\", \"2006-01-01\", \"2006-01-08\", \"2006-01-15\", \"2006-01-22\", \"2006-01-29\", \"2006-02-05\", \"2006-02-12\", \"2006-02-19\", \"2006-02-26\", \"2006-03-05\", \"2006-03-12\", \"2006-03-19\", \"2006-03-26\", \"2006-04-02\", \"2006-04-09\", \"2006-04-16\", \"2006-04-23\", \"2006-04-30\", \"2006-05-07\", \"2006-05-14\", \"2006-05-21\", \"2006-05-28\", \"2006-06-04\", \"2006-06-11\", \"2006-06-18\", \"2006-06-25\", \"2006-07-02\", \"2006-07-09\", \"2006-07-16\", \"2006-07-23\", \"2006-07-30\", \"2006-08-06\", \"2006-08-13\", \"2006-08-20\", \"2006-08-27\", \"2006-09-03\", \"2006-09-10\", \"2006-09-17\", \"2006-09-24\", \"2006-10-01\", \"2006-10-08\", \"2006-10-15\", \"2006-10-22\", \"2006-10-29\", \"2006-11-05\", \"2006-11-12\", \"2006-11-19\", \"2006-11-26\", \"2006-12-03\", \"2006-12-10\", \"2006-12-17\", \"2006-12-24\", \"2007-01-01\", \"2007-01-08\", \"2007-01-15\", \"2007-01-22\", \"2007-01-29\", \"2007-02-05\", \"2007-02-12\", \"2007-02-19\", \"2007-02-26\", \"2007-03-05\", \"2007-03-12\", \"2007-03-19\", \"2007-03-26\", \"2007-04-02\", \"2007-04-09\", \"2007-04-16\", \"2007-04-23\", \"2007-04-30\", \"2007-05-07\", \"2007-05-14\", \"2007-05-21\", \"2007-05-28\", \"2007-06-04\", \"2007-06-11\", \"2007-06-18\", \"2007-06-25\", \"2007-07-02\", \"2007-07-09\", \"2007-07-16\", \"2007-07-23\", \"2007-07-30\", \"2007-08-06\", \"2007-08-13\"], \"xaxis\": \"x\", \"y\": [4, 5, 4, 3, 6, 2, 4, 5, 10, 6, 8, 2, 6, 17, 23, 13, 21, 28, 24, 20, 40, 27, 42, 33, 43, 37, 57, 71, 44, 56, 53, 52, 47, 26, 27, 21, 21, 26, 34, 37, 17, 19, 25, 18, 21, 17, 17, 16, 16, 15, 23, 16, 17, 12, 17, 10, 15, 19, 21, 14, 18, 13, 14, 18, 23, 25, 62, 60, 76, 66, 64, 68, 89, 92, 140, 116, 142, 129, 140, 140, 127, 129, 169, 141, 108, 78, 70, 81, 104, 90, 85, 55, 53, 65, 33, 38, 59, 40, 37, 29, 30, 30, 28, 23, 24, 29, 26, 23, 20, 19, 20, 26, 29, 31, 28, 26, 32, 35, 33, 30, 52, 59, 67, 65, 74, 70, 61, 53, 76, 61, 57, 44, 34, 47, 60, 60, 53, 36, 31, 30, 32, 28, 33, 33, 35, 22, 13, 13, 21, 17, 11, 8, 8, 6, 6, 7, 12, 17, 10, 10, 18, 19, 12, 22, 12, 21, 18, 16, 16, 22, 17, 25, 23, 12, 25, 28, 27, 18, 23, 23, 29, 38, 36, 43, 46, 31, 25, 40, 31, 38, 30, 22, 31, 26, 35, 36, 39, 25, 31, 37, 33, 25, 24, 18, 23, 13, 18, 14, 17, 22, 13, 24, 31, 34, 31, 31, 38, 49, 42, 49, 55, 80, 84, 72, 89, 115, 179, 202, 272, 302, 395, 426, 461, 381, 333, 353, 410, 364, 359, 288, 221, 149, 112, 154, 91, 72, 56, 46, 37, 26, 17, 17, 20, 11, 7, 16, 14, 16, 5, 2, 6, 5, 4, 3, 4, 16, 8, 7, 10, 14, 7, 9, 11, 23, 17, 19, 24, 17, 28, 40, 33, 31, 33, 29, 30, 36, 48, 40, 28, 36, 19, 34, 23, 17, 17, 23, 14, 20, 13, 23, 20, 16, 16, 23, 14, 15, 4, 5, 5, 11, 11, 7, 4, 6, 5, 2, 4, 2, 4, 6, 6, 4, 6, 11, 16, 9, 12, 13, 27, 21, 19, 17, 24, 27, 30, 29, 25, 35, 33, 30, 29, 31, 29, 22, 27, 24, 26, 29, 22, 33, 24, 30, 20, 17, 24, 28, 18, 13, 9, 14, 11, 11, 19, 10, 8, 8, 9, 3, 7, 14, 4, 9, 14, 7, 9, 3, 3, 14, 12, 10, 21, 26, 47, 42, 31, 34, 33, 52, 56, 70, 112, 70, 47, 48, 49, 66, 56, 61, 67, 64, 68, 49, 50, 56, 75, 63, 62, 41, 50, 34, 31, 38, 30, 32, 26, 30, 36, 35, 46, 48, 44, 51, 59, 71, 102, 128, 127, 150, 191, 256, 329, 263, 220, 204, 181, 99, 54, 80, 102, 127, 73, 68, 64, 55, 67, 84, 85, 67, 73, 89, 68, 59, 56, 77, 75, 47, 50, 42, 28, 37, 37, 27, 12, 15, 22, 8, 15, 17, 10, 9, 11, 20, 13, 11, 16, 11, 7, 17, 14, 13, 15, 30, 25, 40, 44, 25, 21, 48, 56, 60, 45, 55, 32, 46, 61, 42, 37, 43, 34, 40, 25, 16, 17, 17, 16, 23, 18, 18, 9, 7, 7, 4, 3, 2, 8, 3, 1, 1, 2, 3, 3, 2, 0, 0, 2, 2, 0, 6, 3, 6, 2, 3, 2, 4, 5, 2, 9, 2, 4, 8, 6, 3, 11, 14, 15, 20, 9, 20, 28, 38, 30, 30, 23, 16, 22, 28, 14, 17, 20, 17, 10, 13, 20, 9, 18, 9, 8, 19, 11, 4, 6, 6, 8, 13, 8, 8, 5, 16, 12, 11, 18, 10, 22, 14, 16, 18, 27, 38, 35, 41, 51, 65, 55, 54, 62, 64, 56, 65, 71, 75, 71, 72, 47, 27, 35, 25, 19, 37, 38, 34, 26, 19, 18, 22, 16, 18, 6, 12, 6, 6, 3, 7, 6, 1, 3, 2, 2, 1, 10, 3, 3, 1, 1, 2, 6, 3, 3, 5, 4, 7, 6, 5, 7, 6, 4, 4, 7, 9, 5, 5, 10, 6, 13, 6, 5, 5, 9, 3, 6, 11, 7, 7, 15, 9, 6, 6, 6, 7, 10, 8, 7, 12, 3, 2, 7, 5, 5, 7, 7, 7, 7, 10, 13, 10, 14, 11, 20, 25, 17, 18, 25, 21, 31, 32, 26, 35, 28, 37, 41, 34, 30, 39, 39, 39, 34, 30, 37, 29, 26, 15, 22, 15, 20, 14, 10, 21, 14, 14, 9, 11, 5, 6, 7, 11, 4, 3, 2, 6, 10, 7, 5, 3, 12, 13, 10, 13, 13, 8, 21, 18, 8, 7, 20, 14, 14, 7, 14, 10, 13, 27, 13, 18, 16, 16, 20, 17, 4, 15, 8, 6, 12, 15, 11, 10, 15, 17, 7, 7, 8, 9, 12, 12, 5, 4, 11, 4, 5, 7, 1, 1, 4, 2, 6, 3, 4, 10, 12, 21, 26, 21, 30, 45, 56, 75, 83, 82, 126, 119, 137, 131, 112, 82, 73, 43, 55, 55, 53, 46, 43, 29, 22, 26, 13, 17, 8, 13, 10, 17, 19, 9, 9, 9, 3, 7, 7, 0, 2, 3, 3, 1, 3, 3, 3, 7, 3, 5, 11, 5, 5, 6, 6, 4, 4, 8, 14, 12, 16, 10, 16, 18, 15, 23, 17, 33, 15, 13, 11, 14, 17, 19, 20, 12, 21, 7, 19, 10, 13, 10, 8, 21, 11, 9, 14, 14, 15, 18, 16, 12, 20, 8, 3, 13, 4, 1, 10, 8, 13, 10, 21, 18, 21, 34, 25, 34, 33, 40, 42, 36, 72, 75], \"yaxis\": \"y\"}, {\"line\": {\"color\": \"rgba(193,99,99,0.8)\"}, \"name\": \"gradientboosting_total\", \"showlegend\": true, \"type\": \"scatter\", \"x\": [\"1990-04-30\", \"1990-05-07\", \"1990-05-14\", \"1990-05-21\", \"1990-05-28\", \"1990-06-04\", \"1990-06-11\", \"1990-06-18\", \"1990-06-25\", \"1990-07-02\", \"1990-07-09\", \"1990-07-16\", \"1990-07-23\", \"1990-07-30\", \"1990-08-06\", \"1990-08-13\", \"1990-08-20\", \"1990-08-27\", \"1990-09-03\", \"1990-09-10\", \"1990-09-17\", \"1990-09-24\", \"1990-10-01\", \"1990-10-08\", \"1990-10-15\", \"1990-10-22\", \"1990-10-29\", \"1990-11-05\", \"1990-11-12\", \"1990-11-19\", \"1990-11-26\", \"1990-12-03\", \"1990-12-10\", \"1990-12-17\", \"1990-12-24\", \"1991-01-01\", \"1991-01-08\", \"1991-01-15\", \"1991-01-22\", \"1991-01-29\", \"1991-02-05\", \"1991-02-12\", \"1991-02-19\", \"1991-02-26\", \"1991-03-05\", \"1991-03-12\", \"1991-03-19\", \"1991-03-26\", \"1991-04-02\", \"1991-04-09\", \"1991-04-16\", \"1991-04-23\", \"1991-04-30\", \"1991-05-07\", \"1991-05-14\", \"1991-05-21\", \"1991-05-28\", \"1991-06-04\", \"1991-06-11\", \"1991-06-18\", \"1991-06-25\", \"1991-07-02\", \"1991-07-09\", \"1991-07-16\", \"1991-07-23\", \"1991-07-30\", \"1991-08-06\", \"1991-08-13\", \"1991-08-20\", \"1991-08-27\", \"1991-09-03\", \"1991-09-10\", \"1991-09-17\", \"1991-09-24\", \"1991-10-01\", \"1991-10-08\", \"1991-10-15\", \"1991-10-22\", \"1991-10-29\", \"1991-11-05\", \"1991-11-12\", \"1991-11-19\", \"1991-11-26\", \"1991-12-03\", \"1991-12-10\", \"1991-12-17\", \"1991-12-24\", \"1992-01-01\", \"1992-01-08\", \"1992-01-15\", \"1992-01-22\", \"1992-01-29\", \"1992-02-05\", \"1992-02-12\", \"1992-02-19\", \"1992-02-26\", \"1992-03-04\", \"1992-03-11\", \"1992-03-18\", \"1992-03-25\", \"1992-04-01\", \"1992-04-08\", \"1992-04-15\", \"1992-04-22\", \"1992-04-29\", \"1992-05-06\", \"1992-05-13\", \"1992-05-20\", \"1992-05-27\", \"1992-06-03\", \"1992-06-10\", \"1992-06-17\", \"1992-06-24\", \"1992-07-01\", \"1992-07-08\", \"1992-07-15\", \"1992-07-22\", \"1992-07-29\", \"1992-08-05\", \"1992-08-12\", \"1992-08-19\", \"1992-08-26\", \"1992-09-02\", \"1992-09-09\", \"1992-09-16\", \"1992-09-23\", \"1992-09-30\", \"1992-10-07\", \"1992-10-14\", \"1992-10-21\", \"1992-10-28\", \"1992-11-04\", \"1992-11-11\", \"1992-11-18\", \"1992-11-25\", \"1992-12-02\", \"1992-12-09\", \"1992-12-16\", \"1992-12-23\", \"1993-01-01\", \"1993-01-08\", \"1993-01-15\", \"1993-01-22\", \"1993-01-29\", \"1993-02-05\", \"1993-02-12\", \"1993-02-19\", \"1993-02-26\", \"1993-03-05\", \"1993-03-12\", \"1993-03-19\", \"1993-03-26\", \"1993-04-02\", \"1993-04-09\", \"1993-04-16\", \"1993-04-23\", \"1993-04-30\", \"1993-05-07\", \"1993-05-14\", \"1993-05-21\", \"1993-05-28\", \"1993-06-04\", \"1993-06-11\", \"1993-06-18\", \"1993-06-25\", \"1993-07-02\", \"1993-07-09\", \"1993-07-16\", \"1993-07-23\", \"1993-07-30\", \"1993-08-06\", \"1993-08-13\", \"1993-08-20\", \"1993-08-27\", \"1993-09-03\", \"1993-09-10\", \"1993-09-17\", \"1993-09-24\", \"1993-10-01\", \"1993-10-08\", \"1993-10-15\", \"1993-10-22\", \"1993-10-29\", \"1993-11-05\", \"1993-11-12\", \"1993-11-19\", \"1993-11-26\", \"1993-12-03\", \"1993-12-10\", \"1993-12-17\", \"1993-12-24\", \"1994-01-01\", \"1994-01-08\", \"1994-01-15\", \"1994-01-22\", \"1994-01-29\", \"1994-02-05\", \"1994-02-12\", \"1994-02-19\", \"1994-02-26\", \"1994-03-05\", \"1994-03-12\", \"1994-03-19\", \"1994-03-26\", \"1994-04-02\", \"1994-04-09\", \"1994-04-16\", \"1994-04-23\", \"1994-04-30\", \"1994-05-07\", \"1994-05-14\", \"1994-05-21\", \"1994-05-28\", \"1994-06-04\", \"1994-06-11\", \"1994-06-18\", \"1994-06-25\", \"1994-07-02\", \"1994-07-09\", \"1994-07-16\", \"1994-07-23\", \"1994-07-30\", \"1994-08-06\", \"1994-08-13\", \"1994-08-20\", \"1994-08-27\", \"1994-09-03\", \"1994-09-10\", \"1994-09-17\", \"1994-09-24\", \"1994-10-01\", \"1994-10-08\", \"1994-10-15\", \"1994-10-22\", \"1994-10-29\", \"1994-11-05\", \"1994-11-12\", \"1994-11-19\", \"1994-11-26\", \"1994-12-03\", \"1994-12-10\", \"1994-12-17\", \"1994-12-24\", \"1995-01-01\", \"1995-01-08\", \"1995-01-15\", \"1995-01-22\", \"1995-01-29\", \"1995-02-05\", \"1995-02-12\", \"1995-02-19\", \"1995-02-26\", \"1995-03-05\", \"1995-03-12\", \"1995-03-19\", \"1995-03-26\", \"1995-04-02\", \"1995-04-09\", \"1995-04-16\", \"1995-04-23\", \"1995-04-30\", \"1995-05-07\", \"1995-05-14\", \"1995-05-21\", \"1995-05-28\", \"1995-06-04\", \"1995-06-11\", \"1995-06-18\", \"1995-06-25\", \"1995-07-02\", \"1995-07-09\", \"1995-07-16\", \"1995-07-23\", \"1995-07-30\", \"1995-08-06\", \"1995-08-13\", \"1995-08-20\", \"1995-08-27\", \"1995-09-03\", \"1995-09-10\", \"1995-09-17\", \"1995-09-24\", \"1995-10-01\", \"1995-10-08\", \"1995-10-15\", \"1995-10-22\", \"1995-10-29\", \"1995-11-05\", \"1995-11-12\", \"1995-11-19\", \"1995-11-26\", \"1995-12-03\", \"1995-12-10\", \"1995-12-17\", \"1995-12-24\", \"1996-01-01\", \"1996-01-08\", \"1996-01-15\", \"1996-01-22\", \"1996-01-29\", \"1996-02-05\", \"1996-02-12\", \"1996-02-19\", \"1996-02-26\", \"1996-03-04\", \"1996-03-11\", \"1996-03-18\", \"1996-03-25\", \"1996-04-01\", \"1996-04-08\", \"1996-04-15\", \"1996-04-22\", \"1996-04-29\", \"1996-05-06\", \"1996-05-13\", \"1996-05-20\", \"1996-05-27\", \"1996-06-03\", \"1996-06-10\", \"1996-06-17\", \"1996-06-24\", \"1996-07-01\", \"1996-07-08\", \"1996-07-15\", \"1996-07-22\", \"1996-07-29\", \"1996-08-05\", \"1996-08-12\", \"1996-08-19\", \"1996-08-26\", \"1996-09-02\", \"1996-09-09\", \"1996-09-16\", \"1996-09-23\", \"1996-09-30\", \"1996-10-07\", \"1996-10-14\", \"1996-10-21\", \"1996-10-28\", \"1996-11-04\", \"1996-11-11\", \"1996-11-18\", \"1996-11-25\", \"1996-12-02\", \"1996-12-09\", \"1996-12-16\", \"1996-12-23\", \"1997-01-01\", \"1997-01-08\", \"1997-01-15\", \"1997-01-22\", \"1997-01-29\", \"1997-02-05\", \"1997-02-12\", \"1997-02-19\", \"1997-02-26\", \"1997-03-05\", \"1997-03-12\", \"1997-03-19\", \"1997-03-26\", \"1997-04-02\", \"1997-04-09\", \"1997-04-16\", \"1997-04-23\", \"1997-04-30\", \"1997-05-07\", \"1997-05-14\", \"1997-05-21\", \"1997-05-28\", \"1997-06-04\", \"1997-06-11\", \"1997-06-18\", \"1997-06-25\", \"1997-07-02\", \"1997-07-09\", \"1997-07-16\", \"1997-07-23\", \"1997-07-30\", \"1997-08-06\", \"1997-08-13\", \"1997-08-20\", \"1997-08-27\", \"1997-09-03\", \"1997-09-10\", \"1997-09-17\", \"1997-09-24\", \"1997-10-01\", \"1997-10-08\", \"1997-10-15\", \"1997-10-22\", \"1997-10-29\", \"1997-11-05\", \"1997-11-12\", \"1997-11-19\", \"1997-11-26\", \"1997-12-03\", \"1997-12-10\", \"1997-12-17\", \"1997-12-24\", \"1998-01-01\", \"1998-01-08\", \"1998-01-15\", \"1998-01-22\", \"1998-01-29\", \"1998-02-05\", \"1998-02-12\", \"1998-02-19\", \"1998-02-26\", \"1998-03-05\", \"1998-03-12\", \"1998-03-19\", \"1998-03-26\", \"1998-04-02\", \"1998-04-09\", \"1998-04-16\", \"1998-04-23\", \"1998-04-30\", \"1998-05-07\", \"1998-05-14\", \"1998-05-21\", \"1998-05-28\", \"1998-06-04\", \"1998-06-11\", \"1998-06-18\", \"1998-06-25\", \"1998-07-02\", \"1998-07-09\", \"1998-07-16\", \"1998-07-23\", \"1998-07-30\", \"1998-08-06\", \"1998-08-13\", \"1998-08-20\", \"1998-08-27\", \"1998-09-03\", \"1998-09-10\", \"1998-09-17\", \"1998-09-24\", \"1998-10-01\", \"1998-10-08\", \"1998-10-15\", \"1998-10-22\", \"1998-10-29\", \"1998-11-05\", \"1998-11-12\", \"1998-11-19\", \"1998-11-26\", \"1998-12-03\", \"1998-12-10\", \"1998-12-17\", \"1998-12-24\", \"1999-01-01\", \"1999-01-08\", \"1999-01-15\", \"1999-01-22\", \"1999-01-29\", \"1999-02-05\", \"1999-02-12\", \"1999-02-19\", \"1999-02-26\", \"1999-03-05\", \"1999-03-12\", \"1999-03-19\", \"1999-03-26\", \"1999-04-02\", \"1999-04-09\", \"1999-04-16\", \"1999-04-23\", \"1999-04-30\", \"1999-05-07\", \"1999-05-14\", \"1999-05-21\", \"1999-05-28\", \"1999-06-04\", \"1999-06-11\", \"1999-06-18\", \"1999-06-25\", \"1999-07-02\", \"1999-07-09\", \"1999-07-16\", \"1999-07-23\", \"1999-07-30\", \"1999-08-06\", \"1999-08-13\", \"1999-08-20\", \"1999-08-27\", \"1999-09-03\", \"1999-09-10\", \"1999-09-17\", \"1999-09-24\", \"1999-10-01\", \"1999-10-08\", \"1999-10-15\", \"1999-10-22\", \"1999-10-29\", \"1999-11-05\", \"1999-11-12\", \"1999-11-19\", \"1999-11-26\", \"1999-12-03\", \"1999-12-10\", \"1999-12-17\", \"1999-12-24\", \"2000-01-01\", \"2000-01-08\", \"2000-01-15\", \"2000-01-22\", \"2000-01-29\", \"2000-02-05\", \"2000-02-12\", \"2000-02-19\", \"2000-02-26\", \"2000-03-04\", \"2000-03-11\", \"2000-03-18\", \"2000-03-25\", \"2000-04-01\", \"2000-04-08\", \"2000-04-15\", \"2000-04-22\", \"2000-04-29\", \"2000-05-06\", \"2000-05-13\", \"2000-05-20\", \"2000-05-27\", \"2000-06-03\", \"2000-06-10\", \"2000-06-17\", \"2000-06-24\", \"2000-07-01\", \"2000-07-08\", \"2000-07-15\", \"2000-07-22\", \"2000-07-29\", \"2000-08-05\", \"2000-08-12\", \"2000-08-19\", \"2000-08-26\", \"2000-09-02\", \"2000-09-09\", \"2000-09-16\", \"2000-09-23\", \"2000-09-30\", \"2000-10-07\", \"2000-10-14\", \"2000-10-21\", \"2000-10-28\", \"2000-11-04\", \"2000-11-11\", \"2000-11-18\", \"2000-11-25\", \"2000-12-02\", \"2000-12-09\", \"2000-12-16\", \"2000-12-23\", \"2001-01-01\", \"2001-01-08\", \"2001-01-15\", \"2001-01-22\", \"2001-01-29\", \"2001-02-05\", \"2001-02-12\", \"2001-02-19\", \"2001-02-26\", \"2001-03-05\", \"2001-03-12\", \"2001-03-19\", \"2001-03-26\", \"2001-04-02\", \"2001-04-09\", \"2001-04-16\", \"2001-04-23\", \"2001-04-30\", \"2001-05-07\", \"2001-05-14\", \"2001-05-21\", \"2001-05-28\", \"2001-06-04\", \"2001-06-11\", \"2001-06-18\", \"2001-06-25\", \"2001-07-02\", \"2001-07-09\", \"2001-07-16\", \"2001-07-23\", \"2001-07-30\", \"2001-08-06\", \"2001-08-13\", \"2001-08-20\", \"2001-08-27\", \"2001-09-03\", \"2001-09-10\", \"2001-09-17\", \"2001-09-24\", \"2001-10-01\", \"2001-10-08\", \"2001-10-15\", \"2001-10-22\", \"2001-10-29\", \"2001-11-05\", \"2001-11-12\", \"2001-11-19\", \"2001-11-26\", \"2001-12-03\", \"2001-12-10\", \"2001-12-17\", \"2001-12-24\", \"2002-01-01\", \"2002-01-08\", \"2002-01-15\", \"2002-01-22\", \"2002-01-29\", \"2002-02-05\", \"2002-02-12\", \"2002-02-19\", \"2002-02-26\", \"2002-03-05\", \"2002-03-12\", \"2002-03-19\", \"2002-03-26\", \"2002-04-02\", \"2002-04-09\", \"2002-04-16\", \"2002-04-23\", \"2002-04-30\", \"2002-05-07\", \"2002-05-14\", \"2002-05-21\", \"2002-05-28\", \"2002-06-04\", \"2002-06-11\", \"2002-06-18\", \"2002-06-25\", \"2002-07-02\", \"2002-07-09\", \"2002-07-16\", \"2002-07-23\", \"2002-07-30\", \"2002-08-06\", \"2002-08-13\", \"2002-08-20\", \"2002-08-27\", \"2002-09-03\", \"2002-09-10\", \"2002-09-17\", \"2002-09-24\", \"2002-10-01\", \"2002-10-08\", \"2002-10-15\", \"2002-10-22\", \"2002-10-29\", \"2002-11-05\", \"2002-11-12\", \"2002-11-19\", \"2002-11-26\", \"2002-12-03\", \"2002-12-10\", \"2002-12-17\", \"2002-12-24\", \"2003-01-01\", \"2003-01-08\", \"2003-01-15\", \"2003-01-22\", \"2003-01-29\", \"2003-02-05\", \"2003-02-12\", \"2003-02-19\", \"2003-02-26\", \"2003-03-05\", \"2003-03-12\", \"2003-03-19\", \"2003-03-26\", \"2003-04-02\", \"2003-04-09\", \"2003-04-16\", \"2003-04-23\", \"2003-04-30\", \"2003-05-07\", \"2003-05-14\", \"2003-05-21\", \"2003-05-28\", \"2003-06-04\", \"2003-06-11\", \"2003-06-18\", \"2003-06-25\", \"2003-07-02\", \"2003-07-09\", \"2003-07-16\", \"2003-07-23\", \"2003-07-30\", \"2003-08-06\", \"2003-08-13\", \"2003-08-20\", \"2003-08-27\", \"2003-09-03\", \"2003-09-10\", \"2003-09-17\", \"2003-09-24\", \"2003-10-01\", \"2003-10-08\", \"2003-10-15\", \"2003-10-22\", \"2003-10-29\", \"2003-11-05\", \"2003-11-12\", \"2003-11-19\", \"2003-11-26\", \"2003-12-03\", \"2003-12-10\", \"2003-12-17\", \"2003-12-24\", \"2004-01-01\", \"2004-01-08\", \"2004-01-15\", \"2004-01-22\", \"2004-01-29\", \"2004-02-05\", \"2004-02-12\", \"2004-02-19\", \"2004-02-26\", \"2004-03-04\", \"2004-03-11\", \"2004-03-18\", \"2004-03-25\", \"2004-04-01\", \"2004-04-08\", \"2004-04-15\", \"2004-04-22\", \"2004-04-29\", \"2004-05-06\", \"2004-05-13\", \"2004-05-20\", \"2004-05-27\", \"2004-06-03\", \"2004-06-10\", \"2004-06-17\", \"2004-06-24\", \"2004-07-01\", \"2004-07-08\", \"2004-07-15\", \"2004-07-22\", \"2004-07-29\", \"2004-08-05\", \"2004-08-12\", \"2004-08-19\", \"2004-08-26\", \"2004-09-02\", \"2004-09-09\", \"2004-09-16\", \"2004-09-23\", \"2004-09-30\", \"2004-10-07\", \"2004-10-14\", \"2004-10-21\", \"2004-10-28\", \"2004-11-04\", \"2004-11-11\", \"2004-11-18\", \"2004-11-25\", \"2004-12-02\", \"2004-12-09\", \"2004-12-16\", \"2004-12-23\", \"2005-01-01\", \"2005-01-08\", \"2005-01-15\", \"2005-01-22\", \"2005-01-29\", \"2005-02-05\", \"2005-02-12\", \"2005-02-19\", \"2005-02-26\", \"2005-03-05\", \"2005-03-12\", \"2005-03-19\", \"2005-03-26\", \"2005-04-02\", \"2005-04-09\", \"2005-04-16\", \"2005-04-23\", \"2005-04-30\", \"2005-05-07\", \"2005-05-14\", \"2005-05-21\", \"2005-05-28\", \"2005-06-04\", \"2005-06-11\", \"2005-06-18\", \"2005-06-25\", \"2005-07-02\", \"2005-07-09\", \"2005-07-16\", \"2005-07-23\", \"2005-07-30\", \"2005-08-06\", \"2005-08-13\", \"2005-08-20\", \"2005-08-27\", \"2005-09-03\", \"2005-09-10\", \"2005-09-17\", \"2005-09-24\", \"2005-10-01\", \"2005-10-08\", \"2005-10-15\", \"2005-10-22\", \"2005-10-29\", \"2005-11-05\", \"2005-11-12\", \"2005-11-19\", \"2005-11-26\", \"2005-12-03\", \"2005-12-10\", \"2005-12-17\", \"2005-12-24\", \"2006-01-01\", \"2006-01-08\", \"2006-01-15\", \"2006-01-22\", \"2006-01-29\", \"2006-02-05\", \"2006-02-12\", \"2006-02-19\", \"2006-02-26\", \"2006-03-05\", \"2006-03-12\", \"2006-03-19\", \"2006-03-26\", \"2006-04-02\", \"2006-04-09\", \"2006-04-16\", \"2006-04-23\", \"2006-04-30\", \"2006-05-07\", \"2006-05-14\", \"2006-05-21\", \"2006-05-28\", \"2006-06-04\", \"2006-06-11\", \"2006-06-18\", \"2006-06-25\", \"2006-07-02\", \"2006-07-09\", \"2006-07-16\", \"2006-07-23\", \"2006-07-30\", \"2006-08-06\", \"2006-08-13\", \"2006-08-20\", \"2006-08-27\", \"2006-09-03\", \"2006-09-10\", \"2006-09-17\", \"2006-09-24\", \"2006-10-01\", \"2006-10-08\", \"2006-10-15\", \"2006-10-22\", \"2006-10-29\", \"2006-11-05\", \"2006-11-12\", \"2006-11-19\", \"2006-11-26\", \"2006-12-03\", \"2006-12-10\", \"2006-12-17\", \"2006-12-24\", \"2007-01-01\", \"2007-01-08\", \"2007-01-15\", \"2007-01-22\", \"2007-01-29\", \"2007-02-05\", \"2007-02-12\", \"2007-02-19\", \"2007-02-26\", \"2007-03-05\", \"2007-03-12\", \"2007-03-19\", \"2007-03-26\", \"2007-04-02\", \"2007-04-09\", \"2007-04-16\", \"2007-04-23\", \"2007-04-30\", \"2007-05-07\", \"2007-05-14\", \"2007-05-21\", \"2007-05-28\", \"2007-06-04\", \"2007-06-11\", \"2007-06-18\", \"2007-06-25\", \"2007-07-02\", \"2007-07-09\", \"2007-07-16\", \"2007-07-23\", \"2007-07-30\", \"2007-08-06\", \"2007-08-13\"], \"xaxis\": \"x\", \"y\": [10.523794340170696, 14.70438036804534, 16.165249429141827, 14.658975407233303, 17.93948822497325, 14.875024480582558, 16.907707208267738, 11.260861421569274, 18.792852076089435, 16.639364286781923, 20.84251133634562, 12.783408075176892, 24.104829694389274, 23.521105801481536, 37.89705547987959, 40.07190262133075, 26.693330277357752, 30.64360556718712, 36.13337610526195, 44.31761187360743, 42.6025235971488, 42.14311296264877, 45.988994580545636, 52.52769304547014, 48.29356922954556, 52.42971894370804, 51.31618521667374, 50.226591363115645, 49.33491597074276, 51.66049514888052, 54.94979142237602, 48.06456606711098, 45.696644632595564, 30.21241503848856, 30.495329514580053, 28.623837063100435, 20.51238708451121, 25.71030710673311, 25.802393863984673, 27.77962156949859, 18.21360769533409, 18.710715678699664, 19.862727830530233, 23.86886890100972, 19.377658868674747, 14.766282848062039, 16.774139499574098, 11.365298940706321, 14.14227340593389, 11.894122140961974, 17.14226805237391, 17.859071846063607, 16.904688474887514, 12.294481983425584, 16.049533719713942, 23.978124430969636, 17.955825745415805, 16.47707102820545, 21.418816328746747, 20.579081804980397, 22.41862271642036, 20.54629724091822, 22.605500932093978, 22.678760312100135, 23.188275147359626, 32.37848929408893, 42.75930094294513, 58.66024322643745, 43.3950747966186, 40.782852869421326, 37.74405813397209, 55.53351473829314, 53.03773480655979, 57.1281349547217, 71.69142574783054, 62.20249854683204, 100.77357979385846, 54.0375052559478, 67.81249322081268, 79.89869844518476, 70.8351229486878, 46.46951983112495, 69.92120240923867, 55.640437173009815, 58.250144464320805, 46.06603115017553, 47.00242769610307, 65.35318038208041, 72.22577762599026, 45.6157586839826, 34.61897641657397, 29.15791399190252, 33.30305855360011, 41.97218192667221, 24.341226124421546, 17.140238025388538, 23.73026928267969, 17.0769284161073, 16.693234945797098, 15.771316606037253, 11.5554995720606, 14.193595703966952, 18.476388241061088, 16.55693092729152, 11.623805118475307, 14.610318674034932, 21.391005087443858, 17.077162207053302, 19.46806852803563, 16.476005554704603, 21.29520835904447, 19.359467834297423, 22.107202017617592, 22.312261651613877, 26.821287575601627, 20.65118396610635, 28.04065919135219, 33.99470052133484, 34.58613748328341, 44.88613889293844, 42.02763375999583, 48.14258676673364, 49.921239605190706, 48.816088876272666, 45.306917198522896, 54.58132457281605, 47.14545728785085, 59.05957667655234, 60.32715256151293, 40.171008446761334, 48.9728213064778, 45.672483814659564, 43.49651603065583, 53.523907819145364, 55.976470868468866, 54.65216599986821, 52.86479983307449, 35.316453914371905, 34.165642148474696, 35.769541611965884, 33.32856521617472, 30.281790480170514, 32.71677516564344, 32.33088060132596, 31.114993286964616, 23.996907315372503, 20.14460817022766, 16.638786759815698, 18.920370091889165, 17.020608964278914, 10.636734645593094, 16.874242048343728, 19.59348851973554, 16.190727187464912, 9.049564450744938, 19.044380860170286, 14.742059624448139, 17.682545943166254, 16.194943355000238, 25.961084721642774, 14.87766265563895, 18.05496776323333, 19.74355548796019, 18.773758509135504, 22.343144311466705, 21.343040498173444, 25.105150970015917, 16.54385846741814, 22.310112410893034, 25.086791008124756, 24.482707240067146, 33.424172785848484, 37.40352261718244, 40.16717906936082, 42.677546058100255, 39.50698335103635, 41.52106215771046, 41.72726076891824, 45.808526947546724, 48.76116869007476, 50.033780696769675, 54.584742936891345, 44.441222263717115, 49.539303100829436, 43.13719134494893, 49.86403446476177, 51.870319699835925, 48.07794744367291, 31.86483484615733, 30.100595647712684, 30.821880866771064, 30.415826613559172, 28.36869830715081, 29.043628249095946, 34.60516296656788, 29.698718113223592, 29.83491595066473, 25.776362066765774, 21.254927892684574, 25.866597889179914, 20.524485134359026, 16.900200741008582, 11.969626966043556, 15.75754712731588, 14.713593192782731, 16.524812510251476, 18.020361789163378, 12.96422465957999, 9.489251519027974, 16.853093141918094, 20.544608284766444, 18.348502834054084, 16.75266567370005, 20.62883286802056, 16.985010850757902, 20.837175802388188, 24.462041621098038, 18.679407692163828, 24.32603734847815, 29.738304449183214, 32.749263756477745, 50.28827775328532, 48.290408356398636, 51.84500640762522, 53.518924461609615, 57.67363757798894, 132.52507621485557, 147.53098049457503, 313.25210195192227, 306.12745984304325, 339.8337583154219, 396.35210447569915, 420.90663910972927, 361.1543607189908, 321.96254770072807, 325.5706124663996, 314.28216519866874, 319.8278527119536, 347.03451230683726, 288.40804156660516, 223.03760718588018, 167.9797656497455, 163.4732715586737, 177.271079538761, 56.17316987398174, 40.24652628016782, 30.82154593163704, 32.64194504794308, 31.361864448911092, 24.61699380660973, 22.502909375139367, 24.099835375845707, 24.49380868890276, 22.804263005335713, 18.476658017637003, 18.383759023471804, 10.552500613588755, 12.138824178554021, 15.297960633168245, 8.327034801535028, 13.092628369489232, 12.852292133152723, 11.010341656038367, 9.772092421147496, 14.77432312187878, 15.646449703559533, 16.935732690934564, 15.734072191073594, 17.007923973348905, 5.588878753404992, 16.01346655670337, 22.633325400975348, 18.43817250686845, 34.517467894623444, 43.40305207761821, 34.21018067128518, 43.91081832496798, 34.07062552081303, 44.064500421678645, 44.40951577550627, 51.37803118547432, 39.79565100980703, 44.82823453764514, 40.52304069371971, 49.70964615999235, 52.29921869448, 49.60768866057518, 49.370702294508895, 43.51248543610924, 48.67228172060317, 43.670244478120935, 49.631063060943276, 44.409231532476966, 35.50376213068807, 31.756384384860855, 24.421399727778386, 33.95579656435827, 42.05543807069552, 29.42629398815658, 29.067099267624933, 25.187660202941807, 24.275955479448385, 22.016589396611423, 21.071188627165434, 18.133585664631664, 17.02510853166592, 15.923619510835971, 12.034817697379001, 9.182900597458582, 16.941336095236423, 19.21898185103973, 13.2967460321929, 14.0093899807362, 10.407628611974339, 15.952006382246827, 13.981924120135517, 15.105243395693122, 19.106907800841906, 16.093618976021165, 20.138165037586145, 15.374430440921756, 20.30053649153885, 20.16590261874398, 20.464750077474182, 23.030781493698175, 19.968122882797555, 33.94745054556964, 30.335394752086874, 36.495977570977686, 30.707349903498596, 30.185040679470216, 38.033095157725725, 30.157329268645988, 45.50424495689491, 44.954481450942914, 26.733630705757125, 43.99618644758087, 39.14516304847211, 39.36423470447007, 33.14642368904863, 42.067018976379885, 32.21769168571242, 31.707960644624816, 17.0204935812674, 43.29051160274137, 33.58475675140158, 33.24478456796951, 37.63409430815998, 28.959155283616507, 29.137857754503933, 27.66767423183956, 29.64351026842194, 22.993588854405843, 22.835811385803392, 23.26200208060322, 20.365707319377577, 10.678685962898273, 16.500026331399543, 12.766722343876763, 12.77777025588212, 15.364414407840965, 17.3871632304918, 13.54617014645768, 10.435713276082911, 8.479304831222152, 12.512431064019221, 13.66795228844838, 16.82990328746642, 13.672406095887062, 19.13967333708976, 17.656855179125362, 24.32066124377564, 18.61644509658904, 22.250468355661173, 18.382249439439693, 12.029461716035375, 19.75563086119763, 20.039860392803096, 38.86075038181614, 32.668511152719596, 35.44155279573628, 31.81125254529716, 36.42996690328592, 73.61675362429811, 43.43755536074726, 45.89598635796266, 44.76156614465616, 39.44784120527788, 61.16128706680112, 53.80300796305833, 76.74221675866399, 48.7752393244039, 48.92559794067945, 47.76420612229206, 49.94970418038894, 48.774450416341296, 34.45852310952317, 35.43922142892715, 51.476763525483705, 49.46355257444577, 43.385169931059046, 36.704585681999546, 31.651460273878495, 35.17769114712645, 18.89091557012332, 27.698259257781384, 23.1036851710982, 20.59114685157282, 21.431965817283167, 20.32150615976128, 12.767524084850923, 14.400548711665245, 11.027550819448743, 15.086811363210339, 18.847333521543558, 16.47441318290964, 25.62529625032139, 16.041680254961275, 28.761142801696142, 34.48762783671454, 42.63560110880901, 20.69393034628155, 36.24395609909872, 28.256888662411544, 47.033165976549164, 87.68981879189639, 60.91829750255228, 44.371735487519565, 99.85903786546736, 180.22117311194214, 191.6126187483743, 234.59501727475242, 199.985623648619, 184.50015266873896, 131.7191324828575, 63.01093280691979, 56.126445586569105, 56.79311819966537, 49.731733399968206, 88.21008626793463, 43.76493562050964, 57.4589643112993, 49.77727362725499, 46.17717799982626, 41.43738983342071, 59.0399115951271, 53.17298487315938, 48.12816026472816, 56.53963861547292, 42.771739106969406, 39.88907613704835, 31.598169425033863, 40.67643617318242, 40.81121803131235, 36.37780968387606, 33.67730280555822, 30.02904051751298, 26.55475695956579, 20.224990116505385, 20.411913754432227, 14.3349490557347, 15.69415250223123, 3.48309656436207, 12.485097521120705, 17.650553511209417, 5.408790037031384, 10.126573277319258, 13.592478036493226, 11.73216422068744, 23.728898690768492, 13.259685915978288, 14.123968076445763, 22.04421696650382, 12.442403853965473, 11.894338738960464, 12.600188693555392, 13.945986690643647, 13.299536464827186, 15.048236341603616, 20.12598961324576, 22.771803184097337, 21.53572001371272, 40.24368369289119, 35.89903043309417, 43.64545821080577, 32.48683237781964, 27.334880251924822, 35.79290882376469, 48.595629974858184, 37.474302021873, 48.70299259905631, 32.180707861467525, 33.32232110800605, 34.85464335114237, 52.20901530853405, 45.811309478581364, 43.03545508759208, 41.41047767378942, 35.280913858549816, 45.073192716907066, 35.40895930246638, 25.138115382356784, 23.2893198048747, 24.136503123587445, 22.911773673625, 18.846088187181252, 17.720212357481532, 18.86426593335752, 22.1293158356671, 22.968089085280724, 23.530790157023308, 22.110263797879917, 13.75126929818039, 14.740779039387471, 15.054577625995792, 18.59567975061376, 11.594978529570934, 13.44040186097725, 15.854556385723487, 9.652020615557081, 12.9204047475883, 13.586543535966733, 16.977686981722808, 14.08953404274838, 13.49329527913826, 12.802846910485005, 13.907663563185176, 11.040870497265889, 12.356938009851527, 18.37300672639331, 14.660553710764635, 20.257223290761935, 14.548880971295523, 27.124330916525356, 26.059159981287877, 27.255212732611493, 28.035893009106367, 32.92337562395019, 26.549889782726964, 29.540014007240174, 23.981893080403964, 30.770444495832393, 20.573136504536667, 27.60561903751331, 24.743211230360988, 40.918364728185644, 35.47367347156423, 34.04820397063669, 35.924484819725, 38.678551827797975, 36.43770948614413, 45.35935472453726, 41.89778517892263, 33.82451896297043, 32.85922868208061, 24.065717131333788, 25.129351945600884, 25.06246529077455, 26.786626172788385, 20.341456542152443, 20.532830804247695, 18.467063476133735, 23.30956644568289, 10.26142054130331, 23.435973151582807, 15.739858750845176, 13.18645376921789, 13.087708500967375, 12.031305100666746, 12.637709262872203, 13.167613851599764, 14.754790808954137, 8.842743081015119, 14.135823827475184, 12.50051525311318, 17.229430929534274, 13.96597388233539, 14.236384393568269, 3.032146917582454, 11.383579972593795, 14.391350345762774, 13.016970637074781, 7.973757635531942, 22.646282809780114, 20.264058975935768, 28.536738089511857, 28.03395023846186, 53.93593181082271, 49.709245760164684, 38.86002321200218, 32.672168397910696, 40.15029893544507, 44.11742460307779, 42.69177632943615, 48.899077370265886, 46.08987228574096, 49.9460610656044, 47.48278075389432, 49.70915357089737, 45.43662990857916, 65.64777107700166, 51.105380595146706, 48.16369132106136, 27.799866769786885, 42.22336755011302, 28.543210035845064, 29.432464064339733, 35.0574130455667, 30.962734686911578, 28.492147736680046, 32.46109254444544, 27.490097989510506, 22.033759851230695, 19.55793728599081, 19.56824465662319, 18.00489827975731, 13.008577743733696, 15.209058144412285, 9.19991513085871, 10.23602345411912, 7.013522703066285, 10.809207950514827, 8.116743176618277, 9.198494277012763, 12.945390076482967, 7.4747517990305665, 11.686059830251057, 14.069566410007866, 18.425049251161536, 15.603363409017863, 16.569949201546397, 12.269853550620988, 11.05605828230659, 10.695149361911772, 5.262164373137759, 12.446946683339016, 11.285503445263215, 36.25275558746638, 31.578627034515932, 25.76544235542567, 21.626993554946544, 27.96734329448194, 26.331944526320353, 26.892223588551996, 26.915011885841928, 32.0297216335209, 25.67865846404095, 24.77474976811498, 26.119622844658405, 20.649303322396563, 26.19536964557424, 24.15757474532898, 28.354090429570075, 24.093314408341136, 23.26146433489183, 10.346352450067423, 22.50342406091239, 23.017917453415812, 30.771420508105056, 25.42329040326766, 24.56736676425029, 23.531935286753633, 30.65343245576315, 24.76821019588622, 22.001361107725575, 17.827260131972967, 15.307819439122264, 18.207278346073526, 3.4969539347073475, 15.039264427177427, 9.942935157714006, 7.0581085796428615, 10.98435641200382, 12.23892228096815, 7.811396373173641, 5.943515556020777, 9.685508341482814, 7.478963745350817, 9.776340979219313, 13.535151515370899, 8.64280480842033, 15.20401764849255, 17.920822794860882, 13.243083889334644, 12.67374154812391, 12.543339630388898, 23.186540290503896, 11.205866786027725, 22.568973163755544, 24.924167966974007, 38.441197318154146, 28.612152264438386, 34.633142551873824, 29.342694096417908, 34.336097858936206, 32.01440724263561, 32.32990426522348, 41.77115511635344, 47.45892697924458, 40.02395815345451, 38.136859795082074, 43.482421556095545, 31.277665800828412, 48.266880797650586, 41.79464429350109, 25.459264050695815, 31.26377836131544, 40.3810503149543, 24.007570229996062, 23.059349946143392, 30.579265617581147, 17.44873209981787, 22.349960193323323, 17.201044190800257, 15.51212536289348, 17.261000039479452, 14.238955051952257, 16.307679382830386, 12.044870595709721, 20.176628578535293, 11.825828757205546, 15.349177636594659, 9.846700108563244, 13.4821604509802, 11.897804241762795, 7.153019997176889, 4.858289223559588, 1.9861964628659299, 3.9195301872247503, 8.748542963616856, 9.149861311076819, 11.299868852397495, 8.537798354021708, 9.232816727716214, 14.762309724090878, 9.401128203724587, 9.750942646490909, 1.5931905116768836, 6.587363789863163, 7.186894763091608, 22.448644834192063, 16.583188114609655, 30.251205307382573, 40.09959878548697, 38.57992634185199, 26.4292985165225, 39.814637205364455, 32.19125867486377, 34.01433081481289, 39.43736912649843, 29.698598400783045, 28.309187034368243, 41.95621605521919, 34.776498715221294, 44.4923146151232, 39.977470095352544, 32.93498359335091, 29.76197414098349, 18.926178947729156, 18.701840984455053, 26.496415081476023, 25.021177277638408, 25.99805210485033, 15.995533559853904, 19.04112145987798, 22.28737915906504, 16.755185651895687, 20.57718531123266, 19.292338827787123, 10.104726191502314, 21.128597608506723, 14.310478954000041, 12.019064862391797, 13.754419227908425, 11.916196173451288, 9.730002816007252, 11.219912579226405, 11.02752465953806, 6.217770253196974, 7.524942454927397, 5.205453137563127, 3.3609489996318285, 12.39542984002772, 11.518593779432296, 16.11149693959708, 22.605730741138466, 17.06222942586093, 5.332327670034364, 32.502430930046785, 21.62869250838117, 32.79883244061057, 35.47515170248357, 39.94658971137515, 70.7998460258199, 53.31197666009525, 64.29743918524606, 98.4025227331013, 89.23904860707664, 108.46041176736898, 105.50189702152821, 124.89404920869924, 77.66249790713682, 54.26747735166258, 45.598230572784225, 37.84891005618946, 52.39780616988057, 72.979169584416, 32.050981961364194, 38.66165133127833, 39.91924304244305, 43.61993314467188, 41.75958557764988, 30.334526657512946, 27.280987655120803, 37.7666441146579, 23.87222115938242, 28.712190897038568, 18.84119695314231, 20.985625320462002, 15.5795107137164, 27.53312741712133, 10.665761404240312, 12.787263274539722, 17.547743982258293, 8.107467342671116, 11.870918882116076, 9.408358311039867, 11.148589905741202, 15.26531889890611, 8.77175396843896, 6.555049868582433, 12.30386703502298, 8.680823582801233, 10.524181360306772, 9.933723320635, 16.435175521956356, 9.723261447120704, 10.613062708932537, 11.934537374445213, 9.366089940310102, 11.008347566168105, 30.741180105479533, 12.661530214931954, 13.874843380680389, 8.171350532193149, 12.955994977932482, 30.477847434756775, 23.92490890790139, 19.090463822988685, 29.166527675966222, 44.27131232770159, 31.301328605005164, 33.03602329084748, 30.90110424862907, 27.88570122941802, 36.246044987814614, 19.646913775201117, 33.73478486979823, 30.696963044185555, 45.52581612452061, 19.11676957167299, 17.194566829130743, 41.75104562038197, 28.721178046267003, 34.33864242148464, 29.375232902821026, 30.250981638137425, 17.244600561097958, 22.514748072690065, 19.90595725067211, 24.145469844199244, 18.860913596381728, 14.675118129076004, 12.552856336671455, 21.395824402615744, 17.407782966913118, 16.21009092630734, 11.886953792632392, 11.205919782737633, 14.063351782704872, 9.887047642039635, 7.595643827452416, 14.661625071016395, 12.11410054724344, 11.08398132730654, 8.035914890841958, 9.169740172025534, 8.585816134349999, 23.845004371828978, 12.16142190940926, 15.267114538108533, 27.78950319297596, 31.98337600493173, 14.640423316213909, 25.505105381538925, 24.55475788432573, 24.43606330572013, 29.337826793391287, 59.31349349631318, 50.374351080350614], \"yaxis\": \"y\"}],\n",
              "                        {\"autosize\": false, \"height\": 600, \"template\": {\"data\": {\"bar\": [{\"error_x\": {\"color\": \"#2a3f5f\"}, \"error_y\": {\"color\": \"#2a3f5f\"}, \"marker\": {\"line\": {\"color\": \"#E5ECF6\", \"width\": 0.5}}, \"type\": \"bar\"}], \"barpolar\": [{\"marker\": {\"line\": {\"color\": \"#E5ECF6\", \"width\": 0.5}}, \"type\": \"barpolar\"}], \"carpet\": [{\"aaxis\": {\"endlinecolor\": \"#2a3f5f\", \"gridcolor\": \"white\", \"linecolor\": \"white\", \"minorgridcolor\": \"white\", \"startlinecolor\": \"#2a3f5f\"}, \"baxis\": {\"endlinecolor\": \"#2a3f5f\", \"gridcolor\": \"white\", \"linecolor\": \"white\", \"minorgridcolor\": \"white\", \"startlinecolor\": \"#2a3f5f\"}, \"type\": \"carpet\"}], \"choropleth\": [{\"colorbar\": {\"outlinewidth\": 0, \"ticks\": \"\"}, \"type\": \"choropleth\"}], \"contour\": [{\"colorbar\": {\"outlinewidth\": 0, \"ticks\": \"\"}, \"colorscale\": [[0.0, \"#0d0887\"], [0.1111111111111111, \"#46039f\"], [0.2222222222222222, \"#7201a8\"], [0.3333333333333333, \"#9c179e\"], [0.4444444444444444, \"#bd3786\"], [0.5555555555555556, \"#d8576b\"], [0.6666666666666666, \"#ed7953\"], [0.7777777777777778, \"#fb9f3a\"], [0.8888888888888888, \"#fdca26\"], [1.0, \"#f0f921\"]], \"type\": \"contour\"}], \"contourcarpet\": [{\"colorbar\": {\"outlinewidth\": 0, \"ticks\": \"\"}, \"type\": \"contourcarpet\"}], \"heatmap\": [{\"colorbar\": {\"outlinewidth\": 0, \"ticks\": \"\"}, \"colorscale\": [[0.0, \"#0d0887\"], [0.1111111111111111, \"#46039f\"], [0.2222222222222222, \"#7201a8\"], [0.3333333333333333, \"#9c179e\"], [0.4444444444444444, \"#bd3786\"], [0.5555555555555556, \"#d8576b\"], [0.6666666666666666, \"#ed7953\"], [0.7777777777777778, \"#fb9f3a\"], [0.8888888888888888, \"#fdca26\"], [1.0, \"#f0f921\"]], \"type\": \"heatmap\"}], \"heatmapgl\": [{\"colorbar\": {\"outlinewidth\": 0, \"ticks\": \"\"}, \"colorscale\": [[0.0, \"#0d0887\"], [0.1111111111111111, \"#46039f\"], [0.2222222222222222, \"#7201a8\"], [0.3333333333333333, \"#9c179e\"], [0.4444444444444444, \"#bd3786\"], [0.5555555555555556, \"#d8576b\"], [0.6666666666666666, \"#ed7953\"], [0.7777777777777778, \"#fb9f3a\"], [0.8888888888888888, \"#fdca26\"], [1.0, \"#f0f921\"]], \"type\": \"heatmapgl\"}], \"histogram\": [{\"marker\": {\"colorbar\": {\"outlinewidth\": 0, \"ticks\": \"\"}}, \"type\": \"histogram\"}], \"histogram2d\": [{\"colorbar\": {\"outlinewidth\": 0, \"ticks\": \"\"}, \"colorscale\": [[0.0, \"#0d0887\"], [0.1111111111111111, \"#46039f\"], [0.2222222222222222, \"#7201a8\"], [0.3333333333333333, \"#9c179e\"], [0.4444444444444444, \"#bd3786\"], [0.5555555555555556, \"#d8576b\"], [0.6666666666666666, \"#ed7953\"], [0.7777777777777778, \"#fb9f3a\"], [0.8888888888888888, \"#fdca26\"], [1.0, \"#f0f921\"]], \"type\": \"histogram2d\"}], \"histogram2dcontour\": [{\"colorbar\": {\"outlinewidth\": 0, \"ticks\": \"\"}, \"colorscale\": [[0.0, \"#0d0887\"], [0.1111111111111111, \"#46039f\"], [0.2222222222222222, \"#7201a8\"], [0.3333333333333333, \"#9c179e\"], [0.4444444444444444, \"#bd3786\"], [0.5555555555555556, \"#d8576b\"], [0.6666666666666666, \"#ed7953\"], [0.7777777777777778, \"#fb9f3a\"], [0.8888888888888888, \"#fdca26\"], [1.0, \"#f0f921\"]], \"type\": \"histogram2dcontour\"}], \"mesh3d\": [{\"colorbar\": {\"outlinewidth\": 0, \"ticks\": \"\"}, \"type\": \"mesh3d\"}], \"parcoords\": [{\"line\": {\"colorbar\": {\"outlinewidth\": 0, \"ticks\": \"\"}}, \"type\": \"parcoords\"}], \"pie\": [{\"automargin\": true, \"type\": \"pie\"}], \"scatter\": [{\"marker\": {\"colorbar\": {\"outlinewidth\": 0, \"ticks\": \"\"}}, \"type\": \"scatter\"}], \"scatter3d\": [{\"line\": {\"colorbar\": {\"outlinewidth\": 0, \"ticks\": \"\"}}, \"marker\": {\"colorbar\": {\"outlinewidth\": 0, \"ticks\": \"\"}}, \"type\": \"scatter3d\"}], \"scattercarpet\": [{\"marker\": {\"colorbar\": {\"outlinewidth\": 0, \"ticks\": \"\"}}, \"type\": \"scattercarpet\"}], \"scattergeo\": [{\"marker\": {\"colorbar\": {\"outlinewidth\": 0, \"ticks\": \"\"}}, \"type\": \"scattergeo\"}], \"scattergl\": [{\"marker\": {\"colorbar\": {\"outlinewidth\": 0, \"ticks\": \"\"}}, \"type\": \"scattergl\"}], \"scattermapbox\": [{\"marker\": {\"colorbar\": {\"outlinewidth\": 0, \"ticks\": \"\"}}, \"type\": \"scattermapbox\"}], \"scatterpolar\": [{\"marker\": {\"colorbar\": {\"outlinewidth\": 0, \"ticks\": \"\"}}, \"type\": \"scatterpolar\"}], \"scatterpolargl\": [{\"marker\": {\"colorbar\": {\"outlinewidth\": 0, \"ticks\": \"\"}}, \"type\": \"scatterpolargl\"}], \"scatterternary\": [{\"marker\": {\"colorbar\": {\"outlinewidth\": 0, \"ticks\": \"\"}}, \"type\": \"scatterternary\"}], \"surface\": [{\"colorbar\": {\"outlinewidth\": 0, \"ticks\": \"\"}, \"colorscale\": [[0.0, \"#0d0887\"], [0.1111111111111111, \"#46039f\"], [0.2222222222222222, \"#7201a8\"], [0.3333333333333333, \"#9c179e\"], [0.4444444444444444, \"#bd3786\"], [0.5555555555555556, \"#d8576b\"], [0.6666666666666666, \"#ed7953\"], [0.7777777777777778, \"#fb9f3a\"], [0.8888888888888888, \"#fdca26\"], [1.0, \"#f0f921\"]], \"type\": \"surface\"}], \"table\": [{\"cells\": {\"fill\": {\"color\": \"#EBF0F8\"}, \"line\": {\"color\": \"white\"}}, \"header\": {\"fill\": {\"color\": \"#C8D4E3\"}, \"line\": {\"color\": \"white\"}}, \"type\": \"table\"}]}, \"layout\": {\"annotationdefaults\": {\"arrowcolor\": \"#2a3f5f\", \"arrowhead\": 0, \"arrowwidth\": 1}, \"coloraxis\": {\"colorbar\": {\"outlinewidth\": 0, \"ticks\": \"\"}}, \"colorscale\": {\"diverging\": [[0, \"#8e0152\"], [0.1, \"#c51b7d\"], [0.2, \"#de77ae\"], [0.3, \"#f1b6da\"], [0.4, \"#fde0ef\"], [0.5, \"#f7f7f7\"], [0.6, \"#e6f5d0\"], [0.7, \"#b8e186\"], [0.8, \"#7fbc41\"], [0.9, \"#4d9221\"], [1, \"#276419\"]], \"sequential\": [[0.0, \"#0d0887\"], [0.1111111111111111, \"#46039f\"], [0.2222222222222222, \"#7201a8\"], [0.3333333333333333, \"#9c179e\"], [0.4444444444444444, \"#bd3786\"], [0.5555555555555556, \"#d8576b\"], [0.6666666666666666, \"#ed7953\"], [0.7777777777777778, \"#fb9f3a\"], [0.8888888888888888, \"#fdca26\"], [1.0, \"#f0f921\"]], \"sequentialminus\": [[0.0, \"#0d0887\"], [0.1111111111111111, \"#46039f\"], [0.2222222222222222, \"#7201a8\"], [0.3333333333333333, \"#9c179e\"], [0.4444444444444444, \"#bd3786\"], [0.5555555555555556, \"#d8576b\"], [0.6666666666666666, \"#ed7953\"], [0.7777777777777778, \"#fb9f3a\"], [0.8888888888888888, \"#fdca26\"], [1.0, \"#f0f921\"]]}, \"colorway\": [\"#636efa\", \"#EF553B\", \"#00cc96\", \"#ab63fa\", \"#FFA15A\", \"#19d3f3\", \"#FF6692\", \"#B6E880\", \"#FF97FF\", \"#FECB52\"], \"font\": {\"color\": \"#2a3f5f\"}, \"geo\": {\"bgcolor\": \"white\", \"lakecolor\": \"white\", \"landcolor\": \"#E5ECF6\", \"showlakes\": true, \"showland\": true, \"subunitcolor\": \"white\"}, \"hoverlabel\": {\"align\": \"left\"}, \"hovermode\": \"closest\", \"mapbox\": {\"style\": \"light\"}, \"paper_bgcolor\": \"white\", \"plot_bgcolor\": \"#E5ECF6\", \"polar\": {\"angularaxis\": {\"gridcolor\": \"white\", \"linecolor\": \"white\", \"ticks\": \"\"}, \"bgcolor\": \"#E5ECF6\", \"radialaxis\": {\"gridcolor\": \"white\", \"linecolor\": \"white\", \"ticks\": \"\"}}, \"scene\": {\"xaxis\": {\"backgroundcolor\": \"#E5ECF6\", \"gridcolor\": \"white\", \"gridwidth\": 2, \"linecolor\": \"white\", \"showbackground\": true, \"ticks\": \"\", \"zerolinecolor\": \"white\"}, \"yaxis\": {\"backgroundcolor\": \"#E5ECF6\", \"gridcolor\": \"white\", \"gridwidth\": 2, \"linecolor\": \"white\", \"showbackground\": true, \"ticks\": \"\", \"zerolinecolor\": \"white\"}, \"zaxis\": {\"backgroundcolor\": \"#E5ECF6\", \"gridcolor\": \"white\", \"gridwidth\": 2, \"linecolor\": \"white\", \"showbackground\": true, \"ticks\": \"\", \"zerolinecolor\": \"white\"}}, \"shapedefaults\": {\"line\": {\"color\": \"#2a3f5f\"}}, \"ternary\": {\"aaxis\": {\"gridcolor\": \"white\", \"linecolor\": \"white\", \"ticks\": \"\"}, \"baxis\": {\"gridcolor\": \"white\", \"linecolor\": \"white\", \"ticks\": \"\"}, \"bgcolor\": \"#E5ECF6\", \"caxis\": {\"gridcolor\": \"white\", \"linecolor\": \"white\", \"ticks\": \"\"}}, \"title\": {\"x\": 0.05}, \"xaxis\": {\"automargin\": true, \"gridcolor\": \"white\", \"linecolor\": \"white\", \"ticks\": \"\", \"title\": {\"standoff\": 15}, \"zerolinecolor\": \"white\", \"zerolinewidth\": 2}, \"yaxis\": {\"automargin\": true, \"gridcolor\": \"white\", \"linecolor\": \"white\", \"ticks\": \"\", \"title\": {\"standoff\": 15}, \"zerolinecolor\": \"white\", \"zerolinewidth\": 2}}}, \"title\": {\"text\": \"GradientBoostingRegressor\"}, \"width\": 1200, \"xaxis\": {\"anchor\": \"y\", \"domain\": [0.0, 1.0]}, \"yaxis\": {\"anchor\": \"x\", \"domain\": [0.0, 1.0]}},\n",
              "                        {\"responsive\": true}\n",
              "                    ).then(function(){\n",
              "                            \n",
              "var gd = document.getElementById('a3c93449-bcb4-416a-b83d-fea92a2ccf39');\n",
              "var x = new MutationObserver(function (mutations, observer) {{\n",
              "        var display = window.getComputedStyle(gd).display;\n",
              "        if (!display || display === 'none') {{\n",
              "            console.log([gd, 'removed!']);\n",
              "            Plotly.purge(gd);\n",
              "            observer.disconnect();\n",
              "        }}\n",
              "}});\n",
              "\n",
              "// Listen for the removal of the full notebook cells\n",
              "var notebookContainer = gd.closest('#notebook-container');\n",
              "if (notebookContainer) {{\n",
              "    x.observe(notebookContainer, {childList: true});\n",
              "}}\n",
              "\n",
              "// Listen for the clearing of the current output cell\n",
              "var outputEl = gd.closest('.output');\n",
              "if (outputEl) {{\n",
              "    x.observe(outputEl, {childList: true});\n",
              "}}\n",
              "\n",
              "                        })\n",
              "                };\n",
              "                \n",
              "            </script>\n",
              "        </div>\n",
              "</body>\n",
              "</html>"
            ]
          },
          "metadata": {
            "tags": []
          }
        }
      ]
    },
    {
      "cell_type": "markdown",
      "metadata": {
        "id": "3Q5s3InJZv5e"
      },
      "source": [
        "-Na-  estimation: Próbáljuk megbecsülni a hiányzó adatokat."
      ]
    },
    {
      "cell_type": "code",
      "metadata": {
        "id": "a7xh3fW93OZq"
      },
      "source": [
        "ndv=[\"ndvi_ne\",\"ndvi_nw\",\"ndvi_se\",\"ndvi_sw\"]"
      ],
      "execution_count": 43,
      "outputs": []
    },
    {
      "cell_type": "code",
      "metadata": {
        "id": "1Z4xI9ZE3F-E"
      },
      "source": [
        "XX_ndv=X_train_sj[ndv]"
      ],
      "execution_count": 44,
      "outputs": []
    },
    {
      "cell_type": "code",
      "metadata": {
        "id": "-U8gt-jS3azh",
        "colab": {
          "base_uri": "https://localhost:8080/",
          "height": 419
        },
        "outputId": "e5c65c80-629f-4466-8f1c-0914620b2c6a"
      },
      "source": [
        "XX_ndv"
      ],
      "execution_count": 45,
      "outputs": [
        {
          "output_type": "execute_result",
          "data": {
            "text/html": [
              "<div>\n",
              "<style scoped>\n",
              "    .dataframe tbody tr th:only-of-type {\n",
              "        vertical-align: middle;\n",
              "    }\n",
              "\n",
              "    .dataframe tbody tr th {\n",
              "        vertical-align: top;\n",
              "    }\n",
              "\n",
              "    .dataframe thead th {\n",
              "        text-align: right;\n",
              "    }\n",
              "</style>\n",
              "<table border=\"1\" class=\"dataframe\">\n",
              "  <thead>\n",
              "    <tr style=\"text-align: right;\">\n",
              "      <th></th>\n",
              "      <th>ndvi_ne</th>\n",
              "      <th>ndvi_nw</th>\n",
              "      <th>ndvi_se</th>\n",
              "      <th>ndvi_sw</th>\n",
              "    </tr>\n",
              "  </thead>\n",
              "  <tbody>\n",
              "    <tr>\n",
              "      <th>0</th>\n",
              "      <td>0.122600</td>\n",
              "      <td>0.103725</td>\n",
              "      <td>0.198483</td>\n",
              "      <td>0.177617</td>\n",
              "    </tr>\n",
              "    <tr>\n",
              "      <th>1</th>\n",
              "      <td>0.169900</td>\n",
              "      <td>0.142175</td>\n",
              "      <td>0.162357</td>\n",
              "      <td>0.155486</td>\n",
              "    </tr>\n",
              "    <tr>\n",
              "      <th>2</th>\n",
              "      <td>0.032250</td>\n",
              "      <td>0.172967</td>\n",
              "      <td>0.157200</td>\n",
              "      <td>0.170843</td>\n",
              "    </tr>\n",
              "    <tr>\n",
              "      <th>3</th>\n",
              "      <td>0.128633</td>\n",
              "      <td>0.245067</td>\n",
              "      <td>0.227557</td>\n",
              "      <td>0.235886</td>\n",
              "    </tr>\n",
              "    <tr>\n",
              "      <th>4</th>\n",
              "      <td>0.196200</td>\n",
              "      <td>0.262200</td>\n",
              "      <td>0.251200</td>\n",
              "      <td>0.247340</td>\n",
              "    </tr>\n",
              "    <tr>\n",
              "      <th>...</th>\n",
              "      <td>...</td>\n",
              "      <td>...</td>\n",
              "      <td>...</td>\n",
              "      <td>...</td>\n",
              "    </tr>\n",
              "    <tr>\n",
              "      <th>931</th>\n",
              "      <td>0.077850</td>\n",
              "      <td>-0.039900</td>\n",
              "      <td>0.310471</td>\n",
              "      <td>0.296243</td>\n",
              "    </tr>\n",
              "    <tr>\n",
              "      <th>932</th>\n",
              "      <td>-0.038000</td>\n",
              "      <td>-0.016833</td>\n",
              "      <td>0.119371</td>\n",
              "      <td>0.066386</td>\n",
              "    </tr>\n",
              "    <tr>\n",
              "      <th>933</th>\n",
              "      <td>-0.155200</td>\n",
              "      <td>-0.052750</td>\n",
              "      <td>0.137757</td>\n",
              "      <td>0.141214</td>\n",
              "    </tr>\n",
              "    <tr>\n",
              "      <th>934</th>\n",
              "      <td>0.001800</td>\n",
              "      <td>-0.010367</td>\n",
              "      <td>0.203900</td>\n",
              "      <td>0.209843</td>\n",
              "    </tr>\n",
              "    <tr>\n",
              "      <th>935</th>\n",
              "      <td>-0.037000</td>\n",
              "      <td>-0.010367</td>\n",
              "      <td>0.077314</td>\n",
              "      <td>0.090586</td>\n",
              "    </tr>\n",
              "  </tbody>\n",
              "</table>\n",
              "<p>936 rows × 4 columns</p>\n",
              "</div>"
            ],
            "text/plain": [
              "      ndvi_ne   ndvi_nw   ndvi_se   ndvi_sw\n",
              "0    0.122600  0.103725  0.198483  0.177617\n",
              "1    0.169900  0.142175  0.162357  0.155486\n",
              "2    0.032250  0.172967  0.157200  0.170843\n",
              "3    0.128633  0.245067  0.227557  0.235886\n",
              "4    0.196200  0.262200  0.251200  0.247340\n",
              "..        ...       ...       ...       ...\n",
              "931  0.077850 -0.039900  0.310471  0.296243\n",
              "932 -0.038000 -0.016833  0.119371  0.066386\n",
              "933 -0.155200 -0.052750  0.137757  0.141214\n",
              "934  0.001800 -0.010367  0.203900  0.209843\n",
              "935 -0.037000 -0.010367  0.077314  0.090586\n",
              "\n",
              "[936 rows x 4 columns]"
            ]
          },
          "metadata": {
            "tags": []
          },
          "execution_count": 45
        }
      ]
    },
    {
      "cell_type": "code",
      "metadata": {
        "id": "J2w_DRmJ4eIU"
      },
      "source": [
        "ndv_features=[\"ndvi_nw\",\"ndvi_se\",\"ndvi_sw\"]\n"
      ],
      "execution_count": 46,
      "outputs": []
    },
    {
      "cell_type": "code",
      "metadata": {
        "id": "8mUeRG8a4oCV",
        "colab": {
          "base_uri": "https://localhost:8080/"
        },
        "outputId": "0221c4f7-d394-40e0-e99b-0524fe213b12"
      },
      "source": [
        "from sklearn.linear_model import Lasso\n",
        "from sklearn.linear_model import Ridge\n",
        "from sklearn.ensemble import RandomForestRegressor\n",
        "from sklearn.ensemble import GradientBoostingRegressor\n",
        "\n",
        "ne_regressor=GradientBoostingRegressor(n_estimators=140)\n",
        "\n",
        "yy=XX_ndv[['ndvi_ne']]\n",
        "ne_regressor.fit(XX_ndv[ndv_features],yy)\n",
        "y_pred=ne_regressor.predict(XX_ndv[ndv_features])\n",
        "\n",
        "\n",
        "\n",
        "\n",
        "\n"
      ],
      "execution_count": 47,
      "outputs": [
        {
          "output_type": "stream",
          "text": [
            "/usr/local/lib/python3.7/dist-packages/sklearn/ensemble/_gb.py:1454: DataConversionWarning:\n",
            "\n",
            "A column-vector y was passed when a 1d array was expected. Please change the shape of y to (n_samples, ), for example using ravel().\n",
            "\n"
          ],
          "name": "stderr"
        }
      ]
    },
    {
      "cell_type": "code",
      "metadata": {
        "id": "qUFMaSqZPrgO"
      },
      "source": [
        ""
      ],
      "execution_count": 47,
      "outputs": []
    },
    {
      "cell_type": "code",
      "metadata": {
        "id": "rVBNQDml5HH1",
        "colab": {
          "base_uri": "https://localhost:8080/"
        },
        "outputId": "873d3000-5e08-4232-ce89-eccabf2cb54c"
      },
      "source": [
        "XX_ndv[\"ne_pred\"]=y_pred"
      ],
      "execution_count": 48,
      "outputs": [
        {
          "output_type": "stream",
          "text": [
            "/usr/local/lib/python3.7/dist-packages/ipykernel_launcher.py:1: SettingWithCopyWarning:\n",
            "\n",
            "\n",
            "A value is trying to be set on a copy of a slice from a DataFrame.\n",
            "Try using .loc[row_indexer,col_indexer] = value instead\n",
            "\n",
            "See the caveats in the documentation: https://pandas.pydata.org/pandas-docs/stable/user_guide/indexing.html#returning-a-view-versus-a-copy\n",
            "\n"
          ],
          "name": "stderr"
        }
      ]
    },
    {
      "cell_type": "code",
      "metadata": {
        "id": "QgP-I6EU5WoF",
        "colab": {
          "base_uri": "https://localhost:8080/",
          "height": 359
        },
        "outputId": "25ca8d91-e30e-44ab-a6af-2b7c3f2e5b4d"
      },
      "source": [
        "XX_ndv.head(10)"
      ],
      "execution_count": 49,
      "outputs": [
        {
          "output_type": "execute_result",
          "data": {
            "text/html": [
              "<div>\n",
              "<style scoped>\n",
              "    .dataframe tbody tr th:only-of-type {\n",
              "        vertical-align: middle;\n",
              "    }\n",
              "\n",
              "    .dataframe tbody tr th {\n",
              "        vertical-align: top;\n",
              "    }\n",
              "\n",
              "    .dataframe thead th {\n",
              "        text-align: right;\n",
              "    }\n",
              "</style>\n",
              "<table border=\"1\" class=\"dataframe\">\n",
              "  <thead>\n",
              "    <tr style=\"text-align: right;\">\n",
              "      <th></th>\n",
              "      <th>ndvi_ne</th>\n",
              "      <th>ndvi_nw</th>\n",
              "      <th>ndvi_se</th>\n",
              "      <th>ndvi_sw</th>\n",
              "      <th>ne_pred</th>\n",
              "    </tr>\n",
              "  </thead>\n",
              "  <tbody>\n",
              "    <tr>\n",
              "      <th>0</th>\n",
              "      <td>0.122600</td>\n",
              "      <td>0.103725</td>\n",
              "      <td>0.198483</td>\n",
              "      <td>0.177617</td>\n",
              "      <td>0.077695</td>\n",
              "    </tr>\n",
              "    <tr>\n",
              "      <th>1</th>\n",
              "      <td>0.169900</td>\n",
              "      <td>0.142175</td>\n",
              "      <td>0.162357</td>\n",
              "      <td>0.155486</td>\n",
              "      <td>0.116948</td>\n",
              "    </tr>\n",
              "    <tr>\n",
              "      <th>2</th>\n",
              "      <td>0.032250</td>\n",
              "      <td>0.172967</td>\n",
              "      <td>0.157200</td>\n",
              "      <td>0.170843</td>\n",
              "      <td>0.110966</td>\n",
              "    </tr>\n",
              "    <tr>\n",
              "      <th>3</th>\n",
              "      <td>0.128633</td>\n",
              "      <td>0.245067</td>\n",
              "      <td>0.227557</td>\n",
              "      <td>0.235886</td>\n",
              "      <td>0.165768</td>\n",
              "    </tr>\n",
              "    <tr>\n",
              "      <th>4</th>\n",
              "      <td>0.196200</td>\n",
              "      <td>0.262200</td>\n",
              "      <td>0.251200</td>\n",
              "      <td>0.247340</td>\n",
              "      <td>0.212346</td>\n",
              "    </tr>\n",
              "    <tr>\n",
              "      <th>5</th>\n",
              "      <td>0.112900</td>\n",
              "      <td>0.174850</td>\n",
              "      <td>0.254314</td>\n",
              "      <td>0.181743</td>\n",
              "      <td>0.123775</td>\n",
              "    </tr>\n",
              "    <tr>\n",
              "      <th>6</th>\n",
              "      <td>0.112900</td>\n",
              "      <td>0.092800</td>\n",
              "      <td>0.205071</td>\n",
              "      <td>0.210271</td>\n",
              "      <td>0.072419</td>\n",
              "    </tr>\n",
              "    <tr>\n",
              "      <th>7</th>\n",
              "      <td>0.072500</td>\n",
              "      <td>0.072500</td>\n",
              "      <td>0.151471</td>\n",
              "      <td>0.133029</td>\n",
              "      <td>0.036027</td>\n",
              "    </tr>\n",
              "    <tr>\n",
              "      <th>8</th>\n",
              "      <td>0.102450</td>\n",
              "      <td>0.146175</td>\n",
              "      <td>0.125571</td>\n",
              "      <td>0.123600</td>\n",
              "      <td>0.102376</td>\n",
              "    </tr>\n",
              "    <tr>\n",
              "      <th>9</th>\n",
              "      <td>0.192875</td>\n",
              "      <td>0.121550</td>\n",
              "      <td>0.160683</td>\n",
              "      <td>0.202567</td>\n",
              "      <td>0.114485</td>\n",
              "    </tr>\n",
              "  </tbody>\n",
              "</table>\n",
              "</div>"
            ],
            "text/plain": [
              "    ndvi_ne   ndvi_nw   ndvi_se   ndvi_sw   ne_pred\n",
              "0  0.122600  0.103725  0.198483  0.177617  0.077695\n",
              "1  0.169900  0.142175  0.162357  0.155486  0.116948\n",
              "2  0.032250  0.172967  0.157200  0.170843  0.110966\n",
              "3  0.128633  0.245067  0.227557  0.235886  0.165768\n",
              "4  0.196200  0.262200  0.251200  0.247340  0.212346\n",
              "5  0.112900  0.174850  0.254314  0.181743  0.123775\n",
              "6  0.112900  0.092800  0.205071  0.210271  0.072419\n",
              "7  0.072500  0.072500  0.151471  0.133029  0.036027\n",
              "8  0.102450  0.146175  0.125571  0.123600  0.102376\n",
              "9  0.192875  0.121550  0.160683  0.202567  0.114485"
            ]
          },
          "metadata": {
            "tags": []
          },
          "execution_count": 49
        }
      ]
    },
    {
      "cell_type": "code",
      "metadata": {
        "id": "kEekSa9J7kPi",
        "colab": {
          "base_uri": "https://localhost:8080/"
        },
        "outputId": "dfda7b37-343b-42c4-96d1-d4e7a3508fd9"
      },
      "source": [
        "XX_ndv[\"ssz\"]=XX_ndv.index"
      ],
      "execution_count": 50,
      "outputs": [
        {
          "output_type": "stream",
          "text": [
            "/usr/local/lib/python3.7/dist-packages/ipykernel_launcher.py:1: SettingWithCopyWarning:\n",
            "\n",
            "\n",
            "A value is trying to be set on a copy of a slice from a DataFrame.\n",
            "Try using .loc[row_indexer,col_indexer] = value instead\n",
            "\n",
            "See the caveats in the documentation: https://pandas.pydata.org/pandas-docs/stable/user_guide/indexing.html#returning-a-view-versus-a-copy\n",
            "\n"
          ],
          "name": "stderr"
        }
      ]
    },
    {
      "cell_type": "code",
      "metadata": {
        "id": "9CRD_0m36-AF",
        "colab": {
          "base_uri": "https://localhost:8080/",
          "height": 617
        },
        "outputId": "6fe311dc-37a3-44c3-9af1-2bc4b5c9b0b2"
      },
      "source": [
        "grafikon(XX_ndv,\"ssz\",\"ndvi_ne\",\"ndvi_ne\",\"ne_pred\",\"ne_pred\",ngraf=2,title=\"NDVI_NE\")"
      ],
      "execution_count": 51,
      "outputs": [
        {
          "output_type": "display_data",
          "data": {
            "text/html": [
              "<html>\n",
              "<head><meta charset=\"utf-8\" /></head>\n",
              "<body>\n",
              "    <div>\n",
              "            <script src=\"https://cdnjs.cloudflare.com/ajax/libs/mathjax/2.7.5/MathJax.js?config=TeX-AMS-MML_SVG\"></script><script type=\"text/javascript\">if (window.MathJax) {MathJax.Hub.Config({SVG: {font: \"STIX-Web\"}});}</script>\n",
              "                <script type=\"text/javascript\">window.PlotlyConfig = {MathJaxConfig: 'local'};</script>\n",
              "        <script src=\"https://cdn.plot.ly/plotly-latest.min.js\"></script>    \n",
              "            <div id=\"48fdc560-0a67-46ff-bb25-5b31847c2ecd\" class=\"plotly-graph-div\" style=\"height:600px; width:1200px;\"></div>\n",
              "            <script type=\"text/javascript\">\n",
              "                \n",
              "                    window.PLOTLYENV=window.PLOTLYENV || {};\n",
              "                    \n",
              "                if (document.getElementById(\"48fdc560-0a67-46ff-bb25-5b31847c2ecd\")) {\n",
              "                    Plotly.newPlot(\n",
              "                        '48fdc560-0a67-46ff-bb25-5b31847c2ecd',\n",
              "                        [{\"line\": {\"color\": \"rgba(35,128,132,0.8)\"}, \"name\": \"ndvi_ne\", \"showlegend\": true, \"type\": \"scatter\", \"x\": [0, 1, 2, 3, 4, 5, 6, 7, 8, 9, 10, 11, 12, 13, 14, 15, 16, 17, 18, 19, 20, 21, 22, 23, 24, 25, 26, 27, 28, 29, 30, 31, 32, 33, 34, 35, 36, 37, 38, 39, 40, 41, 42, 43, 44, 45, 46, 47, 48, 49, 50, 51, 52, 53, 54, 55, 56, 57, 58, 59, 60, 61, 62, 63, 64, 65, 66, 67, 68, 69, 70, 71, 72, 73, 74, 75, 76, 77, 78, 79, 80, 81, 82, 83, 84, 85, 86, 87, 88, 89, 90, 91, 92, 93, 94, 95, 96, 97, 98, 99, 100, 101, 102, 103, 104, 105, 106, 107, 108, 109, 110, 111, 112, 113, 114, 115, 116, 117, 118, 119, 120, 121, 122, 123, 124, 125, 126, 127, 128, 129, 130, 131, 132, 133, 134, 135, 136, 137, 138, 139, 140, 141, 142, 143, 144, 145, 146, 147, 148, 149, 150, 151, 152, 153, 154, 155, 156, 157, 158, 159, 160, 161, 162, 163, 164, 165, 166, 167, 168, 169, 170, 171, 172, 173, 174, 175, 176, 177, 178, 179, 180, 181, 182, 183, 184, 185, 186, 187, 188, 189, 190, 191, 192, 193, 194, 195, 196, 197, 198, 199, 200, 201, 202, 203, 204, 205, 206, 207, 208, 209, 210, 211, 212, 213, 214, 215, 216, 217, 218, 219, 220, 221, 222, 223, 224, 225, 226, 227, 228, 229, 230, 231, 232, 233, 234, 235, 236, 237, 238, 239, 240, 241, 242, 243, 244, 245, 246, 247, 248, 249, 250, 251, 252, 253, 254, 255, 256, 257, 258, 259, 260, 261, 262, 263, 264, 265, 266, 267, 268, 269, 270, 271, 272, 273, 274, 275, 276, 277, 278, 279, 280, 281, 282, 283, 284, 285, 286, 287, 288, 289, 290, 291, 292, 293, 294, 295, 296, 297, 298, 299, 300, 301, 302, 303, 304, 305, 306, 307, 308, 309, 310, 311, 312, 313, 314, 315, 316, 317, 318, 319, 320, 321, 322, 323, 324, 325, 326, 327, 328, 329, 330, 331, 332, 333, 334, 335, 336, 337, 338, 339, 340, 341, 342, 343, 344, 345, 346, 347, 348, 349, 350, 351, 352, 353, 354, 355, 356, 357, 358, 359, 360, 361, 362, 363, 364, 365, 366, 367, 368, 369, 370, 371, 372, 373, 374, 375, 376, 377, 378, 379, 380, 381, 382, 383, 384, 385, 386, 387, 388, 389, 390, 391, 392, 393, 394, 395, 396, 397, 398, 399, 400, 401, 402, 403, 404, 405, 406, 407, 408, 409, 410, 411, 412, 413, 414, 415, 416, 417, 418, 419, 420, 421, 422, 423, 424, 425, 426, 427, 428, 429, 430, 431, 432, 433, 434, 435, 436, 437, 438, 439, 440, 441, 442, 443, 444, 445, 446, 447, 448, 449, 450, 451, 452, 453, 454, 455, 456, 457, 458, 459, 460, 461, 462, 463, 464, 465, 466, 467, 468, 469, 470, 471, 472, 473, 474, 475, 476, 477, 478, 479, 480, 481, 482, 483, 484, 485, 486, 487, 488, 489, 490, 491, 492, 493, 494, 495, 496, 497, 498, 499, 500, 501, 502, 503, 504, 505, 506, 507, 508, 509, 510, 511, 512, 513, 514, 515, 516, 517, 518, 519, 520, 521, 522, 523, 524, 525, 526, 527, 528, 529, 530, 531, 532, 533, 534, 535, 536, 537, 538, 539, 540, 541, 542, 543, 544, 545, 546, 547, 548, 549, 550, 551, 552, 553, 554, 555, 556, 557, 558, 559, 560, 561, 562, 563, 564, 565, 566, 567, 568, 569, 570, 571, 572, 573, 574, 575, 576, 577, 578, 579, 580, 581, 582, 583, 584, 585, 586, 587, 588, 589, 590, 591, 592, 593, 594, 595, 596, 597, 598, 599, 600, 601, 602, 603, 604, 605, 606, 607, 608, 609, 610, 611, 612, 613, 614, 615, 616, 617, 618, 619, 620, 621, 622, 623, 624, 625, 626, 627, 628, 629, 630, 631, 632, 633, 634, 635, 636, 637, 638, 639, 640, 641, 642, 643, 644, 645, 646, 647, 648, 649, 650, 651, 652, 653, 654, 655, 656, 657, 658, 659, 660, 661, 662, 663, 664, 665, 666, 667, 668, 669, 670, 671, 672, 673, 674, 675, 676, 677, 678, 679, 680, 681, 682, 683, 684, 685, 686, 687, 688, 689, 690, 691, 692, 693, 694, 695, 696, 697, 698, 699, 700, 701, 702, 703, 704, 705, 706, 707, 708, 709, 710, 711, 712, 713, 714, 715, 716, 717, 718, 719, 720, 721, 722, 723, 724, 725, 726, 727, 728, 729, 730, 731, 732, 733, 734, 735, 736, 737, 738, 739, 740, 741, 742, 743, 744, 745, 746, 747, 748, 749, 750, 751, 752, 753, 754, 755, 756, 757, 758, 759, 760, 761, 762, 763, 764, 765, 766, 767, 768, 769, 770, 771, 772, 773, 774, 775, 776, 777, 778, 779, 780, 781, 782, 783, 784, 785, 786, 787, 788, 789, 790, 791, 792, 793, 794, 795, 796, 797, 798, 799, 800, 801, 802, 803, 804, 805, 806, 807, 808, 809, 810, 811, 812, 813, 814, 815, 816, 817, 818, 819, 820, 821, 822, 823, 824, 825, 826, 827, 828, 829, 830, 831, 832, 833, 834, 835, 836, 837, 838, 839, 840, 841, 842, 843, 844, 845, 846, 847, 848, 849, 850, 851, 852, 853, 854, 855, 856, 857, 858, 859, 860, 861, 862, 863, 864, 865, 866, 867, 868, 869, 870, 871, 872, 873, 874, 875, 876, 877, 878, 879, 880, 881, 882, 883, 884, 885, 886, 887, 888, 889, 890, 891, 892, 893, 894, 895, 896, 897, 898, 899, 900, 901, 902, 903, 904, 905, 906, 907, 908, 909, 910, 911, 912, 913, 914, 915, 916, 917, 918, 919, 920, 921, 922, 923, 924, 925, 926, 927, 928, 929, 930, 931, 932, 933, 934, 935], \"xaxis\": \"x\", \"y\": [0.1226, 0.1699, 0.03225, 0.1286333, 0.1962, 0.1129, 0.1129, 0.0725, 0.10245, 0.192875, 0.192875, 0.2916, 0.15056670000000003, 0.1902333, 0.1902333, 0.1902333, 0.1902333, 0.2529, 0.2354, 0.1279667, 0.19635, 0.1161, 0.22855, 0.17115, 0.1462, 0.1462, 0.25225, 0.1526, 0.2908, 0.2722, 0.13676670000000002, 0.1098, 0.12135, 0.2931333, 0.3025, 0.1465, 0.3313, 0.3313, 0.3313, 0.0917, 0.3801, 0.0712, 0.1702, 0.1702, 0.21075, 0.1279, 0.1279, 0.28035, 0.1691, 0.1765, 0.0774, 0.20916669999999998, 0.20916669999999998, 0.11595, 0.0669, 0.0669, 0.1401, 0.08585, 0.1091, 0.0596, 0.07965, 0.0969, 0.0969, 0.0801, 0.0801, 0.07315, 0.07315, 0.0593, 0.0569, 0.0693, 0.10805, 0.10475, 0.1098, 0.1676, 0.1291, 0.09300000000000001, 0.0137, 0.1944, 0.094, 0.0544, 0.0954, 0.00825, 0.08786667, 0.0802, -0.02665, 0.12355, 0.12355, 0.1251, 0.10083330000000001, 0.2224, 0.12253330000000001, 0.1016, 0.1016, 0.10705, 0.10705, 0.10705, 0.08685, 0.08685, 0.05305, 0.09995, 0.09995, 0.1039, 0.07515, 0.0922, 0.0125, 0.10875, 0.101875, 0.1024, 0.1215, 0.12165, 0.08395, 0.10445, 0.1302, 0.1194, 0.11199999999999999, 0.11199999999999999, -0.1396, 0.0539, 0.152675, 0.16395, 0.1146, 0.0875, 0.123975, 0.123975, 0.0519, 0.1435, 0.1972, 0.137225, 0.3371, -0.0156, 0.1242, 0.0866, 0.11800000000000001, 0.0764, 0.0971, 0.1083, 0.0547, -0.01008, -0.01008, 0.02835, 0.02835, 0.03006667, 0.06613333, 0.06613333, 0.047425, 0.2738, 0.11086669999999998, 0.1744667, 0.1744667, 0.09403333, -0.0411, 0.03225, 0.1194, -0.0158, -0.0158, 0.0828, 0.07965, 0.07965, 0.07305, 0.1769, 0.01645, 0.00305, 0.1206, 0.0374, 0.0374, 0.1237667, 0.0689, 0.0375, 0.1204, 0.08285, 0.1016, 0.1016, 0.0969, 0.10885, 0.0979, 0.1121, 0.1199, 0.0054, 0.034, 0.1213, 0.1317, 0.0129, 0.11699999999999999, -0.1589, -0.1589, 0.17315, 0.1071, 0.3572667, -0.2902, -0.2902, -0.0237, -0.1209, -0.1209, 0.1435, 0.0741, 0.0912, 0.2588, 0.0882, 0.3633, 0.1125, 0.1125, 0.1125, 0.1468, 0.0412, 0.0978, 0.10800000000000001, 0.16435, 0.0805, 0.0805, 0.0652, 0.1111, 0.0742, 0.1178, 0.1097, 0.08005, -0.0286, -0.0323, 0.12526669999999998, 0.12325, 0.1396, 0.0424, 0.183, 0.04465, 0.04465, 0.06666667, 0.1564, 0.02185, 0.04585, 0.2438, 0.2438, 0.2438, 0.2438, 0.2438, 0.2438, 0.2438, 0.2438, 0.2438, 0.2438, 0.2438, 0.2438, 0.2438, 0.2438, 0.2438, 0.2438, 0.223075, -0.1193, -0.1193, 0.05175, 0.03233333, 0.03233333, 0.0614, 0.0935, 0.07355, 0.14535, 0.0739, 0.031, 0.19862, 0.1017, 0.1017, 0.1017, 0.1281, 0.14345, 0.14345, 0.0363, 0.0322, 0.15495, 0.15495, 0.08955, 0.22135, 0.2319333, 0.3093, 0.1175, 0.1175, 0.0632, 0.0632, 0.047, 0.08396667, 0.1131, 0.0326, 0.1071, 0.0568, 0.11863330000000001, 0.1068, 0.2808, 0.040825, 0.033625, 0.2346, 0.2346, 0.0174, 0.0406, 0.0334, 0.1154, 0.1154, -0.0139, 0.013999999999999999, 0.013999999999999999, 0.1514333, 0.0149, 0.0958, 0.0627, 0.02765, 0.06895, 0.076, 0.076, 0.03786667, 0.03786667, 0.07713333, 0.0448, 0.0448, 0.0497, 0.08893333, 0.3144667, 0.3144667, -0.0464, 0.0339, 0.0339, 0.09985, 0.0529, 0.0986, 0.07125, 0.16555, 0.05763333, 0.05763333, 0.1121, 0.0038, 0.09683333, 0.0795, 0.0795, 0.01203333, 0.01203333, 0.0364, 0.1043, 0.04044, 0.04044, -0.0385, -0.0066, -0.0969, -0.0969, 0.00525, -0.05675, -0.03006667, -0.1171, -0.1171, -0.1171, 0.0214, 0.0214, 0.0214, 0.15263329999999997, -0.1459, -0.1459, 0.0495, 0.0451, 0.04245, 0.0455, 0.0297, 0.1409, 0.1409, 0.1409, 0.1409, 0.11245, 0.0602, 0.0602, 0.033075, 0.0388, -0.0035, -0.0597, 0.1019, 0.0798, 0.0235, 0.0557, 0.1197, 0.0108, 0.0749, 0.1012, 0.0883, -0.0562, -0.1562, 0.1393, 0.0981, 0.008933333, 0.06065, 0.06065, 0.1072, 0.03495, -0.049, 0.12258, 0.1123, 0.0019, -0.01515, 0.07745, 0.07745, 0.07745, 0.0695, 0.2192, 0.2192, 0.0568, 0.0663, 0.0663, 0.0663, 0.0455, 0.05076667, -0.01615, 0.1797, 0.13155, -0.0479, 0.11825, 0.1545, 0.1545, 0.06366667, 0.0604, 0.0604, 0.0672, 0.0672, 0.048, 0.0308, 0.0671, 0.1063, -0.003, -0.003, -0.003, 0.0484, -0.0427, 0.12125, 0.0725, 0.03745, 0.0715, -0.03095, 0.0289, 0.0554, 0.14065, 0.02866667, 0.05346667, 0.1072, 0.0307, 0.0388, 0.07465, 0.05085, 0.05085, -0.0022, 0.0213, 0.0213, 0.0213, -0.0359, 0.0038666670000000003, 0.0038666670000000003, 0.0501, 0.0501, 0.05675, 0.0619, -0.08216667, 0.06056667, -0.1399, -0.1399, -0.1399, -0.0698, 0.0535, 0.0669, 0.0669, 0.0263, 0.12905, -0.0509, -0.071225, -0.10475, 0.135, 0.0541, 0.0341, 0.0341, 0.0869, 0.07295, 0.064, 0.04023333, 0.04023333, 0.04023333, 0.04023333, 0.0499, 0.09746667, 0.09746667, 0.09746667, 0.09746667, 0.0545, 0.1169, 0.0101, -0.07305, 0.01015, 0.01015, -0.01465, 0.087, 0.087, -0.0121, 0.08305, 0.05016667, 0.1322, -0.0864, 0.06275, 0.06275, 0.06275, 0.1235, -0.0454, 0.0005, 0.1536, 0.10558, 0.10558, 0.1088, -0.1336, 0.20635, 0.337, 0.353, 0.3419, 0.29455, 0.19316670000000002, 0.19316670000000002, 0.17025, 0.17025, 0.3779, 0.2311, 0.2204, 0.2050333, 0.2050333, 0.07435, -0.287, 0.1544, 0.1302, 0.0865, 0.0865, 0.1882, 0.0849, 0.1459, 0.1097, 0.1431, 0.11045, 0.0812, 0.17185, 0.22305, 0.1667, 0.13025, 0.14415, 0.17645, 0.2156667, 0.1591, 0.1591, 0.0577, 0.1961, 0.253975, 0.253975, 0.38, 0.10035, 0.1535, 0.19015, 0.11056669999999999, 0.0979, 0.12015, 0.12015, 0.11875, 0.0044, 0.0632, 0.0048333329999999996, 0.09436667, 0.0411, 0.0411, 0.00915, -0.04485, -0.04485, 0.2170333, 0.4462667, 0.2485, 0.4229, 0.1274333, 0.2127, 0.2127, 0.0728, 0.0728, 0.0371, 0.0371, 0.0371, 0.1031, 0.08607999999999999, 0.0619, 0.0312, -0.02865, -0.02865, 0.02185, -0.0227, -0.0817, 0.0073, -0.0198, 0.0287, 0.2467, 0.08985, 0.0172, -0.0273, -0.0273, 0.1954, -0.0412, 0.0986, 0.16025, 0.0633, -0.0141, -0.0141, -0.01935, 0.0284, 0.0941, 0.1663, 0.21515, -0.0468, 0.0081, 0.02285, 0.1814, 0.05475, 0.106425, 0.0594, 0.0288, -0.0674, -0.0674, 0.0491, 0.0478, 0.0315, 0.042, 0.0709, 0.1535, 0.1777, -0.0056, -0.0263, -0.0176, -0.0176, 0.1506, 0.19375, 0.1138, 0.03345, 0.05325, 0.04185, -0.009666667, -0.009666667, -0.009666667, -0.009666667, -0.02455, -0.07045, -0.07045, -0.0836, -0.0006, 0.0001, 0.0776, 0.0009, 0.0895, 0.033, 0.0541, 0.0541, 0.07375, -0.05385, -0.1115, -0.1115, 0.00735, 0.2614, 0.14783329999999997, -0.005633333000000001, -0.005633333000000001, -0.2439, -0.1743, -0.043, 0.0358, -0.07195, -0.2, 0.0466, 0.053739999999999996, 0.0214, 0.0567, 0.0015, 0.0015, -0.03046667, -0.20635, 0.02535, -0.05203333, -0.1169, 0.0925, 0.12815, -0.078, -0.078, 0.0681, -0.0477, 0.01485, -0.0457, -0.0457, 0.05063333, 0.05063333, 0.0675, -0.1798, -0.0853, -0.05675, -0.05675, 0.1045, 0.04995, 0.0785, 0.0348, 0.0726, 0.09445, 0.09445, 0.09445, -0.0939, -0.0874, 0.0204, 0.0204, 0.0161, -0.0416, 0.0892, 0.06925, 0.06925, -0.21795, -0.07015, -0.00305, -0.1476, -0.03753333, 0.02085, -0.2683, -0.0731, -0.18635, -0.18635, -0.0535, -0.0423, -0.0423, -0.1567, 0.05716667, -0.0638, -0.0505, -0.40625, -0.40625, 0.4934, 0.4934, 0.0061, -0.0904, -0.0904, -0.0904, -0.0904, 0.05286667, -0.02563333, -0.07055, 0.0218, 0.017425, 0.0101, -0.0267, -0.0267, -0.0529, 0.0674, -0.0117, 0.0058, 0.0374, -0.0164, 0.0996, 0.0414, 0.1076, 0.04015, 0.033475, 0.033475, -0.0168, 0.0969, 0.0969, 0.0802, 0.1337, 0.0199, 0.3274, 0.0435, -0.1613, -0.0039, -0.15165, -0.1261, 0.0079, 0.0079, 0.02435, -0.11183330000000001, -0.0479, 0.0442, -0.08175, 0.1083, 0.1083, -0.10366669999999999, 0.0644, 0.0644, -0.044000000000000004, 0.0045, 0.0045, -0.1235, 0.01683333, -0.09295, -0.1362, 0.06313333, 0.0476, 0.0476, -0.0143, 0.0606, 0.0449, 0.0892, 0.0892, 0.0854, 0.0514, -0.0665, -0.1087, -0.06475, 0.0479, 0.0479, -0.1224, 0.0022, 0.0022, 0.0073, 0.0252, 0.0012, 0.0488, 0.0419, 0.02275, -0.029975, 0.07596667, -0.00135, 0.0507, -0.03396667, -0.03396667, -0.03396667, -0.0587, 0.1077, -0.1062, -0.008233333, -0.04245, -0.1942333, 0.009000000000000001, 0.0443, -0.3084, 0.3255, -0.1032, -0.16734000000000002, -0.01313333, 0.0109, 0.0455, 0.0455, 0.0455, 0.0165, -0.012, 0.0351, 0.0144, 0.0802, 0.0802, 0.0582, 0.0582, 0.0144, -0.01003333, 0.0255, 0.1035, 0.063875, 0.0193, 0.04735, -0.05556667, -0.1145, 0.0017399999999999998, 0.06405, 0.06405, 0.07515, 0.01235, 0.026125, -0.0556, -0.0265, 0.06305, 0.06305, 0.12335, 0.04593333, -0.2761, -0.2761, -0.1686, 0.0947, 0.0115, 0.0516, -0.04176667, -0.0548, 0.2643, -0.0192, -0.0192, 0.1288333, -0.2156, -0.2156, -0.0752, 0.2121, 0.0543, 0.0543, 0.0373, 0.0117, 0.02285, 0.01886667, -0.0743, 0.0689, 0.0216, 0.0392, -0.06205, 0.0019, 0.05825, -0.0118, -0.0118, -0.0054, 0.1058, 0.2484, 0.0501, 0.0826, 0.0826, -0.00695, 0.0746, 0.0156, 0.0331, 0.0331, 0.0821, -0.01345, -0.01345, -0.01345, -0.0307, 0.096, 0.009000000000000001, 0.021, 0.1243, 0.1243, -0.2517, -0.0589, -0.0595, -0.0595, -0.13305, -0.13305, 0.0148, 0.0148, 0.0006, -0.0268, -0.0268, -0.0268, -0.1117, -0.1117, 0.07200000000000001, -0.13865, -0.0889, -0.0889, -0.3214, 0.0449, 0.07785, -0.038, -0.1552, 0.0018, -0.037000000000000005], \"yaxis\": \"y\"}, {\"line\": {\"color\": \"rgba(193,99,99,0.8)\"}, \"name\": \"ne_pred\", \"showlegend\": true, \"type\": \"scatter\", \"x\": [0, 1, 2, 3, 4, 5, 6, 7, 8, 9, 10, 11, 12, 13, 14, 15, 16, 17, 18, 19, 20, 21, 22, 23, 24, 25, 26, 27, 28, 29, 30, 31, 32, 33, 34, 35, 36, 37, 38, 39, 40, 41, 42, 43, 44, 45, 46, 47, 48, 49, 50, 51, 52, 53, 54, 55, 56, 57, 58, 59, 60, 61, 62, 63, 64, 65, 66, 67, 68, 69, 70, 71, 72, 73, 74, 75, 76, 77, 78, 79, 80, 81, 82, 83, 84, 85, 86, 87, 88, 89, 90, 91, 92, 93, 94, 95, 96, 97, 98, 99, 100, 101, 102, 103, 104, 105, 106, 107, 108, 109, 110, 111, 112, 113, 114, 115, 116, 117, 118, 119, 120, 121, 122, 123, 124, 125, 126, 127, 128, 129, 130, 131, 132, 133, 134, 135, 136, 137, 138, 139, 140, 141, 142, 143, 144, 145, 146, 147, 148, 149, 150, 151, 152, 153, 154, 155, 156, 157, 158, 159, 160, 161, 162, 163, 164, 165, 166, 167, 168, 169, 170, 171, 172, 173, 174, 175, 176, 177, 178, 179, 180, 181, 182, 183, 184, 185, 186, 187, 188, 189, 190, 191, 192, 193, 194, 195, 196, 197, 198, 199, 200, 201, 202, 203, 204, 205, 206, 207, 208, 209, 210, 211, 212, 213, 214, 215, 216, 217, 218, 219, 220, 221, 222, 223, 224, 225, 226, 227, 228, 229, 230, 231, 232, 233, 234, 235, 236, 237, 238, 239, 240, 241, 242, 243, 244, 245, 246, 247, 248, 249, 250, 251, 252, 253, 254, 255, 256, 257, 258, 259, 260, 261, 262, 263, 264, 265, 266, 267, 268, 269, 270, 271, 272, 273, 274, 275, 276, 277, 278, 279, 280, 281, 282, 283, 284, 285, 286, 287, 288, 289, 290, 291, 292, 293, 294, 295, 296, 297, 298, 299, 300, 301, 302, 303, 304, 305, 306, 307, 308, 309, 310, 311, 312, 313, 314, 315, 316, 317, 318, 319, 320, 321, 322, 323, 324, 325, 326, 327, 328, 329, 330, 331, 332, 333, 334, 335, 336, 337, 338, 339, 340, 341, 342, 343, 344, 345, 346, 347, 348, 349, 350, 351, 352, 353, 354, 355, 356, 357, 358, 359, 360, 361, 362, 363, 364, 365, 366, 367, 368, 369, 370, 371, 372, 373, 374, 375, 376, 377, 378, 379, 380, 381, 382, 383, 384, 385, 386, 387, 388, 389, 390, 391, 392, 393, 394, 395, 396, 397, 398, 399, 400, 401, 402, 403, 404, 405, 406, 407, 408, 409, 410, 411, 412, 413, 414, 415, 416, 417, 418, 419, 420, 421, 422, 423, 424, 425, 426, 427, 428, 429, 430, 431, 432, 433, 434, 435, 436, 437, 438, 439, 440, 441, 442, 443, 444, 445, 446, 447, 448, 449, 450, 451, 452, 453, 454, 455, 456, 457, 458, 459, 460, 461, 462, 463, 464, 465, 466, 467, 468, 469, 470, 471, 472, 473, 474, 475, 476, 477, 478, 479, 480, 481, 482, 483, 484, 485, 486, 487, 488, 489, 490, 491, 492, 493, 494, 495, 496, 497, 498, 499, 500, 501, 502, 503, 504, 505, 506, 507, 508, 509, 510, 511, 512, 513, 514, 515, 516, 517, 518, 519, 520, 521, 522, 523, 524, 525, 526, 527, 528, 529, 530, 531, 532, 533, 534, 535, 536, 537, 538, 539, 540, 541, 542, 543, 544, 545, 546, 547, 548, 549, 550, 551, 552, 553, 554, 555, 556, 557, 558, 559, 560, 561, 562, 563, 564, 565, 566, 567, 568, 569, 570, 571, 572, 573, 574, 575, 576, 577, 578, 579, 580, 581, 582, 583, 584, 585, 586, 587, 588, 589, 590, 591, 592, 593, 594, 595, 596, 597, 598, 599, 600, 601, 602, 603, 604, 605, 606, 607, 608, 609, 610, 611, 612, 613, 614, 615, 616, 617, 618, 619, 620, 621, 622, 623, 624, 625, 626, 627, 628, 629, 630, 631, 632, 633, 634, 635, 636, 637, 638, 639, 640, 641, 642, 643, 644, 645, 646, 647, 648, 649, 650, 651, 652, 653, 654, 655, 656, 657, 658, 659, 660, 661, 662, 663, 664, 665, 666, 667, 668, 669, 670, 671, 672, 673, 674, 675, 676, 677, 678, 679, 680, 681, 682, 683, 684, 685, 686, 687, 688, 689, 690, 691, 692, 693, 694, 695, 696, 697, 698, 699, 700, 701, 702, 703, 704, 705, 706, 707, 708, 709, 710, 711, 712, 713, 714, 715, 716, 717, 718, 719, 720, 721, 722, 723, 724, 725, 726, 727, 728, 729, 730, 731, 732, 733, 734, 735, 736, 737, 738, 739, 740, 741, 742, 743, 744, 745, 746, 747, 748, 749, 750, 751, 752, 753, 754, 755, 756, 757, 758, 759, 760, 761, 762, 763, 764, 765, 766, 767, 768, 769, 770, 771, 772, 773, 774, 775, 776, 777, 778, 779, 780, 781, 782, 783, 784, 785, 786, 787, 788, 789, 790, 791, 792, 793, 794, 795, 796, 797, 798, 799, 800, 801, 802, 803, 804, 805, 806, 807, 808, 809, 810, 811, 812, 813, 814, 815, 816, 817, 818, 819, 820, 821, 822, 823, 824, 825, 826, 827, 828, 829, 830, 831, 832, 833, 834, 835, 836, 837, 838, 839, 840, 841, 842, 843, 844, 845, 846, 847, 848, 849, 850, 851, 852, 853, 854, 855, 856, 857, 858, 859, 860, 861, 862, 863, 864, 865, 866, 867, 868, 869, 870, 871, 872, 873, 874, 875, 876, 877, 878, 879, 880, 881, 882, 883, 884, 885, 886, 887, 888, 889, 890, 891, 892, 893, 894, 895, 896, 897, 898, 899, 900, 901, 902, 903, 904, 905, 906, 907, 908, 909, 910, 911, 912, 913, 914, 915, 916, 917, 918, 919, 920, 921, 922, 923, 924, 925, 926, 927, 928, 929, 930, 931, 932, 933, 934, 935], \"xaxis\": \"x\", \"y\": [0.0776951956516649, 0.11694842660489575, 0.1109659075983913, 0.16576782994111552, 0.2123460393159729, 0.12377474726662199, 0.07241896347142251, 0.03602682135830665, 0.10237633445013149, 0.11448462152275146, 0.083427702155553, 0.23501482192928222, 0.12286864007042732, 0.21290053445076665, 0.07027688291687673, 0.11535934649399156, 0.12907199171392023, 0.2561657974575468, 0.20493725367058752, 0.16437937016936022, 0.1658523675826968, 0.15054161308477046, 0.17752525090145865, 0.05559188551793043, 0.05408601514966623, 0.08385091858230413, 0.21705063532050003, 0.11946560490479288, 0.19407187775831847, 0.23680757035748948, 0.14590729267161093, 0.0806692263143662, 0.16855693226474316, 0.2612738180032442, 0.219235010998587, 0.10862010234452237, 0.21234066987692932, 0.24575374605826425, 0.259628368120256, 0.16607900143515142, 0.2363216575200677, 0.17805263175581076, 0.14869775740203564, 0.16878515793299645, 0.20660832778280716, 0.11801054795616925, 0.12157531031782436, 0.22507235562306943, 0.17965562437859037, 0.18716807928046642, 0.10259196464635312, 0.1716344315559092, 0.1164696999867886, 0.10242232717419014, 0.11385317025876486, 0.08685394133039835, 0.1069854655418655, 0.04423176824267103, 0.1153784122830767, 0.06822915775824331, 0.1101929688607304, 0.1199603877875916, 0.08212596580806492, 0.06409933943231798, 0.01968296305267623, 0.09829361666384676, 0.09511536417280705, 0.0713505621453447, 0.0570121331918884, 0.05808219847517565, 0.07911984910015175, 0.08876629827740849, 0.11458719715354264, 0.12056235965641729, 0.12807809186859145, 0.07911984910015175, 0.09665504200021945, 0.12523883279875625, 0.06943421843707205, 0.04439926399885828, 0.1043881290320023, 0.027598887393819226, 0.11650335684284963, 0.08025004403985468, 0.03903759950690793, 0.09707187571187234, 0.10987334725227604, 0.1150990203681969, 0.05027326191782398, 0.1843944249083453, 0.11380706451607889, 0.07135403335005965, 0.05742573636211285, 0.10994329100427974, 0.12002498796414755, 0.07375043649064617, 0.12236442267145677, 0.06767543794246375, 0.06217539147965388, 0.07297464288607947, 0.08142842036840482, 0.09735884243530755, 0.07198060467431316, 0.0880800528180268, 0.04768011163868799, 0.16610004843464865, 0.017153614042607457, 0.051860103076208, 0.11064246556243507, 0.09783135146819064, 0.06871446250944664, 0.12046973929222801, 0.11592537691165875, 0.11458719715354264, 0.15124087631597546, 0.11216027263244414, 0.03197090620344499, 0.09600515855744146, 0.1278930914485803, 0.12193455821403103, 0.11777344696545727, 0.06855608747053692, 0.15418015255947456, 0.12286864007042732, 0.05194002323595947, 0.11347889496264948, 0.13712100308360697, 0.10788044653301344, 0.22071143412092392, 0.013063527711199297, 0.09498544865530106, 0.09046445089512094, 0.09485384931883194, 0.07682804060306328, 0.0692387225793908, 0.059921305916230724, 0.08652165063473835, 0.0580523975990446, 0.04371756618814809, 0.03641337817664821, 0.03641337817664821, 0.01679221911884432, 0.09204697666696526, 0.03682083744974292, 0.01828044755998164, 0.12293218532799499, 0.12245713024025932, 0.1256131737801645, 0.12923403199100986, 0.12856094686955827, -0.022437823315332454, 0.08523283672703995, 0.07771344833371868, 0.020383620478225825, 0.010256588511887899, 0.07123527446615648, 0.07146062361605561, 0.045981812255187396, 0.04400434789681777, 0.08390032152577205, 0.07586727526676224, 0.05334794366286079, 0.07435667885325786, 0.03804989565261064, 0.09000121543665299, 0.1098082771816456, 0.07911984910015175, 0.06417929114403205, 0.12181894260074151, 0.07696253442222019, 0.12059474096437202, 0.1073341034025281, 0.055843567841225454, 0.1631472038719037, 0.12435294145481016, 0.051860103076208, 0.07706408816212078, 0.05284581251997696, 0.04768011163868799, 0.05408601514966623, 0.05334794366286079, 0.08025551415426557, 0.11175844049549884, 0.10740594016170572, -0.05399033559475564, 0.014768730573734002, 0.1098131922060814, 0.07555438849652826, -0.208878625780431, -0.21123985523178415, -0.003910774592048384, -0.0722428711824531, -0.0722428711824531, 0.08301629621721078, 0.10620711908479868, -0.010619096877754535, 0.20450025566892613, 0.07161750746556564, 0.258065315078746, 0.09853203850777902, 0.11650335684284963, 0.05927973324761481, 0.009375789312312963, 0.08395876259876082, 0.10237633445013149, 0.04975662571133991, 0.11380706451607889, 0.019234655126516755, 0.0240197263946286, 0.068565050635631, 0.06461116446568467, 0.021204465955633838, 0.09162883626068391, 0.10603779082827122, 0.046229448218740414, -0.004343625758297691, 0.03741435877842169, 0.07437509539434371, 0.17208772105303916, 0.19343235267800774, 0.1083640970771873, 0.17936118459621994, 0.1023229751056729, 0.013091183545723447, 0.012348655169251394, 0.11240272804142615, 0.1029655556225909, 0.04513420470980826, 0.14929151719742337, 0.20663410812977995, 0.20663410812977995, 0.20663410812977995, 0.20663410812977995, 0.20663410812977995, 0.20663410812977995, 0.20663410812977995, 0.20663410812977995, 0.20663410812977995, 0.20663410812977995, 0.20663410812977995, 0.20663410812977995, 0.20663410812977995, 0.20663410812977995, 0.20663410812977995, 0.2092507753428733, 0.06319347120042289, -0.04335190312028902, 0.09844249018482686, 0.11284343441583937, 0.05047705533245154, 0.04799474880108825, 0.04245476168842818, 0.039726878739910626, 0.08252964190718035, 0.09644428508532929, 0.11077310728936765, 0.2261137711681668, 0.15717861035322497, 0.02984520565313714, 0.08758912038315976, 0.11537065493191812, 0.1302340667310379, 0.09019080548820385, 0.070744319782733, 0.1119828993049327, 0.16187972131585227, 0.05309729918276412, 0.083427702155553, 0.18372163339792233, 0.21909631511695285, 0.236324457371409, 0.11891616862666103, 0.0923298206192234, 0.08092084964031046, 0.07815009641625371, 0.055843567841225454, 0.08089420481785889, 0.06746290256374499, 0.056984570418127045, 0.11166337837986999, 0.06888666793302795, 0.07052582316685908, 0.045936750705872845, 0.18448157103664717, 0.08142561141956893, 0.0335967852331637, 0.12923403199100986, 0.11826969839080963, 0.0032307083633046994, 0.055038051783045765, 0.09884916137926891, 0.06948105006908796, 0.10831959167673995, -0.009857841540822084, 0.021903599902973112, 0.0037838844600229446, 0.11401364270136427, 0.06366411675091023, 0.10384161559224338, 0.11121358435374724, 0.026422831968909773, 0.11064246556243507, 0.04580239564635548, 0.09268172267645265, 0.09688928018919402, 0.02833933528487295, 0.0920162449060785, -0.014904082139852502, 0.011211003742691312, 0.11691476974883473, 0.0976101010958834, 0.10250972760898232, 0.23107741108468188, -0.027745460511565914, 0.0512332322009668, 0.022071577804953106, 0.09248738525229247, 0.083427702155553, 0.07878815768518653, 0.05801079650793149, 0.103458307018522, 0.04941833151057447, 0.08351618079191366, 0.070744319782733, 0.020464018064580123, 0.10550176503479619, 0.03682083744974292, -0.001617186731055788, 0.05968733879752992, 0.041246350931633556, 0.0283056784288119, 0.092336119552859, 0.01892724565147089, 0.019800129480981084, 0.05004824197942241, -0.039433850712968184, -0.011017024162185614, -0.06474754436403928, 0.018231904438061424, -0.044745175095956255, 0.06582618440416926, -0.02617951285721276, 0.007386403711419141, -0.0028536370423569235, 0.04810703701630376, 0.09229520608496837, 0.023774663927316177, 0.09735027446339478, -0.03189672156615735, -0.022262945256823687, 0.043925267566262534, 0.06542394163331675, 0.022433830029942488, 0.10707240267387048, 0.04705281094751167, 0.04964656424062902, 0.08437975323020419, 0.0743453818031416, 0.11635317163318126, 0.09192186261174634, 0.11169991427296239, 0.055160308602651996, 0.03210309025309171, -0.002818785951544344, 0.031516665475295406, 0.0052168098319476395, 0.04237151651435255, 0.12083490509191243, 0.04988393109257837, 0.08283275684305756, 0.11959852863529745, 0.029129244153759518, 0.08443172812748209, 0.08650662440663347, 0.052509930293036064, 0.016622934043416537, 0.03303801914895847, 0.10314877654032344, 0.07454981042469268, 0.056504926139667296, 0.0879076782355883, 0.07965450435201786, 0.09735027446339478, 0.07896898333125842, 0.018441913982610206, 0.06942862767149553, 0.0907892967033504, 0.03064265714331007, 0.07232596091260712, 0.13811960772369786, 0.09748859361315332, 0.10632919534893126, 0.13108136405372767, 0.06036512800121962, 0.13455295226222228, 0.054573930977197795, -0.02900505013622053, -0.0028536370423569235, 0.03925341688638169, 0.07579322326442212, 0.06282421333647784, 0.020648909346527546, 0.06543026065627537, 0.0771098080082013, -0.014549840430004736, 0.055807380700007195, 0.047920981707095925, 0.09525375922864356, 0.0798266401351444, 0.08212596580806492, 0.07574171569732074, 0.05194002323595947, 0.05836069828528616, 0.04400434789681777, 0.03984216750428378, 0.07971479441264719, 0.0839238591339195, 0.06750639355107116, 0.03539466608041983, 0.01813207037268859, 0.019268311982577804, 0.037269844250649366, 0.10194144888037414, 0.05626837497420796, 0.022003545288905368, 0.08042158544763983, 0.05047705533245154, 0.04684326821314182, 0.10254338446504335, 0.12445547449493112, 0.05871758754292416, 0.07733101595677976, 0.056086772614887, 0.04979714513648874, 0.051996496641865876, 0.043452463245118624, 0.00788808834487107, 0.05522018671649687, 0.01901831711899539, 0.012594369574116186, 0.09630675062139411, 0.08404718736948706, -0.08850990017524589, 0.014731504842083016, 0.00459155391734501, 0.039041402280312165, 0.04963526719051276, 0.052473923070609406, 0.020261123755181847, -0.07078819094406866, -0.03782365885246059, -0.0703585344598026, -0.0703585344598026, -0.024583229533118298, -0.02568138051526585, -0.01779633899404362, 0.05497779372495287, 0.028525339877498036, 0.02940689996758743, 0.06543649738476143, 0.02437125868661918, -0.010231413861940682, -0.03594035371378409, 0.03678261962136967, 0.00151350829249422, 0.0106976700251834, 0.021497897760717005, 0.015761188977911865, 0.046236186627269804, 0.056753525009708546, 0.04684326821314182, 0.073091978292936, 0.04881542978606732, 0.032426807603338895, 0.04684326821314182, 0.06889506472295451, 0.04800573456655213, 0.05573625950633864, 0.08142842036840482, 0.07621301327144417, 0.0704443480056687, 0.04290287218082554, 0.007748713212367145, 0.09311123679955102, 0.0459832039740233, 0.02076288530072573, 0.00891445085451904, 0.051169373527073896, 0.04267669362136175, 0.04826452827345059, 0.016657087667642276, 0.07302996007115473, -0.034133973372847425, 0.015461291355613183, 0.047268671971051474, 0.08155896916346404, 0.06582618440416926, 0.013124540473474363, 0.04794108416023165, 0.1135582855457402, 0.08602241292512394, 0.10153815521569218, 0.10857867393812308, -0.08094497589142258, 0.14506997496126123, 0.3111499491249724, 0.3467275890242557, 0.3131958846562392, 0.2263534615601502, 0.12321148990452777, 0.14945595968194586, 0.17594653927419, 0.1632960641005998, 0.21215902730861985, 0.20383496806520926, 0.2074714264506472, 0.14215397701009883, 0.10468747294856072, 0.08394746554864455, -0.10776652690940706, 0.10767530439837765, 0.07213615483664139, 0.06548705590249669, 0.08283275684305756, 0.08680952725344077, 0.10716324458259895, 0.10980283011904993, 0.08205955282211849, 0.12431655712197262, 0.11380706451607889, 0.04794108416023165, 0.11213995856253574, 0.18307889923893905, 0.22531415483433576, 0.10392592065852109, 0.11463969349459198, 0.15100461237489898, 0.1249466411793463, 0.1732333294688628, 0.0855270894517575, 0.11370702515662573, 0.11489752845571415, 0.1551623453154077, 0.26284075169571497, 0.34755459002370886, 0.10953831978061912, 0.21372179295521126, 0.12417149021283616, 0.06680740455574037, 0.03714147935784757, 0.06195575985996379, 0.1217007983851735, 0.10036239658800224, 0.03317403575438716, 0.04586220406430985, 0.023569340657874714, 0.0784584908017099, 0.02544598899661654, 0.025254403406617578, 0.028816884684486746, 0.021887889904489935, 0.014483375054575557, 0.1204786332178321, 0.4179274748805595, 0.2036547784243484, 0.3684288683485148, 0.06287236806696236, 0.19798895697252653, 0.12842210885632577, 0.11540824599042974, 0.06784615068693237, 0.042852580764904356, -0.0020949269056007823, 0.046229448218740414, 0.07596286662334525, 0.07375043649064617, 0.026971185951438444, 0.018798822767510135, 0.00819928469420303, -0.008131188490396155, -0.024511579800277038, 0.07706408816212078, 0.02447556177307379, 0.05353045854055992, 0.019800129480981084, 0.08025551415426557, 0.20708495300682395, 0.13067443643345747, 0.020648909346527546, 0.055160308602651996, 0.024076474710435766, 0.2131098294517725, 0.019803581982783907, 0.12084137883958264, 0.08427338421253565, 0.057493504231437106, 0.09102998318313886, 0.09693921325670009, 0.0673664066400126, 0.0126345880443462, 0.09005213134229854, 0.13655747567898038, 0.19954645712359073, -0.034700459199107934, 0.07596286662334525, 0.052473923070609406, 0.12067381296286935, 0.06138744765270836, 0.15756571337804667, 0.062229520051215695, 0.03369513542474919, 0.03546754654443631, 0.03546754654443631, 0.07380997295967459, 0.05497779372495287, 0.07911984910015175, 0.02512481223470349, 0.10094665062268846, 0.12576789888384424, 0.20912071321998235, 0.018970542505926776, 0.018338986555127453, 0.05334794366286079, 0.04594885020724787, 0.1180556388207623, 0.11556001464239767, 0.07469125702482975, 0.08392384386570494, 0.07609809500084916, 0.030638218455273668, 0.04400434789681777, 0.04430559976691758, 0.07980037946816836, 0.0227567479335465, 0.01791715472220074, 0.024335071545400936, -0.0323358999658435, -0.005246178873514448, 0.03075671755537147, 0.038756177520724494, -0.03679085782981996, 0.017151263035697775, 0.048129396822248566, -0.013239524160234984, 0.0245038873965831, 0.04432091410981587, 0.04066064921867256, -0.0800831852756999, -0.008552323508457608, -0.05625598375393784, 0.0009599884656615323, 0.20604588444652108, 0.027303989139470266, -0.03534817196745742, -0.04663857126445735, -0.207325885506011, -0.10220644729447244, -0.06528374619709569, 0.033282572819561006, -0.03362785616063336, -0.1411265223534696, 0.0024995123692740087, 0.0525349685484549, 0.04215182392830978, 0.05159039097130157, -0.026986837339615585, -0.02091838200591813, -0.01272402057186728, -0.20375145076197773, 0.03583386593491154, 0.012099785797277664, -0.0839034526051494, -0.014278481506471959, 0.08222643357044118, 0.011093431937434074, -0.07930953935923271, 0.02817152518934065, 0.025406736785687282, -0.02591042638530839, 0.007445212026092516, 0.01734069244383468, 0.05334794366286079, 0.0559279798347214, 0.07159663600876523, -0.06741289002411556, 0.012948418480495182, 0.07778826113026772, -0.05705762707315888, 0.048870794616872146, 0.022279929569907805, 0.02075297066576967, 0.031416811949306005, 0.051996496641865876, 0.08019081983002954, 0.032988125152483845, 0.0421295513689469, 0.07430445476348906, 0.050174282994376804, 0.015426639354004033, 0.01704136315084259, 0.0017978394291954306, 0.043441166195002365, 0.011797744618800026, 0.1015675299293858, 0.049355150243734144, -0.050333924842786995, -0.01734059722998719, 0.048421165739188185, -0.10589303215820457, -0.014630703763696438, -0.018778823017077142, -0.10639689167010759, -0.006451950424486531, -0.07621850166022837, -0.18507844614918612, -0.055483866075280004, -0.03402378849453517, 0.02869255616487368, -0.06944448340100233, 0.05801079650793149, 0.021390237057317994, 0.02984520565313714, -0.35035340043363067, -0.17541883423886026, 0.06321062953158406, 0.42928215134577213, 0.01734069244383468, -0.07716253770602009, -0.13625811990028136, -0.0007204574652995981, -0.009868578357216917, 0.02914289350103212, 0.014483375054575557, -0.030501459019496503, -0.012634821574948201, 0.05312156074259741, 0.014469804113425423, 0.013639313021602907, 0.010997201043449494, -0.011985139629847817, 0.083427702155553, -0.014701697933223101, 0.02440784176081771, 0.07434143853828268, -0.005719687653977263, 0.04400434789681777, 0.055535173455769256, 0.056164264953553644, 0.017081462225202668, -0.029189151269593365, 0.02097372571737403, 0.011167060170636811, 0.07908021654214527, 0.046098067816429465, 0.05555844469381828, 0.11205108821487551, 0.012768470542480226, 0.1555665705576799, 0.0011756271326596316, -0.11795284922260929, -8.21540135212212e-05, -0.04535763392689168, -0.0031907988008165094, -0.013769431741828568, -0.013769431741828568, -0.007431220864304683, -0.08586851079394214, 0.016859339960059425, -0.061934316189540976, -0.04891727437434566, 0.07589514661108916, 0.01701722409798593, -0.03744733210334768, 0.08028159169868555, 0.022004352480008735, -0.06560496462911358, -0.011985139629847817, -0.025691528942529508, -0.10648313500734718, 0.005333470668412534, -0.11179553094655588, -0.08698716430832512, 0.1065706585429784, 0.052473923070609406, 0.04862157511117731, 0.018231904438061424, 0.07842230366049166, 0.0712574027363716, 0.05272447182228523, 0.036762104787332196, 0.14009084753656137, 0.05839600816019505, -0.028989487612600087, -0.008697380973173243, -0.0030358777247952336, 0.020469772514038097, 0.04455440961369426, -0.08558628597764142, 0.007417668195563841, -0.02167357257243026, 0.013639313021602907, -0.02150346067061394, -0.014197291104859835, 0.03648087966746801, 0.030313597743484674, 0.03918051692936171, 0.048129396822248566, 0.013226036084693037, 0.05734943820948965, 0.01734069244383468, 0.0722697317012312, 0.05928586564873937, 0.020383620478225825, -0.06387738745139336, 0.0731479526872237, -0.11947575840074812, -0.021879772604650145, 0.007051946894160569, -0.11587789128792673, -0.029489959233194033, 0.0245038873965831, -0.22674182514581367, 0.1855868753934979, 0.02652904555715541, -0.08355731858488841, 0.02271033632389803, 0.012750216054734368, -0.004545403831085805, 0.05288317573461938, 0.04455440961369426, 0.006320486859715026, -0.020830466740853724, 0.03908080693228729, 0.03696174966775873, 0.04684326821314182, 0.07586875893813526, 0.01218101586902173, 0.030568793336925984, -0.013160660413063381, -0.023772721235518244, 0.010463600446380035, 0.15435087083395344, 0.05328364069581567, 0.03668519509363172, 0.026971185951438444, -0.055116993369068175, 0.0713505621453447, 0.01968296305267623, 0.02097372571737403, 0.02117080909957279, 0.07265206924782532, -0.00427890061713795, -0.013139228403311467, 0.009706778931267368, -0.015703161473124033, 0.01811598764275582, -0.00024171515510350134, 0.07161750746556564, -0.018388215059625592, 0.0007394585026639353, -0.07209080021766275, -0.13415041030785424, 0.03534678213103352, -0.008856660256481833, 0.03499844968457252, 0.03338388246704054, -0.006271778005085218, 0.09208301142137103, -0.014078384352799664, 0.01516059743491713, 0.10068547220560334, -0.097964995261831, 0.02049885131953175, -0.0549125137560267, 0.08215391447595947, 0.030666533605705495, 0.015124536520408733, 0.012088488747161395, 0.015989245422839745, 0.015902448027523355, 0.02833933528487295, -0.01238269787450063, 0.03901142641629735, 0.0219423555490009, 0.017153614042607457, -0.023144614350325117, -0.005328820494638318, 0.018414330058115668, 0.06659636178102765, -0.01691435933647997, -0.009487742257227044, 0.020101718491867565, 0.13483607794342936, 0.03135915542098651, 0.05045696941754062, 0.09673088136057711, 0.013063527711199297, 0.08450046430858552, 0.022433830029942488, -0.006062750194564678, 0.06513022005589057, 0.045981812255187396, 0.028816884684486746, 0.05808219847517565, 0.035304207145157473, 0.013639313021602907, 0.02565428169837139, 0.040053466772829845, 0.0961322949976255, 0.019800129480981084, 0.04794195463519647, -0.035101400092213575, 0.00832081930641056, -0.015565440438294349, -0.05080227616251725, -0.04244794582610197, -0.03355448114830664, -0.014197291104859835, 0.013876679873552246, -0.017724233709066475, -0.028358341689608584, 0.0126973756440293, -0.10424681660465453, -0.09866778492036801, -0.048272449288132395, -0.00321229654525031, -0.10936798153088279, 0.012778528891404684, -0.06136187079650812, -0.2690699900664296, 0.023182882969082427, 0.0066291248360221275, 0.012577482760901879, -0.05572700687331323, 0.013796789291911946, 0.011093431937434074], \"yaxis\": \"y\"}],\n",
              "                        {\"autosize\": false, \"height\": 600, \"template\": {\"data\": {\"bar\": [{\"error_x\": {\"color\": \"#2a3f5f\"}, \"error_y\": {\"color\": \"#2a3f5f\"}, \"marker\": {\"line\": {\"color\": \"#E5ECF6\", \"width\": 0.5}}, \"type\": \"bar\"}], \"barpolar\": [{\"marker\": {\"line\": {\"color\": \"#E5ECF6\", \"width\": 0.5}}, \"type\": \"barpolar\"}], \"carpet\": [{\"aaxis\": {\"endlinecolor\": \"#2a3f5f\", \"gridcolor\": \"white\", \"linecolor\": \"white\", \"minorgridcolor\": \"white\", \"startlinecolor\": \"#2a3f5f\"}, \"baxis\": {\"endlinecolor\": \"#2a3f5f\", \"gridcolor\": \"white\", \"linecolor\": \"white\", \"minorgridcolor\": \"white\", \"startlinecolor\": \"#2a3f5f\"}, \"type\": \"carpet\"}], \"choropleth\": [{\"colorbar\": {\"outlinewidth\": 0, \"ticks\": \"\"}, \"type\": \"choropleth\"}], \"contour\": [{\"colorbar\": {\"outlinewidth\": 0, \"ticks\": \"\"}, \"colorscale\": [[0.0, \"#0d0887\"], [0.1111111111111111, \"#46039f\"], [0.2222222222222222, \"#7201a8\"], [0.3333333333333333, \"#9c179e\"], [0.4444444444444444, \"#bd3786\"], [0.5555555555555556, \"#d8576b\"], [0.6666666666666666, \"#ed7953\"], [0.7777777777777778, \"#fb9f3a\"], [0.8888888888888888, \"#fdca26\"], [1.0, \"#f0f921\"]], \"type\": \"contour\"}], \"contourcarpet\": [{\"colorbar\": {\"outlinewidth\": 0, \"ticks\": \"\"}, \"type\": \"contourcarpet\"}], \"heatmap\": [{\"colorbar\": {\"outlinewidth\": 0, \"ticks\": \"\"}, \"colorscale\": [[0.0, \"#0d0887\"], [0.1111111111111111, \"#46039f\"], [0.2222222222222222, \"#7201a8\"], [0.3333333333333333, \"#9c179e\"], [0.4444444444444444, \"#bd3786\"], [0.5555555555555556, \"#d8576b\"], [0.6666666666666666, \"#ed7953\"], [0.7777777777777778, \"#fb9f3a\"], [0.8888888888888888, \"#fdca26\"], [1.0, \"#f0f921\"]], \"type\": \"heatmap\"}], \"heatmapgl\": [{\"colorbar\": {\"outlinewidth\": 0, \"ticks\": \"\"}, \"colorscale\": [[0.0, \"#0d0887\"], [0.1111111111111111, \"#46039f\"], [0.2222222222222222, \"#7201a8\"], [0.3333333333333333, \"#9c179e\"], [0.4444444444444444, \"#bd3786\"], [0.5555555555555556, \"#d8576b\"], [0.6666666666666666, \"#ed7953\"], [0.7777777777777778, \"#fb9f3a\"], [0.8888888888888888, \"#fdca26\"], [1.0, \"#f0f921\"]], \"type\": \"heatmapgl\"}], \"histogram\": [{\"marker\": {\"colorbar\": {\"outlinewidth\": 0, \"ticks\": \"\"}}, \"type\": \"histogram\"}], \"histogram2d\": [{\"colorbar\": {\"outlinewidth\": 0, \"ticks\": \"\"}, \"colorscale\": [[0.0, \"#0d0887\"], [0.1111111111111111, \"#46039f\"], [0.2222222222222222, \"#7201a8\"], [0.3333333333333333, \"#9c179e\"], [0.4444444444444444, \"#bd3786\"], [0.5555555555555556, \"#d8576b\"], [0.6666666666666666, \"#ed7953\"], [0.7777777777777778, \"#fb9f3a\"], [0.8888888888888888, \"#fdca26\"], [1.0, \"#f0f921\"]], \"type\": \"histogram2d\"}], \"histogram2dcontour\": [{\"colorbar\": {\"outlinewidth\": 0, \"ticks\": \"\"}, \"colorscale\": [[0.0, \"#0d0887\"], [0.1111111111111111, \"#46039f\"], [0.2222222222222222, \"#7201a8\"], [0.3333333333333333, \"#9c179e\"], [0.4444444444444444, \"#bd3786\"], [0.5555555555555556, \"#d8576b\"], [0.6666666666666666, \"#ed7953\"], [0.7777777777777778, \"#fb9f3a\"], [0.8888888888888888, \"#fdca26\"], [1.0, \"#f0f921\"]], \"type\": \"histogram2dcontour\"}], \"mesh3d\": [{\"colorbar\": {\"outlinewidth\": 0, \"ticks\": \"\"}, \"type\": \"mesh3d\"}], \"parcoords\": [{\"line\": {\"colorbar\": {\"outlinewidth\": 0, \"ticks\": \"\"}}, \"type\": \"parcoords\"}], \"pie\": [{\"automargin\": true, \"type\": \"pie\"}], \"scatter\": [{\"marker\": {\"colorbar\": {\"outlinewidth\": 0, \"ticks\": \"\"}}, \"type\": \"scatter\"}], \"scatter3d\": [{\"line\": {\"colorbar\": {\"outlinewidth\": 0, \"ticks\": \"\"}}, \"marker\": {\"colorbar\": {\"outlinewidth\": 0, \"ticks\": \"\"}}, \"type\": \"scatter3d\"}], \"scattercarpet\": [{\"marker\": {\"colorbar\": {\"outlinewidth\": 0, \"ticks\": \"\"}}, \"type\": \"scattercarpet\"}], \"scattergeo\": [{\"marker\": {\"colorbar\": {\"outlinewidth\": 0, \"ticks\": \"\"}}, \"type\": \"scattergeo\"}], \"scattergl\": [{\"marker\": {\"colorbar\": {\"outlinewidth\": 0, \"ticks\": \"\"}}, \"type\": \"scattergl\"}], \"scattermapbox\": [{\"marker\": {\"colorbar\": {\"outlinewidth\": 0, \"ticks\": \"\"}}, \"type\": \"scattermapbox\"}], \"scatterpolar\": [{\"marker\": {\"colorbar\": {\"outlinewidth\": 0, \"ticks\": \"\"}}, \"type\": \"scatterpolar\"}], \"scatterpolargl\": [{\"marker\": {\"colorbar\": {\"outlinewidth\": 0, \"ticks\": \"\"}}, \"type\": \"scatterpolargl\"}], \"scatterternary\": [{\"marker\": {\"colorbar\": {\"outlinewidth\": 0, \"ticks\": \"\"}}, \"type\": \"scatterternary\"}], \"surface\": [{\"colorbar\": {\"outlinewidth\": 0, \"ticks\": \"\"}, \"colorscale\": [[0.0, \"#0d0887\"], [0.1111111111111111, \"#46039f\"], [0.2222222222222222, \"#7201a8\"], [0.3333333333333333, \"#9c179e\"], [0.4444444444444444, \"#bd3786\"], [0.5555555555555556, \"#d8576b\"], [0.6666666666666666, \"#ed7953\"], [0.7777777777777778, \"#fb9f3a\"], [0.8888888888888888, \"#fdca26\"], [1.0, \"#f0f921\"]], \"type\": \"surface\"}], \"table\": [{\"cells\": {\"fill\": {\"color\": \"#EBF0F8\"}, \"line\": {\"color\": \"white\"}}, \"header\": {\"fill\": {\"color\": \"#C8D4E3\"}, \"line\": {\"color\": \"white\"}}, \"type\": \"table\"}]}, \"layout\": {\"annotationdefaults\": {\"arrowcolor\": \"#2a3f5f\", \"arrowhead\": 0, \"arrowwidth\": 1}, \"coloraxis\": {\"colorbar\": {\"outlinewidth\": 0, \"ticks\": \"\"}}, \"colorscale\": {\"diverging\": [[0, \"#8e0152\"], [0.1, \"#c51b7d\"], [0.2, \"#de77ae\"], [0.3, \"#f1b6da\"], [0.4, \"#fde0ef\"], [0.5, \"#f7f7f7\"], [0.6, \"#e6f5d0\"], [0.7, \"#b8e186\"], [0.8, \"#7fbc41\"], [0.9, \"#4d9221\"], [1, \"#276419\"]], \"sequential\": [[0.0, \"#0d0887\"], [0.1111111111111111, \"#46039f\"], [0.2222222222222222, \"#7201a8\"], [0.3333333333333333, \"#9c179e\"], [0.4444444444444444, \"#bd3786\"], [0.5555555555555556, \"#d8576b\"], [0.6666666666666666, \"#ed7953\"], [0.7777777777777778, \"#fb9f3a\"], [0.8888888888888888, \"#fdca26\"], [1.0, \"#f0f921\"]], \"sequentialminus\": [[0.0, \"#0d0887\"], [0.1111111111111111, \"#46039f\"], [0.2222222222222222, \"#7201a8\"], [0.3333333333333333, \"#9c179e\"], [0.4444444444444444, \"#bd3786\"], [0.5555555555555556, \"#d8576b\"], [0.6666666666666666, \"#ed7953\"], [0.7777777777777778, \"#fb9f3a\"], [0.8888888888888888, \"#fdca26\"], [1.0, \"#f0f921\"]]}, \"colorway\": [\"#636efa\", \"#EF553B\", \"#00cc96\", \"#ab63fa\", \"#FFA15A\", \"#19d3f3\", \"#FF6692\", \"#B6E880\", \"#FF97FF\", \"#FECB52\"], \"font\": {\"color\": \"#2a3f5f\"}, \"geo\": {\"bgcolor\": \"white\", \"lakecolor\": \"white\", \"landcolor\": \"#E5ECF6\", \"showlakes\": true, \"showland\": true, \"subunitcolor\": \"white\"}, \"hoverlabel\": {\"align\": \"left\"}, \"hovermode\": \"closest\", \"mapbox\": {\"style\": \"light\"}, \"paper_bgcolor\": \"white\", \"plot_bgcolor\": \"#E5ECF6\", \"polar\": {\"angularaxis\": {\"gridcolor\": \"white\", \"linecolor\": \"white\", \"ticks\": \"\"}, \"bgcolor\": \"#E5ECF6\", \"radialaxis\": {\"gridcolor\": \"white\", \"linecolor\": \"white\", \"ticks\": \"\"}}, \"scene\": {\"xaxis\": {\"backgroundcolor\": \"#E5ECF6\", \"gridcolor\": \"white\", \"gridwidth\": 2, \"linecolor\": \"white\", \"showbackground\": true, \"ticks\": \"\", \"zerolinecolor\": \"white\"}, \"yaxis\": {\"backgroundcolor\": \"#E5ECF6\", \"gridcolor\": \"white\", \"gridwidth\": 2, \"linecolor\": \"white\", \"showbackground\": true, \"ticks\": \"\", \"zerolinecolor\": \"white\"}, \"zaxis\": {\"backgroundcolor\": \"#E5ECF6\", \"gridcolor\": \"white\", \"gridwidth\": 2, \"linecolor\": \"white\", \"showbackground\": true, \"ticks\": \"\", \"zerolinecolor\": \"white\"}}, \"shapedefaults\": {\"line\": {\"color\": \"#2a3f5f\"}}, \"ternary\": {\"aaxis\": {\"gridcolor\": \"white\", \"linecolor\": \"white\", \"ticks\": \"\"}, \"baxis\": {\"gridcolor\": \"white\", \"linecolor\": \"white\", \"ticks\": \"\"}, \"bgcolor\": \"#E5ECF6\", \"caxis\": {\"gridcolor\": \"white\", \"linecolor\": \"white\", \"ticks\": \"\"}}, \"title\": {\"x\": 0.05}, \"xaxis\": {\"automargin\": true, \"gridcolor\": \"white\", \"linecolor\": \"white\", \"ticks\": \"\", \"title\": {\"standoff\": 15}, \"zerolinecolor\": \"white\", \"zerolinewidth\": 2}, \"yaxis\": {\"automargin\": true, \"gridcolor\": \"white\", \"linecolor\": \"white\", \"ticks\": \"\", \"title\": {\"standoff\": 15}, \"zerolinecolor\": \"white\", \"zerolinewidth\": 2}}}, \"title\": {\"text\": \"NDVI_NE\"}, \"width\": 1200, \"xaxis\": {\"anchor\": \"y\", \"domain\": [0.0, 1.0]}, \"yaxis\": {\"anchor\": \"x\", \"domain\": [0.0, 1.0]}},\n",
              "                        {\"responsive\": true}\n",
              "                    ).then(function(){\n",
              "                            \n",
              "var gd = document.getElementById('48fdc560-0a67-46ff-bb25-5b31847c2ecd');\n",
              "var x = new MutationObserver(function (mutations, observer) {{\n",
              "        var display = window.getComputedStyle(gd).display;\n",
              "        if (!display || display === 'none') {{\n",
              "            console.log([gd, 'removed!']);\n",
              "            Plotly.purge(gd);\n",
              "            observer.disconnect();\n",
              "        }}\n",
              "}});\n",
              "\n",
              "// Listen for the removal of the full notebook cells\n",
              "var notebookContainer = gd.closest('#notebook-container');\n",
              "if (notebookContainer) {{\n",
              "    x.observe(notebookContainer, {childList: true});\n",
              "}}\n",
              "\n",
              "// Listen for the clearing of the current output cell\n",
              "var outputEl = gd.closest('.output');\n",
              "if (outputEl) {{\n",
              "    x.observe(outputEl, {childList: true});\n",
              "}}\n",
              "\n",
              "                        })\n",
              "                };\n",
              "                \n",
              "            </script>\n",
              "        </div>\n",
              "</body>\n",
              "</html>"
            ]
          },
          "metadata": {
            "tags": []
          }
        }
      ]
    },
    {
      "cell_type": "code",
      "metadata": {
        "id": "mTlMlqM6P8Qu"
      },
      "source": [
        ""
      ],
      "execution_count": 51,
      "outputs": []
    },
    {
      "cell_type": "markdown",
      "metadata": {
        "id": "H6nZdAbsP8yg"
      },
      "source": [
        "Gradient boosting NDVI"
      ]
    },
    {
      "cell_type": "code",
      "metadata": {
        "colab": {
          "base_uri": "https://localhost:8080/",
          "height": 419
        },
        "id": "uCl7D3swQZY3",
        "outputId": "006650e9-e875-4988-835a-2becb9ddfddd"
      },
      "source": [
        "XX_ndv"
      ],
      "execution_count": 52,
      "outputs": [
        {
          "output_type": "execute_result",
          "data": {
            "text/html": [
              "<div>\n",
              "<style scoped>\n",
              "    .dataframe tbody tr th:only-of-type {\n",
              "        vertical-align: middle;\n",
              "    }\n",
              "\n",
              "    .dataframe tbody tr th {\n",
              "        vertical-align: top;\n",
              "    }\n",
              "\n",
              "    .dataframe thead th {\n",
              "        text-align: right;\n",
              "    }\n",
              "</style>\n",
              "<table border=\"1\" class=\"dataframe\">\n",
              "  <thead>\n",
              "    <tr style=\"text-align: right;\">\n",
              "      <th></th>\n",
              "      <th>ndvi_ne</th>\n",
              "      <th>ndvi_nw</th>\n",
              "      <th>ndvi_se</th>\n",
              "      <th>ndvi_sw</th>\n",
              "      <th>ne_pred</th>\n",
              "      <th>ssz</th>\n",
              "    </tr>\n",
              "  </thead>\n",
              "  <tbody>\n",
              "    <tr>\n",
              "      <th>0</th>\n",
              "      <td>0.122600</td>\n",
              "      <td>0.103725</td>\n",
              "      <td>0.198483</td>\n",
              "      <td>0.177617</td>\n",
              "      <td>0.077695</td>\n",
              "      <td>0</td>\n",
              "    </tr>\n",
              "    <tr>\n",
              "      <th>1</th>\n",
              "      <td>0.169900</td>\n",
              "      <td>0.142175</td>\n",
              "      <td>0.162357</td>\n",
              "      <td>0.155486</td>\n",
              "      <td>0.116948</td>\n",
              "      <td>1</td>\n",
              "    </tr>\n",
              "    <tr>\n",
              "      <th>2</th>\n",
              "      <td>0.032250</td>\n",
              "      <td>0.172967</td>\n",
              "      <td>0.157200</td>\n",
              "      <td>0.170843</td>\n",
              "      <td>0.110966</td>\n",
              "      <td>2</td>\n",
              "    </tr>\n",
              "    <tr>\n",
              "      <th>3</th>\n",
              "      <td>0.128633</td>\n",
              "      <td>0.245067</td>\n",
              "      <td>0.227557</td>\n",
              "      <td>0.235886</td>\n",
              "      <td>0.165768</td>\n",
              "      <td>3</td>\n",
              "    </tr>\n",
              "    <tr>\n",
              "      <th>4</th>\n",
              "      <td>0.196200</td>\n",
              "      <td>0.262200</td>\n",
              "      <td>0.251200</td>\n",
              "      <td>0.247340</td>\n",
              "      <td>0.212346</td>\n",
              "      <td>4</td>\n",
              "    </tr>\n",
              "    <tr>\n",
              "      <th>...</th>\n",
              "      <td>...</td>\n",
              "      <td>...</td>\n",
              "      <td>...</td>\n",
              "      <td>...</td>\n",
              "      <td>...</td>\n",
              "      <td>...</td>\n",
              "    </tr>\n",
              "    <tr>\n",
              "      <th>931</th>\n",
              "      <td>0.077850</td>\n",
              "      <td>-0.039900</td>\n",
              "      <td>0.310471</td>\n",
              "      <td>0.296243</td>\n",
              "      <td>0.006629</td>\n",
              "      <td>931</td>\n",
              "    </tr>\n",
              "    <tr>\n",
              "      <th>932</th>\n",
              "      <td>-0.038000</td>\n",
              "      <td>-0.016833</td>\n",
              "      <td>0.119371</td>\n",
              "      <td>0.066386</td>\n",
              "      <td>0.012577</td>\n",
              "      <td>932</td>\n",
              "    </tr>\n",
              "    <tr>\n",
              "      <th>933</th>\n",
              "      <td>-0.155200</td>\n",
              "      <td>-0.052750</td>\n",
              "      <td>0.137757</td>\n",
              "      <td>0.141214</td>\n",
              "      <td>-0.055727</td>\n",
              "      <td>933</td>\n",
              "    </tr>\n",
              "    <tr>\n",
              "      <th>934</th>\n",
              "      <td>0.001800</td>\n",
              "      <td>-0.010367</td>\n",
              "      <td>0.203900</td>\n",
              "      <td>0.209843</td>\n",
              "      <td>0.013797</td>\n",
              "      <td>934</td>\n",
              "    </tr>\n",
              "    <tr>\n",
              "      <th>935</th>\n",
              "      <td>-0.037000</td>\n",
              "      <td>-0.010367</td>\n",
              "      <td>0.077314</td>\n",
              "      <td>0.090586</td>\n",
              "      <td>0.011093</td>\n",
              "      <td>935</td>\n",
              "    </tr>\n",
              "  </tbody>\n",
              "</table>\n",
              "<p>936 rows × 6 columns</p>\n",
              "</div>"
            ],
            "text/plain": [
              "      ndvi_ne   ndvi_nw   ndvi_se   ndvi_sw   ne_pred  ssz\n",
              "0    0.122600  0.103725  0.198483  0.177617  0.077695    0\n",
              "1    0.169900  0.142175  0.162357  0.155486  0.116948    1\n",
              "2    0.032250  0.172967  0.157200  0.170843  0.110966    2\n",
              "3    0.128633  0.245067  0.227557  0.235886  0.165768    3\n",
              "4    0.196200  0.262200  0.251200  0.247340  0.212346    4\n",
              "..        ...       ...       ...       ...       ...  ...\n",
              "931  0.077850 -0.039900  0.310471  0.296243  0.006629  931\n",
              "932 -0.038000 -0.016833  0.119371  0.066386  0.012577  932\n",
              "933 -0.155200 -0.052750  0.137757  0.141214 -0.055727  933\n",
              "934  0.001800 -0.010367  0.203900  0.209843  0.013797  934\n",
              "935 -0.037000 -0.010367  0.077314  0.090586  0.011093  935\n",
              "\n",
              "[936 rows x 6 columns]"
            ]
          },
          "metadata": {
            "tags": []
          },
          "execution_count": 52
        }
      ]
    },
    {
      "cell_type": "code",
      "metadata": {
        "colab": {
          "base_uri": "https://localhost:8080/"
        },
        "id": "L1VLK2ZFPvD_",
        "outputId": "533c56a2-9b19-47f2-a443-afc41c31aa08"
      },
      "source": [
        "ne_regressor=GradientBoostingRegressor(n_estimators=3900,verbose=1)\n",
        "X_ndv=XX_ndv[XX_ndv.index<800]\n",
        "X_ndv_test=XX_ndv[XX_ndv.index>=800]\n",
        "\n",
        "ndv_features=[\"ndvi_nw\",\"ndvi_se\",\"ndvi_sw\"]\n",
        "yy=X_ndv[['ndvi_ne']]\n",
        "\n",
        "ne_regressor.fit(X_ndv[ndv_features],yy)\n",
        "y_pred=ne_regressor.predict(X_ndv[ndv_features])\n",
        "X_ndv[\"gradientboosting_ne\"]=y_pred\n",
        "\n",
        "y_pred=ne_regressor.predict(X_ndv_test[ndv_features])\n",
        "X_ndv_test[\"gradientboosting_ne\"]=y_pred\n",
        "\n"
      ],
      "execution_count": 53,
      "outputs": [
        {
          "output_type": "stream",
          "text": [
            "/usr/local/lib/python3.7/dist-packages/sklearn/ensemble/_gb.py:1454: DataConversionWarning:\n",
            "\n",
            "A column-vector y was passed when a 1d array was expected. Please change the shape of y to (n_samples, ), for example using ravel().\n",
            "\n"
          ],
          "name": "stderr"
        },
        {
          "output_type": "stream",
          "text": [
            "      Iter       Train Loss   Remaining Time \n",
            "         1           0.0107            5.72s\n",
            "         2           0.0100            5.40s\n",
            "         3           0.0094            5.41s\n",
            "         4           0.0088            5.19s\n",
            "         5           0.0084            5.10s\n",
            "         6           0.0079            5.09s\n",
            "         7           0.0076            5.04s\n",
            "         8           0.0073            5.15s\n",
            "         9           0.0071            5.14s\n",
            "        10           0.0068            5.12s\n",
            "        20           0.0056            4.29s\n",
            "        30           0.0051            4.07s\n",
            "        40           0.0047            4.02s\n",
            "        50           0.0045            3.93s\n",
            "        60           0.0042            3.84s\n",
            "        70           0.0040            3.83s\n",
            "        80           0.0038            3.98s\n",
            "        90           0.0036            3.90s\n",
            "       100           0.0035            3.85s\n",
            "       200           0.0022            3.49s\n",
            "       300           0.0016            3.49s\n",
            "       400           0.0011            3.45s\n",
            "       500           0.0008            3.26s\n",
            "       600           0.0006            3.12s\n",
            "       700           0.0005            3.01s\n",
            "       800           0.0004            2.91s\n",
            "       900           0.0003            2.83s\n",
            "      1000           0.0002            2.72s\n",
            "      2000           0.0000            1.72s\n",
            "      3000           0.0000            0.80s\n"
          ],
          "name": "stdout"
        },
        {
          "output_type": "stream",
          "text": [
            "/usr/local/lib/python3.7/dist-packages/ipykernel_launcher.py:10: SettingWithCopyWarning:\n",
            "\n",
            "\n",
            "A value is trying to be set on a copy of a slice from a DataFrame.\n",
            "Try using .loc[row_indexer,col_indexer] = value instead\n",
            "\n",
            "See the caveats in the documentation: https://pandas.pydata.org/pandas-docs/stable/user_guide/indexing.html#returning-a-view-versus-a-copy\n",
            "\n",
            "/usr/local/lib/python3.7/dist-packages/ipykernel_launcher.py:13: SettingWithCopyWarning:\n",
            "\n",
            "\n",
            "A value is trying to be set on a copy of a slice from a DataFrame.\n",
            "Try using .loc[row_indexer,col_indexer] = value instead\n",
            "\n",
            "See the caveats in the documentation: https://pandas.pydata.org/pandas-docs/stable/user_guide/indexing.html#returning-a-view-versus-a-copy\n",
            "\n"
          ],
          "name": "stderr"
        }
      ]
    },
    {
      "cell_type": "code",
      "metadata": {
        "id": "le5_iY7u6DxT",
        "colab": {
          "base_uri": "https://localhost:8080/",
          "height": 1000
        },
        "outputId": "571e0f62-2871-4936-ad14-ee2693e63c59"
      },
      "source": [
        "grafikon(X_ndv,\"ssz\",\"ndvi_ne\",\"ndvi_ne\",\"gradientboosting_ne\",\"gradientboosting_ne\",ngraf=2,title=\"gradientboosting_ne\")\n",
        "grafikon(X_ndv_test,\"ssz\",\"ndvi_ne\",\"ndvi_ne\",\"gradientboosting_ne\",\"gradientboosting_ne\",ngraf=2,title=\"gradientboosting_ne\")\n"
      ],
      "execution_count": 54,
      "outputs": [
        {
          "output_type": "display_data",
          "data": {
            "text/html": [
              "<html>\n",
              "<head><meta charset=\"utf-8\" /></head>\n",
              "<body>\n",
              "    <div>\n",
              "            <script src=\"https://cdnjs.cloudflare.com/ajax/libs/mathjax/2.7.5/MathJax.js?config=TeX-AMS-MML_SVG\"></script><script type=\"text/javascript\">if (window.MathJax) {MathJax.Hub.Config({SVG: {font: \"STIX-Web\"}});}</script>\n",
              "                <script type=\"text/javascript\">window.PlotlyConfig = {MathJaxConfig: 'local'};</script>\n",
              "        <script src=\"https://cdn.plot.ly/plotly-latest.min.js\"></script>    \n",
              "            <div id=\"5e9fbbd3-3ccb-4665-bd01-536435cbd537\" class=\"plotly-graph-div\" style=\"height:600px; width:1200px;\"></div>\n",
              "            <script type=\"text/javascript\">\n",
              "                \n",
              "                    window.PLOTLYENV=window.PLOTLYENV || {};\n",
              "                    \n",
              "                if (document.getElementById(\"5e9fbbd3-3ccb-4665-bd01-536435cbd537\")) {\n",
              "                    Plotly.newPlot(\n",
              "                        '5e9fbbd3-3ccb-4665-bd01-536435cbd537',\n",
              "                        [{\"line\": {\"color\": \"rgba(35,128,132,0.8)\"}, \"name\": \"ndvi_ne\", \"showlegend\": true, \"type\": \"scatter\", \"x\": [0, 1, 2, 3, 4, 5, 6, 7, 8, 9, 10, 11, 12, 13, 14, 15, 16, 17, 18, 19, 20, 21, 22, 23, 24, 25, 26, 27, 28, 29, 30, 31, 32, 33, 34, 35, 36, 37, 38, 39, 40, 41, 42, 43, 44, 45, 46, 47, 48, 49, 50, 51, 52, 53, 54, 55, 56, 57, 58, 59, 60, 61, 62, 63, 64, 65, 66, 67, 68, 69, 70, 71, 72, 73, 74, 75, 76, 77, 78, 79, 80, 81, 82, 83, 84, 85, 86, 87, 88, 89, 90, 91, 92, 93, 94, 95, 96, 97, 98, 99, 100, 101, 102, 103, 104, 105, 106, 107, 108, 109, 110, 111, 112, 113, 114, 115, 116, 117, 118, 119, 120, 121, 122, 123, 124, 125, 126, 127, 128, 129, 130, 131, 132, 133, 134, 135, 136, 137, 138, 139, 140, 141, 142, 143, 144, 145, 146, 147, 148, 149, 150, 151, 152, 153, 154, 155, 156, 157, 158, 159, 160, 161, 162, 163, 164, 165, 166, 167, 168, 169, 170, 171, 172, 173, 174, 175, 176, 177, 178, 179, 180, 181, 182, 183, 184, 185, 186, 187, 188, 189, 190, 191, 192, 193, 194, 195, 196, 197, 198, 199, 200, 201, 202, 203, 204, 205, 206, 207, 208, 209, 210, 211, 212, 213, 214, 215, 216, 217, 218, 219, 220, 221, 222, 223, 224, 225, 226, 227, 228, 229, 230, 231, 232, 233, 234, 235, 236, 237, 238, 239, 240, 241, 242, 243, 244, 245, 246, 247, 248, 249, 250, 251, 252, 253, 254, 255, 256, 257, 258, 259, 260, 261, 262, 263, 264, 265, 266, 267, 268, 269, 270, 271, 272, 273, 274, 275, 276, 277, 278, 279, 280, 281, 282, 283, 284, 285, 286, 287, 288, 289, 290, 291, 292, 293, 294, 295, 296, 297, 298, 299, 300, 301, 302, 303, 304, 305, 306, 307, 308, 309, 310, 311, 312, 313, 314, 315, 316, 317, 318, 319, 320, 321, 322, 323, 324, 325, 326, 327, 328, 329, 330, 331, 332, 333, 334, 335, 336, 337, 338, 339, 340, 341, 342, 343, 344, 345, 346, 347, 348, 349, 350, 351, 352, 353, 354, 355, 356, 357, 358, 359, 360, 361, 362, 363, 364, 365, 366, 367, 368, 369, 370, 371, 372, 373, 374, 375, 376, 377, 378, 379, 380, 381, 382, 383, 384, 385, 386, 387, 388, 389, 390, 391, 392, 393, 394, 395, 396, 397, 398, 399, 400, 401, 402, 403, 404, 405, 406, 407, 408, 409, 410, 411, 412, 413, 414, 415, 416, 417, 418, 419, 420, 421, 422, 423, 424, 425, 426, 427, 428, 429, 430, 431, 432, 433, 434, 435, 436, 437, 438, 439, 440, 441, 442, 443, 444, 445, 446, 447, 448, 449, 450, 451, 452, 453, 454, 455, 456, 457, 458, 459, 460, 461, 462, 463, 464, 465, 466, 467, 468, 469, 470, 471, 472, 473, 474, 475, 476, 477, 478, 479, 480, 481, 482, 483, 484, 485, 486, 487, 488, 489, 490, 491, 492, 493, 494, 495, 496, 497, 498, 499, 500, 501, 502, 503, 504, 505, 506, 507, 508, 509, 510, 511, 512, 513, 514, 515, 516, 517, 518, 519, 520, 521, 522, 523, 524, 525, 526, 527, 528, 529, 530, 531, 532, 533, 534, 535, 536, 537, 538, 539, 540, 541, 542, 543, 544, 545, 546, 547, 548, 549, 550, 551, 552, 553, 554, 555, 556, 557, 558, 559, 560, 561, 562, 563, 564, 565, 566, 567, 568, 569, 570, 571, 572, 573, 574, 575, 576, 577, 578, 579, 580, 581, 582, 583, 584, 585, 586, 587, 588, 589, 590, 591, 592, 593, 594, 595, 596, 597, 598, 599, 600, 601, 602, 603, 604, 605, 606, 607, 608, 609, 610, 611, 612, 613, 614, 615, 616, 617, 618, 619, 620, 621, 622, 623, 624, 625, 626, 627, 628, 629, 630, 631, 632, 633, 634, 635, 636, 637, 638, 639, 640, 641, 642, 643, 644, 645, 646, 647, 648, 649, 650, 651, 652, 653, 654, 655, 656, 657, 658, 659, 660, 661, 662, 663, 664, 665, 666, 667, 668, 669, 670, 671, 672, 673, 674, 675, 676, 677, 678, 679, 680, 681, 682, 683, 684, 685, 686, 687, 688, 689, 690, 691, 692, 693, 694, 695, 696, 697, 698, 699, 700, 701, 702, 703, 704, 705, 706, 707, 708, 709, 710, 711, 712, 713, 714, 715, 716, 717, 718, 719, 720, 721, 722, 723, 724, 725, 726, 727, 728, 729, 730, 731, 732, 733, 734, 735, 736, 737, 738, 739, 740, 741, 742, 743, 744, 745, 746, 747, 748, 749, 750, 751, 752, 753, 754, 755, 756, 757, 758, 759, 760, 761, 762, 763, 764, 765, 766, 767, 768, 769, 770, 771, 772, 773, 774, 775, 776, 777, 778, 779, 780, 781, 782, 783, 784, 785, 786, 787, 788, 789, 790, 791, 792, 793, 794, 795, 796, 797, 798, 799], \"xaxis\": \"x\", \"y\": [0.1226, 0.1699, 0.03225, 0.1286333, 0.1962, 0.1129, 0.1129, 0.0725, 0.10245, 0.192875, 0.192875, 0.2916, 0.15056670000000003, 0.1902333, 0.1902333, 0.1902333, 0.1902333, 0.2529, 0.2354, 0.1279667, 0.19635, 0.1161, 0.22855, 0.17115, 0.1462, 0.1462, 0.25225, 0.1526, 0.2908, 0.2722, 0.13676670000000002, 0.1098, 0.12135, 0.2931333, 0.3025, 0.1465, 0.3313, 0.3313, 0.3313, 0.0917, 0.3801, 0.0712, 0.1702, 0.1702, 0.21075, 0.1279, 0.1279, 0.28035, 0.1691, 0.1765, 0.0774, 0.20916669999999998, 0.20916669999999998, 0.11595, 0.0669, 0.0669, 0.1401, 0.08585, 0.1091, 0.0596, 0.07965, 0.0969, 0.0969, 0.0801, 0.0801, 0.07315, 0.07315, 0.0593, 0.0569, 0.0693, 0.10805, 0.10475, 0.1098, 0.1676, 0.1291, 0.09300000000000001, 0.0137, 0.1944, 0.094, 0.0544, 0.0954, 0.00825, 0.08786667, 0.0802, -0.02665, 0.12355, 0.12355, 0.1251, 0.10083330000000001, 0.2224, 0.12253330000000001, 0.1016, 0.1016, 0.10705, 0.10705, 0.10705, 0.08685, 0.08685, 0.05305, 0.09995, 0.09995, 0.1039, 0.07515, 0.0922, 0.0125, 0.10875, 0.101875, 0.1024, 0.1215, 0.12165, 0.08395, 0.10445, 0.1302, 0.1194, 0.11199999999999999, 0.11199999999999999, -0.1396, 0.0539, 0.152675, 0.16395, 0.1146, 0.0875, 0.123975, 0.123975, 0.0519, 0.1435, 0.1972, 0.137225, 0.3371, -0.0156, 0.1242, 0.0866, 0.11800000000000001, 0.0764, 0.0971, 0.1083, 0.0547, -0.01008, -0.01008, 0.02835, 0.02835, 0.03006667, 0.06613333, 0.06613333, 0.047425, 0.2738, 0.11086669999999998, 0.1744667, 0.1744667, 0.09403333, -0.0411, 0.03225, 0.1194, -0.0158, -0.0158, 0.0828, 0.07965, 0.07965, 0.07305, 0.1769, 0.01645, 0.00305, 0.1206, 0.0374, 0.0374, 0.1237667, 0.0689, 0.0375, 0.1204, 0.08285, 0.1016, 0.1016, 0.0969, 0.10885, 0.0979, 0.1121, 0.1199, 0.0054, 0.034, 0.1213, 0.1317, 0.0129, 0.11699999999999999, -0.1589, -0.1589, 0.17315, 0.1071, 0.3572667, -0.2902, -0.2902, -0.0237, -0.1209, -0.1209, 0.1435, 0.0741, 0.0912, 0.2588, 0.0882, 0.3633, 0.1125, 0.1125, 0.1125, 0.1468, 0.0412, 0.0978, 0.10800000000000001, 0.16435, 0.0805, 0.0805, 0.0652, 0.1111, 0.0742, 0.1178, 0.1097, 0.08005, -0.0286, -0.0323, 0.12526669999999998, 0.12325, 0.1396, 0.0424, 0.183, 0.04465, 0.04465, 0.06666667, 0.1564, 0.02185, 0.04585, 0.2438, 0.2438, 0.2438, 0.2438, 0.2438, 0.2438, 0.2438, 0.2438, 0.2438, 0.2438, 0.2438, 0.2438, 0.2438, 0.2438, 0.2438, 0.2438, 0.223075, -0.1193, -0.1193, 0.05175, 0.03233333, 0.03233333, 0.0614, 0.0935, 0.07355, 0.14535, 0.0739, 0.031, 0.19862, 0.1017, 0.1017, 0.1017, 0.1281, 0.14345, 0.14345, 0.0363, 0.0322, 0.15495, 0.15495, 0.08955, 0.22135, 0.2319333, 0.3093, 0.1175, 0.1175, 0.0632, 0.0632, 0.047, 0.08396667, 0.1131, 0.0326, 0.1071, 0.0568, 0.11863330000000001, 0.1068, 0.2808, 0.040825, 0.033625, 0.2346, 0.2346, 0.0174, 0.0406, 0.0334, 0.1154, 0.1154, -0.0139, 0.013999999999999999, 0.013999999999999999, 0.1514333, 0.0149, 0.0958, 0.0627, 0.02765, 0.06895, 0.076, 0.076, 0.03786667, 0.03786667, 0.07713333, 0.0448, 0.0448, 0.0497, 0.08893333, 0.3144667, 0.3144667, -0.0464, 0.0339, 0.0339, 0.09985, 0.0529, 0.0986, 0.07125, 0.16555, 0.05763333, 0.05763333, 0.1121, 0.0038, 0.09683333, 0.0795, 0.0795, 0.01203333, 0.01203333, 0.0364, 0.1043, 0.04044, 0.04044, -0.0385, -0.0066, -0.0969, -0.0969, 0.00525, -0.05675, -0.03006667, -0.1171, -0.1171, -0.1171, 0.0214, 0.0214, 0.0214, 0.15263329999999997, -0.1459, -0.1459, 0.0495, 0.0451, 0.04245, 0.0455, 0.0297, 0.1409, 0.1409, 0.1409, 0.1409, 0.11245, 0.0602, 0.0602, 0.033075, 0.0388, -0.0035, -0.0597, 0.1019, 0.0798, 0.0235, 0.0557, 0.1197, 0.0108, 0.0749, 0.1012, 0.0883, -0.0562, -0.1562, 0.1393, 0.0981, 0.008933333, 0.06065, 0.06065, 0.1072, 0.03495, -0.049, 0.12258, 0.1123, 0.0019, -0.01515, 0.07745, 0.07745, 0.07745, 0.0695, 0.2192, 0.2192, 0.0568, 0.0663, 0.0663, 0.0663, 0.0455, 0.05076667, -0.01615, 0.1797, 0.13155, -0.0479, 0.11825, 0.1545, 0.1545, 0.06366667, 0.0604, 0.0604, 0.0672, 0.0672, 0.048, 0.0308, 0.0671, 0.1063, -0.003, -0.003, -0.003, 0.0484, -0.0427, 0.12125, 0.0725, 0.03745, 0.0715, -0.03095, 0.0289, 0.0554, 0.14065, 0.02866667, 0.05346667, 0.1072, 0.0307, 0.0388, 0.07465, 0.05085, 0.05085, -0.0022, 0.0213, 0.0213, 0.0213, -0.0359, 0.0038666670000000003, 0.0038666670000000003, 0.0501, 0.0501, 0.05675, 0.0619, -0.08216667, 0.06056667, -0.1399, -0.1399, -0.1399, -0.0698, 0.0535, 0.0669, 0.0669, 0.0263, 0.12905, -0.0509, -0.071225, -0.10475, 0.135, 0.0541, 0.0341, 0.0341, 0.0869, 0.07295, 0.064, 0.04023333, 0.04023333, 0.04023333, 0.04023333, 0.0499, 0.09746667, 0.09746667, 0.09746667, 0.09746667, 0.0545, 0.1169, 0.0101, -0.07305, 0.01015, 0.01015, -0.01465, 0.087, 0.087, -0.0121, 0.08305, 0.05016667, 0.1322, -0.0864, 0.06275, 0.06275, 0.06275, 0.1235, -0.0454, 0.0005, 0.1536, 0.10558, 0.10558, 0.1088, -0.1336, 0.20635, 0.337, 0.353, 0.3419, 0.29455, 0.19316670000000002, 0.19316670000000002, 0.17025, 0.17025, 0.3779, 0.2311, 0.2204, 0.2050333, 0.2050333, 0.07435, -0.287, 0.1544, 0.1302, 0.0865, 0.0865, 0.1882, 0.0849, 0.1459, 0.1097, 0.1431, 0.11045, 0.0812, 0.17185, 0.22305, 0.1667, 0.13025, 0.14415, 0.17645, 0.2156667, 0.1591, 0.1591, 0.0577, 0.1961, 0.253975, 0.253975, 0.38, 0.10035, 0.1535, 0.19015, 0.11056669999999999, 0.0979, 0.12015, 0.12015, 0.11875, 0.0044, 0.0632, 0.0048333329999999996, 0.09436667, 0.0411, 0.0411, 0.00915, -0.04485, -0.04485, 0.2170333, 0.4462667, 0.2485, 0.4229, 0.1274333, 0.2127, 0.2127, 0.0728, 0.0728, 0.0371, 0.0371, 0.0371, 0.1031, 0.08607999999999999, 0.0619, 0.0312, -0.02865, -0.02865, 0.02185, -0.0227, -0.0817, 0.0073, -0.0198, 0.0287, 0.2467, 0.08985, 0.0172, -0.0273, -0.0273, 0.1954, -0.0412, 0.0986, 0.16025, 0.0633, -0.0141, -0.0141, -0.01935, 0.0284, 0.0941, 0.1663, 0.21515, -0.0468, 0.0081, 0.02285, 0.1814, 0.05475, 0.106425, 0.0594, 0.0288, -0.0674, -0.0674, 0.0491, 0.0478, 0.0315, 0.042, 0.0709, 0.1535, 0.1777, -0.0056, -0.0263, -0.0176, -0.0176, 0.1506, 0.19375, 0.1138, 0.03345, 0.05325, 0.04185, -0.009666667, -0.009666667, -0.009666667, -0.009666667, -0.02455, -0.07045, -0.07045, -0.0836, -0.0006, 0.0001, 0.0776, 0.0009, 0.0895, 0.033, 0.0541, 0.0541, 0.07375, -0.05385, -0.1115, -0.1115, 0.00735, 0.2614, 0.14783329999999997, -0.005633333000000001, -0.005633333000000001, -0.2439, -0.1743, -0.043, 0.0358, -0.07195, -0.2, 0.0466, 0.053739999999999996, 0.0214, 0.0567, 0.0015, 0.0015, -0.03046667, -0.20635, 0.02535, -0.05203333, -0.1169, 0.0925, 0.12815, -0.078, -0.078, 0.0681, -0.0477, 0.01485, -0.0457, -0.0457, 0.05063333, 0.05063333, 0.0675, -0.1798, -0.0853, -0.05675, -0.05675, 0.1045, 0.04995, 0.0785, 0.0348, 0.0726, 0.09445, 0.09445, 0.09445, -0.0939, -0.0874, 0.0204, 0.0204, 0.0161, -0.0416, 0.0892, 0.06925, 0.06925, -0.21795, -0.07015, -0.00305, -0.1476, -0.03753333, 0.02085, -0.2683, -0.0731, -0.18635, -0.18635, -0.0535, -0.0423, -0.0423, -0.1567, 0.05716667, -0.0638, -0.0505, -0.40625, -0.40625, 0.4934, 0.4934, 0.0061, -0.0904, -0.0904, -0.0904, -0.0904, 0.05286667, -0.02563333, -0.07055, 0.0218, 0.017425, 0.0101, -0.0267, -0.0267, -0.0529, 0.0674, -0.0117, 0.0058, 0.0374, -0.0164, 0.0996, 0.0414, 0.1076, 0.04015, 0.033475, 0.033475, -0.0168, 0.0969, 0.0969, 0.0802, 0.1337, 0.0199, 0.3274, 0.0435, -0.1613, -0.0039, -0.15165, -0.1261, 0.0079, 0.0079, 0.02435, -0.11183330000000001, -0.0479, 0.0442, -0.08175, 0.1083, 0.1083, -0.10366669999999999, 0.0644, 0.0644, -0.044000000000000004, 0.0045, 0.0045, -0.1235, 0.01683333, -0.09295, -0.1362, 0.06313333, 0.0476, 0.0476, -0.0143, 0.0606, 0.0449, 0.0892, 0.0892, 0.0854, 0.0514, -0.0665, -0.1087, -0.06475, 0.0479, 0.0479, -0.1224, 0.0022, 0.0022], \"yaxis\": \"y\"}, {\"line\": {\"color\": \"rgba(193,99,99,0.8)\"}, \"name\": \"gradientboosting_ne\", \"showlegend\": true, \"type\": \"scatter\", \"x\": [0, 1, 2, 3, 4, 5, 6, 7, 8, 9, 10, 11, 12, 13, 14, 15, 16, 17, 18, 19, 20, 21, 22, 23, 24, 25, 26, 27, 28, 29, 30, 31, 32, 33, 34, 35, 36, 37, 38, 39, 40, 41, 42, 43, 44, 45, 46, 47, 48, 49, 50, 51, 52, 53, 54, 55, 56, 57, 58, 59, 60, 61, 62, 63, 64, 65, 66, 67, 68, 69, 70, 71, 72, 73, 74, 75, 76, 77, 78, 79, 80, 81, 82, 83, 84, 85, 86, 87, 88, 89, 90, 91, 92, 93, 94, 95, 96, 97, 98, 99, 100, 101, 102, 103, 104, 105, 106, 107, 108, 109, 110, 111, 112, 113, 114, 115, 116, 117, 118, 119, 120, 121, 122, 123, 124, 125, 126, 127, 128, 129, 130, 131, 132, 133, 134, 135, 136, 137, 138, 139, 140, 141, 142, 143, 144, 145, 146, 147, 148, 149, 150, 151, 152, 153, 154, 155, 156, 157, 158, 159, 160, 161, 162, 163, 164, 165, 166, 167, 168, 169, 170, 171, 172, 173, 174, 175, 176, 177, 178, 179, 180, 181, 182, 183, 184, 185, 186, 187, 188, 189, 190, 191, 192, 193, 194, 195, 196, 197, 198, 199, 200, 201, 202, 203, 204, 205, 206, 207, 208, 209, 210, 211, 212, 213, 214, 215, 216, 217, 218, 219, 220, 221, 222, 223, 224, 225, 226, 227, 228, 229, 230, 231, 232, 233, 234, 235, 236, 237, 238, 239, 240, 241, 242, 243, 244, 245, 246, 247, 248, 249, 250, 251, 252, 253, 254, 255, 256, 257, 258, 259, 260, 261, 262, 263, 264, 265, 266, 267, 268, 269, 270, 271, 272, 273, 274, 275, 276, 277, 278, 279, 280, 281, 282, 283, 284, 285, 286, 287, 288, 289, 290, 291, 292, 293, 294, 295, 296, 297, 298, 299, 300, 301, 302, 303, 304, 305, 306, 307, 308, 309, 310, 311, 312, 313, 314, 315, 316, 317, 318, 319, 320, 321, 322, 323, 324, 325, 326, 327, 328, 329, 330, 331, 332, 333, 334, 335, 336, 337, 338, 339, 340, 341, 342, 343, 344, 345, 346, 347, 348, 349, 350, 351, 352, 353, 354, 355, 356, 357, 358, 359, 360, 361, 362, 363, 364, 365, 366, 367, 368, 369, 370, 371, 372, 373, 374, 375, 376, 377, 378, 379, 380, 381, 382, 383, 384, 385, 386, 387, 388, 389, 390, 391, 392, 393, 394, 395, 396, 397, 398, 399, 400, 401, 402, 403, 404, 405, 406, 407, 408, 409, 410, 411, 412, 413, 414, 415, 416, 417, 418, 419, 420, 421, 422, 423, 424, 425, 426, 427, 428, 429, 430, 431, 432, 433, 434, 435, 436, 437, 438, 439, 440, 441, 442, 443, 444, 445, 446, 447, 448, 449, 450, 451, 452, 453, 454, 455, 456, 457, 458, 459, 460, 461, 462, 463, 464, 465, 466, 467, 468, 469, 470, 471, 472, 473, 474, 475, 476, 477, 478, 479, 480, 481, 482, 483, 484, 485, 486, 487, 488, 489, 490, 491, 492, 493, 494, 495, 496, 497, 498, 499, 500, 501, 502, 503, 504, 505, 506, 507, 508, 509, 510, 511, 512, 513, 514, 515, 516, 517, 518, 519, 520, 521, 522, 523, 524, 525, 526, 527, 528, 529, 530, 531, 532, 533, 534, 535, 536, 537, 538, 539, 540, 541, 542, 543, 544, 545, 546, 547, 548, 549, 550, 551, 552, 553, 554, 555, 556, 557, 558, 559, 560, 561, 562, 563, 564, 565, 566, 567, 568, 569, 570, 571, 572, 573, 574, 575, 576, 577, 578, 579, 580, 581, 582, 583, 584, 585, 586, 587, 588, 589, 590, 591, 592, 593, 594, 595, 596, 597, 598, 599, 600, 601, 602, 603, 604, 605, 606, 607, 608, 609, 610, 611, 612, 613, 614, 615, 616, 617, 618, 619, 620, 621, 622, 623, 624, 625, 626, 627, 628, 629, 630, 631, 632, 633, 634, 635, 636, 637, 638, 639, 640, 641, 642, 643, 644, 645, 646, 647, 648, 649, 650, 651, 652, 653, 654, 655, 656, 657, 658, 659, 660, 661, 662, 663, 664, 665, 666, 667, 668, 669, 670, 671, 672, 673, 674, 675, 676, 677, 678, 679, 680, 681, 682, 683, 684, 685, 686, 687, 688, 689, 690, 691, 692, 693, 694, 695, 696, 697, 698, 699, 700, 701, 702, 703, 704, 705, 706, 707, 708, 709, 710, 711, 712, 713, 714, 715, 716, 717, 718, 719, 720, 721, 722, 723, 724, 725, 726, 727, 728, 729, 730, 731, 732, 733, 734, 735, 736, 737, 738, 739, 740, 741, 742, 743, 744, 745, 746, 747, 748, 749, 750, 751, 752, 753, 754, 755, 756, 757, 758, 759, 760, 761, 762, 763, 764, 765, 766, 767, 768, 769, 770, 771, 772, 773, 774, 775, 776, 777, 778, 779, 780, 781, 782, 783, 784, 785, 786, 787, 788, 789, 790, 791, 792, 793, 794, 795, 796, 797, 798, 799], \"xaxis\": \"x\", \"y\": [0.121202628936527, 0.16995012851426455, 0.03284260139808606, 0.12826919067466755, 0.19611428212296014, 0.11289970887562914, 0.11258005235823125, 0.07225575255294756, 0.10235368405087053, 0.19177851302494836, 0.19233187190318016, 0.2914932377715728, 0.151020525983572, 0.19015119288726082, 0.18966317505654318, 0.18913376892998213, 0.1897659322002325, 0.2531626849680691, 0.2356001910926422, 0.1280876101456965, 0.1963425084283906, 0.11615154647274552, 0.22800972928323565, 0.17080525353115428, 0.1455714915584155, 0.14482627526111527, 0.25181186237252723, 0.15267031929618666, 0.29107854465364097, 0.27189956443507984, 0.1365053317689871, 0.10968447524649637, 0.12141280478033893, 0.2930135380575359, 0.3027065631415155, 0.1463371205853547, 0.33119940795158404, 0.33107908288736154, 0.33125223350616984, 0.0921498144494045, 0.3795496260938149, 0.07174128154136485, 0.17010730605925567, 0.17050295564436585, 0.21092140706794138, 0.12772552916719682, 0.12728783958763698, 0.2799482247160376, 0.16880167709138144, 0.1760987494097648, 0.07753819621122944, 0.20868845939251665, 0.20859940943640434, 0.11606093265428948, 0.06735357139048141, 0.06751708168347642, 0.13992173704176436, 0.08582697858339682, 0.10892608726206639, 0.060485148576985746, 0.08093607992871288, 0.0977777404440417, 0.09625917924974928, 0.0800799685825848, 0.07932251077041423, 0.07405758852539406, 0.07250772257725434, 0.05984128083591904, 0.05663434621776985, 0.07025717698971859, 0.10686270004979521, 0.10488962214102346, 0.10945008515859289, 0.16692360374030435, 0.12910392150184266, 0.09246431716689613, 0.014903699879117173, 0.19347688305983635, 0.0933180154759609, 0.05410116204654227, 0.09501677116171836, 0.007706712358141058, 0.08809771927673295, 0.07964948532001641, -0.02653419405520489, 0.12341564481006966, 0.12385825717333143, 0.12452126572431944, 0.10043215706057113, 0.22217878132436503, 0.12333505991227918, 0.10081590164666085, 0.10085999542297247, 0.10689717247380157, 0.10738328813638354, 0.10582293411339336, 0.08729700508237742, 0.08735263852710448, 0.05384627709130285, 0.09959552188529582, 0.09911070817752808, 0.10326905708562407, 0.07503568569747684, 0.09239321333280875, 0.012595148731462415, 0.1093296082581645, 0.10163675085763582, 0.10268841898051888, 0.12138684978853881, 0.12129012849618528, 0.08412932226999317, 0.10556671340286647, 0.1298349787412259, 0.12014414655202424, 0.11282423516456594, 0.11149680187455922, -0.13869145548424555, 0.054635064874824585, 0.15233517952508713, 0.16331193442973754, 0.11511601032586408, 0.08745546094340224, 0.12444440604755767, 0.1236136944720588, 0.051863715492976914, 0.1429320200223927, 0.19671225929959454, 0.13631638369427693, 0.33620241855481064, -0.01579183809931959, 0.12407955661809725, 0.08666306048869893, 0.11838830342161598, 0.07677042591690147, 0.09679122249108232, 0.10746710524579549, 0.05466325542675614, -0.009389125089844928, -0.009666299882712413, 0.028350595216458833, 0.028350595216458833, 0.029266912942910134, 0.06544070226372116, 0.06481690707301781, 0.04746001432758388, 0.27306841902203444, 0.11174939699592677, 0.17368151010717636, 0.1744222672316355, 0.09415162118994465, -0.04115949406037144, 0.03181600774871385, 0.1192500420082541, -0.01637316505598812, -0.015255480252592756, 0.08377013947363408, 0.08067881026100154, 0.07979390012671278, 0.07205911236308778, 0.176491046801848, 0.016098566032788933, 0.0036723047801311796, 0.11932326700851541, 0.038628427052645964, 0.03825722940540397, 0.12358637472943684, 0.06770391158861246, 0.03809657475788289, 0.1201207111169996, 0.08375055876508387, 0.10146262815418956, 0.1014297562179655, 0.09633696051420296, 0.10951239090863694, 0.09840352696617921, 0.11181560764644298, 0.11927091141750651, 0.005692272558644583, 0.03397546257183271, 0.119919976549484, 0.1317465441398346, 0.012029428932977424, 0.11704995771822087, -0.158339659637722, -0.15842840940889544, 0.1725392404738061, 0.10757771892610848, 0.35679923268335834, -0.29008989601351054, -0.290310827455529, -0.023483384903170125, -0.12095680456101617, -0.12095680456101617, 0.14307483317158107, 0.07423942191562548, 0.09064140166623895, 0.25841201427921107, 0.08811333467731336, 0.36283944275922086, 0.11232603217241313, 0.11168035514263419, 0.11235776857667226, 0.14593124083891973, 0.04208780903006904, 0.09832309674702312, 0.10694710229188881, 0.16367730987767043, 0.07976119574013456, 0.08065949766211801, 0.06434286609957848, 0.11068736375453804, 0.0729833400356168, 0.11620113640394764, 0.1092992285780875, 0.07991337029989606, -0.029437995467579706, -0.03152115213842755, 0.12509090430575007, 0.12370830822089496, 0.13999745878391498, 0.043446873624977525, 0.18248962986357417, 0.044761379414634726, 0.04461930317222727, 0.06676406182063, 0.155363073688246, 0.022236297119596855, 0.04636568537506843, 0.24334876885982878, 0.2437536814960636, 0.2437536814960636, 0.2437536814960636, 0.2437536814960636, 0.2437536814960636, 0.2437536814960636, 0.2437536814960636, 0.2437536814960636, 0.2437536814960636, 0.2437536814960636, 0.2437536814960636, 0.2437536814960636, 0.2437536814960636, 0.2437536814960636, 0.2437536814960636, 0.22346758590185833, -0.11855362196148773, -0.11866073063736284, 0.05173239051908751, 0.03293815243335638, 0.031381055961198244, 0.06235854307597828, 0.09229544247426534, 0.07300394643719696, 0.14428345219823463, 0.07398607885063817, 0.03146988960043319, 0.1989305261332153, 0.10129633624033571, 0.10092526143040066, 0.10094378870084651, 0.12760510092171845, 0.14367214293406802, 0.14251509407067814, 0.037769634965236054, 0.03272943376189128, 0.15492319098866375, 0.15443495294243362, 0.08881749826760905, 0.22058256871811358, 0.2325534782589564, 0.3094164443749194, 0.11708390426636447, 0.11734034597150803, 0.06322157172969946, 0.06369434349039804, 0.04728814007001182, 0.08436387314111017, 0.11280674835165616, 0.03307835618158244, 0.10716638233942603, 0.05674793996009035, 0.11869395086614991, 0.10647284587003361, 0.28025588574171606, 0.041116594327810146, 0.0336717707161885, 0.2339650980075032, 0.23412279901540506, 0.017425889152344956, 0.04076972645510672, 0.03370154891403605, 0.11484402132007993, 0.11607562005923107, -0.01410026030862104, 0.014258164891775114, 0.013444678809004407, 0.15114276714818195, 0.014774966353991878, 0.09556229396444164, 0.06372291120469802, 0.026882011661555395, 0.06943898201814681, 0.07527377818302113, 0.07650252846140426, 0.039358949528720294, 0.03789249344732731, 0.07791183226743273, 0.04435727684474555, 0.044523261424220716, 0.05021195591067217, 0.0884186614876839, 0.31399745305049065, 0.31420097205517533, -0.0464618989670008, 0.03540799937108752, 0.034031139410268293, 0.10006534074432984, 0.0534574303407605, 0.0978072067333891, 0.07208688968366335, 0.1645618564355398, 0.05758628430630301, 0.05781079890763217, 0.1112776743605253, 0.0038720780100716815, 0.09765022362843746, 0.0791656182647734, 0.0795921055616589, 0.012347356431426745, 0.012370540537583092, 0.03592655381666662, 0.10487888797354322, 0.040450003472651035, 0.039558542140757526, -0.03882043841237189, -0.00644056945867972, -0.09596292569777742, -0.09705681834507426, 0.005320658955131903, -0.05666029731216323, -0.029780441052687984, -0.1166877738372034, -0.11650463753867642, -0.11723221018042843, 0.021596971883181996, 0.02235002544704427, 0.021894294439352948, 0.15257582255886215, -0.14559940153900902, -0.1446361744655052, 0.050141390756261214, 0.04556293978936378, 0.042194792566348754, 0.04620452767293611, 0.029824879991443978, 0.13972045431287086, 0.14075899532628702, 0.1401040710890073, 0.14032281870093335, 0.11269820479296178, 0.05990563506941352, 0.05974376734632649, 0.032581791758798884, 0.03823719764919065, -0.0035016030202674455, -0.059895269913495724, 0.10087927730470454, 0.08007003337084777, 0.024495554828204896, 0.05688216293000012, 0.12043957325083587, 0.011339257506780996, 0.07448245774542597, 0.09973530394898816, 0.0889469359786163, -0.05546838075392091, -0.1548428464064019, 0.1392961318493694, 0.09723535971550332, 0.009188474164355748, 0.060378268537293736, 0.06046043175074304, 0.10686391262733799, 0.03617506076569248, -0.0473132700908181, 0.12200383031929514, 0.11145886512159989, 0.002445788163849004, -0.013738442109219295, 0.07780022456355787, 0.07746936231493516, 0.0781989324265368, 0.06964004614639521, 0.2188346717469443, 0.21919260258188158, 0.05695288719932902, 0.0655159996260197, 0.06618658512748858, 0.06628589807819721, 0.04568539768839015, 0.050515216660760434, -0.01593837959662443, 0.17954789037251473, 0.13059070888342966, -0.047641834757406146, 0.11793263068928851, 0.15369568520234617, 0.15431359575421869, 0.06280491798279271, 0.061555955854798436, 0.060882518788591015, 0.06624074390536837, 0.06588616734241251, 0.04821540745769891, 0.031039427611085833, 0.06795287318032209, 0.10678149032507994, -0.0018600682795628031, -0.00249260879922964, -0.003206794257591047, 0.04829868723166075, -0.04218191927636514, 0.12153117152881081, 0.0723289067428837, 0.03722981636100558, 0.07170166531871315, -0.02969787450809145, 0.028527062066950215, 0.055311989965492525, 0.1412315917415847, 0.0298997656876511, 0.053729188770923295, 0.10672357129592272, 0.031061457716320743, 0.037959216676748654, 0.07416028912433806, 0.05091994053919694, 0.050113391318648864, -0.002155797708212206, 0.02112220307389256, 0.022130472164421745, 0.02216885547512606, -0.035728882480007836, 0.003589384980464658, 0.004186084381863437, 0.049238874073386014, 0.051032608831100175, 0.0565252646631234, 0.06132690439676937, -0.0819244945524538, 0.06025451845838962, -0.13967677621001817, -0.13967677621001817, -0.140405212982469, -0.06918702808984155, 0.054224365230164384, 0.06717305065873849, 0.06649861814186375, 0.026878018022193285, 0.1287492134326107, -0.049295197283501485, -0.07073777853880077, -0.10407908910216576, 0.13388472807081223, 0.05382422196850952, 0.03372186656655507, 0.03459586214346812, 0.08605695058452607, 0.07349509400967501, 0.06450542344696444, 0.040350543415024684, 0.03959343509246311, 0.04027320289664529, 0.04008784450786987, 0.049418158640919765, 0.09684200287916958, 0.09700208053902708, 0.09745346703443312, 0.09780045211266526, 0.05442186067496023, 0.1158288813847488, 0.010184012908432696, -0.07262474617901078, 0.010754202569798357, 0.011019641569013014, -0.014729797215380746, 0.0856812601002288, 0.08633323665249092, -0.011139751523182567, 0.08274266480131282, 0.04989747274508864, 0.13248450352769708, -0.08652907516336987, 0.062489557835629046, 0.06312171548760037, 0.06323862694686946, 0.12302537483133541, -0.044909101097513185, 0.0009750336038503918, 0.15400308467354856, 0.10497624558866034, 0.10545241281933736, 0.10821700833269964, -0.13392455520025134, 0.20614726774011827, 0.3372833141191633, 0.3529915427390632, 0.34176812293700765, 0.2945120774992327, 0.19278819694208774, 0.19336217658011887, 0.1704372021498617, 0.16978825979521586, 0.37699755276885555, 0.23076295683290607, 0.22091952373545232, 0.2054208267178348, 0.204833377568877, 0.07494176443401669, -0.28652303155900766, 0.15532531761898563, 0.12928248689996857, 0.0859693127634099, 0.08496191607919419, 0.18778491561087896, 0.08524141011346273, 0.1452974878192081, 0.10937571088217908, 0.14279235839562174, 0.11104326010341205, 0.08059053247304236, 0.17138355097726807, 0.22302108382963498, 0.166655298931099, 0.12979552454479423, 0.144223293100103, 0.1768617670809532, 0.21542070935432933, 0.15924600535436603, 0.1586052026275639, 0.05782813838541287, 0.1955671039813121, 0.2532717373307794, 0.2540504194543493, 0.37987427160277065, 0.1005238986518618, 0.15380592378565758, 0.18966680763088026, 0.11069836366156409, 0.09734958328669538, 0.11984765192498767, 0.12011196916328416, 0.11842353373972041, 0.004642297364723558, 0.06308482966244845, 0.005892966025626188, 0.09469873011338505, 0.04099378241927703, 0.04080616302860554, 0.009682736432705742, -0.0439017329446522, -0.043184813415819506, 0.2163949460372225, 0.44647271853360077, 0.24809882454772195, 0.4227949983006059, 0.1266485516741716, 0.21297655360465978, 0.21235869250188072, 0.07269768207593101, 0.071573092614562, 0.03702318610177897, 0.037245091386614027, 0.0375180497750792, 0.10385151536247386, 0.08651115586555648, 0.06128007555772833, 0.03031520238627511, -0.028579565171926426, -0.028225245283629984, 0.021422201324639165, -0.02163785765605554, -0.08088779612273446, 0.007370811874396861, -0.02079249086472906, 0.029735226512624745, 0.24607455332827713, 0.09073577210168521, 0.01705487495164145, -0.026670432562208975, -0.027961760894914815, 0.19555713890936566, -0.041202061511597936, 0.09869432124900057, 0.16020060925342877, 0.06320762009574757, -0.013822244022183005, -0.01371487056797036, -0.01851593324004477, 0.028716974673109505, 0.09405572716582826, 0.16602792242596956, 0.21504824766098357, -0.0469496000186174, 0.009168733351010646, 0.023398716756447814, 0.18034888645911298, 0.054448642501292936, 0.10626483785412309, 0.05933478818629697, 0.028346851168072257, -0.06670483484539878, -0.06670483484539878, 0.04824782449603164, 0.04728849988303638, 0.03250756730190182, 0.04170046639238177, 0.07141276094665241, 0.1532471135415236, 0.17749808418053228, -0.004287299280557987, -0.02564692529345075, -0.016663745231141495, -0.016905128842810785, 0.15071130165119656, 0.19356834865126898, 0.11366303299820849, 0.0341491225415517, 0.05278112607957811, 0.04176001715627794, -0.009220860450985493, -0.009557093597803394, -0.008883505762106657, -0.009419499232295176, -0.02413654768722856, -0.06926001058136672, -0.07098412697270254, -0.082908015808553, -0.0005981420685217743, 0.00013606319591519055, 0.0768948404452177, 0.0014734883910451299, 0.08969113464905797, 0.033157015852832185, 0.05374581004923316, 0.05385360746612138, 0.07323214298219723, -0.053651359804774, -0.11165701008275788, -0.11133874008715566, 0.006157062279304906, 0.2613083415470231, 0.14766874289665893, -0.005473932528839137, -0.0057470093997053235, -0.24357564443163518, -0.17394593358642538, -0.042950246496383085, 0.03575040475018664, -0.07133786166531142, -0.1996791665762667, 0.046193907723991394, 0.05381389536462544, 0.021361103357761063, 0.05762637610316592, 0.0012472805653282156, 0.0020784027351831097, -0.029666349675661778, -0.20628760615926625, 0.026044917878185046, -0.05113962600546877, -0.11660402970706875, 0.09239012735780837, 0.12775813733836056, -0.07765988116167308, -0.07760064428468258, 0.06743963073019786, -0.04760573125148285, 0.014776399360368855, -0.0454201182764777, -0.04598070226857848, 0.049500422475623154, 0.05068705656465811, 0.06815744883073246, -0.17976562465210244, -0.08451167793957405, -0.05637021654190324, -0.05711616580173783, 0.10371006666292289, 0.049646783362088165, 0.0784252598976333, 0.035098667174917664, 0.0720333541792853, 0.09343533823010766, 0.09405849303302669, 0.0945072788647753, -0.09315736271844145, -0.08610432653535255, 0.01989917708394142, 0.02048454451307011, 0.015440383093424664, -0.041543671942573156, 0.08856294577655255, 0.06943104175660009, 0.06880722170496023, -0.21718136408001168, -0.06954003075591955, -0.0025357841364248355, -0.1476835579925301, -0.03756874685673381, 0.021128614418173035, -0.2683689919826819, -0.07238904871461652, -0.18586470947684255, -0.18622684083266766, -0.053751734237454926, -0.042351173676372034, -0.04168459607769182, -0.1563836615690653, 0.057068479048688, -0.06395418055585576, -0.049231852072199975, -0.4062634762613913, -0.4046650889179271, 0.4923635320392308, 0.4932299011491724, 0.005529926395795063, -0.0902687531842967, -0.09048525790065665, -0.09027324698081815, -0.09007392411482365, 0.05369088057087803, -0.026574841562180675, -0.07013581729554809, 0.021619101121528383, 0.018413338288117215, 0.009475711698980238, -0.025975097862745135, -0.02606011239897035, -0.05325370067088912, 0.06872926589533078, -0.01189074466053696, 0.007009137209877825, 0.03796688210120654, -0.01613444023483318, 0.09905416483546581, 0.04214142183506744, 0.10671519077749515, 0.03999139790457254, 0.03321717325187844, 0.03248744116525246, -0.01630848645254217, 0.09612483144539459, 0.09665104856278886, 0.08018328404283928, 0.13329342670783842, 0.01992908612456066, 0.32674343781801285, 0.04382893424579103, -0.16107612038965533, -0.00321469720300848, -0.15135736638435876, -0.1255955595099332, 0.007635653106644449, 0.007635653106644449, 0.0245147433557784, -0.11120910361943814, -0.047888679535079526, 0.043568183663520985, -0.08194325285754696, 0.10703582304820607, 0.10898616800367147, -0.10367323249256778, 0.06505291528181828, 0.06406034103107516, -0.04419839332223482, 0.004911353586015687, 0.003993618599942619, -0.12373434499720827, 0.016820773190061103, -0.0929090981965148, -0.13611137709313095, 0.06420317327118481, 0.047109922637406695, 0.04818778771080166, -0.01507637323112472, 0.0617159800815332, 0.045266850785487624, 0.08862500493474604, 0.08884510238340435, 0.08542389840353104, 0.05037540407850869, -0.06591737877012756, -0.10781408411873719, -0.06456865281115716, 0.048049313860134994, 0.048650505656499636, -0.12088576166255932, 0.002924649870317163, 0.0015032383840563796], \"yaxis\": \"y\"}],\n",
              "                        {\"autosize\": false, \"height\": 600, \"template\": {\"data\": {\"bar\": [{\"error_x\": {\"color\": \"#2a3f5f\"}, \"error_y\": {\"color\": \"#2a3f5f\"}, \"marker\": {\"line\": {\"color\": \"#E5ECF6\", \"width\": 0.5}}, \"type\": \"bar\"}], \"barpolar\": [{\"marker\": {\"line\": {\"color\": \"#E5ECF6\", \"width\": 0.5}}, \"type\": \"barpolar\"}], \"carpet\": [{\"aaxis\": {\"endlinecolor\": \"#2a3f5f\", \"gridcolor\": \"white\", \"linecolor\": \"white\", \"minorgridcolor\": \"white\", \"startlinecolor\": \"#2a3f5f\"}, \"baxis\": {\"endlinecolor\": \"#2a3f5f\", \"gridcolor\": \"white\", \"linecolor\": \"white\", \"minorgridcolor\": \"white\", \"startlinecolor\": \"#2a3f5f\"}, \"type\": \"carpet\"}], \"choropleth\": [{\"colorbar\": {\"outlinewidth\": 0, \"ticks\": \"\"}, \"type\": \"choropleth\"}], \"contour\": [{\"colorbar\": {\"outlinewidth\": 0, \"ticks\": \"\"}, \"colorscale\": [[0.0, \"#0d0887\"], [0.1111111111111111, \"#46039f\"], [0.2222222222222222, \"#7201a8\"], [0.3333333333333333, \"#9c179e\"], [0.4444444444444444, \"#bd3786\"], [0.5555555555555556, \"#d8576b\"], [0.6666666666666666, \"#ed7953\"], [0.7777777777777778, \"#fb9f3a\"], [0.8888888888888888, \"#fdca26\"], [1.0, \"#f0f921\"]], \"type\": \"contour\"}], \"contourcarpet\": [{\"colorbar\": {\"outlinewidth\": 0, \"ticks\": \"\"}, \"type\": \"contourcarpet\"}], \"heatmap\": [{\"colorbar\": {\"outlinewidth\": 0, \"ticks\": \"\"}, \"colorscale\": [[0.0, \"#0d0887\"], [0.1111111111111111, \"#46039f\"], [0.2222222222222222, \"#7201a8\"], [0.3333333333333333, \"#9c179e\"], [0.4444444444444444, \"#bd3786\"], [0.5555555555555556, \"#d8576b\"], [0.6666666666666666, \"#ed7953\"], [0.7777777777777778, \"#fb9f3a\"], [0.8888888888888888, \"#fdca26\"], [1.0, \"#f0f921\"]], \"type\": \"heatmap\"}], \"heatmapgl\": [{\"colorbar\": {\"outlinewidth\": 0, \"ticks\": \"\"}, \"colorscale\": [[0.0, \"#0d0887\"], [0.1111111111111111, \"#46039f\"], [0.2222222222222222, \"#7201a8\"], [0.3333333333333333, \"#9c179e\"], [0.4444444444444444, \"#bd3786\"], [0.5555555555555556, \"#d8576b\"], [0.6666666666666666, \"#ed7953\"], [0.7777777777777778, \"#fb9f3a\"], [0.8888888888888888, \"#fdca26\"], [1.0, \"#f0f921\"]], \"type\": \"heatmapgl\"}], \"histogram\": [{\"marker\": {\"colorbar\": {\"outlinewidth\": 0, \"ticks\": \"\"}}, \"type\": \"histogram\"}], \"histogram2d\": [{\"colorbar\": {\"outlinewidth\": 0, \"ticks\": \"\"}, \"colorscale\": [[0.0, \"#0d0887\"], [0.1111111111111111, \"#46039f\"], [0.2222222222222222, \"#7201a8\"], [0.3333333333333333, \"#9c179e\"], [0.4444444444444444, \"#bd3786\"], [0.5555555555555556, \"#d8576b\"], [0.6666666666666666, \"#ed7953\"], [0.7777777777777778, \"#fb9f3a\"], [0.8888888888888888, \"#fdca26\"], [1.0, \"#f0f921\"]], \"type\": \"histogram2d\"}], \"histogram2dcontour\": [{\"colorbar\": {\"outlinewidth\": 0, \"ticks\": \"\"}, \"colorscale\": [[0.0, \"#0d0887\"], [0.1111111111111111, \"#46039f\"], [0.2222222222222222, \"#7201a8\"], [0.3333333333333333, \"#9c179e\"], [0.4444444444444444, \"#bd3786\"], [0.5555555555555556, \"#d8576b\"], [0.6666666666666666, \"#ed7953\"], [0.7777777777777778, \"#fb9f3a\"], [0.8888888888888888, \"#fdca26\"], [1.0, \"#f0f921\"]], \"type\": \"histogram2dcontour\"}], \"mesh3d\": [{\"colorbar\": {\"outlinewidth\": 0, \"ticks\": \"\"}, \"type\": \"mesh3d\"}], \"parcoords\": [{\"line\": {\"colorbar\": {\"outlinewidth\": 0, \"ticks\": \"\"}}, \"type\": \"parcoords\"}], \"pie\": [{\"automargin\": true, \"type\": \"pie\"}], \"scatter\": [{\"marker\": {\"colorbar\": {\"outlinewidth\": 0, \"ticks\": \"\"}}, \"type\": \"scatter\"}], \"scatter3d\": [{\"line\": {\"colorbar\": {\"outlinewidth\": 0, \"ticks\": \"\"}}, \"marker\": {\"colorbar\": {\"outlinewidth\": 0, \"ticks\": \"\"}}, \"type\": \"scatter3d\"}], \"scattercarpet\": [{\"marker\": {\"colorbar\": {\"outlinewidth\": 0, \"ticks\": \"\"}}, \"type\": \"scattercarpet\"}], \"scattergeo\": [{\"marker\": {\"colorbar\": {\"outlinewidth\": 0, \"ticks\": \"\"}}, \"type\": \"scattergeo\"}], \"scattergl\": [{\"marker\": {\"colorbar\": {\"outlinewidth\": 0, \"ticks\": \"\"}}, \"type\": \"scattergl\"}], \"scattermapbox\": [{\"marker\": {\"colorbar\": {\"outlinewidth\": 0, \"ticks\": \"\"}}, \"type\": \"scattermapbox\"}], \"scatterpolar\": [{\"marker\": {\"colorbar\": {\"outlinewidth\": 0, \"ticks\": \"\"}}, \"type\": \"scatterpolar\"}], \"scatterpolargl\": [{\"marker\": {\"colorbar\": {\"outlinewidth\": 0, \"ticks\": \"\"}}, \"type\": \"scatterpolargl\"}], \"scatterternary\": [{\"marker\": {\"colorbar\": {\"outlinewidth\": 0, \"ticks\": \"\"}}, \"type\": \"scatterternary\"}], \"surface\": [{\"colorbar\": {\"outlinewidth\": 0, \"ticks\": \"\"}, \"colorscale\": [[0.0, \"#0d0887\"], [0.1111111111111111, \"#46039f\"], [0.2222222222222222, \"#7201a8\"], [0.3333333333333333, \"#9c179e\"], [0.4444444444444444, \"#bd3786\"], [0.5555555555555556, \"#d8576b\"], [0.6666666666666666, \"#ed7953\"], [0.7777777777777778, \"#fb9f3a\"], [0.8888888888888888, \"#fdca26\"], [1.0, \"#f0f921\"]], \"type\": \"surface\"}], \"table\": [{\"cells\": {\"fill\": {\"color\": \"#EBF0F8\"}, \"line\": {\"color\": \"white\"}}, \"header\": {\"fill\": {\"color\": \"#C8D4E3\"}, \"line\": {\"color\": \"white\"}}, \"type\": \"table\"}]}, \"layout\": {\"annotationdefaults\": {\"arrowcolor\": \"#2a3f5f\", \"arrowhead\": 0, \"arrowwidth\": 1}, \"coloraxis\": {\"colorbar\": {\"outlinewidth\": 0, \"ticks\": \"\"}}, \"colorscale\": {\"diverging\": [[0, \"#8e0152\"], [0.1, \"#c51b7d\"], [0.2, \"#de77ae\"], [0.3, \"#f1b6da\"], [0.4, \"#fde0ef\"], [0.5, \"#f7f7f7\"], [0.6, \"#e6f5d0\"], [0.7, \"#b8e186\"], [0.8, \"#7fbc41\"], [0.9, \"#4d9221\"], [1, \"#276419\"]], \"sequential\": [[0.0, \"#0d0887\"], [0.1111111111111111, \"#46039f\"], [0.2222222222222222, \"#7201a8\"], [0.3333333333333333, \"#9c179e\"], [0.4444444444444444, \"#bd3786\"], [0.5555555555555556, \"#d8576b\"], [0.6666666666666666, \"#ed7953\"], [0.7777777777777778, \"#fb9f3a\"], [0.8888888888888888, \"#fdca26\"], [1.0, \"#f0f921\"]], \"sequentialminus\": [[0.0, \"#0d0887\"], [0.1111111111111111, \"#46039f\"], [0.2222222222222222, \"#7201a8\"], [0.3333333333333333, \"#9c179e\"], [0.4444444444444444, \"#bd3786\"], [0.5555555555555556, \"#d8576b\"], [0.6666666666666666, \"#ed7953\"], [0.7777777777777778, \"#fb9f3a\"], [0.8888888888888888, \"#fdca26\"], [1.0, \"#f0f921\"]]}, \"colorway\": [\"#636efa\", \"#EF553B\", \"#00cc96\", \"#ab63fa\", \"#FFA15A\", \"#19d3f3\", \"#FF6692\", \"#B6E880\", \"#FF97FF\", \"#FECB52\"], \"font\": {\"color\": \"#2a3f5f\"}, \"geo\": {\"bgcolor\": \"white\", \"lakecolor\": \"white\", \"landcolor\": \"#E5ECF6\", \"showlakes\": true, \"showland\": true, \"subunitcolor\": \"white\"}, \"hoverlabel\": {\"align\": \"left\"}, \"hovermode\": \"closest\", \"mapbox\": {\"style\": \"light\"}, \"paper_bgcolor\": \"white\", \"plot_bgcolor\": \"#E5ECF6\", \"polar\": {\"angularaxis\": {\"gridcolor\": \"white\", \"linecolor\": \"white\", \"ticks\": \"\"}, \"bgcolor\": \"#E5ECF6\", \"radialaxis\": {\"gridcolor\": \"white\", \"linecolor\": \"white\", \"ticks\": \"\"}}, \"scene\": {\"xaxis\": {\"backgroundcolor\": \"#E5ECF6\", \"gridcolor\": \"white\", \"gridwidth\": 2, \"linecolor\": \"white\", \"showbackground\": true, \"ticks\": \"\", \"zerolinecolor\": \"white\"}, \"yaxis\": {\"backgroundcolor\": \"#E5ECF6\", \"gridcolor\": \"white\", \"gridwidth\": 2, \"linecolor\": \"white\", \"showbackground\": true, \"ticks\": \"\", \"zerolinecolor\": \"white\"}, \"zaxis\": {\"backgroundcolor\": \"#E5ECF6\", \"gridcolor\": \"white\", \"gridwidth\": 2, \"linecolor\": \"white\", \"showbackground\": true, \"ticks\": \"\", \"zerolinecolor\": \"white\"}}, \"shapedefaults\": {\"line\": {\"color\": \"#2a3f5f\"}}, \"ternary\": {\"aaxis\": {\"gridcolor\": \"white\", \"linecolor\": \"white\", \"ticks\": \"\"}, \"baxis\": {\"gridcolor\": \"white\", \"linecolor\": \"white\", \"ticks\": \"\"}, \"bgcolor\": \"#E5ECF6\", \"caxis\": {\"gridcolor\": \"white\", \"linecolor\": \"white\", \"ticks\": \"\"}}, \"title\": {\"x\": 0.05}, \"xaxis\": {\"automargin\": true, \"gridcolor\": \"white\", \"linecolor\": \"white\", \"ticks\": \"\", \"title\": {\"standoff\": 15}, \"zerolinecolor\": \"white\", \"zerolinewidth\": 2}, \"yaxis\": {\"automargin\": true, \"gridcolor\": \"white\", \"linecolor\": \"white\", \"ticks\": \"\", \"title\": {\"standoff\": 15}, \"zerolinecolor\": \"white\", \"zerolinewidth\": 2}}}, \"title\": {\"text\": \"gradientboosting_ne\"}, \"width\": 1200, \"xaxis\": {\"anchor\": \"y\", \"domain\": [0.0, 1.0]}, \"yaxis\": {\"anchor\": \"x\", \"domain\": [0.0, 1.0]}},\n",
              "                        {\"responsive\": true}\n",
              "                    ).then(function(){\n",
              "                            \n",
              "var gd = document.getElementById('5e9fbbd3-3ccb-4665-bd01-536435cbd537');\n",
              "var x = new MutationObserver(function (mutations, observer) {{\n",
              "        var display = window.getComputedStyle(gd).display;\n",
              "        if (!display || display === 'none') {{\n",
              "            console.log([gd, 'removed!']);\n",
              "            Plotly.purge(gd);\n",
              "            observer.disconnect();\n",
              "        }}\n",
              "}});\n",
              "\n",
              "// Listen for the removal of the full notebook cells\n",
              "var notebookContainer = gd.closest('#notebook-container');\n",
              "if (notebookContainer) {{\n",
              "    x.observe(notebookContainer, {childList: true});\n",
              "}}\n",
              "\n",
              "// Listen for the clearing of the current output cell\n",
              "var outputEl = gd.closest('.output');\n",
              "if (outputEl) {{\n",
              "    x.observe(outputEl, {childList: true});\n",
              "}}\n",
              "\n",
              "                        })\n",
              "                };\n",
              "                \n",
              "            </script>\n",
              "        </div>\n",
              "</body>\n",
              "</html>"
            ]
          },
          "metadata": {
            "tags": []
          }
        },
        {
          "output_type": "display_data",
          "data": {
            "text/html": [
              "<html>\n",
              "<head><meta charset=\"utf-8\" /></head>\n",
              "<body>\n",
              "    <div>\n",
              "            <script src=\"https://cdnjs.cloudflare.com/ajax/libs/mathjax/2.7.5/MathJax.js?config=TeX-AMS-MML_SVG\"></script><script type=\"text/javascript\">if (window.MathJax) {MathJax.Hub.Config({SVG: {font: \"STIX-Web\"}});}</script>\n",
              "                <script type=\"text/javascript\">window.PlotlyConfig = {MathJaxConfig: 'local'};</script>\n",
              "        <script src=\"https://cdn.plot.ly/plotly-latest.min.js\"></script>    \n",
              "            <div id=\"c1926876-b6e8-46c9-915a-adf1acdf6b27\" class=\"plotly-graph-div\" style=\"height:600px; width:1200px;\"></div>\n",
              "            <script type=\"text/javascript\">\n",
              "                \n",
              "                    window.PLOTLYENV=window.PLOTLYENV || {};\n",
              "                    \n",
              "                if (document.getElementById(\"c1926876-b6e8-46c9-915a-adf1acdf6b27\")) {\n",
              "                    Plotly.newPlot(\n",
              "                        'c1926876-b6e8-46c9-915a-adf1acdf6b27',\n",
              "                        [{\"line\": {\"color\": \"rgba(35,128,132,0.8)\"}, \"name\": \"ndvi_ne\", \"showlegend\": true, \"type\": \"scatter\", \"x\": [800, 801, 802, 803, 804, 805, 806, 807, 808, 809, 810, 811, 812, 813, 814, 815, 816, 817, 818, 819, 820, 821, 822, 823, 824, 825, 826, 827, 828, 829, 830, 831, 832, 833, 834, 835, 836, 837, 838, 839, 840, 841, 842, 843, 844, 845, 846, 847, 848, 849, 850, 851, 852, 853, 854, 855, 856, 857, 858, 859, 860, 861, 862, 863, 864, 865, 866, 867, 868, 869, 870, 871, 872, 873, 874, 875, 876, 877, 878, 879, 880, 881, 882, 883, 884, 885, 886, 887, 888, 889, 890, 891, 892, 893, 894, 895, 896, 897, 898, 899, 900, 901, 902, 903, 904, 905, 906, 907, 908, 909, 910, 911, 912, 913, 914, 915, 916, 917, 918, 919, 920, 921, 922, 923, 924, 925, 926, 927, 928, 929, 930, 931, 932, 933, 934, 935], \"xaxis\": \"x\", \"y\": [0.0073, 0.0252, 0.0012, 0.0488, 0.0419, 0.02275, -0.029975, 0.07596667, -0.00135, 0.0507, -0.03396667, -0.03396667, -0.03396667, -0.0587, 0.1077, -0.1062, -0.008233333, -0.04245, -0.1942333, 0.009000000000000001, 0.0443, -0.3084, 0.3255, -0.1032, -0.16734000000000002, -0.01313333, 0.0109, 0.0455, 0.0455, 0.0455, 0.0165, -0.012, 0.0351, 0.0144, 0.0802, 0.0802, 0.0582, 0.0582, 0.0144, -0.01003333, 0.0255, 0.1035, 0.063875, 0.0193, 0.04735, -0.05556667, -0.1145, 0.0017399999999999998, 0.06405, 0.06405, 0.07515, 0.01235, 0.026125, -0.0556, -0.0265, 0.06305, 0.06305, 0.12335, 0.04593333, -0.2761, -0.2761, -0.1686, 0.0947, 0.0115, 0.0516, -0.04176667, -0.0548, 0.2643, -0.0192, -0.0192, 0.1288333, -0.2156, -0.2156, -0.0752, 0.2121, 0.0543, 0.0543, 0.0373, 0.0117, 0.02285, 0.01886667, -0.0743, 0.0689, 0.0216, 0.0392, -0.06205, 0.0019, 0.05825, -0.0118, -0.0118, -0.0054, 0.1058, 0.2484, 0.0501, 0.0826, 0.0826, -0.00695, 0.0746, 0.0156, 0.0331, 0.0331, 0.0821, -0.01345, -0.01345, -0.01345, -0.0307, 0.096, 0.009000000000000001, 0.021, 0.1243, 0.1243, -0.2517, -0.0589, -0.0595, -0.0595, -0.13305, -0.13305, 0.0148, 0.0148, 0.0006, -0.0268, -0.0268, -0.0268, -0.1117, -0.1117, 0.07200000000000001, -0.13865, -0.0889, -0.0889, -0.3214, 0.0449, 0.07785, -0.038, -0.1552, 0.0018, -0.037000000000000005], \"yaxis\": \"y\"}, {\"line\": {\"color\": \"rgba(193,99,99,0.8)\"}, \"name\": \"gradientboosting_ne\", \"showlegend\": true, \"type\": \"scatter\", \"x\": [800, 801, 802, 803, 804, 805, 806, 807, 808, 809, 810, 811, 812, 813, 814, 815, 816, 817, 818, 819, 820, 821, 822, 823, 824, 825, 826, 827, 828, 829, 830, 831, 832, 833, 834, 835, 836, 837, 838, 839, 840, 841, 842, 843, 844, 845, 846, 847, 848, 849, 850, 851, 852, 853, 854, 855, 856, 857, 858, 859, 860, 861, 862, 863, 864, 865, 866, 867, 868, 869, 870, 871, 872, 873, 874, 875, 876, 877, 878, 879, 880, 881, 882, 883, 884, 885, 886, 887, 888, 889, 890, 891, 892, 893, 894, 895, 896, 897, 898, 899, 900, 901, 902, 903, 904, 905, 906, 907, 908, 909, 910, 911, 912, 913, 914, 915, 916, 917, 918, 919, 920, 921, 922, 923, 924, 925, 926, 927, 928, 929, 930, 931, 932, 933, 934, 935], \"xaxis\": \"x\", \"y\": [-0.011906595705774325, -0.05204665331266435, -0.0070688139045524245, 0.03449138097577147, 0.06399505089773348, 0.05430308570761858, 0.03768718904646844, -0.05987506941943984, 0.10288213530526019, -0.002836906050133193, 0.05581684459200356, 0.1197570749939542, 0.01873822449369411, -0.1285827650279207, 0.009563820660457675, -0.1299915280034761, -0.025654880189806488, 0.08808282091790613, 0.03227395963538427, 0.031287715441513195, 0.03622777717606431, -0.09935278923855802, -0.003431426293792212, 0.3509884248658392, 0.033561245685386834, 0.049899546605322496, 0.028768612803886963, 0.05316146237010067, 0.04600770826013058, 0.11504752497540052, 0.033774148613871735, 0.057149849747154355, 0.05426388291767633, 0.019417763557577905, 0.014084859083808667, 0.14406886874414188, -0.049911773584067856, 0.022906879689229425, -0.10135413636411054, -0.06245943298789969, -0.006267920137908508, 0.20527049180775575, 0.06627938556112184, 0.06803925394761873, 0.011065329030264286, 0.07455715284089001, 0.058999876571193606, 0.04594808558788609, 0.03149785158515121, 0.022213470504530073, 0.04618977771585951, 0.02469010291052037, -0.00603455405325952, 0.035567270763888124, -0.007217909440763144, -0.14300915683240295, -0.20226764682277015, 0.015980275968962773, -0.03528395336122716, 0.06456370117824509, 0.05673957301410289, -0.11104843537184496, 0.022602734737817827, -0.012683900904690001, 0.0763489354125131, 0.017328461105219604, -0.03065429444147847, 0.04646866963521937, -0.06440541731439438, 0.036758469071122894, 0.021605893603628676, -0.009402296791648836, 0.043480062075700494, -0.14710873828586957, 0.06595677437318918, -0.27780238491072534, 0.017255350042868368, -0.01758564708780885, 0.035655263009495175, -0.012661078632972004, 0.041385836521674886, 0.011671027846773131, -0.02138634637280866, 0.02459194331296379, 0.010221550037417688, -0.03471745050575699, -0.04209288552624027, 0.0070761429970080565, 0.09669106238193022, -0.05879298229139294, 0.012785261563870222, -0.039964746913989734, 0.11733942214431818, 0.01566649587311849, 0.04417945583126476, 0.10977690409621693, -0.011970748699728983, 0.10654483175381053, 0.02701621618110632, 0.043077337969597326, 0.18623031450131228, 0.04589671826674294, 0.005849824913037878, 0.12723921294173407, 0.03394782264867036, -0.05249241732094462, 0.07072326148958398, -0.036343560277832615, 0.11920740922436046, 0.025068491671189637, 0.028297870324157638, 0.12130018390074182, -0.06825753651365217, -0.03214543948021795, -0.03846432010552303, 0.027641536067850928, 0.02646784267914904, -0.052548218155925974, 0.03283231991927415, -0.11925643133402486, 0.07431363712945202, 0.008151009064940722, -0.22421722028499094, -0.1568693282375286, -0.06914668084736288, -0.04184730231779994, -0.13303465410923448, 0.06125776478740462, -0.09162277169994631, -0.06770512814900619, 0.08260547685668365, -0.1432598267665687, 0.04711610045129946, 0.021032868577609155, 0.002146096347725146, 0.027370242197386457], \"yaxis\": \"y\"}],\n",
              "                        {\"autosize\": false, \"height\": 600, \"template\": {\"data\": {\"bar\": [{\"error_x\": {\"color\": \"#2a3f5f\"}, \"error_y\": {\"color\": \"#2a3f5f\"}, \"marker\": {\"line\": {\"color\": \"#E5ECF6\", \"width\": 0.5}}, \"type\": \"bar\"}], \"barpolar\": [{\"marker\": {\"line\": {\"color\": \"#E5ECF6\", \"width\": 0.5}}, \"type\": \"barpolar\"}], \"carpet\": [{\"aaxis\": {\"endlinecolor\": \"#2a3f5f\", \"gridcolor\": \"white\", \"linecolor\": \"white\", \"minorgridcolor\": \"white\", \"startlinecolor\": \"#2a3f5f\"}, \"baxis\": {\"endlinecolor\": \"#2a3f5f\", \"gridcolor\": \"white\", \"linecolor\": \"white\", \"minorgridcolor\": \"white\", \"startlinecolor\": \"#2a3f5f\"}, \"type\": \"carpet\"}], \"choropleth\": [{\"colorbar\": {\"outlinewidth\": 0, \"ticks\": \"\"}, \"type\": \"choropleth\"}], \"contour\": [{\"colorbar\": {\"outlinewidth\": 0, \"ticks\": \"\"}, \"colorscale\": [[0.0, \"#0d0887\"], [0.1111111111111111, \"#46039f\"], [0.2222222222222222, \"#7201a8\"], [0.3333333333333333, \"#9c179e\"], [0.4444444444444444, \"#bd3786\"], [0.5555555555555556, \"#d8576b\"], [0.6666666666666666, \"#ed7953\"], [0.7777777777777778, \"#fb9f3a\"], [0.8888888888888888, \"#fdca26\"], [1.0, \"#f0f921\"]], \"type\": \"contour\"}], \"contourcarpet\": [{\"colorbar\": {\"outlinewidth\": 0, \"ticks\": \"\"}, \"type\": \"contourcarpet\"}], \"heatmap\": [{\"colorbar\": {\"outlinewidth\": 0, \"ticks\": \"\"}, \"colorscale\": [[0.0, \"#0d0887\"], [0.1111111111111111, \"#46039f\"], [0.2222222222222222, \"#7201a8\"], [0.3333333333333333, \"#9c179e\"], [0.4444444444444444, \"#bd3786\"], [0.5555555555555556, \"#d8576b\"], [0.6666666666666666, \"#ed7953\"], [0.7777777777777778, \"#fb9f3a\"], [0.8888888888888888, \"#fdca26\"], [1.0, \"#f0f921\"]], \"type\": \"heatmap\"}], \"heatmapgl\": [{\"colorbar\": {\"outlinewidth\": 0, \"ticks\": \"\"}, \"colorscale\": [[0.0, \"#0d0887\"], [0.1111111111111111, \"#46039f\"], [0.2222222222222222, \"#7201a8\"], [0.3333333333333333, \"#9c179e\"], [0.4444444444444444, \"#bd3786\"], [0.5555555555555556, \"#d8576b\"], [0.6666666666666666, \"#ed7953\"], [0.7777777777777778, \"#fb9f3a\"], [0.8888888888888888, \"#fdca26\"], [1.0, \"#f0f921\"]], \"type\": \"heatmapgl\"}], \"histogram\": [{\"marker\": {\"colorbar\": {\"outlinewidth\": 0, \"ticks\": \"\"}}, \"type\": \"histogram\"}], \"histogram2d\": [{\"colorbar\": {\"outlinewidth\": 0, \"ticks\": \"\"}, \"colorscale\": [[0.0, \"#0d0887\"], [0.1111111111111111, \"#46039f\"], [0.2222222222222222, \"#7201a8\"], [0.3333333333333333, \"#9c179e\"], [0.4444444444444444, \"#bd3786\"], [0.5555555555555556, \"#d8576b\"], [0.6666666666666666, \"#ed7953\"], [0.7777777777777778, \"#fb9f3a\"], [0.8888888888888888, \"#fdca26\"], [1.0, \"#f0f921\"]], \"type\": \"histogram2d\"}], \"histogram2dcontour\": [{\"colorbar\": {\"outlinewidth\": 0, \"ticks\": \"\"}, \"colorscale\": [[0.0, \"#0d0887\"], [0.1111111111111111, \"#46039f\"], [0.2222222222222222, \"#7201a8\"], [0.3333333333333333, \"#9c179e\"], [0.4444444444444444, \"#bd3786\"], [0.5555555555555556, \"#d8576b\"], [0.6666666666666666, \"#ed7953\"], [0.7777777777777778, \"#fb9f3a\"], [0.8888888888888888, \"#fdca26\"], [1.0, \"#f0f921\"]], \"type\": \"histogram2dcontour\"}], \"mesh3d\": [{\"colorbar\": {\"outlinewidth\": 0, \"ticks\": \"\"}, \"type\": \"mesh3d\"}], \"parcoords\": [{\"line\": {\"colorbar\": {\"outlinewidth\": 0, \"ticks\": \"\"}}, \"type\": \"parcoords\"}], \"pie\": [{\"automargin\": true, \"type\": \"pie\"}], \"scatter\": [{\"marker\": {\"colorbar\": {\"outlinewidth\": 0, \"ticks\": \"\"}}, \"type\": \"scatter\"}], \"scatter3d\": [{\"line\": {\"colorbar\": {\"outlinewidth\": 0, \"ticks\": \"\"}}, \"marker\": {\"colorbar\": {\"outlinewidth\": 0, \"ticks\": \"\"}}, \"type\": \"scatter3d\"}], \"scattercarpet\": [{\"marker\": {\"colorbar\": {\"outlinewidth\": 0, \"ticks\": \"\"}}, \"type\": \"scattercarpet\"}], \"scattergeo\": [{\"marker\": {\"colorbar\": {\"outlinewidth\": 0, \"ticks\": \"\"}}, \"type\": \"scattergeo\"}], \"scattergl\": [{\"marker\": {\"colorbar\": {\"outlinewidth\": 0, \"ticks\": \"\"}}, \"type\": \"scattergl\"}], \"scattermapbox\": [{\"marker\": {\"colorbar\": {\"outlinewidth\": 0, \"ticks\": \"\"}}, \"type\": \"scattermapbox\"}], \"scatterpolar\": [{\"marker\": {\"colorbar\": {\"outlinewidth\": 0, \"ticks\": \"\"}}, \"type\": \"scatterpolar\"}], \"scatterpolargl\": [{\"marker\": {\"colorbar\": {\"outlinewidth\": 0, \"ticks\": \"\"}}, \"type\": \"scatterpolargl\"}], \"scatterternary\": [{\"marker\": {\"colorbar\": {\"outlinewidth\": 0, \"ticks\": \"\"}}, \"type\": \"scatterternary\"}], \"surface\": [{\"colorbar\": {\"outlinewidth\": 0, \"ticks\": \"\"}, \"colorscale\": [[0.0, \"#0d0887\"], [0.1111111111111111, \"#46039f\"], [0.2222222222222222, \"#7201a8\"], [0.3333333333333333, \"#9c179e\"], [0.4444444444444444, \"#bd3786\"], [0.5555555555555556, \"#d8576b\"], [0.6666666666666666, \"#ed7953\"], [0.7777777777777778, \"#fb9f3a\"], [0.8888888888888888, \"#fdca26\"], [1.0, \"#f0f921\"]], \"type\": \"surface\"}], \"table\": [{\"cells\": {\"fill\": {\"color\": \"#EBF0F8\"}, \"line\": {\"color\": \"white\"}}, \"header\": {\"fill\": {\"color\": \"#C8D4E3\"}, \"line\": {\"color\": \"white\"}}, \"type\": \"table\"}]}, \"layout\": {\"annotationdefaults\": {\"arrowcolor\": \"#2a3f5f\", \"arrowhead\": 0, \"arrowwidth\": 1}, \"coloraxis\": {\"colorbar\": {\"outlinewidth\": 0, \"ticks\": \"\"}}, \"colorscale\": {\"diverging\": [[0, \"#8e0152\"], [0.1, \"#c51b7d\"], [0.2, \"#de77ae\"], [0.3, \"#f1b6da\"], [0.4, \"#fde0ef\"], [0.5, \"#f7f7f7\"], [0.6, \"#e6f5d0\"], [0.7, \"#b8e186\"], [0.8, \"#7fbc41\"], [0.9, \"#4d9221\"], [1, \"#276419\"]], \"sequential\": [[0.0, \"#0d0887\"], [0.1111111111111111, \"#46039f\"], [0.2222222222222222, \"#7201a8\"], [0.3333333333333333, \"#9c179e\"], [0.4444444444444444, \"#bd3786\"], [0.5555555555555556, \"#d8576b\"], [0.6666666666666666, \"#ed7953\"], [0.7777777777777778, \"#fb9f3a\"], [0.8888888888888888, \"#fdca26\"], [1.0, \"#f0f921\"]], \"sequentialminus\": [[0.0, \"#0d0887\"], [0.1111111111111111, \"#46039f\"], [0.2222222222222222, \"#7201a8\"], [0.3333333333333333, \"#9c179e\"], [0.4444444444444444, \"#bd3786\"], [0.5555555555555556, \"#d8576b\"], [0.6666666666666666, \"#ed7953\"], [0.7777777777777778, \"#fb9f3a\"], [0.8888888888888888, \"#fdca26\"], [1.0, \"#f0f921\"]]}, \"colorway\": [\"#636efa\", \"#EF553B\", \"#00cc96\", \"#ab63fa\", \"#FFA15A\", \"#19d3f3\", \"#FF6692\", \"#B6E880\", \"#FF97FF\", \"#FECB52\"], \"font\": {\"color\": \"#2a3f5f\"}, \"geo\": {\"bgcolor\": \"white\", \"lakecolor\": \"white\", \"landcolor\": \"#E5ECF6\", \"showlakes\": true, \"showland\": true, \"subunitcolor\": \"white\"}, \"hoverlabel\": {\"align\": \"left\"}, \"hovermode\": \"closest\", \"mapbox\": {\"style\": \"light\"}, \"paper_bgcolor\": \"white\", \"plot_bgcolor\": \"#E5ECF6\", \"polar\": {\"angularaxis\": {\"gridcolor\": \"white\", \"linecolor\": \"white\", \"ticks\": \"\"}, \"bgcolor\": \"#E5ECF6\", \"radialaxis\": {\"gridcolor\": \"white\", \"linecolor\": \"white\", \"ticks\": \"\"}}, \"scene\": {\"xaxis\": {\"backgroundcolor\": \"#E5ECF6\", \"gridcolor\": \"white\", \"gridwidth\": 2, \"linecolor\": \"white\", \"showbackground\": true, \"ticks\": \"\", \"zerolinecolor\": \"white\"}, \"yaxis\": {\"backgroundcolor\": \"#E5ECF6\", \"gridcolor\": \"white\", \"gridwidth\": 2, \"linecolor\": \"white\", \"showbackground\": true, \"ticks\": \"\", \"zerolinecolor\": \"white\"}, \"zaxis\": {\"backgroundcolor\": \"#E5ECF6\", \"gridcolor\": \"white\", \"gridwidth\": 2, \"linecolor\": \"white\", \"showbackground\": true, \"ticks\": \"\", \"zerolinecolor\": \"white\"}}, \"shapedefaults\": {\"line\": {\"color\": \"#2a3f5f\"}}, \"ternary\": {\"aaxis\": {\"gridcolor\": \"white\", \"linecolor\": \"white\", \"ticks\": \"\"}, \"baxis\": {\"gridcolor\": \"white\", \"linecolor\": \"white\", \"ticks\": \"\"}, \"bgcolor\": \"#E5ECF6\", \"caxis\": {\"gridcolor\": \"white\", \"linecolor\": \"white\", \"ticks\": \"\"}}, \"title\": {\"x\": 0.05}, \"xaxis\": {\"automargin\": true, \"gridcolor\": \"white\", \"linecolor\": \"white\", \"ticks\": \"\", \"title\": {\"standoff\": 15}, \"zerolinecolor\": \"white\", \"zerolinewidth\": 2}, \"yaxis\": {\"automargin\": true, \"gridcolor\": \"white\", \"linecolor\": \"white\", \"ticks\": \"\", \"title\": {\"standoff\": 15}, \"zerolinecolor\": \"white\", \"zerolinewidth\": 2}}}, \"title\": {\"text\": \"gradientboosting_ne\"}, \"width\": 1200, \"xaxis\": {\"anchor\": \"y\", \"domain\": [0.0, 1.0]}, \"yaxis\": {\"anchor\": \"x\", \"domain\": [0.0, 1.0]}},\n",
              "                        {\"responsive\": true}\n",
              "                    ).then(function(){\n",
              "                            \n",
              "var gd = document.getElementById('c1926876-b6e8-46c9-915a-adf1acdf6b27');\n",
              "var x = new MutationObserver(function (mutations, observer) {{\n",
              "        var display = window.getComputedStyle(gd).display;\n",
              "        if (!display || display === 'none') {{\n",
              "            console.log([gd, 'removed!']);\n",
              "            Plotly.purge(gd);\n",
              "            observer.disconnect();\n",
              "        }}\n",
              "}});\n",
              "\n",
              "// Listen for the removal of the full notebook cells\n",
              "var notebookContainer = gd.closest('#notebook-container');\n",
              "if (notebookContainer) {{\n",
              "    x.observe(notebookContainer, {childList: true});\n",
              "}}\n",
              "\n",
              "// Listen for the clearing of the current output cell\n",
              "var outputEl = gd.closest('.output');\n",
              "if (outputEl) {{\n",
              "    x.observe(outputEl, {childList: true});\n",
              "}}\n",
              "\n",
              "                        })\n",
              "                };\n",
              "                \n",
              "            </script>\n",
              "        </div>\n",
              "</body>\n",
              "</html>"
            ]
          },
          "metadata": {
            "tags": []
          }
        }
      ]
    },
    {
      "cell_type": "code",
      "metadata": {
        "id": "yUD0to_yXuuN"
      },
      "source": [
        "ndv_features=['ndvi_ne',\"ndvi_se\",\"ndvi_sw\"]\n"
      ],
      "execution_count": 55,
      "outputs": []
    },
    {
      "cell_type": "code",
      "metadata": {
        "id": "UGNuOxm6XuuQ"
      },
      "source": [
        "\n",
        "\n",
        "\n",
        "\n",
        "\n",
        "\n"
      ],
      "execution_count": 55,
      "outputs": []
    },
    {
      "cell_type": "code",
      "metadata": {
        "id": "pFu_CFEPXuuQ",
        "colab": {
          "base_uri": "https://localhost:8080/",
          "height": 297
        },
        "outputId": "62dc0ac5-7cbd-4ec8-bc04-4b73ad48a697"
      },
      "source": [
        "XX_ndv.head(8)"
      ],
      "execution_count": 56,
      "outputs": [
        {
          "output_type": "execute_result",
          "data": {
            "text/html": [
              "<div>\n",
              "<style scoped>\n",
              "    .dataframe tbody tr th:only-of-type {\n",
              "        vertical-align: middle;\n",
              "    }\n",
              "\n",
              "    .dataframe tbody tr th {\n",
              "        vertical-align: top;\n",
              "    }\n",
              "\n",
              "    .dataframe thead th {\n",
              "        text-align: right;\n",
              "    }\n",
              "</style>\n",
              "<table border=\"1\" class=\"dataframe\">\n",
              "  <thead>\n",
              "    <tr style=\"text-align: right;\">\n",
              "      <th></th>\n",
              "      <th>ndvi_ne</th>\n",
              "      <th>ndvi_nw</th>\n",
              "      <th>ndvi_se</th>\n",
              "      <th>ndvi_sw</th>\n",
              "      <th>ne_pred</th>\n",
              "      <th>ssz</th>\n",
              "    </tr>\n",
              "  </thead>\n",
              "  <tbody>\n",
              "    <tr>\n",
              "      <th>0</th>\n",
              "      <td>0.122600</td>\n",
              "      <td>0.103725</td>\n",
              "      <td>0.198483</td>\n",
              "      <td>0.177617</td>\n",
              "      <td>0.077695</td>\n",
              "      <td>0</td>\n",
              "    </tr>\n",
              "    <tr>\n",
              "      <th>1</th>\n",
              "      <td>0.169900</td>\n",
              "      <td>0.142175</td>\n",
              "      <td>0.162357</td>\n",
              "      <td>0.155486</td>\n",
              "      <td>0.116948</td>\n",
              "      <td>1</td>\n",
              "    </tr>\n",
              "    <tr>\n",
              "      <th>2</th>\n",
              "      <td>0.032250</td>\n",
              "      <td>0.172967</td>\n",
              "      <td>0.157200</td>\n",
              "      <td>0.170843</td>\n",
              "      <td>0.110966</td>\n",
              "      <td>2</td>\n",
              "    </tr>\n",
              "    <tr>\n",
              "      <th>3</th>\n",
              "      <td>0.128633</td>\n",
              "      <td>0.245067</td>\n",
              "      <td>0.227557</td>\n",
              "      <td>0.235886</td>\n",
              "      <td>0.165768</td>\n",
              "      <td>3</td>\n",
              "    </tr>\n",
              "    <tr>\n",
              "      <th>4</th>\n",
              "      <td>0.196200</td>\n",
              "      <td>0.262200</td>\n",
              "      <td>0.251200</td>\n",
              "      <td>0.247340</td>\n",
              "      <td>0.212346</td>\n",
              "      <td>4</td>\n",
              "    </tr>\n",
              "    <tr>\n",
              "      <th>5</th>\n",
              "      <td>0.112900</td>\n",
              "      <td>0.174850</td>\n",
              "      <td>0.254314</td>\n",
              "      <td>0.181743</td>\n",
              "      <td>0.123775</td>\n",
              "      <td>5</td>\n",
              "    </tr>\n",
              "    <tr>\n",
              "      <th>6</th>\n",
              "      <td>0.112900</td>\n",
              "      <td>0.092800</td>\n",
              "      <td>0.205071</td>\n",
              "      <td>0.210271</td>\n",
              "      <td>0.072419</td>\n",
              "      <td>6</td>\n",
              "    </tr>\n",
              "    <tr>\n",
              "      <th>7</th>\n",
              "      <td>0.072500</td>\n",
              "      <td>0.072500</td>\n",
              "      <td>0.151471</td>\n",
              "      <td>0.133029</td>\n",
              "      <td>0.036027</td>\n",
              "      <td>7</td>\n",
              "    </tr>\n",
              "  </tbody>\n",
              "</table>\n",
              "</div>"
            ],
            "text/plain": [
              "    ndvi_ne   ndvi_nw   ndvi_se   ndvi_sw   ne_pred  ssz\n",
              "0  0.122600  0.103725  0.198483  0.177617  0.077695    0\n",
              "1  0.169900  0.142175  0.162357  0.155486  0.116948    1\n",
              "2  0.032250  0.172967  0.157200  0.170843  0.110966    2\n",
              "3  0.128633  0.245067  0.227557  0.235886  0.165768    3\n",
              "4  0.196200  0.262200  0.251200  0.247340  0.212346    4\n",
              "5  0.112900  0.174850  0.254314  0.181743  0.123775    5\n",
              "6  0.112900  0.092800  0.205071  0.210271  0.072419    6\n",
              "7  0.072500  0.072500  0.151471  0.133029  0.036027    7"
            ]
          },
          "metadata": {
            "tags": []
          },
          "execution_count": 56
        }
      ]
    },
    {
      "cell_type": "code",
      "metadata": {
        "id": "z5MpfyUIYhso"
      },
      "source": [
        ""
      ],
      "execution_count": 56,
      "outputs": []
    },
    {
      "cell_type": "code",
      "metadata": {
        "id": "lVCP0yAHYhoX"
      },
      "source": [
        ""
      ],
      "execution_count": 56,
      "outputs": []
    },
    {
      "cell_type": "code",
      "metadata": {
        "id": "7uj-tfSqXmoU"
      },
      "source": [
        "ndv_features=[\"ndvi_nw\",\"ndvi_se\",\"ndvi_sw\"]\n"
      ],
      "execution_count": 57,
      "outputs": []
    },
    {
      "cell_type": "code",
      "metadata": {
        "id": "ziygdFlIXm5Y",
        "colab": {
          "base_uri": "https://localhost:8080/",
          "height": 297
        },
        "outputId": "26275a9f-354c-4399-a383-1dacdec8806c"
      },
      "source": [
        "XX_ndv.head(8)"
      ],
      "execution_count": 58,
      "outputs": [
        {
          "output_type": "execute_result",
          "data": {
            "text/html": [
              "<div>\n",
              "<style scoped>\n",
              "    .dataframe tbody tr th:only-of-type {\n",
              "        vertical-align: middle;\n",
              "    }\n",
              "\n",
              "    .dataframe tbody tr th {\n",
              "        vertical-align: top;\n",
              "    }\n",
              "\n",
              "    .dataframe thead th {\n",
              "        text-align: right;\n",
              "    }\n",
              "</style>\n",
              "<table border=\"1\" class=\"dataframe\">\n",
              "  <thead>\n",
              "    <tr style=\"text-align: right;\">\n",
              "      <th></th>\n",
              "      <th>ndvi_ne</th>\n",
              "      <th>ndvi_nw</th>\n",
              "      <th>ndvi_se</th>\n",
              "      <th>ndvi_sw</th>\n",
              "      <th>ne_pred</th>\n",
              "      <th>ssz</th>\n",
              "    </tr>\n",
              "  </thead>\n",
              "  <tbody>\n",
              "    <tr>\n",
              "      <th>0</th>\n",
              "      <td>0.122600</td>\n",
              "      <td>0.103725</td>\n",
              "      <td>0.198483</td>\n",
              "      <td>0.177617</td>\n",
              "      <td>0.077695</td>\n",
              "      <td>0</td>\n",
              "    </tr>\n",
              "    <tr>\n",
              "      <th>1</th>\n",
              "      <td>0.169900</td>\n",
              "      <td>0.142175</td>\n",
              "      <td>0.162357</td>\n",
              "      <td>0.155486</td>\n",
              "      <td>0.116948</td>\n",
              "      <td>1</td>\n",
              "    </tr>\n",
              "    <tr>\n",
              "      <th>2</th>\n",
              "      <td>0.032250</td>\n",
              "      <td>0.172967</td>\n",
              "      <td>0.157200</td>\n",
              "      <td>0.170843</td>\n",
              "      <td>0.110966</td>\n",
              "      <td>2</td>\n",
              "    </tr>\n",
              "    <tr>\n",
              "      <th>3</th>\n",
              "      <td>0.128633</td>\n",
              "      <td>0.245067</td>\n",
              "      <td>0.227557</td>\n",
              "      <td>0.235886</td>\n",
              "      <td>0.165768</td>\n",
              "      <td>3</td>\n",
              "    </tr>\n",
              "    <tr>\n",
              "      <th>4</th>\n",
              "      <td>0.196200</td>\n",
              "      <td>0.262200</td>\n",
              "      <td>0.251200</td>\n",
              "      <td>0.247340</td>\n",
              "      <td>0.212346</td>\n",
              "      <td>4</td>\n",
              "    </tr>\n",
              "    <tr>\n",
              "      <th>5</th>\n",
              "      <td>0.112900</td>\n",
              "      <td>0.174850</td>\n",
              "      <td>0.254314</td>\n",
              "      <td>0.181743</td>\n",
              "      <td>0.123775</td>\n",
              "      <td>5</td>\n",
              "    </tr>\n",
              "    <tr>\n",
              "      <th>6</th>\n",
              "      <td>0.112900</td>\n",
              "      <td>0.092800</td>\n",
              "      <td>0.205071</td>\n",
              "      <td>0.210271</td>\n",
              "      <td>0.072419</td>\n",
              "      <td>6</td>\n",
              "    </tr>\n",
              "    <tr>\n",
              "      <th>7</th>\n",
              "      <td>0.072500</td>\n",
              "      <td>0.072500</td>\n",
              "      <td>0.151471</td>\n",
              "      <td>0.133029</td>\n",
              "      <td>0.036027</td>\n",
              "      <td>7</td>\n",
              "    </tr>\n",
              "  </tbody>\n",
              "</table>\n",
              "</div>"
            ],
            "text/plain": [
              "    ndvi_ne   ndvi_nw   ndvi_se   ndvi_sw   ne_pred  ssz\n",
              "0  0.122600  0.103725  0.198483  0.177617  0.077695    0\n",
              "1  0.169900  0.142175  0.162357  0.155486  0.116948    1\n",
              "2  0.032250  0.172967  0.157200  0.170843  0.110966    2\n",
              "3  0.128633  0.245067  0.227557  0.235886  0.165768    3\n",
              "4  0.196200  0.262200  0.251200  0.247340  0.212346    4\n",
              "5  0.112900  0.174850  0.254314  0.181743  0.123775    5\n",
              "6  0.112900  0.092800  0.205071  0.210271  0.072419    6\n",
              "7  0.072500  0.072500  0.151471  0.133029  0.036027    7"
            ]
          },
          "metadata": {
            "tags": []
          },
          "execution_count": 58
        }
      ]
    },
    {
      "cell_type": "code",
      "metadata": {
        "colab": {
          "base_uri": "https://localhost:8080/",
          "height": 439
        },
        "id": "arwsqO-r6Z3w",
        "outputId": "4b81b9c2-4a2d-449b-f364-8c8b47995e00"
      },
      "source": [
        "X_train_sj"
      ],
      "execution_count": 59,
      "outputs": [
        {
          "output_type": "execute_result",
          "data": {
            "text/html": [
              "<div>\n",
              "<style scoped>\n",
              "    .dataframe tbody tr th:only-of-type {\n",
              "        vertical-align: middle;\n",
              "    }\n",
              "\n",
              "    .dataframe tbody tr th {\n",
              "        vertical-align: top;\n",
              "    }\n",
              "\n",
              "    .dataframe thead th {\n",
              "        text-align: right;\n",
              "    }\n",
              "</style>\n",
              "<table border=\"1\" class=\"dataframe\">\n",
              "  <thead>\n",
              "    <tr style=\"text-align: right;\">\n",
              "      <th></th>\n",
              "      <th>city</th>\n",
              "      <th>year</th>\n",
              "      <th>weekofyear</th>\n",
              "      <th>week_start_date</th>\n",
              "      <th>ndvi_ne</th>\n",
              "      <th>ndvi_nw</th>\n",
              "      <th>ndvi_se</th>\n",
              "      <th>ndvi_sw</th>\n",
              "      <th>precipitation_amt_mm</th>\n",
              "      <th>reanalysis_air_temp_k</th>\n",
              "      <th>reanalysis_avg_temp_k</th>\n",
              "      <th>reanalysis_dew_point_temp_k</th>\n",
              "      <th>reanalysis_max_air_temp_k</th>\n",
              "      <th>reanalysis_min_air_temp_k</th>\n",
              "      <th>reanalysis_precip_amt_kg_per_m2</th>\n",
              "      <th>reanalysis_relative_humidity_percent</th>\n",
              "      <th>reanalysis_sat_precip_amt_mm</th>\n",
              "      <th>reanalysis_specific_humidity_g_per_kg</th>\n",
              "      <th>reanalysis_tdtr_k</th>\n",
              "      <th>station_avg_temp_c</th>\n",
              "      <th>station_diur_temp_rng_c</th>\n",
              "      <th>station_max_temp_c</th>\n",
              "      <th>station_min_temp_c</th>\n",
              "      <th>station_precip_mm</th>\n",
              "      <th>total_cases</th>\n",
              "      <th>pred</th>\n",
              "      <th>Randomforest_total</th>\n",
              "    </tr>\n",
              "  </thead>\n",
              "  <tbody>\n",
              "    <tr>\n",
              "      <th>0</th>\n",
              "      <td>sj</td>\n",
              "      <td>1990</td>\n",
              "      <td>18</td>\n",
              "      <td>1990-04-30</td>\n",
              "      <td>0.122600</td>\n",
              "      <td>0.103725</td>\n",
              "      <td>0.198483</td>\n",
              "      <td>0.177617</td>\n",
              "      <td>12.42</td>\n",
              "      <td>297.572857</td>\n",
              "      <td>297.742857</td>\n",
              "      <td>292.414286</td>\n",
              "      <td>299.8</td>\n",
              "      <td>295.9</td>\n",
              "      <td>32.00</td>\n",
              "      <td>73.365714</td>\n",
              "      <td>12.42</td>\n",
              "      <td>14.012857</td>\n",
              "      <td>2.628571</td>\n",
              "      <td>25.442857</td>\n",
              "      <td>6.900000</td>\n",
              "      <td>29.4</td>\n",
              "      <td>20.0</td>\n",
              "      <td>16.0</td>\n",
              "      <td>4</td>\n",
              "      <td>22.887066</td>\n",
              "      <td>4.272749</td>\n",
              "    </tr>\n",
              "    <tr>\n",
              "      <th>1</th>\n",
              "      <td>sj</td>\n",
              "      <td>1990</td>\n",
              "      <td>19</td>\n",
              "      <td>1990-05-07</td>\n",
              "      <td>0.169900</td>\n",
              "      <td>0.142175</td>\n",
              "      <td>0.162357</td>\n",
              "      <td>0.155486</td>\n",
              "      <td>22.82</td>\n",
              "      <td>298.211429</td>\n",
              "      <td>298.442857</td>\n",
              "      <td>293.951429</td>\n",
              "      <td>300.9</td>\n",
              "      <td>296.4</td>\n",
              "      <td>17.94</td>\n",
              "      <td>77.368571</td>\n",
              "      <td>22.82</td>\n",
              "      <td>15.372857</td>\n",
              "      <td>2.371429</td>\n",
              "      <td>26.714286</td>\n",
              "      <td>6.371429</td>\n",
              "      <td>31.7</td>\n",
              "      <td>22.2</td>\n",
              "      <td>8.6</td>\n",
              "      <td>5</td>\n",
              "      <td>36.431284</td>\n",
              "      <td>4.967420</td>\n",
              "    </tr>\n",
              "    <tr>\n",
              "      <th>2</th>\n",
              "      <td>sj</td>\n",
              "      <td>1990</td>\n",
              "      <td>20</td>\n",
              "      <td>1990-05-14</td>\n",
              "      <td>0.032250</td>\n",
              "      <td>0.172967</td>\n",
              "      <td>0.157200</td>\n",
              "      <td>0.170843</td>\n",
              "      <td>34.54</td>\n",
              "      <td>298.781429</td>\n",
              "      <td>298.878571</td>\n",
              "      <td>295.434286</td>\n",
              "      <td>300.5</td>\n",
              "      <td>297.3</td>\n",
              "      <td>26.10</td>\n",
              "      <td>82.052857</td>\n",
              "      <td>34.54</td>\n",
              "      <td>16.848571</td>\n",
              "      <td>2.300000</td>\n",
              "      <td>26.714286</td>\n",
              "      <td>6.485714</td>\n",
              "      <td>32.2</td>\n",
              "      <td>22.8</td>\n",
              "      <td>41.4</td>\n",
              "      <td>4</td>\n",
              "      <td>15.775733</td>\n",
              "      <td>4.463777</td>\n",
              "    </tr>\n",
              "    <tr>\n",
              "      <th>3</th>\n",
              "      <td>sj</td>\n",
              "      <td>1990</td>\n",
              "      <td>21</td>\n",
              "      <td>1990-05-21</td>\n",
              "      <td>0.128633</td>\n",
              "      <td>0.245067</td>\n",
              "      <td>0.227557</td>\n",
              "      <td>0.235886</td>\n",
              "      <td>15.36</td>\n",
              "      <td>298.987143</td>\n",
              "      <td>299.228571</td>\n",
              "      <td>295.310000</td>\n",
              "      <td>301.4</td>\n",
              "      <td>297.0</td>\n",
              "      <td>13.90</td>\n",
              "      <td>80.337143</td>\n",
              "      <td>15.36</td>\n",
              "      <td>16.672857</td>\n",
              "      <td>2.428571</td>\n",
              "      <td>27.471429</td>\n",
              "      <td>6.771429</td>\n",
              "      <td>33.3</td>\n",
              "      <td>23.3</td>\n",
              "      <td>4.0</td>\n",
              "      <td>3</td>\n",
              "      <td>29.978724</td>\n",
              "      <td>3.373866</td>\n",
              "    </tr>\n",
              "    <tr>\n",
              "      <th>4</th>\n",
              "      <td>sj</td>\n",
              "      <td>1990</td>\n",
              "      <td>22</td>\n",
              "      <td>1990-05-28</td>\n",
              "      <td>0.196200</td>\n",
              "      <td>0.262200</td>\n",
              "      <td>0.251200</td>\n",
              "      <td>0.247340</td>\n",
              "      <td>7.52</td>\n",
              "      <td>299.518571</td>\n",
              "      <td>299.664286</td>\n",
              "      <td>295.821429</td>\n",
              "      <td>301.9</td>\n",
              "      <td>297.5</td>\n",
              "      <td>12.20</td>\n",
              "      <td>80.460000</td>\n",
              "      <td>7.52</td>\n",
              "      <td>17.210000</td>\n",
              "      <td>3.014286</td>\n",
              "      <td>28.942857</td>\n",
              "      <td>9.371429</td>\n",
              "      <td>35.0</td>\n",
              "      <td>23.9</td>\n",
              "      <td>5.8</td>\n",
              "      <td>6</td>\n",
              "      <td>41.577538</td>\n",
              "      <td>5.996296</td>\n",
              "    </tr>\n",
              "    <tr>\n",
              "      <th>...</th>\n",
              "      <td>...</td>\n",
              "      <td>...</td>\n",
              "      <td>...</td>\n",
              "      <td>...</td>\n",
              "      <td>...</td>\n",
              "      <td>...</td>\n",
              "      <td>...</td>\n",
              "      <td>...</td>\n",
              "      <td>...</td>\n",
              "      <td>...</td>\n",
              "      <td>...</td>\n",
              "      <td>...</td>\n",
              "      <td>...</td>\n",
              "      <td>...</td>\n",
              "      <td>...</td>\n",
              "      <td>...</td>\n",
              "      <td>...</td>\n",
              "      <td>...</td>\n",
              "      <td>...</td>\n",
              "      <td>...</td>\n",
              "      <td>...</td>\n",
              "      <td>...</td>\n",
              "      <td>...</td>\n",
              "      <td>...</td>\n",
              "      <td>...</td>\n",
              "      <td>...</td>\n",
              "      <td>...</td>\n",
              "    </tr>\n",
              "    <tr>\n",
              "      <th>931</th>\n",
              "      <td>sj</td>\n",
              "      <td>2008</td>\n",
              "      <td>13</td>\n",
              "      <td>2008-03-25</td>\n",
              "      <td>0.077850</td>\n",
              "      <td>-0.039900</td>\n",
              "      <td>0.310471</td>\n",
              "      <td>0.296243</td>\n",
              "      <td>27.19</td>\n",
              "      <td>296.958571</td>\n",
              "      <td>296.957143</td>\n",
              "      <td>292.095714</td>\n",
              "      <td>299.7</td>\n",
              "      <td>294.4</td>\n",
              "      <td>7.55</td>\n",
              "      <td>74.247143</td>\n",
              "      <td>27.19</td>\n",
              "      <td>13.644286</td>\n",
              "      <td>2.885714</td>\n",
              "      <td>25.042857</td>\n",
              "      <td>5.785714</td>\n",
              "      <td>30.0</td>\n",
              "      <td>21.1</td>\n",
              "      <td>1.8</td>\n",
              "      <td>4</td>\n",
              "      <td>33.697978</td>\n",
              "      <td>3.888153</td>\n",
              "    </tr>\n",
              "    <tr>\n",
              "      <th>932</th>\n",
              "      <td>sj</td>\n",
              "      <td>2008</td>\n",
              "      <td>14</td>\n",
              "      <td>2008-04-01</td>\n",
              "      <td>-0.038000</td>\n",
              "      <td>-0.016833</td>\n",
              "      <td>0.119371</td>\n",
              "      <td>0.066386</td>\n",
              "      <td>3.82</td>\n",
              "      <td>298.081429</td>\n",
              "      <td>298.228571</td>\n",
              "      <td>293.235714</td>\n",
              "      <td>299.8</td>\n",
              "      <td>296.5</td>\n",
              "      <td>3.67</td>\n",
              "      <td>74.600000</td>\n",
              "      <td>3.82</td>\n",
              "      <td>14.662857</td>\n",
              "      <td>2.714286</td>\n",
              "      <td>26.242857</td>\n",
              "      <td>6.814286</td>\n",
              "      <td>30.6</td>\n",
              "      <td>22.2</td>\n",
              "      <td>0.5</td>\n",
              "      <td>3</td>\n",
              "      <td>1.658381</td>\n",
              "      <td>3.304613</td>\n",
              "    </tr>\n",
              "    <tr>\n",
              "      <th>933</th>\n",
              "      <td>sj</td>\n",
              "      <td>2008</td>\n",
              "      <td>15</td>\n",
              "      <td>2008-04-08</td>\n",
              "      <td>-0.155200</td>\n",
              "      <td>-0.052750</td>\n",
              "      <td>0.137757</td>\n",
              "      <td>0.141214</td>\n",
              "      <td>16.96</td>\n",
              "      <td>297.460000</td>\n",
              "      <td>297.564286</td>\n",
              "      <td>292.732857</td>\n",
              "      <td>299.4</td>\n",
              "      <td>295.8</td>\n",
              "      <td>35.00</td>\n",
              "      <td>75.027143</td>\n",
              "      <td>16.96</td>\n",
              "      <td>14.184286</td>\n",
              "      <td>2.185714</td>\n",
              "      <td>25.000000</td>\n",
              "      <td>5.714286</td>\n",
              "      <td>29.4</td>\n",
              "      <td>21.7</td>\n",
              "      <td>30.7</td>\n",
              "      <td>1</td>\n",
              "      <td>1.736314</td>\n",
              "      <td>1.218775</td>\n",
              "    </tr>\n",
              "    <tr>\n",
              "      <th>934</th>\n",
              "      <td>sj</td>\n",
              "      <td>2008</td>\n",
              "      <td>16</td>\n",
              "      <td>2008-04-15</td>\n",
              "      <td>0.001800</td>\n",
              "      <td>-0.010367</td>\n",
              "      <td>0.203900</td>\n",
              "      <td>0.209843</td>\n",
              "      <td>0.00</td>\n",
              "      <td>297.630000</td>\n",
              "      <td>297.778571</td>\n",
              "      <td>292.274286</td>\n",
              "      <td>299.7</td>\n",
              "      <td>295.9</td>\n",
              "      <td>4.82</td>\n",
              "      <td>72.285714</td>\n",
              "      <td>0.00</td>\n",
              "      <td>13.858571</td>\n",
              "      <td>2.785714</td>\n",
              "      <td>25.314286</td>\n",
              "      <td>6.242857</td>\n",
              "      <td>29.4</td>\n",
              "      <td>21.7</td>\n",
              "      <td>11.2</td>\n",
              "      <td>3</td>\n",
              "      <td>12.409865</td>\n",
              "      <td>3.555865</td>\n",
              "    </tr>\n",
              "    <tr>\n",
              "      <th>935</th>\n",
              "      <td>sj</td>\n",
              "      <td>2008</td>\n",
              "      <td>17</td>\n",
              "      <td>2008-04-22</td>\n",
              "      <td>-0.037000</td>\n",
              "      <td>-0.010367</td>\n",
              "      <td>0.077314</td>\n",
              "      <td>0.090586</td>\n",
              "      <td>0.00</td>\n",
              "      <td>298.672857</td>\n",
              "      <td>298.692857</td>\n",
              "      <td>294.280000</td>\n",
              "      <td>300.9</td>\n",
              "      <td>295.9</td>\n",
              "      <td>2.17</td>\n",
              "      <td>76.960000</td>\n",
              "      <td>0.00</td>\n",
              "      <td>15.671429</td>\n",
              "      <td>3.957143</td>\n",
              "      <td>27.042857</td>\n",
              "      <td>7.514286</td>\n",
              "      <td>31.7</td>\n",
              "      <td>23.3</td>\n",
              "      <td>0.3</td>\n",
              "      <td>5</td>\n",
              "      <td>-0.338400</td>\n",
              "      <td>4.780503</td>\n",
              "    </tr>\n",
              "  </tbody>\n",
              "</table>\n",
              "<p>936 rows × 27 columns</p>\n",
              "</div>"
            ],
            "text/plain": [
              "    city  year  weekofyear  ... total_cases       pred  Randomforest_total\n",
              "0     sj  1990          18  ...           4  22.887066            4.272749\n",
              "1     sj  1990          19  ...           5  36.431284            4.967420\n",
              "2     sj  1990          20  ...           4  15.775733            4.463777\n",
              "3     sj  1990          21  ...           3  29.978724            3.373866\n",
              "4     sj  1990          22  ...           6  41.577538            5.996296\n",
              "..   ...   ...         ...  ...         ...        ...                 ...\n",
              "931   sj  2008          13  ...           4  33.697978            3.888153\n",
              "932   sj  2008          14  ...           3   1.658381            3.304613\n",
              "933   sj  2008          15  ...           1   1.736314            1.218775\n",
              "934   sj  2008          16  ...           3  12.409865            3.555865\n",
              "935   sj  2008          17  ...           5  -0.338400            4.780503\n",
              "\n",
              "[936 rows x 27 columns]"
            ]
          },
          "metadata": {
            "tags": []
          },
          "execution_count": 59
        }
      ]
    },
    {
      "cell_type": "markdown",
      "metadata": {
        "id": "QvgVvfXwXoWb"
      },
      "source": [
        "### LSTM NDVI 3 előző NDVi--> NDVI aktual"
      ]
    },
    {
      "cell_type": "code",
      "metadata": {
        "id": "xs2Ye-CSIShI"
      },
      "source": [
        "ndv_features=['ndvi_ne', 'ndvi_nw',\n",
        "       'ndvi_se', 'ndvi_sw', 'precipitation_amt_mm', 'reanalysis_air_temp_k',\n",
        "       'reanalysis_avg_temp_k', 'reanalysis_dew_point_temp_k',\n",
        "       'reanalysis_max_air_temp_k', 'reanalysis_min_air_temp_k',\n",
        "       'reanalysis_precip_amt_kg_per_m2',\n",
        "       'reanalysis_relative_humidity_percent', 'reanalysis_sat_precip_amt_mm',\n",
        "       'reanalysis_specific_humidity_g_per_kg', 'reanalysis_tdtr_k',\n",
        "       'station_avg_temp_c', 'station_diur_temp_rng_c', 'station_max_temp_c',\n",
        "       'station_min_temp_c', 'station_precip_mm']"
      ],
      "execution_count": 60,
      "outputs": []
    },
    {
      "cell_type": "code",
      "metadata": {
        "id": "e2l4ztjZMYYg"
      },
      "source": [
        ""
      ],
      "execution_count": 60,
      "outputs": []
    },
    {
      "cell_type": "code",
      "metadata": {
        "id": "dJbDipk30QkK",
        "colab": {
          "base_uri": "https://localhost:8080/"
        },
        "outputId": "b5f575ca-0b9b-49af-fc25-1798ef307c9c"
      },
      "source": [
        "def build_training_data(dataset, history_size = 5, target_size = 23):\n",
        "    '''\n",
        "    source: https://www.mikulskibartosz.name/how-to-split-a-data-frame-into-time-series-for-lstm-deep-neural-network/\n",
        "    '''\n",
        "    start_index = history_size\n",
        "    end_index = len(dataset) - target_size\n",
        "\n",
        "    data = []\n",
        "    labels = []\n",
        "\n",
        "    for i in range(start_index, end_index):\n",
        "        indices = range(i - history_size, i, 1)\n",
        "        #print(indices)\n",
        "        data.append(dataset.iloc[indices])\n",
        "        labels.append(dataset.iloc[i:i + target_size])\n",
        "\n",
        "    data = np.array(data)\n",
        "    labels = np.array(labels)\n",
        "    data = data.reshape((-1,  history_size,4))\n",
        "    labels = labels.reshape((-1, target_size,4))\n",
        "    return data, labels\n",
        "\n",
        "def build_training_data_Xy(X,y, history_size = 15, target_size = 23):\n",
        "    '''\n",
        "    source: https://www.mikulskibartosz.name/how-to-split-a-data-frame-into-time-series-for-lstm-deep-neural-network/\n",
        "    '''\n",
        "    start_index = history_size\n",
        "    end_index = len(X) - target_size\n",
        "\n",
        "    data = []\n",
        "    labels = []\n",
        "\n",
        "    for i in range(start_index, end_index):\n",
        "        indices = range(i - history_size, i, 1)\n",
        "        #print(indices)\n",
        "        data.append(X.iloc[indices])\n",
        "        labels.append(y.iloc[i:i + target_size])\n",
        "\n",
        "    data = np.array(data)\n",
        "    labels = np.array(labels)\n",
        "    data = data.reshape((-1,  history_size,len(XX_ndvi.columns)))\n",
        "    labels = labels.reshape((-1, target_size,1))\n",
        "    return data, labels\n",
        "\n",
        "\n",
        "\n",
        "\n",
        "\n",
        "#ndv_features=[\"ndvi_ne\",\"ndvi_nw\",\"ndvi_se\",\"ndvi_sw\"]\n",
        "XX_ndvi=X_train_sj[ndv_features]\n",
        "x_scaler = MinMaxScaler()\n",
        "XX_ndvi_scale = pd.DataFrame(x_scaler.fit_transform(XX_ndvi))\n",
        "XX_ndvi_scale.columns=XX_ndvi.columns\n",
        "\n",
        "X_train_sj_i=X_train_sj[[\"total_cases\"]]\n",
        "y_scaler=MinMaxScaler()\n",
        "X_train_sj_i_scale=pd.DataFrame(y_scaler.fit_transform(X_train_sj_i))\n",
        "\n",
        "XX_ndvi.reset_index(drop=True, inplace=True)\n",
        "print(XX_ndvi)\n",
        "data, labels = build_training_data_Xy(XX_ndvi_scale,X_train_sj_i_scale)\n",
        "\n"
      ],
      "execution_count": 61,
      "outputs": [
        {
          "output_type": "stream",
          "text": [
            "      ndvi_ne   ndvi_nw  ...  station_min_temp_c  station_precip_mm\n",
            "0    0.122600  0.103725  ...                20.0               16.0\n",
            "1    0.169900  0.142175  ...                22.2                8.6\n",
            "2    0.032250  0.172967  ...                22.8               41.4\n",
            "3    0.128633  0.245067  ...                23.3                4.0\n",
            "4    0.196200  0.262200  ...                23.9                5.8\n",
            "..        ...       ...  ...                 ...                ...\n",
            "931  0.077850 -0.039900  ...                21.1                1.8\n",
            "932 -0.038000 -0.016833  ...                22.2                0.5\n",
            "933 -0.155200 -0.052750  ...                21.7               30.7\n",
            "934  0.001800 -0.010367  ...                21.7               11.2\n",
            "935 -0.037000 -0.010367  ...                23.3                0.3\n",
            "\n",
            "[936 rows x 20 columns]\n"
          ],
          "name": "stdout"
        }
      ]
    },
    {
      "cell_type": "code",
      "metadata": {
        "colab": {
          "base_uri": "https://localhost:8080/"
        },
        "id": "UEotaV9RzrFk",
        "outputId": "ec8d5929-3acf-49e1-ebe0-c3d7910503a4"
      },
      "source": [
        "labels"
      ],
      "execution_count": 62,
      "outputs": [
        {
          "output_type": "execute_result",
          "data": {
            "text/plain": [
              "array([[[0.02819957],\n",
              "        [0.04555315],\n",
              "        [0.06073753],\n",
              "        ...,\n",
              "        [0.04555315],\n",
              "        [0.04555315],\n",
              "        [0.05639913]],\n",
              "\n",
              "       [[0.04555315],\n",
              "        [0.06073753],\n",
              "        [0.05206074],\n",
              "        ...,\n",
              "        [0.04555315],\n",
              "        [0.05639913],\n",
              "        [0.07375271]],\n",
              "\n",
              "       [[0.06073753],\n",
              "        [0.05206074],\n",
              "        [0.04338395],\n",
              "        ...,\n",
              "        [0.05639913],\n",
              "        [0.07375271],\n",
              "        [0.0802603 ]],\n",
              "\n",
              "       ...,\n",
              "\n",
              "       [[0.10412148],\n",
              "        [0.10412148],\n",
              "        [0.05639913],\n",
              "        ...,\n",
              "        [0.00650759],\n",
              "        [0.00867679],\n",
              "        [0.00650759]],\n",
              "\n",
              "       [[0.10412148],\n",
              "        [0.05639913],\n",
              "        [0.07158351],\n",
              "        ...,\n",
              "        [0.00867679],\n",
              "        [0.00650759],\n",
              "        [0.0021692 ]],\n",
              "\n",
              "       [[0.05639913],\n",
              "        [0.07158351],\n",
              "        [0.06290672],\n",
              "        ...,\n",
              "        [0.00650759],\n",
              "        [0.0021692 ],\n",
              "        [0.00650759]]])"
            ]
          },
          "metadata": {
            "tags": []
          },
          "execution_count": 62
        }
      ]
    },
    {
      "cell_type": "code",
      "metadata": {
        "colab": {
          "base_uri": "https://localhost:8080/"
        },
        "id": "1TJhNRTVKHKq",
        "outputId": "e0e12200-b302-473b-9f82-b0de9441201f"
      },
      "source": [
        "len(labels)"
      ],
      "execution_count": 63,
      "outputs": [
        {
          "output_type": "execute_result",
          "data": {
            "text/plain": [
              "898"
            ]
          },
          "metadata": {
            "tags": []
          },
          "execution_count": 63
        }
      ]
    },
    {
      "cell_type": "code",
      "metadata": {
        "colab": {
          "base_uri": "https://localhost:8080/"
        },
        "id": "r9XoggtXLnZG",
        "outputId": "7fef7ba9-b147-4256-fa9b-f817ebf58d18"
      },
      "source": [
        "len(data)"
      ],
      "execution_count": 64,
      "outputs": [
        {
          "output_type": "execute_result",
          "data": {
            "text/plain": [
              "898"
            ]
          },
          "metadata": {
            "tags": []
          },
          "execution_count": 64
        }
      ]
    },
    {
      "cell_type": "code",
      "metadata": {
        "colab": {
          "base_uri": "https://localhost:8080/"
        },
        "id": "MYCBP5sl9C12",
        "outputId": "7c273e8b-5083-45ec-8cd3-ae3c399574bd"
      },
      "source": [
        "data[1]"
      ],
      "execution_count": 65,
      "outputs": [
        {
          "output_type": "execute_result",
          "data": {
            "text/plain": [
              "array([[0.64041572, 0.66981079, 0.43529974, 0.49214226, 0.05842294,\n",
              "        0.36299338, 0.38488784, 0.5284738 , 0.47692308, 0.52054795,\n",
              "        0.0314461 , 0.51021387, 0.05842294, 0.47346033, 0.33023256,\n",
              "        0.53557312, 0.34217507, 0.56179775, 0.56410256, 0.02811376],\n",
              "       [0.48741177, 0.70428426, 0.42268026, 0.52666235, 0.08842806,\n",
              "        0.45402692, 0.45690673, 0.7103557 , 0.41538462, 0.64383562,\n",
              "        0.04574934, 0.73498766, 0.08842806, 0.66450897, 0.30697674,\n",
              "        0.53557312, 0.36339523, 0.61797753, 0.64102564, 0.13533835],\n",
              "       [0.59454599, 0.78500526, 0.59484481, 0.67286631, 0.03932412,\n",
              "        0.48688113, 0.51475797, 0.69511127, 0.55384615, 0.60273973,\n",
              "        0.02436459, 0.65265972, 0.03932412, 0.64176068, 0.34883721,\n",
              "        0.64031621, 0.41644562, 0.74157303, 0.70512821, 0.01307617],\n",
              "       [0.66964931, 0.80418719, 0.65269924, 0.69861342, 0.01925243,\n",
              "        0.57175451, 0.58677686, 0.75784125, 0.63076923, 0.67123288,\n",
              "        0.02138475, 0.65855498, 0.01925243, 0.71130017, 0.53953488,\n",
              "        0.84387352, 0.89920424, 0.93258427, 0.78205128, 0.01896044],\n",
              "       [0.57705774, 0.70639275, 0.66031996, 0.5511635 , 0.02452637,\n",
              "        0.58955054, 0.60330579, 0.76152094, 0.70769231, 0.75342466,\n",
              "        0.04643295, 0.63127228, 0.02452637, 0.71167006, 0.24186047,\n",
              "        0.72924901, 0.44827586, 0.86516854, 0.78205128, 0.12781955],\n",
              "       [0.57705774, 0.61453202, 0.53982207, 0.61529019, 0.00890937,\n",
              "        0.52201688, 0.51357733, 0.76327317, 0.53846154, 0.69863014,\n",
              "        0.06765995, 0.73245133, 0.00890937, 0.71444424, 0.22325581,\n",
              "        0.63241107, 0.41644562, 0.61797753, 0.70512821, 0.09709055],\n",
              "       [0.53215139, 0.59180475, 0.40866231, 0.44166293, 0.38689196,\n",
              "        0.58339037, 0.56434475, 0.84492728, 0.43076923, 0.79452055,\n",
              "        0.05258545, 0.79846449, 0.38689196, 0.81061587, 0.06976744,\n",
              "        0.76482213, 0.5862069 , 0.80898876, 0.64102564, 0.06897679],\n",
              "       [0.56544212, 0.67428907, 0.34528474, 0.42046921, 0.04946237,\n",
              "        0.58133698, 0.5690673 , 0.82617838, 0.66153846, 0.69863014,\n",
              "        0.06574934, 0.76933096, 0.04946237, 0.78638802, 0.17209302,\n",
              "        0.75889328, 0.53050398, 0.80898876, 0.64102564, 0.06897679],\n",
              "       [0.66595343, 0.64671966, 0.43120393, 0.59797148, 0.03689196,\n",
              "        0.67328314, 0.68831169, 0.85964605, 0.69230769, 0.83561644,\n",
              "        0.04978089, 0.69797094, 0.03689196, 0.82282227, 0.21395349,\n",
              "        0.75889328, 0.36870027, 0.80898876, 0.84615385, 0.00359595],\n",
              "       [0.66595343, 0.60283251, 0.5076965 , 0.48639438, 0.05701485,\n",
              "        0.57084189, 0.57497048, 0.78482565, 0.61538462, 0.73972603,\n",
              "        0.07663453, 0.70688237, 0.05701485, 0.7383022 , 0.26046512,\n",
              "        0.65217391, 0.48806366, 0.56179775, 0.5       , 0.20823799],\n",
              "       [0.77569055, 0.74776086, 0.77504976, 0.77352556, 0.1514849 ,\n",
              "        0.59548255, 0.60094451, 0.82074645, 0.64615385, 0.64383562,\n",
              "        0.0716915 , 0.73937483, 0.1514849 , 0.77954503, 0.34418605,\n",
              "        0.7312253 , 0.4403183 , 0.68539326, 0.78205128, 0.03988231],\n",
              "       [0.61892592, 0.7028661 , 0.59323688, 0.62492364, 0.0421915 ,\n",
              "        0.57814282, 0.58205431, 0.77483792, 0.61538462, 0.61643836,\n",
              "        0.07454864, 0.67212778, 0.0421915 , 0.72831515, 0.23255814,\n",
              "        0.72924901, 0.33952255, 0.56179775, 0.64102564, 0.10657077],\n",
              "       [0.66301706, 0.78733766, 0.96714008, 0.99985861, 0.08361495,\n",
              "        0.62673968, 0.63400236, 0.80094621, 0.8       , 0.78082192,\n",
              "        0.06064855, 0.66451878, 0.08361495, 0.76105049, 0.4       ,\n",
              "        0.74703557, 0.66047745, 0.86516854, 0.64102564, 0.12291599],\n",
              "       [0.66301706, 0.58266159, 0.44040371, 0.4547643 , 0.07373272,\n",
              "        0.71115674, 0.72136954, 0.84510251, 0.72307692, 0.84931507,\n",
              "        0.03505697, 0.61968741, 0.07373272, 0.8071019 , 0.31627907,\n",
              "        0.74110672, 0.56233422, 0.74157303, 0.70512821, 0.03726708],\n",
              "       [0.66301706, 0.65397817, 0.5444364 , 0.52081804, 0.23233487,\n",
              "        0.64202601, 0.635183  , 0.90678115, 0.73846154, 0.80821918,\n",
              "        0.17861525, 0.83698931, 0.23233487, 0.8803403 , 0.1627907 ,\n",
              "        0.71936759, 0.4005305 , 0.68539326, 0.64102564, 0.14612619]])"
            ]
          },
          "metadata": {
            "tags": []
          },
          "execution_count": 65
        }
      ]
    },
    {
      "cell_type": "code",
      "metadata": {
        "colab": {
          "base_uri": "https://localhost:8080/"
        },
        "id": "NKKV5GS0Ih4-",
        "outputId": "17b3b0a6-84f1-40ff-9cdd-e42a54f11a66"
      },
      "source": [
        "labels[1]"
      ],
      "execution_count": 66,
      "outputs": [
        {
          "output_type": "execute_result",
          "data": {
            "text/plain": [
              "array([[0.04555315],\n",
              "       [0.06073753],\n",
              "       [0.05206074],\n",
              "       [0.04338395],\n",
              "       [0.0867679 ],\n",
              "       [0.05856833],\n",
              "       [0.09110629],\n",
              "       [0.07158351],\n",
              "       [0.09327549],\n",
              "       [0.0802603 ],\n",
              "       [0.12364425],\n",
              "       [0.15401302],\n",
              "       [0.09544469],\n",
              "       [0.12147505],\n",
              "       [0.11496746],\n",
              "       [0.11279826],\n",
              "       [0.10195228],\n",
              "       [0.05639913],\n",
              "       [0.05856833],\n",
              "       [0.04555315],\n",
              "       [0.04555315],\n",
              "       [0.05639913],\n",
              "       [0.07375271]])"
            ]
          },
          "metadata": {
            "tags": []
          },
          "execution_count": 66
        }
      ]
    },
    {
      "cell_type": "code",
      "metadata": {
        "colab": {
          "base_uri": "https://localhost:8080/"
        },
        "id": "8WqEAtXoDCa0",
        "outputId": "f3214386-8bd7-4c0c-eb2e-c7194ddade06"
      },
      "source": [
        "labels[0]"
      ],
      "execution_count": 67,
      "outputs": [
        {
          "output_type": "execute_result",
          "data": {
            "text/plain": [
              "array([[0.02819957],\n",
              "       [0.04555315],\n",
              "       [0.06073753],\n",
              "       [0.05206074],\n",
              "       [0.04338395],\n",
              "       [0.0867679 ],\n",
              "       [0.05856833],\n",
              "       [0.09110629],\n",
              "       [0.07158351],\n",
              "       [0.09327549],\n",
              "       [0.0802603 ],\n",
              "       [0.12364425],\n",
              "       [0.15401302],\n",
              "       [0.09544469],\n",
              "       [0.12147505],\n",
              "       [0.11496746],\n",
              "       [0.11279826],\n",
              "       [0.10195228],\n",
              "       [0.05639913],\n",
              "       [0.05856833],\n",
              "       [0.04555315],\n",
              "       [0.04555315],\n",
              "       [0.05639913]])"
            ]
          },
          "metadata": {
            "tags": []
          },
          "execution_count": 67
        }
      ]
    },
    {
      "cell_type": "code",
      "metadata": {
        "id": "enoFbfrLHeOf"
      },
      "source": [
        "from keras.backend import clear_session\n",
        "from keras.layers import InputLayer, Dense, LSTM, Input, Dropout,Flatten,Bidirectional\n",
        "from keras.models import Sequential, Model\n",
        "from keras.optimizers import SGD,Adam,Adamax,Nadam,Ftrl,Adadelta,Adagrad,Nadam\n",
        "import tensorflow as tf\n",
        "from tensorflow.keras.callbacks import ModelCheckpoint\n",
        "from keras.backend import clear_session\n",
        "from tensorflow.keras.losses import mean_absolute_percentage_error, huber,kld\n",
        "#import tensorflow_addons as tfa"
      ],
      "execution_count": 68,
      "outputs": []
    },
    {
      "cell_type": "code",
      "metadata": {
        "id": "3cJUWeOuSdZF"
      },
      "source": [
        "#.LSTM(units, input_shape=(timesteps, features))])"
      ],
      "execution_count": 69,
      "outputs": []
    },
    {
      "cell_type": "code",
      "metadata": {
        "colab": {
          "base_uri": "https://localhost:8080/"
        },
        "id": "4zf9W4xRXuDU",
        "outputId": "f70540e4-b347-48ce-8577-d6ae2b5a9e4e"
      },
      "source": [
        "clear_session() \n",
        "dropout_1_rate=0.1\n",
        "input_size=15 # timesteps\n",
        "output_size=23 # features\n",
        "learning_rate=0.001\n",
        "\n",
        "inputs=Input(shape=(input_size,20))\n",
        "lstm1=LSTM(output_size,return_sequences=False,dropout=0.2,recurrent_dropout=0.2)(inputs)\n",
        "#lstm2=LSTM(output_size,return_sequences=False,dropout=0.1)(lstm1)\n",
        "\n",
        "\n",
        "result=Dense(23,activation=\"swish\",)(lstm1)\n",
        "#dropout1=Dropout(rate=dropout_1_rate)(layer2)\n",
        "#result=Dense(output_size,activation=\"sigmoid\")(dropout1)\n",
        "\n",
        "model = Model(inputs=inputs, outputs=result)\n",
        "model.compile(optimizer=Adam(learning_rate=learning_rate), loss=\"mae\")\n",
        "model.summary()"
      ],
      "execution_count": 138,
      "outputs": [
        {
          "output_type": "stream",
          "text": [
            "WARNING:tensorflow:Layer lstm will not use cuDNN kernels since it doesn't meet the criteria. It will use a generic GPU kernel as fallback when running on GPU.\n",
            "Model: \"model\"\n",
            "_________________________________________________________________\n",
            "Layer (type)                 Output Shape              Param #   \n",
            "=================================================================\n",
            "input_1 (InputLayer)         [(None, 15, 20)]          0         \n",
            "_________________________________________________________________\n",
            "lstm (LSTM)                  (None, 23)                4048      \n",
            "_________________________________________________________________\n",
            "dense (Dense)                (None, 23)                552       \n",
            "=================================================================\n",
            "Total params: 4,600\n",
            "Trainable params: 4,600\n",
            "Non-trainable params: 0\n",
            "_________________________________________________________________\n"
          ],
          "name": "stdout"
        }
      ]
    },
    {
      "cell_type": "code",
      "metadata": {
        "id": "FXBjot_lP3Mv",
        "colab": {
          "base_uri": "https://localhost:8080/"
        },
        "outputId": "f62f839f-8909-4957-c393-941c0b190fbf"
      },
      "source": [
        "!rm model*"
      ],
      "execution_count": 139,
      "outputs": [
        {
          "output_type": "stream",
          "text": [
            "rm: cannot remove 'model*': No such file or directory\n"
          ],
          "name": "stdout"
        }
      ]
    },
    {
      "cell_type": "code",
      "metadata": {
        "id": "5q5ghx0VORBA"
      },
      "source": [
        "fname=\"./model__\"\n",
        "callbacks = [#callback_LR,\n",
        "       \n",
        "        ModelCheckpoint(filepath=fname+\"_{epoch}\"+\"_{loss:.5f}_{val_loss:.5f}_.hdf5\", monitor='val_loss',\n",
        "                        verbose=2, save_best_only=True, mode='min')]"
      ],
      "execution_count": 140,
      "outputs": []
    },
    {
      "cell_type": "code",
      "metadata": {
        "colab": {
          "base_uri": "https://localhost:8080/"
        },
        "id": "q9zR35uKHvNu",
        "outputId": "43752b52-6bb9-4eb2-ce59-d27394a86071"
      },
      "source": [
        "history = model.fit(\n",
        "    x=data,\n",
        "    y=labels,\n",
        "    validation_split=0.2,\n",
        "    epochs=100,\n",
        "    batch_size=3,\n",
        "    callbacks=callbacks,\n",
        "   )"
      ],
      "execution_count": null,
      "outputs": [
        {
          "output_type": "stream",
          "text": [
            "Epoch 1/100\n",
            "240/240 [==============================] - 15s 52ms/step - loss: 0.0808 - val_loss: 0.0424\n",
            "\n",
            "Epoch 00001: val_loss improved from inf to 0.04238, saving model to ./model___1_0.06542_0.04238_.hdf5\n",
            "Epoch 2/100\n",
            "240/240 [==============================] - 12s 50ms/step - loss: 0.0532 - val_loss: 0.0453\n",
            "\n",
            "Epoch 00002: val_loss did not improve from 0.04238\n",
            "Epoch 3/100\n",
            "240/240 [==============================] - 12s 51ms/step - loss: 0.0574 - val_loss: 0.0429\n",
            "\n",
            "Epoch 00003: val_loss did not improve from 0.04238\n",
            "Epoch 4/100\n",
            "240/240 [==============================] - 13s 53ms/step - loss: 0.0566 - val_loss: 0.0451\n",
            "\n",
            "Epoch 00004: val_loss did not improve from 0.04238\n",
            "Epoch 5/100\n",
            "240/240 [==============================] - 12s 51ms/step - loss: 0.0529 - val_loss: 0.0402\n",
            "\n",
            "Epoch 00005: val_loss improved from 0.04238 to 0.04022, saving model to ./model___5_0.05360_0.04022_.hdf5\n",
            "Epoch 6/100\n",
            "240/240 [==============================] - 12s 49ms/step - loss: 0.0491 - val_loss: 0.0428\n",
            "\n",
            "Epoch 00006: val_loss did not improve from 0.04022\n",
            "Epoch 7/100\n",
            "240/240 [==============================] - 12s 50ms/step - loss: 0.0529 - val_loss: 0.0398\n",
            "\n",
            "Epoch 00007: val_loss improved from 0.04022 to 0.03984, saving model to ./model___7_0.05261_0.03984_.hdf5\n",
            "Epoch 8/100\n",
            "240/240 [==============================] - 12s 51ms/step - loss: 0.0545 - val_loss: 0.0415\n",
            "\n",
            "Epoch 00008: val_loss did not improve from 0.03984\n",
            "Epoch 9/100\n",
            "240/240 [==============================] - 12s 52ms/step - loss: 0.0530 - val_loss: 0.0413\n",
            "\n",
            "Epoch 00009: val_loss did not improve from 0.03984\n",
            "Epoch 10/100\n",
            "240/240 [==============================] - 13s 53ms/step - loss: 0.0497 - val_loss: 0.0434\n",
            "\n",
            "Epoch 00010: val_loss did not improve from 0.03984\n",
            "Epoch 11/100\n",
            "240/240 [==============================] - 12s 49ms/step - loss: 0.0542 - val_loss: 0.0394\n",
            "\n",
            "Epoch 00011: val_loss improved from 0.03984 to 0.03941, saving model to ./model___11_0.05145_0.03941_.hdf5\n",
            "Epoch 12/100\n",
            "240/240 [==============================] - 12s 50ms/step - loss: 0.0566 - val_loss: 0.0412\n",
            "\n",
            "Epoch 00012: val_loss did not improve from 0.03941\n",
            "Epoch 13/100\n",
            "240/240 [==============================] - 12s 50ms/step - loss: 0.0504 - val_loss: 0.0366\n",
            "\n",
            "Epoch 00013: val_loss improved from 0.03941 to 0.03659, saving model to ./model___13_0.05087_0.03659_.hdf5\n",
            "Epoch 14/100\n",
            "240/240 [==============================] - 13s 52ms/step - loss: 0.0476 - val_loss: 0.0360\n",
            "\n",
            "Epoch 00014: val_loss improved from 0.03659 to 0.03601, saving model to ./model___14_0.05010_0.03601_.hdf5\n",
            "Epoch 15/100\n",
            "240/240 [==============================] - 13s 52ms/step - loss: 0.0511 - val_loss: 0.0391\n",
            "\n",
            "Epoch 00015: val_loss did not improve from 0.03601\n",
            "Epoch 16/100\n",
            "240/240 [==============================] - 12s 52ms/step - loss: 0.0512 - val_loss: 0.0359\n",
            "\n",
            "Epoch 00016: val_loss improved from 0.03601 to 0.03588, saving model to ./model___16_0.04992_0.03588_.hdf5\n",
            "Epoch 17/100\n",
            "240/240 [==============================] - 12s 50ms/step - loss: 0.0469 - val_loss: 0.0347\n",
            "\n",
            "Epoch 00017: val_loss improved from 0.03588 to 0.03467, saving model to ./model___17_0.04974_0.03467_.hdf5\n",
            "Epoch 18/100\n",
            "240/240 [==============================] - 12s 51ms/step - loss: 0.0555 - val_loss: 0.0402\n",
            "\n",
            "Epoch 00018: val_loss did not improve from 0.03467\n",
            "Epoch 19/100\n",
            "240/240 [==============================] - 12s 52ms/step - loss: 0.0459 - val_loss: 0.0372\n",
            "\n",
            "Epoch 00019: val_loss did not improve from 0.03467\n",
            "Epoch 20/100\n",
            "240/240 [==============================] - 13s 53ms/step - loss: 0.0483 - val_loss: 0.0358\n",
            "\n",
            "Epoch 00020: val_loss did not improve from 0.03467\n",
            "Epoch 21/100\n",
            "240/240 [==============================] - 12s 52ms/step - loss: 0.0575 - val_loss: 0.0360\n",
            "\n",
            "Epoch 00021: val_loss did not improve from 0.03467\n",
            "Epoch 22/100\n",
            "240/240 [==============================] - 13s 53ms/step - loss: 0.0476 - val_loss: 0.0371\n",
            "\n",
            "Epoch 00022: val_loss did not improve from 0.03467\n",
            "Epoch 23/100\n",
            "240/240 [==============================] - 13s 54ms/step - loss: 0.0487 - val_loss: 0.0343\n",
            "\n",
            "Epoch 00023: val_loss improved from 0.03467 to 0.03429, saving model to ./model___23_0.04862_0.03429_.hdf5\n",
            "Epoch 24/100\n",
            "240/240 [==============================] - 12s 51ms/step - loss: 0.0533 - val_loss: 0.0356\n",
            "\n",
            "Epoch 00024: val_loss did not improve from 0.03429\n",
            "Epoch 25/100\n",
            "240/240 [==============================] - 12s 50ms/step - loss: 0.0464 - val_loss: 0.0386\n",
            "\n",
            "Epoch 00025: val_loss did not improve from 0.03429\n",
            "Epoch 26/100\n",
            "240/240 [==============================] - 12s 50ms/step - loss: 0.0444 - val_loss: 0.0359\n",
            "\n",
            "Epoch 00026: val_loss did not improve from 0.03429\n",
            "Epoch 27/100\n",
            "240/240 [==============================] - 13s 52ms/step - loss: 0.0500 - val_loss: 0.0388\n",
            "\n",
            "Epoch 00027: val_loss did not improve from 0.03429\n",
            "Epoch 28/100\n",
            "240/240 [==============================] - 13s 54ms/step - loss: 0.0475 - val_loss: 0.0355\n",
            "\n",
            "Epoch 00028: val_loss did not improve from 0.03429\n",
            "Epoch 29/100\n",
            "240/240 [==============================] - 13s 53ms/step - loss: 0.0481 - val_loss: 0.0382\n",
            "\n",
            "Epoch 00029: val_loss did not improve from 0.03429\n",
            "Epoch 30/100\n",
            "240/240 [==============================] - 12s 50ms/step - loss: 0.0497 - val_loss: 0.0382\n",
            "\n",
            "Epoch 00030: val_loss did not improve from 0.03429\n",
            "Epoch 31/100\n",
            "240/240 [==============================] - 12s 50ms/step - loss: 0.0475 - val_loss: 0.0394\n",
            "\n",
            "Epoch 00031: val_loss did not improve from 0.03429\n",
            "Epoch 32/100\n",
            "240/240 [==============================] - 12s 50ms/step - loss: 0.0465 - val_loss: 0.0379\n",
            "\n",
            "Epoch 00032: val_loss did not improve from 0.03429\n",
            "Epoch 33/100\n",
            "240/240 [==============================] - 13s 53ms/step - loss: 0.0483 - val_loss: 0.0387\n",
            "\n",
            "Epoch 00033: val_loss did not improve from 0.03429\n",
            "Epoch 34/100\n",
            "240/240 [==============================] - 13s 53ms/step - loss: 0.0490 - val_loss: 0.0367\n",
            "\n",
            "Epoch 00034: val_loss did not improve from 0.03429\n",
            "Epoch 35/100\n",
            "240/240 [==============================] - 12s 50ms/step - loss: 0.0482 - val_loss: 0.0371\n",
            "\n",
            "Epoch 00035: val_loss did not improve from 0.03429\n",
            "Epoch 36/100\n",
            "240/240 [==============================] - 12s 50ms/step - loss: 0.0433 - val_loss: 0.0353\n",
            "\n",
            "Epoch 00036: val_loss did not improve from 0.03429\n",
            "Epoch 37/100\n",
            "240/240 [==============================] - 12s 51ms/step - loss: 0.0477 - val_loss: 0.0377\n",
            "\n",
            "Epoch 00037: val_loss did not improve from 0.03429\n",
            "Epoch 38/100\n",
            "240/240 [==============================] - 13s 53ms/step - loss: 0.0447 - val_loss: 0.0384\n",
            "\n",
            "Epoch 00038: val_loss did not improve from 0.03429\n",
            "Epoch 39/100\n",
            "240/240 [==============================] - 13s 53ms/step - loss: 0.0491 - val_loss: 0.0373\n",
            "\n",
            "Epoch 00039: val_loss did not improve from 0.03429\n",
            "Epoch 40/100\n",
            "240/240 [==============================] - 12s 51ms/step - loss: 0.0453 - val_loss: 0.0381\n",
            "\n",
            "Epoch 00040: val_loss did not improve from 0.03429\n",
            "Epoch 41/100\n",
            "240/240 [==============================] - 12s 51ms/step - loss: 0.0450 - val_loss: 0.0377\n",
            "\n",
            "Epoch 00041: val_loss did not improve from 0.03429\n",
            "Epoch 42/100\n",
            "240/240 [==============================] - 12s 51ms/step - loss: 0.0425 - val_loss: 0.0374\n",
            "\n",
            "Epoch 00042: val_loss did not improve from 0.03429\n",
            "Epoch 43/100\n",
            "240/240 [==============================] - 12s 52ms/step - loss: 0.0448 - val_loss: 0.0370\n",
            "\n",
            "Epoch 00043: val_loss did not improve from 0.03429\n",
            "Epoch 44/100\n",
            "199/240 [=======================>......] - ETA: 2s - loss: 0.0442"
          ],
          "name": "stdout"
        }
      ]
    },
    {
      "cell_type": "code",
      "metadata": {
        "id": "E3NiUv0qBYwe"
      },
      "source": [
        "model_loaded=tf.keras.models.load_model('model___64_0.03118_0.03059_.hdf5')"
      ],
      "execution_count": 106,
      "outputs": []
    },
    {
      "cell_type": "code",
      "metadata": {
        "id": "0QCA3rvVGLXL"
      },
      "source": [
        "model_loaded=model"
      ],
      "execution_count": 124,
      "outputs": []
    },
    {
      "cell_type": "code",
      "metadata": {
        "id": "CdlFfbUiWvra"
      },
      "source": [
        "y_pred=model_loaded.predict(data)"
      ],
      "execution_count": 125,
      "outputs": []
    },
    {
      "cell_type": "code",
      "metadata": {
        "colab": {
          "base_uri": "https://localhost:8080/"
        },
        "id": "fdZLGOUfXGpi",
        "outputId": "fab31386-f9ce-46c9-cb50-3767693dceae"
      },
      "source": [
        "y_pred[1]"
      ],
      "execution_count": 126,
      "outputs": [
        {
          "output_type": "execute_result",
          "data": {
            "text/plain": [
              "array([0.06454055, 0.07358778, 0.07584107, 0.07982487, 0.0798834 ,\n",
              "       0.08557148, 0.08620433, 0.08354593, 0.08615662, 0.08410558,\n",
              "       0.08911973, 0.08850756, 0.08408478, 0.08373836, 0.08364798,\n",
              "       0.07236076, 0.0723286 , 0.07145106, 0.06840629, 0.06608988,\n",
              "       0.06248551, 0.05592752, 0.06016588], dtype=float32)"
            ]
          },
          "metadata": {
            "tags": []
          },
          "execution_count": 126
        }
      ]
    },
    {
      "cell_type": "code",
      "metadata": {
        "colab": {
          "base_uri": "https://localhost:8080/"
        },
        "id": "ck4uVgpwJzLH",
        "outputId": "66abc011-f64f-499b-e84e-89849d054cee"
      },
      "source": [
        "y_pred_rescale=y_scaler.inverse_transform(y_pred)\n",
        "print(y_pred_rescale[7])"
      ],
      "execution_count": 127,
      "outputs": [
        {
          "output_type": "stream",
          "text": [
            "[44.466213 45.957333 47.444973 48.681355 46.071766 45.089405 45.79157\n",
            " 43.682785 41.585396 40.108162 39.98686  36.7139   32.954018 29.369583\n",
            " 30.23912  27.609184 27.655312 26.359215 24.388391 21.89648  22.883587\n",
            " 19.377935 19.618505]\n"
          ],
          "name": "stdout"
        }
      ]
    },
    {
      "cell_type": "code",
      "metadata": {
        "colab": {
          "base_uri": "https://localhost:8080/"
        },
        "id": "eQpwk-qY7j5Y",
        "outputId": "a4bf2673-7811-4e2c-cef8-630a0ba06068"
      },
      "source": [
        "y_orig=y_scaler.inverse_transform(labels[7])\n",
        "y_orig"
      ],
      "execution_count": 128,
      "outputs": [
        {
          "output_type": "execute_result",
          "data": {
            "text/plain": [
              "array([[42.],\n",
              "       [33.],\n",
              "       [43.],\n",
              "       [37.],\n",
              "       [57.],\n",
              "       [71.],\n",
              "       [44.],\n",
              "       [56.],\n",
              "       [53.],\n",
              "       [52.],\n",
              "       [47.],\n",
              "       [26.],\n",
              "       [27.],\n",
              "       [21.],\n",
              "       [21.],\n",
              "       [26.],\n",
              "       [34.],\n",
              "       [37.],\n",
              "       [17.],\n",
              "       [19.],\n",
              "       [25.],\n",
              "       [18.],\n",
              "       [21.]])"
            ]
          },
          "metadata": {
            "tags": []
          },
          "execution_count": 128
        }
      ]
    }
  ]
}