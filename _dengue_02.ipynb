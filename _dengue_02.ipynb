{
  "nbformat": 4,
  "nbformat_minor": 0,
  "metadata": {
    "colab": {
      "name": "_dengue_02.ipynb",
      "provenance": [],
      "authorship_tag": "ABX9TyO+g4z53xJmWDayfx0OLczV",
      "include_colab_link": true
    },
    "kernelspec": {
      "display_name": "Python 3",
      "name": "python3"
    }
  },
  "cells": [
    {
      "cell_type": "markdown",
      "metadata": {
        "id": "view-in-github",
        "colab_type": "text"
      },
      "source": [
        "<a href=\"https://colab.research.google.com/github/sipocz/_dengue/blob/main/_dengue_02.ipynb\" target=\"_parent\"><img src=\"https://colab.research.google.com/assets/colab-badge.svg\" alt=\"Open In Colab\"/></a>"
      ]
    },
    {
      "cell_type": "code",
      "metadata": {
        "colab": {
          "base_uri": "https://localhost:8080/"
        },
        "id": "8nXsDwdKVfQe",
        "outputId": "5cf5f7e5-2e2b-4c30-f3f6-cd008361bc3a"
      },
      "source": [
        "\n",
        "#_Dengue\n",
        "_project=\"_dengue\"\n",
        "_PCVERSION_=False\n",
        "_GITHUBVERSION_=True\n",
        "_GOOGLEVERSION_=False\n",
        "if _PCVERSION_:\n",
        "    basedir=\"C:/Users/sipocz/OneDrive/Dokumentumok/GitHub\"\n",
        "\n",
        "if _GOOGLEVERSION_:\n",
        "    from google.colab import drive\n",
        "    drive.mount('/content/drive',force_remount=True)\n",
        "    basedir=\"/content/drive/My Drive/001_AI\"\n",
        "\n",
        "if _GITHUBVERSION_:\n",
        "    !mkdir _dengue\n",
        "    files=[\"dengue_features_train.csv\",\"dengue_labels_train.csv\",\"dengue_features_test.csv\"]\n",
        "    path=\"https://raw.githubusercontent.com/sipocz/_dengue/main/\"\n",
        "    basedir=\"./\"\n",
        "    storeto=basedir+_project\n",
        "    for f in files:\n",
        "        fname=path+f\n",
        "        !rm $f\n",
        "        !wget $fname\n",
        "        !mv $f $storeto\n",
        "\n"
      ],
      "execution_count": 38,
      "outputs": [
        {
          "output_type": "stream",
          "text": [
            "mkdir: cannot create directory ‘_dengue’: File exists\n",
            "rm: cannot remove 'dengue_features_train.csv': No such file or directory\n",
            "--2021-08-02 14:11:22--  https://raw.githubusercontent.com/sipocz/_dengue/main/dengue_features_train.csv\n",
            "Resolving raw.githubusercontent.com (raw.githubusercontent.com)... 185.199.108.133, 185.199.109.133, 185.199.110.133, ...\n",
            "Connecting to raw.githubusercontent.com (raw.githubusercontent.com)|185.199.108.133|:443... connected.\n",
            "HTTP request sent, awaiting response... 200 OK\n",
            "Length: 287139 (280K) [text/plain]\n",
            "Saving to: ‘dengue_features_train.csv’\n",
            "\n",
            "dengue_features_tra 100%[===================>] 280.41K  --.-KB/s    in 0.02s   \n",
            "\n",
            "2021-08-02 14:11:22 (13.1 MB/s) - ‘dengue_features_train.csv’ saved [287139/287139]\n",
            "\n",
            "rm: cannot remove 'dengue_labels_train.csv': No such file or directory\n",
            "--2021-08-02 14:11:23--  https://raw.githubusercontent.com/sipocz/_dengue/main/dengue_labels_train.csv\n",
            "Resolving raw.githubusercontent.com (raw.githubusercontent.com)... 185.199.108.133, 185.199.109.133, 185.199.110.133, ...\n",
            "Connecting to raw.githubusercontent.com (raw.githubusercontent.com)|185.199.108.133|:443... connected.\n",
            "HTTP request sent, awaiting response... 200 OK\n",
            "Length: 19582 (19K) [text/plain]\n",
            "Saving to: ‘dengue_labels_train.csv’\n",
            "\n",
            "dengue_labels_train 100%[===================>]  19.12K  --.-KB/s    in 0.001s  \n",
            "\n",
            "2021-08-02 14:11:23 (19.6 MB/s) - ‘dengue_labels_train.csv’ saved [19582/19582]\n",
            "\n",
            "rm: cannot remove 'dengue_features_test.csv': No such file or directory\n",
            "--2021-08-02 14:11:23--  https://raw.githubusercontent.com/sipocz/_dengue/main/dengue_features_test.csv\n",
            "Resolving raw.githubusercontent.com (raw.githubusercontent.com)... 185.199.108.133, 185.199.109.133, 185.199.110.133, ...\n",
            "Connecting to raw.githubusercontent.com (raw.githubusercontent.com)|185.199.108.133|:443... connected.\n",
            "HTTP request sent, awaiting response... 200 OK\n",
            "Length: 82465 (81K) [text/plain]\n",
            "Saving to: ‘dengue_features_test.csv’\n",
            "\n",
            "dengue_features_tes 100%[===================>]  80.53K  --.-KB/s    in 0.01s   \n",
            "\n",
            "2021-08-02 14:11:23 (6.02 MB/s) - ‘dengue_features_test.csv’ saved [82465/82465]\n",
            "\n"
          ],
          "name": "stdout"
        }
      ]
    },
    {
      "cell_type": "code",
      "metadata": {
        "id": "3hFMCKNpNts-"
      },
      "source": [
        "\n",
        "import numpy as np\n",
        "import pandas as pd\n",
        "import matplotlib.pyplot as plt\n",
        "\n",
        "\n",
        "#--------------scikit import \n",
        "from sklearn.ensemble import IsolationForest\n",
        "from sklearn.metrics import accuracy_score\n",
        "from sklearn.preprocessing import MinMaxScaler\n",
        "from sklearn.model_selection import train_test_split\n",
        "\n",
        "#--------------\n",
        "def outlierStatistic(X_train_predict):\n",
        "    print(X_train_predict)\n",
        "    maxX=len(X_train_predict)\n",
        "    outlier=0\n",
        "    for i in X_train_predict:\n",
        "        if i==-1:\n",
        "            outlier+=1\n",
        "    print(f\"A összes ({maxX} darabból {outlier} darab outlier van. Az {outlier/maxX*100:5.1f} %.)\")\n",
        "\n",
        "features_train=basedir+_project+\"/\"+\"dengue_features_train.csv\"\n",
        "labels_train=basedir+_project+\"/\"+\"dengue_labels_train.csv\"\n",
        "features_test=basedir+_project+\"/\"+\"dengue_features_test.csv\"\n",
        "\n",
        "\n",
        "X_train=pd.read_csv(features_train)\n",
        "y_train=pd.read_csv(labels_train)\n",
        "X_test=pd.read_csv(features_test)\n",
        "\n",
        "\n",
        "\n",
        "\n",
        "\n",
        "\n"
      ],
      "execution_count": 39,
      "outputs": []
    },
    {
      "cell_type": "code",
      "metadata": {
        "colab": {
          "base_uri": "https://localhost:8080/"
        },
        "id": "7PKZXx8u_1DZ",
        "outputId": "e27edd3e-b4bd-44fd-a714-dcdf3e98129e"
      },
      "source": [
        "X_test.isnull().sum()"
      ],
      "execution_count": 40,
      "outputs": [
        {
          "output_type": "execute_result",
          "data": {
            "text/plain": [
              "city                                      0\n",
              "year                                      0\n",
              "weekofyear                                0\n",
              "week_start_date                           0\n",
              "ndvi_ne                                  43\n",
              "ndvi_nw                                  11\n",
              "ndvi_se                                   1\n",
              "ndvi_sw                                   1\n",
              "precipitation_amt_mm                      2\n",
              "reanalysis_air_temp_k                     2\n",
              "reanalysis_avg_temp_k                     2\n",
              "reanalysis_dew_point_temp_k               2\n",
              "reanalysis_max_air_temp_k                 2\n",
              "reanalysis_min_air_temp_k                 2\n",
              "reanalysis_precip_amt_kg_per_m2           2\n",
              "reanalysis_relative_humidity_percent      2\n",
              "reanalysis_sat_precip_amt_mm              2\n",
              "reanalysis_specific_humidity_g_per_kg     2\n",
              "reanalysis_tdtr_k                         2\n",
              "station_avg_temp_c                       12\n",
              "station_diur_temp_rng_c                  12\n",
              "station_max_temp_c                        3\n",
              "station_min_temp_c                        9\n",
              "station_precip_mm                         5\n",
              "dtype: int64"
            ]
          },
          "metadata": {
            "tags": []
          },
          "execution_count": 40
        }
      ]
    },
    {
      "cell_type": "code",
      "metadata": {
        "colab": {
          "base_uri": "https://localhost:8080/"
        },
        "id": "ARBG6b9nBGJX",
        "outputId": "3d60f838-ddbb-4ec9-ec87-73190de54d93"
      },
      "source": [
        "len(list(X_test[X_test.isnull().T.any().T]))"
      ],
      "execution_count": 41,
      "outputs": [
        {
          "output_type": "execute_result",
          "data": {
            "text/plain": [
              "24"
            ]
          },
          "metadata": {
            "tags": []
          },
          "execution_count": 41
        }
      ]
    },
    {
      "cell_type": "code",
      "metadata": {
        "colab": {
          "base_uri": "https://localhost:8080/",
          "height": 439
        },
        "id": "7rEDDKO6HLny",
        "outputId": "b9777ff2-0ed2-434d-c7c4-de4009fb90fb"
      },
      "source": [
        "X_test[X_test.isnull().T.any().T].head(124)"
      ],
      "execution_count": 42,
      "outputs": [
        {
          "output_type": "execute_result",
          "data": {
            "text/html": [
              "<div>\n",
              "<style scoped>\n",
              "    .dataframe tbody tr th:only-of-type {\n",
              "        vertical-align: middle;\n",
              "    }\n",
              "\n",
              "    .dataframe tbody tr th {\n",
              "        vertical-align: top;\n",
              "    }\n",
              "\n",
              "    .dataframe thead th {\n",
              "        text-align: right;\n",
              "    }\n",
              "</style>\n",
              "<table border=\"1\" class=\"dataframe\">\n",
              "  <thead>\n",
              "    <tr style=\"text-align: right;\">\n",
              "      <th></th>\n",
              "      <th>city</th>\n",
              "      <th>year</th>\n",
              "      <th>weekofyear</th>\n",
              "      <th>week_start_date</th>\n",
              "      <th>ndvi_ne</th>\n",
              "      <th>ndvi_nw</th>\n",
              "      <th>ndvi_se</th>\n",
              "      <th>ndvi_sw</th>\n",
              "      <th>precipitation_amt_mm</th>\n",
              "      <th>reanalysis_air_temp_k</th>\n",
              "      <th>reanalysis_avg_temp_k</th>\n",
              "      <th>reanalysis_dew_point_temp_k</th>\n",
              "      <th>reanalysis_max_air_temp_k</th>\n",
              "      <th>reanalysis_min_air_temp_k</th>\n",
              "      <th>reanalysis_precip_amt_kg_per_m2</th>\n",
              "      <th>reanalysis_relative_humidity_percent</th>\n",
              "      <th>reanalysis_sat_precip_amt_mm</th>\n",
              "      <th>reanalysis_specific_humidity_g_per_kg</th>\n",
              "      <th>reanalysis_tdtr_k</th>\n",
              "      <th>station_avg_temp_c</th>\n",
              "      <th>station_diur_temp_rng_c</th>\n",
              "      <th>station_max_temp_c</th>\n",
              "      <th>station_min_temp_c</th>\n",
              "      <th>station_precip_mm</th>\n",
              "    </tr>\n",
              "  </thead>\n",
              "  <tbody>\n",
              "    <tr>\n",
              "      <th>2</th>\n",
              "      <td>sj</td>\n",
              "      <td>2008</td>\n",
              "      <td>20</td>\n",
              "      <td>2008-05-13</td>\n",
              "      <td>-0.001500</td>\n",
              "      <td>NaN</td>\n",
              "      <td>0.151083</td>\n",
              "      <td>0.091529</td>\n",
              "      <td>3.66</td>\n",
              "      <td>299.455714</td>\n",
              "      <td>299.357143</td>\n",
              "      <td>295.308571</td>\n",
              "      <td>302.2</td>\n",
              "      <td>296.4</td>\n",
              "      <td>4.12</td>\n",
              "      <td>78.270000</td>\n",
              "      <td>3.66</td>\n",
              "      <td>16.674286</td>\n",
              "      <td>4.428571</td>\n",
              "      <td>27.928571</td>\n",
              "      <td>7.785714</td>\n",
              "      <td>32.8</td>\n",
              "      <td>22.8</td>\n",
              "      <td>3.0</td>\n",
              "    </tr>\n",
              "    <tr>\n",
              "      <th>3</th>\n",
              "      <td>sj</td>\n",
              "      <td>2008</td>\n",
              "      <td>21</td>\n",
              "      <td>2008-05-20</td>\n",
              "      <td>NaN</td>\n",
              "      <td>-0.019867</td>\n",
              "      <td>0.124329</td>\n",
              "      <td>0.125686</td>\n",
              "      <td>0.00</td>\n",
              "      <td>299.690000</td>\n",
              "      <td>299.728571</td>\n",
              "      <td>294.402857</td>\n",
              "      <td>303.0</td>\n",
              "      <td>296.9</td>\n",
              "      <td>2.20</td>\n",
              "      <td>73.015714</td>\n",
              "      <td>0.00</td>\n",
              "      <td>15.775714</td>\n",
              "      <td>4.342857</td>\n",
              "      <td>28.057143</td>\n",
              "      <td>6.271429</td>\n",
              "      <td>33.3</td>\n",
              "      <td>24.4</td>\n",
              "      <td>0.3</td>\n",
              "    </tr>\n",
              "    <tr>\n",
              "      <th>7</th>\n",
              "      <td>sj</td>\n",
              "      <td>2008</td>\n",
              "      <td>25</td>\n",
              "      <td>2008-06-17</td>\n",
              "      <td>NaN</td>\n",
              "      <td>0.082150</td>\n",
              "      <td>0.144371</td>\n",
              "      <td>0.116729</td>\n",
              "      <td>30.81</td>\n",
              "      <td>300.484286</td>\n",
              "      <td>300.578571</td>\n",
              "      <td>295.997143</td>\n",
              "      <td>303.5</td>\n",
              "      <td>297.5</td>\n",
              "      <td>7.20</td>\n",
              "      <td>76.870000</td>\n",
              "      <td>30.81</td>\n",
              "      <td>17.420000</td>\n",
              "      <td>3.900000</td>\n",
              "      <td>28.757143</td>\n",
              "      <td>6.985714</td>\n",
              "      <td>34.4</td>\n",
              "      <td>24.4</td>\n",
              "      <td>0.3</td>\n",
              "    </tr>\n",
              "    <tr>\n",
              "      <th>11</th>\n",
              "      <td>sj</td>\n",
              "      <td>2008</td>\n",
              "      <td>29</td>\n",
              "      <td>2008-07-15</td>\n",
              "      <td>NaN</td>\n",
              "      <td>NaN</td>\n",
              "      <td>0.195843</td>\n",
              "      <td>0.176157</td>\n",
              "      <td>4.34</td>\n",
              "      <td>300.448571</td>\n",
              "      <td>300.607143</td>\n",
              "      <td>296.177143</td>\n",
              "      <td>302.3</td>\n",
              "      <td>298.7</td>\n",
              "      <td>5.49</td>\n",
              "      <td>77.615714</td>\n",
              "      <td>4.34</td>\n",
              "      <td>17.571429</td>\n",
              "      <td>2.614286</td>\n",
              "      <td>28.785714</td>\n",
              "      <td>5.014286</td>\n",
              "      <td>31.7</td>\n",
              "      <td>26.1</td>\n",
              "      <td>0.0</td>\n",
              "    </tr>\n",
              "    <tr>\n",
              "      <th>15</th>\n",
              "      <td>sj</td>\n",
              "      <td>2008</td>\n",
              "      <td>33</td>\n",
              "      <td>2008-08-12</td>\n",
              "      <td>NaN</td>\n",
              "      <td>NaN</td>\n",
              "      <td>0.058900</td>\n",
              "      <td>0.065643</td>\n",
              "      <td>4.28</td>\n",
              "      <td>301.150000</td>\n",
              "      <td>301.285714</td>\n",
              "      <td>296.912857</td>\n",
              "      <td>303.3</td>\n",
              "      <td>299.0</td>\n",
              "      <td>7.82</td>\n",
              "      <td>77.968571</td>\n",
              "      <td>4.28</td>\n",
              "      <td>18.418571</td>\n",
              "      <td>2.742857</td>\n",
              "      <td>29.214286</td>\n",
              "      <td>6.342857</td>\n",
              "      <td>33.9</td>\n",
              "      <td>25.0</td>\n",
              "      <td>1.8</td>\n",
              "    </tr>\n",
              "    <tr>\n",
              "      <th>...</th>\n",
              "      <td>...</td>\n",
              "      <td>...</td>\n",
              "      <td>...</td>\n",
              "      <td>...</td>\n",
              "      <td>...</td>\n",
              "      <td>...</td>\n",
              "      <td>...</td>\n",
              "      <td>...</td>\n",
              "      <td>...</td>\n",
              "      <td>...</td>\n",
              "      <td>...</td>\n",
              "      <td>...</td>\n",
              "      <td>...</td>\n",
              "      <td>...</td>\n",
              "      <td>...</td>\n",
              "      <td>...</td>\n",
              "      <td>...</td>\n",
              "      <td>...</td>\n",
              "      <td>...</td>\n",
              "      <td>...</td>\n",
              "      <td>...</td>\n",
              "      <td>...</td>\n",
              "      <td>...</td>\n",
              "      <td>...</td>\n",
              "    </tr>\n",
              "    <tr>\n",
              "      <th>314</th>\n",
              "      <td>iq</td>\n",
              "      <td>2011</td>\n",
              "      <td>28</td>\n",
              "      <td>2011-07-16</td>\n",
              "      <td>0.330200</td>\n",
              "      <td>0.334843</td>\n",
              "      <td>0.324957</td>\n",
              "      <td>0.319843</td>\n",
              "      <td>19.52</td>\n",
              "      <td>295.554286</td>\n",
              "      <td>296.464286</td>\n",
              "      <td>293.251429</td>\n",
              "      <td>305.5</td>\n",
              "      <td>290.6</td>\n",
              "      <td>25.70</td>\n",
              "      <td>88.778571</td>\n",
              "      <td>19.52</td>\n",
              "      <td>14.787143</td>\n",
              "      <td>9.271429</td>\n",
              "      <td>NaN</td>\n",
              "      <td>NaN</td>\n",
              "      <td>31.8</td>\n",
              "      <td>19.5</td>\n",
              "      <td>21.1</td>\n",
              "    </tr>\n",
              "    <tr>\n",
              "      <th>318</th>\n",
              "      <td>iq</td>\n",
              "      <td>2011</td>\n",
              "      <td>32</td>\n",
              "      <td>2011-08-13</td>\n",
              "      <td>0.322914</td>\n",
              "      <td>0.334943</td>\n",
              "      <td>0.293471</td>\n",
              "      <td>0.335500</td>\n",
              "      <td>7.30</td>\n",
              "      <td>297.454286</td>\n",
              "      <td>299.050000</td>\n",
              "      <td>294.522857</td>\n",
              "      <td>307.9</td>\n",
              "      <td>290.9</td>\n",
              "      <td>79.90</td>\n",
              "      <td>86.355714</td>\n",
              "      <td>7.30</td>\n",
              "      <td>16.032857</td>\n",
              "      <td>11.642857</td>\n",
              "      <td>27.020000</td>\n",
              "      <td>11.560000</td>\n",
              "      <td>34.2</td>\n",
              "      <td>20.4</td>\n",
              "      <td>NaN</td>\n",
              "    </tr>\n",
              "    <tr>\n",
              "      <th>339</th>\n",
              "      <td>iq</td>\n",
              "      <td>2012</td>\n",
              "      <td>1</td>\n",
              "      <td>2012-01-08</td>\n",
              "      <td>0.220886</td>\n",
              "      <td>0.235729</td>\n",
              "      <td>0.260271</td>\n",
              "      <td>0.321814</td>\n",
              "      <td>55.26</td>\n",
              "      <td>296.638571</td>\n",
              "      <td>297.200000</td>\n",
              "      <td>296.134286</td>\n",
              "      <td>303.1</td>\n",
              "      <td>293.8</td>\n",
              "      <td>140.80</td>\n",
              "      <td>97.435714</td>\n",
              "      <td>55.26</td>\n",
              "      <td>17.765714</td>\n",
              "      <td>5.800000</td>\n",
              "      <td>NaN</td>\n",
              "      <td>NaN</td>\n",
              "      <td>32.8</td>\n",
              "      <td>22.6</td>\n",
              "      <td>35.3</td>\n",
              "    </tr>\n",
              "    <tr>\n",
              "      <th>370</th>\n",
              "      <td>iq</td>\n",
              "      <td>2012</td>\n",
              "      <td>32</td>\n",
              "      <td>2012-08-12</td>\n",
              "      <td>0.289500</td>\n",
              "      <td>0.300171</td>\n",
              "      <td>0.239743</td>\n",
              "      <td>0.308771</td>\n",
              "      <td>16.38</td>\n",
              "      <td>297.657143</td>\n",
              "      <td>298.828571</td>\n",
              "      <td>292.920000</td>\n",
              "      <td>307.9</td>\n",
              "      <td>289.3</td>\n",
              "      <td>8.90</td>\n",
              "      <td>77.642857</td>\n",
              "      <td>16.38</td>\n",
              "      <td>14.560000</td>\n",
              "      <td>13.114286</td>\n",
              "      <td>27.000000</td>\n",
              "      <td>13.400000</td>\n",
              "      <td>34.2</td>\n",
              "      <td>18.3</td>\n",
              "      <td>NaN</td>\n",
              "    </tr>\n",
              "    <tr>\n",
              "      <th>374</th>\n",
              "      <td>iq</td>\n",
              "      <td>2012</td>\n",
              "      <td>36</td>\n",
              "      <td>2012-09-09</td>\n",
              "      <td>0.411400</td>\n",
              "      <td>0.328529</td>\n",
              "      <td>0.267329</td>\n",
              "      <td>0.366114</td>\n",
              "      <td>6.40</td>\n",
              "      <td>297.892857</td>\n",
              "      <td>298.950000</td>\n",
              "      <td>293.768571</td>\n",
              "      <td>308.5</td>\n",
              "      <td>291.9</td>\n",
              "      <td>12.90</td>\n",
              "      <td>80.228571</td>\n",
              "      <td>6.40</td>\n",
              "      <td>15.292857</td>\n",
              "      <td>11.014286</td>\n",
              "      <td>NaN</td>\n",
              "      <td>NaN</td>\n",
              "      <td>NaN</td>\n",
              "      <td>20.1</td>\n",
              "      <td>6.1</td>\n",
              "    </tr>\n",
              "  </tbody>\n",
              "</table>\n",
              "<p>63 rows × 24 columns</p>\n",
              "</div>"
            ],
            "text/plain": [
              "    city  year  ...  station_min_temp_c station_precip_mm\n",
              "2     sj  2008  ...                22.8               3.0\n",
              "3     sj  2008  ...                24.4               0.3\n",
              "7     sj  2008  ...                24.4               0.3\n",
              "11    sj  2008  ...                26.1               0.0\n",
              "15    sj  2008  ...                25.0               1.8\n",
              "..   ...   ...  ...                 ...               ...\n",
              "314   iq  2011  ...                19.5              21.1\n",
              "318   iq  2011  ...                20.4               NaN\n",
              "339   iq  2012  ...                22.6              35.3\n",
              "370   iq  2012  ...                18.3               NaN\n",
              "374   iq  2012  ...                20.1               6.1\n",
              "\n",
              "[63 rows x 24 columns]"
            ]
          },
          "metadata": {
            "tags": []
          },
          "execution_count": 42
        }
      ]
    },
    {
      "cell_type": "code",
      "metadata": {
        "colab": {
          "base_uri": "https://localhost:8080/",
          "height": 439
        },
        "id": "kM81wyUTSX0A",
        "outputId": "01cb076c-24ff-4262-edcb-37f71b92e913"
      },
      "source": [
        "X_train"
      ],
      "execution_count": 43,
      "outputs": [
        {
          "output_type": "execute_result",
          "data": {
            "text/html": [
              "<div>\n",
              "<style scoped>\n",
              "    .dataframe tbody tr th:only-of-type {\n",
              "        vertical-align: middle;\n",
              "    }\n",
              "\n",
              "    .dataframe tbody tr th {\n",
              "        vertical-align: top;\n",
              "    }\n",
              "\n",
              "    .dataframe thead th {\n",
              "        text-align: right;\n",
              "    }\n",
              "</style>\n",
              "<table border=\"1\" class=\"dataframe\">\n",
              "  <thead>\n",
              "    <tr style=\"text-align: right;\">\n",
              "      <th></th>\n",
              "      <th>city</th>\n",
              "      <th>year</th>\n",
              "      <th>weekofyear</th>\n",
              "      <th>week_start_date</th>\n",
              "      <th>ndvi_ne</th>\n",
              "      <th>ndvi_nw</th>\n",
              "      <th>ndvi_se</th>\n",
              "      <th>ndvi_sw</th>\n",
              "      <th>precipitation_amt_mm</th>\n",
              "      <th>reanalysis_air_temp_k</th>\n",
              "      <th>reanalysis_avg_temp_k</th>\n",
              "      <th>reanalysis_dew_point_temp_k</th>\n",
              "      <th>reanalysis_max_air_temp_k</th>\n",
              "      <th>reanalysis_min_air_temp_k</th>\n",
              "      <th>reanalysis_precip_amt_kg_per_m2</th>\n",
              "      <th>reanalysis_relative_humidity_percent</th>\n",
              "      <th>reanalysis_sat_precip_amt_mm</th>\n",
              "      <th>reanalysis_specific_humidity_g_per_kg</th>\n",
              "      <th>reanalysis_tdtr_k</th>\n",
              "      <th>station_avg_temp_c</th>\n",
              "      <th>station_diur_temp_rng_c</th>\n",
              "      <th>station_max_temp_c</th>\n",
              "      <th>station_min_temp_c</th>\n",
              "      <th>station_precip_mm</th>\n",
              "    </tr>\n",
              "  </thead>\n",
              "  <tbody>\n",
              "    <tr>\n",
              "      <th>0</th>\n",
              "      <td>sj</td>\n",
              "      <td>1990</td>\n",
              "      <td>18</td>\n",
              "      <td>1990-04-30</td>\n",
              "      <td>0.122600</td>\n",
              "      <td>0.103725</td>\n",
              "      <td>0.198483</td>\n",
              "      <td>0.177617</td>\n",
              "      <td>12.42</td>\n",
              "      <td>297.572857</td>\n",
              "      <td>297.742857</td>\n",
              "      <td>292.414286</td>\n",
              "      <td>299.8</td>\n",
              "      <td>295.9</td>\n",
              "      <td>32.00</td>\n",
              "      <td>73.365714</td>\n",
              "      <td>12.42</td>\n",
              "      <td>14.012857</td>\n",
              "      <td>2.628571</td>\n",
              "      <td>25.442857</td>\n",
              "      <td>6.900000</td>\n",
              "      <td>29.4</td>\n",
              "      <td>20.0</td>\n",
              "      <td>16.0</td>\n",
              "    </tr>\n",
              "    <tr>\n",
              "      <th>1</th>\n",
              "      <td>sj</td>\n",
              "      <td>1990</td>\n",
              "      <td>19</td>\n",
              "      <td>1990-05-07</td>\n",
              "      <td>0.169900</td>\n",
              "      <td>0.142175</td>\n",
              "      <td>0.162357</td>\n",
              "      <td>0.155486</td>\n",
              "      <td>22.82</td>\n",
              "      <td>298.211429</td>\n",
              "      <td>298.442857</td>\n",
              "      <td>293.951429</td>\n",
              "      <td>300.9</td>\n",
              "      <td>296.4</td>\n",
              "      <td>17.94</td>\n",
              "      <td>77.368571</td>\n",
              "      <td>22.82</td>\n",
              "      <td>15.372857</td>\n",
              "      <td>2.371429</td>\n",
              "      <td>26.714286</td>\n",
              "      <td>6.371429</td>\n",
              "      <td>31.7</td>\n",
              "      <td>22.2</td>\n",
              "      <td>8.6</td>\n",
              "    </tr>\n",
              "    <tr>\n",
              "      <th>2</th>\n",
              "      <td>sj</td>\n",
              "      <td>1990</td>\n",
              "      <td>20</td>\n",
              "      <td>1990-05-14</td>\n",
              "      <td>0.032250</td>\n",
              "      <td>0.172967</td>\n",
              "      <td>0.157200</td>\n",
              "      <td>0.170843</td>\n",
              "      <td>34.54</td>\n",
              "      <td>298.781429</td>\n",
              "      <td>298.878571</td>\n",
              "      <td>295.434286</td>\n",
              "      <td>300.5</td>\n",
              "      <td>297.3</td>\n",
              "      <td>26.10</td>\n",
              "      <td>82.052857</td>\n",
              "      <td>34.54</td>\n",
              "      <td>16.848571</td>\n",
              "      <td>2.300000</td>\n",
              "      <td>26.714286</td>\n",
              "      <td>6.485714</td>\n",
              "      <td>32.2</td>\n",
              "      <td>22.8</td>\n",
              "      <td>41.4</td>\n",
              "    </tr>\n",
              "    <tr>\n",
              "      <th>3</th>\n",
              "      <td>sj</td>\n",
              "      <td>1990</td>\n",
              "      <td>21</td>\n",
              "      <td>1990-05-21</td>\n",
              "      <td>0.128633</td>\n",
              "      <td>0.245067</td>\n",
              "      <td>0.227557</td>\n",
              "      <td>0.235886</td>\n",
              "      <td>15.36</td>\n",
              "      <td>298.987143</td>\n",
              "      <td>299.228571</td>\n",
              "      <td>295.310000</td>\n",
              "      <td>301.4</td>\n",
              "      <td>297.0</td>\n",
              "      <td>13.90</td>\n",
              "      <td>80.337143</td>\n",
              "      <td>15.36</td>\n",
              "      <td>16.672857</td>\n",
              "      <td>2.428571</td>\n",
              "      <td>27.471429</td>\n",
              "      <td>6.771429</td>\n",
              "      <td>33.3</td>\n",
              "      <td>23.3</td>\n",
              "      <td>4.0</td>\n",
              "    </tr>\n",
              "    <tr>\n",
              "      <th>4</th>\n",
              "      <td>sj</td>\n",
              "      <td>1990</td>\n",
              "      <td>22</td>\n",
              "      <td>1990-05-28</td>\n",
              "      <td>0.196200</td>\n",
              "      <td>0.262200</td>\n",
              "      <td>0.251200</td>\n",
              "      <td>0.247340</td>\n",
              "      <td>7.52</td>\n",
              "      <td>299.518571</td>\n",
              "      <td>299.664286</td>\n",
              "      <td>295.821429</td>\n",
              "      <td>301.9</td>\n",
              "      <td>297.5</td>\n",
              "      <td>12.20</td>\n",
              "      <td>80.460000</td>\n",
              "      <td>7.52</td>\n",
              "      <td>17.210000</td>\n",
              "      <td>3.014286</td>\n",
              "      <td>28.942857</td>\n",
              "      <td>9.371429</td>\n",
              "      <td>35.0</td>\n",
              "      <td>23.9</td>\n",
              "      <td>5.8</td>\n",
              "    </tr>\n",
              "    <tr>\n",
              "      <th>...</th>\n",
              "      <td>...</td>\n",
              "      <td>...</td>\n",
              "      <td>...</td>\n",
              "      <td>...</td>\n",
              "      <td>...</td>\n",
              "      <td>...</td>\n",
              "      <td>...</td>\n",
              "      <td>...</td>\n",
              "      <td>...</td>\n",
              "      <td>...</td>\n",
              "      <td>...</td>\n",
              "      <td>...</td>\n",
              "      <td>...</td>\n",
              "      <td>...</td>\n",
              "      <td>...</td>\n",
              "      <td>...</td>\n",
              "      <td>...</td>\n",
              "      <td>...</td>\n",
              "      <td>...</td>\n",
              "      <td>...</td>\n",
              "      <td>...</td>\n",
              "      <td>...</td>\n",
              "      <td>...</td>\n",
              "      <td>...</td>\n",
              "    </tr>\n",
              "    <tr>\n",
              "      <th>1451</th>\n",
              "      <td>iq</td>\n",
              "      <td>2010</td>\n",
              "      <td>21</td>\n",
              "      <td>2010-05-28</td>\n",
              "      <td>0.342750</td>\n",
              "      <td>0.318900</td>\n",
              "      <td>0.256343</td>\n",
              "      <td>0.292514</td>\n",
              "      <td>55.30</td>\n",
              "      <td>299.334286</td>\n",
              "      <td>300.771429</td>\n",
              "      <td>296.825714</td>\n",
              "      <td>309.7</td>\n",
              "      <td>294.5</td>\n",
              "      <td>45.00</td>\n",
              "      <td>88.765714</td>\n",
              "      <td>55.30</td>\n",
              "      <td>18.485714</td>\n",
              "      <td>9.800000</td>\n",
              "      <td>28.633333</td>\n",
              "      <td>11.933333</td>\n",
              "      <td>35.4</td>\n",
              "      <td>22.4</td>\n",
              "      <td>27.0</td>\n",
              "    </tr>\n",
              "    <tr>\n",
              "      <th>1452</th>\n",
              "      <td>iq</td>\n",
              "      <td>2010</td>\n",
              "      <td>22</td>\n",
              "      <td>2010-06-04</td>\n",
              "      <td>0.160157</td>\n",
              "      <td>0.160371</td>\n",
              "      <td>0.136043</td>\n",
              "      <td>0.225657</td>\n",
              "      <td>86.47</td>\n",
              "      <td>298.330000</td>\n",
              "      <td>299.392857</td>\n",
              "      <td>296.452857</td>\n",
              "      <td>308.5</td>\n",
              "      <td>291.9</td>\n",
              "      <td>207.10</td>\n",
              "      <td>91.600000</td>\n",
              "      <td>86.47</td>\n",
              "      <td>18.070000</td>\n",
              "      <td>7.471429</td>\n",
              "      <td>27.433333</td>\n",
              "      <td>10.500000</td>\n",
              "      <td>34.7</td>\n",
              "      <td>21.7</td>\n",
              "      <td>36.6</td>\n",
              "    </tr>\n",
              "    <tr>\n",
              "      <th>1453</th>\n",
              "      <td>iq</td>\n",
              "      <td>2010</td>\n",
              "      <td>23</td>\n",
              "      <td>2010-06-11</td>\n",
              "      <td>0.247057</td>\n",
              "      <td>0.146057</td>\n",
              "      <td>0.250357</td>\n",
              "      <td>0.233714</td>\n",
              "      <td>58.94</td>\n",
              "      <td>296.598571</td>\n",
              "      <td>297.592857</td>\n",
              "      <td>295.501429</td>\n",
              "      <td>305.5</td>\n",
              "      <td>292.4</td>\n",
              "      <td>50.60</td>\n",
              "      <td>94.280000</td>\n",
              "      <td>58.94</td>\n",
              "      <td>17.008571</td>\n",
              "      <td>7.500000</td>\n",
              "      <td>24.400000</td>\n",
              "      <td>6.900000</td>\n",
              "      <td>32.2</td>\n",
              "      <td>19.2</td>\n",
              "      <td>7.4</td>\n",
              "    </tr>\n",
              "    <tr>\n",
              "      <th>1454</th>\n",
              "      <td>iq</td>\n",
              "      <td>2010</td>\n",
              "      <td>24</td>\n",
              "      <td>2010-06-18</td>\n",
              "      <td>0.333914</td>\n",
              "      <td>0.245771</td>\n",
              "      <td>0.278886</td>\n",
              "      <td>0.325486</td>\n",
              "      <td>59.67</td>\n",
              "      <td>296.345714</td>\n",
              "      <td>297.521429</td>\n",
              "      <td>295.324286</td>\n",
              "      <td>306.1</td>\n",
              "      <td>291.9</td>\n",
              "      <td>62.33</td>\n",
              "      <td>94.660000</td>\n",
              "      <td>59.67</td>\n",
              "      <td>16.815714</td>\n",
              "      <td>7.871429</td>\n",
              "      <td>25.433333</td>\n",
              "      <td>8.733333</td>\n",
              "      <td>31.2</td>\n",
              "      <td>21.0</td>\n",
              "      <td>16.0</td>\n",
              "    </tr>\n",
              "    <tr>\n",
              "      <th>1455</th>\n",
              "      <td>iq</td>\n",
              "      <td>2010</td>\n",
              "      <td>25</td>\n",
              "      <td>2010-06-25</td>\n",
              "      <td>0.298186</td>\n",
              "      <td>0.232971</td>\n",
              "      <td>0.274214</td>\n",
              "      <td>0.315757</td>\n",
              "      <td>63.22</td>\n",
              "      <td>298.097143</td>\n",
              "      <td>299.835714</td>\n",
              "      <td>295.807143</td>\n",
              "      <td>307.8</td>\n",
              "      <td>292.3</td>\n",
              "      <td>36.90</td>\n",
              "      <td>89.082857</td>\n",
              "      <td>63.22</td>\n",
              "      <td>17.355714</td>\n",
              "      <td>11.014286</td>\n",
              "      <td>27.475000</td>\n",
              "      <td>9.900000</td>\n",
              "      <td>33.7</td>\n",
              "      <td>22.2</td>\n",
              "      <td>20.4</td>\n",
              "    </tr>\n",
              "  </tbody>\n",
              "</table>\n",
              "<p>1456 rows × 24 columns</p>\n",
              "</div>"
            ],
            "text/plain": [
              "     city  year  ...  station_min_temp_c station_precip_mm\n",
              "0      sj  1990  ...                20.0              16.0\n",
              "1      sj  1990  ...                22.2               8.6\n",
              "2      sj  1990  ...                22.8              41.4\n",
              "3      sj  1990  ...                23.3               4.0\n",
              "4      sj  1990  ...                23.9               5.8\n",
              "...   ...   ...  ...                 ...               ...\n",
              "1451   iq  2010  ...                22.4              27.0\n",
              "1452   iq  2010  ...                21.7              36.6\n",
              "1453   iq  2010  ...                19.2               7.4\n",
              "1454   iq  2010  ...                21.0              16.0\n",
              "1455   iq  2010  ...                22.2              20.4\n",
              "\n",
              "[1456 rows x 24 columns]"
            ]
          },
          "metadata": {
            "tags": []
          },
          "execution_count": 43
        }
      ]
    },
    {
      "cell_type": "code",
      "metadata": {
        "colab": {
          "base_uri": "https://localhost:8080/",
          "height": 419
        },
        "id": "jzLkVpVoTOaW",
        "outputId": "7be0800f-70f1-4ac1-9eac-0d7e5978419d"
      },
      "source": [
        "y_train"
      ],
      "execution_count": 44,
      "outputs": [
        {
          "output_type": "execute_result",
          "data": {
            "text/html": [
              "<div>\n",
              "<style scoped>\n",
              "    .dataframe tbody tr th:only-of-type {\n",
              "        vertical-align: middle;\n",
              "    }\n",
              "\n",
              "    .dataframe tbody tr th {\n",
              "        vertical-align: top;\n",
              "    }\n",
              "\n",
              "    .dataframe thead th {\n",
              "        text-align: right;\n",
              "    }\n",
              "</style>\n",
              "<table border=\"1\" class=\"dataframe\">\n",
              "  <thead>\n",
              "    <tr style=\"text-align: right;\">\n",
              "      <th></th>\n",
              "      <th>city</th>\n",
              "      <th>year</th>\n",
              "      <th>weekofyear</th>\n",
              "      <th>total_cases</th>\n",
              "    </tr>\n",
              "  </thead>\n",
              "  <tbody>\n",
              "    <tr>\n",
              "      <th>0</th>\n",
              "      <td>sj</td>\n",
              "      <td>1990</td>\n",
              "      <td>18</td>\n",
              "      <td>4</td>\n",
              "    </tr>\n",
              "    <tr>\n",
              "      <th>1</th>\n",
              "      <td>sj</td>\n",
              "      <td>1990</td>\n",
              "      <td>19</td>\n",
              "      <td>5</td>\n",
              "    </tr>\n",
              "    <tr>\n",
              "      <th>2</th>\n",
              "      <td>sj</td>\n",
              "      <td>1990</td>\n",
              "      <td>20</td>\n",
              "      <td>4</td>\n",
              "    </tr>\n",
              "    <tr>\n",
              "      <th>3</th>\n",
              "      <td>sj</td>\n",
              "      <td>1990</td>\n",
              "      <td>21</td>\n",
              "      <td>3</td>\n",
              "    </tr>\n",
              "    <tr>\n",
              "      <th>4</th>\n",
              "      <td>sj</td>\n",
              "      <td>1990</td>\n",
              "      <td>22</td>\n",
              "      <td>6</td>\n",
              "    </tr>\n",
              "    <tr>\n",
              "      <th>...</th>\n",
              "      <td>...</td>\n",
              "      <td>...</td>\n",
              "      <td>...</td>\n",
              "      <td>...</td>\n",
              "    </tr>\n",
              "    <tr>\n",
              "      <th>1451</th>\n",
              "      <td>iq</td>\n",
              "      <td>2010</td>\n",
              "      <td>21</td>\n",
              "      <td>5</td>\n",
              "    </tr>\n",
              "    <tr>\n",
              "      <th>1452</th>\n",
              "      <td>iq</td>\n",
              "      <td>2010</td>\n",
              "      <td>22</td>\n",
              "      <td>8</td>\n",
              "    </tr>\n",
              "    <tr>\n",
              "      <th>1453</th>\n",
              "      <td>iq</td>\n",
              "      <td>2010</td>\n",
              "      <td>23</td>\n",
              "      <td>1</td>\n",
              "    </tr>\n",
              "    <tr>\n",
              "      <th>1454</th>\n",
              "      <td>iq</td>\n",
              "      <td>2010</td>\n",
              "      <td>24</td>\n",
              "      <td>1</td>\n",
              "    </tr>\n",
              "    <tr>\n",
              "      <th>1455</th>\n",
              "      <td>iq</td>\n",
              "      <td>2010</td>\n",
              "      <td>25</td>\n",
              "      <td>4</td>\n",
              "    </tr>\n",
              "  </tbody>\n",
              "</table>\n",
              "<p>1456 rows × 4 columns</p>\n",
              "</div>"
            ],
            "text/plain": [
              "     city  year  weekofyear  total_cases\n",
              "0      sj  1990          18            4\n",
              "1      sj  1990          19            5\n",
              "2      sj  1990          20            4\n",
              "3      sj  1990          21            3\n",
              "4      sj  1990          22            6\n",
              "...   ...   ...         ...          ...\n",
              "1451   iq  2010          21            5\n",
              "1452   iq  2010          22            8\n",
              "1453   iq  2010          23            1\n",
              "1454   iq  2010          24            1\n",
              "1455   iq  2010          25            4\n",
              "\n",
              "[1456 rows x 4 columns]"
            ]
          },
          "metadata": {
            "tags": []
          },
          "execution_count": 44
        }
      ]
    },
    {
      "cell_type": "code",
      "metadata": {
        "id": "wRYy2LdXria_"
      },
      "source": [
        "X_train[\"total_cases\"]=y_train[\"total_cases\"]"
      ],
      "execution_count": 45,
      "outputs": []
    },
    {
      "cell_type": "code",
      "metadata": {
        "id": "WhcMI8ZeTx69"
      },
      "source": [
        "\n",
        "X_train_sj=X_train[X_train.city == \"sj\"]\n",
        "X_train_iq=X_train[X_train.city == \"iq\"]\n"
      ],
      "execution_count": 46,
      "outputs": []
    },
    {
      "cell_type": "code",
      "metadata": {
        "id": "1z2gUXspSzAi"
      },
      "source": [
        "\n",
        "X_test_sj=X_test[X_test.city == \"sj\"]\n",
        "X_test_iq=X_test[X_test.city == \"iq\"]"
      ],
      "execution_count": 47,
      "outputs": []
    },
    {
      "cell_type": "code",
      "metadata": {
        "colab": {
          "base_uri": "https://localhost:8080/",
          "height": 224
        },
        "id": "9gh-I5eGmTLU",
        "outputId": "2aed1175-e71a-4ad5-f5f4-81e683a6202b"
      },
      "source": [
        "X_train_sj.head()"
      ],
      "execution_count": 48,
      "outputs": [
        {
          "output_type": "execute_result",
          "data": {
            "text/html": [
              "<div>\n",
              "<style scoped>\n",
              "    .dataframe tbody tr th:only-of-type {\n",
              "        vertical-align: middle;\n",
              "    }\n",
              "\n",
              "    .dataframe tbody tr th {\n",
              "        vertical-align: top;\n",
              "    }\n",
              "\n",
              "    .dataframe thead th {\n",
              "        text-align: right;\n",
              "    }\n",
              "</style>\n",
              "<table border=\"1\" class=\"dataframe\">\n",
              "  <thead>\n",
              "    <tr style=\"text-align: right;\">\n",
              "      <th></th>\n",
              "      <th>city</th>\n",
              "      <th>year</th>\n",
              "      <th>weekofyear</th>\n",
              "      <th>week_start_date</th>\n",
              "      <th>ndvi_ne</th>\n",
              "      <th>ndvi_nw</th>\n",
              "      <th>ndvi_se</th>\n",
              "      <th>ndvi_sw</th>\n",
              "      <th>precipitation_amt_mm</th>\n",
              "      <th>reanalysis_air_temp_k</th>\n",
              "      <th>reanalysis_avg_temp_k</th>\n",
              "      <th>reanalysis_dew_point_temp_k</th>\n",
              "      <th>reanalysis_max_air_temp_k</th>\n",
              "      <th>reanalysis_min_air_temp_k</th>\n",
              "      <th>reanalysis_precip_amt_kg_per_m2</th>\n",
              "      <th>reanalysis_relative_humidity_percent</th>\n",
              "      <th>reanalysis_sat_precip_amt_mm</th>\n",
              "      <th>reanalysis_specific_humidity_g_per_kg</th>\n",
              "      <th>reanalysis_tdtr_k</th>\n",
              "      <th>station_avg_temp_c</th>\n",
              "      <th>station_diur_temp_rng_c</th>\n",
              "      <th>station_max_temp_c</th>\n",
              "      <th>station_min_temp_c</th>\n",
              "      <th>station_precip_mm</th>\n",
              "      <th>total_cases</th>\n",
              "    </tr>\n",
              "  </thead>\n",
              "  <tbody>\n",
              "    <tr>\n",
              "      <th>0</th>\n",
              "      <td>sj</td>\n",
              "      <td>1990</td>\n",
              "      <td>18</td>\n",
              "      <td>1990-04-30</td>\n",
              "      <td>0.122600</td>\n",
              "      <td>0.103725</td>\n",
              "      <td>0.198483</td>\n",
              "      <td>0.177617</td>\n",
              "      <td>12.42</td>\n",
              "      <td>297.572857</td>\n",
              "      <td>297.742857</td>\n",
              "      <td>292.414286</td>\n",
              "      <td>299.8</td>\n",
              "      <td>295.9</td>\n",
              "      <td>32.00</td>\n",
              "      <td>73.365714</td>\n",
              "      <td>12.42</td>\n",
              "      <td>14.012857</td>\n",
              "      <td>2.628571</td>\n",
              "      <td>25.442857</td>\n",
              "      <td>6.900000</td>\n",
              "      <td>29.4</td>\n",
              "      <td>20.0</td>\n",
              "      <td>16.0</td>\n",
              "      <td>4</td>\n",
              "    </tr>\n",
              "    <tr>\n",
              "      <th>1</th>\n",
              "      <td>sj</td>\n",
              "      <td>1990</td>\n",
              "      <td>19</td>\n",
              "      <td>1990-05-07</td>\n",
              "      <td>0.169900</td>\n",
              "      <td>0.142175</td>\n",
              "      <td>0.162357</td>\n",
              "      <td>0.155486</td>\n",
              "      <td>22.82</td>\n",
              "      <td>298.211429</td>\n",
              "      <td>298.442857</td>\n",
              "      <td>293.951429</td>\n",
              "      <td>300.9</td>\n",
              "      <td>296.4</td>\n",
              "      <td>17.94</td>\n",
              "      <td>77.368571</td>\n",
              "      <td>22.82</td>\n",
              "      <td>15.372857</td>\n",
              "      <td>2.371429</td>\n",
              "      <td>26.714286</td>\n",
              "      <td>6.371429</td>\n",
              "      <td>31.7</td>\n",
              "      <td>22.2</td>\n",
              "      <td>8.6</td>\n",
              "      <td>5</td>\n",
              "    </tr>\n",
              "    <tr>\n",
              "      <th>2</th>\n",
              "      <td>sj</td>\n",
              "      <td>1990</td>\n",
              "      <td>20</td>\n",
              "      <td>1990-05-14</td>\n",
              "      <td>0.032250</td>\n",
              "      <td>0.172967</td>\n",
              "      <td>0.157200</td>\n",
              "      <td>0.170843</td>\n",
              "      <td>34.54</td>\n",
              "      <td>298.781429</td>\n",
              "      <td>298.878571</td>\n",
              "      <td>295.434286</td>\n",
              "      <td>300.5</td>\n",
              "      <td>297.3</td>\n",
              "      <td>26.10</td>\n",
              "      <td>82.052857</td>\n",
              "      <td>34.54</td>\n",
              "      <td>16.848571</td>\n",
              "      <td>2.300000</td>\n",
              "      <td>26.714286</td>\n",
              "      <td>6.485714</td>\n",
              "      <td>32.2</td>\n",
              "      <td>22.8</td>\n",
              "      <td>41.4</td>\n",
              "      <td>4</td>\n",
              "    </tr>\n",
              "    <tr>\n",
              "      <th>3</th>\n",
              "      <td>sj</td>\n",
              "      <td>1990</td>\n",
              "      <td>21</td>\n",
              "      <td>1990-05-21</td>\n",
              "      <td>0.128633</td>\n",
              "      <td>0.245067</td>\n",
              "      <td>0.227557</td>\n",
              "      <td>0.235886</td>\n",
              "      <td>15.36</td>\n",
              "      <td>298.987143</td>\n",
              "      <td>299.228571</td>\n",
              "      <td>295.310000</td>\n",
              "      <td>301.4</td>\n",
              "      <td>297.0</td>\n",
              "      <td>13.90</td>\n",
              "      <td>80.337143</td>\n",
              "      <td>15.36</td>\n",
              "      <td>16.672857</td>\n",
              "      <td>2.428571</td>\n",
              "      <td>27.471429</td>\n",
              "      <td>6.771429</td>\n",
              "      <td>33.3</td>\n",
              "      <td>23.3</td>\n",
              "      <td>4.0</td>\n",
              "      <td>3</td>\n",
              "    </tr>\n",
              "    <tr>\n",
              "      <th>4</th>\n",
              "      <td>sj</td>\n",
              "      <td>1990</td>\n",
              "      <td>22</td>\n",
              "      <td>1990-05-28</td>\n",
              "      <td>0.196200</td>\n",
              "      <td>0.262200</td>\n",
              "      <td>0.251200</td>\n",
              "      <td>0.247340</td>\n",
              "      <td>7.52</td>\n",
              "      <td>299.518571</td>\n",
              "      <td>299.664286</td>\n",
              "      <td>295.821429</td>\n",
              "      <td>301.9</td>\n",
              "      <td>297.5</td>\n",
              "      <td>12.20</td>\n",
              "      <td>80.460000</td>\n",
              "      <td>7.52</td>\n",
              "      <td>17.210000</td>\n",
              "      <td>3.014286</td>\n",
              "      <td>28.942857</td>\n",
              "      <td>9.371429</td>\n",
              "      <td>35.0</td>\n",
              "      <td>23.9</td>\n",
              "      <td>5.8</td>\n",
              "      <td>6</td>\n",
              "    </tr>\n",
              "  </tbody>\n",
              "</table>\n",
              "</div>"
            ],
            "text/plain": [
              "  city  year  weekofyear  ... station_min_temp_c  station_precip_mm  total_cases\n",
              "0   sj  1990          18  ...               20.0               16.0            4\n",
              "1   sj  1990          19  ...               22.2                8.6            5\n",
              "2   sj  1990          20  ...               22.8               41.4            4\n",
              "3   sj  1990          21  ...               23.3                4.0            3\n",
              "4   sj  1990          22  ...               23.9                5.8            6\n",
              "\n",
              "[5 rows x 25 columns]"
            ]
          },
          "metadata": {
            "tags": []
          },
          "execution_count": 48
        }
      ]
    },
    {
      "cell_type": "code",
      "metadata": {
        "colab": {
          "base_uri": "https://localhost:8080/"
        },
        "id": "tZtX20J6U9sA",
        "outputId": "0ab7dac6-4b0c-4de8-b4ec-3cf99bde92df"
      },
      "source": [
        "print(X_train_sj.head())\n",
        "print(X_train_sj.tail())\n"
      ],
      "execution_count": 49,
      "outputs": [
        {
          "output_type": "stream",
          "text": [
            "  city  year  weekofyear  ... station_min_temp_c  station_precip_mm  total_cases\n",
            "0   sj  1990          18  ...               20.0               16.0            4\n",
            "1   sj  1990          19  ...               22.2                8.6            5\n",
            "2   sj  1990          20  ...               22.8               41.4            4\n",
            "3   sj  1990          21  ...               23.3                4.0            3\n",
            "4   sj  1990          22  ...               23.9                5.8            6\n",
            "\n",
            "[5 rows x 25 columns]\n",
            "    city  year  weekofyear  ... station_min_temp_c  station_precip_mm  total_cases\n",
            "931   sj  2008          13  ...               21.1                1.8            4\n",
            "932   sj  2008          14  ...               22.2                0.5            3\n",
            "933   sj  2008          15  ...               21.7               30.7            1\n",
            "934   sj  2008          16  ...               21.7               11.2            3\n",
            "935   sj  2008          17  ...               23.3                0.3            5\n",
            "\n",
            "[5 rows x 25 columns]\n"
          ],
          "name": "stdout"
        }
      ]
    },
    {
      "cell_type": "code",
      "metadata": {
        "colab": {
          "base_uri": "https://localhost:8080/"
        },
        "id": "CH6FCoplsvyd",
        "outputId": "dceddf39-4f9c-4ac9-e301-2e74a103c358"
      },
      "source": [
        "print(X_test_sj.head())\n",
        "print(X_test_sj.tail())"
      ],
      "execution_count": 50,
      "outputs": [
        {
          "output_type": "stream",
          "text": [
            "  city  year  ...  station_min_temp_c station_precip_mm\n",
            "0   sj  2008  ...                21.7              75.2\n",
            "1   sj  2008  ...                22.2              34.3\n",
            "2   sj  2008  ...                22.8               3.0\n",
            "3   sj  2008  ...                24.4               0.3\n",
            "4   sj  2008  ...                23.3              84.1\n",
            "\n",
            "[5 rows x 24 columns]\n",
            "    city  year  ...  station_min_temp_c station_precip_mm\n",
            "255   sj  2013  ...                22.8               3.5\n",
            "256   sj  2013  ...                22.8              17.6\n",
            "257   sj  2013  ...                23.3               9.4\n",
            "258   sj  2013  ...                23.9              22.9\n",
            "259   sj  2013  ...                21.7              47.5\n",
            "\n",
            "[5 rows x 24 columns]\n"
          ],
          "name": "stdout"
        }
      ]
    },
    {
      "cell_type": "code",
      "metadata": {
        "colab": {
          "base_uri": "https://localhost:8080/"
        },
        "id": "3J0Z1gU7WFHL",
        "outputId": "265610bd-856f-46ad-ff30-6ff064034708"
      },
      "source": [
        "X_train.week_start_date.convert_dtypes()\n"
      ],
      "execution_count": 51,
      "outputs": [
        {
          "output_type": "execute_result",
          "data": {
            "text/plain": [
              "0       1990-04-30\n",
              "1       1990-05-07\n",
              "2       1990-05-14\n",
              "3       1990-05-21\n",
              "4       1990-05-28\n",
              "           ...    \n",
              "1451    2010-05-28\n",
              "1452    2010-06-04\n",
              "1453    2010-06-11\n",
              "1454    2010-06-18\n",
              "1455    2010-06-25\n",
              "Name: week_start_date, Length: 1456, dtype: string"
            ]
          },
          "metadata": {
            "tags": []
          },
          "execution_count": 51
        }
      ]
    },
    {
      "cell_type": "code",
      "metadata": {
        "id": "CC3f87lTSOvo"
      },
      "source": [
        ""
      ],
      "execution_count": 51,
      "outputs": []
    },
    {
      "cell_type": "code",
      "metadata": {
        "id": "u6CdL2U2SgOa"
      },
      "source": [
        ""
      ],
      "execution_count": 51,
      "outputs": []
    },
    {
      "cell_type": "code",
      "metadata": {
        "id": "h6hB2nATTDlF"
      },
      "source": [
        "correlation=X_train_sj.corr()"
      ],
      "execution_count": 52,
      "outputs": []
    },
    {
      "cell_type": "code",
      "metadata": {
        "colab": {
          "base_uri": "https://localhost:8080/"
        },
        "id": "SS7mV0v3VbIL",
        "outputId": "bdddd9f2-6e8b-4e0c-ff87-a60fdbbad647"
      },
      "source": [
        "correlation[\"ndvi_se\"]"
      ],
      "execution_count": 53,
      "outputs": [
        {
          "output_type": "execute_result",
          "data": {
            "text/plain": [
              "year                                    -0.014863\n",
              "weekofyear                              -0.009380\n",
              "ndvi_ne                                  0.234049\n",
              "ndvi_nw                                  0.196343\n",
              "ndvi_se                                  1.000000\n",
              "ndvi_sw                                  0.821354\n",
              "precipitation_amt_mm                    -0.119386\n",
              "reanalysis_air_temp_k                   -0.014601\n",
              "reanalysis_avg_temp_k                   -0.011905\n",
              "reanalysis_dew_point_temp_k             -0.062773\n",
              "reanalysis_max_air_temp_k               -0.007382\n",
              "reanalysis_min_air_temp_k               -0.045946\n",
              "reanalysis_precip_amt_kg_per_m2         -0.130848\n",
              "reanalysis_relative_humidity_percent    -0.114294\n",
              "reanalysis_sat_precip_amt_mm            -0.119386\n",
              "reanalysis_specific_humidity_g_per_kg   -0.058442\n",
              "reanalysis_tdtr_k                        0.029358\n",
              "station_avg_temp_c                      -0.056545\n",
              "station_diur_temp_rng_c                  0.018121\n",
              "station_max_temp_c                      -0.063718\n",
              "station_min_temp_c                      -0.069275\n",
              "station_precip_mm                       -0.140286\n",
              "total_cases                              0.001113\n",
              "Name: ndvi_se, dtype: float64"
            ]
          },
          "metadata": {
            "tags": []
          },
          "execution_count": 53
        }
      ]
    },
    {
      "cell_type": "code",
      "metadata": {
        "colab": {
          "base_uri": "https://localhost:8080/",
          "height": 224
        },
        "id": "NFkWKhYUmFAl",
        "outputId": "61313ffe-4127-4842-9fb6-5d43229b1735"
      },
      "source": [
        "X_train_sj.head()"
      ],
      "execution_count": 54,
      "outputs": [
        {
          "output_type": "execute_result",
          "data": {
            "text/html": [
              "<div>\n",
              "<style scoped>\n",
              "    .dataframe tbody tr th:only-of-type {\n",
              "        vertical-align: middle;\n",
              "    }\n",
              "\n",
              "    .dataframe tbody tr th {\n",
              "        vertical-align: top;\n",
              "    }\n",
              "\n",
              "    .dataframe thead th {\n",
              "        text-align: right;\n",
              "    }\n",
              "</style>\n",
              "<table border=\"1\" class=\"dataframe\">\n",
              "  <thead>\n",
              "    <tr style=\"text-align: right;\">\n",
              "      <th></th>\n",
              "      <th>city</th>\n",
              "      <th>year</th>\n",
              "      <th>weekofyear</th>\n",
              "      <th>week_start_date</th>\n",
              "      <th>ndvi_ne</th>\n",
              "      <th>ndvi_nw</th>\n",
              "      <th>ndvi_se</th>\n",
              "      <th>ndvi_sw</th>\n",
              "      <th>precipitation_amt_mm</th>\n",
              "      <th>reanalysis_air_temp_k</th>\n",
              "      <th>reanalysis_avg_temp_k</th>\n",
              "      <th>reanalysis_dew_point_temp_k</th>\n",
              "      <th>reanalysis_max_air_temp_k</th>\n",
              "      <th>reanalysis_min_air_temp_k</th>\n",
              "      <th>reanalysis_precip_amt_kg_per_m2</th>\n",
              "      <th>reanalysis_relative_humidity_percent</th>\n",
              "      <th>reanalysis_sat_precip_amt_mm</th>\n",
              "      <th>reanalysis_specific_humidity_g_per_kg</th>\n",
              "      <th>reanalysis_tdtr_k</th>\n",
              "      <th>station_avg_temp_c</th>\n",
              "      <th>station_diur_temp_rng_c</th>\n",
              "      <th>station_max_temp_c</th>\n",
              "      <th>station_min_temp_c</th>\n",
              "      <th>station_precip_mm</th>\n",
              "      <th>total_cases</th>\n",
              "    </tr>\n",
              "  </thead>\n",
              "  <tbody>\n",
              "    <tr>\n",
              "      <th>0</th>\n",
              "      <td>sj</td>\n",
              "      <td>1990</td>\n",
              "      <td>18</td>\n",
              "      <td>1990-04-30</td>\n",
              "      <td>0.122600</td>\n",
              "      <td>0.103725</td>\n",
              "      <td>0.198483</td>\n",
              "      <td>0.177617</td>\n",
              "      <td>12.42</td>\n",
              "      <td>297.572857</td>\n",
              "      <td>297.742857</td>\n",
              "      <td>292.414286</td>\n",
              "      <td>299.8</td>\n",
              "      <td>295.9</td>\n",
              "      <td>32.00</td>\n",
              "      <td>73.365714</td>\n",
              "      <td>12.42</td>\n",
              "      <td>14.012857</td>\n",
              "      <td>2.628571</td>\n",
              "      <td>25.442857</td>\n",
              "      <td>6.900000</td>\n",
              "      <td>29.4</td>\n",
              "      <td>20.0</td>\n",
              "      <td>16.0</td>\n",
              "      <td>4</td>\n",
              "    </tr>\n",
              "    <tr>\n",
              "      <th>1</th>\n",
              "      <td>sj</td>\n",
              "      <td>1990</td>\n",
              "      <td>19</td>\n",
              "      <td>1990-05-07</td>\n",
              "      <td>0.169900</td>\n",
              "      <td>0.142175</td>\n",
              "      <td>0.162357</td>\n",
              "      <td>0.155486</td>\n",
              "      <td>22.82</td>\n",
              "      <td>298.211429</td>\n",
              "      <td>298.442857</td>\n",
              "      <td>293.951429</td>\n",
              "      <td>300.9</td>\n",
              "      <td>296.4</td>\n",
              "      <td>17.94</td>\n",
              "      <td>77.368571</td>\n",
              "      <td>22.82</td>\n",
              "      <td>15.372857</td>\n",
              "      <td>2.371429</td>\n",
              "      <td>26.714286</td>\n",
              "      <td>6.371429</td>\n",
              "      <td>31.7</td>\n",
              "      <td>22.2</td>\n",
              "      <td>8.6</td>\n",
              "      <td>5</td>\n",
              "    </tr>\n",
              "    <tr>\n",
              "      <th>2</th>\n",
              "      <td>sj</td>\n",
              "      <td>1990</td>\n",
              "      <td>20</td>\n",
              "      <td>1990-05-14</td>\n",
              "      <td>0.032250</td>\n",
              "      <td>0.172967</td>\n",
              "      <td>0.157200</td>\n",
              "      <td>0.170843</td>\n",
              "      <td>34.54</td>\n",
              "      <td>298.781429</td>\n",
              "      <td>298.878571</td>\n",
              "      <td>295.434286</td>\n",
              "      <td>300.5</td>\n",
              "      <td>297.3</td>\n",
              "      <td>26.10</td>\n",
              "      <td>82.052857</td>\n",
              "      <td>34.54</td>\n",
              "      <td>16.848571</td>\n",
              "      <td>2.300000</td>\n",
              "      <td>26.714286</td>\n",
              "      <td>6.485714</td>\n",
              "      <td>32.2</td>\n",
              "      <td>22.8</td>\n",
              "      <td>41.4</td>\n",
              "      <td>4</td>\n",
              "    </tr>\n",
              "    <tr>\n",
              "      <th>3</th>\n",
              "      <td>sj</td>\n",
              "      <td>1990</td>\n",
              "      <td>21</td>\n",
              "      <td>1990-05-21</td>\n",
              "      <td>0.128633</td>\n",
              "      <td>0.245067</td>\n",
              "      <td>0.227557</td>\n",
              "      <td>0.235886</td>\n",
              "      <td>15.36</td>\n",
              "      <td>298.987143</td>\n",
              "      <td>299.228571</td>\n",
              "      <td>295.310000</td>\n",
              "      <td>301.4</td>\n",
              "      <td>297.0</td>\n",
              "      <td>13.90</td>\n",
              "      <td>80.337143</td>\n",
              "      <td>15.36</td>\n",
              "      <td>16.672857</td>\n",
              "      <td>2.428571</td>\n",
              "      <td>27.471429</td>\n",
              "      <td>6.771429</td>\n",
              "      <td>33.3</td>\n",
              "      <td>23.3</td>\n",
              "      <td>4.0</td>\n",
              "      <td>3</td>\n",
              "    </tr>\n",
              "    <tr>\n",
              "      <th>4</th>\n",
              "      <td>sj</td>\n",
              "      <td>1990</td>\n",
              "      <td>22</td>\n",
              "      <td>1990-05-28</td>\n",
              "      <td>0.196200</td>\n",
              "      <td>0.262200</td>\n",
              "      <td>0.251200</td>\n",
              "      <td>0.247340</td>\n",
              "      <td>7.52</td>\n",
              "      <td>299.518571</td>\n",
              "      <td>299.664286</td>\n",
              "      <td>295.821429</td>\n",
              "      <td>301.9</td>\n",
              "      <td>297.5</td>\n",
              "      <td>12.20</td>\n",
              "      <td>80.460000</td>\n",
              "      <td>7.52</td>\n",
              "      <td>17.210000</td>\n",
              "      <td>3.014286</td>\n",
              "      <td>28.942857</td>\n",
              "      <td>9.371429</td>\n",
              "      <td>35.0</td>\n",
              "      <td>23.9</td>\n",
              "      <td>5.8</td>\n",
              "      <td>6</td>\n",
              "    </tr>\n",
              "  </tbody>\n",
              "</table>\n",
              "</div>"
            ],
            "text/plain": [
              "  city  year  weekofyear  ... station_min_temp_c  station_precip_mm  total_cases\n",
              "0   sj  1990          18  ...               20.0               16.0            4\n",
              "1   sj  1990          19  ...               22.2                8.6            5\n",
              "2   sj  1990          20  ...               22.8               41.4            4\n",
              "3   sj  1990          21  ...               23.3                4.0            3\n",
              "4   sj  1990          22  ...               23.9                5.8            6\n",
              "\n",
              "[5 rows x 25 columns]"
            ]
          },
          "metadata": {
            "tags": []
          },
          "execution_count": 54
        }
      ]
    },
    {
      "cell_type": "code",
      "metadata": {
        "colab": {
          "base_uri": "https://localhost:8080/",
          "height": 337
        },
        "id": "srAIwJW8Za3I",
        "outputId": "c14c1753-ea50-4ff9-e6de-d6dc9516aafd"
      },
      "source": [
        "plt.figure(figsize=(15,5))\n",
        "plt.subplot(111)\n",
        "#plt.scatter(indexer,,c=\"green\",alpha=0.5)\n",
        "plt.scatter(X_train_sj[\"week_start_date\"],X_train_sj[\"total_cases\"],c=\"green\",alpha=0.5)\n",
        "#plt.scatter(indexer,hubpred_no_outliers[:],c=\"red\",alpha=0.5)\n",
        "#plt.plot(df[\"Id\"],diffihubert[:])\n",
        "plt.text(0,0,\"Hubert\",c=\"red\")"
      ],
      "execution_count": 55,
      "outputs": [
        {
          "output_type": "execute_result",
          "data": {
            "text/plain": [
              "Text(0, 0, 'Hubert')"
            ]
          },
          "metadata": {
            "tags": []
          },
          "execution_count": 55
        },
        {
          "output_type": "display_data",
          "data": {
            "image/png": "[encoded data removed]",
            "text/plain": [
              "<Figure size 1080x360 with 1 Axes>"
            ]
          },
          "metadata": {
            "tags": [],
            "needs_background": "light"
          }
        }
      ]
    },
    {
      "cell_type": "code",
      "metadata": {
        "id": "nDHDNzuNb49P",
        "colab": {
          "base_uri": "https://localhost:8080/"
        },
        "outputId": "74cb6d59-66f5-47bf-b7b9-5074371e21c4"
      },
      "source": [
        "!rm visual_view.py\n",
        "!wget https://raw.githubusercontent.com/sipocz/messer/main/visual_view.py\n",
        "grafikon=None\n",
        "from visual_view import grafikon\n",
        "help(grafikon)"
      ],
      "execution_count": 56,
      "outputs": [
        {
          "output_type": "stream",
          "text": [
            "--2021-08-02 14:11:35--  https://raw.githubusercontent.com/sipocz/messer/main/visual_view.py\n",
            "Resolving raw.githubusercontent.com (raw.githubusercontent.com)... 185.199.108.133, 185.199.109.133, 185.199.110.133, ...\n",
            "Connecting to raw.githubusercontent.com (raw.githubusercontent.com)|185.199.108.133|:443... connected.\n",
            "HTTP request sent, awaiting response... 200 OK\n",
            "Length: 1027 (1.0K) [text/plain]\n",
            "Saving to: ‘visual_view.py’\n",
            "\n",
            "\rvisual_view.py        0%[                    ]       0  --.-KB/s               \rvisual_view.py      100%[===================>]   1.00K  --.-KB/s    in 0s      \n",
            "\n",
            "2021-08-02 14:11:35 (67.3 MB/s) - ‘visual_view.py’ saved [1027/1027]\n",
            "\n",
            "Help on function grafikon in module visual_view:\n",
            "\n",
            "grafikon(fx, desc1, txt1, desc2='', txt2='', ngraf=2, c1='rgba(35,128,132,0.8)', c2='rgba(193,99,99,0.8)', title=None)\n",
            "    fx: dataFrame\n",
            "    desc1:column1\n",
            "    txt1: label1\n",
            "    desc2:column2\n",
            "    txt2: label2\n",
            "    ngraf: number of graph\n",
            "    c1: color1\n",
            "    c2: color2\n",
            "    title: graph title\n",
            "\n"
          ],
          "name": "stdout"
        }
      ]
    },
    {
      "cell_type": "code",
      "metadata": {
        "id": "a8npTQIxcFTY",
        "colab": {
          "base_uri": "https://localhost:8080/",
          "height": 617
        },
        "outputId": "c09cb418-31bb-4f69-b65e-0250cbb18a9c"
      },
      "source": [
        "grafikon(X_train_sj,\"total_cases\",\"total_cases\",ngraf=1,title=\"Adatok\")"
      ],
      "execution_count": 57,
      "outputs": [
        {
          "output_type": "display_data",
          "data": {
            "text/html": [
              "<html>\n",
              "<head><meta charset=\"utf-8\" /></head>\n",
              "<body>\n",
              "    <div>\n",
              "            <script src=\"https://cdnjs.cloudflare.com/ajax/libs/mathjax/2.7.5/MathJax.js?config=TeX-AMS-MML_SVG\"></script><script type=\"text/javascript\">if (window.MathJax) {MathJax.Hub.Config({SVG: {font: \"STIX-Web\"}});}</script>\n",
              "                <script type=\"text/javascript\">window.PlotlyConfig = {MathJaxConfig: 'local'};</script>\n",
              "        <script src=\"https://cdn.plot.ly/plotly-latest.min.js\"></script>    \n",
              "            <div id=\"55f9fdb6-6efa-416b-8c9e-80aee93578b0\" class=\"plotly-graph-div\" style=\"height:600px; width:1200px;\"></div>\n",
              "            <script type=\"text/javascript\">\n",
              "                \n",
              "                    window.PLOTLYENV=window.PLOTLYENV || {};\n",
              "                    \n",
              "                if (document.getElementById(\"55f9fdb6-6efa-416b-8c9e-80aee93578b0\")) {\n",
              "                    Plotly.newPlot(\n",
              "                        '55f9fdb6-6efa-416b-8c9e-80aee93578b0',\n",
              "                        [{\"line\": {\"color\": \"rgba(35,128,132,0.8)\"}, \"name\": \"total_cases\", \"showlegend\": true, \"type\": \"scatter\", \"x\": [0, 1, 2, 3, 4, 5, 6, 7, 8, 9, 10, 11, 12, 13, 14, 15, 16, 17, 18, 19, 20, 21, 22, 23, 24, 25, 26, 27, 28, 29, 30, 31, 32, 33, 34, 35, 36, 37, 38, 39, 40, 41, 42, 43, 44, 45, 46, 47, 48, 49, 50, 51, 52, 53, 54, 55, 56, 57, 58, 59, 60, 61, 62, 63, 64, 65, 66, 67, 68, 69, 70, 71, 72, 73, 74, 75, 76, 77, 78, 79, 80, 81, 82, 83, 84, 85, 86, 87, 88, 89, 90, 91, 92, 93, 94, 95, 96, 97, 98, 99, 100, 101, 102, 103, 104, 105, 106, 107, 108, 109, 110, 111, 112, 113, 114, 115, 116, 117, 118, 119, 120, 121, 122, 123, 124, 125, 126, 127, 128, 129, 130, 131, 132, 133, 134, 135, 136, 137, 138, 139, 140, 141, 142, 143, 144, 145, 146, 147, 148, 149, 150, 151, 152, 153, 154, 155, 156, 157, 158, 159, 160, 161, 162, 163, 164, 165, 166, 167, 168, 169, 170, 171, 172, 173, 174, 175, 176, 177, 178, 179, 180, 181, 182, 183, 184, 185, 186, 187, 188, 189, 190, 191, 192, 193, 194, 195, 196, 197, 198, 199, 200, 201, 202, 203, 204, 205, 206, 207, 208, 209, 210, 211, 212, 213, 214, 215, 216, 217, 218, 219, 220, 221, 222, 223, 224, 225, 226, 227, 228, 229, 230, 231, 232, 233, 234, 235, 236, 237, 238, 239, 240, 241, 242, 243, 244, 245, 246, 247, 248, 249, 250, 251, 252, 253, 254, 255, 256, 257, 258, 259, 260, 261, 262, 263, 264, 265, 266, 267, 268, 269, 270, 271, 272, 273, 274, 275, 276, 277, 278, 279, 280, 281, 282, 283, 284, 285, 286, 287, 288, 289, 290, 291, 292, 293, 294, 295, 296, 297, 298, 299, 300, 301, 302, 303, 304, 305, 306, 307, 308, 309, 310, 311, 312, 313, 314, 315, 316, 317, 318, 319, 320, 321, 322, 323, 324, 325, 326, 327, 328, 329, 330, 331, 332, 333, 334, 335, 336, 337, 338, 339, 340, 341, 342, 343, 344, 345, 346, 347, 348, 349, 350, 351, 352, 353, 354, 355, 356, 357, 358, 359, 360, 361, 362, 363, 364, 365, 366, 367, 368, 369, 370, 371, 372, 373, 374, 375, 376, 377, 378, 379, 380, 381, 382, 383, 384, 385, 386, 387, 388, 389, 390, 391, 392, 393, 394, 395, 396, 397, 398, 399, 400, 401, 402, 403, 404, 405, 406, 407, 408, 409, 410, 411, 412, 413, 414, 415, 416, 417, 418, 419, 420, 421, 422, 423, 424, 425, 426, 427, 428, 429, 430, 431, 432, 433, 434, 435, 436, 437, 438, 439, 440, 441, 442, 443, 444, 445, 446, 447, 448, 449, 450, 451, 452, 453, 454, 455, 456, 457, 458, 459, 460, 461, 462, 463, 464, 465, 466, 467, 468, 469, 470, 471, 472, 473, 474, 475, 476, 477, 478, 479, 480, 481, 482, 483, 484, 485, 486, 487, 488, 489, 490, 491, 492, 493, 494, 495, 496, 497, 498, 499, 500, 501, 502, 503, 504, 505, 506, 507, 508, 509, 510, 511, 512, 513, 514, 515, 516, 517, 518, 519, 520, 521, 522, 523, 524, 525, 526, 527, 528, 529, 530, 531, 532, 533, 534, 535, 536, 537, 538, 539, 540, 541, 542, 543, 544, 545, 546, 547, 548, 549, 550, 551, 552, 553, 554, 555, 556, 557, 558, 559, 560, 561, 562, 563, 564, 565, 566, 567, 568, 569, 570, 571, 572, 573, 574, 575, 576, 577, 578, 579, 580, 581, 582, 583, 584, 585, 586, 587, 588, 589, 590, 591, 592, 593, 594, 595, 596, 597, 598, 599, 600, 601, 602, 603, 604, 605, 606, 607, 608, 609, 610, 611, 612, 613, 614, 615, 616, 617, 618, 619, 620, 621, 622, 623, 624, 625, 626, 627, 628, 629, 630, 631, 632, 633, 634, 635, 636, 637, 638, 639, 640, 641, 642, 643, 644, 645, 646, 647, 648, 649, 650, 651, 652, 653, 654, 655, 656, 657, 658, 659, 660, 661, 662, 663, 664, 665, 666, 667, 668, 669, 670, 671, 672, 673, 674, 675, 676, 677, 678, 679, 680, 681, 682, 683, 684, 685, 686, 687, 688, 689, 690, 691, 692, 693, 694, 695, 696, 697, 698, 699, 700, 701, 702, 703, 704, 705, 706, 707, 708, 709, 710, 711, 712, 713, 714, 715, 716, 717, 718, 719, 720, 721, 722, 723, 724, 725, 726, 727, 728, 729, 730, 731, 732, 733, 734, 735, 736, 737, 738, 739, 740, 741, 742, 743, 744, 745, 746, 747, 748, 749, 750, 751, 752, 753, 754, 755, 756, 757, 758, 759, 760, 761, 762, 763, 764, 765, 766, 767, 768, 769, 770, 771, 772, 773, 774, 775, 776, 777, 778, 779, 780, 781, 782, 783, 784, 785, 786, 787, 788, 789, 790, 791, 792, 793, 794, 795, 796, 797, 798, 799, 800, 801, 802, 803, 804, 805, 806, 807, 808, 809, 810, 811, 812, 813, 814, 815, 816, 817, 818, 819, 820, 821, 822, 823, 824, 825, 826, 827, 828, 829, 830, 831, 832, 833, 834, 835, 836, 837, 838, 839, 840, 841, 842, 843, 844, 845, 846, 847, 848, 849, 850, 851, 852, 853, 854, 855, 856, 857, 858, 859, 860, 861, 862, 863, 864, 865, 866, 867, 868, 869, 870, 871, 872, 873, 874, 875, 876, 877, 878, 879, 880, 881, 882, 883, 884, 885, 886, 887, 888, 889, 890, 891, 892, 893, 894, 895, 896, 897, 898, 899, 900, 901, 902, 903, 904, 905, 906, 907, 908, 909, 910, 911, 912, 913, 914, 915, 916, 917, 918, 919, 920, 921, 922, 923, 924, 925, 926, 927, 928, 929, 930, 931, 932, 933, 934, 935], \"xaxis\": \"x\", \"y\": [4, 5, 4, 3, 6, 2, 4, 5, 10, 6, 8, 2, 6, 17, 23, 13, 21, 28, 24, 20, 40, 27, 42, 33, 43, 37, 57, 71, 44, 56, 53, 52, 47, 26, 27, 21, 21, 26, 34, 37, 17, 19, 25, 18, 21, 17, 17, 16, 16, 15, 23, 16, 17, 12, 17, 10, 15, 19, 21, 14, 18, 13, 14, 18, 23, 25, 62, 60, 76, 66, 64, 68, 89, 92, 140, 116, 142, 129, 140, 140, 127, 129, 169, 141, 108, 78, 70, 81, 104, 90, 85, 55, 53, 65, 33, 38, 59, 40, 37, 29, 30, 30, 28, 23, 24, 29, 26, 23, 20, 19, 20, 26, 29, 31, 28, 26, 32, 35, 33, 30, 52, 59, 67, 65, 74, 70, 61, 53, 76, 61, 57, 44, 34, 47, 60, 60, 53, 36, 31, 30, 32, 28, 33, 33, 35, 22, 13, 13, 21, 17, 11, 8, 8, 6, 6, 7, 12, 17, 10, 10, 18, 19, 12, 22, 12, 21, 18, 16, 16, 22, 17, 25, 23, 12, 25, 28, 27, 18, 23, 23, 29, 38, 36, 43, 46, 31, 25, 40, 31, 38, 30, 22, 31, 26, 35, 36, 39, 25, 31, 37, 33, 25, 24, 18, 23, 13, 18, 14, 17, 22, 13, 24, 31, 34, 31, 31, 38, 49, 42, 49, 55, 80, 84, 72, 89, 115, 179, 202, 272, 302, 395, 426, 461, 381, 333, 353, 410, 364, 359, 288, 221, 149, 112, 154, 91, 72, 56, 46, 37, 26, 17, 17, 20, 11, 7, 16, 14, 16, 5, 2, 6, 5, 4, 3, 4, 16, 8, 7, 10, 14, 7, 9, 11, 23, 17, 19, 24, 17, 28, 40, 33, 31, 33, 29, 30, 36, 48, 40, 28, 36, 19, 34, 23, 17, 17, 23, 14, 20, 13, 23, 20, 16, 16, 23, 14, 15, 4, 5, 5, 11, 11, 7, 4, 6, 5, 2, 4, 2, 4, 6, 6, 4, 6, 11, 16, 9, 12, 13, 27, 21, 19, 17, 24, 27, 30, 29, 25, 35, 33, 30, 29, 31, 29, 22, 27, 24, 26, 29, 22, 33, 24, 30, 20, 17, 24, 28, 18, 13, 9, 14, 11, 11, 19, 10, 8, 8, 9, 3, 7, 14, 4, 9, 14, 7, 9, 3, 3, 14, 12, 10, 21, 26, 47, 42, 31, 34, 33, 52, 56, 70, 112, 70, 47, 48, 49, 66, 56, 61, 67, 64, 68, 49, 50, 56, 75, 63, 62, 41, 50, 34, 31, 38, 30, 32, 26, 30, 36, 35, 46, 48, 44, 51, 59, 71, 102, 128, 127, 150, 191, 256, 329, 263, 220, 204, 181, 99, 54, 80, 102, 127, 73, 68, 64, 55, 67, 84, 85, 67, 73, 89, 68, 59, 56, 77, 75, 47, 50, 42, 28, 37, 37, 27, 12, 15, 22, 8, 15, 17, 10, 9, 11, 20, 13, 11, 16, 11, 7, 17, 14, 13, 15, 30, 25, 40, 44, 25, 21, 48, 56, 60, 45, 55, 32, 46, 61, 42, 37, 43, 34, 40, 25, 16, 17, 17, 16, 23, 18, 18, 9, 7, 7, 4, 3, 2, 8, 3, 1, 1, 2, 3, 3, 2, 0, 0, 2, 2, 0, 6, 3, 6, 2, 3, 2, 4, 5, 2, 9, 2, 4, 8, 6, 3, 11, 14, 15, 20, 9, 20, 28, 38, 30, 30, 23, 16, 22, 28, 14, 17, 20, 17, 10, 13, 20, 9, 18, 9, 8, 19, 11, 4, 6, 6, 8, 13, 8, 8, 5, 16, 12, 11, 18, 10, 22, 14, 16, 18, 27, 38, 35, 41, 51, 65, 55, 54, 62, 64, 56, 65, 71, 75, 71, 72, 47, 27, 35, 25, 19, 37, 38, 34, 26, 19, 18, 22, 16, 18, 6, 12, 6, 6, 3, 7, 6, 1, 3, 2, 2, 1, 10, 3, 3, 1, 1, 2, 6, 3, 3, 5, 4, 7, 6, 5, 7, 6, 4, 4, 7, 9, 5, 5, 10, 6, 13, 6, 5, 5, 9, 3, 6, 11, 7, 7, 15, 9, 6, 6, 6, 7, 10, 8, 7, 12, 3, 2, 7, 5, 5, 7, 7, 7, 7, 10, 13, 10, 14, 11, 20, 25, 17, 18, 25, 21, 31, 32, 26, 35, 28, 37, 41, 34, 30, 39, 39, 39, 34, 30, 37, 29, 26, 15, 22, 15, 20, 14, 10, 21, 14, 14, 9, 11, 5, 6, 7, 11, 4, 3, 2, 6, 10, 7, 5, 3, 12, 13, 10, 13, 13, 8, 21, 18, 8, 7, 20, 14, 14, 7, 14, 10, 13, 27, 13, 18, 16, 16, 20, 17, 4, 15, 8, 6, 12, 15, 11, 10, 15, 17, 7, 7, 8, 9, 12, 12, 5, 4, 11, 4, 5, 7, 1, 1, 4, 2, 6, 3, 4, 10, 12, 21, 26, 21, 30, 45, 56, 75, 83, 82, 126, 119, 137, 131, 112, 82, 73, 43, 55, 55, 53, 46, 43, 29, 22, 26, 13, 17, 8, 13, 10, 17, 19, 9, 9, 9, 3, 7, 7, 0, 2, 3, 3, 1, 3, 3, 3, 7, 3, 5, 11, 5, 5, 6, 6, 4, 4, 8, 14, 12, 16, 10, 16, 18, 15, 23, 17, 33, 15, 13, 11, 14, 17, 19, 20, 12, 21, 7, 19, 10, 13, 10, 8, 21, 11, 9, 14, 14, 15, 18, 16, 12, 20, 8, 3, 13, 4, 1, 10, 8, 13, 10, 21, 18, 21, 34, 25, 34, 33, 40, 42, 36, 72, 75, 76, 92, 71, 112, 106, 101, 170, 135, 106, 68, 48, 48, 26, 33, 29, 17, 12, 13, 17, 15, 14, 15, 10, 9, 2, 6, 8, 5, 1, 2, 3, 4, 3, 1, 3, 5], \"yaxis\": \"y\"}],\n",
              "                        {\"autosize\": false, \"height\": 600, \"template\": {\"data\": {\"bar\": [{\"error_x\": {\"color\": \"#2a3f5f\"}, \"error_y\": {\"color\": \"#2a3f5f\"}, \"marker\": {\"line\": {\"color\": \"#E5ECF6\", \"width\": 0.5}}, \"type\": \"bar\"}], \"barpolar\": [{\"marker\": {\"line\": {\"color\": \"#E5ECF6\", \"width\": 0.5}}, \"type\": \"barpolar\"}], \"carpet\": [{\"aaxis\": {\"endlinecolor\": \"#2a3f5f\", \"gridcolor\": \"white\", \"linecolor\": \"white\", \"minorgridcolor\": \"white\", \"startlinecolor\": \"#2a3f5f\"}, \"baxis\": {\"endlinecolor\": \"#2a3f5f\", \"gridcolor\": \"white\", \"linecolor\": \"white\", \"minorgridcolor\": \"white\", \"startlinecolor\": \"#2a3f5f\"}, \"type\": \"carpet\"}], \"choropleth\": [{\"colorbar\": {\"outlinewidth\": 0, \"ticks\": \"\"}, \"type\": \"choropleth\"}], \"contour\": [{\"colorbar\": {\"outlinewidth\": 0, \"ticks\": \"\"}, \"colorscale\": [[0.0, \"#0d0887\"], [0.1111111111111111, \"#46039f\"], [0.2222222222222222, \"#7201a8\"], [0.3333333333333333, \"#9c179e\"], [0.4444444444444444, \"#bd3786\"], [0.5555555555555556, \"#d8576b\"], [0.6666666666666666, \"#ed7953\"], [0.7777777777777778, \"#fb9f3a\"], [0.8888888888888888, \"#fdca26\"], [1.0, \"#f0f921\"]], \"type\": \"contour\"}], \"contourcarpet\": [{\"colorbar\": {\"outlinewidth\": 0, \"ticks\": \"\"}, \"type\": \"contourcarpet\"}], \"heatmap\": [{\"colorbar\": {\"outlinewidth\": 0, \"ticks\": \"\"}, \"colorscale\": [[0.0, \"#0d0887\"], [0.1111111111111111, \"#46039f\"], [0.2222222222222222, \"#7201a8\"], [0.3333333333333333, \"#9c179e\"], [0.4444444444444444, \"#bd3786\"], [0.5555555555555556, \"#d8576b\"], [0.6666666666666666, \"#ed7953\"], [0.7777777777777778, \"#fb9f3a\"], [0.8888888888888888, \"#fdca26\"], [1.0, \"#f0f921\"]], \"type\": \"heatmap\"}], \"heatmapgl\": [{\"colorbar\": {\"outlinewidth\": 0, \"ticks\": \"\"}, \"colorscale\": [[0.0, \"#0d0887\"], [0.1111111111111111, \"#46039f\"], [0.2222222222222222, \"#7201a8\"], [0.3333333333333333, \"#9c179e\"], [0.4444444444444444, \"#bd3786\"], [0.5555555555555556, \"#d8576b\"], [0.6666666666666666, \"#ed7953\"], [0.7777777777777778, \"#fb9f3a\"], [0.8888888888888888, \"#fdca26\"], [1.0, \"#f0f921\"]], \"type\": \"heatmapgl\"}], \"histogram\": [{\"marker\": {\"colorbar\": {\"outlinewidth\": 0, \"ticks\": \"\"}}, \"type\": \"histogram\"}], \"histogram2d\": [{\"colorbar\": {\"outlinewidth\": 0, \"ticks\": \"\"}, \"colorscale\": [[0.0, \"#0d0887\"], [0.1111111111111111, \"#46039f\"], [0.2222222222222222, \"#7201a8\"], [0.3333333333333333, \"#9c179e\"], [0.4444444444444444, \"#bd3786\"], [0.5555555555555556, \"#d8576b\"], [0.6666666666666666, \"#ed7953\"], [0.7777777777777778, \"#fb9f3a\"], [0.8888888888888888, \"#fdca26\"], [1.0, \"#f0f921\"]], \"type\": \"histogram2d\"}], \"histogram2dcontour\": [{\"colorbar\": {\"outlinewidth\": 0, \"ticks\": \"\"}, \"colorscale\": [[0.0, \"#0d0887\"], [0.1111111111111111, \"#46039f\"], [0.2222222222222222, \"#7201a8\"], [0.3333333333333333, \"#9c179e\"], [0.4444444444444444, \"#bd3786\"], [0.5555555555555556, \"#d8576b\"], [0.6666666666666666, \"#ed7953\"], [0.7777777777777778, \"#fb9f3a\"], [0.8888888888888888, \"#fdca26\"], [1.0, \"#f0f921\"]], \"type\": \"histogram2dcontour\"}], \"mesh3d\": [{\"colorbar\": {\"outlinewidth\": 0, \"ticks\": \"\"}, \"type\": \"mesh3d\"}], \"parcoords\": [{\"line\": {\"colorbar\": {\"outlinewidth\": 0, \"ticks\": \"\"}}, \"type\": \"parcoords\"}], \"pie\": [{\"automargin\": true, \"type\": \"pie\"}], \"scatter\": [{\"marker\": {\"colorbar\": {\"outlinewidth\": 0, \"ticks\": \"\"}}, \"type\": \"scatter\"}], \"scatter3d\": [{\"line\": {\"colorbar\": {\"outlinewidth\": 0, \"ticks\": \"\"}}, \"marker\": {\"colorbar\": {\"outlinewidth\": 0, \"ticks\": \"\"}}, \"type\": \"scatter3d\"}], \"scattercarpet\": [{\"marker\": {\"colorbar\": {\"outlinewidth\": 0, \"ticks\": \"\"}}, \"type\": \"scattercarpet\"}], \"scattergeo\": [{\"marker\": {\"colorbar\": {\"outlinewidth\": 0, \"ticks\": \"\"}}, \"type\": \"scattergeo\"}], \"scattergl\": [{\"marker\": {\"colorbar\": {\"outlinewidth\": 0, \"ticks\": \"\"}}, \"type\": \"scattergl\"}], \"scattermapbox\": [{\"marker\": {\"colorbar\": {\"outlinewidth\": 0, \"ticks\": \"\"}}, \"type\": \"scattermapbox\"}], \"scatterpolar\": [{\"marker\": {\"colorbar\": {\"outlinewidth\": 0, \"ticks\": \"\"}}, \"type\": \"scatterpolar\"}], \"scatterpolargl\": [{\"marker\": {\"colorbar\": {\"outlinewidth\": 0, \"ticks\": \"\"}}, \"type\": \"scatterpolargl\"}], \"scatterternary\": [{\"marker\": {\"colorbar\": {\"outlinewidth\": 0, \"ticks\": \"\"}}, \"type\": \"scatterternary\"}], \"surface\": [{\"colorbar\": {\"outlinewidth\": 0, \"ticks\": \"\"}, \"colorscale\": [[0.0, \"#0d0887\"], [0.1111111111111111, \"#46039f\"], [0.2222222222222222, \"#7201a8\"], [0.3333333333333333, \"#9c179e\"], [0.4444444444444444, \"#bd3786\"], [0.5555555555555556, \"#d8576b\"], [0.6666666666666666, \"#ed7953\"], [0.7777777777777778, \"#fb9f3a\"], [0.8888888888888888, \"#fdca26\"], [1.0, \"#f0f921\"]], \"type\": \"surface\"}], \"table\": [{\"cells\": {\"fill\": {\"color\": \"#EBF0F8\"}, \"line\": {\"color\": \"white\"}}, \"header\": {\"fill\": {\"color\": \"#C8D4E3\"}, \"line\": {\"color\": \"white\"}}, \"type\": \"table\"}]}, \"layout\": {\"annotationdefaults\": {\"arrowcolor\": \"#2a3f5f\", \"arrowhead\": 0, \"arrowwidth\": 1}, \"coloraxis\": {\"colorbar\": {\"outlinewidth\": 0, \"ticks\": \"\"}}, \"colorscale\": {\"diverging\": [[0, \"#8e0152\"], [0.1, \"#c51b7d\"], [0.2, \"#de77ae\"], [0.3, \"#f1b6da\"], [0.4, \"#fde0ef\"], [0.5, \"#f7f7f7\"], [0.6, \"#e6f5d0\"], [0.7, \"#b8e186\"], [0.8, \"#7fbc41\"], [0.9, \"#4d9221\"], [1, \"#276419\"]], \"sequential\": [[0.0, \"#0d0887\"], [0.1111111111111111, \"#46039f\"], [0.2222222222222222, \"#7201a8\"], [0.3333333333333333, \"#9c179e\"], [0.4444444444444444, \"#bd3786\"], [0.5555555555555556, \"#d8576b\"], [0.6666666666666666, \"#ed7953\"], [0.7777777777777778, \"#fb9f3a\"], [0.8888888888888888, \"#fdca26\"], [1.0, \"#f0f921\"]], \"sequentialminus\": [[0.0, \"#0d0887\"], [0.1111111111111111, \"#46039f\"], [0.2222222222222222, \"#7201a8\"], [0.3333333333333333, \"#9c179e\"], [0.4444444444444444, \"#bd3786\"], [0.5555555555555556, \"#d8576b\"], [0.6666666666666666, \"#ed7953\"], [0.7777777777777778, \"#fb9f3a\"], [0.8888888888888888, \"#fdca26\"], [1.0, \"#f0f921\"]]}, \"colorway\": [\"#636efa\", \"#EF553B\", \"#00cc96\", \"#ab63fa\", \"#FFA15A\", \"#19d3f3\", \"#FF6692\", \"#B6E880\", \"#FF97FF\", \"#FECB52\"], \"font\": {\"color\": \"#2a3f5f\"}, \"geo\": {\"bgcolor\": \"white\", \"lakecolor\": \"white\", \"landcolor\": \"#E5ECF6\", \"showlakes\": true, \"showland\": true, \"subunitcolor\": \"white\"}, \"hoverlabel\": {\"align\": \"left\"}, \"hovermode\": \"closest\", \"mapbox\": {\"style\": \"light\"}, \"paper_bgcolor\": \"white\", \"plot_bgcolor\": \"#E5ECF6\", \"polar\": {\"angularaxis\": {\"gridcolor\": \"white\", \"linecolor\": \"white\", \"ticks\": \"\"}, \"bgcolor\": \"#E5ECF6\", \"radialaxis\": {\"gridcolor\": \"white\", \"linecolor\": \"white\", \"ticks\": \"\"}}, \"scene\": {\"xaxis\": {\"backgroundcolor\": \"#E5ECF6\", \"gridcolor\": \"white\", \"gridwidth\": 2, \"linecolor\": \"white\", \"showbackground\": true, \"ticks\": \"\", \"zerolinecolor\": \"white\"}, \"yaxis\": {\"backgroundcolor\": \"#E5ECF6\", \"gridcolor\": \"white\", \"gridwidth\": 2, \"linecolor\": \"white\", \"showbackground\": true, \"ticks\": \"\", \"zerolinecolor\": \"white\"}, \"zaxis\": {\"backgroundcolor\": \"#E5ECF6\", \"gridcolor\": \"white\", \"gridwidth\": 2, \"linecolor\": \"white\", \"showbackground\": true, \"ticks\": \"\", \"zerolinecolor\": \"white\"}}, \"shapedefaults\": {\"line\": {\"color\": \"#2a3f5f\"}}, \"ternary\": {\"aaxis\": {\"gridcolor\": \"white\", \"linecolor\": \"white\", \"ticks\": \"\"}, \"baxis\": {\"gridcolor\": \"white\", \"linecolor\": \"white\", \"ticks\": \"\"}, \"bgcolor\": \"#E5ECF6\", \"caxis\": {\"gridcolor\": \"white\", \"linecolor\": \"white\", \"ticks\": \"\"}}, \"title\": {\"x\": 0.05}, \"xaxis\": {\"automargin\": true, \"gridcolor\": \"white\", \"linecolor\": \"white\", \"ticks\": \"\", \"title\": {\"standoff\": 15}, \"zerolinecolor\": \"white\", \"zerolinewidth\": 2}, \"yaxis\": {\"automargin\": true, \"gridcolor\": \"white\", \"linecolor\": \"white\", \"ticks\": \"\", \"title\": {\"standoff\": 15}, \"zerolinecolor\": \"white\", \"zerolinewidth\": 2}}}, \"title\": {\"text\": \"Adatok\"}, \"width\": 1200, \"xaxis\": {\"anchor\": \"y\", \"domain\": [0.0, 1.0]}, \"yaxis\": {\"anchor\": \"x\", \"domain\": [0.0, 1.0]}},\n",
              "                        {\"responsive\": true}\n",
              "                    ).then(function(){\n",
              "                            \n",
              "var gd = document.getElementById('55f9fdb6-6efa-416b-8c9e-80aee93578b0');\n",
              "var x = new MutationObserver(function (mutations, observer) {{\n",
              "        var display = window.getComputedStyle(gd).display;\n",
              "        if (!display || display === 'none') {{\n",
              "            console.log([gd, 'removed!']);\n",
              "            Plotly.purge(gd);\n",
              "            observer.disconnect();\n",
              "        }}\n",
              "}});\n",
              "\n",
              "// Listen for the removal of the full notebook cells\n",
              "var notebookContainer = gd.closest('#notebook-container');\n",
              "if (notebookContainer) {{\n",
              "    x.observe(notebookContainer, {childList: true});\n",
              "}}\n",
              "\n",
              "// Listen for the clearing of the current output cell\n",
              "var outputEl = gd.closest('.output');\n",
              "if (outputEl) {{\n",
              "    x.observe(outputEl, {childList: true});\n",
              "}}\n",
              "\n",
              "                        })\n",
              "                };\n",
              "                \n",
              "            </script>\n",
              "        </div>\n",
              "</body>\n",
              "</html>"
            ]
          },
          "metadata": {
            "tags": []
          }
        }
      ]
    },
    {
      "cell_type": "code",
      "metadata": {
        "id": "uL5Wr_NkdsN0"
      },
      "source": [
        "def grafikon(fx,ind,desc1,txt1,desc2=\"\",txt2=\"\",desc3=\"\",txt3=\"\",ngraf=2,c1='rgba(35,128,132,0.8)', c2='rgba(193,99,99,0.8)',c3='rgba(193,99,0,0.8)',title=None):\n",
        "    '''\n",
        "    fx: dataFrame\n",
        "    ind: index\n",
        "    desc1:column1\n",
        "    txt1: label1\n",
        "    desc2:column2\n",
        "    txt2: label2\n",
        "    ngraf: number of graph\n",
        "    c1: color1\n",
        "    c2: color2\n",
        "    title: graph title\n",
        "    '''\n",
        "    \n",
        "    #x_=[i for i in range(len(y_pred))]\n",
        "    if title==None:\n",
        "      title=txt1+txt2\n",
        "    import plotly.express as px\n",
        "    import plotly.graph_objects as go\n",
        "    from plotly.subplots import make_subplots\n",
        "    fig0 = make_subplots(rows=1, cols=1)\n",
        "    \n",
        "    if True:\n",
        "        fig0.add_trace(\n",
        "            go.Scatter(x=fx[ind], y=fx[desc1], name=txt1, line=dict(color=c1) ,showlegend=True  ),\n",
        "\n",
        "            row=1, col=1\n",
        "\n",
        "        )\n",
        "    \n",
        "    if ngraf>1:\n",
        "        fig0.add_trace(\n",
        "            go.Scatter(x=fx[ind], y=fx[desc2], name=txt2, line=dict(color=c2) ,showlegend=True  ),\n",
        "\n",
        "            row=1, col=1\n",
        "        )\n",
        "    if ngraf>2:\n",
        "        fig0.add_trace(\n",
        "            go.Scatter(x=fx[ind], y=fx[desc3], name=txt3, line=dict(color=c3) ,showlegend=True  ),\n",
        "\n",
        "            row=1, col=1\n",
        "        )\n",
        "\n",
        "\n",
        "\n",
        "    fig0.update_layout(\n",
        "        title=title,\n",
        "        autosize=False,\n",
        "        width=1200,\n",
        "        height=600,\n",
        "        \n",
        "        )\n",
        "\n",
        "    fig0.show()"
      ],
      "execution_count": 58,
      "outputs": []
    },
    {
      "cell_type": "code",
      "metadata": {
        "id": "dgCWNnfBe07N",
        "colab": {
          "base_uri": "https://localhost:8080/",
          "height": 617
        },
        "outputId": "d73ea6d8-5db7-48f2-95b2-e925ed38f4f2"
      },
      "source": [
        "grafikon(X_train_sj,\"week_start_date\",\"total_cases\",\"total_cases\",\"reanalysis_relative_humidity_percent\",\"reanalysis_relative_humidity_percent\",\"station_avg_temp_c\",\"station_avg_temp_c\",ngraf=3,title=\"Adatok\")"
      ],
      "execution_count": 59,
      "outputs": [
        {
          "output_type": "display_data",
          "data": {
            "text/html": [
              "<html>\n",
              "<head><meta charset=\"utf-8\" /></head>\n",
              "<body>\n",
              "    <div>\n",
              "            <script src=\"https://cdnjs.cloudflare.com/ajax/libs/mathjax/2.7.5/MathJax.js?config=TeX-AMS-MML_SVG\"></script><script type=\"text/javascript\">if (window.MathJax) {MathJax.Hub.Config({SVG: {font: \"STIX-Web\"}});}</script>\n",
              "                <script type=\"text/javascript\">window.PlotlyConfig = {MathJaxConfig: 'local'};</script>\n",
              "        <script src=\"https://cdn.plot.ly/plotly-latest.min.js\"></script>    \n",
              "            <div id=\"9a2d5162-4f51-4a4d-8ada-09df52ac9646\" class=\"plotly-graph-div\" style=\"height:600px; width:1200px;\"></div>\n",
              "            <script type=\"text/javascript\">\n",
              "                \n",
              "                    window.PLOTLYENV=window.PLOTLYENV || {};\n",
              "                    \n",
              "                if (document.getElementById(\"9a2d5162-4f51-4a4d-8ada-09df52ac9646\")) {\n",
              "                    Plotly.newPlot(\n",
              "                        '9a2d5162-4f51-4a4d-8ada-09df52ac9646',\n",
              "                        [{\"line\": {\"color\": \"rgba(35,128,132,0.8)\"}, \"name\": \"total_cases\", \"showlegend\": true, \"type\": \"scatter\", \"x\": [\"1990-04-30\", \"1990-05-07\", \"1990-05-14\", \"1990-05-21\", \"1990-05-28\", \"1990-06-04\", \"1990-06-11\", \"1990-06-18\", \"1990-06-25\", \"1990-07-02\", \"1990-07-09\", \"1990-07-16\", \"1990-07-23\", \"1990-07-30\", \"1990-08-06\", \"1990-08-13\", \"1990-08-20\", \"1990-08-27\", \"1990-09-03\", \"1990-09-10\", \"1990-09-17\", \"1990-09-24\", \"1990-10-01\", \"1990-10-08\", \"1990-10-15\", \"1990-10-22\", \"1990-10-29\", \"1990-11-05\", \"1990-11-12\", \"1990-11-19\", \"1990-11-26\", \"1990-12-03\", \"1990-12-10\", \"1990-12-17\", \"1990-12-24\", \"1991-01-01\", \"1991-01-08\", \"1991-01-15\", \"1991-01-22\", \"1991-01-29\", \"1991-02-05\", \"1991-02-12\", \"1991-02-19\", \"1991-02-26\", \"1991-03-05\", \"1991-03-12\", \"1991-03-19\", \"1991-03-26\", \"1991-04-02\", \"1991-04-09\", \"1991-04-16\", \"1991-04-23\", \"1991-04-30\", \"1991-05-07\", \"1991-05-14\", \"1991-05-21\", \"1991-05-28\", \"1991-06-04\", \"1991-06-11\", \"1991-06-18\", \"1991-06-25\", \"1991-07-02\", \"1991-07-09\", \"1991-07-16\", \"1991-07-23\", \"1991-07-30\", \"1991-08-06\", \"1991-08-13\", \"1991-08-20\", \"1991-08-27\", \"1991-09-03\", \"1991-09-10\", \"1991-09-17\", \"1991-09-24\", \"1991-10-01\", \"1991-10-08\", \"1991-10-15\", \"1991-10-22\", \"1991-10-29\", \"1991-11-05\", \"1991-11-12\", \"1991-11-19\", \"1991-11-26\", \"1991-12-03\", \"1991-12-10\", \"1991-12-17\", \"1991-12-24\", \"1992-01-01\", \"1992-01-08\", \"1992-01-15\", \"1992-01-22\", \"1992-01-29\", \"1992-02-05\", \"1992-02-12\", \"1992-02-19\", \"1992-02-26\", \"1992-03-04\", \"1992-03-11\", \"1992-03-18\", \"1992-03-25\", \"1992-04-01\", \"1992-04-08\", \"1992-04-15\", \"1992-04-22\", \"1992-04-29\", \"1992-05-06\", \"1992-05-13\", \"1992-05-20\", \"1992-05-27\", \"1992-06-03\", \"1992-06-10\", \"1992-06-17\", \"1992-06-24\", \"1992-07-01\", \"1992-07-08\", \"1992-07-15\", \"1992-07-22\", \"1992-07-29\", \"1992-08-05\", \"1992-08-12\", \"1992-08-19\", \"1992-08-26\", \"1992-09-02\", \"1992-09-09\", \"1992-09-16\", \"1992-09-23\", \"1992-09-30\", \"1992-10-07\", \"1992-10-14\", \"1992-10-21\", \"1992-10-28\", \"1992-11-04\", \"1992-11-11\", \"1992-11-18\", \"1992-11-25\", \"1992-12-02\", \"1992-12-09\", \"1992-12-16\", \"1992-12-23\", \"1993-01-01\", \"1993-01-08\", \"1993-01-15\", \"1993-01-22\", \"1993-01-29\", \"1993-02-05\", \"1993-02-12\", \"1993-02-19\", \"1993-02-26\", \"1993-03-05\", \"1993-03-12\", \"1993-03-19\", \"1993-03-26\", \"1993-04-02\", \"1993-04-09\", \"1993-04-16\", \"1993-04-23\", \"1993-04-30\", \"1993-05-07\", \"1993-05-14\", \"1993-05-21\", \"1993-05-28\", \"1993-06-04\", \"1993-06-11\", \"1993-06-18\", \"1993-06-25\", \"1993-07-02\", \"1993-07-09\", \"1993-07-16\", \"1993-07-23\", \"1993-07-30\", \"1993-08-06\", \"1993-08-13\", \"1993-08-20\", \"1993-08-27\", \"1993-09-03\", \"1993-09-10\", \"1993-09-17\", \"1993-09-24\", \"1993-10-01\", \"1993-10-08\", \"1993-10-15\", \"1993-10-22\", \"1993-10-29\", \"1993-11-05\", \"1993-11-12\", \"1993-11-19\", \"1993-11-26\", \"1993-12-03\", \"1993-12-10\", \"1993-12-17\", \"1993-12-24\", \"1994-01-01\", \"1994-01-08\", \"1994-01-15\", \"1994-01-22\", \"1994-01-29\", \"1994-02-05\", \"1994-02-12\", \"1994-02-19\", \"1994-02-26\", \"1994-03-05\", \"1994-03-12\", \"1994-03-19\", \"1994-03-26\", \"1994-04-02\", \"1994-04-09\", \"1994-04-16\", \"1994-04-23\", \"1994-04-30\", \"1994-05-07\", \"1994-05-14\", \"1994-05-21\", \"1994-05-28\", \"1994-06-04\", \"1994-06-11\", \"1994-06-18\", \"1994-06-25\", \"1994-07-02\", \"1994-07-09\", \"1994-07-16\", \"1994-07-23\", \"1994-07-30\", \"1994-08-06\", \"1994-08-13\", \"1994-08-20\", \"1994-08-27\", \"1994-09-03\", \"1994-09-10\", \"1994-09-17\", \"1994-09-24\", \"1994-10-01\", \"1994-10-08\", \"1994-10-15\", \"1994-10-22\", \"1994-10-29\", \"1994-11-05\", \"1994-11-12\", \"1994-11-19\", \"1994-11-26\", \"1994-12-03\", \"1994-12-10\", \"1994-12-17\", \"1994-12-24\", \"1995-01-01\", \"1995-01-08\", \"1995-01-15\", \"1995-01-22\", \"1995-01-29\", \"1995-02-05\", \"1995-02-12\", \"1995-02-19\", \"1995-02-26\", \"1995-03-05\", \"1995-03-12\", \"1995-03-19\", \"1995-03-26\", \"1995-04-02\", \"1995-04-09\", \"1995-04-16\", \"1995-04-23\", \"1995-04-30\", \"1995-05-07\", \"1995-05-14\", \"1995-05-21\", \"1995-05-28\", \"1995-06-04\", \"1995-06-11\", \"1995-06-18\", \"1995-06-25\", \"1995-07-02\", \"1995-07-09\", \"1995-07-16\", \"1995-07-23\", \"1995-07-30\", \"1995-08-06\", \"1995-08-13\", \"1995-08-20\", \"1995-08-27\", \"1995-09-03\", \"1995-09-10\", \"1995-09-17\", \"1995-09-24\", \"1995-10-01\", \"1995-10-08\", \"1995-10-15\", \"1995-10-22\", \"1995-10-29\", \"1995-11-05\", \"1995-11-12\", \"1995-11-19\", \"1995-11-26\", \"1995-12-03\", \"1995-12-10\", \"1995-12-17\", \"1995-12-24\", \"1996-01-01\", \"1996-01-08\", \"1996-01-15\", \"1996-01-22\", \"1996-01-29\", \"1996-02-05\", \"1996-02-12\", \"1996-02-19\", \"1996-02-26\", \"1996-03-04\", \"1996-03-11\", \"1996-03-18\", \"1996-03-25\", \"1996-04-01\", \"1996-04-08\", \"1996-04-15\", \"1996-04-22\", \"1996-04-29\", \"1996-05-06\", \"1996-05-13\", \"1996-05-20\", \"1996-05-27\", \"1996-06-03\", \"1996-06-10\", \"1996-06-17\", \"1996-06-24\", \"1996-07-01\", \"1996-07-08\", \"1996-07-15\", \"1996-07-22\", \"1996-07-29\", \"1996-08-05\", \"1996-08-12\", \"1996-08-19\", \"1996-08-26\", \"1996-09-02\", \"1996-09-09\", \"1996-09-16\", \"1996-09-23\", \"1996-09-30\", \"1996-10-07\", \"1996-10-14\", \"1996-10-21\", \"1996-10-28\", \"1996-11-04\", \"1996-11-11\", \"1996-11-18\", \"1996-11-25\", \"1996-12-02\", \"1996-12-09\", \"1996-12-16\", \"1996-12-23\", \"1997-01-01\", \"1997-01-08\", \"1997-01-15\", \"1997-01-22\", \"1997-01-29\", \"1997-02-05\", \"1997-02-12\", \"1997-02-19\", \"1997-02-26\", \"1997-03-05\", \"1997-03-12\", \"1997-03-19\", \"1997-03-26\", \"1997-04-02\", \"1997-04-09\", \"1997-04-16\", \"1997-04-23\", \"1997-04-30\", \"1997-05-07\", \"1997-05-14\", \"1997-05-21\", \"1997-05-28\", \"1997-06-04\", \"1997-06-11\", \"1997-06-18\", \"1997-06-25\", \"1997-07-02\", \"1997-07-09\", \"1997-07-16\", \"1997-07-23\", \"1997-07-30\", \"1997-08-06\", \"1997-08-13\", \"1997-08-20\", \"1997-08-27\", \"1997-09-03\", \"1997-09-10\", \"1997-09-17\", \"1997-09-24\", \"1997-10-01\", \"1997-10-08\", \"1997-10-15\", \"1997-10-22\", \"1997-10-29\", \"1997-11-05\", \"1997-11-12\", \"1997-11-19\", \"1997-11-26\", \"1997-12-03\", \"1997-12-10\", \"1997-12-17\", \"1997-12-24\", \"1998-01-01\", \"1998-01-08\", \"1998-01-15\", \"1998-01-22\", \"1998-01-29\", \"1998-02-05\", \"1998-02-12\", \"1998-02-19\", \"1998-02-26\", \"1998-03-05\", \"1998-03-12\", \"1998-03-19\", \"1998-03-26\", \"1998-04-02\", \"1998-04-09\", \"1998-04-16\", \"1998-04-23\", \"1998-04-30\", \"1998-05-07\", \"1998-05-14\", \"1998-05-21\", \"1998-05-28\", \"1998-06-04\", \"1998-06-11\", \"1998-06-18\", \"1998-06-25\", \"1998-07-02\", \"1998-07-09\", \"1998-07-16\", \"1998-07-23\", \"1998-07-30\", \"1998-08-06\", \"1998-08-13\", \"1998-08-20\", \"1998-08-27\", \"1998-09-03\", \"1998-09-10\", \"1998-09-17\", \"1998-09-24\", \"1998-10-01\", \"1998-10-08\", \"1998-10-15\", \"1998-10-22\", \"1998-10-29\", \"1998-11-05\", \"1998-11-12\", \"1998-11-19\", \"1998-11-26\", \"1998-12-03\", \"1998-12-10\", \"1998-12-17\", \"1998-12-24\", \"1999-01-01\", \"1999-01-08\", \"1999-01-15\", \"1999-01-22\", \"1999-01-29\", \"1999-02-05\", \"1999-02-12\", \"1999-02-19\", \"1999-02-26\", \"1999-03-05\", \"1999-03-12\", \"1999-03-19\", \"1999-03-26\", \"1999-04-02\", \"1999-04-09\", \"1999-04-16\", \"1999-04-23\", \"1999-04-30\", \"1999-05-07\", \"1999-05-14\", \"1999-05-21\", \"1999-05-28\", \"1999-06-04\", \"1999-06-11\", \"1999-06-18\", \"1999-06-25\", \"1999-07-02\", \"1999-07-09\", \"1999-07-16\", \"1999-07-23\", \"1999-07-30\", \"1999-08-06\", \"1999-08-13\", \"1999-08-20\", \"1999-08-27\", \"1999-09-03\", \"1999-09-10\", \"1999-09-17\", \"1999-09-24\", \"1999-10-01\", \"1999-10-08\", \"1999-10-15\", \"1999-10-22\", \"1999-10-29\", \"1999-11-05\", \"1999-11-12\", \"1999-11-19\", \"1999-11-26\", \"1999-12-03\", \"1999-12-10\", \"1999-12-17\", \"1999-12-24\", \"2000-01-01\", \"2000-01-08\", \"2000-01-15\", \"2000-01-22\", \"2000-01-29\", \"2000-02-05\", \"2000-02-12\", \"2000-02-19\", \"2000-02-26\", \"2000-03-04\", \"2000-03-11\", \"2000-03-18\", \"2000-03-25\", \"2000-04-01\", \"2000-04-08\", \"2000-04-15\", \"2000-04-22\", \"2000-04-29\", \"2000-05-06\", \"2000-05-13\", \"2000-05-20\", \"2000-05-27\", \"2000-06-03\", \"2000-06-10\", \"2000-06-17\", \"2000-06-24\", \"2000-07-01\", \"2000-07-08\", \"2000-07-15\", \"2000-07-22\", \"2000-07-29\", \"2000-08-05\", \"2000-08-12\", \"2000-08-19\", \"2000-08-26\", \"2000-09-02\", \"2000-09-09\", \"2000-09-16\", \"2000-09-23\", \"2000-09-30\", \"2000-10-07\", \"2000-10-14\", \"2000-10-21\", \"2000-10-28\", \"2000-11-04\", \"2000-11-11\", \"2000-11-18\", \"2000-11-25\", \"2000-12-02\", \"2000-12-09\", \"2000-12-16\", \"2000-12-23\", \"2001-01-01\", \"2001-01-08\", \"2001-01-15\", \"2001-01-22\", \"2001-01-29\", \"2001-02-05\", \"2001-02-12\", \"2001-02-19\", \"2001-02-26\", \"2001-03-05\", \"2001-03-12\", \"2001-03-19\", \"2001-03-26\", \"2001-04-02\", \"2001-04-09\", \"2001-04-16\", \"2001-04-23\", \"2001-04-30\", \"2001-05-07\", \"2001-05-14\", \"2001-05-21\", \"2001-05-28\", \"2001-06-04\", \"2001-06-11\", \"2001-06-18\", \"2001-06-25\", \"2001-07-02\", \"2001-07-09\", \"2001-07-16\", \"2001-07-23\", \"2001-07-30\", \"2001-08-06\", \"2001-08-13\", \"2001-08-20\", \"2001-08-27\", \"2001-09-03\", \"2001-09-10\", \"2001-09-17\", \"2001-09-24\", \"2001-10-01\", \"2001-10-08\", \"2001-10-15\", \"2001-10-22\", \"2001-10-29\", \"2001-11-05\", \"2001-11-12\", \"2001-11-19\", \"2001-11-26\", \"2001-12-03\", \"2001-12-10\", \"2001-12-17\", \"2001-12-24\", \"2002-01-01\", \"2002-01-08\", \"2002-01-15\", \"2002-01-22\", \"2002-01-29\", \"2002-02-05\", \"2002-02-12\", \"2002-02-19\", \"2002-02-26\", \"2002-03-05\", \"2002-03-12\", \"2002-03-19\", \"2002-03-26\", \"2002-04-02\", \"2002-04-09\", \"2002-04-16\", \"2002-04-23\", \"2002-04-30\", \"2002-05-07\", \"2002-05-14\", \"2002-05-21\", \"2002-05-28\", \"2002-06-04\", \"2002-06-11\", \"2002-06-18\", \"2002-06-25\", \"2002-07-02\", \"2002-07-09\", \"2002-07-16\", \"2002-07-23\", \"2002-07-30\", \"2002-08-06\", \"2002-08-13\", \"2002-08-20\", \"2002-08-27\", \"2002-09-03\", \"2002-09-10\", \"2002-09-17\", \"2002-09-24\", \"2002-10-01\", \"2002-10-08\", \"2002-10-15\", \"2002-10-22\", \"2002-10-29\", \"2002-11-05\", \"2002-11-12\", \"2002-11-19\", \"2002-11-26\", \"2002-12-03\", \"2002-12-10\", \"2002-12-17\", \"2002-12-24\", \"2003-01-01\", \"2003-01-08\", \"2003-01-15\", \"2003-01-22\", \"2003-01-29\", \"2003-02-05\", \"2003-02-12\", \"2003-02-19\", \"2003-02-26\", \"2003-03-05\", \"2003-03-12\", \"2003-03-19\", \"2003-03-26\", \"2003-04-02\", \"2003-04-09\", \"2003-04-16\", \"2003-04-23\", \"2003-04-30\", \"2003-05-07\", \"2003-05-14\", \"2003-05-21\", \"2003-05-28\", \"2003-06-04\", \"2003-06-11\", \"2003-06-18\", \"2003-06-25\", \"2003-07-02\", \"2003-07-09\", \"2003-07-16\", \"2003-07-23\", \"2003-07-30\", \"2003-08-06\", \"2003-08-13\", \"2003-08-20\", \"2003-08-27\", \"2003-09-03\", \"2003-09-10\", \"2003-09-17\", \"2003-09-24\", \"2003-10-01\", \"2003-10-08\", \"2003-10-15\", \"2003-10-22\", \"2003-10-29\", \"2003-11-05\", \"2003-11-12\", \"2003-11-19\", \"2003-11-26\", \"2003-12-03\", \"2003-12-10\", \"2003-12-17\", \"2003-12-24\", \"2004-01-01\", \"2004-01-08\", \"2004-01-15\", \"2004-01-22\", \"2004-01-29\", \"2004-02-05\", \"2004-02-12\", \"2004-02-19\", \"2004-02-26\", \"2004-03-04\", \"2004-03-11\", \"2004-03-18\", \"2004-03-25\", \"2004-04-01\", \"2004-04-08\", \"2004-04-15\", \"2004-04-22\", \"2004-04-29\", \"2004-05-06\", \"2004-05-13\", \"2004-05-20\", \"2004-05-27\", \"2004-06-03\", \"2004-06-10\", \"2004-06-17\", \"2004-06-24\", \"2004-07-01\", \"2004-07-08\", \"2004-07-15\", \"2004-07-22\", \"2004-07-29\", \"2004-08-05\", \"2004-08-12\", \"2004-08-19\", \"2004-08-26\", \"2004-09-02\", \"2004-09-09\", \"2004-09-16\", \"2004-09-23\", \"2004-09-30\", \"2004-10-07\", \"2004-10-14\", \"2004-10-21\", \"2004-10-28\", \"2004-11-04\", \"2004-11-11\", \"2004-11-18\", \"2004-11-25\", \"2004-12-02\", \"2004-12-09\", \"2004-12-16\", \"2004-12-23\", \"2005-01-01\", \"2005-01-08\", \"2005-01-15\", \"2005-01-22\", \"2005-01-29\", \"2005-02-05\", \"2005-02-12\", \"2005-02-19\", \"2005-02-26\", \"2005-03-05\", \"2005-03-12\", \"2005-03-19\", \"2005-03-26\", \"2005-04-02\", \"2005-04-09\", \"2005-04-16\", \"2005-04-23\", \"2005-04-30\", \"2005-05-07\", \"2005-05-14\", \"2005-05-21\", \"2005-05-28\", \"2005-06-04\", \"2005-06-11\", \"2005-06-18\", \"2005-06-25\", \"2005-07-02\", \"2005-07-09\", \"2005-07-16\", \"2005-07-23\", \"2005-07-30\", \"2005-08-06\", \"2005-08-13\", \"2005-08-20\", \"2005-08-27\", \"2005-09-03\", \"2005-09-10\", \"2005-09-17\", \"2005-09-24\", \"2005-10-01\", \"2005-10-08\", \"2005-10-15\", \"2005-10-22\", \"2005-10-29\", \"2005-11-05\", \"2005-11-12\", \"2005-11-19\", \"2005-11-26\", \"2005-12-03\", \"2005-12-10\", \"2005-12-17\", \"2005-12-24\", \"2006-01-01\", \"2006-01-08\", \"2006-01-15\", \"2006-01-22\", \"2006-01-29\", \"2006-02-05\", \"2006-02-12\", \"2006-02-19\", \"2006-02-26\", \"2006-03-05\", \"2006-03-12\", \"2006-03-19\", \"2006-03-26\", \"2006-04-02\", \"2006-04-09\", \"2006-04-16\", \"2006-04-23\", \"2006-04-30\", \"2006-05-07\", \"2006-05-14\", \"2006-05-21\", \"2006-05-28\", \"2006-06-04\", \"2006-06-11\", \"2006-06-18\", \"2006-06-25\", \"2006-07-02\", \"2006-07-09\", \"2006-07-16\", \"2006-07-23\", \"2006-07-30\", \"2006-08-06\", \"2006-08-13\", \"2006-08-20\", \"2006-08-27\", \"2006-09-03\", \"2006-09-10\", \"2006-09-17\", \"2006-09-24\", \"2006-10-01\", \"2006-10-08\", \"2006-10-15\", \"2006-10-22\", \"2006-10-29\", \"2006-11-05\", \"2006-11-12\", \"2006-11-19\", \"2006-11-26\", \"2006-12-03\", \"2006-12-10\", \"2006-12-17\", \"2006-12-24\", \"2007-01-01\", \"2007-01-08\", \"2007-01-15\", \"2007-01-22\", \"2007-01-29\", \"2007-02-05\", \"2007-02-12\", \"2007-02-19\", \"2007-02-26\", \"2007-03-05\", \"2007-03-12\", \"2007-03-19\", \"2007-03-26\", \"2007-04-02\", \"2007-04-09\", \"2007-04-16\", \"2007-04-23\", \"2007-04-30\", \"2007-05-07\", \"2007-05-14\", \"2007-05-21\", \"2007-05-28\", \"2007-06-04\", \"2007-06-11\", \"2007-06-18\", \"2007-06-25\", \"2007-07-02\", \"2007-07-09\", \"2007-07-16\", \"2007-07-23\", \"2007-07-30\", \"2007-08-06\", \"2007-08-13\", \"2007-08-20\", \"2007-08-27\", \"2007-09-03\", \"2007-09-10\", \"2007-09-17\", \"2007-09-24\", \"2007-10-01\", \"2007-10-08\", \"2007-10-15\", \"2007-10-22\", \"2007-10-29\", \"2007-11-05\", \"2007-11-12\", \"2007-11-19\", \"2007-11-26\", \"2007-12-03\", \"2007-12-10\", \"2007-12-17\", \"2007-12-24\", \"2008-01-01\", \"2008-01-08\", \"2008-01-15\", \"2008-01-22\", \"2008-01-29\", \"2008-02-05\", \"2008-02-12\", \"2008-02-19\", \"2008-02-26\", \"2008-03-04\", \"2008-03-11\", \"2008-03-18\", \"2008-03-25\", \"2008-04-01\", \"2008-04-08\", \"2008-04-15\", \"2008-04-22\"], \"xaxis\": \"x\", \"y\": [4, 5, 4, 3, 6, 2, 4, 5, 10, 6, 8, 2, 6, 17, 23, 13, 21, 28, 24, 20, 40, 27, 42, 33, 43, 37, 57, 71, 44, 56, 53, 52, 47, 26, 27, 21, 21, 26, 34, 37, 17, 19, 25, 18, 21, 17, 17, 16, 16, 15, 23, 16, 17, 12, 17, 10, 15, 19, 21, 14, 18, 13, 14, 18, 23, 25, 62, 60, 76, 66, 64, 68, 89, 92, 140, 116, 142, 129, 140, 140, 127, 129, 169, 141, 108, 78, 70, 81, 104, 90, 85, 55, 53, 65, 33, 38, 59, 40, 37, 29, 30, 30, 28, 23, 24, 29, 26, 23, 20, 19, 20, 26, 29, 31, 28, 26, 32, 35, 33, 30, 52, 59, 67, 65, 74, 70, 61, 53, 76, 61, 57, 44, 34, 47, 60, 60, 53, 36, 31, 30, 32, 28, 33, 33, 35, 22, 13, 13, 21, 17, 11, 8, 8, 6, 6, 7, 12, 17, 10, 10, 18, 19, 12, 22, 12, 21, 18, 16, 16, 22, 17, 25, 23, 12, 25, 28, 27, 18, 23, 23, 29, 38, 36, 43, 46, 31, 25, 40, 31, 38, 30, 22, 31, 26, 35, 36, 39, 25, 31, 37, 33, 25, 24, 18, 23, 13, 18, 14, 17, 22, 13, 24, 31, 34, 31, 31, 38, 49, 42, 49, 55, 80, 84, 72, 89, 115, 179, 202, 272, 302, 395, 426, 461, 381, 333, 353, 410, 364, 359, 288, 221, 149, 112, 154, 91, 72, 56, 46, 37, 26, 17, 17, 20, 11, 7, 16, 14, 16, 5, 2, 6, 5, 4, 3, 4, 16, 8, 7, 10, 14, 7, 9, 11, 23, 17, 19, 24, 17, 28, 40, 33, 31, 33, 29, 30, 36, 48, 40, 28, 36, 19, 34, 23, 17, 17, 23, 14, 20, 13, 23, 20, 16, 16, 23, 14, 15, 4, 5, 5, 11, 11, 7, 4, 6, 5, 2, 4, 2, 4, 6, 6, 4, 6, 11, 16, 9, 12, 13, 27, 21, 19, 17, 24, 27, 30, 29, 25, 35, 33, 30, 29, 31, 29, 22, 27, 24, 26, 29, 22, 33, 24, 30, 20, 17, 24, 28, 18, 13, 9, 14, 11, 11, 19, 10, 8, 8, 9, 3, 7, 14, 4, 9, 14, 7, 9, 3, 3, 14, 12, 10, 21, 26, 47, 42, 31, 34, 33, 52, 56, 70, 112, 70, 47, 48, 49, 66, 56, 61, 67, 64, 68, 49, 50, 56, 75, 63, 62, 41, 50, 34, 31, 38, 30, 32, 26, 30, 36, 35, 46, 48, 44, 51, 59, 71, 102, 128, 127, 150, 191, 256, 329, 263, 220, 204, 181, 99, 54, 80, 102, 127, 73, 68, 64, 55, 67, 84, 85, 67, 73, 89, 68, 59, 56, 77, 75, 47, 50, 42, 28, 37, 37, 27, 12, 15, 22, 8, 15, 17, 10, 9, 11, 20, 13, 11, 16, 11, 7, 17, 14, 13, 15, 30, 25, 40, 44, 25, 21, 48, 56, 60, 45, 55, 32, 46, 61, 42, 37, 43, 34, 40, 25, 16, 17, 17, 16, 23, 18, 18, 9, 7, 7, 4, 3, 2, 8, 3, 1, 1, 2, 3, 3, 2, 0, 0, 2, 2, 0, 6, 3, 6, 2, 3, 2, 4, 5, 2, 9, 2, 4, 8, 6, 3, 11, 14, 15, 20, 9, 20, 28, 38, 30, 30, 23, 16, 22, 28, 14, 17, 20, 17, 10, 13, 20, 9, 18, 9, 8, 19, 11, 4, 6, 6, 8, 13, 8, 8, 5, 16, 12, 11, 18, 10, 22, 14, 16, 18, 27, 38, 35, 41, 51, 65, 55, 54, 62, 64, 56, 65, 71, 75, 71, 72, 47, 27, 35, 25, 19, 37, 38, 34, 26, 19, 18, 22, 16, 18, 6, 12, 6, 6, 3, 7, 6, 1, 3, 2, 2, 1, 10, 3, 3, 1, 1, 2, 6, 3, 3, 5, 4, 7, 6, 5, 7, 6, 4, 4, 7, 9, 5, 5, 10, 6, 13, 6, 5, 5, 9, 3, 6, 11, 7, 7, 15, 9, 6, 6, 6, 7, 10, 8, 7, 12, 3, 2, 7, 5, 5, 7, 7, 7, 7, 10, 13, 10, 14, 11, 20, 25, 17, 18, 25, 21, 31, 32, 26, 35, 28, 37, 41, 34, 30, 39, 39, 39, 34, 30, 37, 29, 26, 15, 22, 15, 20, 14, 10, 21, 14, 14, 9, 11, 5, 6, 7, 11, 4, 3, 2, 6, 10, 7, 5, 3, 12, 13, 10, 13, 13, 8, 21, 18, 8, 7, 20, 14, 14, 7, 14, 10, 13, 27, 13, 18, 16, 16, 20, 17, 4, 15, 8, 6, 12, 15, 11, 10, 15, 17, 7, 7, 8, 9, 12, 12, 5, 4, 11, 4, 5, 7, 1, 1, 4, 2, 6, 3, 4, 10, 12, 21, 26, 21, 30, 45, 56, 75, 83, 82, 126, 119, 137, 131, 112, 82, 73, 43, 55, 55, 53, 46, 43, 29, 22, 26, 13, 17, 8, 13, 10, 17, 19, 9, 9, 9, 3, 7, 7, 0, 2, 3, 3, 1, 3, 3, 3, 7, 3, 5, 11, 5, 5, 6, 6, 4, 4, 8, 14, 12, 16, 10, 16, 18, 15, 23, 17, 33, 15, 13, 11, 14, 17, 19, 20, 12, 21, 7, 19, 10, 13, 10, 8, 21, 11, 9, 14, 14, 15, 18, 16, 12, 20, 8, 3, 13, 4, 1, 10, 8, 13, 10, 21, 18, 21, 34, 25, 34, 33, 40, 42, 36, 72, 75, 76, 92, 71, 112, 106, 101, 170, 135, 106, 68, 48, 48, 26, 33, 29, 17, 12, 13, 17, 15, 14, 15, 10, 9, 2, 6, 8, 5, 1, 2, 3, 4, 3, 1, 3, 5], \"yaxis\": \"y\"}, {\"line\": {\"color\": \"rgba(193,99,99,0.8)\"}, \"name\": \"reanalysis_relative_humidity_percent\", \"showlegend\": true, \"type\": \"scatter\", \"x\": [\"1990-04-30\", \"1990-05-07\", \"1990-05-14\", \"1990-05-21\", \"1990-05-28\", \"1990-06-04\", \"1990-06-11\", \"1990-06-18\", \"1990-06-25\", \"1990-07-02\", \"1990-07-09\", \"1990-07-16\", \"1990-07-23\", \"1990-07-30\", \"1990-08-06\", \"1990-08-13\", \"1990-08-20\", \"1990-08-27\", \"1990-09-03\", \"1990-09-10\", \"1990-09-17\", \"1990-09-24\", \"1990-10-01\", \"1990-10-08\", \"1990-10-15\", \"1990-10-22\", \"1990-10-29\", \"1990-11-05\", \"1990-11-12\", \"1990-11-19\", \"1990-11-26\", \"1990-12-03\", \"1990-12-10\", \"1990-12-17\", \"1990-12-24\", \"1991-01-01\", \"1991-01-08\", \"1991-01-15\", \"1991-01-22\", \"1991-01-29\", \"1991-02-05\", \"1991-02-12\", \"1991-02-19\", \"1991-02-26\", \"1991-03-05\", \"1991-03-12\", \"1991-03-19\", \"1991-03-26\", \"1991-04-02\", \"1991-04-09\", \"1991-04-16\", \"1991-04-23\", \"1991-04-30\", \"1991-05-07\", \"1991-05-14\", \"1991-05-21\", \"1991-05-28\", \"1991-06-04\", \"1991-06-11\", \"1991-06-18\", \"1991-06-25\", \"1991-07-02\", \"1991-07-09\", \"1991-07-16\", \"1991-07-23\", \"1991-07-30\", \"1991-08-06\", \"1991-08-13\", \"1991-08-20\", \"1991-08-27\", \"1991-09-03\", \"1991-09-10\", \"1991-09-17\", \"1991-09-24\", \"1991-10-01\", \"1991-10-08\", \"1991-10-15\", \"1991-10-22\", \"1991-10-29\", \"1991-11-05\", \"1991-11-12\", \"1991-11-19\", \"1991-11-26\", \"1991-12-03\", \"1991-12-10\", \"1991-12-17\", \"1991-12-24\", \"1992-01-01\", \"1992-01-08\", \"1992-01-15\", \"1992-01-22\", \"1992-01-29\", \"1992-02-05\", \"1992-02-12\", \"1992-02-19\", \"1992-02-26\", \"1992-03-04\", \"1992-03-11\", \"1992-03-18\", \"1992-03-25\", \"1992-04-01\", \"1992-04-08\", \"1992-04-15\", \"1992-04-22\", \"1992-04-29\", \"1992-05-06\", \"1992-05-13\", \"1992-05-20\", \"1992-05-27\", \"1992-06-03\", \"1992-06-10\", \"1992-06-17\", \"1992-06-24\", \"1992-07-01\", \"1992-07-08\", \"1992-07-15\", \"1992-07-22\", \"1992-07-29\", \"1992-08-05\", \"1992-08-12\", \"1992-08-19\", \"1992-08-26\", \"1992-09-02\", \"1992-09-09\", \"1992-09-16\", \"1992-09-23\", \"1992-09-30\", \"1992-10-07\", \"1992-10-14\", \"1992-10-21\", \"1992-10-28\", \"1992-11-04\", \"1992-11-11\", \"1992-11-18\", \"1992-11-25\", \"1992-12-02\", \"1992-12-09\", \"1992-12-16\", \"1992-12-23\", \"1993-01-01\", \"1993-01-08\", \"1993-01-15\", \"1993-01-22\", \"1993-01-29\", \"1993-02-05\", \"1993-02-12\", \"1993-02-19\", \"1993-02-26\", \"1993-03-05\", \"1993-03-12\", \"1993-03-19\", \"1993-03-26\", \"1993-04-02\", \"1993-04-09\", \"1993-04-16\", \"1993-04-23\", \"1993-04-30\", \"1993-05-07\", \"1993-05-14\", \"1993-05-21\", \"1993-05-28\", \"1993-06-04\", \"1993-06-11\", \"1993-06-18\", \"1993-06-25\", \"1993-07-02\", \"1993-07-09\", \"1993-07-16\", \"1993-07-23\", \"1993-07-30\", \"1993-08-06\", \"1993-08-13\", \"1993-08-20\", \"1993-08-27\", \"1993-09-03\", \"1993-09-10\", \"1993-09-17\", \"1993-09-24\", \"1993-10-01\", \"1993-10-08\", \"1993-10-15\", \"1993-10-22\", \"1993-10-29\", \"1993-11-05\", \"1993-11-12\", \"1993-11-19\", \"1993-11-26\", \"1993-12-03\", \"1993-12-10\", \"1993-12-17\", \"1993-12-24\", \"1994-01-01\", \"1994-01-08\", \"1994-01-15\", \"1994-01-22\", \"1994-01-29\", \"1994-02-05\", \"1994-02-12\", \"1994-02-19\", \"1994-02-26\", \"1994-03-05\", \"1994-03-12\", \"1994-03-19\", \"1994-03-26\", \"1994-04-02\", \"1994-04-09\", \"1994-04-16\", \"1994-04-23\", \"1994-04-30\", \"1994-05-07\", \"1994-05-14\", \"1994-05-21\", \"1994-05-28\", \"1994-06-04\", \"1994-06-11\", \"1994-06-18\", \"1994-06-25\", \"1994-07-02\", \"1994-07-09\", \"1994-07-16\", \"1994-07-23\", \"1994-07-30\", \"1994-08-06\", \"1994-08-13\", \"1994-08-20\", \"1994-08-27\", \"1994-09-03\", \"1994-09-10\", \"1994-09-17\", \"1994-09-24\", \"1994-10-01\", \"1994-10-08\", \"1994-10-15\", \"1994-10-22\", \"1994-10-29\", \"1994-11-05\", \"1994-11-12\", \"1994-11-19\", \"1994-11-26\", \"1994-12-03\", \"1994-12-10\", \"1994-12-17\", \"1994-12-24\", \"1995-01-01\", \"1995-01-08\", \"1995-01-15\", \"1995-01-22\", \"1995-01-29\", \"1995-02-05\", \"1995-02-12\", \"1995-02-19\", \"1995-02-26\", \"1995-03-05\", \"1995-03-12\", \"1995-03-19\", \"1995-03-26\", \"1995-04-02\", \"1995-04-09\", \"1995-04-16\", \"1995-04-23\", \"1995-04-30\", \"1995-05-07\", \"1995-05-14\", \"1995-05-21\", \"1995-05-28\", \"1995-06-04\", \"1995-06-11\", \"1995-06-18\", \"1995-06-25\", \"1995-07-02\", \"1995-07-09\", \"1995-07-16\", \"1995-07-23\", \"1995-07-30\", \"1995-08-06\", \"1995-08-13\", \"1995-08-20\", \"1995-08-27\", \"1995-09-03\", \"1995-09-10\", \"1995-09-17\", \"1995-09-24\", \"1995-10-01\", \"1995-10-08\", \"1995-10-15\", \"1995-10-22\", \"1995-10-29\", \"1995-11-05\", \"1995-11-12\", \"1995-11-19\", \"1995-11-26\", \"1995-12-03\", \"1995-12-10\", \"1995-12-17\", \"1995-12-24\", \"1996-01-01\", \"1996-01-08\", \"1996-01-15\", \"1996-01-22\", \"1996-01-29\", \"1996-02-05\", \"1996-02-12\", \"1996-02-19\", \"1996-02-26\", \"1996-03-04\", \"1996-03-11\", \"1996-03-18\", \"1996-03-25\", \"1996-04-01\", \"1996-04-08\", \"1996-04-15\", \"1996-04-22\", \"1996-04-29\", \"1996-05-06\", \"1996-05-13\", \"1996-05-20\", \"1996-05-27\", \"1996-06-03\", \"1996-06-10\", \"1996-06-17\", \"1996-06-24\", \"1996-07-01\", \"1996-07-08\", \"1996-07-15\", \"1996-07-22\", \"1996-07-29\", \"1996-08-05\", \"1996-08-12\", \"1996-08-19\", \"1996-08-26\", \"1996-09-02\", \"1996-09-09\", \"1996-09-16\", \"1996-09-23\", \"1996-09-30\", \"1996-10-07\", \"1996-10-14\", \"1996-10-21\", \"1996-10-28\", \"1996-11-04\", \"1996-11-11\", \"1996-11-18\", \"1996-11-25\", \"1996-12-02\", \"1996-12-09\", \"1996-12-16\", \"1996-12-23\", \"1997-01-01\", \"1997-01-08\", \"1997-01-15\", \"1997-01-22\", \"1997-01-29\", \"1997-02-05\", \"1997-02-12\", \"1997-02-19\", \"1997-02-26\", \"1997-03-05\", \"1997-03-12\", \"1997-03-19\", \"1997-03-26\", \"1997-04-02\", \"1997-04-09\", \"1997-04-16\", \"1997-04-23\", \"1997-04-30\", \"1997-05-07\", \"1997-05-14\", \"1997-05-21\", \"1997-05-28\", \"1997-06-04\", \"1997-06-11\", \"1997-06-18\", \"1997-06-25\", \"1997-07-02\", \"1997-07-09\", \"1997-07-16\", \"1997-07-23\", \"1997-07-30\", \"1997-08-06\", \"1997-08-13\", \"1997-08-20\", \"1997-08-27\", \"1997-09-03\", \"1997-09-10\", \"1997-09-17\", \"1997-09-24\", \"1997-10-01\", \"1997-10-08\", \"1997-10-15\", \"1997-10-22\", \"1997-10-29\", \"1997-11-05\", \"1997-11-12\", \"1997-11-19\", \"1997-11-26\", \"1997-12-03\", \"1997-12-10\", \"1997-12-17\", \"1997-12-24\", \"1998-01-01\", \"1998-01-08\", \"1998-01-15\", \"1998-01-22\", \"1998-01-29\", \"1998-02-05\", \"1998-02-12\", \"1998-02-19\", \"1998-02-26\", \"1998-03-05\", \"1998-03-12\", \"1998-03-19\", \"1998-03-26\", \"1998-04-02\", \"1998-04-09\", \"1998-04-16\", \"1998-04-23\", \"1998-04-30\", \"1998-05-07\", \"1998-05-14\", \"1998-05-21\", \"1998-05-28\", \"1998-06-04\", \"1998-06-11\", \"1998-06-18\", \"1998-06-25\", \"1998-07-02\", \"1998-07-09\", \"1998-07-16\", \"1998-07-23\", \"1998-07-30\", \"1998-08-06\", \"1998-08-13\", \"1998-08-20\", \"1998-08-27\", \"1998-09-03\", \"1998-09-10\", \"1998-09-17\", \"1998-09-24\", \"1998-10-01\", \"1998-10-08\", \"1998-10-15\", \"1998-10-22\", \"1998-10-29\", \"1998-11-05\", \"1998-11-12\", \"1998-11-19\", \"1998-11-26\", \"1998-12-03\", \"1998-12-10\", \"1998-12-17\", \"1998-12-24\", \"1999-01-01\", \"1999-01-08\", \"1999-01-15\", \"1999-01-22\", \"1999-01-29\", \"1999-02-05\", \"1999-02-12\", \"1999-02-19\", \"1999-02-26\", \"1999-03-05\", \"1999-03-12\", \"1999-03-19\", \"1999-03-26\", \"1999-04-02\", \"1999-04-09\", \"1999-04-16\", \"1999-04-23\", \"1999-04-30\", \"1999-05-07\", \"1999-05-14\", \"1999-05-21\", \"1999-05-28\", \"1999-06-04\", \"1999-06-11\", \"1999-06-18\", \"1999-06-25\", \"1999-07-02\", \"1999-07-09\", \"1999-07-16\", \"1999-07-23\", \"1999-07-30\", \"1999-08-06\", \"1999-08-13\", \"1999-08-20\", \"1999-08-27\", \"1999-09-03\", \"1999-09-10\", \"1999-09-17\", \"1999-09-24\", \"1999-10-01\", \"1999-10-08\", \"1999-10-15\", \"1999-10-22\", \"1999-10-29\", \"1999-11-05\", \"1999-11-12\", \"1999-11-19\", \"1999-11-26\", \"1999-12-03\", \"1999-12-10\", \"1999-12-17\", \"1999-12-24\", \"2000-01-01\", \"2000-01-08\", \"2000-01-15\", \"2000-01-22\", \"2000-01-29\", \"2000-02-05\", \"2000-02-12\", \"2000-02-19\", \"2000-02-26\", \"2000-03-04\", \"2000-03-11\", \"2000-03-18\", \"2000-03-25\", \"2000-04-01\", \"2000-04-08\", \"2000-04-15\", \"2000-04-22\", \"2000-04-29\", \"2000-05-06\", \"2000-05-13\", \"2000-05-20\", \"2000-05-27\", \"2000-06-03\", \"2000-06-10\", \"2000-06-17\", \"2000-06-24\", \"2000-07-01\", \"2000-07-08\", \"2000-07-15\", \"2000-07-22\", \"2000-07-29\", \"2000-08-05\", \"2000-08-12\", \"2000-08-19\", \"2000-08-26\", \"2000-09-02\", \"2000-09-09\", \"2000-09-16\", \"2000-09-23\", \"2000-09-30\", \"2000-10-07\", \"2000-10-14\", \"2000-10-21\", \"2000-10-28\", \"2000-11-04\", \"2000-11-11\", \"2000-11-18\", \"2000-11-25\", \"2000-12-02\", \"2000-12-09\", \"2000-12-16\", \"2000-12-23\", \"2001-01-01\", \"2001-01-08\", \"2001-01-15\", \"2001-01-22\", \"2001-01-29\", \"2001-02-05\", \"2001-02-12\", \"2001-02-19\", \"2001-02-26\", \"2001-03-05\", \"2001-03-12\", \"2001-03-19\", \"2001-03-26\", \"2001-04-02\", \"2001-04-09\", \"2001-04-16\", \"2001-04-23\", \"2001-04-30\", \"2001-05-07\", \"2001-05-14\", \"2001-05-21\", \"2001-05-28\", \"2001-06-04\", \"2001-06-11\", \"2001-06-18\", \"2001-06-25\", \"2001-07-02\", \"2001-07-09\", \"2001-07-16\", \"2001-07-23\", \"2001-07-30\", \"2001-08-06\", \"2001-08-13\", \"2001-08-20\", \"2001-08-27\", \"2001-09-03\", \"2001-09-10\", \"2001-09-17\", \"2001-09-24\", \"2001-10-01\", \"2001-10-08\", \"2001-10-15\", \"2001-10-22\", \"2001-10-29\", \"2001-11-05\", \"2001-11-12\", \"2001-11-19\", \"2001-11-26\", \"2001-12-03\", \"2001-12-10\", \"2001-12-17\", \"2001-12-24\", \"2002-01-01\", \"2002-01-08\", \"2002-01-15\", \"2002-01-22\", \"2002-01-29\", \"2002-02-05\", \"2002-02-12\", \"2002-02-19\", \"2002-02-26\", \"2002-03-05\", \"2002-03-12\", \"2002-03-19\", \"2002-03-26\", \"2002-04-02\", \"2002-04-09\", \"2002-04-16\", \"2002-04-23\", \"2002-04-30\", \"2002-05-07\", \"2002-05-14\", \"2002-05-21\", \"2002-05-28\", \"2002-06-04\", \"2002-06-11\", \"2002-06-18\", \"2002-06-25\", \"2002-07-02\", \"2002-07-09\", \"2002-07-16\", \"2002-07-23\", \"2002-07-30\", \"2002-08-06\", \"2002-08-13\", \"2002-08-20\", \"2002-08-27\", \"2002-09-03\", \"2002-09-10\", \"2002-09-17\", \"2002-09-24\", \"2002-10-01\", \"2002-10-08\", \"2002-10-15\", \"2002-10-22\", \"2002-10-29\", \"2002-11-05\", \"2002-11-12\", \"2002-11-19\", \"2002-11-26\", \"2002-12-03\", \"2002-12-10\", \"2002-12-17\", \"2002-12-24\", \"2003-01-01\", \"2003-01-08\", \"2003-01-15\", \"2003-01-22\", \"2003-01-29\", \"2003-02-05\", \"2003-02-12\", \"2003-02-19\", \"2003-02-26\", \"2003-03-05\", \"2003-03-12\", \"2003-03-19\", \"2003-03-26\", \"2003-04-02\", \"2003-04-09\", \"2003-04-16\", \"2003-04-23\", \"2003-04-30\", \"2003-05-07\", \"2003-05-14\", \"2003-05-21\", \"2003-05-28\", \"2003-06-04\", \"2003-06-11\", \"2003-06-18\", \"2003-06-25\", \"2003-07-02\", \"2003-07-09\", \"2003-07-16\", \"2003-07-23\", \"2003-07-30\", \"2003-08-06\", \"2003-08-13\", \"2003-08-20\", \"2003-08-27\", \"2003-09-03\", \"2003-09-10\", \"2003-09-17\", \"2003-09-24\", \"2003-10-01\", \"2003-10-08\", \"2003-10-15\", \"2003-10-22\", \"2003-10-29\", \"2003-11-05\", \"2003-11-12\", \"2003-11-19\", \"2003-11-26\", \"2003-12-03\", \"2003-12-10\", \"2003-12-17\", \"2003-12-24\", \"2004-01-01\", \"2004-01-08\", \"2004-01-15\", \"2004-01-22\", \"2004-01-29\", \"2004-02-05\", \"2004-02-12\", \"2004-02-19\", \"2004-02-26\", \"2004-03-04\", \"2004-03-11\", \"2004-03-18\", \"2004-03-25\", \"2004-04-01\", \"2004-04-08\", \"2004-04-15\", \"2004-04-22\", \"2004-04-29\", \"2004-05-06\", \"2004-05-13\", \"2004-05-20\", \"2004-05-27\", \"2004-06-03\", \"2004-06-10\", \"2004-06-17\", \"2004-06-24\", \"2004-07-01\", \"2004-07-08\", \"2004-07-15\", \"2004-07-22\", \"2004-07-29\", \"2004-08-05\", \"2004-08-12\", \"2004-08-19\", \"2004-08-26\", \"2004-09-02\", \"2004-09-09\", \"2004-09-16\", \"2004-09-23\", \"2004-09-30\", \"2004-10-07\", \"2004-10-14\", \"2004-10-21\", \"2004-10-28\", \"2004-11-04\", \"2004-11-11\", \"2004-11-18\", \"2004-11-25\", \"2004-12-02\", \"2004-12-09\", \"2004-12-16\", \"2004-12-23\", \"2005-01-01\", \"2005-01-08\", \"2005-01-15\", \"2005-01-22\", \"2005-01-29\", \"2005-02-05\", \"2005-02-12\", \"2005-02-19\", \"2005-02-26\", \"2005-03-05\", \"2005-03-12\", \"2005-03-19\", \"2005-03-26\", \"2005-04-02\", \"2005-04-09\", \"2005-04-16\", \"2005-04-23\", \"2005-04-30\", \"2005-05-07\", \"2005-05-14\", \"2005-05-21\", \"2005-05-28\", \"2005-06-04\", \"2005-06-11\", \"2005-06-18\", \"2005-06-25\", \"2005-07-02\", \"2005-07-09\", \"2005-07-16\", \"2005-07-23\", \"2005-07-30\", \"2005-08-06\", \"2005-08-13\", \"2005-08-20\", \"2005-08-27\", \"2005-09-03\", \"2005-09-10\", \"2005-09-17\", \"2005-09-24\", \"2005-10-01\", \"2005-10-08\", \"2005-10-15\", \"2005-10-22\", \"2005-10-29\", \"2005-11-05\", \"2005-11-12\", \"2005-11-19\", \"2005-11-26\", \"2005-12-03\", \"2005-12-10\", \"2005-12-17\", \"2005-12-24\", \"2006-01-01\", \"2006-01-08\", \"2006-01-15\", \"2006-01-22\", \"2006-01-29\", \"2006-02-05\", \"2006-02-12\", \"2006-02-19\", \"2006-02-26\", \"2006-03-05\", \"2006-03-12\", \"2006-03-19\", \"2006-03-26\", \"2006-04-02\", \"2006-04-09\", \"2006-04-16\", \"2006-04-23\", \"2006-04-30\", \"2006-05-07\", \"2006-05-14\", \"2006-05-21\", \"2006-05-28\", \"2006-06-04\", \"2006-06-11\", \"2006-06-18\", \"2006-06-25\", \"2006-07-02\", \"2006-07-09\", \"2006-07-16\", \"2006-07-23\", \"2006-07-30\", \"2006-08-06\", \"2006-08-13\", \"2006-08-20\", \"2006-08-27\", \"2006-09-03\", \"2006-09-10\", \"2006-09-17\", \"2006-09-24\", \"2006-10-01\", \"2006-10-08\", \"2006-10-15\", \"2006-10-22\", \"2006-10-29\", \"2006-11-05\", \"2006-11-12\", \"2006-11-19\", \"2006-11-26\", \"2006-12-03\", \"2006-12-10\", \"2006-12-17\", \"2006-12-24\", \"2007-01-01\", \"2007-01-08\", \"2007-01-15\", \"2007-01-22\", \"2007-01-29\", \"2007-02-05\", \"2007-02-12\", \"2007-02-19\", \"2007-02-26\", \"2007-03-05\", \"2007-03-12\", \"2007-03-19\", \"2007-03-26\", \"2007-04-02\", \"2007-04-09\", \"2007-04-16\", \"2007-04-23\", \"2007-04-30\", \"2007-05-07\", \"2007-05-14\", \"2007-05-21\", \"2007-05-28\", \"2007-06-04\", \"2007-06-11\", \"2007-06-18\", \"2007-06-25\", \"2007-07-02\", \"2007-07-09\", \"2007-07-16\", \"2007-07-23\", \"2007-07-30\", \"2007-08-06\", \"2007-08-13\", \"2007-08-20\", \"2007-08-27\", \"2007-09-03\", \"2007-09-10\", \"2007-09-17\", \"2007-09-24\", \"2007-10-01\", \"2007-10-08\", \"2007-10-15\", \"2007-10-22\", \"2007-10-29\", \"2007-11-05\", \"2007-11-12\", \"2007-11-19\", \"2007-11-26\", \"2007-12-03\", \"2007-12-10\", \"2007-12-17\", \"2007-12-24\", \"2008-01-01\", \"2008-01-08\", \"2008-01-15\", \"2008-01-22\", \"2008-01-29\", \"2008-02-05\", \"2008-02-12\", \"2008-02-19\", \"2008-02-26\", \"2008-03-04\", \"2008-03-11\", \"2008-03-18\", \"2008-03-25\", \"2008-04-01\", \"2008-04-08\", \"2008-04-15\", \"2008-04-22\"], \"xaxis\": \"x\", \"y\": [73.3657142857, 77.36857142859999, 82.0528571429, 80.3371428571, 80.46, 79.8914285714, 82.0, 83.3757142857, 82.7685714286, 81.2814285714, 81.4671428571, 82.1442857143, 80.7428571429, 80.58428571430001, 79.65, 84.1785714286, 80.9471428571, 83.3485714286, 77.1728571429, 81.55142857140001, 81.6371428571, 77.0485714286, 78.52, 84.11, 85.6214285714, 85.5028571429, 82.7871428571, 81.7157142857, 75.72857142859999, 78.1514285714, 81.38571428569999, 79.9085714286, 68.7228571429, 80.0828571429, 69.6814285714, 72.9385714286, 76.6285714286, 78.5, 71.5971428571, 71.7842857143, 75.7942857143, 78.8957142857, 79.74, 77.9771428571, 77.3157142857, 78.1385714286, 77.8828571429, 80.0014285714, 75.6628571429, 79.6285714286, 73.3514285714, 78.4471428571, 79.36, 79.5414285714, 80.0671428571, 81.30142857140001, 81.08857142859999, 76.0742857143, 77.0357142857, 81.4214285714, 82.7457142857, 81.69428571430001, 77.8771428571, 78.24142857140001, 81.4828571429, 81.8971428571, 81.96, 79.1971428571, 80.2557142857, 81.5942857143, 82.31, 78.6271428571, 80.8771428571, 81.4242857143, 82.4857142857, 80.5157142857, 79.3828571429, 76.7771428571, 78.9871428571, 81.05857142859999, 83.5142857143, 75.5485714286, 81.4857142857, 80.27571428569999, 78.6214285714, 72.8614285714, 76.1271428571, null, 81.3, 84.1171428571, 78.2914285714, 75.22, 77.05857142859999, 82.8757142857, 77.2957142857, 76.0371428571, 76.8785714286, 78.0571428571, 77.5057142857, 80.2385714286, 78.0671428571, 76.3757142857, 84.1842857143, 78.4257142857, 74.9328571429, 78.48, 78.38142857140001, 85.6471428571, 87.3014285714, 85.8271428571, 84.87, 84.2485714286, 82.7771428571, 79.33428571430001, 78.4971428571, 80.15, 81.9842857143, 82.3457142857, 80.7842857143, 82.75, 82.3171428571, 78.86428571430001, 79.2042857143, 79.93, 79.52571428569999, 83.7, 81.2971428571, 79.7371428571, 77.83428571430001, 77.8757142857, 78.91, 81.0528571429, 79.0128571429, 80.2557142857, 85.5871428571, 82.6485714286, 78.3114285714, 76.66142857140001, 76.7571428571, null, 81.8785714286, 77.1442857143, 76.9842857143, 77.8628571429, 80.61, 79.8257142857, 76.5328571429, 76.2171428571, 73.2257142857, 70.6457142857, 77.7842857143, 76.8485714286, 80.7957142857, 78.5642857143, 78.9614285714, 81.27142857140001, 81.6557142857, 84.0814285714, 84.52142857140001, 82.4357142857, 85.3985714286, 86.9, 80.6157142857, 81.4928571429, 82.6085714286, 82.8328571429, 81.1485714286, 81.2157142857, 79.15, 85.55142857140001, 82.8828571429, 81.0128571429, 83.0757142857, 81.7271428571, 79.6285714286, 80.6842857143, 81.7942857143, 80.9014285714, 82.61, 83.8414285714, 81.1028571429, 78.8071428571, 80.3985714286, 79.5042857143, 79.0371428571, 80.3771428571, 82.1542857143, 80.4657142857, 80.3028571429, 76.8542857143, 78.8285714286, 78.0185714286, 75.7428571429, 79.15, 75.9842857143, 78.38142857140001, 76.8257142857, 75.31, 72.88571428569999, 74.7885714286, 77.91571428569999, 81.5185714286, 75.4357142857, 74.6471428571, 75.0828571429, 73.9514285714, 79.5171428571, 75.2471428571, 74.5157142857, 80.3528571429, 80.4628571429, 83.13571428569999, 79.5028571429, 77.66428571430001, 80.3828571429, 78.2928571429, 78.7042857143, 79.0271428571, 78.80571428569999, 77.3028571429, 77.1028571429, 75.4357142857, 77.7957142857, 78.58428571430001, 76.4371428571, 76.92, 78.4828571429, 79.1385714286, 78.75, 79.3142857143, 80.3728571429, 74.1171428571, 78.2257142857, 76.3485714286, 85.4171428571, 78.6857142857, 80.0957142857, 83.58428571430001, 83.5028571429, 78.56, 85.57, 75.4557142857, 76.91428571430001, 82.8671428571, 75.83857142859999, 74.0471428571, 79.5528571429, 78.33, 81.4042857143, 74.6557142857, 77.02142857140001, 76.6342857143, 79.8171428571, 82.0528571429, 77.02, 69.8614285714, 67.36428571430001, 73.4, 77.6057142857, 77.3214285714, 71.9371428571, 76.0728571429, 80.2614285714, 80.8657142857, 81.4471428571, 80.7271428571, 84.3457142857, 79.1371428571, 81.34, 79.38, 75.0657142857, 81.96, 81.09, 85.08857142859999, 84.3757142857, 80.3971428571, 82.6257142857, 83.49142857140001, 82.2257142857, 78.1457142857, 82.91142857140001, 83.3142857143, 81.8542857143, 83.13571428569999, 84.2071428571, 80.66428571430001, 83.2142857143, 80.86428571430001, 79.4042857143, 77.6385714286, 78.1414285714, 80.6771428571, 76.3328571429, 79.9857142857, 77.6371428571, 84.13571428569999, 79.3214285714, 82.5157142857, 80.4771428571, 75.6928571429, 74.9614285714, 79.66428571430001, 77.7828571429, 79.19857142859999, 73.06, 76.4828571429, 80.6471428571, 73.4257142857, 79.02, 79.77571428569999, 78.3114285714, 74.1714285714, 76.3942857143, 74.7928571429, 82.84, 82.78, 82.7514285714, 82.36857142859999, 82.2357142857, 83.3228571429, 80.9071428571, 80.0614285714, 81.83571428569999, 84.3228571429, 79.19857142859999, 81.91, 85.01, 80.9357142857, 84.3442857143, 79.2728571429, 81.54, 81.9857142857, 85.69, 82.6385714286, 79.1771428571, 81.26, 79.9571428571, 80.7342857143, 81.13, 84.1114285714, 83.64, 83.3971428571, 86.07142857139999, 75.2928571429, 73.2528571429, 79.3728571429, 71.0628571429, 75.6785714286, 80.3, 74.94, 80.0928571429, 82.3885714286, 75.0757142857, 80.9471428571, 76.7128571429, 74.63142857140001, 74.2557142857, 75.3728571429, 76.9042857143, 74.11857142859999, 74.2057142857, 74.85, 71.55857142859999, 75.4171428571, 76.9528571429, 75.8785714286, 78.5371428571, 75.9828571429, 78.7114285714, 83.4857142857, 79.7457142857, 79.36428571430001, 80.2457142857, 78.6385714286, 78.62, 80.9171428571, 82.1328571429, 79.4542857143, 81.1042857143, 82.3928571429, 83.28, 81.1428571429, 82.22, 83.16428571430001, 81.80857142859999, 78.78, 84.4371428571, 80.08428571430001, 83.5757142857, 82.2342857143, 77.5328571429, 77.3071428571, 77.1628571429, 82.7657142857, 82.27, 79.3957142857, 74.2814285714, 74.7957142857, 79.47, null, 79.63142857140001, 84.69428571430001, 78.1828571429, 76.2614285714, 75.7771428571, 81.6128571429, 70.7014285714, 75.0157142857, 77.9242857143, 80.7785714286, 72.6428571429, 76.6757142857, 81.4057142857, 80.19, 81.1457142857, 77.7128571429, 80.0728571429, 77.3314285714, 78.4014285714, 84.0714285714, 84.63571428569999, 82.46, 82.30571428569999, 78.53, 84.02571428569999, 80.08571428569999, 81.29, 78.99, 82.2128571429, 83.7428571429, 81.2171428571, 82.8, 84.2028571429, 83.45, 82.1928571429, 84.0028571429, 82.3328571429, 83.3314285714, 78.7828571429, 79.9985714286, 78.0985714286, 82.0385714286, 83.8657142857, 85.12, 80.91428571430001, 86.2142857143, 80.02142857140001, 83.0242857143, 85.9114285714, 78.6685714286, 78.4185714286, null, 80.5971428571, 76.9542857143, 81.31, 79.6714285714, 70.19857142859999, 68.6414285714, 76.2457142857, 72.2514285714, 77.4271428571, 71.69142857140001, 74.80428571430001, 73.94, 78.91, 75.3885714286, 73.6414285714, 75.39, 74.7985714286, 78.6828571429, 76.30857142859999, 76.5985714286, 79.7171428571, 77.3714285714, 80.7542857143, 79.75, 83.9614285714, 81.25, 80.7985714286, 81.8471428571, 83.9185714286, 80.9685714286, 81.6728571429, 82.6457142857, 81.3871428571, 81.9985714286, 81.0028571429, 79.9657142857, 79.6971428571, 79.39, 79.8371428571, 79.6742857143, 79.16, 82.6571428571, 85.3771428571, 81.6285714286, 81.4885714286, 85.4042857143, 86.4057142857, 78.6828571429, 81.86428571430001, 72.6528571429, 76.4971428571, 76.3171428571, 79.6071428571, 77.3428571429, 70.4571428571, 67.7657142857, 74.0628571429, 76.5028571429, 76.1171428571, 74.0642857143, 75.7214285714, 66.7357142857, 72.1428571429, 71.39, 71.3514285714, 77.7857142857, 75.8428571429, 74.7542857143, 78.2442857143, 76.2142857143, 78.3371428571, 77.7128571429, 79.1971428571, 78.5371428571, 79.05142857140001, 75.7485714286, 80.8457142857, 77.6171428571, 77.6814285714, 78.1257142857, 78.6042857143, 79.00857142859999, 80.7514285714, 82.02142857140001, 79.5071428571, 79.55857142859999, 82.6757142857, 80.6785714286, 78.94857142859999, 79.58428571430001, 82.2828571429, 82.58571428569999, 76.3714285714, 78.1814285714, 77.4428571429, 80.0071428571, 72.6842857143, 70.9771428571, 72.9257142857, 77.6485714286, 77.3571428571, 72.2614285714, 76.52571428569999, 76.5057142857, 74.33571428569999, 71.94142857140001, 75.38, 79.0314285714, 74.3442857143, 75.8514285714, 73.0728571429, 76.9071428571, 73.3871428571, 76.2471428571, 72.4428571429, 80.83571428569999, 74.43, 77.0228571429, 72.64, 76.5814285714, 75.7142857143, 78.5671428571, 82.35, 76.07, 78.1514285714, 77.1628571429, 76.4257142857, 75.4614285714, 77.6171428571, 79.5785714286, 77.5828571429, 77.5871428571, 78.0614285714, 78.67, 79.7128571429, 82.0871428571, 81.0757142857, 77.3471428571, 78.8271428571, 77.41, 77.2357142857, 77.55571428569999, 77.63, 78.8914285714, 79.27, 80.13142857140001, 80.27, 75.4242857143, 81.0814285714, 79.8614285714, 74.3442857143, 74.0385714286, 82.1671428571, 84.01, 85.5142857143, 76.4342857143, 80.5728571429, 76.7342857143, 78.0785714286, 76.92, 76.7228571429, 75.5771428571, 75.9328571429, 73.1471428571, 74.4271428571, 76.1685714286, 74.9171428571, 75.2157142857, 78.5657142857, 81.1414285714, 73.84, 83.6571428571, 81.7028571429, 78.6071428571, 76.0871428571, 76.9014285714, 77.0928571429, 81.8514285714, 81.0428571429, 79.73, 79.50857142859999, 77.19857142859999, 78.7471428571, 78.3114285714, 75.8671428571, 81.6228571429, 77.7885714286, 78.94428571430001, 79.0942857143, 76.1885714286, 78.6071428571, 76.6785714286, 78.4885714286, 77.8514285714, 79.2814285714, 78.80857142859999, 78.94857142859999, 79.2171428571, 77.62, 76.1671428571, 73.7814285714, 78.6057142857, 78.9628571429, 74.3728571429, 74.5171428571, 74.9428571429, 79.4828571429, 80.30857142859999, 78.6714285714, 75.7028571429, 75.0157142857, 79.5171428571, 78.8414285714, 79.72428571430001, 75.0771428571, 74.7342857143, 72.69, 74.6085714286, 72.13571428569999, 74.3257142857, 76.1342857143, 79.63571428569999, 80.24142857140001, 83.7514285714, 80.0714285714, 74.80857142859999, 74.23, 76.7042857143, 81.2914285714, 76.33428571430001, 77.1414285714, 77.7314285714, 80.98, 78.9285714286, 79.6585714286, 79.7442857143, 77.8, 82.6014285714, 80.84, 79.7885714286, 78.2542857143, 80.7971428571, 82.7842857143, 79.7042857143, 77.3671428571, 80.53, 79.3557142857, 76.4357142857, 80.25, 77.5314285714, 77.5614285714, 78.08, 81.8257142857, 87.5757142857, 83.41, 77.30857142859999, 78.2328571429, 80.7971428571, 78.6885714286, null, 72.5771428571, 78.9428571429, 78.2642857143, 75.4228571429, 76.5228571429, 74.65, 73.7914285714, 79.0271428571, 77.7614285714, 72.30571428569999, 78.5471428571, 76.8714285714, 80.3657142857, 76.44571428569999, 77.06, 71.9542857143, 78.6028571429, 75.38571428569999, 81.7114285714, 83.8328571429, 83.55, 80.91428571430001, 80.1771428571, 81.5614285714, 78.2971428571, 78.4814285714, 79.1814285714, 79.9957142857, 77.4985714286, 81.8071428571, 79.02571428569999, 76.1714285714, 81.2642857143, 79.6842857143, 76.7114285714, 79.8657142857, 80.0328571429, 85.33, 76.4714285714, 78.4771428571, 80.66571428569999, 76.9228571429, 80.6557142857, 77.5328571429, 77.3114285714, 83.6285714286, 74.3028571429, 73.7571428571, 74.3257142857, 80.8885714286, 83.9528571429, null, 74.7785714286, 78.7985714286, 83.05571428569999, 78.5385714286, 78.64, 70.7957142857, 72.2457142857, 74.19142857140001, 78.6671428571, 77.3928571429, 73.58571428569999, 73.8671428571, 75.7371428571, 78.0028571429, 77.65, 77.2428571429, 81.7514285714, 78.9071428571, 75.69857142859999, 83.7628571429, 84.33571428569999, 82.63, 76.94, 81.5157142857, 79.7185714286, 80.0128571429, 79.3771428571, 80.5614285714, 79.4814285714, 82.4085714286, 79.6214285714, 79.2528571429, 77.74, 76.7342857143, 79.0814285714, 75.4385714286, 77.2728571429, 76.66142857140001, 79.0828571429, 78.3514285714, 82.2642857143, 82.39, 82.4228571429, 78.97, 79.3271428571, 79.9014285714, 77.2457142857, 78.6242857143, 71.4557142857, 75.0757142857, 77.3157142857, 76.5785714286, 74.50857142859999, 72.9285714286, 78.72, 74.8971428571, 72.8728571429, 76.9071428571, 78.4942857143, 73.41428571430001, 70.6971428571, 74.28, 73.21, 75.5271428571, 74.9842857143, 79.6028571429, 76.3328571429, 78.0242857143, 76.6042857143, 78.0985714286, 75.9271428571, 84.31, 78.4, 75.8114285714, 75.6, 75.92, 79.69571428569999, 82.16, 78.6042857143, 81.4771428571, 80.5385714286, 78.7728571429, 81.6457142857, 80.6542857143, 78.6271428571, 79.8142857143, 79.1542857143, 78.1242857143, 77.93, 75.8614285714, 76.9528571429, 74.7328571429, 76.0071428571, 79.41428571430001, 79.93, 81.08571428569999, 75.5685714286, 72.6842857143, 75.6, 76.8285714286, 74.4314285714, 78.6385714286, 75.24, 76.5285714286, 74.8114285714, 77.6471428571, 73.80428571430001, 72.76, 74.8, 75.7542857143, 73.9328571429, 78.1257142857, 75.0142857143, 74.02571428569999, 75.4385714286, 76.7842857143, 76.2142857143, 73.30142857140001, 74.8328571429, 81.1128571429, 82.08428571430001, 79.19428571430001, 76.76, 73.9814285714, 76.0228571429, 74.9628571429, 76.1628571429, 74.16, 76.3285714286, 74.9214285714, 75.24142857140001, 75.1428571429, 80.80857142859999, 74.2642857143, 77.7657142857, 78.64, 78.4614285714, 77.5642857143, 75.3457142857, 75.19571428569999, 75.97, 76.4057142857, 77.19, 79.1785714286, 73.8671428571, 73.66142857140001, 81.5942857143, 75.35, 77.4814285714, 78.52571428569999, 70.7271428571, 75.36857142859999, 78.0157142857, 80.1785714286, 75.44857142859999, 76.1485714286, 76.13142857140001, 75.6428571429, 77.1671428571, 73.5657142857, 70.6428571429, 74.22857142859999, 74.7857142857, 72.66, 74.6814285714, 71.9342857143, 72.91571428569999, 74.2471428571, 74.6, 75.0271428571, 72.2857142857, 76.96], \"yaxis\": \"y\"}, {\"line\": {\"color\": \"rgba(193,99,0,0.8)\"}, \"name\": \"station_avg_temp_c\", \"showlegend\": true, \"type\": \"scatter\", \"x\": [\"1990-04-30\", \"1990-05-07\", \"1990-05-14\", \"1990-05-21\", \"1990-05-28\", \"1990-06-04\", \"1990-06-11\", \"1990-06-18\", \"1990-06-25\", \"1990-07-02\", \"1990-07-09\", \"1990-07-16\", \"1990-07-23\", \"1990-07-30\", \"1990-08-06\", \"1990-08-13\", \"1990-08-20\", \"1990-08-27\", \"1990-09-03\", \"1990-09-10\", \"1990-09-17\", \"1990-09-24\", \"1990-10-01\", \"1990-10-08\", \"1990-10-15\", \"1990-10-22\", \"1990-10-29\", \"1990-11-05\", \"1990-11-12\", \"1990-11-19\", \"1990-11-26\", \"1990-12-03\", \"1990-12-10\", \"1990-12-17\", \"1990-12-24\", \"1991-01-01\", \"1991-01-08\", \"1991-01-15\", \"1991-01-22\", \"1991-01-29\", \"1991-02-05\", \"1991-02-12\", \"1991-02-19\", \"1991-02-26\", \"1991-03-05\", \"1991-03-12\", \"1991-03-19\", \"1991-03-26\", \"1991-04-02\", \"1991-04-09\", \"1991-04-16\", \"1991-04-23\", \"1991-04-30\", \"1991-05-07\", \"1991-05-14\", \"1991-05-21\", \"1991-05-28\", \"1991-06-04\", \"1991-06-11\", \"1991-06-18\", \"1991-06-25\", \"1991-07-02\", \"1991-07-09\", \"1991-07-16\", \"1991-07-23\", \"1991-07-30\", \"1991-08-06\", \"1991-08-13\", \"1991-08-20\", \"1991-08-27\", \"1991-09-03\", \"1991-09-10\", \"1991-09-17\", \"1991-09-24\", \"1991-10-01\", \"1991-10-08\", \"1991-10-15\", \"1991-10-22\", \"1991-10-29\", \"1991-11-05\", \"1991-11-12\", \"1991-11-19\", \"1991-11-26\", \"1991-12-03\", \"1991-12-10\", \"1991-12-17\", \"1991-12-24\", \"1992-01-01\", \"1992-01-08\", \"1992-01-15\", \"1992-01-22\", \"1992-01-29\", \"1992-02-05\", \"1992-02-12\", \"1992-02-19\", \"1992-02-26\", \"1992-03-04\", \"1992-03-11\", \"1992-03-18\", \"1992-03-25\", \"1992-04-01\", \"1992-04-08\", \"1992-04-15\", \"1992-04-22\", \"1992-04-29\", \"1992-05-06\", \"1992-05-13\", \"1992-05-20\", \"1992-05-27\", \"1992-06-03\", \"1992-06-10\", \"1992-06-17\", \"1992-06-24\", \"1992-07-01\", \"1992-07-08\", \"1992-07-15\", \"1992-07-22\", \"1992-07-29\", \"1992-08-05\", \"1992-08-12\", \"1992-08-19\", \"1992-08-26\", \"1992-09-02\", \"1992-09-09\", \"1992-09-16\", \"1992-09-23\", \"1992-09-30\", \"1992-10-07\", \"1992-10-14\", \"1992-10-21\", \"1992-10-28\", \"1992-11-04\", \"1992-11-11\", \"1992-11-18\", \"1992-11-25\", \"1992-12-02\", \"1992-12-09\", \"1992-12-16\", \"1992-12-23\", \"1993-01-01\", \"1993-01-08\", \"1993-01-15\", \"1993-01-22\", \"1993-01-29\", \"1993-02-05\", \"1993-02-12\", \"1993-02-19\", \"1993-02-26\", \"1993-03-05\", \"1993-03-12\", \"1993-03-19\", \"1993-03-26\", \"1993-04-02\", \"1993-04-09\", \"1993-04-16\", \"1993-04-23\", \"1993-04-30\", \"1993-05-07\", \"1993-05-14\", \"1993-05-21\", \"1993-05-28\", \"1993-06-04\", \"1993-06-11\", \"1993-06-18\", \"1993-06-25\", \"1993-07-02\", \"1993-07-09\", \"1993-07-16\", \"1993-07-23\", \"1993-07-30\", \"1993-08-06\", \"1993-08-13\", \"1993-08-20\", \"1993-08-27\", \"1993-09-03\", \"1993-09-10\", \"1993-09-17\", \"1993-09-24\", \"1993-10-01\", \"1993-10-08\", \"1993-10-15\", \"1993-10-22\", \"1993-10-29\", \"1993-11-05\", \"1993-11-12\", \"1993-11-19\", \"1993-11-26\", \"1993-12-03\", \"1993-12-10\", \"1993-12-17\", \"1993-12-24\", \"1994-01-01\", \"1994-01-08\", \"1994-01-15\", \"1994-01-22\", \"1994-01-29\", \"1994-02-05\", \"1994-02-12\", \"1994-02-19\", \"1994-02-26\", \"1994-03-05\", \"1994-03-12\", \"1994-03-19\", \"1994-03-26\", \"1994-04-02\", \"1994-04-09\", \"1994-04-16\", \"1994-04-23\", \"1994-04-30\", \"1994-05-07\", \"1994-05-14\", \"1994-05-21\", \"1994-05-28\", \"1994-06-04\", \"1994-06-11\", \"1994-06-18\", \"1994-06-25\", \"1994-07-02\", \"1994-07-09\", \"1994-07-16\", \"1994-07-23\", \"1994-07-30\", \"1994-08-06\", \"1994-08-13\", \"1994-08-20\", \"1994-08-27\", \"1994-09-03\", \"1994-09-10\", \"1994-09-17\", \"1994-09-24\", \"1994-10-01\", \"1994-10-08\", \"1994-10-15\", \"1994-10-22\", \"1994-10-29\", \"1994-11-05\", \"1994-11-12\", \"1994-11-19\", \"1994-11-26\", \"1994-12-03\", \"1994-12-10\", \"1994-12-17\", \"1994-12-24\", \"1995-01-01\", \"1995-01-08\", \"1995-01-15\", \"1995-01-22\", \"1995-01-29\", \"1995-02-05\", \"1995-02-12\", \"1995-02-19\", \"1995-02-26\", \"1995-03-05\", \"1995-03-12\", \"1995-03-19\", \"1995-03-26\", \"1995-04-02\", \"1995-04-09\", \"1995-04-16\", \"1995-04-23\", \"1995-04-30\", \"1995-05-07\", \"1995-05-14\", \"1995-05-21\", \"1995-05-28\", \"1995-06-04\", \"1995-06-11\", \"1995-06-18\", \"1995-06-25\", \"1995-07-02\", \"1995-07-09\", \"1995-07-16\", \"1995-07-23\", \"1995-07-30\", \"1995-08-06\", \"1995-08-13\", \"1995-08-20\", \"1995-08-27\", \"1995-09-03\", \"1995-09-10\", \"1995-09-17\", \"1995-09-24\", \"1995-10-01\", \"1995-10-08\", \"1995-10-15\", \"1995-10-22\", \"1995-10-29\", \"1995-11-05\", \"1995-11-12\", \"1995-11-19\", \"1995-11-26\", \"1995-12-03\", \"1995-12-10\", \"1995-12-17\", \"1995-12-24\", \"1996-01-01\", \"1996-01-08\", \"1996-01-15\", \"1996-01-22\", \"1996-01-29\", \"1996-02-05\", \"1996-02-12\", \"1996-02-19\", \"1996-02-26\", \"1996-03-04\", \"1996-03-11\", \"1996-03-18\", \"1996-03-25\", \"1996-04-01\", \"1996-04-08\", \"1996-04-15\", \"1996-04-22\", \"1996-04-29\", \"1996-05-06\", \"1996-05-13\", \"1996-05-20\", \"1996-05-27\", \"1996-06-03\", \"1996-06-10\", \"1996-06-17\", \"1996-06-24\", \"1996-07-01\", \"1996-07-08\", \"1996-07-15\", \"1996-07-22\", \"1996-07-29\", \"1996-08-05\", \"1996-08-12\", \"1996-08-19\", \"1996-08-26\", \"1996-09-02\", \"1996-09-09\", \"1996-09-16\", \"1996-09-23\", \"1996-09-30\", \"1996-10-07\", \"1996-10-14\", \"1996-10-21\", \"1996-10-28\", \"1996-11-04\", \"1996-11-11\", \"1996-11-18\", \"1996-11-25\", \"1996-12-02\", \"1996-12-09\", \"1996-12-16\", \"1996-12-23\", \"1997-01-01\", \"1997-01-08\", \"1997-01-15\", \"1997-01-22\", \"1997-01-29\", \"1997-02-05\", \"1997-02-12\", \"1997-02-19\", \"1997-02-26\", \"1997-03-05\", \"1997-03-12\", \"1997-03-19\", \"1997-03-26\", \"1997-04-02\", \"1997-04-09\", \"1997-04-16\", \"1997-04-23\", \"1997-04-30\", \"1997-05-07\", \"1997-05-14\", \"1997-05-21\", \"1997-05-28\", \"1997-06-04\", \"1997-06-11\", \"1997-06-18\", \"1997-06-25\", \"1997-07-02\", \"1997-07-09\", \"1997-07-16\", \"1997-07-23\", \"1997-07-30\", \"1997-08-06\", \"1997-08-13\", \"1997-08-20\", \"1997-08-27\", \"1997-09-03\", \"1997-09-10\", \"1997-09-17\", \"1997-09-24\", \"1997-10-01\", \"1997-10-08\", \"1997-10-15\", \"1997-10-22\", \"1997-10-29\", \"1997-11-05\", \"1997-11-12\", \"1997-11-19\", \"1997-11-26\", \"1997-12-03\", \"1997-12-10\", \"1997-12-17\", \"1997-12-24\", \"1998-01-01\", \"1998-01-08\", \"1998-01-15\", \"1998-01-22\", \"1998-01-29\", \"1998-02-05\", \"1998-02-12\", \"1998-02-19\", \"1998-02-26\", \"1998-03-05\", \"1998-03-12\", \"1998-03-19\", \"1998-03-26\", \"1998-04-02\", \"1998-04-09\", \"1998-04-16\", \"1998-04-23\", \"1998-04-30\", \"1998-05-07\", \"1998-05-14\", \"1998-05-21\", \"1998-05-28\", \"1998-06-04\", \"1998-06-11\", \"1998-06-18\", \"1998-06-25\", \"1998-07-02\", \"1998-07-09\", \"1998-07-16\", \"1998-07-23\", \"1998-07-30\", \"1998-08-06\", \"1998-08-13\", \"1998-08-20\", \"1998-08-27\", \"1998-09-03\", \"1998-09-10\", \"1998-09-17\", \"1998-09-24\", \"1998-10-01\", \"1998-10-08\", \"1998-10-15\", \"1998-10-22\", \"1998-10-29\", \"1998-11-05\", \"1998-11-12\", \"1998-11-19\", \"1998-11-26\", \"1998-12-03\", \"1998-12-10\", \"1998-12-17\", \"1998-12-24\", \"1999-01-01\", \"1999-01-08\", \"1999-01-15\", \"1999-01-22\", \"1999-01-29\", \"1999-02-05\", \"1999-02-12\", \"1999-02-19\", \"1999-02-26\", \"1999-03-05\", \"1999-03-12\", \"1999-03-19\", \"1999-03-26\", \"1999-04-02\", \"1999-04-09\", \"1999-04-16\", \"1999-04-23\", \"1999-04-30\", \"1999-05-07\", \"1999-05-14\", \"1999-05-21\", \"1999-05-28\", \"1999-06-04\", \"1999-06-11\", \"1999-06-18\", \"1999-06-25\", \"1999-07-02\", \"1999-07-09\", \"1999-07-16\", \"1999-07-23\", \"1999-07-30\", \"1999-08-06\", \"1999-08-13\", \"1999-08-20\", \"1999-08-27\", \"1999-09-03\", \"1999-09-10\", \"1999-09-17\", \"1999-09-24\", \"1999-10-01\", \"1999-10-08\", \"1999-10-15\", \"1999-10-22\", \"1999-10-29\", \"1999-11-05\", \"1999-11-12\", \"1999-11-19\", \"1999-11-26\", \"1999-12-03\", \"1999-12-10\", \"1999-12-17\", \"1999-12-24\", \"2000-01-01\", \"2000-01-08\", \"2000-01-15\", \"2000-01-22\", \"2000-01-29\", \"2000-02-05\", \"2000-02-12\", \"2000-02-19\", \"2000-02-26\", \"2000-03-04\", \"2000-03-11\", \"2000-03-18\", \"2000-03-25\", \"2000-04-01\", \"2000-04-08\", \"2000-04-15\", \"2000-04-22\", \"2000-04-29\", \"2000-05-06\", \"2000-05-13\", \"2000-05-20\", \"2000-05-27\", \"2000-06-03\", \"2000-06-10\", \"2000-06-17\", \"2000-06-24\", \"2000-07-01\", \"2000-07-08\", \"2000-07-15\", \"2000-07-22\", \"2000-07-29\", \"2000-08-05\", \"2000-08-12\", \"2000-08-19\", \"2000-08-26\", \"2000-09-02\", \"2000-09-09\", \"2000-09-16\", \"2000-09-23\", \"2000-09-30\", \"2000-10-07\", \"2000-10-14\", \"2000-10-21\", \"2000-10-28\", \"2000-11-04\", \"2000-11-11\", \"2000-11-18\", \"2000-11-25\", \"2000-12-02\", \"2000-12-09\", \"2000-12-16\", \"2000-12-23\", \"2001-01-01\", \"2001-01-08\", \"2001-01-15\", \"2001-01-22\", \"2001-01-29\", \"2001-02-05\", \"2001-02-12\", \"2001-02-19\", \"2001-02-26\", \"2001-03-05\", \"2001-03-12\", \"2001-03-19\", \"2001-03-26\", \"2001-04-02\", \"2001-04-09\", \"2001-04-16\", \"2001-04-23\", \"2001-04-30\", \"2001-05-07\", \"2001-05-14\", \"2001-05-21\", \"2001-05-28\", \"2001-06-04\", \"2001-06-11\", \"2001-06-18\", \"2001-06-25\", \"2001-07-02\", \"2001-07-09\", \"2001-07-16\", \"2001-07-23\", \"2001-07-30\", \"2001-08-06\", \"2001-08-13\", \"2001-08-20\", \"2001-08-27\", \"2001-09-03\", \"2001-09-10\", \"2001-09-17\", \"2001-09-24\", \"2001-10-01\", \"2001-10-08\", \"2001-10-15\", \"2001-10-22\", \"2001-10-29\", \"2001-11-05\", \"2001-11-12\", \"2001-11-19\", \"2001-11-26\", \"2001-12-03\", \"2001-12-10\", \"2001-12-17\", \"2001-12-24\", \"2002-01-01\", \"2002-01-08\", \"2002-01-15\", \"2002-01-22\", \"2002-01-29\", \"2002-02-05\", \"2002-02-12\", \"2002-02-19\", \"2002-02-26\", \"2002-03-05\", \"2002-03-12\", \"2002-03-19\", \"2002-03-26\", \"2002-04-02\", \"2002-04-09\", \"2002-04-16\", \"2002-04-23\", \"2002-04-30\", \"2002-05-07\", \"2002-05-14\", \"2002-05-21\", \"2002-05-28\", \"2002-06-04\", \"2002-06-11\", \"2002-06-18\", \"2002-06-25\", \"2002-07-02\", \"2002-07-09\", \"2002-07-16\", \"2002-07-23\", \"2002-07-30\", \"2002-08-06\", \"2002-08-13\", \"2002-08-20\", \"2002-08-27\", \"2002-09-03\", \"2002-09-10\", \"2002-09-17\", \"2002-09-24\", \"2002-10-01\", \"2002-10-08\", \"2002-10-15\", \"2002-10-22\", \"2002-10-29\", \"2002-11-05\", \"2002-11-12\", \"2002-11-19\", \"2002-11-26\", \"2002-12-03\", \"2002-12-10\", \"2002-12-17\", \"2002-12-24\", \"2003-01-01\", \"2003-01-08\", \"2003-01-15\", \"2003-01-22\", \"2003-01-29\", \"2003-02-05\", \"2003-02-12\", \"2003-02-19\", \"2003-02-26\", \"2003-03-05\", \"2003-03-12\", \"2003-03-19\", \"2003-03-26\", \"2003-04-02\", \"2003-04-09\", \"2003-04-16\", \"2003-04-23\", \"2003-04-30\", \"2003-05-07\", \"2003-05-14\", \"2003-05-21\", \"2003-05-28\", \"2003-06-04\", \"2003-06-11\", \"2003-06-18\", \"2003-06-25\", \"2003-07-02\", \"2003-07-09\", \"2003-07-16\", \"2003-07-23\", \"2003-07-30\", \"2003-08-06\", \"2003-08-13\", \"2003-08-20\", \"2003-08-27\", \"2003-09-03\", \"2003-09-10\", \"2003-09-17\", \"2003-09-24\", \"2003-10-01\", \"2003-10-08\", \"2003-10-15\", \"2003-10-22\", \"2003-10-29\", \"2003-11-05\", \"2003-11-12\", \"2003-11-19\", \"2003-11-26\", \"2003-12-03\", \"2003-12-10\", \"2003-12-17\", \"2003-12-24\", \"2004-01-01\", \"2004-01-08\", \"2004-01-15\", \"2004-01-22\", \"2004-01-29\", \"2004-02-05\", \"2004-02-12\", \"2004-02-19\", \"2004-02-26\", \"2004-03-04\", \"2004-03-11\", \"2004-03-18\", \"2004-03-25\", \"2004-04-01\", \"2004-04-08\", \"2004-04-15\", \"2004-04-22\", \"2004-04-29\", \"2004-05-06\", \"2004-05-13\", \"2004-05-20\", \"2004-05-27\", \"2004-06-03\", \"2004-06-10\", \"2004-06-17\", \"2004-06-24\", \"2004-07-01\", \"2004-07-08\", \"2004-07-15\", \"2004-07-22\", \"2004-07-29\", \"2004-08-05\", \"2004-08-12\", \"2004-08-19\", \"2004-08-26\", \"2004-09-02\", \"2004-09-09\", \"2004-09-16\", \"2004-09-23\", \"2004-09-30\", \"2004-10-07\", \"2004-10-14\", \"2004-10-21\", \"2004-10-28\", \"2004-11-04\", \"2004-11-11\", \"2004-11-18\", \"2004-11-25\", \"2004-12-02\", \"2004-12-09\", \"2004-12-16\", \"2004-12-23\", \"2005-01-01\", \"2005-01-08\", \"2005-01-15\", \"2005-01-22\", \"2005-01-29\", \"2005-02-05\", \"2005-02-12\", \"2005-02-19\", \"2005-02-26\", \"2005-03-05\", \"2005-03-12\", \"2005-03-19\", \"2005-03-26\", \"2005-04-02\", \"2005-04-09\", \"2005-04-16\", \"2005-04-23\", \"2005-04-30\", \"2005-05-07\", \"2005-05-14\", \"2005-05-21\", \"2005-05-28\", \"2005-06-04\", \"2005-06-11\", \"2005-06-18\", \"2005-06-25\", \"2005-07-02\", \"2005-07-09\", \"2005-07-16\", \"2005-07-23\", \"2005-07-30\", \"2005-08-06\", \"2005-08-13\", \"2005-08-20\", \"2005-08-27\", \"2005-09-03\", \"2005-09-10\", \"2005-09-17\", \"2005-09-24\", \"2005-10-01\", \"2005-10-08\", \"2005-10-15\", \"2005-10-22\", \"2005-10-29\", \"2005-11-05\", \"2005-11-12\", \"2005-11-19\", \"2005-11-26\", \"2005-12-03\", \"2005-12-10\", \"2005-12-17\", \"2005-12-24\", \"2006-01-01\", \"2006-01-08\", \"2006-01-15\", \"2006-01-22\", \"2006-01-29\", \"2006-02-05\", \"2006-02-12\", \"2006-02-19\", \"2006-02-26\", \"2006-03-05\", \"2006-03-12\", \"2006-03-19\", \"2006-03-26\", \"2006-04-02\", \"2006-04-09\", \"2006-04-16\", \"2006-04-23\", \"2006-04-30\", \"2006-05-07\", \"2006-05-14\", \"2006-05-21\", \"2006-05-28\", \"2006-06-04\", \"2006-06-11\", \"2006-06-18\", \"2006-06-25\", \"2006-07-02\", \"2006-07-09\", \"2006-07-16\", \"2006-07-23\", \"2006-07-30\", \"2006-08-06\", \"2006-08-13\", \"2006-08-20\", \"2006-08-27\", \"2006-09-03\", \"2006-09-10\", \"2006-09-17\", \"2006-09-24\", \"2006-10-01\", \"2006-10-08\", \"2006-10-15\", \"2006-10-22\", \"2006-10-29\", \"2006-11-05\", \"2006-11-12\", \"2006-11-19\", \"2006-11-26\", \"2006-12-03\", \"2006-12-10\", \"2006-12-17\", \"2006-12-24\", \"2007-01-01\", \"2007-01-08\", \"2007-01-15\", \"2007-01-22\", \"2007-01-29\", \"2007-02-05\", \"2007-02-12\", \"2007-02-19\", \"2007-02-26\", \"2007-03-05\", \"2007-03-12\", \"2007-03-19\", \"2007-03-26\", \"2007-04-02\", \"2007-04-09\", \"2007-04-16\", \"2007-04-23\", \"2007-04-30\", \"2007-05-07\", \"2007-05-14\", \"2007-05-21\", \"2007-05-28\", \"2007-06-04\", \"2007-06-11\", \"2007-06-18\", \"2007-06-25\", \"2007-07-02\", \"2007-07-09\", \"2007-07-16\", \"2007-07-23\", \"2007-07-30\", \"2007-08-06\", \"2007-08-13\", \"2007-08-20\", \"2007-08-27\", \"2007-09-03\", \"2007-09-10\", \"2007-09-17\", \"2007-09-24\", \"2007-10-01\", \"2007-10-08\", \"2007-10-15\", \"2007-10-22\", \"2007-10-29\", \"2007-11-05\", \"2007-11-12\", \"2007-11-19\", \"2007-11-26\", \"2007-12-03\", \"2007-12-10\", \"2007-12-17\", \"2007-12-24\", \"2008-01-01\", \"2008-01-08\", \"2008-01-15\", \"2008-01-22\", \"2008-01-29\", \"2008-02-05\", \"2008-02-12\", \"2008-02-19\", \"2008-02-26\", \"2008-03-04\", \"2008-03-11\", \"2008-03-18\", \"2008-03-25\", \"2008-04-01\", \"2008-04-08\", \"2008-04-15\", \"2008-04-22\"], \"xaxis\": \"x\", \"y\": [25.4428571429, 26.714285714299997, 26.714285714299997, 27.471428571399997, 28.9428571429, 28.1142857143, 27.4142857143, 28.3714285714, 28.3285714286, 28.3285714286, 27.5571428571, 28.1285714286, 28.1142857143, 28.2428571429, 28.2, 28.0428571429, 28.342857142899998, 28.657142857100002, 28.3285714286, 28.6857142857, 28.2428571429, 28.342857142899998, 28.771428571399998, 28.6285714286, 27.6285714286, 26.771428571399998, 27.971428571399997, 28.471428571399997, 27.5428571429, 26.8, 26.2, 25.985714285700002, 24.6857142857, 25.714285714299997, 25.157142857100002, 24.3857142857, 24.9142857143, 25.2428571429, 24.714285714299997, 24.8285714286, 25.0571428571, 25.1428571429, 25.842857142899998, 25.2571428571, 26.014285714299998, 25.9285714286, 26.0857142857, 26.0571428571, 25.2428571429, 25.3, 25.514285714299998, 26.528571428600003, 27.3142857143, 26.9285714286, 26.528571428600003, 27.3857142857, 27.9428571429, 28.0714285714, 28.228571428600002, 28.9285714286, 27.9142857143, 28.3714285714, 28.4142857143, 28.8, 28.0, 28.5714285714, 28.5, 29.4285714286, 29.271428571399998, 28.157142857100002, 28.9428571429, 28.971428571399997, 28.9142857143, 28.1428571429, 27.7428571429, 27.657142857100002, 28.5428571429, 27.8285714286, 28.1142857143, 27.1857142857, 26.657142857100002, 26.3142857143, 26.271428571399998, 26.728571428600002, 25.6142857143, 25.0, 24.3571428571, null, 25.657142857100002, 25.471428571399997, 24.8571428571, 24.8, 24.714285714299997, 26.028571428600003, 25.7571428571, 25.285714285700003, 25.657142857100002, 25.785714285700003, 26.1, 26.2, 26.228571428600002, 26.985714285700002, 26.8142857143, 26.6714285714, 27.3714285714, 26.785714285700003, 27.4428571429, 27.8571428571, 27.4285714286, 27.5, 28.2, 28.285714285700003, 28.485714285700002, 29.228571428600002, 28.728571428600002, 27.6285714286, 27.5571428571, 27.971428571399997, 28.0714285714, 27.6714285714, 28.214285714299997, 28.271428571399998, 28.728571428600002, 28.028571428600003, 28.1428571429, 27.5571428571, 27.971428571399997, 28.8857142857, 29.157142857100002, 28.657142857100002, 28.6714285714, 28.3857142857, 27.5428571429, 26.6857142857, 27.4, 26.6285714286, 26.9142857143, 26.6857142857, 25.9142857143, null, 25.8714285714, 24.5, 24.8571428571, 24.4, 26.6714285714, 25.4285714286, 26.271428571399998, 25.7, 25.5714285714, 24.9, 26.9285714286, 26.1428571429, 26.8857142857, 27.2, 27.0714285714, 25.8714285714, 27.485714285700002, 26.9428571429, 26.471428571399997, 28.228571428600002, 28.9428571429, 27.6428571429, 29.9, 27.728571428600002, 27.342857142899998, 28.842857142899998, 28.2428571429, 27.8857142857, 28.5, 27.9428571429, 29.028571428600003, 29.028571428600003, 29.4142857143, 28.971428571399997, 28.657142857100002, 28.4285714286, 28.6, 28.157142857100002, 28.285714285700003, 28.014285714299998, 28.4, 28.2, 28.0714285714, 27.9, 27.6428571429, 27.1714285714, 26.8857142857, 26.785714285700003, 26.528571428600003, 26.228571428600002, 26.0428571429, 26.971428571399997, 25.5, 25.4571428571, 25.0857142857, 25.3285714286, 25.785714285700003, 25.2571428571, 25.7, 25.7428571429, 25.3142857143, 25.8857142857, 25.842857142899998, 26.728571428600002, 26.7, 26.4285714286, 25.971428571399997, 25.971428571399997, 26.6714285714, 27.7571428571, 27.4142857143, 27.714285714299997, 29.1, 28.5714285714, 28.228571428600002, 28.3285714286, 28.0714285714, 28.4, 27.9285714286, 28.1714285714, 28.2571428571, 28.514285714299998, 28.2571428571, 28.3857142857, 28.514285714299998, 28.5714285714, 29.4285714286, 29.285714285700003, 28.5571428571, 28.3714285714, 28.014285714299998, 28.714285714299997, 28.3285714286, 28.5714285714, 27.6714285714, 28.157142857100002, 27.3142857143, 27.285714285700003, 27.8571428571, 26.8857142857, 26.3714285714, 26.5857142857, 26.6428571429, 27.3142857143, 25.7, 25.771428571399998, 24.7571428571, 26.1285714286, 25.5, 26.0857142857, 26.6285714286, 25.9285714286, 25.2428571429, 25.5, 25.2571428571, 24.6285714286, 25.2428571429, 25.971428571399997, 27.285714285700003, 26.657142857100002, 26.3285714286, 27.842857142899998, 27.771428571399998, 26.9142857143, 27.228571428600002, 27.7, 27.3, 27.771428571399998, 28.842857142899998, 29.214285714299997, 29.657142857100002, 29.285714285700003, 29.228571428600002, 28.5571428571, 28.7, 29.0, 30.0714285714, 28.4285714286, 29.1142857143, 29.5714285714, 29.3714285714, 29.5857142857, 29.9571428571, 28.0571428571, 28.3857142857, 27.842857142899998, 27.471428571399997, 28.0428571429, 27.228571428600002, 27.157142857100002, 27.3142857143, 27.2, 27.014285714299998, 26.6142857143, 25.714285714299997, 25.1857142857, 26.2571428571, 25.971428571399997, 25.5857142857, 24.785714285700003, 25.157142857100002, 25.3142857143, 25.971428571399997, 25.5571428571, 25.5714285714, 26.2428571429, 26.2, 26.4, 25.9285714286, 26.228571428600002, 26.1285714286, 26.1285714286, 26.014285714299998, 25.4428571429, 25.842857142899998, 26.728571428600002, 28.1142857143, 27.8142857143, 26.9428571429, 26.4428571429, 27.6857142857, 27.9428571429, 28.014285714299998, 27.271428571399998, 27.514285714299998, 27.1714285714, 27.6714285714, 28.014285714299998, 26.785714285700003, 27.7571428571, 28.485714285700002, 27.9428571429, 27.0428571429, 27.8714285714, 27.4142857143, 27.285714285700003, 27.5714285714, 29.0428571429, 27.0428571429, 26.842857142899998, 26.157142857100002, 25.8714285714, 25.6142857143, 25.014285714299998, 24.8, 24.9571428571, 24.514285714299998, 26.6285714286, 24.6714285714, 24.3857142857, 24.9, 24.6285714286, 23.7, 24.5714285714, 24.6857142857, 24.471428571399997, 24.5714285714, 24.3571428571, 24.7428571429, 25.3142857143, 25.0857142857, 25.3571428571, 25.9, 27.6714285714, 27.771428571399998, 27.9285714286, 27.5714285714, 27.5857142857, 27.3142857143, 27.271428571399998, 28.6, 29.014285714299998, 28.657142857100002, 28.4142857143, 29.014285714299998, 28.6142857143, 27.9, 27.8285714286, 28.6428571429, 28.285714285700003, 28.4142857143, 27.985714285700002, 28.728571428600002, 28.9571428571, 28.9, 28.4, 27.5857142857, 28.5, 27.3571428571, 27.7, 28.3857142857, 27.7428571429, 27.342857142899998, 27.3285714286, 27.2571428571, 26.6714285714, 26.7571428571, 26.5714285714, 26.714285714299997, null, 26.3571428571, 24.8857142857, 25.6142857143, 26.5428571429, 26.5857142857, 27.2571428571, 24.4142857143, 26.271428571399998, 25.6142857143, 25.8142857143, 24.8857142857, 26.228571428600002, 25.714285714299997, 26.028571428600003, 26.9285714286, 25.6, 26.8714285714, 26.785714285700003, 27.1428571429, 27.9142857143, 27.971428571399997, 27.8571428571, 28.4285714286, 28.1, 28.214285714299997, 28.6142857143, 28.3857142857, 28.3857142857, 27.5571428571, 28.271428571399998, 28.4571428571, 29.0714285714, 29.214285714299997, 28.0428571429, 28.7571428571, 28.3285714286, 28.728571428600002, 27.771428571399998, 27.9142857143, 28.2571428571, 27.7571428571, 28.157142857100002, 27.714285714299997, 27.4285714286, 27.785714285700003, 26.728571428600002, 26.5571428571, 25.6428571429, 25.8142857143, 26.0714285714, 25.9285714286, null, 25.5714285714, 25.0714285714, 24.985714285700002, 24.8857142857, 24.1714285714, 23.4, 24.3285714286, 24.0428571429, 25.0, 24.9571428571, 24.8857142857, 25.6714285714, 25.7428571429, 25.6142857143, 25.3857142857, 26.9142857143, 26.6857142857, 28.228571428600002, 26.9571428571, 27.8285714286, 28.3857142857, 28.4142857143, 27.9142857143, 27.7, 27.214285714299997, 28.4428571429, 27.4, 27.271428571399998, 26.7, 28.1, 28.3714285714, 28.0857142857, 28.3714285714, 27.8571428571, 28.1857142857, 28.3, 28.4142857143, 28.4571428571, 28.714285714299997, 28.0, 27.1714285714, 26.7571428571, 27.6714285714, 27.4428571429, 26.8857142857, 26.714285714299997, 26.6, 26.1, 24.9285714286, 24.9428571429, 24.842857142899998, 25.471428571399997, 25.1285714286, 25.1142857143, 23.6142857143, 22.842857142899998, 25.1714285714, 24.9285714286, 25.2, 24.771428571399998, 24.528571428600003, 24.0, 25.0714285714, 24.8, 24.4, 25.5857142857, 25.971428571399997, 25.8, 26.9285714286, 27.1428571429, 26.6428571429, 26.6, 26.8142857143, 27.5571428571, 27.8571428571, 27.985714285700002, 27.4285714286, 27.771428571399998, 27.971428571399997, 28.271428571399998, 28.528571428600003, 28.3285714286, 28.214285714299997, 28.271428571399998, 28.6142857143, 28.728571428600002, 27.1857142857, 27.985714285700002, 28.1857142857, 27.7571428571, 27.528571428600003, 27.771428571399998, 27.8, 28.0571428571, 27.1428571429, 27.5428571429, 25.8714285714, 26.3285714286, 26.8714285714, 26.3, 26.8142857143, 25.9142857143, 25.3857142857, 25.1285714286, 25.3142857143, 25.0714285714, 24.9571428571, 25.2428571429, 25.0, 25.342857142899998, 24.7571428571, 24.8142857143, 24.7, 26.7, 26.3285714286, 26.0428571429, 27.0857142857, 26.271428571399998, 26.7, 27.2, 26.7571428571, 27.485714285700002, 27.8571428571, 28.8285714286, 28.471428571399997, 28.0714285714, 28.514285714299998, 27.728571428600002, 28.6285714286, 28.228571428600002, 28.342857142899998, 28.1142857143, 28.5857142857, 28.0571428571, 27.9285714286, 28.6428571429, 28.971428571399997, 28.271428571399998, 27.9, 28.3714285714, 28.0857142857, 27.971428571399997, 29.228571428600002, 28.4, 26.8571428571, 27.9142857143, 27.9428571429, 26.728571428600002, 26.5857142857, 26.528571428600003, 26.342857142899998, 25.285714285700003, 26.3142857143, 25.6, 25.6714285714, 25.528571428600003, 25.4571428571, 25.3285714286, 26.214285714299997, 25.657142857100002, 24.971428571399997, 25.4142857143, 25.785714285700003, 25.2, 25.4571428571, 25.842857142899998, 25.785714285700003, 26.7571428571, 26.228571428600002, 27.1142857143, 25.4571428571, 25.7, 26.4571428571, 26.4428571429, 26.1428571429, 27.714285714299997, 28.1714285714, 28.4428571429, 28.4571428571, 28.528571428600003, 27.5857142857, 28.342857142899998, 28.157142857100002, 28.285714285700003, 28.228571428600002, 28.485714285700002, 28.471428571399997, 28.7428571429, 28.0, 28.6428571429, 27.5, 29.157142857100002, 28.657142857100002, 28.2, 27.771428571399998, 27.9428571429, 27.5428571429, 27.985714285700002, 27.5428571429, 27.3857142857, 27.3142857143, 27.214285714299997, 26.985714285700002, 26.4285714286, 26.0714285714, 25.9285714286, 25.7, 25.0571428571, 25.4571428571, 25.728571428600002, 25.6857142857, 25.3285714286, 25.2, 25.4, 25.5857142857, 25.6285714286, 25.285714285700003, 26.5428571429, 26.4571428571, 26.9285714286, 26.7, 26.4, 26.4285714286, 25.3571428571, 26.9285714286, 27.6428571429, 26.9, 27.0571428571, 27.7571428571, 27.971428571399997, 27.4, 27.471428571399997, 28.028571428600003, 28.6428571429, 28.0428571429, 27.471428571399997, 28.1428571429, 27.8714285714, 28.0714285714, 27.9285714286, 28.1428571429, 27.9142857143, 27.6857142857, 28.728571428600002, 28.8714285714, 28.0428571429, 28.6, 28.1, 27.1285714286, 28.028571428600003, 27.8, 27.3714285714, 27.157142857100002, 26.3, 25.971428571399997, 26.1857142857, 25.6428571429, 25.842857142899998, 26.014285714299998, null, 24.3857142857, 24.342857142899998, 24.528571428600003, 24.6285714286, 24.985714285700002, 24.8857142857, 25.2, 24.1857142857, 25.157142857100002, 25.4285714286, 25.9142857143, 25.5571428571, 24.7, 25.4, 25.9571428571, 25.842857142899998, 26.157142857100002, 26.271428571399998, 26.728571428600002, 26.0428571429, 24.8142857143, 27.9571428571, 28.0428571429, 28.3285714286, 28.228571428600002, 28.342857142899998, 27.8285714286, 28.2428571429, 28.014285714299998, 28.0428571429, 28.528571428600003, 28.9428571429, 29.0, 29.0571428571, 28.6142857143, 28.985714285700002, 28.6428571429, 27.228571428600002, 29.1428571429, 28.285714285700003, 28.1285714286, 28.285714285700003, 27.5, 27.0571428571, 27.2428571429, 26.3285714286, 26.3285714286, 25.6428571429, 25.157142857100002, 26.271428571399998, 26.2428571429, null, 24.985714285700002, 25.2, 25.228571428600002, 23.7571428571, 23.714285714299997, 23.3142857143, 23.4142857143, 24.485714285700002, 25.028571428600003, 26.014285714299998, 25.842857142899998, 26.4, 27.485714285700002, 27.3, 27.4, 28.1714285714, 26.785714285700003, 27.3714285714, 27.3, 26.271428571399998, 28.3857142857, 28.842857142899998, 28.728571428600002, 27.514285714299998, 30.028571428600003, 29.0428571429, 29.028571428600003, 28.4428571429, 28.3857142857, 28.9285714286, 28.9428571429, 29.471428571399997, 29.3285714286, 27.9285714286, 28.0857142857, 28.8571428571, 29.2428571429, 28.5857142857, 28.6285714286, 28.014285714299998, 27.014285714299998, 28.0428571429, 27.971428571399997, 27.9571428571, 27.8714285714, 27.157142857100002, 26.528571428600003, 26.228571428600002, 24.985714285700002, 25.4571428571, 24.6285714286, 25.8857142857, 24.657142857100002, 24.0571428571, 24.714285714299997, 24.285714285700003, 23.4142857143, 23.9142857143, 24.7428571429, 24.8571428571, 25.3, 25.528571428600003, 25.514285714299998, 25.6857142857, 26.657142857100002, 25.4285714286, 25.8571428571, 26.6857142857, 26.3142857143, 26.5, 25.9428571429, 27.8142857143, 29.028571428600003, 28.5857142857, 28.9142857143, 28.9428571429, 28.0714285714, 27.8714285714, 27.9428571429, 27.842857142899998, 27.485714285700002, 28.6, 27.8285714286, 27.4428571429, 28.6428571429, 27.985714285700002, 28.1285714286, 28.5428571429, 28.528571428600003, 28.8285714286, 28.9571428571, 28.8571428571, 28.7, 28.3571428571, 28.1142857143, 28.5, 27.985714285700002, 27.1857142857, 27.0428571429, 27.4142857143, 25.9428571429, 26.528571428600003, 25.9285714286, 25.3571428571, 25.0857142857, 24.971428571399997, 25.0, 25.0857142857, 25.6, 26.157142857100002, 26.4142857143, 25.6285714286, 26.5571428571, 26.714285714299997, 26.8571428571, 27.1285714286, 25.6, 26.3857142857, 27.728571428600002, 26.8714285714, 26.214285714299997, 27.3285714286, 29.0, 28.7571428571, 28.4571428571, 29.2, 28.5428571429, 29.014285714299998, 29.271428571399998, 28.842857142899998, 28.8714285714, 28.5714285714, 28.5714285714, 28.6285714286, 28.6142857143, 28.3857142857, 28.4571428571, 28.3857142857, 28.3142857143, 28.8714285714, 28.3, 28.1714285714, 27.985714285700002, 28.1285714286, 29.1, 27.9571428571, 26.2, 27.4428571429, 26.8142857143, 26.9, 25.4428571429, 25.842857142899998, 25.771428571399998, 25.0714285714, 25.0857142857, 25.4, 24.971428571399997, 24.4285714286, 24.528571428600003, 24.5714285714, 24.214285714299997, 24.8, 24.9, 24.7428571429, 25.1142857143, 25.3285714286, 25.2, 25.0428571429, 26.2428571429, 25.0, 25.3142857143, 27.0428571429], \"yaxis\": \"y\"}],\n",
              "                        {\"autosize\": false, \"height\": 600, \"template\": {\"data\": {\"bar\": [{\"error_x\": {\"color\": \"#2a3f5f\"}, \"error_y\": {\"color\": \"#2a3f5f\"}, \"marker\": {\"line\": {\"color\": \"#E5ECF6\", \"width\": 0.5}}, \"type\": \"bar\"}], \"barpolar\": [{\"marker\": {\"line\": {\"color\": \"#E5ECF6\", \"width\": 0.5}}, \"type\": \"barpolar\"}], \"carpet\": [{\"aaxis\": {\"endlinecolor\": \"#2a3f5f\", \"gridcolor\": \"white\", \"linecolor\": \"white\", \"minorgridcolor\": \"white\", \"startlinecolor\": \"#2a3f5f\"}, \"baxis\": {\"endlinecolor\": \"#2a3f5f\", \"gridcolor\": \"white\", \"linecolor\": \"white\", \"minorgridcolor\": \"white\", \"startlinecolor\": \"#2a3f5f\"}, \"type\": \"carpet\"}], \"choropleth\": [{\"colorbar\": {\"outlinewidth\": 0, \"ticks\": \"\"}, \"type\": \"choropleth\"}], \"contour\": [{\"colorbar\": {\"outlinewidth\": 0, \"ticks\": \"\"}, \"colorscale\": [[0.0, \"#0d0887\"], [0.1111111111111111, \"#46039f\"], [0.2222222222222222, \"#7201a8\"], [0.3333333333333333, \"#9c179e\"], [0.4444444444444444, \"#bd3786\"], [0.5555555555555556, \"#d8576b\"], [0.6666666666666666, \"#ed7953\"], [0.7777777777777778, \"#fb9f3a\"], [0.8888888888888888, \"#fdca26\"], [1.0, \"#f0f921\"]], \"type\": \"contour\"}], \"contourcarpet\": [{\"colorbar\": {\"outlinewidth\": 0, \"ticks\": \"\"}, \"type\": \"contourcarpet\"}], \"heatmap\": [{\"colorbar\": {\"outlinewidth\": 0, \"ticks\": \"\"}, \"colorscale\": [[0.0, \"#0d0887\"], [0.1111111111111111, \"#46039f\"], [0.2222222222222222, \"#7201a8\"], [0.3333333333333333, \"#9c179e\"], [0.4444444444444444, \"#bd3786\"], [0.5555555555555556, \"#d8576b\"], [0.6666666666666666, \"#ed7953\"], [0.7777777777777778, \"#fb9f3a\"], [0.8888888888888888, \"#fdca26\"], [1.0, \"#f0f921\"]], \"type\": \"heatmap\"}], \"heatmapgl\": [{\"colorbar\": {\"outlinewidth\": 0, \"ticks\": \"\"}, \"colorscale\": [[0.0, \"#0d0887\"], [0.1111111111111111, \"#46039f\"], [0.2222222222222222, \"#7201a8\"], [0.3333333333333333, \"#9c179e\"], [0.4444444444444444, \"#bd3786\"], [0.5555555555555556, \"#d8576b\"], [0.6666666666666666, \"#ed7953\"], [0.7777777777777778, \"#fb9f3a\"], [0.8888888888888888, \"#fdca26\"], [1.0, \"#f0f921\"]], \"type\": \"heatmapgl\"}], \"histogram\": [{\"marker\": {\"colorbar\": {\"outlinewidth\": 0, \"ticks\": \"\"}}, \"type\": \"histogram\"}], \"histogram2d\": [{\"colorbar\": {\"outlinewidth\": 0, \"ticks\": \"\"}, \"colorscale\": [[0.0, \"#0d0887\"], [0.1111111111111111, \"#46039f\"], [0.2222222222222222, \"#7201a8\"], [0.3333333333333333, \"#9c179e\"], [0.4444444444444444, \"#bd3786\"], [0.5555555555555556, \"#d8576b\"], [0.6666666666666666, \"#ed7953\"], [0.7777777777777778, \"#fb9f3a\"], [0.8888888888888888, \"#fdca26\"], [1.0, \"#f0f921\"]], \"type\": \"histogram2d\"}], \"histogram2dcontour\": [{\"colorbar\": {\"outlinewidth\": 0, \"ticks\": \"\"}, \"colorscale\": [[0.0, \"#0d0887\"], [0.1111111111111111, \"#46039f\"], [0.2222222222222222, \"#7201a8\"], [0.3333333333333333, \"#9c179e\"], [0.4444444444444444, \"#bd3786\"], [0.5555555555555556, \"#d8576b\"], [0.6666666666666666, \"#ed7953\"], [0.7777777777777778, \"#fb9f3a\"], [0.8888888888888888, \"#fdca26\"], [1.0, \"#f0f921\"]], \"type\": \"histogram2dcontour\"}], \"mesh3d\": [{\"colorbar\": {\"outlinewidth\": 0, \"ticks\": \"\"}, \"type\": \"mesh3d\"}], \"parcoords\": [{\"line\": {\"colorbar\": {\"outlinewidth\": 0, \"ticks\": \"\"}}, \"type\": \"parcoords\"}], \"pie\": [{\"automargin\": true, \"type\": \"pie\"}], \"scatter\": [{\"marker\": {\"colorbar\": {\"outlinewidth\": 0, \"ticks\": \"\"}}, \"type\": \"scatter\"}], \"scatter3d\": [{\"line\": {\"colorbar\": {\"outlinewidth\": 0, \"ticks\": \"\"}}, \"marker\": {\"colorbar\": {\"outlinewidth\": 0, \"ticks\": \"\"}}, \"type\": \"scatter3d\"}], \"scattercarpet\": [{\"marker\": {\"colorbar\": {\"outlinewidth\": 0, \"ticks\": \"\"}}, \"type\": \"scattercarpet\"}], \"scattergeo\": [{\"marker\": {\"colorbar\": {\"outlinewidth\": 0, \"ticks\": \"\"}}, \"type\": \"scattergeo\"}], \"scattergl\": [{\"marker\": {\"colorbar\": {\"outlinewidth\": 0, \"ticks\": \"\"}}, \"type\": \"scattergl\"}], \"scattermapbox\": [{\"marker\": {\"colorbar\": {\"outlinewidth\": 0, \"ticks\": \"\"}}, \"type\": \"scattermapbox\"}], \"scatterpolar\": [{\"marker\": {\"colorbar\": {\"outlinewidth\": 0, \"ticks\": \"\"}}, \"type\": \"scatterpolar\"}], \"scatterpolargl\": [{\"marker\": {\"colorbar\": {\"outlinewidth\": 0, \"ticks\": \"\"}}, \"type\": \"scatterpolargl\"}], \"scatterternary\": [{\"marker\": {\"colorbar\": {\"outlinewidth\": 0, \"ticks\": \"\"}}, \"type\": \"scatterternary\"}], \"surface\": [{\"colorbar\": {\"outlinewidth\": 0, \"ticks\": \"\"}, \"colorscale\": [[0.0, \"#0d0887\"], [0.1111111111111111, \"#46039f\"], [0.2222222222222222, \"#7201a8\"], [0.3333333333333333, \"#9c179e\"], [0.4444444444444444, \"#bd3786\"], [0.5555555555555556, \"#d8576b\"], [0.6666666666666666, \"#ed7953\"], [0.7777777777777778, \"#fb9f3a\"], [0.8888888888888888, \"#fdca26\"], [1.0, \"#f0f921\"]], \"type\": \"surface\"}], \"table\": [{\"cells\": {\"fill\": {\"color\": \"#EBF0F8\"}, \"line\": {\"color\": \"white\"}}, \"header\": {\"fill\": {\"color\": \"#C8D4E3\"}, \"line\": {\"color\": \"white\"}}, \"type\": \"table\"}]}, \"layout\": {\"annotationdefaults\": {\"arrowcolor\": \"#2a3f5f\", \"arrowhead\": 0, \"arrowwidth\": 1}, \"coloraxis\": {\"colorbar\": {\"outlinewidth\": 0, \"ticks\": \"\"}}, \"colorscale\": {\"diverging\": [[0, \"#8e0152\"], [0.1, \"#c51b7d\"], [0.2, \"#de77ae\"], [0.3, \"#f1b6da\"], [0.4, \"#fde0ef\"], [0.5, \"#f7f7f7\"], [0.6, \"#e6f5d0\"], [0.7, \"#b8e186\"], [0.8, \"#7fbc41\"], [0.9, \"#4d9221\"], [1, \"#276419\"]], \"sequential\": [[0.0, \"#0d0887\"], [0.1111111111111111, \"#46039f\"], [0.2222222222222222, \"#7201a8\"], [0.3333333333333333, \"#9c179e\"], [0.4444444444444444, \"#bd3786\"], [0.5555555555555556, \"#d8576b\"], [0.6666666666666666, \"#ed7953\"], [0.7777777777777778, \"#fb9f3a\"], [0.8888888888888888, \"#fdca26\"], [1.0, \"#f0f921\"]], \"sequentialminus\": [[0.0, \"#0d0887\"], [0.1111111111111111, \"#46039f\"], [0.2222222222222222, \"#7201a8\"], [0.3333333333333333, \"#9c179e\"], [0.4444444444444444, \"#bd3786\"], [0.5555555555555556, \"#d8576b\"], [0.6666666666666666, \"#ed7953\"], [0.7777777777777778, \"#fb9f3a\"], [0.8888888888888888, \"#fdca26\"], [1.0, \"#f0f921\"]]}, \"colorway\": [\"#636efa\", \"#EF553B\", \"#00cc96\", \"#ab63fa\", \"#FFA15A\", \"#19d3f3\", \"#FF6692\", \"#B6E880\", \"#FF97FF\", \"#FECB52\"], \"font\": {\"color\": \"#2a3f5f\"}, \"geo\": {\"bgcolor\": \"white\", \"lakecolor\": \"white\", \"landcolor\": \"#E5ECF6\", \"showlakes\": true, \"showland\": true, \"subunitcolor\": \"white\"}, \"hoverlabel\": {\"align\": \"left\"}, \"hovermode\": \"closest\", \"mapbox\": {\"style\": \"light\"}, \"paper_bgcolor\": \"white\", \"plot_bgcolor\": \"#E5ECF6\", \"polar\": {\"angularaxis\": {\"gridcolor\": \"white\", \"linecolor\": \"white\", \"ticks\": \"\"}, \"bgcolor\": \"#E5ECF6\", \"radialaxis\": {\"gridcolor\": \"white\", \"linecolor\": \"white\", \"ticks\": \"\"}}, \"scene\": {\"xaxis\": {\"backgroundcolor\": \"#E5ECF6\", \"gridcolor\": \"white\", \"gridwidth\": 2, \"linecolor\": \"white\", \"showbackground\": true, \"ticks\": \"\", \"zerolinecolor\": \"white\"}, \"yaxis\": {\"backgroundcolor\": \"#E5ECF6\", \"gridcolor\": \"white\", \"gridwidth\": 2, \"linecolor\": \"white\", \"showbackground\": true, \"ticks\": \"\", \"zerolinecolor\": \"white\"}, \"zaxis\": {\"backgroundcolor\": \"#E5ECF6\", \"gridcolor\": \"white\", \"gridwidth\": 2, \"linecolor\": \"white\", \"showbackground\": true, \"ticks\": \"\", \"zerolinecolor\": \"white\"}}, \"shapedefaults\": {\"line\": {\"color\": \"#2a3f5f\"}}, \"ternary\": {\"aaxis\": {\"gridcolor\": \"white\", \"linecolor\": \"white\", \"ticks\": \"\"}, \"baxis\": {\"gridcolor\": \"white\", \"linecolor\": \"white\", \"ticks\": \"\"}, \"bgcolor\": \"#E5ECF6\", \"caxis\": {\"gridcolor\": \"white\", \"linecolor\": \"white\", \"ticks\": \"\"}}, \"title\": {\"x\": 0.05}, \"xaxis\": {\"automargin\": true, \"gridcolor\": \"white\", \"linecolor\": \"white\", \"ticks\": \"\", \"title\": {\"standoff\": 15}, \"zerolinecolor\": \"white\", \"zerolinewidth\": 2}, \"yaxis\": {\"automargin\": true, \"gridcolor\": \"white\", \"linecolor\": \"white\", \"ticks\": \"\", \"title\": {\"standoff\": 15}, \"zerolinecolor\": \"white\", \"zerolinewidth\": 2}}}, \"title\": {\"text\": \"Adatok\"}, \"width\": 1200, \"xaxis\": {\"anchor\": \"y\", \"domain\": [0.0, 1.0]}, \"yaxis\": {\"anchor\": \"x\", \"domain\": [0.0, 1.0]}},\n",
              "                        {\"responsive\": true}\n",
              "                    ).then(function(){\n",
              "                            \n",
              "var gd = document.getElementById('9a2d5162-4f51-4a4d-8ada-09df52ac9646');\n",
              "var x = new MutationObserver(function (mutations, observer) {{\n",
              "        var display = window.getComputedStyle(gd).display;\n",
              "        if (!display || display === 'none') {{\n",
              "            console.log([gd, 'removed!']);\n",
              "            Plotly.purge(gd);\n",
              "            observer.disconnect();\n",
              "        }}\n",
              "}});\n",
              "\n",
              "// Listen for the removal of the full notebook cells\n",
              "var notebookContainer = gd.closest('#notebook-container');\n",
              "if (notebookContainer) {{\n",
              "    x.observe(notebookContainer, {childList: true});\n",
              "}}\n",
              "\n",
              "// Listen for the clearing of the current output cell\n",
              "var outputEl = gd.closest('.output');\n",
              "if (outputEl) {{\n",
              "    x.observe(outputEl, {childList: true});\n",
              "}}\n",
              "\n",
              "                        })\n",
              "                };\n",
              "                \n",
              "            </script>\n",
              "        </div>\n",
              "</body>\n",
              "</html>"
            ]
          },
          "metadata": {
            "tags": []
          }
        }
      ]
    },
    {
      "cell_type": "code",
      "metadata": {
        "id": "w1VRyWOFkoUg"
      },
      "source": [
        "import matplotlib.pyplot as plt\n",
        "from matplotlib.pyplot import figure\n",
        "\n",
        "\n",
        "from statsmodels.tsa.seasonal import  seasonal_decompose\n",
        "\n",
        "import matplotlib as mpl"
      ],
      "execution_count": 60,
      "outputs": []
    },
    {
      "cell_type": "code",
      "metadata": {
        "id": "IORDwbKrisCg",
        "colab": {
          "base_uri": "https://localhost:8080/",
          "height": 542
        },
        "outputId": "02265731-06db-46ab-a1a3-51695e686d0a"
      },
      "source": [
        "import plotly.express as px\n",
        "from plotly.subplots import make_subplots\n",
        "import plotly.graph_objects as go\n",
        "\n",
        "df=X_train_sj\n",
        "\n",
        "data1 = seasonal_decompose(df[\"total_cases\"][0:-1].values,model=\"additive\", freq=51,) # 5 percenként vannak a minták\n",
        "  \n",
        "\n",
        "fig2 = make_subplots(rows=4, cols=1,shared_xaxes=True)\n",
        "fig2.add_trace(\n",
        "    go.Scatter(x=df.index[0:-1], y=data1.resid,name=\"Residual\" ),\n",
        "\n",
        "    row=1, col=1\n",
        ")\n",
        "fig2.add_trace(\n",
        "    go.Scatter( x=df.index[0:-1], y=data1.trend,name=\"Trend\"),\n",
        "\n",
        "    row=2, col=1\n",
        ")\n",
        "fig2.add_trace(\n",
        "    go.Scatter( x=df.index[0:-1], y=data1.seasonal,name=\"Seasonal\"),\n",
        "\n",
        "    row=3, col=1\n",
        ")\n",
        "\n",
        "fig2.add_trace(\n",
        "    go.Scatter( x=df.index[0:-1], y=data1.observed,name=\"Observed\"),\n",
        "\n",
        "    row=4, col=1\n",
        ")\n",
        "\n",
        "fig2.update_layout(\n",
        "    font_family=\"Courier New\",\n",
        "    font_color=\"blue\",\n",
        "    title_font_family=\"Times New Roman\",\n",
        "    title_font_color=\"red\",\n",
        ")\n",
        "\n",
        "fig2.show()\n",
        "\n"
      ],
      "execution_count": 61,
      "outputs": [
        {
          "output_type": "display_data",
          "data": {
            "text/html": [
              "<html>\n",
              "<head><meta charset=\"utf-8\" /></head>\n",
              "<body>\n",
              "    <div>\n",
              "            <script src=\"https://cdnjs.cloudflare.com/ajax/libs/mathjax/2.7.5/MathJax.js?config=TeX-AMS-MML_SVG\"></script><script type=\"text/javascript\">if (window.MathJax) {MathJax.Hub.Config({SVG: {font: \"STIX-Web\"}});}</script>\n",
              "                <script type=\"text/javascript\">window.PlotlyConfig = {MathJaxConfig: 'local'};</script>\n",
              "        <script src=\"https://cdn.plot.ly/plotly-latest.min.js\"></script>    \n",
              "            <div id=\"04398646-dd8b-4326-8448-fb6ca712a81d\" class=\"plotly-graph-div\" style=\"height:525px; width:100%;\"></div>\n",
              "            <script type=\"text/javascript\">\n",
              "                \n",
              "                    window.PLOTLYENV=window.PLOTLYENV || {};\n",
              "                    \n",
              "                if (document.getElementById(\"04398646-dd8b-4326-8448-fb6ca712a81d\")) {\n",
              "                    Plotly.newPlot(\n",
              "                        '04398646-dd8b-4326-8448-fb6ca712a81d',\n",
              "                        [{\"name\": \"Residual\", \"type\": \"scatter\", \"x\": [0, 1, 2, 3, 4, 5, 6, 7, 8, 9, 10, 11, 12, 13, 14, 15, 16, 17, 18, 19, 20, 21, 22, 23, 24, 25, 26, 27, 28, 29, 30, 31, 32, 33, 34, 35, 36, 37, 38, 39, 40, 41, 42, 43, 44, 45, 46, 47, 48, 49, 50, 51, 52, 53, 54, 55, 56, 57, 58, 59, 60, 61, 62, 63, 64, 65, 66, 67, 68, 69, 70, 71, 72, 73, 74, 75, 76, 77, 78, 79, 80, 81, 82, 83, 84, 85, 86, 87, 88, 89, 90, 91, 92, 93, 94, 95, 96, 97, 98, 99, 100, 101, 102, 103, 104, 105, 106, 107, 108, 109, 110, 111, 112, 113, 114, 115, 116, 117, 118, 119, 120, 121, 122, 123, 124, 125, 126, 127, 128, 129, 130, 131, 132, 133, 134, 135, 136, 137, 138, 139, 140, 141, 142, 143, 144, 145, 146, 147, 148, 149, 150, 151, 152, 153, 154, 155, 156, 157, 158, 159, 160, 161, 162, 163, 164, 165, 166, 167, 168, 169, 170, 171, 172, 173, 174, 175, 176, 177, 178, 179, 180, 181, 182, 183, 184, 185, 186, 187, 188, 189, 190, 191, 192, 193, 194, 195, 196, 197, 198, 199, 200, 201, 202, 203, 204, 205, 206, 207, 208, 209, 210, 211, 212, 213, 214, 215, 216, 217, 218, 219, 220, 221, 222, 223, 224, 225, 226, 227, 228, 229, 230, 231, 232, 233, 234, 235, 236, 237, 238, 239, 240, 241, 242, 243, 244, 245, 246, 247, 248, 249, 250, 251, 252, 253, 254, 255, 256, 257, 258, 259, 260, 261, 262, 263, 264, 265, 266, 267, 268, 269, 270, 271, 272, 273, 274, 275, 276, 277, 278, 279, 280, 281, 282, 283, 284, 285, 286, 287, 288, 289, 290, 291, 292, 293, 294, 295, 296, 297, 298, 299, 300, 301, 302, 303, 304, 305, 306, 307, 308, 309, 310, 311, 312, 313, 314, 315, 316, 317, 318, 319, 320, 321, 322, 323, 324, 325, 326, 327, 328, 329, 330, 331, 332, 333, 334, 335, 336, 337, 338, 339, 340, 341, 342, 343, 344, 345, 346, 347, 348, 349, 350, 351, 352, 353, 354, 355, 356, 357, 358, 359, 360, 361, 362, 363, 364, 365, 366, 367, 368, 369, 370, 371, 372, 373, 374, 375, 376, 377, 378, 379, 380, 381, 382, 383, 384, 385, 386, 387, 388, 389, 390, 391, 392, 393, 394, 395, 396, 397, 398, 399, 400, 401, 402, 403, 404, 405, 406, 407, 408, 409, 410, 411, 412, 413, 414, 415, 416, 417, 418, 419, 420, 421, 422, 423, 424, 425, 426, 427, 428, 429, 430, 431, 432, 433, 434, 435, 436, 437, 438, 439, 440, 441, 442, 443, 444, 445, 446, 447, 448, 449, 450, 451, 452, 453, 454, 455, 456, 457, 458, 459, 460, 461, 462, 463, 464, 465, 466, 467, 468, 469, 470, 471, 472, 473, 474, 475, 476, 477, 478, 479, 480, 481, 482, 483, 484, 485, 486, 487, 488, 489, 490, 491, 492, 493, 494, 495, 496, 497, 498, 499, 500, 501, 502, 503, 504, 505, 506, 507, 508, 509, 510, 511, 512, 513, 514, 515, 516, 517, 518, 519, 520, 521, 522, 523, 524, 525, 526, 527, 528, 529, 530, 531, 532, 533, 534, 535, 536, 537, 538, 539, 540, 541, 542, 543, 544, 545, 546, 547, 548, 549, 550, 551, 552, 553, 554, 555, 556, 557, 558, 559, 560, 561, 562, 563, 564, 565, 566, 567, 568, 569, 570, 571, 572, 573, 574, 575, 576, 577, 578, 579, 580, 581, 582, 583, 584, 585, 586, 587, 588, 589, 590, 591, 592, 593, 594, 595, 596, 597, 598, 599, 600, 601, 602, 603, 604, 605, 606, 607, 608, 609, 610, 611, 612, 613, 614, 615, 616, 617, 618, 619, 620, 621, 622, 623, 624, 625, 626, 627, 628, 629, 630, 631, 632, 633, 634, 635, 636, 637, 638, 639, 640, 641, 642, 643, 644, 645, 646, 647, 648, 649, 650, 651, 652, 653, 654, 655, 656, 657, 658, 659, 660, 661, 662, 663, 664, 665, 666, 667, 668, 669, 670, 671, 672, 673, 674, 675, 676, 677, 678, 679, 680, 681, 682, 683, 684, 685, 686, 687, 688, 689, 690, 691, 692, 693, 694, 695, 696, 697, 698, 699, 700, 701, 702, 703, 704, 705, 706, 707, 708, 709, 710, 711, 712, 713, 714, 715, 716, 717, 718, 719, 720, 721, 722, 723, 724, 725, 726, 727, 728, 729, 730, 731, 732, 733, 734, 735, 736, 737, 738, 739, 740, 741, 742, 743, 744, 745, 746, 747, 748, 749, 750, 751, 752, 753, 754, 755, 756, 757, 758, 759, 760, 761, 762, 763, 764, 765, 766, 767, 768, 769, 770, 771, 772, 773, 774, 775, 776, 777, 778, 779, 780, 781, 782, 783, 784, 785, 786, 787, 788, 789, 790, 791, 792, 793, 794, 795, 796, 797, 798, 799, 800, 801, 802, 803, 804, 805, 806, 807, 808, 809, 810, 811, 812, 813, 814, 815, 816, 817, 818, 819, 820, 821, 822, 823, 824, 825, 826, 827, 828, 829, 830, 831, 832, 833, 834, 835, 836, 837, 838, 839, 840, 841, 842, 843, 844, 845, 846, 847, 848, 849, 850, 851, 852, 853, 854, 855, 856, 857, 858, 859, 860, 861, 862, 863, 864, 865, 866, 867, 868, 869, 870, 871, 872, 873, 874, 875, 876, 877, 878, 879, 880, 881, 882, 883, 884, 885, 886, 887, 888, 889, 890, 891, 892, 893, 894, 895, 896, 897, 898, 899, 900, 901, 902, 903, 904, 905, 906, 907, 908, 909, 910, 911, 912, 913, 914, 915, 916, 917, 918, 919, 920, 921, 922, 923, 924, 925, 926, 927, 928, 929, 930, 931, 932, 933, 934], \"xaxis\": \"x\", \"y\": [null, null, null, null, null, null, null, null, null, null, null, null, null, null, null, null, null, null, null, null, null, null, null, null, null, -9.1017632735524, 4.399326051066328, 19.952702957384425, -9.693266541526256, 4.156406661088127, 0.6934436981251615, -9.331610768105783, -14.90568484217986, -31.44054322997942, -29.076708807321467, -26.535314471809475, -22.807645626493578, -15.87627307747397, -5.059279613421678, -6.968865670066556, -20.307645626493574, -15.003724057866123, -3.343593338911875, -7.062291275602893, -0.6101574809085459, -6.069211690827807, -6.535186315971987, -6.581322417471409, -6.765866823469107, -6.2895115754875555, 3.0334411350084167, -5.627458518970823, -4.6539867773329995, -10.227227838463328, -6.290664978025035, -12.934263593941992, -11.20877339786357, -6.420999464760918, -7.408312036848564, -16.370249753111537, -13.118807999939694, -19.31603983384973, -19.4463743205856, -18.177631529351466, -13.668981010320309, -14.456754943422961, 19.169542634431707, 14.132633753232172, 25.04497516038326, 12.256047824743126, 8.895032830510136, 8.258354629818095, 19.59053456061395, 12.193764087718911, 58.46942729417796, 31.583614145389028, 55.15313868723191, 35.654228011850634, 48.32525197699227, 45.60085110553257, 34.48973999442146, 35.79148291381144, 66.86446766326677, 38.56490339311426, 10.382986181785292, -18.292395081831273, -17.672569373770262, -3.1605868029641684, 21.672746530369153, 10.528955680695963, 0.6781931534628463, -22.75862601865044, -19.964508371591624, -1.0102600055785356, -27.885820687367602, -18.335647676986973, 2.1660824268192513, -16.73126474734454, -17.09112633904004, -23.942337411704397, -17.995393928428737, -14.162637296364139, -14.019615381715933, -16.59516324792124, -13.266443524737845, -5.820076742730926, -5.444067515510625, -8.365636142961602, -5.891587700055027, -6.4475277231230805, -4.8604458315429255, 1.881192000060306, 5.311411146542433, 8.3379394049046, 5.5870743530014835, 5.331018989679691, 10.602068585988807, 11.404836752078772, 7.426751400290991, 0.7116418270499238, 20.432518412978418, 26.895032830510136, 31.98384482589652, 21.139554168457078, 20.54670526418949, 15.430211607903448, 4.269888655192943, -5.591959351983782, 11.575796639301625, -1.3021990033998918, -7.457972423879205, -18.00045608400992, -28.208517086188564, -23.72376763085088, -10.807645626493581, -6.009170680959812, -11.547297042615583, -19.496098785534965, -20.533135822572014, -18.993920136297497, -13.804377652637365, -22.439453905360676, -10.425292685317102, -5.78803778335632, 2.852485092460677, -5.670134412857792, -9.865059441692859, -9.755486200631726, -0.5940098453837441, -1.6401459468831696, -5.942337411704397, -4.524805693134617, -0.9273431787170772, -1.941184009166907, 0.4832681246277808, 2.8904192203601937, 9.081884041582803, 15.987305033508974, 7.026520719783488, 10.128020143082225, 17.552472276876923, 18.88465220767277, 12.390995921628939, 22.25258761713067, 12.161468816669299, 19.959623372609318, 17.762391538699298, 13.856970546773113, 11.365621065804255, 14.956163164996871, 5.6332104545009045, 10.805067432586258, 7.542091654039549, -7.623998311358379, -4.154563478601745, -11.453294735810513, -14.197239372488706, -26.10266036441489, -23.59195935198377, -30.18890924305132, -22.53749312104695, -16.242286149369395, -16.157318829107954, -9.541850419521896, -15.547297042615586, -30.8860769990426, -32.22485695546961, -16.017885277909702, -16.672569373770262, -6.023331901003388, -12.229214253944564, -17.51026000557855, -13.910042140654799, -12.719410332375935, -0.10176327355240478, 6.6760145042253765, 12.663198920475534, 1.7819993818365472, 6.224905956231012, 10.798147017361345, 7.202991308018785, -2.9619452548416554, -3.8189233401934395, -12.044990237540603, -12.117654597402204, -28.026535796940845, -30.031149407090773, -41.50635125253485, -43.52249888805965, -45.993087123353774, -57.93080338632954, -55.50635125253485, -55.507504655072346, -58.5109648626848, -66.78662806914384, -70.32872726176205, -66.86390603915538, -57.0219221867909, -68.28028435518769, -65.18339854203887, -62.2791309526502, -41.97463268275399, -40.60669727329608, -53.86967305184281, -40.58478262508385, -23.40946543938605, 30.919254283797315, 52.54785866672695, 120.21106512578115, 148.13353084409462, 235.0071691883212, 267.7762323691491, 300.326341301611, 222.62699489638226, 174.5365809530271, 186.08015393777657, 242.95706025585935, 202.12808422100096, 199.11936962405107, 137.48429337132774, 74.60411907938877, 5.221766138212276, -28.11810314283347, 9.854663741698122, -45.89588092061124, -59.8076456264936, -68.48084824087267, -72.90542853050485, -76.43368689267325, -86.95156463200428, -94.49597062969748, -90.54210673119691, -83.56978839209656, -85.58362922254636, -82.28028435518766, -67.60785067583356, -61.08535932635259, -50.59977685807116, -52.31027282116228, -46.679361633157676, -38.64014594688318, -30.577862209858942, -25.467135566260318, -20.23299485115075, -12.648219764645564, 4.389842519091452, 0.10264528725753763, 0.37138807849167677, 5.8408229112483205, 10.680499958537823, 2.3852289089415173, 3.1522415963694304, 1.5547790819518923, 11.707028216899987, 4.953856359921904, 3.258354629818095, -0.9388772040919386, -17.904275127967367, -8.43253349013576, 0.916947478722367, -8.533135822572007, -16.561458262659166, -12.596316650458718, -18.869737129761553, -15.863201182049131, -10.424203360698368, -7.213963709282254, -15.47431229316025, -22.73466087703824, -13.33161076810578, -21.51570662867222, -2.454704450022991, -11.170390724532796, -14.059279613421682, -18.77278723869401, -5.915488763748479, -10.591959351983771, 1.8917007787351796, -0.8858206873676027, 13.527097421052238, 10.087651054270232, 6.307950938929975, 8.693187386450159, 16.292956705942657, 11.004606071571263, 15.1706960369692, 4.882345402597803, 7.4048367520787615, 8.302183926242545, 15.101491884720055, 16.86965797468545, 11.301030523705059, 11.63782406465085, 12.630903649425944, 11.237593384143358, 8.626290039275998, 10.154548401444394, 8.298723718630088, 9.116486117707362, 11.52709742105224, 9.543245056577035, 4.855817144235626, 4.191457282643933, 4.848896729010715, 6.9619301776843, -1.0853593263526058, -2.0945865466524953, -10.389857596248802, -6.394471206398741, -13.883513882292622, -18.749719187944304, -23.1017632735524, -22.54185041952191, -17.831610768105776, -17.497188110153708, -16.373005103617757, -20.757536694031703, -19.762983317125393, -22.160586802964172, -20.420935386842164, -20.037493121046957, -9.39805956984869, -7.552743665709265, -12.484116214728873, -4.627907064402072, -12.380630375948911, -3.739018175513186, 3.329609275467205, 2.734838033637141, 17.996532253808873, 13.527097421052238, 19.048435367995722, 9.09226466442017, 8.281422680567808, 16.41060376476619, 23.984998228434016, 16.602068585988803, 11.41175716730368, 8.444052438353268, 14.145321181144507, 11.885805610210248, 13.555932484489368, 19.24220699429329, 12.912333868572418, 9.042668355308297, 7.080730639045321, 7.528250823589726, 0.9780778132091008, 4.6516648951006765, 9.920407686334812, -0.23760846130070234, 2.2883430957927224, 3.9734642030591587, -6.141876050689396, -9.268750329812814, -18.449834528198053, -19.967712267529077, -13.173017919201511, -25.09573994918998, -38.218000618163444, -29.452141333273016, -27.7105035016698, -9.454704450022994, -21.443811203835633, -31.145336258301846, -30.967776345447824, -30.373005103617757, -12.130085713639538, -17.15514017987048, -3.7488220970818134, 42.5986724562951, 1.4919186436589271, -13.241196824750656, -9.258626018650439, -6.895880920611225, 12.568171366970487, -3.1453362583018496, 7.574707314682891, 16.721766138212306, 18.283857641480274, 24.17300284204416, 7.017293499483605, 4.538631446427097, 7.1510881938319395, 23.536324641352127, 6.077270431432854, 3.906566855885, -18.14302945322688, -11.823536950343378, -29.163790698901625, -32.717423916894695, -25.290664978025042, -32.46367535864788, -33.22838124100082, -37.53864652358443, -34.74164537018189, -28.232994851150757, -28.863906039155378, -18.257216304437947, -16.583629222546374, -22.471749176410277, -15.237608461300695, -9.299892198324923, -0.16379069890163578, 28.03459453754588, 49.65281829763816, 46.33447919729214, 68.1695426344317, 104.82698208079849, 160.23759338414337, 223.8016072249738, 156.5870743530015, 111.38753571401648, 93.34921711860446, 64.34050252165456, -15.92964998379204, -63.34032536505566, -34.70633843695108, -12.796752380306224, 3.629173545619686, -50.29784170492497, -50.224856955469626, -52.41004214065481, -52.14315760906439, -35.59195935198377, -15.69980248923869, -11.17692667224521, -33.22376763085087, -19.58215543041515, 1.760981824486815, -11.029867848715801, -13.434840295210737, -10.002314343653646, 13.068043211132967, 14.641284272263306, -6.463675358647887, 3.194917490256376, 3.43597862059087, -4.280284355187668, 8.254894422205641, 12.69895439913758, 5.008066279183723, -9.055370860377984, -3.8362243782557286, 2.2029913080187846, -7.107273974564841, -0.8985081152799452, 1.453279658653159, -4.94233741170439, -6.296431990712463, -3.7600998107816714, 4.959623372609322, -0.6101574809085406, -3.809696119893548, -0.7912416792937762, -6.906581933042345, -14.190318957263795, -5.8615992340803995, -9.124575012627115, -12.741645370181905, -18.938877204091938, -13.355255520124228, -19.1972393724887, -6.141876050689401, -4.023331901003381, -28.698713164619946, -30.262983317125382, -5.281501835643908, 5.038759602264598, 8.791482913811436, -14.606120572027354, -4.7488220970818205, -22.69544519076373, -6.959061748497938, 16.954881606621893, 1.8982367264475961, -0.7586260186504443, 8.685818425794006, -4.851218611243031, 8.025687706839753, -2.435096606885737, -4.794573731068743, 0.4475126459657295, 4.99768565634635, 3.558239289564348, 10.856970546773109, 8.26181483743055, 9.606682196138738, 4.592841365688912, 6.033441135008413, 7.254894422205641, 5.953856359921897, 6.106105494869997, 6.7877663945239775, 15.477501111940354, 9.752010915861923, 11.657431907788107, 11.37600168864163, 12.374848286104141, 14.2341331765309, 14.801607224973804, 14.494802150002634, 11.626290039275988, 12.52709742105224, 12.6020685859888, 10.169542634431709, 5.701261204212562, 7.260661434893066, 1.7854595894490046, 3.659738712863076, -4.38870419371132, -12.429073282523316, -23.39447120639874, -22.903121725429884, -24.65167997225803, -30.00372405786613, -29.384987674423872, -34.910042140654795, -35.516795953290966, -29.706338436951093, -32.110477870502294, -43.978669591635196, -36.61156719512103, -29.028778524097067, -26.625728415164605, -12.907863491417318, -20.140978959826914, -7.0919593519837765, 3.7054262689312605, 8.756624526011873, 7.339413197035833, 11.54529554997701, 10.65640666108812, 7.761238136161809, 17.880038597522823, 23.048435367995722, 8.974617605596642, 13.771618758999177, 17.332172392217167, 17.67127273823793, 13.170696036969195, 16.078423833970344, 23.895032830510132, 13.027674122320981, 22.121099727857313, 14.026520719783491, 10.085344249195252, 23.147627986219476, 13.160315414131826, 4.865044364535514, 6.155701803981884, 5.213371930856162, 6.161468816669302, 8.959623372609325, 3.644744479875772, 1.1510881938319422, -5.301045600862405, 2.995378851271388, -5.38639738863635, -9.253756096825507, -3.340261287136922, -14.976939487828963, -12.644759557033115, -31.041530029928154, -30.785474666606355, -31.553640756571763, -25.023331901003385, -20.38498767442387, -21.63553233673322, -18.26189399250665, -6.137710985970699, 7.536580953027119, -11.312002924968532, -12.337057391199465, 0.5398489268833302, 4.001722565227553, 4.758803175249344, 17.584511236251515, 25.888432804878967, 33.13679881795087, 24.462506878953047, 32.280589667624064, 11.623726922526028, -1.8337894173432492, 10.565159704789263, 4.997685656346354, -1.2652901222003585, 16.994225448733893, 20.55593248448937, 17.508642980452464, 13.3379394049046, 9.386382311479004, 9.215678735931132, 15.267581850117974, 10.596301573301371, 14.101491884720058, 4.7520109158619235, 10.10495209233251, 8.14762798621948, 7.983844825896533, 5.76700514884924, 11.136093960844626, 10.821215068111062, 7.043821757845773, 9.136093960844617, 10.017293499483614, 9.445205840890761, 6.973464203059159, 14.407143557153738, 3.5351712388146357, 1.6285968443509677, -1.0853593263526076, -4.584782625083866, -12.193779164876254, -17.649373167183054, -21.589396235233803, -23.808542717356072, -24.023331901003385, -31.1104778705023, -26.00808135634107, -29.301109678781163, -27.94163255459815, -26.34577198814935, -36.076708807321474, -38.39588092061123, -33.636621661351974, -29.370826454380293, -18.515706628672223, -18.611567195121033, -16.562547587277894, -8.549475691853054, -17.40023821908617, -3.797841704924955, -6.650782881395542, -1.1671227506765867, 2.9769244106716117, 11.115332715169881, 4.283729485642778, 7.190303880106443, 14.124559935469765, 10.822368470648541, 14.06342960098303, 24.386382311479, 18.549012069264464, 16.659738712863074, 17.086497651732742, 17.611295806288684, 19.850050131548194, 20.575540327626626, 21.265275045043005, 18.513256590602417, 22.688573776300217, 13.35178023535443, 11.48788173477773, 15.965390385296754, 12.273348862805399, 12.311411146542435, 11.817754860498601, 8.679346556000333, 5.760084733624323, 0.9665437878342402, 0.8442831188607709, 2.4244445952160163, -4.839684585868186, -10.232994851150767, -23.43368689267325, -16.05998447052792, -13.906581933042343, -24.180194646101416, -29.463419046972888, -20.968865670066556, -27.614835168977237, -15.647514907539328, -15.07126218422778, -29.861022532811667, -21.082155430415153, -23.28368048488138, -12.743375473988134, -0.12354976592712319, -3.337057391199462, -5.0919593519837765, 7.019151759127334, 2.207604918168734, 8.849217118604459, 8.113923000957406, 10.577975288539102, 21.87888519498534, 18.115332715169885, 14.519023603289838, 3.6020685859888006, 12.791226602136437, 6.547858666726977, 15.357547248041858, 12.190303880106455, 8.568619912401722, 21.14993479129445, 15.282576083105294, 16.121099727857313, 13.202991308018785, 13.771618758999178, 11.226059358768499, 11.493648747465162, 12.492495344927672, 17.214525333393645, 10.252587617130668, 9.710488424512437, 7.743937098099517, 12.801607224973806, 15.40599015461625, 10.14993479129445, 6.113025910094912, 0.31948496430483075, 7.256047824743122, 7.640130869725821, 1.219138943543582, -4.938877204091939, -14.78662806914384, -21.17763152935145, -10.57324859970901, -15.886076999042597, -32.2869484587376, -31.223767630850872, -20.57561948270273, -24.333789417343247, -24.71832100775719, -40.50808135634108, -33.92529268531712, -33.12681773978334, -28.625728415164605, -5.8490399620055555, -16.023331901003385, -8.895880920611228, -7.9416325545981525, -12.635532336733228, -1.7586260186504443, -0.4350966068857369, -6.951436476166782, 8.212218528318672, 5.664352323013018, 3.2445137993682707, 9.327558782067229, 14.516716798214865, 11.155701803981875, 13.377155091179109, 21.131480350694687, 23.294110108480147, 13.953856359921897, 13.772772161536665, 14.513256590602408, 15.908873660959962, 15.79122660213643, 16.539784848964576, 6.33678600236712, 2.492495344927672, 7.430211607903448, -1.4729025789477639, -1.779707653918937, -2.0599844705279295, -7.982706500516386, -10.594009845383749, -10.908888738117312, -15.985013305591357, -17.111887584714772, -23.155716881139227, -23.59516324792123, -21.722037527044655, -29.213387008013502, -30.159177088751683, -26.74625898033185, -34.29873879578745, -27.552743665709272, -18.679105321482698, -6.086512728890092, 10.189086399650208, 20.2936615630489, 18.909129972634958, 54.19780099660009, 47.09431515782013, 69.83396657394215, 65.21740883973735, 55.209783567406205, 29.074707314682882, 22.280589667624064, -4.588691378127573, 2.619369624051078, 9.280589667624058, 11.564903393114253, 10.970132151284185, 12.173002842044152, 2.4486660485032115, -5.1672509065140915, -1.103813766952391, -11.797008691981222, -6.687435450920095, -11.720884124507176, -3.6724412179327715, -5.764713420931617, 3.42444459521602, 7.14532118114451, -0.8396845858681772, 2.301030523705059, 1.810834445273688, 1.1672358293567342, 6.042668355308301, 8.021907109633553, 3.547858666726981, 7.056509185758124, 9.377155091179105, 8.95962337260932, 8.115332715169885, 9.09226466442017, 7.326405379529746, 5.720869047349817, 5.986151630971495, -0.038069822315701884, 1.110719105019939, 3.4936487474651514, -11.62515171389586, -21.49251042208501, -22.001160941116154, -24.63207212912078, -28.92529268531711, -35.18890924305132, -29.223767630850872, -25.752090070938024, -25.667122750676583, -22.051654341090526, -36.919846062223435, -31.41548876374849, -24.793484406450013, -26.56690488575284, -10.103941922789872, -12.47431229316025, 5.359021040173085, -9.686730593813838, -16.5178852779097, -12.013527979434759, -4.768429940219071, 4.6956223473626295, 10.859277351848085, 16.036901342620865, 7.283729485642779, 16.386382311478993, 4.242206994293294, 16.783152784374032, 11.06342960098303, 16.26873525265547, 13.25489442220564, 12.051895575608173, 25.34139961251706, 15.650511492563194, 14.810834445273688, 17.63436385703839, 19.500569162690066, 18.199531100406336, 19.70818161943748, 16.449819451040707, 11.272195460267927, 17.455586463728128, 2.8223684706485415, -3.2572163044379536, 1.8177548604986065, -12.242222071450641, -19.416385854610965, -15.719730721969682, -20.783167861531382, -17.359869130274173, -24.44752772312308, -22.89966151781743, -36.31603983384972, -34.746258980331845, -24.377170168336463, -35.6703907245328, -33.071262184227805, -32.419846062223435, -27.77169791407529, -23.72594628008836, -30.130085713639552, -2.802199003399913, 0.15313868723190183, 6.108476377863717, 23.746820604443236, 11.739195332112086, 56.780589667624064, 53.30019751076131, 51.45052430814693, 115.63897746718834, 87.53549162840838, 62.85902104017308, 31.244641955205758, null, null, null, null, null, null, null, null, null, null, null, null, null, null, null, null, null, null, null, null, null, null, null, null, null], \"yaxis\": \"y\"}, {\"name\": \"Trend\", \"type\": \"scatter\", \"x\": [0, 1, 2, 3, 4, 5, 6, 7, 8, 9, 10, 11, 12, 13, 14, 15, 16, 17, 18, 19, 20, 21, 22, 23, 24, 25, 26, 27, 28, 29, 30, 31, 32, 33, 34, 35, 36, 37, 38, 39, 40, 41, 42, 43, 44, 45, 46, 47, 48, 49, 50, 51, 52, 53, 54, 55, 56, 57, 58, 59, 60, 61, 62, 63, 64, 65, 66, 67, 68, 69, 70, 71, 72, 73, 74, 75, 76, 77, 78, 79, 80, 81, 82, 83, 84, 85, 86, 87, 88, 89, 90, 91, 92, 93, 94, 95, 96, 97, 98, 99, 100, 101, 102, 103, 104, 105, 106, 107, 108, 109, 110, 111, 112, 113, 114, 115, 116, 117, 118, 119, 120, 121, 122, 123, 124, 125, 126, 127, 128, 129, 130, 131, 132, 133, 134, 135, 136, 137, 138, 139, 140, 141, 142, 143, 144, 145, 146, 147, 148, 149, 150, 151, 152, 153, 154, 155, 156, 157, 158, 159, 160, 161, 162, 163, 164, 165, 166, 167, 168, 169, 170, 171, 172, 173, 174, 175, 176, 177, 178, 179, 180, 181, 182, 183, 184, 185, 186, 187, 188, 189, 190, 191, 192, 193, 194, 195, 196, 197, 198, 199, 200, 201, 202, 203, 204, 205, 206, 207, 208, 209, 210, 211, 212, 213, 214, 215, 216, 217, 218, 219, 220, 221, 222, 223, 224, 225, 226, 227, 228, 229, 230, 231, 232, 233, 234, 235, 236, 237, 238, 239, 240, 241, 242, 243, 244, 245, 246, 247, 248, 249, 250, 251, 252, 253, 254, 255, 256, 257, 258, 259, 260, 261, 262, 263, 264, 265, 266, 267, 268, 269, 270, 271, 272, 273, 274, 275, 276, 277, 278, 279, 280, 281, 282, 283, 284, 285, 286, 287, 288, 289, 290, 291, 292, 293, 294, 295, 296, 297, 298, 299, 300, 301, 302, 303, 304, 305, 306, 307, 308, 309, 310, 311, 312, 313, 314, 315, 316, 317, 318, 319, 320, 321, 322, 323, 324, 325, 326, 327, 328, 329, 330, 331, 332, 333, 334, 335, 336, 337, 338, 339, 340, 341, 342, 343, 344, 345, 346, 347, 348, 349, 350, 351, 352, 353, 354, 355, 356, 357, 358, 359, 360, 361, 362, 363, 364, 365, 366, 367, 368, 369, 370, 371, 372, 373, 374, 375, 376, 377, 378, 379, 380, 381, 382, 383, 384, 385, 386, 387, 388, 389, 390, 391, 392, 393, 394, 395, 396, 397, 398, 399, 400, 401, 402, 403, 404, 405, 406, 407, 408, 409, 410, 411, 412, 413, 414, 415, 416, 417, 418, 419, 420, 421, 422, 423, 424, 425, 426, 427, 428, 429, 430, 431, 432, 433, 434, 435, 436, 437, 438, 439, 440, 441, 442, 443, 444, 445, 446, 447, 448, 449, 450, 451, 452, 453, 454, 455, 456, 457, 458, 459, 460, 461, 462, 463, 464, 465, 466, 467, 468, 469, 470, 471, 472, 473, 474, 475, 476, 477, 478, 479, 480, 481, 482, 483, 484, 485, 486, 487, 488, 489, 490, 491, 492, 493, 494, 495, 496, 497, 498, 499, 500, 501, 502, 503, 504, 505, 506, 507, 508, 509, 510, 511, 512, 513, 514, 515, 516, 517, 518, 519, 520, 521, 522, 523, 524, 525, 526, 527, 528, 529, 530, 531, 532, 533, 534, 535, 536, 537, 538, 539, 540, 541, 542, 543, 544, 545, 546, 547, 548, 549, 550, 551, 552, 553, 554, 555, 556, 557, 558, 559, 560, 561, 562, 563, 564, 565, 566, 567, 568, 569, 570, 571, 572, 573, 574, 575, 576, 577, 578, 579, 580, 581, 582, 583, 584, 585, 586, 587, 588, 589, 590, 591, 592, 593, 594, 595, 596, 597, 598, 599, 600, 601, 602, 603, 604, 605, 606, 607, 608, 609, 610, 611, 612, 613, 614, 615, 616, 617, 618, 619, 620, 621, 622, 623, 624, 625, 626, 627, 628, 629, 630, 631, 632, 633, 634, 635, 636, 637, 638, 639, 640, 641, 642, 643, 644, 645, 646, 647, 648, 649, 650, 651, 652, 653, 654, 655, 656, 657, 658, 659, 660, 661, 662, 663, 664, 665, 666, 667, 668, 669, 670, 671, 672, 673, 674, 675, 676, 677, 678, 679, 680, 681, 682, 683, 684, 685, 686, 687, 688, 689, 690, 691, 692, 693, 694, 695, 696, 697, 698, 699, 700, 701, 702, 703, 704, 705, 706, 707, 708, 709, 710, 711, 712, 713, 714, 715, 716, 717, 718, 719, 720, 721, 722, 723, 724, 725, 726, 727, 728, 729, 730, 731, 732, 733, 734, 735, 736, 737, 738, 739, 740, 741, 742, 743, 744, 745, 746, 747, 748, 749, 750, 751, 752, 753, 754, 755, 756, 757, 758, 759, 760, 761, 762, 763, 764, 765, 766, 767, 768, 769, 770, 771, 772, 773, 774, 775, 776, 777, 778, 779, 780, 781, 782, 783, 784, 785, 786, 787, 788, 789, 790, 791, 792, 793, 794, 795, 796, 797, 798, 799, 800, 801, 802, 803, 804, 805, 806, 807, 808, 809, 810, 811, 812, 813, 814, 815, 816, 817, 818, 819, 820, 821, 822, 823, 824, 825, 826, 827, 828, 829, 830, 831, 832, 833, 834, 835, 836, 837, 838, 839, 840, 841, 842, 843, 844, 845, 846, 847, 848, 849, 850, 851, 852, 853, 854, 855, 856, 857, 858, 859, 860, 861, 862, 863, 864, 865, 866, 867, 868, 869, 870, 871, 872, 873, 874, 875, 876, 877, 878, 879, 880, 881, 882, 883, 884, 885, 886, 887, 888, 889, 890, 891, 892, 893, 894, 895, 896, 897, 898, 899, 900, 901, 902, 903, 904, 905, 906, 907, 908, 909, 910, 911, 912, 913, 914, 915, 916, 917, 918, 919, 920, 921, 922, 923, 924, 925, 926, 927, 928, 929, 930, 931, 932, 933, 934], \"xaxis\": \"x2\", \"y\": [null, null, null, null, null, null, null, null, null, null, null, null, null, null, null, null, null, null, null, null, null, null, null, null, null, 23.705882352941174, 23.941176470588232, 24.17647058823529, 24.33333333333333, 24.607843137254896, 24.68627450980392, 24.941176470588232, 25.235294117647058, 25.549019607843135, 25.627450980392155, 25.862745098039213, 25.960784313725487, 26.196078431372545, 26.431372549019603, 26.54901960784313, 26.58823529411764, 27.54901960784313, 28.313725490196074, 29.25490196078431, 30.078431372549016, 30.941176470588232, 31.49019607843137, 32.705882352941174, 33.68627450980392, 35.78431372549019, 37.2156862745098, 39.27450980392156, 40.686274509803916, 42.0392156862745, 43.921568627450974, 45.31372549019607, 46.80392156862745, 49.09803921568628, 50.94117647058823, 52.54901960784313, 53.54901960784314, 54.50980392156863, 55.68627450980392, 57.21568627450981, 58.31372549019608, 59.25490196078431, 60.0, 60.666666666666664, 61.450980392156865, 61.745098039215684, 62.07843137254902, 62.90196078431372, 63.35294117647058, 63.764705882352935, 64.01960784313725, 64.31372549019608, 64.45098039215686, 64.68627450980392, 64.80392156862744, 65.0392156862745, 65.27450980392156, 65.58823529411764, 65.74509803921569, 65.76470588235294, 65.72549019607843, 65.84313725490196, 66.0, 66.31372549019608, 66.64705882352942, 66.84313725490196, 66.90196078431373, 67.0392156862745, 66.50980392156863, 65.98039215686273, 65.07843137254902, 64.80392156862744, 64.70588235294117, 64.68627450980392, 64.2156862745098, 63.86274509803921, 62.490196078431374, 61.411764705882355, 59.66666666666667, 58.627450980392155, 57.07843137254902, 55.450980392156865, 53.8235294117647, 51.96078431372548, 49.56862745098039, 47.98039215686275, 47.03921568627452, 46.54901960784314, 45.88235294117647, 44.90196078431372, 43.45098039215686, 42.31372549019608, 41.19607843137254, 40.764705882352935, 40.372549019607845, 39.7843137254902, 39.568627450980394, 39.07843137254902, 38.1764705882353, 37.80392156862745, 37.411764705882355, 37.05882352941177, 36.62745098039216, 36.196078431372555, 35.764705882352935, 35.431372549019606, 35.09803921568628, 34.76470588235294, 34.588235294117645, 34.33333333333333, 34.13725490196078, 34.11764705882353, 34.09803921568627, 33.8235294117647, 33.68627450980392, 33.31372549019607, 33.17647058823529, 33.01960784313725, 32.70588235294117, 32.33333333333333, 32.11764705882352, 31.86274509803921, 31.33333333333333, 30.62745098039215, 29.549019607843128, 28.764705882352935, 27.862745098039213, 27.019607843137255, 26.176470588235293, 25.588235294117645, 24.549019607843135, 23.92156862745098, 23.549019607843135, 23.392156862745104, 23.568627450980394, 23.549019607843135, 22.980392156862745, 22.294117647058822, 22.03921568627451, 21.941176470588236, 22.078431372549023, 22.078431372549023, 21.88235294117647, 21.941176470588236, 21.80392156862745, 21.843137254901965, 21.86274509803922, 22.196078431372552, 22.431372549019606, 22.784313725490197, 23.098039215686274, 23.41176470588236, 23.686274509803923, 23.999999999999996, 24.196078431372545, 24.52941176470588, 24.666666666666664, 24.882352941176467, 24.921568627450977, 24.921568627450977, 25.156862745098035, 25.2156862745098, 25.33333333333333, 25.56862745098039, 26.0, 26.176470588235297, 26.54901960784314, 26.882352941176475, 27.490196078431374, 28.0, 28.647058823529413, 29.294117647058822, 30.529411764705884, 31.686274509803923, 32.64705882352941, 34.15686274509804, 35.92156862745098, 38.88235294117647, 42.31372549019608, 47.29411764705882, 52.76470588235294, 60.05882352941176, 67.84313725490195, 76.13725490196079, 82.90196078431373, 88.58823529411765, 94.6078431372549, 102.03921568627452, 108.68627450980394, 114.94117647058825, 119.98039215686275, 123.56862745098037, 125.90196078431372, 127.66666666666667, 130.07843137254903, 131.35294117647058, 132.07843137254903, 132.47058823529412, 132.6078431372549, 132.84313725490196, 132.74509803921566, 132.35294117647058, 132.03921568627453, 131.94117647058826, 131.68627450980395, 131.47058823529414, 131.33333333333334, 131.35294117647058, 131.31372549019608, 131.13725490196077, 130.84313725490196, 130.52941176470588, 130.37254901960785, 129.98039215686276, 129.4313725490196, 128.843137254902, 128.54901960784315, 128.0980392156863, 127.4901960784314, 126.72549019607845, 126.1764705882353, 125.35294117647061, 124.45098039215688, 123.09803921568627, 121.90196078431372, 120.8235294117647, 119.45098039215686, 117.66666666666667, 114.49019607843137, 111.078431372549, 106.52941176470588, 101.2549019607843, 94.11764705882351, 86.41176470588233, 77.94117647058822, 71.05882352941175, 65.23529411764706, 59.2549019607843, 51.999999999999986, 45.41176470588234, 39.07843137254901, 33.80392156862745, 30.137254901960784, 27.666666666666664, 25.803921568627448, 23.117647058823525, 21.78431372549019, 20.647058823529406, 19.941176470588232, 19.294117647058822, 19.01960784313725, 18.901960784313722, 18.882352941176467, 18.862745098039213, 18.921568627450977, 18.980392156862738, 19.13725490196078, 18.901960784313726, 18.725490196078432, 18.509803921568626, 18.627450980392155, 18.803921568627448, 18.823529411764703, 18.803921568627448, 18.843137254901958, 18.882352941176467, 18.843137254901958, 18.6078431372549, 18.49019607843137, 18.431372549019606, 18.352941176470587, 18.196078431372545, 18.13725490196078, 18.07843137254902, 18.07843137254902, 17.941176470588232, 17.784313725490193, 17.64705882352941, 17.431372549019606, 17.627450980392158, 17.490196078431374, 17.078431372549016, 16.764705882352935, 16.627450980392155, 16.50980392156863, 16.529411764705884, 16.50980392156863, 16.294117647058822, 16.03921568627451, 15.901960784313724, 15.941176470588234, 15.80392156862745, 16.03921568627451, 15.941176470588234, 15.921568627450979, 16.11764705882353, 16.254901960784313, 16.31372549019608, 16.607843137254903, 16.64705882352941, 17.03921568627451, 17.05882352941176, 17.254901960784313, 17.333333333333332, 17.352941176470587, 17.37254901960784, 17.64705882352941, 17.705882352941174, 17.88235294117647, 17.96078431372549, 18.13725490196078, 18.13725490196078, 18.137254901960784, 18.372549019607842, 18.49019607843137, 18.52941176470588, 18.588235294117645, 18.72549019607843, 18.705882352941174, 18.803921568627448, 18.999999999999996, 18.960784313725487, 19.01960784313725, 19.215686274509803, 19.235294117647058, 19.196078431372545, 18.941176470588232, 18.823529411764703, 18.862745098039213, 18.843137254901958, 18.509803921568626, 18.509803921568622, 18.647058823529413, 19.235294117647058, 19.58823529411765, 19.666666666666668, 19.74509803921569, 19.82352941176471, 20.35294117647059, 20.764705882352942, 21.49019607843137, 23.09803921568627, 23.901960784313722, 24.215686274509803, 24.588235294117645, 25.11764705882353, 25.88235294117647, 26.509803921568626, 27.19607843137255, 27.941176470588232, 28.76470588235294, 29.45098039215686, 29.941176470588232, 30.33333333333333, 31.03921568627451, 32.17647058823529, 32.94117647058823, 33.6078431372549, 34.05882352941177, 34.78431372549019, 35.27450980392156, 35.607843137254896, 36.13725490196078, 36.50980392156862, 36.76470588235293, 37.07843137254901, 37.50980392156862, 38.05882352941176, 38.568627450980394, 39.41176470588235, 40.2156862745098, 40.80392156862744, 41.725490196078425, 42.705882352941174, 43.8235294117647, 45.68627450980392, 48.01960784313726, 50.450980392156865, 53.33333333333333, 56.803921568627445, 61.58823529411764, 67.84313725490196, 72.58823529411764, 76.3921568627451, 79.47058823529412, 82.19607843137254, 83.52941176470587, 83.92156862745098, 84.84313725490196, 85.8235294117647, 87.21568627450979, 87.27450980392156, 86.41176470588235, 86.29411764705883, 86.45098039215685, 86.8235294117647, 87.50980392156862, 87.88235294117646, 88.09803921568627, 88.33333333333334, 88.76470588235296, 88.84313725490196, 88.66666666666667, 88.80392156862744, 89.33333333333333, 89.70588235294117, 89.15686274509804, 88.90196078431373, 88.50980392156863, 88.25490196078432, 88.0, 88.05882352941175, 87.98039215686273, 87.4705882352941, 87.1764705882353, 86.98039215686276, 86.62745098039217, 86.33333333333334, 85.9607843137255, 85.47058823529413, 84.74509803921568, 84.01960784313727, 83.54901960784314, 82.80392156862744, 81.86274509803921, 80.7843137254902, 79.0, 76.62745098039215, 74.47058823529412, 71.80392156862746, 68.31372549019608, 63.58823529411765, 57.72549019607844, 53.05882352941177, 49.529411764705884, 46.3921568627451, 43.333333333333336, 41.80392156862745, 41.68627450980392, 41.21568627450981, 40.3921568627451, 38.7843137254902, 38.43137254901961, 37.72549019607843, 37.37254901960784, 37.49019607843137, 36.99999999999999, 36.07843137254902, 35.25490196078431, 34.607843137254896, 33.96078431372548, 32.70588235294118, 31.68627450980392, 30.86274509803921, 30.09803921568627, 28.901960784313722, 27.882352941176467, 27.313725490196074, 26.686274509803916, 26.039215686274506, 25.627450980392155, 25.039215686274506, 24.392156862745097, 23.92156862745098, 23.72549019607843, 23.588235294117645, 23.215686274509803, 23.07843137254902, 22.803921568627448, 22.509803921568626, 22.372549019607842, 22.254901960784313, 22.07843137254902, 21.68627450980392, 21.431372549019606, 21.254901960784313, 20.980392156862745, 20.764705882352942, 20.745098039215687, 20.47058823529412, 20.313725490196077, 20.098039215686274, 19.862745098039216, 19.313725490196077, 18.901960784313726, 18.215686274509803, 17.392156862745097, 17.07843137254902, 16.705882352941178, 15.843137254901961, 14.901960784313724, 13.843137254901958, 13.019607843137253, 12.156862745098039, 11.80392156862745, 11.196078431372548, 10.3921568627451, 9.745098039215687, 9.411764705882353, 9.117647058823529, 9.196078431372548, 8.999999999999998, 9.098039215686274, 9.235294117647058, 9.215686274509805, 9.313725490196079, 9.549019607843137, 9.372549019607844, 9.352941176470589, 9.392156862745098, 9.549019607843137, 9.607843137254902, 9.725490196078432, 10.03921568627451, 10.156862745098039, 10.470588235294118, 10.490196078431373, 10.588235294117647, 10.941176470588234, 11.137254901960784, 11.176470588235293, 11.235294117647056, 11.294117647058822, 11.411764705882351, 11.666666666666666, 11.823529411764705, 11.941176470588234, 11.999999999999998, 12.313725490196079, 12.431372549019608, 12.588235294117647, 12.823529411764705, 12.980392156862743, 13.352941176470589, 13.588235294117649, 13.823529411764708, 14.078431372549021, 14.568627450980394, 15.137254901960782, 15.784313725490193, 16.509803921568626, 17.352941176470587, 18.50980392156863, 19.529411764705884, 20.372549019607842, 21.313725490196077, 22.274509803921564, 22.98039215686274, 24.07843137254902, 25.078431372549016, 25.999999999999996, 26.647058823529406, 27.470588235294112, 27.803921568627448, 27.882352941176475, 28.254901960784316, 28.313725490196077, 28.13725490196078, 28.588235294117645, 29.0, 29.27450980392157, 29.45098039215687, 29.627450980392158, 29.72549019607843, 29.764705882352935, 29.901960784313722, 29.901960784313722, 29.843137254901958, 29.92156862745098, 29.666666666666664, 29.56862745098039, 29.549019607843135, 29.568627450980394, 29.568627450980394, 29.431372549019606, 29.235294117647058, 29.11764705882353, 29.000000000000004, 28.92156862745098, 28.803921568627448, 28.627450980392155, 28.470588235294116, 28.137254901960784, 27.96078431372549, 27.568627450980394, 27.41176470588235, 27.15686274509804, 26.862745098039213, 26.431372549019606, 25.764705882352942, 25.215686274509803, 24.52941176470588, 23.627450980392155, 22.49019607843137, 21.52941176470588, 20.549019607843135, 19.41176470588235, 18.294117647058822, 17.372549019607842, 16.19607843137255, 14.901960784313724, 13.627450980392155, 12.352941176470587, 11.196078431372548, 10.392156862745098, 9.960784313725489, 9.372549019607842, 9.058823529411763, 8.745098039215684, 8.137254901960784, 7.607843137254901, 7.078431372549019, 6.705882352941177, 6.627450980392157, 6.450980392156863, 6.137254901960784, 5.941176470588235, 5.705882352941176, 5.725490196078431, 5.686274509803921, 5.725490196078432, 5.745098039215688, 5.921568627450982, 5.843137254901961, 5.764705882352941, 5.88235294117647, 5.92156862745098, 5.980392156862744, 6.07843137254902, 6.19607843137255, 6.137254901960786, 6.215686274509805, 6.35294117647059, 6.588235294117648, 6.764705882352941, 7.0, 7.098039215686275, 7.431372549019608, 7.862745098039217, 8.098039215686276, 8.372549019607844, 8.72549019607843, 9.019607843137255, 9.529411764705882, 10.019607843137255, 10.411764705882353, 11.019607843137253, 11.490196078431373, 12.078431372549018, 12.705882352941174, 13.274509803921568, 13.764705882352942, 14.333333333333334, 14.980392156862747, 15.490196078431374, 16.039215686274513, 16.529411764705884, 17.15686274509804, 17.54901960784314, 18.000000000000004, 18.176470588235297, 18.392156862745097, 18.549019607843135, 18.803921568627448, 18.78431372549019, 18.803921568627448, 19.09803921568627, 19.25490196078431, 19.41176470588235, 19.45098039215686, 19.470588235294116, 19.41176470588235, 19.392156862745097, 19.294117647058822, 19.45098039215686, 19.49019607843137, 19.41176470588235, 19.35294117647059, 19.372549019607842, 19.431372549019606, 19.431372549019603, 19.392156862745097, 19.313725490196077, 19.352941176470587, 19.352941176470587, 19.352941176470583, 19.33333333333333, 19.37254901960784, 19.13725490196078, 19.05882352941176, 19.078431372549016, 18.882352941176467, 18.52941176470588, 18.509803921568626, 18.176470588235293, 17.823529411764703, 17.45098039215686, 17.039215686274506, 16.68627450980392, 16.215686274509803, 15.941176470588236, 15.529411764705884, 15.294117647058824, 14.843137254901963, 14.392156862745098, 14.019607843137257, 13.686274509803924, 13.176470588235293, 12.745098039215687, 12.333333333333334, 11.941176470588236, 11.882352941176467, 11.745098039215685, 11.666666666666666, 11.470588235294116, 11.49019607843137, 11.627450980392156, 11.352941176470589, 11.215686274509803, 11.098039215686272, 11.098039215686272, 11.117647058823527, 11.254901960784313, 11.235294117647058, 11.176470588235293, 11.176470588235293, 11.176470588235293, 11.215686274509803, 11.313725490196077, 11.215686274509803, 11.03921568627451, 10.980392156862745, 10.92156862745098, 10.980392156862745, 10.803921568627452, 10.627450980392155, 10.627450980392155, 10.6078431372549, 10.76470588235294, 11.117647058823529, 11.11764705882353, 11.352941176470589, 12.07843137254902, 13.03921568627451, 14.11764705882353, 15.470588235294116, 16.80392156862745, 19.137254901960784, 21.19607843137255, 23.68627450980392, 26.0, 27.666666666666668, 29.01960784313726, 30.09803921568627, 30.627450980392155, 31.392156862745097, 32.07843137254902, 32.78431372549019, 33.607843137254896, 34.15686274509804, 34.56862745098039, 34.88235294117647, 35.15686274509803, 35.11764705882353, 35.235294117647065, 35.196078431372555, 35.156862745098046, 35.01960784313726, 35.21568627450981, 35.450980392156865, 35.47058823529412, 35.47058823529412, 35.41176470588236, 35.23529411764707, 35.27450980392158, 35.33333333333334, 35.117647058823536, 35.078431372549026, 35.03921568627451, 34.9607843137255, 34.9607843137255, 35.00000000000001, 34.980392156862756, 35.000000000000014, 35.019607843137265, 35.01960784313726, 35.03921568627452, 35.058823529411775, 34.92156862745099, 34.60784313725491, 34.215686274509814, 33.92156862745099, 33.411764705882355, 32.607843137254896, 31.666666666666664, 30.470588235294116, 29.07843137254902, 27.784313725490193, 25.509803921568626, 23.490196078431367, 21.15686274509804, 18.882352941176467, 17.13725490196078, 15.862745098039216, 15.078431372549021, 14.529411764705884, 13.705882352941178, 12.843137254901961, 12.07843137254902, 11.50980392156863, 11.039215686274511, 10.862745098039216, 10.666666666666666, 10.56862745098039, 10.45098039215686, 10.490196078431373, 10.529411764705882, 10.529411764705884, 10.529411764705882, 10.352941176470587, 10.392156862745097, 10.431372549019606, 10.431372549019606, 10.529411764705882, 10.745098039215687, 10.901960784313728, 11.11764705882353, 11.43137254901961, 11.627450980392158, 11.96078431372549, 12.058823529411763, 12.098039215686272, 12.294117647058824, 12.313725490196079, 12.27450980392157, 12.333333333333332, 12.431372549019606, 12.588235294117647, 12.568627450980392, 12.882352941176471, 13.137254901960784, 13.431372549019608, 13.980392156862745, 14.392156862745098, 14.980392156862743, 15.470588235294118, 15.980392156862745, 16.56862745098039, 16.96078431372549, 18.176470588235293, 19.333333333333332, 20.470588235294112, 21.98039215686274, 22.921568627450977, 24.784313725490193, 26.2156862745098, 27.901960784313722, 30.98039215686274, 33.41176470588235, 35.2156862745098, 36.21568627450981, 36.78431372549019, 37.33333333333333, 37.607843137254896, 37.84313725490196, 38.27450980392157, 38.235294117647065, 38.27450980392157, 38.274509803921575, 38.41176470588236, 38.54901960784315, 38.41176470588236, 38.49019607843138, 38.50980392156863, 38.41176470588236, 38.1764705882353, 38.0, 37.80392156862745, 37.58823529411765, 37.37254901960785, 37.019607843137265, 36.92156862745099, 36.94117647058824, 36.74509803921569, 36.68627450980393, 36.72549019607844, null, null, null, null, null, null, null, null, null, null, null, null, null, null, null, null, null, null, null, null, null, null, null, null, null], \"yaxis\": \"y2\"}, {\"name\": \"Seasonal\", \"type\": \"scatter\", \"x\": [0, 1, 2, 3, 4, 5, 6, 7, 8, 9, 10, 11, 12, 13, 14, 15, 16, 17, 18, 19, 20, 21, 22, 23, 24, 25, 26, 27, 28, 29, 30, 31, 32, 33, 34, 35, 36, 37, 38, 39, 40, 41, 42, 43, 44, 45, 46, 47, 48, 49, 50, 51, 52, 53, 54, 55, 56, 57, 58, 59, 60, 61, 62, 63, 64, 65, 66, 67, 68, 69, 70, 71, 72, 73, 74, 75, 76, 77, 78, 79, 80, 81, 82, 83, 84, 85, 86, 87, 88, 89, 90, 91, 92, 93, 94, 95, 96, 97, 98, 99, 100, 101, 102, 103, 104, 105, 106, 107, 108, 109, 110, 111, 112, 113, 114, 115, 116, 117, 118, 119, 120, 121, 122, 123, 124, 125, 126, 127, 128, 129, 130, 131, 132, 133, 134, 135, 136, 137, 138, 139, 140, 141, 142, 143, 144, 145, 146, 147, 148, 149, 150, 151, 152, 153, 154, 155, 156, 157, 158, 159, 160, 161, 162, 163, 164, 165, 166, 167, 168, 169, 170, 171, 172, 173, 174, 175, 176, 177, 178, 179, 180, 181, 182, 183, 184, 185, 186, 187, 188, 189, 190, 191, 192, 193, 194, 195, 196, 197, 198, 199, 200, 201, 202, 203, 204, 205, 206, 207, 208, 209, 210, 211, 212, 213, 214, 215, 216, 217, 218, 219, 220, 221, 222, 223, 224, 225, 226, 227, 228, 229, 230, 231, 232, 233, 234, 235, 236, 237, 238, 239, 240, 241, 242, 243, 244, 245, 246, 247, 248, 249, 250, 251, 252, 253, 254, 255, 256, 257, 258, 259, 260, 261, 262, 263, 264, 265, 266, 267, 268, 269, 270, 271, 272, 273, 274, 275, 276, 277, 278, 279, 280, 281, 282, 283, 284, 285, 286, 287, 288, 289, 290, 291, 292, 293, 294, 295, 296, 297, 298, 299, 300, 301, 302, 303, 304, 305, 306, 307, 308, 309, 310, 311, 312, 313, 314, 315, 316, 317, 318, 319, 320, 321, 322, 323, 324, 325, 326, 327, 328, 329, 330, 331, 332, 333, 334, 335, 336, 337, 338, 339, 340, 341, 342, 343, 344, 345, 346, 347, 348, 349, 350, 351, 352, 353, 354, 355, 356, 357, 358, 359, 360, 361, 362, 363, 364, 365, 366, 367, 368, 369, 370, 371, 372, 373, 374, 375, 376, 377, 378, 379, 380, 381, 382, 383, 384, 385, 386, 387, 388, 389, 390, 391, 392, 393, 394, 395, 396, 397, 398, 399, 400, 401, 402, 403, 404, 405, 406, 407, 408, 409, 410, 411, 412, 413, 414, 415, 416, 417, 418, 419, 420, 421, 422, 423, 424, 425, 426, 427, 428, 429, 430, 431, 432, 433, 434, 435, 436, 437, 438, 439, 440, 441, 442, 443, 444, 445, 446, 447, 448, 449, 450, 451, 452, 453, 454, 455, 456, 457, 458, 459, 460, 461, 462, 463, 464, 465, 466, 467, 468, 469, 470, 471, 472, 473, 474, 475, 476, 477, 478, 479, 480, 481, 482, 483, 484, 485, 486, 487, 488, 489, 490, 491, 492, 493, 494, 495, 496, 497, 498, 499, 500, 501, 502, 503, 504, 505, 506, 507, 508, 509, 510, 511, 512, 513, 514, 515, 516, 517, 518, 519, 520, 521, 522, 523, 524, 525, 526, 527, 528, 529, 530, 531, 532, 533, 534, 535, 536, 537, 538, 539, 540, 541, 542, 543, 544, 545, 546, 547, 548, 549, 550, 551, 552, 553, 554, 555, 556, 557, 558, 559, 560, 561, 562, 563, 564, 565, 566, 567, 568, 569, 570, 571, 572, 573, 574, 575, 576, 577, 578, 579, 580, 581, 582, 583, 584, 585, 586, 587, 588, 589, 590, 591, 592, 593, 594, 595, 596, 597, 598, 599, 600, 601, 602, 603, 604, 605, 606, 607, 608, 609, 610, 611, 612, 613, 614, 615, 616, 617, 618, 619, 620, 621, 622, 623, 624, 625, 626, 627, 628, 629, 630, 631, 632, 633, 634, 635, 636, 637, 638, 639, 640, 641, 642, 643, 644, 645, 646, 647, 648, 649, 650, 651, 652, 653, 654, 655, 656, 657, 658, 659, 660, 661, 662, 663, 664, 665, 666, 667, 668, 669, 670, 671, 672, 673, 674, 675, 676, 677, 678, 679, 680, 681, 682, 683, 684, 685, 686, 687, 688, 689, 690, 691, 692, 693, 694, 695, 696, 697, 698, 699, 700, 701, 702, 703, 704, 705, 706, 707, 708, 709, 710, 711, 712, 713, 714, 715, 716, 717, 718, 719, 720, 721, 722, 723, 724, 725, 726, 727, 728, 729, 730, 731, 732, 733, 734, 735, 736, 737, 738, 739, 740, 741, 742, 743, 744, 745, 746, 747, 748, 749, 750, 751, 752, 753, 754, 755, 756, 757, 758, 759, 760, 761, 762, 763, 764, 765, 766, 767, 768, 769, 770, 771, 772, 773, 774, 775, 776, 777, 778, 779, 780, 781, 782, 783, 784, 785, 786, 787, 788, 789, 790, 791, 792, 793, 794, 795, 796, 797, 798, 799, 800, 801, 802, 803, 804, 805, 806, 807, 808, 809, 810, 811, 812, 813, 814, 815, 816, 817, 818, 819, 820, 821, 822, 823, 824, 825, 826, 827, 828, 829, 830, 831, 832, 833, 834, 835, 836, 837, 838, 839, 840, 841, 842, 843, 844, 845, 846, 847, 848, 849, 850, 851, 852, 853, 854, 855, 856, 857, 858, 859, 860, 861, 862, 863, 864, 865, 866, 867, 868, 869, 870, 871, 872, 873, 874, 875, 876, 877, 878, 879, 880, 881, 882, 883, 884, 885, 886, 887, 888, 889, 890, 891, 892, 893, 894, 895, 896, 897, 898, 899, 900, 901, 902, 903, 904, 905, 906, 907, 908, 909, 910, 911, 912, 913, 914, 915, 916, 917, 918, 919, 920, 921, 922, 923, 924, 925, 926, 927, 928, 929, 930, 931, 932, 933, 934], \"xaxis\": \"x3\", \"y\": [-17.647051284950738, -19.032287732470916, -19.811987847811174, -20.63090364942594, -22.379461896254078, -20.59514817076388, -23.67703975092536, -22.532864433739668, -22.17876985473159, -22.43021160790345, -22.193764087718904, -22.23990018921832, -21.03805474515834, -21.64474447987577, -19.798147017361348, -17.169542634431707, -14.799300419898836, -10.495955552540124, -8.00114586395881, -6.973464203059155, -3.1603154141318175, 6.056524262915471, 16.041530029928154, 17.510964862684784, 20.102660364414895, 22.395880920611226, 28.65949747834544, 26.870826454380285, 29.359933208192928, 27.235750201656977, 27.62028179207092, 36.39043429751755, 36.6703907245328, 31.891523622136283, 30.449257826929312, 21.672569373770262, 17.84686131276809, 15.680194646101425, 12.627907064402075, 17.419846062223424, 10.719410332375935, 6.454704450022992, 0.02986784871580117, -4.192610685181417, -8.46827389164047, -7.871964779760425, -7.955009762459384, -10.124559935469765, -10.920407686334816, -14.494802150002638, -17.249127409518216, -17.647051284950738, -19.032287732470916, -19.811987847811174, -20.63090364942594, -22.379461896254078, -20.59514817076388, -23.67703975092536, -22.532864433739668, -22.17876985473159, -22.43021160790345, -22.193764087718904, -22.23990018921832, -21.03805474515834, -21.64474447987577, -19.798147017361348, -17.169542634431707, -14.799300419898836, -10.495955552540124, -8.00114586395881, -6.973464203059155, -3.1603154141318175, 6.056524262915471, 16.041530029928154, 17.510964862684784, 20.102660364414895, 22.395880920611226, 28.65949747834544, 26.870826454380285, 29.359933208192928, 27.235750201656977, 27.62028179207092, 36.39043429751755, 36.6703907245328, 31.891523622136283, 30.449257826929312, 21.672569373770262, 17.84686131276809, 15.680194646101425, 12.627907064402075, 17.419846062223424, 10.719410332375935, 6.454704450022992, 0.02986784871580117, -4.192610685181417, -8.46827389164047, -7.871964779760425, -7.955009762459384, -10.124559935469765, -10.920407686334816, -14.494802150002638, -17.249127409518216, -17.647051284950738, -19.032287732470916, -19.811987847811174, -20.63090364942594, -22.379461896254078, -20.59514817076388, -23.67703975092536, -22.532864433739668, -22.17876985473159, -22.43021160790345, -22.193764087718904, -22.23990018921832, -21.03805474515834, -21.64474447987577, -19.798147017361348, -17.169542634431707, -14.799300419898836, -10.495955552540124, -8.00114586395881, -6.973464203059155, -3.1603154141318175, 6.056524262915471, 16.041530029928154, 17.510964862684784, 20.102660364414895, 22.395880920611226, 28.65949747834544, 26.870826454380285, 29.359933208192928, 27.235750201656977, 27.62028179207092, 36.39043429751755, 36.6703907245328, 31.891523622136283, 30.449257826929312, 21.672569373770262, 17.84686131276809, 15.680194646101425, 12.627907064402075, 17.419846062223424, 10.719410332375935, 6.454704450022992, 0.02986784871580117, -4.192610685181417, -8.46827389164047, -7.871964779760425, -7.955009762459384, -10.124559935469765, -10.920407686334816, -14.494802150002638, -17.249127409518216, -17.647051284950738, -19.032287732470916, -19.811987847811174, -20.63090364942594, -22.379461896254078, -20.59514817076388, -23.67703975092536, -22.532864433739668, -22.17876985473159, -22.43021160790345, -22.193764087718904, -22.23990018921832, -21.03805474515834, -21.64474447987577, -19.798147017361348, -17.169542634431707, -14.799300419898836, -10.495955552540124, -8.00114586395881, -6.973464203059155, -3.1603154141318175, 6.056524262915471, 16.041530029928154, 17.510964862684784, 20.102660364414895, 22.395880920611226, 28.65949747834544, 26.870826454380285, 29.359933208192928, 27.235750201656977, 27.62028179207092, 36.39043429751755, 36.6703907245328, 31.891523622136283, 30.449257826929312, 21.672569373770262, 17.84686131276809, 15.680194646101425, 12.627907064402075, 17.419846062223424, 10.719410332375935, 6.454704450022992, 0.02986784871580117, -4.192610685181417, -8.46827389164047, -7.871964779760425, -7.955009762459384, -10.124559935469765, -10.920407686334816, -14.494802150002638, -17.249127409518216, -17.647051284950738, -19.032287732470916, -19.811987847811174, -20.63090364942594, -22.379461896254078, -20.59514817076388, -23.67703975092536, -22.532864433739668, -22.17876985473159, -22.43021160790345, -22.193764087718904, -22.23990018921832, -21.03805474515834, -21.64474447987577, -19.798147017361348, -17.169542634431707, -14.799300419898836, -10.495955552540124, -8.00114586395881, -6.973464203059155, -3.1603154141318175, 6.056524262915471, 16.041530029928154, 17.510964862684784, 20.102660364414895, 22.395880920611226, 28.65949747834544, 26.870826454380285, 29.359933208192928, 27.235750201656977, 27.62028179207092, 36.39043429751755, 36.6703907245328, 31.891523622136283, 30.449257826929312, 21.672569373770262, 17.84686131276809, 15.680194646101425, 12.627907064402075, 17.419846062223424, 10.719410332375935, 6.454704450022992, 0.02986784871580117, -4.192610685181417, -8.46827389164047, -7.871964779760425, -7.955009762459384, -10.124559935469765, -10.920407686334816, -14.494802150002638, -17.249127409518216, -17.647051284950738, -19.032287732470916, -19.811987847811174, -20.63090364942594, -22.379461896254078, -20.59514817076388, -23.67703975092536, -22.532864433739668, -22.17876985473159, -22.43021160790345, -22.193764087718904, -22.23990018921832, -21.03805474515834, -21.64474447987577, -19.798147017361348, -17.169542634431707, -14.799300419898836, -10.495955552540124, -8.00114586395881, -6.973464203059155, -3.1603154141318175, 6.056524262915471, 16.041530029928154, 17.510964862684784, 20.102660364414895, 22.395880920611226, 28.65949747834544, 26.870826454380285, 29.359933208192928, 27.235750201656977, 27.62028179207092, 36.39043429751755, 36.6703907245328, 31.891523622136283, 30.449257826929312, 21.672569373770262, 17.84686131276809, 15.680194646101425, 12.627907064402075, 17.419846062223424, 10.719410332375935, 6.454704450022992, 0.02986784871580117, -4.192610685181417, -8.46827389164047, -7.871964779760425, -7.955009762459384, -10.124559935469765, -10.920407686334816, -14.494802150002638, -17.249127409518216, -17.647051284950738, -19.032287732470916, -19.811987847811174, -20.63090364942594, -22.379461896254078, -20.59514817076388, -23.67703975092536, -22.532864433739668, -22.17876985473159, -22.43021160790345, -22.193764087718904, -22.23990018921832, -21.03805474515834, -21.64474447987577, -19.798147017361348, -17.169542634431707, -14.799300419898836, -10.495955552540124, -8.00114586395881, -6.973464203059155, -3.1603154141318175, 6.056524262915471, 16.041530029928154, 17.510964862684784, 20.102660364414895, 22.395880920611226, 28.65949747834544, 26.870826454380285, 29.359933208192928, 27.235750201656977, 27.62028179207092, 36.39043429751755, 36.6703907245328, 31.891523622136283, 30.449257826929312, 21.672569373770262, 17.84686131276809, 15.680194646101425, 12.627907064402075, 17.419846062223424, 10.719410332375935, 6.454704450022992, 0.02986784871580117, -4.192610685181417, -8.46827389164047, -7.871964779760425, -7.955009762459384, -10.124559935469765, -10.920407686334816, -14.494802150002638, -17.249127409518216, -17.647051284950738, -19.032287732470916, -19.811987847811174, -20.63090364942594, -22.379461896254078, -20.59514817076388, -23.67703975092536, -22.532864433739668, -22.17876985473159, -22.43021160790345, -22.193764087718904, -22.23990018921832, -21.03805474515834, -21.64474447987577, -19.798147017361348, -17.169542634431707, -14.799300419898836, -10.495955552540124, -8.00114586395881, -6.973464203059155, -3.1603154141318175, 6.056524262915471, 16.041530029928154, 17.510964862684784, 20.102660364414895, 22.395880920611226, 28.65949747834544, 26.870826454380285, 29.359933208192928, 27.235750201656977, 27.62028179207092, 36.39043429751755, 36.6703907245328, 31.891523622136283, 30.449257826929312, 21.672569373770262, 17.84686131276809, 15.680194646101425, 12.627907064402075, 17.419846062223424, 10.719410332375935, 6.454704450022992, 0.02986784871580117, -4.192610685181417, -8.46827389164047, -7.871964779760425, -7.955009762459384, -10.124559935469765, -10.920407686334816, -14.494802150002638, -17.249127409518216, -17.647051284950738, -19.032287732470916, -19.811987847811174, -20.63090364942594, -22.379461896254078, -20.59514817076388, -23.67703975092536, -22.532864433739668, -22.17876985473159, -22.43021160790345, -22.193764087718904, -22.23990018921832, -21.03805474515834, -21.64474447987577, -19.798147017361348, -17.169542634431707, -14.799300419898836, -10.495955552540124, -8.00114586395881, -6.973464203059155, -3.1603154141318175, 6.056524262915471, 16.041530029928154, 17.510964862684784, 20.102660364414895, 22.395880920611226, 28.65949747834544, 26.870826454380285, 29.359933208192928, 27.235750201656977, 27.62028179207092, 36.39043429751755, 36.6703907245328, 31.891523622136283, 30.449257826929312, 21.672569373770262, 17.84686131276809, 15.680194646101425, 12.627907064402075, 17.419846062223424, 10.719410332375935, 6.454704450022992, 0.02986784871580117, -4.192610685181417, -8.46827389164047, -7.871964779760425, -7.955009762459384, -10.124559935469765, -10.920407686334816, -14.494802150002638, -17.249127409518216, -17.647051284950738, -19.032287732470916, -19.811987847811174, -20.63090364942594, -22.379461896254078, -20.59514817076388, -23.67703975092536, -22.532864433739668, -22.17876985473159, -22.43021160790345, -22.193764087718904, -22.23990018921832, -21.03805474515834, -21.64474447987577, -19.798147017361348, -17.169542634431707, -14.799300419898836, -10.495955552540124, -8.00114586395881, -6.973464203059155, -3.1603154141318175, 6.056524262915471, 16.041530029928154, 17.510964862684784, 20.102660364414895, 22.395880920611226, 28.65949747834544, 26.870826454380285, 29.359933208192928, 27.235750201656977, 27.62028179207092, 36.39043429751755, 36.6703907245328, 31.891523622136283, 30.449257826929312, 21.672569373770262, 17.84686131276809, 15.680194646101425, 12.627907064402075, 17.419846062223424, 10.719410332375935, 6.454704450022992, 0.02986784871580117, -4.192610685181417, -8.46827389164047, -7.871964779760425, -7.955009762459384, -10.124559935469765, -10.920407686334816, -14.494802150002638, -17.249127409518216, -17.647051284950738, -19.032287732470916, -19.811987847811174, -20.63090364942594, -22.379461896254078, -20.59514817076388, -23.67703975092536, -22.532864433739668, -22.17876985473159, -22.43021160790345, -22.193764087718904, -22.23990018921832, -21.03805474515834, -21.64474447987577, -19.798147017361348, -17.169542634431707, -14.799300419898836, -10.495955552540124, -8.00114586395881, -6.973464203059155, -3.1603154141318175, 6.056524262915471, 16.041530029928154, 17.510964862684784, 20.102660364414895, 22.395880920611226, 28.65949747834544, 26.870826454380285, 29.359933208192928, 27.235750201656977, 27.62028179207092, 36.39043429751755, 36.6703907245328, 31.891523622136283, 30.449257826929312, 21.672569373770262, 17.84686131276809, 15.680194646101425, 12.627907064402075, 17.419846062223424, 10.719410332375935, 6.454704450022992, 0.02986784871580117, -4.192610685181417, -8.46827389164047, -7.871964779760425, -7.955009762459384, -10.124559935469765, -10.920407686334816, -14.494802150002638, -17.249127409518216, -17.647051284950738, -19.032287732470916, -19.811987847811174, -20.63090364942594, -22.379461896254078, -20.59514817076388, -23.67703975092536, -22.532864433739668, -22.17876985473159, -22.43021160790345, -22.193764087718904, -22.23990018921832, -21.03805474515834, -21.64474447987577, -19.798147017361348, -17.169542634431707, -14.799300419898836, -10.495955552540124, -8.00114586395881, -6.973464203059155, -3.1603154141318175, 6.056524262915471, 16.041530029928154, 17.510964862684784, 20.102660364414895, 22.395880920611226, 28.65949747834544, 26.870826454380285, 29.359933208192928, 27.235750201656977, 27.62028179207092, 36.39043429751755, 36.6703907245328, 31.891523622136283, 30.449257826929312, 21.672569373770262, 17.84686131276809, 15.680194646101425, 12.627907064402075, 17.419846062223424, 10.719410332375935, 6.454704450022992, 0.02986784871580117, -4.192610685181417, -8.46827389164047, -7.871964779760425, -7.955009762459384, -10.124559935469765, -10.920407686334816, -14.494802150002638, -17.249127409518216, -17.647051284950738, -19.032287732470916, -19.811987847811174, -20.63090364942594, -22.379461896254078, -20.59514817076388, -23.67703975092536, -22.532864433739668, -22.17876985473159, -22.43021160790345, -22.193764087718904, -22.23990018921832, -21.03805474515834, -21.64474447987577, -19.798147017361348, -17.169542634431707, -14.799300419898836, -10.495955552540124, -8.00114586395881, -6.973464203059155, -3.1603154141318175, 6.056524262915471, 16.041530029928154, 17.510964862684784, 20.102660364414895, 22.395880920611226, 28.65949747834544, 26.870826454380285, 29.359933208192928, 27.235750201656977, 27.62028179207092, 36.39043429751755, 36.6703907245328, 31.891523622136283, 30.449257826929312, 21.672569373770262, 17.84686131276809, 15.680194646101425, 12.627907064402075, 17.419846062223424, 10.719410332375935, 6.454704450022992, 0.02986784871580117, -4.192610685181417, -8.46827389164047, -7.871964779760425, -7.955009762459384, -10.124559935469765, -10.920407686334816, -14.494802150002638, -17.249127409518216, -17.647051284950738, -19.032287732470916, -19.811987847811174, -20.63090364942594, -22.379461896254078, -20.59514817076388, -23.67703975092536, -22.532864433739668, -22.17876985473159, -22.43021160790345, -22.193764087718904, -22.23990018921832, -21.03805474515834, -21.64474447987577, -19.798147017361348, -17.169542634431707, -14.799300419898836, -10.495955552540124, -8.00114586395881, -6.973464203059155, -3.1603154141318175, 6.056524262915471, 16.041530029928154, 17.510964862684784, 20.102660364414895, 22.395880920611226, 28.65949747834544, 26.870826454380285, 29.359933208192928, 27.235750201656977, 27.62028179207092, 36.39043429751755, 36.6703907245328, 31.891523622136283, 30.449257826929312, 21.672569373770262, 17.84686131276809, 15.680194646101425, 12.627907064402075, 17.419846062223424, 10.719410332375935, 6.454704450022992, 0.02986784871580117, -4.192610685181417, -8.46827389164047, -7.871964779760425, -7.955009762459384, -10.124559935469765, -10.920407686334816, -14.494802150002638, -17.249127409518216, -17.647051284950738, -19.032287732470916, -19.811987847811174, -20.63090364942594, -22.379461896254078, -20.59514817076388, -23.67703975092536, -22.532864433739668, -22.17876985473159, -22.43021160790345, -22.193764087718904, -22.23990018921832, -21.03805474515834, -21.64474447987577, -19.798147017361348, -17.169542634431707, -14.799300419898836, -10.495955552540124, -8.00114586395881, -6.973464203059155, -3.1603154141318175, 6.056524262915471, 16.041530029928154, 17.510964862684784, 20.102660364414895, 22.395880920611226, 28.65949747834544, 26.870826454380285, 29.359933208192928, 27.235750201656977, 27.62028179207092, 36.39043429751755, 36.6703907245328, 31.891523622136283, 30.449257826929312, 21.672569373770262, 17.84686131276809, 15.680194646101425, 12.627907064402075, 17.419846062223424, 10.719410332375935, 6.454704450022992, 0.02986784871580117, -4.192610685181417, -8.46827389164047, -7.871964779760425, -7.955009762459384, -10.124559935469765, -10.920407686334816, -14.494802150002638, -17.249127409518216, -17.647051284950738, -19.032287732470916, -19.811987847811174, -20.63090364942594, -22.379461896254078, -20.59514817076388, -23.67703975092536, -22.532864433739668, -22.17876985473159, -22.43021160790345, -22.193764087718904, -22.23990018921832, -21.03805474515834, -21.64474447987577, -19.798147017361348, -17.169542634431707, -14.799300419898836, -10.495955552540124, -8.00114586395881, -6.973464203059155, -3.1603154141318175, 6.056524262915471, 16.041530029928154, 17.510964862684784, 20.102660364414895, 22.395880920611226, 28.65949747834544, 26.870826454380285, 29.359933208192928, 27.235750201656977, 27.62028179207092, 36.39043429751755, 36.6703907245328, 31.891523622136283, 30.449257826929312, 21.672569373770262, 17.84686131276809, 15.680194646101425, 12.627907064402075, 17.419846062223424, 10.719410332375935, 6.454704450022992, 0.02986784871580117, -4.192610685181417, -8.46827389164047, -7.871964779760425, -7.955009762459384, -10.124559935469765, -10.920407686334816, -14.494802150002638, -17.249127409518216, -17.647051284950738, -19.032287732470916, -19.811987847811174, -20.63090364942594, -22.379461896254078, -20.59514817076388, -23.67703975092536, -22.532864433739668, -22.17876985473159, -22.43021160790345, -22.193764087718904, -22.23990018921832, -21.03805474515834, -21.64474447987577, -19.798147017361348, -17.169542634431707, -14.799300419898836, -10.495955552540124, -8.00114586395881, -6.973464203059155, -3.1603154141318175, 6.056524262915471, 16.041530029928154, 17.510964862684784, 20.102660364414895, 22.395880920611226, 28.65949747834544, 26.870826454380285, 29.359933208192928, 27.235750201656977, 27.62028179207092, 36.39043429751755, 36.6703907245328, 31.891523622136283, 30.449257826929312, 21.672569373770262, 17.84686131276809, 15.680194646101425, 12.627907064402075, 17.419846062223424, 10.719410332375935, 6.454704450022992, 0.02986784871580117, -4.192610685181417, -8.46827389164047, -7.871964779760425, -7.955009762459384, -10.124559935469765, -10.920407686334816, -14.494802150002638, -17.249127409518216, -17.647051284950738, -19.032287732470916, -19.811987847811174, -20.63090364942594, -22.379461896254078, -20.59514817076388, -23.67703975092536, -22.532864433739668, -22.17876985473159, -22.43021160790345, -22.193764087718904, -22.23990018921832, -21.03805474515834, -21.64474447987577, -19.798147017361348, -17.169542634431707, -14.799300419898836, -10.495955552540124, -8.00114586395881, -6.973464203059155, -3.1603154141318175, 6.056524262915471, 16.041530029928154, 17.510964862684784, 20.102660364414895, 22.395880920611226, 28.65949747834544, 26.870826454380285, 29.359933208192928, 27.235750201656977, 27.62028179207092, 36.39043429751755, 36.6703907245328, 31.891523622136283, 30.449257826929312, 21.672569373770262, 17.84686131276809, 15.680194646101425, 12.627907064402075, 17.419846062223424, 10.719410332375935, 6.454704450022992, 0.02986784871580117, -4.192610685181417, -8.46827389164047, -7.871964779760425, -7.955009762459384, -10.124559935469765, -10.920407686334816, -14.494802150002638, -17.249127409518216, -17.647051284950738, -19.032287732470916, -19.811987847811174, -20.63090364942594, -22.379461896254078, -20.59514817076388, -23.67703975092536, -22.532864433739668, -22.17876985473159, -22.43021160790345, -22.193764087718904, -22.23990018921832, -21.03805474515834, -21.64474447987577, -19.798147017361348, -17.169542634431707, -14.799300419898836], \"yaxis\": \"y3\"}, {\"name\": \"Observed\", \"type\": \"scatter\", \"x\": [0, 1, 2, 3, 4, 5, 6, 7, 8, 9, 10, 11, 12, 13, 14, 15, 16, 17, 18, 19, 20, 21, 22, 23, 24, 25, 26, 27, 28, 29, 30, 31, 32, 33, 34, 35, 36, 37, 38, 39, 40, 41, 42, 43, 44, 45, 46, 47, 48, 49, 50, 51, 52, 53, 54, 55, 56, 57, 58, 59, 60, 61, 62, 63, 64, 65, 66, 67, 68, 69, 70, 71, 72, 73, 74, 75, 76, 77, 78, 79, 80, 81, 82, 83, 84, 85, 86, 87, 88, 89, 90, 91, 92, 93, 94, 95, 96, 97, 98, 99, 100, 101, 102, 103, 104, 105, 106, 107, 108, 109, 110, 111, 112, 113, 114, 115, 116, 117, 118, 119, 120, 121, 122, 123, 124, 125, 126, 127, 128, 129, 130, 131, 132, 133, 134, 135, 136, 137, 138, 139, 140, 141, 142, 143, 144, 145, 146, 147, 148, 149, 150, 151, 152, 153, 154, 155, 156, 157, 158, 159, 160, 161, 162, 163, 164, 165, 166, 167, 168, 169, 170, 171, 172, 173, 174, 175, 176, 177, 178, 179, 180, 181, 182, 183, 184, 185, 186, 187, 188, 189, 190, 191, 192, 193, 194, 195, 196, 197, 198, 199, 200, 201, 202, 203, 204, 205, 206, 207, 208, 209, 210, 211, 212, 213, 214, 215, 216, 217, 218, 219, 220, 221, 222, 223, 224, 225, 226, 227, 228, 229, 230, 231, 232, 233, 234, 235, 236, 237, 238, 239, 240, 241, 242, 243, 244, 245, 246, 247, 248, 249, 250, 251, 252, 253, 254, 255, 256, 257, 258, 259, 260, 261, 262, 263, 264, 265, 266, 267, 268, 269, 270, 271, 272, 273, 274, 275, 276, 277, 278, 279, 280, 281, 282, 283, 284, 285, 286, 287, 288, 289, 290, 291, 292, 293, 294, 295, 296, 297, 298, 299, 300, 301, 302, 303, 304, 305, 306, 307, 308, 309, 310, 311, 312, 313, 314, 315, 316, 317, 318, 319, 320, 321, 322, 323, 324, 325, 326, 327, 328, 329, 330, 331, 332, 333, 334, 335, 336, 337, 338, 339, 340, 341, 342, 343, 344, 345, 346, 347, 348, 349, 350, 351, 352, 353, 354, 355, 356, 357, 358, 359, 360, 361, 362, 363, 364, 365, 366, 367, 368, 369, 370, 371, 372, 373, 374, 375, 376, 377, 378, 379, 380, 381, 382, 383, 384, 385, 386, 387, 388, 389, 390, 391, 392, 393, 394, 395, 396, 397, 398, 399, 400, 401, 402, 403, 404, 405, 406, 407, 408, 409, 410, 411, 412, 413, 414, 415, 416, 417, 418, 419, 420, 421, 422, 423, 424, 425, 426, 427, 428, 429, 430, 431, 432, 433, 434, 435, 436, 437, 438, 439, 440, 441, 442, 443, 444, 445, 446, 447, 448, 449, 450, 451, 452, 453, 454, 455, 456, 457, 458, 459, 460, 461, 462, 463, 464, 465, 466, 467, 468, 469, 470, 471, 472, 473, 474, 475, 476, 477, 478, 479, 480, 481, 482, 483, 484, 485, 486, 487, 488, 489, 490, 491, 492, 493, 494, 495, 496, 497, 498, 499, 500, 501, 502, 503, 504, 505, 506, 507, 508, 509, 510, 511, 512, 513, 514, 515, 516, 517, 518, 519, 520, 521, 522, 523, 524, 525, 526, 527, 528, 529, 530, 531, 532, 533, 534, 535, 536, 537, 538, 539, 540, 541, 542, 543, 544, 545, 546, 547, 548, 549, 550, 551, 552, 553, 554, 555, 556, 557, 558, 559, 560, 561, 562, 563, 564, 565, 566, 567, 568, 569, 570, 571, 572, 573, 574, 575, 576, 577, 578, 579, 580, 581, 582, 583, 584, 585, 586, 587, 588, 589, 590, 591, 592, 593, 594, 595, 596, 597, 598, 599, 600, 601, 602, 603, 604, 605, 606, 607, 608, 609, 610, 611, 612, 613, 614, 615, 616, 617, 618, 619, 620, 621, 622, 623, 624, 625, 626, 627, 628, 629, 630, 631, 632, 633, 634, 635, 636, 637, 638, 639, 640, 641, 642, 643, 644, 645, 646, 647, 648, 649, 650, 651, 652, 653, 654, 655, 656, 657, 658, 659, 660, 661, 662, 663, 664, 665, 666, 667, 668, 669, 670, 671, 672, 673, 674, 675, 676, 677, 678, 679, 680, 681, 682, 683, 684, 685, 686, 687, 688, 689, 690, 691, 692, 693, 694, 695, 696, 697, 698, 699, 700, 701, 702, 703, 704, 705, 706, 707, 708, 709, 710, 711, 712, 713, 714, 715, 716, 717, 718, 719, 720, 721, 722, 723, 724, 725, 726, 727, 728, 729, 730, 731, 732, 733, 734, 735, 736, 737, 738, 739, 740, 741, 742, 743, 744, 745, 746, 747, 748, 749, 750, 751, 752, 753, 754, 755, 756, 757, 758, 759, 760, 761, 762, 763, 764, 765, 766, 767, 768, 769, 770, 771, 772, 773, 774, 775, 776, 777, 778, 779, 780, 781, 782, 783, 784, 785, 786, 787, 788, 789, 790, 791, 792, 793, 794, 795, 796, 797, 798, 799, 800, 801, 802, 803, 804, 805, 806, 807, 808, 809, 810, 811, 812, 813, 814, 815, 816, 817, 818, 819, 820, 821, 822, 823, 824, 825, 826, 827, 828, 829, 830, 831, 832, 833, 834, 835, 836, 837, 838, 839, 840, 841, 842, 843, 844, 845, 846, 847, 848, 849, 850, 851, 852, 853, 854, 855, 856, 857, 858, 859, 860, 861, 862, 863, 864, 865, 866, 867, 868, 869, 870, 871, 872, 873, 874, 875, 876, 877, 878, 879, 880, 881, 882, 883, 884, 885, 886, 887, 888, 889, 890, 891, 892, 893, 894, 895, 896, 897, 898, 899, 900, 901, 902, 903, 904, 905, 906, 907, 908, 909, 910, 911, 912, 913, 914, 915, 916, 917, 918, 919, 920, 921, 922, 923, 924, 925, 926, 927, 928, 929, 930, 931, 932, 933, 934], \"xaxis\": \"x4\", \"y\": [4, 5, 4, 3, 6, 2, 4, 5, 10, 6, 8, 2, 6, 17, 23, 13, 21, 28, 24, 20, 40, 27, 42, 33, 43, 37, 57, 71, 44, 56, 53, 52, 47, 26, 27, 21, 21, 26, 34, 37, 17, 19, 25, 18, 21, 17, 17, 16, 16, 15, 23, 16, 17, 12, 17, 10, 15, 19, 21, 14, 18, 13, 14, 18, 23, 25, 62, 60, 76, 66, 64, 68, 89, 92, 140, 116, 142, 129, 140, 140, 127, 129, 169, 141, 108, 78, 70, 81, 104, 90, 85, 55, 53, 65, 33, 38, 59, 40, 37, 29, 30, 30, 28, 23, 24, 29, 26, 23, 20, 19, 20, 26, 29, 31, 28, 26, 32, 35, 33, 30, 52, 59, 67, 65, 74, 70, 61, 53, 76, 61, 57, 44, 34, 47, 60, 60, 53, 36, 31, 30, 32, 28, 33, 33, 35, 22, 13, 13, 21, 17, 11, 8, 8, 6, 6, 7, 12, 17, 10, 10, 18, 19, 12, 22, 12, 21, 18, 16, 16, 22, 17, 25, 23, 12, 25, 28, 27, 18, 23, 23, 29, 38, 36, 43, 46, 31, 25, 40, 31, 38, 30, 22, 31, 26, 35, 36, 39, 25, 31, 37, 33, 25, 24, 18, 23, 13, 18, 14, 17, 22, 13, 24, 31, 34, 31, 31, 38, 49, 42, 49, 55, 80, 84, 72, 89, 115, 179, 202, 272, 302, 395, 426, 461, 381, 333, 353, 410, 364, 359, 288, 221, 149, 112, 154, 91, 72, 56, 46, 37, 26, 17, 17, 20, 11, 7, 16, 14, 16, 5, 2, 6, 5, 4, 3, 4, 16, 8, 7, 10, 14, 7, 9, 11, 23, 17, 19, 24, 17, 28, 40, 33, 31, 33, 29, 30, 36, 48, 40, 28, 36, 19, 34, 23, 17, 17, 23, 14, 20, 13, 23, 20, 16, 16, 23, 14, 15, 4, 5, 5, 11, 11, 7, 4, 6, 5, 2, 4, 2, 4, 6, 6, 4, 6, 11, 16, 9, 12, 13, 27, 21, 19, 17, 24, 27, 30, 29, 25, 35, 33, 30, 29, 31, 29, 22, 27, 24, 26, 29, 22, 33, 24, 30, 20, 17, 24, 28, 18, 13, 9, 14, 11, 11, 19, 10, 8, 8, 9, 3, 7, 14, 4, 9, 14, 7, 9, 3, 3, 14, 12, 10, 21, 26, 47, 42, 31, 34, 33, 52, 56, 70, 112, 70, 47, 48, 49, 66, 56, 61, 67, 64, 68, 49, 50, 56, 75, 63, 62, 41, 50, 34, 31, 38, 30, 32, 26, 30, 36, 35, 46, 48, 44, 51, 59, 71, 102, 128, 127, 150, 191, 256, 329, 263, 220, 204, 181, 99, 54, 80, 102, 127, 73, 68, 64, 55, 67, 84, 85, 67, 73, 89, 68, 59, 56, 77, 75, 47, 50, 42, 28, 37, 37, 27, 12, 15, 22, 8, 15, 17, 10, 9, 11, 20, 13, 11, 16, 11, 7, 17, 14, 13, 15, 30, 25, 40, 44, 25, 21, 48, 56, 60, 45, 55, 32, 46, 61, 42, 37, 43, 34, 40, 25, 16, 17, 17, 16, 23, 18, 18, 9, 7, 7, 4, 3, 2, 8, 3, 1, 1, 2, 3, 3, 2, 0, 0, 2, 2, 0, 6, 3, 6, 2, 3, 2, 4, 5, 2, 9, 2, 4, 8, 6, 3, 11, 14, 15, 20, 9, 20, 28, 38, 30, 30, 23, 16, 22, 28, 14, 17, 20, 17, 10, 13, 20, 9, 18, 9, 8, 19, 11, 4, 6, 6, 8, 13, 8, 8, 5, 16, 12, 11, 18, 10, 22, 14, 16, 18, 27, 38, 35, 41, 51, 65, 55, 54, 62, 64, 56, 65, 71, 75, 71, 72, 47, 27, 35, 25, 19, 37, 38, 34, 26, 19, 18, 22, 16, 18, 6, 12, 6, 6, 3, 7, 6, 1, 3, 2, 2, 1, 10, 3, 3, 1, 1, 2, 6, 3, 3, 5, 4, 7, 6, 5, 7, 6, 4, 4, 7, 9, 5, 5, 10, 6, 13, 6, 5, 5, 9, 3, 6, 11, 7, 7, 15, 9, 6, 6, 6, 7, 10, 8, 7, 12, 3, 2, 7, 5, 5, 7, 7, 7, 7, 10, 13, 10, 14, 11, 20, 25, 17, 18, 25, 21, 31, 32, 26, 35, 28, 37, 41, 34, 30, 39, 39, 39, 34, 30, 37, 29, 26, 15, 22, 15, 20, 14, 10, 21, 14, 14, 9, 11, 5, 6, 7, 11, 4, 3, 2, 6, 10, 7, 5, 3, 12, 13, 10, 13, 13, 8, 21, 18, 8, 7, 20, 14, 14, 7, 14, 10, 13, 27, 13, 18, 16, 16, 20, 17, 4, 15, 8, 6, 12, 15, 11, 10, 15, 17, 7, 7, 8, 9, 12, 12, 5, 4, 11, 4, 5, 7, 1, 1, 4, 2, 6, 3, 4, 10, 12, 21, 26, 21, 30, 45, 56, 75, 83, 82, 126, 119, 137, 131, 112, 82, 73, 43, 55, 55, 53, 46, 43, 29, 22, 26, 13, 17, 8, 13, 10, 17, 19, 9, 9, 9, 3, 7, 7, 0, 2, 3, 3, 1, 3, 3, 3, 7, 3, 5, 11, 5, 5, 6, 6, 4, 4, 8, 14, 12, 16, 10, 16, 18, 15, 23, 17, 33, 15, 13, 11, 14, 17, 19, 20, 12, 21, 7, 19, 10, 13, 10, 8, 21, 11, 9, 14, 14, 15, 18, 16, 12, 20, 8, 3, 13, 4, 1, 10, 8, 13, 10, 21, 18, 21, 34, 25, 34, 33, 40, 42, 36, 72, 75, 76, 92, 71, 112, 106, 101, 170, 135, 106, 68, 48, 48, 26, 33, 29, 17, 12, 13, 17, 15, 14, 15, 10, 9, 2, 6, 8, 5, 1, 2, 3, 4, 3, 1, 3], \"yaxis\": \"y4\"}],\n",
              "                        {\"font\": {\"color\": \"blue\", \"family\": \"Courier New\"}, \"template\": {\"data\": {\"bar\": [{\"error_x\": {\"color\": \"#2a3f5f\"}, \"error_y\": {\"color\": \"#2a3f5f\"}, \"marker\": {\"line\": {\"color\": \"#E5ECF6\", \"width\": 0.5}}, \"type\": \"bar\"}], \"barpolar\": [{\"marker\": {\"line\": {\"color\": \"#E5ECF6\", \"width\": 0.5}}, \"type\": \"barpolar\"}], \"carpet\": [{\"aaxis\": {\"endlinecolor\": \"#2a3f5f\", \"gridcolor\": \"white\", \"linecolor\": \"white\", \"minorgridcolor\": \"white\", \"startlinecolor\": \"#2a3f5f\"}, \"baxis\": {\"endlinecolor\": \"#2a3f5f\", \"gridcolor\": \"white\", \"linecolor\": \"white\", \"minorgridcolor\": \"white\", \"startlinecolor\": \"#2a3f5f\"}, \"type\": \"carpet\"}], \"choropleth\": [{\"colorbar\": {\"outlinewidth\": 0, \"ticks\": \"\"}, \"type\": \"choropleth\"}], \"contour\": [{\"colorbar\": {\"outlinewidth\": 0, \"ticks\": \"\"}, \"colorscale\": [[0.0, \"#0d0887\"], [0.1111111111111111, \"#46039f\"], [0.2222222222222222, \"#7201a8\"], [0.3333333333333333, \"#9c179e\"], [0.4444444444444444, \"#bd3786\"], [0.5555555555555556, \"#d8576b\"], [0.6666666666666666, \"#ed7953\"], [0.7777777777777778, \"#fb9f3a\"], [0.8888888888888888, \"#fdca26\"], [1.0, \"#f0f921\"]], \"type\": \"contour\"}], \"contourcarpet\": [{\"colorbar\": {\"outlinewidth\": 0, \"ticks\": \"\"}, \"type\": \"contourcarpet\"}], \"heatmap\": [{\"colorbar\": {\"outlinewidth\": 0, \"ticks\": \"\"}, \"colorscale\": [[0.0, \"#0d0887\"], [0.1111111111111111, \"#46039f\"], [0.2222222222222222, \"#7201a8\"], [0.3333333333333333, \"#9c179e\"], [0.4444444444444444, \"#bd3786\"], [0.5555555555555556, \"#d8576b\"], [0.6666666666666666, \"#ed7953\"], [0.7777777777777778, \"#fb9f3a\"], [0.8888888888888888, \"#fdca26\"], [1.0, \"#f0f921\"]], \"type\": \"heatmap\"}], \"heatmapgl\": [{\"colorbar\": {\"outlinewidth\": 0, \"ticks\": \"\"}, \"colorscale\": [[0.0, \"#0d0887\"], [0.1111111111111111, \"#46039f\"], [0.2222222222222222, \"#7201a8\"], [0.3333333333333333, \"#9c179e\"], [0.4444444444444444, \"#bd3786\"], [0.5555555555555556, \"#d8576b\"], [0.6666666666666666, \"#ed7953\"], [0.7777777777777778, \"#fb9f3a\"], [0.8888888888888888, \"#fdca26\"], [1.0, \"#f0f921\"]], \"type\": \"heatmapgl\"}], \"histogram\": [{\"marker\": {\"colorbar\": {\"outlinewidth\": 0, \"ticks\": \"\"}}, \"type\": \"histogram\"}], \"histogram2d\": [{\"colorbar\": {\"outlinewidth\": 0, \"ticks\": \"\"}, \"colorscale\": [[0.0, \"#0d0887\"], [0.1111111111111111, \"#46039f\"], [0.2222222222222222, \"#7201a8\"], [0.3333333333333333, \"#9c179e\"], [0.4444444444444444, \"#bd3786\"], [0.5555555555555556, \"#d8576b\"], [0.6666666666666666, \"#ed7953\"], [0.7777777777777778, \"#fb9f3a\"], [0.8888888888888888, \"#fdca26\"], [1.0, \"#f0f921\"]], \"type\": \"histogram2d\"}], \"histogram2dcontour\": [{\"colorbar\": {\"outlinewidth\": 0, \"ticks\": \"\"}, \"colorscale\": [[0.0, \"#0d0887\"], [0.1111111111111111, \"#46039f\"], [0.2222222222222222, \"#7201a8\"], [0.3333333333333333, \"#9c179e\"], [0.4444444444444444, \"#bd3786\"], [0.5555555555555556, \"#d8576b\"], [0.6666666666666666, \"#ed7953\"], [0.7777777777777778, \"#fb9f3a\"], [0.8888888888888888, \"#fdca26\"], [1.0, \"#f0f921\"]], \"type\": \"histogram2dcontour\"}], \"mesh3d\": [{\"colorbar\": {\"outlinewidth\": 0, \"ticks\": \"\"}, \"type\": \"mesh3d\"}], \"parcoords\": [{\"line\": {\"colorbar\": {\"outlinewidth\": 0, \"ticks\": \"\"}}, \"type\": \"parcoords\"}], \"pie\": [{\"automargin\": true, \"type\": \"pie\"}], \"scatter\": [{\"marker\": {\"colorbar\": {\"outlinewidth\": 0, \"ticks\": \"\"}}, \"type\": \"scatter\"}], \"scatter3d\": [{\"line\": {\"colorbar\": {\"outlinewidth\": 0, \"ticks\": \"\"}}, \"marker\": {\"colorbar\": {\"outlinewidth\": 0, \"ticks\": \"\"}}, \"type\": \"scatter3d\"}], \"scattercarpet\": [{\"marker\": {\"colorbar\": {\"outlinewidth\": 0, \"ticks\": \"\"}}, \"type\": \"scattercarpet\"}], \"scattergeo\": [{\"marker\": {\"colorbar\": {\"outlinewidth\": 0, \"ticks\": \"\"}}, \"type\": \"scattergeo\"}], \"scattergl\": [{\"marker\": {\"colorbar\": {\"outlinewidth\": 0, \"ticks\": \"\"}}, \"type\": \"scattergl\"}], \"scattermapbox\": [{\"marker\": {\"colorbar\": {\"outlinewidth\": 0, \"ticks\": \"\"}}, \"type\": \"scattermapbox\"}], \"scatterpolar\": [{\"marker\": {\"colorbar\": {\"outlinewidth\": 0, \"ticks\": \"\"}}, \"type\": \"scatterpolar\"}], \"scatterpolargl\": [{\"marker\": {\"colorbar\": {\"outlinewidth\": 0, \"ticks\": \"\"}}, \"type\": \"scatterpolargl\"}], \"scatterternary\": [{\"marker\": {\"colorbar\": {\"outlinewidth\": 0, \"ticks\": \"\"}}, \"type\": \"scatterternary\"}], \"surface\": [{\"colorbar\": {\"outlinewidth\": 0, \"ticks\": \"\"}, \"colorscale\": [[0.0, \"#0d0887\"], [0.1111111111111111, \"#46039f\"], [0.2222222222222222, \"#7201a8\"], [0.3333333333333333, \"#9c179e\"], [0.4444444444444444, \"#bd3786\"], [0.5555555555555556, \"#d8576b\"], [0.6666666666666666, \"#ed7953\"], [0.7777777777777778, \"#fb9f3a\"], [0.8888888888888888, \"#fdca26\"], [1.0, \"#f0f921\"]], \"type\": \"surface\"}], \"table\": [{\"cells\": {\"fill\": {\"color\": \"#EBF0F8\"}, \"line\": {\"color\": \"white\"}}, \"header\": {\"fill\": {\"color\": \"#C8D4E3\"}, \"line\": {\"color\": \"white\"}}, \"type\": \"table\"}]}, \"layout\": {\"annotationdefaults\": {\"arrowcolor\": \"#2a3f5f\", \"arrowhead\": 0, \"arrowwidth\": 1}, \"coloraxis\": {\"colorbar\": {\"outlinewidth\": 0, \"ticks\": \"\"}}, \"colorscale\": {\"diverging\": [[0, \"#8e0152\"], [0.1, \"#c51b7d\"], [0.2, \"#de77ae\"], [0.3, \"#f1b6da\"], [0.4, \"#fde0ef\"], [0.5, \"#f7f7f7\"], [0.6, \"#e6f5d0\"], [0.7, \"#b8e186\"], [0.8, \"#7fbc41\"], [0.9, \"#4d9221\"], [1, \"#276419\"]], \"sequential\": [[0.0, \"#0d0887\"], [0.1111111111111111, \"#46039f\"], [0.2222222222222222, \"#7201a8\"], [0.3333333333333333, \"#9c179e\"], [0.4444444444444444, \"#bd3786\"], [0.5555555555555556, \"#d8576b\"], [0.6666666666666666, \"#ed7953\"], [0.7777777777777778, \"#fb9f3a\"], [0.8888888888888888, \"#fdca26\"], [1.0, \"#f0f921\"]], \"sequentialminus\": [[0.0, \"#0d0887\"], [0.1111111111111111, \"#46039f\"], [0.2222222222222222, \"#7201a8\"], [0.3333333333333333, \"#9c179e\"], [0.4444444444444444, \"#bd3786\"], [0.5555555555555556, \"#d8576b\"], [0.6666666666666666, \"#ed7953\"], [0.7777777777777778, \"#fb9f3a\"], [0.8888888888888888, \"#fdca26\"], [1.0, \"#f0f921\"]]}, \"colorway\": [\"#636efa\", \"#EF553B\", \"#00cc96\", \"#ab63fa\", \"#FFA15A\", \"#19d3f3\", \"#FF6692\", \"#B6E880\", \"#FF97FF\", \"#FECB52\"], \"font\": {\"color\": \"#2a3f5f\"}, \"geo\": {\"bgcolor\": \"white\", \"lakecolor\": \"white\", \"landcolor\": \"#E5ECF6\", \"showlakes\": true, \"showland\": true, \"subunitcolor\": \"white\"}, \"hoverlabel\": {\"align\": \"left\"}, \"hovermode\": \"closest\", \"mapbox\": {\"style\": \"light\"}, \"paper_bgcolor\": \"white\", \"plot_bgcolor\": \"#E5ECF6\", \"polar\": {\"angularaxis\": {\"gridcolor\": \"white\", \"linecolor\": \"white\", \"ticks\": \"\"}, \"bgcolor\": \"#E5ECF6\", \"radialaxis\": {\"gridcolor\": \"white\", \"linecolor\": \"white\", \"ticks\": \"\"}}, \"scene\": {\"xaxis\": {\"backgroundcolor\": \"#E5ECF6\", \"gridcolor\": \"white\", \"gridwidth\": 2, \"linecolor\": \"white\", \"showbackground\": true, \"ticks\": \"\", \"zerolinecolor\": \"white\"}, \"yaxis\": {\"backgroundcolor\": \"#E5ECF6\", \"gridcolor\": \"white\", \"gridwidth\": 2, \"linecolor\": \"white\", \"showbackground\": true, \"ticks\": \"\", \"zerolinecolor\": \"white\"}, \"zaxis\": {\"backgroundcolor\": \"#E5ECF6\", \"gridcolor\": \"white\", \"gridwidth\": 2, \"linecolor\": \"white\", \"showbackground\": true, \"ticks\": \"\", \"zerolinecolor\": \"white\"}}, \"shapedefaults\": {\"line\": {\"color\": \"#2a3f5f\"}}, \"ternary\": {\"aaxis\": {\"gridcolor\": \"white\", \"linecolor\": \"white\", \"ticks\": \"\"}, \"baxis\": {\"gridcolor\": \"white\", \"linecolor\": \"white\", \"ticks\": \"\"}, \"bgcolor\": \"#E5ECF6\", \"caxis\": {\"gridcolor\": \"white\", \"linecolor\": \"white\", \"ticks\": \"\"}}, \"title\": {\"x\": 0.05}, \"xaxis\": {\"automargin\": true, \"gridcolor\": \"white\", \"linecolor\": \"white\", \"ticks\": \"\", \"title\": {\"standoff\": 15}, \"zerolinecolor\": \"white\", \"zerolinewidth\": 2}, \"yaxis\": {\"automargin\": true, \"gridcolor\": \"white\", \"linecolor\": \"white\", \"ticks\": \"\", \"title\": {\"standoff\": 15}, \"zerolinecolor\": \"white\", \"zerolinewidth\": 2}}}, \"title\": {\"font\": {\"color\": \"red\", \"family\": \"Times New Roman\"}}, \"xaxis\": {\"anchor\": \"y\", \"domain\": [0.0, 1.0], \"matches\": \"x4\", \"showticklabels\": false}, \"xaxis2\": {\"anchor\": \"y2\", \"domain\": [0.0, 1.0], \"matches\": \"x4\", \"showticklabels\": false}, \"xaxis3\": {\"anchor\": \"y3\", \"domain\": [0.0, 1.0], \"matches\": \"x4\", \"showticklabels\": false}, \"xaxis4\": {\"anchor\": \"y4\", \"domain\": [0.0, 1.0]}, \"yaxis\": {\"anchor\": \"x\", \"domain\": [0.80625, 1.0]}, \"yaxis2\": {\"anchor\": \"x2\", \"domain\": [0.5375, 0.73125]}, \"yaxis3\": {\"anchor\": \"x3\", \"domain\": [0.26875, 0.4625]}, \"yaxis4\": {\"anchor\": \"x4\", \"domain\": [0.0, 0.19375]}},\n",
              "                        {\"responsive\": true}\n",
              "                    ).then(function(){\n",
              "                            \n",
              "var gd = document.getElementById('04398646-dd8b-4326-8448-fb6ca712a81d');\n",
              "var x = new MutationObserver(function (mutations, observer) {{\n",
              "        var display = window.getComputedStyle(gd).display;\n",
              "        if (!display || display === 'none') {{\n",
              "            console.log([gd, 'removed!']);\n",
              "            Plotly.purge(gd);\n",
              "            observer.disconnect();\n",
              "        }}\n",
              "}});\n",
              "\n",
              "// Listen for the removal of the full notebook cells\n",
              "var notebookContainer = gd.closest('#notebook-container');\n",
              "if (notebookContainer) {{\n",
              "    x.observe(notebookContainer, {childList: true});\n",
              "}}\n",
              "\n",
              "// Listen for the clearing of the current output cell\n",
              "var outputEl = gd.closest('.output');\n",
              "if (outputEl) {{\n",
              "    x.observe(outputEl, {childList: true});\n",
              "}}\n",
              "\n",
              "                        })\n",
              "                };\n",
              "                \n",
              "            </script>\n",
              "        </div>\n",
              "</body>\n",
              "</html>"
            ]
          },
          "metadata": {
            "tags": []
          }
        }
      ]
    },
    {
      "cell_type": "code",
      "metadata": {
        "id": "AR45Rq317lml",
        "colab": {
          "base_uri": "https://localhost:8080/"
        },
        "outputId": "632159e3-c2da-49b7-fb9e-cc090a1c723b"
      },
      "source": [
        "X_train_sj.columns"
      ],
      "execution_count": 62,
      "outputs": [
        {
          "output_type": "execute_result",
          "data": {
            "text/plain": [
              "Index(['city', 'year', 'weekofyear', 'week_start_date', 'ndvi_ne', 'ndvi_nw',\n",
              "       'ndvi_se', 'ndvi_sw', 'precipitation_amt_mm', 'reanalysis_air_temp_k',\n",
              "       'reanalysis_avg_temp_k', 'reanalysis_dew_point_temp_k',\n",
              "       'reanalysis_max_air_temp_k', 'reanalysis_min_air_temp_k',\n",
              "       'reanalysis_precip_amt_kg_per_m2',\n",
              "       'reanalysis_relative_humidity_percent', 'reanalysis_sat_precip_amt_mm',\n",
              "       'reanalysis_specific_humidity_g_per_kg', 'reanalysis_tdtr_k',\n",
              "       'station_avg_temp_c', 'station_diur_temp_rng_c', 'station_max_temp_c',\n",
              "       'station_min_temp_c', 'station_precip_mm', 'total_cases'],\n",
              "      dtype='object')"
            ]
          },
          "metadata": {
            "tags": []
          },
          "execution_count": 62
        }
      ]
    },
    {
      "cell_type": "code",
      "metadata": {
        "id": "5cOOh2YW7xq1"
      },
      "source": [
        "prediktorok=['weekofyear',  'ndvi_ne', 'ndvi_nw',\n",
        "       'ndvi_se', 'ndvi_sw', 'precipitation_amt_mm', 'reanalysis_air_temp_k',\n",
        "       'reanalysis_avg_temp_k', 'reanalysis_dew_point_temp_k',\n",
        "       'reanalysis_max_air_temp_k', 'reanalysis_min_air_temp_k',\n",
        "       'reanalysis_precip_amt_kg_per_m2',\n",
        "       'reanalysis_relative_humidity_percent', 'reanalysis_sat_precip_amt_mm',\n",
        "       'reanalysis_specific_humidity_g_per_kg', 'reanalysis_tdtr_k',\n",
        "       'station_avg_temp_c', 'station_diur_temp_rng_c', 'station_max_temp_c',\n",
        "       'station_min_temp_c', 'station_precip_mm']"
      ],
      "execution_count": 63,
      "outputs": []
    },
    {
      "cell_type": "code",
      "metadata": {
        "id": "aUoUILObDTiy",
        "colab": {
          "base_uri": "https://localhost:8080/"
        },
        "outputId": "5fe6099b-47e1-4465-f531-1b56b79acd64"
      },
      "source": [
        "X_train_sj.isnull().sum()\n"
      ],
      "execution_count": 64,
      "outputs": [
        {
          "output_type": "execute_result",
          "data": {
            "text/plain": [
              "city                                       0\n",
              "year                                       0\n",
              "weekofyear                                 0\n",
              "week_start_date                            0\n",
              "ndvi_ne                                  191\n",
              "ndvi_nw                                   49\n",
              "ndvi_se                                   19\n",
              "ndvi_sw                                   19\n",
              "precipitation_amt_mm                       9\n",
              "reanalysis_air_temp_k                      6\n",
              "reanalysis_avg_temp_k                      6\n",
              "reanalysis_dew_point_temp_k                6\n",
              "reanalysis_max_air_temp_k                  6\n",
              "reanalysis_min_air_temp_k                  6\n",
              "reanalysis_precip_amt_kg_per_m2            6\n",
              "reanalysis_relative_humidity_percent       6\n",
              "reanalysis_sat_precip_amt_mm               9\n",
              "reanalysis_specific_humidity_g_per_kg      6\n",
              "reanalysis_tdtr_k                          6\n",
              "station_avg_temp_c                         6\n",
              "station_diur_temp_rng_c                    6\n",
              "station_max_temp_c                         6\n",
              "station_min_temp_c                         6\n",
              "station_precip_mm                          6\n",
              "total_cases                                0\n",
              "dtype: int64"
            ]
          },
          "metadata": {
            "tags": []
          },
          "execution_count": 64
        }
      ]
    },
    {
      "cell_type": "code",
      "metadata": {
        "id": "qPGLZvjj8Lkw",
        "colab": {
          "base_uri": "https://localhost:8080/"
        },
        "outputId": "c642d28e-5334-4629-fe14-e0c89a9f4329"
      },
      "source": [
        "X_train_sj.dropna(inplace=True)"
      ],
      "execution_count": 65,
      "outputs": [
        {
          "output_type": "stream",
          "text": [
            "/usr/local/lib/python3.7/dist-packages/ipykernel_launcher.py:1: SettingWithCopyWarning:\n",
            "\n",
            "\n",
            "A value is trying to be set on a copy of a slice from a DataFrame\n",
            "\n",
            "See the caveats in the documentation: https://pandas.pydata.org/pandas-docs/stable/user_guide/indexing.html#returning-a-view-versus-a-copy\n",
            "\n"
          ],
          "name": "stderr"
        }
      ]
    },
    {
      "cell_type": "code",
      "metadata": {
        "id": "aUK_gUz77irh",
        "colab": {
          "base_uri": "https://localhost:8080/"
        },
        "outputId": "c9b315a2-f23d-46ed-aef5-87457a198d82"
      },
      "source": [
        "from sklearn.linear_model import Lasso\n",
        "\n",
        "\n",
        "\n",
        "\n",
        "alpha=0.00001\n",
        "lassoreg = Lasso(alpha=alpha,normalize=False, max_iter=500, tol=0.0001)\n",
        "lassoreg.fit(X_train_sj[prediktorok],X_train_sj[['total_cases']])\n",
        "y_pred = lassoreg.predict(X_train_sj[prediktorok])"
      ],
      "execution_count": 66,
      "outputs": [
        {
          "output_type": "stream",
          "text": [
            "/usr/local/lib/python3.7/dist-packages/sklearn/linear_model/_coordinate_descent.py:476: ConvergenceWarning:\n",
            "\n",
            "Objective did not converge. You might want to increase the number of iterations. Duality gap: 398223.2195243417, tolerance: 94.77985254470426\n",
            "\n"
          ],
          "name": "stderr"
        }
      ]
    },
    {
      "cell_type": "code",
      "metadata": {
        "id": "4XNPG3tK88a2"
      },
      "source": [
        "y_pred=y_pred.T"
      ],
      "execution_count": 67,
      "outputs": []
    },
    {
      "cell_type": "code",
      "metadata": {
        "id": "Z9CY-D0N8pkz",
        "colab": {
          "base_uri": "https://localhost:8080/"
        },
        "outputId": "6f427a84-7b70-4514-b0a5-3c32646b4409"
      },
      "source": [
        "X_train_sj[\"pred\"]=y_pred"
      ],
      "execution_count": 68,
      "outputs": [
        {
          "output_type": "stream",
          "text": [
            "/usr/local/lib/python3.7/dist-packages/ipykernel_launcher.py:1: SettingWithCopyWarning:\n",
            "\n",
            "\n",
            "A value is trying to be set on a copy of a slice from a DataFrame.\n",
            "Try using .loc[row_indexer,col_indexer] = value instead\n",
            "\n",
            "See the caveats in the documentation: https://pandas.pydata.org/pandas-docs/stable/user_guide/indexing.html#returning-a-view-versus-a-copy\n",
            "\n"
          ],
          "name": "stderr"
        }
      ]
    },
    {
      "cell_type": "code",
      "metadata": {
        "id": "BMwLJKUNZNoj",
        "colab": {
          "base_uri": "https://localhost:8080/",
          "height": 617
        },
        "outputId": "e9ebdab0-48e0-466c-8591-b496c7df2c20"
      },
      "source": [
        "grafikon(X_train_sj,\"week_start_date\",\"total_cases\",\"total_cases\",\"pred\",\"pred\",title=\"prediction\",)"
      ],
      "execution_count": 69,
      "outputs": [
        {
          "output_type": "display_data",
          "data": {
            "text/html": [
              "<html>\n",
              "<head><meta charset=\"utf-8\" /></head>\n",
              "<body>\n",
              "    <div>\n",
              "            <script src=\"https://cdnjs.cloudflare.com/ajax/libs/mathjax/2.7.5/MathJax.js?config=TeX-AMS-MML_SVG\"></script><script type=\"text/javascript\">if (window.MathJax) {MathJax.Hub.Config({SVG: {font: \"STIX-Web\"}});}</script>\n",
              "                <script type=\"text/javascript\">window.PlotlyConfig = {MathJaxConfig: 'local'};</script>\n",
              "        <script src=\"https://cdn.plot.ly/plotly-latest.min.js\"></script>    \n",
              "            <div id=\"b57b2885-2cd5-40c9-8e50-7c15c1c07ce8\" class=\"plotly-graph-div\" style=\"height:600px; width:1200px;\"></div>\n",
              "            <script type=\"text/javascript\">\n",
              "                \n",
              "                    window.PLOTLYENV=window.PLOTLYENV || {};\n",
              "                    \n",
              "                if (document.getElementById(\"b57b2885-2cd5-40c9-8e50-7c15c1c07ce8\")) {\n",
              "                    Plotly.newPlot(\n",
              "                        'b57b2885-2cd5-40c9-8e50-7c15c1c07ce8',\n",
              "                        [{\"line\": {\"color\": \"rgba(35,128,132,0.8)\"}, \"name\": \"total_cases\", \"showlegend\": true, \"type\": \"scatter\", \"x\": [\"1990-04-30\", \"1990-05-07\", \"1990-05-14\", \"1990-05-21\", \"1990-05-28\", \"1990-06-11\", \"1990-06-18\", \"1990-06-25\", \"1990-07-09\", \"1990-07-16\", \"1990-07-23\", \"1990-08-20\", \"1990-08-27\", \"1990-09-03\", \"1990-09-10\", \"1990-09-17\", \"1990-09-24\", \"1990-10-01\", \"1990-10-08\", \"1990-10-22\", \"1990-10-29\", \"1990-11-05\", \"1990-11-12\", \"1990-11-19\", \"1990-11-26\", \"1990-12-03\", \"1990-12-10\", \"1990-12-17\", \"1990-12-24\", \"1991-01-01\", \"1991-01-22\", \"1991-01-29\", \"1991-02-05\", \"1991-02-12\", \"1991-02-26\", \"1991-03-05\", \"1991-03-19\", \"1991-03-26\", \"1991-04-02\", \"1991-04-09\", \"1991-04-16\", \"1991-04-30\", \"1991-05-07\", \"1991-05-21\", \"1991-05-28\", \"1991-06-04\", \"1991-06-11\", \"1991-06-18\", \"1991-06-25\", \"1991-07-23\", \"1991-08-06\", \"1991-08-20\", \"1991-08-27\", \"1991-09-03\", \"1991-09-10\", \"1991-09-17\", \"1991-09-24\", \"1991-10-01\", \"1991-10-08\", \"1991-10-15\", \"1991-10-22\", \"1991-10-29\", \"1991-11-05\", \"1991-11-12\", \"1991-11-19\", \"1991-11-26\", \"1991-12-03\", \"1991-12-10\", \"1991-12-24\", \"1992-01-08\", \"1992-01-15\", \"1992-01-22\", \"1992-02-05\", \"1992-03-11\", \"1992-03-18\", \"1992-04-01\", \"1992-04-08\", \"1992-04-15\", \"1992-04-22\", \"1992-04-29\", \"1992-05-06\", \"1992-05-13\", \"1992-05-20\", \"1992-06-03\", \"1992-06-10\", \"1992-06-17\", \"1992-06-24\", \"1992-07-01\", \"1992-07-15\", \"1992-07-22\", \"1992-07-29\", \"1992-08-05\", \"1992-08-12\", \"1992-08-19\", \"1992-08-26\", \"1992-09-09\", \"1992-09-16\", \"1992-09-23\", \"1992-09-30\", \"1992-10-07\", \"1992-10-14\", \"1992-10-21\", \"1992-10-28\", \"1992-11-04\", \"1992-11-11\", \"1992-11-18\", \"1992-11-25\", \"1992-12-02\", \"1992-12-09\", \"1992-12-23\", \"1993-01-08\", \"1993-01-15\", \"1993-01-29\", \"1993-02-05\", \"1993-02-12\", \"1993-02-19\", \"1993-03-05\", \"1993-03-12\", \"1993-03-19\", \"1993-03-26\", \"1993-04-02\", \"1993-04-16\", \"1993-04-23\", \"1993-05-07\", \"1993-05-14\", \"1993-05-21\", \"1993-05-28\", \"1993-06-04\", \"1993-06-25\", \"1993-07-02\", \"1993-07-09\", \"1993-07-16\", \"1993-07-23\", \"1993-07-30\", \"1993-08-13\", \"1993-08-20\", \"1993-08-27\", \"1993-09-03\", \"1993-09-10\", \"1993-09-17\", \"1993-09-24\", \"1993-10-01\", \"1993-10-08\", \"1993-10-15\", \"1993-10-29\", \"1993-11-12\", \"1993-11-19\", \"1993-11-26\", \"1993-12-03\", \"1993-12-17\", \"1993-12-24\", \"1994-01-08\", \"1994-01-15\", \"1994-01-22\", \"1994-01-29\", \"1994-02-05\", \"1994-02-12\", \"1994-02-19\", \"1994-03-12\", \"1994-03-19\", \"1994-03-26\", \"1994-04-02\", \"1994-04-09\", \"1994-04-16\", \"1994-04-30\", \"1994-05-07\", \"1994-05-14\", \"1994-05-21\", \"1994-05-28\", \"1994-06-04\", \"1994-06-11\", \"1994-06-25\", \"1994-07-02\", \"1994-07-09\", \"1994-07-16\", \"1994-07-23\", \"1994-07-30\", \"1994-08-13\", \"1994-08-20\", \"1994-08-27\", \"1994-09-03\", \"1994-09-10\", \"1995-01-01\", \"1995-01-08\", \"1995-01-22\", \"1995-01-29\", \"1995-02-12\", \"1995-02-26\", \"1995-03-05\", \"1995-03-12\", \"1995-03-19\", \"1995-03-26\", \"1995-04-02\", \"1995-04-23\", \"1995-04-30\", \"1995-05-14\", \"1995-05-21\", \"1995-05-28\", \"1995-06-11\", \"1995-06-18\", \"1995-06-25\", \"1995-07-02\", \"1995-07-09\", \"1995-07-23\", \"1995-08-06\", \"1995-08-13\", \"1995-08-20\", \"1995-08-27\", \"1995-09-03\", \"1995-09-10\", \"1995-09-17\", \"1995-09-24\", \"1995-10-01\", \"1995-10-08\", \"1995-10-15\", \"1995-10-22\", \"1995-11-05\", \"1995-11-12\", \"1995-11-19\", \"1995-11-26\", \"1995-12-10\", \"1995-12-17\", \"1996-01-01\", \"1996-01-08\", \"1996-01-15\", \"1996-01-22\", \"1996-01-29\", \"1996-02-05\", \"1996-02-12\", \"1996-02-26\", \"1996-03-11\", \"1996-03-18\", \"1996-04-01\", \"1996-04-08\", \"1996-04-15\", \"1996-04-29\", \"1996-05-06\", \"1996-05-20\", \"1996-05-27\", \"1996-06-03\", \"1996-06-10\", \"1996-06-17\", \"1996-06-24\", \"1996-07-08\", \"1996-07-15\", \"1996-07-22\", \"1996-07-29\", \"1996-08-12\", \"1996-08-26\", \"1996-09-02\", \"1996-09-09\", \"1996-09-23\", \"1996-09-30\", \"1996-10-07\", \"1996-10-21\", \"1996-10-28\", \"1996-11-04\", \"1996-11-11\", \"1996-12-02\", \"1996-12-23\", \"1997-01-01\", \"1997-01-15\", \"1997-01-22\", \"1997-01-29\", \"1997-02-05\", \"1997-02-12\", \"1997-02-19\", \"1997-03-19\", \"1997-03-26\", \"1997-04-09\", \"1997-04-16\", \"1997-04-23\", \"1997-04-30\", \"1997-05-07\", \"1997-05-14\", \"1997-05-21\", \"1997-05-28\", \"1997-06-04\", \"1997-06-11\", \"1997-06-18\", \"1997-06-25\", \"1997-07-02\", \"1997-07-09\", \"1997-07-16\", \"1997-07-30\", \"1997-08-06\", \"1997-08-13\", \"1997-08-27\", \"1997-09-03\", \"1997-09-10\", \"1997-09-17\", \"1997-09-24\", \"1997-10-01\", \"1997-10-08\", \"1997-10-15\", \"1997-11-12\", \"1997-11-26\", \"1997-12-03\", \"1997-12-24\", \"1998-01-08\", \"1998-01-15\", \"1998-01-22\", \"1998-01-29\", \"1998-02-05\", \"1998-02-12\", \"1998-02-26\", \"1998-03-05\", \"1998-03-19\", \"1998-04-02\", \"1998-04-09\", \"1998-04-16\", \"1998-04-23\", \"1998-04-30\", \"1998-05-21\", \"1998-05-28\", \"1998-06-04\", \"1998-06-11\", \"1998-06-18\", \"1998-06-25\", \"1998-07-02\", \"1998-07-09\", \"1998-07-16\", \"1998-07-23\", \"1998-07-30\", \"1998-08-06\", \"1998-08-13\", \"1998-08-20\", \"1998-08-27\", \"1998-09-03\", \"1998-09-10\", \"1998-09-24\", \"1998-10-01\", \"1998-10-22\", \"1998-10-29\", \"1998-11-12\", \"1998-11-26\", \"1998-12-03\", \"1998-12-10\", \"1998-12-17\", \"1998-12-24\", \"1999-01-15\", \"1999-01-22\", \"1999-01-29\", \"1999-02-19\", \"1999-02-26\", \"1999-03-05\", \"1999-03-12\", \"1999-03-19\", \"1999-03-26\", \"1999-04-02\", \"1999-04-16\", \"1999-04-23\", \"1999-04-30\", \"1999-05-07\", \"1999-06-04\", \"1999-06-11\", \"1999-07-09\", \"1999-07-16\", \"1999-07-23\", \"1999-07-30\", \"1999-08-06\", \"1999-08-20\", \"1999-08-27\", \"1999-09-10\", \"1999-09-17\", \"1999-09-24\", \"1999-10-01\", \"1999-10-08\", \"1999-10-15\", \"1999-11-05\", \"1999-11-12\", \"1999-11-19\", \"1999-11-26\", \"1999-12-03\", \"1999-12-17\", \"1999-12-24\", \"2000-01-01\", \"2000-01-08\", \"2000-01-15\", \"2000-01-22\", \"2000-01-29\", \"2000-02-05\", \"2000-02-19\", \"2000-03-04\", \"2000-03-11\", \"2000-03-18\", \"2000-03-25\", \"2000-04-08\", \"2000-04-15\", \"2000-04-22\", \"2000-04-29\", \"2000-05-06\", \"2000-05-20\", \"2000-05-27\", \"2000-06-03\", \"2000-06-10\", \"2000-06-17\", \"2000-06-24\", \"2000-07-01\", \"2000-07-08\", \"2000-07-15\", \"2000-07-22\", \"2000-07-29\", \"2000-08-05\", \"2000-08-12\", \"2000-08-19\", \"2000-08-26\", \"2000-09-09\", \"2000-09-16\", \"2000-09-23\", \"2000-10-07\", \"2000-10-14\", \"2000-10-21\", \"2000-10-28\", \"2000-11-04\", \"2000-11-11\", \"2000-11-18\", \"2000-12-02\", \"2000-12-09\", \"2000-12-16\", \"2000-12-23\", \"2001-01-01\", \"2001-01-08\", \"2001-01-22\", \"2001-01-29\", \"2001-02-12\", \"2001-02-19\", \"2001-02-26\", \"2001-03-05\", \"2001-03-12\", \"2001-03-19\", \"2001-04-02\", \"2001-04-16\", \"2001-05-07\", \"2001-05-14\", \"2001-05-21\", \"2001-05-28\", \"2001-06-04\", \"2001-06-18\", \"2001-06-25\", \"2001-07-02\", \"2001-07-09\", \"2001-07-16\", \"2001-07-23\", \"2001-07-30\", \"2001-08-06\", \"2001-08-13\", \"2001-08-20\", \"2001-09-03\", \"2001-09-10\", \"2001-09-17\", \"2001-09-24\", \"2001-10-01\", \"2001-10-08\", \"2001-10-22\", \"2001-10-29\", \"2001-11-05\", \"2001-11-12\", \"2001-11-19\", \"2001-11-26\", \"2001-12-03\", \"2001-12-10\", \"2001-12-17\", \"2001-12-24\", \"2002-01-01\", \"2002-01-08\", \"2002-01-15\", \"2002-01-22\", \"2002-02-05\", \"2002-02-12\", \"2002-02-19\", \"2002-02-26\", \"2002-03-05\", \"2002-03-12\", \"2002-03-19\", \"2002-03-26\", \"2002-04-02\", \"2002-04-09\", \"2002-04-23\", \"2002-04-30\", \"2002-05-07\", \"2002-05-14\", \"2002-05-21\", \"2002-05-28\", \"2002-06-04\", \"2002-07-02\", \"2002-07-09\", \"2002-07-23\", \"2002-07-30\", \"2002-08-06\", \"2002-08-13\", \"2002-08-20\", \"2002-08-27\", \"2002-09-03\", \"2002-09-10\", \"2002-09-24\", \"2002-10-01\", \"2002-10-08\", \"2002-10-22\", \"2002-10-29\", \"2002-11-05\", \"2002-11-12\", \"2002-11-26\", \"2002-12-03\", \"2002-12-10\", \"2002-12-17\", \"2002-12-24\", \"2003-01-01\", \"2003-01-08\", \"2003-01-15\", \"2003-01-22\", \"2003-01-29\", \"2003-02-05\", \"2003-02-19\", \"2003-02-26\", \"2003-03-05\", \"2003-03-12\", \"2003-03-19\", \"2003-03-26\", \"2003-04-02\", \"2003-04-09\", \"2003-04-23\", \"2003-04-30\", \"2003-05-07\", \"2003-05-14\", \"2003-05-28\", \"2003-06-11\", \"2003-06-18\", \"2003-06-25\", \"2003-07-02\", \"2003-07-16\", \"2003-07-23\", \"2003-07-30\", \"2003-08-06\", \"2003-08-13\", \"2003-08-20\", \"2003-09-10\", \"2003-09-17\", \"2003-09-24\", \"2003-10-08\", \"2003-10-15\", \"2003-10-22\", \"2003-10-29\", \"2003-11-12\", \"2003-11-19\", \"2003-11-26\", \"2003-12-03\", \"2003-12-10\", \"2003-12-17\", \"2003-12-24\", \"2004-01-08\", \"2004-01-22\", \"2004-01-29\", \"2004-02-12\", \"2004-02-19\", \"2004-02-26\", \"2004-03-04\", \"2004-03-11\", \"2004-03-25\", \"2004-04-08\", \"2004-04-15\", \"2004-05-13\", \"2004-05-20\", \"2004-05-27\", \"2004-06-03\", \"2004-06-10\", \"2004-06-17\", \"2004-06-24\", \"2004-07-08\", \"2004-07-15\", \"2004-07-22\", \"2004-07-29\", \"2004-08-05\", \"2004-08-12\", \"2004-08-19\", \"2004-08-26\", \"2004-09-02\", \"2004-09-09\", \"2004-09-30\", \"2004-10-07\", \"2004-10-21\", \"2004-10-28\", \"2004-11-04\", \"2004-11-11\", \"2004-11-18\", \"2004-11-25\", \"2004-12-02\", \"2004-12-09\", \"2004-12-16\", \"2004-12-23\", \"2005-01-08\", \"2005-01-15\", \"2005-01-22\", \"2005-01-29\", \"2005-02-05\", \"2005-02-12\", \"2005-02-26\", \"2005-03-05\", \"2005-03-19\", \"2005-03-26\", \"2005-04-09\", \"2005-04-16\", \"2005-04-23\", \"2005-05-07\", \"2005-05-14\", \"2005-05-28\", \"2005-06-04\", \"2005-06-11\", \"2005-06-18\", \"2005-07-02\", \"2005-07-09\", \"2005-07-16\", \"2005-07-23\", \"2005-07-30\", \"2005-08-06\", \"2005-08-20\", \"2005-08-27\", \"2005-09-10\", \"2005-09-17\", \"2005-09-24\", \"2005-10-01\", \"2005-10-08\", \"2005-10-15\", \"2005-10-22\", \"2005-10-29\", \"2005-11-05\", \"2005-11-12\", \"2005-11-19\", \"2005-12-10\", \"2005-12-17\", \"2005-12-24\", \"2006-01-01\", \"2006-01-08\", \"2006-01-15\", \"2006-01-22\", \"2006-01-29\", \"2006-02-05\", \"2006-02-12\", \"2006-02-19\", \"2006-02-26\", \"2006-03-05\", \"2006-03-12\", \"2006-03-19\", \"2006-04-09\", \"2006-04-16\", \"2006-04-23\", \"2006-04-30\", \"2006-05-07\", \"2006-05-21\", \"2006-06-04\", \"2006-06-11\", \"2006-06-18\", \"2006-06-25\", \"2006-07-02\", \"2006-07-09\", \"2006-07-16\", \"2006-07-23\", \"2006-07-30\", \"2006-08-06\", \"2006-08-13\", \"2006-08-27\", \"2006-09-03\", \"2006-09-10\", \"2006-09-17\", \"2006-09-24\", \"2006-10-01\", \"2006-10-15\", \"2006-10-22\", \"2006-10-29\", \"2006-11-12\", \"2006-11-19\", \"2006-11-26\", \"2006-12-10\", \"2006-12-17\", \"2006-12-24\", \"2007-01-01\", \"2007-01-15\", \"2007-01-22\", \"2007-02-05\", \"2007-02-12\", \"2007-02-19\", \"2007-03-05\", \"2007-03-12\", \"2007-03-19\", \"2007-03-26\", \"2007-04-02\", \"2007-04-09\", \"2007-04-16\", \"2007-04-23\", \"2007-04-30\", \"2007-05-07\", \"2007-05-14\", \"2007-05-21\", \"2007-06-04\", \"2007-06-11\", \"2007-06-18\", \"2007-06-25\", \"2007-07-02\", \"2007-07-16\", \"2007-07-23\", \"2007-07-30\", \"2007-08-06\", \"2007-08-20\", \"2007-08-27\", \"2007-09-17\", \"2007-09-24\", \"2007-10-01\", \"2007-10-08\", \"2007-10-15\", \"2007-10-29\", \"2007-11-05\", \"2007-11-12\", \"2007-11-26\", \"2007-12-10\", \"2007-12-24\", \"2008-01-01\", \"2008-01-22\", \"2008-02-05\", \"2008-02-12\", \"2008-02-19\", \"2008-03-04\", \"2008-03-11\", \"2008-03-18\", \"2008-03-25\", \"2008-04-01\", \"2008-04-08\", \"2008-04-22\"], \"xaxis\": \"x\", \"y\": [4, 5, 4, 3, 6, 4, 5, 10, 8, 2, 6, 21, 28, 24, 20, 40, 27, 42, 33, 37, 57, 71, 44, 56, 53, 52, 47, 26, 27, 21, 34, 37, 17, 19, 18, 21, 17, 16, 16, 15, 23, 17, 12, 10, 15, 19, 21, 14, 18, 23, 62, 76, 66, 64, 68, 89, 92, 140, 116, 142, 129, 140, 140, 127, 129, 169, 141, 108, 70, 104, 90, 85, 53, 40, 37, 30, 30, 28, 23, 24, 29, 26, 23, 19, 20, 26, 29, 31, 26, 32, 35, 33, 30, 52, 59, 65, 74, 70, 61, 53, 76, 61, 57, 44, 34, 47, 60, 60, 53, 31, 32, 28, 33, 35, 22, 13, 21, 17, 11, 8, 8, 6, 7, 17, 10, 10, 18, 19, 12, 21, 18, 16, 16, 22, 25, 23, 12, 25, 28, 27, 18, 23, 23, 29, 36, 46, 31, 25, 40, 38, 30, 31, 26, 35, 36, 39, 25, 31, 25, 24, 18, 23, 13, 18, 17, 22, 13, 24, 31, 34, 31, 38, 49, 42, 49, 55, 80, 72, 89, 115, 179, 202, 154, 91, 56, 46, 26, 17, 20, 11, 7, 16, 14, 2, 6, 4, 3, 4, 8, 7, 10, 14, 7, 11, 17, 19, 24, 17, 28, 40, 33, 31, 33, 29, 30, 36, 40, 28, 36, 19, 23, 17, 23, 14, 20, 13, 23, 20, 16, 23, 15, 4, 5, 11, 11, 4, 6, 2, 4, 2, 4, 6, 6, 6, 11, 16, 9, 13, 21, 19, 17, 27, 30, 29, 35, 33, 30, 29, 22, 26, 29, 33, 24, 30, 20, 17, 24, 9, 14, 11, 19, 10, 8, 8, 9, 3, 7, 14, 4, 9, 14, 7, 9, 3, 14, 12, 10, 26, 47, 42, 31, 34, 33, 52, 56, 47, 49, 66, 67, 68, 49, 50, 56, 75, 63, 41, 50, 31, 30, 32, 26, 30, 36, 48, 44, 51, 59, 71, 102, 128, 127, 150, 191, 256, 329, 263, 220, 204, 181, 99, 80, 102, 68, 64, 67, 85, 67, 73, 89, 68, 77, 75, 47, 28, 37, 37, 27, 12, 15, 22, 15, 17, 10, 9, 11, 16, 14, 13, 15, 30, 25, 44, 25, 48, 56, 60, 45, 55, 32, 42, 37, 43, 34, 40, 16, 17, 17, 16, 23, 18, 18, 9, 7, 3, 2, 8, 3, 1, 2, 3, 3, 2, 0, 2, 2, 0, 6, 3, 6, 2, 3, 2, 4, 5, 2, 9, 2, 8, 6, 3, 14, 15, 20, 9, 20, 28, 38, 30, 23, 16, 22, 28, 14, 20, 17, 13, 20, 9, 18, 9, 8, 11, 6, 13, 8, 8, 5, 16, 11, 18, 10, 22, 14, 16, 18, 27, 38, 35, 51, 65, 55, 54, 62, 64, 65, 71, 75, 71, 72, 47, 27, 35, 25, 19, 37, 38, 34, 26, 18, 22, 16, 18, 6, 12, 6, 6, 3, 7, 1, 3, 2, 2, 1, 10, 3, 2, 6, 3, 5, 4, 7, 6, 5, 7, 6, 4, 7, 9, 5, 10, 6, 13, 5, 5, 9, 3, 6, 11, 7, 7, 15, 9, 6, 6, 7, 10, 8, 7, 12, 3, 2, 5, 5, 7, 7, 7, 13, 10, 14, 11, 25, 17, 18, 25, 21, 31, 35, 28, 37, 34, 30, 39, 39, 34, 30, 37, 29, 26, 15, 22, 20, 10, 21, 14, 9, 11, 5, 6, 11, 3, 2, 5, 3, 12, 13, 10, 13, 13, 21, 18, 8, 7, 20, 14, 14, 7, 14, 10, 13, 18, 16, 20, 17, 4, 15, 8, 6, 12, 15, 11, 15, 17, 7, 7, 8, 9, 12, 5, 11, 4, 7, 1, 1, 2, 6, 4, 10, 12, 21, 21, 30, 45, 56, 75, 83, 126, 119, 131, 112, 82, 73, 43, 55, 55, 53, 46, 43, 29, 13, 17, 8, 13, 10, 17, 19, 9, 9, 9, 3, 7, 7, 0, 2, 1, 3, 3, 3, 7, 5, 5, 5, 6, 6, 4, 4, 8, 14, 12, 16, 10, 18, 15, 23, 17, 33, 15, 11, 14, 17, 20, 12, 21, 19, 10, 13, 10, 21, 11, 14, 14, 15, 16, 12, 20, 8, 3, 13, 4, 1, 10, 8, 13, 10, 18, 21, 34, 25, 34, 40, 42, 36, 72, 76, 92, 106, 101, 170, 135, 106, 48, 48, 26, 29, 12, 17, 15, 10, 2, 6, 8, 1, 2, 3, 4, 3, 1, 5], \"yaxis\": \"y\"}, {\"line\": {\"color\": \"rgba(193,99,99,0.8)\"}, \"name\": \"pred\", \"showlegend\": true, \"type\": \"scatter\", \"x\": [\"1990-04-30\", \"1990-05-07\", \"1990-05-14\", \"1990-05-21\", \"1990-05-28\", \"1990-06-11\", \"1990-06-18\", \"1990-06-25\", \"1990-07-09\", \"1990-07-16\", \"1990-07-23\", \"1990-08-20\", \"1990-08-27\", \"1990-09-03\", \"1990-09-10\", \"1990-09-17\", \"1990-09-24\", \"1990-10-01\", \"1990-10-08\", \"1990-10-22\", \"1990-10-29\", \"1990-11-05\", \"1990-11-12\", \"1990-11-19\", \"1990-11-26\", \"1990-12-03\", \"1990-12-10\", \"1990-12-17\", \"1990-12-24\", \"1991-01-01\", \"1991-01-22\", \"1991-01-29\", \"1991-02-05\", \"1991-02-12\", \"1991-02-26\", \"1991-03-05\", \"1991-03-19\", \"1991-03-26\", \"1991-04-02\", \"1991-04-09\", \"1991-04-16\", \"1991-04-30\", \"1991-05-07\", \"1991-05-21\", \"1991-05-28\", \"1991-06-04\", \"1991-06-11\", \"1991-06-18\", \"1991-06-25\", \"1991-07-23\", \"1991-08-06\", \"1991-08-20\", \"1991-08-27\", \"1991-09-03\", \"1991-09-10\", \"1991-09-17\", \"1991-09-24\", \"1991-10-01\", \"1991-10-08\", \"1991-10-15\", \"1991-10-22\", \"1991-10-29\", \"1991-11-05\", \"1991-11-12\", \"1991-11-19\", \"1991-11-26\", \"1991-12-03\", \"1991-12-10\", \"1991-12-24\", \"1992-01-08\", \"1992-01-15\", \"1992-01-22\", \"1992-02-05\", \"1992-03-11\", \"1992-03-18\", \"1992-04-01\", \"1992-04-08\", \"1992-04-15\", \"1992-04-22\", \"1992-04-29\", \"1992-05-06\", \"1992-05-13\", \"1992-05-20\", \"1992-06-03\", \"1992-06-10\", \"1992-06-17\", \"1992-06-24\", \"1992-07-01\", \"1992-07-15\", \"1992-07-22\", \"1992-07-29\", \"1992-08-05\", \"1992-08-12\", \"1992-08-19\", \"1992-08-26\", \"1992-09-09\", \"1992-09-16\", \"1992-09-23\", \"1992-09-30\", \"1992-10-07\", \"1992-10-14\", \"1992-10-21\", \"1992-10-28\", \"1992-11-04\", \"1992-11-11\", \"1992-11-18\", \"1992-11-25\", \"1992-12-02\", \"1992-12-09\", \"1992-12-23\", \"1993-01-08\", \"1993-01-15\", \"1993-01-29\", \"1993-02-05\", \"1993-02-12\", \"1993-02-19\", \"1993-03-05\", \"1993-03-12\", \"1993-03-19\", \"1993-03-26\", \"1993-04-02\", \"1993-04-16\", \"1993-04-23\", \"1993-05-07\", \"1993-05-14\", \"1993-05-21\", \"1993-05-28\", \"1993-06-04\", \"1993-06-25\", \"1993-07-02\", \"1993-07-09\", \"1993-07-16\", \"1993-07-23\", \"1993-07-30\", \"1993-08-13\", \"1993-08-20\", \"1993-08-27\", \"1993-09-03\", \"1993-09-10\", \"1993-09-17\", \"1993-09-24\", \"1993-10-01\", \"1993-10-08\", \"1993-10-15\", \"1993-10-29\", \"1993-11-12\", \"1993-11-19\", \"1993-11-26\", \"1993-12-03\", \"1993-12-17\", \"1993-12-24\", \"1994-01-08\", \"1994-01-15\", \"1994-01-22\", \"1994-01-29\", \"1994-02-05\", \"1994-02-12\", \"1994-02-19\", \"1994-03-12\", \"1994-03-19\", \"1994-03-26\", \"1994-04-02\", \"1994-04-09\", \"1994-04-16\", \"1994-04-30\", \"1994-05-07\", \"1994-05-14\", \"1994-05-21\", \"1994-05-28\", \"1994-06-04\", \"1994-06-11\", \"1994-06-25\", \"1994-07-02\", \"1994-07-09\", \"1994-07-16\", \"1994-07-23\", \"1994-07-30\", \"1994-08-13\", \"1994-08-20\", \"1994-08-27\", \"1994-09-03\", \"1994-09-10\", \"1995-01-01\", \"1995-01-08\", \"1995-01-22\", \"1995-01-29\", \"1995-02-12\", \"1995-02-26\", \"1995-03-05\", \"1995-03-12\", \"1995-03-19\", \"1995-03-26\", \"1995-04-02\", \"1995-04-23\", \"1995-04-30\", \"1995-05-14\", \"1995-05-21\", \"1995-05-28\", \"1995-06-11\", \"1995-06-18\", \"1995-06-25\", \"1995-07-02\", \"1995-07-09\", \"1995-07-23\", \"1995-08-06\", \"1995-08-13\", \"1995-08-20\", \"1995-08-27\", \"1995-09-03\", \"1995-09-10\", \"1995-09-17\", \"1995-09-24\", \"1995-10-01\", \"1995-10-08\", \"1995-10-15\", \"1995-10-22\", \"1995-11-05\", \"1995-11-12\", \"1995-11-19\", \"1995-11-26\", \"1995-12-10\", \"1995-12-17\", \"1996-01-01\", \"1996-01-08\", \"1996-01-15\", \"1996-01-22\", \"1996-01-29\", \"1996-02-05\", \"1996-02-12\", \"1996-02-26\", \"1996-03-11\", \"1996-03-18\", \"1996-04-01\", \"1996-04-08\", \"1996-04-15\", \"1996-04-29\", \"1996-05-06\", \"1996-05-20\", \"1996-05-27\", \"1996-06-03\", \"1996-06-10\", \"1996-06-17\", \"1996-06-24\", \"1996-07-08\", \"1996-07-15\", \"1996-07-22\", \"1996-07-29\", \"1996-08-12\", \"1996-08-26\", \"1996-09-02\", \"1996-09-09\", \"1996-09-23\", \"1996-09-30\", \"1996-10-07\", \"1996-10-21\", \"1996-10-28\", \"1996-11-04\", \"1996-11-11\", \"1996-12-02\", \"1996-12-23\", \"1997-01-01\", \"1997-01-15\", \"1997-01-22\", \"1997-01-29\", \"1997-02-05\", \"1997-02-12\", \"1997-02-19\", \"1997-03-19\", \"1997-03-26\", \"1997-04-09\", \"1997-04-16\", \"1997-04-23\", \"1997-04-30\", \"1997-05-07\", \"1997-05-14\", \"1997-05-21\", \"1997-05-28\", \"1997-06-04\", \"1997-06-11\", \"1997-06-18\", \"1997-06-25\", \"1997-07-02\", \"1997-07-09\", \"1997-07-16\", \"1997-07-30\", \"1997-08-06\", \"1997-08-13\", \"1997-08-27\", \"1997-09-03\", \"1997-09-10\", \"1997-09-17\", \"1997-09-24\", \"1997-10-01\", \"1997-10-08\", \"1997-10-15\", \"1997-11-12\", \"1997-11-26\", \"1997-12-03\", \"1997-12-24\", \"1998-01-08\", \"1998-01-15\", \"1998-01-22\", \"1998-01-29\", \"1998-02-05\", \"1998-02-12\", \"1998-02-26\", \"1998-03-05\", \"1998-03-19\", \"1998-04-02\", \"1998-04-09\", \"1998-04-16\", \"1998-04-23\", \"1998-04-30\", \"1998-05-21\", \"1998-05-28\", \"1998-06-04\", \"1998-06-11\", \"1998-06-18\", \"1998-06-25\", \"1998-07-02\", \"1998-07-09\", \"1998-07-16\", \"1998-07-23\", \"1998-07-30\", \"1998-08-06\", \"1998-08-13\", \"1998-08-20\", \"1998-08-27\", \"1998-09-03\", \"1998-09-10\", \"1998-09-24\", \"1998-10-01\", \"1998-10-22\", \"1998-10-29\", \"1998-11-12\", \"1998-11-26\", \"1998-12-03\", \"1998-12-10\", \"1998-12-17\", \"1998-12-24\", \"1999-01-15\", \"1999-01-22\", \"1999-01-29\", \"1999-02-19\", \"1999-02-26\", \"1999-03-05\", \"1999-03-12\", \"1999-03-19\", \"1999-03-26\", \"1999-04-02\", \"1999-04-16\", \"1999-04-23\", \"1999-04-30\", \"1999-05-07\", \"1999-06-04\", \"1999-06-11\", \"1999-07-09\", \"1999-07-16\", \"1999-07-23\", \"1999-07-30\", \"1999-08-06\", \"1999-08-20\", \"1999-08-27\", \"1999-09-10\", \"1999-09-17\", \"1999-09-24\", \"1999-10-01\", \"1999-10-08\", \"1999-10-15\", \"1999-11-05\", \"1999-11-12\", \"1999-11-19\", \"1999-11-26\", \"1999-12-03\", \"1999-12-17\", \"1999-12-24\", \"2000-01-01\", \"2000-01-08\", \"2000-01-15\", \"2000-01-22\", \"2000-01-29\", \"2000-02-05\", \"2000-02-19\", \"2000-03-04\", \"2000-03-11\", \"2000-03-18\", \"2000-03-25\", \"2000-04-08\", \"2000-04-15\", \"2000-04-22\", \"2000-04-29\", \"2000-05-06\", \"2000-05-20\", \"2000-05-27\", \"2000-06-03\", \"2000-06-10\", \"2000-06-17\", \"2000-06-24\", \"2000-07-01\", \"2000-07-08\", \"2000-07-15\", \"2000-07-22\", \"2000-07-29\", \"2000-08-05\", \"2000-08-12\", \"2000-08-19\", \"2000-08-26\", \"2000-09-09\", \"2000-09-16\", \"2000-09-23\", \"2000-10-07\", \"2000-10-14\", \"2000-10-21\", \"2000-10-28\", \"2000-11-04\", \"2000-11-11\", \"2000-11-18\", \"2000-12-02\", \"2000-12-09\", \"2000-12-16\", \"2000-12-23\", \"2001-01-01\", \"2001-01-08\", \"2001-01-22\", \"2001-01-29\", \"2001-02-12\", \"2001-02-19\", \"2001-02-26\", \"2001-03-05\", \"2001-03-12\", \"2001-03-19\", \"2001-04-02\", \"2001-04-16\", \"2001-05-07\", \"2001-05-14\", \"2001-05-21\", \"2001-05-28\", \"2001-06-04\", \"2001-06-18\", \"2001-06-25\", \"2001-07-02\", \"2001-07-09\", \"2001-07-16\", \"2001-07-23\", \"2001-07-30\", \"2001-08-06\", \"2001-08-13\", \"2001-08-20\", \"2001-09-03\", \"2001-09-10\", \"2001-09-17\", \"2001-09-24\", \"2001-10-01\", \"2001-10-08\", \"2001-10-22\", \"2001-10-29\", \"2001-11-05\", \"2001-11-12\", \"2001-11-19\", \"2001-11-26\", \"2001-12-03\", \"2001-12-10\", \"2001-12-17\", \"2001-12-24\", \"2002-01-01\", \"2002-01-08\", \"2002-01-15\", \"2002-01-22\", \"2002-02-05\", \"2002-02-12\", \"2002-02-19\", \"2002-02-26\", \"2002-03-05\", \"2002-03-12\", \"2002-03-19\", \"2002-03-26\", \"2002-04-02\", \"2002-04-09\", \"2002-04-23\", \"2002-04-30\", \"2002-05-07\", \"2002-05-14\", \"2002-05-21\", \"2002-05-28\", \"2002-06-04\", \"2002-07-02\", \"2002-07-09\", \"2002-07-23\", \"2002-07-30\", \"2002-08-06\", \"2002-08-13\", \"2002-08-20\", \"2002-08-27\", \"2002-09-03\", \"2002-09-10\", \"2002-09-24\", \"2002-10-01\", \"2002-10-08\", \"2002-10-22\", \"2002-10-29\", \"2002-11-05\", \"2002-11-12\", \"2002-11-26\", \"2002-12-03\", \"2002-12-10\", \"2002-12-17\", \"2002-12-24\", \"2003-01-01\", \"2003-01-08\", \"2003-01-15\", \"2003-01-22\", \"2003-01-29\", \"2003-02-05\", \"2003-02-19\", \"2003-02-26\", \"2003-03-05\", \"2003-03-12\", \"2003-03-19\", \"2003-03-26\", \"2003-04-02\", \"2003-04-09\", \"2003-04-23\", \"2003-04-30\", \"2003-05-07\", \"2003-05-14\", \"2003-05-28\", \"2003-06-11\", \"2003-06-18\", \"2003-06-25\", \"2003-07-02\", \"2003-07-16\", \"2003-07-23\", \"2003-07-30\", \"2003-08-06\", \"2003-08-13\", \"2003-08-20\", \"2003-09-10\", \"2003-09-17\", \"2003-09-24\", \"2003-10-08\", \"2003-10-15\", \"2003-10-22\", \"2003-10-29\", \"2003-11-12\", \"2003-11-19\", \"2003-11-26\", \"2003-12-03\", \"2003-12-10\", \"2003-12-17\", \"2003-12-24\", \"2004-01-08\", \"2004-01-22\", \"2004-01-29\", \"2004-02-12\", \"2004-02-19\", \"2004-02-26\", \"2004-03-04\", \"2004-03-11\", \"2004-03-25\", \"2004-04-08\", \"2004-04-15\", \"2004-05-13\", \"2004-05-20\", \"2004-05-27\", \"2004-06-03\", \"2004-06-10\", \"2004-06-17\", \"2004-06-24\", \"2004-07-08\", \"2004-07-15\", \"2004-07-22\", \"2004-07-29\", \"2004-08-05\", \"2004-08-12\", \"2004-08-19\", \"2004-08-26\", \"2004-09-02\", \"2004-09-09\", \"2004-09-30\", \"2004-10-07\", \"2004-10-21\", \"2004-10-28\", \"2004-11-04\", \"2004-11-11\", \"2004-11-18\", \"2004-11-25\", \"2004-12-02\", \"2004-12-09\", \"2004-12-16\", \"2004-12-23\", \"2005-01-08\", \"2005-01-15\", \"2005-01-22\", \"2005-01-29\", \"2005-02-05\", \"2005-02-12\", \"2005-02-26\", \"2005-03-05\", \"2005-03-19\", \"2005-03-26\", \"2005-04-09\", \"2005-04-16\", \"2005-04-23\", \"2005-05-07\", \"2005-05-14\", \"2005-05-28\", \"2005-06-04\", \"2005-06-11\", \"2005-06-18\", \"2005-07-02\", \"2005-07-09\", \"2005-07-16\", \"2005-07-23\", \"2005-07-30\", \"2005-08-06\", \"2005-08-20\", \"2005-08-27\", \"2005-09-10\", \"2005-09-17\", \"2005-09-24\", \"2005-10-01\", \"2005-10-08\", \"2005-10-15\", \"2005-10-22\", \"2005-10-29\", \"2005-11-05\", \"2005-11-12\", \"2005-11-19\", \"2005-12-10\", \"2005-12-17\", \"2005-12-24\", \"2006-01-01\", \"2006-01-08\", \"2006-01-15\", \"2006-01-22\", \"2006-01-29\", \"2006-02-05\", \"2006-02-12\", \"2006-02-19\", \"2006-02-26\", \"2006-03-05\", \"2006-03-12\", \"2006-03-19\", \"2006-04-09\", \"2006-04-16\", \"2006-04-23\", \"2006-04-30\", \"2006-05-07\", \"2006-05-21\", \"2006-06-04\", \"2006-06-11\", \"2006-06-18\", \"2006-06-25\", \"2006-07-02\", \"2006-07-09\", \"2006-07-16\", \"2006-07-23\", \"2006-07-30\", \"2006-08-06\", \"2006-08-13\", \"2006-08-27\", \"2006-09-03\", \"2006-09-10\", \"2006-09-17\", \"2006-09-24\", \"2006-10-01\", \"2006-10-15\", \"2006-10-22\", \"2006-10-29\", \"2006-11-12\", \"2006-11-19\", \"2006-11-26\", \"2006-12-10\", \"2006-12-17\", \"2006-12-24\", \"2007-01-01\", \"2007-01-15\", \"2007-01-22\", \"2007-02-05\", \"2007-02-12\", \"2007-02-19\", \"2007-03-05\", \"2007-03-12\", \"2007-03-19\", \"2007-03-26\", \"2007-04-02\", \"2007-04-09\", \"2007-04-16\", \"2007-04-23\", \"2007-04-30\", \"2007-05-07\", \"2007-05-14\", \"2007-05-21\", \"2007-06-04\", \"2007-06-11\", \"2007-06-18\", \"2007-06-25\", \"2007-07-02\", \"2007-07-16\", \"2007-07-23\", \"2007-07-30\", \"2007-08-06\", \"2007-08-20\", \"2007-08-27\", \"2007-09-17\", \"2007-09-24\", \"2007-10-01\", \"2007-10-08\", \"2007-10-15\", \"2007-10-29\", \"2007-11-05\", \"2007-11-12\", \"2007-11-26\", \"2007-12-10\", \"2007-12-24\", \"2008-01-01\", \"2008-01-22\", \"2008-02-05\", \"2008-02-12\", \"2008-02-19\", \"2008-03-04\", \"2008-03-11\", \"2008-03-18\", \"2008-03-25\", \"2008-04-01\", \"2008-04-08\", \"2008-04-22\"], \"xaxis\": \"x\", \"y\": [19.21064084657337, 22.033932368985916, 19.845084339114692, 24.269273617424915, 35.32233661679311, 35.180439179112, 23.432629996816104, 46.41124787928857, 39.220173859872375, 37.22832865131204, 36.955853717847276, 41.61064081558288, 58.26602619969708, 53.77421900495028, 66.01679228864123, 54.99657523078531, 51.38455225249527, 61.37120704170411, 48.057292714387586, 44.4360125909061, 54.0481576557886, 63.94303310438772, 51.86492253674987, 48.011313216564304, 43.81342860102268, 38.723107452902696, 43.27378495083212, 42.265971273594914, 24.98566307945657, 8.7521709356879, 22.95124477065474, 12.952679284066107, 6.451301127990519, 26.856824726046398, 18.242764048758545, 31.378701142499267, 21.740420888945664, 26.750412867035266, 27.7481423029094, 18.120500167779028, 9.320046802917204, 23.29471787786497, 29.044352461241942, 33.26274727949567, 27.855584061762784, 15.148093820549548, 27.695101258337672, 31.52054321234209, 55.74043887090738, 26.58458675896327, 38.22698518585821, 41.057292440855235, 45.712885433795236, 44.75352973453846, 38.76016978449297, 53.77462210339036, 54.44890748704165, 48.35692971615026, 49.00277352348894, 45.729014620190355, 32.70371814881037, 45.9988830506245, 55.276110222010175, 49.89866661364249, 42.88119623032071, 55.346448835598494, 40.76120340525631, 41.35247347620316, 45.21445114174094, 16.62373925141037, 25.87614414550626, 16.490048039353496, 29.891774785292, 13.674871999584866, 21.300623742608877, 14.315075697291832, 18.93233633307682, 21.769704155660293, 23.073000503911317, 16.157041619488155, 36.2378353533295, 11.224275505113837, 55.120200184133864, 35.449864043914204, 22.152769876300226, 31.235285513865165, 47.04110407989174, 23.57206201160443, 34.21469426088515, 36.336826113920324, 34.703864926006645, 26.294375821080394, 48.886769402923164, 35.916161043463944, 40.048051413194116, 53.43698181423497, 42.72209639826178, 47.510116885858224, 47.40937066955303, 41.48917957674894, 38.79587796783926, 35.46824648974507, 37.44584281783318, 43.938485953987765, 23.597885984880122, 45.21462232045633, 50.174273174581685, 45.37049776314416, 34.60211653294573, 35.95422386914652, 11.24479973477537, 26.660917845545555, 15.687789529974907, 22.98690295456072, 22.78075856097348, 10.882544972087999, 25.10510063306174, 23.015868753291215, 9.863315747645174, 20.161270501181207, 11.804388440512412, 9.182998311640404, 17.700816227870746, 14.28063959686915, 34.00513248675088, 29.741374334866123, 42.30776189336029, 42.625949836174186, 38.02275523487879, 29.748956549152354, 35.134105514775, 29.383914726606235, 37.697115873235816, 38.61995677947925, 31.667218635187965, 34.59357572185036, 48.996818719884686, 44.044690165870634, 57.640161400851866, 49.13542381566185, 45.48582508382424, 51.08977887909168, 44.188405917095224, 46.7843476073358, 41.596173820084005, 37.22806078519898, 37.07346563069041, 48.173802087721924, 33.20485016537168, 39.07042113953685, 38.1159172123771, 14.837354753799445, 20.052821218754616, 19.378426329787544, 6.06948078358073, 20.51354555427315, 22.423847774613023, 2.2676125227080774, 15.375182648916962, 10.984843071682917, 16.830376643130876, 9.002652524968653, 13.163528653019966, 23.306317925616895, 24.31471623039579, 16.776164132030317, 22.55691070553985, 30.343610164911297, 20.864354741408533, 23.427030202929018, 22.761645691209196, 35.64600909834189, 32.0053261814428, 43.53598422787036, 23.957719747872034, 16.63390192204497, 21.58541830770264, 25.85493831515123, 24.319482149528994, 36.41457691319192, 37.13385670020216, 27.821689465312375, 41.57500341784544, 15.774046861926763, 23.94521242279734, 9.74420765322975, 11.487420888979614, 11.335189857396472, 25.739125874762976, 20.929707908107957, 16.369185021532758, 36.773557196394904, 17.444905684555124, 6.853333459497662, 16.718979883420616, 16.14512595107044, 22.981701353610333, 29.486780474897387, 30.68244711553416, 25.59999011329637, 47.554718655452234, 28.504846455671213, 32.42763943026148, 42.56331833346303, 55.262006016151645, 37.82217063586904, 52.8038578431333, 46.852575010212604, 48.95975930320492, 45.3948433830501, 43.62345071410709, 37.280752082724575, 38.6015652995211, 50.68752384991967, 52.48960981862001, 39.39453976765435, 42.851708098545714, 35.14901741092217, 45.36422419473456, 39.81183227992187, 34.83857450210235, 40.82312939916119, 17.515394405882034, 20.534557819364636, 10.87979043634914, 22.513141492878276, 8.024841892771292, 15.94781699089981, 17.86507588713539, 16.869665078984326, 11.329523017224346, 28.826167339306267, 24.11970548341742, 27.067906664504335, 17.88440753384748, 21.84309527847472, 12.176901722636103, 24.265658568114304, 26.215340277107316, 38.63954464784365, 25.002554740856795, 32.703506887697586, 26.555784962942198, 33.511662637318295, 37.57812211712189, 27.832892708471263, 30.90352192986211, 32.45899423696574, 32.853255301604804, 37.068793712558545, 38.5245762796676, 46.47520204128341, 50.00210119073199, 43.527513615794305, 34.630340093344785, 56.777661818541674, 50.068650200881166, 48.34237966745059, 29.948570596958234, 23.943749580452277, 18.685026916633433, 13.721359138460684, 30.100684298058695, 8.13595735364288, 11.469044370696793, 18.281294048474592, 15.675345273024504, 23.31227910526468, 20.893122651135855, 34.14383004318006, 8.484330118928483, 18.393493933694117, 12.706685874489267, 12.974782543913534, 33.93508542276686, 18.557368558500457, 23.17791541567931, 23.62842770413954, 32.180331665938866, 27.015187800481726, 33.41632545651373, 26.216230028203427, 32.02687465355848, 33.99573455580321, 34.87877222132738, 37.322505113210354, 31.876291806536756, 45.80275290012287, 46.36974297699453, 48.62558035279653, 53.50743541556221, 44.78921613602324, 61.521415444680315, 52.59559287911361, 84.5127048095419, 54.46003423653747, 52.17618047981159, 42.24473790184493, 50.57346222328306, 6.5111406430078205, 18.035809613062156, 15.594322714889131, 13.968894688428918, 17.275036964903848, 23.23763891811359, 15.623621631506467, 25.131822272795034, 20.87807890777367, 25.53989680221457, 16.067603066227093, 11.237717497017002, 18.961994546505593, 27.036526071300614, 40.2370926825206, 50.4758226974609, 26.292545939058982, 45.29842391141028, 40.21448032515946, 49.1617352403573, 41.421489770091284, 49.223823974096376, 32.99746323933141, 51.42280476386986, 49.5391713099325, 45.98050508929373, 60.71680554398881, 67.13254592032172, 50.50193290342031, 53.454002710852365, 50.54870988258699, 45.45085209557146, 38.73738597249212, 43.72435114481232, 36.65586036162131, 46.27494672224748, 46.21516523621176, 52.068526967301295, 38.42035562624187, 27.22774896075498, 37.37250940211925, 16.539579682323165, 15.290671767368622, 12.511504517291542, 15.393070077705488, 36.29996651748115, 15.34713621791525, 15.241254308280986, 11.153255917055503, 15.133467072297208, 14.134036854067745, 22.494011059119657, 7.541416765001486, 13.303137879036512, 39.09295247159207, 18.58208052808186, 30.15731068111745, 27.172138713502136, 42.13868262429423, 39.013874309152015, 40.03400156931821, 46.27771857447988, 56.21534858155246, 45.80659948817083, 51.96515548599564, 52.140359146287665, 47.9759208427422, 64.21317982081382, 42.69055468049555, 50.083854248756325, 52.54833699813389, 43.20566853953096, 58.40305951608207, 31.929914985430514, 36.989572114298426, 18.901360408121036, 36.84919787723811, 31.50650013273662, 11.5854100009401, 9.663361288776287, 16.475767762714895, 17.066747101887813, 17.52120797754469, 18.48564422916388, 14.009367919106808, 29.44912720690263, 5.430920271141076, 14.656306561964811, 17.73971807584894, 2.3707488827312773, 23.058544173656628, 15.090059094907701, 15.690373292300137, 10.589570062666098, 14.749870208797802, 26.937144703964805, 26.310891344173797, 16.507198233866802, 32.69874990844801, 26.023632498319785, 24.855221468920718, 29.274983023165987, 28.626227774020663, 34.695188814504945, 32.53164484343324, 35.9272077673686, 43.37590922099116, 45.02384356419134, 47.64743942848145, 46.0259761878242, 53.20696956223219, 37.74974133452997, 40.64560167791933, 32.14082585952383, 49.16096605742132, 45.89972049833523, 24.639069253011257, 13.471361699415866, 41.82852091793575, 39.4976743356674, 33.152173700163985, 33.766139557270435, 26.601700449766213, 9.057160553133144, 13.312015474048167, 14.410058555798969, 14.460355813203932, 15.934844155743122, 11.160798316415821, 25.15757820608451, 15.332790810169172, 11.474025797302602, 17.87563442912142, 6.667619203873983, 26.177885889655954, 24.77613871034555, 17.572209976946397, 19.853043747221818, 20.77912179579107, 21.658228907552257, 26.203580965844594, 34.02712969459935, 28.211389972264442, 43.29626043145254, 33.23525506511396, 44.044157062642626, 44.680903509039126, 46.097666238378224, 40.316377732197, 47.54618829754145, 43.9674163515956, 42.58582554599525, 43.037999035517714, 50.92616994451237, 44.45728859251176, 47.44428857933053, 46.7115530284409, 30.977668158651795, 51.60415919822299, 42.57375061199855, 50.79969503568827, 22.635504748877793, 41.587993033266685, 33.05602171550163, 43.09556250470632, 12.654160368861994, 35.01676175919238, 16.322748200484057, 8.114230967526964, 15.998094902724915, 1.1885682593183446, 14.315271780189505, 24.24839259915825, 5.559184373158132, 5.989008390410163, 5.820585107689112, 14.138981365913423, 27.96835596352139, 17.896560346342085, 23.92231764920325, 20.69549505476425, 11.93203840377646, 17.485303918696445, 16.754341822208517, 33.40350833012235, 34.04052921688708, 28.777579262947256, 25.454977316210716, 25.316424645119696, 44.053694665723015, 29.498074595674552, 45.025512133477605, 36.94738030931694, 30.983181842830163, 41.469281441657586, 37.65247892757361, 40.970104799176625, 48.77870543561221, 37.350009472345846, 37.618312093400164, 38.94776023684972, 36.77541459135682, 30.87964051554991, 42.8329593412418, 31.773932283236718, 36.63495892600076, 27.757814516115104, 26.068392273456993, 24.10387506619736, 18.880595616285063, 7.549237095741773, 13.397169562755153, 27.185699923216816, 31.46542167546977, 12.732627826311727, 14.417116919572436, 13.160860661189872, 11.907290934548655, 17.785358021601496, 5.0903178382959595, 10.696368707765942, 18.85794907457239, 22.9244200769117, 23.37666647561491, 21.15484143579306, 13.866940641029942, 23.25518585291684, 23.62532814210499, 18.648440566073987, 27.92148960430859, 18.456804616367663, 14.996206981739306, 28.905621834242993, 31.67470633265839, 33.2778704498287, 36.82795771938436, 42.72892706316998, 36.39053566334951, 44.1140749434835, 48.55961071044658, 44.54470447719541, 48.94900210681226, 44.42105475168137, 43.80541187089875, 47.68855038328911, 24.257124284560632, 41.82762605300195, 34.22397258271485, 31.45505471332399, 33.77072370101814, 29.451971982207397, 11.35444680519322, 10.50907435741101, 15.77884879953308, 12.39004738548283, 8.50257505479749, 30.568635145211374, 33.91632021268924, 9.003559797445632, 21.463036890814692, 18.962502486014273, 18.646726059716457, 29.833543079270385, 20.360770722423695, 19.931551974419563, 29.901630920214302, 27.373291858588345, 28.02347232338616, 22.32585623504383, 30.2260922067544, 27.783696540844176, 35.1817629106863, 34.63433500406609, 37.62751977123298, 32.765984272504284, 38.48583553862227, 31.04708159485199, 35.2932075136996, 47.31663824937459, 36.99105026613506, 44.66575529654256, 46.989889713213415, 45.38985488033177, 35.057808226454654, 48.23570128088613, 34.79001776969017, 16.16826242962088, 30.728558311513552, 27.711076791021696, 33.54159047907706, 34.7141907116802, 3.3759390607028763, 3.42749645227741, 10.137851087432864, 16.61075227328365, -5.126984361810173, 28.201305830652927, -1.9416346323032485, 20.650653943926955, 17.467016078269808, 6.2273701038011495, 12.701761932674344, 17.834359233072973, 16.81098960221425, 12.154987031561177, 18.157301870949595, 33.870234190679184, 38.85550167875954, 33.07928516697211, 34.64629898208295, 38.180310051566266, 49.38384591253089, 35.611135965651556, 45.833988365026016, 38.35656115439269, 34.20071311349602, 43.4064102326156, 49.890046862741656, 29.310953805441386, 51.23595065232803, 40.02499343068666, 49.44220170838889, 48.95950676696157, 55.78037509634487, 36.709941097962655, 63.02854794404084, 43.79565156614808, 49.741196488153946, 48.11108885832982, 28.237644506398283, 27.843044447739885, 39.72391148144743, 33.386538552829734, 12.860212347590277, 10.53304730751006, 11.928762868494232, 11.387979316799829, 19.35186844684722, 19.060726982794222, 12.382071067488141, 21.680838267142462, 5.712187885603271, 10.756343411007038, 22.301537426947107, 7.495562021373189, 6.145421129083843, 12.832504219102702, 17.57902746498621, 20.788220342958084, 34.67552115430772, 18.16249917170535, 33.82113588601533, 29.970207770820707, 31.82526838391641, 49.74650502827717, 33.19634599002711, 42.75773376745383, 39.62029700737912, 24.12484224063337, 40.27415053371806, 49.43387946036637, 46.80154928411139, 43.487372852929184, 38.83457891510261, 47.25655242324319, 32.87564672953522, 43.10717997899701, 34.71185612133377, 44.542547762475806, 40.968938290621736, 40.3509003075942, 22.331037543392085, 33.94263074631999, 22.753182648248185, 42.87070544234666, 30.856496408472594, 7.793760747523265, 17.334589117395808, 5.4864631426971755, 13.102017012550277, 8.626469546887165, 16.68081895207797, 13.029125286955605, 5.889614447518397, 27.841150863807343, 17.13049094640519, 15.392577008164153, 11.676843484863639, 16.29958509426615, 24.789872335799373, 19.529432915107463, 31.192300625039934, 31.892708897472403, 23.868957135313394, 15.981160347182595, 26.234973454986175, 28.09555347339483, 33.63224580176575, 22.869475721363415, 28.507671632052734, 34.685032574418074, 27.18050107981253, 37.98262423819688, 34.08595814457112, 47.32336205770844, 32.88368119414008, 34.94646393156472, 46.24693208689496, 44.95129474914938, 38.73543298318873, 48.29745381907924, 40.21007698785979, 42.52498630059381, 19.763477774909916, 34.06015790618767, 30.880073148982774, -7.488867634418057, -10.174163461892022, 13.921047913825532, 7.963887206782601, 8.998953087206246, 0.6652343803234544, 10.145306088004872, 5.1312345489150175, 6.1217752669890615, 3.919936805175894, 7.849754501377902, 10.108191892968534], \"yaxis\": \"y\"}],\n",
              "                        {\"autosize\": false, \"height\": 600, \"template\": {\"data\": {\"bar\": [{\"error_x\": {\"color\": \"#2a3f5f\"}, \"error_y\": {\"color\": \"#2a3f5f\"}, \"marker\": {\"line\": {\"color\": \"#E5ECF6\", \"width\": 0.5}}, \"type\": \"bar\"}], \"barpolar\": [{\"marker\": {\"line\": {\"color\": \"#E5ECF6\", \"width\": 0.5}}, \"type\": \"barpolar\"}], \"carpet\": [{\"aaxis\": {\"endlinecolor\": \"#2a3f5f\", \"gridcolor\": \"white\", \"linecolor\": \"white\", \"minorgridcolor\": \"white\", \"startlinecolor\": \"#2a3f5f\"}, \"baxis\": {\"endlinecolor\": \"#2a3f5f\", \"gridcolor\": \"white\", \"linecolor\": \"white\", \"minorgridcolor\": \"white\", \"startlinecolor\": \"#2a3f5f\"}, \"type\": \"carpet\"}], \"choropleth\": [{\"colorbar\": {\"outlinewidth\": 0, \"ticks\": \"\"}, \"type\": \"choropleth\"}], \"contour\": [{\"colorbar\": {\"outlinewidth\": 0, \"ticks\": \"\"}, \"colorscale\": [[0.0, \"#0d0887\"], [0.1111111111111111, \"#46039f\"], [0.2222222222222222, \"#7201a8\"], [0.3333333333333333, \"#9c179e\"], [0.4444444444444444, \"#bd3786\"], [0.5555555555555556, \"#d8576b\"], [0.6666666666666666, \"#ed7953\"], [0.7777777777777778, \"#fb9f3a\"], [0.8888888888888888, \"#fdca26\"], [1.0, \"#f0f921\"]], \"type\": \"contour\"}], \"contourcarpet\": [{\"colorbar\": {\"outlinewidth\": 0, \"ticks\": \"\"}, \"type\": \"contourcarpet\"}], \"heatmap\": [{\"colorbar\": {\"outlinewidth\": 0, \"ticks\": \"\"}, \"colorscale\": [[0.0, \"#0d0887\"], [0.1111111111111111, \"#46039f\"], [0.2222222222222222, \"#7201a8\"], [0.3333333333333333, \"#9c179e\"], [0.4444444444444444, \"#bd3786\"], [0.5555555555555556, \"#d8576b\"], [0.6666666666666666, \"#ed7953\"], [0.7777777777777778, \"#fb9f3a\"], [0.8888888888888888, \"#fdca26\"], [1.0, \"#f0f921\"]], \"type\": \"heatmap\"}], \"heatmapgl\": [{\"colorbar\": {\"outlinewidth\": 0, \"ticks\": \"\"}, \"colorscale\": [[0.0, \"#0d0887\"], [0.1111111111111111, \"#46039f\"], [0.2222222222222222, \"#7201a8\"], [0.3333333333333333, \"#9c179e\"], [0.4444444444444444, \"#bd3786\"], [0.5555555555555556, \"#d8576b\"], [0.6666666666666666, \"#ed7953\"], [0.7777777777777778, \"#fb9f3a\"], [0.8888888888888888, \"#fdca26\"], [1.0, \"#f0f921\"]], \"type\": \"heatmapgl\"}], \"histogram\": [{\"marker\": {\"colorbar\": {\"outlinewidth\": 0, \"ticks\": \"\"}}, \"type\": \"histogram\"}], \"histogram2d\": [{\"colorbar\": {\"outlinewidth\": 0, \"ticks\": \"\"}, \"colorscale\": [[0.0, \"#0d0887\"], [0.1111111111111111, \"#46039f\"], [0.2222222222222222, \"#7201a8\"], [0.3333333333333333, \"#9c179e\"], [0.4444444444444444, \"#bd3786\"], [0.5555555555555556, \"#d8576b\"], [0.6666666666666666, \"#ed7953\"], [0.7777777777777778, \"#fb9f3a\"], [0.8888888888888888, \"#fdca26\"], [1.0, \"#f0f921\"]], \"type\": \"histogram2d\"}], \"histogram2dcontour\": [{\"colorbar\": {\"outlinewidth\": 0, \"ticks\": \"\"}, \"colorscale\": [[0.0, \"#0d0887\"], [0.1111111111111111, \"#46039f\"], [0.2222222222222222, \"#7201a8\"], [0.3333333333333333, \"#9c179e\"], [0.4444444444444444, \"#bd3786\"], [0.5555555555555556, \"#d8576b\"], [0.6666666666666666, \"#ed7953\"], [0.7777777777777778, \"#fb9f3a\"], [0.8888888888888888, \"#fdca26\"], [1.0, \"#f0f921\"]], \"type\": \"histogram2dcontour\"}], \"mesh3d\": [{\"colorbar\": {\"outlinewidth\": 0, \"ticks\": \"\"}, \"type\": \"mesh3d\"}], \"parcoords\": [{\"line\": {\"colorbar\": {\"outlinewidth\": 0, \"ticks\": \"\"}}, \"type\": \"parcoords\"}], \"pie\": [{\"automargin\": true, \"type\": \"pie\"}], \"scatter\": [{\"marker\": {\"colorbar\": {\"outlinewidth\": 0, \"ticks\": \"\"}}, \"type\": \"scatter\"}], \"scatter3d\": [{\"line\": {\"colorbar\": {\"outlinewidth\": 0, \"ticks\": \"\"}}, \"marker\": {\"colorbar\": {\"outlinewidth\": 0, \"ticks\": \"\"}}, \"type\": \"scatter3d\"}], \"scattercarpet\": [{\"marker\": {\"colorbar\": {\"outlinewidth\": 0, \"ticks\": \"\"}}, \"type\": \"scattercarpet\"}], \"scattergeo\": [{\"marker\": {\"colorbar\": {\"outlinewidth\": 0, \"ticks\": \"\"}}, \"type\": \"scattergeo\"}], \"scattergl\": [{\"marker\": {\"colorbar\": {\"outlinewidth\": 0, \"ticks\": \"\"}}, \"type\": \"scattergl\"}], \"scattermapbox\": [{\"marker\": {\"colorbar\": {\"outlinewidth\": 0, \"ticks\": \"\"}}, \"type\": \"scattermapbox\"}], \"scatterpolar\": [{\"marker\": {\"colorbar\": {\"outlinewidth\": 0, \"ticks\": \"\"}}, \"type\": \"scatterpolar\"}], \"scatterpolargl\": [{\"marker\": {\"colorbar\": {\"outlinewidth\": 0, \"ticks\": \"\"}}, \"type\": \"scatterpolargl\"}], \"scatterternary\": [{\"marker\": {\"colorbar\": {\"outlinewidth\": 0, \"ticks\": \"\"}}, \"type\": \"scatterternary\"}], \"surface\": [{\"colorbar\": {\"outlinewidth\": 0, \"ticks\": \"\"}, \"colorscale\": [[0.0, \"#0d0887\"], [0.1111111111111111, \"#46039f\"], [0.2222222222222222, \"#7201a8\"], [0.3333333333333333, \"#9c179e\"], [0.4444444444444444, \"#bd3786\"], [0.5555555555555556, \"#d8576b\"], [0.6666666666666666, \"#ed7953\"], [0.7777777777777778, \"#fb9f3a\"], [0.8888888888888888, \"#fdca26\"], [1.0, \"#f0f921\"]], \"type\": \"surface\"}], \"table\": [{\"cells\": {\"fill\": {\"color\": \"#EBF0F8\"}, \"line\": {\"color\": \"white\"}}, \"header\": {\"fill\": {\"color\": \"#C8D4E3\"}, \"line\": {\"color\": \"white\"}}, \"type\": \"table\"}]}, \"layout\": {\"annotationdefaults\": {\"arrowcolor\": \"#2a3f5f\", \"arrowhead\": 0, \"arrowwidth\": 1}, \"coloraxis\": {\"colorbar\": {\"outlinewidth\": 0, \"ticks\": \"\"}}, \"colorscale\": {\"diverging\": [[0, \"#8e0152\"], [0.1, \"#c51b7d\"], [0.2, \"#de77ae\"], [0.3, \"#f1b6da\"], [0.4, \"#fde0ef\"], [0.5, \"#f7f7f7\"], [0.6, \"#e6f5d0\"], [0.7, \"#b8e186\"], [0.8, \"#7fbc41\"], [0.9, \"#4d9221\"], [1, \"#276419\"]], \"sequential\": [[0.0, \"#0d0887\"], [0.1111111111111111, \"#46039f\"], [0.2222222222222222, \"#7201a8\"], [0.3333333333333333, \"#9c179e\"], [0.4444444444444444, \"#bd3786\"], [0.5555555555555556, \"#d8576b\"], [0.6666666666666666, \"#ed7953\"], [0.7777777777777778, \"#fb9f3a\"], [0.8888888888888888, \"#fdca26\"], [1.0, \"#f0f921\"]], \"sequentialminus\": [[0.0, \"#0d0887\"], [0.1111111111111111, \"#46039f\"], [0.2222222222222222, \"#7201a8\"], [0.3333333333333333, \"#9c179e\"], [0.4444444444444444, \"#bd3786\"], [0.5555555555555556, \"#d8576b\"], [0.6666666666666666, \"#ed7953\"], [0.7777777777777778, \"#fb9f3a\"], [0.8888888888888888, \"#fdca26\"], [1.0, \"#f0f921\"]]}, \"colorway\": [\"#636efa\", \"#EF553B\", \"#00cc96\", \"#ab63fa\", \"#FFA15A\", \"#19d3f3\", \"#FF6692\", \"#B6E880\", \"#FF97FF\", \"#FECB52\"], \"font\": {\"color\": \"#2a3f5f\"}, \"geo\": {\"bgcolor\": \"white\", \"lakecolor\": \"white\", \"landcolor\": \"#E5ECF6\", \"showlakes\": true, \"showland\": true, \"subunitcolor\": \"white\"}, \"hoverlabel\": {\"align\": \"left\"}, \"hovermode\": \"closest\", \"mapbox\": {\"style\": \"light\"}, \"paper_bgcolor\": \"white\", \"plot_bgcolor\": \"#E5ECF6\", \"polar\": {\"angularaxis\": {\"gridcolor\": \"white\", \"linecolor\": \"white\", \"ticks\": \"\"}, \"bgcolor\": \"#E5ECF6\", \"radialaxis\": {\"gridcolor\": \"white\", \"linecolor\": \"white\", \"ticks\": \"\"}}, \"scene\": {\"xaxis\": {\"backgroundcolor\": \"#E5ECF6\", \"gridcolor\": \"white\", \"gridwidth\": 2, \"linecolor\": \"white\", \"showbackground\": true, \"ticks\": \"\", \"zerolinecolor\": \"white\"}, \"yaxis\": {\"backgroundcolor\": \"#E5ECF6\", \"gridcolor\": \"white\", \"gridwidth\": 2, \"linecolor\": \"white\", \"showbackground\": true, \"ticks\": \"\", \"zerolinecolor\": \"white\"}, \"zaxis\": {\"backgroundcolor\": \"#E5ECF6\", \"gridcolor\": \"white\", \"gridwidth\": 2, \"linecolor\": \"white\", \"showbackground\": true, \"ticks\": \"\", \"zerolinecolor\": \"white\"}}, \"shapedefaults\": {\"line\": {\"color\": \"#2a3f5f\"}}, \"ternary\": {\"aaxis\": {\"gridcolor\": \"white\", \"linecolor\": \"white\", \"ticks\": \"\"}, \"baxis\": {\"gridcolor\": \"white\", \"linecolor\": \"white\", \"ticks\": \"\"}, \"bgcolor\": \"#E5ECF6\", \"caxis\": {\"gridcolor\": \"white\", \"linecolor\": \"white\", \"ticks\": \"\"}}, \"title\": {\"x\": 0.05}, \"xaxis\": {\"automargin\": true, \"gridcolor\": \"white\", \"linecolor\": \"white\", \"ticks\": \"\", \"title\": {\"standoff\": 15}, \"zerolinecolor\": \"white\", \"zerolinewidth\": 2}, \"yaxis\": {\"automargin\": true, \"gridcolor\": \"white\", \"linecolor\": \"white\", \"ticks\": \"\", \"title\": {\"standoff\": 15}, \"zerolinecolor\": \"white\", \"zerolinewidth\": 2}}}, \"title\": {\"text\": \"prediction\"}, \"width\": 1200, \"xaxis\": {\"anchor\": \"y\", \"domain\": [0.0, 1.0]}, \"yaxis\": {\"anchor\": \"x\", \"domain\": [0.0, 1.0]}},\n",
              "                        {\"responsive\": true}\n",
              "                    ).then(function(){\n",
              "                            \n",
              "var gd = document.getElementById('b57b2885-2cd5-40c9-8e50-7c15c1c07ce8');\n",
              "var x = new MutationObserver(function (mutations, observer) {{\n",
              "        var display = window.getComputedStyle(gd).display;\n",
              "        if (!display || display === 'none') {{\n",
              "            console.log([gd, 'removed!']);\n",
              "            Plotly.purge(gd);\n",
              "            observer.disconnect();\n",
              "        }}\n",
              "}});\n",
              "\n",
              "// Listen for the removal of the full notebook cells\n",
              "var notebookContainer = gd.closest('#notebook-container');\n",
              "if (notebookContainer) {{\n",
              "    x.observe(notebookContainer, {childList: true});\n",
              "}}\n",
              "\n",
              "// Listen for the clearing of the current output cell\n",
              "var outputEl = gd.closest('.output');\n",
              "if (outputEl) {{\n",
              "    x.observe(outputEl, {childList: true});\n",
              "}}\n",
              "\n",
              "                        })\n",
              "                };\n",
              "                \n",
              "            </script>\n",
              "        </div>\n",
              "</body>\n",
              "</html>"
            ]
          },
          "metadata": {
            "tags": []
          }
        }
      ]
    },
    {
      "cell_type": "markdown",
      "metadata": {
        "id": "kTpaq6qosTvG"
      },
      "source": [
        "Ez a LAsso nem valami szép"
      ]
    },
    {
      "cell_type": "code",
      "metadata": {
        "id": "cJjYpGTy9MFL",
        "colab": {
          "base_uri": "https://localhost:8080/",
          "height": 224
        },
        "outputId": "8953744e-4706-48d3-d432-04431eb76be5"
      },
      "source": [
        "X_train_sj.tail(5)"
      ],
      "execution_count": 70,
      "outputs": [
        {
          "output_type": "execute_result",
          "data": {
            "text/html": [
              "<div>\n",
              "<style scoped>\n",
              "    .dataframe tbody tr th:only-of-type {\n",
              "        vertical-align: middle;\n",
              "    }\n",
              "\n",
              "    .dataframe tbody tr th {\n",
              "        vertical-align: top;\n",
              "    }\n",
              "\n",
              "    .dataframe thead th {\n",
              "        text-align: right;\n",
              "    }\n",
              "</style>\n",
              "<table border=\"1\" class=\"dataframe\">\n",
              "  <thead>\n",
              "    <tr style=\"text-align: right;\">\n",
              "      <th></th>\n",
              "      <th>city</th>\n",
              "      <th>year</th>\n",
              "      <th>weekofyear</th>\n",
              "      <th>week_start_date</th>\n",
              "      <th>ndvi_ne</th>\n",
              "      <th>ndvi_nw</th>\n",
              "      <th>ndvi_se</th>\n",
              "      <th>ndvi_sw</th>\n",
              "      <th>precipitation_amt_mm</th>\n",
              "      <th>reanalysis_air_temp_k</th>\n",
              "      <th>reanalysis_avg_temp_k</th>\n",
              "      <th>reanalysis_dew_point_temp_k</th>\n",
              "      <th>reanalysis_max_air_temp_k</th>\n",
              "      <th>reanalysis_min_air_temp_k</th>\n",
              "      <th>reanalysis_precip_amt_kg_per_m2</th>\n",
              "      <th>reanalysis_relative_humidity_percent</th>\n",
              "      <th>reanalysis_sat_precip_amt_mm</th>\n",
              "      <th>reanalysis_specific_humidity_g_per_kg</th>\n",
              "      <th>reanalysis_tdtr_k</th>\n",
              "      <th>station_avg_temp_c</th>\n",
              "      <th>station_diur_temp_rng_c</th>\n",
              "      <th>station_max_temp_c</th>\n",
              "      <th>station_min_temp_c</th>\n",
              "      <th>station_precip_mm</th>\n",
              "      <th>total_cases</th>\n",
              "      <th>pred</th>\n",
              "    </tr>\n",
              "  </thead>\n",
              "  <tbody>\n",
              "    <tr>\n",
              "      <th>930</th>\n",
              "      <td>sj</td>\n",
              "      <td>2008</td>\n",
              "      <td>12</td>\n",
              "      <td>2008-03-18</td>\n",
              "      <td>0.04490</td>\n",
              "      <td>0.024450</td>\n",
              "      <td>0.101629</td>\n",
              "      <td>0.088000</td>\n",
              "      <td>0.00</td>\n",
              "      <td>297.404286</td>\n",
              "      <td>297.435714</td>\n",
              "      <td>292.205714</td>\n",
              "      <td>299.8</td>\n",
              "      <td>294.9</td>\n",
              "      <td>0.90</td>\n",
              "      <td>72.915714</td>\n",
              "      <td>0.00</td>\n",
              "      <td>13.737143</td>\n",
              "      <td>3.871429</td>\n",
              "      <td>25.200000</td>\n",
              "      <td>7.042857</td>\n",
              "      <td>30.0</td>\n",
              "      <td>20.6</td>\n",
              "      <td>0.5</td>\n",
              "      <td>3</td>\n",
              "      <td>5.131235</td>\n",
              "    </tr>\n",
              "    <tr>\n",
              "      <th>931</th>\n",
              "      <td>sj</td>\n",
              "      <td>2008</td>\n",
              "      <td>13</td>\n",
              "      <td>2008-03-25</td>\n",
              "      <td>0.07785</td>\n",
              "      <td>-0.039900</td>\n",
              "      <td>0.310471</td>\n",
              "      <td>0.296243</td>\n",
              "      <td>27.19</td>\n",
              "      <td>296.958571</td>\n",
              "      <td>296.957143</td>\n",
              "      <td>292.095714</td>\n",
              "      <td>299.7</td>\n",
              "      <td>294.4</td>\n",
              "      <td>7.55</td>\n",
              "      <td>74.247143</td>\n",
              "      <td>27.19</td>\n",
              "      <td>13.644286</td>\n",
              "      <td>2.885714</td>\n",
              "      <td>25.042857</td>\n",
              "      <td>5.785714</td>\n",
              "      <td>30.0</td>\n",
              "      <td>21.1</td>\n",
              "      <td>1.8</td>\n",
              "      <td>4</td>\n",
              "      <td>6.121775</td>\n",
              "    </tr>\n",
              "    <tr>\n",
              "      <th>932</th>\n",
              "      <td>sj</td>\n",
              "      <td>2008</td>\n",
              "      <td>14</td>\n",
              "      <td>2008-04-01</td>\n",
              "      <td>-0.03800</td>\n",
              "      <td>-0.016833</td>\n",
              "      <td>0.119371</td>\n",
              "      <td>0.066386</td>\n",
              "      <td>3.82</td>\n",
              "      <td>298.081429</td>\n",
              "      <td>298.228571</td>\n",
              "      <td>293.235714</td>\n",
              "      <td>299.8</td>\n",
              "      <td>296.5</td>\n",
              "      <td>3.67</td>\n",
              "      <td>74.600000</td>\n",
              "      <td>3.82</td>\n",
              "      <td>14.662857</td>\n",
              "      <td>2.714286</td>\n",
              "      <td>26.242857</td>\n",
              "      <td>6.814286</td>\n",
              "      <td>30.6</td>\n",
              "      <td>22.2</td>\n",
              "      <td>0.5</td>\n",
              "      <td>3</td>\n",
              "      <td>3.919937</td>\n",
              "    </tr>\n",
              "    <tr>\n",
              "      <th>933</th>\n",
              "      <td>sj</td>\n",
              "      <td>2008</td>\n",
              "      <td>15</td>\n",
              "      <td>2008-04-08</td>\n",
              "      <td>-0.15520</td>\n",
              "      <td>-0.052750</td>\n",
              "      <td>0.137757</td>\n",
              "      <td>0.141214</td>\n",
              "      <td>16.96</td>\n",
              "      <td>297.460000</td>\n",
              "      <td>297.564286</td>\n",
              "      <td>292.732857</td>\n",
              "      <td>299.4</td>\n",
              "      <td>295.8</td>\n",
              "      <td>35.00</td>\n",
              "      <td>75.027143</td>\n",
              "      <td>16.96</td>\n",
              "      <td>14.184286</td>\n",
              "      <td>2.185714</td>\n",
              "      <td>25.000000</td>\n",
              "      <td>5.714286</td>\n",
              "      <td>29.4</td>\n",
              "      <td>21.7</td>\n",
              "      <td>30.7</td>\n",
              "      <td>1</td>\n",
              "      <td>7.849755</td>\n",
              "    </tr>\n",
              "    <tr>\n",
              "      <th>935</th>\n",
              "      <td>sj</td>\n",
              "      <td>2008</td>\n",
              "      <td>17</td>\n",
              "      <td>2008-04-22</td>\n",
              "      <td>-0.03700</td>\n",
              "      <td>-0.010367</td>\n",
              "      <td>0.077314</td>\n",
              "      <td>0.090586</td>\n",
              "      <td>0.00</td>\n",
              "      <td>298.672857</td>\n",
              "      <td>298.692857</td>\n",
              "      <td>294.280000</td>\n",
              "      <td>300.9</td>\n",
              "      <td>295.9</td>\n",
              "      <td>2.17</td>\n",
              "      <td>76.960000</td>\n",
              "      <td>0.00</td>\n",
              "      <td>15.671429</td>\n",
              "      <td>3.957143</td>\n",
              "      <td>27.042857</td>\n",
              "      <td>7.514286</td>\n",
              "      <td>31.7</td>\n",
              "      <td>23.3</td>\n",
              "      <td>0.3</td>\n",
              "      <td>5</td>\n",
              "      <td>10.108192</td>\n",
              "    </tr>\n",
              "  </tbody>\n",
              "</table>\n",
              "</div>"
            ],
            "text/plain": [
              "    city  year  weekofyear  ... station_precip_mm  total_cases       pred\n",
              "930   sj  2008          12  ...               0.5            3   5.131235\n",
              "931   sj  2008          13  ...               1.8            4   6.121775\n",
              "932   sj  2008          14  ...               0.5            3   3.919937\n",
              "933   sj  2008          15  ...              30.7            1   7.849755\n",
              "935   sj  2008          17  ...               0.3            5  10.108192\n",
              "\n",
              "[5 rows x 26 columns]"
            ]
          },
          "metadata": {
            "tags": []
          },
          "execution_count": 70
        }
      ]
    },
    {
      "cell_type": "markdown",
      "metadata": {
        "id": "4RQRFElO-8pO"
      },
      "source": [
        "SJ random forest"
      ]
    },
    {
      "cell_type": "code",
      "metadata": {
        "id": "UxdBcovSZ4Sf",
        "colab": {
          "base_uri": "https://localhost:8080/"
        },
        "outputId": "f0bb2f73-32e0-46a2-fad2-1a48c3c6fee0"
      },
      "source": [
        "\n",
        "from sklearn.ensemble import RandomForestRegressor\n",
        "\n",
        "total_regressor=RandomForestRegressor(n_estimators=1540,criterion=\"mse\",)\n",
        "\n",
        "yy=X_train_sj[['total_cases']]\n",
        "total_regressor.fit(X_train_sj[prediktorok],yy)\n",
        "y_pred=total_regressor.predict(X_train_sj[prediktorok])\n",
        "\n",
        "X_train_sj[\"Randomforest_total\"]=y_pred\n",
        "\n",
        "\n"
      ],
      "execution_count": 71,
      "outputs": [
        {
          "output_type": "stream",
          "text": [
            "/usr/local/lib/python3.7/dist-packages/ipykernel_launcher.py:7: DataConversionWarning:\n",
            "\n",
            "A column-vector y was passed when a 1d array was expected. Please change the shape of y to (n_samples,), for example using ravel().\n",
            "\n",
            "/usr/local/lib/python3.7/dist-packages/ipykernel_launcher.py:10: SettingWithCopyWarning:\n",
            "\n",
            "\n",
            "A value is trying to be set on a copy of a slice from a DataFrame.\n",
            "Try using .loc[row_indexer,col_indexer] = value instead\n",
            "\n",
            "See the caveats in the documentation: https://pandas.pydata.org/pandas-docs/stable/user_guide/indexing.html#returning-a-view-versus-a-copy\n",
            "\n"
          ],
          "name": "stderr"
        }
      ]
    },
    {
      "cell_type": "code",
      "metadata": {
        "colab": {
          "base_uri": "https://localhost:8080/",
          "height": 224
        },
        "id": "vqJKU9hfI3Yn",
        "outputId": "d0db6263-c181-42e2-8a90-d295d9321023"
      },
      "source": [
        "X_train_sj.tail()"
      ],
      "execution_count": 72,
      "outputs": [
        {
          "output_type": "execute_result",
          "data": {
            "text/html": [
              "<div>\n",
              "<style scoped>\n",
              "    .dataframe tbody tr th:only-of-type {\n",
              "        vertical-align: middle;\n",
              "    }\n",
              "\n",
              "    .dataframe tbody tr th {\n",
              "        vertical-align: top;\n",
              "    }\n",
              "\n",
              "    .dataframe thead th {\n",
              "        text-align: right;\n",
              "    }\n",
              "</style>\n",
              "<table border=\"1\" class=\"dataframe\">\n",
              "  <thead>\n",
              "    <tr style=\"text-align: right;\">\n",
              "      <th></th>\n",
              "      <th>city</th>\n",
              "      <th>year</th>\n",
              "      <th>weekofyear</th>\n",
              "      <th>week_start_date</th>\n",
              "      <th>ndvi_ne</th>\n",
              "      <th>ndvi_nw</th>\n",
              "      <th>ndvi_se</th>\n",
              "      <th>ndvi_sw</th>\n",
              "      <th>precipitation_amt_mm</th>\n",
              "      <th>reanalysis_air_temp_k</th>\n",
              "      <th>reanalysis_avg_temp_k</th>\n",
              "      <th>reanalysis_dew_point_temp_k</th>\n",
              "      <th>reanalysis_max_air_temp_k</th>\n",
              "      <th>reanalysis_min_air_temp_k</th>\n",
              "      <th>reanalysis_precip_amt_kg_per_m2</th>\n",
              "      <th>reanalysis_relative_humidity_percent</th>\n",
              "      <th>reanalysis_sat_precip_amt_mm</th>\n",
              "      <th>reanalysis_specific_humidity_g_per_kg</th>\n",
              "      <th>reanalysis_tdtr_k</th>\n",
              "      <th>station_avg_temp_c</th>\n",
              "      <th>station_diur_temp_rng_c</th>\n",
              "      <th>station_max_temp_c</th>\n",
              "      <th>station_min_temp_c</th>\n",
              "      <th>station_precip_mm</th>\n",
              "      <th>total_cases</th>\n",
              "      <th>pred</th>\n",
              "      <th>Randomforest_total</th>\n",
              "    </tr>\n",
              "  </thead>\n",
              "  <tbody>\n",
              "    <tr>\n",
              "      <th>930</th>\n",
              "      <td>sj</td>\n",
              "      <td>2008</td>\n",
              "      <td>12</td>\n",
              "      <td>2008-03-18</td>\n",
              "      <td>0.04490</td>\n",
              "      <td>0.024450</td>\n",
              "      <td>0.101629</td>\n",
              "      <td>0.088000</td>\n",
              "      <td>0.00</td>\n",
              "      <td>297.404286</td>\n",
              "      <td>297.435714</td>\n",
              "      <td>292.205714</td>\n",
              "      <td>299.8</td>\n",
              "      <td>294.9</td>\n",
              "      <td>0.90</td>\n",
              "      <td>72.915714</td>\n",
              "      <td>0.00</td>\n",
              "      <td>13.737143</td>\n",
              "      <td>3.871429</td>\n",
              "      <td>25.200000</td>\n",
              "      <td>7.042857</td>\n",
              "      <td>30.0</td>\n",
              "      <td>20.6</td>\n",
              "      <td>0.5</td>\n",
              "      <td>3</td>\n",
              "      <td>5.131235</td>\n",
              "      <td>6.624675</td>\n",
              "    </tr>\n",
              "    <tr>\n",
              "      <th>931</th>\n",
              "      <td>sj</td>\n",
              "      <td>2008</td>\n",
              "      <td>13</td>\n",
              "      <td>2008-03-25</td>\n",
              "      <td>0.07785</td>\n",
              "      <td>-0.039900</td>\n",
              "      <td>0.310471</td>\n",
              "      <td>0.296243</td>\n",
              "      <td>27.19</td>\n",
              "      <td>296.958571</td>\n",
              "      <td>296.957143</td>\n",
              "      <td>292.095714</td>\n",
              "      <td>299.7</td>\n",
              "      <td>294.4</td>\n",
              "      <td>7.55</td>\n",
              "      <td>74.247143</td>\n",
              "      <td>27.19</td>\n",
              "      <td>13.644286</td>\n",
              "      <td>2.885714</td>\n",
              "      <td>25.042857</td>\n",
              "      <td>5.785714</td>\n",
              "      <td>30.0</td>\n",
              "      <td>21.1</td>\n",
              "      <td>1.8</td>\n",
              "      <td>4</td>\n",
              "      <td>6.121775</td>\n",
              "      <td>6.370779</td>\n",
              "    </tr>\n",
              "    <tr>\n",
              "      <th>932</th>\n",
              "      <td>sj</td>\n",
              "      <td>2008</td>\n",
              "      <td>14</td>\n",
              "      <td>2008-04-01</td>\n",
              "      <td>-0.03800</td>\n",
              "      <td>-0.016833</td>\n",
              "      <td>0.119371</td>\n",
              "      <td>0.066386</td>\n",
              "      <td>3.82</td>\n",
              "      <td>298.081429</td>\n",
              "      <td>298.228571</td>\n",
              "      <td>293.235714</td>\n",
              "      <td>299.8</td>\n",
              "      <td>296.5</td>\n",
              "      <td>3.67</td>\n",
              "      <td>74.600000</td>\n",
              "      <td>3.82</td>\n",
              "      <td>14.662857</td>\n",
              "      <td>2.714286</td>\n",
              "      <td>26.242857</td>\n",
              "      <td>6.814286</td>\n",
              "      <td>30.6</td>\n",
              "      <td>22.2</td>\n",
              "      <td>0.5</td>\n",
              "      <td>3</td>\n",
              "      <td>3.919937</td>\n",
              "      <td>6.882468</td>\n",
              "    </tr>\n",
              "    <tr>\n",
              "      <th>933</th>\n",
              "      <td>sj</td>\n",
              "      <td>2008</td>\n",
              "      <td>15</td>\n",
              "      <td>2008-04-08</td>\n",
              "      <td>-0.15520</td>\n",
              "      <td>-0.052750</td>\n",
              "      <td>0.137757</td>\n",
              "      <td>0.141214</td>\n",
              "      <td>16.96</td>\n",
              "      <td>297.460000</td>\n",
              "      <td>297.564286</td>\n",
              "      <td>292.732857</td>\n",
              "      <td>299.4</td>\n",
              "      <td>295.8</td>\n",
              "      <td>35.00</td>\n",
              "      <td>75.027143</td>\n",
              "      <td>16.96</td>\n",
              "      <td>14.184286</td>\n",
              "      <td>2.185714</td>\n",
              "      <td>25.000000</td>\n",
              "      <td>5.714286</td>\n",
              "      <td>29.4</td>\n",
              "      <td>21.7</td>\n",
              "      <td>30.7</td>\n",
              "      <td>1</td>\n",
              "      <td>7.849755</td>\n",
              "      <td>4.408442</td>\n",
              "    </tr>\n",
              "    <tr>\n",
              "      <th>935</th>\n",
              "      <td>sj</td>\n",
              "      <td>2008</td>\n",
              "      <td>17</td>\n",
              "      <td>2008-04-22</td>\n",
              "      <td>-0.03700</td>\n",
              "      <td>-0.010367</td>\n",
              "      <td>0.077314</td>\n",
              "      <td>0.090586</td>\n",
              "      <td>0.00</td>\n",
              "      <td>298.672857</td>\n",
              "      <td>298.692857</td>\n",
              "      <td>294.280000</td>\n",
              "      <td>300.9</td>\n",
              "      <td>295.9</td>\n",
              "      <td>2.17</td>\n",
              "      <td>76.960000</td>\n",
              "      <td>0.00</td>\n",
              "      <td>15.671429</td>\n",
              "      <td>3.957143</td>\n",
              "      <td>27.042857</td>\n",
              "      <td>7.514286</td>\n",
              "      <td>31.7</td>\n",
              "      <td>23.3</td>\n",
              "      <td>0.3</td>\n",
              "      <td>5</td>\n",
              "      <td>10.108192</td>\n",
              "      <td>7.679221</td>\n",
              "    </tr>\n",
              "  </tbody>\n",
              "</table>\n",
              "</div>"
            ],
            "text/plain": [
              "    city  year  weekofyear  ... total_cases       pred  Randomforest_total\n",
              "930   sj  2008          12  ...           3   5.131235            6.624675\n",
              "931   sj  2008          13  ...           4   6.121775            6.370779\n",
              "932   sj  2008          14  ...           3   3.919937            6.882468\n",
              "933   sj  2008          15  ...           1   7.849755            4.408442\n",
              "935   sj  2008          17  ...           5  10.108192            7.679221\n",
              "\n",
              "[5 rows x 27 columns]"
            ]
          },
          "metadata": {
            "tags": []
          },
          "execution_count": 72
        }
      ]
    },
    {
      "cell_type": "code",
      "metadata": {
        "colab": {
          "base_uri": "https://localhost:8080/"
        },
        "id": "JVMFU9JuFTxu",
        "outputId": "a0dbd98f-f387-4747-8924-2b8efa3c66f6"
      },
      "source": [
        "\n",
        "\n",
        "from sklearn.ensemble import GradientBoostingRegressor\n",
        "\n",
        "total_regressor=GradientBoostingRegressor(n_estimators=2000,verbose=1)\n",
        "\n",
        "yy=X_train_sj[['total_cases']]\n",
        "total_regressor.fit(X_train_sj[prediktorok],yy)\n",
        "y_pred=total_regressor.predict(X_train_sj[prediktorok])\n",
        "\n",
        "X_train_sj[\"Randomforest_total\"]=y_pred"
      ],
      "execution_count": 104,
      "outputs": [
        {
          "output_type": "stream",
          "text": [
            "/usr/local/lib/python3.7/dist-packages/sklearn/ensemble/_gb.py:1454: DataConversionWarning:\n",
            "\n",
            "A column-vector y was passed when a 1d array was expected. Please change the shape of y to (n_samples, ), for example using ravel().\n",
            "\n"
          ],
          "name": "stderr"
        },
        {
          "output_type": "stream",
          "text": [
            "      Iter       Train Loss   Remaining Time \n",
            "         1        1220.8759           19.38s\n",
            "         2        1153.4973           14.54s\n",
            "         3        1097.6964           12.57s\n",
            "         4        1050.3597           11.55s\n",
            "         5        1015.6105           11.03s\n",
            "         6         974.4072           10.62s\n",
            "         7         945.8004           10.39s\n",
            "         8         920.2258           10.31s\n",
            "         9         891.2642           10.22s\n",
            "        10         862.5312           10.07s\n",
            "        20         674.1205            8.92s\n",
            "        30         571.5918            8.47s\n",
            "        40         503.9765            8.25s\n",
            "        50         449.8532            8.43s\n",
            "        60         405.2322            8.32s\n",
            "        70         365.4816            8.19s\n",
            "        80         333.5867            8.07s\n",
            "        90         306.4352            7.97s\n",
            "       100         283.5622            7.89s\n",
            "       200         136.5207            7.63s\n",
            "       300          70.4474            7.11s\n",
            "       400          38.2893            6.67s\n",
            "       500          20.2500            6.21s\n",
            "       600          11.1163            5.82s\n",
            "       700           6.6565            5.40s\n",
            "       800           4.0975            4.97s\n",
            "       900           2.4555            4.55s\n",
            "      1000           1.5313            4.14s\n",
            "      2000           0.0162            0.00s\n"
          ],
          "name": "stdout"
        },
        {
          "output_type": "stream",
          "text": [
            "/usr/local/lib/python3.7/dist-packages/ipykernel_launcher.py:11: SettingWithCopyWarning:\n",
            "\n",
            "\n",
            "A value is trying to be set on a copy of a slice from a DataFrame.\n",
            "Try using .loc[row_indexer,col_indexer] = value instead\n",
            "\n",
            "See the caveats in the documentation: https://pandas.pydata.org/pandas-docs/stable/user_guide/indexing.html#returning-a-view-versus-a-copy\n",
            "\n"
          ],
          "name": "stderr"
        }
      ]
    },
    {
      "cell_type": "code",
      "metadata": {
        "id": "vs6u8WxDIwgG"
      },
      "source": [
        ""
      ],
      "execution_count": 73,
      "outputs": []
    },
    {
      "cell_type": "code",
      "metadata": {
        "id": "-qgc1XFraobT",
        "colab": {
          "base_uri": "https://localhost:8080/",
          "height": 617
        },
        "outputId": "ac621750-6613-4cb5-b93b-43a9b036c8c4"
      },
      "source": [
        "grafikon(X_train_sj,\"week_start_date\",\"total_cases\",\"total_cases\",\"Randomforest_total\",\"Randomforest_total\",title=\"GradientBoostingRegressor\",)"
      ],
      "execution_count": 112,
      "outputs": [
        {
          "output_type": "display_data",
          "data": {
            "text/html": [
              "<html>\n",
              "<head><meta charset=\"utf-8\" /></head>\n",
              "<body>\n",
              "    <div>\n",
              "            <script src=\"https://cdnjs.cloudflare.com/ajax/libs/mathjax/2.7.5/MathJax.js?config=TeX-AMS-MML_SVG\"></script><script type=\"text/javascript\">if (window.MathJax) {MathJax.Hub.Config({SVG: {font: \"STIX-Web\"}});}</script>\n",
              "                <script type=\"text/javascript\">window.PlotlyConfig = {MathJaxConfig: 'local'};</script>\n",
              "        <script src=\"https://cdn.plot.ly/plotly-latest.min.js\"></script>    \n",
              "            <div id=\"1ab4a930-5f83-4da2-949d-890516d49356\" class=\"plotly-graph-div\" style=\"height:600px; width:1200px;\"></div>\n",
              "            <script type=\"text/javascript\">\n",
              "                \n",
              "                    window.PLOTLYENV=window.PLOTLYENV || {};\n",
              "                    \n",
              "                if (document.getElementById(\"1ab4a930-5f83-4da2-949d-890516d49356\")) {\n",
              "                    Plotly.newPlot(\n",
              "                        '1ab4a930-5f83-4da2-949d-890516d49356',\n",
              "                        [{\"line\": {\"color\": \"rgba(35,128,132,0.8)\"}, \"name\": \"total_cases\", \"showlegend\": true, \"type\": \"scatter\", \"x\": [\"1990-04-30\", \"1990-05-07\", \"1990-05-14\", \"1990-05-21\", \"1990-05-28\", \"1990-06-11\", \"1990-06-18\", \"1990-06-25\", \"1990-07-09\", \"1990-07-16\", \"1990-07-23\", \"1990-08-20\", \"1990-08-27\", \"1990-09-03\", \"1990-09-10\", \"1990-09-17\", \"1990-09-24\", \"1990-10-01\", \"1990-10-08\", \"1990-10-22\", \"1990-10-29\", \"1990-11-05\", \"1990-11-12\", \"1990-11-19\", \"1990-11-26\", \"1990-12-03\", \"1990-12-10\", \"1990-12-17\", \"1990-12-24\", \"1991-01-01\", \"1991-01-22\", \"1991-01-29\", \"1991-02-05\", \"1991-02-12\", \"1991-02-26\", \"1991-03-05\", \"1991-03-19\", \"1991-03-26\", \"1991-04-02\", \"1991-04-09\", \"1991-04-16\", \"1991-04-30\", \"1991-05-07\", \"1991-05-21\", \"1991-05-28\", \"1991-06-04\", \"1991-06-11\", \"1991-06-18\", \"1991-06-25\", \"1991-07-23\", \"1991-08-06\", \"1991-08-20\", \"1991-08-27\", \"1991-09-03\", \"1991-09-10\", \"1991-09-17\", \"1991-09-24\", \"1991-10-01\", \"1991-10-08\", \"1991-10-15\", \"1991-10-22\", \"1991-10-29\", \"1991-11-05\", \"1991-11-12\", \"1991-11-19\", \"1991-11-26\", \"1991-12-03\", \"1991-12-10\", \"1991-12-24\", \"1992-01-08\", \"1992-01-15\", \"1992-01-22\", \"1992-02-05\", \"1992-03-11\", \"1992-03-18\", \"1992-04-01\", \"1992-04-08\", \"1992-04-15\", \"1992-04-22\", \"1992-04-29\", \"1992-05-06\", \"1992-05-13\", \"1992-05-20\", \"1992-06-03\", \"1992-06-10\", \"1992-06-17\", \"1992-06-24\", \"1992-07-01\", \"1992-07-15\", \"1992-07-22\", \"1992-07-29\", \"1992-08-05\", \"1992-08-12\", \"1992-08-19\", \"1992-08-26\", \"1992-09-09\", \"1992-09-16\", \"1992-09-23\", \"1992-09-30\", \"1992-10-07\", \"1992-10-14\", \"1992-10-21\", \"1992-10-28\", \"1992-11-04\", \"1992-11-11\", \"1992-11-18\", \"1992-11-25\", \"1992-12-02\", \"1992-12-09\", \"1992-12-23\", \"1993-01-08\", \"1993-01-15\", \"1993-01-29\", \"1993-02-05\", \"1993-02-12\", \"1993-02-19\", \"1993-03-05\", \"1993-03-12\", \"1993-03-19\", \"1993-03-26\", \"1993-04-02\", \"1993-04-16\", \"1993-04-23\", \"1993-05-07\", \"1993-05-14\", \"1993-05-21\", \"1993-05-28\", \"1993-06-04\", \"1993-06-25\", \"1993-07-02\", \"1993-07-09\", \"1993-07-16\", \"1993-07-23\", \"1993-07-30\", \"1993-08-13\", \"1993-08-20\", \"1993-08-27\", \"1993-09-03\", \"1993-09-10\", \"1993-09-17\", \"1993-09-24\", \"1993-10-01\", \"1993-10-08\", \"1993-10-15\", \"1993-10-29\", \"1993-11-12\", \"1993-11-19\", \"1993-11-26\", \"1993-12-03\", \"1993-12-17\", \"1993-12-24\", \"1994-01-08\", \"1994-01-15\", \"1994-01-22\", \"1994-01-29\", \"1994-02-05\", \"1994-02-12\", \"1994-02-19\", \"1994-03-12\", \"1994-03-19\", \"1994-03-26\", \"1994-04-02\", \"1994-04-09\", \"1994-04-16\", \"1994-04-30\", \"1994-05-07\", \"1994-05-14\", \"1994-05-21\", \"1994-05-28\", \"1994-06-04\", \"1994-06-11\", \"1994-06-25\", \"1994-07-02\", \"1994-07-09\", \"1994-07-16\", \"1994-07-23\", \"1994-07-30\", \"1994-08-13\", \"1994-08-20\", \"1994-08-27\", \"1994-09-03\", \"1994-09-10\", \"1995-01-01\", \"1995-01-08\", \"1995-01-22\", \"1995-01-29\", \"1995-02-12\", \"1995-02-26\", \"1995-03-05\", \"1995-03-12\", \"1995-03-19\", \"1995-03-26\", \"1995-04-02\", \"1995-04-23\", \"1995-04-30\", \"1995-05-14\", \"1995-05-21\", \"1995-05-28\", \"1995-06-11\", \"1995-06-18\", \"1995-06-25\", \"1995-07-02\", \"1995-07-09\", \"1995-07-23\", \"1995-08-06\", \"1995-08-13\", \"1995-08-20\", \"1995-08-27\", \"1995-09-03\", \"1995-09-10\", \"1995-09-17\", \"1995-09-24\", \"1995-10-01\", \"1995-10-08\", \"1995-10-15\", \"1995-10-22\", \"1995-11-05\", \"1995-11-12\", \"1995-11-19\", \"1995-11-26\", \"1995-12-10\", \"1995-12-17\", \"1996-01-01\", \"1996-01-08\", \"1996-01-15\", \"1996-01-22\", \"1996-01-29\", \"1996-02-05\", \"1996-02-12\", \"1996-02-26\", \"1996-03-11\", \"1996-03-18\", \"1996-04-01\", \"1996-04-08\", \"1996-04-15\", \"1996-04-29\", \"1996-05-06\", \"1996-05-20\", \"1996-05-27\", \"1996-06-03\", \"1996-06-10\", \"1996-06-17\", \"1996-06-24\", \"1996-07-08\", \"1996-07-15\", \"1996-07-22\", \"1996-07-29\", \"1996-08-12\", \"1996-08-26\", \"1996-09-02\", \"1996-09-09\", \"1996-09-23\", \"1996-09-30\", \"1996-10-07\", \"1996-10-21\", \"1996-10-28\", \"1996-11-04\", \"1996-11-11\", \"1996-12-02\", \"1996-12-23\", \"1997-01-01\", \"1997-01-15\", \"1997-01-22\", \"1997-01-29\", \"1997-02-05\", \"1997-02-12\", \"1997-02-19\", \"1997-03-19\", \"1997-03-26\", \"1997-04-09\", \"1997-04-16\", \"1997-04-23\", \"1997-04-30\", \"1997-05-07\", \"1997-05-14\", \"1997-05-21\", \"1997-05-28\", \"1997-06-04\", \"1997-06-11\", \"1997-06-18\", \"1997-06-25\", \"1997-07-02\", \"1997-07-09\", \"1997-07-16\", \"1997-07-30\", \"1997-08-06\", \"1997-08-13\", \"1997-08-27\", \"1997-09-03\", \"1997-09-10\", \"1997-09-17\", \"1997-09-24\", \"1997-10-01\", \"1997-10-08\", \"1997-10-15\", \"1997-11-12\", \"1997-11-26\", \"1997-12-03\", \"1997-12-24\", \"1998-01-08\", \"1998-01-15\", \"1998-01-22\", \"1998-01-29\", \"1998-02-05\", \"1998-02-12\", \"1998-02-26\", \"1998-03-05\", \"1998-03-19\", \"1998-04-02\", \"1998-04-09\", \"1998-04-16\", \"1998-04-23\", \"1998-04-30\", \"1998-05-21\", \"1998-05-28\", \"1998-06-04\", \"1998-06-11\", \"1998-06-18\", \"1998-06-25\", \"1998-07-02\", \"1998-07-09\", \"1998-07-16\", \"1998-07-23\", \"1998-07-30\", \"1998-08-06\", \"1998-08-13\", \"1998-08-20\", \"1998-08-27\", \"1998-09-03\", \"1998-09-10\", \"1998-09-24\", \"1998-10-01\", \"1998-10-22\", \"1998-10-29\", \"1998-11-12\", \"1998-11-26\", \"1998-12-03\", \"1998-12-10\", \"1998-12-17\", \"1998-12-24\", \"1999-01-15\", \"1999-01-22\", \"1999-01-29\", \"1999-02-19\", \"1999-02-26\", \"1999-03-05\", \"1999-03-12\", \"1999-03-19\", \"1999-03-26\", \"1999-04-02\", \"1999-04-16\", \"1999-04-23\", \"1999-04-30\", \"1999-05-07\", \"1999-06-04\", \"1999-06-11\", \"1999-07-09\", \"1999-07-16\", \"1999-07-23\", \"1999-07-30\", \"1999-08-06\", \"1999-08-20\", \"1999-08-27\", \"1999-09-10\", \"1999-09-17\", \"1999-09-24\", \"1999-10-01\", \"1999-10-08\", \"1999-10-15\", \"1999-11-05\", \"1999-11-12\", \"1999-11-19\", \"1999-11-26\", \"1999-12-03\", \"1999-12-17\", \"1999-12-24\", \"2000-01-01\", \"2000-01-08\", \"2000-01-15\", \"2000-01-22\", \"2000-01-29\", \"2000-02-05\", \"2000-02-19\", \"2000-03-04\", \"2000-03-11\", \"2000-03-18\", \"2000-03-25\", \"2000-04-08\", \"2000-04-15\", \"2000-04-22\", \"2000-04-29\", \"2000-05-06\", \"2000-05-20\", \"2000-05-27\", \"2000-06-03\", \"2000-06-10\", \"2000-06-17\", \"2000-06-24\", \"2000-07-01\", \"2000-07-08\", \"2000-07-15\", \"2000-07-22\", \"2000-07-29\", \"2000-08-05\", \"2000-08-12\", \"2000-08-19\", \"2000-08-26\", \"2000-09-09\", \"2000-09-16\", \"2000-09-23\", \"2000-10-07\", \"2000-10-14\", \"2000-10-21\", \"2000-10-28\", \"2000-11-04\", \"2000-11-11\", \"2000-11-18\", \"2000-12-02\", \"2000-12-09\", \"2000-12-16\", \"2000-12-23\", \"2001-01-01\", \"2001-01-08\", \"2001-01-22\", \"2001-01-29\", \"2001-02-12\", \"2001-02-19\", \"2001-02-26\", \"2001-03-05\", \"2001-03-12\", \"2001-03-19\", \"2001-04-02\", \"2001-04-16\", \"2001-05-07\", \"2001-05-14\", \"2001-05-21\", \"2001-05-28\", \"2001-06-04\", \"2001-06-18\", \"2001-06-25\", \"2001-07-02\", \"2001-07-09\", \"2001-07-16\", \"2001-07-23\", \"2001-07-30\", \"2001-08-06\", \"2001-08-13\", \"2001-08-20\", \"2001-09-03\", \"2001-09-10\", \"2001-09-17\", \"2001-09-24\", \"2001-10-01\", \"2001-10-08\", \"2001-10-22\", \"2001-10-29\", \"2001-11-05\", \"2001-11-12\", \"2001-11-19\", \"2001-11-26\", \"2001-12-03\", \"2001-12-10\", \"2001-12-17\", \"2001-12-24\", \"2002-01-01\", \"2002-01-08\", \"2002-01-15\", \"2002-01-22\", \"2002-02-05\", \"2002-02-12\", \"2002-02-19\", \"2002-02-26\", \"2002-03-05\", \"2002-03-12\", \"2002-03-19\", \"2002-03-26\", \"2002-04-02\", \"2002-04-09\", \"2002-04-23\", \"2002-04-30\", \"2002-05-07\", \"2002-05-14\", \"2002-05-21\", \"2002-05-28\", \"2002-06-04\", \"2002-07-02\", \"2002-07-09\", \"2002-07-23\", \"2002-07-30\", \"2002-08-06\", \"2002-08-13\", \"2002-08-20\", \"2002-08-27\", \"2002-09-03\", \"2002-09-10\", \"2002-09-24\", \"2002-10-01\", \"2002-10-08\", \"2002-10-22\", \"2002-10-29\", \"2002-11-05\", \"2002-11-12\", \"2002-11-26\", \"2002-12-03\", \"2002-12-10\", \"2002-12-17\", \"2002-12-24\", \"2003-01-01\", \"2003-01-08\", \"2003-01-15\", \"2003-01-22\", \"2003-01-29\", \"2003-02-05\", \"2003-02-19\", \"2003-02-26\", \"2003-03-05\", \"2003-03-12\", \"2003-03-19\", \"2003-03-26\", \"2003-04-02\", \"2003-04-09\", \"2003-04-23\", \"2003-04-30\", \"2003-05-07\", \"2003-05-14\", \"2003-05-28\", \"2003-06-11\", \"2003-06-18\", \"2003-06-25\", \"2003-07-02\", \"2003-07-16\", \"2003-07-23\", \"2003-07-30\", \"2003-08-06\", \"2003-08-13\", \"2003-08-20\", \"2003-09-10\", \"2003-09-17\", \"2003-09-24\", \"2003-10-08\", \"2003-10-15\", \"2003-10-22\", \"2003-10-29\", \"2003-11-12\", \"2003-11-19\", \"2003-11-26\", \"2003-12-03\", \"2003-12-10\", \"2003-12-17\", \"2003-12-24\", \"2004-01-08\", \"2004-01-22\", \"2004-01-29\", \"2004-02-12\", \"2004-02-19\", \"2004-02-26\", \"2004-03-04\", \"2004-03-11\", \"2004-03-25\", \"2004-04-08\", \"2004-04-15\", \"2004-05-13\", \"2004-05-20\", \"2004-05-27\", \"2004-06-03\", \"2004-06-10\", \"2004-06-17\", \"2004-06-24\", \"2004-07-08\", \"2004-07-15\", \"2004-07-22\", \"2004-07-29\", \"2004-08-05\", \"2004-08-12\", \"2004-08-19\", \"2004-08-26\", \"2004-09-02\", \"2004-09-09\", \"2004-09-30\", \"2004-10-07\", \"2004-10-21\", \"2004-10-28\", \"2004-11-04\", \"2004-11-11\", \"2004-11-18\", \"2004-11-25\", \"2004-12-02\", \"2004-12-09\", \"2004-12-16\", \"2004-12-23\", \"2005-01-08\", \"2005-01-15\", \"2005-01-22\", \"2005-01-29\", \"2005-02-05\", \"2005-02-12\", \"2005-02-26\", \"2005-03-05\", \"2005-03-19\", \"2005-03-26\", \"2005-04-09\", \"2005-04-16\", \"2005-04-23\", \"2005-05-07\", \"2005-05-14\", \"2005-05-28\", \"2005-06-04\", \"2005-06-11\", \"2005-06-18\", \"2005-07-02\", \"2005-07-09\", \"2005-07-16\", \"2005-07-23\", \"2005-07-30\", \"2005-08-06\", \"2005-08-20\", \"2005-08-27\", \"2005-09-10\", \"2005-09-17\", \"2005-09-24\", \"2005-10-01\", \"2005-10-08\", \"2005-10-15\", \"2005-10-22\", \"2005-10-29\", \"2005-11-05\", \"2005-11-12\", \"2005-11-19\", \"2005-12-10\", \"2005-12-17\", \"2005-12-24\", \"2006-01-01\", \"2006-01-08\", \"2006-01-15\", \"2006-01-22\", \"2006-01-29\", \"2006-02-05\", \"2006-02-12\", \"2006-02-19\", \"2006-02-26\", \"2006-03-05\", \"2006-03-12\", \"2006-03-19\", \"2006-04-09\", \"2006-04-16\", \"2006-04-23\", \"2006-04-30\", \"2006-05-07\", \"2006-05-21\", \"2006-06-04\", \"2006-06-11\", \"2006-06-18\", \"2006-06-25\", \"2006-07-02\", \"2006-07-09\", \"2006-07-16\", \"2006-07-23\", \"2006-07-30\", \"2006-08-06\", \"2006-08-13\", \"2006-08-27\", \"2006-09-03\", \"2006-09-10\", \"2006-09-17\", \"2006-09-24\", \"2006-10-01\", \"2006-10-15\", \"2006-10-22\", \"2006-10-29\", \"2006-11-12\", \"2006-11-19\", \"2006-11-26\", \"2006-12-10\", \"2006-12-17\", \"2006-12-24\", \"2007-01-01\", \"2007-01-15\", \"2007-01-22\", \"2007-02-05\", \"2007-02-12\", \"2007-02-19\", \"2007-03-05\", \"2007-03-12\", \"2007-03-19\", \"2007-03-26\", \"2007-04-02\", \"2007-04-09\", \"2007-04-16\", \"2007-04-23\", \"2007-04-30\", \"2007-05-07\", \"2007-05-14\", \"2007-05-21\", \"2007-06-04\", \"2007-06-11\", \"2007-06-18\", \"2007-06-25\", \"2007-07-02\", \"2007-07-16\", \"2007-07-23\", \"2007-07-30\", \"2007-08-06\", \"2007-08-20\", \"2007-08-27\", \"2007-09-17\", \"2007-09-24\", \"2007-10-01\", \"2007-10-08\", \"2007-10-15\", \"2007-10-29\", \"2007-11-05\", \"2007-11-12\", \"2007-11-26\", \"2007-12-10\", \"2007-12-24\", \"2008-01-01\", \"2008-01-22\", \"2008-02-05\", \"2008-02-12\", \"2008-02-19\", \"2008-03-04\", \"2008-03-11\", \"2008-03-18\", \"2008-03-25\", \"2008-04-01\", \"2008-04-08\", \"2008-04-22\"], \"xaxis\": \"x\", \"y\": [4, 5, 4, 3, 6, 4, 5, 10, 8, 2, 6, 21, 28, 24, 20, 40, 27, 42, 33, 37, 57, 71, 44, 56, 53, 52, 47, 26, 27, 21, 34, 37, 17, 19, 18, 21, 17, 16, 16, 15, 23, 17, 12, 10, 15, 19, 21, 14, 18, 23, 62, 76, 66, 64, 68, 89, 92, 140, 116, 142, 129, 140, 140, 127, 129, 169, 141, 108, 70, 104, 90, 85, 53, 40, 37, 30, 30, 28, 23, 24, 29, 26, 23, 19, 20, 26, 29, 31, 26, 32, 35, 33, 30, 52, 59, 65, 74, 70, 61, 53, 76, 61, 57, 44, 34, 47, 60, 60, 53, 31, 32, 28, 33, 35, 22, 13, 21, 17, 11, 8, 8, 6, 7, 17, 10, 10, 18, 19, 12, 21, 18, 16, 16, 22, 25, 23, 12, 25, 28, 27, 18, 23, 23, 29, 36, 46, 31, 25, 40, 38, 30, 31, 26, 35, 36, 39, 25, 31, 25, 24, 18, 23, 13, 18, 17, 22, 13, 24, 31, 34, 31, 38, 49, 42, 49, 55, 80, 72, 89, 115, 179, 202, 154, 91, 56, 46, 26, 17, 20, 11, 7, 16, 14, 2, 6, 4, 3, 4, 8, 7, 10, 14, 7, 11, 17, 19, 24, 17, 28, 40, 33, 31, 33, 29, 30, 36, 40, 28, 36, 19, 23, 17, 23, 14, 20, 13, 23, 20, 16, 23, 15, 4, 5, 11, 11, 4, 6, 2, 4, 2, 4, 6, 6, 6, 11, 16, 9, 13, 21, 19, 17, 27, 30, 29, 35, 33, 30, 29, 22, 26, 29, 33, 24, 30, 20, 17, 24, 9, 14, 11, 19, 10, 8, 8, 9, 3, 7, 14, 4, 9, 14, 7, 9, 3, 14, 12, 10, 26, 47, 42, 31, 34, 33, 52, 56, 47, 49, 66, 67, 68, 49, 50, 56, 75, 63, 41, 50, 31, 30, 32, 26, 30, 36, 48, 44, 51, 59, 71, 102, 128, 127, 150, 191, 256, 329, 263, 220, 204, 181, 99, 80, 102, 68, 64, 67, 85, 67, 73, 89, 68, 77, 75, 47, 28, 37, 37, 27, 12, 15, 22, 15, 17, 10, 9, 11, 16, 14, 13, 15, 30, 25, 44, 25, 48, 56, 60, 45, 55, 32, 42, 37, 43, 34, 40, 16, 17, 17, 16, 23, 18, 18, 9, 7, 3, 2, 8, 3, 1, 2, 3, 3, 2, 0, 2, 2, 0, 6, 3, 6, 2, 3, 2, 4, 5, 2, 9, 2, 8, 6, 3, 14, 15, 20, 9, 20, 28, 38, 30, 23, 16, 22, 28, 14, 20, 17, 13, 20, 9, 18, 9, 8, 11, 6, 13, 8, 8, 5, 16, 11, 18, 10, 22, 14, 16, 18, 27, 38, 35, 51, 65, 55, 54, 62, 64, 65, 71, 75, 71, 72, 47, 27, 35, 25, 19, 37, 38, 34, 26, 18, 22, 16, 18, 6, 12, 6, 6, 3, 7, 1, 3, 2, 2, 1, 10, 3, 2, 6, 3, 5, 4, 7, 6, 5, 7, 6, 4, 7, 9, 5, 10, 6, 13, 5, 5, 9, 3, 6, 11, 7, 7, 15, 9, 6, 6, 7, 10, 8, 7, 12, 3, 2, 5, 5, 7, 7, 7, 13, 10, 14, 11, 25, 17, 18, 25, 21, 31, 35, 28, 37, 34, 30, 39, 39, 34, 30, 37, 29, 26, 15, 22, 20, 10, 21, 14, 9, 11, 5, 6, 11, 3, 2, 5, 3, 12, 13, 10, 13, 13, 21, 18, 8, 7, 20, 14, 14, 7, 14, 10, 13, 18, 16, 20, 17, 4, 15, 8, 6, 12, 15, 11, 15, 17, 7, 7, 8, 9, 12, 5, 11, 4, 7, 1, 1, 2, 6, 4, 10, 12, 21, 21, 30, 45, 56, 75, 83, 126, 119, 131, 112, 82, 73, 43, 55, 55, 53, 46, 43, 29, 13, 17, 8, 13, 10, 17, 19, 9, 9, 9, 3, 7, 7, 0, 2, 1, 3, 3, 3, 7, 5, 5, 5, 6, 6, 4, 4, 8, 14, 12, 16, 10, 18, 15, 23, 17, 33, 15, 11, 14, 17, 20, 12, 21, 19, 10, 13, 10, 21, 11, 14, 14, 15, 16, 12, 20, 8, 3, 13, 4, 1, 10, 8, 13, 10, 18, 21, 34, 25, 34, 40, 42, 36, 72, 76, 92, 106, 101, 170, 135, 106, 48, 48, 26, 29, 12, 17, 15, 10, 2, 6, 8, 1, 2, 3, 4, 3, 1, 5], \"yaxis\": \"y\"}, {\"line\": {\"color\": \"rgba(193,99,99,0.8)\"}, \"name\": \"Randomforest_total\", \"showlegend\": true, \"type\": \"scatter\", \"x\": [\"1990-04-30\", \"1990-05-07\", \"1990-05-14\", \"1990-05-21\", \"1990-05-28\", \"1990-06-11\", \"1990-06-18\", \"1990-06-25\", \"1990-07-09\", \"1990-07-16\", \"1990-07-23\", \"1990-08-20\", \"1990-08-27\", \"1990-09-03\", \"1990-09-10\", \"1990-09-17\", \"1990-09-24\", \"1990-10-01\", \"1990-10-08\", \"1990-10-22\", \"1990-10-29\", \"1990-11-05\", \"1990-11-12\", \"1990-11-19\", \"1990-11-26\", \"1990-12-03\", \"1990-12-10\", \"1990-12-17\", \"1990-12-24\", \"1991-01-01\", \"1991-01-22\", \"1991-01-29\", \"1991-02-05\", \"1991-02-12\", \"1991-02-26\", \"1991-03-05\", \"1991-03-19\", \"1991-03-26\", \"1991-04-02\", \"1991-04-09\", \"1991-04-16\", \"1991-04-30\", \"1991-05-07\", \"1991-05-21\", \"1991-05-28\", \"1991-06-04\", \"1991-06-11\", \"1991-06-18\", \"1991-06-25\", \"1991-07-23\", \"1991-08-06\", \"1991-08-20\", \"1991-08-27\", \"1991-09-03\", \"1991-09-10\", \"1991-09-17\", \"1991-09-24\", \"1991-10-01\", \"1991-10-08\", \"1991-10-15\", \"1991-10-22\", \"1991-10-29\", \"1991-11-05\", \"1991-11-12\", \"1991-11-19\", \"1991-11-26\", \"1991-12-03\", \"1991-12-10\", \"1991-12-24\", \"1992-01-08\", \"1992-01-15\", \"1992-01-22\", \"1992-02-05\", \"1992-03-11\", \"1992-03-18\", \"1992-04-01\", \"1992-04-08\", \"1992-04-15\", \"1992-04-22\", \"1992-04-29\", \"1992-05-06\", \"1992-05-13\", \"1992-05-20\", \"1992-06-03\", \"1992-06-10\", \"1992-06-17\", \"1992-06-24\", \"1992-07-01\", \"1992-07-15\", \"1992-07-22\", \"1992-07-29\", \"1992-08-05\", \"1992-08-12\", \"1992-08-19\", \"1992-08-26\", \"1992-09-09\", \"1992-09-16\", \"1992-09-23\", \"1992-09-30\", \"1992-10-07\", \"1992-10-14\", \"1992-10-21\", \"1992-10-28\", \"1992-11-04\", \"1992-11-11\", \"1992-11-18\", \"1992-11-25\", \"1992-12-02\", \"1992-12-09\", \"1992-12-23\", \"1993-01-08\", \"1993-01-15\", \"1993-01-29\", \"1993-02-05\", \"1993-02-12\", \"1993-02-19\", \"1993-03-05\", \"1993-03-12\", \"1993-03-19\", \"1993-03-26\", \"1993-04-02\", \"1993-04-16\", \"1993-04-23\", \"1993-05-07\", \"1993-05-14\", \"1993-05-21\", \"1993-05-28\", \"1993-06-04\", \"1993-06-25\", \"1993-07-02\", \"1993-07-09\", \"1993-07-16\", \"1993-07-23\", \"1993-07-30\", \"1993-08-13\", \"1993-08-20\", \"1993-08-27\", \"1993-09-03\", \"1993-09-10\", \"1993-09-17\", \"1993-09-24\", \"1993-10-01\", \"1993-10-08\", \"1993-10-15\", \"1993-10-29\", \"1993-11-12\", \"1993-11-19\", \"1993-11-26\", \"1993-12-03\", \"1993-12-17\", \"1993-12-24\", \"1994-01-08\", \"1994-01-15\", \"1994-01-22\", \"1994-01-29\", \"1994-02-05\", \"1994-02-12\", \"1994-02-19\", \"1994-03-12\", \"1994-03-19\", \"1994-03-26\", \"1994-04-02\", \"1994-04-09\", \"1994-04-16\", \"1994-04-30\", \"1994-05-07\", \"1994-05-14\", \"1994-05-21\", \"1994-05-28\", \"1994-06-04\", \"1994-06-11\", \"1994-06-25\", \"1994-07-02\", \"1994-07-09\", \"1994-07-16\", \"1994-07-23\", \"1994-07-30\", \"1994-08-13\", \"1994-08-20\", \"1994-08-27\", \"1994-09-03\", \"1994-09-10\", \"1995-01-01\", \"1995-01-08\", \"1995-01-22\", \"1995-01-29\", \"1995-02-12\", \"1995-02-26\", \"1995-03-05\", \"1995-03-12\", \"1995-03-19\", \"1995-03-26\", \"1995-04-02\", \"1995-04-23\", \"1995-04-30\", \"1995-05-14\", \"1995-05-21\", \"1995-05-28\", \"1995-06-11\", \"1995-06-18\", \"1995-06-25\", \"1995-07-02\", \"1995-07-09\", \"1995-07-23\", \"1995-08-06\", \"1995-08-13\", \"1995-08-20\", \"1995-08-27\", \"1995-09-03\", \"1995-09-10\", \"1995-09-17\", \"1995-09-24\", \"1995-10-01\", \"1995-10-08\", \"1995-10-15\", \"1995-10-22\", \"1995-11-05\", \"1995-11-12\", \"1995-11-19\", \"1995-11-26\", \"1995-12-10\", \"1995-12-17\", \"1996-01-01\", \"1996-01-08\", \"1996-01-15\", \"1996-01-22\", \"1996-01-29\", \"1996-02-05\", \"1996-02-12\", \"1996-02-26\", \"1996-03-11\", \"1996-03-18\", \"1996-04-01\", \"1996-04-08\", \"1996-04-15\", \"1996-04-29\", \"1996-05-06\", \"1996-05-20\", \"1996-05-27\", \"1996-06-03\", \"1996-06-10\", \"1996-06-17\", \"1996-06-24\", \"1996-07-08\", \"1996-07-15\", \"1996-07-22\", \"1996-07-29\", \"1996-08-12\", \"1996-08-26\", \"1996-09-02\", \"1996-09-09\", \"1996-09-23\", \"1996-09-30\", \"1996-10-07\", \"1996-10-21\", \"1996-10-28\", \"1996-11-04\", \"1996-11-11\", \"1996-12-02\", \"1996-12-23\", \"1997-01-01\", \"1997-01-15\", \"1997-01-22\", \"1997-01-29\", \"1997-02-05\", \"1997-02-12\", \"1997-02-19\", \"1997-03-19\", \"1997-03-26\", \"1997-04-09\", \"1997-04-16\", \"1997-04-23\", \"1997-04-30\", \"1997-05-07\", \"1997-05-14\", \"1997-05-21\", \"1997-05-28\", \"1997-06-04\", \"1997-06-11\", \"1997-06-18\", \"1997-06-25\", \"1997-07-02\", \"1997-07-09\", \"1997-07-16\", \"1997-07-30\", \"1997-08-06\", \"1997-08-13\", \"1997-08-27\", \"1997-09-03\", \"1997-09-10\", \"1997-09-17\", \"1997-09-24\", \"1997-10-01\", \"1997-10-08\", \"1997-10-15\", \"1997-11-12\", \"1997-11-26\", \"1997-12-03\", \"1997-12-24\", \"1998-01-08\", \"1998-01-15\", \"1998-01-22\", \"1998-01-29\", \"1998-02-05\", \"1998-02-12\", \"1998-02-26\", \"1998-03-05\", \"1998-03-19\", \"1998-04-02\", \"1998-04-09\", \"1998-04-16\", \"1998-04-23\", \"1998-04-30\", \"1998-05-21\", \"1998-05-28\", \"1998-06-04\", \"1998-06-11\", \"1998-06-18\", \"1998-06-25\", \"1998-07-02\", \"1998-07-09\", \"1998-07-16\", \"1998-07-23\", \"1998-07-30\", \"1998-08-06\", \"1998-08-13\", \"1998-08-20\", \"1998-08-27\", \"1998-09-03\", \"1998-09-10\", \"1998-09-24\", \"1998-10-01\", \"1998-10-22\", \"1998-10-29\", \"1998-11-12\", \"1998-11-26\", \"1998-12-03\", \"1998-12-10\", \"1998-12-17\", \"1998-12-24\", \"1999-01-15\", \"1999-01-22\", \"1999-01-29\", \"1999-02-19\", \"1999-02-26\", \"1999-03-05\", \"1999-03-12\", \"1999-03-19\", \"1999-03-26\", \"1999-04-02\", \"1999-04-16\", \"1999-04-23\", \"1999-04-30\", \"1999-05-07\", \"1999-06-04\", \"1999-06-11\", \"1999-07-09\", \"1999-07-16\", \"1999-07-23\", \"1999-07-30\", \"1999-08-06\", \"1999-08-20\", \"1999-08-27\", \"1999-09-10\", \"1999-09-17\", \"1999-09-24\", \"1999-10-01\", \"1999-10-08\", \"1999-10-15\", \"1999-11-05\", \"1999-11-12\", \"1999-11-19\", \"1999-11-26\", \"1999-12-03\", \"1999-12-17\", \"1999-12-24\", \"2000-01-01\", \"2000-01-08\", \"2000-01-15\", \"2000-01-22\", \"2000-01-29\", \"2000-02-05\", \"2000-02-19\", \"2000-03-04\", \"2000-03-11\", \"2000-03-18\", \"2000-03-25\", \"2000-04-08\", \"2000-04-15\", \"2000-04-22\", \"2000-04-29\", \"2000-05-06\", \"2000-05-20\", \"2000-05-27\", \"2000-06-03\", \"2000-06-10\", \"2000-06-17\", \"2000-06-24\", \"2000-07-01\", \"2000-07-08\", \"2000-07-15\", \"2000-07-22\", \"2000-07-29\", \"2000-08-05\", \"2000-08-12\", \"2000-08-19\", \"2000-08-26\", \"2000-09-09\", \"2000-09-16\", \"2000-09-23\", \"2000-10-07\", \"2000-10-14\", \"2000-10-21\", \"2000-10-28\", \"2000-11-04\", \"2000-11-11\", \"2000-11-18\", \"2000-12-02\", \"2000-12-09\", \"2000-12-16\", \"2000-12-23\", \"2001-01-01\", \"2001-01-08\", \"2001-01-22\", \"2001-01-29\", \"2001-02-12\", \"2001-02-19\", \"2001-02-26\", \"2001-03-05\", \"2001-03-12\", \"2001-03-19\", \"2001-04-02\", \"2001-04-16\", \"2001-05-07\", \"2001-05-14\", \"2001-05-21\", \"2001-05-28\", \"2001-06-04\", \"2001-06-18\", \"2001-06-25\", \"2001-07-02\", \"2001-07-09\", \"2001-07-16\", \"2001-07-23\", \"2001-07-30\", \"2001-08-06\", \"2001-08-13\", \"2001-08-20\", \"2001-09-03\", \"2001-09-10\", \"2001-09-17\", \"2001-09-24\", \"2001-10-01\", \"2001-10-08\", \"2001-10-22\", \"2001-10-29\", \"2001-11-05\", \"2001-11-12\", \"2001-11-19\", \"2001-11-26\", \"2001-12-03\", \"2001-12-10\", \"2001-12-17\", \"2001-12-24\", \"2002-01-01\", \"2002-01-08\", \"2002-01-15\", \"2002-01-22\", \"2002-02-05\", \"2002-02-12\", \"2002-02-19\", \"2002-02-26\", \"2002-03-05\", \"2002-03-12\", \"2002-03-19\", \"2002-03-26\", \"2002-04-02\", \"2002-04-09\", \"2002-04-23\", \"2002-04-30\", \"2002-05-07\", \"2002-05-14\", \"2002-05-21\", \"2002-05-28\", \"2002-06-04\", \"2002-07-02\", \"2002-07-09\", \"2002-07-23\", \"2002-07-30\", \"2002-08-06\", \"2002-08-13\", \"2002-08-20\", \"2002-08-27\", \"2002-09-03\", \"2002-09-10\", \"2002-09-24\", \"2002-10-01\", \"2002-10-08\", \"2002-10-22\", \"2002-10-29\", \"2002-11-05\", \"2002-11-12\", \"2002-11-26\", \"2002-12-03\", \"2002-12-10\", \"2002-12-17\", \"2002-12-24\", \"2003-01-01\", \"2003-01-08\", \"2003-01-15\", \"2003-01-22\", \"2003-01-29\", \"2003-02-05\", \"2003-02-19\", \"2003-02-26\", \"2003-03-05\", \"2003-03-12\", \"2003-03-19\", \"2003-03-26\", \"2003-04-02\", \"2003-04-09\", \"2003-04-23\", \"2003-04-30\", \"2003-05-07\", \"2003-05-14\", \"2003-05-28\", \"2003-06-11\", \"2003-06-18\", \"2003-06-25\", \"2003-07-02\", \"2003-07-16\", \"2003-07-23\", \"2003-07-30\", \"2003-08-06\", \"2003-08-13\", \"2003-08-20\", \"2003-09-10\", \"2003-09-17\", \"2003-09-24\", \"2003-10-08\", \"2003-10-15\", \"2003-10-22\", \"2003-10-29\", \"2003-11-12\", \"2003-11-19\", \"2003-11-26\", \"2003-12-03\", \"2003-12-10\", \"2003-12-17\", \"2003-12-24\", \"2004-01-08\", \"2004-01-22\", \"2004-01-29\", \"2004-02-12\", \"2004-02-19\", \"2004-02-26\", \"2004-03-04\", \"2004-03-11\", \"2004-03-25\", \"2004-04-08\", \"2004-04-15\", \"2004-05-13\", \"2004-05-20\", \"2004-05-27\", \"2004-06-03\", \"2004-06-10\", \"2004-06-17\", \"2004-06-24\", \"2004-07-08\", \"2004-07-15\", \"2004-07-22\", \"2004-07-29\", \"2004-08-05\", \"2004-08-12\", \"2004-08-19\", \"2004-08-26\", \"2004-09-02\", \"2004-09-09\", \"2004-09-30\", \"2004-10-07\", \"2004-10-21\", \"2004-10-28\", \"2004-11-04\", \"2004-11-11\", \"2004-11-18\", \"2004-11-25\", \"2004-12-02\", \"2004-12-09\", \"2004-12-16\", \"2004-12-23\", \"2005-01-08\", \"2005-01-15\", \"2005-01-22\", \"2005-01-29\", \"2005-02-05\", \"2005-02-12\", \"2005-02-26\", \"2005-03-05\", \"2005-03-19\", \"2005-03-26\", \"2005-04-09\", \"2005-04-16\", \"2005-04-23\", \"2005-05-07\", \"2005-05-14\", \"2005-05-28\", \"2005-06-04\", \"2005-06-11\", \"2005-06-18\", \"2005-07-02\", \"2005-07-09\", \"2005-07-16\", \"2005-07-23\", \"2005-07-30\", \"2005-08-06\", \"2005-08-20\", \"2005-08-27\", \"2005-09-10\", \"2005-09-17\", \"2005-09-24\", \"2005-10-01\", \"2005-10-08\", \"2005-10-15\", \"2005-10-22\", \"2005-10-29\", \"2005-11-05\", \"2005-11-12\", \"2005-11-19\", \"2005-12-10\", \"2005-12-17\", \"2005-12-24\", \"2006-01-01\", \"2006-01-08\", \"2006-01-15\", \"2006-01-22\", \"2006-01-29\", \"2006-02-05\", \"2006-02-12\", \"2006-02-19\", \"2006-02-26\", \"2006-03-05\", \"2006-03-12\", \"2006-03-19\", \"2006-04-09\", \"2006-04-16\", \"2006-04-23\", \"2006-04-30\", \"2006-05-07\", \"2006-05-21\", \"2006-06-04\", \"2006-06-11\", \"2006-06-18\", \"2006-06-25\", \"2006-07-02\", \"2006-07-09\", \"2006-07-16\", \"2006-07-23\", \"2006-07-30\", \"2006-08-06\", \"2006-08-13\", \"2006-08-27\", \"2006-09-03\", \"2006-09-10\", \"2006-09-17\", \"2006-09-24\", \"2006-10-01\", \"2006-10-15\", \"2006-10-22\", \"2006-10-29\", \"2006-11-12\", \"2006-11-19\", \"2006-11-26\", \"2006-12-10\", \"2006-12-17\", \"2006-12-24\", \"2007-01-01\", \"2007-01-15\", \"2007-01-22\", \"2007-02-05\", \"2007-02-12\", \"2007-02-19\", \"2007-03-05\", \"2007-03-12\", \"2007-03-19\", \"2007-03-26\", \"2007-04-02\", \"2007-04-09\", \"2007-04-16\", \"2007-04-23\", \"2007-04-30\", \"2007-05-07\", \"2007-05-14\", \"2007-05-21\", \"2007-06-04\", \"2007-06-11\", \"2007-06-18\", \"2007-06-25\", \"2007-07-02\", \"2007-07-16\", \"2007-07-23\", \"2007-07-30\", \"2007-08-06\", \"2007-08-20\", \"2007-08-27\", \"2007-09-17\", \"2007-09-24\", \"2007-10-01\", \"2007-10-08\", \"2007-10-15\", \"2007-10-29\", \"2007-11-05\", \"2007-11-12\", \"2007-11-26\", \"2007-12-10\", \"2007-12-24\", \"2008-01-01\", \"2008-01-22\", \"2008-02-05\", \"2008-02-12\", \"2008-02-19\", \"2008-03-04\", \"2008-03-11\", \"2008-03-18\", \"2008-03-25\", \"2008-04-01\", \"2008-04-08\", \"2008-04-22\"], \"xaxis\": \"x\", \"y\": [4.03151048404832, 5.350317433108855, 4.102531378889637, 3.1828368764700543, 5.9984745247547915, 3.999479579344098, 5.0202147439311675, 9.944976433389916, 8.198697333630198, 2.0406496622285664, 6.060999947778526, 20.82154089047321, 27.977180666981788, 24.032392277390873, 20.010761417671215, 40.04264669575792, 26.99253516474374, 42.05364564465043, 32.94428138764249, 36.90962160783197, 56.97291684870754, 70.94238945846581, 43.932918064574956, 55.942481736309276, 53.161294530859365, 51.92661068245906, 47.008485516235936, 25.993967159069868, 27.043548943047387, 21.09968181118219, 34.07126128656077, 36.88740142725494, 16.950338311776058, 18.925659949458023, 18.089435559376852, 20.96979856027111, 16.995403698085426, 15.988604956632177, 16.08168187233208, 14.935441358283486, 22.834421447177814, 17.010476409625454, 11.813456362303766, 10.163895850981746, 15.012114272692394, 18.97286993071037, 21.255410648415943, 13.99840049276675, 18.20375439663866, 23.001981385961347, 61.65215408685476, 75.95102474700136, 65.77251973167235, 63.60732847504388, 67.91684692794132, 88.87031267679713, 91.88696245378317, 139.75641506841475, 115.74600106572962, 141.86642013401908, 128.69147350649962, 139.8269510485156, 139.78554769824916, 126.78004922444669, 128.42868387899264, 168.8849241965374, 140.8689556352471, 107.85229067810114, 69.94887426203364, 103.97387308983937, 89.92415922088504, 84.75268487916688, 52.945760753427905, 39.719560228197665, 36.79893966321733, 29.844106960420376, 29.83259079013683, 27.790072506317035, 22.662382623903003, 23.950113925743935, 28.801131862079448, 25.86195506541267, 22.961831363884293, 18.947194488051817, 19.982538626024734, 25.898477785083895, 28.955100505436256, 30.96976311312343, 25.752611928677453, 31.887178080941492, 34.9939490355924, 32.69676207713016, 29.9784505097305, 51.96859981646879, 58.921704530581486, 65.01665200722945, 73.68295240928859, 70.04561164709193, 60.692768469092236, 53.04629299841956, 75.99068338177447, 60.87474969418657, 57.043997951465066, 44.00909061316429, 34.029225707113504, 47.05390866681964, 60.10965969904661, 59.838736940304166, 52.97132211068907, 30.945853318760697, 31.88736458945185, 28.078951577397145, 33.19809721321406, 35.19331875391293, 22.00861854449206, 13.093106276532707, 20.998117624020917, 17.009240416958615, 11.092693168487164, 8.222792160490659, 7.934924141609932, 6.013878794253201, 7.153912466998363, 17.02504467003755, 10.103838112131609, 10.070054597373298, 18.023841335266304, 18.90997063056379, 11.97129351373033, 20.995102220874713, 18.069872061098646, 16.037626379764035, 16.1578760908772, 22.036351953232288, 25.083549435490358, 23.011921072330974, 12.151437287371266, 25.230569896924845, 28.030934124819378, 26.906680891292584, 18.3152321536085, 23.079308415281183, 23.0461629141558, 29.187625895699323, 36.11621716181836, 46.08823446413691, 31.16743206033109, 25.056939292103433, 40.0157595875197, 37.954724672679156, 29.98458704700133, 30.833673858768886, 26.214136166964977, 35.02567946570821, 36.01043606848962, 38.80936674651218, 24.99230709116282, 30.869900622756486, 24.98474170305622, 23.894234308791738, 18.017139995208897, 23.000902973851524, 13.05562987708945, 17.755726817660516, 16.901886379308937, 21.799008523058824, 13.01353660707821, 23.81770868913624, 30.824465637871263, 33.86364729363292, 30.872137880078242, 38.11825783678134, 48.75504477279365, 41.87555273818008, 48.77059285661758, 54.6441667447412, 80.02816967206432, 72.0292578324881, 88.81836497555186, 114.82556521044928, 179.00614769968163, 201.88823285709051, 153.98064893267124, 90.9271033425083, 55.92492618153089, 46.03741180424875, 25.97005965876876, 17.0650949774817, 20.00637536830829, 11.09411963520075, 7.175530695864935, 16.09145118281263, 13.963684209769804, 2.0980061106894285, 6.000602088589668, 3.904880625856333, 2.948660380311533, 3.9203564501148302, 7.988205046504307, 7.125105949953836, 10.021129733376213, 14.001736312489024, 6.931596270405686, 10.9791159617732, 17.139241213794246, 18.942104764556436, 23.98402436562862, 17.099756355418943, 28.09345842430757, 40.00277105804461, 33.061621713376944, 31.0274778359584, 33.077144687504784, 29.04478087983376, 30.08124747715438, 36.242329591631375, 39.94144472307455, 28.11987795328633, 36.04114159905598, 19.210954954197003, 22.939523588395573, 17.21316825887913, 22.949399797903922, 14.321974464237801, 20.206565819478882, 13.098011435564466, 23.05893793675061, 20.399285491068806, 15.918289018122094, 22.884212638969075, 14.738028266078642, 4.109389488200944, 5.00762057536837, 10.918791842385223, 11.238785883719087, 3.9643147403273806, 5.863616124087639, 2.1069878845125363, 4.0734909755262025, 2.1357484041520864, 3.9371227890569647, 6.204779066389677, 6.2716091151638205, 6.043725233301966, 10.929722212798257, 16.236459975276407, 9.096204998812995, 13.161372838310806, 21.14762323619646, 19.139783780661933, 17.174350033891923, 27.095443716785084, 29.971636102017758, 28.747299131110676, 35.08023338984561, 33.12207166616689, 30.160028188130998, 29.045277695023728, 22.014748000506433, 25.88099510252964, 29.05421826908468, 33.09279338932418, 23.965061134513707, 30.00023906055476, 20.023013883419353, 16.98812197677138, 23.709171154637353, 8.892007126751063, 13.858094313707957, 11.01434743005182, 18.959078108186148, 10.117338005438787, 7.859980743776748, 7.958120824041169, 9.12863484826332, 3.0026596116751367, 6.755792786798118, 13.988621523602035, 4.059298626445972, 8.998645741472844, 13.944325254503855, 7.150750939593551, 8.940948541884513, 3.153103263068454, 14.072244561687336, 12.094932164320461, 10.174946341068003, 25.81223388782074, 47.035674202726, 42.09184156447237, 30.914092228008222, 34.268567457573404, 32.92658688470196, 51.91515342426728, 55.93275062120783, 47.061868396854116, 48.99346249579416, 65.99549055555705, 66.84395255748738, 67.75326276312828, 49.00522925572026, 49.7246680715047, 55.79298252087458, 74.91817780247352, 62.97901022079903, 40.843255830110486, 49.940485044656356, 30.838331257124715, 29.72494771830406, 31.87885013978162, 25.781632937939207, 29.80908992003621, 35.8850014837989, 47.798895288164715, 44.11478886521316, 50.63148173777315, 59.00189177739458, 70.81577121366622, 101.89440744192372, 127.94805070573031, 126.89645572322107, 149.77883256697166, 190.81275812832382, 255.9944978936058, 328.8020318081519, 263.03842931626673, 219.9729125152307, 204.00838636508718, 180.96890059937567, 98.94166414538103, 79.97092181926382, 101.9227940731871, 67.92225896056452, 63.95366563511344, 66.80687660174351, 84.803164832894, 66.86937138375687, 72.97808584134889, 88.83660888573876, 67.91333864232543, 76.91542804090248, 74.84855151626688, 46.914760606155546, 27.856348735310505, 37.01060488361952, 36.80770929039507, 26.938948791202602, 12.076672302341212, 15.0099760298242, 21.954863683340996, 14.921919462920672, 16.749229018452056, 10.300470221370096, 8.921246463913391, 10.908500913716226, 16.00238377869196, 14.010818366869128, 12.946198478175411, 15.070815186644165, 29.934223231158562, 25.009061005260005, 44.239867406102455, 25.07430533444157, 47.90471978754644, 55.90050660698846, 59.839026795354684, 45.12003568192929, 54.86937291876611, 31.97334421036352, 42.053864158386666, 37.01012449962922, 43.021989325582474, 34.08375537626345, 39.9106498664862, 15.997187349196505, 17.155261974565068, 17.01904235516355, 15.943748933738213, 22.97284967337027, 17.987930981613978, 18.03045521878882, 9.150847722615051, 7.024780071327784, 2.9832571474544824, 1.9678756532287047, 7.947420476719501, 3.181047776813556, 1.155252854159051, 1.9017094238379983, 3.0773474439753827, 3.095574725976988, 2.2103875414763365, 0.1168486684222579, 1.9778630504669843, 2.2782958620717064, 0.1559064980014131, 5.896552489018544, 2.867860429880768, 6.297816612058306, 2.045051275085943, 3.0256858303648344, 2.1238621600184597, 4.038278892003682, 5.089159473446183, 1.9271720195897502, 9.157023877467148, 2.021925139304506, 7.917487525466836, 6.0897595711652155, 3.1561247989084595, 14.05659856150023, 15.051767999029634, 19.954098967057615, 9.101347382472596, 20.14158451332699, 27.974877660539104, 38.03886916929697, 30.111540159047543, 22.939977176905778, 16.04701710189533, 21.995164036389113, 28.069897751381177, 14.050899118735163, 20.188381677087406, 16.71259330015535, 13.121649471411091, 19.783833456781796, 9.070962221046475, 18.07583644873886, 9.065749903574645, 8.028923512702304, 11.096932799072142, 6.074175417191315, 12.904388636241634, 8.213890546657584, 8.028589866137855, 5.112273157637282, 15.964170879238837, 10.993905007587827, 17.944003669287344, 10.42882245304467, 21.881823717675214, 14.054408065168683, 16.10775519648268, 17.98583266428827, 26.94734211449441, 37.96066486930265, 34.909053524257494, 50.93950882209919, 64.97979650416761, 54.99384228985517, 53.849384224388125, 62.080346961935184, 63.981165967197065, 65.04620886452005, 70.81148903483864, 75.02231790106828, 70.99979369570134, 71.92440223522874, 47.036586665337005, 27.01188896258664, 35.07970328876114, 25.027236021071538, 19.030993283663623, 36.83215575132442, 37.86192017323911, 33.89274788362698, 26.133915287830717, 17.886039020257925, 22.00088061203153, 16.2311837450513, 17.810301672636665, 5.966882089528245, 12.26355675164086, 6.10976001113556, 5.94047585784749, 2.9915436907931703, 6.9028507036880296, 1.1771737244408982, 3.108155215105463, 1.877763943331586, 2.0501817775714812, 1.0848282449720057, 10.112898167433261, 3.205051889921074, 2.0564418883752253, 5.813383648195343, 3.1288049912174225, 5.148187833174036, 4.054902330592105, 7.041812855759465, 6.164173140511638, 5.044222524658226, 7.060846379706832, 6.0061500516540995, 4.139541053685973, 7.01043095547151, 9.091110787422641, 5.073611206222291, 9.789143651033326, 5.971626183324865, 12.970681023450682, 5.14720770757264, 4.927747921729076, 9.02443823675714, 3.0853860494465657, 6.057145944411639, 11.17405351028889, 7.1747286156662495, 6.985149117379975, 15.16542434903659, 9.273187548395718, 6.3980980571004284, 5.903764058671797, 6.923671530789427, 10.02764013186893, 7.973668680819047, 7.149343283955141, 11.967207716515446, 3.225917538024161, 2.233230535233734, 4.947008974149809, 5.251711144279163, 7.105155883063252, 6.791655802083757, 7.178299832296783, 13.151463856080255, 9.86824543671447, 14.033327704180016, 10.98168595672365, 25.003119282394195, 17.13226610952775, 17.852853207240656, 25.099803196899842, 20.98404044485217, 30.982280871504532, 34.91569702754076, 28.015037690695287, 37.04725359064273, 34.037336897973425, 29.97460511380175, 39.10640160693395, 38.9747317304487, 34.035376497577126, 30.01500055838775, 37.00128422802166, 29.123994086055188, 26.0509472918373, 15.115043164953999, 22.12918918157874, 19.920666514252144, 10.01298093035351, 21.00171720880522, 13.913193503046816, 8.950834828986608, 11.027034465129912, 5.050747128072257, 6.027687073668812, 11.044198511376635, 2.9929576993718063, 1.9971171000763024, 4.986475140687818, 3.1142011077606226, 12.017243926249247, 12.964960038495038, 10.123418626000603, 12.880067184367038, 13.018351899837754, 20.78227034398795, 17.944577171943475, 8.238616061501101, 6.993707415481816, 19.858435715152286, 14.107093261200534, 14.131782920088318, 6.914745914082409, 14.186699673231123, 10.229172666163036, 13.087644068530395, 18.108202239064234, 16.002428977417424, 20.20936045660475, 17.03069252367499, 4.0916419193583184, 15.005209032619987, 7.9870557026253355, 6.053539143121024, 12.109887102469758, 14.932666479985468, 10.967024541842694, 14.867315314105438, 17.044645102210243, 7.015979500910916, 7.02389024249128, 7.984762699292812, 8.961283441572299, 11.970197168754721, 5.242309300292958, 11.030884767648415, 3.9521143383883985, 7.210092809073125, 1.0292766181261157, 1.0114100321171526, 1.9112244540997305, 5.768706951708953, 4.0219458364360845, 10.070362749541395, 11.985130111628145, 21.19910900196644, 20.95935915586739, 30.04052242803162, 44.85263867115841, 55.923079595399734, 74.94086786753844, 82.97493933948742, 125.99170393270124, 118.99515994861906, 131.00964262779934, 112.00035245114385, 82.03835255938951, 72.90994018531164, 42.97425418279764, 54.97298476888399, 55.00610634726467, 53.09615331795653, 45.79565097449951, 42.9907318537526, 29.109207238140453, 13.183633446706228, 16.801357957263903, 8.068362093148341, 12.996857311923238, 10.08260337992126, 17.006971752207015, 18.937603641697603, 8.983229295914649, 9.06584598364109, 9.055239314617431, 3.1301424201812815, 6.969420904157657, 7.028987158471948, 0.1910687377593145, 2.0805560663369698, 1.009942925519668, 3.291873018865529, 3.2063168345715223, 2.856534194717358, 6.88219943537279, 5.015262433383067, 5.158056887627553, 5.104826002945831, 5.953273652604871, 5.8029968525196, 4.054003035465648, 4.310640497242881, 7.962176163214109, 13.948595180265855, 11.970167377968803, 16.07169629079985, 9.915017697862478, 18.330423202828182, 15.078895447687982, 23.141713113004037, 16.983677051729906, 32.86723694685444, 15.075356894391488, 11.071003952314685, 14.054867454227171, 17.062158479478054, 20.031525522187223, 12.035824508888748, 21.046316883016267, 19.151188339072807, 10.132100711038769, 13.096096487501422, 10.022468222611957, 20.897870231593284, 11.02383507152888, 13.964041170807498, 14.07584031770423, 15.018735193666926, 15.896322571093032, 11.821980740300031, 19.81617909884639, 8.096497507903873, 3.106432751764642, 12.863225144022671, 4.195168586603574, 1.0210456199341542, 9.849420679121673, 8.068667558800604, 13.032655711804395, 9.927540201264565, 17.972591763534545, 21.012959872928448, 33.940420330948704, 25.031537151674943, 33.740519844595305, 40.245324693316235, 42.00685366083199, 36.03154842797487, 71.92747562893655, 75.87896396846611, 91.87784968000372, 105.852682434775, 100.87454200786532, 169.91231915887187, 134.86058803343403, 106.03414825109533, 47.988929314516184, 47.850164604334665, 26.143925515021813, 28.89999866955937, 11.974694039588064, 17.070418488588903, 14.996322561708764, 9.98295330052797, 2.01622659561304, 6.222872757599023, 8.04759636477631, 0.7692180108377918, 1.9677996242043045, 3.0068228458566337, 3.970914132621142, 3.113776204528002, 1.0563499726924201, 5.004860437295426], \"yaxis\": \"y\"}],\n",
              "                        {\"autosize\": false, \"height\": 600, \"template\": {\"data\": {\"bar\": [{\"error_x\": {\"color\": \"#2a3f5f\"}, \"error_y\": {\"color\": \"#2a3f5f\"}, \"marker\": {\"line\": {\"color\": \"#E5ECF6\", \"width\": 0.5}}, \"type\": \"bar\"}], \"barpolar\": [{\"marker\": {\"line\": {\"color\": \"#E5ECF6\", \"width\": 0.5}}, \"type\": \"barpolar\"}], \"carpet\": [{\"aaxis\": {\"endlinecolor\": \"#2a3f5f\", \"gridcolor\": \"white\", \"linecolor\": \"white\", \"minorgridcolor\": \"white\", \"startlinecolor\": \"#2a3f5f\"}, \"baxis\": {\"endlinecolor\": \"#2a3f5f\", \"gridcolor\": \"white\", \"linecolor\": \"white\", \"minorgridcolor\": \"white\", \"startlinecolor\": \"#2a3f5f\"}, \"type\": \"carpet\"}], \"choropleth\": [{\"colorbar\": {\"outlinewidth\": 0, \"ticks\": \"\"}, \"type\": \"choropleth\"}], \"contour\": [{\"colorbar\": {\"outlinewidth\": 0, \"ticks\": \"\"}, \"colorscale\": [[0.0, \"#0d0887\"], [0.1111111111111111, \"#46039f\"], [0.2222222222222222, \"#7201a8\"], [0.3333333333333333, \"#9c179e\"], [0.4444444444444444, \"#bd3786\"], [0.5555555555555556, \"#d8576b\"], [0.6666666666666666, \"#ed7953\"], [0.7777777777777778, \"#fb9f3a\"], [0.8888888888888888, \"#fdca26\"], [1.0, \"#f0f921\"]], \"type\": \"contour\"}], \"contourcarpet\": [{\"colorbar\": {\"outlinewidth\": 0, \"ticks\": \"\"}, \"type\": \"contourcarpet\"}], \"heatmap\": [{\"colorbar\": {\"outlinewidth\": 0, \"ticks\": \"\"}, \"colorscale\": [[0.0, \"#0d0887\"], [0.1111111111111111, \"#46039f\"], [0.2222222222222222, \"#7201a8\"], [0.3333333333333333, \"#9c179e\"], [0.4444444444444444, \"#bd3786\"], [0.5555555555555556, \"#d8576b\"], [0.6666666666666666, \"#ed7953\"], [0.7777777777777778, \"#fb9f3a\"], [0.8888888888888888, \"#fdca26\"], [1.0, \"#f0f921\"]], \"type\": \"heatmap\"}], \"heatmapgl\": [{\"colorbar\": {\"outlinewidth\": 0, \"ticks\": \"\"}, \"colorscale\": [[0.0, \"#0d0887\"], [0.1111111111111111, \"#46039f\"], [0.2222222222222222, \"#7201a8\"], [0.3333333333333333, \"#9c179e\"], [0.4444444444444444, \"#bd3786\"], [0.5555555555555556, \"#d8576b\"], [0.6666666666666666, \"#ed7953\"], [0.7777777777777778, \"#fb9f3a\"], [0.8888888888888888, \"#fdca26\"], [1.0, \"#f0f921\"]], \"type\": \"heatmapgl\"}], \"histogram\": [{\"marker\": {\"colorbar\": {\"outlinewidth\": 0, \"ticks\": \"\"}}, \"type\": \"histogram\"}], \"histogram2d\": [{\"colorbar\": {\"outlinewidth\": 0, \"ticks\": \"\"}, \"colorscale\": [[0.0, \"#0d0887\"], [0.1111111111111111, \"#46039f\"], [0.2222222222222222, \"#7201a8\"], [0.3333333333333333, \"#9c179e\"], [0.4444444444444444, \"#bd3786\"], [0.5555555555555556, \"#d8576b\"], [0.6666666666666666, \"#ed7953\"], [0.7777777777777778, \"#fb9f3a\"], [0.8888888888888888, \"#fdca26\"], [1.0, \"#f0f921\"]], \"type\": \"histogram2d\"}], \"histogram2dcontour\": [{\"colorbar\": {\"outlinewidth\": 0, \"ticks\": \"\"}, \"colorscale\": [[0.0, \"#0d0887\"], [0.1111111111111111, \"#46039f\"], [0.2222222222222222, \"#7201a8\"], [0.3333333333333333, \"#9c179e\"], [0.4444444444444444, \"#bd3786\"], [0.5555555555555556, \"#d8576b\"], [0.6666666666666666, \"#ed7953\"], [0.7777777777777778, \"#fb9f3a\"], [0.8888888888888888, \"#fdca26\"], [1.0, \"#f0f921\"]], \"type\": \"histogram2dcontour\"}], \"mesh3d\": [{\"colorbar\": {\"outlinewidth\": 0, \"ticks\": \"\"}, \"type\": \"mesh3d\"}], \"parcoords\": [{\"line\": {\"colorbar\": {\"outlinewidth\": 0, \"ticks\": \"\"}}, \"type\": \"parcoords\"}], \"pie\": [{\"automargin\": true, \"type\": \"pie\"}], \"scatter\": [{\"marker\": {\"colorbar\": {\"outlinewidth\": 0, \"ticks\": \"\"}}, \"type\": \"scatter\"}], \"scatter3d\": [{\"line\": {\"colorbar\": {\"outlinewidth\": 0, \"ticks\": \"\"}}, \"marker\": {\"colorbar\": {\"outlinewidth\": 0, \"ticks\": \"\"}}, \"type\": \"scatter3d\"}], \"scattercarpet\": [{\"marker\": {\"colorbar\": {\"outlinewidth\": 0, \"ticks\": \"\"}}, \"type\": \"scattercarpet\"}], \"scattergeo\": [{\"marker\": {\"colorbar\": {\"outlinewidth\": 0, \"ticks\": \"\"}}, \"type\": \"scattergeo\"}], \"scattergl\": [{\"marker\": {\"colorbar\": {\"outlinewidth\": 0, \"ticks\": \"\"}}, \"type\": \"scattergl\"}], \"scattermapbox\": [{\"marker\": {\"colorbar\": {\"outlinewidth\": 0, \"ticks\": \"\"}}, \"type\": \"scattermapbox\"}], \"scatterpolar\": [{\"marker\": {\"colorbar\": {\"outlinewidth\": 0, \"ticks\": \"\"}}, \"type\": \"scatterpolar\"}], \"scatterpolargl\": [{\"marker\": {\"colorbar\": {\"outlinewidth\": 0, \"ticks\": \"\"}}, \"type\": \"scatterpolargl\"}], \"scatterternary\": [{\"marker\": {\"colorbar\": {\"outlinewidth\": 0, \"ticks\": \"\"}}, \"type\": \"scatterternary\"}], \"surface\": [{\"colorbar\": {\"outlinewidth\": 0, \"ticks\": \"\"}, \"colorscale\": [[0.0, \"#0d0887\"], [0.1111111111111111, \"#46039f\"], [0.2222222222222222, \"#7201a8\"], [0.3333333333333333, \"#9c179e\"], [0.4444444444444444, \"#bd3786\"], [0.5555555555555556, \"#d8576b\"], [0.6666666666666666, \"#ed7953\"], [0.7777777777777778, \"#fb9f3a\"], [0.8888888888888888, \"#fdca26\"], [1.0, \"#f0f921\"]], \"type\": \"surface\"}], \"table\": [{\"cells\": {\"fill\": {\"color\": \"#EBF0F8\"}, \"line\": {\"color\": \"white\"}}, \"header\": {\"fill\": {\"color\": \"#C8D4E3\"}, \"line\": {\"color\": \"white\"}}, \"type\": \"table\"}]}, \"layout\": {\"annotationdefaults\": {\"arrowcolor\": \"#2a3f5f\", \"arrowhead\": 0, \"arrowwidth\": 1}, \"coloraxis\": {\"colorbar\": {\"outlinewidth\": 0, \"ticks\": \"\"}}, \"colorscale\": {\"diverging\": [[0, \"#8e0152\"], [0.1, \"#c51b7d\"], [0.2, \"#de77ae\"], [0.3, \"#f1b6da\"], [0.4, \"#fde0ef\"], [0.5, \"#f7f7f7\"], [0.6, \"#e6f5d0\"], [0.7, \"#b8e186\"], [0.8, \"#7fbc41\"], [0.9, \"#4d9221\"], [1, \"#276419\"]], \"sequential\": [[0.0, \"#0d0887\"], [0.1111111111111111, \"#46039f\"], [0.2222222222222222, \"#7201a8\"], [0.3333333333333333, \"#9c179e\"], [0.4444444444444444, \"#bd3786\"], [0.5555555555555556, \"#d8576b\"], [0.6666666666666666, \"#ed7953\"], [0.7777777777777778, \"#fb9f3a\"], [0.8888888888888888, \"#fdca26\"], [1.0, \"#f0f921\"]], \"sequentialminus\": [[0.0, \"#0d0887\"], [0.1111111111111111, \"#46039f\"], [0.2222222222222222, \"#7201a8\"], [0.3333333333333333, \"#9c179e\"], [0.4444444444444444, \"#bd3786\"], [0.5555555555555556, \"#d8576b\"], [0.6666666666666666, \"#ed7953\"], [0.7777777777777778, \"#fb9f3a\"], [0.8888888888888888, \"#fdca26\"], [1.0, \"#f0f921\"]]}, \"colorway\": [\"#636efa\", \"#EF553B\", \"#00cc96\", \"#ab63fa\", \"#FFA15A\", \"#19d3f3\", \"#FF6692\", \"#B6E880\", \"#FF97FF\", \"#FECB52\"], \"font\": {\"color\": \"#2a3f5f\"}, \"geo\": {\"bgcolor\": \"white\", \"lakecolor\": \"white\", \"landcolor\": \"#E5ECF6\", \"showlakes\": true, \"showland\": true, \"subunitcolor\": \"white\"}, \"hoverlabel\": {\"align\": \"left\"}, \"hovermode\": \"closest\", \"mapbox\": {\"style\": \"light\"}, \"paper_bgcolor\": \"white\", \"plot_bgcolor\": \"#E5ECF6\", \"polar\": {\"angularaxis\": {\"gridcolor\": \"white\", \"linecolor\": \"white\", \"ticks\": \"\"}, \"bgcolor\": \"#E5ECF6\", \"radialaxis\": {\"gridcolor\": \"white\", \"linecolor\": \"white\", \"ticks\": \"\"}}, \"scene\": {\"xaxis\": {\"backgroundcolor\": \"#E5ECF6\", \"gridcolor\": \"white\", \"gridwidth\": 2, \"linecolor\": \"white\", \"showbackground\": true, \"ticks\": \"\", \"zerolinecolor\": \"white\"}, \"yaxis\": {\"backgroundcolor\": \"#E5ECF6\", \"gridcolor\": \"white\", \"gridwidth\": 2, \"linecolor\": \"white\", \"showbackground\": true, \"ticks\": \"\", \"zerolinecolor\": \"white\"}, \"zaxis\": {\"backgroundcolor\": \"#E5ECF6\", \"gridcolor\": \"white\", \"gridwidth\": 2, \"linecolor\": \"white\", \"showbackground\": true, \"ticks\": \"\", \"zerolinecolor\": \"white\"}}, \"shapedefaults\": {\"line\": {\"color\": \"#2a3f5f\"}}, \"ternary\": {\"aaxis\": {\"gridcolor\": \"white\", \"linecolor\": \"white\", \"ticks\": \"\"}, \"baxis\": {\"gridcolor\": \"white\", \"linecolor\": \"white\", \"ticks\": \"\"}, \"bgcolor\": \"#E5ECF6\", \"caxis\": {\"gridcolor\": \"white\", \"linecolor\": \"white\", \"ticks\": \"\"}}, \"title\": {\"x\": 0.05}, \"xaxis\": {\"automargin\": true, \"gridcolor\": \"white\", \"linecolor\": \"white\", \"ticks\": \"\", \"title\": {\"standoff\": 15}, \"zerolinecolor\": \"white\", \"zerolinewidth\": 2}, \"yaxis\": {\"automargin\": true, \"gridcolor\": \"white\", \"linecolor\": \"white\", \"ticks\": \"\", \"title\": {\"standoff\": 15}, \"zerolinecolor\": \"white\", \"zerolinewidth\": 2}}}, \"title\": {\"text\": \"GradientBoostingRegressor\"}, \"width\": 1200, \"xaxis\": {\"anchor\": \"y\", \"domain\": [0.0, 1.0]}, \"yaxis\": {\"anchor\": \"x\", \"domain\": [0.0, 1.0]}},\n",
              "                        {\"responsive\": true}\n",
              "                    ).then(function(){\n",
              "                            \n",
              "var gd = document.getElementById('1ab4a930-5f83-4da2-949d-890516d49356');\n",
              "var x = new MutationObserver(function (mutations, observer) {{\n",
              "        var display = window.getComputedStyle(gd).display;\n",
              "        if (!display || display === 'none') {{\n",
              "            console.log([gd, 'removed!']);\n",
              "            Plotly.purge(gd);\n",
              "            observer.disconnect();\n",
              "        }}\n",
              "}});\n",
              "\n",
              "// Listen for the removal of the full notebook cells\n",
              "var notebookContainer = gd.closest('#notebook-container');\n",
              "if (notebookContainer) {{\n",
              "    x.observe(notebookContainer, {childList: true});\n",
              "}}\n",
              "\n",
              "// Listen for the clearing of the current output cell\n",
              "var outputEl = gd.closest('.output');\n",
              "if (outputEl) {{\n",
              "    x.observe(outputEl, {childList: true});\n",
              "}}\n",
              "\n",
              "                        })\n",
              "                };\n",
              "                \n",
              "            </script>\n",
              "        </div>\n",
              "</body>\n",
              "</html>"
            ]
          },
          "metadata": {
            "tags": []
          }
        }
      ]
    },
    {
      "cell_type": "code",
      "metadata": {
        "colab": {
          "base_uri": "https://localhost:8080/"
        },
        "id": "sj9jVBjtJlF2",
        "outputId": "9b9d6503-7394-42f7-be73-e73d6475de85"
      },
      "source": [
        "X_train_train=X_train_sj[X_train_sj.index<900]\n",
        "X_train_test=X_train_sj[X_train_sj.index>900]\n",
        "\n",
        "from sklearn.ensemble import GradientBoostingRegressor\n",
        "\n",
        "train_regressor=GradientBoostingRegressor(n_estimators=100,verbose=1)\n",
        "\n",
        "yy=X_train_train[['total_cases']]\n",
        "train_regressor.fit(X_train_train[prediktorok],yy)\n",
        "y_pred=train_regressor.predict(X_train_train[prediktorok])\n",
        "\n",
        "X_train_train[\"gradientboosting_total\"]=y_pred\n",
        "\n",
        "\n",
        "y_pred=train_regressor.predict(X_train_test[prediktorok])\n",
        "\n",
        "X_train_test[\"gradientboosting_total\"]=y_pred\n",
        "\n",
        "\n"
      ],
      "execution_count": 109,
      "outputs": [
        {
          "output_type": "stream",
          "text": [
            "/usr/local/lib/python3.7/dist-packages/sklearn/ensemble/_gb.py:1454: DataConversionWarning:\n",
            "\n",
            "A column-vector y was passed when a 1d array was expected. Please change the shape of y to (n_samples, ), for example using ravel().\n",
            "\n"
          ],
          "name": "stderr"
        },
        {
          "output_type": "stream",
          "text": [
            "      Iter       Train Loss   Remaining Time \n",
            "         1        1180.9372            0.38s\n",
            "         2        1115.2002            0.40s\n",
            "         3        1059.9158            0.42s\n",
            "         4        1015.9876            0.42s\n",
            "         5         970.1061            0.41s\n",
            "         6         939.8860            0.41s\n",
            "         7         911.8639            0.40s\n",
            "         8         882.7006            0.40s\n",
            "         9         855.0700            0.40s\n",
            "        10         814.9373            0.40s\n",
            "        20         649.2801            0.34s\n",
            "        30         569.4584            0.29s\n",
            "        40         513.5691            0.25s\n",
            "        50         445.9537            0.21s\n",
            "        60         400.0353            0.17s\n",
            "        70         352.9005            0.12s\n",
            "        80         318.9837            0.08s\n",
            "        90         291.7849            0.04s\n",
            "       100         263.4823            0.00s\n"
          ],
          "name": "stdout"
        },
        {
          "output_type": "stream",
          "text": [
            "/usr/local/lib/python3.7/dist-packages/ipykernel_launcher.py:12: SettingWithCopyWarning:\n",
            "\n",
            "\n",
            "A value is trying to be set on a copy of a slice from a DataFrame.\n",
            "Try using .loc[row_indexer,col_indexer] = value instead\n",
            "\n",
            "See the caveats in the documentation: https://pandas.pydata.org/pandas-docs/stable/user_guide/indexing.html#returning-a-view-versus-a-copy\n",
            "\n",
            "/usr/local/lib/python3.7/dist-packages/ipykernel_launcher.py:17: SettingWithCopyWarning:\n",
            "\n",
            "\n",
            "A value is trying to be set on a copy of a slice from a DataFrame.\n",
            "Try using .loc[row_indexer,col_indexer] = value instead\n",
            "\n",
            "See the caveats in the documentation: https://pandas.pydata.org/pandas-docs/stable/user_guide/indexing.html#returning-a-view-versus-a-copy\n",
            "\n"
          ],
          "name": "stderr"
        }
      ]
    },
    {
      "cell_type": "code",
      "metadata": {
        "colab": {
          "base_uri": "https://localhost:8080/",
          "height": 617
        },
        "id": "eWTXDfxjJ4wU",
        "outputId": "4c1d05ab-0c3b-418f-f906-f0f2456b8c2f"
      },
      "source": [
        "grafikon(X_train_test,\"week_start_date\",\"total_cases\",\"total_cases\",\"gradientboosting_total\",\"gradientboosting_total\",title=\"GradientBoostingRegressor\",)"
      ],
      "execution_count": 110,
      "outputs": [
        {
          "output_type": "display_data",
          "data": {
            "text/html": [
              "<html>\n",
              "<head><meta charset=\"utf-8\" /></head>\n",
              "<body>\n",
              "    <div>\n",
              "            <script src=\"https://cdnjs.cloudflare.com/ajax/libs/mathjax/2.7.5/MathJax.js?config=TeX-AMS-MML_SVG\"></script><script type=\"text/javascript\">if (window.MathJax) {MathJax.Hub.Config({SVG: {font: \"STIX-Web\"}});}</script>\n",
              "                <script type=\"text/javascript\">window.PlotlyConfig = {MathJaxConfig: 'local'};</script>\n",
              "        <script src=\"https://cdn.plot.ly/plotly-latest.min.js\"></script>    \n",
              "            <div id=\"337698bb-7cc2-48e1-9d41-da4da2de97a7\" class=\"plotly-graph-div\" style=\"height:600px; width:1200px;\"></div>\n",
              "            <script type=\"text/javascript\">\n",
              "                \n",
              "                    window.PLOTLYENV=window.PLOTLYENV || {};\n",
              "                    \n",
              "                if (document.getElementById(\"337698bb-7cc2-48e1-9d41-da4da2de97a7\")) {\n",
              "                    Plotly.newPlot(\n",
              "                        '337698bb-7cc2-48e1-9d41-da4da2de97a7',\n",
              "                        [{\"line\": {\"color\": \"rgba(35,128,132,0.8)\"}, \"name\": \"total_cases\", \"showlegend\": true, \"type\": \"scatter\", \"x\": [\"2007-08-27\", \"2007-09-17\", \"2007-09-24\", \"2007-10-01\", \"2007-10-08\", \"2007-10-15\", \"2007-10-29\", \"2007-11-05\", \"2007-11-12\", \"2007-11-26\", \"2007-12-10\", \"2007-12-24\", \"2008-01-01\", \"2008-01-22\", \"2008-02-05\", \"2008-02-12\", \"2008-02-19\", \"2008-03-04\", \"2008-03-11\", \"2008-03-18\", \"2008-03-25\", \"2008-04-01\", \"2008-04-08\", \"2008-04-22\"], \"xaxis\": \"x\", \"y\": [92, 106, 101, 170, 135, 106, 48, 48, 26, 29, 12, 17, 15, 10, 2, 6, 8, 1, 2, 3, 4, 3, 1, 5], \"yaxis\": \"y\"}, {\"line\": {\"color\": \"rgba(193,99,99,0.8)\"}, \"name\": \"gradientboosting_total\", \"showlegend\": true, \"type\": \"scatter\", \"x\": [\"2007-08-27\", \"2007-09-17\", \"2007-09-24\", \"2007-10-01\", \"2007-10-08\", \"2007-10-15\", \"2007-10-29\", \"2007-11-05\", \"2007-11-12\", \"2007-11-26\", \"2007-12-10\", \"2007-12-24\", \"2008-01-01\", \"2008-01-22\", \"2008-02-05\", \"2008-02-12\", \"2008-02-19\", \"2008-03-04\", \"2008-03-11\", \"2008-03-18\", \"2008-03-25\", \"2008-04-01\", \"2008-04-08\", \"2008-04-22\"], \"xaxis\": \"x\", \"y\": [37.88850154242119, 51.89772832381289, 22.131245610827268, 31.04401671379547, 37.22725678289675, 109.03676091000251, 37.703247912566326, 21.248169708881786, 31.1845418114334, 16.442095877275133, 23.243929724116352, 19.409392257747864, 23.989711143263406, 19.236372990741692, 9.044590692632235, 17.930526087382624, 10.36397677630699, 5.167448739116401, 9.87019535180116, 15.220531339418518, 5.913214799719181, 13.03120389417387, 8.714008768286757, 14.172104972565883], \"yaxis\": \"y\"}],\n",
              "                        {\"autosize\": false, \"height\": 600, \"template\": {\"data\": {\"bar\": [{\"error_x\": {\"color\": \"#2a3f5f\"}, \"error_y\": {\"color\": \"#2a3f5f\"}, \"marker\": {\"line\": {\"color\": \"#E5ECF6\", \"width\": 0.5}}, \"type\": \"bar\"}], \"barpolar\": [{\"marker\": {\"line\": {\"color\": \"#E5ECF6\", \"width\": 0.5}}, \"type\": \"barpolar\"}], \"carpet\": [{\"aaxis\": {\"endlinecolor\": \"#2a3f5f\", \"gridcolor\": \"white\", \"linecolor\": \"white\", \"minorgridcolor\": \"white\", \"startlinecolor\": \"#2a3f5f\"}, \"baxis\": {\"endlinecolor\": \"#2a3f5f\", \"gridcolor\": \"white\", \"linecolor\": \"white\", \"minorgridcolor\": \"white\", \"startlinecolor\": \"#2a3f5f\"}, \"type\": \"carpet\"}], \"choropleth\": [{\"colorbar\": {\"outlinewidth\": 0, \"ticks\": \"\"}, \"type\": \"choropleth\"}], \"contour\": [{\"colorbar\": {\"outlinewidth\": 0, \"ticks\": \"\"}, \"colorscale\": [[0.0, \"#0d0887\"], [0.1111111111111111, \"#46039f\"], [0.2222222222222222, \"#7201a8\"], [0.3333333333333333, \"#9c179e\"], [0.4444444444444444, \"#bd3786\"], [0.5555555555555556, \"#d8576b\"], [0.6666666666666666, \"#ed7953\"], [0.7777777777777778, \"#fb9f3a\"], [0.8888888888888888, \"#fdca26\"], [1.0, \"#f0f921\"]], \"type\": \"contour\"}], \"contourcarpet\": [{\"colorbar\": {\"outlinewidth\": 0, \"ticks\": \"\"}, \"type\": \"contourcarpet\"}], \"heatmap\": [{\"colorbar\": {\"outlinewidth\": 0, \"ticks\": \"\"}, \"colorscale\": [[0.0, \"#0d0887\"], [0.1111111111111111, \"#46039f\"], [0.2222222222222222, \"#7201a8\"], [0.3333333333333333, \"#9c179e\"], [0.4444444444444444, \"#bd3786\"], [0.5555555555555556, \"#d8576b\"], [0.6666666666666666, \"#ed7953\"], [0.7777777777777778, \"#fb9f3a\"], [0.8888888888888888, \"#fdca26\"], [1.0, \"#f0f921\"]], \"type\": \"heatmap\"}], \"heatmapgl\": [{\"colorbar\": {\"outlinewidth\": 0, \"ticks\": \"\"}, \"colorscale\": [[0.0, \"#0d0887\"], [0.1111111111111111, \"#46039f\"], [0.2222222222222222, \"#7201a8\"], [0.3333333333333333, \"#9c179e\"], [0.4444444444444444, \"#bd3786\"], [0.5555555555555556, \"#d8576b\"], [0.6666666666666666, \"#ed7953\"], [0.7777777777777778, \"#fb9f3a\"], [0.8888888888888888, \"#fdca26\"], [1.0, \"#f0f921\"]], \"type\": \"heatmapgl\"}], \"histogram\": [{\"marker\": {\"colorbar\": {\"outlinewidth\": 0, \"ticks\": \"\"}}, \"type\": \"histogram\"}], \"histogram2d\": [{\"colorbar\": {\"outlinewidth\": 0, \"ticks\": \"\"}, \"colorscale\": [[0.0, \"#0d0887\"], [0.1111111111111111, \"#46039f\"], [0.2222222222222222, \"#7201a8\"], [0.3333333333333333, \"#9c179e\"], [0.4444444444444444, \"#bd3786\"], [0.5555555555555556, \"#d8576b\"], [0.6666666666666666, \"#ed7953\"], [0.7777777777777778, \"#fb9f3a\"], [0.8888888888888888, \"#fdca26\"], [1.0, \"#f0f921\"]], \"type\": \"histogram2d\"}], \"histogram2dcontour\": [{\"colorbar\": {\"outlinewidth\": 0, \"ticks\": \"\"}, \"colorscale\": [[0.0, \"#0d0887\"], [0.1111111111111111, \"#46039f\"], [0.2222222222222222, \"#7201a8\"], [0.3333333333333333, \"#9c179e\"], [0.4444444444444444, \"#bd3786\"], [0.5555555555555556, \"#d8576b\"], [0.6666666666666666, \"#ed7953\"], [0.7777777777777778, \"#fb9f3a\"], [0.8888888888888888, \"#fdca26\"], [1.0, \"#f0f921\"]], \"type\": \"histogram2dcontour\"}], \"mesh3d\": [{\"colorbar\": {\"outlinewidth\": 0, \"ticks\": \"\"}, \"type\": \"mesh3d\"}], \"parcoords\": [{\"line\": {\"colorbar\": {\"outlinewidth\": 0, \"ticks\": \"\"}}, \"type\": \"parcoords\"}], \"pie\": [{\"automargin\": true, \"type\": \"pie\"}], \"scatter\": [{\"marker\": {\"colorbar\": {\"outlinewidth\": 0, \"ticks\": \"\"}}, \"type\": \"scatter\"}], \"scatter3d\": [{\"line\": {\"colorbar\": {\"outlinewidth\": 0, \"ticks\": \"\"}}, \"marker\": {\"colorbar\": {\"outlinewidth\": 0, \"ticks\": \"\"}}, \"type\": \"scatter3d\"}], \"scattercarpet\": [{\"marker\": {\"colorbar\": {\"outlinewidth\": 0, \"ticks\": \"\"}}, \"type\": \"scattercarpet\"}], \"scattergeo\": [{\"marker\": {\"colorbar\": {\"outlinewidth\": 0, \"ticks\": \"\"}}, \"type\": \"scattergeo\"}], \"scattergl\": [{\"marker\": {\"colorbar\": {\"outlinewidth\": 0, \"ticks\": \"\"}}, \"type\": \"scattergl\"}], \"scattermapbox\": [{\"marker\": {\"colorbar\": {\"outlinewidth\": 0, \"ticks\": \"\"}}, \"type\": \"scattermapbox\"}], \"scatterpolar\": [{\"marker\": {\"colorbar\": {\"outlinewidth\": 0, \"ticks\": \"\"}}, \"type\": \"scatterpolar\"}], \"scatterpolargl\": [{\"marker\": {\"colorbar\": {\"outlinewidth\": 0, \"ticks\": \"\"}}, \"type\": \"scatterpolargl\"}], \"scatterternary\": [{\"marker\": {\"colorbar\": {\"outlinewidth\": 0, \"ticks\": \"\"}}, \"type\": \"scatterternary\"}], \"surface\": [{\"colorbar\": {\"outlinewidth\": 0, \"ticks\": \"\"}, \"colorscale\": [[0.0, \"#0d0887\"], [0.1111111111111111, \"#46039f\"], [0.2222222222222222, \"#7201a8\"], [0.3333333333333333, \"#9c179e\"], [0.4444444444444444, \"#bd3786\"], [0.5555555555555556, \"#d8576b\"], [0.6666666666666666, \"#ed7953\"], [0.7777777777777778, \"#fb9f3a\"], [0.8888888888888888, \"#fdca26\"], [1.0, \"#f0f921\"]], \"type\": \"surface\"}], \"table\": [{\"cells\": {\"fill\": {\"color\": \"#EBF0F8\"}, \"line\": {\"color\": \"white\"}}, \"header\": {\"fill\": {\"color\": \"#C8D4E3\"}, \"line\": {\"color\": \"white\"}}, \"type\": \"table\"}]}, \"layout\": {\"annotationdefaults\": {\"arrowcolor\": \"#2a3f5f\", \"arrowhead\": 0, \"arrowwidth\": 1}, \"coloraxis\": {\"colorbar\": {\"outlinewidth\": 0, \"ticks\": \"\"}}, \"colorscale\": {\"diverging\": [[0, \"#8e0152\"], [0.1, \"#c51b7d\"], [0.2, \"#de77ae\"], [0.3, \"#f1b6da\"], [0.4, \"#fde0ef\"], [0.5, \"#f7f7f7\"], [0.6, \"#e6f5d0\"], [0.7, \"#b8e186\"], [0.8, \"#7fbc41\"], [0.9, \"#4d9221\"], [1, \"#276419\"]], \"sequential\": [[0.0, \"#0d0887\"], [0.1111111111111111, \"#46039f\"], [0.2222222222222222, \"#7201a8\"], [0.3333333333333333, \"#9c179e\"], [0.4444444444444444, \"#bd3786\"], [0.5555555555555556, \"#d8576b\"], [0.6666666666666666, \"#ed7953\"], [0.7777777777777778, \"#fb9f3a\"], [0.8888888888888888, \"#fdca26\"], [1.0, \"#f0f921\"]], \"sequentialminus\": [[0.0, \"#0d0887\"], [0.1111111111111111, \"#46039f\"], [0.2222222222222222, \"#7201a8\"], [0.3333333333333333, \"#9c179e\"], [0.4444444444444444, \"#bd3786\"], [0.5555555555555556, \"#d8576b\"], [0.6666666666666666, \"#ed7953\"], [0.7777777777777778, \"#fb9f3a\"], [0.8888888888888888, \"#fdca26\"], [1.0, \"#f0f921\"]]}, \"colorway\": [\"#636efa\", \"#EF553B\", \"#00cc96\", \"#ab63fa\", \"#FFA15A\", \"#19d3f3\", \"#FF6692\", \"#B6E880\", \"#FF97FF\", \"#FECB52\"], \"font\": {\"color\": \"#2a3f5f\"}, \"geo\": {\"bgcolor\": \"white\", \"lakecolor\": \"white\", \"landcolor\": \"#E5ECF6\", \"showlakes\": true, \"showland\": true, \"subunitcolor\": \"white\"}, \"hoverlabel\": {\"align\": \"left\"}, \"hovermode\": \"closest\", \"mapbox\": {\"style\": \"light\"}, \"paper_bgcolor\": \"white\", \"plot_bgcolor\": \"#E5ECF6\", \"polar\": {\"angularaxis\": {\"gridcolor\": \"white\", \"linecolor\": \"white\", \"ticks\": \"\"}, \"bgcolor\": \"#E5ECF6\", \"radialaxis\": {\"gridcolor\": \"white\", \"linecolor\": \"white\", \"ticks\": \"\"}}, \"scene\": {\"xaxis\": {\"backgroundcolor\": \"#E5ECF6\", \"gridcolor\": \"white\", \"gridwidth\": 2, \"linecolor\": \"white\", \"showbackground\": true, \"ticks\": \"\", \"zerolinecolor\": \"white\"}, \"yaxis\": {\"backgroundcolor\": \"#E5ECF6\", \"gridcolor\": \"white\", \"gridwidth\": 2, \"linecolor\": \"white\", \"showbackground\": true, \"ticks\": \"\", \"zerolinecolor\": \"white\"}, \"zaxis\": {\"backgroundcolor\": \"#E5ECF6\", \"gridcolor\": \"white\", \"gridwidth\": 2, \"linecolor\": \"white\", \"showbackground\": true, \"ticks\": \"\", \"zerolinecolor\": \"white\"}}, \"shapedefaults\": {\"line\": {\"color\": \"#2a3f5f\"}}, \"ternary\": {\"aaxis\": {\"gridcolor\": \"white\", \"linecolor\": \"white\", \"ticks\": \"\"}, \"baxis\": {\"gridcolor\": \"white\", \"linecolor\": \"white\", \"ticks\": \"\"}, \"bgcolor\": \"#E5ECF6\", \"caxis\": {\"gridcolor\": \"white\", \"linecolor\": \"white\", \"ticks\": \"\"}}, \"title\": {\"x\": 0.05}, \"xaxis\": {\"automargin\": true, \"gridcolor\": \"white\", \"linecolor\": \"white\", \"ticks\": \"\", \"title\": {\"standoff\": 15}, \"zerolinecolor\": \"white\", \"zerolinewidth\": 2}, \"yaxis\": {\"automargin\": true, \"gridcolor\": \"white\", \"linecolor\": \"white\", \"ticks\": \"\", \"title\": {\"standoff\": 15}, \"zerolinecolor\": \"white\", \"zerolinewidth\": 2}}}, \"title\": {\"text\": \"GradientBoostingRegressor\"}, \"width\": 1200, \"xaxis\": {\"anchor\": \"y\", \"domain\": [0.0, 1.0]}, \"yaxis\": {\"anchor\": \"x\", \"domain\": [0.0, 1.0]}},\n",
              "                        {\"responsive\": true}\n",
              "                    ).then(function(){\n",
              "                            \n",
              "var gd = document.getElementById('337698bb-7cc2-48e1-9d41-da4da2de97a7');\n",
              "var x = new MutationObserver(function (mutations, observer) {{\n",
              "        var display = window.getComputedStyle(gd).display;\n",
              "        if (!display || display === 'none') {{\n",
              "            console.log([gd, 'removed!']);\n",
              "            Plotly.purge(gd);\n",
              "            observer.disconnect();\n",
              "        }}\n",
              "}});\n",
              "\n",
              "// Listen for the removal of the full notebook cells\n",
              "var notebookContainer = gd.closest('#notebook-container');\n",
              "if (notebookContainer) {{\n",
              "    x.observe(notebookContainer, {childList: true});\n",
              "}}\n",
              "\n",
              "// Listen for the clearing of the current output cell\n",
              "var outputEl = gd.closest('.output');\n",
              "if (outputEl) {{\n",
              "    x.observe(outputEl, {childList: true});\n",
              "}}\n",
              "\n",
              "                        })\n",
              "                };\n",
              "                \n",
              "            </script>\n",
              "        </div>\n",
              "</body>\n",
              "</html>"
            ]
          },
          "metadata": {
            "tags": []
          }
        }
      ]
    },
    {
      "cell_type": "code",
      "metadata": {
        "colab": {
          "base_uri": "https://localhost:8080/",
          "height": 617
        },
        "id": "nYwKmgs3Ne_p",
        "outputId": "efe0ca43-542e-4708-bb74-c55affacb0e1"
      },
      "source": [
        "grafikon(X_train_train,\"week_start_date\",\"total_cases\",\"total_cases\",\"gradientboosting_total\",\"gradientboosting_total\",title=\"GradientBoostingRegressor\",)"
      ],
      "execution_count": 111,
      "outputs": [
        {
          "output_type": "display_data",
          "data": {
            "text/html": [
              "<html>\n",
              "<head><meta charset=\"utf-8\" /></head>\n",
              "<body>\n",
              "    <div>\n",
              "            <script src=\"https://cdnjs.cloudflare.com/ajax/libs/mathjax/2.7.5/MathJax.js?config=TeX-AMS-MML_SVG\"></script><script type=\"text/javascript\">if (window.MathJax) {MathJax.Hub.Config({SVG: {font: \"STIX-Web\"}});}</script>\n",
              "                <script type=\"text/javascript\">window.PlotlyConfig = {MathJaxConfig: 'local'};</script>\n",
              "        <script src=\"https://cdn.plot.ly/plotly-latest.min.js\"></script>    \n",
              "            <div id=\"2ebbc796-d7f1-4cfc-935d-e1bc886d1b14\" class=\"plotly-graph-div\" style=\"height:600px; width:1200px;\"></div>\n",
              "            <script type=\"text/javascript\">\n",
              "                \n",
              "                    window.PLOTLYENV=window.PLOTLYENV || {};\n",
              "                    \n",
              "                if (document.getElementById(\"2ebbc796-d7f1-4cfc-935d-e1bc886d1b14\")) {\n",
              "                    Plotly.newPlot(\n",
              "                        '2ebbc796-d7f1-4cfc-935d-e1bc886d1b14',\n",
              "                        [{\"line\": {\"color\": \"rgba(35,128,132,0.8)\"}, \"name\": \"total_cases\", \"showlegend\": true, \"type\": \"scatter\", \"x\": [\"1990-04-30\", \"1990-05-07\", \"1990-05-14\", \"1990-05-21\", \"1990-05-28\", \"1990-06-11\", \"1990-06-18\", \"1990-06-25\", \"1990-07-09\", \"1990-07-16\", \"1990-07-23\", \"1990-08-20\", \"1990-08-27\", \"1990-09-03\", \"1990-09-10\", \"1990-09-17\", \"1990-09-24\", \"1990-10-01\", \"1990-10-08\", \"1990-10-22\", \"1990-10-29\", \"1990-11-05\", \"1990-11-12\", \"1990-11-19\", \"1990-11-26\", \"1990-12-03\", \"1990-12-10\", \"1990-12-17\", \"1990-12-24\", \"1991-01-01\", \"1991-01-22\", \"1991-01-29\", \"1991-02-05\", \"1991-02-12\", \"1991-02-26\", \"1991-03-05\", \"1991-03-19\", \"1991-03-26\", \"1991-04-02\", \"1991-04-09\", \"1991-04-16\", \"1991-04-30\", \"1991-05-07\", \"1991-05-21\", \"1991-05-28\", \"1991-06-04\", \"1991-06-11\", \"1991-06-18\", \"1991-06-25\", \"1991-07-23\", \"1991-08-06\", \"1991-08-20\", \"1991-08-27\", \"1991-09-03\", \"1991-09-10\", \"1991-09-17\", \"1991-09-24\", \"1991-10-01\", \"1991-10-08\", \"1991-10-15\", \"1991-10-22\", \"1991-10-29\", \"1991-11-05\", \"1991-11-12\", \"1991-11-19\", \"1991-11-26\", \"1991-12-03\", \"1991-12-10\", \"1991-12-24\", \"1992-01-08\", \"1992-01-15\", \"1992-01-22\", \"1992-02-05\", \"1992-03-11\", \"1992-03-18\", \"1992-04-01\", \"1992-04-08\", \"1992-04-15\", \"1992-04-22\", \"1992-04-29\", \"1992-05-06\", \"1992-05-13\", \"1992-05-20\", \"1992-06-03\", \"1992-06-10\", \"1992-06-17\", \"1992-06-24\", \"1992-07-01\", \"1992-07-15\", \"1992-07-22\", \"1992-07-29\", \"1992-08-05\", \"1992-08-12\", \"1992-08-19\", \"1992-08-26\", \"1992-09-09\", \"1992-09-16\", \"1992-09-23\", \"1992-09-30\", \"1992-10-07\", \"1992-10-14\", \"1992-10-21\", \"1992-10-28\", \"1992-11-04\", \"1992-11-11\", \"1992-11-18\", \"1992-11-25\", \"1992-12-02\", \"1992-12-09\", \"1992-12-23\", \"1993-01-08\", \"1993-01-15\", \"1993-01-29\", \"1993-02-05\", \"1993-02-12\", \"1993-02-19\", \"1993-03-05\", \"1993-03-12\", \"1993-03-19\", \"1993-03-26\", \"1993-04-02\", \"1993-04-16\", \"1993-04-23\", \"1993-05-07\", \"1993-05-14\", \"1993-05-21\", \"1993-05-28\", \"1993-06-04\", \"1993-06-25\", \"1993-07-02\", \"1993-07-09\", \"1993-07-16\", \"1993-07-23\", \"1993-07-30\", \"1993-08-13\", \"1993-08-20\", \"1993-08-27\", \"1993-09-03\", \"1993-09-10\", \"1993-09-17\", \"1993-09-24\", \"1993-10-01\", \"1993-10-08\", \"1993-10-15\", \"1993-10-29\", \"1993-11-12\", \"1993-11-19\", \"1993-11-26\", \"1993-12-03\", \"1993-12-17\", \"1993-12-24\", \"1994-01-08\", \"1994-01-15\", \"1994-01-22\", \"1994-01-29\", \"1994-02-05\", \"1994-02-12\", \"1994-02-19\", \"1994-03-12\", \"1994-03-19\", \"1994-03-26\", \"1994-04-02\", \"1994-04-09\", \"1994-04-16\", \"1994-04-30\", \"1994-05-07\", \"1994-05-14\", \"1994-05-21\", \"1994-05-28\", \"1994-06-04\", \"1994-06-11\", \"1994-06-25\", \"1994-07-02\", \"1994-07-09\", \"1994-07-16\", \"1994-07-23\", \"1994-07-30\", \"1994-08-13\", \"1994-08-20\", \"1994-08-27\", \"1994-09-03\", \"1994-09-10\", \"1995-01-01\", \"1995-01-08\", \"1995-01-22\", \"1995-01-29\", \"1995-02-12\", \"1995-02-26\", \"1995-03-05\", \"1995-03-12\", \"1995-03-19\", \"1995-03-26\", \"1995-04-02\", \"1995-04-23\", \"1995-04-30\", \"1995-05-14\", \"1995-05-21\", \"1995-05-28\", \"1995-06-11\", \"1995-06-18\", \"1995-06-25\", \"1995-07-02\", \"1995-07-09\", \"1995-07-23\", \"1995-08-06\", \"1995-08-13\", \"1995-08-20\", \"1995-08-27\", \"1995-09-03\", \"1995-09-10\", \"1995-09-17\", \"1995-09-24\", \"1995-10-01\", \"1995-10-08\", \"1995-10-15\", \"1995-10-22\", \"1995-11-05\", \"1995-11-12\", \"1995-11-19\", \"1995-11-26\", \"1995-12-10\", \"1995-12-17\", \"1996-01-01\", \"1996-01-08\", \"1996-01-15\", \"1996-01-22\", \"1996-01-29\", \"1996-02-05\", \"1996-02-12\", \"1996-02-26\", \"1996-03-11\", \"1996-03-18\", \"1996-04-01\", \"1996-04-08\", \"1996-04-15\", \"1996-04-29\", \"1996-05-06\", \"1996-05-20\", \"1996-05-27\", \"1996-06-03\", \"1996-06-10\", \"1996-06-17\", \"1996-06-24\", \"1996-07-08\", \"1996-07-15\", \"1996-07-22\", \"1996-07-29\", \"1996-08-12\", \"1996-08-26\", \"1996-09-02\", \"1996-09-09\", \"1996-09-23\", \"1996-09-30\", \"1996-10-07\", \"1996-10-21\", \"1996-10-28\", \"1996-11-04\", \"1996-11-11\", \"1996-12-02\", \"1996-12-23\", \"1997-01-01\", \"1997-01-15\", \"1997-01-22\", \"1997-01-29\", \"1997-02-05\", \"1997-02-12\", \"1997-02-19\", \"1997-03-19\", \"1997-03-26\", \"1997-04-09\", \"1997-04-16\", \"1997-04-23\", \"1997-04-30\", \"1997-05-07\", \"1997-05-14\", \"1997-05-21\", \"1997-05-28\", \"1997-06-04\", \"1997-06-11\", \"1997-06-18\", \"1997-06-25\", \"1997-07-02\", \"1997-07-09\", \"1997-07-16\", \"1997-07-30\", \"1997-08-06\", \"1997-08-13\", \"1997-08-27\", \"1997-09-03\", \"1997-09-10\", \"1997-09-17\", \"1997-09-24\", \"1997-10-01\", \"1997-10-08\", \"1997-10-15\", \"1997-11-12\", \"1997-11-26\", \"1997-12-03\", \"1997-12-24\", \"1998-01-08\", \"1998-01-15\", \"1998-01-22\", \"1998-01-29\", \"1998-02-05\", \"1998-02-12\", \"1998-02-26\", \"1998-03-05\", \"1998-03-19\", \"1998-04-02\", \"1998-04-09\", \"1998-04-16\", \"1998-04-23\", \"1998-04-30\", \"1998-05-21\", \"1998-05-28\", \"1998-06-04\", \"1998-06-11\", \"1998-06-18\", \"1998-06-25\", \"1998-07-02\", \"1998-07-09\", \"1998-07-16\", \"1998-07-23\", \"1998-07-30\", \"1998-08-06\", \"1998-08-13\", \"1998-08-20\", \"1998-08-27\", \"1998-09-03\", \"1998-09-10\", \"1998-09-24\", \"1998-10-01\", \"1998-10-22\", \"1998-10-29\", \"1998-11-12\", \"1998-11-26\", \"1998-12-03\", \"1998-12-10\", \"1998-12-17\", \"1998-12-24\", \"1999-01-15\", \"1999-01-22\", \"1999-01-29\", \"1999-02-19\", \"1999-02-26\", \"1999-03-05\", \"1999-03-12\", \"1999-03-19\", \"1999-03-26\", \"1999-04-02\", \"1999-04-16\", \"1999-04-23\", \"1999-04-30\", \"1999-05-07\", \"1999-06-04\", \"1999-06-11\", \"1999-07-09\", \"1999-07-16\", \"1999-07-23\", \"1999-07-30\", \"1999-08-06\", \"1999-08-20\", \"1999-08-27\", \"1999-09-10\", \"1999-09-17\", \"1999-09-24\", \"1999-10-01\", \"1999-10-08\", \"1999-10-15\", \"1999-11-05\", \"1999-11-12\", \"1999-11-19\", \"1999-11-26\", \"1999-12-03\", \"1999-12-17\", \"1999-12-24\", \"2000-01-01\", \"2000-01-08\", \"2000-01-15\", \"2000-01-22\", \"2000-01-29\", \"2000-02-05\", \"2000-02-19\", \"2000-03-04\", \"2000-03-11\", \"2000-03-18\", \"2000-03-25\", \"2000-04-08\", \"2000-04-15\", \"2000-04-22\", \"2000-04-29\", \"2000-05-06\", \"2000-05-20\", \"2000-05-27\", \"2000-06-03\", \"2000-06-10\", \"2000-06-17\", \"2000-06-24\", \"2000-07-01\", \"2000-07-08\", \"2000-07-15\", \"2000-07-22\", \"2000-07-29\", \"2000-08-05\", \"2000-08-12\", \"2000-08-19\", \"2000-08-26\", \"2000-09-09\", \"2000-09-16\", \"2000-09-23\", \"2000-10-07\", \"2000-10-14\", \"2000-10-21\", \"2000-10-28\", \"2000-11-04\", \"2000-11-11\", \"2000-11-18\", \"2000-12-02\", \"2000-12-09\", \"2000-12-16\", \"2000-12-23\", \"2001-01-01\", \"2001-01-08\", \"2001-01-22\", \"2001-01-29\", \"2001-02-12\", \"2001-02-19\", \"2001-02-26\", \"2001-03-05\", \"2001-03-12\", \"2001-03-19\", \"2001-04-02\", \"2001-04-16\", \"2001-05-07\", \"2001-05-14\", \"2001-05-21\", \"2001-05-28\", \"2001-06-04\", \"2001-06-18\", \"2001-06-25\", \"2001-07-02\", \"2001-07-09\", \"2001-07-16\", \"2001-07-23\", \"2001-07-30\", \"2001-08-06\", \"2001-08-13\", \"2001-08-20\", \"2001-09-03\", \"2001-09-10\", \"2001-09-17\", \"2001-09-24\", \"2001-10-01\", \"2001-10-08\", \"2001-10-22\", \"2001-10-29\", \"2001-11-05\", \"2001-11-12\", \"2001-11-19\", \"2001-11-26\", \"2001-12-03\", \"2001-12-10\", \"2001-12-17\", \"2001-12-24\", \"2002-01-01\", \"2002-01-08\", \"2002-01-15\", \"2002-01-22\", \"2002-02-05\", \"2002-02-12\", \"2002-02-19\", \"2002-02-26\", \"2002-03-05\", \"2002-03-12\", \"2002-03-19\", \"2002-03-26\", \"2002-04-02\", \"2002-04-09\", \"2002-04-23\", \"2002-04-30\", \"2002-05-07\", \"2002-05-14\", \"2002-05-21\", \"2002-05-28\", \"2002-06-04\", \"2002-07-02\", \"2002-07-09\", \"2002-07-23\", \"2002-07-30\", \"2002-08-06\", \"2002-08-13\", \"2002-08-20\", \"2002-08-27\", \"2002-09-03\", \"2002-09-10\", \"2002-09-24\", \"2002-10-01\", \"2002-10-08\", \"2002-10-22\", \"2002-10-29\", \"2002-11-05\", \"2002-11-12\", \"2002-11-26\", \"2002-12-03\", \"2002-12-10\", \"2002-12-17\", \"2002-12-24\", \"2003-01-01\", \"2003-01-08\", \"2003-01-15\", \"2003-01-22\", \"2003-01-29\", \"2003-02-05\", \"2003-02-19\", \"2003-02-26\", \"2003-03-05\", \"2003-03-12\", \"2003-03-19\", \"2003-03-26\", \"2003-04-02\", \"2003-04-09\", \"2003-04-23\", \"2003-04-30\", \"2003-05-07\", \"2003-05-14\", \"2003-05-28\", \"2003-06-11\", \"2003-06-18\", \"2003-06-25\", \"2003-07-02\", \"2003-07-16\", \"2003-07-23\", \"2003-07-30\", \"2003-08-06\", \"2003-08-13\", \"2003-08-20\", \"2003-09-10\", \"2003-09-17\", \"2003-09-24\", \"2003-10-08\", \"2003-10-15\", \"2003-10-22\", \"2003-10-29\", \"2003-11-12\", \"2003-11-19\", \"2003-11-26\", \"2003-12-03\", \"2003-12-10\", \"2003-12-17\", \"2003-12-24\", \"2004-01-08\", \"2004-01-22\", \"2004-01-29\", \"2004-02-12\", \"2004-02-19\", \"2004-02-26\", \"2004-03-04\", \"2004-03-11\", \"2004-03-25\", \"2004-04-08\", \"2004-04-15\", \"2004-05-13\", \"2004-05-20\", \"2004-05-27\", \"2004-06-03\", \"2004-06-10\", \"2004-06-17\", \"2004-06-24\", \"2004-07-08\", \"2004-07-15\", \"2004-07-22\", \"2004-07-29\", \"2004-08-05\", \"2004-08-12\", \"2004-08-19\", \"2004-08-26\", \"2004-09-02\", \"2004-09-09\", \"2004-09-30\", \"2004-10-07\", \"2004-10-21\", \"2004-10-28\", \"2004-11-04\", \"2004-11-11\", \"2004-11-18\", \"2004-11-25\", \"2004-12-02\", \"2004-12-09\", \"2004-12-16\", \"2004-12-23\", \"2005-01-08\", \"2005-01-15\", \"2005-01-22\", \"2005-01-29\", \"2005-02-05\", \"2005-02-12\", \"2005-02-26\", \"2005-03-05\", \"2005-03-19\", \"2005-03-26\", \"2005-04-09\", \"2005-04-16\", \"2005-04-23\", \"2005-05-07\", \"2005-05-14\", \"2005-05-28\", \"2005-06-04\", \"2005-06-11\", \"2005-06-18\", \"2005-07-02\", \"2005-07-09\", \"2005-07-16\", \"2005-07-23\", \"2005-07-30\", \"2005-08-06\", \"2005-08-20\", \"2005-08-27\", \"2005-09-10\", \"2005-09-17\", \"2005-09-24\", \"2005-10-01\", \"2005-10-08\", \"2005-10-15\", \"2005-10-22\", \"2005-10-29\", \"2005-11-05\", \"2005-11-12\", \"2005-11-19\", \"2005-12-10\", \"2005-12-17\", \"2005-12-24\", \"2006-01-01\", \"2006-01-08\", \"2006-01-15\", \"2006-01-22\", \"2006-01-29\", \"2006-02-05\", \"2006-02-12\", \"2006-02-19\", \"2006-02-26\", \"2006-03-05\", \"2006-03-12\", \"2006-03-19\", \"2006-04-09\", \"2006-04-16\", \"2006-04-23\", \"2006-04-30\", \"2006-05-07\", \"2006-05-21\", \"2006-06-04\", \"2006-06-11\", \"2006-06-18\", \"2006-06-25\", \"2006-07-02\", \"2006-07-09\", \"2006-07-16\", \"2006-07-23\", \"2006-07-30\", \"2006-08-06\", \"2006-08-13\", \"2006-08-27\", \"2006-09-03\", \"2006-09-10\", \"2006-09-17\", \"2006-09-24\", \"2006-10-01\", \"2006-10-15\", \"2006-10-22\", \"2006-10-29\", \"2006-11-12\", \"2006-11-19\", \"2006-11-26\", \"2006-12-10\", \"2006-12-17\", \"2006-12-24\", \"2007-01-01\", \"2007-01-15\", \"2007-01-22\", \"2007-02-05\", \"2007-02-12\", \"2007-02-19\", \"2007-03-05\", \"2007-03-12\", \"2007-03-19\", \"2007-03-26\", \"2007-04-02\", \"2007-04-09\", \"2007-04-16\", \"2007-04-23\", \"2007-04-30\", \"2007-05-07\", \"2007-05-14\", \"2007-05-21\", \"2007-06-04\", \"2007-06-11\", \"2007-06-18\", \"2007-06-25\", \"2007-07-02\", \"2007-07-16\", \"2007-07-23\", \"2007-07-30\", \"2007-08-06\"], \"xaxis\": \"x\", \"y\": [4, 5, 4, 3, 6, 4, 5, 10, 8, 2, 6, 21, 28, 24, 20, 40, 27, 42, 33, 37, 57, 71, 44, 56, 53, 52, 47, 26, 27, 21, 34, 37, 17, 19, 18, 21, 17, 16, 16, 15, 23, 17, 12, 10, 15, 19, 21, 14, 18, 23, 62, 76, 66, 64, 68, 89, 92, 140, 116, 142, 129, 140, 140, 127, 129, 169, 141, 108, 70, 104, 90, 85, 53, 40, 37, 30, 30, 28, 23, 24, 29, 26, 23, 19, 20, 26, 29, 31, 26, 32, 35, 33, 30, 52, 59, 65, 74, 70, 61, 53, 76, 61, 57, 44, 34, 47, 60, 60, 53, 31, 32, 28, 33, 35, 22, 13, 21, 17, 11, 8, 8, 6, 7, 17, 10, 10, 18, 19, 12, 21, 18, 16, 16, 22, 25, 23, 12, 25, 28, 27, 18, 23, 23, 29, 36, 46, 31, 25, 40, 38, 30, 31, 26, 35, 36, 39, 25, 31, 25, 24, 18, 23, 13, 18, 17, 22, 13, 24, 31, 34, 31, 38, 49, 42, 49, 55, 80, 72, 89, 115, 179, 202, 154, 91, 56, 46, 26, 17, 20, 11, 7, 16, 14, 2, 6, 4, 3, 4, 8, 7, 10, 14, 7, 11, 17, 19, 24, 17, 28, 40, 33, 31, 33, 29, 30, 36, 40, 28, 36, 19, 23, 17, 23, 14, 20, 13, 23, 20, 16, 23, 15, 4, 5, 11, 11, 4, 6, 2, 4, 2, 4, 6, 6, 6, 11, 16, 9, 13, 21, 19, 17, 27, 30, 29, 35, 33, 30, 29, 22, 26, 29, 33, 24, 30, 20, 17, 24, 9, 14, 11, 19, 10, 8, 8, 9, 3, 7, 14, 4, 9, 14, 7, 9, 3, 14, 12, 10, 26, 47, 42, 31, 34, 33, 52, 56, 47, 49, 66, 67, 68, 49, 50, 56, 75, 63, 41, 50, 31, 30, 32, 26, 30, 36, 48, 44, 51, 59, 71, 102, 128, 127, 150, 191, 256, 329, 263, 220, 204, 181, 99, 80, 102, 68, 64, 67, 85, 67, 73, 89, 68, 77, 75, 47, 28, 37, 37, 27, 12, 15, 22, 15, 17, 10, 9, 11, 16, 14, 13, 15, 30, 25, 44, 25, 48, 56, 60, 45, 55, 32, 42, 37, 43, 34, 40, 16, 17, 17, 16, 23, 18, 18, 9, 7, 3, 2, 8, 3, 1, 2, 3, 3, 2, 0, 2, 2, 0, 6, 3, 6, 2, 3, 2, 4, 5, 2, 9, 2, 8, 6, 3, 14, 15, 20, 9, 20, 28, 38, 30, 23, 16, 22, 28, 14, 20, 17, 13, 20, 9, 18, 9, 8, 11, 6, 13, 8, 8, 5, 16, 11, 18, 10, 22, 14, 16, 18, 27, 38, 35, 51, 65, 55, 54, 62, 64, 65, 71, 75, 71, 72, 47, 27, 35, 25, 19, 37, 38, 34, 26, 18, 22, 16, 18, 6, 12, 6, 6, 3, 7, 1, 3, 2, 2, 1, 10, 3, 2, 6, 3, 5, 4, 7, 6, 5, 7, 6, 4, 7, 9, 5, 10, 6, 13, 5, 5, 9, 3, 6, 11, 7, 7, 15, 9, 6, 6, 7, 10, 8, 7, 12, 3, 2, 5, 5, 7, 7, 7, 13, 10, 14, 11, 25, 17, 18, 25, 21, 31, 35, 28, 37, 34, 30, 39, 39, 34, 30, 37, 29, 26, 15, 22, 20, 10, 21, 14, 9, 11, 5, 6, 11, 3, 2, 5, 3, 12, 13, 10, 13, 13, 21, 18, 8, 7, 20, 14, 14, 7, 14, 10, 13, 18, 16, 20, 17, 4, 15, 8, 6, 12, 15, 11, 15, 17, 7, 7, 8, 9, 12, 5, 11, 4, 7, 1, 1, 2, 6, 4, 10, 12, 21, 21, 30, 45, 56, 75, 83, 126, 119, 131, 112, 82, 73, 43, 55, 55, 53, 46, 43, 29, 13, 17, 8, 13, 10, 17, 19, 9, 9, 9, 3, 7, 7, 0, 2, 1, 3, 3, 3, 7, 5, 5, 5, 6, 6, 4, 4, 8, 14, 12, 16, 10, 18, 15, 23, 17, 33, 15, 11, 14, 17, 20, 12, 21, 19, 10, 13, 10, 21, 11, 14, 14, 15, 16, 12, 20, 8, 3, 13, 4, 1, 10, 8, 13, 10, 18, 21, 34, 25, 34, 40, 42, 36, 72], \"yaxis\": \"y\"}, {\"line\": {\"color\": \"rgba(193,99,99,0.8)\"}, \"name\": \"gradientboosting_total\", \"showlegend\": true, \"type\": \"scatter\", \"x\": [\"1990-04-30\", \"1990-05-07\", \"1990-05-14\", \"1990-05-21\", \"1990-05-28\", \"1990-06-11\", \"1990-06-18\", \"1990-06-25\", \"1990-07-09\", \"1990-07-16\", \"1990-07-23\", \"1990-08-20\", \"1990-08-27\", \"1990-09-03\", \"1990-09-10\", \"1990-09-17\", \"1990-09-24\", \"1990-10-01\", \"1990-10-08\", \"1990-10-22\", \"1990-10-29\", \"1990-11-05\", \"1990-11-12\", \"1990-11-19\", \"1990-11-26\", \"1990-12-03\", \"1990-12-10\", \"1990-12-17\", \"1990-12-24\", \"1991-01-01\", \"1991-01-22\", \"1991-01-29\", \"1991-02-05\", \"1991-02-12\", \"1991-02-26\", \"1991-03-05\", \"1991-03-19\", \"1991-03-26\", \"1991-04-02\", \"1991-04-09\", \"1991-04-16\", \"1991-04-30\", \"1991-05-07\", \"1991-05-21\", \"1991-05-28\", \"1991-06-04\", \"1991-06-11\", \"1991-06-18\", \"1991-06-25\", \"1991-07-23\", \"1991-08-06\", \"1991-08-20\", \"1991-08-27\", \"1991-09-03\", \"1991-09-10\", \"1991-09-17\", \"1991-09-24\", \"1991-10-01\", \"1991-10-08\", \"1991-10-15\", \"1991-10-22\", \"1991-10-29\", \"1991-11-05\", \"1991-11-12\", \"1991-11-19\", \"1991-11-26\", \"1991-12-03\", \"1991-12-10\", \"1991-12-24\", \"1992-01-08\", \"1992-01-15\", \"1992-01-22\", \"1992-02-05\", \"1992-03-11\", \"1992-03-18\", \"1992-04-01\", \"1992-04-08\", \"1992-04-15\", \"1992-04-22\", \"1992-04-29\", \"1992-05-06\", \"1992-05-13\", \"1992-05-20\", \"1992-06-03\", \"1992-06-10\", \"1992-06-17\", \"1992-06-24\", \"1992-07-01\", \"1992-07-15\", \"1992-07-22\", \"1992-07-29\", \"1992-08-05\", \"1992-08-12\", \"1992-08-19\", \"1992-08-26\", \"1992-09-09\", \"1992-09-16\", \"1992-09-23\", \"1992-09-30\", \"1992-10-07\", \"1992-10-14\", \"1992-10-21\", \"1992-10-28\", \"1992-11-04\", \"1992-11-11\", \"1992-11-18\", \"1992-11-25\", \"1992-12-02\", \"1992-12-09\", \"1992-12-23\", \"1993-01-08\", \"1993-01-15\", \"1993-01-29\", \"1993-02-05\", \"1993-02-12\", \"1993-02-19\", \"1993-03-05\", \"1993-03-12\", \"1993-03-19\", \"1993-03-26\", \"1993-04-02\", \"1993-04-16\", \"1993-04-23\", \"1993-05-07\", \"1993-05-14\", \"1993-05-21\", \"1993-05-28\", \"1993-06-04\", \"1993-06-25\", \"1993-07-02\", \"1993-07-09\", \"1993-07-16\", \"1993-07-23\", \"1993-07-30\", \"1993-08-13\", \"1993-08-20\", \"1993-08-27\", \"1993-09-03\", \"1993-09-10\", \"1993-09-17\", \"1993-09-24\", \"1993-10-01\", \"1993-10-08\", \"1993-10-15\", \"1993-10-29\", \"1993-11-12\", \"1993-11-19\", \"1993-11-26\", \"1993-12-03\", \"1993-12-17\", \"1993-12-24\", \"1994-01-08\", \"1994-01-15\", \"1994-01-22\", \"1994-01-29\", \"1994-02-05\", \"1994-02-12\", \"1994-02-19\", \"1994-03-12\", \"1994-03-19\", \"1994-03-26\", \"1994-04-02\", \"1994-04-09\", \"1994-04-16\", \"1994-04-30\", \"1994-05-07\", \"1994-05-14\", \"1994-05-21\", \"1994-05-28\", \"1994-06-04\", \"1994-06-11\", \"1994-06-25\", \"1994-07-02\", \"1994-07-09\", \"1994-07-16\", \"1994-07-23\", \"1994-07-30\", \"1994-08-13\", \"1994-08-20\", \"1994-08-27\", \"1994-09-03\", \"1994-09-10\", \"1995-01-01\", \"1995-01-08\", \"1995-01-22\", \"1995-01-29\", \"1995-02-12\", \"1995-02-26\", \"1995-03-05\", \"1995-03-12\", \"1995-03-19\", \"1995-03-26\", \"1995-04-02\", \"1995-04-23\", \"1995-04-30\", \"1995-05-14\", \"1995-05-21\", \"1995-05-28\", \"1995-06-11\", \"1995-06-18\", \"1995-06-25\", \"1995-07-02\", \"1995-07-09\", \"1995-07-23\", \"1995-08-06\", \"1995-08-13\", \"1995-08-20\", \"1995-08-27\", \"1995-09-03\", \"1995-09-10\", \"1995-09-17\", \"1995-09-24\", \"1995-10-01\", \"1995-10-08\", \"1995-10-15\", \"1995-10-22\", \"1995-11-05\", \"1995-11-12\", \"1995-11-19\", \"1995-11-26\", \"1995-12-10\", \"1995-12-17\", \"1996-01-01\", \"1996-01-08\", \"1996-01-15\", \"1996-01-22\", \"1996-01-29\", \"1996-02-05\", \"1996-02-12\", \"1996-02-26\", \"1996-03-11\", \"1996-03-18\", \"1996-04-01\", \"1996-04-08\", \"1996-04-15\", \"1996-04-29\", \"1996-05-06\", \"1996-05-20\", \"1996-05-27\", \"1996-06-03\", \"1996-06-10\", \"1996-06-17\", \"1996-06-24\", \"1996-07-08\", \"1996-07-15\", \"1996-07-22\", \"1996-07-29\", \"1996-08-12\", \"1996-08-26\", \"1996-09-02\", \"1996-09-09\", \"1996-09-23\", \"1996-09-30\", \"1996-10-07\", \"1996-10-21\", \"1996-10-28\", \"1996-11-04\", \"1996-11-11\", \"1996-12-02\", \"1996-12-23\", \"1997-01-01\", \"1997-01-15\", \"1997-01-22\", \"1997-01-29\", \"1997-02-05\", \"1997-02-12\", \"1997-02-19\", \"1997-03-19\", \"1997-03-26\", \"1997-04-09\", \"1997-04-16\", \"1997-04-23\", \"1997-04-30\", \"1997-05-07\", \"1997-05-14\", \"1997-05-21\", \"1997-05-28\", \"1997-06-04\", \"1997-06-11\", \"1997-06-18\", \"1997-06-25\", \"1997-07-02\", \"1997-07-09\", \"1997-07-16\", \"1997-07-30\", \"1997-08-06\", \"1997-08-13\", \"1997-08-27\", \"1997-09-03\", \"1997-09-10\", \"1997-09-17\", \"1997-09-24\", \"1997-10-01\", \"1997-10-08\", \"1997-10-15\", \"1997-11-12\", \"1997-11-26\", \"1997-12-03\", \"1997-12-24\", \"1998-01-08\", \"1998-01-15\", \"1998-01-22\", \"1998-01-29\", \"1998-02-05\", \"1998-02-12\", \"1998-02-26\", \"1998-03-05\", \"1998-03-19\", \"1998-04-02\", \"1998-04-09\", \"1998-04-16\", \"1998-04-23\", \"1998-04-30\", \"1998-05-21\", \"1998-05-28\", \"1998-06-04\", \"1998-06-11\", \"1998-06-18\", \"1998-06-25\", \"1998-07-02\", \"1998-07-09\", \"1998-07-16\", \"1998-07-23\", \"1998-07-30\", \"1998-08-06\", \"1998-08-13\", \"1998-08-20\", \"1998-08-27\", \"1998-09-03\", \"1998-09-10\", \"1998-09-24\", \"1998-10-01\", \"1998-10-22\", \"1998-10-29\", \"1998-11-12\", \"1998-11-26\", \"1998-12-03\", \"1998-12-10\", \"1998-12-17\", \"1998-12-24\", \"1999-01-15\", \"1999-01-22\", \"1999-01-29\", \"1999-02-19\", \"1999-02-26\", \"1999-03-05\", \"1999-03-12\", \"1999-03-19\", \"1999-03-26\", \"1999-04-02\", \"1999-04-16\", \"1999-04-23\", \"1999-04-30\", \"1999-05-07\", \"1999-06-04\", \"1999-06-11\", \"1999-07-09\", \"1999-07-16\", \"1999-07-23\", \"1999-07-30\", \"1999-08-06\", \"1999-08-20\", \"1999-08-27\", \"1999-09-10\", \"1999-09-17\", \"1999-09-24\", \"1999-10-01\", \"1999-10-08\", \"1999-10-15\", \"1999-11-05\", \"1999-11-12\", \"1999-11-19\", \"1999-11-26\", \"1999-12-03\", \"1999-12-17\", \"1999-12-24\", \"2000-01-01\", \"2000-01-08\", \"2000-01-15\", \"2000-01-22\", \"2000-01-29\", \"2000-02-05\", \"2000-02-19\", \"2000-03-04\", \"2000-03-11\", \"2000-03-18\", \"2000-03-25\", \"2000-04-08\", \"2000-04-15\", \"2000-04-22\", \"2000-04-29\", \"2000-05-06\", \"2000-05-20\", \"2000-05-27\", \"2000-06-03\", \"2000-06-10\", \"2000-06-17\", \"2000-06-24\", \"2000-07-01\", \"2000-07-08\", \"2000-07-15\", \"2000-07-22\", \"2000-07-29\", \"2000-08-05\", \"2000-08-12\", \"2000-08-19\", \"2000-08-26\", \"2000-09-09\", \"2000-09-16\", \"2000-09-23\", \"2000-10-07\", \"2000-10-14\", \"2000-10-21\", \"2000-10-28\", \"2000-11-04\", \"2000-11-11\", \"2000-11-18\", \"2000-12-02\", \"2000-12-09\", \"2000-12-16\", \"2000-12-23\", \"2001-01-01\", \"2001-01-08\", \"2001-01-22\", \"2001-01-29\", \"2001-02-12\", \"2001-02-19\", \"2001-02-26\", \"2001-03-05\", \"2001-03-12\", \"2001-03-19\", \"2001-04-02\", \"2001-04-16\", \"2001-05-07\", \"2001-05-14\", \"2001-05-21\", \"2001-05-28\", \"2001-06-04\", \"2001-06-18\", \"2001-06-25\", \"2001-07-02\", \"2001-07-09\", \"2001-07-16\", \"2001-07-23\", \"2001-07-30\", \"2001-08-06\", \"2001-08-13\", \"2001-08-20\", \"2001-09-03\", \"2001-09-10\", \"2001-09-17\", \"2001-09-24\", \"2001-10-01\", \"2001-10-08\", \"2001-10-22\", \"2001-10-29\", \"2001-11-05\", \"2001-11-12\", \"2001-11-19\", \"2001-11-26\", \"2001-12-03\", \"2001-12-10\", \"2001-12-17\", \"2001-12-24\", \"2002-01-01\", \"2002-01-08\", \"2002-01-15\", \"2002-01-22\", \"2002-02-05\", \"2002-02-12\", \"2002-02-19\", \"2002-02-26\", \"2002-03-05\", \"2002-03-12\", \"2002-03-19\", \"2002-03-26\", \"2002-04-02\", \"2002-04-09\", \"2002-04-23\", \"2002-04-30\", \"2002-05-07\", \"2002-05-14\", \"2002-05-21\", \"2002-05-28\", \"2002-06-04\", \"2002-07-02\", \"2002-07-09\", \"2002-07-23\", \"2002-07-30\", \"2002-08-06\", \"2002-08-13\", \"2002-08-20\", \"2002-08-27\", \"2002-09-03\", \"2002-09-10\", \"2002-09-24\", \"2002-10-01\", \"2002-10-08\", \"2002-10-22\", \"2002-10-29\", \"2002-11-05\", \"2002-11-12\", \"2002-11-26\", \"2002-12-03\", \"2002-12-10\", \"2002-12-17\", \"2002-12-24\", \"2003-01-01\", \"2003-01-08\", \"2003-01-15\", \"2003-01-22\", \"2003-01-29\", \"2003-02-05\", \"2003-02-19\", \"2003-02-26\", \"2003-03-05\", \"2003-03-12\", \"2003-03-19\", \"2003-03-26\", \"2003-04-02\", \"2003-04-09\", \"2003-04-23\", \"2003-04-30\", \"2003-05-07\", \"2003-05-14\", \"2003-05-28\", \"2003-06-11\", \"2003-06-18\", \"2003-06-25\", \"2003-07-02\", \"2003-07-16\", \"2003-07-23\", \"2003-07-30\", \"2003-08-06\", \"2003-08-13\", \"2003-08-20\", \"2003-09-10\", \"2003-09-17\", \"2003-09-24\", \"2003-10-08\", \"2003-10-15\", \"2003-10-22\", \"2003-10-29\", \"2003-11-12\", \"2003-11-19\", \"2003-11-26\", \"2003-12-03\", \"2003-12-10\", \"2003-12-17\", \"2003-12-24\", \"2004-01-08\", \"2004-01-22\", \"2004-01-29\", \"2004-02-12\", \"2004-02-19\", \"2004-02-26\", \"2004-03-04\", \"2004-03-11\", \"2004-03-25\", \"2004-04-08\", \"2004-04-15\", \"2004-05-13\", \"2004-05-20\", \"2004-05-27\", \"2004-06-03\", \"2004-06-10\", \"2004-06-17\", \"2004-06-24\", \"2004-07-08\", \"2004-07-15\", \"2004-07-22\", \"2004-07-29\", \"2004-08-05\", \"2004-08-12\", \"2004-08-19\", \"2004-08-26\", \"2004-09-02\", \"2004-09-09\", \"2004-09-30\", \"2004-10-07\", \"2004-10-21\", \"2004-10-28\", \"2004-11-04\", \"2004-11-11\", \"2004-11-18\", \"2004-11-25\", \"2004-12-02\", \"2004-12-09\", \"2004-12-16\", \"2004-12-23\", \"2005-01-08\", \"2005-01-15\", \"2005-01-22\", \"2005-01-29\", \"2005-02-05\", \"2005-02-12\", \"2005-02-26\", \"2005-03-05\", \"2005-03-19\", \"2005-03-26\", \"2005-04-09\", \"2005-04-16\", \"2005-04-23\", \"2005-05-07\", \"2005-05-14\", \"2005-05-28\", \"2005-06-04\", \"2005-06-11\", \"2005-06-18\", \"2005-07-02\", \"2005-07-09\", \"2005-07-16\", \"2005-07-23\", \"2005-07-30\", \"2005-08-06\", \"2005-08-20\", \"2005-08-27\", \"2005-09-10\", \"2005-09-17\", \"2005-09-24\", \"2005-10-01\", \"2005-10-08\", \"2005-10-15\", \"2005-10-22\", \"2005-10-29\", \"2005-11-05\", \"2005-11-12\", \"2005-11-19\", \"2005-12-10\", \"2005-12-17\", \"2005-12-24\", \"2006-01-01\", \"2006-01-08\", \"2006-01-15\", \"2006-01-22\", \"2006-01-29\", \"2006-02-05\", \"2006-02-12\", \"2006-02-19\", \"2006-02-26\", \"2006-03-05\", \"2006-03-12\", \"2006-03-19\", \"2006-04-09\", \"2006-04-16\", \"2006-04-23\", \"2006-04-30\", \"2006-05-07\", \"2006-05-21\", \"2006-06-04\", \"2006-06-11\", \"2006-06-18\", \"2006-06-25\", \"2006-07-02\", \"2006-07-09\", \"2006-07-16\", \"2006-07-23\", \"2006-07-30\", \"2006-08-06\", \"2006-08-13\", \"2006-08-27\", \"2006-09-03\", \"2006-09-10\", \"2006-09-17\", \"2006-09-24\", \"2006-10-01\", \"2006-10-15\", \"2006-10-22\", \"2006-10-29\", \"2006-11-12\", \"2006-11-19\", \"2006-11-26\", \"2006-12-10\", \"2006-12-17\", \"2006-12-24\", \"2007-01-01\", \"2007-01-15\", \"2007-01-22\", \"2007-02-05\", \"2007-02-12\", \"2007-02-19\", \"2007-03-05\", \"2007-03-12\", \"2007-03-19\", \"2007-03-26\", \"2007-04-02\", \"2007-04-09\", \"2007-04-16\", \"2007-04-23\", \"2007-04-30\", \"2007-05-07\", \"2007-05-14\", \"2007-05-21\", \"2007-06-04\", \"2007-06-11\", \"2007-06-18\", \"2007-06-25\", \"2007-07-02\", \"2007-07-16\", \"2007-07-23\", \"2007-07-30\", \"2007-08-06\"], \"xaxis\": \"x\", \"y\": [10.471685777411382, 16.334532152397287, 16.610522170375287, 12.192676090085705, 11.74578301180102, 13.470081138045776, 15.294918721764873, 15.586940728312532, 15.234189083236087, 8.23515389802826, 23.43181297999289, 36.194526161407765, 30.65574635761706, 29.659531858050592, 34.81730306649365, 42.05269647907091, 37.72247653659815, 49.2630132480936, 45.371093896566684, 51.79006212666762, 45.62971515856343, 59.65423434873414, 44.60922034116441, 53.1871654672888, 58.347254581177246, 40.686697426089786, 53.95554416449544, 31.940199707161764, 35.388174467469234, 29.935179428285803, 28.449841392860773, 23.446202619612034, 21.33223642112733, 19.215014108846056, 22.883182238689106, 18.038676218332125, 17.45674048765276, 7.425704724830584, 15.490433537669224, 9.71988736702203, 16.193028778551685, 17.45191465740168, 10.983918076960537, 26.36310488087477, 16.191442742750446, 14.113605840044634, 21.89859759112201, 20.330155606644244, 20.739865208944224, 22.50532178445383, 43.985070797669415, 58.50409402814398, 41.90366196520538, 39.453098900310266, 42.63344897693845, 53.77612803152592, 62.79340301153219, 57.97562492372175, 77.76186617960188, 90.36841720807134, 69.12091311127939, 90.0391905697437, 69.84584090392084, 79.80887576091331, 47.226329838407885, 88.09729354270533, 74.22906665362555, 68.07733926981717, 45.79984460831516, 79.30063163690366, 62.2312239022619, 38.13049690759651, 31.115268607231524, 18.784702292246433, 18.722018992760614, 14.50764473223343, 18.5970361925761, 19.325878514288313, 18.135872299428836, 12.64204165581731, 13.485604655114296, 16.605091743672407, 15.006649063430599, 5.685526509191762, 19.194058286762072, 21.9291399788901, 27.27859139203534, 23.699728942491245, 18.868007058222645, 38.22949110052065, 45.345484597436894, 24.045642149853204, 46.610883236375, 43.91021805635751, 46.81317706595549, 65.37781232944482, 47.30227837017691, 59.827804462112866, 41.27449595730432, 53.32900054498118, 64.56706811573335, 46.828722354743576, 51.96724197586343, 49.30043156584727, 42.28406632401385, 46.37484019247949, 63.2352179514655, 52.44441708046846, 56.50362929960241, 36.60988124239032, 30.118467849945688, 30.370312714041642, 28.74961607656388, 37.23108192805053, 24.730505854272522, 20.376753399969886, 18.65143637407759, 20.13157476376067, 11.772808939722891, 16.299367550297855, 19.845272445919182, 15.81922559193826, 19.83957669209591, 22.579216520876813, 17.375177538875015, 24.857607719479475, 11.56321348237096, 16.11952538461477, 28.353816612116763, 24.45664830551283, 23.784720825699672, 13.120267187999223, 26.477907563548612, 28.223460744667438, 28.708479837292558, 30.10027529303607, 37.802177505930494, 40.98273617316314, 41.41337935985766, 40.044279760172536, 44.14442943154254, 40.074000437451836, 48.252066919512345, 48.836217021033555, 43.6202910565693, 51.21352532502592, 40.62139468622075, 58.177931546039936, 44.47267988111935, 35.34854361947753, 37.02736215883841, 23.02792221821822, 29.008466277802636, 36.409821281863465, 29.239000837667195, 28.68216620111076, 26.48724784637021, 21.719063189999357, 14.638039193947725, 11.892913013765737, 14.485875249385069, 18.113393239965262, 16.9188237130167, 16.826465541770595, 14.335475325510432, 16.653576029252854, 17.128199923282555, 20.114317275372475, 16.306774678957915, 20.26070914355991, 15.667410100047487, 23.177036462330296, 23.181485102296193, 28.6037071695303, 25.97576028997674, 30.46082086360429, 49.162418936983144, 54.163327652481605, 41.31233212038868, 72.27687738296204, 158.18834137145998, 170.36830885871083, 119.62841172557351, 56.62876562724888, 32.541206870304634, 33.07906790207216, 25.128037035848152, 20.7399291845657, 19.255035000549316, 17.283288441188088, 18.85854059005455, 14.912626185772574, 13.726518328370195, 8.950606152795968, 11.174979574018504, 8.320418989240943, 7.792441368993523, 13.479601432050572, 12.103800004176524, 18.391273766263954, 18.505306690426174, 4.254158271999175, 14.066951212474358, 24.62729614833714, 50.40342758572874, 35.00047944962999, 37.981359033732424, 37.38233892504087, 39.52178965600838, 44.78379840324699, 47.676949129385065, 39.76652868364091, 40.52236661341514, 46.031806817310596, 48.852713479589454, 46.67181485099668, 36.05006746079727, 41.076617963604015, 45.306833481652816, 40.975786096819256, 41.163542614439876, 36.64280961071706, 26.536168813495536, 31.929321591828412, 33.34254558081529, 26.02332802885317, 25.496190925084168, 23.454195055978072, 21.084384451532387, 18.687284734441313, 16.00101506804907, 15.837524546420989, 11.774943518558542, 19.342835858731128, 17.145414764353205, 11.70822736475298, 9.025423422805744, 7.911241788823598, 10.589274936367039, 20.473532066896663, 12.447318402589186, 24.83221399057508, 11.69639485526717, 15.45059830660441, 17.898948986033947, 19.12439637036069, 22.38346290252247, 23.036762346076213, 30.15265433952656, 34.26147448257486, 42.207084359275136, 45.539217631624055, 40.630357633613144, 24.28068247349426, 41.491324759795724, 35.53851387391498, 31.083728963470808, 44.48494287616041, 18.259442701992864, 24.51613648141532, 33.981105316901576, 26.661803424459848, 26.14300511245375, 21.839762586242678, 21.752771944980413, 24.261506969113192, 16.823675087856817, 11.763918260359915, 13.899695488453931, 12.233675697140818, 11.498425053773769, 8.989011886748369, 8.177095850575885, 13.160670022959554, 12.684114365265584, 15.814648983135609, 7.349859716165494, 16.800911717313703, 15.356995824062512, 16.081166104295605, 15.237247427954523, 22.61359534166305, 15.729809492076805, 19.85148884665916, 23.29913638533493, 38.11029791993159, 30.35758461259637, 32.78000515778464, 40.22933194622696, 54.3042288074062, 32.27299026595719, 39.34586732905613, 41.803428264470504, 46.230360075954735, 58.28885500535742, 50.867115522811204, 43.679633187288466, 47.47596866772256, 54.77802187202081, 43.93670431427706, 36.123146561696636, 23.77747773040991, 33.86453942555251, 45.10530681087389, 41.13856790594296, 19.39359981021896, 19.73169085082599, 12.376507403966714, 11.378086079526888, 16.622026925295177, 14.316437856425178, 17.76541758224166, 12.881117616666899, 33.259215304282385, 44.54734948039844, 20.02883798574016, 46.54516873245017, 19.996586255541033, 67.00705583795883, 96.33863016951823, 78.38203686928331, 66.6044564677675, 122.92948269711955, 207.49420051984615, 258.6748050784797, 243.93547534225613, 203.3913669131832, 187.79977558189034, 150.0176942820416, 75.75786661674519, 66.27734766399585, 75.94445816710183, 47.84551959395312, 37.55165261864046, 50.96813502182864, 54.491045200540206, 48.12668297343028, 52.65528420567238, 48.03946290481328, 43.91462665138402, 46.16368828733466, 35.60196549367472, 35.56693301091863, 19.197875360055484, 22.95674022643857, 15.789011956132619, 15.683820264857616, 7.51192671082513, 14.87486660016216, 18.45412502496604, 12.203316367533013, 16.10082871468071, 14.712634945172486, 18.066795246549063, 11.999431106297095, 13.63798849534155, 16.316688192294617, 19.944995836708284, 17.465904852722336, 25.96994573433387, 38.824099542793796, 44.711627331239775, 35.67511920742156, 31.514379199724758, 50.79541744529153, 42.34279781410048, 44.79913248479714, 28.267037906395778, 38.54828095879878, 48.84101039144296, 39.66822382924983, 42.410909789314964, 36.270129593338396, 41.24673951812138, 22.057071261810805, 28.76709016674738, 26.50656208159828, 22.784181579035334, 23.855910494245574, 17.94479598984129, 19.525791360908837, 19.928918462433458, 23.014898053120664, 9.83214321495706, 14.54414787020454, 11.370446466335352, 16.11738012219824, 11.693927567141614, 16.69180618307749, 9.280299812000738, 14.92098643356892, 15.670324139056405, 13.739553344474642, 10.726869275714597, 11.370136821073038, 11.01049953015056, 8.88081423375091, 6.860637492740783, 15.736858813201716, 14.07561225913266, 16.919359533368123, 13.83365223041802, 25.530929746403572, 22.03968982316953, 23.985342204211694, 25.253185281282757, 28.264896879079064, 21.283710911746045, 28.709711574818307, 34.50776775770014, 23.693988205361617, 26.793002112230017, 28.47592849116225, 32.96491396334863, 35.99431801959208, 23.14567187014107, 24.683517501133153, 45.05453556157973, 31.634371553247377, 36.45075589323242, 30.969587246924586, 24.844087994009655, 27.517032235899126, 21.181795675554017, 19.24155349834676, 18.891667172026867, 17.481758287918442, 9.126771506209721, 16.16437086229113, 14.33847067423405, 12.628247996981143, 14.897658051908785, 13.230805758214109, 13.71908305928796, 11.482230699685854, 17.075948569603703, 21.77463208173966, 13.562889171107221, 16.178290345307545, 13.115509069234315, 14.590418937798662, 13.364894896020356, 22.743426056934425, 29.247119646550473, 30.527862251296725, 21.816065581643432, 36.33116932738991, 56.59607869339239, 33.35264360010559, 39.70003533700767, 37.87768887998233, 35.28444062712249, 46.802278967753146, 40.74395246176702, 55.640444335303776, 53.21194737975274, 46.38161220238739, 70.63853175789907, 47.65538314352329, 41.97397062105676, 30.60705169188095, 42.88538011136866, 32.58618350219405, 38.55717362874179, 30.739906225246866, 26.18340068922153, 31.382659669961708, 30.267524781573865, 22.45608001040724, 16.059915915391343, 16.161951813935055, 12.173931461829797, 10.072388847309211, 14.419092035224528, 10.065175209097713, 11.151080758887755, 10.154162496599996, 13.462986835767918, 9.363987651410477, 9.261038073100996, 5.192803753732704, 5.634340930220104, 9.206585302730907, 18.37742109518309, 15.039045418298066, 11.606152784102253, 4.7410569331452885, 14.34311778485511, 30.235644224052045, 28.594270794526423, 28.15089083977895, 19.26387444623514, 20.615664664772453, 22.36488809812883, 26.305225338644487, 31.594792958065177, 31.357810173297647, 18.71758414597219, 22.725709376760815, 20.027375015096087, 22.568062863432836, 22.230653291717555, 23.528411252575868, 12.745018915343383, 18.868614683938244, 24.522308167829287, 21.615521798254147, 26.619060027823036, 22.65273271434976, 24.08986248135013, 30.211749766091046, 23.264815126104956, 24.499281671135456, 11.626795763112076, 10.71085371997914, 4.811741765167514, 12.960216587613049, 10.354023589138993, 8.516156843349261, 11.115158521681407, 8.691827397142443, 10.288736551247137, 9.661340945424831, 8.902771771113526, 7.476444945151929, 10.274029611792702, 15.206801627244776, 12.433780963762004, 14.43195097210237, 8.872170702546935, 15.033675633802256, 22.705569112852512, 25.707555394863284, 31.831440923018395, 23.360010745662304, 30.695666773322053, 37.355172385045236, 37.35244760055141, 42.59121691146336, 33.70380805672232, 38.904606107297994, 37.894062559755824, 32.58797779926402, 38.86059150142876, 23.807269376480036, 27.713684339700464, 35.787715627177406, 24.353528689062003, 24.67465906467376, 25.62567101174625, 19.10297969421319, 16.689734915926653, 13.3428407947066, 14.982841043505307, 9.94486335467825, 16.822699283306385, 12.01060051232096, 14.024562568649328, 13.798643751111166, 8.262703684076232, 6.894058803052672, 5.59737511453499, 13.035060501113714, 9.503109406941393, 13.429133005384555, 12.083281606281917, 10.578671597135415, 8.590790069136625, 7.098416188295003, 14.391424354301266, 25.48768432261143, 18.904216333537462, 33.99055199681185, 37.876500984554745, 26.463715993614233, 23.580046196939772, 30.47447381347294, 29.383958459244298, 23.900480174685313, 22.534322192087124, 31.455987908909144, 39.84328086933618, 36.83177780087892, 23.677021289852313, 21.37021488709177, 16.974493159165355, 11.741858995670368, 20.329865740782274, 24.040940055555513, 26.922805204667, 13.008343879284087, 18.8169843385946, 21.028501426631962, 21.0635849649345, 15.422949162504977, 10.638633785155367, 11.250734191290714, 15.050343421558656, 16.377502734885812, 10.758906598392306, 12.147025586648525, 8.27770801153181, 12.070176691646417, 0.2799071274451483, 9.950423513995126, 21.71913363082046, 24.733713229229426, 14.848293105955399, 11.264954968115857, 23.425569382331766, 36.92856992657077, 35.30766690545811, 35.87828481015918, 66.45300410301488, 67.62341148912445, 113.33289115769072, 90.0479158683245, 109.4351195656553, 111.61616226409603, 78.20918096372785, 47.947793017352524, 31.532376360885397, 39.81302375328388, 50.93035378139029, 69.18267412986576, 27.430824985532954, 44.75284296648828, 39.150065572343685, 32.26190565996074, 23.594472715640308, 28.331500157082434, 22.542994019613317, 19.097882141220964, 21.161241107111326, 19.80925417704216, 13.90904887859134, 18.21411359374825, 13.982415776937527, 13.015655002599043, 10.089814033670626, 6.306800721456468, 11.569173046288862, 6.99874587923846, 9.925752936005042, 8.52575402003737, 10.848301765127495, 9.979904500108544, 12.03304259445578, 12.110685722898547, 16.771722976164614, 15.590596562368678, 7.760513207073186, 10.561188648660602, 19.73957480663717, 13.307368432142635, 11.455774954396597, 17.366467042589022, 17.356254680167297, 31.011403272271984, 20.40720879372621, 25.575028354414695, 31.74244525029044, 33.113942792657035, 32.38492914137756, 31.23916200029749, 32.05863154648124, 18.37109287756656, 30.676341794302004, 24.26108296368629, 25.87489641449441, 21.58137684123898, 42.41488345194084, 27.10706201197125, 33.62246942740689, 34.675992988445195, 18.46107610897696, 25.476125673513952, 20.836212121293954, 14.999664334683976, 13.62033579384999, 22.49416573077445, 17.64115145366553, 9.039433949212686, 11.565218262819734, 15.391741315271778, 13.409247077892356, 6.701506714487093, 16.974102756162825, 17.077676406386356, 8.265081648071991, 8.285379623641523, 13.411909388305745, 11.316128742557776, 10.820791674152122, 21.062400168011656, 26.031800288242952, 21.797396171624246, 15.121827496684768, 26.75069826972985, 33.02530090043438, 26.766902147440902, 55.68274351241765], \"yaxis\": \"y\"}],\n",
              "                        {\"autosize\": false, \"height\": 600, \"template\": {\"data\": {\"bar\": [{\"error_x\": {\"color\": \"#2a3f5f\"}, \"error_y\": {\"color\": \"#2a3f5f\"}, \"marker\": {\"line\": {\"color\": \"#E5ECF6\", \"width\": 0.5}}, \"type\": \"bar\"}], \"barpolar\": [{\"marker\": {\"line\": {\"color\": \"#E5ECF6\", \"width\": 0.5}}, \"type\": \"barpolar\"}], \"carpet\": [{\"aaxis\": {\"endlinecolor\": \"#2a3f5f\", \"gridcolor\": \"white\", \"linecolor\": \"white\", \"minorgridcolor\": \"white\", \"startlinecolor\": \"#2a3f5f\"}, \"baxis\": {\"endlinecolor\": \"#2a3f5f\", \"gridcolor\": \"white\", \"linecolor\": \"white\", \"minorgridcolor\": \"white\", \"startlinecolor\": \"#2a3f5f\"}, \"type\": \"carpet\"}], \"choropleth\": [{\"colorbar\": {\"outlinewidth\": 0, \"ticks\": \"\"}, \"type\": \"choropleth\"}], \"contour\": [{\"colorbar\": {\"outlinewidth\": 0, \"ticks\": \"\"}, \"colorscale\": [[0.0, \"#0d0887\"], [0.1111111111111111, \"#46039f\"], [0.2222222222222222, \"#7201a8\"], [0.3333333333333333, \"#9c179e\"], [0.4444444444444444, \"#bd3786\"], [0.5555555555555556, \"#d8576b\"], [0.6666666666666666, \"#ed7953\"], [0.7777777777777778, \"#fb9f3a\"], [0.8888888888888888, \"#fdca26\"], [1.0, \"#f0f921\"]], \"type\": \"contour\"}], \"contourcarpet\": [{\"colorbar\": {\"outlinewidth\": 0, \"ticks\": \"\"}, \"type\": \"contourcarpet\"}], \"heatmap\": [{\"colorbar\": {\"outlinewidth\": 0, \"ticks\": \"\"}, \"colorscale\": [[0.0, \"#0d0887\"], [0.1111111111111111, \"#46039f\"], [0.2222222222222222, \"#7201a8\"], [0.3333333333333333, \"#9c179e\"], [0.4444444444444444, \"#bd3786\"], [0.5555555555555556, \"#d8576b\"], [0.6666666666666666, \"#ed7953\"], [0.7777777777777778, \"#fb9f3a\"], [0.8888888888888888, \"#fdca26\"], [1.0, \"#f0f921\"]], \"type\": \"heatmap\"}], \"heatmapgl\": [{\"colorbar\": {\"outlinewidth\": 0, \"ticks\": \"\"}, \"colorscale\": [[0.0, \"#0d0887\"], [0.1111111111111111, \"#46039f\"], [0.2222222222222222, \"#7201a8\"], [0.3333333333333333, \"#9c179e\"], [0.4444444444444444, \"#bd3786\"], [0.5555555555555556, \"#d8576b\"], [0.6666666666666666, \"#ed7953\"], [0.7777777777777778, \"#fb9f3a\"], [0.8888888888888888, \"#fdca26\"], [1.0, \"#f0f921\"]], \"type\": \"heatmapgl\"}], \"histogram\": [{\"marker\": {\"colorbar\": {\"outlinewidth\": 0, \"ticks\": \"\"}}, \"type\": \"histogram\"}], \"histogram2d\": [{\"colorbar\": {\"outlinewidth\": 0, \"ticks\": \"\"}, \"colorscale\": [[0.0, \"#0d0887\"], [0.1111111111111111, \"#46039f\"], [0.2222222222222222, \"#7201a8\"], [0.3333333333333333, \"#9c179e\"], [0.4444444444444444, \"#bd3786\"], [0.5555555555555556, \"#d8576b\"], [0.6666666666666666, \"#ed7953\"], [0.7777777777777778, \"#fb9f3a\"], [0.8888888888888888, \"#fdca26\"], [1.0, \"#f0f921\"]], \"type\": \"histogram2d\"}], \"histogram2dcontour\": [{\"colorbar\": {\"outlinewidth\": 0, \"ticks\": \"\"}, \"colorscale\": [[0.0, \"#0d0887\"], [0.1111111111111111, \"#46039f\"], [0.2222222222222222, \"#7201a8\"], [0.3333333333333333, \"#9c179e\"], [0.4444444444444444, \"#bd3786\"], [0.5555555555555556, \"#d8576b\"], [0.6666666666666666, \"#ed7953\"], [0.7777777777777778, \"#fb9f3a\"], [0.8888888888888888, \"#fdca26\"], [1.0, \"#f0f921\"]], \"type\": \"histogram2dcontour\"}], \"mesh3d\": [{\"colorbar\": {\"outlinewidth\": 0, \"ticks\": \"\"}, \"type\": \"mesh3d\"}], \"parcoords\": [{\"line\": {\"colorbar\": {\"outlinewidth\": 0, \"ticks\": \"\"}}, \"type\": \"parcoords\"}], \"pie\": [{\"automargin\": true, \"type\": \"pie\"}], \"scatter\": [{\"marker\": {\"colorbar\": {\"outlinewidth\": 0, \"ticks\": \"\"}}, \"type\": \"scatter\"}], \"scatter3d\": [{\"line\": {\"colorbar\": {\"outlinewidth\": 0, \"ticks\": \"\"}}, \"marker\": {\"colorbar\": {\"outlinewidth\": 0, \"ticks\": \"\"}}, \"type\": \"scatter3d\"}], \"scattercarpet\": [{\"marker\": {\"colorbar\": {\"outlinewidth\": 0, \"ticks\": \"\"}}, \"type\": \"scattercarpet\"}], \"scattergeo\": [{\"marker\": {\"colorbar\": {\"outlinewidth\": 0, \"ticks\": \"\"}}, \"type\": \"scattergeo\"}], \"scattergl\": [{\"marker\": {\"colorbar\": {\"outlinewidth\": 0, \"ticks\": \"\"}}, \"type\": \"scattergl\"}], \"scattermapbox\": [{\"marker\": {\"colorbar\": {\"outlinewidth\": 0, \"ticks\": \"\"}}, \"type\": \"scattermapbox\"}], \"scatterpolar\": [{\"marker\": {\"colorbar\": {\"outlinewidth\": 0, \"ticks\": \"\"}}, \"type\": \"scatterpolar\"}], \"scatterpolargl\": [{\"marker\": {\"colorbar\": {\"outlinewidth\": 0, \"ticks\": \"\"}}, \"type\": \"scatterpolargl\"}], \"scatterternary\": [{\"marker\": {\"colorbar\": {\"outlinewidth\": 0, \"ticks\": \"\"}}, \"type\": \"scatterternary\"}], \"surface\": [{\"colorbar\": {\"outlinewidth\": 0, \"ticks\": \"\"}, \"colorscale\": [[0.0, \"#0d0887\"], [0.1111111111111111, \"#46039f\"], [0.2222222222222222, \"#7201a8\"], [0.3333333333333333, \"#9c179e\"], [0.4444444444444444, \"#bd3786\"], [0.5555555555555556, \"#d8576b\"], [0.6666666666666666, \"#ed7953\"], [0.7777777777777778, \"#fb9f3a\"], [0.8888888888888888, \"#fdca26\"], [1.0, \"#f0f921\"]], \"type\": \"surface\"}], \"table\": [{\"cells\": {\"fill\": {\"color\": \"#EBF0F8\"}, \"line\": {\"color\": \"white\"}}, \"header\": {\"fill\": {\"color\": \"#C8D4E3\"}, \"line\": {\"color\": \"white\"}}, \"type\": \"table\"}]}, \"layout\": {\"annotationdefaults\": {\"arrowcolor\": \"#2a3f5f\", \"arrowhead\": 0, \"arrowwidth\": 1}, \"coloraxis\": {\"colorbar\": {\"outlinewidth\": 0, \"ticks\": \"\"}}, \"colorscale\": {\"diverging\": [[0, \"#8e0152\"], [0.1, \"#c51b7d\"], [0.2, \"#de77ae\"], [0.3, \"#f1b6da\"], [0.4, \"#fde0ef\"], [0.5, \"#f7f7f7\"], [0.6, \"#e6f5d0\"], [0.7, \"#b8e186\"], [0.8, \"#7fbc41\"], [0.9, \"#4d9221\"], [1, \"#276419\"]], \"sequential\": [[0.0, \"#0d0887\"], [0.1111111111111111, \"#46039f\"], [0.2222222222222222, \"#7201a8\"], [0.3333333333333333, \"#9c179e\"], [0.4444444444444444, \"#bd3786\"], [0.5555555555555556, \"#d8576b\"], [0.6666666666666666, \"#ed7953\"], [0.7777777777777778, \"#fb9f3a\"], [0.8888888888888888, \"#fdca26\"], [1.0, \"#f0f921\"]], \"sequentialminus\": [[0.0, \"#0d0887\"], [0.1111111111111111, \"#46039f\"], [0.2222222222222222, \"#7201a8\"], [0.3333333333333333, \"#9c179e\"], [0.4444444444444444, \"#bd3786\"], [0.5555555555555556, \"#d8576b\"], [0.6666666666666666, \"#ed7953\"], [0.7777777777777778, \"#fb9f3a\"], [0.8888888888888888, \"#fdca26\"], [1.0, \"#f0f921\"]]}, \"colorway\": [\"#636efa\", \"#EF553B\", \"#00cc96\", \"#ab63fa\", \"#FFA15A\", \"#19d3f3\", \"#FF6692\", \"#B6E880\", \"#FF97FF\", \"#FECB52\"], \"font\": {\"color\": \"#2a3f5f\"}, \"geo\": {\"bgcolor\": \"white\", \"lakecolor\": \"white\", \"landcolor\": \"#E5ECF6\", \"showlakes\": true, \"showland\": true, \"subunitcolor\": \"white\"}, \"hoverlabel\": {\"align\": \"left\"}, \"hovermode\": \"closest\", \"mapbox\": {\"style\": \"light\"}, \"paper_bgcolor\": \"white\", \"plot_bgcolor\": \"#E5ECF6\", \"polar\": {\"angularaxis\": {\"gridcolor\": \"white\", \"linecolor\": \"white\", \"ticks\": \"\"}, \"bgcolor\": \"#E5ECF6\", \"radialaxis\": {\"gridcolor\": \"white\", \"linecolor\": \"white\", \"ticks\": \"\"}}, \"scene\": {\"xaxis\": {\"backgroundcolor\": \"#E5ECF6\", \"gridcolor\": \"white\", \"gridwidth\": 2, \"linecolor\": \"white\", \"showbackground\": true, \"ticks\": \"\", \"zerolinecolor\": \"white\"}, \"yaxis\": {\"backgroundcolor\": \"#E5ECF6\", \"gridcolor\": \"white\", \"gridwidth\": 2, \"linecolor\": \"white\", \"showbackground\": true, \"ticks\": \"\", \"zerolinecolor\": \"white\"}, \"zaxis\": {\"backgroundcolor\": \"#E5ECF6\", \"gridcolor\": \"white\", \"gridwidth\": 2, \"linecolor\": \"white\", \"showbackground\": true, \"ticks\": \"\", \"zerolinecolor\": \"white\"}}, \"shapedefaults\": {\"line\": {\"color\": \"#2a3f5f\"}}, \"ternary\": {\"aaxis\": {\"gridcolor\": \"white\", \"linecolor\": \"white\", \"ticks\": \"\"}, \"baxis\": {\"gridcolor\": \"white\", \"linecolor\": \"white\", \"ticks\": \"\"}, \"bgcolor\": \"#E5ECF6\", \"caxis\": {\"gridcolor\": \"white\", \"linecolor\": \"white\", \"ticks\": \"\"}}, \"title\": {\"x\": 0.05}, \"xaxis\": {\"automargin\": true, \"gridcolor\": \"white\", \"linecolor\": \"white\", \"ticks\": \"\", \"title\": {\"standoff\": 15}, \"zerolinecolor\": \"white\", \"zerolinewidth\": 2}, \"yaxis\": {\"automargin\": true, \"gridcolor\": \"white\", \"linecolor\": \"white\", \"ticks\": \"\", \"title\": {\"standoff\": 15}, \"zerolinecolor\": \"white\", \"zerolinewidth\": 2}}}, \"title\": {\"text\": \"GradientBoostingRegressor\"}, \"width\": 1200, \"xaxis\": {\"anchor\": \"y\", \"domain\": [0.0, 1.0]}, \"yaxis\": {\"anchor\": \"x\", \"domain\": [0.0, 1.0]}},\n",
              "                        {\"responsive\": true}\n",
              "                    ).then(function(){\n",
              "                            \n",
              "var gd = document.getElementById('2ebbc796-d7f1-4cfc-935d-e1bc886d1b14');\n",
              "var x = new MutationObserver(function (mutations, observer) {{\n",
              "        var display = window.getComputedStyle(gd).display;\n",
              "        if (!display || display === 'none') {{\n",
              "            console.log([gd, 'removed!']);\n",
              "            Plotly.purge(gd);\n",
              "            observer.disconnect();\n",
              "        }}\n",
              "}});\n",
              "\n",
              "// Listen for the removal of the full notebook cells\n",
              "var notebookContainer = gd.closest('#notebook-container');\n",
              "if (notebookContainer) {{\n",
              "    x.observe(notebookContainer, {childList: true});\n",
              "}}\n",
              "\n",
              "// Listen for the clearing of the current output cell\n",
              "var outputEl = gd.closest('.output');\n",
              "if (outputEl) {{\n",
              "    x.observe(outputEl, {childList: true});\n",
              "}}\n",
              "\n",
              "                        })\n",
              "                };\n",
              "                \n",
              "            </script>\n",
              "        </div>\n",
              "</body>\n",
              "</html>"
            ]
          },
          "metadata": {
            "tags": []
          }
        }
      ]
    },
    {
      "cell_type": "markdown",
      "metadata": {
        "id": "3Q5s3InJZv5e"
      },
      "source": [
        "-Na-  estimation: Próbáljuk megbecsülni a hiányzó adatokat."
      ]
    },
    {
      "cell_type": "code",
      "metadata": {
        "id": "a7xh3fW93OZq"
      },
      "source": [
        "ndv=[\"ndvi_ne\",\"ndvi_nw\",\"ndvi_se\",\"ndvi_sw\"]"
      ],
      "execution_count": 77,
      "outputs": []
    },
    {
      "cell_type": "code",
      "metadata": {
        "id": "1Z4xI9ZE3F-E"
      },
      "source": [
        "XX_ndv=X_train_sj[ndv]"
      ],
      "execution_count": 78,
      "outputs": []
    },
    {
      "cell_type": "code",
      "metadata": {
        "id": "-U8gt-jS3azh",
        "colab": {
          "base_uri": "https://localhost:8080/",
          "height": 419
        },
        "outputId": "0f5e02c0-1f9c-46bc-d454-ad95e29d41dc"
      },
      "source": [
        "XX_ndv"
      ],
      "execution_count": 79,
      "outputs": [
        {
          "output_type": "execute_result",
          "data": {
            "text/html": [
              "<div>\n",
              "<style scoped>\n",
              "    .dataframe tbody tr th:only-of-type {\n",
              "        vertical-align: middle;\n",
              "    }\n",
              "\n",
              "    .dataframe tbody tr th {\n",
              "        vertical-align: top;\n",
              "    }\n",
              "\n",
              "    .dataframe thead th {\n",
              "        text-align: right;\n",
              "    }\n",
              "</style>\n",
              "<table border=\"1\" class=\"dataframe\">\n",
              "  <thead>\n",
              "    <tr style=\"text-align: right;\">\n",
              "      <th></th>\n",
              "      <th>ndvi_ne</th>\n",
              "      <th>ndvi_nw</th>\n",
              "      <th>ndvi_se</th>\n",
              "      <th>ndvi_sw</th>\n",
              "    </tr>\n",
              "  </thead>\n",
              "  <tbody>\n",
              "    <tr>\n",
              "      <th>0</th>\n",
              "      <td>0.122600</td>\n",
              "      <td>0.103725</td>\n",
              "      <td>0.198483</td>\n",
              "      <td>0.177617</td>\n",
              "    </tr>\n",
              "    <tr>\n",
              "      <th>1</th>\n",
              "      <td>0.169900</td>\n",
              "      <td>0.142175</td>\n",
              "      <td>0.162357</td>\n",
              "      <td>0.155486</td>\n",
              "    </tr>\n",
              "    <tr>\n",
              "      <th>2</th>\n",
              "      <td>0.032250</td>\n",
              "      <td>0.172967</td>\n",
              "      <td>0.157200</td>\n",
              "      <td>0.170843</td>\n",
              "    </tr>\n",
              "    <tr>\n",
              "      <th>3</th>\n",
              "      <td>0.128633</td>\n",
              "      <td>0.245067</td>\n",
              "      <td>0.227557</td>\n",
              "      <td>0.235886</td>\n",
              "    </tr>\n",
              "    <tr>\n",
              "      <th>4</th>\n",
              "      <td>0.196200</td>\n",
              "      <td>0.262200</td>\n",
              "      <td>0.251200</td>\n",
              "      <td>0.247340</td>\n",
              "    </tr>\n",
              "    <tr>\n",
              "      <th>...</th>\n",
              "      <td>...</td>\n",
              "      <td>...</td>\n",
              "      <td>...</td>\n",
              "      <td>...</td>\n",
              "    </tr>\n",
              "    <tr>\n",
              "      <th>930</th>\n",
              "      <td>0.044900</td>\n",
              "      <td>0.024450</td>\n",
              "      <td>0.101629</td>\n",
              "      <td>0.088000</td>\n",
              "    </tr>\n",
              "    <tr>\n",
              "      <th>931</th>\n",
              "      <td>0.077850</td>\n",
              "      <td>-0.039900</td>\n",
              "      <td>0.310471</td>\n",
              "      <td>0.296243</td>\n",
              "    </tr>\n",
              "    <tr>\n",
              "      <th>932</th>\n",
              "      <td>-0.038000</td>\n",
              "      <td>-0.016833</td>\n",
              "      <td>0.119371</td>\n",
              "      <td>0.066386</td>\n",
              "    </tr>\n",
              "    <tr>\n",
              "      <th>933</th>\n",
              "      <td>-0.155200</td>\n",
              "      <td>-0.052750</td>\n",
              "      <td>0.137757</td>\n",
              "      <td>0.141214</td>\n",
              "    </tr>\n",
              "    <tr>\n",
              "      <th>935</th>\n",
              "      <td>-0.037000</td>\n",
              "      <td>-0.010367</td>\n",
              "      <td>0.077314</td>\n",
              "      <td>0.090586</td>\n",
              "    </tr>\n",
              "  </tbody>\n",
              "</table>\n",
              "<p>727 rows × 4 columns</p>\n",
              "</div>"
            ],
            "text/plain": [
              "      ndvi_ne   ndvi_nw   ndvi_se   ndvi_sw\n",
              "0    0.122600  0.103725  0.198483  0.177617\n",
              "1    0.169900  0.142175  0.162357  0.155486\n",
              "2    0.032250  0.172967  0.157200  0.170843\n",
              "3    0.128633  0.245067  0.227557  0.235886\n",
              "4    0.196200  0.262200  0.251200  0.247340\n",
              "..        ...       ...       ...       ...\n",
              "930  0.044900  0.024450  0.101629  0.088000\n",
              "931  0.077850 -0.039900  0.310471  0.296243\n",
              "932 -0.038000 -0.016833  0.119371  0.066386\n",
              "933 -0.155200 -0.052750  0.137757  0.141214\n",
              "935 -0.037000 -0.010367  0.077314  0.090586\n",
              "\n",
              "[727 rows x 4 columns]"
            ]
          },
          "metadata": {
            "tags": []
          },
          "execution_count": 79
        }
      ]
    },
    {
      "cell_type": "code",
      "metadata": {
        "id": "J2w_DRmJ4eIU"
      },
      "source": [
        "ndv_features=[\"ndvi_nw\",\"ndvi_se\",\"ndvi_sw\"]\n"
      ],
      "execution_count": 80,
      "outputs": []
    },
    {
      "cell_type": "code",
      "metadata": {
        "id": "8mUeRG8a4oCV",
        "colab": {
          "base_uri": "https://localhost:8080/"
        },
        "outputId": "4e4f87c8-364f-4633-f9d2-10424f7cf492"
      },
      "source": [
        "from sklearn.linear_model import Lasso\n",
        "from sklearn.linear_model import Ridge\n",
        "from sklearn.ensemble import RandomForestRegressor\n",
        "from sklearn.ensemble import GradientBoostingRegressor\n",
        "\n",
        "ne_regressor=GradientBoostingRegressor(n_estimators=140)\n",
        "\n",
        "yy=XX_ndv[['ndvi_ne']]\n",
        "ne_regressor.fit(XX_ndv[ndv_features],yy)\n",
        "y_pred=ne_regressor.predict(XX_ndv[ndv_features])\n",
        "\n",
        "\n",
        "\n",
        "\n",
        "\n"
      ],
      "execution_count": 113,
      "outputs": [
        {
          "output_type": "stream",
          "text": [
            "/usr/local/lib/python3.7/dist-packages/sklearn/ensemble/_gb.py:1454: DataConversionWarning:\n",
            "\n",
            "A column-vector y was passed when a 1d array was expected. Please change the shape of y to (n_samples, ), for example using ravel().\n",
            "\n"
          ],
          "name": "stderr"
        }
      ]
    },
    {
      "cell_type": "code",
      "metadata": {
        "id": "qUFMaSqZPrgO"
      },
      "source": [
        ""
      ],
      "execution_count": null,
      "outputs": []
    },
    {
      "cell_type": "code",
      "metadata": {
        "id": "rVBNQDml5HH1",
        "colab": {
          "base_uri": "https://localhost:8080/"
        },
        "outputId": "6f805d15-ec8d-496b-ca26-7a6a1f8c0945"
      },
      "source": [
        "XX_ndv[\"ne_pred\"]=y_pred"
      ],
      "execution_count": 82,
      "outputs": [
        {
          "output_type": "stream",
          "text": [
            "/usr/local/lib/python3.7/dist-packages/ipykernel_launcher.py:1: SettingWithCopyWarning:\n",
            "\n",
            "\n",
            "A value is trying to be set on a copy of a slice from a DataFrame.\n",
            "Try using .loc[row_indexer,col_indexer] = value instead\n",
            "\n",
            "See the caveats in the documentation: https://pandas.pydata.org/pandas-docs/stable/user_guide/indexing.html#returning-a-view-versus-a-copy\n",
            "\n"
          ],
          "name": "stderr"
        }
      ]
    },
    {
      "cell_type": "code",
      "metadata": {
        "id": "QgP-I6EU5WoF",
        "colab": {
          "base_uri": "https://localhost:8080/",
          "height": 359
        },
        "outputId": "b4bec22d-3ef3-4443-b854-47e4196fec20"
      },
      "source": [
        "XX_ndv.head(10)"
      ],
      "execution_count": 83,
      "outputs": [
        {
          "output_type": "execute_result",
          "data": {
            "text/html": [
              "<div>\n",
              "<style scoped>\n",
              "    .dataframe tbody tr th:only-of-type {\n",
              "        vertical-align: middle;\n",
              "    }\n",
              "\n",
              "    .dataframe tbody tr th {\n",
              "        vertical-align: top;\n",
              "    }\n",
              "\n",
              "    .dataframe thead th {\n",
              "        text-align: right;\n",
              "    }\n",
              "</style>\n",
              "<table border=\"1\" class=\"dataframe\">\n",
              "  <thead>\n",
              "    <tr style=\"text-align: right;\">\n",
              "      <th></th>\n",
              "      <th>ndvi_ne</th>\n",
              "      <th>ndvi_nw</th>\n",
              "      <th>ndvi_se</th>\n",
              "      <th>ndvi_sw</th>\n",
              "      <th>ne_pred</th>\n",
              "    </tr>\n",
              "  </thead>\n",
              "  <tbody>\n",
              "    <tr>\n",
              "      <th>0</th>\n",
              "      <td>0.122600</td>\n",
              "      <td>0.103725</td>\n",
              "      <td>0.198483</td>\n",
              "      <td>0.177617</td>\n",
              "      <td>0.105484</td>\n",
              "    </tr>\n",
              "    <tr>\n",
              "      <th>1</th>\n",
              "      <td>0.169900</td>\n",
              "      <td>0.142175</td>\n",
              "      <td>0.162357</td>\n",
              "      <td>0.155486</td>\n",
              "      <td>0.149980</td>\n",
              "    </tr>\n",
              "    <tr>\n",
              "      <th>2</th>\n",
              "      <td>0.032250</td>\n",
              "      <td>0.172967</td>\n",
              "      <td>0.157200</td>\n",
              "      <td>0.170843</td>\n",
              "      <td>0.088385</td>\n",
              "    </tr>\n",
              "    <tr>\n",
              "      <th>3</th>\n",
              "      <td>0.128633</td>\n",
              "      <td>0.245067</td>\n",
              "      <td>0.227557</td>\n",
              "      <td>0.235886</td>\n",
              "      <td>0.140847</td>\n",
              "    </tr>\n",
              "    <tr>\n",
              "      <th>4</th>\n",
              "      <td>0.196200</td>\n",
              "      <td>0.262200</td>\n",
              "      <td>0.251200</td>\n",
              "      <td>0.247340</td>\n",
              "      <td>0.197860</td>\n",
              "    </tr>\n",
              "    <tr>\n",
              "      <th>6</th>\n",
              "      <td>0.112900</td>\n",
              "      <td>0.092800</td>\n",
              "      <td>0.205071</td>\n",
              "      <td>0.210271</td>\n",
              "      <td>0.080853</td>\n",
              "    </tr>\n",
              "    <tr>\n",
              "      <th>7</th>\n",
              "      <td>0.072500</td>\n",
              "      <td>0.072500</td>\n",
              "      <td>0.151471</td>\n",
              "      <td>0.133029</td>\n",
              "      <td>0.056108</td>\n",
              "    </tr>\n",
              "    <tr>\n",
              "      <th>8</th>\n",
              "      <td>0.102450</td>\n",
              "      <td>0.146175</td>\n",
              "      <td>0.125571</td>\n",
              "      <td>0.123600</td>\n",
              "      <td>0.100167</td>\n",
              "    </tr>\n",
              "    <tr>\n",
              "      <th>10</th>\n",
              "      <td>0.192875</td>\n",
              "      <td>0.082350</td>\n",
              "      <td>0.191943</td>\n",
              "      <td>0.152929</td>\n",
              "      <td>0.146153</td>\n",
              "    </tr>\n",
              "    <tr>\n",
              "      <th>11</th>\n",
              "      <td>0.291600</td>\n",
              "      <td>0.211800</td>\n",
              "      <td>0.301200</td>\n",
              "      <td>0.280667</td>\n",
              "      <td>0.270566</td>\n",
              "    </tr>\n",
              "  </tbody>\n",
              "</table>\n",
              "</div>"
            ],
            "text/plain": [
              "     ndvi_ne   ndvi_nw   ndvi_se   ndvi_sw   ne_pred\n",
              "0   0.122600  0.103725  0.198483  0.177617  0.105484\n",
              "1   0.169900  0.142175  0.162357  0.155486  0.149980\n",
              "2   0.032250  0.172967  0.157200  0.170843  0.088385\n",
              "3   0.128633  0.245067  0.227557  0.235886  0.140847\n",
              "4   0.196200  0.262200  0.251200  0.247340  0.197860\n",
              "6   0.112900  0.092800  0.205071  0.210271  0.080853\n",
              "7   0.072500  0.072500  0.151471  0.133029  0.056108\n",
              "8   0.102450  0.146175  0.125571  0.123600  0.100167\n",
              "10  0.192875  0.082350  0.191943  0.152929  0.146153\n",
              "11  0.291600  0.211800  0.301200  0.280667  0.270566"
            ]
          },
          "metadata": {
            "tags": []
          },
          "execution_count": 83
        }
      ]
    },
    {
      "cell_type": "code",
      "metadata": {
        "id": "kEekSa9J7kPi",
        "colab": {
          "base_uri": "https://localhost:8080/"
        },
        "outputId": "a384b416-1c17-41fa-b208-56c668f4c1d1"
      },
      "source": [
        "XX_ndv[\"ssz\"]=XX_ndv.index"
      ],
      "execution_count": 84,
      "outputs": [
        {
          "output_type": "stream",
          "text": [
            "/usr/local/lib/python3.7/dist-packages/ipykernel_launcher.py:1: SettingWithCopyWarning:\n",
            "\n",
            "\n",
            "A value is trying to be set on a copy of a slice from a DataFrame.\n",
            "Try using .loc[row_indexer,col_indexer] = value instead\n",
            "\n",
            "See the caveats in the documentation: https://pandas.pydata.org/pandas-docs/stable/user_guide/indexing.html#returning-a-view-versus-a-copy\n",
            "\n"
          ],
          "name": "stderr"
        }
      ]
    },
    {
      "cell_type": "code",
      "metadata": {
        "id": "9CRD_0m36-AF",
        "colab": {
          "base_uri": "https://localhost:8080/",
          "height": 617
        },
        "outputId": "e79e7604-2605-4e82-c895-c175bd23e40a"
      },
      "source": [
        "grafikon(XX_ndv,\"ssz\",\"ndvi_ne\",\"ndvi_ne\",\"ne_pred\",\"ne_pred\",ngraf=2,title=\"NDVI_NE\")"
      ],
      "execution_count": 85,
      "outputs": [
        {
          "output_type": "display_data",
          "data": {
            "text/html": [
              "<html>\n",
              "<head><meta charset=\"utf-8\" /></head>\n",
              "<body>\n",
              "    <div>\n",
              "            <script src=\"https://cdnjs.cloudflare.com/ajax/libs/mathjax/2.7.5/MathJax.js?config=TeX-AMS-MML_SVG\"></script><script type=\"text/javascript\">if (window.MathJax) {MathJax.Hub.Config({SVG: {font: \"STIX-Web\"}});}</script>\n",
              "                <script type=\"text/javascript\">window.PlotlyConfig = {MathJaxConfig: 'local'};</script>\n",
              "        <script src=\"https://cdn.plot.ly/plotly-latest.min.js\"></script>    \n",
              "            <div id=\"afa64c33-4127-4b02-9864-be5706163ff1\" class=\"plotly-graph-div\" style=\"height:600px; width:1200px;\"></div>\n",
              "            <script type=\"text/javascript\">\n",
              "                \n",
              "                    window.PLOTLYENV=window.PLOTLYENV || {};\n",
              "                    \n",
              "                if (document.getElementById(\"afa64c33-4127-4b02-9864-be5706163ff1\")) {\n",
              "                    Plotly.newPlot(\n",
              "                        'afa64c33-4127-4b02-9864-be5706163ff1',\n",
              "                        [{\"line\": {\"color\": \"rgba(35,128,132,0.8)\"}, \"name\": \"ndvi_ne\", \"showlegend\": true, \"type\": \"scatter\", \"x\": [0, 1, 2, 3, 4, 6, 7, 8, 10, 11, 12, 16, 17, 18, 19, 20, 21, 22, 23, 25, 26, 27, 28, 29, 30, 31, 32, 33, 34, 35, 38, 39, 40, 41, 43, 44, 46, 47, 48, 49, 50, 52, 53, 55, 56, 57, 58, 59, 60, 64, 66, 68, 69, 70, 71, 72, 73, 74, 75, 76, 77, 78, 79, 80, 81, 82, 83, 84, 86, 88, 89, 90, 92, 97, 98, 100, 101, 102, 103, 104, 105, 106, 107, 109, 110, 111, 112, 113, 115, 116, 117, 118, 119, 120, 121, 123, 124, 125, 126, 127, 128, 129, 130, 131, 132, 133, 134, 135, 136, 138, 140, 141, 143, 144, 145, 146, 148, 149, 150, 151, 152, 154, 155, 157, 158, 159, 160, 161, 164, 165, 166, 167, 168, 169, 171, 172, 173, 174, 175, 176, 177, 178, 179, 180, 182, 184, 185, 186, 187, 189, 190, 192, 193, 194, 195, 196, 197, 198, 201, 202, 203, 204, 205, 206, 208, 209, 210, 211, 212, 213, 214, 216, 217, 218, 219, 220, 221, 223, 224, 225, 226, 227, 243, 244, 246, 247, 249, 251, 252, 253, 254, 255, 256, 259, 260, 262, 263, 264, 266, 267, 268, 269, 270, 272, 274, 275, 276, 277, 278, 279, 280, 281, 282, 283, 284, 285, 287, 288, 289, 290, 292, 293, 295, 296, 297, 298, 299, 300, 301, 303, 305, 306, 308, 309, 310, 312, 313, 315, 316, 317, 318, 319, 320, 322, 323, 324, 325, 327, 329, 330, 331, 333, 334, 335, 337, 338, 339, 340, 343, 346, 347, 349, 350, 351, 352, 353, 354, 358, 359, 361, 362, 363, 364, 365, 366, 367, 368, 369, 370, 371, 372, 373, 374, 375, 377, 378, 379, 381, 382, 383, 384, 385, 386, 387, 388, 392, 394, 395, 398, 400, 401, 402, 403, 404, 405, 407, 408, 410, 412, 413, 414, 415, 416, 419, 420, 421, 422, 423, 424, 425, 426, 427, 428, 429, 430, 431, 432, 433, 434, 435, 437, 438, 441, 442, 444, 446, 447, 448, 449, 450, 453, 454, 455, 458, 459, 460, 461, 462, 463, 464, 466, 467, 468, 469, 473, 474, 478, 479, 480, 481, 482, 484, 485, 487, 488, 489, 490, 491, 492, 495, 496, 497, 498, 499, 501, 502, 503, 504, 505, 506, 507, 508, 510, 512, 513, 514, 515, 517, 518, 519, 520, 521, 523, 524, 525, 526, 527, 528, 529, 530, 531, 532, 533, 534, 535, 536, 537, 539, 540, 541, 543, 544, 545, 546, 547, 548, 549, 551, 552, 553, 554, 555, 556, 558, 559, 561, 562, 563, 564, 565, 566, 568, 570, 573, 574, 575, 576, 577, 579, 580, 581, 582, 583, 584, 585, 586, 587, 588, 590, 591, 592, 593, 594, 595, 597, 598, 599, 600, 601, 602, 603, 604, 605, 606, 607, 608, 609, 610, 612, 613, 614, 615, 616, 617, 618, 619, 620, 621, 623, 624, 625, 626, 627, 628, 629, 633, 634, 636, 637, 638, 639, 640, 641, 642, 643, 645, 646, 647, 649, 650, 651, 652, 654, 655, 656, 657, 658, 659, 660, 661, 662, 663, 664, 666, 667, 668, 669, 670, 671, 672, 673, 675, 676, 677, 678, 680, 682, 683, 684, 685, 687, 688, 689, 690, 691, 692, 695, 696, 697, 699, 700, 701, 702, 704, 705, 706, 707, 708, 709, 710, 712, 714, 715, 717, 718, 719, 720, 721, 723, 725, 726, 730, 731, 732, 733, 734, 735, 736, 738, 739, 740, 741, 742, 743, 744, 745, 746, 747, 750, 751, 753, 754, 755, 756, 757, 758, 759, 760, 761, 762, 764, 765, 766, 767, 768, 769, 771, 772, 774, 775, 777, 778, 779, 781, 782, 784, 785, 786, 787, 789, 790, 791, 792, 793, 794, 796, 797, 799, 800, 801, 802, 803, 804, 805, 806, 807, 808, 809, 812, 813, 814, 815, 816, 817, 818, 819, 820, 821, 822, 823, 824, 825, 826, 829, 830, 831, 832, 833, 835, 837, 838, 839, 840, 841, 842, 843, 844, 845, 846, 847, 849, 850, 851, 852, 853, 854, 856, 857, 858, 860, 861, 862, 864, 865, 866, 867, 869, 870, 872, 873, 874, 876, 877, 878, 879, 880, 881, 882, 883, 884, 885, 886, 887, 889, 890, 891, 892, 893, 895, 896, 897, 898, 900, 901, 904, 905, 906, 907, 908, 910, 911, 912, 914, 916, 918, 919, 922, 924, 925, 926, 928, 929, 930, 931, 932, 933, 935], \"xaxis\": \"x\", \"y\": [0.1226, 0.1699, 0.03225, 0.1286333, 0.1962, 0.1129, 0.0725, 0.10245, 0.192875, 0.2916, 0.15056670000000003, 0.1902333, 0.2529, 0.2354, 0.1279667, 0.19635, 0.1161, 0.22855, 0.17115, 0.1462, 0.25225, 0.1526, 0.2908, 0.2722, 0.13676670000000002, 0.1098, 0.12135, 0.2931333, 0.3025, 0.1465, 0.3313, 0.0917, 0.3801, 0.0712, 0.1702, 0.21075, 0.1279, 0.28035, 0.1691, 0.1765, 0.0774, 0.20916669999999998, 0.11595, 0.0669, 0.1401, 0.08585, 0.1091, 0.0596, 0.07965, 0.0801, 0.07315, 0.0569, 0.0693, 0.10805, 0.10475, 0.1098, 0.1676, 0.1291, 0.09300000000000001, 0.0137, 0.1944, 0.094, 0.0544, 0.0954, 0.00825, 0.08786667, 0.0802, -0.02665, 0.12355, 0.10083330000000001, 0.2224, 0.12253330000000001, 0.1016, 0.08685, 0.05305, 0.09995, 0.1039, 0.07515, 0.0922, 0.0125, 0.10875, 0.101875, 0.1024, 0.12165, 0.08395, 0.10445, 0.1302, 0.1194, 0.11199999999999999, -0.1396, 0.0539, 0.152675, 0.16395, 0.1146, 0.0875, 0.123975, 0.0519, 0.1435, 0.1972, 0.137225, 0.3371, -0.0156, 0.1242, 0.0866, 0.11800000000000001, 0.0764, 0.0971, 0.1083, 0.0547, -0.01008, 0.02835, 0.03006667, 0.06613333, 0.047425, 0.2738, 0.11086669999999998, 0.1744667, 0.09403333, -0.0411, 0.03225, 0.1194, -0.0158, 0.0828, 0.07965, 0.07305, 0.1769, 0.01645, 0.00305, 0.0374, 0.1237667, 0.0689, 0.0375, 0.1204, 0.08285, 0.1016, 0.0969, 0.10885, 0.0979, 0.1121, 0.1199, 0.0054, 0.034, 0.1213, 0.1317, 0.11699999999999999, -0.1589, 0.17315, 0.1071, 0.3572667, -0.2902, -0.0237, -0.1209, 0.1435, 0.0741, 0.0912, 0.2588, 0.0882, 0.3633, 0.1125, 0.1468, 0.0412, 0.0978, 0.10800000000000001, 0.16435, 0.0805, 0.0652, 0.1111, 0.0742, 0.1178, 0.1097, 0.08005, -0.0323, 0.12526669999999998, 0.12325, 0.1396, 0.0424, 0.183, 0.04465, 0.06666667, 0.1564, 0.02185, 0.04585, 0.2438, 0.223075, -0.1193, 0.05175, 0.03233333, 0.0935, 0.07355, 0.14535, 0.0739, 0.031, 0.19862, 0.1017, 0.1281, 0.14345, 0.0363, 0.0322, 0.15495, 0.08955, 0.22135, 0.2319333, 0.3093, 0.1175, 0.0632, 0.047, 0.08396667, 0.1131, 0.0326, 0.1071, 0.0568, 0.11863330000000001, 0.1068, 0.2808, 0.040825, 0.033625, 0.2346, 0.0174, 0.0406, 0.0334, 0.1154, -0.0139, 0.013999999999999999, 0.1514333, 0.0149, 0.0958, 0.0627, 0.02765, 0.06895, 0.076, 0.03786667, 0.07713333, 0.0448, 0.0497, 0.08893333, 0.3144667, -0.0464, 0.0339, 0.09985, 0.0529, 0.0986, 0.07125, 0.16555, 0.05763333, 0.1121, 0.0038, 0.09683333, 0.0795, 0.01203333, 0.0364, 0.1043, 0.04044, -0.0385, -0.0066, -0.0969, 0.00525, -0.05675, -0.03006667, -0.1171, 0.0214, 0.15263329999999997, -0.1459, 0.0495, 0.0451, 0.04245, 0.0455, 0.0297, 0.1409, 0.11245, 0.0602, 0.033075, 0.0388, -0.0035, -0.0597, 0.1019, 0.0798, 0.0235, 0.0557, 0.1197, 0.0108, 0.0749, 0.1012, 0.0883, -0.0562, 0.1393, 0.0981, 0.008933333, 0.06065, 0.1072, 0.03495, -0.049, 0.12258, 0.1123, 0.0019, -0.01515, 0.0695, 0.2192, 0.0568, 0.0663, 0.05076667, -0.01615, 0.1797, 0.13155, -0.0479, 0.11825, 0.1545, 0.06366667, 0.0604, 0.0672, 0.048, 0.0308, 0.0671, 0.1063, -0.003, 0.0484, -0.0427, 0.12125, 0.0725, 0.03745, 0.0715, -0.03095, 0.0289, 0.0554, 0.14065, 0.02866667, 0.05346667, 0.1072, 0.0307, 0.0388, 0.07465, 0.05085, -0.0022, 0.0213, -0.0359, 0.0038666670000000003, 0.0501, 0.05675, 0.0619, -0.08216667, 0.06056667, -0.1399, -0.0698, 0.0535, 0.0263, 0.12905, -0.0509, -0.071225, -0.10475, 0.135, 0.0541, 0.0341, 0.0869, 0.07295, 0.064, 0.04023333, 0.0499, 0.09746667, 0.0545, 0.1169, 0.0101, -0.07305, 0.01015, -0.01465, 0.087, -0.0121, 0.08305, 0.05016667, 0.1322, -0.0864, 0.06275, 0.1235, -0.0454, 0.0005, 0.1536, 0.10558, 0.1088, -0.1336, 0.20635, 0.337, 0.353, 0.3419, 0.29455, 0.19316670000000002, 0.17025, 0.3779, 0.2311, 0.2204, 0.2050333, 0.07435, -0.287, 0.1544, 0.1302, 0.0865, 0.1882, 0.0849, 0.1459, 0.1097, 0.1431, 0.11045, 0.0812, 0.17185, 0.22305, 0.1667, 0.13025, 0.14415, 0.17645, 0.2156667, 0.1591, 0.0577, 0.1961, 0.253975, 0.38, 0.10035, 0.1535, 0.19015, 0.11056669999999999, 0.0979, 0.12015, 0.11875, 0.0044, 0.0632, 0.0048333329999999996, 0.09436667, 0.0411, 0.00915, -0.04485, 0.2170333, 0.4462667, 0.2485, 0.4229, 0.1274333, 0.2127, 0.0728, 0.0371, 0.1031, 0.08607999999999999, 0.0619, 0.0312, -0.02865, 0.02185, -0.0227, -0.0817, 0.0073, -0.0198, 0.0287, 0.2467, 0.08985, 0.0172, -0.0273, 0.1954, -0.0412, 0.0986, 0.16025, 0.0633, -0.0141, -0.01935, 0.0284, 0.0941, 0.1663, 0.21515, -0.0468, 0.0081, 0.02285, 0.1814, 0.05475, 0.106425, 0.0594, 0.0288, -0.0674, 0.0491, 0.0478, 0.0315, 0.042, 0.0709, 0.1535, 0.1777, -0.0056, -0.0263, -0.0176, 0.1506, 0.19375, 0.1138, 0.03345, 0.05325, 0.04185, -0.009666667, -0.02455, -0.07045, -0.0836, -0.0006, 0.0001, 0.0776, 0.0009, 0.0895, 0.033, 0.0541, 0.07375, -0.05385, -0.1115, 0.00735, 0.2614, 0.14783329999999997, -0.005633333000000001, -0.2439, -0.1743, -0.043, 0.0358, -0.07195, -0.2, 0.0466, 0.053739999999999996, 0.0214, 0.0567, 0.0015, -0.03046667, -0.20635, 0.02535, -0.05203333, -0.1169, 0.0925, 0.12815, -0.078, 0.0681, -0.0477, 0.01485, -0.0457, 0.05063333, 0.0675, -0.1798, -0.0853, -0.05675, 0.1045, 0.04995, 0.0785, 0.0348, 0.0726, 0.09445, -0.0939, -0.0874, 0.0204, 0.0161, -0.0416, 0.0892, 0.06925, -0.21795, -0.07015, -0.00305, -0.1476, -0.03753333, 0.02085, -0.0731, -0.18635, -0.0535, -0.0423, -0.1567, 0.05716667, -0.0638, -0.0505, -0.40625, 0.4934, 0.0061, -0.0904, 0.05286667, -0.02563333, -0.07055, 0.0218, 0.017425, 0.0101, -0.0267, -0.0529, 0.0674, -0.0117, 0.0058, 0.0374, -0.0164, 0.0996, 0.0414, 0.1076, 0.033475, -0.0168, 0.0969, 0.0802, 0.1337, 0.0199, 0.3274, 0.0435, -0.1613, -0.0039, -0.15165, -0.1261, 0.0079, 0.02435, -0.11183330000000001, -0.0479, 0.0442, -0.08175, 0.1083, -0.10366669999999999, 0.0644, -0.044000000000000004, 0.0045, -0.1235, 0.01683333, -0.1362, 0.06313333, 0.0476, -0.0143, 0.0606, 0.0449, 0.0892, 0.0854, 0.0514, -0.0665, -0.1087, -0.06475, 0.0479, -0.1224, 0.0022, 0.0073, 0.0252, 0.0012, 0.0488, 0.0419, 0.02275, -0.029975, 0.07596667, -0.00135, 0.0507, -0.03396667, -0.0587, 0.1077, -0.1062, -0.008233333, -0.04245, -0.1942333, 0.009000000000000001, 0.0443, -0.3084, 0.3255, -0.1032, -0.16734000000000002, -0.01313333, 0.0109, 0.0455, 0.0165, -0.012, 0.0351, 0.0144, 0.0802, 0.0582, 0.0144, -0.01003333, 0.0255, 0.1035, 0.063875, 0.0193, 0.04735, -0.05556667, -0.1145, 0.0017399999999999998, 0.06405, 0.07515, 0.01235, 0.026125, -0.0556, -0.0265, 0.06305, 0.12335, 0.04593333, -0.2761, -0.1686, 0.0947, 0.0516, -0.04176667, -0.0548, 0.2643, -0.0192, 0.1288333, -0.2156, -0.0752, 0.2121, 0.0543, 0.0373, 0.0117, 0.02285, 0.01886667, -0.0743, 0.0689, 0.0216, 0.0392, -0.06205, 0.0019, 0.05825, -0.0118, -0.0054, 0.1058, 0.2484, 0.0501, 0.0826, -0.00695, 0.0746, 0.0156, 0.0331, 0.0821, -0.01345, -0.0307, 0.096, 0.009000000000000001, 0.021, 0.1243, -0.2517, -0.0589, -0.0595, -0.13305, 0.0148, 0.0006, -0.0268, -0.1117, 0.07200000000000001, -0.13865, -0.0889, -0.3214, 0.0449, 0.07785, -0.038, -0.1552, -0.037000000000000005], \"yaxis\": \"y\"}, {\"line\": {\"color\": \"rgba(193,99,99,0.8)\"}, \"name\": \"ne_pred\", \"showlegend\": true, \"type\": \"scatter\", \"x\": [0, 1, 2, 3, 4, 6, 7, 8, 10, 11, 12, 16, 17, 18, 19, 20, 21, 22, 23, 25, 26, 27, 28, 29, 30, 31, 32, 33, 34, 35, 38, 39, 40, 41, 43, 44, 46, 47, 48, 49, 50, 52, 53, 55, 56, 57, 58, 59, 60, 64, 66, 68, 69, 70, 71, 72, 73, 74, 75, 76, 77, 78, 79, 80, 81, 82, 83, 84, 86, 88, 89, 90, 92, 97, 98, 100, 101, 102, 103, 104, 105, 106, 107, 109, 110, 111, 112, 113, 115, 116, 117, 118, 119, 120, 121, 123, 124, 125, 126, 127, 128, 129, 130, 131, 132, 133, 134, 135, 136, 138, 140, 141, 143, 144, 145, 146, 148, 149, 150, 151, 152, 154, 155, 157, 158, 159, 160, 161, 164, 165, 166, 167, 168, 169, 171, 172, 173, 174, 175, 176, 177, 178, 179, 180, 182, 184, 185, 186, 187, 189, 190, 192, 193, 194, 195, 196, 197, 198, 201, 202, 203, 204, 205, 206, 208, 209, 210, 211, 212, 213, 214, 216, 217, 218, 219, 220, 221, 223, 224, 225, 226, 227, 243, 244, 246, 247, 249, 251, 252, 253, 254, 255, 256, 259, 260, 262, 263, 264, 266, 267, 268, 269, 270, 272, 274, 275, 276, 277, 278, 279, 280, 281, 282, 283, 284, 285, 287, 288, 289, 290, 292, 293, 295, 296, 297, 298, 299, 300, 301, 303, 305, 306, 308, 309, 310, 312, 313, 315, 316, 317, 318, 319, 320, 322, 323, 324, 325, 327, 329, 330, 331, 333, 334, 335, 337, 338, 339, 340, 343, 346, 347, 349, 350, 351, 352, 353, 354, 358, 359, 361, 362, 363, 364, 365, 366, 367, 368, 369, 370, 371, 372, 373, 374, 375, 377, 378, 379, 381, 382, 383, 384, 385, 386, 387, 388, 392, 394, 395, 398, 400, 401, 402, 403, 404, 405, 407, 408, 410, 412, 413, 414, 415, 416, 419, 420, 421, 422, 423, 424, 425, 426, 427, 428, 429, 430, 431, 432, 433, 434, 435, 437, 438, 441, 442, 444, 446, 447, 448, 449, 450, 453, 454, 455, 458, 459, 460, 461, 462, 463, 464, 466, 467, 468, 469, 473, 474, 478, 479, 480, 481, 482, 484, 485, 487, 488, 489, 490, 491, 492, 495, 496, 497, 498, 499, 501, 502, 503, 504, 505, 506, 507, 508, 510, 512, 513, 514, 515, 517, 518, 519, 520, 521, 523, 524, 525, 526, 527, 528, 529, 530, 531, 532, 533, 534, 535, 536, 537, 539, 540, 541, 543, 544, 545, 546, 547, 548, 549, 551, 552, 553, 554, 555, 556, 558, 559, 561, 562, 563, 564, 565, 566, 568, 570, 573, 574, 575, 576, 577, 579, 580, 581, 582, 583, 584, 585, 586, 587, 588, 590, 591, 592, 593, 594, 595, 597, 598, 599, 600, 601, 602, 603, 604, 605, 606, 607, 608, 609, 610, 612, 613, 614, 615, 616, 617, 618, 619, 620, 621, 623, 624, 625, 626, 627, 628, 629, 633, 634, 636, 637, 638, 639, 640, 641, 642, 643, 645, 646, 647, 649, 650, 651, 652, 654, 655, 656, 657, 658, 659, 660, 661, 662, 663, 664, 666, 667, 668, 669, 670, 671, 672, 673, 675, 676, 677, 678, 680, 682, 683, 684, 685, 687, 688, 689, 690, 691, 692, 695, 696, 697, 699, 700, 701, 702, 704, 705, 706, 707, 708, 709, 710, 712, 714, 715, 717, 718, 719, 720, 721, 723, 725, 726, 730, 731, 732, 733, 734, 735, 736, 738, 739, 740, 741, 742, 743, 744, 745, 746, 747, 750, 751, 753, 754, 755, 756, 757, 758, 759, 760, 761, 762, 764, 765, 766, 767, 768, 769, 771, 772, 774, 775, 777, 778, 779, 781, 782, 784, 785, 786, 787, 789, 790, 791, 792, 793, 794, 796, 797, 799, 800, 801, 802, 803, 804, 805, 806, 807, 808, 809, 812, 813, 814, 815, 816, 817, 818, 819, 820, 821, 822, 823, 824, 825, 826, 829, 830, 831, 832, 833, 835, 837, 838, 839, 840, 841, 842, 843, 844, 845, 846, 847, 849, 850, 851, 852, 853, 854, 856, 857, 858, 860, 861, 862, 864, 865, 866, 867, 869, 870, 872, 873, 874, 876, 877, 878, 879, 880, 881, 882, 883, 884, 885, 886, 887, 889, 890, 891, 892, 893, 895, 896, 897, 898, 900, 901, 904, 905, 906, 907, 908, 910, 911, 912, 914, 916, 918, 919, 922, 924, 925, 926, 928, 929, 930, 931, 932, 933, 935], \"xaxis\": \"x\", \"y\": [0.10548398778571441, 0.14998037007142848, 0.08838474238095236, 0.14084703000000018, 0.19786006428571445, 0.08085312504761893, 0.05610833285714277, 0.10016689285714267, 0.1461533055714288, 0.270565866904762, 0.14301340302380935, 0.16220716726190465, 0.2507885109523809, 0.2291981080952377, 0.22438022680952407, 0.16395970928571424, 0.11290811864285702, 0.20598428614285685, 0.1268108929285717, 0.12199809523809527, 0.2417878630952378, 0.14525730635714273, 0.21075077316666704, 0.24362268285714325, 0.17669740209523804, 0.07666226190476183, 0.14476671404761893, 0.26478223571428583, 0.26479202499999993, 0.13325876314285698, 0.29429880928571395, 0.1372371649999999, 0.30830553499999963, 0.13947133283333327, 0.19984779809523845, 0.21145146357142885, 0.13083938288095254, 0.2499213557142853, 0.1831241661428573, 0.19070256000000035, 0.06958517825000007, 0.1921148545476195, 0.11540824571428566, 0.07444404857142874, 0.12032190714285727, 0.07653904669047625, 0.13315740488095248, 0.0689764880714285, 0.09782089057142875, 0.05755348807142848, 0.0832707137142857, 0.067672875, 0.06624892857142865, 0.09830401211904778, 0.10593338142857117, 0.11127428238435372, 0.15307385589285724, 0.13934111166666666, 0.08852842864285715, 0.051174732142857136, 0.1667919640000004, 0.08795952380952372, 0.053410357119047645, 0.09292261885714281, 0.0008539286142857077, 0.0967459039081634, 0.08540714928571413, 0.05608845421428567, 0.10712051785714277, 0.03854122907142858, 0.2132363095238098, 0.12917700228571452, 0.08756084414285709, 0.09197804192857147, 0.07463502328571435, 0.09119639511904759, 0.10063527428571419, 0.06833980957142859, 0.09007664357142862, 0.028342190476190535, 0.1448955964523811, 0.07328364385714274, 0.09379657142857127, 0.1106336607142859, 0.08453499999999989, 0.11077007349999997, 0.1254877294557823, 0.12290173402721098, 0.1063481540476191, -0.07078779826785705, 0.06854139999999997, 0.13271251430952383, 0.14026845221428558, 0.12092380907142837, 0.08208267592857162, 0.13354891333333335, 0.06305494049999995, 0.14331574414285708, 0.16121779952380935, 0.1172448212857146, 0.2981468466666664, -0.0128575, 0.10550425595238103, 0.09905583200000008, 0.11625797664285736, 0.06880754795238082, 0.0897730714285714, 0.08449070202857133, 0.06804619021428585, 0.019286269557823144, 0.03060977914965989, 0.02669547860714289, 0.048474383148809634, 0.04393566952380946, 0.1857557437857145, 0.12183876767857156, 0.15137037978571435, 0.09678315171428585, -0.02693440478571431, 0.04876547594047629, 0.10740110704761914, 0.0027296428571428654, 0.08228659507142867, 0.062479999071428566, 0.059212593465986466, 0.14791404754761894, 0.051132255714285674, 0.04180208307142857, 0.0755204290714285, 0.12051910976190455, 0.06554123814285714, 0.05284559392857135, 0.14169758857142858, 0.08683121452380958, 0.10702559478571423, 0.07400339288095231, 0.1177351173095239, 0.11789110926190467, 0.09895821428571414, 0.09474878588095235, 0.022297856428571405, 0.03394077378571422, 0.08488721428571416, 0.095820952357143, 0.12315095142857153, -0.10051303572857126, 0.12887180949999982, 0.12629634047619068, 0.24293942655, -0.2286045240238092, -0.024979761971428524, -0.09513261900000007, 0.09474357142857137, 0.09747728228571413, 0.02279085714285717, 0.21539864400000028, 0.07881780369047622, 0.3023018899999999, 0.08902532759523821, 0.07036559497857146, 0.0359777946428571, 0.10659506928571412, 0.07623077380714287, 0.14970380478571432, 0.05884098214285708, 0.0642745293571429, 0.09566325000000017, 0.05014076233095244, 0.10727133907142881, 0.11575982947959186, 0.08343228571428565, -0.020142274085714333, 0.10520287785714263, 0.1463005372857142, 0.17729012000000027, 0.06967178414285713, 0.18604541642857145, 6.62142880952548e-05, 0.06332618071428574, 0.142093565357143, 0.06375073380952376, 0.03429148792857143, 0.1950514578690478, 0.2090234665000003, -0.0983800592571431, 0.06656928550000006, 0.037498679817857206, 0.07025850007142859, 0.059887045680272165, 0.12761329764285723, 0.08258298878571432, 0.0691337485, 0.21313349642857096, 0.1005607728333331, 0.1192268101428571, 0.13181389614285716, 0.04485322638571421, 0.06634167271428555, 0.10091690478571422, 0.09289163716666646, 0.2045216670238097, 0.2033849670000003, 0.252954592857143, 0.10937202357142844, 0.06859618650238102, 0.049737404804761826, 0.08273200209523815, 0.1073422142619046, 0.03157655110357144, 0.13702003000000018, 0.06327300977261906, 0.10282224050000026, 0.08531890449999986, 0.24033345514285678, 0.047445080357142816, 0.0517862499999999, 0.17061559500000015, 0.010558392857142895, 0.04821892857142866, 0.06510921092857153, 0.11760077333333319, -0.011447023833333347, 0.009014674425000004, 0.12767688464285737, 0.007189464285714287, 0.10085766539285719, 0.08720369092857146, 0.01955826198571427, 0.0939181260714284, 0.09043821404761912, 0.028797216585714328, 0.08849136689285718, 0.03349446203571429, 0.08562309692857131, 0.0939965458571427, 0.2685010321428571, -0.03724278576904766, 0.04039794642857143, 0.0986609523809524, 0.06626618650952383, 0.0940769942857142, 0.07456553552976176, 0.13800122880952373, 0.06598037333333327, 0.09463646085952375, 0.0006436908928571461, 0.09333630707142873, 0.04514684528571433, 0.029576307428571428, 0.028236285823809507, 0.10178928528571442, 0.019446380878571406, -0.00788583337499999, -0.028265356185714335, -0.09105452385714276, -0.0008556427619047594, -0.057387142571428615, 0.007199134785714288, -0.08961011900000014, 0.0069598810357142755, 0.13904509642857152, -0.07802333328571419, 0.036776372946428625, 0.06014476154761899, 0.03659357157142857, 0.07081904528571425, 0.04892545016666668, 0.1296602068571429, 0.10380419564285737, 0.06723226166666667, -0.003774910714285715, 0.013624900797619034, -0.004850666707142857, -0.03171191628571427, 0.039807083214285624, 0.09742565523809538, 0.04542398785714291, 0.06823871648571422, 0.10021676238095237, 0.019972787428571434, 0.07140854135714292, 0.08910970247619066, 0.07466380735714294, -0.0367115473142857, 0.1255507142857144, 0.09535951785714292, 0.017084122445238097, 0.07036871509353745, 0.1189366617857144, 0.05697672621428578, -0.021865988071428547, 0.09498364285714278, 0.11113621952380941, 0.03285392857142857, 0.021028242880952338, 0.09564914880952372, 0.19896078928571467, 0.040433333071428566, 0.035218987857142864, 0.06791082546547611, -0.0037416071642857145, 0.1259294642857145, 0.10247442715714304, -0.024442379738095224, 0.1052649998571428, 0.13267791671428575, 0.05885253400238092, 0.0488642517006802, 0.04959594071428565, 0.0574091415578231, 0.024899380976190513, 0.07622838097619045, 0.1172064942176869, 0.006592309657142854, 0.034592500142857134, -0.009282143571428555, 0.10232683235714284, 0.07059678571428563, 0.020756103247619076, 0.0695368220000001, 0.008064404214285711, 0.024782107140476194, 0.07012374978571424, 0.13460913664285729, 0.04024396549999991, 0.06627860916428574, 0.09470565450000011, 0.03185702333333334, 0.05313615315714292, 0.05924898764285717, 0.06374587160816317, 0.0025605954285714302, 0.038892855857142895, -0.059355141804761834, -0.011168333292857121, 0.04940005863095228, 0.0597627142857143, 0.03298720237142858, -0.07065103378571426, 0.011138216714285734, -0.1023903690476193, -0.05443250311666661, 0.015241095142857163, 0.026197023857142846, 0.1140792619285713, -0.01136785527551018, -0.030719797928571456, -0.06476732145000001, 0.0911544285714285, 0.03249840478571431, 0.03580392850238092, 0.0634097024285714, 0.05376802385714275, 0.05833764251428574, 0.0270049987642857, 0.0441797916666667, 0.09239961695238082, 0.05594166683333335, 0.09437380928571419, 0.044612797619047705, -0.03896970235714287, 0.02865809521428569, -7.589229999999907e-05, 0.06585965157142849, 0.009839284285714288, 0.06825809519047625, 0.03541649039285714, 0.10266863094285693, -0.023529642857142798, 0.07697791649999992, 0.08019487478571417, -0.0019495240714285703, 0.02522335714285716, 0.1351075000000003, 0.09811061283333321, 0.08813589285714288, -0.09003422632857139, 0.17718226904761916, 0.28326669071428606, 0.3402002485714293, 0.3061498700000002, 0.25031053571428613, 0.18610411940476176, 0.20884000095238073, 0.3049775059523807, 0.22455964357142896, 0.24039536166666692, 0.1471283130000001, 0.07081325000000006, -0.1441310476190477, 0.14552642785714293, 0.10687156000000017, 0.0811863108571427, 0.1525971423571427, 0.11233297592857128, 0.132664068265306, 0.10175214278571434, 0.13724782785714304, 0.11765309597619061, 0.07023185714285722, 0.1632980978571425, 0.21789757392857154, 0.20612458357142835, 0.12018844302721092, 0.1356283329761904, 0.1542470228571426, 0.17918799764285712, 0.11534547621428583, 0.11477074500000006, 0.16724857000000024, 0.28028857142857133, 0.3326489000000004, 0.09212473979591845, 0.190063452857143, 0.17111408526190455, 0.09410788121428554, 0.09613214642857124, 0.12154869000000011, 0.09642052371428582, 0.020816285714285704, 0.04950065475714294, 0.008569303364285736, 0.09415738278571416, 0.027463571428571486, 0.033386904714285716, -0.03652845226428573, 0.16764928809523832, 0.402263302142858, 0.2278730466666667, 0.3478329178571422, 0.09945729846428564, 0.16301882738095264, 0.06604625523809526, 0.04241499999999996, 0.09723259930952376, 0.0733371857380953, 0.05422619066666656, 0.01936597599999999, -0.009512856904761911, -0.011005136378571432, 0.015471404833333336, -0.0347107145, 0.042212857142857094, -0.005090714335714289, 0.05585476285714282, 0.2519697030952381, 0.0993484522857144, 0.007441408630952376, -0.008949048000000041, 0.2522677028571427, -0.006656964288095242, 0.10875458183333317, 0.12824773811904752, 0.05962232142857139, 0.08202238000000023, 0.008908035428571435, 0.03749769156989802, 0.08870976142857125, 0.16556279821428557, 0.21934023807142894, -0.0389605240619048, 0.03761821435714291, 0.04430419642857146, 0.15006107114285713, 0.0698088452857144, 0.1714133807142859, 0.05855985727380957, 0.03745773800000004, -0.02238559545714286, 0.04298065478571433, 0.05714999999999993, 0.04736366276666673, 0.016215178571428568, 0.08329488042857139, 0.15037949619047625, 0.2290445971428575, 0.007332916657142844, -0.0002253557857142841, 0.01011210031632653, 0.15102872400000034, 0.1788072653571431, 0.07166196428571427, 0.048777380928571534, 0.07034649473571433, 0.03661409442857148, -0.0021105240142857196, -0.004530238071428573, -0.06778289283571422, -0.025429581142857146, -0.00421196428571429, 0.012629607261904758, 0.021114682785714264, 0.03438791666428567, 0.07503282509523798, 0.010423511907142852, 0.08069226571428574, 0.061851714285714406, -0.059548325880952345, -0.09215318444387748, -0.003312619047619039, 0.17848434476190456, 0.10118878667142865, -0.007966073057142864, -0.20856898809285707, -0.13606928549999994, -0.057682252892857215, -0.00507642857142857, -0.06448874995238095, -0.15032780928571401, 0.04446934142857141, 0.05989079764285718, 0.03453780052380947, 0.05759254757142867, -0.0031373336904761914, -0.04689975573452383, -0.19793428571428587, -0.008460952385714303, -0.030971867071428592, -0.10164758335714268, 0.03620880902857144, 0.08410875892857134, -0.07427171421428568, 0.05364392857142865, -0.025754583642857116, -0.011702024285714272, -0.03056353564285717, 0.04857880771428576, 0.05048892832857139, -0.12071613083333342, -0.042194880957142904, -0.05613245971428577, 0.089402642142857, 0.03914352385714281, 0.052441904664285714, 0.04602544619999999, 0.06613478553571424, 0.05190113097619056, -0.0038671438095238377, -0.015630357142857154, 0.022775834785714277, -0.004485892857142857, -0.011860040166666686, 0.05806091237857146, 0.05836912495238101, -0.13351707849999986, -0.04608964268809523, 0.01885166666428572, -0.11859595207142874, -0.02010195073571428, -0.007293810071428565, -0.04783214281428577, -0.19141749692857155, -0.06238833478095236, -0.012031686704761908, -0.11212014285714303, 0.04995900561785713, -0.02185904788095242, -0.018085140799319725, -0.21977255971428566, 0.35802678571428614, -0.0008238690000000025, -0.012247063321428563, 0.044946787428571465, -0.01952718846428568, -0.043503333116666605, 0.007216720264285724, 0.023262232142857064, 0.0035724285928571417, -0.00477369047619047, -0.04259378573571434, 0.07889349414285711, -0.006974154580952391, 0.020438976309523803, 0.06568154999999995, -0.02675621428571427, 0.08737982145238103, 0.04983880859285719, 0.07652285714285706, 0.031083988107142878, 0.00780082674489796, 0.07162749949999993, 0.07354505942857127, 0.11735023785714273, 0.019996630885714264, 0.2082434723761908, 0.03494602507142852, -0.11371714909285725, -0.033157380957142775, -0.08968014292857147, -0.06241916659285716, -0.0016186905380952306, 0.026048393000000048, -0.09472736937244908, -0.02361327362142855, -0.002496864428571423, -0.051726310335714364, 0.06520394049999993, -0.06763739894285704, 0.04548540428571429, -0.0531918728571428, -0.02338059976666664, -0.09720880935714281, 0.022587121135714275, -0.08160857142857143, 0.08041202185714282, 0.046786424319727904, 0.0003749883309523799, 0.07202070259523821, 0.06870023476190483, 0.06599329761904758, 0.13089458185714287, 0.017470357214285748, -0.05715916666428563, -0.056986665428571344, -0.03559779792857147, 0.04573750765306122, -0.048641785942857056, -0.010365476142857155, -0.002678134973809537, 0.011109964478571417, -0.013784986418367331, 0.045592857166666646, 0.03408375119047623, 0.02429672571428568, 0.030017023892857164, 0.031055907142857126, 0.03618429764285713, 0.030370988142857134, -0.011674993806122462, -0.05078821457142854, 0.06579690469285718, -0.08948357135714274, -0.014403809566666651, -0.03792916690714283, -0.14212298171428583, -0.010995833626190487, 0.029508190357142774, -0.2396163094999997, 0.1894248571428574, -0.0046181785714285595, -0.11381147907142834, 0.0010408730340136048, 0.010595952238095225, 0.04736297619047615, 0.015991170230952367, -0.009160785928571422, 0.038801428571428515, 0.02221220228571432, 0.10642738047619031, 0.04005696428571429, -0.02432181749999996, -0.016908807209523806, 0.022186309571428607, 0.1616683342857144, 0.04830958350000008, 0.03624930248299321, 0.029004333426190448, -0.09982537478571414, -0.05700176785714276, 0.01491959533333334, 0.047195809547619025, 0.0789537380000001, -0.022426928571428556, 0.00914422035714284, -0.03101244038333338, -0.015838095307142846, 9.382142857142784e-05, 0.07295630340476197, 0.0071558307142857176, -0.20120351190714267, -0.12288273807142851, 0.0715369643547618, 0.023102738154761934, -0.016694843083333317, -0.039733571428571486, 0.16384966648333313, 0.0031690913857142884, 0.10543938592857151, -0.11160160714285726, -0.0851964881428572, 0.16070856747619036, 0.023819820857142866, 0.022527595228571465, 0.0034334526428571373, 0.02858294642857145, 0.017997109285714283, -0.05284890475, 0.05863711309523815, 0.02022553571428569, 0.046115571428571464, -0.01702928571428576, -0.005922142857142848, 0.035304464285714335, -0.014459321259523822, -0.009530595300000019, 0.06822810343197286, 0.19851523714285735, 0.035809347294047604, 0.08816807140476178, -0.004771309523809526, 0.06003827357142866, 0.01550464307142859, 0.07849189285714284, 0.07365029742857139, -0.0025158928571428372, -0.017629647163095213, 0.08353796475000004, 0.04362035738095245, 0.0779270235714286, 0.0779589885714285, -0.1448983333357141, -0.032940642214285734, -0.04598035775238089, -0.09262422660714303, 0.017033119054761896, -0.009101666642857139, -0.08246940478571417, -0.05529976404285707, 0.010480809714285744, -0.1142470843333334, -0.0771613889285715, -0.233859404357143, 0.05180686309523811, 0.02653178484285719, -0.018979761949999976, -0.09280291647380962, -0.001495772357142864], \"yaxis\": \"y\"}],\n",
              "                        {\"autosize\": false, \"height\": 600, \"template\": {\"data\": {\"bar\": [{\"error_x\": {\"color\": \"#2a3f5f\"}, \"error_y\": {\"color\": \"#2a3f5f\"}, \"marker\": {\"line\": {\"color\": \"#E5ECF6\", \"width\": 0.5}}, \"type\": \"bar\"}], \"barpolar\": [{\"marker\": {\"line\": {\"color\": \"#E5ECF6\", \"width\": 0.5}}, \"type\": \"barpolar\"}], \"carpet\": [{\"aaxis\": {\"endlinecolor\": \"#2a3f5f\", \"gridcolor\": \"white\", \"linecolor\": \"white\", \"minorgridcolor\": \"white\", \"startlinecolor\": \"#2a3f5f\"}, \"baxis\": {\"endlinecolor\": \"#2a3f5f\", \"gridcolor\": \"white\", \"linecolor\": \"white\", \"minorgridcolor\": \"white\", \"startlinecolor\": \"#2a3f5f\"}, \"type\": \"carpet\"}], \"choropleth\": [{\"colorbar\": {\"outlinewidth\": 0, \"ticks\": \"\"}, \"type\": \"choropleth\"}], \"contour\": [{\"colorbar\": {\"outlinewidth\": 0, \"ticks\": \"\"}, \"colorscale\": [[0.0, \"#0d0887\"], [0.1111111111111111, \"#46039f\"], [0.2222222222222222, \"#7201a8\"], [0.3333333333333333, \"#9c179e\"], [0.4444444444444444, \"#bd3786\"], [0.5555555555555556, \"#d8576b\"], [0.6666666666666666, \"#ed7953\"], [0.7777777777777778, \"#fb9f3a\"], [0.8888888888888888, \"#fdca26\"], [1.0, \"#f0f921\"]], \"type\": \"contour\"}], \"contourcarpet\": [{\"colorbar\": {\"outlinewidth\": 0, \"ticks\": \"\"}, \"type\": \"contourcarpet\"}], \"heatmap\": [{\"colorbar\": {\"outlinewidth\": 0, \"ticks\": \"\"}, \"colorscale\": [[0.0, \"#0d0887\"], [0.1111111111111111, \"#46039f\"], [0.2222222222222222, \"#7201a8\"], [0.3333333333333333, \"#9c179e\"], [0.4444444444444444, \"#bd3786\"], [0.5555555555555556, \"#d8576b\"], [0.6666666666666666, \"#ed7953\"], [0.7777777777777778, \"#fb9f3a\"], [0.8888888888888888, \"#fdca26\"], [1.0, \"#f0f921\"]], \"type\": \"heatmap\"}], \"heatmapgl\": [{\"colorbar\": {\"outlinewidth\": 0, \"ticks\": \"\"}, \"colorscale\": [[0.0, \"#0d0887\"], [0.1111111111111111, \"#46039f\"], [0.2222222222222222, \"#7201a8\"], [0.3333333333333333, \"#9c179e\"], [0.4444444444444444, \"#bd3786\"], [0.5555555555555556, \"#d8576b\"], [0.6666666666666666, \"#ed7953\"], [0.7777777777777778, \"#fb9f3a\"], [0.8888888888888888, \"#fdca26\"], [1.0, \"#f0f921\"]], \"type\": \"heatmapgl\"}], \"histogram\": [{\"marker\": {\"colorbar\": {\"outlinewidth\": 0, \"ticks\": \"\"}}, \"type\": \"histogram\"}], \"histogram2d\": [{\"colorbar\": {\"outlinewidth\": 0, \"ticks\": \"\"}, \"colorscale\": [[0.0, \"#0d0887\"], [0.1111111111111111, \"#46039f\"], [0.2222222222222222, \"#7201a8\"], [0.3333333333333333, \"#9c179e\"], [0.4444444444444444, \"#bd3786\"], [0.5555555555555556, \"#d8576b\"], [0.6666666666666666, \"#ed7953\"], [0.7777777777777778, \"#fb9f3a\"], [0.8888888888888888, \"#fdca26\"], [1.0, \"#f0f921\"]], \"type\": \"histogram2d\"}], \"histogram2dcontour\": [{\"colorbar\": {\"outlinewidth\": 0, \"ticks\": \"\"}, \"colorscale\": [[0.0, \"#0d0887\"], [0.1111111111111111, \"#46039f\"], [0.2222222222222222, \"#7201a8\"], [0.3333333333333333, \"#9c179e\"], [0.4444444444444444, \"#bd3786\"], [0.5555555555555556, \"#d8576b\"], [0.6666666666666666, \"#ed7953\"], [0.7777777777777778, \"#fb9f3a\"], [0.8888888888888888, \"#fdca26\"], [1.0, \"#f0f921\"]], \"type\": \"histogram2dcontour\"}], \"mesh3d\": [{\"colorbar\": {\"outlinewidth\": 0, \"ticks\": \"\"}, \"type\": \"mesh3d\"}], \"parcoords\": [{\"line\": {\"colorbar\": {\"outlinewidth\": 0, \"ticks\": \"\"}}, \"type\": \"parcoords\"}], \"pie\": [{\"automargin\": true, \"type\": \"pie\"}], \"scatter\": [{\"marker\": {\"colorbar\": {\"outlinewidth\": 0, \"ticks\": \"\"}}, \"type\": \"scatter\"}], \"scatter3d\": [{\"line\": {\"colorbar\": {\"outlinewidth\": 0, \"ticks\": \"\"}}, \"marker\": {\"colorbar\": {\"outlinewidth\": 0, \"ticks\": \"\"}}, \"type\": \"scatter3d\"}], \"scattercarpet\": [{\"marker\": {\"colorbar\": {\"outlinewidth\": 0, \"ticks\": \"\"}}, \"type\": \"scattercarpet\"}], \"scattergeo\": [{\"marker\": {\"colorbar\": {\"outlinewidth\": 0, \"ticks\": \"\"}}, \"type\": \"scattergeo\"}], \"scattergl\": [{\"marker\": {\"colorbar\": {\"outlinewidth\": 0, \"ticks\": \"\"}}, \"type\": \"scattergl\"}], \"scattermapbox\": [{\"marker\": {\"colorbar\": {\"outlinewidth\": 0, \"ticks\": \"\"}}, \"type\": \"scattermapbox\"}], \"scatterpolar\": [{\"marker\": {\"colorbar\": {\"outlinewidth\": 0, \"ticks\": \"\"}}, \"type\": \"scatterpolar\"}], \"scatterpolargl\": [{\"marker\": {\"colorbar\": {\"outlinewidth\": 0, \"ticks\": \"\"}}, \"type\": \"scatterpolargl\"}], \"scatterternary\": [{\"marker\": {\"colorbar\": {\"outlinewidth\": 0, \"ticks\": \"\"}}, \"type\": \"scatterternary\"}], \"surface\": [{\"colorbar\": {\"outlinewidth\": 0, \"ticks\": \"\"}, \"colorscale\": [[0.0, \"#0d0887\"], [0.1111111111111111, \"#46039f\"], [0.2222222222222222, \"#7201a8\"], [0.3333333333333333, \"#9c179e\"], [0.4444444444444444, \"#bd3786\"], [0.5555555555555556, \"#d8576b\"], [0.6666666666666666, \"#ed7953\"], [0.7777777777777778, \"#fb9f3a\"], [0.8888888888888888, \"#fdca26\"], [1.0, \"#f0f921\"]], \"type\": \"surface\"}], \"table\": [{\"cells\": {\"fill\": {\"color\": \"#EBF0F8\"}, \"line\": {\"color\": \"white\"}}, \"header\": {\"fill\": {\"color\": \"#C8D4E3\"}, \"line\": {\"color\": \"white\"}}, \"type\": \"table\"}]}, \"layout\": {\"annotationdefaults\": {\"arrowcolor\": \"#2a3f5f\", \"arrowhead\": 0, \"arrowwidth\": 1}, \"coloraxis\": {\"colorbar\": {\"outlinewidth\": 0, \"ticks\": \"\"}}, \"colorscale\": {\"diverging\": [[0, \"#8e0152\"], [0.1, \"#c51b7d\"], [0.2, \"#de77ae\"], [0.3, \"#f1b6da\"], [0.4, \"#fde0ef\"], [0.5, \"#f7f7f7\"], [0.6, \"#e6f5d0\"], [0.7, \"#b8e186\"], [0.8, \"#7fbc41\"], [0.9, \"#4d9221\"], [1, \"#276419\"]], \"sequential\": [[0.0, \"#0d0887\"], [0.1111111111111111, \"#46039f\"], [0.2222222222222222, \"#7201a8\"], [0.3333333333333333, \"#9c179e\"], [0.4444444444444444, \"#bd3786\"], [0.5555555555555556, \"#d8576b\"], [0.6666666666666666, \"#ed7953\"], [0.7777777777777778, \"#fb9f3a\"], [0.8888888888888888, \"#fdca26\"], [1.0, \"#f0f921\"]], \"sequentialminus\": [[0.0, \"#0d0887\"], [0.1111111111111111, \"#46039f\"], [0.2222222222222222, \"#7201a8\"], [0.3333333333333333, \"#9c179e\"], [0.4444444444444444, \"#bd3786\"], [0.5555555555555556, \"#d8576b\"], [0.6666666666666666, \"#ed7953\"], [0.7777777777777778, \"#fb9f3a\"], [0.8888888888888888, \"#fdca26\"], [1.0, \"#f0f921\"]]}, \"colorway\": [\"#636efa\", \"#EF553B\", \"#00cc96\", \"#ab63fa\", \"#FFA15A\", \"#19d3f3\", \"#FF6692\", \"#B6E880\", \"#FF97FF\", \"#FECB52\"], \"font\": {\"color\": \"#2a3f5f\"}, \"geo\": {\"bgcolor\": \"white\", \"lakecolor\": \"white\", \"landcolor\": \"#E5ECF6\", \"showlakes\": true, \"showland\": true, \"subunitcolor\": \"white\"}, \"hoverlabel\": {\"align\": \"left\"}, \"hovermode\": \"closest\", \"mapbox\": {\"style\": \"light\"}, \"paper_bgcolor\": \"white\", \"plot_bgcolor\": \"#E5ECF6\", \"polar\": {\"angularaxis\": {\"gridcolor\": \"white\", \"linecolor\": \"white\", \"ticks\": \"\"}, \"bgcolor\": \"#E5ECF6\", \"radialaxis\": {\"gridcolor\": \"white\", \"linecolor\": \"white\", \"ticks\": \"\"}}, \"scene\": {\"xaxis\": {\"backgroundcolor\": \"#E5ECF6\", \"gridcolor\": \"white\", \"gridwidth\": 2, \"linecolor\": \"white\", \"showbackground\": true, \"ticks\": \"\", \"zerolinecolor\": \"white\"}, \"yaxis\": {\"backgroundcolor\": \"#E5ECF6\", \"gridcolor\": \"white\", \"gridwidth\": 2, \"linecolor\": \"white\", \"showbackground\": true, \"ticks\": \"\", \"zerolinecolor\": \"white\"}, \"zaxis\": {\"backgroundcolor\": \"#E5ECF6\", \"gridcolor\": \"white\", \"gridwidth\": 2, \"linecolor\": \"white\", \"showbackground\": true, \"ticks\": \"\", \"zerolinecolor\": \"white\"}}, \"shapedefaults\": {\"line\": {\"color\": \"#2a3f5f\"}}, \"ternary\": {\"aaxis\": {\"gridcolor\": \"white\", \"linecolor\": \"white\", \"ticks\": \"\"}, \"baxis\": {\"gridcolor\": \"white\", \"linecolor\": \"white\", \"ticks\": \"\"}, \"bgcolor\": \"#E5ECF6\", \"caxis\": {\"gridcolor\": \"white\", \"linecolor\": \"white\", \"ticks\": \"\"}}, \"title\": {\"x\": 0.05}, \"xaxis\": {\"automargin\": true, \"gridcolor\": \"white\", \"linecolor\": \"white\", \"ticks\": \"\", \"title\": {\"standoff\": 15}, \"zerolinecolor\": \"white\", \"zerolinewidth\": 2}, \"yaxis\": {\"automargin\": true, \"gridcolor\": \"white\", \"linecolor\": \"white\", \"ticks\": \"\", \"title\": {\"standoff\": 15}, \"zerolinecolor\": \"white\", \"zerolinewidth\": 2}}}, \"title\": {\"text\": \"NDVI_NE\"}, \"width\": 1200, \"xaxis\": {\"anchor\": \"y\", \"domain\": [0.0, 1.0]}, \"yaxis\": {\"anchor\": \"x\", \"domain\": [0.0, 1.0]}},\n",
              "                        {\"responsive\": true}\n",
              "                    ).then(function(){\n",
              "                            \n",
              "var gd = document.getElementById('afa64c33-4127-4b02-9864-be5706163ff1');\n",
              "var x = new MutationObserver(function (mutations, observer) {{\n",
              "        var display = window.getComputedStyle(gd).display;\n",
              "        if (!display || display === 'none') {{\n",
              "            console.log([gd, 'removed!']);\n",
              "            Plotly.purge(gd);\n",
              "            observer.disconnect();\n",
              "        }}\n",
              "}});\n",
              "\n",
              "// Listen for the removal of the full notebook cells\n",
              "var notebookContainer = gd.closest('#notebook-container');\n",
              "if (notebookContainer) {{\n",
              "    x.observe(notebookContainer, {childList: true});\n",
              "}}\n",
              "\n",
              "// Listen for the clearing of the current output cell\n",
              "var outputEl = gd.closest('.output');\n",
              "if (outputEl) {{\n",
              "    x.observe(outputEl, {childList: true});\n",
              "}}\n",
              "\n",
              "                        })\n",
              "                };\n",
              "                \n",
              "            </script>\n",
              "        </div>\n",
              "</body>\n",
              "</html>"
            ]
          },
          "metadata": {
            "tags": []
          }
        }
      ]
    },
    {
      "cell_type": "code",
      "metadata": {
        "id": "mTlMlqM6P8Qu"
      },
      "source": [
        ""
      ],
      "execution_count": null,
      "outputs": []
    },
    {
      "cell_type": "markdown",
      "metadata": {
        "id": "H6nZdAbsP8yg"
      },
      "source": [
        "Gradient boosting NDVI"
      ]
    },
    {
      "cell_type": "code",
      "metadata": {
        "colab": {
          "base_uri": "https://localhost:8080/",
          "height": 419
        },
        "id": "uCl7D3swQZY3",
        "outputId": "ba64bbeb-cd25-44fa-f221-d2399b53b842"
      },
      "source": [
        "XX_ndv"
      ],
      "execution_count": 129,
      "outputs": [
        {
          "output_type": "execute_result",
          "data": {
            "text/html": [
              "<div>\n",
              "<style scoped>\n",
              "    .dataframe tbody tr th:only-of-type {\n",
              "        vertical-align: middle;\n",
              "    }\n",
              "\n",
              "    .dataframe tbody tr th {\n",
              "        vertical-align: top;\n",
              "    }\n",
              "\n",
              "    .dataframe thead th {\n",
              "        text-align: right;\n",
              "    }\n",
              "</style>\n",
              "<table border=\"1\" class=\"dataframe\">\n",
              "  <thead>\n",
              "    <tr style=\"text-align: right;\">\n",
              "      <th></th>\n",
              "      <th>ndvi_ne</th>\n",
              "      <th>ndvi_nw</th>\n",
              "      <th>ndvi_se</th>\n",
              "      <th>ndvi_sw</th>\n",
              "      <th>ne_pred</th>\n",
              "      <th>ssz</th>\n",
              "      <th>nw_pred</th>\n",
              "      <th>gradientboosting_total</th>\n",
              "      <th>gradientboosting_ne</th>\n",
              "    </tr>\n",
              "  </thead>\n",
              "  <tbody>\n",
              "    <tr>\n",
              "      <th>0</th>\n",
              "      <td>0.122600</td>\n",
              "      <td>0.103725</td>\n",
              "      <td>0.198483</td>\n",
              "      <td>0.177617</td>\n",
              "      <td>0.105484</td>\n",
              "      <td>0</td>\n",
              "      <td>0.109197</td>\n",
              "      <td>0.091673</td>\n",
              "      <td>0.112488</td>\n",
              "    </tr>\n",
              "    <tr>\n",
              "      <th>1</th>\n",
              "      <td>0.169900</td>\n",
              "      <td>0.142175</td>\n",
              "      <td>0.162357</td>\n",
              "      <td>0.155486</td>\n",
              "      <td>0.149980</td>\n",
              "      <td>1</td>\n",
              "      <td>0.138046</td>\n",
              "      <td>0.130928</td>\n",
              "      <td>0.163878</td>\n",
              "    </tr>\n",
              "    <tr>\n",
              "      <th>2</th>\n",
              "      <td>0.032250</td>\n",
              "      <td>0.172967</td>\n",
              "      <td>0.157200</td>\n",
              "      <td>0.170843</td>\n",
              "      <td>0.088385</td>\n",
              "      <td>2</td>\n",
              "      <td>0.125550</td>\n",
              "      <td>0.130773</td>\n",
              "      <td>0.027707</td>\n",
              "    </tr>\n",
              "    <tr>\n",
              "      <th>3</th>\n",
              "      <td>0.128633</td>\n",
              "      <td>0.245067</td>\n",
              "      <td>0.227557</td>\n",
              "      <td>0.235886</td>\n",
              "      <td>0.140847</td>\n",
              "      <td>3</td>\n",
              "      <td>0.214726</td>\n",
              "      <td>0.153834</td>\n",
              "      <td>0.129368</td>\n",
              "    </tr>\n",
              "    <tr>\n",
              "      <th>4</th>\n",
              "      <td>0.196200</td>\n",
              "      <td>0.262200</td>\n",
              "      <td>0.251200</td>\n",
              "      <td>0.247340</td>\n",
              "      <td>0.197860</td>\n",
              "      <td>4</td>\n",
              "      <td>0.236952</td>\n",
              "      <td>0.196546</td>\n",
              "      <td>0.192012</td>\n",
              "    </tr>\n",
              "    <tr>\n",
              "      <th>...</th>\n",
              "      <td>...</td>\n",
              "      <td>...</td>\n",
              "      <td>...</td>\n",
              "      <td>...</td>\n",
              "      <td>...</td>\n",
              "      <td>...</td>\n",
              "      <td>...</td>\n",
              "      <td>...</td>\n",
              "      <td>...</td>\n",
              "    </tr>\n",
              "    <tr>\n",
              "      <th>930</th>\n",
              "      <td>0.044900</td>\n",
              "      <td>0.024450</td>\n",
              "      <td>0.101629</td>\n",
              "      <td>0.088000</td>\n",
              "      <td>0.051807</td>\n",
              "      <td>930</td>\n",
              "      <td>0.029249</td>\n",
              "      <td>0.038819</td>\n",
              "      <td>0.049540</td>\n",
              "    </tr>\n",
              "    <tr>\n",
              "      <th>931</th>\n",
              "      <td>0.077850</td>\n",
              "      <td>-0.039900</td>\n",
              "      <td>0.310471</td>\n",
              "      <td>0.296243</td>\n",
              "      <td>0.026532</td>\n",
              "      <td>931</td>\n",
              "      <td>-0.002673</td>\n",
              "      <td>-0.003176</td>\n",
              "      <td>0.079571</td>\n",
              "    </tr>\n",
              "    <tr>\n",
              "      <th>932</th>\n",
              "      <td>-0.038000</td>\n",
              "      <td>-0.016833</td>\n",
              "      <td>0.119371</td>\n",
              "      <td>0.066386</td>\n",
              "      <td>-0.018980</td>\n",
              "      <td>932</td>\n",
              "      <td>-0.015736</td>\n",
              "      <td>0.001366</td>\n",
              "      <td>-0.028232</td>\n",
              "    </tr>\n",
              "    <tr>\n",
              "      <th>933</th>\n",
              "      <td>-0.155200</td>\n",
              "      <td>-0.052750</td>\n",
              "      <td>0.137757</td>\n",
              "      <td>0.141214</td>\n",
              "      <td>-0.092803</td>\n",
              "      <td>933</td>\n",
              "      <td>-0.031885</td>\n",
              "      <td>-0.074769</td>\n",
              "      <td>-0.149688</td>\n",
              "    </tr>\n",
              "    <tr>\n",
              "      <th>935</th>\n",
              "      <td>-0.037000</td>\n",
              "      <td>-0.010367</td>\n",
              "      <td>0.077314</td>\n",
              "      <td>0.090586</td>\n",
              "      <td>-0.001496</td>\n",
              "      <td>935</td>\n",
              "      <td>0.009453</td>\n",
              "      <td>0.009498</td>\n",
              "      <td>-0.031517</td>\n",
              "    </tr>\n",
              "  </tbody>\n",
              "</table>\n",
              "<p>727 rows × 9 columns</p>\n",
              "</div>"
            ],
            "text/plain": [
              "      ndvi_ne   ndvi_nw  ...  gradientboosting_total  gradientboosting_ne\n",
              "0    0.122600  0.103725  ...                0.091673             0.112488\n",
              "1    0.169900  0.142175  ...                0.130928             0.163878\n",
              "2    0.032250  0.172967  ...                0.130773             0.027707\n",
              "3    0.128633  0.245067  ...                0.153834             0.129368\n",
              "4    0.196200  0.262200  ...                0.196546             0.192012\n",
              "..        ...       ...  ...                     ...                  ...\n",
              "930  0.044900  0.024450  ...                0.038819             0.049540\n",
              "931  0.077850 -0.039900  ...               -0.003176             0.079571\n",
              "932 -0.038000 -0.016833  ...                0.001366            -0.028232\n",
              "933 -0.155200 -0.052750  ...               -0.074769            -0.149688\n",
              "935 -0.037000 -0.010367  ...                0.009498            -0.031517\n",
              "\n",
              "[727 rows x 9 columns]"
            ]
          },
          "metadata": {
            "tags": []
          },
          "execution_count": 129
        }
      ]
    },
    {
      "cell_type": "code",
      "metadata": {
        "colab": {
          "base_uri": "https://localhost:8080/"
        },
        "id": "L1VLK2ZFPvD_",
        "outputId": "52e1c6c3-42ca-4c3b-8787-769397067ce6"
      },
      "source": [
        "ne_regressor=GradientBoostingRegressor(n_estimators=3900,verbose=1)\n",
        "X_ndv=XX_ndv[XX_ndv.index<800]\n",
        "X_ndv_test=XX_ndv[XX_ndv.index>=800]\n",
        "\n",
        "ndv_features=[\"ndvi_nw\",\"ndvi_se\",\"ndvi_sw\"]\n",
        "yy=X_ndv[['ndvi_ne']]\n",
        "\n",
        "ne_regressor.fit(X_ndv[ndv_features],yy)\n",
        "y_pred=ne_regressor.predict(X_ndv[ndv_features])\n",
        "X_ndv[\"gradientboosting_ne\"]=y_pred\n",
        "\n",
        "y_pred=ne_regressor.predict(X_ndv_test[ndv_features])\n",
        "X_ndv_test[\"gradientboosting_ne\"]=y_pred\n",
        "\n"
      ],
      "execution_count": 138,
      "outputs": [
        {
          "output_type": "stream",
          "text": [
            "/usr/local/lib/python3.7/dist-packages/sklearn/ensemble/_gb.py:1454: DataConversionWarning:\n",
            "\n",
            "A column-vector y was passed when a 1d array was expected. Please change the shape of y to (n_samples, ), for example using ravel().\n",
            "\n"
          ],
          "name": "stderr"
        },
        {
          "output_type": "stream",
          "text": [
            "      Iter       Train Loss   Remaining Time \n",
            "         1           0.0099            5.94s\n",
            "         2           0.0090            5.89s\n",
            "         3           0.0083            5.48s\n",
            "         4           0.0077            5.51s\n",
            "         5           0.0072            5.32s\n",
            "         6           0.0068            5.19s\n",
            "         7           0.0064            5.22s\n",
            "         8           0.0061            5.13s\n",
            "         9           0.0059            5.16s\n",
            "        10           0.0057            5.10s\n",
            "        20           0.0047            4.16s\n",
            "        30           0.0041            4.03s\n",
            "        40           0.0037            3.87s\n",
            "        50           0.0035            3.77s\n",
            "        60           0.0032            3.69s\n",
            "        70           0.0030            3.64s\n",
            "        80           0.0029            3.59s\n",
            "        90           0.0027            3.55s\n",
            "       100           0.0026            3.52s\n",
            "       200           0.0016            3.22s\n",
            "       300           0.0011            3.19s\n",
            "       400           0.0007            3.06s\n",
            "       500           0.0005            2.93s\n",
            "       600           0.0003            2.85s\n",
            "       700           0.0002            2.76s\n",
            "       800           0.0002            2.68s\n",
            "       900           0.0001            2.62s\n",
            "      1000           0.0001            2.55s\n",
            "      2000           0.0000            1.63s\n",
            "      3000           0.0000            0.77s\n"
          ],
          "name": "stdout"
        },
        {
          "output_type": "stream",
          "text": [
            "/usr/local/lib/python3.7/dist-packages/ipykernel_launcher.py:10: SettingWithCopyWarning:\n",
            "\n",
            "\n",
            "A value is trying to be set on a copy of a slice from a DataFrame.\n",
            "Try using .loc[row_indexer,col_indexer] = value instead\n",
            "\n",
            "See the caveats in the documentation: https://pandas.pydata.org/pandas-docs/stable/user_guide/indexing.html#returning-a-view-versus-a-copy\n",
            "\n",
            "/usr/local/lib/python3.7/dist-packages/ipykernel_launcher.py:13: SettingWithCopyWarning:\n",
            "\n",
            "\n",
            "A value is trying to be set on a copy of a slice from a DataFrame.\n",
            "Try using .loc[row_indexer,col_indexer] = value instead\n",
            "\n",
            "See the caveats in the documentation: https://pandas.pydata.org/pandas-docs/stable/user_guide/indexing.html#returning-a-view-versus-a-copy\n",
            "\n"
          ],
          "name": "stderr"
        }
      ]
    },
    {
      "cell_type": "code",
      "metadata": {
        "id": "le5_iY7u6DxT",
        "colab": {
          "base_uri": "https://localhost:8080/",
          "height": 1000
        },
        "outputId": "c61751e8-5119-497c-bafc-2f1d84b426ab"
      },
      "source": [
        "grafikon(X_ndv,\"ssz\",\"ndvi_ne\",\"ndvi_ne\",\"gradientboosting_ne\",\"gradientboosting_ne\",ngraf=2,title=\"gradientboosting_ne\")\n",
        "grafikon(X_ndv_test,\"ssz\",\"ndvi_ne\",\"ndvi_ne\",\"gradientboosting_ne\",\"gradientboosting_ne\",ngraf=2,title=\"gradientboosting_ne\")\n"
      ],
      "execution_count": 139,
      "outputs": [
        {
          "output_type": "display_data",
          "data": {
            "text/html": [
              "<html>\n",
              "<head><meta charset=\"utf-8\" /></head>\n",
              "<body>\n",
              "    <div>\n",
              "            <script src=\"https://cdnjs.cloudflare.com/ajax/libs/mathjax/2.7.5/MathJax.js?config=TeX-AMS-MML_SVG\"></script><script type=\"text/javascript\">if (window.MathJax) {MathJax.Hub.Config({SVG: {font: \"STIX-Web\"}});}</script>\n",
              "                <script type=\"text/javascript\">window.PlotlyConfig = {MathJaxConfig: 'local'};</script>\n",
              "        <script src=\"https://cdn.plot.ly/plotly-latest.min.js\"></script>    \n",
              "            <div id=\"f5c7af83-140f-49f4-ae16-2cfac6e1da3a\" class=\"plotly-graph-div\" style=\"height:600px; width:1200px;\"></div>\n",
              "            <script type=\"text/javascript\">\n",
              "                \n",
              "                    window.PLOTLYENV=window.PLOTLYENV || {};\n",
              "                    \n",
              "                if (document.getElementById(\"f5c7af83-140f-49f4-ae16-2cfac6e1da3a\")) {\n",
              "                    Plotly.newPlot(\n",
              "                        'f5c7af83-140f-49f4-ae16-2cfac6e1da3a',\n",
              "                        [{\"line\": {\"color\": \"rgba(35,128,132,0.8)\"}, \"name\": \"ndvi_ne\", \"showlegend\": true, \"type\": \"scatter\", \"x\": [0, 1, 2, 3, 4, 6, 7, 8, 10, 11, 12, 16, 17, 18, 19, 20, 21, 22, 23, 25, 26, 27, 28, 29, 30, 31, 32, 33, 34, 35, 38, 39, 40, 41, 43, 44, 46, 47, 48, 49, 50, 52, 53, 55, 56, 57, 58, 59, 60, 64, 66, 68, 69, 70, 71, 72, 73, 74, 75, 76, 77, 78, 79, 80, 81, 82, 83, 84, 86, 88, 89, 90, 92, 97, 98, 100, 101, 102, 103, 104, 105, 106, 107, 109, 110, 111, 112, 113, 115, 116, 117, 118, 119, 120, 121, 123, 124, 125, 126, 127, 128, 129, 130, 131, 132, 133, 134, 135, 136, 138, 140, 141, 143, 144, 145, 146, 148, 149, 150, 151, 152, 154, 155, 157, 158, 159, 160, 161, 164, 165, 166, 167, 168, 169, 171, 172, 173, 174, 175, 176, 177, 178, 179, 180, 182, 184, 185, 186, 187, 189, 190, 192, 193, 194, 195, 196, 197, 198, 201, 202, 203, 204, 205, 206, 208, 209, 210, 211, 212, 213, 214, 216, 217, 218, 219, 220, 221, 223, 224, 225, 226, 227, 243, 244, 246, 247, 249, 251, 252, 253, 254, 255, 256, 259, 260, 262, 263, 264, 266, 267, 268, 269, 270, 272, 274, 275, 276, 277, 278, 279, 280, 281, 282, 283, 284, 285, 287, 288, 289, 290, 292, 293, 295, 296, 297, 298, 299, 300, 301, 303, 305, 306, 308, 309, 310, 312, 313, 315, 316, 317, 318, 319, 320, 322, 323, 324, 325, 327, 329, 330, 331, 333, 334, 335, 337, 338, 339, 340, 343, 346, 347, 349, 350, 351, 352, 353, 354, 358, 359, 361, 362, 363, 364, 365, 366, 367, 368, 369, 370, 371, 372, 373, 374, 375, 377, 378, 379, 381, 382, 383, 384, 385, 386, 387, 388, 392, 394, 395, 398, 400, 401, 402, 403, 404, 405, 407, 408, 410, 412, 413, 414, 415, 416, 419, 420, 421, 422, 423, 424, 425, 426, 427, 428, 429, 430, 431, 432, 433, 434, 435, 437, 438, 441, 442, 444, 446, 447, 448, 449, 450, 453, 454, 455, 458, 459, 460, 461, 462, 463, 464, 466, 467, 468, 469, 473, 474, 478, 479, 480, 481, 482, 484, 485, 487, 488, 489, 490, 491, 492, 495, 496, 497, 498, 499, 501, 502, 503, 504, 505, 506, 507, 508, 510, 512, 513, 514, 515, 517, 518, 519, 520, 521, 523, 524, 525, 526, 527, 528, 529, 530, 531, 532, 533, 534, 535, 536, 537, 539, 540, 541, 543, 544, 545, 546, 547, 548, 549, 551, 552, 553, 554, 555, 556, 558, 559, 561, 562, 563, 564, 565, 566, 568, 570, 573, 574, 575, 576, 577, 579, 580, 581, 582, 583, 584, 585, 586, 587, 588, 590, 591, 592, 593, 594, 595, 597, 598, 599, 600, 601, 602, 603, 604, 605, 606, 607, 608, 609, 610, 612, 613, 614, 615, 616, 617, 618, 619, 620, 621, 623, 624, 625, 626, 627, 628, 629, 633, 634, 636, 637, 638, 639, 640, 641, 642, 643, 645, 646, 647, 649, 650, 651, 652, 654, 655, 656, 657, 658, 659, 660, 661, 662, 663, 664, 666, 667, 668, 669, 670, 671, 672, 673, 675, 676, 677, 678, 680, 682, 683, 684, 685, 687, 688, 689, 690, 691, 692, 695, 696, 697, 699, 700, 701, 702, 704, 705, 706, 707, 708, 709, 710, 712, 714, 715, 717, 718, 719, 720, 721, 723, 725, 726, 730, 731, 732, 733, 734, 735, 736, 738, 739, 740, 741, 742, 743, 744, 745, 746, 747, 750, 751, 753, 754, 755, 756, 757, 758, 759, 760, 761, 762, 764, 765, 766, 767, 768, 769, 771, 772, 774, 775, 777, 778, 779, 781, 782, 784, 785, 786, 787, 789, 790, 791, 792, 793, 794, 796, 797, 799], \"xaxis\": \"x\", \"y\": [0.1226, 0.1699, 0.03225, 0.1286333, 0.1962, 0.1129, 0.0725, 0.10245, 0.192875, 0.2916, 0.15056670000000003, 0.1902333, 0.2529, 0.2354, 0.1279667, 0.19635, 0.1161, 0.22855, 0.17115, 0.1462, 0.25225, 0.1526, 0.2908, 0.2722, 0.13676670000000002, 0.1098, 0.12135, 0.2931333, 0.3025, 0.1465, 0.3313, 0.0917, 0.3801, 0.0712, 0.1702, 0.21075, 0.1279, 0.28035, 0.1691, 0.1765, 0.0774, 0.20916669999999998, 0.11595, 0.0669, 0.1401, 0.08585, 0.1091, 0.0596, 0.07965, 0.0801, 0.07315, 0.0569, 0.0693, 0.10805, 0.10475, 0.1098, 0.1676, 0.1291, 0.09300000000000001, 0.0137, 0.1944, 0.094, 0.0544, 0.0954, 0.00825, 0.08786667, 0.0802, -0.02665, 0.12355, 0.10083330000000001, 0.2224, 0.12253330000000001, 0.1016, 0.08685, 0.05305, 0.09995, 0.1039, 0.07515, 0.0922, 0.0125, 0.10875, 0.101875, 0.1024, 0.12165, 0.08395, 0.10445, 0.1302, 0.1194, 0.11199999999999999, -0.1396, 0.0539, 0.152675, 0.16395, 0.1146, 0.0875, 0.123975, 0.0519, 0.1435, 0.1972, 0.137225, 0.3371, -0.0156, 0.1242, 0.0866, 0.11800000000000001, 0.0764, 0.0971, 0.1083, 0.0547, -0.01008, 0.02835, 0.03006667, 0.06613333, 0.047425, 0.2738, 0.11086669999999998, 0.1744667, 0.09403333, -0.0411, 0.03225, 0.1194, -0.0158, 0.0828, 0.07965, 0.07305, 0.1769, 0.01645, 0.00305, 0.0374, 0.1237667, 0.0689, 0.0375, 0.1204, 0.08285, 0.1016, 0.0969, 0.10885, 0.0979, 0.1121, 0.1199, 0.0054, 0.034, 0.1213, 0.1317, 0.11699999999999999, -0.1589, 0.17315, 0.1071, 0.3572667, -0.2902, -0.0237, -0.1209, 0.1435, 0.0741, 0.0912, 0.2588, 0.0882, 0.3633, 0.1125, 0.1468, 0.0412, 0.0978, 0.10800000000000001, 0.16435, 0.0805, 0.0652, 0.1111, 0.0742, 0.1178, 0.1097, 0.08005, -0.0323, 0.12526669999999998, 0.12325, 0.1396, 0.0424, 0.183, 0.04465, 0.06666667, 0.1564, 0.02185, 0.04585, 0.2438, 0.223075, -0.1193, 0.05175, 0.03233333, 0.0935, 0.07355, 0.14535, 0.0739, 0.031, 0.19862, 0.1017, 0.1281, 0.14345, 0.0363, 0.0322, 0.15495, 0.08955, 0.22135, 0.2319333, 0.3093, 0.1175, 0.0632, 0.047, 0.08396667, 0.1131, 0.0326, 0.1071, 0.0568, 0.11863330000000001, 0.1068, 0.2808, 0.040825, 0.033625, 0.2346, 0.0174, 0.0406, 0.0334, 0.1154, -0.0139, 0.013999999999999999, 0.1514333, 0.0149, 0.0958, 0.0627, 0.02765, 0.06895, 0.076, 0.03786667, 0.07713333, 0.0448, 0.0497, 0.08893333, 0.3144667, -0.0464, 0.0339, 0.09985, 0.0529, 0.0986, 0.07125, 0.16555, 0.05763333, 0.1121, 0.0038, 0.09683333, 0.0795, 0.01203333, 0.0364, 0.1043, 0.04044, -0.0385, -0.0066, -0.0969, 0.00525, -0.05675, -0.03006667, -0.1171, 0.0214, 0.15263329999999997, -0.1459, 0.0495, 0.0451, 0.04245, 0.0455, 0.0297, 0.1409, 0.11245, 0.0602, 0.033075, 0.0388, -0.0035, -0.0597, 0.1019, 0.0798, 0.0235, 0.0557, 0.1197, 0.0108, 0.0749, 0.1012, 0.0883, -0.0562, 0.1393, 0.0981, 0.008933333, 0.06065, 0.1072, 0.03495, -0.049, 0.12258, 0.1123, 0.0019, -0.01515, 0.0695, 0.2192, 0.0568, 0.0663, 0.05076667, -0.01615, 0.1797, 0.13155, -0.0479, 0.11825, 0.1545, 0.06366667, 0.0604, 0.0672, 0.048, 0.0308, 0.0671, 0.1063, -0.003, 0.0484, -0.0427, 0.12125, 0.0725, 0.03745, 0.0715, -0.03095, 0.0289, 0.0554, 0.14065, 0.02866667, 0.05346667, 0.1072, 0.0307, 0.0388, 0.07465, 0.05085, -0.0022, 0.0213, -0.0359, 0.0038666670000000003, 0.0501, 0.05675, 0.0619, -0.08216667, 0.06056667, -0.1399, -0.0698, 0.0535, 0.0263, 0.12905, -0.0509, -0.071225, -0.10475, 0.135, 0.0541, 0.0341, 0.0869, 0.07295, 0.064, 0.04023333, 0.0499, 0.09746667, 0.0545, 0.1169, 0.0101, -0.07305, 0.01015, -0.01465, 0.087, -0.0121, 0.08305, 0.05016667, 0.1322, -0.0864, 0.06275, 0.1235, -0.0454, 0.0005, 0.1536, 0.10558, 0.1088, -0.1336, 0.20635, 0.337, 0.353, 0.3419, 0.29455, 0.19316670000000002, 0.17025, 0.3779, 0.2311, 0.2204, 0.2050333, 0.07435, -0.287, 0.1544, 0.1302, 0.0865, 0.1882, 0.0849, 0.1459, 0.1097, 0.1431, 0.11045, 0.0812, 0.17185, 0.22305, 0.1667, 0.13025, 0.14415, 0.17645, 0.2156667, 0.1591, 0.0577, 0.1961, 0.253975, 0.38, 0.10035, 0.1535, 0.19015, 0.11056669999999999, 0.0979, 0.12015, 0.11875, 0.0044, 0.0632, 0.0048333329999999996, 0.09436667, 0.0411, 0.00915, -0.04485, 0.2170333, 0.4462667, 0.2485, 0.4229, 0.1274333, 0.2127, 0.0728, 0.0371, 0.1031, 0.08607999999999999, 0.0619, 0.0312, -0.02865, 0.02185, -0.0227, -0.0817, 0.0073, -0.0198, 0.0287, 0.2467, 0.08985, 0.0172, -0.0273, 0.1954, -0.0412, 0.0986, 0.16025, 0.0633, -0.0141, -0.01935, 0.0284, 0.0941, 0.1663, 0.21515, -0.0468, 0.0081, 0.02285, 0.1814, 0.05475, 0.106425, 0.0594, 0.0288, -0.0674, 0.0491, 0.0478, 0.0315, 0.042, 0.0709, 0.1535, 0.1777, -0.0056, -0.0263, -0.0176, 0.1506, 0.19375, 0.1138, 0.03345, 0.05325, 0.04185, -0.009666667, -0.02455, -0.07045, -0.0836, -0.0006, 0.0001, 0.0776, 0.0009, 0.0895, 0.033, 0.0541, 0.07375, -0.05385, -0.1115, 0.00735, 0.2614, 0.14783329999999997, -0.005633333000000001, -0.2439, -0.1743, -0.043, 0.0358, -0.07195, -0.2, 0.0466, 0.053739999999999996, 0.0214, 0.0567, 0.0015, -0.03046667, -0.20635, 0.02535, -0.05203333, -0.1169, 0.0925, 0.12815, -0.078, 0.0681, -0.0477, 0.01485, -0.0457, 0.05063333, 0.0675, -0.1798, -0.0853, -0.05675, 0.1045, 0.04995, 0.0785, 0.0348, 0.0726, 0.09445, -0.0939, -0.0874, 0.0204, 0.0161, -0.0416, 0.0892, 0.06925, -0.21795, -0.07015, -0.00305, -0.1476, -0.03753333, 0.02085, -0.0731, -0.18635, -0.0535, -0.0423, -0.1567, 0.05716667, -0.0638, -0.0505, -0.40625, 0.4934, 0.0061, -0.0904, 0.05286667, -0.02563333, -0.07055, 0.0218, 0.017425, 0.0101, -0.0267, -0.0529, 0.0674, -0.0117, 0.0058, 0.0374, -0.0164, 0.0996, 0.0414, 0.1076, 0.033475, -0.0168, 0.0969, 0.0802, 0.1337, 0.0199, 0.3274, 0.0435, -0.1613, -0.0039, -0.15165, -0.1261, 0.0079, 0.02435, -0.11183330000000001, -0.0479, 0.0442, -0.08175, 0.1083, -0.10366669999999999, 0.0644, -0.044000000000000004, 0.0045, -0.1235, 0.01683333, -0.1362, 0.06313333, 0.0476, -0.0143, 0.0606, 0.0449, 0.0892, 0.0854, 0.0514, -0.0665, -0.1087, -0.06475, 0.0479, -0.1224, 0.0022], \"yaxis\": \"y\"}, {\"line\": {\"color\": \"rgba(193,99,99,0.8)\"}, \"name\": \"gradientboosting_ne\", \"showlegend\": true, \"type\": \"scatter\", \"x\": [0, 1, 2, 3, 4, 6, 7, 8, 10, 11, 12, 16, 17, 18, 19, 20, 21, 22, 23, 25, 26, 27, 28, 29, 30, 31, 32, 33, 34, 35, 38, 39, 40, 41, 43, 44, 46, 47, 48, 49, 50, 52, 53, 55, 56, 57, 58, 59, 60, 64, 66, 68, 69, 70, 71, 72, 73, 74, 75, 76, 77, 78, 79, 80, 81, 82, 83, 84, 86, 88, 89, 90, 92, 97, 98, 100, 101, 102, 103, 104, 105, 106, 107, 109, 110, 111, 112, 113, 115, 116, 117, 118, 119, 120, 121, 123, 124, 125, 126, 127, 128, 129, 130, 131, 132, 133, 134, 135, 136, 138, 140, 141, 143, 144, 145, 146, 148, 149, 150, 151, 152, 154, 155, 157, 158, 159, 160, 161, 164, 165, 166, 167, 168, 169, 171, 172, 173, 174, 175, 176, 177, 178, 179, 180, 182, 184, 185, 186, 187, 189, 190, 192, 193, 194, 195, 196, 197, 198, 201, 202, 203, 204, 205, 206, 208, 209, 210, 211, 212, 213, 214, 216, 217, 218, 219, 220, 221, 223, 224, 225, 226, 227, 243, 244, 246, 247, 249, 251, 252, 253, 254, 255, 256, 259, 260, 262, 263, 264, 266, 267, 268, 269, 270, 272, 274, 275, 276, 277, 278, 279, 280, 281, 282, 283, 284, 285, 287, 288, 289, 290, 292, 293, 295, 296, 297, 298, 299, 300, 301, 303, 305, 306, 308, 309, 310, 312, 313, 315, 316, 317, 318, 319, 320, 322, 323, 324, 325, 327, 329, 330, 331, 333, 334, 335, 337, 338, 339, 340, 343, 346, 347, 349, 350, 351, 352, 353, 354, 358, 359, 361, 362, 363, 364, 365, 366, 367, 368, 369, 370, 371, 372, 373, 374, 375, 377, 378, 379, 381, 382, 383, 384, 385, 386, 387, 388, 392, 394, 395, 398, 400, 401, 402, 403, 404, 405, 407, 408, 410, 412, 413, 414, 415, 416, 419, 420, 421, 422, 423, 424, 425, 426, 427, 428, 429, 430, 431, 432, 433, 434, 435, 437, 438, 441, 442, 444, 446, 447, 448, 449, 450, 453, 454, 455, 458, 459, 460, 461, 462, 463, 464, 466, 467, 468, 469, 473, 474, 478, 479, 480, 481, 482, 484, 485, 487, 488, 489, 490, 491, 492, 495, 496, 497, 498, 499, 501, 502, 503, 504, 505, 506, 507, 508, 510, 512, 513, 514, 515, 517, 518, 519, 520, 521, 523, 524, 525, 526, 527, 528, 529, 530, 531, 532, 533, 534, 535, 536, 537, 539, 540, 541, 543, 544, 545, 546, 547, 548, 549, 551, 552, 553, 554, 555, 556, 558, 559, 561, 562, 563, 564, 565, 566, 568, 570, 573, 574, 575, 576, 577, 579, 580, 581, 582, 583, 584, 585, 586, 587, 588, 590, 591, 592, 593, 594, 595, 597, 598, 599, 600, 601, 602, 603, 604, 605, 606, 607, 608, 609, 610, 612, 613, 614, 615, 616, 617, 618, 619, 620, 621, 623, 624, 625, 626, 627, 628, 629, 633, 634, 636, 637, 638, 639, 640, 641, 642, 643, 645, 646, 647, 649, 650, 651, 652, 654, 655, 656, 657, 658, 659, 660, 661, 662, 663, 664, 666, 667, 668, 669, 670, 671, 672, 673, 675, 676, 677, 678, 680, 682, 683, 684, 685, 687, 688, 689, 690, 691, 692, 695, 696, 697, 699, 700, 701, 702, 704, 705, 706, 707, 708, 709, 710, 712, 714, 715, 717, 718, 719, 720, 721, 723, 725, 726, 730, 731, 732, 733, 734, 735, 736, 738, 739, 740, 741, 742, 743, 744, 745, 746, 747, 750, 751, 753, 754, 755, 756, 757, 758, 759, 760, 761, 762, 764, 765, 766, 767, 768, 769, 771, 772, 774, 775, 777, 778, 779, 781, 782, 784, 785, 786, 787, 789, 790, 791, 792, 793, 794, 796, 797, 799], \"xaxis\": \"x\", \"y\": [0.1222690629609107, 0.17020698118054708, 0.03275081751904981, 0.12844185182620546, 0.19626286272323196, 0.11257995906596922, 0.0730882556863172, 0.10238880952649417, 0.19235854744949743, 0.29153384653757497, 0.15027879070753108, 0.189801476762884, 0.2530095409208606, 0.23569262553296094, 0.12799833321242587, 0.19637435417036317, 0.11609271317320663, 0.22784052632066726, 0.17078759425201237, 0.14567957363990625, 0.2520708642657638, 0.1529864453336756, 0.29038096077714703, 0.27216869957076273, 0.1369113667751353, 0.10972065251282487, 0.12136699430952151, 0.29310195499727376, 0.302184771146964, 0.14658187302982567, 0.33146295076549886, 0.09178492603752568, 0.38010442220086543, 0.07155587819948105, 0.1704534617612095, 0.21089090155882065, 0.12817772246593215, 0.2801748170389068, 0.16891005603946774, 0.17649043509501844, 0.07716937825319953, 0.20861021414595154, 0.1158367054451433, 0.06706352347330921, 0.13980389338977098, 0.0858837232755457, 0.10864121212074218, 0.059972038783999, 0.0798173668465359, 0.08004636494478362, 0.07353391421557041, 0.05660089937927142, 0.0693825153556831, 0.10799352489760725, 0.10483544478200534, 0.10964918644350626, 0.16716349736359287, 0.1289637982772514, 0.09242048404537022, 0.014209860965268847, 0.19405846230334323, 0.09368379359384549, 0.054323889168962546, 0.09588880668708155, 0.008203705491364087, 0.0878646261249524, 0.07973227015474361, -0.02628576955441372, 0.12380955707146321, 0.10035412833174062, 0.22222812551358367, 0.12279659732006797, 0.1013769658873779, 0.08704615535896555, 0.05363715338637713, 0.10010695213179108, 0.1036483332556882, 0.07499064340410123, 0.09186399046454183, 0.012451908728184325, 0.10921363105050488, 0.10159451817448252, 0.10237175275951996, 0.12150340928814199, 0.08434214190644451, 0.10457801868952989, 0.12984366245565396, 0.12013527032203633, 0.11177234064934735, -0.1391021177155921, 0.05442459207855932, 0.15212776623039728, 0.16355736538245932, 0.1144633245405532, 0.08758471455389746, 0.12393163287867827, 0.05148346657395039, 0.14310088511388439, 0.19723480102478919, 0.13720796467901694, 0.33711172544164747, -0.015376410177189739, 0.12396404300417958, 0.08640121012898726, 0.11813000242209, 0.07660539499566581, 0.09684239744998067, 0.10838324578572486, 0.05468427718635868, -0.010058079550821955, 0.02831592055288402, 0.02960180475380911, 0.06586089346223882, 0.04766463305550044, 0.2734632097167811, 0.1111002747933599, 0.1742475547850486, 0.09397141558148882, -0.040680235125287886, 0.03204325947279908, 0.11902391906304628, -0.015651628703291526, 0.08303461186799344, 0.07910310417599954, 0.07278809555397028, 0.17649057743132793, 0.016288560142370095, 0.003593550150045528, 0.038351583362395206, 0.1240662004164966, 0.06866483386714547, 0.03784933539011407, 0.12037423311550918, 0.08313660476441087, 0.10147061995186382, 0.09637778080776085, 0.10885057594015969, 0.09784352904284073, 0.11195430534792472, 0.11976800334865358, 0.006206833440851523, 0.03399025159866497, 0.12023568743110809, 0.13129756380588592, 0.11727201471791805, -0.15891637012943877, 0.17302268951391148, 0.10735974400963541, 0.35696319709924185, -0.2904044031479833, -0.02373744949598789, -0.12089004893556786, 0.1431211874932104, 0.07437121479289367, 0.09117302342948728, 0.2585307048246939, 0.08803957972015701, 0.3632124017278153, 0.11269392788091223, 0.14660450562047792, 0.041647394964738335, 0.09826917046530831, 0.10771261881086415, 0.1638427789226908, 0.08025729458868584, 0.06487138442856277, 0.11112834558943264, 0.0737709351284619, 0.11731028865084854, 0.10943253930082876, 0.08008606442209014, -0.03193989479930971, 0.12525969214693466, 0.12333848326252178, 0.14023076240060503, 0.04294994256852926, 0.18301788420887505, 0.044630288665299646, 0.06659948246695946, 0.1563866991559785, 0.022231810978285523, 0.0457907646093384, 0.24380627702104188, 0.2230969799596662, -0.11921510104653753, 0.05185924542597405, 0.03164875524898612, 0.0930980769731266, 0.07342494864469731, 0.14477861857899327, 0.07390865592181546, 0.03129455238025311, 0.19869698623950155, 0.10150109782505123, 0.128111376049231, 0.14307242932978392, 0.03704678967804085, 0.03236380029086693, 0.1545320575721192, 0.08973693554471295, 0.2209715239908451, 0.2321944612196277, 0.30909848766597564, 0.1170345161076548, 0.06334211249038041, 0.04743243389040165, 0.08386819331159513, 0.1127735283928408, 0.032792401812964264, 0.10709690023217501, 0.05679882293353901, 0.1185081820942989, 0.10663850522480085, 0.28066115521788965, 0.04092551903514903, 0.033639928726288786, 0.23445517842000402, 0.017092086598533455, 0.04028725749026363, 0.033625814821770794, 0.1155070025789716, -0.014091966677633651, 0.013749716039633087, 0.15094312483637443, 0.015057699549212678, 0.09515952982814625, 0.06281076789356854, 0.02688493893031149, 0.06921572121995181, 0.0760115012926353, 0.0376557785468969, 0.07698910076498654, 0.04470396143562822, 0.050054275641135855, 0.08869145692595914, 0.3139083444230348, -0.04651473113074352, 0.03421561017824614, 0.0999875176987349, 0.05326039488461576, 0.0981139241775266, 0.07207314210892421, 0.1649851858479081, 0.05837219762755371, 0.11148063510161929, 0.003918936738918195, 0.09760212011754049, 0.0793967010543123, 0.012187902351541428, 0.03575794193530976, 0.10478678023473977, 0.04014069367177658, -0.0382394957856192, -0.0064785645519925845, -0.09672034068392088, 0.005270947375419148, -0.056670256703286286, -0.02980176925933722, -0.11699707898437899, 0.021407643083264725, 0.15270929678378897, -0.14558116027469953, 0.05011774671479222, 0.0452669621544814, 0.04243450165935468, 0.045932127304291005, 0.029196880829941787, 0.1404865649978634, 0.11244137549892574, 0.05985829033574435, 0.03364718153145566, 0.03830882530502778, -0.0034823506378413973, -0.059535081003167345, 0.10130937990026959, 0.07966874030235362, 0.024043480278454616, 0.056524612636706856, 0.11958781528868215, 0.01115817034897289, 0.07479757238013779, 0.10085695701483728, 0.08851216740111059, -0.05575137405802079, 0.13946434842943248, 0.09821002521630585, 0.00936933826544943, 0.06078741830959881, 0.10697571235369835, 0.03520557689262155, -0.04898095277431347, 0.12277574560722598, 0.11194566709348458, 0.002173921961159132, -0.014457445080334114, 0.06967234847796991, 0.21981403830821297, 0.056855841249942016, 0.06569556272180106, 0.050499904841656826, -0.015701205284896116, 0.17943546413204947, 0.13102071082723107, -0.047813725581474315, 0.11789098851837486, 0.15442057815028168, 0.06361677116489009, 0.060796887837326063, 0.06656461165431966, 0.04832821586171148, 0.03092452634411753, 0.06705689760915681, 0.10660101097605011, -0.0031420294874071873, 0.04873242545951157, -0.04270978818227466, 0.12138884211756686, 0.07237215098038838, 0.03718494075289055, 0.07182992624926036, -0.030245437041918715, 0.029075048419939728, 0.05538374633260739, 0.1410848854523603, 0.02933698827264355, 0.054313816471701463, 0.10731494738595376, 0.03110289191073211, 0.03848491556582847, 0.07426501031795758, 0.05046742143360774, -0.0022075208000911306, 0.02167911555121766, -0.035893300166871756, 0.003910653173829326, 0.04947311369893571, 0.05669318298242858, 0.061817753805231704, -0.08214927425800331, 0.060582167849083324, -0.13972010185856903, -0.06972876138799651, 0.05359649253455857, 0.02638807229174657, 0.1290103573251618, -0.05036449569760513, -0.07098987559194217, -0.10456225353155338, 0.13471927285642515, 0.05404032341984783, 0.03384774451711336, 0.08678299716366074, 0.07290066734165895, 0.06404336784415247, 0.04003816582149176, 0.049791861775118906, 0.09765532366700123, 0.05417495247743677, 0.11651332845628429, 0.010095748801688254, -0.0727614130850609, 0.010592268322824736, -0.014509467064547733, 0.08660007314277358, -0.011498755181652196, 0.0828981044306738, 0.05025437375064085, 0.13205354712757858, -0.0864491183562182, 0.06294841179380992, 0.12348792666470329, -0.045220907914895844, 0.0009989739604235437, 0.1537568502165454, 0.10540742922872723, 0.10848686024931882, -0.13363323858802417, 0.20616009201948426, 0.33681150649724995, 0.3532882601151639, 0.34182154427627126, 0.29426971172743377, 0.19332047903492802, 0.17053449760508738, 0.377465148083777, 0.2308549626228786, 0.22045634899991332, 0.20474350444531023, 0.07451802371265524, -0.28680661616467884, 0.15439518853664638, 0.12971027275506802, 0.0858945236125809, 0.18769152624604493, 0.08499054008310825, 0.14554815527344483, 0.10975366555695056, 0.14327413164495842, 0.11040282820301482, 0.08091220932310961, 0.17124160443173128, 0.2231119739410288, 0.166745036252248, 0.12979030865964017, 0.1440871089014059, 0.17662742004346524, 0.21572697779128472, 0.15873262936256843, 0.05803761380940935, 0.19557821356232044, 0.2538925763001686, 0.3800754681859602, 0.10024355623324409, 0.15397504711497295, 0.19028583331726542, 0.11051733300072379, 0.09791652692148053, 0.12057249192020224, 0.11877950465811586, 0.0043800177287273276, 0.06311438395327326, 0.004952677787753824, 0.09449156215133282, 0.040573934060198796, 0.009308578608415732, -0.04444188996836703, 0.21738184711121192, 0.4461220718874912, 0.24804832533905283, 0.42276770576502115, 0.1270337069162435, 0.2124375629946136, 0.07250512654053111, 0.037214401751962715, 0.10260848857174107, 0.08602155504787631, 0.06138796828690517, 0.030667161848814507, -0.028307131500027033, 0.02132595201656574, -0.022190057770035312, -0.0814809243858297, 0.00750612572453929, -0.01995151451769554, 0.029036166926067256, 0.24632825322199792, 0.09006011808790557, 0.01708689217495083, -0.027345128124301267, 0.19550065559094426, -0.04133437878270824, 0.09850618883114642, 0.15998100791551587, 0.0633026467631423, -0.013961765126452244, -0.018821847270900298, 0.028746903935158934, 0.09385170909612502, 0.16643513345310623, 0.21542325774562732, -0.04641833188797219, 0.008638764199632063, 0.02303030676452791, 0.18104259857509367, 0.054356651676740565, 0.10660120148877225, 0.05935095618320783, 0.029060730925348034, -0.06698013214335284, 0.048782810324207025, 0.04744707899979266, 0.03136729209057341, 0.04219187195270534, 0.07172337023298007, 0.15363364851670758, 0.17760004420111275, -0.00501052935840746, -0.025941976967235044, -0.01732116924382038, 0.15057095020111394, 0.1937312189522558, 0.11361448973079526, 0.033781657964226955, 0.05330461773108769, 0.04127362403135619, -0.009200935763017334, -0.02451767356479043, -0.07068713212783366, -0.08331393382687893, -0.0008659317173067145, 0.00023577171392609063, 0.07720754328884856, 0.001097604534690168, 0.08985102047622573, 0.03311090426078815, 0.05400751407926638, 0.07361176363369663, -0.05402853905035736, -0.11161006107088062, 0.006563411431083443, 0.2613200380129824, 0.14751105173993653, -0.005409822187960023, -0.2437706140101454, -0.17437455847655098, -0.04340023827602104, 0.035864829354457214, -0.0717451354096525, -0.1995926297873512, 0.04656063892837873, 0.05352589070749752, 0.021253683962810316, 0.05692553835990308, 0.0011152742224080667, -0.03003486046597994, -0.2063034314966186, 0.025517402173172082, -0.05186335722386211, -0.11685594196188838, 0.09258866848552168, 0.12807007911499932, -0.0777967081673239, 0.068138753322772, -0.04738407516060693, 0.014307366117976431, -0.0455895183210668, 0.0507635761944305, 0.06753543046667874, -0.17964007210790978, -0.08470059820650189, -0.05653452770603784, 0.10405488945554615, 0.04981808127142843, 0.0781275631085278, 0.03520525154672807, 0.07283485935375557, 0.09409725037918625, -0.09354540690591448, -0.08689289282110729, 0.020358053631106772, 0.015850044201896594, -0.04154060046473642, 0.08862724368041075, 0.0690468764023794, -0.21764054170819805, -0.06989960444878421, -0.0026445658833751393, -0.14753653573673586, -0.037423261652982105, 0.020645764992942853, -0.07264110665648066, -0.18638517027136356, -0.053607831334731695, -0.04186325401620161, -0.1567272052411903, 0.05669081775783382, -0.06362836496342857, -0.05002954068621087, -0.4059732653717653, 0.4932583247576501, 0.005903610948526571, -0.09035280772891625, 0.05322582394657755, -0.02587433650088653, -0.070669140199822, 0.02150735048166236, 0.01748188291693647, 0.009988381085971106, -0.026523215159005638, -0.05322022414528765, 0.06791089389173605, -0.011386276153022644, 0.006306060004456008, 0.03776089816448929, -0.01639242733695133, 0.09922936667757273, 0.04146729471593375, 0.10744676456055913, 0.033232508571813694, -0.016434972905277474, 0.0969063076027182, 0.07993848724290194, 0.13321888444066332, 0.01996498668325447, 0.32698292812241797, 0.04358111481000798, -0.16117576449661583, -0.0037257728774733137, -0.15159732654002805, -0.12574991334484964, 0.007785058816129838, 0.024583292346046132, -0.11132948200949964, -0.04832102876619408, 0.044054039569578, -0.0820191609377995, 0.10815144139047687, -0.10360970278839716, 0.06424669954186184, -0.04429709383781758, 0.00393983463095557, -0.12349775584175375, 0.016983783876790268, -0.13616231608699297, 0.06356565450738696, 0.04784909506694127, -0.013861887550378824, 0.061007080618480466, 0.0452210114010245, 0.08892885178663039, 0.08558338678041723, 0.05101220656725335, -0.06628375919237452, -0.10837874995480601, -0.06443215353734698, 0.04813815727589393, -0.12212611403770238, 0.002125803266819981], \"yaxis\": \"y\"}],\n",
              "                        {\"autosize\": false, \"height\": 600, \"template\": {\"data\": {\"bar\": [{\"error_x\": {\"color\": \"#2a3f5f\"}, \"error_y\": {\"color\": \"#2a3f5f\"}, \"marker\": {\"line\": {\"color\": \"#E5ECF6\", \"width\": 0.5}}, \"type\": \"bar\"}], \"barpolar\": [{\"marker\": {\"line\": {\"color\": \"#E5ECF6\", \"width\": 0.5}}, \"type\": \"barpolar\"}], \"carpet\": [{\"aaxis\": {\"endlinecolor\": \"#2a3f5f\", \"gridcolor\": \"white\", \"linecolor\": \"white\", \"minorgridcolor\": \"white\", \"startlinecolor\": \"#2a3f5f\"}, \"baxis\": {\"endlinecolor\": \"#2a3f5f\", \"gridcolor\": \"white\", \"linecolor\": \"white\", \"minorgridcolor\": \"white\", \"startlinecolor\": \"#2a3f5f\"}, \"type\": \"carpet\"}], \"choropleth\": [{\"colorbar\": {\"outlinewidth\": 0, \"ticks\": \"\"}, \"type\": \"choropleth\"}], \"contour\": [{\"colorbar\": {\"outlinewidth\": 0, \"ticks\": \"\"}, \"colorscale\": [[0.0, \"#0d0887\"], [0.1111111111111111, \"#46039f\"], [0.2222222222222222, \"#7201a8\"], [0.3333333333333333, \"#9c179e\"], [0.4444444444444444, \"#bd3786\"], [0.5555555555555556, \"#d8576b\"], [0.6666666666666666, \"#ed7953\"], [0.7777777777777778, \"#fb9f3a\"], [0.8888888888888888, \"#fdca26\"], [1.0, \"#f0f921\"]], \"type\": \"contour\"}], \"contourcarpet\": [{\"colorbar\": {\"outlinewidth\": 0, \"ticks\": \"\"}, \"type\": \"contourcarpet\"}], \"heatmap\": [{\"colorbar\": {\"outlinewidth\": 0, \"ticks\": \"\"}, \"colorscale\": [[0.0, \"#0d0887\"], [0.1111111111111111, \"#46039f\"], [0.2222222222222222, \"#7201a8\"], [0.3333333333333333, \"#9c179e\"], [0.4444444444444444, \"#bd3786\"], [0.5555555555555556, \"#d8576b\"], [0.6666666666666666, \"#ed7953\"], [0.7777777777777778, \"#fb9f3a\"], [0.8888888888888888, \"#fdca26\"], [1.0, \"#f0f921\"]], \"type\": \"heatmap\"}], \"heatmapgl\": [{\"colorbar\": {\"outlinewidth\": 0, \"ticks\": \"\"}, \"colorscale\": [[0.0, \"#0d0887\"], [0.1111111111111111, \"#46039f\"], [0.2222222222222222, \"#7201a8\"], [0.3333333333333333, \"#9c179e\"], [0.4444444444444444, \"#bd3786\"], [0.5555555555555556, \"#d8576b\"], [0.6666666666666666, \"#ed7953\"], [0.7777777777777778, \"#fb9f3a\"], [0.8888888888888888, \"#fdca26\"], [1.0, \"#f0f921\"]], \"type\": \"heatmapgl\"}], \"histogram\": [{\"marker\": {\"colorbar\": {\"outlinewidth\": 0, \"ticks\": \"\"}}, \"type\": \"histogram\"}], \"histogram2d\": [{\"colorbar\": {\"outlinewidth\": 0, \"ticks\": \"\"}, \"colorscale\": [[0.0, \"#0d0887\"], [0.1111111111111111, \"#46039f\"], [0.2222222222222222, \"#7201a8\"], [0.3333333333333333, \"#9c179e\"], [0.4444444444444444, \"#bd3786\"], [0.5555555555555556, \"#d8576b\"], [0.6666666666666666, \"#ed7953\"], [0.7777777777777778, \"#fb9f3a\"], [0.8888888888888888, \"#fdca26\"], [1.0, \"#f0f921\"]], \"type\": \"histogram2d\"}], \"histogram2dcontour\": [{\"colorbar\": {\"outlinewidth\": 0, \"ticks\": \"\"}, \"colorscale\": [[0.0, \"#0d0887\"], [0.1111111111111111, \"#46039f\"], [0.2222222222222222, \"#7201a8\"], [0.3333333333333333, \"#9c179e\"], [0.4444444444444444, \"#bd3786\"], [0.5555555555555556, \"#d8576b\"], [0.6666666666666666, \"#ed7953\"], [0.7777777777777778, \"#fb9f3a\"], [0.8888888888888888, \"#fdca26\"], [1.0, \"#f0f921\"]], \"type\": \"histogram2dcontour\"}], \"mesh3d\": [{\"colorbar\": {\"outlinewidth\": 0, \"ticks\": \"\"}, \"type\": \"mesh3d\"}], \"parcoords\": [{\"line\": {\"colorbar\": {\"outlinewidth\": 0, \"ticks\": \"\"}}, \"type\": \"parcoords\"}], \"pie\": [{\"automargin\": true, \"type\": \"pie\"}], \"scatter\": [{\"marker\": {\"colorbar\": {\"outlinewidth\": 0, \"ticks\": \"\"}}, \"type\": \"scatter\"}], \"scatter3d\": [{\"line\": {\"colorbar\": {\"outlinewidth\": 0, \"ticks\": \"\"}}, \"marker\": {\"colorbar\": {\"outlinewidth\": 0, \"ticks\": \"\"}}, \"type\": \"scatter3d\"}], \"scattercarpet\": [{\"marker\": {\"colorbar\": {\"outlinewidth\": 0, \"ticks\": \"\"}}, \"type\": \"scattercarpet\"}], \"scattergeo\": [{\"marker\": {\"colorbar\": {\"outlinewidth\": 0, \"ticks\": \"\"}}, \"type\": \"scattergeo\"}], \"scattergl\": [{\"marker\": {\"colorbar\": {\"outlinewidth\": 0, \"ticks\": \"\"}}, \"type\": \"scattergl\"}], \"scattermapbox\": [{\"marker\": {\"colorbar\": {\"outlinewidth\": 0, \"ticks\": \"\"}}, \"type\": \"scattermapbox\"}], \"scatterpolar\": [{\"marker\": {\"colorbar\": {\"outlinewidth\": 0, \"ticks\": \"\"}}, \"type\": \"scatterpolar\"}], \"scatterpolargl\": [{\"marker\": {\"colorbar\": {\"outlinewidth\": 0, \"ticks\": \"\"}}, \"type\": \"scatterpolargl\"}], \"scatterternary\": [{\"marker\": {\"colorbar\": {\"outlinewidth\": 0, \"ticks\": \"\"}}, \"type\": \"scatterternary\"}], \"surface\": [{\"colorbar\": {\"outlinewidth\": 0, \"ticks\": \"\"}, \"colorscale\": [[0.0, \"#0d0887\"], [0.1111111111111111, \"#46039f\"], [0.2222222222222222, \"#7201a8\"], [0.3333333333333333, \"#9c179e\"], [0.4444444444444444, \"#bd3786\"], [0.5555555555555556, \"#d8576b\"], [0.6666666666666666, \"#ed7953\"], [0.7777777777777778, \"#fb9f3a\"], [0.8888888888888888, \"#fdca26\"], [1.0, \"#f0f921\"]], \"type\": \"surface\"}], \"table\": [{\"cells\": {\"fill\": {\"color\": \"#EBF0F8\"}, \"line\": {\"color\": \"white\"}}, \"header\": {\"fill\": {\"color\": \"#C8D4E3\"}, \"line\": {\"color\": \"white\"}}, \"type\": \"table\"}]}, \"layout\": {\"annotationdefaults\": {\"arrowcolor\": \"#2a3f5f\", \"arrowhead\": 0, \"arrowwidth\": 1}, \"coloraxis\": {\"colorbar\": {\"outlinewidth\": 0, \"ticks\": \"\"}}, \"colorscale\": {\"diverging\": [[0, \"#8e0152\"], [0.1, \"#c51b7d\"], [0.2, \"#de77ae\"], [0.3, \"#f1b6da\"], [0.4, \"#fde0ef\"], [0.5, \"#f7f7f7\"], [0.6, \"#e6f5d0\"], [0.7, \"#b8e186\"], [0.8, \"#7fbc41\"], [0.9, \"#4d9221\"], [1, \"#276419\"]], \"sequential\": [[0.0, \"#0d0887\"], [0.1111111111111111, \"#46039f\"], [0.2222222222222222, \"#7201a8\"], [0.3333333333333333, \"#9c179e\"], [0.4444444444444444, \"#bd3786\"], [0.5555555555555556, \"#d8576b\"], [0.6666666666666666, \"#ed7953\"], [0.7777777777777778, \"#fb9f3a\"], [0.8888888888888888, \"#fdca26\"], [1.0, \"#f0f921\"]], \"sequentialminus\": [[0.0, \"#0d0887\"], [0.1111111111111111, \"#46039f\"], [0.2222222222222222, \"#7201a8\"], [0.3333333333333333, \"#9c179e\"], [0.4444444444444444, \"#bd3786\"], [0.5555555555555556, \"#d8576b\"], [0.6666666666666666, \"#ed7953\"], [0.7777777777777778, \"#fb9f3a\"], [0.8888888888888888, \"#fdca26\"], [1.0, \"#f0f921\"]]}, \"colorway\": [\"#636efa\", \"#EF553B\", \"#00cc96\", \"#ab63fa\", \"#FFA15A\", \"#19d3f3\", \"#FF6692\", \"#B6E880\", \"#FF97FF\", \"#FECB52\"], \"font\": {\"color\": \"#2a3f5f\"}, \"geo\": {\"bgcolor\": \"white\", \"lakecolor\": \"white\", \"landcolor\": \"#E5ECF6\", \"showlakes\": true, \"showland\": true, \"subunitcolor\": \"white\"}, \"hoverlabel\": {\"align\": \"left\"}, \"hovermode\": \"closest\", \"mapbox\": {\"style\": \"light\"}, \"paper_bgcolor\": \"white\", \"plot_bgcolor\": \"#E5ECF6\", \"polar\": {\"angularaxis\": {\"gridcolor\": \"white\", \"linecolor\": \"white\", \"ticks\": \"\"}, \"bgcolor\": \"#E5ECF6\", \"radialaxis\": {\"gridcolor\": \"white\", \"linecolor\": \"white\", \"ticks\": \"\"}}, \"scene\": {\"xaxis\": {\"backgroundcolor\": \"#E5ECF6\", \"gridcolor\": \"white\", \"gridwidth\": 2, \"linecolor\": \"white\", \"showbackground\": true, \"ticks\": \"\", \"zerolinecolor\": \"white\"}, \"yaxis\": {\"backgroundcolor\": \"#E5ECF6\", \"gridcolor\": \"white\", \"gridwidth\": 2, \"linecolor\": \"white\", \"showbackground\": true, \"ticks\": \"\", \"zerolinecolor\": \"white\"}, \"zaxis\": {\"backgroundcolor\": \"#E5ECF6\", \"gridcolor\": \"white\", \"gridwidth\": 2, \"linecolor\": \"white\", \"showbackground\": true, \"ticks\": \"\", \"zerolinecolor\": \"white\"}}, \"shapedefaults\": {\"line\": {\"color\": \"#2a3f5f\"}}, \"ternary\": {\"aaxis\": {\"gridcolor\": \"white\", \"linecolor\": \"white\", \"ticks\": \"\"}, \"baxis\": {\"gridcolor\": \"white\", \"linecolor\": \"white\", \"ticks\": \"\"}, \"bgcolor\": \"#E5ECF6\", \"caxis\": {\"gridcolor\": \"white\", \"linecolor\": \"white\", \"ticks\": \"\"}}, \"title\": {\"x\": 0.05}, \"xaxis\": {\"automargin\": true, \"gridcolor\": \"white\", \"linecolor\": \"white\", \"ticks\": \"\", \"title\": {\"standoff\": 15}, \"zerolinecolor\": \"white\", \"zerolinewidth\": 2}, \"yaxis\": {\"automargin\": true, \"gridcolor\": \"white\", \"linecolor\": \"white\", \"ticks\": \"\", \"title\": {\"standoff\": 15}, \"zerolinecolor\": \"white\", \"zerolinewidth\": 2}}}, \"title\": {\"text\": \"gradientboosting_ne\"}, \"width\": 1200, \"xaxis\": {\"anchor\": \"y\", \"domain\": [0.0, 1.0]}, \"yaxis\": {\"anchor\": \"x\", \"domain\": [0.0, 1.0]}},\n",
              "                        {\"responsive\": true}\n",
              "                    ).then(function(){\n",
              "                            \n",
              "var gd = document.getElementById('f5c7af83-140f-49f4-ae16-2cfac6e1da3a');\n",
              "var x = new MutationObserver(function (mutations, observer) {{\n",
              "        var display = window.getComputedStyle(gd).display;\n",
              "        if (!display || display === 'none') {{\n",
              "            console.log([gd, 'removed!']);\n",
              "            Plotly.purge(gd);\n",
              "            observer.disconnect();\n",
              "        }}\n",
              "}});\n",
              "\n",
              "// Listen for the removal of the full notebook cells\n",
              "var notebookContainer = gd.closest('#notebook-container');\n",
              "if (notebookContainer) {{\n",
              "    x.observe(notebookContainer, {childList: true});\n",
              "}}\n",
              "\n",
              "// Listen for the clearing of the current output cell\n",
              "var outputEl = gd.closest('.output');\n",
              "if (outputEl) {{\n",
              "    x.observe(outputEl, {childList: true});\n",
              "}}\n",
              "\n",
              "                        })\n",
              "                };\n",
              "                \n",
              "            </script>\n",
              "        </div>\n",
              "</body>\n",
              "</html>"
            ]
          },
          "metadata": {
            "tags": []
          }
        },
        {
          "output_type": "display_data",
          "data": {
            "text/html": [
              "<html>\n",
              "<head><meta charset=\"utf-8\" /></head>\n",
              "<body>\n",
              "    <div>\n",
              "            <script src=\"https://cdnjs.cloudflare.com/ajax/libs/mathjax/2.7.5/MathJax.js?config=TeX-AMS-MML_SVG\"></script><script type=\"text/javascript\">if (window.MathJax) {MathJax.Hub.Config({SVG: {font: \"STIX-Web\"}});}</script>\n",
              "                <script type=\"text/javascript\">window.PlotlyConfig = {MathJaxConfig: 'local'};</script>\n",
              "        <script src=\"https://cdn.plot.ly/plotly-latest.min.js\"></script>    \n",
              "            <div id=\"5d8dafba-759e-475e-91c9-a6d56f0c8040\" class=\"plotly-graph-div\" style=\"height:600px; width:1200px;\"></div>\n",
              "            <script type=\"text/javascript\">\n",
              "                \n",
              "                    window.PLOTLYENV=window.PLOTLYENV || {};\n",
              "                    \n",
              "                if (document.getElementById(\"5d8dafba-759e-475e-91c9-a6d56f0c8040\")) {\n",
              "                    Plotly.newPlot(\n",
              "                        '5d8dafba-759e-475e-91c9-a6d56f0c8040',\n",
              "                        [{\"line\": {\"color\": \"rgba(35,128,132,0.8)\"}, \"name\": \"ndvi_ne\", \"showlegend\": true, \"type\": \"scatter\", \"x\": [800, 801, 802, 803, 804, 805, 806, 807, 808, 809, 812, 813, 814, 815, 816, 817, 818, 819, 820, 821, 822, 823, 824, 825, 826, 829, 830, 831, 832, 833, 835, 837, 838, 839, 840, 841, 842, 843, 844, 845, 846, 847, 849, 850, 851, 852, 853, 854, 856, 857, 858, 860, 861, 862, 864, 865, 866, 867, 869, 870, 872, 873, 874, 876, 877, 878, 879, 880, 881, 882, 883, 884, 885, 886, 887, 889, 890, 891, 892, 893, 895, 896, 897, 898, 900, 901, 904, 905, 906, 907, 908, 910, 911, 912, 914, 916, 918, 919, 922, 924, 925, 926, 928, 929, 930, 931, 932, 933, 935], \"xaxis\": \"x\", \"y\": [0.0073, 0.0252, 0.0012, 0.0488, 0.0419, 0.02275, -0.029975, 0.07596667, -0.00135, 0.0507, -0.03396667, -0.0587, 0.1077, -0.1062, -0.008233333, -0.04245, -0.1942333, 0.009000000000000001, 0.0443, -0.3084, 0.3255, -0.1032, -0.16734000000000002, -0.01313333, 0.0109, 0.0455, 0.0165, -0.012, 0.0351, 0.0144, 0.0802, 0.0582, 0.0144, -0.01003333, 0.0255, 0.1035, 0.063875, 0.0193, 0.04735, -0.05556667, -0.1145, 0.0017399999999999998, 0.06405, 0.07515, 0.01235, 0.026125, -0.0556, -0.0265, 0.06305, 0.12335, 0.04593333, -0.2761, -0.1686, 0.0947, 0.0516, -0.04176667, -0.0548, 0.2643, -0.0192, 0.1288333, -0.2156, -0.0752, 0.2121, 0.0543, 0.0373, 0.0117, 0.02285, 0.01886667, -0.0743, 0.0689, 0.0216, 0.0392, -0.06205, 0.0019, 0.05825, -0.0118, -0.0054, 0.1058, 0.2484, 0.0501, 0.0826, -0.00695, 0.0746, 0.0156, 0.0331, 0.0821, -0.01345, -0.0307, 0.096, 0.009000000000000001, 0.021, 0.1243, -0.2517, -0.0589, -0.0595, -0.13305, 0.0148, 0.0006, -0.0268, -0.1117, 0.07200000000000001, -0.13865, -0.0889, -0.3214, 0.0449, 0.07785, -0.038, -0.1552, -0.037000000000000005], \"yaxis\": \"y\"}, {\"line\": {\"color\": \"rgba(193,99,99,0.8)\"}, \"name\": \"gradientboosting_ne\", \"showlegend\": true, \"type\": \"scatter\", \"x\": [800, 801, 802, 803, 804, 805, 806, 807, 808, 809, 812, 813, 814, 815, 816, 817, 818, 819, 820, 821, 822, 823, 824, 825, 826, 829, 830, 831, 832, 833, 835, 837, 838, 839, 840, 841, 842, 843, 844, 845, 846, 847, 849, 850, 851, 852, 853, 854, 856, 857, 858, 860, 861, 862, 864, 865, 866, 867, 869, 870, 872, 873, 874, 876, 877, 878, 879, 880, 881, 882, 883, 884, 885, 886, 887, 889, 890, 891, 892, 893, 895, 896, 897, 898, 900, 901, 904, 905, 906, 907, 908, 910, 911, 912, 914, 916, 918, 919, 922, 924, 925, 926, 928, 929, 930, 931, 932, 933, 935], \"xaxis\": \"x\", \"y\": [-0.022326443495440287, -0.03423528876343097, -0.0022192453471969616, 0.04982984513094009, 0.09145561451487393, 0.023104909576744992, 0.05113638821066605, -0.1569948824564294, 0.07641625800053745, -0.00973973285521939, 0.0033554488276169307, -0.049554692351003196, 0.05892920546540537, -0.09810575328387264, -0.037043760465341795, 0.08401159232387113, -0.05664763716207305, -0.02241341397401999, 0.051037149772010834, -0.14237915896792827, -0.01616807074926585, 0.24287879678341695, -0.022947023579287445, 0.0028567446391845716, 0.01887404269633278, 0.0890756585405618, 0.042909377979704934, 0.06066048592218934, 0.06555140538939415, 0.024452931593455168, 0.10484970052673748, 0.01693304269819612, -0.20792981890607945, -0.019207419803922446, 0.003318465309364946, 0.20331291544266197, 0.044282985963071037, 0.06991558374220781, -0.043908829064296155, -0.0726597133943795, 0.024404864038320824, 0.09461245563215158, 0.030605239219203165, 0.0841373777401343, 0.01932767097970493, 0.014235320783313172, 0.04320210791051381, 0.00245836364270771, -0.18954680210848424, -0.02132420270835015, -0.11696566129868148, 0.005338354670098783, -0.05567737145023182, 0.010675015145766504, -0.014463427986718623, -0.0074657634434136715, -0.011420175184371207, 0.03473380001358667, 0.03611967483092926, 0.03096233152064765, -0.0012146155107974985, -0.17665242342076487, 0.09216101468171854, 0.005402759752220513, 0.011515735543954717, -0.0077737603249032556, 0.013459688778838685, 0.05986393508128664, -0.017222606412128673, 0.03090484392079761, -0.003647136719290677, 0.026247717185358517, 0.002306214298651265, 0.030510824067209303, 0.03678569113185854, -0.09133114057184465, -0.020849489857224738, -0.06245565794948178, 0.1493956823088711, 0.0009025990813432237, 0.07062656042606515, 0.011907066914816864, 0.046638009595178775, 0.014833698687376991, 0.13079353835615867, 0.03437913766299629, 0.0034275029612737653, -0.0549602737063, 0.022096331280724753, 0.08370666880648903, 0.10014501832506084, 0.029711170803922965, 0.15871777241789448, -0.16422124958128606, -0.036339369407070846, -0.03606567283600914, -0.012172966861633388, -0.1077511320425273, -0.19886050601555916, -0.026052213959807315, -0.1840031245565553, -0.11559000092192628, -0.051135119619757814, -0.1755151041850113, 0.09029909412878967, -0.0648027111620341, 0.021529918925165797, 0.014353862962933978, 0.057861207296843686], \"yaxis\": \"y\"}],\n",
              "                        {\"autosize\": false, \"height\": 600, \"template\": {\"data\": {\"bar\": [{\"error_x\": {\"color\": \"#2a3f5f\"}, \"error_y\": {\"color\": \"#2a3f5f\"}, \"marker\": {\"line\": {\"color\": \"#E5ECF6\", \"width\": 0.5}}, \"type\": \"bar\"}], \"barpolar\": [{\"marker\": {\"line\": {\"color\": \"#E5ECF6\", \"width\": 0.5}}, \"type\": \"barpolar\"}], \"carpet\": [{\"aaxis\": {\"endlinecolor\": \"#2a3f5f\", \"gridcolor\": \"white\", \"linecolor\": \"white\", \"minorgridcolor\": \"white\", \"startlinecolor\": \"#2a3f5f\"}, \"baxis\": {\"endlinecolor\": \"#2a3f5f\", \"gridcolor\": \"white\", \"linecolor\": \"white\", \"minorgridcolor\": \"white\", \"startlinecolor\": \"#2a3f5f\"}, \"type\": \"carpet\"}], \"choropleth\": [{\"colorbar\": {\"outlinewidth\": 0, \"ticks\": \"\"}, \"type\": \"choropleth\"}], \"contour\": [{\"colorbar\": {\"outlinewidth\": 0, \"ticks\": \"\"}, \"colorscale\": [[0.0, \"#0d0887\"], [0.1111111111111111, \"#46039f\"], [0.2222222222222222, \"#7201a8\"], [0.3333333333333333, \"#9c179e\"], [0.4444444444444444, \"#bd3786\"], [0.5555555555555556, \"#d8576b\"], [0.6666666666666666, \"#ed7953\"], [0.7777777777777778, \"#fb9f3a\"], [0.8888888888888888, \"#fdca26\"], [1.0, \"#f0f921\"]], \"type\": \"contour\"}], \"contourcarpet\": [{\"colorbar\": {\"outlinewidth\": 0, \"ticks\": \"\"}, \"type\": \"contourcarpet\"}], \"heatmap\": [{\"colorbar\": {\"outlinewidth\": 0, \"ticks\": \"\"}, \"colorscale\": [[0.0, \"#0d0887\"], [0.1111111111111111, \"#46039f\"], [0.2222222222222222, \"#7201a8\"], [0.3333333333333333, \"#9c179e\"], [0.4444444444444444, \"#bd3786\"], [0.5555555555555556, \"#d8576b\"], [0.6666666666666666, \"#ed7953\"], [0.7777777777777778, \"#fb9f3a\"], [0.8888888888888888, \"#fdca26\"], [1.0, \"#f0f921\"]], \"type\": \"heatmap\"}], \"heatmapgl\": [{\"colorbar\": {\"outlinewidth\": 0, \"ticks\": \"\"}, \"colorscale\": [[0.0, \"#0d0887\"], [0.1111111111111111, \"#46039f\"], [0.2222222222222222, \"#7201a8\"], [0.3333333333333333, \"#9c179e\"], [0.4444444444444444, \"#bd3786\"], [0.5555555555555556, \"#d8576b\"], [0.6666666666666666, \"#ed7953\"], [0.7777777777777778, \"#fb9f3a\"], [0.8888888888888888, \"#fdca26\"], [1.0, \"#f0f921\"]], \"type\": \"heatmapgl\"}], \"histogram\": [{\"marker\": {\"colorbar\": {\"outlinewidth\": 0, \"ticks\": \"\"}}, \"type\": \"histogram\"}], \"histogram2d\": [{\"colorbar\": {\"outlinewidth\": 0, \"ticks\": \"\"}, \"colorscale\": [[0.0, \"#0d0887\"], [0.1111111111111111, \"#46039f\"], [0.2222222222222222, \"#7201a8\"], [0.3333333333333333, \"#9c179e\"], [0.4444444444444444, \"#bd3786\"], [0.5555555555555556, \"#d8576b\"], [0.6666666666666666, \"#ed7953\"], [0.7777777777777778, \"#fb9f3a\"], [0.8888888888888888, \"#fdca26\"], [1.0, \"#f0f921\"]], \"type\": \"histogram2d\"}], \"histogram2dcontour\": [{\"colorbar\": {\"outlinewidth\": 0, \"ticks\": \"\"}, \"colorscale\": [[0.0, \"#0d0887\"], [0.1111111111111111, \"#46039f\"], [0.2222222222222222, \"#7201a8\"], [0.3333333333333333, \"#9c179e\"], [0.4444444444444444, \"#bd3786\"], [0.5555555555555556, \"#d8576b\"], [0.6666666666666666, \"#ed7953\"], [0.7777777777777778, \"#fb9f3a\"], [0.8888888888888888, \"#fdca26\"], [1.0, \"#f0f921\"]], \"type\": \"histogram2dcontour\"}], \"mesh3d\": [{\"colorbar\": {\"outlinewidth\": 0, \"ticks\": \"\"}, \"type\": \"mesh3d\"}], \"parcoords\": [{\"line\": {\"colorbar\": {\"outlinewidth\": 0, \"ticks\": \"\"}}, \"type\": \"parcoords\"}], \"pie\": [{\"automargin\": true, \"type\": \"pie\"}], \"scatter\": [{\"marker\": {\"colorbar\": {\"outlinewidth\": 0, \"ticks\": \"\"}}, \"type\": \"scatter\"}], \"scatter3d\": [{\"line\": {\"colorbar\": {\"outlinewidth\": 0, \"ticks\": \"\"}}, \"marker\": {\"colorbar\": {\"outlinewidth\": 0, \"ticks\": \"\"}}, \"type\": \"scatter3d\"}], \"scattercarpet\": [{\"marker\": {\"colorbar\": {\"outlinewidth\": 0, \"ticks\": \"\"}}, \"type\": \"scattercarpet\"}], \"scattergeo\": [{\"marker\": {\"colorbar\": {\"outlinewidth\": 0, \"ticks\": \"\"}}, \"type\": \"scattergeo\"}], \"scattergl\": [{\"marker\": {\"colorbar\": {\"outlinewidth\": 0, \"ticks\": \"\"}}, \"type\": \"scattergl\"}], \"scattermapbox\": [{\"marker\": {\"colorbar\": {\"outlinewidth\": 0, \"ticks\": \"\"}}, \"type\": \"scattermapbox\"}], \"scatterpolar\": [{\"marker\": {\"colorbar\": {\"outlinewidth\": 0, \"ticks\": \"\"}}, \"type\": \"scatterpolar\"}], \"scatterpolargl\": [{\"marker\": {\"colorbar\": {\"outlinewidth\": 0, \"ticks\": \"\"}}, \"type\": \"scatterpolargl\"}], \"scatterternary\": [{\"marker\": {\"colorbar\": {\"outlinewidth\": 0, \"ticks\": \"\"}}, \"type\": \"scatterternary\"}], \"surface\": [{\"colorbar\": {\"outlinewidth\": 0, \"ticks\": \"\"}, \"colorscale\": [[0.0, \"#0d0887\"], [0.1111111111111111, \"#46039f\"], [0.2222222222222222, \"#7201a8\"], [0.3333333333333333, \"#9c179e\"], [0.4444444444444444, \"#bd3786\"], [0.5555555555555556, \"#d8576b\"], [0.6666666666666666, \"#ed7953\"], [0.7777777777777778, \"#fb9f3a\"], [0.8888888888888888, \"#fdca26\"], [1.0, \"#f0f921\"]], \"type\": \"surface\"}], \"table\": [{\"cells\": {\"fill\": {\"color\": \"#EBF0F8\"}, \"line\": {\"color\": \"white\"}}, \"header\": {\"fill\": {\"color\": \"#C8D4E3\"}, \"line\": {\"color\": \"white\"}}, \"type\": \"table\"}]}, \"layout\": {\"annotationdefaults\": {\"arrowcolor\": \"#2a3f5f\", \"arrowhead\": 0, \"arrowwidth\": 1}, \"coloraxis\": {\"colorbar\": {\"outlinewidth\": 0, \"ticks\": \"\"}}, \"colorscale\": {\"diverging\": [[0, \"#8e0152\"], [0.1, \"#c51b7d\"], [0.2, \"#de77ae\"], [0.3, \"#f1b6da\"], [0.4, \"#fde0ef\"], [0.5, \"#f7f7f7\"], [0.6, \"#e6f5d0\"], [0.7, \"#b8e186\"], [0.8, \"#7fbc41\"], [0.9, \"#4d9221\"], [1, \"#276419\"]], \"sequential\": [[0.0, \"#0d0887\"], [0.1111111111111111, \"#46039f\"], [0.2222222222222222, \"#7201a8\"], [0.3333333333333333, \"#9c179e\"], [0.4444444444444444, \"#bd3786\"], [0.5555555555555556, \"#d8576b\"], [0.6666666666666666, \"#ed7953\"], [0.7777777777777778, \"#fb9f3a\"], [0.8888888888888888, \"#fdca26\"], [1.0, \"#f0f921\"]], \"sequentialminus\": [[0.0, \"#0d0887\"], [0.1111111111111111, \"#46039f\"], [0.2222222222222222, \"#7201a8\"], [0.3333333333333333, \"#9c179e\"], [0.4444444444444444, \"#bd3786\"], [0.5555555555555556, \"#d8576b\"], [0.6666666666666666, \"#ed7953\"], [0.7777777777777778, \"#fb9f3a\"], [0.8888888888888888, \"#fdca26\"], [1.0, \"#f0f921\"]]}, \"colorway\": [\"#636efa\", \"#EF553B\", \"#00cc96\", \"#ab63fa\", \"#FFA15A\", \"#19d3f3\", \"#FF6692\", \"#B6E880\", \"#FF97FF\", \"#FECB52\"], \"font\": {\"color\": \"#2a3f5f\"}, \"geo\": {\"bgcolor\": \"white\", \"lakecolor\": \"white\", \"landcolor\": \"#E5ECF6\", \"showlakes\": true, \"showland\": true, \"subunitcolor\": \"white\"}, \"hoverlabel\": {\"align\": \"left\"}, \"hovermode\": \"closest\", \"mapbox\": {\"style\": \"light\"}, \"paper_bgcolor\": \"white\", \"plot_bgcolor\": \"#E5ECF6\", \"polar\": {\"angularaxis\": {\"gridcolor\": \"white\", \"linecolor\": \"white\", \"ticks\": \"\"}, \"bgcolor\": \"#E5ECF6\", \"radialaxis\": {\"gridcolor\": \"white\", \"linecolor\": \"white\", \"ticks\": \"\"}}, \"scene\": {\"xaxis\": {\"backgroundcolor\": \"#E5ECF6\", \"gridcolor\": \"white\", \"gridwidth\": 2, \"linecolor\": \"white\", \"showbackground\": true, \"ticks\": \"\", \"zerolinecolor\": \"white\"}, \"yaxis\": {\"backgroundcolor\": \"#E5ECF6\", \"gridcolor\": \"white\", \"gridwidth\": 2, \"linecolor\": \"white\", \"showbackground\": true, \"ticks\": \"\", \"zerolinecolor\": \"white\"}, \"zaxis\": {\"backgroundcolor\": \"#E5ECF6\", \"gridcolor\": \"white\", \"gridwidth\": 2, \"linecolor\": \"white\", \"showbackground\": true, \"ticks\": \"\", \"zerolinecolor\": \"white\"}}, \"shapedefaults\": {\"line\": {\"color\": \"#2a3f5f\"}}, \"ternary\": {\"aaxis\": {\"gridcolor\": \"white\", \"linecolor\": \"white\", \"ticks\": \"\"}, \"baxis\": {\"gridcolor\": \"white\", \"linecolor\": \"white\", \"ticks\": \"\"}, \"bgcolor\": \"#E5ECF6\", \"caxis\": {\"gridcolor\": \"white\", \"linecolor\": \"white\", \"ticks\": \"\"}}, \"title\": {\"x\": 0.05}, \"xaxis\": {\"automargin\": true, \"gridcolor\": \"white\", \"linecolor\": \"white\", \"ticks\": \"\", \"title\": {\"standoff\": 15}, \"zerolinecolor\": \"white\", \"zerolinewidth\": 2}, \"yaxis\": {\"automargin\": true, \"gridcolor\": \"white\", \"linecolor\": \"white\", \"ticks\": \"\", \"title\": {\"standoff\": 15}, \"zerolinecolor\": \"white\", \"zerolinewidth\": 2}}}, \"title\": {\"text\": \"gradientboosting_ne\"}, \"width\": 1200, \"xaxis\": {\"anchor\": \"y\", \"domain\": [0.0, 1.0]}, \"yaxis\": {\"anchor\": \"x\", \"domain\": [0.0, 1.0]}},\n",
              "                        {\"responsive\": true}\n",
              "                    ).then(function(){\n",
              "                            \n",
              "var gd = document.getElementById('5d8dafba-759e-475e-91c9-a6d56f0c8040');\n",
              "var x = new MutationObserver(function (mutations, observer) {{\n",
              "        var display = window.getComputedStyle(gd).display;\n",
              "        if (!display || display === 'none') {{\n",
              "            console.log([gd, 'removed!']);\n",
              "            Plotly.purge(gd);\n",
              "            observer.disconnect();\n",
              "        }}\n",
              "}});\n",
              "\n",
              "// Listen for the removal of the full notebook cells\n",
              "var notebookContainer = gd.closest('#notebook-container');\n",
              "if (notebookContainer) {{\n",
              "    x.observe(notebookContainer, {childList: true});\n",
              "}}\n",
              "\n",
              "// Listen for the clearing of the current output cell\n",
              "var outputEl = gd.closest('.output');\n",
              "if (outputEl) {{\n",
              "    x.observe(outputEl, {childList: true});\n",
              "}}\n",
              "\n",
              "                        })\n",
              "                };\n",
              "                \n",
              "            </script>\n",
              "        </div>\n",
              "</body>\n",
              "</html>"
            ]
          },
          "metadata": {
            "tags": []
          }
        }
      ]
    },
    {
      "cell_type": "code",
      "metadata": {
        "id": "yUD0to_yXuuN"
      },
      "source": [
        "ndv_features=['ndvi_ne',\"ndvi_se\",\"ndvi_sw\"]\n"
      ],
      "execution_count": 86,
      "outputs": []
    },
    {
      "cell_type": "code",
      "metadata": {
        "id": "UGNuOxm6XuuQ",
        "colab": {
          "base_uri": "https://localhost:8080/"
        },
        "outputId": "ce477cad-d15e-40ee-9f2c-bb2725ca289a"
      },
      "source": [
        "from sklearn.linear_model import Lasso\n",
        "from sklearn.linear_model import Ridge\n",
        "from sklearn.ensemble import RandomForestRegressor\n",
        "\n",
        "nw_regressor=RandomForestRegressor(n_estimators=140)\n",
        "\n",
        "yy=XX_ndv[['ndvi_nw']]\n",
        "nw_regressor.fit(XX_ndv[ndv_features],yy)\n",
        "y_pred=nw_regressor.predict(XX_ndv[ndv_features])\n",
        "\n",
        "\n",
        "\n",
        "\n",
        "\n"
      ],
      "execution_count": 87,
      "outputs": [
        {
          "output_type": "stream",
          "text": [
            "/usr/local/lib/python3.7/dist-packages/ipykernel_launcher.py:8: DataConversionWarning:\n",
            "\n",
            "A column-vector y was passed when a 1d array was expected. Please change the shape of y to (n_samples,), for example using ravel().\n",
            "\n"
          ],
          "name": "stderr"
        }
      ]
    },
    {
      "cell_type": "code",
      "metadata": {
        "id": "pFu_CFEPXuuQ",
        "colab": {
          "base_uri": "https://localhost:8080/"
        },
        "outputId": "f4d5868e-654b-4b51-9c7c-3980d8a1ecf4"
      },
      "source": [
        "XX_ndv[\"nw_pred\"]=y_pred"
      ],
      "execution_count": 88,
      "outputs": [
        {
          "output_type": "stream",
          "text": [
            "/usr/local/lib/python3.7/dist-packages/ipykernel_launcher.py:1: SettingWithCopyWarning:\n",
            "\n",
            "\n",
            "A value is trying to be set on a copy of a slice from a DataFrame.\n",
            "Try using .loc[row_indexer,col_indexer] = value instead\n",
            "\n",
            "See the caveats in the documentation: https://pandas.pydata.org/pandas-docs/stable/user_guide/indexing.html#returning-a-view-versus-a-copy\n",
            "\n"
          ],
          "name": "stderr"
        }
      ]
    },
    {
      "cell_type": "code",
      "metadata": {
        "id": "dpGnjMCOYhvw",
        "colab": {
          "base_uri": "https://localhost:8080/",
          "height": 617
        },
        "outputId": "a890da91-9f67-4a0b-f462-0e7f46e418ce"
      },
      "source": [
        "grafikon(XX_ndv,\"ssz\",\"ndvi_nw\",\"ndvi_nw\",\"nw_pred\",\"nw_pred\",ngraf=2,title=\"NDVI_NW\")"
      ],
      "execution_count": 89,
      "outputs": [
        {
          "output_type": "display_data",
          "data": {
            "text/html": [
              "<html>\n",
              "<head><meta charset=\"utf-8\" /></head>\n",
              "<body>\n",
              "    <div>\n",
              "            <script src=\"https://cdnjs.cloudflare.com/ajax/libs/mathjax/2.7.5/MathJax.js?config=TeX-AMS-MML_SVG\"></script><script type=\"text/javascript\">if (window.MathJax) {MathJax.Hub.Config({SVG: {font: \"STIX-Web\"}});}</script>\n",
              "                <script type=\"text/javascript\">window.PlotlyConfig = {MathJaxConfig: 'local'};</script>\n",
              "        <script src=\"https://cdn.plot.ly/plotly-latest.min.js\"></script>    \n",
              "            <div id=\"792ad4cb-6c1a-48d9-b415-49b3650fa3fc\" class=\"plotly-graph-div\" style=\"height:600px; width:1200px;\"></div>\n",
              "            <script type=\"text/javascript\">\n",
              "                \n",
              "                    window.PLOTLYENV=window.PLOTLYENV || {};\n",
              "                    \n",
              "                if (document.getElementById(\"792ad4cb-6c1a-48d9-b415-49b3650fa3fc\")) {\n",
              "                    Plotly.newPlot(\n",
              "                        '792ad4cb-6c1a-48d9-b415-49b3650fa3fc',\n",
              "                        [{\"line\": {\"color\": \"rgba(35,128,132,0.8)\"}, \"name\": \"ndvi_nw\", \"showlegend\": true, \"type\": \"scatter\", \"x\": [0, 1, 2, 3, 4, 6, 7, 8, 10, 11, 12, 16, 17, 18, 19, 20, 21, 22, 23, 25, 26, 27, 28, 29, 30, 31, 32, 33, 34, 35, 38, 39, 40, 41, 43, 44, 46, 47, 48, 49, 50, 52, 53, 55, 56, 57, 58, 59, 60, 64, 66, 68, 69, 70, 71, 72, 73, 74, 75, 76, 77, 78, 79, 80, 81, 82, 83, 84, 86, 88, 89, 90, 92, 97, 98, 100, 101, 102, 103, 104, 105, 106, 107, 109, 110, 111, 112, 113, 115, 116, 117, 118, 119, 120, 121, 123, 124, 125, 126, 127, 128, 129, 130, 131, 132, 133, 134, 135, 136, 138, 140, 141, 143, 144, 145, 146, 148, 149, 150, 151, 152, 154, 155, 157, 158, 159, 160, 161, 164, 165, 166, 167, 168, 169, 171, 172, 173, 174, 175, 176, 177, 178, 179, 180, 182, 184, 185, 186, 187, 189, 190, 192, 193, 194, 195, 196, 197, 198, 201, 202, 203, 204, 205, 206, 208, 209, 210, 211, 212, 213, 214, 216, 217, 218, 219, 220, 221, 223, 224, 225, 226, 227, 243, 244, 246, 247, 249, 251, 252, 253, 254, 255, 256, 259, 260, 262, 263, 264, 266, 267, 268, 269, 270, 272, 274, 275, 276, 277, 278, 279, 280, 281, 282, 283, 284, 285, 287, 288, 289, 290, 292, 293, 295, 296, 297, 298, 299, 300, 301, 303, 305, 306, 308, 309, 310, 312, 313, 315, 316, 317, 318, 319, 320, 322, 323, 324, 325, 327, 329, 330, 331, 333, 334, 335, 337, 338, 339, 340, 343, 346, 347, 349, 350, 351, 352, 353, 354, 358, 359, 361, 362, 363, 364, 365, 366, 367, 368, 369, 370, 371, 372, 373, 374, 375, 377, 378, 379, 381, 382, 383, 384, 385, 386, 387, 388, 392, 394, 395, 398, 400, 401, 402, 403, 404, 405, 407, 408, 410, 412, 413, 414, 415, 416, 419, 420, 421, 422, 423, 424, 425, 426, 427, 428, 429, 430, 431, 432, 433, 434, 435, 437, 438, 441, 442, 444, 446, 447, 448, 449, 450, 453, 454, 455, 458, 459, 460, 461, 462, 463, 464, 466, 467, 468, 469, 473, 474, 478, 479, 480, 481, 482, 484, 485, 487, 488, 489, 490, 491, 492, 495, 496, 497, 498, 499, 501, 502, 503, 504, 505, 506, 507, 508, 510, 512, 513, 514, 515, 517, 518, 519, 520, 521, 523, 524, 525, 526, 527, 528, 529, 530, 531, 532, 533, 534, 535, 536, 537, 539, 540, 541, 543, 544, 545, 546, 547, 548, 549, 551, 552, 553, 554, 555, 556, 558, 559, 561, 562, 563, 564, 565, 566, 568, 570, 573, 574, 575, 576, 577, 579, 580, 581, 582, 583, 584, 585, 586, 587, 588, 590, 591, 592, 593, 594, 595, 597, 598, 599, 600, 601, 602, 603, 604, 605, 606, 607, 608, 609, 610, 612, 613, 614, 615, 616, 617, 618, 619, 620, 621, 623, 624, 625, 626, 627, 628, 629, 633, 634, 636, 637, 638, 639, 640, 641, 642, 643, 645, 646, 647, 649, 650, 651, 652, 654, 655, 656, 657, 658, 659, 660, 661, 662, 663, 664, 666, 667, 668, 669, 670, 671, 672, 673, 675, 676, 677, 678, 680, 682, 683, 684, 685, 687, 688, 689, 690, 691, 692, 695, 696, 697, 699, 700, 701, 702, 704, 705, 706, 707, 708, 709, 710, 712, 714, 715, 717, 718, 719, 720, 721, 723, 725, 726, 730, 731, 732, 733, 734, 735, 736, 738, 739, 740, 741, 742, 743, 744, 745, 746, 747, 750, 751, 753, 754, 755, 756, 757, 758, 759, 760, 761, 762, 764, 765, 766, 767, 768, 769, 771, 772, 774, 775, 777, 778, 779, 781, 782, 784, 785, 786, 787, 789, 790, 791, 792, 793, 794, 796, 797, 799, 800, 801, 802, 803, 804, 805, 806, 807, 808, 809, 812, 813, 814, 815, 816, 817, 818, 819, 820, 821, 822, 823, 824, 825, 826, 829, 830, 831, 832, 833, 835, 837, 838, 839, 840, 841, 842, 843, 844, 845, 846, 847, 849, 850, 851, 852, 853, 854, 856, 857, 858, 860, 861, 862, 864, 865, 866, 867, 869, 870, 872, 873, 874, 876, 877, 878, 879, 880, 881, 882, 883, 884, 885, 886, 887, 889, 890, 891, 892, 893, 895, 896, 897, 898, 900, 901, 904, 905, 906, 907, 908, 910, 911, 912, 914, 916, 918, 919, 922, 924, 925, 926, 928, 929, 930, 931, 932, 933, 935], \"xaxis\": \"x\", \"y\": [0.103725, 0.142175, 0.1729667, 0.2450667, 0.2622, 0.0928, 0.0725, 0.146175, 0.08235, 0.2118, 0.1717, 0.1688, 0.33075, 0.200025, 0.4371, 0.1824333, 0.2609, 0.18975, 0.06755, 0.08975, 0.1834333, 0.181775, 0.2246, 0.33035, 0.216525, 0.0886, 0.26166, 0.2668667, 0.2772333, 0.14046670000000003, 0.30933330000000003, 0.246425, 0.22856669999999998, 0.2211, 0.2086, 0.2641, 0.1784, 0.223575, 0.216825, 0.2763, 0.1024, 0.160575, 0.180175, 0.1335667, 0.15946670000000002, 0.087, 0.15646670000000001, 0.09235, 0.122, 0.00805, 0.1124, 0.09813999999999999, 0.05705, 0.091675, 0.15983329999999998, 0.1527333, 0.1489, 0.16672, 0.09300000000000001, 0.12886, 0.1186, 0.09665, 0.05475, 0.1114, 0.028425, 0.1519, 0.14025, 0.2128, 0.1237, 0.073575, 0.2299, 0.13105, 0.0846, 0.09015, 0.08405, 0.07765, 0.1315, 0.09743333, 0.1137, 0.0635, 0.2169, -0.0088, 0.0686, 0.13995, 0.0856, 0.15315, 0.1302, 0.1439, 0.1255, 0.059179999999999996, 0.1261333, 0.173275, 0.12665, 0.1368, 0.0817, 0.1768, 0.07226667, 0.1435, 0.12715, 0.10745, 0.1979, 0.0312, 0.1254, 0.1209667, 0.1422, 0.05613333, 0.10263330000000001, 0.074125, 0.1099, 0.06821667, 0.04366667, 0.03785, 0.05705, 0.02253333, 0.0558, 0.173375, 0.1338, 0.214, -0.0436, 0.10315, 0.08853333, 0.01885, 0.0788, 0.06415, 0.052000000000000005, 0.0901, 0.10485, 0.0506, 0.13996670000000003, 0.1522, 0.09593333, 0.09203333, 0.1826, 0.10608, 0.1401, 0.04966667, 0.24925, 0.1581, 0.0688, 0.0971, 0.063525, 0.0517, 0.0705, 0.0645, 0.1143, 0.0493, 0.013825, 0.1818, -0.0095, -0.06766667, -0.02115, 0.0193, 0.0974, 0.16643329999999998, -0.11626669999999999, 0.2112, 0.11699999999999999, 0.24185, 0.1038, -0.04815, 0.10058330000000001, 0.15975, 0.05093333, 0.13325, 0.0251, 0.08175, 0.0974, 0.0177, 0.10975, 0.1407, 0.06905, 0.04215, 0.11765, 0.2155667, 0.22405, 0.12016669999999999, 0.2658, -0.0402, -0.0157, 0.130825, 0.14525, 0.076225, 0.045, 0.2193333, -0.0359, 0.1268, 0.059325, 0.06486667, 0.06865, 0.079575, 0.1150667, 0.23165, 0.259575, 0.1127, 0.150025, 0.1115, 0.096525, 0.16213329999999998, 0.0278, 0.0797, 0.2174, 0.2115, 0.2909, 0.10775, 0.09466667, 0.047, 0.0917, 0.0862, 0.07256667, 0.1836, 0.0546, 0.0846, 0.08366667, 0.2151, 0.0966, 0.09466000000000001, 0.07825, 0.02905, 0.07475, 0.11486669999999999, 0.135, 0.01473333, 0.01086667, 0.12623330000000002, 0.07636667, 0.1381, 0.14753329999999998, 0.04075, 0.13685, 0.108975, 0.0368, 0.1118, 0.024225, 0.1488, 0.12235, 0.1974, -0.0384, 0.0557, 0.1066, 0.080075, 0.0893, 0.0646, 0.1205, 0.07825, 0.095425, -0.0106, 0.115, 0.0291, 0.07396667, 0.03065, 0.1068, 0.00445, 0.06813333, -0.0355, -0.0902, 0.0158, -0.00865, 0.0881, -0.01016667, 0.0214, 0.1094, 0.0338, 0.07316667, 0.04505, 0.03413333, 0.1281, 0.07732, 0.12525, 0.107, 0.069825, 0.05155, 0.023, 0.007333333, 0.0331, 0.0747, 0.10653330000000001, 0.05535, 0.08895, 0.0904, 0.05426667, 0.07762000000000001, 0.09026667, 0.07483333, 0.0112, 0.07825, 0.0981, 0.046675, 0.08936667, 0.11596669999999999, 0.0815, 0.01545, 0.09823333, 0.1054, 0.095825, 0.0831, 0.12345, 0.1606, 0.0661, 0.075925, 0.0341, -0.008225, 0.03345, 0.045825, -0.0525, 0.0559, 0.0849, 0.09633333, 0.08823333, 0.02766667, 0.0652, 0.076, 0.09136667, 0.0461, 0.033625, 0.0372, 0.07076667, 0.12125, 0.0509, 0.0167, 0.096075, 0.0628, 0.04713333, 0.1065, 0.127, 0.057625, 0.0935, 0.0567, 0.07575, 0.05403333, 0.05796667, 0.04685, 0.0382, 0.085, -0.0726, -0.05725, 0.06575, 0.06565, 0.002633333, -0.091675, -0.13095, -0.03763333, -0.03795, -0.10875, 0.0364, 0.086, 0.03793333, 0.043425, 0.0402, 0.03233333, -0.0981, 0.0351, 0.03965, 0.02765, 0.04806667, -0.0127, 0.0499, 0.08616667, 0.067425, 0.0494, 0.08900000000000001, 0.020225, 0.0687, 0.03655, 0.06035, 0.067475, 0.06535, 0.03946667, 0.01383333, 0.12685, 0.1034, 0.095575, 0.0747, 0.0712, 0.104775, 0.078075, 0.12705, -0.061225, 0.1613, 0.30785, 0.3073, 0.228, 0.2239, 0.17314000000000002, 0.1962, 0.22, 0.230875, 0.1969, 0.04636667, 0.102575, 0.0767, 0.13275, 0.1127, 0.08775, 0.1144, 0.11875999999999999, 0.138175, 0.0902, 0.16233329999999999, 0.1341, 0.07275, 0.17685, 0.18965, 0.3276, 0.1474, 0.1204667, 0.1304, 0.1542333, 0.0836, 0.1507, 0.1446667, 0.16295, 0.26065, 0.0895, 0.2298, 0.168, 0.0267, 0.012, 0.13648, 0.0806, 0.08713333, 0.04675, 0.006633333000000001, 0.0958, 0.0514, 0.041225, 0.0056, 0.14523329999999998, 0.3123, 0.25445, 0.4229, 0.059925, 0.1044, 0.07826667, 0.0705, 0.0941, 0.07736, 0.0333, 0.02535, -0.01266667, -0.0601, 0.09093333, 0.0287, 0.06943333, 0.0057, 0.1132, 0.2009, 0.1278333, 0.01255, 0.068075, 0.2356, 0.04766667, 0.122075, 0.08955, 0.0633, 0.2121, 0.05955, 0.0086, 0.1127, 0.189975, 0.22615, -0.0406, 0.097475, 0.05653333, 0.1358667, 0.08103333, 0.29, 0.0526, 0.06663333, 0.0468, 0.092325, 0.06175, 0.0962, 0.0511, 0.12545, 0.1688, 0.3167, 0.0013, 0.03695, 0.0519, 0.1616, 0.1611, 0.09725, 0.1033, 0.0778, 0.0722, 0.0065, 0.0196, -0.02133333, 0.0278, 0.0551, 0.03865, -0.0772, -0.00445, 0.0648, -0.02545, 0.03885, 0.07326667, -0.0739, -0.1136, -0.02545, 0.11022, -0.003125, -0.03725, -0.12093330000000001, -0.0723, -0.12895, -0.2528, -0.04525, -0.07096667, 0.008225, 0.071375, 0.0542, 0.0702, -0.03445, -0.0001, -0.141, 0.0481, 0.014219999999999998, -0.091575, -0.05085, 0.09896667, -0.1252, 0.0355, 0.072125, -0.0432, -0.007566666999999999, 0.055875, 0.0484, -0.05245, 0.02575, -0.1126667, 0.0661, -0.03565, 0.03633333, 0.0317, 0.0519, -0.013519999999999999, 0.086425, 0.09725, 0.03275, 0.0371, 0.0553, 0.00035, 0.055375, 0.015, -0.037775, 0.0534, -0.1538, -0.0526, -0.0398, 0.0172, -0.178625, -0.10800000000000001, 0.0231, -0.0768, 0.052025, 0.0905, 0.02825, 0.07343333, 0.1412, 0.0162, 0.118525, 0.06016667, -0.008066667, -0.02854, -0.0441, 0.07493999999999999, -0.00385, -0.01173333, -0.10099999999999999, 0.08983333, -0.05443333, 0.0327, 0.1084, -0.021875, 0.0633, 0.0498, 0.074925, 0.007625, 0.02526667, 0.07463333, 0.08800000000000001, 0.1288, -0.00135, -0.0064, -0.0607, -0.08855, -0.0262, -0.0214, -0.06296667, -0.04963333, -0.019275, -0.07645, 0.0431, -0.0758, -0.03735, -0.04855, -0.04113333, 0.01095, -0.0753, -0.00047999999999999996, -0.1235, 0.005433333, -0.2498, 0.082275, 0.06735, -0.004475, 0.09883333, 0.1177, 0.07075, 0.246675, 0.051625, -0.021, -0.00945, -0.0267, 0.069675, 0.051, -0.0271, 0.0049, -0.05933333, -0.02986667, 0.0394, 0.02793333, 0.0278, 0.05126667, -0.0622, 0.06455, 0.0174, 0.04135, -0.07753333, 0.0531, -0.1376, -0.04533333, 0.00455, -0.11174, -0.0458, -0.005, -0.1369, -0.02752, 0.1611, -0.105825, 0.018275, -0.01436, 0.07005, 0.01794, -0.1001, 0.0351, 0.04355, 0.04546667, 0.033525, 0.0144, -0.0572, 0.04276667, 0.1977, 0.05485, 0.06923333, 0.02816667, -0.10605, 0.09955, 0.0136, 0.00345, 0.079825, -0.02706667, -0.0535, -0.0162, -0.03535, -0.1497, 0.1152, -0.0364, -0.0331, -0.4561, -0.01176667, -0.05264, 0.025325, 0.0318, 0.05124, -0.0043, 0.1152, 0.0658, -0.07194, 0.1016, -0.0189, 0.0018, 0.01655, 0.035575, 0.03325, 0.0033, 0.04426667, 0.02055, 0.01195, -0.02765, 0.01205, 0.0211, -0.0616, -0.02493333, 0.04328, 0.11865, 0.005633333000000001, 0.0875, 0.0335, 0.1004, 0.03105, 0.0927, 0.06376667, 0.0749, -0.00294, 0.02476667, 0.10400000000000001, 0.13266670000000003, 0.0543, -0.0486, -0.06255, -0.04166667, -0.04555, 0.0163, -0.3096, -0.2153, -0.0032, -0.0631, -0.09506667, -0.09003333, -0.1412, 0.02445, -0.0399, -0.01683333, -0.05275, -0.01036667], \"yaxis\": \"y\"}, {\"line\": {\"color\": \"rgba(193,99,99,0.8)\"}, \"name\": \"nw_pred\", \"showlegend\": true, \"type\": \"scatter\", \"x\": [0, 1, 2, 3, 4, 6, 7, 8, 10, 11, 12, 16, 17, 18, 19, 20, 21, 22, 23, 25, 26, 27, 28, 29, 30, 31, 32, 33, 34, 35, 38, 39, 40, 41, 43, 44, 46, 47, 48, 49, 50, 52, 53, 55, 56, 57, 58, 59, 60, 64, 66, 68, 69, 70, 71, 72, 73, 74, 75, 76, 77, 78, 79, 80, 81, 82, 83, 84, 86, 88, 89, 90, 92, 97, 98, 100, 101, 102, 103, 104, 105, 106, 107, 109, 110, 111, 112, 113, 115, 116, 117, 118, 119, 120, 121, 123, 124, 125, 126, 127, 128, 129, 130, 131, 132, 133, 134, 135, 136, 138, 140, 141, 143, 144, 145, 146, 148, 149, 150, 151, 152, 154, 155, 157, 158, 159, 160, 161, 164, 165, 166, 167, 168, 169, 171, 172, 173, 174, 175, 176, 177, 178, 179, 180, 182, 184, 185, 186, 187, 189, 190, 192, 193, 194, 195, 196, 197, 198, 201, 202, 203, 204, 205, 206, 208, 209, 210, 211, 212, 213, 214, 216, 217, 218, 219, 220, 221, 223, 224, 225, 226, 227, 243, 244, 246, 247, 249, 251, 252, 253, 254, 255, 256, 259, 260, 262, 263, 264, 266, 267, 268, 269, 270, 272, 274, 275, 276, 277, 278, 279, 280, 281, 282, 283, 284, 285, 287, 288, 289, 290, 292, 293, 295, 296, 297, 298, 299, 300, 301, 303, 305, 306, 308, 309, 310, 312, 313, 315, 316, 317, 318, 319, 320, 322, 323, 324, 325, 327, 329, 330, 331, 333, 334, 335, 337, 338, 339, 340, 343, 346, 347, 349, 350, 351, 352, 353, 354, 358, 359, 361, 362, 363, 364, 365, 366, 367, 368, 369, 370, 371, 372, 373, 374, 375, 377, 378, 379, 381, 382, 383, 384, 385, 386, 387, 388, 392, 394, 395, 398, 400, 401, 402, 403, 404, 405, 407, 408, 410, 412, 413, 414, 415, 416, 419, 420, 421, 422, 423, 424, 425, 426, 427, 428, 429, 430, 431, 432, 433, 434, 435, 437, 438, 441, 442, 444, 446, 447, 448, 449, 450, 453, 454, 455, 458, 459, 460, 461, 462, 463, 464, 466, 467, 468, 469, 473, 474, 478, 479, 480, 481, 482, 484, 485, 487, 488, 489, 490, 491, 492, 495, 496, 497, 498, 499, 501, 502, 503, 504, 505, 506, 507, 508, 510, 512, 513, 514, 515, 517, 518, 519, 520, 521, 523, 524, 525, 526, 527, 528, 529, 530, 531, 532, 533, 534, 535, 536, 537, 539, 540, 541, 543, 544, 545, 546, 547, 548, 549, 551, 552, 553, 554, 555, 556, 558, 559, 561, 562, 563, 564, 565, 566, 568, 570, 573, 574, 575, 576, 577, 579, 580, 581, 582, 583, 584, 585, 586, 587, 588, 590, 591, 592, 593, 594, 595, 597, 598, 599, 600, 601, 602, 603, 604, 605, 606, 607, 608, 609, 610, 612, 613, 614, 615, 616, 617, 618, 619, 620, 621, 623, 624, 625, 626, 627, 628, 629, 633, 634, 636, 637, 638, 639, 640, 641, 642, 643, 645, 646, 647, 649, 650, 651, 652, 654, 655, 656, 657, 658, 659, 660, 661, 662, 663, 664, 666, 667, 668, 669, 670, 671, 672, 673, 675, 676, 677, 678, 680, 682, 683, 684, 685, 687, 688, 689, 690, 691, 692, 695, 696, 697, 699, 700, 701, 702, 704, 705, 706, 707, 708, 709, 710, 712, 714, 715, 717, 718, 719, 720, 721, 723, 725, 726, 730, 731, 732, 733, 734, 735, 736, 738, 739, 740, 741, 742, 743, 744, 745, 746, 747, 750, 751, 753, 754, 755, 756, 757, 758, 759, 760, 761, 762, 764, 765, 766, 767, 768, 769, 771, 772, 774, 775, 777, 778, 779, 781, 782, 784, 785, 786, 787, 789, 790, 791, 792, 793, 794, 796, 797, 799, 800, 801, 802, 803, 804, 805, 806, 807, 808, 809, 812, 813, 814, 815, 816, 817, 818, 819, 820, 821, 822, 823, 824, 825, 826, 829, 830, 831, 832, 833, 835, 837, 838, 839, 840, 841, 842, 843, 844, 845, 846, 847, 849, 850, 851, 852, 853, 854, 856, 857, 858, 860, 861, 862, 864, 865, 866, 867, 869, 870, 872, 873, 874, 876, 877, 878, 879, 880, 881, 882, 883, 884, 885, 886, 887, 889, 890, 891, 892, 893, 895, 896, 897, 898, 900, 901, 904, 905, 906, 907, 908, 910, 911, 912, 914, 916, 918, 919, 922, 924, 925, 926, 928, 929, 930, 931, 932, 933, 935], \"xaxis\": \"x\", \"y\": [0.10919655942857158, 0.13804603595238119, 0.1255500862142856, 0.21472627357142834, 0.23695151285714278, 0.10400153571428584, 0.07056888060714273, 0.1296446069285713, 0.10454793173469379, 0.21863816285714302, 0.15928381071428593, 0.15807032407142854, 0.2673978564285712, 0.19479773595238106, 0.3053616067142858, 0.20041529357142845, 0.22195826285714254, 0.18868644595238104, 0.0922771428571429, 0.10536773857142874, 0.19759195571428612, 0.15686730749999966, 0.21008721290476168, 0.23672663071428549, 0.17283964278571465, 0.10773375071428555, 0.19793361911904717, 0.25133954880952414, 0.24158468121428547, 0.12987954307142852, 0.2507532878571424, 0.17703572385714256, 0.2472000877976185, 0.15448831571428567, 0.17793117950000026, 0.2451513226666663, 0.1654606192857142, 0.22469999178571445, 0.227721547857143, 0.2038176922857139, 0.08250523735714281, 0.14791715140136064, 0.1546095684285713, 0.10714209128571414, 0.16285434678571398, 0.0922166666666666, 0.1499492464285712, 0.08537426609523799, 0.0988336328214285, 0.029548817904761857, 0.10225549741836727, 0.08535341492857156, 0.06262309527857149, 0.08818261907142876, 0.14998679914285712, 0.14384612642857147, 0.17220894142857154, 0.14898198814285735, 0.08352129761904759, 0.08931773805714281, 0.12261925235714306, 0.0799116660714287, 0.05442921744285724, 0.09114260836734685, 0.02279030957142855, 0.12790838097619045, 0.1093697326428571, 0.15013391341785717, 0.11069053542857127, 0.07932714285714285, 0.21115245576190508, 0.11793584521428566, 0.0944242842857143, 0.09140843430952378, 0.08056213021428568, 0.0790679051904763, 0.1372159042857144, 0.086431096095238, 0.09073344377380943, 0.058251351111904826, 0.1734337149285713, 0.030887987857142894, 0.07367346627380952, 0.1289780356428572, 0.07754123799999996, 0.12926900064285726, 0.11983875000000019, 0.13364515278571418, 0.11834434521428587, -0.036823416642857265, 0.09393119307142847, 0.1649787239642859, 0.1425930965476192, 0.122931726142857, 0.0989529863469386, 0.17077952500000002, 0.07984049570476186, 0.13498541692857133, 0.14380200791666686, 0.1302182977857143, 0.20823468642857162, 0.026862678642857147, 0.12754529757142874, 0.12396431448809542, 0.12763163085714302, 0.05805281913095232, 0.0927128645000002, 0.07851690500000018, 0.09828797485714268, 0.05156630038571428, 0.045759398142857184, 0.042838404595238064, 0.06749942903571438, 0.038808863949999974, 0.10756780928571416, 0.16059473309523806, 0.12047107316666697, 0.1877770960714283, -0.01625135681428574, 0.10334476428571417, 0.09695858107142868, 0.028870774071428584, 0.08158362341666665, 0.057405048803571355, 0.05745738135714273, 0.11179863128571414, 0.07338438087857145, 0.03043145229285721, 0.09901896639285727, 0.15577191928571457, 0.0866316796382653, 0.07382200252380937, 0.15271703614285737, 0.09589550000000013, 0.1300684529500001, 0.06699750242857137, 0.2100745835714285, 0.12476761778571421, 0.07797738690476193, 0.09683957157142843, 0.04758808915476194, 0.04577522580952385, 0.08587019345238074, 0.0775088988571429, 0.1278124353061225, 0.00844263092857143, 0.05607029129659857, 0.15944061499999995, 0.09805053547619062, -0.08395327578571421, -0.010602142192857145, 0.013368452285714311, 0.10533326928571442, 0.1290160636666666, -0.04355393799999997, 0.19731959023809553, 0.09590619028571444, 0.2530293135119045, 0.10928297621428562, 0.0062003289666666545, 0.08371905035714296, 0.13482440285714295, 0.06531493792857145, 0.13281019021428586, 0.04348269052619052, 0.07265544021428579, 0.10478516342857164, 0.051542340414285556, 0.10823783333333334, 0.12553912000000012, 0.06587219448809523, 0.027394606999999942, 0.16465630950000001, 0.17726446997619058, 0.1873438223571424, 0.10200061764285728, 0.20432719207142838, -0.01660982196428572, 0.013469999642857122, 0.12594891580952383, 0.10477264947142875, 0.06915842285714295, 0.10745107166666663, 0.20892168166666655, -0.03088845242857137, 0.09412566728571413, 0.07104448549999996, 0.060003814916666634, 0.06904529804761898, 0.10181089021428585, 0.10630313200595225, 0.17152458261666645, 0.2431722757142861, 0.119742547857143, 0.14618297714285688, 0.1045041487142857, 0.07003336721428564, 0.10269206357142875, 0.05948660785714287, 0.09419425177380959, 0.2070040478571432, 0.211489015952381, 0.26611357809523833, 0.1061712860714284, 0.08534443210714288, 0.043686518276190446, 0.08939236907142847, 0.09235563085714284, 0.06905615696428573, 0.1437369652142855, 0.054200966845238084, 0.13258983335714272, 0.09031050390476188, 0.19729657071428544, 0.08263191349999999, 0.07348584568571427, 0.13963749857142874, 0.03903595216428563, 0.06831202649999998, 0.07583579428571441, 0.13299528571428576, 0.017042914654761914, 0.026977966264285697, 0.13565797042857153, 0.053177640666666616, 0.12578130385714284, 0.12120560328571402, 0.03545022652380956, 0.11458857128571451, 0.08224880378571414, 0.04655076190476198, 0.09843561849999999, 0.035876831255102076, 0.10622684542857122, 0.11318479809523835, 0.18452126976190442, -0.038518309589285794, 0.06480895828571422, 0.09591531683333347, 0.07976729196428581, 0.09661478549999987, 0.07190098429489811, 0.13435288321428562, 0.07998361745833338, 0.10582987907142871, -0.0030474880500000003, 0.10119302164285728, 0.056856131071428465, 0.0565347643571428, 0.03944818457142852, 0.10722746499999987, 0.029422977571428525, 0.033714256967857216, -0.01108630950714286, -0.058000455901190545, 0.012774160473809535, -0.007627821785714304, 0.04691907103571424, -0.01554836498214286, 0.011635476142857145, 0.10924282669047637, -0.035804286321428555, 0.062363097357142905, 0.04461077155510196, 0.0368187649353175, 0.10431083371428561, 0.06521139328571439, 0.12971351357142852, 0.12632011928571413, 0.07284544523571417, 0.05444679687857137, 0.04146316338095232, 0.015203273585714307, 0.010075313738095225, 0.07920675298214282, 0.06895976139285713, 0.04897788742857133, 0.08718660727619051, 0.10766127378571445, 0.049935406821428496, 0.08521931595238076, 0.07473661964285722, 0.07254567027380954, -0.004187654964285719, 0.09770975592857159, 0.09298744000000006, 0.03190795228571427, 0.09310523912653075, 0.11096421164285701, 0.06072178592857148, 0.007299343549999988, 0.11355694921428554, 0.1136785829285714, 0.057027068066666575, 0.053492321278571425, 0.08633937510714289, 0.15373736211904757, 0.06110291692857137, 0.06206056561428563, 0.022851934735714292, 0.012299830741666667, 0.09303030000000007, 0.06551619085714284, -0.03815036490476198, 0.07739881028571423, 0.10634059521428553, 0.08620774749302733, 0.08328032509285695, 0.04135797850000004, 0.062141020714285705, 0.07284124988095238, 0.08296106360714282, 0.09313082567857121, 0.02628574418571422, 0.0491817805619048, 0.05173724014285718, 0.14067281686904756, 0.0461833034142858, 0.0363518514428572, 0.08221466742397968, 0.034153893092857206, 0.04619386705952386, 0.09433587282142862, 0.11961190619047628, 0.06175367258571423, 0.0802444523571429, 0.07788964449999997, 0.07129799697619048, 0.04834890653571439, 0.06014934721428565, 0.04204190996428572, 0.025147333357142792, 0.07104930655952392, -0.05173261892857136, -0.03755455339999993, 0.059674017592857266, 0.054748562535714265, 0.02158255824285711, -0.08509294041904775, -0.0561371197142858, -0.04716664902142858, -0.02062432047380949, -0.04957113171428564, 0.029768472309523814, 0.09713946435714295, 0.018451878999999987, 0.022564305857142877, 0.029857916499999977, 0.06205915142857153, -0.032654251535714295, 0.03416405945238089, 0.053416778785714256, 0.03430953614285716, 0.053941753807142785, 0.00473869028571427, 0.04934921934013608, 0.09210076426190492, 0.05542866566666672, 0.07289011950000011, 0.058454109785714435, -0.0016549401571428614, 0.047219571428571416, 0.023663678702380987, 0.06608919621428562, 0.03693510714285712, 0.06948383891666661, 0.052146449988095325, 0.0404412214904762, 0.08331951192857134, 0.09404468521122461, 0.11217035714285731, 0.06491364285714284, 0.031973375600000055, 0.14343803571428582, 0.08704576747857147, 0.12182782266666685, -0.07164959521428582, 0.1498507296156465, 0.26817227166666635, 0.27346805898809523, 0.2330599344642862, 0.21655400250000006, 0.167111617984694, 0.16997208428571442, 0.19060185428571413, 0.20190488071428592, 0.18717838976190457, 0.07939217229761897, 0.08522550385714274, 0.02122439242857146, 0.1282094047619047, 0.10870220240476204, 0.08833314086904749, 0.12630735060374135, 0.09977145757142858, 0.12173993526428592, 0.10181009642857136, 0.14244501464285725, 0.12887964357142861, 0.06390789881785713, 0.19111648738095277, 0.20008358226190492, 0.27427226214285694, 0.13854892878571431, 0.11503460023809516, 0.13890073789285728, 0.15622997757142873, 0.09184571428571431, 0.12925607214285734, 0.14546415759523793, 0.1883366860714284, 0.24951039821428514, 0.08400669007142844, 0.18372345235714327, 0.15252892799659834, 0.04736567044897956, 0.03834583107142849, 0.11546575095238105, 0.08449924992857161, 0.06568436714285725, 0.043260595178571504, 0.012421201841785686, 0.0862081916428572, 0.04792801190238094, 0.038960382157142814, -0.0016062618000000017, 0.16229918673809532, 0.28626119071428596, 0.2245060092857139, 0.33668361785714207, 0.07936860728571415, 0.12306501192857139, 0.08606125107142844, 0.059108507071428576, 0.09917890485714266, 0.08767369023809524, 0.04955023710714277, 0.04745165091666678, 0.006386450285714289, -0.022607415449999974, 0.06424868815714298, -0.00039372829047619045, 0.050860533907142805, 0.009352057413095242, 0.09352943983333352, 0.17221121357142893, 0.1065600503673471, 0.03114374995000002, 0.05443867563690482, 0.2231607121428577, 0.040246644928571385, 0.12021829811904775, 0.10409246428571403, 0.0736981532571428, 0.15129541685714273, 0.022904998857142877, 0.018336654709523784, 0.11031460545238106, 0.2111354188095241, 0.20893161547619074, -0.033731198261904786, 0.048262547492857195, 0.05190176421428567, 0.15148871142857148, 0.05868031878571438, 0.2499209292857138, 0.05704518647380951, 0.07273268819047629, 0.020973145995238134, 0.06830455918095239, 0.04590348212142853, 0.0802574841761904, 0.057909500214285675, 0.10629351195000021, 0.11934988142857124, 0.2508167364285717, -0.0029946429124999853, 0.032557819179761915, 0.03659364299999996, 0.1440866070714286, 0.15761936625850348, 0.11027987500000018, 0.08270095854285722, 0.07932483916428566, 0.0698364504785714, 0.0006051310417857158, 0.04689249992857138, -0.0034037680821428578, -0.004974400672619036, 0.05694003571428582, 0.029787321307142883, -0.018851119007142852, 0.009205702333333331, 0.07623815827380952, 0.009374832857142865, 0.03711874479251702, 0.06921042471071429, -0.044945357528571456, -0.08323266683333327, -0.002769476385714278, 0.1481017728571431, 0.05034190500000007, -0.010284618976190485, -0.09750950385714306, -0.08330297635714295, -0.08386494048095232, -0.1531764871428573, -0.048846787519047655, -0.06928901378571427, 0.031386696642857134, 0.06439160628571423, 0.044720738157142774, 0.07313425182857133, -0.02137394057857147, -0.0009415213428571392, -0.11501660114285721, 0.04147504796428563, 0.0024071902000000036, -0.05248134523809525, 0.0059025588571428676, 0.1025451925714284, -0.07825011902857142, 0.04288833328571424, 0.04418952374999992, -0.017834726023809516, -0.0014345895999999998, 0.05555737107142863, 0.05620879045000001, -0.055695166785714366, 0.01317488097619047, -0.0745056028357143, 0.09105630785714292, 0.006968413309523818, 0.04931185257142849, 0.044906130185714196, 0.06108675045833329, 0.06614619119047623, 0.06327357137976197, 0.05886382140476185, 0.022247059426190496, 0.03664791792857141, 0.04601321492857136, 0.032691874910714326, 0.054820531309523746, -0.015144797571428573, -0.04874697760119042, 0.04616357144999994, -0.12012223785714303, -0.02945877992499999, -0.015204940523809541, 0.020009801974999984, -0.11368950007142857, -0.03753273807142857, 0.001956071571428575, -0.07286690459523826, 0.0642260466619049, 0.04121543676428566, 0.018262172307142874, -0.016262633071428594, 0.2093047621428574, 0.020826595061904766, 0.06394324607142858, 0.06777901723809517, -0.002388930444047621, -0.009223464600000002, -0.03137132135714283, 0.054195344809523704, 0.01616733935714287, -0.009260106708333327, -0.047105452549999996, 0.07187251781224488, -0.03986186687857149, 0.023256630878571452, 0.08629760834285698, -0.010520912608333339, 0.07562795643452379, 0.05199984102380954, 0.08569399324047627, 0.0017355964214285674, 0.03832607385714284, 0.0740697796869047, 0.0788679648333332, 0.13226291092857131, 0.02718470228571429, 0.06579355714285712, -0.024248280500000045, -0.06600982128571418, -0.009383559708214287, -0.04746409507142854, -0.05667793835714277, -0.01686893253095238, -0.00024342864285714015, -0.05172551595238098, 0.02798384523571424, -0.023993386835714326, -0.0035443987857142843, 0.013247500928571406, -0.025578176397619074, 0.024692142428571356, -0.061683690457142976, 0.005704918857142847, -0.08547997607142853, 0.013730809657142875, -0.16267904782142878, 0.06778918071428566, 0.05540390053061228, 0.005612588976190475, 0.08381032532857133, 0.09288708023214268, 0.06267130942857149, 0.18958516640476178, 0.05482932792857134, -0.0006675193202380979, -0.010175387267857135, -0.014020884921428549, 0.06591348053571433, 0.025300988071428616, -0.007021071442857144, 0.01011460708095237, -0.04397215275714288, -0.020108948500000036, 0.04196655464965986, 0.025345700250000047, 0.034751738571428575, 0.03586275234285717, 0.006982998928571428, 0.04637777373571424, 0.030438869164285703, 0.03162962791785713, -0.050777950671428505, 0.08237493857142868, -0.10022406715476204, -0.028936187971428596, 0.030702440464285725, -0.10068786914285704, 0.0014147322119047602, 0.007961825321428577, -0.1101224967857145, 0.06085528264285707, 0.09600565473809511, -0.113082321642857, 0.019353499904761925, 0.0008139762857142874, 0.05786053689285719, 0.03194821409999998, -0.042969738066666714, 0.03096928566666662, 0.03553232531428576, 0.05834701926190467, 0.04291184853055556, 0.02164585722142859, -0.038646761861904716, 0.036143156928571334, 0.15589499935714288, 0.0609272815952381, 0.05352311712380961, 0.03924101382619049, -0.06670665077976186, 0.03613590470238088, 0.015665511833333326, 0.029899821469387727, 0.06619822664285699, 0.0009288547738095196, -0.029232654428571463, -0.024471287221428568, -0.014169811436904767, -0.04872755757142866, 0.10994394045238087, 0.006137334642857147, -0.03645339257142862, -0.3124433333571425, 0.023261402642857087, -0.04847541667142866, 0.014284606897619059, 0.009423519571428582, 0.10041778571428564, 0.004505715142857143, 0.12557797714285707, 0.007947679785714293, -0.05733576238095231, 0.1057711305238094, -0.006173119285714297, 0.028976667357142816, 0.008150791473809513, 0.03998030730952377, 0.02642520240476189, 0.006409377153571423, 0.046942517214285634, 0.02655705142857145, 0.026001550175000023, -0.027641321642857118, 0.032296607142857134, 0.03370834828571428, -0.04757507121428579, -0.007046414399999989, 0.08071809557142855, 0.1446446119047619, 0.016491577326190485, 0.07552639283333347, 0.020622341642857176, 0.07431695719047615, 0.030239484042857142, 0.08779253342857161, 0.07390253830357134, 0.047268511854761976, 0.00979820258571429, 0.052770891928571415, 0.06766390457142855, 0.09262144930714282, 0.07708857164285698, -0.04546588035714294, -0.051426187880952344, -0.022096636957142868, -0.04406530950000009, 0.024793928357142902, -0.1982372848714284, -0.1232946976619045, -0.010596130928571427, -0.00014474664285714793, -0.07794866273214271, -0.0626724202583333, -0.10451821457142832, 0.0292487706428571, -0.002672857142857148, -0.01573571214285716, -0.03188458321428572, 0.009452736142857134], \"yaxis\": \"y\"}],\n",
              "                        {\"autosize\": false, \"height\": 600, \"template\": {\"data\": {\"bar\": [{\"error_x\": {\"color\": \"#2a3f5f\"}, \"error_y\": {\"color\": \"#2a3f5f\"}, \"marker\": {\"line\": {\"color\": \"#E5ECF6\", \"width\": 0.5}}, \"type\": \"bar\"}], \"barpolar\": [{\"marker\": {\"line\": {\"color\": \"#E5ECF6\", \"width\": 0.5}}, \"type\": \"barpolar\"}], \"carpet\": [{\"aaxis\": {\"endlinecolor\": \"#2a3f5f\", \"gridcolor\": \"white\", \"linecolor\": \"white\", \"minorgridcolor\": \"white\", \"startlinecolor\": \"#2a3f5f\"}, \"baxis\": {\"endlinecolor\": \"#2a3f5f\", \"gridcolor\": \"white\", \"linecolor\": \"white\", \"minorgridcolor\": \"white\", \"startlinecolor\": \"#2a3f5f\"}, \"type\": \"carpet\"}], \"choropleth\": [{\"colorbar\": {\"outlinewidth\": 0, \"ticks\": \"\"}, \"type\": \"choropleth\"}], \"contour\": [{\"colorbar\": {\"outlinewidth\": 0, \"ticks\": \"\"}, \"colorscale\": [[0.0, \"#0d0887\"], [0.1111111111111111, \"#46039f\"], [0.2222222222222222, \"#7201a8\"], [0.3333333333333333, \"#9c179e\"], [0.4444444444444444, \"#bd3786\"], [0.5555555555555556, \"#d8576b\"], [0.6666666666666666, \"#ed7953\"], [0.7777777777777778, \"#fb9f3a\"], [0.8888888888888888, \"#fdca26\"], [1.0, \"#f0f921\"]], \"type\": \"contour\"}], \"contourcarpet\": [{\"colorbar\": {\"outlinewidth\": 0, \"ticks\": \"\"}, \"type\": \"contourcarpet\"}], \"heatmap\": [{\"colorbar\": {\"outlinewidth\": 0, \"ticks\": \"\"}, \"colorscale\": [[0.0, \"#0d0887\"], [0.1111111111111111, \"#46039f\"], [0.2222222222222222, \"#7201a8\"], [0.3333333333333333, \"#9c179e\"], [0.4444444444444444, \"#bd3786\"], [0.5555555555555556, \"#d8576b\"], [0.6666666666666666, \"#ed7953\"], [0.7777777777777778, \"#fb9f3a\"], [0.8888888888888888, \"#fdca26\"], [1.0, \"#f0f921\"]], \"type\": \"heatmap\"}], \"heatmapgl\": [{\"colorbar\": {\"outlinewidth\": 0, \"ticks\": \"\"}, \"colorscale\": [[0.0, \"#0d0887\"], [0.1111111111111111, \"#46039f\"], [0.2222222222222222, \"#7201a8\"], [0.3333333333333333, \"#9c179e\"], [0.4444444444444444, \"#bd3786\"], [0.5555555555555556, \"#d8576b\"], [0.6666666666666666, \"#ed7953\"], [0.7777777777777778, \"#fb9f3a\"], [0.8888888888888888, \"#fdca26\"], [1.0, \"#f0f921\"]], \"type\": \"heatmapgl\"}], \"histogram\": [{\"marker\": {\"colorbar\": {\"outlinewidth\": 0, \"ticks\": \"\"}}, \"type\": \"histogram\"}], \"histogram2d\": [{\"colorbar\": {\"outlinewidth\": 0, \"ticks\": \"\"}, \"colorscale\": [[0.0, \"#0d0887\"], [0.1111111111111111, \"#46039f\"], [0.2222222222222222, \"#7201a8\"], [0.3333333333333333, \"#9c179e\"], [0.4444444444444444, \"#bd3786\"], [0.5555555555555556, \"#d8576b\"], [0.6666666666666666, \"#ed7953\"], [0.7777777777777778, \"#fb9f3a\"], [0.8888888888888888, \"#fdca26\"], [1.0, \"#f0f921\"]], \"type\": \"histogram2d\"}], \"histogram2dcontour\": [{\"colorbar\": {\"outlinewidth\": 0, \"ticks\": \"\"}, \"colorscale\": [[0.0, \"#0d0887\"], [0.1111111111111111, \"#46039f\"], [0.2222222222222222, \"#7201a8\"], [0.3333333333333333, \"#9c179e\"], [0.4444444444444444, \"#bd3786\"], [0.5555555555555556, \"#d8576b\"], [0.6666666666666666, \"#ed7953\"], [0.7777777777777778, \"#fb9f3a\"], [0.8888888888888888, \"#fdca26\"], [1.0, \"#f0f921\"]], \"type\": \"histogram2dcontour\"}], \"mesh3d\": [{\"colorbar\": {\"outlinewidth\": 0, \"ticks\": \"\"}, \"type\": \"mesh3d\"}], \"parcoords\": [{\"line\": {\"colorbar\": {\"outlinewidth\": 0, \"ticks\": \"\"}}, \"type\": \"parcoords\"}], \"pie\": [{\"automargin\": true, \"type\": \"pie\"}], \"scatter\": [{\"marker\": {\"colorbar\": {\"outlinewidth\": 0, \"ticks\": \"\"}}, \"type\": \"scatter\"}], \"scatter3d\": [{\"line\": {\"colorbar\": {\"outlinewidth\": 0, \"ticks\": \"\"}}, \"marker\": {\"colorbar\": {\"outlinewidth\": 0, \"ticks\": \"\"}}, \"type\": \"scatter3d\"}], \"scattercarpet\": [{\"marker\": {\"colorbar\": {\"outlinewidth\": 0, \"ticks\": \"\"}}, \"type\": \"scattercarpet\"}], \"scattergeo\": [{\"marker\": {\"colorbar\": {\"outlinewidth\": 0, \"ticks\": \"\"}}, \"type\": \"scattergeo\"}], \"scattergl\": [{\"marker\": {\"colorbar\": {\"outlinewidth\": 0, \"ticks\": \"\"}}, \"type\": \"scattergl\"}], \"scattermapbox\": [{\"marker\": {\"colorbar\": {\"outlinewidth\": 0, \"ticks\": \"\"}}, \"type\": \"scattermapbox\"}], \"scatterpolar\": [{\"marker\": {\"colorbar\": {\"outlinewidth\": 0, \"ticks\": \"\"}}, \"type\": \"scatterpolar\"}], \"scatterpolargl\": [{\"marker\": {\"colorbar\": {\"outlinewidth\": 0, \"ticks\": \"\"}}, \"type\": \"scatterpolargl\"}], \"scatterternary\": [{\"marker\": {\"colorbar\": {\"outlinewidth\": 0, \"ticks\": \"\"}}, \"type\": \"scatterternary\"}], \"surface\": [{\"colorbar\": {\"outlinewidth\": 0, \"ticks\": \"\"}, \"colorscale\": [[0.0, \"#0d0887\"], [0.1111111111111111, \"#46039f\"], [0.2222222222222222, \"#7201a8\"], [0.3333333333333333, \"#9c179e\"], [0.4444444444444444, \"#bd3786\"], [0.5555555555555556, \"#d8576b\"], [0.6666666666666666, \"#ed7953\"], [0.7777777777777778, \"#fb9f3a\"], [0.8888888888888888, \"#fdca26\"], [1.0, \"#f0f921\"]], \"type\": \"surface\"}], \"table\": [{\"cells\": {\"fill\": {\"color\": \"#EBF0F8\"}, \"line\": {\"color\": \"white\"}}, \"header\": {\"fill\": {\"color\": \"#C8D4E3\"}, \"line\": {\"color\": \"white\"}}, \"type\": \"table\"}]}, \"layout\": {\"annotationdefaults\": {\"arrowcolor\": \"#2a3f5f\", \"arrowhead\": 0, \"arrowwidth\": 1}, \"coloraxis\": {\"colorbar\": {\"outlinewidth\": 0, \"ticks\": \"\"}}, \"colorscale\": {\"diverging\": [[0, \"#8e0152\"], [0.1, \"#c51b7d\"], [0.2, \"#de77ae\"], [0.3, \"#f1b6da\"], [0.4, \"#fde0ef\"], [0.5, \"#f7f7f7\"], [0.6, \"#e6f5d0\"], [0.7, \"#b8e186\"], [0.8, \"#7fbc41\"], [0.9, \"#4d9221\"], [1, \"#276419\"]], \"sequential\": [[0.0, \"#0d0887\"], [0.1111111111111111, \"#46039f\"], [0.2222222222222222, \"#7201a8\"], [0.3333333333333333, \"#9c179e\"], [0.4444444444444444, \"#bd3786\"], [0.5555555555555556, \"#d8576b\"], [0.6666666666666666, \"#ed7953\"], [0.7777777777777778, \"#fb9f3a\"], [0.8888888888888888, \"#fdca26\"], [1.0, \"#f0f921\"]], \"sequentialminus\": [[0.0, \"#0d0887\"], [0.1111111111111111, \"#46039f\"], [0.2222222222222222, \"#7201a8\"], [0.3333333333333333, \"#9c179e\"], [0.4444444444444444, \"#bd3786\"], [0.5555555555555556, \"#d8576b\"], [0.6666666666666666, \"#ed7953\"], [0.7777777777777778, \"#fb9f3a\"], [0.8888888888888888, \"#fdca26\"], [1.0, \"#f0f921\"]]}, \"colorway\": [\"#636efa\", \"#EF553B\", \"#00cc96\", \"#ab63fa\", \"#FFA15A\", \"#19d3f3\", \"#FF6692\", \"#B6E880\", \"#FF97FF\", \"#FECB52\"], \"font\": {\"color\": \"#2a3f5f\"}, \"geo\": {\"bgcolor\": \"white\", \"lakecolor\": \"white\", \"landcolor\": \"#E5ECF6\", \"showlakes\": true, \"showland\": true, \"subunitcolor\": \"white\"}, \"hoverlabel\": {\"align\": \"left\"}, \"hovermode\": \"closest\", \"mapbox\": {\"style\": \"light\"}, \"paper_bgcolor\": \"white\", \"plot_bgcolor\": \"#E5ECF6\", \"polar\": {\"angularaxis\": {\"gridcolor\": \"white\", \"linecolor\": \"white\", \"ticks\": \"\"}, \"bgcolor\": \"#E5ECF6\", \"radialaxis\": {\"gridcolor\": \"white\", \"linecolor\": \"white\", \"ticks\": \"\"}}, \"scene\": {\"xaxis\": {\"backgroundcolor\": \"#E5ECF6\", \"gridcolor\": \"white\", \"gridwidth\": 2, \"linecolor\": \"white\", \"showbackground\": true, \"ticks\": \"\", \"zerolinecolor\": \"white\"}, \"yaxis\": {\"backgroundcolor\": \"#E5ECF6\", \"gridcolor\": \"white\", \"gridwidth\": 2, \"linecolor\": \"white\", \"showbackground\": true, \"ticks\": \"\", \"zerolinecolor\": \"white\"}, \"zaxis\": {\"backgroundcolor\": \"#E5ECF6\", \"gridcolor\": \"white\", \"gridwidth\": 2, \"linecolor\": \"white\", \"showbackground\": true, \"ticks\": \"\", \"zerolinecolor\": \"white\"}}, \"shapedefaults\": {\"line\": {\"color\": \"#2a3f5f\"}}, \"ternary\": {\"aaxis\": {\"gridcolor\": \"white\", \"linecolor\": \"white\", \"ticks\": \"\"}, \"baxis\": {\"gridcolor\": \"white\", \"linecolor\": \"white\", \"ticks\": \"\"}, \"bgcolor\": \"#E5ECF6\", \"caxis\": {\"gridcolor\": \"white\", \"linecolor\": \"white\", \"ticks\": \"\"}}, \"title\": {\"x\": 0.05}, \"xaxis\": {\"automargin\": true, \"gridcolor\": \"white\", \"linecolor\": \"white\", \"ticks\": \"\", \"title\": {\"standoff\": 15}, \"zerolinecolor\": \"white\", \"zerolinewidth\": 2}, \"yaxis\": {\"automargin\": true, \"gridcolor\": \"white\", \"linecolor\": \"white\", \"ticks\": \"\", \"title\": {\"standoff\": 15}, \"zerolinecolor\": \"white\", \"zerolinewidth\": 2}}}, \"title\": {\"text\": \"NDVI_NW\"}, \"width\": 1200, \"xaxis\": {\"anchor\": \"y\", \"domain\": [0.0, 1.0]}, \"yaxis\": {\"anchor\": \"x\", \"domain\": [0.0, 1.0]}},\n",
              "                        {\"responsive\": true}\n",
              "                    ).then(function(){\n",
              "                            \n",
              "var gd = document.getElementById('792ad4cb-6c1a-48d9-b415-49b3650fa3fc');\n",
              "var x = new MutationObserver(function (mutations, observer) {{\n",
              "        var display = window.getComputedStyle(gd).display;\n",
              "        if (!display || display === 'none') {{\n",
              "            console.log([gd, 'removed!']);\n",
              "            Plotly.purge(gd);\n",
              "            observer.disconnect();\n",
              "        }}\n",
              "}});\n",
              "\n",
              "// Listen for the removal of the full notebook cells\n",
              "var notebookContainer = gd.closest('#notebook-container');\n",
              "if (notebookContainer) {{\n",
              "    x.observe(notebookContainer, {childList: true});\n",
              "}}\n",
              "\n",
              "// Listen for the clearing of the current output cell\n",
              "var outputEl = gd.closest('.output');\n",
              "if (outputEl) {{\n",
              "    x.observe(outputEl, {childList: true});\n",
              "}}\n",
              "\n",
              "                        })\n",
              "                };\n",
              "                \n",
              "            </script>\n",
              "        </div>\n",
              "</body>\n",
              "</html>"
            ]
          },
          "metadata": {
            "tags": []
          }
        }
      ]
    },
    {
      "cell_type": "code",
      "metadata": {
        "id": "z5MpfyUIYhso"
      },
      "source": [
        ""
      ],
      "execution_count": 89,
      "outputs": []
    },
    {
      "cell_type": "code",
      "metadata": {
        "id": "lVCP0yAHYhoX"
      },
      "source": [
        ""
      ],
      "execution_count": 89,
      "outputs": []
    },
    {
      "cell_type": "code",
      "metadata": {
        "id": "7uj-tfSqXmoU"
      },
      "source": [
        "ndv_features=[\"ndvi_nw\",\"ndvi_se\",\"ndvi_sw\"]\n"
      ],
      "execution_count": 90,
      "outputs": []
    },
    {
      "cell_type": "code",
      "metadata": {
        "id": "ziygdFlIXm5Y"
      },
      "source": [
        ""
      ],
      "execution_count": null,
      "outputs": []
    },
    {
      "cell_type": "markdown",
      "metadata": {
        "id": "QvgVvfXwXoWb"
      },
      "source": [
        "### LSTM"
      ]
    },
    {
      "cell_type": "code",
      "metadata": {
        "id": "enoFbfrLHeOf"
      },
      "source": [
        "from keras.layers import InputLayer, Dense, LSTM, Input, Dropout\n",
        "from keras.models import Sequential, Model\n",
        "from keras.optimizers import SGD,Adam,Adamax,Nadam,Ftrl,Adadelta,Adagrad,Nadam\n",
        "import tensorflow as tf\n",
        "from tensorflow.keras.callbacks import ModelCheckpoint\n",
        "from keras.backend import clear_session\n",
        "from tensorflow.keras.losses import mean_absolute_percentage_error, huber,kld\n",
        "#import tensorflow_addons as tfa"
      ],
      "execution_count": 140,
      "outputs": []
    },
    {
      "cell_type": "code",
      "metadata": {
        "colab": {
          "base_uri": "https://localhost:8080/",
          "height": 231
        },
        "id": "4zf9W4xRXuDU",
        "outputId": "784a64df-21c0-4d94-ffdc-8e7989c504c6"
      },
      "source": [
        "dropout_1_rate=0.7\n",
        "inputs=Input(shape=(input_size,1))\n",
        "lstm1=LSTM(input_size)(inputs)\n",
        "layer2=Dense(180,activation=\"linear\")(lstm1)\n",
        "dropout1=Dropout(rate=dropout_1_rate)(layer2)\n",
        "result=Dense(output_size)(dropout1)\n",
        "\n",
        "model = Model(inputs=inputs, outputs=result)\n",
        "model.compile(optimizer=Adamax(learning_rate=learning_rate), loss=\"mse\")\n",
        "model.summary()"
      ],
      "execution_count": 141,
      "outputs": [
        {
          "output_type": "error",
          "ename": "NameError",
          "evalue": "ignored",
          "traceback": [
            "\u001b[0;31m---------------------------------------------------------------------------\u001b[0m",
            "\u001b[0;31mNameError\u001b[0m                                 Traceback (most recent call last)",
            "\u001b[0;32m<ipython-input-141-293207d87e05>\u001b[0m in \u001b[0;36m<module>\u001b[0;34m()\u001b[0m\n\u001b[1;32m      1\u001b[0m \u001b[0mdropout_1_rate\u001b[0m\u001b[0;34m=\u001b[0m\u001b[0;36m0.7\u001b[0m\u001b[0;34m\u001b[0m\u001b[0;34m\u001b[0m\u001b[0m\n\u001b[0;32m----> 2\u001b[0;31m \u001b[0minputs\u001b[0m\u001b[0;34m=\u001b[0m\u001b[0mInput\u001b[0m\u001b[0;34m(\u001b[0m\u001b[0mshape\u001b[0m\u001b[0;34m=\u001b[0m\u001b[0;34m(\u001b[0m\u001b[0minput_size\u001b[0m\u001b[0;34m,\u001b[0m\u001b[0;36m1\u001b[0m\u001b[0;34m)\u001b[0m\u001b[0;34m)\u001b[0m\u001b[0;34m\u001b[0m\u001b[0;34m\u001b[0m\u001b[0m\n\u001b[0m\u001b[1;32m      3\u001b[0m \u001b[0mlstm1\u001b[0m\u001b[0;34m=\u001b[0m\u001b[0mLSTM\u001b[0m\u001b[0;34m(\u001b[0m\u001b[0minput_size\u001b[0m\u001b[0;34m)\u001b[0m\u001b[0;34m(\u001b[0m\u001b[0minputs\u001b[0m\u001b[0;34m)\u001b[0m\u001b[0;34m\u001b[0m\u001b[0;34m\u001b[0m\u001b[0m\n\u001b[1;32m      4\u001b[0m \u001b[0mlayer2\u001b[0m\u001b[0;34m=\u001b[0m\u001b[0mDense\u001b[0m\u001b[0;34m(\u001b[0m\u001b[0;36m180\u001b[0m\u001b[0;34m,\u001b[0m\u001b[0mactivation\u001b[0m\u001b[0;34m=\u001b[0m\u001b[0;34m\"linear\"\u001b[0m\u001b[0;34m)\u001b[0m\u001b[0;34m(\u001b[0m\u001b[0mlstm1\u001b[0m\u001b[0;34m)\u001b[0m\u001b[0;34m\u001b[0m\u001b[0;34m\u001b[0m\u001b[0m\n\u001b[1;32m      5\u001b[0m \u001b[0mdropout1\u001b[0m\u001b[0;34m=\u001b[0m\u001b[0mDropout\u001b[0m\u001b[0;34m(\u001b[0m\u001b[0mrate\u001b[0m\u001b[0;34m=\u001b[0m\u001b[0mdropout_1_rate\u001b[0m\u001b[0;34m)\u001b[0m\u001b[0;34m(\u001b[0m\u001b[0mlayer2\u001b[0m\u001b[0;34m)\u001b[0m\u001b[0;34m\u001b[0m\u001b[0;34m\u001b[0m\u001b[0m\n",
            "\u001b[0;31mNameError\u001b[0m: name 'input_size' is not defined"
          ]
        }
      ]
    }
  ]
}